{
 "cells": [
  {
   "cell_type": "code",
   "execution_count": 1,
   "metadata": {
    "collapsed": true,
    "ExecuteTime": {
     "end_time": "2024-05-12T16:43:59.678561200Z",
     "start_time": "2024-05-12T16:43:56.185337900Z"
    }
   },
   "outputs": [],
   "source": [
    "from cashe import get_train_test_split\n",
    "from src.model_train import ModelTrainer, encode_label\n",
    "from src.data_application import train_columns\n",
    "import pandas as pd"
   ]
  },
  {
   "cell_type": "code",
   "execution_count": 29,
   "outputs": [],
   "source": [
    "from sklearn.tree import DecisionTreeClassifier\n",
    "from lightgbm import LGBMClassifier\n",
    "from sklearn.neural_network import MLPClassifier\n",
    "from sklearn.linear_model import SGDClassifier\n",
    "from sklearn.metrics import accuracy_score, precision_score, recall_score\n",
    "import numpy as np\n",
    "import xgboost as xgb\n",
    "import matplotlib.pyplot as plt\n",
    "import seaborn as sns\n",
    "from sklearn.metrics import confusion_matrix, accuracy_score, precision_score, recall_score\n",
    "\n",
    "def round_two(val):\n",
    "    return round(val,2)\n",
    "\n",
    "def encode_label(labels:list):\n",
    "    out = []\n",
    "    for i in range(len(labels)):\n",
    "        if labels[i] == 'approved':\n",
    "            out.append(1)\n",
    "        else:\n",
    "            out.append(0)\n",
    "    return out\n",
    "\n",
    "class ModelTrainer:\n",
    "    def __init__(self, X_train, y_train, X_test, y_test):\n",
    "        self.X_train = X_train\n",
    "        self.y_train = y_train\n",
    "        self.X_test = X_test\n",
    "        self.y_test = y_test\n",
    "\n",
    "    def _train_sgd_classifier(self):\n",
    "        self.sgd_model = SGDClassifier()\n",
    "        self.sgd_model.fit(self.X_train, self.y_train)\n",
    "    def _train_decision_tree(self):\n",
    "        self.dt_model = DecisionTreeClassifier()\n",
    "        self.dt_model.fit(self.X_train, self.y_train)\n",
    "\n",
    "    def _train_neural_network(self):\n",
    "        self.nn_model = MLPClassifier()\n",
    "        self.nn_model.fit(self.X_train, self.y_train)\n",
    "\n",
    "    def _train_lightgbm(self):\n",
    "        self.lgbm_model = LGBMClassifier()\n",
    "        self.lgbm_model.fit(self.X_train, self.y_train)\n",
    "\n",
    "    def _train_xgboost_classifier(self):\n",
    "        self.xgb_model = xgb.XGBClassifier()\n",
    "        self.xgb_model.fit(self.X_train, self.y_train)\n",
    "\n",
    "    def _get_prediction_metrics(self,model):\n",
    "        y_pred = model.predict(self.X_test)\n",
    "        mod_accuracy = accuracy_score(self.y_test, y_pred)\n",
    "        mod_precision = precision_score(self.y_test, y_pred)\n",
    "        mod_recall = recall_score(self.y_test, y_pred)\n",
    "\n",
    "        dict_metrics = {\n",
    "            \"Accuracy\": round_two(mod_accuracy),\n",
    "            \"Precision\": round_two(mod_precision),\n",
    "            \"Recall\": round_two(mod_recall)}\n",
    "\n",
    "        return dict_metrics\n",
    "\n",
    "    def train_models(self):\n",
    "        self._train_lightgbm()\n",
    "        self._train_decision_tree()\n",
    "        self._train_neural_network()\n",
    "        self._train_sgd_classifier()\n",
    "        self._train_xgboost_classifier()\n",
    "\n",
    "        print('\\n\\nLightGBM, Decision Tree, SGD and Neural Network are trained on dataset.')\n",
    "\n",
    "    def evaluate_models(self):\n",
    "        dt_dict   = self._get_prediction_metrics(self.dt_model)\n",
    "        lgbm_dict = self._get_prediction_metrics(self.lgbm_model)\n",
    "        nn_dict   = self._get_prediction_metrics(self.nn_model)\n",
    "        sgd_dict  = self._get_prediction_metrics(self.sgd_model)\n",
    "        xgb_dict  = self._get_prediction_metrics(self.xgb_model)\n",
    "\n",
    "        return {\n",
    "            \"Decision Tree\" : dt_dict,\n",
    "            \"LightGBM\" : lgbm_dict,\n",
    "            \"SGD Classifier\" : sgd_dict,\n",
    "            \"XGBoost\" : xgb_dict,\n",
    "            \"Neural Network\" : nn_dict\n",
    "        }\n",
    "\n",
    "    def get_decision_tree_feature_importance(self):\n",
    "        return self.dt_model.feature_importances_\n",
    "\n",
    "    def _get_lightgbm_feature_importance_sub(self):\n",
    "        return self.lgbm_model.feature_importances_\n",
    "\n",
    "    def _normalize_feature_importance(self, importance_values):\n",
    "        total_importance = np.sum(importance_values)\n",
    "        normalized_importance = importance_values / total_importance\n",
    "        return normalized_importance\n",
    "\n",
    "    def get_lightgbm_feature_importance(self):\n",
    "        lgbm_feature_importance = self._get_lightgbm_feature_importance_sub()\n",
    "        normalized_importance = self._normalize_feature_importance(lgbm_feature_importance)\n",
    "        return normalized_importance\n",
    "\n",
    "    def get_neural_network_feature_importance(self):\n",
    "\n",
    "        coefficients = self.nn_model.coefs_[0]\n",
    "        absolute_weights = np.abs(coefficients)\n",
    "\n",
    "        total_absolute_weight = np.sum(absolute_weights)\n",
    "        normalized_importance = absolute_weights / total_absolute_weight * 100\n",
    "        return normalized_importance\n",
    "\n",
    "    def get_sgd_classifier_feature_importance(self):\n",
    "        coefficients = self.sgd_model.coef_\n",
    "        absolute_weights = np.abs(coefficients)\n",
    "\n",
    "        total_absolute_weight = np.sum(absolute_weights)\n",
    "        normalized_importance = absolute_weights / total_absolute_weight *100\n",
    "\n",
    "        return normalized_importance\n",
    "\n",
    "    def get_xgboost_feature_importance(self):\n",
    "        return self.xgb_model.feature_importances_\n",
    "\n",
    "    def get_feature_importance(self):\n",
    "        dt_feats = self.get_decision_tree_feature_importance()\n",
    "        lgbm_feats = self.get_lightgbm_feature_importance()\n",
    "        dnn_feats = self.get_neural_network_feature_importance()\n",
    "        sgd_feats = self.get_sgd_classifier_feature_importance()\n",
    "        xgb_feats = self.get_xgboost_feature_importance()\n",
    "\n",
    "        return dt_feats, lgbm_feats, dnn_feats,sgd_feats, xgb_feats"
   ],
   "metadata": {
    "collapsed": false,
    "ExecuteTime": {
     "end_time": "2024-05-13T07:33:21.700005600Z",
     "start_time": "2024-05-13T07:33:21.668750200Z"
    }
   }
  },
  {
   "cell_type": "code",
   "execution_count": 30,
   "outputs": [],
   "source": [
    "df_train, df_test = get_train_test_split()"
   ],
   "metadata": {
    "collapsed": false,
    "ExecuteTime": {
     "end_time": "2024-05-13T07:33:25.512830Z",
     "start_time": "2024-05-13T07:33:21.887485400Z"
    }
   }
  },
  {
   "cell_type": "code",
   "execution_count": 32,
   "outputs": [
    {
     "data": {
      "text/plain": "  item_CreatedDate                 transaction_RequestId  \\\n0          2023-09  8b577a2f-5bae-4781-a591-1651916efd53   \n1          2023-10  12c269b4-fa50-4bdf-9715-67765daa8741   \n2          2024-02  645fa618-e1f3-42b5-a3ba-6e351e138b0a   \n\n   transaction_PatientAge  transaction_PatientEnGender  item_NameEn  \\\n0                      55                            0           74   \n1                      27                            0           79   \n2                      33                            0           45   \n\n   item_Price  item_Status  item_Sequence  item_RequestQuantity  \\\n0       90.00            6              1                   1.0   \n1      242.00            2              4                   1.0   \n2      151.67            2              2                   1.0   \n\n   item_ResponseQuantity  transaction_DiagnosisIds transaction_PhysicianIds  \\\n0                    0.0                         9                 ,299,299   \n1                    1.0                         1             ,196,196,196   \n2                    1.0                         9                     ,340   \n\n  item_ResponseState  \n0           rejected  \n1           approved  \n2           approved  ",
      "text/html": "<div>\n<style scoped>\n    .dataframe tbody tr th:only-of-type {\n        vertical-align: middle;\n    }\n\n    .dataframe tbody tr th {\n        vertical-align: top;\n    }\n\n    .dataframe thead th {\n        text-align: right;\n    }\n</style>\n<table border=\"1\" class=\"dataframe\">\n  <thead>\n    <tr style=\"text-align: right;\">\n      <th></th>\n      <th>item_CreatedDate</th>\n      <th>transaction_RequestId</th>\n      <th>transaction_PatientAge</th>\n      <th>transaction_PatientEnGender</th>\n      <th>item_NameEn</th>\n      <th>item_Price</th>\n      <th>item_Status</th>\n      <th>item_Sequence</th>\n      <th>item_RequestQuantity</th>\n      <th>item_ResponseQuantity</th>\n      <th>transaction_DiagnosisIds</th>\n      <th>transaction_PhysicianIds</th>\n      <th>item_ResponseState</th>\n    </tr>\n  </thead>\n  <tbody>\n    <tr>\n      <th>0</th>\n      <td>2023-09</td>\n      <td>8b577a2f-5bae-4781-a591-1651916efd53</td>\n      <td>55</td>\n      <td>0</td>\n      <td>74</td>\n      <td>90.00</td>\n      <td>6</td>\n      <td>1</td>\n      <td>1.0</td>\n      <td>0.0</td>\n      <td>9</td>\n      <td>,299,299</td>\n      <td>rejected</td>\n    </tr>\n    <tr>\n      <th>1</th>\n      <td>2023-10</td>\n      <td>12c269b4-fa50-4bdf-9715-67765daa8741</td>\n      <td>27</td>\n      <td>0</td>\n      <td>79</td>\n      <td>242.00</td>\n      <td>2</td>\n      <td>4</td>\n      <td>1.0</td>\n      <td>1.0</td>\n      <td>1</td>\n      <td>,196,196,196</td>\n      <td>approved</td>\n    </tr>\n    <tr>\n      <th>2</th>\n      <td>2024-02</td>\n      <td>645fa618-e1f3-42b5-a3ba-6e351e138b0a</td>\n      <td>33</td>\n      <td>0</td>\n      <td>45</td>\n      <td>151.67</td>\n      <td>2</td>\n      <td>2</td>\n      <td>1.0</td>\n      <td>1.0</td>\n      <td>9</td>\n      <td>,340</td>\n      <td>approved</td>\n    </tr>\n  </tbody>\n</table>\n</div>"
     },
     "execution_count": 32,
     "metadata": {},
     "output_type": "execute_result"
    }
   ],
   "source": [
    "df_train.head(3)"
   ],
   "metadata": {
    "collapsed": false,
    "ExecuteTime": {
     "end_time": "2024-05-13T07:38:18.855875900Z",
     "start_time": "2024-05-13T07:38:18.824464100Z"
    }
   }
  },
  {
   "cell_type": "code",
   "execution_count": 33,
   "outputs": [],
   "source": [
    "X_train = df_train[train_columns[:-1]];  y_train = df_train[train_columns[-1]]\n",
    "X_test = df_test[train_columns[:-1]];  y_test = df_test[train_columns[-1]]"
   ],
   "metadata": {
    "collapsed": false,
    "ExecuteTime": {
     "end_time": "2024-05-13T07:38:19.262035Z",
     "start_time": "2024-05-13T07:38:19.246404700Z"
    }
   }
  },
  {
   "cell_type": "code",
   "execution_count": 35,
   "outputs": [
    {
     "data": {
      "text/plain": "1"
     },
     "execution_count": 35,
     "metadata": {},
     "output_type": "execute_result"
    }
   ],
   "source": [
    "y_test = encode_label(y_test)\n",
    "y_train = encode_label(y_train)\n",
    "y_test[0]"
   ],
   "metadata": {
    "collapsed": false,
    "ExecuteTime": {
     "end_time": "2024-05-13T07:38:20.402949100Z",
     "start_time": "2024-05-13T07:38:20.324580400Z"
    }
   }
  },
  {
   "cell_type": "code",
   "execution_count": 36,
   "outputs": [],
   "source": [
    "model_runner = ModelTrainer(X_train=X_train,y_train=y_train,X_test=X_test,y_test=y_test)"
   ],
   "metadata": {
    "collapsed": false,
    "ExecuteTime": {
     "end_time": "2024-05-13T07:38:21.433790900Z",
     "start_time": "2024-05-13T07:38:21.387035900Z"
    }
   }
  },
  {
   "cell_type": "code",
   "execution_count": 37,
   "outputs": [
    {
     "name": "stdout",
     "output_type": "stream",
     "text": [
      "[LightGBM] [Info] Number of positive: 7416, number of negative: 7560\n",
      "[LightGBM] [Info] Auto-choosing row-wise multi-threading, the overhead of testing was 0.000114 seconds.\n",
      "You can set `force_row_wise=true` to remove the overhead.\n",
      "And if memory is not enough, you can set `force_col_wise=true`.\n",
      "[LightGBM] [Info] Total Bins 579\n",
      "[LightGBM] [Info] Number of data points in the train set: 14976, number of used features: 7\n",
      "[LightGBM] [Info] [binary:BoostFromScore]: pavg=0.495192 -> initscore=-0.019231\n",
      "[LightGBM] [Info] Start training from score -0.019231\n",
      "\n",
      "\n",
      "LightGBM, Decision Tree, SGD and Neural Network are trained on dataset.\n"
     ]
    }
   ],
   "source": [
    "model_runner.train_models()"
   ],
   "metadata": {
    "collapsed": false,
    "ExecuteTime": {
     "end_time": "2024-05-13T07:38:25.886852200Z",
     "start_time": "2024-05-13T07:38:22.277622300Z"
    }
   }
  },
  {
   "cell_type": "code",
   "execution_count": 38,
   "outputs": [
    {
     "data": {
      "text/plain": "{'Decision Tree': {'Accuracy': 0.7, 'Precision': 0.72, 'Recall': 0.66},\n 'LightGBM': {'Accuracy': 0.75, 'Precision': 0.75, 'Recall': 0.76},\n 'SGD Classifier': {'Accuracy': 0.51, 'Precision': 0.62, 'Recall': 0.03},\n 'XGBoost': {'Accuracy': 0.76, 'Precision': 0.75, 'Recall': 0.77},\n 'Neural Network': {'Accuracy': 0.64, 'Precision': 0.65, 'Recall': 0.6}}"
     },
     "execution_count": 38,
     "metadata": {},
     "output_type": "execute_result"
    }
   ],
   "source": [
    "res = model_runner.evaluate_models()\n",
    "res"
   ],
   "metadata": {
    "collapsed": false,
    "ExecuteTime": {
     "end_time": "2024-05-13T07:38:57.715180500Z",
     "start_time": "2024-05-13T07:38:57.637136Z"
    }
   }
  },
  {
   "cell_type": "code",
   "execution_count": 39,
   "outputs": [
    {
     "data": {
      "text/plain": "transaction_PatientAge         0.280368\nitem_Price                     0.224865\nitem_NameEn                    0.200458\nitem_Sequence                  0.151283\ntransaction_DiagnosisIds       0.094136\ntransaction_PatientEnGender    0.042211\nitem_RequestQuantity           0.006679\nName: 0, dtype: float64"
     },
     "execution_count": 39,
     "metadata": {},
     "output_type": "execute_result"
    }
   ],
   "source": [
    "dt_tran = model_runner.get_decision_tree_feature_importance()\n",
    "dt_feats = pd.DataFrame(list(dt_tran),train_columns[:-1])\n",
    "\n",
    "dt_feats[0].sort_values(ascending=False)"
   ],
   "metadata": {
    "collapsed": false,
    "ExecuteTime": {
     "end_time": "2024-05-13T07:39:03.496609900Z",
     "start_time": "2024-05-13T07:39:03.453687600Z"
    }
   }
  },
  {
   "cell_type": "code",
   "execution_count": 40,
   "outputs": [
    {
     "data": {
      "text/plain": "item_Price                     0.304000\nitem_NameEn                    0.255000\ntransaction_PatientAge         0.198000\ntransaction_DiagnosisIds       0.105667\nitem_Sequence                  0.099333\ntransaction_PatientEnGender    0.024333\nitem_RequestQuantity           0.013667\nName: 0, dtype: float64"
     },
     "execution_count": 40,
     "metadata": {},
     "output_type": "execute_result"
    }
   ],
   "source": [
    "gbm_tran = model_runner.get_lightgbm_feature_importance()\n",
    "gbm_feats = pd.DataFrame(list(gbm_tran),train_columns[:-1])\n",
    "\n",
    "gbm_feats[0].sort_values(ascending=False)"
   ],
   "metadata": {
    "collapsed": false,
    "ExecuteTime": {
     "end_time": "2024-05-13T07:39:03.938428700Z",
     "start_time": "2024-05-13T07:39:03.918343400Z"
    }
   }
  },
  {
   "cell_type": "code",
   "execution_count": 41,
   "outputs": [
    {
     "data": {
      "text/plain": "transaction_PatientEnGender    0.193461\nitem_RequestQuantity           0.162856\ntransaction_DiagnosisIds       0.159356\nitem_Sequence                  0.151382\nitem_Price                     0.099707\nitem_NameEn                    0.083131\ntransaction_PatientAge         0.082109\nName: 0, dtype: float64"
     },
     "execution_count": 41,
     "metadata": {},
     "output_type": "execute_result"
    }
   ],
   "source": [
    "nn_tran = model_runner.get_neural_network_feature_importance()\n",
    "nn_feats = pd.DataFrame(list(nn_tran),train_columns[:-1])\n",
    "\n",
    "nn_feats[0].sort_values(ascending=False)"
   ],
   "metadata": {
    "collapsed": false,
    "ExecuteTime": {
     "end_time": "2024-05-13T07:39:04.277494900Z",
     "start_time": "2024-05-13T07:39:04.199288900Z"
    }
   }
  },
  {
   "cell_type": "code",
   "execution_count": null,
   "outputs": [],
   "source": [],
   "metadata": {
    "collapsed": false
   }
  }
 ],
 "metadata": {
  "kernelspec": {
   "display_name": "Python 3",
   "language": "python",
   "name": "python3"
  },
  "language_info": {
   "codemirror_mode": {
    "name": "ipython",
    "version": 2
   },
   "file_extension": ".py",
   "mimetype": "text/x-python",
   "name": "python",
   "nbconvert_exporter": "python",
   "pygments_lexer": "ipython2",
   "version": "2.7.6"
  }
 },
 "nbformat": 4,
 "nbformat_minor": 0
}
