{
 "cells": [
  {
   "cell_type": "code",
   "execution_count": 1,
   "metadata": {
    "collapsed": true,
    "ExecuteTime": {
     "end_time": "2024-05-19T11:30:21.311530300Z",
     "start_time": "2024-05-19T11:30:13.936060Z"
    }
   },
   "outputs": [],
   "source": [
    "from cashe import get_train_test_split, get_input, get_training_inputs\n",
    "from src.model_train import ModelTrainer, encode_label\n",
    "from src.data_application import train_columns\n",
    "from src.lstm_encoder import LSTMEmbedding\n",
    "from src.data_local import MergedDataPreprocessing\n",
    "import pandas as pd"
   ]
  },
  {
   "cell_type": "code",
   "execution_count": 2,
   "outputs": [],
   "source": [
    "df_train, df_test = get_train_test_split()"
   ],
   "metadata": {
    "collapsed": false,
    "ExecuteTime": {
     "end_time": "2024-05-19T10:55:19.434269200Z",
     "start_time": "2024-05-19T10:55:14.103186Z"
    }
   }
  },
  {
   "cell_type": "code",
   "execution_count": 3,
   "outputs": [
    {
     "data": {
      "text/plain": "         item_CreatedDate                 transaction_RequestId  \\\n0 2023-08-24 15:03:23.404  c4427a02-3291-422d-b2e8-b97bf3d5081d   \n1 2023-08-29 11:48:54.060  e6f4ad37-13b9-4694-a61b-495384fcd245   \n2 2023-08-29 11:48:54.060  e6f4ad37-13b9-4694-a61b-495384fcd245   \n\n   transaction_PatientAge  transaction_PatientEnGender  \\\n0                       6                            1   \n1                      28                            0   \n2                      28                            0   \n\n              item_NameEn  item_Price  item_Status  item_Sequence  \\\n0             Examination       80.00            2              1   \n1             Examination       80.00            6              1   \n2  PREGNANCY TEST (BLOOD)      175.45            6              2   \n\n   item_RequestQuantity  item_ResponseQuantity  transaction_DiagnosisIds  \\\n0                   1.0                    1.0                         7   \n1                   1.0                    0.0                        17   \n2                   1.0                    0.0                        17   \n\n  transaction_PhysicianIds item_ResponseState  \n0                     ,327           approved  \n1                     ,139           rejected  \n2                     ,139           rejected  ",
      "text/html": "<div>\n<style scoped>\n    .dataframe tbody tr th:only-of-type {\n        vertical-align: middle;\n    }\n\n    .dataframe tbody tr th {\n        vertical-align: top;\n    }\n\n    .dataframe thead th {\n        text-align: right;\n    }\n</style>\n<table border=\"1\" class=\"dataframe\">\n  <thead>\n    <tr style=\"text-align: right;\">\n      <th></th>\n      <th>item_CreatedDate</th>\n      <th>transaction_RequestId</th>\n      <th>transaction_PatientAge</th>\n      <th>transaction_PatientEnGender</th>\n      <th>item_NameEn</th>\n      <th>item_Price</th>\n      <th>item_Status</th>\n      <th>item_Sequence</th>\n      <th>item_RequestQuantity</th>\n      <th>item_ResponseQuantity</th>\n      <th>transaction_DiagnosisIds</th>\n      <th>transaction_PhysicianIds</th>\n      <th>item_ResponseState</th>\n    </tr>\n  </thead>\n  <tbody>\n    <tr>\n      <th>0</th>\n      <td>2023-08-24 15:03:23.404</td>\n      <td>c4427a02-3291-422d-b2e8-b97bf3d5081d</td>\n      <td>6</td>\n      <td>1</td>\n      <td>Examination</td>\n      <td>80.00</td>\n      <td>2</td>\n      <td>1</td>\n      <td>1.0</td>\n      <td>1.0</td>\n      <td>7</td>\n      <td>,327</td>\n      <td>approved</td>\n    </tr>\n    <tr>\n      <th>1</th>\n      <td>2023-08-29 11:48:54.060</td>\n      <td>e6f4ad37-13b9-4694-a61b-495384fcd245</td>\n      <td>28</td>\n      <td>0</td>\n      <td>Examination</td>\n      <td>80.00</td>\n      <td>6</td>\n      <td>1</td>\n      <td>1.0</td>\n      <td>0.0</td>\n      <td>17</td>\n      <td>,139</td>\n      <td>rejected</td>\n    </tr>\n    <tr>\n      <th>2</th>\n      <td>2023-08-29 11:48:54.060</td>\n      <td>e6f4ad37-13b9-4694-a61b-495384fcd245</td>\n      <td>28</td>\n      <td>0</td>\n      <td>PREGNANCY TEST (BLOOD)</td>\n      <td>175.45</td>\n      <td>6</td>\n      <td>2</td>\n      <td>1.0</td>\n      <td>0.0</td>\n      <td>17</td>\n      <td>,139</td>\n      <td>rejected</td>\n    </tr>\n  </tbody>\n</table>\n</div>"
     },
     "execution_count": 3,
     "metadata": {},
     "output_type": "execute_result"
    }
   ],
   "source": [
    "df_train.head(3)"
   ],
   "metadata": {
    "collapsed": false,
    "ExecuteTime": {
     "end_time": "2024-05-19T10:55:19.479397400Z",
     "start_time": "2024-05-19T10:55:19.435265700Z"
    }
   }
  },
  {
   "cell_type": "code",
   "execution_count": 4,
   "outputs": [],
   "source": [
    "X_train, y_train, X_test, y_test = get_training_inputs(df_train, df_test)"
   ],
   "metadata": {
    "collapsed": false,
    "ExecuteTime": {
     "end_time": "2024-05-19T08:46:53.828041800Z",
     "start_time": "2024-05-19T08:46:53.652629600Z"
    }
   }
  },
  {
   "cell_type": "code",
   "execution_count": 5,
   "outputs": [
    {
     "data": {
      "text/plain": "   transaction_PatientAge  transaction_PatientEnGender  \\\n0                       6                            1   \n1                      28                            0   \n2                      28                            0   \n\n              item_NameEn  item_Price  item_Sequence  item_RequestQuantity  \\\n0             Examination       80.00              1                   1.0   \n1             Examination       80.00              1                   1.0   \n2  PREGNANCY TEST (BLOOD)      175.45              2                   1.0   \n\n   transaction_DiagnosisIds  \n0                         7  \n1                        17  \n2                        17  ",
      "text/html": "<div>\n<style scoped>\n    .dataframe tbody tr th:only-of-type {\n        vertical-align: middle;\n    }\n\n    .dataframe tbody tr th {\n        vertical-align: top;\n    }\n\n    .dataframe thead th {\n        text-align: right;\n    }\n</style>\n<table border=\"1\" class=\"dataframe\">\n  <thead>\n    <tr style=\"text-align: right;\">\n      <th></th>\n      <th>transaction_PatientAge</th>\n      <th>transaction_PatientEnGender</th>\n      <th>item_NameEn</th>\n      <th>item_Price</th>\n      <th>item_Sequence</th>\n      <th>item_RequestQuantity</th>\n      <th>transaction_DiagnosisIds</th>\n    </tr>\n  </thead>\n  <tbody>\n    <tr>\n      <th>0</th>\n      <td>6</td>\n      <td>1</td>\n      <td>Examination</td>\n      <td>80.00</td>\n      <td>1</td>\n      <td>1.0</td>\n      <td>7</td>\n    </tr>\n    <tr>\n      <th>1</th>\n      <td>28</td>\n      <td>0</td>\n      <td>Examination</td>\n      <td>80.00</td>\n      <td>1</td>\n      <td>1.0</td>\n      <td>17</td>\n    </tr>\n    <tr>\n      <th>2</th>\n      <td>28</td>\n      <td>0</td>\n      <td>PREGNANCY TEST (BLOOD)</td>\n      <td>175.45</td>\n      <td>2</td>\n      <td>1.0</td>\n      <td>17</td>\n    </tr>\n  </tbody>\n</table>\n</div>"
     },
     "execution_count": 5,
     "metadata": {},
     "output_type": "execute_result"
    }
   ],
   "source": [
    "X_train.head(3)"
   ],
   "metadata": {
    "collapsed": false,
    "ExecuteTime": {
     "end_time": "2024-05-19T08:46:53.829039700Z",
     "start_time": "2024-05-19T08:46:53.760672600Z"
    }
   }
  },
  {
   "cell_type": "code",
   "execution_count": 6,
   "outputs": [
    {
     "data": {
      "text/plain": "[0, 1, 0, 0, 0]"
     },
     "execution_count": 6,
     "metadata": {},
     "output_type": "execute_result"
    }
   ],
   "source": [
    "y_test[:5]"
   ],
   "metadata": {
    "collapsed": false,
    "ExecuteTime": {
     "end_time": "2024-05-19T08:46:54.099174800Z",
     "start_time": "2024-05-19T08:46:53.775799900Z"
    }
   }
  },
  {
   "cell_type": "code",
   "execution_count": 7,
   "outputs": [],
   "source": [
    "lstm_embedding = LSTMEmbedding()\n",
    "data_prep = MergedDataPreprocessing(df_train)\n",
    "\n",
    "X_train = data_prep.column_embedding(X_train,textual_col='item_NameEn')\n",
    "X_test  = data_prep.column_embedding(X_test,textual_col='item_NameEn')"
   ],
   "metadata": {
    "collapsed": false,
    "ExecuteTime": {
     "end_time": "2024-05-19T08:46:55.234644500Z",
     "start_time": "2024-05-19T08:46:54.039906500Z"
    }
   }
  },
  {
   "cell_type": "code",
   "execution_count": 9,
   "outputs": [
    {
     "data": {
      "text/plain": "       transaction_PatientAge  transaction_PatientEnGender  \\\n0                           6                            1   \n1                          28                            0   \n2                          28                            0   \n3                          56                            0   \n4                          56                            0   \n...                       ...                          ...   \n14993                      29                            1   \n14994                       0                            1   \n14995                       0                            1   \n14996                       0                            1   \n14997                       0                            1   \n\n                               item_NameEn  item_Price  item_Sequence  \\\n0                              Examination       80.00              1   \n1                              Examination       80.00              1   \n2                   PREGNANCY TEST (BLOOD)      175.45              2   \n3                              Examination       80.00              1   \n4                                PERFALGAN      110.00              2   \n...                                    ...         ...            ...   \n14993            REPARIL  20 MG 40 DRAGEES       17.92             11   \n14994  IRON BINDING CAPACITY, TOTAL (TIBC)      220.00              1   \n14995                  IRON, TOTAL (SERUM)      108.33              2   \n14996                             FERRITIN      211.25              3   \n14997          HAEMOGLOBIN ELECTROPHORESIS      255.00              4   \n\n       item_RequestQuantity  transaction_DiagnosisIds  item_NameEn1  \\\n0                       1.0                         7             1   \n1                       1.0                        17             1   \n2                       1.0                        17           182   \n3                       1.0                        14             1   \n4                       1.0                        14           216   \n...                     ...                       ...           ...   \n14993                   1.0                        14           448   \n14994                   1.0                         1           198   \n14995                   1.0                         1           198   \n14996                   1.0                         1           254   \n14997                   1.0                         1           149   \n\n       item_NameEn2  item_NameEn3  ...  item_NameEn7  item_NameEn8  \\\n0                 0             0  ...             0             0   \n1                 0             0  ...             0             0   \n2                83             8  ...             0             0   \n3                 0             0  ...             0             0   \n4                 0             0  ...             0             0   \n...             ...           ...  ...           ...           ...   \n14993            71             6  ...             0             0   \n14994           329           330  ...             0             0   \n14995           107            57  ...             0             0   \n14996             0             0  ...             0             0   \n14997           496             0  ...             0             0   \n\n       item_NameEn9  item_NameEn10  item_NameEn11  item_NameEn12  \\\n0                 0              0              0              0   \n1                 0              0              0              0   \n2                 0              0              0              0   \n3                 0              0              0              0   \n4                 0              0              0              0   \n...             ...            ...            ...            ...   \n14993             0              0              0              0   \n14994             0              0              0              0   \n14995             0              0              0              0   \n14996             0              0              0              0   \n14997             0              0              0              0   \n\n       item_NameEn13  item_NameEn14  item_NameEn15  item_NameEn16  \n0                  0              0              0              0  \n1                  0              0              0              0  \n2                  0              0              0              0  \n3                  0              0              0              0  \n4                  0              0              0              0  \n...              ...            ...            ...            ...  \n14993              0              0              0              0  \n14994              0              0              0              0  \n14995              0              0              0              0  \n14996              0              0              0              0  \n14997              0              0              0              0  \n\n[14998 rows x 23 columns]",
      "text/html": "<div>\n<style scoped>\n    .dataframe tbody tr th:only-of-type {\n        vertical-align: middle;\n    }\n\n    .dataframe tbody tr th {\n        vertical-align: top;\n    }\n\n    .dataframe thead th {\n        text-align: right;\n    }\n</style>\n<table border=\"1\" class=\"dataframe\">\n  <thead>\n    <tr style=\"text-align: right;\">\n      <th></th>\n      <th>transaction_PatientAge</th>\n      <th>transaction_PatientEnGender</th>\n      <th>item_NameEn</th>\n      <th>item_Price</th>\n      <th>item_Sequence</th>\n      <th>item_RequestQuantity</th>\n      <th>transaction_DiagnosisIds</th>\n      <th>item_NameEn1</th>\n      <th>item_NameEn2</th>\n      <th>item_NameEn3</th>\n      <th>...</th>\n      <th>item_NameEn7</th>\n      <th>item_NameEn8</th>\n      <th>item_NameEn9</th>\n      <th>item_NameEn10</th>\n      <th>item_NameEn11</th>\n      <th>item_NameEn12</th>\n      <th>item_NameEn13</th>\n      <th>item_NameEn14</th>\n      <th>item_NameEn15</th>\n      <th>item_NameEn16</th>\n    </tr>\n  </thead>\n  <tbody>\n    <tr>\n      <th>0</th>\n      <td>6</td>\n      <td>1</td>\n      <td>Examination</td>\n      <td>80.00</td>\n      <td>1</td>\n      <td>1.0</td>\n      <td>7</td>\n      <td>1</td>\n      <td>0</td>\n      <td>0</td>\n      <td>...</td>\n      <td>0</td>\n      <td>0</td>\n      <td>0</td>\n      <td>0</td>\n      <td>0</td>\n      <td>0</td>\n      <td>0</td>\n      <td>0</td>\n      <td>0</td>\n      <td>0</td>\n    </tr>\n    <tr>\n      <th>1</th>\n      <td>28</td>\n      <td>0</td>\n      <td>Examination</td>\n      <td>80.00</td>\n      <td>1</td>\n      <td>1.0</td>\n      <td>17</td>\n      <td>1</td>\n      <td>0</td>\n      <td>0</td>\n      <td>...</td>\n      <td>0</td>\n      <td>0</td>\n      <td>0</td>\n      <td>0</td>\n      <td>0</td>\n      <td>0</td>\n      <td>0</td>\n      <td>0</td>\n      <td>0</td>\n      <td>0</td>\n    </tr>\n    <tr>\n      <th>2</th>\n      <td>28</td>\n      <td>0</td>\n      <td>PREGNANCY TEST (BLOOD)</td>\n      <td>175.45</td>\n      <td>2</td>\n      <td>1.0</td>\n      <td>17</td>\n      <td>182</td>\n      <td>83</td>\n      <td>8</td>\n      <td>...</td>\n      <td>0</td>\n      <td>0</td>\n      <td>0</td>\n      <td>0</td>\n      <td>0</td>\n      <td>0</td>\n      <td>0</td>\n      <td>0</td>\n      <td>0</td>\n      <td>0</td>\n    </tr>\n    <tr>\n      <th>3</th>\n      <td>56</td>\n      <td>0</td>\n      <td>Examination</td>\n      <td>80.00</td>\n      <td>1</td>\n      <td>1.0</td>\n      <td>14</td>\n      <td>1</td>\n      <td>0</td>\n      <td>0</td>\n      <td>...</td>\n      <td>0</td>\n      <td>0</td>\n      <td>0</td>\n      <td>0</td>\n      <td>0</td>\n      <td>0</td>\n      <td>0</td>\n      <td>0</td>\n      <td>0</td>\n      <td>0</td>\n    </tr>\n    <tr>\n      <th>4</th>\n      <td>56</td>\n      <td>0</td>\n      <td>PERFALGAN</td>\n      <td>110.00</td>\n      <td>2</td>\n      <td>1.0</td>\n      <td>14</td>\n      <td>216</td>\n      <td>0</td>\n      <td>0</td>\n      <td>...</td>\n      <td>0</td>\n      <td>0</td>\n      <td>0</td>\n      <td>0</td>\n      <td>0</td>\n      <td>0</td>\n      <td>0</td>\n      <td>0</td>\n      <td>0</td>\n      <td>0</td>\n    </tr>\n    <tr>\n      <th>...</th>\n      <td>...</td>\n      <td>...</td>\n      <td>...</td>\n      <td>...</td>\n      <td>...</td>\n      <td>...</td>\n      <td>...</td>\n      <td>...</td>\n      <td>...</td>\n      <td>...</td>\n      <td>...</td>\n      <td>...</td>\n      <td>...</td>\n      <td>...</td>\n      <td>...</td>\n      <td>...</td>\n      <td>...</td>\n      <td>...</td>\n      <td>...</td>\n      <td>...</td>\n      <td>...</td>\n    </tr>\n    <tr>\n      <th>14993</th>\n      <td>29</td>\n      <td>1</td>\n      <td>REPARIL  20 MG 40 DRAGEES</td>\n      <td>17.92</td>\n      <td>11</td>\n      <td>1.0</td>\n      <td>14</td>\n      <td>448</td>\n      <td>71</td>\n      <td>6</td>\n      <td>...</td>\n      <td>0</td>\n      <td>0</td>\n      <td>0</td>\n      <td>0</td>\n      <td>0</td>\n      <td>0</td>\n      <td>0</td>\n      <td>0</td>\n      <td>0</td>\n      <td>0</td>\n    </tr>\n    <tr>\n      <th>14994</th>\n      <td>0</td>\n      <td>1</td>\n      <td>IRON BINDING CAPACITY, TOTAL (TIBC)</td>\n      <td>220.00</td>\n      <td>1</td>\n      <td>1.0</td>\n      <td>1</td>\n      <td>198</td>\n      <td>329</td>\n      <td>330</td>\n      <td>...</td>\n      <td>0</td>\n      <td>0</td>\n      <td>0</td>\n      <td>0</td>\n      <td>0</td>\n      <td>0</td>\n      <td>0</td>\n      <td>0</td>\n      <td>0</td>\n      <td>0</td>\n    </tr>\n    <tr>\n      <th>14995</th>\n      <td>0</td>\n      <td>1</td>\n      <td>IRON, TOTAL (SERUM)</td>\n      <td>108.33</td>\n      <td>2</td>\n      <td>1.0</td>\n      <td>1</td>\n      <td>198</td>\n      <td>107</td>\n      <td>57</td>\n      <td>...</td>\n      <td>0</td>\n      <td>0</td>\n      <td>0</td>\n      <td>0</td>\n      <td>0</td>\n      <td>0</td>\n      <td>0</td>\n      <td>0</td>\n      <td>0</td>\n      <td>0</td>\n    </tr>\n    <tr>\n      <th>14996</th>\n      <td>0</td>\n      <td>1</td>\n      <td>FERRITIN</td>\n      <td>211.25</td>\n      <td>3</td>\n      <td>1.0</td>\n      <td>1</td>\n      <td>254</td>\n      <td>0</td>\n      <td>0</td>\n      <td>...</td>\n      <td>0</td>\n      <td>0</td>\n      <td>0</td>\n      <td>0</td>\n      <td>0</td>\n      <td>0</td>\n      <td>0</td>\n      <td>0</td>\n      <td>0</td>\n      <td>0</td>\n    </tr>\n    <tr>\n      <th>14997</th>\n      <td>0</td>\n      <td>1</td>\n      <td>HAEMOGLOBIN ELECTROPHORESIS</td>\n      <td>255.00</td>\n      <td>4</td>\n      <td>1.0</td>\n      <td>1</td>\n      <td>149</td>\n      <td>496</td>\n      <td>0</td>\n      <td>...</td>\n      <td>0</td>\n      <td>0</td>\n      <td>0</td>\n      <td>0</td>\n      <td>0</td>\n      <td>0</td>\n      <td>0</td>\n      <td>0</td>\n      <td>0</td>\n      <td>0</td>\n    </tr>\n  </tbody>\n</table>\n<p>14998 rows × 23 columns</p>\n</div>"
     },
     "execution_count": 9,
     "metadata": {},
     "output_type": "execute_result"
    }
   ],
   "source": [
    "X_train"
   ],
   "metadata": {
    "collapsed": false,
    "ExecuteTime": {
     "end_time": "2024-05-19T08:46:57.618176Z",
     "start_time": "2024-05-19T08:46:57.593215200Z"
    }
   }
  },
  {
   "cell_type": "code",
   "execution_count": 10,
   "outputs": [],
   "source": [
    "columns_needed = ['transaction_PatientAge','transaction_PatientEnGender','item_Price','item_Sequence','item_RequestQuantity','transaction_DiagnosisIds','item_NameEn1','item_NameEn2','item_NameEn3','item_NameEn4','item_NameEn5','item_NameEn6','item_NameEn7','item_NameEn8','item_NameEn9', 'item_NameEn10','item_NameEn11', 'item_NameEn12', 'item_NameEn13', 'item_NameEn14','item_NameEn15', 'item_NameEn16']\n",
    "\n",
    "X_train = X_train[columns_needed]\n",
    "X_test  = X_test[columns_needed]"
   ],
   "metadata": {
    "collapsed": false,
    "ExecuteTime": {
     "end_time": "2024-05-19T08:47:07.093876700Z",
     "start_time": "2024-05-19T08:47:07.072806600Z"
    }
   }
  },
  {
   "cell_type": "code",
   "execution_count": 11,
   "outputs": [
    {
     "data": {
      "text/plain": "       transaction_PatientAge  transaction_PatientEnGender  item_Price  \\\n0                           6                            1       80.00   \n1                          28                            0       80.00   \n2                          28                            0      175.45   \n3                          56                            0       80.00   \n4                          56                            0      110.00   \n...                       ...                          ...         ...   \n14993                      29                            1       17.92   \n14994                       0                            1      220.00   \n14995                       0                            1      108.33   \n14996                       0                            1      211.25   \n14997                       0                            1      255.00   \n\n       item_Sequence  item_RequestQuantity  transaction_DiagnosisIds  \\\n0                  1                   1.0                         7   \n1                  1                   1.0                        17   \n2                  2                   1.0                        17   \n3                  1                   1.0                        14   \n4                  2                   1.0                        14   \n...              ...                   ...                       ...   \n14993             11                   1.0                        14   \n14994              1                   1.0                         1   \n14995              2                   1.0                         1   \n14996              3                   1.0                         1   \n14997              4                   1.0                         1   \n\n       item_NameEn1  item_NameEn2  item_NameEn3  item_NameEn4  ...  \\\n0                 1             0             0             0  ...   \n1                 1             0             0             0  ...   \n2               182            83             8             0  ...   \n3                 1             0             0             0  ...   \n4               216             0             0             0  ...   \n...             ...           ...           ...           ...  ...   \n14993           448            71             6           196  ...   \n14994           198           329           330           107  ...   \n14995           198           107            57             0  ...   \n14996           254             0             0             0  ...   \n14997           149           496             0             0  ...   \n\n       item_NameEn7  item_NameEn8  item_NameEn9  item_NameEn10  item_NameEn11  \\\n0                 0             0             0              0              0   \n1                 0             0             0              0              0   \n2                 0             0             0              0              0   \n3                 0             0             0              0              0   \n4                 0             0             0              0              0   \n...             ...           ...           ...            ...            ...   \n14993             0             0             0              0              0   \n14994             0             0             0              0              0   \n14995             0             0             0              0              0   \n14996             0             0             0              0              0   \n14997             0             0             0              0              0   \n\n       item_NameEn12  item_NameEn13  item_NameEn14  item_NameEn15  \\\n0                  0              0              0              0   \n1                  0              0              0              0   \n2                  0              0              0              0   \n3                  0              0              0              0   \n4                  0              0              0              0   \n...              ...            ...            ...            ...   \n14993              0              0              0              0   \n14994              0              0              0              0   \n14995              0              0              0              0   \n14996              0              0              0              0   \n14997              0              0              0              0   \n\n       item_NameEn16  \n0                  0  \n1                  0  \n2                  0  \n3                  0  \n4                  0  \n...              ...  \n14993              0  \n14994              0  \n14995              0  \n14996              0  \n14997              0  \n\n[14998 rows x 22 columns]",
      "text/html": "<div>\n<style scoped>\n    .dataframe tbody tr th:only-of-type {\n        vertical-align: middle;\n    }\n\n    .dataframe tbody tr th {\n        vertical-align: top;\n    }\n\n    .dataframe thead th {\n        text-align: right;\n    }\n</style>\n<table border=\"1\" class=\"dataframe\">\n  <thead>\n    <tr style=\"text-align: right;\">\n      <th></th>\n      <th>transaction_PatientAge</th>\n      <th>transaction_PatientEnGender</th>\n      <th>item_Price</th>\n      <th>item_Sequence</th>\n      <th>item_RequestQuantity</th>\n      <th>transaction_DiagnosisIds</th>\n      <th>item_NameEn1</th>\n      <th>item_NameEn2</th>\n      <th>item_NameEn3</th>\n      <th>item_NameEn4</th>\n      <th>...</th>\n      <th>item_NameEn7</th>\n      <th>item_NameEn8</th>\n      <th>item_NameEn9</th>\n      <th>item_NameEn10</th>\n      <th>item_NameEn11</th>\n      <th>item_NameEn12</th>\n      <th>item_NameEn13</th>\n      <th>item_NameEn14</th>\n      <th>item_NameEn15</th>\n      <th>item_NameEn16</th>\n    </tr>\n  </thead>\n  <tbody>\n    <tr>\n      <th>0</th>\n      <td>6</td>\n      <td>1</td>\n      <td>80.00</td>\n      <td>1</td>\n      <td>1.0</td>\n      <td>7</td>\n      <td>1</td>\n      <td>0</td>\n      <td>0</td>\n      <td>0</td>\n      <td>...</td>\n      <td>0</td>\n      <td>0</td>\n      <td>0</td>\n      <td>0</td>\n      <td>0</td>\n      <td>0</td>\n      <td>0</td>\n      <td>0</td>\n      <td>0</td>\n      <td>0</td>\n    </tr>\n    <tr>\n      <th>1</th>\n      <td>28</td>\n      <td>0</td>\n      <td>80.00</td>\n      <td>1</td>\n      <td>1.0</td>\n      <td>17</td>\n      <td>1</td>\n      <td>0</td>\n      <td>0</td>\n      <td>0</td>\n      <td>...</td>\n      <td>0</td>\n      <td>0</td>\n      <td>0</td>\n      <td>0</td>\n      <td>0</td>\n      <td>0</td>\n      <td>0</td>\n      <td>0</td>\n      <td>0</td>\n      <td>0</td>\n    </tr>\n    <tr>\n      <th>2</th>\n      <td>28</td>\n      <td>0</td>\n      <td>175.45</td>\n      <td>2</td>\n      <td>1.0</td>\n      <td>17</td>\n      <td>182</td>\n      <td>83</td>\n      <td>8</td>\n      <td>0</td>\n      <td>...</td>\n      <td>0</td>\n      <td>0</td>\n      <td>0</td>\n      <td>0</td>\n      <td>0</td>\n      <td>0</td>\n      <td>0</td>\n      <td>0</td>\n      <td>0</td>\n      <td>0</td>\n    </tr>\n    <tr>\n      <th>3</th>\n      <td>56</td>\n      <td>0</td>\n      <td>80.00</td>\n      <td>1</td>\n      <td>1.0</td>\n      <td>14</td>\n      <td>1</td>\n      <td>0</td>\n      <td>0</td>\n      <td>0</td>\n      <td>...</td>\n      <td>0</td>\n      <td>0</td>\n      <td>0</td>\n      <td>0</td>\n      <td>0</td>\n      <td>0</td>\n      <td>0</td>\n      <td>0</td>\n      <td>0</td>\n      <td>0</td>\n    </tr>\n    <tr>\n      <th>4</th>\n      <td>56</td>\n      <td>0</td>\n      <td>110.00</td>\n      <td>2</td>\n      <td>1.0</td>\n      <td>14</td>\n      <td>216</td>\n      <td>0</td>\n      <td>0</td>\n      <td>0</td>\n      <td>...</td>\n      <td>0</td>\n      <td>0</td>\n      <td>0</td>\n      <td>0</td>\n      <td>0</td>\n      <td>0</td>\n      <td>0</td>\n      <td>0</td>\n      <td>0</td>\n      <td>0</td>\n    </tr>\n    <tr>\n      <th>...</th>\n      <td>...</td>\n      <td>...</td>\n      <td>...</td>\n      <td>...</td>\n      <td>...</td>\n      <td>...</td>\n      <td>...</td>\n      <td>...</td>\n      <td>...</td>\n      <td>...</td>\n      <td>...</td>\n      <td>...</td>\n      <td>...</td>\n      <td>...</td>\n      <td>...</td>\n      <td>...</td>\n      <td>...</td>\n      <td>...</td>\n      <td>...</td>\n      <td>...</td>\n      <td>...</td>\n    </tr>\n    <tr>\n      <th>14993</th>\n      <td>29</td>\n      <td>1</td>\n      <td>17.92</td>\n      <td>11</td>\n      <td>1.0</td>\n      <td>14</td>\n      <td>448</td>\n      <td>71</td>\n      <td>6</td>\n      <td>196</td>\n      <td>...</td>\n      <td>0</td>\n      <td>0</td>\n      <td>0</td>\n      <td>0</td>\n      <td>0</td>\n      <td>0</td>\n      <td>0</td>\n      <td>0</td>\n      <td>0</td>\n      <td>0</td>\n    </tr>\n    <tr>\n      <th>14994</th>\n      <td>0</td>\n      <td>1</td>\n      <td>220.00</td>\n      <td>1</td>\n      <td>1.0</td>\n      <td>1</td>\n      <td>198</td>\n      <td>329</td>\n      <td>330</td>\n      <td>107</td>\n      <td>...</td>\n      <td>0</td>\n      <td>0</td>\n      <td>0</td>\n      <td>0</td>\n      <td>0</td>\n      <td>0</td>\n      <td>0</td>\n      <td>0</td>\n      <td>0</td>\n      <td>0</td>\n    </tr>\n    <tr>\n      <th>14995</th>\n      <td>0</td>\n      <td>1</td>\n      <td>108.33</td>\n      <td>2</td>\n      <td>1.0</td>\n      <td>1</td>\n      <td>198</td>\n      <td>107</td>\n      <td>57</td>\n      <td>0</td>\n      <td>...</td>\n      <td>0</td>\n      <td>0</td>\n      <td>0</td>\n      <td>0</td>\n      <td>0</td>\n      <td>0</td>\n      <td>0</td>\n      <td>0</td>\n      <td>0</td>\n      <td>0</td>\n    </tr>\n    <tr>\n      <th>14996</th>\n      <td>0</td>\n      <td>1</td>\n      <td>211.25</td>\n      <td>3</td>\n      <td>1.0</td>\n      <td>1</td>\n      <td>254</td>\n      <td>0</td>\n      <td>0</td>\n      <td>0</td>\n      <td>...</td>\n      <td>0</td>\n      <td>0</td>\n      <td>0</td>\n      <td>0</td>\n      <td>0</td>\n      <td>0</td>\n      <td>0</td>\n      <td>0</td>\n      <td>0</td>\n      <td>0</td>\n    </tr>\n    <tr>\n      <th>14997</th>\n      <td>0</td>\n      <td>1</td>\n      <td>255.00</td>\n      <td>4</td>\n      <td>1.0</td>\n      <td>1</td>\n      <td>149</td>\n      <td>496</td>\n      <td>0</td>\n      <td>0</td>\n      <td>...</td>\n      <td>0</td>\n      <td>0</td>\n      <td>0</td>\n      <td>0</td>\n      <td>0</td>\n      <td>0</td>\n      <td>0</td>\n      <td>0</td>\n      <td>0</td>\n      <td>0</td>\n    </tr>\n  </tbody>\n</table>\n<p>14998 rows × 22 columns</p>\n</div>"
     },
     "execution_count": 11,
     "metadata": {},
     "output_type": "execute_result"
    }
   ],
   "source": [
    "X_train"
   ],
   "metadata": {
    "collapsed": false,
    "ExecuteTime": {
     "end_time": "2024-05-19T08:47:07.776677Z",
     "start_time": "2024-05-19T08:47:07.722824300Z"
    }
   }
  },
  {
   "cell_type": "code",
   "execution_count": 10,
   "outputs": [],
   "source": [
    "model_runner = ModelTrainer(X_train=X_train,y_train=y_train,X_test=X_test,y_test=y_test)"
   ],
   "metadata": {
    "collapsed": false,
    "ExecuteTime": {
     "end_time": "2024-05-16T14:42:27.425822700Z",
     "start_time": "2024-05-16T14:42:27.413854600Z"
    }
   }
  },
  {
   "cell_type": "code",
   "execution_count": 11,
   "outputs": [
    {
     "name": "stdout",
     "output_type": "stream",
     "text": [
      "[LightGBM] [Info] Number of positive: 7480, number of negative: 7518\n",
      "[LightGBM] [Info] Total Bins 1303\n",
      "[LightGBM] [Info] Number of data points in the train set: 14998, number of used features: 22\n",
      "[LightGBM] [Info] [binary:BoostFromScore]: pavg=0.498733 -> initscore=-0.005067\n",
      "[LightGBM] [Info] Start training from score -0.005067\n",
      "\n",
      "\n",
      "LightGBM, Decision Tree, SGD and Neural Network are trained on dataset.\n"
     ]
    }
   ],
   "source": [
    "model_runner.train_models()\n",
    "res = model_runner.evaluate_models()"
   ],
   "metadata": {
    "collapsed": false,
    "ExecuteTime": {
     "end_time": "2024-05-16T14:42:32.007628100Z",
     "start_time": "2024-05-16T14:42:27.618700100Z"
    }
   }
  },
  {
   "cell_type": "code",
   "execution_count": 13,
   "outputs": [
    {
     "name": "stdout",
     "output_type": "stream",
     "text": [
      "[LightGBM] [Info] Number of positive: 7480, number of negative: 7518\n",
      "[LightGBM] [Info] Total Bins 359\n",
      "[LightGBM] [Info] Number of data points in the train set: 14998, number of used features: 6\n",
      "[LightGBM] [Info] [binary:BoostFromScore]: pavg=0.498733 -> initscore=-0.005067\n",
      "[LightGBM] [Info] Start training from score -0.005067\n",
      "\n",
      "\n",
      "LightGBM, Decision Tree, SGD and Neural Network are trained on dataset.\n"
     ]
    }
   ],
   "source": [
    "old_train_columns = \\\n",
    "    ['transaction_PatientAge','transaction_PatientEnGender','item_Price','item_Sequence','item_RequestQuantity','transaction_DiagnosisIds']\n",
    "\n",
    "model_runner_old = ModelTrainer(X_train=X_train[old_train_columns],y_train=y_train,X_test=X_test[old_train_columns],y_test=y_test)\n",
    "model_runner_old.train_models()\n",
    "\n",
    "res_before = model_runner_old.evaluate_models()"
   ],
   "metadata": {
    "collapsed": false,
    "ExecuteTime": {
     "end_time": "2024-05-16T14:44:10.292551700Z",
     "start_time": "2024-05-16T14:44:06.512334400Z"
    }
   }
  },
  {
   "cell_type": "code",
   "execution_count": 21,
   "outputs": [
    {
     "data": {
      "text/plain": "3723"
     },
     "execution_count": 21,
     "metadata": {},
     "output_type": "execute_result"
    }
   ],
   "source": [
    "len(df_test)"
   ],
   "metadata": {
    "collapsed": false,
    "ExecuteTime": {
     "end_time": "2024-05-16T17:06:07.081941700Z",
     "start_time": "2024-05-16T17:06:07.054253300Z"
    }
   }
  },
  {
   "cell_type": "code",
   "execution_count": 15,
   "outputs": [
    {
     "name": "stdout",
     "output_type": "stream",
     "text": [
      "The result before embedding the Item_Name column are:\n",
      " {'Decision Tree': {'Accuracy': 0.67, 'Precision': 0.66, 'Recall': 0.64}, 'LightGBM': {'Accuracy': 0.7, 'Precision': 0.68, 'Recall': 0.71}, 'SGD Classifier': {'Accuracy': 0.52, 'Precision': 0.54, 'Recall': 0.01}, 'XGBoost': {'Accuracy': 0.7, 'Precision': 0.68, 'Recall': 0.73}, 'Neural Network': {'Accuracy': 0.57, 'Precision': 0.59, 'Recall': 0.33}} \n",
      "The results after the embedding:\n",
      " {'Decision Tree': {'Accuracy': 0.7, 'Precision': 0.69, 'Recall': 0.67}, 'LightGBM': {'Accuracy': 0.74, 'Precision': 0.71, 'Recall': 0.77}, 'SGD Classifier': {'Accuracy': 0.49, 'Precision': 0.49, 'Recall': 0.99}, 'XGBoost': {'Accuracy': 0.74, 'Precision': 0.71, 'Recall': 0.78}, 'Neural Network': {'Accuracy': 0.65, 'Precision': 0.7, 'Recall': 0.5}}\n"
     ]
    }
   ],
   "source": [
    "## Comparison between the embedding vector added columns\n",
    "print('The result before embedding the Item_Name column are:\\n',res_before,'\\nThe results after the embedding:\\n',res)"
   ],
   "metadata": {
    "collapsed": false,
    "ExecuteTime": {
     "end_time": "2024-05-16T14:44:31.630262700Z",
     "start_time": "2024-05-16T14:44:31.613477500Z"
    }
   }
  },
  {
   "cell_type": "code",
   "execution_count": 16,
   "outputs": [
    {
     "data": {
      "text/plain": "transaction_PatientAge         0.270896\nitem_NameEn1                   0.175273\nitem_Sequence                  0.154727\nitem_Price                     0.126149\ntransaction_DiagnosisIds       0.090805\nitem_NameEn2                   0.045057\ntransaction_PatientEnGender    0.040445\nitem_NameEn3                   0.037848\nitem_NameEn5                   0.021284\nitem_NameEn4                   0.014264\nitem_NameEn7                   0.011622\nitem_RequestQuantity           0.005194\nitem_NameEn6                   0.003837\nitem_NameEn9                   0.000806\nitem_NameEn15                  0.000429\nitem_NameEn13                  0.000338\nitem_NameEn12                  0.000322\nitem_NameEn8                   0.000287\nitem_NameEn11                  0.000219\nitem_NameEn10                  0.000102\nitem_NameEn14                  0.000097\nitem_NameEn16                  0.000000\nName: 0, dtype: float64"
     },
     "execution_count": 16,
     "metadata": {},
     "output_type": "execute_result"
    }
   ],
   "source": [
    "## Feature importance Case Study\n",
    "dt_tran = model_runner.get_decision_tree_feature_importance()\n",
    "dt_feats = pd.DataFrame(list(dt_tran),columns_needed)\n",
    "\n",
    "dt_feats[0].sort_values(ascending=False)"
   ],
   "metadata": {
    "collapsed": false,
    "ExecuteTime": {
     "end_time": "2024-05-16T14:45:01.694297500Z",
     "start_time": "2024-05-16T14:45:01.684325700Z"
    }
   }
  },
  {
   "cell_type": "code",
   "execution_count": 17,
   "outputs": [
    {
     "data": {
      "text/plain": "item_Price                     0.236333\ntransaction_PatientAge         0.170000\nitem_NameEn1                   0.112333\ntransaction_DiagnosisIds       0.090000\nitem_NameEn2                   0.081667\nitem_Sequence                  0.080667\nitem_NameEn3                   0.080000\nitem_NameEn4                   0.052000\nitem_NameEn5                   0.033667\ntransaction_PatientEnGender    0.028333\nitem_RequestQuantity           0.013333\nitem_NameEn6                   0.012000\nitem_NameEn7                   0.006333\nitem_NameEn8                   0.002333\nitem_NameEn9                   0.000667\nitem_NameEn10                  0.000333\nitem_NameEn11                  0.000000\nitem_NameEn12                  0.000000\nitem_NameEn13                  0.000000\nitem_NameEn14                  0.000000\nitem_NameEn15                  0.000000\nitem_NameEn16                  0.000000\nName: 0, dtype: float64"
     },
     "execution_count": 17,
     "metadata": {},
     "output_type": "execute_result"
    }
   ],
   "source": [
    "gbm_tran = model_runner.get_lightgbm_feature_importance()\n",
    "gbm_feats = pd.DataFrame(list(gbm_tran),columns_needed)\n",
    "\n",
    "gbm_feats[0].sort_values(ascending=False)"
   ],
   "metadata": {
    "collapsed": false,
    "ExecuteTime": {
     "end_time": "2024-05-16T14:45:21.347888500Z",
     "start_time": "2024-05-16T14:45:21.330933400Z"
    }
   }
  },
  {
   "cell_type": "code",
   "execution_count": 18,
   "outputs": [
    {
     "data": {
      "text/plain": "item_Sequence                   1.350773e-01\nitem_NameEn8                    9.657824e-02\ntransaction_PatientAge          7.717226e-02\nitem_NameEn2                    7.321714e-02\nitem_Price                      7.049322e-02\ntransaction_PatientEnGender     7.037843e-02\nitem_NameEn6                    6.129502e-02\nitem_NameEn7                    4.200646e-02\ntransaction_DiagnosisIds        2.363682e-02\nitem_NameEn3                    2.121282e-02\nitem_NameEn4                    1.826765e-02\nitem_NameEn1                    1.813903e-02\nitem_RequestQuantity            3.366400e-03\nitem_NameEn5                    1.837944e-04\nitem_NameEn16                   2.861594e-65\nitem_NameEn13                   2.758648e-68\nitem_NameEn15                   5.924836e-84\nitem_NameEn10                   2.077948e-89\nitem_NameEn14                   2.426870e-92\nitem_NameEn11                   5.443403e-95\nitem_NameEn9                    1.038341e-97\nitem_NameEn12                  4.883545e-103\nName: 0, dtype: float64"
     },
     "execution_count": 18,
     "metadata": {},
     "output_type": "execute_result"
    }
   ],
   "source": [
    "nn_tran = model_runner.get_neural_network_feature_importance()\n",
    "nn_feats = pd.DataFrame(list(nn_tran),columns_needed)\n",
    "\n",
    "nn_feats[0].sort_values(ascending=False)"
   ],
   "metadata": {
    "collapsed": false,
    "ExecuteTime": {
     "end_time": "2024-05-16T14:45:27.542750Z",
     "start_time": "2024-05-16T14:45:27.514539800Z"
    }
   }
  },
  {
   "cell_type": "markdown",
   "source": [
    "## K-Fold Analysis"
   ],
   "metadata": {
    "collapsed": false
   }
  },
  {
   "cell_type": "code",
   "execution_count": 2,
   "outputs": [],
   "source": [
    "df_original = get_input()\n",
    "preprocessing = MergedDataPreprocessing(df_original)"
   ],
   "metadata": {
    "collapsed": false,
    "ExecuteTime": {
     "end_time": "2024-05-19T11:31:03.264063300Z",
     "start_time": "2024-05-19T11:30:27.468243600Z"
    }
   }
  },
  {
   "cell_type": "code",
   "execution_count": 3,
   "outputs": [
    {
     "name": "stderr",
     "output_type": "stream",
     "text": [
      "E:\\Projects\\Claims_Rejection\\src\\data_local.py:185: SettingWithCopyWarning: \n",
      "A value is trying to be set on a copy of a slice from a DataFrame.\n",
      "Try using .loc[row_indexer,col_indexer] = value instead\n",
      "\n",
      "See the caveats in the documentation: https://pandas.pydata.org/pandas-docs/stable/user_guide/indexing.html#returning-a-view-versus-a-copy\n",
      "  df1.loc[:, col] = df2[col].values\n",
      "E:\\Projects\\Claims_Rejection\\src\\data_local.py:185: SettingWithCopyWarning: \n",
      "A value is trying to be set on a copy of a slice from a DataFrame.\n",
      "Try using .loc[row_indexer,col_indexer] = value instead\n",
      "\n",
      "See the caveats in the documentation: https://pandas.pydata.org/pandas-docs/stable/user_guide/indexing.html#returning-a-view-versus-a-copy\n",
      "  df1.loc[:, col] = df2[col].values\n",
      "E:\\Projects\\Claims_Rejection\\src\\data_local.py:185: SettingWithCopyWarning: \n",
      "A value is trying to be set on a copy of a slice from a DataFrame.\n",
      "Try using .loc[row_indexer,col_indexer] = value instead\n",
      "\n",
      "See the caveats in the documentation: https://pandas.pydata.org/pandas-docs/stable/user_guide/indexing.html#returning-a-view-versus-a-copy\n",
      "  df1.loc[:, col] = df2[col].values\n",
      "E:\\Projects\\Claims_Rejection\\src\\data_local.py:185: SettingWithCopyWarning: \n",
      "A value is trying to be set on a copy of a slice from a DataFrame.\n",
      "Try using .loc[row_indexer,col_indexer] = value instead\n",
      "\n",
      "See the caveats in the documentation: https://pandas.pydata.org/pandas-docs/stable/user_guide/indexing.html#returning-a-view-versus-a-copy\n",
      "  df1.loc[:, col] = df2[col].values\n",
      "E:\\Projects\\Claims_Rejection\\src\\data_local.py:185: SettingWithCopyWarning: \n",
      "A value is trying to be set on a copy of a slice from a DataFrame.\n",
      "Try using .loc[row_indexer,col_indexer] = value instead\n",
      "\n",
      "See the caveats in the documentation: https://pandas.pydata.org/pandas-docs/stable/user_guide/indexing.html#returning-a-view-versus-a-copy\n",
      "  df1.loc[:, col] = df2[col].values\n",
      "E:\\Projects\\Claims_Rejection\\src\\data_local.py:185: SettingWithCopyWarning: \n",
      "A value is trying to be set on a copy of a slice from a DataFrame.\n",
      "Try using .loc[row_indexer,col_indexer] = value instead\n",
      "\n",
      "See the caveats in the documentation: https://pandas.pydata.org/pandas-docs/stable/user_guide/indexing.html#returning-a-view-versus-a-copy\n",
      "  df1.loc[:, col] = df2[col].values\n",
      "E:\\Projects\\Claims_Rejection\\src\\data_local.py:185: SettingWithCopyWarning: \n",
      "A value is trying to be set on a copy of a slice from a DataFrame.\n",
      "Try using .loc[row_indexer,col_indexer] = value instead\n",
      "\n",
      "See the caveats in the documentation: https://pandas.pydata.org/pandas-docs/stable/user_guide/indexing.html#returning-a-view-versus-a-copy\n",
      "  df1.loc[:, col] = df2[col].values\n",
      "E:\\Projects\\Claims_Rejection\\src\\data_local.py:185: SettingWithCopyWarning: \n",
      "A value is trying to be set on a copy of a slice from a DataFrame.\n",
      "Try using .loc[row_indexer,col_indexer] = value instead\n",
      "\n",
      "See the caveats in the documentation: https://pandas.pydata.org/pandas-docs/stable/user_guide/indexing.html#returning-a-view-versus-a-copy\n",
      "  df1.loc[:, col] = df2[col].values\n",
      "E:\\Projects\\Claims_Rejection\\src\\data_local.py:185: SettingWithCopyWarning: \n",
      "A value is trying to be set on a copy of a slice from a DataFrame.\n",
      "Try using .loc[row_indexer,col_indexer] = value instead\n",
      "\n",
      "See the caveats in the documentation: https://pandas.pydata.org/pandas-docs/stable/user_guide/indexing.html#returning-a-view-versus-a-copy\n",
      "  df1.loc[:, col] = df2[col].values\n",
      "E:\\Projects\\Claims_Rejection\\src\\data_local.py:185: SettingWithCopyWarning: \n",
      "A value is trying to be set on a copy of a slice from a DataFrame.\n",
      "Try using .loc[row_indexer,col_indexer] = value instead\n",
      "\n",
      "See the caveats in the documentation: https://pandas.pydata.org/pandas-docs/stable/user_guide/indexing.html#returning-a-view-versus-a-copy\n",
      "  df1.loc[:, col] = df2[col].values\n"
     ]
    },
    {
     "name": "stdout",
     "output_type": "stream",
     "text": [
      "[LightGBM] [Info] Number of positive: 7490, number of negative: 7588\n",
      "[LightGBM] [Info] Total Bins 1291\n",
      "[LightGBM] [Info] Number of data points in the train set: 15078, number of used features: 22\n",
      "[LightGBM] [Info] [binary:BoostFromScore]: pavg=0.496750 -> initscore=-0.012999\n",
      "[LightGBM] [Info] Start training from score -0.012999\n",
      "\n",
      "\n",
      "LightGBM, Decision Tree, SGD and Neural Network are trained on dataset.\n"
     ]
    },
    {
     "name": "stderr",
     "output_type": "stream",
     "text": [
      "E:\\Projects\\Claims_Rejection\\src\\data_local.py:185: SettingWithCopyWarning: \n",
      "A value is trying to be set on a copy of a slice from a DataFrame.\n",
      "Try using .loc[row_indexer,col_indexer] = value instead\n",
      "\n",
      "See the caveats in the documentation: https://pandas.pydata.org/pandas-docs/stable/user_guide/indexing.html#returning-a-view-versus-a-copy\n",
      "  df1.loc[:, col] = df2[col].values\n",
      "E:\\Projects\\Claims_Rejection\\src\\data_local.py:185: SettingWithCopyWarning: \n",
      "A value is trying to be set on a copy of a slice from a DataFrame.\n",
      "Try using .loc[row_indexer,col_indexer] = value instead\n",
      "\n",
      "See the caveats in the documentation: https://pandas.pydata.org/pandas-docs/stable/user_guide/indexing.html#returning-a-view-versus-a-copy\n",
      "  df1.loc[:, col] = df2[col].values\n",
      "E:\\Projects\\Claims_Rejection\\src\\data_local.py:185: SettingWithCopyWarning: \n",
      "A value is trying to be set on a copy of a slice from a DataFrame.\n",
      "Try using .loc[row_indexer,col_indexer] = value instead\n",
      "\n",
      "See the caveats in the documentation: https://pandas.pydata.org/pandas-docs/stable/user_guide/indexing.html#returning-a-view-versus-a-copy\n",
      "  df1.loc[:, col] = df2[col].values\n",
      "E:\\Projects\\Claims_Rejection\\src\\data_local.py:185: SettingWithCopyWarning: \n",
      "A value is trying to be set on a copy of a slice from a DataFrame.\n",
      "Try using .loc[row_indexer,col_indexer] = value instead\n",
      "\n",
      "See the caveats in the documentation: https://pandas.pydata.org/pandas-docs/stable/user_guide/indexing.html#returning-a-view-versus-a-copy\n",
      "  df1.loc[:, col] = df2[col].values\n",
      "E:\\Projects\\Claims_Rejection\\src\\data_local.py:185: SettingWithCopyWarning: \n",
      "A value is trying to be set on a copy of a slice from a DataFrame.\n",
      "Try using .loc[row_indexer,col_indexer] = value instead\n",
      "\n",
      "See the caveats in the documentation: https://pandas.pydata.org/pandas-docs/stable/user_guide/indexing.html#returning-a-view-versus-a-copy\n",
      "  df1.loc[:, col] = df2[col].values\n",
      "E:\\Projects\\Claims_Rejection\\src\\data_local.py:185: SettingWithCopyWarning: \n",
      "A value is trying to be set on a copy of a slice from a DataFrame.\n",
      "Try using .loc[row_indexer,col_indexer] = value instead\n",
      "\n",
      "See the caveats in the documentation: https://pandas.pydata.org/pandas-docs/stable/user_guide/indexing.html#returning-a-view-versus-a-copy\n",
      "  df1.loc[:, col] = df2[col].values\n",
      "E:\\Projects\\Claims_Rejection\\src\\data_local.py:185: SettingWithCopyWarning: \n",
      "A value is trying to be set on a copy of a slice from a DataFrame.\n",
      "Try using .loc[row_indexer,col_indexer] = value instead\n",
      "\n",
      "See the caveats in the documentation: https://pandas.pydata.org/pandas-docs/stable/user_guide/indexing.html#returning-a-view-versus-a-copy\n",
      "  df1.loc[:, col] = df2[col].values\n",
      "E:\\Projects\\Claims_Rejection\\src\\data_local.py:185: SettingWithCopyWarning: \n",
      "A value is trying to be set on a copy of a slice from a DataFrame.\n",
      "Try using .loc[row_indexer,col_indexer] = value instead\n",
      "\n",
      "See the caveats in the documentation: https://pandas.pydata.org/pandas-docs/stable/user_guide/indexing.html#returning-a-view-versus-a-copy\n",
      "  df1.loc[:, col] = df2[col].values\n",
      "E:\\Projects\\Claims_Rejection\\src\\data_local.py:185: SettingWithCopyWarning: \n",
      "A value is trying to be set on a copy of a slice from a DataFrame.\n",
      "Try using .loc[row_indexer,col_indexer] = value instead\n",
      "\n",
      "See the caveats in the documentation: https://pandas.pydata.org/pandas-docs/stable/user_guide/indexing.html#returning-a-view-versus-a-copy\n",
      "  df1.loc[:, col] = df2[col].values\n",
      "E:\\Projects\\Claims_Rejection\\src\\data_local.py:185: SettingWithCopyWarning: \n",
      "A value is trying to be set on a copy of a slice from a DataFrame.\n",
      "Try using .loc[row_indexer,col_indexer] = value instead\n",
      "\n",
      "See the caveats in the documentation: https://pandas.pydata.org/pandas-docs/stable/user_guide/indexing.html#returning-a-view-versus-a-copy\n",
      "  df1.loc[:, col] = df2[col].values\n"
     ]
    },
    {
     "name": "stdout",
     "output_type": "stream",
     "text": [
      "[LightGBM] [Info] Number of positive: 7437, number of negative: 7506\n",
      "[LightGBM] [Info] Total Bins 1303\n",
      "[LightGBM] [Info] Number of data points in the train set: 14943, number of used features: 22\n",
      "[LightGBM] [Info] [binary:BoostFromScore]: pavg=0.497691 -> initscore=-0.009235\n",
      "[LightGBM] [Info] Start training from score -0.009235\n",
      "\n",
      "\n",
      "LightGBM, Decision Tree, SGD and Neural Network are trained on dataset.\n"
     ]
    },
    {
     "name": "stderr",
     "output_type": "stream",
     "text": [
      "E:\\Projects\\Claims_Rejection\\src\\data_local.py:185: SettingWithCopyWarning: \n",
      "A value is trying to be set on a copy of a slice from a DataFrame.\n",
      "Try using .loc[row_indexer,col_indexer] = value instead\n",
      "\n",
      "See the caveats in the documentation: https://pandas.pydata.org/pandas-docs/stable/user_guide/indexing.html#returning-a-view-versus-a-copy\n",
      "  df1.loc[:, col] = df2[col].values\n",
      "E:\\Projects\\Claims_Rejection\\src\\data_local.py:185: SettingWithCopyWarning: \n",
      "A value is trying to be set on a copy of a slice from a DataFrame.\n",
      "Try using .loc[row_indexer,col_indexer] = value instead\n",
      "\n",
      "See the caveats in the documentation: https://pandas.pydata.org/pandas-docs/stable/user_guide/indexing.html#returning-a-view-versus-a-copy\n",
      "  df1.loc[:, col] = df2[col].values\n",
      "E:\\Projects\\Claims_Rejection\\src\\data_local.py:185: SettingWithCopyWarning: \n",
      "A value is trying to be set on a copy of a slice from a DataFrame.\n",
      "Try using .loc[row_indexer,col_indexer] = value instead\n",
      "\n",
      "See the caveats in the documentation: https://pandas.pydata.org/pandas-docs/stable/user_guide/indexing.html#returning-a-view-versus-a-copy\n",
      "  df1.loc[:, col] = df2[col].values\n",
      "E:\\Projects\\Claims_Rejection\\src\\data_local.py:185: SettingWithCopyWarning: \n",
      "A value is trying to be set on a copy of a slice from a DataFrame.\n",
      "Try using .loc[row_indexer,col_indexer] = value instead\n",
      "\n",
      "See the caveats in the documentation: https://pandas.pydata.org/pandas-docs/stable/user_guide/indexing.html#returning-a-view-versus-a-copy\n",
      "  df1.loc[:, col] = df2[col].values\n",
      "E:\\Projects\\Claims_Rejection\\src\\data_local.py:185: SettingWithCopyWarning: \n",
      "A value is trying to be set on a copy of a slice from a DataFrame.\n",
      "Try using .loc[row_indexer,col_indexer] = value instead\n",
      "\n",
      "See the caveats in the documentation: https://pandas.pydata.org/pandas-docs/stable/user_guide/indexing.html#returning-a-view-versus-a-copy\n",
      "  df1.loc[:, col] = df2[col].values\n",
      "E:\\Projects\\Claims_Rejection\\src\\data_local.py:185: SettingWithCopyWarning: \n",
      "A value is trying to be set on a copy of a slice from a DataFrame.\n",
      "Try using .loc[row_indexer,col_indexer] = value instead\n",
      "\n",
      "See the caveats in the documentation: https://pandas.pydata.org/pandas-docs/stable/user_guide/indexing.html#returning-a-view-versus-a-copy\n",
      "  df1.loc[:, col] = df2[col].values\n",
      "E:\\Projects\\Claims_Rejection\\src\\data_local.py:185: SettingWithCopyWarning: \n",
      "A value is trying to be set on a copy of a slice from a DataFrame.\n",
      "Try using .loc[row_indexer,col_indexer] = value instead\n",
      "\n",
      "See the caveats in the documentation: https://pandas.pydata.org/pandas-docs/stable/user_guide/indexing.html#returning-a-view-versus-a-copy\n",
      "  df1.loc[:, col] = df2[col].values\n",
      "E:\\Projects\\Claims_Rejection\\src\\data_local.py:185: SettingWithCopyWarning: \n",
      "A value is trying to be set on a copy of a slice from a DataFrame.\n",
      "Try using .loc[row_indexer,col_indexer] = value instead\n",
      "\n",
      "See the caveats in the documentation: https://pandas.pydata.org/pandas-docs/stable/user_guide/indexing.html#returning-a-view-versus-a-copy\n",
      "  df1.loc[:, col] = df2[col].values\n",
      "E:\\Projects\\Claims_Rejection\\src\\data_local.py:185: SettingWithCopyWarning: \n",
      "A value is trying to be set on a copy of a slice from a DataFrame.\n",
      "Try using .loc[row_indexer,col_indexer] = value instead\n",
      "\n",
      "See the caveats in the documentation: https://pandas.pydata.org/pandas-docs/stable/user_guide/indexing.html#returning-a-view-versus-a-copy\n",
      "  df1.loc[:, col] = df2[col].values\n",
      "E:\\Projects\\Claims_Rejection\\src\\data_local.py:185: SettingWithCopyWarning: \n",
      "A value is trying to be set on a copy of a slice from a DataFrame.\n",
      "Try using .loc[row_indexer,col_indexer] = value instead\n",
      "\n",
      "See the caveats in the documentation: https://pandas.pydata.org/pandas-docs/stable/user_guide/indexing.html#returning-a-view-versus-a-copy\n",
      "  df1.loc[:, col] = df2[col].values\n"
     ]
    },
    {
     "name": "stdout",
     "output_type": "stream",
     "text": [
      "[LightGBM] [Info] Number of positive: 7480, number of negative: 7714\n",
      "[LightGBM] [Info] Total Bins 1317\n",
      "[LightGBM] [Info] Number of data points in the train set: 15194, number of used features: 22\n",
      "[LightGBM] [Info] [binary:BoostFromScore]: pavg=0.492300 -> initscore=-0.030804\n",
      "[LightGBM] [Info] Start training from score -0.030804\n",
      "\n",
      "\n",
      "LightGBM, Decision Tree, SGD and Neural Network are trained on dataset.\n"
     ]
    },
    {
     "name": "stderr",
     "output_type": "stream",
     "text": [
      "E:\\Projects\\Claims_Rejection\\src\\data_local.py:185: SettingWithCopyWarning: \n",
      "A value is trying to be set on a copy of a slice from a DataFrame.\n",
      "Try using .loc[row_indexer,col_indexer] = value instead\n",
      "\n",
      "See the caveats in the documentation: https://pandas.pydata.org/pandas-docs/stable/user_guide/indexing.html#returning-a-view-versus-a-copy\n",
      "  df1.loc[:, col] = df2[col].values\n",
      "E:\\Projects\\Claims_Rejection\\src\\data_local.py:185: SettingWithCopyWarning: \n",
      "A value is trying to be set on a copy of a slice from a DataFrame.\n",
      "Try using .loc[row_indexer,col_indexer] = value instead\n",
      "\n",
      "See the caveats in the documentation: https://pandas.pydata.org/pandas-docs/stable/user_guide/indexing.html#returning-a-view-versus-a-copy\n",
      "  df1.loc[:, col] = df2[col].values\n",
      "E:\\Projects\\Claims_Rejection\\src\\data_local.py:185: SettingWithCopyWarning: \n",
      "A value is trying to be set on a copy of a slice from a DataFrame.\n",
      "Try using .loc[row_indexer,col_indexer] = value instead\n",
      "\n",
      "See the caveats in the documentation: https://pandas.pydata.org/pandas-docs/stable/user_guide/indexing.html#returning-a-view-versus-a-copy\n",
      "  df1.loc[:, col] = df2[col].values\n",
      "E:\\Projects\\Claims_Rejection\\src\\data_local.py:185: SettingWithCopyWarning: \n",
      "A value is trying to be set on a copy of a slice from a DataFrame.\n",
      "Try using .loc[row_indexer,col_indexer] = value instead\n",
      "\n",
      "See the caveats in the documentation: https://pandas.pydata.org/pandas-docs/stable/user_guide/indexing.html#returning-a-view-versus-a-copy\n",
      "  df1.loc[:, col] = df2[col].values\n",
      "E:\\Projects\\Claims_Rejection\\src\\data_local.py:185: SettingWithCopyWarning: \n",
      "A value is trying to be set on a copy of a slice from a DataFrame.\n",
      "Try using .loc[row_indexer,col_indexer] = value instead\n",
      "\n",
      "See the caveats in the documentation: https://pandas.pydata.org/pandas-docs/stable/user_guide/indexing.html#returning-a-view-versus-a-copy\n",
      "  df1.loc[:, col] = df2[col].values\n",
      "E:\\Projects\\Claims_Rejection\\src\\data_local.py:185: SettingWithCopyWarning: \n",
      "A value is trying to be set on a copy of a slice from a DataFrame.\n",
      "Try using .loc[row_indexer,col_indexer] = value instead\n",
      "\n",
      "See the caveats in the documentation: https://pandas.pydata.org/pandas-docs/stable/user_guide/indexing.html#returning-a-view-versus-a-copy\n",
      "  df1.loc[:, col] = df2[col].values\n",
      "E:\\Projects\\Claims_Rejection\\src\\data_local.py:185: SettingWithCopyWarning: \n",
      "A value is trying to be set on a copy of a slice from a DataFrame.\n",
      "Try using .loc[row_indexer,col_indexer] = value instead\n",
      "\n",
      "See the caveats in the documentation: https://pandas.pydata.org/pandas-docs/stable/user_guide/indexing.html#returning-a-view-versus-a-copy\n",
      "  df1.loc[:, col] = df2[col].values\n",
      "E:\\Projects\\Claims_Rejection\\src\\data_local.py:185: SettingWithCopyWarning: \n",
      "A value is trying to be set on a copy of a slice from a DataFrame.\n",
      "Try using .loc[row_indexer,col_indexer] = value instead\n",
      "\n",
      "See the caveats in the documentation: https://pandas.pydata.org/pandas-docs/stable/user_guide/indexing.html#returning-a-view-versus-a-copy\n",
      "  df1.loc[:, col] = df2[col].values\n",
      "E:\\Projects\\Claims_Rejection\\src\\data_local.py:185: SettingWithCopyWarning: \n",
      "A value is trying to be set on a copy of a slice from a DataFrame.\n",
      "Try using .loc[row_indexer,col_indexer] = value instead\n",
      "\n",
      "See the caveats in the documentation: https://pandas.pydata.org/pandas-docs/stable/user_guide/indexing.html#returning-a-view-versus-a-copy\n",
      "  df1.loc[:, col] = df2[col].values\n",
      "E:\\Projects\\Claims_Rejection\\src\\data_local.py:185: SettingWithCopyWarning: \n",
      "A value is trying to be set on a copy of a slice from a DataFrame.\n",
      "Try using .loc[row_indexer,col_indexer] = value instead\n",
      "\n",
      "See the caveats in the documentation: https://pandas.pydata.org/pandas-docs/stable/user_guide/indexing.html#returning-a-view-versus-a-copy\n",
      "  df1.loc[:, col] = df2[col].values\n"
     ]
    },
    {
     "name": "stdout",
     "output_type": "stream",
     "text": [
      "[LightGBM] [Info] Number of positive: 7558, number of negative: 7626\n",
      "[LightGBM] [Info] Total Bins 1298\n",
      "[LightGBM] [Info] Number of data points in the train set: 15184, number of used features: 22\n",
      "[LightGBM] [Info] [binary:BoostFromScore]: pavg=0.497761 -> initscore=-0.008957\n",
      "[LightGBM] [Info] Start training from score -0.008957\n",
      "\n",
      "\n",
      "LightGBM, Decision Tree, SGD and Neural Network are trained on dataset.\n"
     ]
    },
    {
     "name": "stderr",
     "output_type": "stream",
     "text": [
      "E:\\Projects\\Claims_Rejection\\src\\data_local.py:185: SettingWithCopyWarning: \n",
      "A value is trying to be set on a copy of a slice from a DataFrame.\n",
      "Try using .loc[row_indexer,col_indexer] = value instead\n",
      "\n",
      "See the caveats in the documentation: https://pandas.pydata.org/pandas-docs/stable/user_guide/indexing.html#returning-a-view-versus-a-copy\n",
      "  df1.loc[:, col] = df2[col].values\n",
      "E:\\Projects\\Claims_Rejection\\src\\data_local.py:185: SettingWithCopyWarning: \n",
      "A value is trying to be set on a copy of a slice from a DataFrame.\n",
      "Try using .loc[row_indexer,col_indexer] = value instead\n",
      "\n",
      "See the caveats in the documentation: https://pandas.pydata.org/pandas-docs/stable/user_guide/indexing.html#returning-a-view-versus-a-copy\n",
      "  df1.loc[:, col] = df2[col].values\n",
      "E:\\Projects\\Claims_Rejection\\src\\data_local.py:185: SettingWithCopyWarning: \n",
      "A value is trying to be set on a copy of a slice from a DataFrame.\n",
      "Try using .loc[row_indexer,col_indexer] = value instead\n",
      "\n",
      "See the caveats in the documentation: https://pandas.pydata.org/pandas-docs/stable/user_guide/indexing.html#returning-a-view-versus-a-copy\n",
      "  df1.loc[:, col] = df2[col].values\n",
      "E:\\Projects\\Claims_Rejection\\src\\data_local.py:185: SettingWithCopyWarning: \n",
      "A value is trying to be set on a copy of a slice from a DataFrame.\n",
      "Try using .loc[row_indexer,col_indexer] = value instead\n",
      "\n",
      "See the caveats in the documentation: https://pandas.pydata.org/pandas-docs/stable/user_guide/indexing.html#returning-a-view-versus-a-copy\n",
      "  df1.loc[:, col] = df2[col].values\n",
      "E:\\Projects\\Claims_Rejection\\src\\data_local.py:185: SettingWithCopyWarning: \n",
      "A value is trying to be set on a copy of a slice from a DataFrame.\n",
      "Try using .loc[row_indexer,col_indexer] = value instead\n",
      "\n",
      "See the caveats in the documentation: https://pandas.pydata.org/pandas-docs/stable/user_guide/indexing.html#returning-a-view-versus-a-copy\n",
      "  df1.loc[:, col] = df2[col].values\n",
      "E:\\Projects\\Claims_Rejection\\src\\data_local.py:185: SettingWithCopyWarning: \n",
      "A value is trying to be set on a copy of a slice from a DataFrame.\n",
      "Try using .loc[row_indexer,col_indexer] = value instead\n",
      "\n",
      "See the caveats in the documentation: https://pandas.pydata.org/pandas-docs/stable/user_guide/indexing.html#returning-a-view-versus-a-copy\n",
      "  df1.loc[:, col] = df2[col].values\n",
      "E:\\Projects\\Claims_Rejection\\src\\data_local.py:185: SettingWithCopyWarning: \n",
      "A value is trying to be set on a copy of a slice from a DataFrame.\n",
      "Try using .loc[row_indexer,col_indexer] = value instead\n",
      "\n",
      "See the caveats in the documentation: https://pandas.pydata.org/pandas-docs/stable/user_guide/indexing.html#returning-a-view-versus-a-copy\n",
      "  df1.loc[:, col] = df2[col].values\n",
      "E:\\Projects\\Claims_Rejection\\src\\data_local.py:185: SettingWithCopyWarning: \n",
      "A value is trying to be set on a copy of a slice from a DataFrame.\n",
      "Try using .loc[row_indexer,col_indexer] = value instead\n",
      "\n",
      "See the caveats in the documentation: https://pandas.pydata.org/pandas-docs/stable/user_guide/indexing.html#returning-a-view-versus-a-copy\n",
      "  df1.loc[:, col] = df2[col].values\n",
      "E:\\Projects\\Claims_Rejection\\src\\data_local.py:185: SettingWithCopyWarning: \n",
      "A value is trying to be set on a copy of a slice from a DataFrame.\n",
      "Try using .loc[row_indexer,col_indexer] = value instead\n",
      "\n",
      "See the caveats in the documentation: https://pandas.pydata.org/pandas-docs/stable/user_guide/indexing.html#returning-a-view-versus-a-copy\n",
      "  df1.loc[:, col] = df2[col].values\n",
      "E:\\Projects\\Claims_Rejection\\src\\data_local.py:185: SettingWithCopyWarning: \n",
      "A value is trying to be set on a copy of a slice from a DataFrame.\n",
      "Try using .loc[row_indexer,col_indexer] = value instead\n",
      "\n",
      "See the caveats in the documentation: https://pandas.pydata.org/pandas-docs/stable/user_guide/indexing.html#returning-a-view-versus-a-copy\n",
      "  df1.loc[:, col] = df2[col].values\n"
     ]
    },
    {
     "name": "stdout",
     "output_type": "stream",
     "text": [
      "[LightGBM] [Info] Number of positive: 7480, number of negative: 7518\n",
      "[LightGBM] [Info] Total Bins 1300\n",
      "[LightGBM] [Info] Number of data points in the train set: 14998, number of used features: 22\n",
      "[LightGBM] [Info] [binary:BoostFromScore]: pavg=0.498733 -> initscore=-0.005067\n",
      "[LightGBM] [Info] Start training from score -0.005067\n",
      "\n",
      "\n",
      "LightGBM, Decision Tree, SGD and Neural Network are trained on dataset.\n"
     ]
    }
   ],
   "source": [
    "from src.model_train import validate_folds\n",
    "\n",
    "df_acc = validate_folds(df_original)"
   ],
   "metadata": {
    "collapsed": false,
    "ExecuteTime": {
     "end_time": "2024-05-19T11:31:29.313018400Z",
     "start_time": "2024-05-19T11:31:03.266056500Z"
    }
   }
  },
  {
   "cell_type": "code",
   "execution_count": 4,
   "outputs": [
    {
     "data": {
      "text/plain": "   Decision Tree  LightGBM  SGD Classifier  XGBoost  Neural Network\n0             67        72              50       72              67\n1             67        72              46       72              69\n2             67        70              51       72              67\n3             69        72              49       74              64\n4             68        72              52       72              67",
      "text/html": "<div>\n<style scoped>\n    .dataframe tbody tr th:only-of-type {\n        vertical-align: middle;\n    }\n\n    .dataframe tbody tr th {\n        vertical-align: top;\n    }\n\n    .dataframe thead th {\n        text-align: right;\n    }\n</style>\n<table border=\"1\" class=\"dataframe\">\n  <thead>\n    <tr style=\"text-align: right;\">\n      <th></th>\n      <th>Decision Tree</th>\n      <th>LightGBM</th>\n      <th>SGD Classifier</th>\n      <th>XGBoost</th>\n      <th>Neural Network</th>\n    </tr>\n  </thead>\n  <tbody>\n    <tr>\n      <th>0</th>\n      <td>67</td>\n      <td>72</td>\n      <td>50</td>\n      <td>72</td>\n      <td>67</td>\n    </tr>\n    <tr>\n      <th>1</th>\n      <td>67</td>\n      <td>72</td>\n      <td>46</td>\n      <td>72</td>\n      <td>69</td>\n    </tr>\n    <tr>\n      <th>2</th>\n      <td>67</td>\n      <td>70</td>\n      <td>51</td>\n      <td>72</td>\n      <td>67</td>\n    </tr>\n    <tr>\n      <th>3</th>\n      <td>69</td>\n      <td>72</td>\n      <td>49</td>\n      <td>74</td>\n      <td>64</td>\n    </tr>\n    <tr>\n      <th>4</th>\n      <td>68</td>\n      <td>72</td>\n      <td>52</td>\n      <td>72</td>\n      <td>67</td>\n    </tr>\n  </tbody>\n</table>\n</div>"
     },
     "execution_count": 4,
     "metadata": {},
     "output_type": "execute_result"
    }
   ],
   "source": [
    "df_acc"
   ],
   "metadata": {
    "collapsed": false,
    "ExecuteTime": {
     "end_time": "2024-05-19T11:31:29.334959500Z",
     "start_time": "2024-05-19T11:31:29.314018700Z"
    }
   }
  },
  {
   "cell_type": "code",
   "execution_count": null,
   "outputs": [],
   "source": [
    "## XGBoost 72.5% accuracy, Neural Networks 66%  accuracy which can definitely be improved"
   ],
   "metadata": {
    "collapsed": false
   }
  }
 ],
 "metadata": {
  "kernelspec": {
   "display_name": "Python 3",
   "language": "python",
   "name": "python3"
  },
  "language_info": {
   "codemirror_mode": {
    "name": "ipython",
    "version": 2
   },
   "file_extension": ".py",
   "mimetype": "text/x-python",
   "name": "python",
   "nbconvert_exporter": "python",
   "pygments_lexer": "ipython2",
   "version": "2.7.6"
  }
 },
 "nbformat": 4,
 "nbformat_minor": 0
}
