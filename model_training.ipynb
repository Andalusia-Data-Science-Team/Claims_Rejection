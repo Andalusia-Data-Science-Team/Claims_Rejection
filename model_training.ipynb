{
 "cells": [
  {
   "cell_type": "code",
   "execution_count": 1,
   "metadata": {
    "collapsed": true,
    "ExecuteTime": {
     "end_time": "2024-07-15T11:52:48.483227200Z",
     "start_time": "2024-07-15T11:52:39.546209800Z"
    }
   },
   "outputs": [],
   "source": [
    "from src.model_train import ModelTrainer, validate_folds\n",
    "import pandas as pd\n",
    "\n",
    "from cashe import get_training_inputs, drop_nomodel_columns, get_train_test_split\n",
    "from src.data_local import MergedDataPreprocessing,read_last_date, append_last_line\n",
    "from src.lstm_encoder import LSTMEmbedding\n",
    "from src.model_app import ModelApplication"
   ]
  },
  {
   "cell_type": "code",
   "execution_count": 2,
   "outputs": [],
   "source": [
    "df_train, df_test = get_train_test_split()"
   ],
   "metadata": {
    "collapsed": false,
    "ExecuteTime": {
     "end_time": "2024-07-15T11:52:49.210082300Z",
     "start_time": "2024-07-15T11:52:48.489210300Z"
    }
   }
  },
  {
   "cell_type": "code",
   "execution_count": 3,
   "outputs": [
    {
     "data": {
      "text/plain": "   CREATED_BY_USER       CREATION_DATE  VISIT_ID  NET_WITH_VAT  \\\n0             9521 2024-04-04 22:57:57    230089         56.12   \n1             9521 2024-04-04 23:02:21    230117        202.40   \n2             9521 2024-04-04 23:08:38    230160        408.08   \n3             9521 2024-04-04 22:26:08    229872         24.27   \n4             9521 2024-04-04 22:34:22    229913         80.64   \n\n              SERVICE_DESCRIPTION  QTY  LINE_CLAIMED_AMOUNT  \\\n0                   Unlisted Code  1.0                61.00   \n1                             TSH  1.0               220.00   \n2             In vivo laboratory   1.0               475.00   \n3             ELICA-M CREAM 30 GM  1.0                25.55   \n4  Peripheral intravenous cannula  1.0                90.00   \n\n   LINE_CLAIMED_AMOUNT_SAR  CO_PAY  CO_INSURANCE  ...  ATTACHMENT_TYPE  \\\n0                    61.00    0.00         61.00  ...             FILE   \n1                   220.00    0.00        220.00  ...             FILE   \n2                   475.00   10.75        464.25  ...             FILE   \n3                    25.55    4.85         20.70  ...             FILE   \n4                    90.00   14.40         75.60  ...             FILE   \n\n   NEW_BORN  PATIENT_IDENTITY_TYPE  BILLABLE_PERIOD_START  \\\n0         N                      H             2024-03-28   \n1         N                      H             2024-03-12   \n2         N                      H             2024-03-04   \n3         N                      H             2024-03-10   \n4         N                      H             2024-03-18   \n\n   BILLABLE_PERIOD_END  BATCH_PERIOD_START BATCH_PERIOD_END   Episode_Key  \\\n0           2024-04-11          2024-03-01       2024-03-31   1_929362-34   \n1           2024-03-26          2024-03-01       2024-03-31   1_1083147-3   \n2           2024-03-18          2024-03-01       2024-03-31   1_1339075-6   \n3           2024-03-24          2024-03-01       2024-03-31   1_656928-60   \n4           2024-04-01          2024-03-01       2024-03-31  1_1019628-25   \n\n   ICD10  Diagnosis_Key  \n0    Z36     1_10198603  \n1  R22.1     1_10171516  \n2    R53   1_1111232092  \n3    R10   1_1111231597  \n4  R00.1     1_10171441  \n\n[5 rows x 96 columns]",
      "text/html": "<div>\n<style scoped>\n    .dataframe tbody tr th:only-of-type {\n        vertical-align: middle;\n    }\n\n    .dataframe tbody tr th {\n        vertical-align: top;\n    }\n\n    .dataframe thead th {\n        text-align: right;\n    }\n</style>\n<table border=\"1\" class=\"dataframe\">\n  <thead>\n    <tr style=\"text-align: right;\">\n      <th></th>\n      <th>CREATED_BY_USER</th>\n      <th>CREATION_DATE</th>\n      <th>VISIT_ID</th>\n      <th>NET_WITH_VAT</th>\n      <th>SERVICE_DESCRIPTION</th>\n      <th>QTY</th>\n      <th>LINE_CLAIMED_AMOUNT</th>\n      <th>LINE_CLAIMED_AMOUNT_SAR</th>\n      <th>CO_PAY</th>\n      <th>CO_INSURANCE</th>\n      <th>...</th>\n      <th>ATTACHMENT_TYPE</th>\n      <th>NEW_BORN</th>\n      <th>PATIENT_IDENTITY_TYPE</th>\n      <th>BILLABLE_PERIOD_START</th>\n      <th>BILLABLE_PERIOD_END</th>\n      <th>BATCH_PERIOD_START</th>\n      <th>BATCH_PERIOD_END</th>\n      <th>Episode_Key</th>\n      <th>ICD10</th>\n      <th>Diagnosis_Key</th>\n    </tr>\n  </thead>\n  <tbody>\n    <tr>\n      <th>0</th>\n      <td>9521</td>\n      <td>2024-04-04 22:57:57</td>\n      <td>230089</td>\n      <td>56.12</td>\n      <td>Unlisted Code</td>\n      <td>1.0</td>\n      <td>61.00</td>\n      <td>61.00</td>\n      <td>0.00</td>\n      <td>61.00</td>\n      <td>...</td>\n      <td>FILE</td>\n      <td>N</td>\n      <td>H</td>\n      <td>2024-03-28</td>\n      <td>2024-04-11</td>\n      <td>2024-03-01</td>\n      <td>2024-03-31</td>\n      <td>1_929362-34</td>\n      <td>Z36</td>\n      <td>1_10198603</td>\n    </tr>\n    <tr>\n      <th>1</th>\n      <td>9521</td>\n      <td>2024-04-04 23:02:21</td>\n      <td>230117</td>\n      <td>202.40</td>\n      <td>TSH</td>\n      <td>1.0</td>\n      <td>220.00</td>\n      <td>220.00</td>\n      <td>0.00</td>\n      <td>220.00</td>\n      <td>...</td>\n      <td>FILE</td>\n      <td>N</td>\n      <td>H</td>\n      <td>2024-03-12</td>\n      <td>2024-03-26</td>\n      <td>2024-03-01</td>\n      <td>2024-03-31</td>\n      <td>1_1083147-3</td>\n      <td>R22.1</td>\n      <td>1_10171516</td>\n    </tr>\n    <tr>\n      <th>2</th>\n      <td>9521</td>\n      <td>2024-04-04 23:08:38</td>\n      <td>230160</td>\n      <td>408.08</td>\n      <td>In vivo laboratory</td>\n      <td>1.0</td>\n      <td>475.00</td>\n      <td>475.00</td>\n      <td>10.75</td>\n      <td>464.25</td>\n      <td>...</td>\n      <td>FILE</td>\n      <td>N</td>\n      <td>H</td>\n      <td>2024-03-04</td>\n      <td>2024-03-18</td>\n      <td>2024-03-01</td>\n      <td>2024-03-31</td>\n      <td>1_1339075-6</td>\n      <td>R53</td>\n      <td>1_1111232092</td>\n    </tr>\n    <tr>\n      <th>3</th>\n      <td>9521</td>\n      <td>2024-04-04 22:26:08</td>\n      <td>229872</td>\n      <td>24.27</td>\n      <td>ELICA-M CREAM 30 GM</td>\n      <td>1.0</td>\n      <td>25.55</td>\n      <td>25.55</td>\n      <td>4.85</td>\n      <td>20.70</td>\n      <td>...</td>\n      <td>FILE</td>\n      <td>N</td>\n      <td>H</td>\n      <td>2024-03-10</td>\n      <td>2024-03-24</td>\n      <td>2024-03-01</td>\n      <td>2024-03-31</td>\n      <td>1_656928-60</td>\n      <td>R10</td>\n      <td>1_1111231597</td>\n    </tr>\n    <tr>\n      <th>4</th>\n      <td>9521</td>\n      <td>2024-04-04 22:34:22</td>\n      <td>229913</td>\n      <td>80.64</td>\n      <td>Peripheral intravenous cannula</td>\n      <td>1.0</td>\n      <td>90.00</td>\n      <td>90.00</td>\n      <td>14.40</td>\n      <td>75.60</td>\n      <td>...</td>\n      <td>FILE</td>\n      <td>N</td>\n      <td>H</td>\n      <td>2024-03-18</td>\n      <td>2024-04-01</td>\n      <td>2024-03-01</td>\n      <td>2024-03-31</td>\n      <td>1_1019628-25</td>\n      <td>R00.1</td>\n      <td>1_10171441</td>\n    </tr>\n  </tbody>\n</table>\n<p>5 rows × 96 columns</p>\n</div>"
     },
     "execution_count": 3,
     "metadata": {},
     "output_type": "execute_result"
    }
   ],
   "source": [
    "df_train.head()"
   ],
   "metadata": {
    "collapsed": false,
    "ExecuteTime": {
     "end_time": "2024-07-15T11:52:49.255782600Z",
     "start_time": "2024-07-15T11:52:49.212076400Z"
    }
   }
  },
  {
   "cell_type": "code",
   "execution_count": 4,
   "outputs": [
    {
     "data": {
      "text/plain": "'2024-04-30'"
     },
     "execution_count": 4,
     "metadata": {},
     "output_type": "execute_result"
    }
   ],
   "source": [
    "read_last_date()"
   ],
   "metadata": {
    "collapsed": false,
    "ExecuteTime": {
     "end_time": "2024-07-15T11:52:49.416663700Z",
     "start_time": "2024-07-15T11:52:49.253485900Z"
    }
   }
  },
  {
   "cell_type": "code",
   "execution_count": 5,
   "outputs": [],
   "source": [
    "X_train, y_train, X_test, y_test = get_training_inputs(df_train, df_test)"
   ],
   "metadata": {
    "collapsed": false,
    "ExecuteTime": {
     "end_time": "2024-07-15T11:52:49.683190700Z",
     "start_time": "2024-07-15T11:52:49.370568200Z"
    }
   }
  },
  {
   "cell_type": "code",
   "execution_count": 6,
   "outputs": [
    {
     "name": "stderr",
     "output_type": "stream",
     "text": [
      "E:\\Projects\\Claims_Rejection\\src\\data_local.py:275: FutureWarning: Downcasting behavior in `replace` is deprecated and will be removed in a future version. To retain the old behavior, explicitly call `result.infer_objects(copy=False)`. To opt-in to the future behavior, set `pd.set_option('future.no_silent_downcasting', True)`\n",
      "  self.df[column] = self.df[column].replace(column_encoding)\n",
      "E:\\Projects\\Claims_Rejection\\src\\data_local.py:280: FutureWarning: Downcasting behavior in `replace` is deprecated and will be removed in a future version. To retain the old behavior, explicitly call `result.infer_objects(copy=False)`. To opt-in to the future behavior, set `pd.set_option('future.no_silent_downcasting', True)`\n",
      "  self.df['PatientAgeRange'] = self.df.PatientAgeRange.replace(age_encoding)\n",
      "E:\\Projects\\Claims_Rejection\\src\\data_local.py:275: FutureWarning: Downcasting behavior in `replace` is deprecated and will be removed in a future version. To retain the old behavior, explicitly call `result.infer_objects(copy=False)`. To opt-in to the future behavior, set `pd.set_option('future.no_silent_downcasting', True)`\n",
      "  self.df[column] = self.df[column].replace(column_encoding)\n",
      "E:\\Projects\\Claims_Rejection\\src\\data_local.py:280: FutureWarning: Downcasting behavior in `replace` is deprecated and will be removed in a future version. To retain the old behavior, explicitly call `result.infer_objects(copy=False)`. To opt-in to the future behavior, set `pd.set_option('future.no_silent_downcasting', True)`\n",
      "  self.df['PatientAgeRange'] = self.df.PatientAgeRange.replace(age_encoding)\n"
     ]
    }
   ],
   "source": [
    "preprocessing_train = MergedDataPreprocessing(X_train)\n",
    "X_train_prep = preprocessing_train.columns_prep(service_encoding=False)\n",
    "\n",
    "preprocessing_test = MergedDataPreprocessing(X_test)\n",
    "X_test_prep = preprocessing_test.columns_prep(service_encoding=False)"
   ],
   "metadata": {
    "collapsed": false,
    "ExecuteTime": {
     "end_time": "2024-07-15T11:52:51.515369400Z",
     "start_time": "2024-07-15T11:52:49.685185800Z"
    }
   }
  },
  {
   "cell_type": "code",
   "execution_count": 7,
   "outputs": [],
   "source": [
    "lstm_embedding = LSTMEmbedding()\n",
    "\n",
    "X_train_encoded = preprocessing_train.column_embedding(X_train_prep)\n",
    "X_test_encoded = preprocessing_train.column_embedding(X_test_prep)"
   ],
   "metadata": {
    "collapsed": false,
    "ExecuteTime": {
     "end_time": "2024-07-15T11:52:57.433017100Z",
     "start_time": "2024-07-15T11:52:51.519537600Z"
    }
   }
  },
  {
   "cell_type": "code",
   "execution_count": 8,
   "outputs": [],
   "source": [
    "X_train = drop_nomodel_columns(X_train_encoded)\n",
    "X_test  = drop_nomodel_columns(X_test_encoded)"
   ],
   "metadata": {
    "collapsed": false,
    "ExecuteTime": {
     "end_time": "2024-07-15T11:52:58.721294500Z",
     "start_time": "2024-07-15T11:52:57.435012900Z"
    }
   }
  },
  {
   "cell_type": "code",
   "execution_count": 9,
   "outputs": [],
   "source": [
    "model_runner = ModelApplication(X_train= X_train,y_train= y_train['OUTCOME'],X_test= X_test,y_test= y_test['OUTCOME'])"
   ],
   "metadata": {
    "collapsed": false,
    "ExecuteTime": {
     "end_time": "2024-07-15T11:52:58.759043400Z",
     "start_time": "2024-07-15T11:52:58.724286900Z"
    }
   }
  },
  {
   "cell_type": "code",
   "execution_count": 10,
   "outputs": [
    {
     "name": "stdout",
     "output_type": "stream",
     "text": [
      "XGBoost Model is loading from disk..\n"
     ]
    }
   ],
   "source": [
    "model_runner.get_model(force_retrain=False,model_type='outcome')"
   ],
   "metadata": {
    "collapsed": false,
    "ExecuteTime": {
     "end_time": "2024-07-15T11:52:59.178295300Z",
     "start_time": "2024-07-15T11:52:58.752107500Z"
    }
   }
  },
  {
   "cell_type": "code",
   "execution_count": 17,
   "outputs": [
    {
     "data": {
      "text/plain": "{'XGBoost': {'Accuracy': 0.77,\n  'Precision': 0.76,\n  'Recall': 0.81,\n  'F1 Score': 0.78}}"
     },
     "execution_count": 17,
     "metadata": {},
     "output_type": "execute_result"
    }
   ],
   "source": [
    "## runtime 1\n",
    "model_runner.evaluate_model()"
   ],
   "metadata": {
    "collapsed": false,
    "ExecuteTime": {
     "end_time": "2024-07-15T10:37:50.317100500Z",
     "start_time": "2024-07-15T10:37:50.174520900Z"
    }
   }
  },
  {
   "cell_type": "code",
   "execution_count": 11,
   "outputs": [
    {
     "data": {
      "text/plain": "{'XGBoost': {'Accuracy': 0.77,\n  'Precision': 0.76,\n  'Recall': 0.81,\n  'F1 Score': 0.78}}"
     },
     "execution_count": 11,
     "metadata": {},
     "output_type": "execute_result"
    }
   ],
   "source": [
    "## runtime 2\n",
    "model_runner.evaluate_model()"
   ],
   "metadata": {
    "collapsed": false,
    "ExecuteTime": {
     "end_time": "2024-07-15T10:39:33.323718200Z",
     "start_time": "2024-07-15T10:39:33.168727300Z"
    }
   }
  },
  {
   "cell_type": "code",
   "execution_count": 14,
   "outputs": [
    {
     "name": "stdout",
     "output_type": "stream",
     "text": [
      "The result before embedding the Item_Name column are:\n",
      " {'Decision Tree': {'Accuracy': 0.67, 'Precision': 0.66, 'Recall': 0.64}, 'LightGBM': {'Accuracy': 0.7, 'Precision': 0.68, 'Recall': 0.71}, 'SGD Classifier': {'Accuracy': 0.52, 'Precision': 0.0, 'Recall': 0.0}, 'XGBoost': {'Accuracy': 0.7, 'Precision': 0.68, 'Recall': 0.73}, 'Neural Network': {'Accuracy': 0.56, 'Precision': 0.55, 'Recall': 0.44}} \n",
      "The results after the embedding:\n",
      " {'Decision Tree': {'Accuracy': 0.67, 'Precision': 0.66, 'Recall': 0.63}, 'LightGBM': {'Accuracy': 0.7, 'Precision': 0.68, 'Recall': 0.71}, 'SGD Classifier': {'Accuracy': 0.48, 'Precision': 0.48, 'Recall': 0.9}, 'XGBoost': {'Accuracy': 0.7, 'Precision': 0.68, 'Recall': 0.73}, 'Neural Network': {'Accuracy': 0.55, 'Precision': 0.57, 'Recall': 0.28}}\n"
     ]
    }
   ],
   "source": [
    "## Comparison between the embedding vector added columns\n",
    "print('The result before embedding the Item_Name column are:\\n',res_before,'\\nThe results after the embedding:\\n',res)"
   ],
   "metadata": {
    "collapsed": false,
    "ExecuteTime": {
     "end_time": "2024-05-20T09:30:44.844614200Z",
     "start_time": "2024-05-20T09:30:44.781753800Z"
    }
   }
  },
  {
   "cell_type": "code",
   "execution_count": 16,
   "outputs": [
    {
     "data": {
      "text/plain": "item_Price                     0.323421\ntransaction_PatientAge         0.313583\nitem_Sequence                  0.191764\ntransaction_DiagnosisIds       0.114149\ntransaction_PatientEnGender    0.044771\nitem_RequestQuantity           0.012312\nName: 0, dtype: float64"
     },
     "execution_count": 16,
     "metadata": {},
     "output_type": "execute_result"
    }
   ],
   "source": [
    "## Feature importance Case Study\n",
    "dt_tran = model_runner.get_decision_tree_feature_importance()\n",
    "dt_feats = pd.DataFrame(list(dt_tran),columns_needed)\n",
    "\n",
    "dt_feats[0].sort_values(ascending=False)"
   ],
   "metadata": {
    "collapsed": false,
    "ExecuteTime": {
     "end_time": "2024-05-20T09:31:28.007278700Z",
     "start_time": "2024-05-20T09:31:27.961052200Z"
    }
   }
  },
  {
   "cell_type": "code",
   "execution_count": 17,
   "outputs": [
    {
     "data": {
      "text/plain": "item_Price                     0.410000\ntransaction_PatientAge         0.255333\ntransaction_DiagnosisIds       0.137667\nitem_Sequence                  0.135333\nitem_RequestQuantity           0.031000\ntransaction_PatientEnGender    0.030667\nName: 0, dtype: float64"
     },
     "execution_count": 17,
     "metadata": {},
     "output_type": "execute_result"
    }
   ],
   "source": [
    "gbm_tran = model_runner.get_lightgbm_feature_importance()\n",
    "gbm_feats = pd.DataFrame(list(gbm_tran),columns_needed)\n",
    "\n",
    "gbm_feats[0].sort_values(ascending=False)"
   ],
   "metadata": {
    "collapsed": false,
    "ExecuteTime": {
     "end_time": "2024-05-20T09:31:33.090150700Z",
     "start_time": "2024-05-20T09:31:33.076896700Z"
    }
   }
  },
  {
   "cell_type": "code",
   "execution_count": 18,
   "outputs": [
    {
     "data": {
      "text/plain": "item_Price                     7.984434e-02\nitem_RequestQuantity           5.211179e-02\nitem_Sequence                  3.358094e-02\ntransaction_DiagnosisIds       2.544493e-02\ntransaction_PatientAge         2.421929e-02\ntransaction_PatientEnGender    1.265203e-53\nName: 0, dtype: float64"
     },
     "execution_count": 18,
     "metadata": {},
     "output_type": "execute_result"
    }
   ],
   "source": [
    "nn_tran = model_runner.get_neural_network_feature_importance()\n",
    "nn_feats = pd.DataFrame(list(nn_tran),columns_needed)\n",
    "\n",
    "nn_feats[0].sort_values(ascending=False)"
   ],
   "metadata": {
    "collapsed": false,
    "ExecuteTime": {
     "end_time": "2024-05-20T09:31:49.278204900Z",
     "start_time": "2024-05-20T09:31:49.050927100Z"
    }
   }
  },
  {
   "cell_type": "markdown",
   "source": [
    "## K-Fold Analysis"
   ],
   "metadata": {
    "collapsed": false
   }
  },
  {
   "cell_type": "code",
   "execution_count": 2,
   "outputs": [],
   "source": [
    "df_original = get_input()\n",
    "preprocessing = MergedDataPreprocessing(df_original)"
   ],
   "metadata": {
    "collapsed": false,
    "ExecuteTime": {
     "end_time": "2024-05-19T11:31:03.264063300Z",
     "start_time": "2024-05-19T11:30:27.468243600Z"
    }
   }
  },
  {
   "cell_type": "code",
   "execution_count": 11,
   "outputs": [
    {
     "name": "stdout",
     "output_type": "stream",
     "text": [
      "\n",
      "\n",
      "LightGBM, Decision Tree, SGD and Neural Network are trained on dataset.\n"
     ]
    },
    {
     "name": "stderr",
     "output_type": "stream",
     "text": [
      "E:\\Projects\\Claims_Rejection\\src\\data_local.py:185: SettingWithCopyWarning: \n",
      "A value is trying to be set on a copy of a slice from a DataFrame.\n",
      "Try using .loc[row_indexer,col_indexer] = value instead\n",
      "\n",
      "See the caveats in the documentation: https://pandas.pydata.org/pandas-docs/stable/user_guide/indexing.html#returning-a-view-versus-a-copy\n",
      "  df1.loc[:, col] = df2[col].values\n",
      "E:\\Projects\\Claims_Rejection\\src\\data_local.py:185: SettingWithCopyWarning: \n",
      "A value is trying to be set on a copy of a slice from a DataFrame.\n",
      "Try using .loc[row_indexer,col_indexer] = value instead\n",
      "\n",
      "See the caveats in the documentation: https://pandas.pydata.org/pandas-docs/stable/user_guide/indexing.html#returning-a-view-versus-a-copy\n",
      "  df1.loc[:, col] = df2[col].values\n",
      "E:\\Projects\\Claims_Rejection\\src\\data_local.py:185: SettingWithCopyWarning: \n",
      "A value is trying to be set on a copy of a slice from a DataFrame.\n",
      "Try using .loc[row_indexer,col_indexer] = value instead\n",
      "\n",
      "See the caveats in the documentation: https://pandas.pydata.org/pandas-docs/stable/user_guide/indexing.html#returning-a-view-versus-a-copy\n",
      "  df1.loc[:, col] = df2[col].values\n",
      "E:\\Projects\\Claims_Rejection\\src\\data_local.py:185: SettingWithCopyWarning: \n",
      "A value is trying to be set on a copy of a slice from a DataFrame.\n",
      "Try using .loc[row_indexer,col_indexer] = value instead\n",
      "\n",
      "See the caveats in the documentation: https://pandas.pydata.org/pandas-docs/stable/user_guide/indexing.html#returning-a-view-versus-a-copy\n",
      "  df1.loc[:, col] = df2[col].values\n",
      "E:\\Projects\\Claims_Rejection\\src\\data_local.py:185: SettingWithCopyWarning: \n",
      "A value is trying to be set on a copy of a slice from a DataFrame.\n",
      "Try using .loc[row_indexer,col_indexer] = value instead\n",
      "\n",
      "See the caveats in the documentation: https://pandas.pydata.org/pandas-docs/stable/user_guide/indexing.html#returning-a-view-versus-a-copy\n",
      "  df1.loc[:, col] = df2[col].values\n",
      "E:\\Projects\\Claims_Rejection\\src\\data_local.py:185: SettingWithCopyWarning: \n",
      "A value is trying to be set on a copy of a slice from a DataFrame.\n",
      "Try using .loc[row_indexer,col_indexer] = value instead\n",
      "\n",
      "See the caveats in the documentation: https://pandas.pydata.org/pandas-docs/stable/user_guide/indexing.html#returning-a-view-versus-a-copy\n",
      "  df1.loc[:, col] = df2[col].values\n",
      "E:\\Projects\\Claims_Rejection\\src\\data_local.py:185: SettingWithCopyWarning: \n",
      "A value is trying to be set on a copy of a slice from a DataFrame.\n",
      "Try using .loc[row_indexer,col_indexer] = value instead\n",
      "\n",
      "See the caveats in the documentation: https://pandas.pydata.org/pandas-docs/stable/user_guide/indexing.html#returning-a-view-versus-a-copy\n",
      "  df1.loc[:, col] = df2[col].values\n",
      "E:\\Projects\\Claims_Rejection\\src\\data_local.py:185: SettingWithCopyWarning: \n",
      "A value is trying to be set on a copy of a slice from a DataFrame.\n",
      "Try using .loc[row_indexer,col_indexer] = value instead\n",
      "\n",
      "See the caveats in the documentation: https://pandas.pydata.org/pandas-docs/stable/user_guide/indexing.html#returning-a-view-versus-a-copy\n",
      "  df1.loc[:, col] = df2[col].values\n",
      "E:\\Projects\\Claims_Rejection\\src\\data_local.py:185: SettingWithCopyWarning: \n",
      "A value is trying to be set on a copy of a slice from a DataFrame.\n",
      "Try using .loc[row_indexer,col_indexer] = value instead\n",
      "\n",
      "See the caveats in the documentation: https://pandas.pydata.org/pandas-docs/stable/user_guide/indexing.html#returning-a-view-versus-a-copy\n",
      "  df1.loc[:, col] = df2[col].values\n",
      "E:\\Projects\\Claims_Rejection\\src\\data_local.py:185: SettingWithCopyWarning: \n",
      "A value is trying to be set on a copy of a slice from a DataFrame.\n",
      "Try using .loc[row_indexer,col_indexer] = value instead\n",
      "\n",
      "See the caveats in the documentation: https://pandas.pydata.org/pandas-docs/stable/user_guide/indexing.html#returning-a-view-versus-a-copy\n",
      "  df1.loc[:, col] = df2[col].values\n"
     ]
    },
    {
     "name": "stdout",
     "output_type": "stream",
     "text": [
      "[LightGBM] [Info] Number of positive: 7437, number of negative: 7506\n",
      "[LightGBM] [Info] Total Bins 1303\n",
      "[LightGBM] [Info] Number of data points in the train set: 14943, number of used features: 22\n",
      "[LightGBM] [Info] [binary:BoostFromScore]: pavg=0.497691 -> initscore=-0.009235\n",
      "[LightGBM] [Info] Start training from score -0.009235\n",
      "\n",
      "\n",
      "LightGBM, Decision Tree, SGD and Neural Network are trained on dataset.\n"
     ]
    },
    {
     "name": "stderr",
     "output_type": "stream",
     "text": [
      "E:\\Projects\\Claims_Rejection\\src\\data_local.py:185: SettingWithCopyWarning: \n",
      "A value is trying to be set on a copy of a slice from a DataFrame.\n",
      "Try using .loc[row_indexer,col_indexer] = value instead\n",
      "\n",
      "See the caveats in the documentation: https://pandas.pydata.org/pandas-docs/stable/user_guide/indexing.html#returning-a-view-versus-a-copy\n",
      "  df1.loc[:, col] = df2[col].values\n",
      "E:\\Projects\\Claims_Rejection\\src\\data_local.py:185: SettingWithCopyWarning: \n",
      "A value is trying to be set on a copy of a slice from a DataFrame.\n",
      "Try using .loc[row_indexer,col_indexer] = value instead\n",
      "\n",
      "See the caveats in the documentation: https://pandas.pydata.org/pandas-docs/stable/user_guide/indexing.html#returning-a-view-versus-a-copy\n",
      "  df1.loc[:, col] = df2[col].values\n",
      "E:\\Projects\\Claims_Rejection\\src\\data_local.py:185: SettingWithCopyWarning: \n",
      "A value is trying to be set on a copy of a slice from a DataFrame.\n",
      "Try using .loc[row_indexer,col_indexer] = value instead\n",
      "\n",
      "See the caveats in the documentation: https://pandas.pydata.org/pandas-docs/stable/user_guide/indexing.html#returning-a-view-versus-a-copy\n",
      "  df1.loc[:, col] = df2[col].values\n",
      "E:\\Projects\\Claims_Rejection\\src\\data_local.py:185: SettingWithCopyWarning: \n",
      "A value is trying to be set on a copy of a slice from a DataFrame.\n",
      "Try using .loc[row_indexer,col_indexer] = value instead\n",
      "\n",
      "See the caveats in the documentation: https://pandas.pydata.org/pandas-docs/stable/user_guide/indexing.html#returning-a-view-versus-a-copy\n",
      "  df1.loc[:, col] = df2[col].values\n",
      "E:\\Projects\\Claims_Rejection\\src\\data_local.py:185: SettingWithCopyWarning: \n",
      "A value is trying to be set on a copy of a slice from a DataFrame.\n",
      "Try using .loc[row_indexer,col_indexer] = value instead\n",
      "\n",
      "See the caveats in the documentation: https://pandas.pydata.org/pandas-docs/stable/user_guide/indexing.html#returning-a-view-versus-a-copy\n",
      "  df1.loc[:, col] = df2[col].values\n",
      "E:\\Projects\\Claims_Rejection\\src\\data_local.py:185: SettingWithCopyWarning: \n",
      "A value is trying to be set on a copy of a slice from a DataFrame.\n",
      "Try using .loc[row_indexer,col_indexer] = value instead\n",
      "\n",
      "See the caveats in the documentation: https://pandas.pydata.org/pandas-docs/stable/user_guide/indexing.html#returning-a-view-versus-a-copy\n",
      "  df1.loc[:, col] = df2[col].values\n",
      "E:\\Projects\\Claims_Rejection\\src\\data_local.py:185: SettingWithCopyWarning: \n",
      "A value is trying to be set on a copy of a slice from a DataFrame.\n",
      "Try using .loc[row_indexer,col_indexer] = value instead\n",
      "\n",
      "See the caveats in the documentation: https://pandas.pydata.org/pandas-docs/stable/user_guide/indexing.html#returning-a-view-versus-a-copy\n",
      "  df1.loc[:, col] = df2[col].values\n",
      "E:\\Projects\\Claims_Rejection\\src\\data_local.py:185: SettingWithCopyWarning: \n",
      "A value is trying to be set on a copy of a slice from a DataFrame.\n",
      "Try using .loc[row_indexer,col_indexer] = value instead\n",
      "\n",
      "See the caveats in the documentation: https://pandas.pydata.org/pandas-docs/stable/user_guide/indexing.html#returning-a-view-versus-a-copy\n",
      "  df1.loc[:, col] = df2[col].values\n",
      "E:\\Projects\\Claims_Rejection\\src\\data_local.py:185: SettingWithCopyWarning: \n",
      "A value is trying to be set on a copy of a slice from a DataFrame.\n",
      "Try using .loc[row_indexer,col_indexer] = value instead\n",
      "\n",
      "See the caveats in the documentation: https://pandas.pydata.org/pandas-docs/stable/user_guide/indexing.html#returning-a-view-versus-a-copy\n",
      "  df1.loc[:, col] = df2[col].values\n",
      "E:\\Projects\\Claims_Rejection\\src\\data_local.py:185: SettingWithCopyWarning: \n",
      "A value is trying to be set on a copy of a slice from a DataFrame.\n",
      "Try using .loc[row_indexer,col_indexer] = value instead\n",
      "\n",
      "See the caveats in the documentation: https://pandas.pydata.org/pandas-docs/stable/user_guide/indexing.html#returning-a-view-versus-a-copy\n",
      "  df1.loc[:, col] = df2[col].values\n"
     ]
    },
    {
     "name": "stdout",
     "output_type": "stream",
     "text": [
      "[LightGBM] [Info] Number of positive: 7480, number of negative: 7714\n",
      "[LightGBM] [Info] Total Bins 1317\n",
      "[LightGBM] [Info] Number of data points in the train set: 15194, number of used features: 22\n",
      "[LightGBM] [Info] [binary:BoostFromScore]: pavg=0.492300 -> initscore=-0.030804\n",
      "[LightGBM] [Info] Start training from score -0.030804\n",
      "\n",
      "\n",
      "LightGBM, Decision Tree, SGD and Neural Network are trained on dataset.\n"
     ]
    },
    {
     "name": "stderr",
     "output_type": "stream",
     "text": [
      "E:\\Projects\\Claims_Rejection\\src\\data_local.py:185: SettingWithCopyWarning: \n",
      "A value is trying to be set on a copy of a slice from a DataFrame.\n",
      "Try using .loc[row_indexer,col_indexer] = value instead\n",
      "\n",
      "See the caveats in the documentation: https://pandas.pydata.org/pandas-docs/stable/user_guide/indexing.html#returning-a-view-versus-a-copy\n",
      "  df1.loc[:, col] = df2[col].values\n",
      "E:\\Projects\\Claims_Rejection\\src\\data_local.py:185: SettingWithCopyWarning: \n",
      "A value is trying to be set on a copy of a slice from a DataFrame.\n",
      "Try using .loc[row_indexer,col_indexer] = value instead\n",
      "\n",
      "See the caveats in the documentation: https://pandas.pydata.org/pandas-docs/stable/user_guide/indexing.html#returning-a-view-versus-a-copy\n",
      "  df1.loc[:, col] = df2[col].values\n",
      "E:\\Projects\\Claims_Rejection\\src\\data_local.py:185: SettingWithCopyWarning: \n",
      "A value is trying to be set on a copy of a slice from a DataFrame.\n",
      "Try using .loc[row_indexer,col_indexer] = value instead\n",
      "\n",
      "See the caveats in the documentation: https://pandas.pydata.org/pandas-docs/stable/user_guide/indexing.html#returning-a-view-versus-a-copy\n",
      "  df1.loc[:, col] = df2[col].values\n",
      "E:\\Projects\\Claims_Rejection\\src\\data_local.py:185: SettingWithCopyWarning: \n",
      "A value is trying to be set on a copy of a slice from a DataFrame.\n",
      "Try using .loc[row_indexer,col_indexer] = value instead\n",
      "\n",
      "See the caveats in the documentation: https://pandas.pydata.org/pandas-docs/stable/user_guide/indexing.html#returning-a-view-versus-a-copy\n",
      "  df1.loc[:, col] = df2[col].values\n",
      "E:\\Projects\\Claims_Rejection\\src\\data_local.py:185: SettingWithCopyWarning: \n",
      "A value is trying to be set on a copy of a slice from a DataFrame.\n",
      "Try using .loc[row_indexer,col_indexer] = value instead\n",
      "\n",
      "See the caveats in the documentation: https://pandas.pydata.org/pandas-docs/stable/user_guide/indexing.html#returning-a-view-versus-a-copy\n",
      "  df1.loc[:, col] = df2[col].values\n",
      "E:\\Projects\\Claims_Rejection\\src\\data_local.py:185: SettingWithCopyWarning: \n",
      "A value is trying to be set on a copy of a slice from a DataFrame.\n",
      "Try using .loc[row_indexer,col_indexer] = value instead\n",
      "\n",
      "See the caveats in the documentation: https://pandas.pydata.org/pandas-docs/stable/user_guide/indexing.html#returning-a-view-versus-a-copy\n",
      "  df1.loc[:, col] = df2[col].values\n",
      "E:\\Projects\\Claims_Rejection\\src\\data_local.py:185: SettingWithCopyWarning: \n",
      "A value is trying to be set on a copy of a slice from a DataFrame.\n",
      "Try using .loc[row_indexer,col_indexer] = value instead\n",
      "\n",
      "See the caveats in the documentation: https://pandas.pydata.org/pandas-docs/stable/user_guide/indexing.html#returning-a-view-versus-a-copy\n",
      "  df1.loc[:, col] = df2[col].values\n",
      "E:\\Projects\\Claims_Rejection\\src\\data_local.py:185: SettingWithCopyWarning: \n",
      "A value is trying to be set on a copy of a slice from a DataFrame.\n",
      "Try using .loc[row_indexer,col_indexer] = value instead\n",
      "\n",
      "See the caveats in the documentation: https://pandas.pydata.org/pandas-docs/stable/user_guide/indexing.html#returning-a-view-versus-a-copy\n",
      "  df1.loc[:, col] = df2[col].values\n",
      "E:\\Projects\\Claims_Rejection\\src\\data_local.py:185: SettingWithCopyWarning: \n",
      "A value is trying to be set on a copy of a slice from a DataFrame.\n",
      "Try using .loc[row_indexer,col_indexer] = value instead\n",
      "\n",
      "See the caveats in the documentation: https://pandas.pydata.org/pandas-docs/stable/user_guide/indexing.html#returning-a-view-versus-a-copy\n",
      "  df1.loc[:, col] = df2[col].values\n",
      "E:\\Projects\\Claims_Rejection\\src\\data_local.py:185: SettingWithCopyWarning: \n",
      "A value is trying to be set on a copy of a slice from a DataFrame.\n",
      "Try using .loc[row_indexer,col_indexer] = value instead\n",
      "\n",
      "See the caveats in the documentation: https://pandas.pydata.org/pandas-docs/stable/user_guide/indexing.html#returning-a-view-versus-a-copy\n",
      "  df1.loc[:, col] = df2[col].values\n"
     ]
    },
    {
     "name": "stdout",
     "output_type": "stream",
     "text": [
      "[LightGBM] [Info] Number of positive: 7558, number of negative: 7626\n",
      "[LightGBM] [Info] Total Bins 1298\n",
      "[LightGBM] [Info] Number of data points in the train set: 15184, number of used features: 22\n",
      "[LightGBM] [Info] [binary:BoostFromScore]: pavg=0.497761 -> initscore=-0.008957\n",
      "[LightGBM] [Info] Start training from score -0.008957\n",
      "\n",
      "\n",
      "LightGBM, Decision Tree, SGD and Neural Network are trained on dataset.\n"
     ]
    },
    {
     "name": "stderr",
     "output_type": "stream",
     "text": [
      "E:\\Projects\\Claims_Rejection\\src\\data_local.py:185: SettingWithCopyWarning: \n",
      "A value is trying to be set on a copy of a slice from a DataFrame.\n",
      "Try using .loc[row_indexer,col_indexer] = value instead\n",
      "\n",
      "See the caveats in the documentation: https://pandas.pydata.org/pandas-docs/stable/user_guide/indexing.html#returning-a-view-versus-a-copy\n",
      "  df1.loc[:, col] = df2[col].values\n",
      "E:\\Projects\\Claims_Rejection\\src\\data_local.py:185: SettingWithCopyWarning: \n",
      "A value is trying to be set on a copy of a slice from a DataFrame.\n",
      "Try using .loc[row_indexer,col_indexer] = value instead\n",
      "\n",
      "See the caveats in the documentation: https://pandas.pydata.org/pandas-docs/stable/user_guide/indexing.html#returning-a-view-versus-a-copy\n",
      "  df1.loc[:, col] = df2[col].values\n",
      "E:\\Projects\\Claims_Rejection\\src\\data_local.py:185: SettingWithCopyWarning: \n",
      "A value is trying to be set on a copy of a slice from a DataFrame.\n",
      "Try using .loc[row_indexer,col_indexer] = value instead\n",
      "\n",
      "See the caveats in the documentation: https://pandas.pydata.org/pandas-docs/stable/user_guide/indexing.html#returning-a-view-versus-a-copy\n",
      "  df1.loc[:, col] = df2[col].values\n",
      "E:\\Projects\\Claims_Rejection\\src\\data_local.py:185: SettingWithCopyWarning: \n",
      "A value is trying to be set on a copy of a slice from a DataFrame.\n",
      "Try using .loc[row_indexer,col_indexer] = value instead\n",
      "\n",
      "See the caveats in the documentation: https://pandas.pydata.org/pandas-docs/stable/user_guide/indexing.html#returning-a-view-versus-a-copy\n",
      "  df1.loc[:, col] = df2[col].values\n",
      "E:\\Projects\\Claims_Rejection\\src\\data_local.py:185: SettingWithCopyWarning: \n",
      "A value is trying to be set on a copy of a slice from a DataFrame.\n",
      "Try using .loc[row_indexer,col_indexer] = value instead\n",
      "\n",
      "See the caveats in the documentation: https://pandas.pydata.org/pandas-docs/stable/user_guide/indexing.html#returning-a-view-versus-a-copy\n",
      "  df1.loc[:, col] = df2[col].values\n",
      "E:\\Projects\\Claims_Rejection\\src\\data_local.py:185: SettingWithCopyWarning: \n",
      "A value is trying to be set on a copy of a slice from a DataFrame.\n",
      "Try using .loc[row_indexer,col_indexer] = value instead\n",
      "\n",
      "See the caveats in the documentation: https://pandas.pydata.org/pandas-docs/stable/user_guide/indexing.html#returning-a-view-versus-a-copy\n",
      "  df1.loc[:, col] = df2[col].values\n",
      "E:\\Projects\\Claims_Rejection\\src\\data_local.py:185: SettingWithCopyWarning: \n",
      "A value is trying to be set on a copy of a slice from a DataFrame.\n",
      "Try using .loc[row_indexer,col_indexer] = value instead\n",
      "\n",
      "See the caveats in the documentation: https://pandas.pydata.org/pandas-docs/stable/user_guide/indexing.html#returning-a-view-versus-a-copy\n",
      "  df1.loc[:, col] = df2[col].values\n",
      "E:\\Projects\\Claims_Rejection\\src\\data_local.py:185: SettingWithCopyWarning: \n",
      "A value is trying to be set on a copy of a slice from a DataFrame.\n",
      "Try using .loc[row_indexer,col_indexer] = value instead\n",
      "\n",
      "See the caveats in the documentation: https://pandas.pydata.org/pandas-docs/stable/user_guide/indexing.html#returning-a-view-versus-a-copy\n",
      "  df1.loc[:, col] = df2[col].values\n",
      "E:\\Projects\\Claims_Rejection\\src\\data_local.py:185: SettingWithCopyWarning: \n",
      "A value is trying to be set on a copy of a slice from a DataFrame.\n",
      "Try using .loc[row_indexer,col_indexer] = value instead\n",
      "\n",
      "See the caveats in the documentation: https://pandas.pydata.org/pandas-docs/stable/user_guide/indexing.html#returning-a-view-versus-a-copy\n",
      "  df1.loc[:, col] = df2[col].values\n",
      "E:\\Projects\\Claims_Rejection\\src\\data_local.py:185: SettingWithCopyWarning: \n",
      "A value is trying to be set on a copy of a slice from a DataFrame.\n",
      "Try using .loc[row_indexer,col_indexer] = value instead\n",
      "\n",
      "See the caveats in the documentation: https://pandas.pydata.org/pandas-docs/stable/user_guide/indexing.html#returning-a-view-versus-a-copy\n",
      "  df1.loc[:, col] = df2[col].values\n"
     ]
    },
    {
     "name": "stdout",
     "output_type": "stream",
     "text": [
      "[LightGBM] [Info] Number of positive: 7480, number of negative: 7518\n",
      "[LightGBM] [Info] Total Bins 1300\n",
      "[LightGBM] [Info] Number of data points in the train set: 14998, number of used features: 22\n",
      "[LightGBM] [Info] [binary:BoostFromScore]: pavg=0.498733 -> initscore=-0.005067\n",
      "[LightGBM] [Info] Start training from score -0.005067\n",
      "\n",
      "\n",
      "LightGBM, Decision Tree, SGD and Neural Network are trained on dataset.\n"
     ]
    }
   ],
   "source": [
    "df_acc = validate_folds(df_original)"
   ],
   "metadata": {
    "collapsed": false
   }
  },
  {
   "cell_type": "code",
   "execution_count": 12,
   "outputs": [
    {
     "data": {
      "text/plain": "   Decision Tree  LightGBM  SGD Classifier  XGBoost  Neural Network\n0             67        72              49       72              67\n1             67        72              49       72              64\n2             67        70              49       72              68\n3             69        72              51       74              67\n4             68        72              48       72              67",
      "text/html": "<div>\n<style scoped>\n    .dataframe tbody tr th:only-of-type {\n        vertical-align: middle;\n    }\n\n    .dataframe tbody tr th {\n        vertical-align: top;\n    }\n\n    .dataframe thead th {\n        text-align: right;\n    }\n</style>\n<table border=\"1\" class=\"dataframe\">\n  <thead>\n    <tr style=\"text-align: right;\">\n      <th></th>\n      <th>Decision Tree</th>\n      <th>LightGBM</th>\n      <th>SGD Classifier</th>\n      <th>XGBoost</th>\n      <th>Neural Network</th>\n    </tr>\n  </thead>\n  <tbody>\n    <tr>\n      <th>0</th>\n      <td>67</td>\n      <td>72</td>\n      <td>49</td>\n      <td>72</td>\n      <td>67</td>\n    </tr>\n    <tr>\n      <th>1</th>\n      <td>67</td>\n      <td>72</td>\n      <td>49</td>\n      <td>72</td>\n      <td>64</td>\n    </tr>\n    <tr>\n      <th>2</th>\n      <td>67</td>\n      <td>70</td>\n      <td>49</td>\n      <td>72</td>\n      <td>68</td>\n    </tr>\n    <tr>\n      <th>3</th>\n      <td>69</td>\n      <td>72</td>\n      <td>51</td>\n      <td>74</td>\n      <td>67</td>\n    </tr>\n    <tr>\n      <th>4</th>\n      <td>68</td>\n      <td>72</td>\n      <td>48</td>\n      <td>72</td>\n      <td>67</td>\n    </tr>\n  </tbody>\n</table>\n</div>"
     },
     "execution_count": 12,
     "metadata": {},
     "output_type": "execute_result"
    }
   ],
   "source": [
    "df_acc"
   ],
   "metadata": {
    "collapsed": false,
    "ExecuteTime": {
     "end_time": "2024-05-19T11:41:57.929888700Z",
     "start_time": "2024-05-19T11:41:57.904956300Z"
    }
   }
  },
  {
   "cell_type": "code",
   "execution_count": null,
   "outputs": [],
   "source": [
    "## XGBoost 72.5% accuracy, Neural Networks 66%  accuracy which can definitely be improved"
   ],
   "metadata": {
    "collapsed": false
   }
  }
 ],
 "metadata": {
  "kernelspec": {
   "display_name": "Python 3",
   "language": "python",
   "name": "python3"
  },
  "language_info": {
   "codemirror_mode": {
    "name": "ipython",
    "version": 2
   },
   "file_extension": ".py",
   "mimetype": "text/x-python",
   "name": "python",
   "nbconvert_exporter": "python",
   "pygments_lexer": "ipython2",
   "version": "2.7.6"
  }
 },
 "nbformat": 4,
 "nbformat_minor": 0
}
