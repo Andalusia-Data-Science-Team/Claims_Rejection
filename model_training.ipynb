{
 "cells": [
  {
   "cell_type": "code",
   "execution_count": 1,
   "metadata": {
    "collapsed": true,
    "ExecuteTime": {
     "end_time": "2024-08-25T09:32:18.866738300Z",
     "start_time": "2024-08-25T09:31:25.070052900Z"
    }
   },
   "outputs": [],
   "source": [
    "from src.model_train import ModelTrainer, validate_folds\n",
    "import pandas as pd\n",
    "\n",
    "from cashe import get_training_inputs, drop_nomodel_columns, get_train_test_split\n",
    "from src.data_local import MergedDataPreprocessing,read_last_date, append_last_line\n",
    "from src.lstm_encoder import LSTMEmbedding\n",
    "from src.model_app import ModelApplication"
   ]
  },
  {
   "cell_type": "code",
   "execution_count": 3,
   "outputs": [],
   "source": [
    "df_train, df_test = get_train_test_split(path='data/HJH/12-06-2024')"
   ],
   "metadata": {
    "collapsed": false,
    "ExecuteTime": {
     "end_time": "2024-08-25T09:32:44.508463500Z",
     "start_time": "2024-08-25T09:32:41.877686100Z"
    }
   }
  },
  {
   "cell_type": "code",
   "execution_count": 4,
   "outputs": [
    {
     "data": {
      "text/plain": "        CREATED_BY_USER       CREATION_DATE  VISIT_ID  NET_WITH_VAT  \\\n398359             9643 2024-01-01 12:33:25    194135        134.40   \n398360             9643 2024-01-01 12:38:12    194136        138.00   \n398361             9643 2024-01-01 12:38:36    194137         12.98   \n398365             9643 2024-01-01 12:38:36    194137          1.56   \n398364             9643 2024-01-01 12:38:36    194137       1427.30   \n\n            SERVICE_DESCRIPTION  QTY  LINE_CLAIMED_AMOUNT  \\\n398359  Consultant Consultation  1.0               120.00   \n398360             Consultation  1.0               120.00   \n398361            Unlisted Code  1.0                16.13   \n398365      SPASMOPAN 20MG AMP.  1.0                 1.69   \n398364   Therapeutic ultrasound  1.0              1791.68   \n\n        LINE_CLAIMED_AMOUNT_SAR  CO_PAY  CO_INSURANCE  ...  ATTACHMENT_TYPE  \\\n398359                   120.00   24.00         96.00  ...             FILE   \n398360                   120.00    0.00        120.00  ...             FILE   \n398361                    16.13    0.00         16.13  ...             FILE   \n398365                     1.69    0.31          1.38  ...             FILE   \n398364                  1791.68  100.00       1691.68  ...             FILE   \n\n        NEW_BORN  PATIENT_IDENTITY_TYPE  BILLABLE_PERIOD_START  \\\n398359         N                     IQ             2023-12-07   \n398360         N                      H             2023-12-06   \n398361         N                      H             2023-12-03   \n398365         N                      H             2023-12-03   \n398364         N                      H             2023-12-03   \n\n        BILLABLE_PERIOD_END  BATCH_PERIOD_START BATCH_PERIOD_END  Episode_Key  \\\n398359           2023-12-21          2023-12-01       2023-12-10  1_1346536-2   \n398360           2023-12-20          2023-12-01       2023-12-10  1_1343530-4   \n398361           2023-12-04          2023-12-01       2023-12-10  1_1343731-2   \n398365           2023-12-04          2023-12-01       2023-12-10  1_1343731-2   \n398364           2023-12-04          2023-12-01       2023-12-10  1_1343731-2   \n\n        ICD10  Diagnosis_Key  \n398359    J93   1_1111225808  \n398360    K02   1_1111225570  \n398361  N80.1   1_1111228814  \n398365  N80.1   1_1111228814  \n398364  N80.1   1_1111228814  \n\n[5 rows x 96 columns]",
      "text/html": "<div>\n<style scoped>\n    .dataframe tbody tr th:only-of-type {\n        vertical-align: middle;\n    }\n\n    .dataframe tbody tr th {\n        vertical-align: top;\n    }\n\n    .dataframe thead th {\n        text-align: right;\n    }\n</style>\n<table border=\"1\" class=\"dataframe\">\n  <thead>\n    <tr style=\"text-align: right;\">\n      <th></th>\n      <th>CREATED_BY_USER</th>\n      <th>CREATION_DATE</th>\n      <th>VISIT_ID</th>\n      <th>NET_WITH_VAT</th>\n      <th>SERVICE_DESCRIPTION</th>\n      <th>QTY</th>\n      <th>LINE_CLAIMED_AMOUNT</th>\n      <th>LINE_CLAIMED_AMOUNT_SAR</th>\n      <th>CO_PAY</th>\n      <th>CO_INSURANCE</th>\n      <th>...</th>\n      <th>ATTACHMENT_TYPE</th>\n      <th>NEW_BORN</th>\n      <th>PATIENT_IDENTITY_TYPE</th>\n      <th>BILLABLE_PERIOD_START</th>\n      <th>BILLABLE_PERIOD_END</th>\n      <th>BATCH_PERIOD_START</th>\n      <th>BATCH_PERIOD_END</th>\n      <th>Episode_Key</th>\n      <th>ICD10</th>\n      <th>Diagnosis_Key</th>\n    </tr>\n  </thead>\n  <tbody>\n    <tr>\n      <th>398359</th>\n      <td>9643</td>\n      <td>2024-01-01 12:33:25</td>\n      <td>194135</td>\n      <td>134.40</td>\n      <td>Consultant Consultation</td>\n      <td>1.0</td>\n      <td>120.00</td>\n      <td>120.00</td>\n      <td>24.00</td>\n      <td>96.00</td>\n      <td>...</td>\n      <td>FILE</td>\n      <td>N</td>\n      <td>IQ</td>\n      <td>2023-12-07</td>\n      <td>2023-12-21</td>\n      <td>2023-12-01</td>\n      <td>2023-12-10</td>\n      <td>1_1346536-2</td>\n      <td>J93</td>\n      <td>1_1111225808</td>\n    </tr>\n    <tr>\n      <th>398360</th>\n      <td>9643</td>\n      <td>2024-01-01 12:38:12</td>\n      <td>194136</td>\n      <td>138.00</td>\n      <td>Consultation</td>\n      <td>1.0</td>\n      <td>120.00</td>\n      <td>120.00</td>\n      <td>0.00</td>\n      <td>120.00</td>\n      <td>...</td>\n      <td>FILE</td>\n      <td>N</td>\n      <td>H</td>\n      <td>2023-12-06</td>\n      <td>2023-12-20</td>\n      <td>2023-12-01</td>\n      <td>2023-12-10</td>\n      <td>1_1343530-4</td>\n      <td>K02</td>\n      <td>1_1111225570</td>\n    </tr>\n    <tr>\n      <th>398361</th>\n      <td>9643</td>\n      <td>2024-01-01 12:38:36</td>\n      <td>194137</td>\n      <td>12.98</td>\n      <td>Unlisted Code</td>\n      <td>1.0</td>\n      <td>16.13</td>\n      <td>16.13</td>\n      <td>0.00</td>\n      <td>16.13</td>\n      <td>...</td>\n      <td>FILE</td>\n      <td>N</td>\n      <td>H</td>\n      <td>2023-12-03</td>\n      <td>2023-12-04</td>\n      <td>2023-12-01</td>\n      <td>2023-12-10</td>\n      <td>1_1343731-2</td>\n      <td>N80.1</td>\n      <td>1_1111228814</td>\n    </tr>\n    <tr>\n      <th>398365</th>\n      <td>9643</td>\n      <td>2024-01-01 12:38:36</td>\n      <td>194137</td>\n      <td>1.56</td>\n      <td>SPASMOPAN 20MG AMP.</td>\n      <td>1.0</td>\n      <td>1.69</td>\n      <td>1.69</td>\n      <td>0.31</td>\n      <td>1.38</td>\n      <td>...</td>\n      <td>FILE</td>\n      <td>N</td>\n      <td>H</td>\n      <td>2023-12-03</td>\n      <td>2023-12-04</td>\n      <td>2023-12-01</td>\n      <td>2023-12-10</td>\n      <td>1_1343731-2</td>\n      <td>N80.1</td>\n      <td>1_1111228814</td>\n    </tr>\n    <tr>\n      <th>398364</th>\n      <td>9643</td>\n      <td>2024-01-01 12:38:36</td>\n      <td>194137</td>\n      <td>1427.30</td>\n      <td>Therapeutic ultrasound</td>\n      <td>1.0</td>\n      <td>1791.68</td>\n      <td>1791.68</td>\n      <td>100.00</td>\n      <td>1691.68</td>\n      <td>...</td>\n      <td>FILE</td>\n      <td>N</td>\n      <td>H</td>\n      <td>2023-12-03</td>\n      <td>2023-12-04</td>\n      <td>2023-12-01</td>\n      <td>2023-12-10</td>\n      <td>1_1343731-2</td>\n      <td>N80.1</td>\n      <td>1_1111228814</td>\n    </tr>\n  </tbody>\n</table>\n<p>5 rows × 96 columns</p>\n</div>"
     },
     "execution_count": 4,
     "metadata": {},
     "output_type": "execute_result"
    }
   ],
   "source": [
    "df_train.head()"
   ],
   "metadata": {
    "collapsed": false,
    "ExecuteTime": {
     "end_time": "2024-08-25T09:32:51.705160700Z",
     "start_time": "2024-08-25T09:32:51.637194700Z"
    }
   }
  },
  {
   "cell_type": "code",
   "execution_count": 17,
   "outputs": [
    {
     "data": {
      "text/plain": "322046   2024-04-06 13:18:08\n322044   2024-04-06 13:18:08\n322048   2024-04-06 13:18:09\n322047   2024-04-06 13:18:09\n304945   2024-04-06 13:18:25\n                 ...        \n164557   2024-05-30 11:46:53\n164569   2024-05-30 11:46:53\n164554   2024-05-30 11:46:53\n164566   2024-05-30 11:46:53\n164579   2024-05-30 11:46:53\nName: CREATION_DATE, Length: 41422, dtype: datetime64[ns]"
     },
     "execution_count": 17,
     "metadata": {},
     "output_type": "execute_result"
    }
   ],
   "source": [
    "df_test.CREATION_DATE.sort_values() ## ranges in the last 2 months only after updating split func."
   ],
   "metadata": {
    "collapsed": false,
    "ExecuteTime": {
     "end_time": "2024-08-25T09:43:41.113792300Z",
     "start_time": "2024-08-25T09:43:41.072817200Z"
    }
   }
  },
  {
   "cell_type": "code",
   "execution_count": 5,
   "outputs": [
    {
     "data": {
      "text/plain": "'2024-04-30'"
     },
     "execution_count": 5,
     "metadata": {},
     "output_type": "execute_result"
    }
   ],
   "source": [
    "read_last_date()"
   ],
   "metadata": {
    "collapsed": false,
    "ExecuteTime": {
     "end_time": "2024-08-25T09:33:01.698721900Z",
     "start_time": "2024-08-25T09:33:01.659211900Z"
    }
   }
  },
  {
   "cell_type": "code",
   "execution_count": 6,
   "outputs": [],
   "source": [
    "X_train, y_train, X_test, y_test = get_training_inputs(df_train, df_test)"
   ],
   "metadata": {
    "collapsed": false,
    "ExecuteTime": {
     "end_time": "2024-08-25T09:33:15.025099400Z",
     "start_time": "2024-08-25T09:33:14.846940700Z"
    }
   }
  },
  {
   "cell_type": "code",
   "execution_count": 7,
   "outputs": [
    {
     "name": "stderr",
     "output_type": "stream",
     "text": [
      "E:\\Projects\\Claims_Rejection\\src\\data_local.py:276: FutureWarning: Downcasting behavior in `replace` is deprecated and will be removed in a future version. To retain the old behavior, explicitly call `result.infer_objects(copy=False)`. To opt-in to the future behavior, set `pd.set_option('future.no_silent_downcasting', True)`\n",
      "  df[column] = df[column].replace(column_encoding)\n",
      "E:\\Projects\\Claims_Rejection\\src\\data_local.py:283: FutureWarning: Downcasting behavior in `replace` is deprecated and will be removed in a future version. To retain the old behavior, explicitly call `result.infer_objects(copy=False)`. To opt-in to the future behavior, set `pd.set_option('future.no_silent_downcasting', True)`\n",
      "  df['PatientAgeRange'] = df.PatientAgeRange.replace(age_encoding)\n",
      "E:\\Projects\\Claims_Rejection\\src\\data_local.py:276: FutureWarning: Downcasting behavior in `replace` is deprecated and will be removed in a future version. To retain the old behavior, explicitly call `result.infer_objects(copy=False)`. To opt-in to the future behavior, set `pd.set_option('future.no_silent_downcasting', True)`\n",
      "  df[column] = df[column].replace(column_encoding)\n",
      "E:\\Projects\\Claims_Rejection\\src\\data_local.py:283: FutureWarning: Downcasting behavior in `replace` is deprecated and will be removed in a future version. To retain the old behavior, explicitly call `result.infer_objects(copy=False)`. To opt-in to the future behavior, set `pd.set_option('future.no_silent_downcasting', True)`\n",
      "  df['PatientAgeRange'] = df.PatientAgeRange.replace(age_encoding)\n"
     ]
    }
   ],
   "source": [
    "preprocessing_train = MergedDataPreprocessing(X_train)\n",
    "X_train_prep = preprocessing_train.columns_prep()\n",
    "\n",
    "preprocessing_test = MergedDataPreprocessing(X_test)\n",
    "X_test_prep = preprocessing_test.columns_prep()"
   ],
   "metadata": {
    "collapsed": false,
    "ExecuteTime": {
     "end_time": "2024-08-25T09:39:21.969366400Z",
     "start_time": "2024-08-25T09:34:47.337248Z"
    }
   }
  },
  {
   "cell_type": "code",
   "execution_count": 8,
   "outputs": [],
   "source": [
    "lstm_embedding = LSTMEmbedding()\n",
    "\n",
    "X_train_encoded = preprocessing_train.column_embedding(X_train_prep)\n",
    "X_test_encoded = preprocessing_train.column_embedding(X_test_prep)\n",
    "\n",
    "X_train_encoded = preprocessing_train.column_embedding(X_train_encoded, is_service=False)\n",
    "X_test_encoded = preprocessing_train.column_embedding(X_test_encoded, is_service=False)"
   ],
   "metadata": {
    "collapsed": false,
    "ExecuteTime": {
     "end_time": "2024-08-25T09:39:30.868977800Z",
     "start_time": "2024-08-25T09:39:22.046159500Z"
    }
   }
  },
  {
   "cell_type": "code",
   "execution_count": 9,
   "outputs": [],
   "source": [
    "X_train = drop_nomodel_columns(X_train_encoded)\n",
    "X_test  = drop_nomodel_columns(X_test_encoded)"
   ],
   "metadata": {
    "collapsed": false,
    "ExecuteTime": {
     "end_time": "2024-08-25T09:40:11.676665400Z",
     "start_time": "2024-08-25T09:40:09.649978300Z"
    }
   }
  },
  {
   "cell_type": "code",
   "execution_count": 10,
   "outputs": [
    {
     "data": {
      "text/plain": "        NET_WITH_VAT  QTY  LINE_CLAIMED_AMOUNT_SAR  CO_INSURANCE  \\\n398359        134.40  1.0                   120.00         96.00   \n398360        138.00  1.0                   120.00        120.00   \n398361         12.98  1.0                    16.13         16.13   \n398365          1.56  1.0                     1.69          1.38   \n398364       1427.30  1.0                  1791.68       1691.68   \n...              ...  ...                      ...           ...   \n301411        220.80  1.0                   256.00        256.00   \n301412        380.36  1.0                   441.00        441.00   \n301413        232.01  1.0                   269.00        269.00   \n316581        201.60  1.0                   180.00        144.00   \n322045        299.29  1.0                   347.00        347.00   \n\n        LINE_ITEM_DISCOUNT  NET_VAT_AMOUNT  PATIENT_VAT_AMOUNT  \\\n398359                0.00           14.40                 3.6   \n398360                0.00           18.00                 0.0   \n398361                4.84            1.69                 0.0   \n398365                0.13            0.00                 0.0   \n398364              537.51          173.13                 0.0   \n...                    ...             ...                 ...   \n301411               64.00           28.80                 0.0   \n301412              110.25           49.61                 0.0   \n301413               67.25           30.26                 0.0   \n316581                0.00           21.60                 5.4   \n322045               86.75           39.04                 0.0   \n\n        VAT_PERCENTAGE  TREATMENT_TYPE_INDICATOR  DURATION  ...  ICDText7  \\\n398359            0.15                         2       0.0  ...         0   \n398360            0.15                         2       0.0  ...         0   \n398361            0.15                         2       0.0  ...         0   \n398365            0.00                         2       1.0  ...         0   \n398364            0.15                         2       0.0  ...         0   \n...                ...                       ...       ...  ...       ...   \n301411            0.15                         2       0.0  ...         0   \n301412            0.15                         2       0.0  ...         0   \n301413            0.15                         2       0.0  ...         0   \n316581            0.15                         2       0.0  ...         0   \n322045            0.15                         2       0.0  ...         0   \n\n        ICDText8  ICDText9  ICDText10  ICDText11  ICDText12  ICDText13  \\\n398359         0         0          0          0          0          0   \n398360         0         0          0          0          0          0   \n398361         0         0          0          0          0          0   \n398365         0         0          0          0          0          0   \n398364         0         0          0          0          0          0   \n...          ...       ...        ...        ...        ...        ...   \n301411         0         0          0          0          0          0   \n301412         0         0          0          0          0          0   \n301413         0         0          0          0          0          0   \n316581         0         0          0          0          0          0   \n322045         0         0          0          0          0          0   \n\n        ICDText14  ICDText15  ICDText16  \n398359          0          0          0  \n398360          0          0          0  \n398361          0          0          0  \n398365          0          0          0  \n398364          0          0          0  \n...           ...        ...        ...  \n301411          0          0          0  \n301412          0          0          0  \n301413          0          0          0  \n316581          0          0          0  \n322045          0          0          0  \n\n[165684 rows x 66 columns]",
      "text/html": "<div>\n<style scoped>\n    .dataframe tbody tr th:only-of-type {\n        vertical-align: middle;\n    }\n\n    .dataframe tbody tr th {\n        vertical-align: top;\n    }\n\n    .dataframe thead th {\n        text-align: right;\n    }\n</style>\n<table border=\"1\" class=\"dataframe\">\n  <thead>\n    <tr style=\"text-align: right;\">\n      <th></th>\n      <th>NET_WITH_VAT</th>\n      <th>QTY</th>\n      <th>LINE_CLAIMED_AMOUNT_SAR</th>\n      <th>CO_INSURANCE</th>\n      <th>LINE_ITEM_DISCOUNT</th>\n      <th>NET_VAT_AMOUNT</th>\n      <th>PATIENT_VAT_AMOUNT</th>\n      <th>VAT_PERCENTAGE</th>\n      <th>TREATMENT_TYPE_INDICATOR</th>\n      <th>DURATION</th>\n      <th>...</th>\n      <th>ICDText7</th>\n      <th>ICDText8</th>\n      <th>ICDText9</th>\n      <th>ICDText10</th>\n      <th>ICDText11</th>\n      <th>ICDText12</th>\n      <th>ICDText13</th>\n      <th>ICDText14</th>\n      <th>ICDText15</th>\n      <th>ICDText16</th>\n    </tr>\n  </thead>\n  <tbody>\n    <tr>\n      <th>398359</th>\n      <td>134.40</td>\n      <td>1.0</td>\n      <td>120.00</td>\n      <td>96.00</td>\n      <td>0.00</td>\n      <td>14.40</td>\n      <td>3.6</td>\n      <td>0.15</td>\n      <td>2</td>\n      <td>0.0</td>\n      <td>...</td>\n      <td>0</td>\n      <td>0</td>\n      <td>0</td>\n      <td>0</td>\n      <td>0</td>\n      <td>0</td>\n      <td>0</td>\n      <td>0</td>\n      <td>0</td>\n      <td>0</td>\n    </tr>\n    <tr>\n      <th>398360</th>\n      <td>138.00</td>\n      <td>1.0</td>\n      <td>120.00</td>\n      <td>120.00</td>\n      <td>0.00</td>\n      <td>18.00</td>\n      <td>0.0</td>\n      <td>0.15</td>\n      <td>2</td>\n      <td>0.0</td>\n      <td>...</td>\n      <td>0</td>\n      <td>0</td>\n      <td>0</td>\n      <td>0</td>\n      <td>0</td>\n      <td>0</td>\n      <td>0</td>\n      <td>0</td>\n      <td>0</td>\n      <td>0</td>\n    </tr>\n    <tr>\n      <th>398361</th>\n      <td>12.98</td>\n      <td>1.0</td>\n      <td>16.13</td>\n      <td>16.13</td>\n      <td>4.84</td>\n      <td>1.69</td>\n      <td>0.0</td>\n      <td>0.15</td>\n      <td>2</td>\n      <td>0.0</td>\n      <td>...</td>\n      <td>0</td>\n      <td>0</td>\n      <td>0</td>\n      <td>0</td>\n      <td>0</td>\n      <td>0</td>\n      <td>0</td>\n      <td>0</td>\n      <td>0</td>\n      <td>0</td>\n    </tr>\n    <tr>\n      <th>398365</th>\n      <td>1.56</td>\n      <td>1.0</td>\n      <td>1.69</td>\n      <td>1.38</td>\n      <td>0.13</td>\n      <td>0.00</td>\n      <td>0.0</td>\n      <td>0.00</td>\n      <td>2</td>\n      <td>1.0</td>\n      <td>...</td>\n      <td>0</td>\n      <td>0</td>\n      <td>0</td>\n      <td>0</td>\n      <td>0</td>\n      <td>0</td>\n      <td>0</td>\n      <td>0</td>\n      <td>0</td>\n      <td>0</td>\n    </tr>\n    <tr>\n      <th>398364</th>\n      <td>1427.30</td>\n      <td>1.0</td>\n      <td>1791.68</td>\n      <td>1691.68</td>\n      <td>537.51</td>\n      <td>173.13</td>\n      <td>0.0</td>\n      <td>0.15</td>\n      <td>2</td>\n      <td>0.0</td>\n      <td>...</td>\n      <td>0</td>\n      <td>0</td>\n      <td>0</td>\n      <td>0</td>\n      <td>0</td>\n      <td>0</td>\n      <td>0</td>\n      <td>0</td>\n      <td>0</td>\n      <td>0</td>\n    </tr>\n    <tr>\n      <th>...</th>\n      <td>...</td>\n      <td>...</td>\n      <td>...</td>\n      <td>...</td>\n      <td>...</td>\n      <td>...</td>\n      <td>...</td>\n      <td>...</td>\n      <td>...</td>\n      <td>...</td>\n      <td>...</td>\n      <td>...</td>\n      <td>...</td>\n      <td>...</td>\n      <td>...</td>\n      <td>...</td>\n      <td>...</td>\n      <td>...</td>\n      <td>...</td>\n      <td>...</td>\n      <td>...</td>\n    </tr>\n    <tr>\n      <th>301411</th>\n      <td>220.80</td>\n      <td>1.0</td>\n      <td>256.00</td>\n      <td>256.00</td>\n      <td>64.00</td>\n      <td>28.80</td>\n      <td>0.0</td>\n      <td>0.15</td>\n      <td>2</td>\n      <td>0.0</td>\n      <td>...</td>\n      <td>0</td>\n      <td>0</td>\n      <td>0</td>\n      <td>0</td>\n      <td>0</td>\n      <td>0</td>\n      <td>0</td>\n      <td>0</td>\n      <td>0</td>\n      <td>0</td>\n    </tr>\n    <tr>\n      <th>301412</th>\n      <td>380.36</td>\n      <td>1.0</td>\n      <td>441.00</td>\n      <td>441.00</td>\n      <td>110.25</td>\n      <td>49.61</td>\n      <td>0.0</td>\n      <td>0.15</td>\n      <td>2</td>\n      <td>0.0</td>\n      <td>...</td>\n      <td>0</td>\n      <td>0</td>\n      <td>0</td>\n      <td>0</td>\n      <td>0</td>\n      <td>0</td>\n      <td>0</td>\n      <td>0</td>\n      <td>0</td>\n      <td>0</td>\n    </tr>\n    <tr>\n      <th>301413</th>\n      <td>232.01</td>\n      <td>1.0</td>\n      <td>269.00</td>\n      <td>269.00</td>\n      <td>67.25</td>\n      <td>30.26</td>\n      <td>0.0</td>\n      <td>0.15</td>\n      <td>2</td>\n      <td>0.0</td>\n      <td>...</td>\n      <td>0</td>\n      <td>0</td>\n      <td>0</td>\n      <td>0</td>\n      <td>0</td>\n      <td>0</td>\n      <td>0</td>\n      <td>0</td>\n      <td>0</td>\n      <td>0</td>\n    </tr>\n    <tr>\n      <th>316581</th>\n      <td>201.60</td>\n      <td>1.0</td>\n      <td>180.00</td>\n      <td>144.00</td>\n      <td>0.00</td>\n      <td>21.60</td>\n      <td>5.4</td>\n      <td>0.15</td>\n      <td>2</td>\n      <td>0.0</td>\n      <td>...</td>\n      <td>0</td>\n      <td>0</td>\n      <td>0</td>\n      <td>0</td>\n      <td>0</td>\n      <td>0</td>\n      <td>0</td>\n      <td>0</td>\n      <td>0</td>\n      <td>0</td>\n    </tr>\n    <tr>\n      <th>322045</th>\n      <td>299.29</td>\n      <td>1.0</td>\n      <td>347.00</td>\n      <td>347.00</td>\n      <td>86.75</td>\n      <td>39.04</td>\n      <td>0.0</td>\n      <td>0.15</td>\n      <td>2</td>\n      <td>0.0</td>\n      <td>...</td>\n      <td>0</td>\n      <td>0</td>\n      <td>0</td>\n      <td>0</td>\n      <td>0</td>\n      <td>0</td>\n      <td>0</td>\n      <td>0</td>\n      <td>0</td>\n      <td>0</td>\n    </tr>\n  </tbody>\n</table>\n<p>165684 rows × 66 columns</p>\n</div>"
     },
     "execution_count": 10,
     "metadata": {},
     "output_type": "execute_result"
    }
   ],
   "source": [
    "X_train"
   ],
   "metadata": {
    "collapsed": false,
    "ExecuteTime": {
     "end_time": "2024-08-25T09:40:24.676658300Z",
     "start_time": "2024-08-25T09:40:24.600451900Z"
    }
   }
  },
  {
   "cell_type": "code",
   "execution_count": 11,
   "outputs": [],
   "source": [
    "model_runner = ModelApplication(X_train= X_train,y_train= y_train['OUTCOME'],X_test= X_test,y_test= y_test['OUTCOME'])"
   ],
   "metadata": {
    "collapsed": false,
    "ExecuteTime": {
     "end_time": "2024-08-25T09:40:42.961054Z",
     "start_time": "2024-08-25T09:40:42.941078700Z"
    }
   }
  },
  {
   "cell_type": "code",
   "execution_count": 14,
   "outputs": [
    {
     "name": "stdout",
     "output_type": "stream",
     "text": [
      "XGBoost Model is loading from disk..\n"
     ]
    }
   ],
   "source": [
    "model_runner.get_model(force_retrain=False,model_type='outcome')"
   ],
   "metadata": {
    "collapsed": false,
    "ExecuteTime": {
     "end_time": "2024-08-25T09:42:59.556424100Z",
     "start_time": "2024-08-25T09:42:59.497581400Z"
    }
   }
  },
  {
   "cell_type": "code",
   "execution_count": 15,
   "outputs": [
    {
     "data": {
      "text/plain": "{'XGBoost': {'Accuracy': 0.76,\n  'Precision': 0.71,\n  'Recall': 0.78,\n  'F1 Score': 0.75}}"
     },
     "execution_count": 15,
     "metadata": {},
     "output_type": "execute_result"
    }
   ],
   "source": [
    "## runtime 1\n",
    "model_runner.evaluate_model()"
   ],
   "metadata": {
    "collapsed": false,
    "ExecuteTime": {
     "end_time": "2024-08-25T09:43:01.732935500Z",
     "start_time": "2024-08-25T09:43:01.553328700Z"
    }
   }
  },
  {
   "cell_type": "code",
   "execution_count": 18,
   "outputs": [
    {
     "data": {
      "text/plain": "{'XGBoost': {'Accuracy': 0.76,\n  'Precision': 0.71,\n  'Recall': 0.78,\n  'F1 Score': 0.75}}"
     },
     "execution_count": 18,
     "metadata": {},
     "output_type": "execute_result"
    }
   ],
   "source": [
    "## runtime 2\n",
    "model_runner.evaluate_model()"
   ],
   "metadata": {
    "collapsed": false,
    "ExecuteTime": {
     "end_time": "2024-08-25T09:44:51.404929700Z",
     "start_time": "2024-08-25T09:44:51.236865100Z"
    }
   }
  },
  {
   "cell_type": "markdown",
   "source": [
    "## Columns removal comparison"
   ],
   "metadata": {
    "collapsed": false
   }
  },
  {
   "cell_type": "code",
   "execution_count": 19,
   "outputs": [
    {
     "name": "stdout",
     "output_type": "stream",
     "text": [
      "XGBoost Model is loading from disk..\n"
     ]
    },
    {
     "data": {
      "text/plain": "{'XGBoost': {'Accuracy': 0.76,\n  'Precision': 0.71,\n  'Recall': 0.78,\n  'F1 Score': 0.75}}"
     },
     "execution_count": 19,
     "metadata": {},
     "output_type": "execute_result"
    }
   ],
   "source": [
    "## before the high correlation appliance\n",
    "model_runner = ModelApplication(X_train=X_train, y_train=y_train['OUTCOME'], X_test=X_test, y_test=y_test['OUTCOME'])\n",
    "model_runner.get_model(force_retrain=False, model_type='outcome')\n",
    "model_runner.evaluate_model()"
   ],
   "metadata": {
    "collapsed": false,
    "ExecuteTime": {
     "end_time": "2024-08-25T09:45:09.927201600Z",
     "start_time": "2024-08-25T09:45:09.709784400Z"
    }
   }
  },
  {
   "cell_type": "code",
   "execution_count": 20,
   "outputs": [],
   "source": [
    "features_imp = list(model_runner.get_feature_importance())\n",
    "pd.DataFrame({\"Column name\":list(X_train.columns),\"Importance\":features_imp}).sort_values(ascending=False,by=['Importance']).to_excel('FeatureImportance_beforedrop.xlsx',index=False)"
   ],
   "metadata": {
    "collapsed": false,
    "ExecuteTime": {
     "end_time": "2024-08-25T09:45:30.692015600Z",
     "start_time": "2024-08-25T09:45:29.210722600Z"
    }
   }
  },
  {
   "cell_type": "code",
   "execution_count": 21,
   "outputs": [
    {
     "name": "stdout",
     "output_type": "stream",
     "text": [
      "Training is done\n"
     ]
    },
    {
     "data": {
      "text/plain": "{'XGBoost': {'Accuracy': 0.77,\n  'Precision': 0.75,\n  'Recall': 0.81,\n  'F1 Score': 0.78}}"
     },
     "execution_count": 21,
     "metadata": {},
     "output_type": "execute_result"
    }
   ],
   "source": [
    "cols_drop = ['CLAIM_INVOICE_NO','STAT_INVOICE_NO','CLAIM_INVOICE_NO','HIS_INSURANCE_CODE','CREATED_BY_USER','TOTAL_NET_AMOUNT',\n",
    "             'TOTAL_NET_VAT_AMOUNT','TOTAL_CLAIMED_AMOUNT','LINE_CLAIMED_AMOUNT','CO_INSURANCE','NET_AMOUNT','UNIT_PRICE',\n",
    "             'CO_PAY']\n",
    "\n",
    "cols_kept = [col for col in X_train.columns if col not in cols_drop]\n",
    "\n",
    "## after the high correlation appliance\n",
    "model_runner = ModelApplication(X_train=X_train[cols_kept], y_train=y_train['OUTCOME'],\n",
    "                                X_test=X_test[cols_kept], y_test=y_test['OUTCOME'])\n",
    "\n",
    "model_runner.get_model(force_retrain=True, model_type='outcome')\n",
    "model_runner.evaluate_model()"
   ],
   "metadata": {
    "collapsed": false,
    "ExecuteTime": {
     "end_time": "2024-07-15T23:37:17.358641200Z",
     "start_time": "2024-07-15T23:37:14.888932200Z"
    }
   }
  },
  {
   "cell_type": "code",
   "execution_count": 23,
   "outputs": [],
   "source": [
    "features_imp = list(model_runner.get_feature_importance())\n",
    "pd.DataFrame({\"Column name\":list(cols_kept),\"Importance\":features_imp}).sort_values(ascending=False,by=['Importance']).to_excel('FeatureImportance_afterdrop.xlsx',index=False)"
   ],
   "metadata": {
    "collapsed": false,
    "ExecuteTime": {
     "end_time": "2024-07-15T23:37:39.544127100Z",
     "start_time": "2024-07-15T23:37:39.508397300Z"
    }
   }
  },
  {
   "cell_type": "code",
   "execution_count": null,
   "outputs": [],
   "source": [],
   "metadata": {
    "collapsed": false
   }
  },
  {
   "cell_type": "markdown",
   "source": [
    "## Other old trials"
   ],
   "metadata": {
    "collapsed": false
   }
  },
  {
   "cell_type": "code",
   "execution_count": null,
   "outputs": [],
   "source": [],
   "metadata": {
    "collapsed": false
   }
  },
  {
   "cell_type": "code",
   "execution_count": 14,
   "outputs": [
    {
     "name": "stdout",
     "output_type": "stream",
     "text": [
      "The result before embedding the Item_Name column are:\n",
      " {'Decision Tree': {'Accuracy': 0.67, 'Precision': 0.66, 'Recall': 0.64}, 'LightGBM': {'Accuracy': 0.7, 'Precision': 0.68, 'Recall': 0.71}, 'SGD Classifier': {'Accuracy': 0.52, 'Precision': 0.0, 'Recall': 0.0}, 'XGBoost': {'Accuracy': 0.7, 'Precision': 0.68, 'Recall': 0.73}, 'Neural Network': {'Accuracy': 0.56, 'Precision': 0.55, 'Recall': 0.44}} \n",
      "The results after the embedding:\n",
      " {'Decision Tree': {'Accuracy': 0.67, 'Precision': 0.66, 'Recall': 0.63}, 'LightGBM': {'Accuracy': 0.7, 'Precision': 0.68, 'Recall': 0.71}, 'SGD Classifier': {'Accuracy': 0.48, 'Precision': 0.48, 'Recall': 0.9}, 'XGBoost': {'Accuracy': 0.7, 'Precision': 0.68, 'Recall': 0.73}, 'Neural Network': {'Accuracy': 0.55, 'Precision': 0.57, 'Recall': 0.28}}\n"
     ]
    }
   ],
   "source": [
    "## Comparison between the embedding vector added columns\n",
    "print('The result before embedding the Item_Name column are:\\n',res_before,'\\nThe results after the embedding:\\n',res)"
   ],
   "metadata": {
    "collapsed": false,
    "ExecuteTime": {
     "end_time": "2024-05-20T09:30:44.844614200Z",
     "start_time": "2024-05-20T09:30:44.781753800Z"
    }
   }
  },
  {
   "cell_type": "code",
   "execution_count": 16,
   "outputs": [
    {
     "data": {
      "text/plain": "item_Price                     0.323421\ntransaction_PatientAge         0.313583\nitem_Sequence                  0.191764\ntransaction_DiagnosisIds       0.114149\ntransaction_PatientEnGender    0.044771\nitem_RequestQuantity           0.012312\nName: 0, dtype: float64"
     },
     "execution_count": 16,
     "metadata": {},
     "output_type": "execute_result"
    }
   ],
   "source": [
    "## Feature importance Case Study\n",
    "dt_tran = model_runner.get_decision_tree_feature_importance()\n",
    "dt_feats = pd.DataFrame(list(dt_tran),columns_needed)\n",
    "\n",
    "dt_feats[0].sort_values(ascending=False)"
   ],
   "metadata": {
    "collapsed": false,
    "ExecuteTime": {
     "end_time": "2024-05-20T09:31:28.007278700Z",
     "start_time": "2024-05-20T09:31:27.961052200Z"
    }
   }
  },
  {
   "cell_type": "code",
   "execution_count": 17,
   "outputs": [
    {
     "data": {
      "text/plain": "item_Price                     0.410000\ntransaction_PatientAge         0.255333\ntransaction_DiagnosisIds       0.137667\nitem_Sequence                  0.135333\nitem_RequestQuantity           0.031000\ntransaction_PatientEnGender    0.030667\nName: 0, dtype: float64"
     },
     "execution_count": 17,
     "metadata": {},
     "output_type": "execute_result"
    }
   ],
   "source": [
    "gbm_tran = model_runner.get_lightgbm_feature_importance()\n",
    "gbm_feats = pd.DataFrame(list(gbm_tran),columns_needed)\n",
    "\n",
    "gbm_feats[0].sort_values(ascending=False)"
   ],
   "metadata": {
    "collapsed": false,
    "ExecuteTime": {
     "end_time": "2024-05-20T09:31:33.090150700Z",
     "start_time": "2024-05-20T09:31:33.076896700Z"
    }
   }
  },
  {
   "cell_type": "code",
   "execution_count": 18,
   "outputs": [
    {
     "data": {
      "text/plain": "item_Price                     7.984434e-02\nitem_RequestQuantity           5.211179e-02\nitem_Sequence                  3.358094e-02\ntransaction_DiagnosisIds       2.544493e-02\ntransaction_PatientAge         2.421929e-02\ntransaction_PatientEnGender    1.265203e-53\nName: 0, dtype: float64"
     },
     "execution_count": 18,
     "metadata": {},
     "output_type": "execute_result"
    }
   ],
   "source": [
    "nn_tran = model_runner.get_neural_network_feature_importance()\n",
    "nn_feats = pd.DataFrame(list(nn_tran),columns_needed)\n",
    "\n",
    "nn_feats[0].sort_values(ascending=False)"
   ],
   "metadata": {
    "collapsed": false,
    "ExecuteTime": {
     "end_time": "2024-05-20T09:31:49.278204900Z",
     "start_time": "2024-05-20T09:31:49.050927100Z"
    }
   }
  },
  {
   "cell_type": "markdown",
   "source": [
    "## K-Fold Analysis"
   ],
   "metadata": {
    "collapsed": false
   }
  },
  {
   "cell_type": "code",
   "execution_count": 2,
   "outputs": [],
   "source": [
    "df_original = get_input()\n",
    "preprocessing = MergedDataPreprocessing(df_original)"
   ],
   "metadata": {
    "collapsed": false,
    "ExecuteTime": {
     "end_time": "2024-05-19T11:31:03.264063300Z",
     "start_time": "2024-05-19T11:30:27.468243600Z"
    }
   }
  },
  {
   "cell_type": "code",
   "execution_count": 11,
   "outputs": [
    {
     "name": "stdout",
     "output_type": "stream",
     "text": [
      "\n",
      "\n",
      "LightGBM, Decision Tree, SGD and Neural Network are trained on dataset.\n"
     ]
    },
    {
     "name": "stderr",
     "output_type": "stream",
     "text": [
      "E:\\Projects\\Claims_Rejection\\src\\data_local.py:185: SettingWithCopyWarning: \n",
      "A value is trying to be set on a copy of a slice from a DataFrame.\n",
      "Try using .loc[row_indexer,col_indexer] = value instead\n",
      "\n",
      "See the caveats in the documentation: https://pandas.pydata.org/pandas-docs/stable/user_guide/indexing.html#returning-a-view-versus-a-copy\n",
      "  df1.loc[:, col] = df2[col].values\n",
      "E:\\Projects\\Claims_Rejection\\src\\data_local.py:185: SettingWithCopyWarning: \n",
      "A value is trying to be set on a copy of a slice from a DataFrame.\n",
      "Try using .loc[row_indexer,col_indexer] = value instead\n",
      "\n",
      "See the caveats in the documentation: https://pandas.pydata.org/pandas-docs/stable/user_guide/indexing.html#returning-a-view-versus-a-copy\n",
      "  df1.loc[:, col] = df2[col].values\n",
      "E:\\Projects\\Claims_Rejection\\src\\data_local.py:185: SettingWithCopyWarning: \n",
      "A value is trying to be set on a copy of a slice from a DataFrame.\n",
      "Try using .loc[row_indexer,col_indexer] = value instead\n",
      "\n",
      "See the caveats in the documentation: https://pandas.pydata.org/pandas-docs/stable/user_guide/indexing.html#returning-a-view-versus-a-copy\n",
      "  df1.loc[:, col] = df2[col].values\n",
      "E:\\Projects\\Claims_Rejection\\src\\data_local.py:185: SettingWithCopyWarning: \n",
      "A value is trying to be set on a copy of a slice from a DataFrame.\n",
      "Try using .loc[row_indexer,col_indexer] = value instead\n",
      "\n",
      "See the caveats in the documentation: https://pandas.pydata.org/pandas-docs/stable/user_guide/indexing.html#returning-a-view-versus-a-copy\n",
      "  df1.loc[:, col] = df2[col].values\n",
      "E:\\Projects\\Claims_Rejection\\src\\data_local.py:185: SettingWithCopyWarning: \n",
      "A value is trying to be set on a copy of a slice from a DataFrame.\n",
      "Try using .loc[row_indexer,col_indexer] = value instead\n",
      "\n",
      "See the caveats in the documentation: https://pandas.pydata.org/pandas-docs/stable/user_guide/indexing.html#returning-a-view-versus-a-copy\n",
      "  df1.loc[:, col] = df2[col].values\n",
      "E:\\Projects\\Claims_Rejection\\src\\data_local.py:185: SettingWithCopyWarning: \n",
      "A value is trying to be set on a copy of a slice from a DataFrame.\n",
      "Try using .loc[row_indexer,col_indexer] = value instead\n",
      "\n",
      "See the caveats in the documentation: https://pandas.pydata.org/pandas-docs/stable/user_guide/indexing.html#returning-a-view-versus-a-copy\n",
      "  df1.loc[:, col] = df2[col].values\n",
      "E:\\Projects\\Claims_Rejection\\src\\data_local.py:185: SettingWithCopyWarning: \n",
      "A value is trying to be set on a copy of a slice from a DataFrame.\n",
      "Try using .loc[row_indexer,col_indexer] = value instead\n",
      "\n",
      "See the caveats in the documentation: https://pandas.pydata.org/pandas-docs/stable/user_guide/indexing.html#returning-a-view-versus-a-copy\n",
      "  df1.loc[:, col] = df2[col].values\n",
      "E:\\Projects\\Claims_Rejection\\src\\data_local.py:185: SettingWithCopyWarning: \n",
      "A value is trying to be set on a copy of a slice from a DataFrame.\n",
      "Try using .loc[row_indexer,col_indexer] = value instead\n",
      "\n",
      "See the caveats in the documentation: https://pandas.pydata.org/pandas-docs/stable/user_guide/indexing.html#returning-a-view-versus-a-copy\n",
      "  df1.loc[:, col] = df2[col].values\n",
      "E:\\Projects\\Claims_Rejection\\src\\data_local.py:185: SettingWithCopyWarning: \n",
      "A value is trying to be set on a copy of a slice from a DataFrame.\n",
      "Try using .loc[row_indexer,col_indexer] = value instead\n",
      "\n",
      "See the caveats in the documentation: https://pandas.pydata.org/pandas-docs/stable/user_guide/indexing.html#returning-a-view-versus-a-copy\n",
      "  df1.loc[:, col] = df2[col].values\n",
      "E:\\Projects\\Claims_Rejection\\src\\data_local.py:185: SettingWithCopyWarning: \n",
      "A value is trying to be set on a copy of a slice from a DataFrame.\n",
      "Try using .loc[row_indexer,col_indexer] = value instead\n",
      "\n",
      "See the caveats in the documentation: https://pandas.pydata.org/pandas-docs/stable/user_guide/indexing.html#returning-a-view-versus-a-copy\n",
      "  df1.loc[:, col] = df2[col].values\n"
     ]
    },
    {
     "name": "stdout",
     "output_type": "stream",
     "text": [
      "[LightGBM] [Info] Number of positive: 7437, number of negative: 7506\n",
      "[LightGBM] [Info] Total Bins 1303\n",
      "[LightGBM] [Info] Number of data points in the train set: 14943, number of used features: 22\n",
      "[LightGBM] [Info] [binary:BoostFromScore]: pavg=0.497691 -> initscore=-0.009235\n",
      "[LightGBM] [Info] Start training from score -0.009235\n",
      "\n",
      "\n",
      "LightGBM, Decision Tree, SGD and Neural Network are trained on dataset.\n"
     ]
    },
    {
     "name": "stderr",
     "output_type": "stream",
     "text": [
      "E:\\Projects\\Claims_Rejection\\src\\data_local.py:185: SettingWithCopyWarning: \n",
      "A value is trying to be set on a copy of a slice from a DataFrame.\n",
      "Try using .loc[row_indexer,col_indexer] = value instead\n",
      "\n",
      "See the caveats in the documentation: https://pandas.pydata.org/pandas-docs/stable/user_guide/indexing.html#returning-a-view-versus-a-copy\n",
      "  df1.loc[:, col] = df2[col].values\n",
      "E:\\Projects\\Claims_Rejection\\src\\data_local.py:185: SettingWithCopyWarning: \n",
      "A value is trying to be set on a copy of a slice from a DataFrame.\n",
      "Try using .loc[row_indexer,col_indexer] = value instead\n",
      "\n",
      "See the caveats in the documentation: https://pandas.pydata.org/pandas-docs/stable/user_guide/indexing.html#returning-a-view-versus-a-copy\n",
      "  df1.loc[:, col] = df2[col].values\n",
      "E:\\Projects\\Claims_Rejection\\src\\data_local.py:185: SettingWithCopyWarning: \n",
      "A value is trying to be set on a copy of a slice from a DataFrame.\n",
      "Try using .loc[row_indexer,col_indexer] = value instead\n",
      "\n",
      "See the caveats in the documentation: https://pandas.pydata.org/pandas-docs/stable/user_guide/indexing.html#returning-a-view-versus-a-copy\n",
      "  df1.loc[:, col] = df2[col].values\n",
      "E:\\Projects\\Claims_Rejection\\src\\data_local.py:185: SettingWithCopyWarning: \n",
      "A value is trying to be set on a copy of a slice from a DataFrame.\n",
      "Try using .loc[row_indexer,col_indexer] = value instead\n",
      "\n",
      "See the caveats in the documentation: https://pandas.pydata.org/pandas-docs/stable/user_guide/indexing.html#returning-a-view-versus-a-copy\n",
      "  df1.loc[:, col] = df2[col].values\n",
      "E:\\Projects\\Claims_Rejection\\src\\data_local.py:185: SettingWithCopyWarning: \n",
      "A value is trying to be set on a copy of a slice from a DataFrame.\n",
      "Try using .loc[row_indexer,col_indexer] = value instead\n",
      "\n",
      "See the caveats in the documentation: https://pandas.pydata.org/pandas-docs/stable/user_guide/indexing.html#returning-a-view-versus-a-copy\n",
      "  df1.loc[:, col] = df2[col].values\n",
      "E:\\Projects\\Claims_Rejection\\src\\data_local.py:185: SettingWithCopyWarning: \n",
      "A value is trying to be set on a copy of a slice from a DataFrame.\n",
      "Try using .loc[row_indexer,col_indexer] = value instead\n",
      "\n",
      "See the caveats in the documentation: https://pandas.pydata.org/pandas-docs/stable/user_guide/indexing.html#returning-a-view-versus-a-copy\n",
      "  df1.loc[:, col] = df2[col].values\n",
      "E:\\Projects\\Claims_Rejection\\src\\data_local.py:185: SettingWithCopyWarning: \n",
      "A value is trying to be set on a copy of a slice from a DataFrame.\n",
      "Try using .loc[row_indexer,col_indexer] = value instead\n",
      "\n",
      "See the caveats in the documentation: https://pandas.pydata.org/pandas-docs/stable/user_guide/indexing.html#returning-a-view-versus-a-copy\n",
      "  df1.loc[:, col] = df2[col].values\n",
      "E:\\Projects\\Claims_Rejection\\src\\data_local.py:185: SettingWithCopyWarning: \n",
      "A value is trying to be set on a copy of a slice from a DataFrame.\n",
      "Try using .loc[row_indexer,col_indexer] = value instead\n",
      "\n",
      "See the caveats in the documentation: https://pandas.pydata.org/pandas-docs/stable/user_guide/indexing.html#returning-a-view-versus-a-copy\n",
      "  df1.loc[:, col] = df2[col].values\n",
      "E:\\Projects\\Claims_Rejection\\src\\data_local.py:185: SettingWithCopyWarning: \n",
      "A value is trying to be set on a copy of a slice from a DataFrame.\n",
      "Try using .loc[row_indexer,col_indexer] = value instead\n",
      "\n",
      "See the caveats in the documentation: https://pandas.pydata.org/pandas-docs/stable/user_guide/indexing.html#returning-a-view-versus-a-copy\n",
      "  df1.loc[:, col] = df2[col].values\n",
      "E:\\Projects\\Claims_Rejection\\src\\data_local.py:185: SettingWithCopyWarning: \n",
      "A value is trying to be set on a copy of a slice from a DataFrame.\n",
      "Try using .loc[row_indexer,col_indexer] = value instead\n",
      "\n",
      "See the caveats in the documentation: https://pandas.pydata.org/pandas-docs/stable/user_guide/indexing.html#returning-a-view-versus-a-copy\n",
      "  df1.loc[:, col] = df2[col].values\n"
     ]
    },
    {
     "name": "stdout",
     "output_type": "stream",
     "text": [
      "[LightGBM] [Info] Number of positive: 7480, number of negative: 7714\n",
      "[LightGBM] [Info] Total Bins 1317\n",
      "[LightGBM] [Info] Number of data points in the train set: 15194, number of used features: 22\n",
      "[LightGBM] [Info] [binary:BoostFromScore]: pavg=0.492300 -> initscore=-0.030804\n",
      "[LightGBM] [Info] Start training from score -0.030804\n",
      "\n",
      "\n",
      "LightGBM, Decision Tree, SGD and Neural Network are trained on dataset.\n"
     ]
    },
    {
     "name": "stderr",
     "output_type": "stream",
     "text": [
      "E:\\Projects\\Claims_Rejection\\src\\data_local.py:185: SettingWithCopyWarning: \n",
      "A value is trying to be set on a copy of a slice from a DataFrame.\n",
      "Try using .loc[row_indexer,col_indexer] = value instead\n",
      "\n",
      "See the caveats in the documentation: https://pandas.pydata.org/pandas-docs/stable/user_guide/indexing.html#returning-a-view-versus-a-copy\n",
      "  df1.loc[:, col] = df2[col].values\n",
      "E:\\Projects\\Claims_Rejection\\src\\data_local.py:185: SettingWithCopyWarning: \n",
      "A value is trying to be set on a copy of a slice from a DataFrame.\n",
      "Try using .loc[row_indexer,col_indexer] = value instead\n",
      "\n",
      "See the caveats in the documentation: https://pandas.pydata.org/pandas-docs/stable/user_guide/indexing.html#returning-a-view-versus-a-copy\n",
      "  df1.loc[:, col] = df2[col].values\n",
      "E:\\Projects\\Claims_Rejection\\src\\data_local.py:185: SettingWithCopyWarning: \n",
      "A value is trying to be set on a copy of a slice from a DataFrame.\n",
      "Try using .loc[row_indexer,col_indexer] = value instead\n",
      "\n",
      "See the caveats in the documentation: https://pandas.pydata.org/pandas-docs/stable/user_guide/indexing.html#returning-a-view-versus-a-copy\n",
      "  df1.loc[:, col] = df2[col].values\n",
      "E:\\Projects\\Claims_Rejection\\src\\data_local.py:185: SettingWithCopyWarning: \n",
      "A value is trying to be set on a copy of a slice from a DataFrame.\n",
      "Try using .loc[row_indexer,col_indexer] = value instead\n",
      "\n",
      "See the caveats in the documentation: https://pandas.pydata.org/pandas-docs/stable/user_guide/indexing.html#returning-a-view-versus-a-copy\n",
      "  df1.loc[:, col] = df2[col].values\n",
      "E:\\Projects\\Claims_Rejection\\src\\data_local.py:185: SettingWithCopyWarning: \n",
      "A value is trying to be set on a copy of a slice from a DataFrame.\n",
      "Try using .loc[row_indexer,col_indexer] = value instead\n",
      "\n",
      "See the caveats in the documentation: https://pandas.pydata.org/pandas-docs/stable/user_guide/indexing.html#returning-a-view-versus-a-copy\n",
      "  df1.loc[:, col] = df2[col].values\n",
      "E:\\Projects\\Claims_Rejection\\src\\data_local.py:185: SettingWithCopyWarning: \n",
      "A value is trying to be set on a copy of a slice from a DataFrame.\n",
      "Try using .loc[row_indexer,col_indexer] = value instead\n",
      "\n",
      "See the caveats in the documentation: https://pandas.pydata.org/pandas-docs/stable/user_guide/indexing.html#returning-a-view-versus-a-copy\n",
      "  df1.loc[:, col] = df2[col].values\n",
      "E:\\Projects\\Claims_Rejection\\src\\data_local.py:185: SettingWithCopyWarning: \n",
      "A value is trying to be set on a copy of a slice from a DataFrame.\n",
      "Try using .loc[row_indexer,col_indexer] = value instead\n",
      "\n",
      "See the caveats in the documentation: https://pandas.pydata.org/pandas-docs/stable/user_guide/indexing.html#returning-a-view-versus-a-copy\n",
      "  df1.loc[:, col] = df2[col].values\n",
      "E:\\Projects\\Claims_Rejection\\src\\data_local.py:185: SettingWithCopyWarning: \n",
      "A value is trying to be set on a copy of a slice from a DataFrame.\n",
      "Try using .loc[row_indexer,col_indexer] = value instead\n",
      "\n",
      "See the caveats in the documentation: https://pandas.pydata.org/pandas-docs/stable/user_guide/indexing.html#returning-a-view-versus-a-copy\n",
      "  df1.loc[:, col] = df2[col].values\n",
      "E:\\Projects\\Claims_Rejection\\src\\data_local.py:185: SettingWithCopyWarning: \n",
      "A value is trying to be set on a copy of a slice from a DataFrame.\n",
      "Try using .loc[row_indexer,col_indexer] = value instead\n",
      "\n",
      "See the caveats in the documentation: https://pandas.pydata.org/pandas-docs/stable/user_guide/indexing.html#returning-a-view-versus-a-copy\n",
      "  df1.loc[:, col] = df2[col].values\n",
      "E:\\Projects\\Claims_Rejection\\src\\data_local.py:185: SettingWithCopyWarning: \n",
      "A value is trying to be set on a copy of a slice from a DataFrame.\n",
      "Try using .loc[row_indexer,col_indexer] = value instead\n",
      "\n",
      "See the caveats in the documentation: https://pandas.pydata.org/pandas-docs/stable/user_guide/indexing.html#returning-a-view-versus-a-copy\n",
      "  df1.loc[:, col] = df2[col].values\n"
     ]
    },
    {
     "name": "stdout",
     "output_type": "stream",
     "text": [
      "[LightGBM] [Info] Number of positive: 7558, number of negative: 7626\n",
      "[LightGBM] [Info] Total Bins 1298\n",
      "[LightGBM] [Info] Number of data points in the train set: 15184, number of used features: 22\n",
      "[LightGBM] [Info] [binary:BoostFromScore]: pavg=0.497761 -> initscore=-0.008957\n",
      "[LightGBM] [Info] Start training from score -0.008957\n",
      "\n",
      "\n",
      "LightGBM, Decision Tree, SGD and Neural Network are trained on dataset.\n"
     ]
    },
    {
     "name": "stderr",
     "output_type": "stream",
     "text": [
      "E:\\Projects\\Claims_Rejection\\src\\data_local.py:185: SettingWithCopyWarning: \n",
      "A value is trying to be set on a copy of a slice from a DataFrame.\n",
      "Try using .loc[row_indexer,col_indexer] = value instead\n",
      "\n",
      "See the caveats in the documentation: https://pandas.pydata.org/pandas-docs/stable/user_guide/indexing.html#returning-a-view-versus-a-copy\n",
      "  df1.loc[:, col] = df2[col].values\n",
      "E:\\Projects\\Claims_Rejection\\src\\data_local.py:185: SettingWithCopyWarning: \n",
      "A value is trying to be set on a copy of a slice from a DataFrame.\n",
      "Try using .loc[row_indexer,col_indexer] = value instead\n",
      "\n",
      "See the caveats in the documentation: https://pandas.pydata.org/pandas-docs/stable/user_guide/indexing.html#returning-a-view-versus-a-copy\n",
      "  df1.loc[:, col] = df2[col].values\n",
      "E:\\Projects\\Claims_Rejection\\src\\data_local.py:185: SettingWithCopyWarning: \n",
      "A value is trying to be set on a copy of a slice from a DataFrame.\n",
      "Try using .loc[row_indexer,col_indexer] = value instead\n",
      "\n",
      "See the caveats in the documentation: https://pandas.pydata.org/pandas-docs/stable/user_guide/indexing.html#returning-a-view-versus-a-copy\n",
      "  df1.loc[:, col] = df2[col].values\n",
      "E:\\Projects\\Claims_Rejection\\src\\data_local.py:185: SettingWithCopyWarning: \n",
      "A value is trying to be set on a copy of a slice from a DataFrame.\n",
      "Try using .loc[row_indexer,col_indexer] = value instead\n",
      "\n",
      "See the caveats in the documentation: https://pandas.pydata.org/pandas-docs/stable/user_guide/indexing.html#returning-a-view-versus-a-copy\n",
      "  df1.loc[:, col] = df2[col].values\n",
      "E:\\Projects\\Claims_Rejection\\src\\data_local.py:185: SettingWithCopyWarning: \n",
      "A value is trying to be set on a copy of a slice from a DataFrame.\n",
      "Try using .loc[row_indexer,col_indexer] = value instead\n",
      "\n",
      "See the caveats in the documentation: https://pandas.pydata.org/pandas-docs/stable/user_guide/indexing.html#returning-a-view-versus-a-copy\n",
      "  df1.loc[:, col] = df2[col].values\n",
      "E:\\Projects\\Claims_Rejection\\src\\data_local.py:185: SettingWithCopyWarning: \n",
      "A value is trying to be set on a copy of a slice from a DataFrame.\n",
      "Try using .loc[row_indexer,col_indexer] = value instead\n",
      "\n",
      "See the caveats in the documentation: https://pandas.pydata.org/pandas-docs/stable/user_guide/indexing.html#returning-a-view-versus-a-copy\n",
      "  df1.loc[:, col] = df2[col].values\n",
      "E:\\Projects\\Claims_Rejection\\src\\data_local.py:185: SettingWithCopyWarning: \n",
      "A value is trying to be set on a copy of a slice from a DataFrame.\n",
      "Try using .loc[row_indexer,col_indexer] = value instead\n",
      "\n",
      "See the caveats in the documentation: https://pandas.pydata.org/pandas-docs/stable/user_guide/indexing.html#returning-a-view-versus-a-copy\n",
      "  df1.loc[:, col] = df2[col].values\n",
      "E:\\Projects\\Claims_Rejection\\src\\data_local.py:185: SettingWithCopyWarning: \n",
      "A value is trying to be set on a copy of a slice from a DataFrame.\n",
      "Try using .loc[row_indexer,col_indexer] = value instead\n",
      "\n",
      "See the caveats in the documentation: https://pandas.pydata.org/pandas-docs/stable/user_guide/indexing.html#returning-a-view-versus-a-copy\n",
      "  df1.loc[:, col] = df2[col].values\n",
      "E:\\Projects\\Claims_Rejection\\src\\data_local.py:185: SettingWithCopyWarning: \n",
      "A value is trying to be set on a copy of a slice from a DataFrame.\n",
      "Try using .loc[row_indexer,col_indexer] = value instead\n",
      "\n",
      "See the caveats in the documentation: https://pandas.pydata.org/pandas-docs/stable/user_guide/indexing.html#returning-a-view-versus-a-copy\n",
      "  df1.loc[:, col] = df2[col].values\n",
      "E:\\Projects\\Claims_Rejection\\src\\data_local.py:185: SettingWithCopyWarning: \n",
      "A value is trying to be set on a copy of a slice from a DataFrame.\n",
      "Try using .loc[row_indexer,col_indexer] = value instead\n",
      "\n",
      "See the caveats in the documentation: https://pandas.pydata.org/pandas-docs/stable/user_guide/indexing.html#returning-a-view-versus-a-copy\n",
      "  df1.loc[:, col] = df2[col].values\n"
     ]
    },
    {
     "name": "stdout",
     "output_type": "stream",
     "text": [
      "[LightGBM] [Info] Number of positive: 7480, number of negative: 7518\n",
      "[LightGBM] [Info] Total Bins 1300\n",
      "[LightGBM] [Info] Number of data points in the train set: 14998, number of used features: 22\n",
      "[LightGBM] [Info] [binary:BoostFromScore]: pavg=0.498733 -> initscore=-0.005067\n",
      "[LightGBM] [Info] Start training from score -0.005067\n",
      "\n",
      "\n",
      "LightGBM, Decision Tree, SGD and Neural Network are trained on dataset.\n"
     ]
    }
   ],
   "source": [
    "df_acc = validate_folds(df_original)"
   ],
   "metadata": {
    "collapsed": false
   }
  },
  {
   "cell_type": "code",
   "execution_count": 12,
   "outputs": [
    {
     "data": {
      "text/plain": "   Decision Tree  LightGBM  SGD Classifier  XGBoost  Neural Network\n0             67        72              49       72              67\n1             67        72              49       72              64\n2             67        70              49       72              68\n3             69        72              51       74              67\n4             68        72              48       72              67",
      "text/html": "<div>\n<style scoped>\n    .dataframe tbody tr th:only-of-type {\n        vertical-align: middle;\n    }\n\n    .dataframe tbody tr th {\n        vertical-align: top;\n    }\n\n    .dataframe thead th {\n        text-align: right;\n    }\n</style>\n<table border=\"1\" class=\"dataframe\">\n  <thead>\n    <tr style=\"text-align: right;\">\n      <th></th>\n      <th>Decision Tree</th>\n      <th>LightGBM</th>\n      <th>SGD Classifier</th>\n      <th>XGBoost</th>\n      <th>Neural Network</th>\n    </tr>\n  </thead>\n  <tbody>\n    <tr>\n      <th>0</th>\n      <td>67</td>\n      <td>72</td>\n      <td>49</td>\n      <td>72</td>\n      <td>67</td>\n    </tr>\n    <tr>\n      <th>1</th>\n      <td>67</td>\n      <td>72</td>\n      <td>49</td>\n      <td>72</td>\n      <td>64</td>\n    </tr>\n    <tr>\n      <th>2</th>\n      <td>67</td>\n      <td>70</td>\n      <td>49</td>\n      <td>72</td>\n      <td>68</td>\n    </tr>\n    <tr>\n      <th>3</th>\n      <td>69</td>\n      <td>72</td>\n      <td>51</td>\n      <td>74</td>\n      <td>67</td>\n    </tr>\n    <tr>\n      <th>4</th>\n      <td>68</td>\n      <td>72</td>\n      <td>48</td>\n      <td>72</td>\n      <td>67</td>\n    </tr>\n  </tbody>\n</table>\n</div>"
     },
     "execution_count": 12,
     "metadata": {},
     "output_type": "execute_result"
    }
   ],
   "source": [
    "df_acc"
   ],
   "metadata": {
    "collapsed": false,
    "ExecuteTime": {
     "end_time": "2024-05-19T11:41:57.929888700Z",
     "start_time": "2024-05-19T11:41:57.904956300Z"
    }
   }
  },
  {
   "cell_type": "code",
   "execution_count": null,
   "outputs": [],
   "source": [
    "## XGBoost 72.5% accuracy, Neural Networks 66%  accuracy which can definitely be improved"
   ],
   "metadata": {
    "collapsed": false
   }
  }
 ],
 "metadata": {
  "kernelspec": {
   "display_name": "Python 3",
   "language": "python",
   "name": "python3"
  },
  "language_info": {
   "codemirror_mode": {
    "name": "ipython",
    "version": 2
   },
   "file_extension": ".py",
   "mimetype": "text/x-python",
   "name": "python",
   "nbconvert_exporter": "python",
   "pygments_lexer": "ipython2",
   "version": "2.7.6"
  }
 },
 "nbformat": 4,
 "nbformat_minor": 0
}
