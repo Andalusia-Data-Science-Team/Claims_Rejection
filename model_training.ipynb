{
 "cells": [
  {
   "cell_type": "code",
   "execution_count": 8,
   "metadata": {
    "collapsed": true,
    "ExecuteTime": {
     "end_time": "2024-05-16T10:33:01.872237400Z",
     "start_time": "2024-05-16T10:33:01.834238500Z"
    }
   },
   "outputs": [],
   "source": [
    "from cashe import get_train_test_split\n",
    "from src.model_train import ModelTrainer, encode_label\n",
    "from src.data_application import train_columns\n",
    "from src.lstm_encoder import LSTMEmbedding\n",
    "from src.data_local import MergedDataPreprocessing\n",
    "import pandas as pd"
   ]
  },
  {
   "cell_type": "code",
   "execution_count": 2,
   "outputs": [],
   "source": [
    "df_train, df_test = get_train_test_split()"
   ],
   "metadata": {
    "collapsed": false,
    "ExecuteTime": {
     "end_time": "2024-05-16T10:32:05.497874900Z",
     "start_time": "2024-05-16T10:32:01.529407800Z"
    }
   }
  },
  {
   "cell_type": "code",
   "execution_count": 3,
   "outputs": [
    {
     "data": {
      "text/plain": "         item_CreatedDate                 transaction_RequestId  \\\n0 2023-08-24 15:03:23.404  c4427a02-3291-422d-b2e8-b97bf3d5081d   \n1 2023-08-29 11:48:54.060  e6f4ad37-13b9-4694-a61b-495384fcd245   \n2 2023-08-29 11:48:54.060  e6f4ad37-13b9-4694-a61b-495384fcd245   \n\n   transaction_PatientAge  transaction_PatientEnGender  \\\n0                       6                            1   \n1                      28                            0   \n2                      28                            0   \n\n              item_NameEn  item_Price  item_Status  item_Sequence  \\\n0             Examination       80.00            2              1   \n1             Examination       80.00            6              1   \n2  PREGNANCY TEST (BLOOD)      175.45            6              2   \n\n   item_RequestQuantity  item_ResponseQuantity  transaction_DiagnosisIds  \\\n0                   1.0                    1.0                         7   \n1                   1.0                    0.0                        17   \n2                   1.0                    0.0                        17   \n\n  transaction_PhysicianIds item_ResponseState  \n0                     ,327           approved  \n1                     ,139           rejected  \n2                     ,139           rejected  ",
      "text/html": "<div>\n<style scoped>\n    .dataframe tbody tr th:only-of-type {\n        vertical-align: middle;\n    }\n\n    .dataframe tbody tr th {\n        vertical-align: top;\n    }\n\n    .dataframe thead th {\n        text-align: right;\n    }\n</style>\n<table border=\"1\" class=\"dataframe\">\n  <thead>\n    <tr style=\"text-align: right;\">\n      <th></th>\n      <th>item_CreatedDate</th>\n      <th>transaction_RequestId</th>\n      <th>transaction_PatientAge</th>\n      <th>transaction_PatientEnGender</th>\n      <th>item_NameEn</th>\n      <th>item_Price</th>\n      <th>item_Status</th>\n      <th>item_Sequence</th>\n      <th>item_RequestQuantity</th>\n      <th>item_ResponseQuantity</th>\n      <th>transaction_DiagnosisIds</th>\n      <th>transaction_PhysicianIds</th>\n      <th>item_ResponseState</th>\n    </tr>\n  </thead>\n  <tbody>\n    <tr>\n      <th>0</th>\n      <td>2023-08-24 15:03:23.404</td>\n      <td>c4427a02-3291-422d-b2e8-b97bf3d5081d</td>\n      <td>6</td>\n      <td>1</td>\n      <td>Examination</td>\n      <td>80.00</td>\n      <td>2</td>\n      <td>1</td>\n      <td>1.0</td>\n      <td>1.0</td>\n      <td>7</td>\n      <td>,327</td>\n      <td>approved</td>\n    </tr>\n    <tr>\n      <th>1</th>\n      <td>2023-08-29 11:48:54.060</td>\n      <td>e6f4ad37-13b9-4694-a61b-495384fcd245</td>\n      <td>28</td>\n      <td>0</td>\n      <td>Examination</td>\n      <td>80.00</td>\n      <td>6</td>\n      <td>1</td>\n      <td>1.0</td>\n      <td>0.0</td>\n      <td>17</td>\n      <td>,139</td>\n      <td>rejected</td>\n    </tr>\n    <tr>\n      <th>2</th>\n      <td>2023-08-29 11:48:54.060</td>\n      <td>e6f4ad37-13b9-4694-a61b-495384fcd245</td>\n      <td>28</td>\n      <td>0</td>\n      <td>PREGNANCY TEST (BLOOD)</td>\n      <td>175.45</td>\n      <td>6</td>\n      <td>2</td>\n      <td>1.0</td>\n      <td>0.0</td>\n      <td>17</td>\n      <td>,139</td>\n      <td>rejected</td>\n    </tr>\n  </tbody>\n</table>\n</div>"
     },
     "execution_count": 3,
     "metadata": {},
     "output_type": "execute_result"
    }
   ],
   "source": [
    "df_train.head(3)"
   ],
   "metadata": {
    "collapsed": false,
    "ExecuteTime": {
     "end_time": "2024-05-16T10:32:05.551424Z",
     "start_time": "2024-05-16T10:32:05.497874900Z"
    }
   }
  },
  {
   "cell_type": "code",
   "execution_count": 4,
   "outputs": [],
   "source": [
    "X_train = df_train[train_columns[:-1]];  y_train = df_train[train_columns[-1]]\n",
    "X_test = df_test[train_columns[:-1]];  y_test = df_test[train_columns[-1]]"
   ],
   "metadata": {
    "collapsed": false,
    "ExecuteTime": {
     "end_time": "2024-05-16T10:32:10.686626900Z",
     "start_time": "2024-05-16T10:32:10.653827500Z"
    }
   }
  },
  {
   "cell_type": "code",
   "execution_count": 5,
   "outputs": [
    {
     "data": {
      "text/plain": "   transaction_PatientAge  transaction_PatientEnGender  \\\n0                       6                            1   \n1                      28                            0   \n2                      28                            0   \n\n              item_NameEn  item_Price  item_Sequence  item_RequestQuantity  \\\n0             Examination       80.00              1                   1.0   \n1             Examination       80.00              1                   1.0   \n2  PREGNANCY TEST (BLOOD)      175.45              2                   1.0   \n\n   transaction_DiagnosisIds  \n0                         7  \n1                        17  \n2                        17  ",
      "text/html": "<div>\n<style scoped>\n    .dataframe tbody tr th:only-of-type {\n        vertical-align: middle;\n    }\n\n    .dataframe tbody tr th {\n        vertical-align: top;\n    }\n\n    .dataframe thead th {\n        text-align: right;\n    }\n</style>\n<table border=\"1\" class=\"dataframe\">\n  <thead>\n    <tr style=\"text-align: right;\">\n      <th></th>\n      <th>transaction_PatientAge</th>\n      <th>transaction_PatientEnGender</th>\n      <th>item_NameEn</th>\n      <th>item_Price</th>\n      <th>item_Sequence</th>\n      <th>item_RequestQuantity</th>\n      <th>transaction_DiagnosisIds</th>\n    </tr>\n  </thead>\n  <tbody>\n    <tr>\n      <th>0</th>\n      <td>6</td>\n      <td>1</td>\n      <td>Examination</td>\n      <td>80.00</td>\n      <td>1</td>\n      <td>1.0</td>\n      <td>7</td>\n    </tr>\n    <tr>\n      <th>1</th>\n      <td>28</td>\n      <td>0</td>\n      <td>Examination</td>\n      <td>80.00</td>\n      <td>1</td>\n      <td>1.0</td>\n      <td>17</td>\n    </tr>\n    <tr>\n      <th>2</th>\n      <td>28</td>\n      <td>0</td>\n      <td>PREGNANCY TEST (BLOOD)</td>\n      <td>175.45</td>\n      <td>2</td>\n      <td>1.0</td>\n      <td>17</td>\n    </tr>\n  </tbody>\n</table>\n</div>"
     },
     "execution_count": 5,
     "metadata": {},
     "output_type": "execute_result"
    }
   ],
   "source": [
    "X_train.head(3)"
   ],
   "metadata": {
    "collapsed": false,
    "ExecuteTime": {
     "end_time": "2024-05-16T10:32:11.018710400Z",
     "start_time": "2024-05-16T10:32:10.871548100Z"
    }
   }
  },
  {
   "cell_type": "code",
   "execution_count": 6,
   "outputs": [
    {
     "data": {
      "text/plain": "0"
     },
     "execution_count": 6,
     "metadata": {},
     "output_type": "execute_result"
    }
   ],
   "source": [
    "y_test = encode_label(y_test)\n",
    "y_train = encode_label(y_train)\n",
    "y_test[0]"
   ],
   "metadata": {
    "collapsed": false,
    "ExecuteTime": {
     "end_time": "2024-05-16T10:32:12.408882800Z",
     "start_time": "2024-05-16T10:32:12.346395500Z"
    }
   }
  },
  {
   "cell_type": "code",
   "execution_count": 10,
   "outputs": [],
   "source": [
    "lstm_embedding = LSTMEmbedding()\n",
    "data_prep = MergedDataPreprocessing(df_train)"
   ],
   "metadata": {
    "collapsed": false,
    "ExecuteTime": {
     "end_time": "2024-05-16T10:33:17.301327200Z",
     "start_time": "2024-05-16T10:33:17.263518300Z"
    }
   }
  },
  {
   "cell_type": "code",
   "execution_count": 11,
   "outputs": [],
   "source": [
    "X_train = data_prep.column_embedding(X_train,textual_col='item_NameEn')\n",
    "X_test  = data_prep.column_embedding(X_test,textual_col='item_NameEn')"
   ],
   "metadata": {
    "collapsed": false,
    "ExecuteTime": {
     "end_time": "2024-05-16T10:33:22.549525100Z",
     "start_time": "2024-05-16T10:33:21.967499Z"
    }
   }
  },
  {
   "cell_type": "code",
   "execution_count": 13,
   "outputs": [],
   "source": [
    "columns_needed = ['transaction_PatientAge','transaction_PatientEnGender','item_Price','item_Sequence','item_RequestQuantity','transaction_DiagnosisIds','item_NameEn1','item_NameEn2','item_NameEn3','item_NameEn4','item_NameEn5','item_NameEn6','item_NameEn7','item_NameEn8','item_NameEn9', 'item_NameEn10','item_NameEn11', 'item_NameEn12', 'item_NameEn13', 'item_NameEn14','item_NameEn15', 'item_NameEn16']\n",
    "\n",
    "X_train = X_train[columns_needed]\n",
    "X_test  = X_test[columns_needed]"
   ],
   "metadata": {
    "collapsed": false,
    "ExecuteTime": {
     "end_time": "2024-05-16T10:33:45.172702900Z",
     "start_time": "2024-05-16T10:33:45.156020200Z"
    }
   }
  },
  {
   "cell_type": "code",
   "execution_count": 16,
   "outputs": [
    {
     "data": {
      "text/plain": "       transaction_PatientAge  transaction_PatientEnGender  item_Price  \\\n0                           6                            1       80.00   \n1                          28                            0       80.00   \n2                          28                            0      175.45   \n3                          56                            0       80.00   \n4                          56                            0      110.00   \n...                       ...                          ...         ...   \n14993                      29                            1       17.92   \n14994                       0                            1      220.00   \n14995                       0                            1      108.33   \n14996                       0                            1      211.25   \n14997                       0                            1      255.00   \n\n       item_Sequence  item_RequestQuantity  transaction_DiagnosisIds  \\\n0                  1                   1.0                         7   \n1                  1                   1.0                        17   \n2                  2                   1.0                        17   \n3                  1                   1.0                        14   \n4                  2                   1.0                        14   \n...              ...                   ...                       ...   \n14993             11                   1.0                        14   \n14994              1                   1.0                         1   \n14995              2                   1.0                         1   \n14996              3                   1.0                         1   \n14997              4                   1.0                         1   \n\n       item_NameEn1  item_NameEn2  item_NameEn3  item_NameEn4  ...  \\\n0                 1             0             0             0  ...   \n1                 1             0             0             0  ...   \n2               182            83             8             0  ...   \n3                 1             0             0             0  ...   \n4               216             0             0             0  ...   \n...             ...           ...           ...           ...  ...   \n14993           448            71             6           196  ...   \n14994           198           329           330           107  ...   \n14995           198           107            57             0  ...   \n14996           254             0             0             0  ...   \n14997           149           496             0             0  ...   \n\n       item_NameEn7  item_NameEn8  item_NameEn9  item_NameEn10  item_NameEn11  \\\n0                 0             0             0              0              0   \n1                 0             0             0              0              0   \n2                 0             0             0              0              0   \n3                 0             0             0              0              0   \n4                 0             0             0              0              0   \n...             ...           ...           ...            ...            ...   \n14993             0             0             0              0              0   \n14994             0             0             0              0              0   \n14995             0             0             0              0              0   \n14996             0             0             0              0              0   \n14997             0             0             0              0              0   \n\n       item_NameEn12  item_NameEn13  item_NameEn14  item_NameEn15  \\\n0                  0              0              0              0   \n1                  0              0              0              0   \n2                  0              0              0              0   \n3                  0              0              0              0   \n4                  0              0              0              0   \n...              ...            ...            ...            ...   \n14993              0              0              0              0   \n14994              0              0              0              0   \n14995              0              0              0              0   \n14996              0              0              0              0   \n14997              0              0              0              0   \n\n       item_NameEn16  \n0                  0  \n1                  0  \n2                  0  \n3                  0  \n4                  0  \n...              ...  \n14993              0  \n14994              0  \n14995              0  \n14996              0  \n14997              0  \n\n[14998 rows x 22 columns]",
      "text/html": "<div>\n<style scoped>\n    .dataframe tbody tr th:only-of-type {\n        vertical-align: middle;\n    }\n\n    .dataframe tbody tr th {\n        vertical-align: top;\n    }\n\n    .dataframe thead th {\n        text-align: right;\n    }\n</style>\n<table border=\"1\" class=\"dataframe\">\n  <thead>\n    <tr style=\"text-align: right;\">\n      <th></th>\n      <th>transaction_PatientAge</th>\n      <th>transaction_PatientEnGender</th>\n      <th>item_Price</th>\n      <th>item_Sequence</th>\n      <th>item_RequestQuantity</th>\n      <th>transaction_DiagnosisIds</th>\n      <th>item_NameEn1</th>\n      <th>item_NameEn2</th>\n      <th>item_NameEn3</th>\n      <th>item_NameEn4</th>\n      <th>...</th>\n      <th>item_NameEn7</th>\n      <th>item_NameEn8</th>\n      <th>item_NameEn9</th>\n      <th>item_NameEn10</th>\n      <th>item_NameEn11</th>\n      <th>item_NameEn12</th>\n      <th>item_NameEn13</th>\n      <th>item_NameEn14</th>\n      <th>item_NameEn15</th>\n      <th>item_NameEn16</th>\n    </tr>\n  </thead>\n  <tbody>\n    <tr>\n      <th>0</th>\n      <td>6</td>\n      <td>1</td>\n      <td>80.00</td>\n      <td>1</td>\n      <td>1.0</td>\n      <td>7</td>\n      <td>1</td>\n      <td>0</td>\n      <td>0</td>\n      <td>0</td>\n      <td>...</td>\n      <td>0</td>\n      <td>0</td>\n      <td>0</td>\n      <td>0</td>\n      <td>0</td>\n      <td>0</td>\n      <td>0</td>\n      <td>0</td>\n      <td>0</td>\n      <td>0</td>\n    </tr>\n    <tr>\n      <th>1</th>\n      <td>28</td>\n      <td>0</td>\n      <td>80.00</td>\n      <td>1</td>\n      <td>1.0</td>\n      <td>17</td>\n      <td>1</td>\n      <td>0</td>\n      <td>0</td>\n      <td>0</td>\n      <td>...</td>\n      <td>0</td>\n      <td>0</td>\n      <td>0</td>\n      <td>0</td>\n      <td>0</td>\n      <td>0</td>\n      <td>0</td>\n      <td>0</td>\n      <td>0</td>\n      <td>0</td>\n    </tr>\n    <tr>\n      <th>2</th>\n      <td>28</td>\n      <td>0</td>\n      <td>175.45</td>\n      <td>2</td>\n      <td>1.0</td>\n      <td>17</td>\n      <td>182</td>\n      <td>83</td>\n      <td>8</td>\n      <td>0</td>\n      <td>...</td>\n      <td>0</td>\n      <td>0</td>\n      <td>0</td>\n      <td>0</td>\n      <td>0</td>\n      <td>0</td>\n      <td>0</td>\n      <td>0</td>\n      <td>0</td>\n      <td>0</td>\n    </tr>\n    <tr>\n      <th>3</th>\n      <td>56</td>\n      <td>0</td>\n      <td>80.00</td>\n      <td>1</td>\n      <td>1.0</td>\n      <td>14</td>\n      <td>1</td>\n      <td>0</td>\n      <td>0</td>\n      <td>0</td>\n      <td>...</td>\n      <td>0</td>\n      <td>0</td>\n      <td>0</td>\n      <td>0</td>\n      <td>0</td>\n      <td>0</td>\n      <td>0</td>\n      <td>0</td>\n      <td>0</td>\n      <td>0</td>\n    </tr>\n    <tr>\n      <th>4</th>\n      <td>56</td>\n      <td>0</td>\n      <td>110.00</td>\n      <td>2</td>\n      <td>1.0</td>\n      <td>14</td>\n      <td>216</td>\n      <td>0</td>\n      <td>0</td>\n      <td>0</td>\n      <td>...</td>\n      <td>0</td>\n      <td>0</td>\n      <td>0</td>\n      <td>0</td>\n      <td>0</td>\n      <td>0</td>\n      <td>0</td>\n      <td>0</td>\n      <td>0</td>\n      <td>0</td>\n    </tr>\n    <tr>\n      <th>...</th>\n      <td>...</td>\n      <td>...</td>\n      <td>...</td>\n      <td>...</td>\n      <td>...</td>\n      <td>...</td>\n      <td>...</td>\n      <td>...</td>\n      <td>...</td>\n      <td>...</td>\n      <td>...</td>\n      <td>...</td>\n      <td>...</td>\n      <td>...</td>\n      <td>...</td>\n      <td>...</td>\n      <td>...</td>\n      <td>...</td>\n      <td>...</td>\n      <td>...</td>\n      <td>...</td>\n    </tr>\n    <tr>\n      <th>14993</th>\n      <td>29</td>\n      <td>1</td>\n      <td>17.92</td>\n      <td>11</td>\n      <td>1.0</td>\n      <td>14</td>\n      <td>448</td>\n      <td>71</td>\n      <td>6</td>\n      <td>196</td>\n      <td>...</td>\n      <td>0</td>\n      <td>0</td>\n      <td>0</td>\n      <td>0</td>\n      <td>0</td>\n      <td>0</td>\n      <td>0</td>\n      <td>0</td>\n      <td>0</td>\n      <td>0</td>\n    </tr>\n    <tr>\n      <th>14994</th>\n      <td>0</td>\n      <td>1</td>\n      <td>220.00</td>\n      <td>1</td>\n      <td>1.0</td>\n      <td>1</td>\n      <td>198</td>\n      <td>329</td>\n      <td>330</td>\n      <td>107</td>\n      <td>...</td>\n      <td>0</td>\n      <td>0</td>\n      <td>0</td>\n      <td>0</td>\n      <td>0</td>\n      <td>0</td>\n      <td>0</td>\n      <td>0</td>\n      <td>0</td>\n      <td>0</td>\n    </tr>\n    <tr>\n      <th>14995</th>\n      <td>0</td>\n      <td>1</td>\n      <td>108.33</td>\n      <td>2</td>\n      <td>1.0</td>\n      <td>1</td>\n      <td>198</td>\n      <td>107</td>\n      <td>57</td>\n      <td>0</td>\n      <td>...</td>\n      <td>0</td>\n      <td>0</td>\n      <td>0</td>\n      <td>0</td>\n      <td>0</td>\n      <td>0</td>\n      <td>0</td>\n      <td>0</td>\n      <td>0</td>\n      <td>0</td>\n    </tr>\n    <tr>\n      <th>14996</th>\n      <td>0</td>\n      <td>1</td>\n      <td>211.25</td>\n      <td>3</td>\n      <td>1.0</td>\n      <td>1</td>\n      <td>254</td>\n      <td>0</td>\n      <td>0</td>\n      <td>0</td>\n      <td>...</td>\n      <td>0</td>\n      <td>0</td>\n      <td>0</td>\n      <td>0</td>\n      <td>0</td>\n      <td>0</td>\n      <td>0</td>\n      <td>0</td>\n      <td>0</td>\n      <td>0</td>\n    </tr>\n    <tr>\n      <th>14997</th>\n      <td>0</td>\n      <td>1</td>\n      <td>255.00</td>\n      <td>4</td>\n      <td>1.0</td>\n      <td>1</td>\n      <td>149</td>\n      <td>496</td>\n      <td>0</td>\n      <td>0</td>\n      <td>...</td>\n      <td>0</td>\n      <td>0</td>\n      <td>0</td>\n      <td>0</td>\n      <td>0</td>\n      <td>0</td>\n      <td>0</td>\n      <td>0</td>\n      <td>0</td>\n      <td>0</td>\n    </tr>\n  </tbody>\n</table>\n<p>14998 rows × 22 columns</p>\n</div>"
     },
     "execution_count": 16,
     "metadata": {},
     "output_type": "execute_result"
    }
   ],
   "source": [
    "X_train"
   ],
   "metadata": {
    "collapsed": false,
    "ExecuteTime": {
     "end_time": "2024-05-16T10:33:54.341982200Z",
     "start_time": "2024-05-16T10:33:54.295087Z"
    }
   }
  },
  {
   "cell_type": "code",
   "execution_count": 14,
   "outputs": [],
   "source": [
    "model_runner = ModelTrainer(X_train=X_train[train_columns[:-1]],y_train=y_train,X_test=X_test[train_columns[:-1]],y_test=y_test)"
   ],
   "metadata": {
    "collapsed": false,
    "ExecuteTime": {
     "end_time": "2024-05-16T10:33:46.491804100Z",
     "start_time": "2024-05-16T10:33:46.474701100Z"
    }
   }
  },
  {
   "cell_type": "code",
   "execution_count": 15,
   "outputs": [
    {
     "name": "stdout",
     "output_type": "stream",
     "text": [
      "[LightGBM] [Info] Number of positive: 7480, number of negative: 7518\n",
      "[LightGBM] [Info] Auto-choosing row-wise multi-threading, the overhead of testing was 0.001033 seconds.\n",
      "You can set `force_row_wise=true` to remove the overhead.\n",
      "And if memory is not enough, you can set `force_col_wise=true`.\n",
      "[LightGBM] [Info] Total Bins 1303\n",
      "[LightGBM] [Info] Number of data points in the train set: 14998, number of used features: 22\n",
      "[LightGBM] [Info] [binary:BoostFromScore]: pavg=0.498733 -> initscore=-0.005067\n",
      "[LightGBM] [Info] Start training from score -0.005067\n",
      "\n",
      "\n",
      "LightGBM, Decision Tree, SGD and Neural Network are trained on dataset.\n"
     ]
    }
   ],
   "source": [
    "model_runner.train_models()"
   ],
   "metadata": {
    "collapsed": false,
    "ExecuteTime": {
     "end_time": "2024-05-16T10:33:50.545006300Z",
     "start_time": "2024-05-16T10:33:46.737599500Z"
    }
   }
  },
  {
   "cell_type": "code",
   "execution_count": 22,
   "outputs": [],
   "source": [
    "train_cols = ['transaction_PatientAge','transaction_PatientEnGender','item_Price','item_Sequence','item_RequestQuantity','transaction_DiagnosisIds']"
   ],
   "metadata": {
    "collapsed": false,
    "ExecuteTime": {
     "end_time": "2024-05-16T10:35:45.716373400Z",
     "start_time": "2024-05-16T10:35:45.685107300Z"
    }
   }
  },
  {
   "cell_type": "code",
   "execution_count": 26,
   "outputs": [
    {
     "name": "stdout",
     "output_type": "stream",
     "text": [
      "[LightGBM] [Info] Number of positive: 7480, number of negative: 7518\n",
      "[LightGBM] [Info] Auto-choosing row-wise multi-threading, the overhead of testing was 0.000436 seconds.\n",
      "You can set `force_row_wise=true` to remove the overhead.\n",
      "And if memory is not enough, you can set `force_col_wise=true`.\n",
      "[LightGBM] [Info] Total Bins 359\n",
      "[LightGBM] [Info] Number of data points in the train set: 14998, number of used features: 6\n",
      "[LightGBM] [Info] [binary:BoostFromScore]: pavg=0.498733 -> initscore=-0.005067\n",
      "[LightGBM] [Info] Start training from score -0.005067\n",
      "\n",
      "\n",
      "LightGBM, Decision Tree, SGD and Neural Network are trained on dataset.\n"
     ]
    }
   ],
   "source": [
    "model_runner_old = ModelTrainer(X_train=X_train[train_cols],y_train=y_train,X_test=X_test[train_cols],y_test=y_test)\n",
    "model_runner_old.train_models()\n",
    "\n",
    "res_before = model_runner_old.evaluate_models()"
   ],
   "metadata": {
    "collapsed": false,
    "ExecuteTime": {
     "end_time": "2024-05-16T10:36:31.892738Z",
     "start_time": "2024-05-16T10:36:27.406025600Z"
    }
   }
  },
  {
   "cell_type": "code",
   "execution_count": 27,
   "outputs": [],
   "source": [
    "res = model_runner.evaluate_models()"
   ],
   "metadata": {
    "collapsed": false,
    "ExecuteTime": {
     "end_time": "2024-05-16T10:36:35.385146900Z",
     "start_time": "2024-05-16T10:36:35.308180900Z"
    }
   }
  },
  {
   "cell_type": "code",
   "execution_count": 29,
   "outputs": [
    {
     "name": "stdout",
     "output_type": "stream",
     "text": [
      "The result before embedding the Item_Name column are:\n",
      " {'Decision Tree': {'Accuracy': 0.67, 'Precision': 0.66, 'Recall': 0.64}, 'LightGBM': {'Accuracy': 0.7, 'Precision': 0.68, 'Recall': 0.71}, 'SGD Classifier': {'Accuracy': 0.48, 'Precision': 0.48, 'Recall': 1.0}, 'XGBoost': {'Accuracy': 0.7, 'Precision': 0.68, 'Recall': 0.73}, 'Neural Network': {'Accuracy': 0.54, 'Precision': 0.51, 'Recall': 0.87}} \n",
      "The results after the embedding:\n",
      " {'Decision Tree': {'Accuracy': 0.7, 'Precision': 0.7, 'Recall': 0.68}, 'LightGBM': {'Accuracy': 0.74, 'Precision': 0.71, 'Recall': 0.77}, 'SGD Classifier': {'Accuracy': 0.54, 'Precision': 0.55, 'Recall': 0.22}, 'XGBoost': {'Accuracy': 0.74, 'Precision': 0.71, 'Recall': 0.78}, 'Neural Network': {'Accuracy': 0.66, 'Precision': 0.68, 'Recall': 0.54}}\n"
     ]
    }
   ],
   "source": [
    "print('The result before embedding the Item_Name column are:\\n',res_before,'\\nThe results after the embedding:\\n',res)"
   ],
   "metadata": {
    "collapsed": false,
    "ExecuteTime": {
     "end_time": "2024-05-16T10:37:32.452892800Z",
     "start_time": "2024-05-16T10:37:32.437265400Z"
    }
   }
  },
  {
   "cell_type": "code",
   "execution_count": 30,
   "outputs": [
    {
     "data": {
      "text/plain": "transaction_PatientAge         0.272781\nitem_NameEn1                   0.177105\nitem_Sequence                  0.152865\nitem_Price                     0.125745\ntransaction_DiagnosisIds       0.089265\nitem_NameEn2                   0.042357\ntransaction_PatientEnGender    0.041143\nitem_NameEn3                   0.038265\nitem_NameEn5                   0.021377\nitem_NameEn4                   0.013492\nitem_NameEn7                   0.012617\nitem_RequestQuantity           0.005821\nitem_NameEn6                   0.004317\nitem_NameEn9                   0.001766\nitem_NameEn12                  0.000336\nitem_NameEn10                  0.000195\nitem_NameEn15                  0.000194\nitem_NameEn13                  0.000189\nitem_NameEn11                  0.000104\nitem_NameEn16                  0.000066\nitem_NameEn8                   0.000000\nitem_NameEn14                  0.000000\nName: 0, dtype: float64"
     },
     "execution_count": 30,
     "metadata": {},
     "output_type": "execute_result"
    }
   ],
   "source": [
    "dt_tran = model_runner.get_decision_tree_feature_importance()\n",
    "dt_feats = pd.DataFrame(list(dt_tran),columns_needed)\n",
    "\n",
    "dt_feats[0].sort_values(ascending=False)"
   ],
   "metadata": {
    "collapsed": false,
    "ExecuteTime": {
     "end_time": "2024-05-16T10:51:52.724165900Z",
     "start_time": "2024-05-16T10:51:51.966784800Z"
    }
   }
  },
  {
   "cell_type": "code",
   "execution_count": 31,
   "outputs": [
    {
     "data": {
      "text/plain": "item_Price                     0.236333\ntransaction_PatientAge         0.170000\nitem_NameEn1                   0.112333\ntransaction_DiagnosisIds       0.090000\nitem_NameEn2                   0.081667\nitem_Sequence                  0.080667\nitem_NameEn3                   0.080000\nitem_NameEn4                   0.052000\nitem_NameEn5                   0.033667\ntransaction_PatientEnGender    0.028333\nitem_RequestQuantity           0.013333\nitem_NameEn6                   0.012000\nitem_NameEn7                   0.006333\nitem_NameEn8                   0.002333\nitem_NameEn9                   0.000667\nitem_NameEn10                  0.000333\nitem_NameEn11                  0.000000\nitem_NameEn12                  0.000000\nitem_NameEn13                  0.000000\nitem_NameEn14                  0.000000\nitem_NameEn15                  0.000000\nitem_NameEn16                  0.000000\nName: 0, dtype: float64"
     },
     "execution_count": 31,
     "metadata": {},
     "output_type": "execute_result"
    }
   ],
   "source": [
    "gbm_tran = model_runner.get_lightgbm_feature_importance()\n",
    "gbm_feats = pd.DataFrame(list(gbm_tran),columns_needed)\n",
    "\n",
    "gbm_feats[0].sort_values(ascending=False)"
   ],
   "metadata": {
    "collapsed": false,
    "ExecuteTime": {
     "end_time": "2024-05-16T10:51:52.914650200Z",
     "start_time": "2024-05-16T10:51:52.769277900Z"
    }
   }
  },
  {
   "cell_type": "code",
   "execution_count": 33,
   "outputs": [
    {
     "data": {
      "text/plain": "item_NameEn9                   2.124079e-51\ntransaction_DiagnosisIds       1.872086e-56\nitem_NameEn7                   8.984488e-61\nitem_RequestQuantity           2.691126e-62\nitem_Price                     1.365272e-63\nitem_Sequence                  3.172985e-64\nitem_NameEn5                   1.215570e-65\nitem_NameEn10                  2.052051e-67\ntransaction_PatientEnGender    1.510699e-68\nitem_NameEn14                  7.747009e-69\nitem_NameEn15                  9.446943e-70\ntransaction_PatientAge         4.028168e-73\nitem_NameEn4                   3.658291e-73\nitem_NameEn6                   9.132540e-75\nitem_NameEn1                   1.207858e-76\nitem_NameEn2                   1.706386e-78\nitem_NameEn12                  7.180760e-82\nitem_NameEn13                  3.744880e-84\nitem_NameEn16                  1.266071e-85\nitem_NameEn11                  2.220348e-88\nitem_NameEn8                   8.785854e-90\nitem_NameEn3                   6.277922e-90\nName: 0, dtype: float64"
     },
     "execution_count": 33,
     "metadata": {},
     "output_type": "execute_result"
    }
   ],
   "source": [
    "nn_tran = model_runner.get_neural_network_feature_importance()\n",
    "nn_feats = pd.DataFrame(list(nn_tran),columns_needed)\n",
    "\n",
    "nn_feats[0].sort_values(ascending=False)"
   ],
   "metadata": {
    "collapsed": false,
    "ExecuteTime": {
     "end_time": "2024-05-16T10:52:04.982330Z",
     "start_time": "2024-05-16T10:52:04.952289200Z"
    }
   }
  },
  {
   "cell_type": "code",
   "execution_count": null,
   "outputs": [],
   "source": [],
   "metadata": {
    "collapsed": false
   }
  }
 ],
 "metadata": {
  "kernelspec": {
   "display_name": "Python 3",
   "language": "python",
   "name": "python3"
  },
  "language_info": {
   "codemirror_mode": {
    "name": "ipython",
    "version": 2
   },
   "file_extension": ".py",
   "mimetype": "text/x-python",
   "name": "python",
   "nbconvert_exporter": "python",
   "pygments_lexer": "ipython2",
   "version": "2.7.6"
  }
 },
 "nbformat": 4,
 "nbformat_minor": 0
}
