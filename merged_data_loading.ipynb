{
 "cells": [
  {
   "cell_type": "code",
   "execution_count": 1,
   "id": "initial_id",
   "metadata": {
    "collapsed": true,
    "ExecuteTime": {
     "end_time": "2024-08-26T08:12:40.164462600Z",
     "start_time": "2024-08-26T08:12:38.226023900Z"
    }
   },
   "outputs": [],
   "source": [
    "import pandas as pd \n",
    "from src.data_query import load_merged_query_by_date"
   ]
  },
  {
   "cell_type": "code",
   "execution_count": 2,
   "outputs": [],
   "source": [
    "FIRST_DATE = '2024-01-01'\n",
    "LAST_DATE = '2024-06-12'\n",
    "df = load_merged_query_by_date(FIRST_DATE,LAST_DATE)"
   ],
   "metadata": {
    "collapsed": false,
    "ExecuteTime": {
     "end_time": "2024-08-26T09:03:59.553981300Z",
     "start_time": "2024-08-26T08:12:40.165456800Z"
    }
   },
   "id": "a1beea0bd0a0fcee"
  },
  {
   "cell_type": "code",
   "execution_count": 11,
   "outputs": [
    {
     "data": {
      "text/plain": "              REQUEST_DATE   VISIT_NO          VISIT_DATE EMERGENCY_INDICATOR  \\\n672789 2024-05-30 14:14:57  1362936-1 2024-03-17 15:24:40                   N   \n672790 2024-05-30 14:14:57  1362936-1 2024-03-17 15:24:40                   N   \n672791 2024-05-30 14:14:57  1362936-1 2024-03-17 15:24:40                   N   \n672792 2024-05-30 14:14:57  1362936-1 2024-03-17 15:24:40                   N   \n672793 2024-05-30 14:14:57  1362936-1 2024-03-17 15:24:40                   N   \n\n       PROVIDER_DEPARTMENT_CODE            PROVIDER_DEPARTMENT  \\\n672789                       22  PAEDIATRIC SERVICES - الاطفال   \n672790                       22  PAEDIATRIC SERVICES - الاطفال   \n672791                       22  PAEDIATRIC SERVICES - الاطفال   \n672792                       22  PAEDIATRIC SERVICES - الاطفال   \n672793                       22  PAEDIATRIC SERVICES - الاطفال   \n\n       DOCTOR_SPECIALTY_CODE DOCTOR_CODE PATIENT_NO EPISODE_NO  ...  \\\n672789                 14.00       10092    1198301          1  ...   \n672790                 14.00       10092    1198301          1  ...   \n672791                 14.00       10092    1198301          1  ...   \n672792                 14.00       10092    1198301          1  ...   \n672793                 14.00       10092    1198301          1  ...   \n\n       SEQUENCE_NO UNIT_PRICE_STOCKED_UOM  \\\n672789          39                  32.25   \n672790          40                  32.25   \n672791          41                 104.81   \n672792          42                  16.13   \n672793          43                 133.92   \n\n                                UNIT_PRICE_NET DISCOUNT_PERCENTAGE NOTES  \\\n672789  22.57666666666666666666666666666666666                  30  None   \n672790                                   22.58               30.01  None   \n672791                                   73.37                  30  None   \n672792                                   11.29               30.01  None   \n672793                                   93.74                  30  None   \n\n       OUTCOME APPROVED_QUNATITY Episode_Key ICD10 Diagnosis_Key  \n672789    None              None        None  None          None  \n672790    None              None        None  None          None  \n672791    None              None        None  None          None  \n672792    None              None        None  None          None  \n672793    None              None        None  None          None  \n\n[5 rows x 101 columns]",
      "text/html": "<div>\n<style scoped>\n    .dataframe tbody tr th:only-of-type {\n        vertical-align: middle;\n    }\n\n    .dataframe tbody tr th {\n        vertical-align: top;\n    }\n\n    .dataframe thead th {\n        text-align: right;\n    }\n</style>\n<table border=\"1\" class=\"dataframe\">\n  <thead>\n    <tr style=\"text-align: right;\">\n      <th></th>\n      <th>REQUEST_DATE</th>\n      <th>VISIT_NO</th>\n      <th>VISIT_DATE</th>\n      <th>EMERGENCY_INDICATOR</th>\n      <th>PROVIDER_DEPARTMENT_CODE</th>\n      <th>PROVIDER_DEPARTMENT</th>\n      <th>DOCTOR_SPECIALTY_CODE</th>\n      <th>DOCTOR_CODE</th>\n      <th>PATIENT_NO</th>\n      <th>EPISODE_NO</th>\n      <th>...</th>\n      <th>SEQUENCE_NO</th>\n      <th>UNIT_PRICE_STOCKED_UOM</th>\n      <th>UNIT_PRICE_NET</th>\n      <th>DISCOUNT_PERCENTAGE</th>\n      <th>NOTES</th>\n      <th>OUTCOME</th>\n      <th>APPROVED_QUNATITY</th>\n      <th>Episode_Key</th>\n      <th>ICD10</th>\n      <th>Diagnosis_Key</th>\n    </tr>\n  </thead>\n  <tbody>\n    <tr>\n      <th>672789</th>\n      <td>2024-05-30 14:14:57</td>\n      <td>1362936-1</td>\n      <td>2024-03-17 15:24:40</td>\n      <td>N</td>\n      <td>22</td>\n      <td>PAEDIATRIC SERVICES - الاطفال</td>\n      <td>14.00</td>\n      <td>10092</td>\n      <td>1198301</td>\n      <td>1</td>\n      <td>...</td>\n      <td>39</td>\n      <td>32.25</td>\n      <td>22.57666666666666666666666666666666666</td>\n      <td>30</td>\n      <td>None</td>\n      <td>None</td>\n      <td>None</td>\n      <td>None</td>\n      <td>None</td>\n      <td>None</td>\n    </tr>\n    <tr>\n      <th>672790</th>\n      <td>2024-05-30 14:14:57</td>\n      <td>1362936-1</td>\n      <td>2024-03-17 15:24:40</td>\n      <td>N</td>\n      <td>22</td>\n      <td>PAEDIATRIC SERVICES - الاطفال</td>\n      <td>14.00</td>\n      <td>10092</td>\n      <td>1198301</td>\n      <td>1</td>\n      <td>...</td>\n      <td>40</td>\n      <td>32.25</td>\n      <td>22.58</td>\n      <td>30.01</td>\n      <td>None</td>\n      <td>None</td>\n      <td>None</td>\n      <td>None</td>\n      <td>None</td>\n      <td>None</td>\n    </tr>\n    <tr>\n      <th>672791</th>\n      <td>2024-05-30 14:14:57</td>\n      <td>1362936-1</td>\n      <td>2024-03-17 15:24:40</td>\n      <td>N</td>\n      <td>22</td>\n      <td>PAEDIATRIC SERVICES - الاطفال</td>\n      <td>14.00</td>\n      <td>10092</td>\n      <td>1198301</td>\n      <td>1</td>\n      <td>...</td>\n      <td>41</td>\n      <td>104.81</td>\n      <td>73.37</td>\n      <td>30</td>\n      <td>None</td>\n      <td>None</td>\n      <td>None</td>\n      <td>None</td>\n      <td>None</td>\n      <td>None</td>\n    </tr>\n    <tr>\n      <th>672792</th>\n      <td>2024-05-30 14:14:57</td>\n      <td>1362936-1</td>\n      <td>2024-03-17 15:24:40</td>\n      <td>N</td>\n      <td>22</td>\n      <td>PAEDIATRIC SERVICES - الاطفال</td>\n      <td>14.00</td>\n      <td>10092</td>\n      <td>1198301</td>\n      <td>1</td>\n      <td>...</td>\n      <td>42</td>\n      <td>16.13</td>\n      <td>11.29</td>\n      <td>30.01</td>\n      <td>None</td>\n      <td>None</td>\n      <td>None</td>\n      <td>None</td>\n      <td>None</td>\n      <td>None</td>\n    </tr>\n    <tr>\n      <th>672793</th>\n      <td>2024-05-30 14:14:57</td>\n      <td>1362936-1</td>\n      <td>2024-03-17 15:24:40</td>\n      <td>N</td>\n      <td>22</td>\n      <td>PAEDIATRIC SERVICES - الاطفال</td>\n      <td>14.00</td>\n      <td>10092</td>\n      <td>1198301</td>\n      <td>1</td>\n      <td>...</td>\n      <td>43</td>\n      <td>133.92</td>\n      <td>93.74</td>\n      <td>30</td>\n      <td>None</td>\n      <td>None</td>\n      <td>None</td>\n      <td>None</td>\n      <td>None</td>\n      <td>None</td>\n    </tr>\n  </tbody>\n</table>\n<p>5 rows × 101 columns</p>\n</div>"
     },
     "execution_count": 11,
     "metadata": {},
     "output_type": "execute_result"
    }
   ],
   "source": [
    "df.tail()"
   ],
   "metadata": {
    "collapsed": false,
    "ExecuteTime": {
     "end_time": "2024-08-26T11:25:46.034469500Z",
     "start_time": "2024-08-26T11:25:45.999881100Z"
    }
   },
   "id": "9b0d268ec979a38d"
  },
  {
   "cell_type": "code",
   "execution_count": null,
   "outputs": [],
   "source": [
    "# df.to_parquet('data/HJH/new_merged_data/df.parquet')\n",
    "pd.DataFrame(df.columns).value_counts()"
   ],
   "metadata": {
    "collapsed": false,
    "ExecuteTime": {
     "start_time": "2024-08-26T09:21:25.781821700Z"
    }
   },
   "id": "1ce334ebfad9f858"
  },
  {
   "cell_type": "code",
   "execution_count": 5,
   "outputs": [],
   "source": [
    "df.to_parquet(r'\\\\10.24.105.160\\Shared_folder\\Claims_2024\\Omar Hesham\\data\\HJH\\new_merged_data\\df.parquet')"
   ],
   "metadata": {
    "collapsed": false,
    "ExecuteTime": {
     "end_time": "2024-08-26T09:50:34.796730600Z",
     "start_time": "2024-08-26T09:50:05.742712Z"
    }
   },
   "id": "144f926f2961f562"
  },
  {
   "cell_type": "code",
   "execution_count": 1,
   "outputs": [
    {
     "name": "stdout",
     "output_type": "stream",
     "text": [
      "Collecting nbdime\n",
      "  Obtaining dependency information for nbdime from https://files.pythonhosted.org/packages/ee/f6/0bf85aa4546888034d14aba021249af9347cebeaf11f510a9a7cd871a9ea/nbdime-4.0.1-py3-none-any.whl.metadata\n",
      "  Downloading nbdime-4.0.1-py3-none-any.whl.metadata (9.5 kB)\n",
      "Requirement already satisfied: colorama in c:\\users\\omar.wafy\\appdata\\local\\anaconda3\\lib\\site-packages (from nbdime) (0.4.6)\n",
      "Collecting gitpython!=2.1.4,!=2.1.5,!=2.1.6 (from nbdime)\n",
      "  Obtaining dependency information for gitpython!=2.1.4,!=2.1.5,!=2.1.6 from https://files.pythonhosted.org/packages/e9/bd/cc3a402a6439c15c3d4294333e13042b915bbeab54edc457c723931fed3f/GitPython-3.1.43-py3-none-any.whl.metadata\n",
      "  Downloading GitPython-3.1.43-py3-none-any.whl.metadata (13 kB)\n",
      "Requirement already satisfied: jinja2>=2.9 in c:\\users\\omar.wafy\\appdata\\local\\anaconda3\\lib\\site-packages (from nbdime) (3.1.2)\n",
      "Requirement already satisfied: jupyter-server in c:\\users\\omar.wafy\\appdata\\local\\anaconda3\\lib\\site-packages (from nbdime) (1.23.4)\n",
      "Collecting jupyter-server-mathjax>=0.2.2 (from nbdime)\n",
      "  Obtaining dependency information for jupyter-server-mathjax>=0.2.2 from https://files.pythonhosted.org/packages/7d/77/6a98cc88f1061c0206b427b602efb6fcb9bc369e958aee11676d5cfc4412/jupyter_server_mathjax-0.2.6-py3-none-any.whl.metadata\n",
      "  Downloading jupyter_server_mathjax-0.2.6-py3-none-any.whl.metadata (2.1 kB)\n",
      "Requirement already satisfied: nbformat in c:\\users\\omar.wafy\\appdata\\local\\anaconda3\\lib\\site-packages (from nbdime) (5.7.0)\n",
      "Requirement already satisfied: pygments in c:\\users\\omar.wafy\\appdata\\local\\anaconda3\\lib\\site-packages (from nbdime) (2.15.1)\n",
      "Requirement already satisfied: requests in c:\\users\\omar.wafy\\appdata\\local\\anaconda3\\lib\\site-packages (from nbdime) (2.31.0)\n",
      "Requirement already satisfied: tornado in c:\\users\\omar.wafy\\appdata\\local\\anaconda3\\lib\\site-packages (from nbdime) (6.3.2)\n",
      "Collecting gitdb<5,>=4.0.1 (from gitpython!=2.1.4,!=2.1.5,!=2.1.6->nbdime)\n",
      "  Obtaining dependency information for gitdb<5,>=4.0.1 from https://files.pythonhosted.org/packages/fd/5b/8f0c4a5bb9fd491c277c21eff7ccae71b47d43c4446c9d0c6cff2fe8c2c4/gitdb-4.0.11-py3-none-any.whl.metadata\n",
      "  Downloading gitdb-4.0.11-py3-none-any.whl.metadata (1.2 kB)\n",
      "Requirement already satisfied: MarkupSafe>=2.0 in c:\\users\\omar.wafy\\appdata\\local\\anaconda3\\lib\\site-packages (from jinja2>=2.9->nbdime) (2.1.1)\n",
      "Requirement already satisfied: anyio<4,>=3.1.0 in c:\\users\\omar.wafy\\appdata\\local\\anaconda3\\lib\\site-packages (from jupyter-server->nbdime) (3.5.0)\n",
      "Requirement already satisfied: argon2-cffi in c:\\users\\omar.wafy\\appdata\\local\\anaconda3\\lib\\site-packages (from jupyter-server->nbdime) (21.3.0)\n",
      "Requirement already satisfied: jupyter-client>=6.1.12 in c:\\users\\omar.wafy\\appdata\\local\\anaconda3\\lib\\site-packages (from jupyter-server->nbdime) (7.4.9)\n",
      "Requirement already satisfied: jupyter-core>=4.7.0 in c:\\users\\omar.wafy\\appdata\\local\\anaconda3\\lib\\site-packages (from jupyter-server->nbdime) (5.3.0)\n",
      "Requirement already satisfied: nbconvert>=6.4.4 in c:\\users\\omar.wafy\\appdata\\local\\anaconda3\\lib\\site-packages (from jupyter-server->nbdime) (6.5.4)\n",
      "Requirement already satisfied: packaging in c:\\users\\omar.wafy\\appdata\\local\\anaconda3\\lib\\site-packages (from jupyter-server->nbdime) (23.0)\n",
      "Requirement already satisfied: prometheus-client in c:\\users\\omar.wafy\\appdata\\local\\anaconda3\\lib\\site-packages (from jupyter-server->nbdime) (0.14.1)\n",
      "Requirement already satisfied: pyzmq>=17 in c:\\users\\omar.wafy\\appdata\\local\\anaconda3\\lib\\site-packages (from jupyter-server->nbdime) (23.2.0)\n",
      "Requirement already satisfied: Send2Trash in c:\\users\\omar.wafy\\appdata\\local\\anaconda3\\lib\\site-packages (from jupyter-server->nbdime) (1.8.0)\n",
      "Requirement already satisfied: terminado>=0.8.3 in c:\\users\\omar.wafy\\appdata\\local\\anaconda3\\lib\\site-packages (from jupyter-server->nbdime) (0.17.1)\n",
      "Requirement already satisfied: traitlets>=5.1 in c:\\users\\omar.wafy\\appdata\\local\\anaconda3\\lib\\site-packages (from jupyter-server->nbdime) (5.7.1)\n",
      "Requirement already satisfied: websocket-client in c:\\users\\omar.wafy\\appdata\\local\\anaconda3\\lib\\site-packages (from jupyter-server->nbdime) (0.58.0)\n",
      "Requirement already satisfied: pywinpty in c:\\users\\omar.wafy\\appdata\\local\\anaconda3\\lib\\site-packages (from jupyter-server->nbdime) (2.0.10)\n",
      "Requirement already satisfied: fastjsonschema in c:\\users\\omar.wafy\\appdata\\local\\anaconda3\\lib\\site-packages (from nbformat->nbdime) (2.16.2)\n",
      "Requirement already satisfied: jsonschema>=2.6 in c:\\users\\omar.wafy\\appdata\\local\\anaconda3\\lib\\site-packages (from nbformat->nbdime) (4.17.3)\n",
      "Requirement already satisfied: charset-normalizer<4,>=2 in c:\\users\\omar.wafy\\appdata\\local\\anaconda3\\lib\\site-packages (from requests->nbdime) (2.0.4)\n",
      "Requirement already satisfied: idna<4,>=2.5 in c:\\users\\omar.wafy\\appdata\\local\\anaconda3\\lib\\site-packages (from requests->nbdime) (2.10)\n",
      "Requirement already satisfied: urllib3<3,>=1.21.1 in c:\\users\\omar.wafy\\appdata\\local\\anaconda3\\lib\\site-packages (from requests->nbdime) (1.26.16)\n",
      "Requirement already satisfied: certifi>=2017.4.17 in c:\\users\\omar.wafy\\appdata\\local\\anaconda3\\lib\\site-packages (from requests->nbdime) (2024.7.4)\n",
      "Requirement already satisfied: sniffio>=1.1 in c:\\users\\omar.wafy\\appdata\\local\\anaconda3\\lib\\site-packages (from anyio<4,>=3.1.0->jupyter-server->nbdime) (1.2.0)\n",
      "Collecting smmap<6,>=3.0.1 (from gitdb<5,>=4.0.1->gitpython!=2.1.4,!=2.1.5,!=2.1.6->nbdime)\n",
      "  Obtaining dependency information for smmap<6,>=3.0.1 from https://files.pythonhosted.org/packages/a7/a5/10f97f73544edcdef54409f1d839f6049a0d79df68adbc1ceb24d1aaca42/smmap-5.0.1-py3-none-any.whl.metadata\n",
      "  Downloading smmap-5.0.1-py3-none-any.whl.metadata (4.3 kB)\n",
      "Requirement already satisfied: attrs>=17.4.0 in c:\\users\\omar.wafy\\appdata\\local\\anaconda3\\lib\\site-packages (from jsonschema>=2.6->nbformat->nbdime) (22.1.0)\n",
      "Requirement already satisfied: pyrsistent!=0.17.0,!=0.17.1,!=0.17.2,>=0.14.0 in c:\\users\\omar.wafy\\appdata\\local\\anaconda3\\lib\\site-packages (from jsonschema>=2.6->nbformat->nbdime) (0.18.0)\n",
      "Requirement already satisfied: entrypoints in c:\\users\\omar.wafy\\appdata\\local\\anaconda3\\lib\\site-packages (from jupyter-client>=6.1.12->jupyter-server->nbdime) (0.4)\n",
      "Requirement already satisfied: nest-asyncio>=1.5.4 in c:\\users\\omar.wafy\\appdata\\local\\anaconda3\\lib\\site-packages (from jupyter-client>=6.1.12->jupyter-server->nbdime) (1.5.6)\n",
      "Requirement already satisfied: python-dateutil>=2.8.2 in c:\\users\\omar.wafy\\appdata\\local\\anaconda3\\lib\\site-packages (from jupyter-client>=6.1.12->jupyter-server->nbdime) (2.8.2)\n",
      "Requirement already satisfied: platformdirs>=2.5 in c:\\users\\omar.wafy\\appdata\\local\\anaconda3\\lib\\site-packages (from jupyter-core>=4.7.0->jupyter-server->nbdime) (2.5.2)\n",
      "Requirement already satisfied: pywin32>=300 in c:\\users\\omar.wafy\\appdata\\local\\anaconda3\\lib\\site-packages (from jupyter-core>=4.7.0->jupyter-server->nbdime) (305.1)\n",
      "Requirement already satisfied: lxml in c:\\users\\omar.wafy\\appdata\\local\\anaconda3\\lib\\site-packages (from nbconvert>=6.4.4->jupyter-server->nbdime) (4.9.2)\n",
      "Requirement already satisfied: beautifulsoup4 in c:\\users\\omar.wafy\\appdata\\local\\anaconda3\\lib\\site-packages (from nbconvert>=6.4.4->jupyter-server->nbdime) (4.12.2)\n",
      "Requirement already satisfied: bleach in c:\\users\\omar.wafy\\appdata\\local\\anaconda3\\lib\\site-packages (from nbconvert>=6.4.4->jupyter-server->nbdime) (4.1.0)\n",
      "Requirement already satisfied: defusedxml in c:\\users\\omar.wafy\\appdata\\local\\anaconda3\\lib\\site-packages (from nbconvert>=6.4.4->jupyter-server->nbdime) (0.7.1)\n",
      "Requirement already satisfied: jupyterlab-pygments in c:\\users\\omar.wafy\\appdata\\local\\anaconda3\\lib\\site-packages (from nbconvert>=6.4.4->jupyter-server->nbdime) (0.1.2)\n",
      "Requirement already satisfied: mistune<2,>=0.8.1 in c:\\users\\omar.wafy\\appdata\\local\\anaconda3\\lib\\site-packages (from nbconvert>=6.4.4->jupyter-server->nbdime) (0.8.4)\n",
      "Requirement already satisfied: nbclient>=0.5.0 in c:\\users\\omar.wafy\\appdata\\local\\anaconda3\\lib\\site-packages (from nbconvert>=6.4.4->jupyter-server->nbdime) (0.5.13)\n",
      "Requirement already satisfied: pandocfilters>=1.4.1 in c:\\users\\omar.wafy\\appdata\\local\\anaconda3\\lib\\site-packages (from nbconvert>=6.4.4->jupyter-server->nbdime) (1.5.0)\n",
      "Requirement already satisfied: tinycss2 in c:\\users\\omar.wafy\\appdata\\local\\anaconda3\\lib\\site-packages (from nbconvert>=6.4.4->jupyter-server->nbdime) (1.2.1)\n",
      "Requirement already satisfied: argon2-cffi-bindings in c:\\users\\omar.wafy\\appdata\\local\\anaconda3\\lib\\site-packages (from argon2-cffi->jupyter-server->nbdime) (21.2.0)\n",
      "Requirement already satisfied: six in c:\\users\\omar.wafy\\appdata\\local\\anaconda3\\lib\\site-packages (from websocket-client->jupyter-server->nbdime) (1.16.0)\n",
      "Requirement already satisfied: cffi>=1.0.1 in c:\\users\\omar.wafy\\appdata\\local\\anaconda3\\lib\\site-packages (from argon2-cffi-bindings->argon2-cffi->jupyter-server->nbdime) (1.15.1)\n",
      "Requirement already satisfied: soupsieve>1.2 in c:\\users\\omar.wafy\\appdata\\local\\anaconda3\\lib\\site-packages (from beautifulsoup4->nbconvert>=6.4.4->jupyter-server->nbdime) (2.4)\n",
      "Requirement already satisfied: webencodings in c:\\users\\omar.wafy\\appdata\\local\\anaconda3\\lib\\site-packages (from bleach->nbconvert>=6.4.4->jupyter-server->nbdime) (0.5.1)\n",
      "Requirement already satisfied: pycparser in c:\\users\\omar.wafy\\appdata\\local\\anaconda3\\lib\\site-packages (from cffi>=1.0.1->argon2-cffi-bindings->argon2-cffi->jupyter-server->nbdime) (2.21)\n",
      "Downloading nbdime-4.0.1-py3-none-any.whl (5.9 MB)\n",
      "   ---------------------------------------- 0.0/5.9 MB ? eta -:--:--\n",
      "   ---------------------------------------- 0.1/5.9 MB 1.7 MB/s eta 0:00:04\n",
      "   - -------------------------------------- 0.2/5.9 MB 2.1 MB/s eta 0:00:03\n",
      "   -- ------------------------------------- 0.4/5.9 MB 2.9 MB/s eta 0:00:02\n",
      "   ---- ----------------------------------- 0.6/5.9 MB 3.6 MB/s eta 0:00:02\n",
      "   ----- ---------------------------------- 0.8/5.9 MB 4.1 MB/s eta 0:00:02\n",
      "   ----- ---------------------------------- 0.8/5.9 MB 4.1 MB/s eta 0:00:02\n",
      "   ----- ---------------------------------- 0.8/5.9 MB 4.1 MB/s eta 0:00:02\n",
      "   -------- ------------------------------- 1.3/5.9 MB 3.5 MB/s eta 0:00:02\n",
      "   ------------ --------------------------- 1.8/5.9 MB 4.4 MB/s eta 0:00:01\n",
      "   -------------- ------------------------- 2.1/5.9 MB 4.8 MB/s eta 0:00:01\n",
      "   ---------------- ----------------------- 2.4/5.9 MB 4.8 MB/s eta 0:00:01\n",
      "   ------------------ --------------------- 2.7/5.9 MB 5.0 MB/s eta 0:00:01\n",
      "   ------------------- -------------------- 2.9/5.9 MB 4.9 MB/s eta 0:00:01\n",
      "   --------------------- ------------------ 3.1/5.9 MB 4.9 MB/s eta 0:00:01\n",
      "   ---------------------- ----------------- 3.3/5.9 MB 4.8 MB/s eta 0:00:01\n",
      "   ----------------------- ---------------- 3.5/5.9 MB 4.8 MB/s eta 0:00:01\n",
      "   ------------------------- -------------- 3.8/5.9 MB 4.8 MB/s eta 0:00:01\n",
      "   -------------------------- ------------- 4.0/5.9 MB 4.8 MB/s eta 0:00:01\n",
      "   ---------------------------- ----------- 4.2/5.9 MB 4.8 MB/s eta 0:00:01\n",
      "   ----------------------------- ---------- 4.4/5.9 MB 4.8 MB/s eta 0:00:01\n",
      "   ------------------------------- -------- 4.6/5.9 MB 4.7 MB/s eta 0:00:01\n",
      "   -------------------------------- ------- 4.8/5.9 MB 4.7 MB/s eta 0:00:01\n",
      "   --------------------------------- ------ 5.0/5.9 MB 4.8 MB/s eta 0:00:01\n",
      "   ----------------------------------- ---- 5.2/5.9 MB 4.7 MB/s eta 0:00:01\n",
      "   ------------------------------------ --- 5.5/5.9 MB 4.7 MB/s eta 0:00:01\n",
      "   -------------------------------------- - 5.7/5.9 MB 4.8 MB/s eta 0:00:01\n",
      "   ---------------------------------------  5.9/5.9 MB 4.8 MB/s eta 0:00:01\n",
      "   ---------------------------------------- 5.9/5.9 MB 4.5 MB/s eta 0:00:00\n",
      "Downloading GitPython-3.1.43-py3-none-any.whl (207 kB)\n",
      "   ---------------------------------------- 0.0/207.3 kB ? eta -:--:--\n",
      "   ---------------------------------------- 207.3/207.3 kB 4.3 MB/s eta 0:00:00\n",
      "Downloading jupyter_server_mathjax-0.2.6-py3-none-any.whl (3.1 MB)\n",
      "   ---------------------------------------- 0.0/3.1 MB ? eta -:--:--\n",
      "   --- ------------------------------------ 0.2/3.1 MB 4.8 MB/s eta 0:00:01\n",
      "   ------ --------------------------------- 0.5/3.1 MB 5.0 MB/s eta 0:00:01\n",
      "   -------- ------------------------------- 0.7/3.1 MB 4.9 MB/s eta 0:00:01\n",
      "   ----------- ---------------------------- 0.9/3.1 MB 4.8 MB/s eta 0:00:01\n",
      "   -------------- ------------------------- 1.1/3.1 MB 4.8 MB/s eta 0:00:01\n",
      "   ----------------- ---------------------- 1.4/3.1 MB 4.8 MB/s eta 0:00:01\n",
      "   -------------------- ------------------- 1.6/3.1 MB 4.8 MB/s eta 0:00:01\n",
      "   ----------------------- ---------------- 1.8/3.1 MB 4.8 MB/s eta 0:00:01\n",
      "   -------------------------- ------------- 2.0/3.1 MB 4.8 MB/s eta 0:00:01\n",
      "   ---------------------------- ----------- 2.3/3.1 MB 4.8 MB/s eta 0:00:01\n",
      "   ------------------------------- -------- 2.5/3.1 MB 4.8 MB/s eta 0:00:01\n",
      "   ---------------------------------- ----- 2.7/3.1 MB 4.8 MB/s eta 0:00:01\n",
      "   ------------------------------------- -- 2.9/3.1 MB 4.8 MB/s eta 0:00:01\n",
      "   ---------------------------------------  3.1/3.1 MB 4.8 MB/s eta 0:00:01\n",
      "   ---------------------------------------  3.1/3.1 MB 4.5 MB/s eta 0:00:01\n",
      "   ---------------------------------------- 3.1/3.1 MB 4.4 MB/s eta 0:00:00\n",
      "Downloading gitdb-4.0.11-py3-none-any.whl (62 kB)\n",
      "   ---------------------------------------- 0.0/62.7 kB ? eta -:--:--\n",
      "   ---------------------------------------- 62.7/62.7 kB ? eta 0:00:00\n",
      "Downloading smmap-5.0.1-py3-none-any.whl (24 kB)\n",
      "Installing collected packages: smmap, gitdb, gitpython, jupyter-server-mathjax, nbdime\n",
      "Successfully installed gitdb-4.0.11 gitpython-3.1.43 jupyter-server-mathjax-0.2.6 nbdime-4.0.1 smmap-5.0.1\n"
     ]
    }
   ],
   "source": [
    "#adding nbdime to try tracking jupyter notebooks\n",
    "!pip install nbdime"
   ],
   "metadata": {
    "collapsed": false,
    "ExecuteTime": {
     "end_time": "2024-08-27T08:41:16.425413100Z",
     "start_time": "2024-08-27T08:40:56.516348900Z"
    }
   },
   "id": "93e6223973ebae6f"
  },
  {
   "cell_type": "code",
   "execution_count": 2,
   "outputs": [],
   "source": [
    "!nbdime config-git --enable --global"
   ],
   "metadata": {
    "collapsed": false,
    "ExecuteTime": {
     "end_time": "2024-08-27T08:44:12.129482200Z",
     "start_time": "2024-08-27T08:44:10.276413200Z"
    }
   },
   "id": "b3ee27bbe84de926"
  },
  {
   "cell_type": "code",
   "execution_count": null,
   "outputs": [],
   "source": [
    "!nbdiff-web merged_data_loading.ipynb"
   ],
   "metadata": {
    "collapsed": false,
    "is_executing": true,
    "ExecuteTime": {
     "start_time": "2024-08-27T08:47:26.302037Z"
    }
   },
   "id": "b0bfdccf1812c019"
  },
  {
   "cell_type": "code",
   "execution_count": null,
   "outputs": [],
   "source": [],
   "metadata": {
    "collapsed": false
   },
   "id": "b67671dc615ad2c0"
  }
 ],
 "metadata": {
  "kernelspec": {
   "display_name": "Python 3",
   "language": "python",
   "name": "python3"
  },
  "language_info": {
   "codemirror_mode": {
    "name": "ipython",
    "version": 2
   },
   "file_extension": ".py",
   "mimetype": "text/x-python",
   "name": "python",
   "nbconvert_exporter": "python",
   "pygments_lexer": "ipython2",
   "version": "2.7.6"
  }
 },
 "nbformat": 4,
 "nbformat_minor": 5
}
