{
 "cells": [
  {
   "cell_type": "code",
   "execution_count": 1,
   "id": "initial_id",
   "metadata": {
    "collapsed": true,
    "ExecuteTime": {
     "end_time": "2024-08-25T13:29:04.422199300Z",
     "start_time": "2024-08-25T13:29:03.666317800Z"
    }
   },
   "outputs": [],
   "source": [
    "import pandas as pd \n",
    "from src.data_query import load_merged_query_by_date"
   ]
  },
  {
   "cell_type": "code",
   "execution_count": null,
   "outputs": [],
   "source": [
    "FIRST_DATE = '01-01-2024'\n",
    "LAST_DATE = '02-01-2024'\n",
    "df = load_merged_query_by_date(FIRST_DATE,LAST_DATE)"
   ],
   "metadata": {
    "collapsed": false,
    "is_executing": true,
    "ExecuteTime": {
     "start_time": "2024-08-25T13:29:05.088106700Z"
    }
   },
   "id": "a1beea0bd0a0fcee"
  },
  {
   "cell_type": "code",
   "execution_count": null,
   "outputs": [],
   "source": [],
   "metadata": {
    "collapsed": false
   },
   "id": "1ce334ebfad9f858"
  }
 ],
 "metadata": {
  "kernelspec": {
   "display_name": "Python 3",
   "language": "python",
   "name": "python3"
  },
  "language_info": {
   "codemirror_mode": {
    "name": "ipython",
    "version": 2
   },
   "file_extension": ".py",
   "mimetype": "text/x-python",
   "name": "python",
   "nbconvert_exporter": "python",
   "pygments_lexer": "ipython2",
   "version": "2.7.6"
  }
 },
 "nbformat": 4,
 "nbformat_minor": 5
}
