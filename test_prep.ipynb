{
 "cells": [
  {
   "cell_type": "code",
   "execution_count": null,
   "metadata": {
    "collapsed": true
   },
   "outputs": [],
   "source": [
    "## ICD10\n",
    "import pandas as pd\n",
    "\n",
    "\n",
    "df_original = get_cashed_input()\n",
    "ICD10_df = pd.DataFrame()\n",
    "ICD10_df['ICD10'] = list(df_original['ICD10'].sort_values())\n",
    "ICD10_df\n",
    "from sklearn.preprocessing import LabelEncoder\n",
    "\n",
    "\n",
    "def _label_encode_column(df, column_name):\n",
    "    label_encoder = LabelEncoder()\n",
    "    values = label_encoder.fit_transform(df[column_name])\n",
    "    return values\n",
    "\n",
    "\n",
    "ICD10_df['ENCODED'] = _label_encode_column(ICD10_df, column_name='ICD10')\n",
    "icd10_hot_encoded = {}\n",
    "for i in range(len(ICD10_df)):\n",
    "    icd10_hot_encoded[ICD10_df['ICD10'].iloc[i]] = int(ICD10_df['ENCODED'].iloc[i])\n",
    "icd10_hot_encoded\n",
    "import json\n",
    "\n",
    "file_path = 'src/data_backup/label_encoding_items.json'\n",
    "with open(file_path, 'r') as file:\n",
    "    data = json.load(file)\n",
    "\n",
    "data\n",
    "data['ICD10'] = icd10_hot_encoded\n",
    "with open(file_path, 'w') as file:\n",
    "    json.dump(data, file, indent=4)"
   ]
  }
 ],
 "metadata": {
  "kernelspec": {
   "display_name": "Python 3",
   "language": "python",
   "name": "python3"
  },
  "language_info": {
   "codemirror_mode": {
    "name": "ipython",
    "version": 2
   },
   "file_extension": ".py",
   "mimetype": "text/x-python",
   "name": "python",
   "nbconvert_exporter": "python",
   "pygments_lexer": "ipython2",
   "version": "2.7.6"
  }
 },
 "nbformat": 4,
 "nbformat_minor": 0
}
