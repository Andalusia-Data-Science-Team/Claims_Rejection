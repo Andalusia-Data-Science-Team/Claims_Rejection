{
 "cells": [
  {
   "cell_type": "code",
   "execution_count": null,
   "metadata": {
    "collapsed": true
   },
   "outputs": [],
   "source": [
    "## ICD10\n",
    "import pandas as pd\n",
    "from cashe import get_cashed_input\n",
    "\n",
    "df_original = get_cashed_input()\n",
    "ICD10_df = pd.DataFrame()\n",
    "ICD10_df['ICD10'] = list(df_original['ICD10'].sort_values())\n",
    "ICD10_df\n",
    "from sklearn.preprocessing import LabelEncoder\n",
    "\n",
    "\n",
    "def _label_encode_column(df, column_name):\n",
    "    label_encoder = LabelEncoder()\n",
    "    values = label_encoder.fit_transform(df[column_name])\n",
    "    return values\n",
    "\n",
    "\n",
    "ICD10_df['ENCODED'] = _label_encode_column(ICD10_df, column_name='ICD10')\n",
    "icd10_hot_encoded = {}\n",
    "for i in range(len(ICD10_df)):\n",
    "    icd10_hot_encoded[ICD10_df['ICD10'].iloc[i]] = int(ICD10_df['ENCODED'].iloc[i])\n",
    "icd10_hot_encoded\n",
    "import json\n",
    "\n",
    "file_path = 'src/data_backup/label_encoding_items.json'\n",
    "with open(file_path, 'r') as file:\n",
    "    data = json.load(file)\n",
    "\n",
    "data\n"
   ]
  },
  {
   "cell_type": "code",
   "execution_count": null,
   "outputs": [],
   "source": [
    "data['ICD10'] = icd10_hot_encoded\n",
    "with open(file_path, 'w') as file:\n",
    "    json.dump(data, file, indent=4)"
   ],
   "metadata": {
    "collapsed": false
   }
  },
  {
   "cell_type": "code",
   "execution_count": 1,
   "outputs": [],
   "source": [
    "import pandas as pd\n",
    "\n",
    "df = pd.read_csv('data/HJH/idc10_disease_full_data.csv')"
   ],
   "metadata": {
    "collapsed": false,
    "ExecuteTime": {
     "end_time": "2024-08-22T09:42:46.160687500Z",
     "start_time": "2024-08-22T09:42:45.044529Z"
    }
   }
  },
  {
   "cell_type": "code",
   "execution_count": 10,
   "outputs": [],
   "source": [
    "icd_10_dict = {}\n",
    "for i in range(len(df)):\n",
    "    i,j = df[['diseaseCode','diseaseDescription']].iloc[i]\n",
    "    icd_10_dict[i] = j"
   ],
   "metadata": {
    "collapsed": false,
    "ExecuteTime": {
     "end_time": "2024-08-22T09:50:30.206518200Z",
     "start_time": "2024-08-22T09:47:26.972982700Z"
    }
   }
  },
  {
   "cell_type": "code",
   "execution_count": 19,
   "outputs": [
    {
     "ename": "KeyboardInterrupt",
     "evalue": "",
     "output_type": "error",
     "traceback": [
      "\u001B[1;31m---------------------------------------------------------------------------\u001B[0m",
      "\u001B[1;31mKeyboardInterrupt\u001B[0m                         Traceback (most recent call last)",
      "Cell \u001B[1;32mIn[19], line 6\u001B[0m\n\u001B[0;32m      4\u001B[0m \u001B[38;5;28;01mfor\u001B[39;00m elem \u001B[38;5;129;01min\u001B[39;00m df[\u001B[38;5;124m'\u001B[39m\u001B[38;5;124mICD10\u001B[39m\u001B[38;5;124m'\u001B[39m]\u001B[38;5;241m.\u001B[39mtolist():\n\u001B[0;32m      5\u001B[0m     \u001B[38;5;28;01mif\u001B[39;00m elem \u001B[38;5;129;01mnot\u001B[39;00m \u001B[38;5;129;01min\u001B[39;00m icd_10_dict \u001B[38;5;129;01mand\u001B[39;00m elem \u001B[38;5;129;01mis\u001B[39;00m \u001B[38;5;129;01mnot\u001B[39;00m \u001B[38;5;28;01mNone\u001B[39;00m:\n\u001B[1;32m----> 6\u001B[0m         \u001B[38;5;28;01mfor\u001B[39;00m k,v \u001B[38;5;129;01min\u001B[39;00m icd_10_dict\u001B[38;5;241m.\u001B[39mitems():\n\u001B[0;32m      7\u001B[0m             \u001B[38;5;28;01mif\u001B[39;00m elem \u001B[38;5;129;01min\u001B[39;00m \u001B[38;5;28mstr\u001B[39m(k):\n\u001B[0;32m      8\u001B[0m                 val \u001B[38;5;241m=\u001B[39m v\n",
      "\u001B[1;31mKeyboardInterrupt\u001B[0m: "
     ]
    }
   ],
   "source": [
    "from cashe import get_cashed_input\n",
    "\n",
    "df = get_cashed_input()\n",
    "for elem in df['ICD10'].tolist():\n",
    "    if elem not in icd_10_dict and elem is not None:\n",
    "        for k,v in icd_10_dict.items():\n",
    "            if elem in str(k):\n",
    "                val = v\n",
    "                elem = 'nan'\n",
    "            elif elem.split('.')[0] in str(k):\n",
    "                val = v\n",
    "                elem = 'nan'\n",
    "        if elem == 'nan':\n",
    "            icd_10_dict[elem] = val"
   ],
   "metadata": {
    "collapsed": false,
    "ExecuteTime": {
     "start_time": "2024-08-22T12:29:28.634714200Z"
    }
   }
  },
  {
   "cell_type": "code",
   "execution_count": null,
   "outputs": [],
   "source": [
    "icd_10_dict"
   ],
   "metadata": {
    "collapsed": false,
    "ExecuteTime": {
     "end_time": "2024-08-22T13:00:37.805920900Z",
     "start_time": "2024-08-22T13:00:37.805920900Z"
    }
   }
  },
  {
   "cell_type": "code",
   "execution_count": 18,
   "outputs": [],
   "source": [
    "import json\n",
    "\n",
    "file_path = 'src/data_backup/label_encoding_items.json'\n",
    "with open(file_path, 'r') as file:\n",
    "    data = json.load(file)\n",
    "\n",
    "data['ICD10'] = icd_10_dict\n",
    "with open(file_path, 'w') as file:\n",
    "    json.dump(data, file, indent=4)"
   ],
   "metadata": {
    "collapsed": false,
    "ExecuteTime": {
     "end_time": "2024-08-22T10:19:06.263979400Z",
     "start_time": "2024-08-22T10:19:05.950628400Z"
    }
   }
  },
  {
   "cell_type": "code",
   "execution_count": null,
   "outputs": [],
   "source": [],
   "metadata": {
    "collapsed": false
   }
  }
 ],
 "metadata": {
  "kernelspec": {
   "display_name": "Python 3",
   "language": "python",
   "name": "python3"
  },
  "language_info": {
   "codemirror_mode": {
    "name": "ipython",
    "version": 2
   },
   "file_extension": ".py",
   "mimetype": "text/x-python",
   "name": "python",
   "nbconvert_exporter": "python",
   "pygments_lexer": "ipython2",
   "version": "2.7.6"
  }
 },
 "nbformat": 4,
 "nbformat_minor": 0
}
