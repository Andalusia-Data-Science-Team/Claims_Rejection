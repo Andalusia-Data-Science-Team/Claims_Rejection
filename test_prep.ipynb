{
 "cells": [
  {
   "cell_type": "code",
   "execution_count": null,
   "metadata": {
    "collapsed": true
   },
   "outputs": [],
   "source": [
    "## ICD10\n",
    "import pandas as pd\n",
    "from cashe import get_cashed_input\n",
    "\n",
    "df_original = get_cashed_input()\n",
    "ICD10_df = pd.DataFrame()\n",
    "ICD10_df['ICD10'] = list(df_original['ICD10'].sort_values())\n",
    "ICD10_df\n",
    "from sklearn.preprocessing import LabelEncoder\n",
    "\n",
    "\n",
    "def _label_encode_column(df, column_name):\n",
    "    label_encoder = LabelEncoder()\n",
    "    values = label_encoder.fit_transform(df[column_name])\n",
    "    return values\n",
    "\n",
    "\n",
    "ICD10_df['ENCODED'] = _label_encode_column(ICD10_df, column_name='ICD10')\n",
    "icd10_hot_encoded = {}\n",
    "for i in range(len(ICD10_df)):\n",
    "    icd10_hot_encoded[ICD10_df['ICD10'].iloc[i]] = int(ICD10_df['ENCODED'].iloc[i])\n",
    "icd10_hot_encoded\n",
    "import json\n",
    "\n",
    "file_path = 'src/data_backup/label_encoding_items.json'\n",
    "with open(file_path, 'r') as file:\n",
    "    data = json.load(file)\n",
    "\n",
    "data\n"
   ]
  },
  {
   "cell_type": "code",
   "execution_count": null,
   "outputs": [],
   "source": [
    "data['ICD10'] = icd10_hot_encoded\n",
    "with open(file_path, 'w') as file:\n",
    "    json.dump(data, file, indent=4)"
   ],
   "metadata": {
    "collapsed": false
   }
  },
  {
   "cell_type": "code",
   "execution_count": 1,
   "outputs": [],
   "source": [
    "import pandas as pd\n",
    "\n",
    "df = pd.read_csv('data/HJH/idc10_disease_full_data.csv')"
   ],
   "metadata": {
    "collapsed": false,
    "ExecuteTime": {
     "end_time": "2024-08-22T09:42:46.160687500Z",
     "start_time": "2024-08-22T09:42:45.044529Z"
    }
   }
  },
  {
   "cell_type": "code",
   "execution_count": 10,
   "outputs": [],
   "source": [
    "icd_10_dict = {}\n",
    "for i in range(len(df)):\n",
    "    i,j = df[['diseaseCode','diseaseDescription']].iloc[i]\n",
    "    icd_10_dict[i] = j"
   ],
   "metadata": {
    "collapsed": false,
    "ExecuteTime": {
     "end_time": "2024-08-22T09:50:30.206518200Z",
     "start_time": "2024-08-22T09:47:26.972982700Z"
    }
   }
  },
  {
   "cell_type": "code",
   "execution_count": null,
   "outputs": [],
   "source": [
    "from cashe import get_cashed_input\n",
    "\n",
    "df = get_cashed_input()\n",
    "for elem in df['ICD10'].tolist():\n",
    "    if elem not in icd_10_dict and elem is not None:\n",
    "        for k,v in icd_10_dict.items():\n",
    "            flag = False\n",
    "            if elem in str(k):\n",
    "                val = v; flag = True\n",
    "            elif elem.split('.')[0] in str(k):\n",
    "                val = v; flag = True\n",
    "        if flag == True:\n",
    "            icd_10_dict[elem] = val"
   ],
   "metadata": {
    "collapsed": false,
    "is_executing": true,
    "ExecuteTime": {
     "start_time": "2024-08-22T14:22:07.659004200Z"
    }
   }
  },
  {
   "cell_type": "code",
   "execution_count": null,
   "outputs": [],
   "source": [
    "icd_10_dict"
   ],
   "metadata": {
    "collapsed": false,
    "is_executing": true
   }
  },
  {
   "cell_type": "code",
   "execution_count": 18,
   "outputs": [],
   "source": [
    "import json\n",
    "\n",
    "file_path = 'src/data_backup/label_encoding_items.json'\n",
    "with open(file_path, 'r') as file:\n",
    "    data = json.load(file)\n",
    "\n",
    "data['ICD10'] = icd_10_dict\n",
    "with open(file_path, 'w') as file:\n",
    "    json.dump(data, file, indent=4)"
   ],
   "metadata": {
    "collapsed": false,
    "ExecuteTime": {
     "end_time": "2024-08-22T10:19:06.263979400Z",
     "start_time": "2024-08-22T10:19:05.950628400Z"
    }
   }
  },
  {
   "cell_type": "code",
   "execution_count": null,
   "outputs": [],
   "source": [],
   "metadata": {
    "collapsed": false
   }
  }
 ],
 "metadata": {
  "kernelspec": {
   "display_name": "Python 3",
   "language": "python",
   "name": "python3"
  },
  "language_info": {
   "codemirror_mode": {
    "name": "ipython",
    "version": 2
   },
   "file_extension": ".py",
   "mimetype": "text/x-python",
   "name": "python",
   "nbconvert_exporter": "python",
   "pygments_lexer": "ipython2",
   "version": "2.7.6"
  }
 },
 "nbformat": 4,
 "nbformat_minor": 0
}
