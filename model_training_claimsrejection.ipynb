{
 "cells": [
  {
   "cell_type": "code",
   "execution_count": 1,
   "metadata": {
    "collapsed": true,
    "ExecuteTime": {
     "end_time": "2024-08-27T12:01:45.908145800Z",
     "start_time": "2024-08-27T12:01:32.415575900Z"
    }
   },
   "outputs": [],
   "source": [
    "from src.model_train import ModelTrainer, validate_folds\n",
    "import pandas as pd\n",
    "\n",
    "from cashe import get_training_inputs, drop_nomodel_columns, get_train_test_split\n",
    "from src.data_local import MergedDataPreprocessing,read_last_date, append_last_line\n",
    "from src.lstm_encoder import LSTMEmbedding\n",
    "from src.model_app import ModelApplication"
   ]
  },
  {
   "cell_type": "code",
   "execution_count": 2,
   "outputs": [],
   "source": [
    "df_train, df_test = get_train_test_split(path='data/HJH/13-06-2024')"
   ],
   "metadata": {
    "collapsed": false,
    "ExecuteTime": {
     "end_time": "2024-08-27T12:21:45.690609600Z",
     "start_time": "2024-08-27T12:21:43.960222600Z"
    }
   }
  },
  {
   "cell_type": "code",
   "execution_count": 3,
   "outputs": [
    {
     "data": {
      "text/plain": "              REQUEST_DATE   VISIT_NO VISIT_DATE EMERGENCY_INDICATOR  \\\n398448 2024-01-01 12:33:25  1346536-2 2023-12-07                   N   \n398449 2024-01-01 12:38:12  1343530-4 2023-12-06                   N   \n398453 2024-01-01 12:38:36  1343731-2 2023-12-03                   N   \n398454 2024-01-01 12:38:36  1343731-2 2023-12-03                   N   \n398450 2024-01-01 12:38:36  1343731-2 2023-12-03                   N   \n\n        PROVIDER_DEPARTMENT_CODE                   PROVIDER_DEPARTMENT  \\\n398448                       855                        CARDIOTHORACIC   \n398449                         4               DENTAL SERVICES - اسنان   \n398453                        25  RADIOGRAPHIC INVESTIGATIONS - الأشعة   \n398454                        25  RADIOGRAPHIC INVESTIGATIONS - الأشعة   \n398450                        25  RADIOGRAPHIC INVESTIGATIONS - الأشعة   \n\n        DOCTOR_SPECIALTY_CODE  DOCTOR_CODE  PATIENT_NO  EPISODE_NO  ...  \\\n398448                   8.25         8455     1183018           2  ...   \n398449                  22.00         7352     1180321           4  ...   \n398453                  18.06         9638     1180507           2  ...   \n398454                  18.06         9638     1180507           2  ...   \n398450                  18.06         9638     1180507           2  ...   \n\n        SEQUENCE_NO UNIT_PRICE_STOCKED_UOM  UNIT_PRICE_NET  \\\n398448            1                 120.00           96.00   \n398449            1                 120.00          120.00   \n398453            4                1791.67         1154.17   \n398454            5                   1.69            1.25   \n398450            1                  16.13           11.29   \n\n       DISCOUNT_PERCENTAGE                                              NOTES  \\\n398448                0.00                                                      \n398449                0.00  Rejected for the reason Sorry you are not an a...   \n398453               30.00  Rejected for the reason Sorry you are not an a...   \n398454                7.69  Rejected for the reason Sorry you are not an a...   \n398450               30.01  Rejected for the reason Sorry you are not an a...   \n\n         OUTCOME  APPROVED_QUNATITY  Episode_Key  ICD10 Diagnosis_Key  \n398448  APPROVED                1.0  1_1346536-2    J93  1_1111225808  \n398449  REJECTED                0.0  1_1343530-4    K02  1_1111225570  \n398453  REJECTED                0.0  1_1343731-2  N80.1  1_1111228814  \n398454  REJECTED                0.0  1_1343731-2  N80.1  1_1111228814  \n398450  REJECTED                0.0  1_1343731-2  N80.1  1_1111228814  \n\n[5 rows x 101 columns]",
      "text/html": "<div>\n<style scoped>\n    .dataframe tbody tr th:only-of-type {\n        vertical-align: middle;\n    }\n\n    .dataframe tbody tr th {\n        vertical-align: top;\n    }\n\n    .dataframe thead th {\n        text-align: right;\n    }\n</style>\n<table border=\"1\" class=\"dataframe\">\n  <thead>\n    <tr style=\"text-align: right;\">\n      <th></th>\n      <th>REQUEST_DATE</th>\n      <th>VISIT_NO</th>\n      <th>VISIT_DATE</th>\n      <th>EMERGENCY_INDICATOR</th>\n      <th>PROVIDER_DEPARTMENT_CODE</th>\n      <th>PROVIDER_DEPARTMENT</th>\n      <th>DOCTOR_SPECIALTY_CODE</th>\n      <th>DOCTOR_CODE</th>\n      <th>PATIENT_NO</th>\n      <th>EPISODE_NO</th>\n      <th>...</th>\n      <th>SEQUENCE_NO</th>\n      <th>UNIT_PRICE_STOCKED_UOM</th>\n      <th>UNIT_PRICE_NET</th>\n      <th>DISCOUNT_PERCENTAGE</th>\n      <th>NOTES</th>\n      <th>OUTCOME</th>\n      <th>APPROVED_QUNATITY</th>\n      <th>Episode_Key</th>\n      <th>ICD10</th>\n      <th>Diagnosis_Key</th>\n    </tr>\n  </thead>\n  <tbody>\n    <tr>\n      <th>398448</th>\n      <td>2024-01-01 12:33:25</td>\n      <td>1346536-2</td>\n      <td>2023-12-07</td>\n      <td>N</td>\n      <td>855</td>\n      <td>CARDIOTHORACIC</td>\n      <td>8.25</td>\n      <td>8455</td>\n      <td>1183018</td>\n      <td>2</td>\n      <td>...</td>\n      <td>1</td>\n      <td>120.00</td>\n      <td>96.00</td>\n      <td>0.00</td>\n      <td></td>\n      <td>APPROVED</td>\n      <td>1.0</td>\n      <td>1_1346536-2</td>\n      <td>J93</td>\n      <td>1_1111225808</td>\n    </tr>\n    <tr>\n      <th>398449</th>\n      <td>2024-01-01 12:38:12</td>\n      <td>1343530-4</td>\n      <td>2023-12-06</td>\n      <td>N</td>\n      <td>4</td>\n      <td>DENTAL SERVICES - اسنان</td>\n      <td>22.00</td>\n      <td>7352</td>\n      <td>1180321</td>\n      <td>4</td>\n      <td>...</td>\n      <td>1</td>\n      <td>120.00</td>\n      <td>120.00</td>\n      <td>0.00</td>\n      <td>Rejected for the reason Sorry you are not an a...</td>\n      <td>REJECTED</td>\n      <td>0.0</td>\n      <td>1_1343530-4</td>\n      <td>K02</td>\n      <td>1_1111225570</td>\n    </tr>\n    <tr>\n      <th>398453</th>\n      <td>2024-01-01 12:38:36</td>\n      <td>1343731-2</td>\n      <td>2023-12-03</td>\n      <td>N</td>\n      <td>25</td>\n      <td>RADIOGRAPHIC INVESTIGATIONS - الأشعة</td>\n      <td>18.06</td>\n      <td>9638</td>\n      <td>1180507</td>\n      <td>2</td>\n      <td>...</td>\n      <td>4</td>\n      <td>1791.67</td>\n      <td>1154.17</td>\n      <td>30.00</td>\n      <td>Rejected for the reason Sorry you are not an a...</td>\n      <td>REJECTED</td>\n      <td>0.0</td>\n      <td>1_1343731-2</td>\n      <td>N80.1</td>\n      <td>1_1111228814</td>\n    </tr>\n    <tr>\n      <th>398454</th>\n      <td>2024-01-01 12:38:36</td>\n      <td>1343731-2</td>\n      <td>2023-12-03</td>\n      <td>N</td>\n      <td>25</td>\n      <td>RADIOGRAPHIC INVESTIGATIONS - الأشعة</td>\n      <td>18.06</td>\n      <td>9638</td>\n      <td>1180507</td>\n      <td>2</td>\n      <td>...</td>\n      <td>5</td>\n      <td>1.69</td>\n      <td>1.25</td>\n      <td>7.69</td>\n      <td>Rejected for the reason Sorry you are not an a...</td>\n      <td>REJECTED</td>\n      <td>0.0</td>\n      <td>1_1343731-2</td>\n      <td>N80.1</td>\n      <td>1_1111228814</td>\n    </tr>\n    <tr>\n      <th>398450</th>\n      <td>2024-01-01 12:38:36</td>\n      <td>1343731-2</td>\n      <td>2023-12-03</td>\n      <td>N</td>\n      <td>25</td>\n      <td>RADIOGRAPHIC INVESTIGATIONS - الأشعة</td>\n      <td>18.06</td>\n      <td>9638</td>\n      <td>1180507</td>\n      <td>2</td>\n      <td>...</td>\n      <td>1</td>\n      <td>16.13</td>\n      <td>11.29</td>\n      <td>30.01</td>\n      <td>Rejected for the reason Sorry you are not an a...</td>\n      <td>REJECTED</td>\n      <td>0.0</td>\n      <td>1_1343731-2</td>\n      <td>N80.1</td>\n      <td>1_1111228814</td>\n    </tr>\n  </tbody>\n</table>\n<p>5 rows × 101 columns</p>\n</div>"
     },
     "execution_count": 3,
     "metadata": {},
     "output_type": "execute_result"
    }
   ],
   "source": [
    "df_train.head()"
   ],
   "metadata": {
    "collapsed": false,
    "ExecuteTime": {
     "end_time": "2024-08-27T12:21:45.748565400Z",
     "start_time": "2024-08-27T12:21:45.691606600Z"
    }
   }
  },
  {
   "cell_type": "code",
   "execution_count": 4,
   "outputs": [
    {
     "data": {
      "text/plain": "316188   2024-04-06 13:14:51\n316187   2024-04-06 13:14:51\n316186   2024-04-06 13:14:51\n301026   2024-04-06 13:15:27\n301402   2024-04-06 13:15:27\n                 ...        \n647258   2024-05-30 11:46:53\n648079   2024-05-30 11:46:53\n648044   2024-05-30 11:46:53\n647256   2024-05-30 11:46:53\n648062   2024-05-30 11:46:53\nName: CREATION_DATE, Length: 41396, dtype: datetime64[ns]"
     },
     "execution_count": 4,
     "metadata": {},
     "output_type": "execute_result"
    }
   ],
   "source": [
    "df_test.CREATION_DATE.sort_values() ## ranges in the last 2 months only after updating split func."
   ],
   "metadata": {
    "collapsed": false,
    "ExecuteTime": {
     "end_time": "2024-08-27T12:21:46.049485Z",
     "start_time": "2024-08-27T12:21:45.720527500Z"
    }
   }
  },
  {
   "cell_type": "code",
   "execution_count": 22,
   "outputs": [],
   "source": [
    "#read_last_date()"
   ],
   "metadata": {
    "collapsed": false,
    "ExecuteTime": {
     "end_time": "2024-08-26T21:33:26.119757900Z",
     "start_time": "2024-08-26T21:33:26.047169Z"
    }
   }
  },
  {
   "cell_type": "code",
   "execution_count": 5,
   "outputs": [],
   "source": [
    "X_train, y_train, X_test, y_test = get_training_inputs(df_train, df_test)"
   ],
   "metadata": {
    "collapsed": false,
    "ExecuteTime": {
     "end_time": "2024-08-27T12:21:49.437397Z",
     "start_time": "2024-08-27T12:21:49.266706700Z"
    }
   }
  },
  {
   "cell_type": "code",
   "execution_count": 6,
   "outputs": [
    {
     "name": "stderr",
     "output_type": "stream",
     "text": [
      "E:\\Projects\\Claims_Rejection\\src\\data_local.py:276: FutureWarning: Downcasting behavior in `replace` is deprecated and will be removed in a future version. To retain the old behavior, explicitly call `result.infer_objects(copy=False)`. To opt-in to the future behavior, set `pd.set_option('future.no_silent_downcasting', True)`\n",
      "  df[column]= df[column].replace(column_encoding)\n",
      "E:\\Projects\\Claims_Rejection\\src\\data_local.py:284: FutureWarning: Downcasting behavior in `replace` is deprecated and will be removed in a future version. To retain the old behavior, explicitly call `result.infer_objects(copy=False)`. To opt-in to the future behavior, set `pd.set_option('future.no_silent_downcasting', True)`\n",
      "  df['PatientAgeRange']= df['PatientAgeRange'].replace(age_encoding)\n",
      "E:\\Projects\\Claims_Rejection\\src\\data_local.py:276: FutureWarning: Downcasting behavior in `replace` is deprecated and will be removed in a future version. To retain the old behavior, explicitly call `result.infer_objects(copy=False)`. To opt-in to the future behavior, set `pd.set_option('future.no_silent_downcasting', True)`\n",
      "  df[column]= df[column].replace(column_encoding)\n",
      "E:\\Projects\\Claims_Rejection\\src\\data_local.py:284: FutureWarning: Downcasting behavior in `replace` is deprecated and will be removed in a future version. To retain the old behavior, explicitly call `result.infer_objects(copy=False)`. To opt-in to the future behavior, set `pd.set_option('future.no_silent_downcasting', True)`\n",
      "  df['PatientAgeRange']= df['PatientAgeRange'].replace(age_encoding)\n"
     ]
    }
   ],
   "source": [
    "preprocessing_train = MergedDataPreprocessing(X_train)\n",
    "X_train_prep = preprocessing_train.columns_prep()\n",
    "\n",
    "preprocessing_test = MergedDataPreprocessing(X_test)\n",
    "X_test_prep = preprocessing_test.columns_prep()"
   ],
   "metadata": {
    "collapsed": false,
    "ExecuteTime": {
     "end_time": "2024-08-27T12:26:28.099248200Z",
     "start_time": "2024-08-27T12:21:49.608936800Z"
    }
   }
  },
  {
   "cell_type": "code",
   "execution_count": 7,
   "outputs": [],
   "source": [
    "lstm_embedding = LSTMEmbedding()\n",
    "\n",
    "X_train_encoded = preprocessing_train.column_embedding(X_train_prep, is_service=True)\n",
    "X_test_encoded = preprocessing_train.column_embedding(X_test_prep, is_service=True)\n",
    "\n",
    "X_train_encoded = preprocessing_train.column_embedding(X_train_encoded, is_service=False)\n",
    "X_test_encoded = preprocessing_train.column_embedding(X_test_encoded, is_service=False)\n",
    "\n",
    "X_train = drop_nomodel_columns(X_train_encoded)\n",
    "X_test  = drop_nomodel_columns(X_test_encoded)"
   ],
   "metadata": {
    "collapsed": false,
    "ExecuteTime": {
     "end_time": "2024-08-27T12:26:39.512760800Z",
     "start_time": "2024-08-27T12:26:28.098251400Z"
    }
   }
  },
  {
   "cell_type": "code",
   "execution_count": 8,
   "outputs": [
    {
     "data": {
      "text/plain": "        EMERGENCY_INDICATOR  PROVIDER_DEPARTMENT_CODE  DOCTOR_SPECIALTY_CODE  \\\n398448                    0                       855                   8.25   \n398449                    0                         4                  22.00   \n398453                    0                        25                  18.06   \n398454                    0                        25                  18.06   \n398450                    0                        25                  18.06   \n...                     ...                       ...                    ...   \n301022                    0                        29                   8.02   \n301021                    0                        29                   8.02   \n301023                    0                        29                   8.02   \n301020                    0                        29                   8.02   \n304947                    0                        18                  10.00   \n\n        DOCTOR_CODE  PATIENT_AGE  UNIT_OF_AGE  PATIENT_NATIONALITY  \\\n398448         8455           43            1                    0   \n398449         7352            0            2                    2   \n398453         9638           33            1                    2   \n398454         9638           33            1                    2   \n398450         9638           33            1                    2   \n...             ...          ...          ...                  ...   \n301022         3396           45            1                    0   \n301021         3396           45            1                    0   \n301023         3396           45            1                    0   \n301020         3396           45            1                    0   \n304947         3049           39            1                    0   \n\n        PATIENT_MARITAL_STATUS  PATIENT_GENDER  CLAIM_TYPE  ...  ICDText7  \\\n398448                       1               1           1  ...         0   \n398449                       0               0           1  ...         0   \n398453                       1               0           1  ...         0   \n398454                       1               0           1  ...         0   \n398450                       1               0           1  ...         0   \n...                        ...             ...         ...  ...       ...   \n301022                       1               1           1  ...         0   \n301021                       1               1           1  ...         0   \n301023                       1               1           1  ...         0   \n301020                       1               1           1  ...         0   \n304947                       1               0           1  ...         0   \n\n        ICDText8  ICDText9  ICDText10  ICDText11  ICDText12  ICDText13  \\\n398448         0         0          0          0          0          0   \n398449         0         0          0          0          0          0   \n398453         0         0          0          0          0          0   \n398454         0         0          0          0          0          0   \n398450         0         0          0          0          0          0   \n...          ...       ...        ...        ...        ...        ...   \n301022         0         0          0          0          0          0   \n301021         0         0          0          0          0          0   \n301023         0         0          0          0          0          0   \n301020         0         0          0          0          0          0   \n304947         0         0          0          0          0          0   \n\n        ICDText14  ICDText15  ICDText16  \n398448          0          0          0  \n398449          0          0          0  \n398453          0          0          0  \n398454          0          0          0  \n398450          0          0          0  \n...           ...        ...        ...  \n301022          0          0          0  \n301021          0          0          0  \n301023          0          0          0  \n301020          0          0          0  \n304947          0          0          0  \n\n[165580 rows x 66 columns]",
      "text/html": "<div>\n<style scoped>\n    .dataframe tbody tr th:only-of-type {\n        vertical-align: middle;\n    }\n\n    .dataframe tbody tr th {\n        vertical-align: top;\n    }\n\n    .dataframe thead th {\n        text-align: right;\n    }\n</style>\n<table border=\"1\" class=\"dataframe\">\n  <thead>\n    <tr style=\"text-align: right;\">\n      <th></th>\n      <th>EMERGENCY_INDICATOR</th>\n      <th>PROVIDER_DEPARTMENT_CODE</th>\n      <th>DOCTOR_SPECIALTY_CODE</th>\n      <th>DOCTOR_CODE</th>\n      <th>PATIENT_AGE</th>\n      <th>UNIT_OF_AGE</th>\n      <th>PATIENT_NATIONALITY</th>\n      <th>PATIENT_MARITAL_STATUS</th>\n      <th>PATIENT_GENDER</th>\n      <th>CLAIM_TYPE</th>\n      <th>...</th>\n      <th>ICDText7</th>\n      <th>ICDText8</th>\n      <th>ICDText9</th>\n      <th>ICDText10</th>\n      <th>ICDText11</th>\n      <th>ICDText12</th>\n      <th>ICDText13</th>\n      <th>ICDText14</th>\n      <th>ICDText15</th>\n      <th>ICDText16</th>\n    </tr>\n  </thead>\n  <tbody>\n    <tr>\n      <th>398448</th>\n      <td>0</td>\n      <td>855</td>\n      <td>8.25</td>\n      <td>8455</td>\n      <td>43</td>\n      <td>1</td>\n      <td>0</td>\n      <td>1</td>\n      <td>1</td>\n      <td>1</td>\n      <td>...</td>\n      <td>0</td>\n      <td>0</td>\n      <td>0</td>\n      <td>0</td>\n      <td>0</td>\n      <td>0</td>\n      <td>0</td>\n      <td>0</td>\n      <td>0</td>\n      <td>0</td>\n    </tr>\n    <tr>\n      <th>398449</th>\n      <td>0</td>\n      <td>4</td>\n      <td>22.00</td>\n      <td>7352</td>\n      <td>0</td>\n      <td>2</td>\n      <td>2</td>\n      <td>0</td>\n      <td>0</td>\n      <td>1</td>\n      <td>...</td>\n      <td>0</td>\n      <td>0</td>\n      <td>0</td>\n      <td>0</td>\n      <td>0</td>\n      <td>0</td>\n      <td>0</td>\n      <td>0</td>\n      <td>0</td>\n      <td>0</td>\n    </tr>\n    <tr>\n      <th>398453</th>\n      <td>0</td>\n      <td>25</td>\n      <td>18.06</td>\n      <td>9638</td>\n      <td>33</td>\n      <td>1</td>\n      <td>2</td>\n      <td>1</td>\n      <td>0</td>\n      <td>1</td>\n      <td>...</td>\n      <td>0</td>\n      <td>0</td>\n      <td>0</td>\n      <td>0</td>\n      <td>0</td>\n      <td>0</td>\n      <td>0</td>\n      <td>0</td>\n      <td>0</td>\n      <td>0</td>\n    </tr>\n    <tr>\n      <th>398454</th>\n      <td>0</td>\n      <td>25</td>\n      <td>18.06</td>\n      <td>9638</td>\n      <td>33</td>\n      <td>1</td>\n      <td>2</td>\n      <td>1</td>\n      <td>0</td>\n      <td>1</td>\n      <td>...</td>\n      <td>0</td>\n      <td>0</td>\n      <td>0</td>\n      <td>0</td>\n      <td>0</td>\n      <td>0</td>\n      <td>0</td>\n      <td>0</td>\n      <td>0</td>\n      <td>0</td>\n    </tr>\n    <tr>\n      <th>398450</th>\n      <td>0</td>\n      <td>25</td>\n      <td>18.06</td>\n      <td>9638</td>\n      <td>33</td>\n      <td>1</td>\n      <td>2</td>\n      <td>1</td>\n      <td>0</td>\n      <td>1</td>\n      <td>...</td>\n      <td>0</td>\n      <td>0</td>\n      <td>0</td>\n      <td>0</td>\n      <td>0</td>\n      <td>0</td>\n      <td>0</td>\n      <td>0</td>\n      <td>0</td>\n      <td>0</td>\n    </tr>\n    <tr>\n      <th>...</th>\n      <td>...</td>\n      <td>...</td>\n      <td>...</td>\n      <td>...</td>\n      <td>...</td>\n      <td>...</td>\n      <td>...</td>\n      <td>...</td>\n      <td>...</td>\n      <td>...</td>\n      <td>...</td>\n      <td>...</td>\n      <td>...</td>\n      <td>...</td>\n      <td>...</td>\n      <td>...</td>\n      <td>...</td>\n      <td>...</td>\n      <td>...</td>\n      <td>...</td>\n      <td>...</td>\n    </tr>\n    <tr>\n      <th>301022</th>\n      <td>0</td>\n      <td>29</td>\n      <td>8.02</td>\n      <td>3396</td>\n      <td>45</td>\n      <td>1</td>\n      <td>0</td>\n      <td>1</td>\n      <td>1</td>\n      <td>1</td>\n      <td>...</td>\n      <td>0</td>\n      <td>0</td>\n      <td>0</td>\n      <td>0</td>\n      <td>0</td>\n      <td>0</td>\n      <td>0</td>\n      <td>0</td>\n      <td>0</td>\n      <td>0</td>\n    </tr>\n    <tr>\n      <th>301021</th>\n      <td>0</td>\n      <td>29</td>\n      <td>8.02</td>\n      <td>3396</td>\n      <td>45</td>\n      <td>1</td>\n      <td>0</td>\n      <td>1</td>\n      <td>1</td>\n      <td>1</td>\n      <td>...</td>\n      <td>0</td>\n      <td>0</td>\n      <td>0</td>\n      <td>0</td>\n      <td>0</td>\n      <td>0</td>\n      <td>0</td>\n      <td>0</td>\n      <td>0</td>\n      <td>0</td>\n    </tr>\n    <tr>\n      <th>301023</th>\n      <td>0</td>\n      <td>29</td>\n      <td>8.02</td>\n      <td>3396</td>\n      <td>45</td>\n      <td>1</td>\n      <td>0</td>\n      <td>1</td>\n      <td>1</td>\n      <td>1</td>\n      <td>...</td>\n      <td>0</td>\n      <td>0</td>\n      <td>0</td>\n      <td>0</td>\n      <td>0</td>\n      <td>0</td>\n      <td>0</td>\n      <td>0</td>\n      <td>0</td>\n      <td>0</td>\n    </tr>\n    <tr>\n      <th>301020</th>\n      <td>0</td>\n      <td>29</td>\n      <td>8.02</td>\n      <td>3396</td>\n      <td>45</td>\n      <td>1</td>\n      <td>0</td>\n      <td>1</td>\n      <td>1</td>\n      <td>1</td>\n      <td>...</td>\n      <td>0</td>\n      <td>0</td>\n      <td>0</td>\n      <td>0</td>\n      <td>0</td>\n      <td>0</td>\n      <td>0</td>\n      <td>0</td>\n      <td>0</td>\n      <td>0</td>\n    </tr>\n    <tr>\n      <th>304947</th>\n      <td>0</td>\n      <td>18</td>\n      <td>10.00</td>\n      <td>3049</td>\n      <td>39</td>\n      <td>1</td>\n      <td>0</td>\n      <td>1</td>\n      <td>0</td>\n      <td>1</td>\n      <td>...</td>\n      <td>0</td>\n      <td>0</td>\n      <td>0</td>\n      <td>0</td>\n      <td>0</td>\n      <td>0</td>\n      <td>0</td>\n      <td>0</td>\n      <td>0</td>\n      <td>0</td>\n    </tr>\n  </tbody>\n</table>\n<p>165580 rows × 66 columns</p>\n</div>"
     },
     "execution_count": 8,
     "metadata": {},
     "output_type": "execute_result"
    }
   ],
   "source": [
    "X_train"
   ],
   "metadata": {
    "collapsed": false,
    "ExecuteTime": {
     "end_time": "2024-08-27T12:26:39.591671900Z",
     "start_time": "2024-08-27T12:26:39.513758100Z"
    }
   }
  },
  {
   "cell_type": "code",
   "execution_count": 9,
   "outputs": [],
   "source": [
    "model_runner = ModelApplication(X_train= X_train,y_train= y_train['OUTCOME'],X_test= X_test,y_test= y_test['OUTCOME'])"
   ],
   "metadata": {
    "collapsed": false,
    "ExecuteTime": {
     "end_time": "2024-08-27T12:26:39.783320300Z",
     "start_time": "2024-08-27T12:26:39.594655500Z"
    }
   }
  },
  {
   "cell_type": "code",
   "execution_count": 10,
   "outputs": [
    {
     "name": "stdout",
     "output_type": "stream",
     "text": [
      "Training is done\n"
     ]
    }
   ],
   "source": [
    "model_runner.get_model(force_retrain=True,model_type='outcome')"
   ],
   "metadata": {
    "collapsed": false,
    "ExecuteTime": {
     "end_time": "2024-08-27T12:26:42.250512500Z",
     "start_time": "2024-08-27T12:26:39.631778400Z"
    }
   }
  },
  {
   "cell_type": "code",
   "execution_count": 11,
   "outputs": [
    {
     "data": {
      "text/plain": "{'XGBoost': {'Accuracy': 0.76,\n  'Precision': 0.71,\n  'Recall': 0.79,\n  'F1 Score': 0.75}}"
     },
     "execution_count": 11,
     "metadata": {},
     "output_type": "execute_result"
    }
   ],
   "source": [
    "## runtime 1\n",
    "model_runner.evaluate_model()"
   ],
   "metadata": {
    "collapsed": false,
    "ExecuteTime": {
     "end_time": "2024-08-27T12:26:59.934076200Z",
     "start_time": "2024-08-27T12:26:59.786359100Z"
    }
   }
  },
  {
   "cell_type": "code",
   "execution_count": 12,
   "outputs": [
    {
     "data": {
      "text/plain": "{'XGBoost': {'Accuracy': 0.76,\n  'Precision': 0.71,\n  'Recall': 0.79,\n  'F1 Score': 0.75}}"
     },
     "execution_count": 12,
     "metadata": {},
     "output_type": "execute_result"
    }
   ],
   "source": [
    "## runtime 2\n",
    "model_runner.evaluate_model()"
   ],
   "metadata": {
    "collapsed": false,
    "ExecuteTime": {
     "end_time": "2024-08-27T12:29:52.262810700Z",
     "start_time": "2024-08-27T12:29:52.091144700Z"
    }
   }
  },
  {
   "cell_type": "markdown",
   "source": [
    "## Columns removal comparison"
   ],
   "metadata": {
    "collapsed": false
   }
  },
  {
   "cell_type": "code",
   "execution_count": 13,
   "outputs": [
    {
     "name": "stdout",
     "output_type": "stream",
     "text": [
      "XGBoost Model is loading from disk..\n"
     ]
    },
    {
     "data": {
      "text/plain": "{'XGBoost': {'Accuracy': 0.76,\n  'Precision': 0.71,\n  'Recall': 0.79,\n  'F1 Score': 0.75}}"
     },
     "execution_count": 13,
     "metadata": {},
     "output_type": "execute_result"
    }
   ],
   "source": [
    "## before the high correlation appliance\n",
    "model_runner = ModelApplication(X_train=X_train, y_train=y_train['OUTCOME'], X_test=X_test, y_test=y_test['OUTCOME'])\n",
    "model_runner.get_model(force_retrain=False, model_type='outcome')\n",
    "model_runner.evaluate_model()"
   ],
   "metadata": {
    "collapsed": false,
    "ExecuteTime": {
     "end_time": "2024-08-27T12:29:56.742959500Z",
     "start_time": "2024-08-27T12:29:56.537002400Z"
    }
   }
  },
  {
   "cell_type": "code",
   "execution_count": 14,
   "outputs": [],
   "source": [
    "def find_service_importances(model_features):\n",
    "    combined_text_rows = model_features[model_features['Column name'].str.contains('CombinedText')]\n",
    "    combined_sum = sum(combined_text_rows['Importance'])\n",
    "    model_features = model_features[~model_features['Column name'].str.contains('CombinedText')]\n",
    "    model_features.loc[len(model_features)] = {'Column name':'SERVICE_DESCRIPTION','Importance':float(combined_sum)}\n",
    "    return model_features\n",
    "\n",
    "def find_icd_importances(model_features):\n",
    "    combined_text_rows = model_features[model_features['Column name'].str.contains('ICDText')]\n",
    "    combined_sum = sum(combined_text_rows['Importance'])\n",
    "    model_features = model_features[~model_features['Column name'].str.contains('ICDText')]\n",
    "    model_features.loc[len(model_features)] = {'Column name':'ICD_10','Importance':float(combined_sum)}\n",
    "    model_features.sort_values(by=['Importance'],ascending=False,inplace=True)\n",
    "    return model_features"
   ],
   "metadata": {
    "collapsed": false,
    "ExecuteTime": {
     "end_time": "2024-08-27T12:30:06.365616Z",
     "start_time": "2024-08-27T12:30:06.326838Z"
    }
   }
  },
  {
   "cell_type": "code",
   "execution_count": 15,
   "outputs": [
    {
     "data": {
      "text/plain": "                 Column name  Importance\n27                  DURATION    0.075301\n14           DEPARTMENT_TYPE    0.071871\n25            VAT_PERCENTAGE    0.051161\n16            PURCHASER_CODE    0.049959\n56                  ICDText7    0.049661\n..                       ...         ...\n33           PatientAgeRange    0.000000\n60                 ICDText11    0.000000\n57                  ICDText8    0.000000\n26  TREATMENT_TYPE_INDICATOR    0.000000\n65                 ICDText16    0.000000\n\n[66 rows x 2 columns]",
      "text/html": "<div>\n<style scoped>\n    .dataframe tbody tr th:only-of-type {\n        vertical-align: middle;\n    }\n\n    .dataframe tbody tr th {\n        vertical-align: top;\n    }\n\n    .dataframe thead th {\n        text-align: right;\n    }\n</style>\n<table border=\"1\" class=\"dataframe\">\n  <thead>\n    <tr style=\"text-align: right;\">\n      <th></th>\n      <th>Column name</th>\n      <th>Importance</th>\n    </tr>\n  </thead>\n  <tbody>\n    <tr>\n      <th>27</th>\n      <td>DURATION</td>\n      <td>0.075301</td>\n    </tr>\n    <tr>\n      <th>14</th>\n      <td>DEPARTMENT_TYPE</td>\n      <td>0.071871</td>\n    </tr>\n    <tr>\n      <th>25</th>\n      <td>VAT_PERCENTAGE</td>\n      <td>0.051161</td>\n    </tr>\n    <tr>\n      <th>16</th>\n      <td>PURCHASER_CODE</td>\n      <td>0.049959</td>\n    </tr>\n    <tr>\n      <th>56</th>\n      <td>ICDText7</td>\n      <td>0.049661</td>\n    </tr>\n    <tr>\n      <th>...</th>\n      <td>...</td>\n      <td>...</td>\n    </tr>\n    <tr>\n      <th>33</th>\n      <td>PatientAgeRange</td>\n      <td>0.000000</td>\n    </tr>\n    <tr>\n      <th>60</th>\n      <td>ICDText11</td>\n      <td>0.000000</td>\n    </tr>\n    <tr>\n      <th>57</th>\n      <td>ICDText8</td>\n      <td>0.000000</td>\n    </tr>\n    <tr>\n      <th>26</th>\n      <td>TREATMENT_TYPE_INDICATOR</td>\n      <td>0.000000</td>\n    </tr>\n    <tr>\n      <th>65</th>\n      <td>ICDText16</td>\n      <td>0.000000</td>\n    </tr>\n  </tbody>\n</table>\n<p>66 rows × 2 columns</p>\n</div>"
     },
     "execution_count": 15,
     "metadata": {},
     "output_type": "execute_result"
    }
   ],
   "source": [
    "features_imp = list(model_runner.get_feature_importance())\n",
    "df_results = pd.DataFrame({\"Column name\":list(X_train.columns),\"Importance\":features_imp}).sort_values(ascending=False,by=['Importance'])\n",
    "df_results"
   ],
   "metadata": {
    "collapsed": false,
    "ExecuteTime": {
     "end_time": "2024-08-27T12:30:09.525940800Z",
     "start_time": "2024-08-27T12:30:09.505993500Z"
    }
   }
  },
  {
   "cell_type": "code",
   "execution_count": 16,
   "outputs": [
    {
     "name": "stderr",
     "output_type": "stream",
     "text": [
      "C:\\Users\\omar.mounir\\AppData\\Local\\Temp\\ipykernel_12604\\940300331.py:5: FutureWarning: Setting an item of incompatible dtype is deprecated and will raise an error in a future version of pandas. Value '0.1863840336445719' has dtype incompatible with float32, please explicitly cast to a compatible dtype first.\n",
      "  model_features.loc[len(model_features)] = {'Column name':'SERVICE_DESCRIPTION','Importance':float(combined_sum)}\n",
      "C:\\Users\\omar.mounir\\AppData\\Local\\Temp\\ipykernel_12604\\940300331.py:12: SettingWithCopyWarning: \n",
      "A value is trying to be set on a copy of a slice from a DataFrame\n",
      "\n",
      "See the caveats in the documentation: https://pandas.pydata.org/pandas-docs/stable/user_guide/indexing.html#returning-a-view-versus-a-copy\n",
      "  model_features.loc[len(model_features)] = {'Column name':'ICD_10','Importance':float(combined_sum)}\n",
      "C:\\Users\\omar.mounir\\AppData\\Local\\Temp\\ipykernel_12604\\940300331.py:13: SettingWithCopyWarning: \n",
      "A value is trying to be set on a copy of a slice from a DataFrame\n",
      "\n",
      "See the caveats in the documentation: https://pandas.pydata.org/pandas-docs/stable/user_guide/indexing.html#returning-a-view-versus-a-copy\n",
      "  model_features.sort_values(by=['Importance'],ascending=False,inplace=True)\n"
     ]
    }
   ],
   "source": [
    "df_results = find_service_importances(df_results)\n",
    "df_results = find_icd_importances(df_results)\n",
    "df_results.to_excel('FeatureImportance_claimrej.xlsx',index=False)"
   ],
   "metadata": {
    "collapsed": false,
    "ExecuteTime": {
     "end_time": "2024-08-27T12:30:26.078555100Z",
     "start_time": "2024-08-27T12:30:24.309787600Z"
    }
   }
  },
  {
   "cell_type": "code",
   "execution_count": 21,
   "outputs": [
    {
     "name": "stdout",
     "output_type": "stream",
     "text": [
      "Training is done\n"
     ]
    },
    {
     "data": {
      "text/plain": "{'XGBoost': {'Accuracy': 0.76,\n  'Precision': 0.71,\n  'Recall': 0.78,\n  'F1 Score': 0.75}}"
     },
     "execution_count": 21,
     "metadata": {},
     "output_type": "execute_result"
    }
   ],
   "source": [
    "cols_drop = ['CLAIM_INVOICE_NO','STAT_INVOICE_NO','CLAIM_INVOICE_NO','HIS_INSURANCE_CODE','CREATED_BY_USER','TOTAL_NET_AMOUNT',\n",
    "             'TOTAL_NET_VAT_AMOUNT','TOTAL_CLAIMED_AMOUNT','LINE_CLAIMED_AMOUNT','CO_INSURANCE','NET_AMOUNT','UNIT_PRICE',\n",
    "             'CO_PAY']\n",
    "\n",
    "cols_kept = [col for col in X_train.columns if col not in cols_drop]\n",
    "\n",
    "## after the high correlation appliance\n",
    "model_runner = ModelApplication(X_train=X_train[cols_kept], y_train=y_train['OUTCOME'],\n",
    "                                X_test=X_test[cols_kept], y_test=y_test['OUTCOME'])\n",
    "model_runner.get_model(force_retrain=True, model_type='outcome')\n",
    "model_runner.evaluate_model()"
   ],
   "metadata": {
    "collapsed": false,
    "ExecuteTime": {
     "end_time": "2024-08-25T10:07:21.034198800Z",
     "start_time": "2024-08-25T10:07:18.589483900Z"
    }
   }
  },
  {
   "cell_type": "code",
   "execution_count": 23,
   "outputs": [],
   "source": [
    "features_imp = list(model_runner.get_feature_importance())\n",
    "pd.DataFrame({\"Column name\":list(cols_kept),\"Importance\":features_imp}).sort_values(ascending=False,by=['Importance']).to_excel('FeatureImportance_afterdrop.xlsx',index=False)"
   ],
   "metadata": {
    "collapsed": false,
    "ExecuteTime": {
     "end_time": "2024-07-15T23:37:39.544127100Z",
     "start_time": "2024-07-15T23:37:39.508397300Z"
    }
   }
  },
  {
   "cell_type": "markdown",
   "source": [
    "## Features F1 Scores comparison"
   ],
   "metadata": {
    "collapsed": false
   }
  },
  {
   "cell_type": "code",
   "execution_count": 55,
   "outputs": [],
   "source": [
    "import pandas as pd\n",
    "from sklearn.metrics import f1_score\n",
    "from xgboost import XGBClassifier\n",
    "\n",
    "def feature_importance_by_f1(X_train, X_test, y_train, y_test):\n",
    "    y_train, y_test = list(y_train), list(y_test)\n",
    "    model = XGBClassifier()\n",
    "    model.fit(X_train, y_train)\n",
    "\n",
    "    y_pred = model.predict(X_test)\n",
    "    baseline_f1 = f1_score(y_test, y_pred, average='weighted')\n",
    "\n",
    "    feature_f1_diffs = {}\n",
    "\n",
    "    # Iterate over each feature\n",
    "    for feature in X_train.columns:\n",
    "        X_train_dropped = X_train.drop(columns=[feature]) ## drop only one feature per time\n",
    "        X_test_dropped = X_test.drop(columns=[feature])\n",
    "\n",
    "        model.fit(X_train_dropped, y_train)\n",
    "        y_pred_dropped = model.predict(X_test_dropped)\n",
    "        f1_dropped = f1_score(y_test, y_pred_dropped, average='weighted')\n",
    "        # Calculate the difference in F1 score\n",
    "        f1_diff = baseline_f1 - f1_dropped\n",
    "        if 'ICDText' not in feature and 'CombinedText' not in feature: ## these features don't have a singular meaning\n",
    "            feature_f1_diffs[feature] = f1_diff\n",
    "            if f1_diff < 0:\n",
    "                    print(f\"Feature: {feature}, F1 score difference: {f1_diff}\")\n",
    "\n",
    "    sorted_features = sorted(feature_f1_diffs.items(), key=lambda item: item[1], reverse=True)\n",
    "    return pd.DataFrame(sorted_features, columns=['Feature', 'F1 Difference'])"
   ],
   "metadata": {
    "collapsed": false,
    "ExecuteTime": {
     "end_time": "2024-08-25T13:38:20.940804Z",
     "start_time": "2024-08-25T13:38:20.916798300Z"
    }
   }
  },
  {
   "cell_type": "code",
   "execution_count": 56,
   "outputs": [
    {
     "name": "stdout",
     "output_type": "stream",
     "text": [
      "Feature: CO_INSURANCE, F1 score difference: -0.00036586662936255454\n",
      "Feature: EMERGENCY_INDICATOR, F1 score difference: -0.0004249761190200374\n",
      "Feature: PATIENT_GENDER, F1 score difference: -0.002823602412574955\n",
      "Feature: TOTAL_DEDUCTIBLE, F1 score difference: -0.001787388894478159\n"
     ]
    }
   ],
   "source": [
    "df_features_elimination = feature_importance_by_f1(X_train, X_test, y_train['OUTCOME'], y_test.OUTCOME)"
   ],
   "metadata": {
    "collapsed": false,
    "ExecuteTime": {
     "end_time": "2024-08-25T13:41:15.204979900Z",
     "start_time": "2024-08-25T13:38:21.718081100Z"
    }
   }
  },
  {
   "cell_type": "code",
   "execution_count": 57,
   "outputs": [
    {
     "data": {
      "text/plain": "                     Feature  F1 Difference\n0             PURCHASER_CODE       0.021611\n1        DISCOUNT_PERCENTAGE       0.010042\n2      DOCTOR_SPECIALTY_CODE       0.010007\n3                CONTRACT_NO       0.009014\n4     PATIENT_MARITAL_STATUS       0.006719\n5             UNIT_PRICE_NET       0.005967\n6   PROVIDER_DEPARTMENT_CODE       0.005610\n7                 CLAIM_TYPE       0.004818\n8             TREATMENT_TYPE       0.004171\n9                   DURATION       0.003587\n10               UNIT_OF_AGE       0.003476\n11                       QTY       0.003419\n12       PATIENT_NATIONALITY       0.003056\n13              NET_WITH_VAT       0.002994\n14            VAT_PERCENTAGE       0.002791\n15            NET_VAT_AMOUNT       0.002390\n16           DEPARTMENT_TYPE       0.002246\n17               PATIENT_AGE       0.002189\n18        LINE_ITEM_DISCOUNT       0.001877\n19        PATIENT_VAT_AMOUNT       0.001418\n20   LINE_CLAIMED_AMOUNT_SAR       0.001414\n21           QTY_STOCKED_UOM       0.001321\n22    UNIT_PRICE_STOCKED_UOM       0.001154\n23   TOTAL_PATIENT_VATAMOUNT       0.001012\n24  TOTAL_CLAIMED_AMOUNT_SAR       0.000513\n25            TOTAL_DISCOUNT       0.000307\n26               DOCTOR_CODE       0.000142\n27  TREATMENT_TYPE_INDICATOR       0.000000\n28                  NEW_BORN       0.000000\n29           PatientAgeRange       0.000000\n30              CO_INSURANCE      -0.000366\n31       EMERGENCY_INDICATOR      -0.000425\n32          TOTAL_DEDUCTIBLE      -0.001787\n33            PATIENT_GENDER      -0.002824",
      "text/html": "<div>\n<style scoped>\n    .dataframe tbody tr th:only-of-type {\n        vertical-align: middle;\n    }\n\n    .dataframe tbody tr th {\n        vertical-align: top;\n    }\n\n    .dataframe thead th {\n        text-align: right;\n    }\n</style>\n<table border=\"1\" class=\"dataframe\">\n  <thead>\n    <tr style=\"text-align: right;\">\n      <th></th>\n      <th>Feature</th>\n      <th>F1 Difference</th>\n    </tr>\n  </thead>\n  <tbody>\n    <tr>\n      <th>0</th>\n      <td>PURCHASER_CODE</td>\n      <td>0.021611</td>\n    </tr>\n    <tr>\n      <th>1</th>\n      <td>DISCOUNT_PERCENTAGE</td>\n      <td>0.010042</td>\n    </tr>\n    <tr>\n      <th>2</th>\n      <td>DOCTOR_SPECIALTY_CODE</td>\n      <td>0.010007</td>\n    </tr>\n    <tr>\n      <th>3</th>\n      <td>CONTRACT_NO</td>\n      <td>0.009014</td>\n    </tr>\n    <tr>\n      <th>4</th>\n      <td>PATIENT_MARITAL_STATUS</td>\n      <td>0.006719</td>\n    </tr>\n    <tr>\n      <th>5</th>\n      <td>UNIT_PRICE_NET</td>\n      <td>0.005967</td>\n    </tr>\n    <tr>\n      <th>6</th>\n      <td>PROVIDER_DEPARTMENT_CODE</td>\n      <td>0.005610</td>\n    </tr>\n    <tr>\n      <th>7</th>\n      <td>CLAIM_TYPE</td>\n      <td>0.004818</td>\n    </tr>\n    <tr>\n      <th>8</th>\n      <td>TREATMENT_TYPE</td>\n      <td>0.004171</td>\n    </tr>\n    <tr>\n      <th>9</th>\n      <td>DURATION</td>\n      <td>0.003587</td>\n    </tr>\n    <tr>\n      <th>10</th>\n      <td>UNIT_OF_AGE</td>\n      <td>0.003476</td>\n    </tr>\n    <tr>\n      <th>11</th>\n      <td>QTY</td>\n      <td>0.003419</td>\n    </tr>\n    <tr>\n      <th>12</th>\n      <td>PATIENT_NATIONALITY</td>\n      <td>0.003056</td>\n    </tr>\n    <tr>\n      <th>13</th>\n      <td>NET_WITH_VAT</td>\n      <td>0.002994</td>\n    </tr>\n    <tr>\n      <th>14</th>\n      <td>VAT_PERCENTAGE</td>\n      <td>0.002791</td>\n    </tr>\n    <tr>\n      <th>15</th>\n      <td>NET_VAT_AMOUNT</td>\n      <td>0.002390</td>\n    </tr>\n    <tr>\n      <th>16</th>\n      <td>DEPARTMENT_TYPE</td>\n      <td>0.002246</td>\n    </tr>\n    <tr>\n      <th>17</th>\n      <td>PATIENT_AGE</td>\n      <td>0.002189</td>\n    </tr>\n    <tr>\n      <th>18</th>\n      <td>LINE_ITEM_DISCOUNT</td>\n      <td>0.001877</td>\n    </tr>\n    <tr>\n      <th>19</th>\n      <td>PATIENT_VAT_AMOUNT</td>\n      <td>0.001418</td>\n    </tr>\n    <tr>\n      <th>20</th>\n      <td>LINE_CLAIMED_AMOUNT_SAR</td>\n      <td>0.001414</td>\n    </tr>\n    <tr>\n      <th>21</th>\n      <td>QTY_STOCKED_UOM</td>\n      <td>0.001321</td>\n    </tr>\n    <tr>\n      <th>22</th>\n      <td>UNIT_PRICE_STOCKED_UOM</td>\n      <td>0.001154</td>\n    </tr>\n    <tr>\n      <th>23</th>\n      <td>TOTAL_PATIENT_VATAMOUNT</td>\n      <td>0.001012</td>\n    </tr>\n    <tr>\n      <th>24</th>\n      <td>TOTAL_CLAIMED_AMOUNT_SAR</td>\n      <td>0.000513</td>\n    </tr>\n    <tr>\n      <th>25</th>\n      <td>TOTAL_DISCOUNT</td>\n      <td>0.000307</td>\n    </tr>\n    <tr>\n      <th>26</th>\n      <td>DOCTOR_CODE</td>\n      <td>0.000142</td>\n    </tr>\n    <tr>\n      <th>27</th>\n      <td>TREATMENT_TYPE_INDICATOR</td>\n      <td>0.000000</td>\n    </tr>\n    <tr>\n      <th>28</th>\n      <td>NEW_BORN</td>\n      <td>0.000000</td>\n    </tr>\n    <tr>\n      <th>29</th>\n      <td>PatientAgeRange</td>\n      <td>0.000000</td>\n    </tr>\n    <tr>\n      <th>30</th>\n      <td>CO_INSURANCE</td>\n      <td>-0.000366</td>\n    </tr>\n    <tr>\n      <th>31</th>\n      <td>EMERGENCY_INDICATOR</td>\n      <td>-0.000425</td>\n    </tr>\n    <tr>\n      <th>32</th>\n      <td>TOTAL_DEDUCTIBLE</td>\n      <td>-0.001787</td>\n    </tr>\n    <tr>\n      <th>33</th>\n      <td>PATIENT_GENDER</td>\n      <td>-0.002824</td>\n    </tr>\n  </tbody>\n</table>\n</div>"
     },
     "execution_count": 57,
     "metadata": {},
     "output_type": "execute_result"
    }
   ],
   "source": [
    "df_features_elimination"
   ],
   "metadata": {
    "collapsed": false,
    "ExecuteTime": {
     "end_time": "2024-08-25T13:41:15.359567900Z",
     "start_time": "2024-08-25T13:41:15.205977600Z"
    }
   }
  },
  {
   "cell_type": "code",
   "execution_count": null,
   "outputs": [],
   "source": [],
   "metadata": {
    "collapsed": false
   }
  },
  {
   "cell_type": "markdown",
   "source": [
    "## Other old trials"
   ],
   "metadata": {
    "collapsed": false
   }
  },
  {
   "cell_type": "code",
   "execution_count": null,
   "outputs": [],
   "source": [],
   "metadata": {
    "collapsed": false
   }
  },
  {
   "cell_type": "code",
   "execution_count": 14,
   "outputs": [
    {
     "name": "stdout",
     "output_type": "stream",
     "text": [
      "The result before embedding the Item_Name column are:\n",
      " {'Decision Tree': {'Accuracy': 0.67, 'Precision': 0.66, 'Recall': 0.64}, 'LightGBM': {'Accuracy': 0.7, 'Precision': 0.68, 'Recall': 0.71}, 'SGD Classifier': {'Accuracy': 0.52, 'Precision': 0.0, 'Recall': 0.0}, 'XGBoost': {'Accuracy': 0.7, 'Precision': 0.68, 'Recall': 0.73}, 'Neural Network': {'Accuracy': 0.56, 'Precision': 0.55, 'Recall': 0.44}} \n",
      "The results after the embedding:\n",
      " {'Decision Tree': {'Accuracy': 0.67, 'Precision': 0.66, 'Recall': 0.63}, 'LightGBM': {'Accuracy': 0.7, 'Precision': 0.68, 'Recall': 0.71}, 'SGD Classifier': {'Accuracy': 0.48, 'Precision': 0.48, 'Recall': 0.9}, 'XGBoost': {'Accuracy': 0.7, 'Precision': 0.68, 'Recall': 0.73}, 'Neural Network': {'Accuracy': 0.55, 'Precision': 0.57, 'Recall': 0.28}}\n"
     ]
    }
   ],
   "source": [
    "## Comparison between the embedding vector added columns\n",
    "print('The result before embedding the Item_Name column are:\\n',res_before,'\\nThe results after the embedding:\\n',res)"
   ],
   "metadata": {
    "collapsed": false,
    "ExecuteTime": {
     "end_time": "2024-05-20T09:30:44.844614200Z",
     "start_time": "2024-05-20T09:30:44.781753800Z"
    }
   }
  },
  {
   "cell_type": "code",
   "execution_count": 16,
   "outputs": [
    {
     "data": {
      "text/plain": "item_Price                     0.323421\ntransaction_PatientAge         0.313583\nitem_Sequence                  0.191764\ntransaction_DiagnosisIds       0.114149\ntransaction_PatientEnGender    0.044771\nitem_RequestQuantity           0.012312\nName: 0, dtype: float64"
     },
     "execution_count": 16,
     "metadata": {},
     "output_type": "execute_result"
    }
   ],
   "source": [
    "## Feature importance Case Study\n",
    "dt_tran = model_runner.get_decision_tree_feature_importance()\n",
    "dt_feats = pd.DataFrame(list(dt_tran),columns_needed)\n",
    "\n",
    "dt_feats[0].sort_values(ascending=False)"
   ],
   "metadata": {
    "collapsed": false,
    "ExecuteTime": {
     "end_time": "2024-05-20T09:31:28.007278700Z",
     "start_time": "2024-05-20T09:31:27.961052200Z"
    }
   }
  },
  {
   "cell_type": "code",
   "execution_count": 17,
   "outputs": [
    {
     "data": {
      "text/plain": "item_Price                     0.410000\ntransaction_PatientAge         0.255333\ntransaction_DiagnosisIds       0.137667\nitem_Sequence                  0.135333\nitem_RequestQuantity           0.031000\ntransaction_PatientEnGender    0.030667\nName: 0, dtype: float64"
     },
     "execution_count": 17,
     "metadata": {},
     "output_type": "execute_result"
    }
   ],
   "source": [
    "gbm_tran = model_runner.get_lightgbm_feature_importance()\n",
    "gbm_feats = pd.DataFrame(list(gbm_tran),columns_needed)\n",
    "\n",
    "gbm_feats[0].sort_values(ascending=False)"
   ],
   "metadata": {
    "collapsed": false,
    "ExecuteTime": {
     "end_time": "2024-05-20T09:31:33.090150700Z",
     "start_time": "2024-05-20T09:31:33.076896700Z"
    }
   }
  },
  {
   "cell_type": "code",
   "execution_count": 18,
   "outputs": [
    {
     "data": {
      "text/plain": "item_Price                     7.984434e-02\nitem_RequestQuantity           5.211179e-02\nitem_Sequence                  3.358094e-02\ntransaction_DiagnosisIds       2.544493e-02\ntransaction_PatientAge         2.421929e-02\ntransaction_PatientEnGender    1.265203e-53\nName: 0, dtype: float64"
     },
     "execution_count": 18,
     "metadata": {},
     "output_type": "execute_result"
    }
   ],
   "source": [
    "nn_tran = model_runner.get_neural_network_feature_importance()\n",
    "nn_feats = pd.DataFrame(list(nn_tran),columns_needed)\n",
    "\n",
    "nn_feats[0].sort_values(ascending=False)"
   ],
   "metadata": {
    "collapsed": false,
    "ExecuteTime": {
     "end_time": "2024-05-20T09:31:49.278204900Z",
     "start_time": "2024-05-20T09:31:49.050927100Z"
    }
   }
  },
  {
   "cell_type": "markdown",
   "source": [
    "## K-Fold Analysis"
   ],
   "metadata": {
    "collapsed": false
   }
  },
  {
   "cell_type": "code",
   "execution_count": 2,
   "outputs": [],
   "source": [
    "df_original = get_input()\n",
    "preprocessing = MergedDataPreprocessing(df_original)"
   ],
   "metadata": {
    "collapsed": false,
    "ExecuteTime": {
     "end_time": "2024-05-19T11:31:03.264063300Z",
     "start_time": "2024-05-19T11:30:27.468243600Z"
    }
   }
  },
  {
   "cell_type": "code",
   "execution_count": 11,
   "outputs": [
    {
     "name": "stdout",
     "output_type": "stream",
     "text": [
      "\n",
      "\n",
      "LightGBM, Decision Tree, SGD and Neural Network are trained on dataset.\n"
     ]
    },
    {
     "name": "stderr",
     "output_type": "stream",
     "text": [
      "E:\\Projects\\Claims_Rejection\\src\\data_local.py:185: SettingWithCopyWarning: \n",
      "A value is trying to be set on a copy of a slice from a DataFrame.\n",
      "Try using .loc[row_indexer,col_indexer] = value instead\n",
      "\n",
      "See the caveats in the documentation: https://pandas.pydata.org/pandas-docs/stable/user_guide/indexing.html#returning-a-view-versus-a-copy\n",
      "  df1.loc[:, col] = df2[col].values\n",
      "E:\\Projects\\Claims_Rejection\\src\\data_local.py:185: SettingWithCopyWarning: \n",
      "A value is trying to be set on a copy of a slice from a DataFrame.\n",
      "Try using .loc[row_indexer,col_indexer] = value instead\n",
      "\n",
      "See the caveats in the documentation: https://pandas.pydata.org/pandas-docs/stable/user_guide/indexing.html#returning-a-view-versus-a-copy\n",
      "  df1.loc[:, col] = df2[col].values\n",
      "E:\\Projects\\Claims_Rejection\\src\\data_local.py:185: SettingWithCopyWarning: \n",
      "A value is trying to be set on a copy of a slice from a DataFrame.\n",
      "Try using .loc[row_indexer,col_indexer] = value instead\n",
      "\n",
      "See the caveats in the documentation: https://pandas.pydata.org/pandas-docs/stable/user_guide/indexing.html#returning-a-view-versus-a-copy\n",
      "  df1.loc[:, col] = df2[col].values\n",
      "E:\\Projects\\Claims_Rejection\\src\\data_local.py:185: SettingWithCopyWarning: \n",
      "A value is trying to be set on a copy of a slice from a DataFrame.\n",
      "Try using .loc[row_indexer,col_indexer] = value instead\n",
      "\n",
      "See the caveats in the documentation: https://pandas.pydata.org/pandas-docs/stable/user_guide/indexing.html#returning-a-view-versus-a-copy\n",
      "  df1.loc[:, col] = df2[col].values\n",
      "E:\\Projects\\Claims_Rejection\\src\\data_local.py:185: SettingWithCopyWarning: \n",
      "A value is trying to be set on a copy of a slice from a DataFrame.\n",
      "Try using .loc[row_indexer,col_indexer] = value instead\n",
      "\n",
      "See the caveats in the documentation: https://pandas.pydata.org/pandas-docs/stable/user_guide/indexing.html#returning-a-view-versus-a-copy\n",
      "  df1.loc[:, col] = df2[col].values\n",
      "E:\\Projects\\Claims_Rejection\\src\\data_local.py:185: SettingWithCopyWarning: \n",
      "A value is trying to be set on a copy of a slice from a DataFrame.\n",
      "Try using .loc[row_indexer,col_indexer] = value instead\n",
      "\n",
      "See the caveats in the documentation: https://pandas.pydata.org/pandas-docs/stable/user_guide/indexing.html#returning-a-view-versus-a-copy\n",
      "  df1.loc[:, col] = df2[col].values\n",
      "E:\\Projects\\Claims_Rejection\\src\\data_local.py:185: SettingWithCopyWarning: \n",
      "A value is trying to be set on a copy of a slice from a DataFrame.\n",
      "Try using .loc[row_indexer,col_indexer] = value instead\n",
      "\n",
      "See the caveats in the documentation: https://pandas.pydata.org/pandas-docs/stable/user_guide/indexing.html#returning-a-view-versus-a-copy\n",
      "  df1.loc[:, col] = df2[col].values\n",
      "E:\\Projects\\Claims_Rejection\\src\\data_local.py:185: SettingWithCopyWarning: \n",
      "A value is trying to be set on a copy of a slice from a DataFrame.\n",
      "Try using .loc[row_indexer,col_indexer] = value instead\n",
      "\n",
      "See the caveats in the documentation: https://pandas.pydata.org/pandas-docs/stable/user_guide/indexing.html#returning-a-view-versus-a-copy\n",
      "  df1.loc[:, col] = df2[col].values\n",
      "E:\\Projects\\Claims_Rejection\\src\\data_local.py:185: SettingWithCopyWarning: \n",
      "A value is trying to be set on a copy of a slice from a DataFrame.\n",
      "Try using .loc[row_indexer,col_indexer] = value instead\n",
      "\n",
      "See the caveats in the documentation: https://pandas.pydata.org/pandas-docs/stable/user_guide/indexing.html#returning-a-view-versus-a-copy\n",
      "  df1.loc[:, col] = df2[col].values\n",
      "E:\\Projects\\Claims_Rejection\\src\\data_local.py:185: SettingWithCopyWarning: \n",
      "A value is trying to be set on a copy of a slice from a DataFrame.\n",
      "Try using .loc[row_indexer,col_indexer] = value instead\n",
      "\n",
      "See the caveats in the documentation: https://pandas.pydata.org/pandas-docs/stable/user_guide/indexing.html#returning-a-view-versus-a-copy\n",
      "  df1.loc[:, col] = df2[col].values\n"
     ]
    },
    {
     "name": "stdout",
     "output_type": "stream",
     "text": [
      "[LightGBM] [Info] Number of positive: 7437, number of negative: 7506\n",
      "[LightGBM] [Info] Total Bins 1303\n",
      "[LightGBM] [Info] Number of data points in the train set: 14943, number of used features: 22\n",
      "[LightGBM] [Info] [binary:BoostFromScore]: pavg=0.497691 -> initscore=-0.009235\n",
      "[LightGBM] [Info] Start training from score -0.009235\n",
      "\n",
      "\n",
      "LightGBM, Decision Tree, SGD and Neural Network are trained on dataset.\n"
     ]
    },
    {
     "name": "stderr",
     "output_type": "stream",
     "text": [
      "E:\\Projects\\Claims_Rejection\\src\\data_local.py:185: SettingWithCopyWarning: \n",
      "A value is trying to be set on a copy of a slice from a DataFrame.\n",
      "Try using .loc[row_indexer,col_indexer] = value instead\n",
      "\n",
      "See the caveats in the documentation: https://pandas.pydata.org/pandas-docs/stable/user_guide/indexing.html#returning-a-view-versus-a-copy\n",
      "  df1.loc[:, col] = df2[col].values\n",
      "E:\\Projects\\Claims_Rejection\\src\\data_local.py:185: SettingWithCopyWarning: \n",
      "A value is trying to be set on a copy of a slice from a DataFrame.\n",
      "Try using .loc[row_indexer,col_indexer] = value instead\n",
      "\n",
      "See the caveats in the documentation: https://pandas.pydata.org/pandas-docs/stable/user_guide/indexing.html#returning-a-view-versus-a-copy\n",
      "  df1.loc[:, col] = df2[col].values\n",
      "E:\\Projects\\Claims_Rejection\\src\\data_local.py:185: SettingWithCopyWarning: \n",
      "A value is trying to be set on a copy of a slice from a DataFrame.\n",
      "Try using .loc[row_indexer,col_indexer] = value instead\n",
      "\n",
      "See the caveats in the documentation: https://pandas.pydata.org/pandas-docs/stable/user_guide/indexing.html#returning-a-view-versus-a-copy\n",
      "  df1.loc[:, col] = df2[col].values\n",
      "E:\\Projects\\Claims_Rejection\\src\\data_local.py:185: SettingWithCopyWarning: \n",
      "A value is trying to be set on a copy of a slice from a DataFrame.\n",
      "Try using .loc[row_indexer,col_indexer] = value instead\n",
      "\n",
      "See the caveats in the documentation: https://pandas.pydata.org/pandas-docs/stable/user_guide/indexing.html#returning-a-view-versus-a-copy\n",
      "  df1.loc[:, col] = df2[col].values\n",
      "E:\\Projects\\Claims_Rejection\\src\\data_local.py:185: SettingWithCopyWarning: \n",
      "A value is trying to be set on a copy of a slice from a DataFrame.\n",
      "Try using .loc[row_indexer,col_indexer] = value instead\n",
      "\n",
      "See the caveats in the documentation: https://pandas.pydata.org/pandas-docs/stable/user_guide/indexing.html#returning-a-view-versus-a-copy\n",
      "  df1.loc[:, col] = df2[col].values\n",
      "E:\\Projects\\Claims_Rejection\\src\\data_local.py:185: SettingWithCopyWarning: \n",
      "A value is trying to be set on a copy of a slice from a DataFrame.\n",
      "Try using .loc[row_indexer,col_indexer] = value instead\n",
      "\n",
      "See the caveats in the documentation: https://pandas.pydata.org/pandas-docs/stable/user_guide/indexing.html#returning-a-view-versus-a-copy\n",
      "  df1.loc[:, col] = df2[col].values\n",
      "E:\\Projects\\Claims_Rejection\\src\\data_local.py:185: SettingWithCopyWarning: \n",
      "A value is trying to be set on a copy of a slice from a DataFrame.\n",
      "Try using .loc[row_indexer,col_indexer] = value instead\n",
      "\n",
      "See the caveats in the documentation: https://pandas.pydata.org/pandas-docs/stable/user_guide/indexing.html#returning-a-view-versus-a-copy\n",
      "  df1.loc[:, col] = df2[col].values\n",
      "E:\\Projects\\Claims_Rejection\\src\\data_local.py:185: SettingWithCopyWarning: \n",
      "A value is trying to be set on a copy of a slice from a DataFrame.\n",
      "Try using .loc[row_indexer,col_indexer] = value instead\n",
      "\n",
      "See the caveats in the documentation: https://pandas.pydata.org/pandas-docs/stable/user_guide/indexing.html#returning-a-view-versus-a-copy\n",
      "  df1.loc[:, col] = df2[col].values\n",
      "E:\\Projects\\Claims_Rejection\\src\\data_local.py:185: SettingWithCopyWarning: \n",
      "A value is trying to be set on a copy of a slice from a DataFrame.\n",
      "Try using .loc[row_indexer,col_indexer] = value instead\n",
      "\n",
      "See the caveats in the documentation: https://pandas.pydata.org/pandas-docs/stable/user_guide/indexing.html#returning-a-view-versus-a-copy\n",
      "  df1.loc[:, col] = df2[col].values\n",
      "E:\\Projects\\Claims_Rejection\\src\\data_local.py:185: SettingWithCopyWarning: \n",
      "A value is trying to be set on a copy of a slice from a DataFrame.\n",
      "Try using .loc[row_indexer,col_indexer] = value instead\n",
      "\n",
      "See the caveats in the documentation: https://pandas.pydata.org/pandas-docs/stable/user_guide/indexing.html#returning-a-view-versus-a-copy\n",
      "  df1.loc[:, col] = df2[col].values\n"
     ]
    },
    {
     "name": "stdout",
     "output_type": "stream",
     "text": [
      "[LightGBM] [Info] Number of positive: 7480, number of negative: 7714\n",
      "[LightGBM] [Info] Total Bins 1317\n",
      "[LightGBM] [Info] Number of data points in the train set: 15194, number of used features: 22\n",
      "[LightGBM] [Info] [binary:BoostFromScore]: pavg=0.492300 -> initscore=-0.030804\n",
      "[LightGBM] [Info] Start training from score -0.030804\n",
      "\n",
      "\n",
      "LightGBM, Decision Tree, SGD and Neural Network are trained on dataset.\n"
     ]
    },
    {
     "name": "stderr",
     "output_type": "stream",
     "text": [
      "E:\\Projects\\Claims_Rejection\\src\\data_local.py:185: SettingWithCopyWarning: \n",
      "A value is trying to be set on a copy of a slice from a DataFrame.\n",
      "Try using .loc[row_indexer,col_indexer] = value instead\n",
      "\n",
      "See the caveats in the documentation: https://pandas.pydata.org/pandas-docs/stable/user_guide/indexing.html#returning-a-view-versus-a-copy\n",
      "  df1.loc[:, col] = df2[col].values\n",
      "E:\\Projects\\Claims_Rejection\\src\\data_local.py:185: SettingWithCopyWarning: \n",
      "A value is trying to be set on a copy of a slice from a DataFrame.\n",
      "Try using .loc[row_indexer,col_indexer] = value instead\n",
      "\n",
      "See the caveats in the documentation: https://pandas.pydata.org/pandas-docs/stable/user_guide/indexing.html#returning-a-view-versus-a-copy\n",
      "  df1.loc[:, col] = df2[col].values\n",
      "E:\\Projects\\Claims_Rejection\\src\\data_local.py:185: SettingWithCopyWarning: \n",
      "A value is trying to be set on a copy of a slice from a DataFrame.\n",
      "Try using .loc[row_indexer,col_indexer] = value instead\n",
      "\n",
      "See the caveats in the documentation: https://pandas.pydata.org/pandas-docs/stable/user_guide/indexing.html#returning-a-view-versus-a-copy\n",
      "  df1.loc[:, col] = df2[col].values\n",
      "E:\\Projects\\Claims_Rejection\\src\\data_local.py:185: SettingWithCopyWarning: \n",
      "A value is trying to be set on a copy of a slice from a DataFrame.\n",
      "Try using .loc[row_indexer,col_indexer] = value instead\n",
      "\n",
      "See the caveats in the documentation: https://pandas.pydata.org/pandas-docs/stable/user_guide/indexing.html#returning-a-view-versus-a-copy\n",
      "  df1.loc[:, col] = df2[col].values\n",
      "E:\\Projects\\Claims_Rejection\\src\\data_local.py:185: SettingWithCopyWarning: \n",
      "A value is trying to be set on a copy of a slice from a DataFrame.\n",
      "Try using .loc[row_indexer,col_indexer] = value instead\n",
      "\n",
      "See the caveats in the documentation: https://pandas.pydata.org/pandas-docs/stable/user_guide/indexing.html#returning-a-view-versus-a-copy\n",
      "  df1.loc[:, col] = df2[col].values\n",
      "E:\\Projects\\Claims_Rejection\\src\\data_local.py:185: SettingWithCopyWarning: \n",
      "A value is trying to be set on a copy of a slice from a DataFrame.\n",
      "Try using .loc[row_indexer,col_indexer] = value instead\n",
      "\n",
      "See the caveats in the documentation: https://pandas.pydata.org/pandas-docs/stable/user_guide/indexing.html#returning-a-view-versus-a-copy\n",
      "  df1.loc[:, col] = df2[col].values\n",
      "E:\\Projects\\Claims_Rejection\\src\\data_local.py:185: SettingWithCopyWarning: \n",
      "A value is trying to be set on a copy of a slice from a DataFrame.\n",
      "Try using .loc[row_indexer,col_indexer] = value instead\n",
      "\n",
      "See the caveats in the documentation: https://pandas.pydata.org/pandas-docs/stable/user_guide/indexing.html#returning-a-view-versus-a-copy\n",
      "  df1.loc[:, col] = df2[col].values\n",
      "E:\\Projects\\Claims_Rejection\\src\\data_local.py:185: SettingWithCopyWarning: \n",
      "A value is trying to be set on a copy of a slice from a DataFrame.\n",
      "Try using .loc[row_indexer,col_indexer] = value instead\n",
      "\n",
      "See the caveats in the documentation: https://pandas.pydata.org/pandas-docs/stable/user_guide/indexing.html#returning-a-view-versus-a-copy\n",
      "  df1.loc[:, col] = df2[col].values\n",
      "E:\\Projects\\Claims_Rejection\\src\\data_local.py:185: SettingWithCopyWarning: \n",
      "A value is trying to be set on a copy of a slice from a DataFrame.\n",
      "Try using .loc[row_indexer,col_indexer] = value instead\n",
      "\n",
      "See the caveats in the documentation: https://pandas.pydata.org/pandas-docs/stable/user_guide/indexing.html#returning-a-view-versus-a-copy\n",
      "  df1.loc[:, col] = df2[col].values\n",
      "E:\\Projects\\Claims_Rejection\\src\\data_local.py:185: SettingWithCopyWarning: \n",
      "A value is trying to be set on a copy of a slice from a DataFrame.\n",
      "Try using .loc[row_indexer,col_indexer] = value instead\n",
      "\n",
      "See the caveats in the documentation: https://pandas.pydata.org/pandas-docs/stable/user_guide/indexing.html#returning-a-view-versus-a-copy\n",
      "  df1.loc[:, col] = df2[col].values\n"
     ]
    },
    {
     "name": "stdout",
     "output_type": "stream",
     "text": [
      "[LightGBM] [Info] Number of positive: 7558, number of negative: 7626\n",
      "[LightGBM] [Info] Total Bins 1298\n",
      "[LightGBM] [Info] Number of data points in the train set: 15184, number of used features: 22\n",
      "[LightGBM] [Info] [binary:BoostFromScore]: pavg=0.497761 -> initscore=-0.008957\n",
      "[LightGBM] [Info] Start training from score -0.008957\n",
      "\n",
      "\n",
      "LightGBM, Decision Tree, SGD and Neural Network are trained on dataset.\n"
     ]
    },
    {
     "name": "stderr",
     "output_type": "stream",
     "text": [
      "E:\\Projects\\Claims_Rejection\\src\\data_local.py:185: SettingWithCopyWarning: \n",
      "A value is trying to be set on a copy of a slice from a DataFrame.\n",
      "Try using .loc[row_indexer,col_indexer] = value instead\n",
      "\n",
      "See the caveats in the documentation: https://pandas.pydata.org/pandas-docs/stable/user_guide/indexing.html#returning-a-view-versus-a-copy\n",
      "  df1.loc[:, col] = df2[col].values\n",
      "E:\\Projects\\Claims_Rejection\\src\\data_local.py:185: SettingWithCopyWarning: \n",
      "A value is trying to be set on a copy of a slice from a DataFrame.\n",
      "Try using .loc[row_indexer,col_indexer] = value instead\n",
      "\n",
      "See the caveats in the documentation: https://pandas.pydata.org/pandas-docs/stable/user_guide/indexing.html#returning-a-view-versus-a-copy\n",
      "  df1.loc[:, col] = df2[col].values\n",
      "E:\\Projects\\Claims_Rejection\\src\\data_local.py:185: SettingWithCopyWarning: \n",
      "A value is trying to be set on a copy of a slice from a DataFrame.\n",
      "Try using .loc[row_indexer,col_indexer] = value instead\n",
      "\n",
      "See the caveats in the documentation: https://pandas.pydata.org/pandas-docs/stable/user_guide/indexing.html#returning-a-view-versus-a-copy\n",
      "  df1.loc[:, col] = df2[col].values\n",
      "E:\\Projects\\Claims_Rejection\\src\\data_local.py:185: SettingWithCopyWarning: \n",
      "A value is trying to be set on a copy of a slice from a DataFrame.\n",
      "Try using .loc[row_indexer,col_indexer] = value instead\n",
      "\n",
      "See the caveats in the documentation: https://pandas.pydata.org/pandas-docs/stable/user_guide/indexing.html#returning-a-view-versus-a-copy\n",
      "  df1.loc[:, col] = df2[col].values\n",
      "E:\\Projects\\Claims_Rejection\\src\\data_local.py:185: SettingWithCopyWarning: \n",
      "A value is trying to be set on a copy of a slice from a DataFrame.\n",
      "Try using .loc[row_indexer,col_indexer] = value instead\n",
      "\n",
      "See the caveats in the documentation: https://pandas.pydata.org/pandas-docs/stable/user_guide/indexing.html#returning-a-view-versus-a-copy\n",
      "  df1.loc[:, col] = df2[col].values\n",
      "E:\\Projects\\Claims_Rejection\\src\\data_local.py:185: SettingWithCopyWarning: \n",
      "A value is trying to be set on a copy of a slice from a DataFrame.\n",
      "Try using .loc[row_indexer,col_indexer] = value instead\n",
      "\n",
      "See the caveats in the documentation: https://pandas.pydata.org/pandas-docs/stable/user_guide/indexing.html#returning-a-view-versus-a-copy\n",
      "  df1.loc[:, col] = df2[col].values\n",
      "E:\\Projects\\Claims_Rejection\\src\\data_local.py:185: SettingWithCopyWarning: \n",
      "A value is trying to be set on a copy of a slice from a DataFrame.\n",
      "Try using .loc[row_indexer,col_indexer] = value instead\n",
      "\n",
      "See the caveats in the documentation: https://pandas.pydata.org/pandas-docs/stable/user_guide/indexing.html#returning-a-view-versus-a-copy\n",
      "  df1.loc[:, col] = df2[col].values\n",
      "E:\\Projects\\Claims_Rejection\\src\\data_local.py:185: SettingWithCopyWarning: \n",
      "A value is trying to be set on a copy of a slice from a DataFrame.\n",
      "Try using .loc[row_indexer,col_indexer] = value instead\n",
      "\n",
      "See the caveats in the documentation: https://pandas.pydata.org/pandas-docs/stable/user_guide/indexing.html#returning-a-view-versus-a-copy\n",
      "  df1.loc[:, col] = df2[col].values\n",
      "E:\\Projects\\Claims_Rejection\\src\\data_local.py:185: SettingWithCopyWarning: \n",
      "A value is trying to be set on a copy of a slice from a DataFrame.\n",
      "Try using .loc[row_indexer,col_indexer] = value instead\n",
      "\n",
      "See the caveats in the documentation: https://pandas.pydata.org/pandas-docs/stable/user_guide/indexing.html#returning-a-view-versus-a-copy\n",
      "  df1.loc[:, col] = df2[col].values\n",
      "E:\\Projects\\Claims_Rejection\\src\\data_local.py:185: SettingWithCopyWarning: \n",
      "A value is trying to be set on a copy of a slice from a DataFrame.\n",
      "Try using .loc[row_indexer,col_indexer] = value instead\n",
      "\n",
      "See the caveats in the documentation: https://pandas.pydata.org/pandas-docs/stable/user_guide/indexing.html#returning-a-view-versus-a-copy\n",
      "  df1.loc[:, col] = df2[col].values\n"
     ]
    },
    {
     "name": "stdout",
     "output_type": "stream",
     "text": [
      "[LightGBM] [Info] Number of positive: 7480, number of negative: 7518\n",
      "[LightGBM] [Info] Total Bins 1300\n",
      "[LightGBM] [Info] Number of data points in the train set: 14998, number of used features: 22\n",
      "[LightGBM] [Info] [binary:BoostFromScore]: pavg=0.498733 -> initscore=-0.005067\n",
      "[LightGBM] [Info] Start training from score -0.005067\n",
      "\n",
      "\n",
      "LightGBM, Decision Tree, SGD and Neural Network are trained on dataset.\n"
     ]
    }
   ],
   "source": [
    "df_acc = validate_folds(df_original)"
   ],
   "metadata": {
    "collapsed": false
   }
  },
  {
   "cell_type": "code",
   "execution_count": 12,
   "outputs": [
    {
     "data": {
      "text/plain": "   Decision Tree  LightGBM  SGD Classifier  XGBoost  Neural Network\n0             67        72              49       72              67\n1             67        72              49       72              64\n2             67        70              49       72              68\n3             69        72              51       74              67\n4             68        72              48       72              67",
      "text/html": "<div>\n<style scoped>\n    .dataframe tbody tr th:only-of-type {\n        vertical-align: middle;\n    }\n\n    .dataframe tbody tr th {\n        vertical-align: top;\n    }\n\n    .dataframe thead th {\n        text-align: right;\n    }\n</style>\n<table border=\"1\" class=\"dataframe\">\n  <thead>\n    <tr style=\"text-align: right;\">\n      <th></th>\n      <th>Decision Tree</th>\n      <th>LightGBM</th>\n      <th>SGD Classifier</th>\n      <th>XGBoost</th>\n      <th>Neural Network</th>\n    </tr>\n  </thead>\n  <tbody>\n    <tr>\n      <th>0</th>\n      <td>67</td>\n      <td>72</td>\n      <td>49</td>\n      <td>72</td>\n      <td>67</td>\n    </tr>\n    <tr>\n      <th>1</th>\n      <td>67</td>\n      <td>72</td>\n      <td>49</td>\n      <td>72</td>\n      <td>64</td>\n    </tr>\n    <tr>\n      <th>2</th>\n      <td>67</td>\n      <td>70</td>\n      <td>49</td>\n      <td>72</td>\n      <td>68</td>\n    </tr>\n    <tr>\n      <th>3</th>\n      <td>69</td>\n      <td>72</td>\n      <td>51</td>\n      <td>74</td>\n      <td>67</td>\n    </tr>\n    <tr>\n      <th>4</th>\n      <td>68</td>\n      <td>72</td>\n      <td>48</td>\n      <td>72</td>\n      <td>67</td>\n    </tr>\n  </tbody>\n</table>\n</div>"
     },
     "execution_count": 12,
     "metadata": {},
     "output_type": "execute_result"
    }
   ],
   "source": [
    "df_acc"
   ],
   "metadata": {
    "collapsed": false,
    "ExecuteTime": {
     "end_time": "2024-05-19T11:41:57.929888700Z",
     "start_time": "2024-05-19T11:41:57.904956300Z"
    }
   }
  },
  {
   "cell_type": "code",
   "execution_count": null,
   "outputs": [],
   "source": [
    "## XGBoost 72.5% accuracy, Neural Networks 66%  accuracy which can definitely be improved"
   ],
   "metadata": {
    "collapsed": false
   }
  }
 ],
 "metadata": {
  "kernelspec": {
   "display_name": "Python 3",
   "language": "python",
   "name": "python3"
  },
  "language_info": {
   "codemirror_mode": {
    "name": "ipython",
    "version": 2
   },
   "file_extension": ".py",
   "mimetype": "text/x-python",
   "name": "python",
   "nbconvert_exporter": "python",
   "pygments_lexer": "ipython2",
   "version": "2.7.6"
  }
 },
 "nbformat": 4,
 "nbformat_minor": 0
}
