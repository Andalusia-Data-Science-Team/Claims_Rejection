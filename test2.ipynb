{
 "cells": [
  {
   "cell_type": "code",
   "execution_count": 1,
   "metadata": {
    "collapsed": true,
    "ExecuteTime": {
     "end_time": "2024-05-23T09:53:01.918985500Z",
     "start_time": "2024-05-23T09:52:34.265360300Z"
    }
   },
   "outputs": [],
   "source": [
    "from src.data_application import DataFrameProcessor\n",
    "from src.data_local import DataLoader"
   ]
  },
  {
   "cell_type": "code",
   "execution_count": 2,
   "outputs": [],
   "source": [
    "#df = get_input(is_handled=False)"
   ],
   "metadata": {
    "collapsed": false,
    "ExecuteTime": {
     "end_time": "2024-05-23T08:38:28.776355400Z",
     "start_time": "2024-05-23T08:38:28.764672Z"
    }
   }
  },
  {
   "cell_type": "code",
   "execution_count": 2,
   "outputs": [],
   "source": [
    "data_loader = DataLoader()\n",
    "df1,df2,df3 = data_loader.load_local() ## diagnosis, service, visit"
   ],
   "metadata": {
    "collapsed": false,
    "ExecuteTime": {
     "end_time": "2024-05-23T10:05:58.372943300Z",
     "start_time": "2024-05-23T09:53:01.922973200Z"
    }
   }
  },
  {
   "cell_type": "code",
   "execution_count": 3,
   "outputs": [],
   "source": [
    "df_service = df2.copy()"
   ],
   "metadata": {
    "collapsed": false,
    "ExecuteTime": {
     "end_time": "2024-05-23T10:05:58.519018Z",
     "start_time": "2024-05-23T10:05:58.376934600Z"
    }
   }
  },
  {
   "cell_type": "code",
   "execution_count": 27,
   "outputs": [],
   "source": [
    "df_visit = df3.copy()"
   ],
   "metadata": {
    "collapsed": false,
    "ExecuteTime": {
     "end_time": "2024-05-23T11:18:12.677455600Z",
     "start_time": "2024-05-23T11:18:12.612996600Z"
    }
   }
  },
  {
   "cell_type": "code",
   "execution_count": 28,
   "outputs": [
    {
     "data": {
      "text/plain": "       HOSPITAL_ID  VISIT_ID        REQUEST_DATE    VISIT_NO VISIT_DATE  \\\n0                1    196844 2024-01-03 14:44:27   531408-72 2023-12-16   \n1                1    196846 2024-01-03 14:44:55   84545-185 2023-12-03   \n2                1    196940 2024-01-03 15:07:45   414765-40 2023-12-11   \n3                1    196942 2024-01-03 15:08:14   421839-52 2023-12-14   \n4                1    196941 2024-01-03 15:07:51   1345648-1 2023-12-02   \n...            ...       ...                 ...         ...        ...   \n42766            1    235232 2024-04-06 08:59:10   291514-20 2024-03-26   \n42767            1    235168 2024-04-06 08:39:44  527436-116 2024-03-30   \n42768            1    236061 2024-04-07 06:17:01   385396-79 2024-03-11   \n42769            1    228799 2024-04-04 17:23:56   48870-507 2024-03-28   \n42770            1    229663 2024-04-04 21:23:56   1364128-3 2024-03-31   \n\n       VISIT_TYPE  RESERVATION_NO REFERRAL_IND EMERGENCY_INDICATOR  \\\n0               1             NaN          NaN                   N   \n1               1             NaN          NaN                   N   \n2               1             NaN          NaN                   N   \n3               1             NaN          NaN                   N   \n4               1             NaN          NaN                   N   \n...           ...             ...          ...                 ...   \n42766           1             NaN          NaN                   N   \n42767           1             NaN          NaN                   N   \n42768           1             NaN          NaN                   N   \n42769           1             NaN          NaN                   N   \n42770           1             NaN          NaN                   N   \n\n       EMERGENCY_CARE_LEVEL  ...  \\\n0                       NaN  ...   \n1                       NaN  ...   \n2                       NaN  ...   \n3                       NaN  ...   \n4                       NaN  ...   \n...                     ...  ...   \n42766                   NaN  ...   \n42767                   NaN  ...   \n42768                   NaN  ...   \n42769                   NaN  ...   \n42770                   NaN  ...   \n\n                                          ATTACHED_FILES ATTACHMENT_TYPE  \\\n0      531408-72-4402110_OPDUCAF_2024-01-03_14-44-08_...            FILE   \n1      84545-185-4401522_OPDUCAF_2024-01-03_14-44-33_...            FILE   \n2      414765-40-4401565_OPDUCAF_2024-01-03_15-07-24_...            FILE   \n3      421839-52-4401566_OPDUCAF_2024-01-03_15-07-54_...            FILE   \n4      1345648-1-4402161_OPDUCAF_2024-01-03_15-07-27_...            FILE   \n...                                                  ...             ...   \n42766  291514-20-4426157_OPDUCAF_2024-04-06_08-58-48_...            FILE   \n42767  527436-116-4426017_OPDUCAF_2024-04-06_08-39-23...            FILE   \n42768  385396-79-4426783_OPDUCAF_2024-04-07_06-16-49_...            FILE   \n42769  48870-507-4426052_OPDUCAF_2024-04-04_17-23-33_...            FILE   \n42770  1364128-3-4426591_OPDUCAF_2024-04-04_21-23-43_...            FILE   \n\n       NEW_BORN PATIENT_IDENTITY_TYPE BILLABLE_PERIOD_START  \\\n0             N                     H            2023-12-16   \n1             N                     H            2023-12-03   \n2             N                     H            2023-12-11   \n3             N                     H            2023-12-14   \n4             N                    IQ            2023-12-02   \n...         ...                   ...                   ...   \n42766         N                     H            2024-03-26   \n42767         N                    IQ            2024-03-30   \n42768         N                     H            2024-03-11   \n42769         N                     H            2024-03-28   \n42770         N                     H            2024-03-31   \n\n       BILLABLE_PERIOD_END  BATCH_PERIOD_START  BATCH_PERIOD_END  \\\n0               2023-12-30          2023-12-01        2023-12-31   \n1               2023-12-17          2023-12-11        2023-12-31   \n2               2023-12-25          2023-12-11        2023-12-31   \n3               2023-12-28          2023-12-11        2023-12-31   \n4               2023-12-16          2023-12-01        2023-12-31   \n...                    ...                 ...               ...   \n42766           2024-04-09          2024-03-01        2024-03-31   \n42767           2024-04-13          2024-03-01        2024-03-31   \n42768           2024-03-25          2024-03-01        2024-03-31   \n42769           2024-04-11          2024-03-01        2024-03-31   \n42770           2024-04-14          2024-03-01        2024-03-31   \n\n      RELATED_API_TRANS_ID  PULL_RESPONSE_ID  \n0                      NaN               NaN  \n1                      NaN               NaN  \n2                      NaN               NaN  \n3                      NaN               NaN  \n4                      NaN               NaN  \n...                    ...               ...  \n42766                  NaN               NaN  \n42767                  NaN               NaN  \n42768                  NaN               NaN  \n42769                  NaN               NaN  \n42770                  NaN               NaN  \n\n[42771 rows x 155 columns]",
      "text/html": "<div>\n<style scoped>\n    .dataframe tbody tr th:only-of-type {\n        vertical-align: middle;\n    }\n\n    .dataframe tbody tr th {\n        vertical-align: top;\n    }\n\n    .dataframe thead th {\n        text-align: right;\n    }\n</style>\n<table border=\"1\" class=\"dataframe\">\n  <thead>\n    <tr style=\"text-align: right;\">\n      <th></th>\n      <th>HOSPITAL_ID</th>\n      <th>VISIT_ID</th>\n      <th>REQUEST_DATE</th>\n      <th>VISIT_NO</th>\n      <th>VISIT_DATE</th>\n      <th>VISIT_TYPE</th>\n      <th>RESERVATION_NO</th>\n      <th>REFERRAL_IND</th>\n      <th>EMERGENCY_INDICATOR</th>\n      <th>EMERGENCY_CARE_LEVEL</th>\n      <th>...</th>\n      <th>ATTACHED_FILES</th>\n      <th>ATTACHMENT_TYPE</th>\n      <th>NEW_BORN</th>\n      <th>PATIENT_IDENTITY_TYPE</th>\n      <th>BILLABLE_PERIOD_START</th>\n      <th>BILLABLE_PERIOD_END</th>\n      <th>BATCH_PERIOD_START</th>\n      <th>BATCH_PERIOD_END</th>\n      <th>RELATED_API_TRANS_ID</th>\n      <th>PULL_RESPONSE_ID</th>\n    </tr>\n  </thead>\n  <tbody>\n    <tr>\n      <th>0</th>\n      <td>1</td>\n      <td>196844</td>\n      <td>2024-01-03 14:44:27</td>\n      <td>531408-72</td>\n      <td>2023-12-16</td>\n      <td>1</td>\n      <td>NaN</td>\n      <td>NaN</td>\n      <td>N</td>\n      <td>NaN</td>\n      <td>...</td>\n      <td>531408-72-4402110_OPDUCAF_2024-01-03_14-44-08_...</td>\n      <td>FILE</td>\n      <td>N</td>\n      <td>H</td>\n      <td>2023-12-16</td>\n      <td>2023-12-30</td>\n      <td>2023-12-01</td>\n      <td>2023-12-31</td>\n      <td>NaN</td>\n      <td>NaN</td>\n    </tr>\n    <tr>\n      <th>1</th>\n      <td>1</td>\n      <td>196846</td>\n      <td>2024-01-03 14:44:55</td>\n      <td>84545-185</td>\n      <td>2023-12-03</td>\n      <td>1</td>\n      <td>NaN</td>\n      <td>NaN</td>\n      <td>N</td>\n      <td>NaN</td>\n      <td>...</td>\n      <td>84545-185-4401522_OPDUCAF_2024-01-03_14-44-33_...</td>\n      <td>FILE</td>\n      <td>N</td>\n      <td>H</td>\n      <td>2023-12-03</td>\n      <td>2023-12-17</td>\n      <td>2023-12-11</td>\n      <td>2023-12-31</td>\n      <td>NaN</td>\n      <td>NaN</td>\n    </tr>\n    <tr>\n      <th>2</th>\n      <td>1</td>\n      <td>196940</td>\n      <td>2024-01-03 15:07:45</td>\n      <td>414765-40</td>\n      <td>2023-12-11</td>\n      <td>1</td>\n      <td>NaN</td>\n      <td>NaN</td>\n      <td>N</td>\n      <td>NaN</td>\n      <td>...</td>\n      <td>414765-40-4401565_OPDUCAF_2024-01-03_15-07-24_...</td>\n      <td>FILE</td>\n      <td>N</td>\n      <td>H</td>\n      <td>2023-12-11</td>\n      <td>2023-12-25</td>\n      <td>2023-12-11</td>\n      <td>2023-12-31</td>\n      <td>NaN</td>\n      <td>NaN</td>\n    </tr>\n    <tr>\n      <th>3</th>\n      <td>1</td>\n      <td>196942</td>\n      <td>2024-01-03 15:08:14</td>\n      <td>421839-52</td>\n      <td>2023-12-14</td>\n      <td>1</td>\n      <td>NaN</td>\n      <td>NaN</td>\n      <td>N</td>\n      <td>NaN</td>\n      <td>...</td>\n      <td>421839-52-4401566_OPDUCAF_2024-01-03_15-07-54_...</td>\n      <td>FILE</td>\n      <td>N</td>\n      <td>H</td>\n      <td>2023-12-14</td>\n      <td>2023-12-28</td>\n      <td>2023-12-11</td>\n      <td>2023-12-31</td>\n      <td>NaN</td>\n      <td>NaN</td>\n    </tr>\n    <tr>\n      <th>4</th>\n      <td>1</td>\n      <td>196941</td>\n      <td>2024-01-03 15:07:51</td>\n      <td>1345648-1</td>\n      <td>2023-12-02</td>\n      <td>1</td>\n      <td>NaN</td>\n      <td>NaN</td>\n      <td>N</td>\n      <td>NaN</td>\n      <td>...</td>\n      <td>1345648-1-4402161_OPDUCAF_2024-01-03_15-07-27_...</td>\n      <td>FILE</td>\n      <td>N</td>\n      <td>IQ</td>\n      <td>2023-12-02</td>\n      <td>2023-12-16</td>\n      <td>2023-12-01</td>\n      <td>2023-12-31</td>\n      <td>NaN</td>\n      <td>NaN</td>\n    </tr>\n    <tr>\n      <th>...</th>\n      <td>...</td>\n      <td>...</td>\n      <td>...</td>\n      <td>...</td>\n      <td>...</td>\n      <td>...</td>\n      <td>...</td>\n      <td>...</td>\n      <td>...</td>\n      <td>...</td>\n      <td>...</td>\n      <td>...</td>\n      <td>...</td>\n      <td>...</td>\n      <td>...</td>\n      <td>...</td>\n      <td>...</td>\n      <td>...</td>\n      <td>...</td>\n      <td>...</td>\n      <td>...</td>\n    </tr>\n    <tr>\n      <th>42766</th>\n      <td>1</td>\n      <td>235232</td>\n      <td>2024-04-06 08:59:10</td>\n      <td>291514-20</td>\n      <td>2024-03-26</td>\n      <td>1</td>\n      <td>NaN</td>\n      <td>NaN</td>\n      <td>N</td>\n      <td>NaN</td>\n      <td>...</td>\n      <td>291514-20-4426157_OPDUCAF_2024-04-06_08-58-48_...</td>\n      <td>FILE</td>\n      <td>N</td>\n      <td>H</td>\n      <td>2024-03-26</td>\n      <td>2024-04-09</td>\n      <td>2024-03-01</td>\n      <td>2024-03-31</td>\n      <td>NaN</td>\n      <td>NaN</td>\n    </tr>\n    <tr>\n      <th>42767</th>\n      <td>1</td>\n      <td>235168</td>\n      <td>2024-04-06 08:39:44</td>\n      <td>527436-116</td>\n      <td>2024-03-30</td>\n      <td>1</td>\n      <td>NaN</td>\n      <td>NaN</td>\n      <td>N</td>\n      <td>NaN</td>\n      <td>...</td>\n      <td>527436-116-4426017_OPDUCAF_2024-04-06_08-39-23...</td>\n      <td>FILE</td>\n      <td>N</td>\n      <td>IQ</td>\n      <td>2024-03-30</td>\n      <td>2024-04-13</td>\n      <td>2024-03-01</td>\n      <td>2024-03-31</td>\n      <td>NaN</td>\n      <td>NaN</td>\n    </tr>\n    <tr>\n      <th>42768</th>\n      <td>1</td>\n      <td>236061</td>\n      <td>2024-04-07 06:17:01</td>\n      <td>385396-79</td>\n      <td>2024-03-11</td>\n      <td>1</td>\n      <td>NaN</td>\n      <td>NaN</td>\n      <td>N</td>\n      <td>NaN</td>\n      <td>...</td>\n      <td>385396-79-4426783_OPDUCAF_2024-04-07_06-16-49_...</td>\n      <td>FILE</td>\n      <td>N</td>\n      <td>H</td>\n      <td>2024-03-11</td>\n      <td>2024-03-25</td>\n      <td>2024-03-01</td>\n      <td>2024-03-31</td>\n      <td>NaN</td>\n      <td>NaN</td>\n    </tr>\n    <tr>\n      <th>42769</th>\n      <td>1</td>\n      <td>228799</td>\n      <td>2024-04-04 17:23:56</td>\n      <td>48870-507</td>\n      <td>2024-03-28</td>\n      <td>1</td>\n      <td>NaN</td>\n      <td>NaN</td>\n      <td>N</td>\n      <td>NaN</td>\n      <td>...</td>\n      <td>48870-507-4426052_OPDUCAF_2024-04-04_17-23-33_...</td>\n      <td>FILE</td>\n      <td>N</td>\n      <td>H</td>\n      <td>2024-03-28</td>\n      <td>2024-04-11</td>\n      <td>2024-03-01</td>\n      <td>2024-03-31</td>\n      <td>NaN</td>\n      <td>NaN</td>\n    </tr>\n    <tr>\n      <th>42770</th>\n      <td>1</td>\n      <td>229663</td>\n      <td>2024-04-04 21:23:56</td>\n      <td>1364128-3</td>\n      <td>2024-03-31</td>\n      <td>1</td>\n      <td>NaN</td>\n      <td>NaN</td>\n      <td>N</td>\n      <td>NaN</td>\n      <td>...</td>\n      <td>1364128-3-4426591_OPDUCAF_2024-04-04_21-23-43_...</td>\n      <td>FILE</td>\n      <td>N</td>\n      <td>H</td>\n      <td>2024-03-31</td>\n      <td>2024-04-14</td>\n      <td>2024-03-01</td>\n      <td>2024-03-31</td>\n      <td>NaN</td>\n      <td>NaN</td>\n    </tr>\n  </tbody>\n</table>\n<p>42771 rows × 155 columns</p>\n</div>"
     },
     "execution_count": 28,
     "metadata": {},
     "output_type": "execute_result"
    }
   ],
   "source": [
    "df_visit"
   ],
   "metadata": {
    "collapsed": false,
    "ExecuteTime": {
     "end_time": "2024-05-23T11:18:16.835760500Z",
     "start_time": "2024-05-23T11:18:16.767454400Z"
    }
   }
  },
  {
   "cell_type": "code",
   "execution_count": 17,
   "outputs": [],
   "source": [
    "processor = DataFrameProcessor(df_service)"
   ],
   "metadata": {
    "collapsed": false,
    "ExecuteTime": {
     "end_time": "2024-05-23T10:16:51.064205Z",
     "start_time": "2024-05-23T10:16:51.051830100Z"
    }
   }
  },
  {
   "cell_type": "code",
   "execution_count": 25,
   "outputs": [
    {
     "data": {
      "text/plain": "['CREATED_BY_USER',\n 'CREATION_DATE',\n 'VISIT_ID',\n 'NET_WITH_VAT',\n 'SERVICE_DESCRIPTION',\n 'QTY',\n 'LINE_CLAIMED_AMOUNT',\n 'LINE_CLAIMED_AMOUNT_SAR',\n 'CO_PAY',\n 'CO_INSURANCE',\n 'LINE_ITEM_DISCOUNT',\n 'NET_AMOUNT',\n 'NET_VAT_AMOUNT',\n 'PATIENT_VAT_AMOUNT',\n 'VAT_PERCENTAGE',\n 'TREATMENT_TYPE_INDICATOR',\n 'SERVICE_TYPE',\n 'DURATION',\n 'QTY_STOCKED_UOM',\n 'UNIT_PRICE',\n 'OASIS_IOS_DESCRIPTION',\n 'SEQUENCE_NO',\n 'UNIT_PRICE_STOCKED_UOM',\n 'UNIT_PRICE_NET',\n 'DISCOUNT_PERCENTAGE',\n 'NOTES',\n 'OUTCOME',\n 'APPROVED_QUNATITY']"
     },
     "execution_count": 25,
     "metadata": {},
     "output_type": "execute_result"
    }
   ],
   "source": [
    "processor._read_list_from_json(list_name='service_columns')"
   ],
   "metadata": {
    "collapsed": false,
    "ExecuteTime": {
     "end_time": "2024-05-23T10:33:49.843916300Z",
     "start_time": "2024-05-23T10:33:49.816123900Z"
    }
   }
  },
  {
   "cell_type": "code",
   "execution_count": 35,
   "outputs": [],
   "source": [
    "# processor.save_dropped_cols(df_index='service')\n",
    "# df_service = processor.drop_columns(list_name='service_dropped')\n",
    "# processor.save_dropped_cols(df_name='service',other_columns = columns_to_remove)"
   ],
   "metadata": {
    "collapsed": false,
    "ExecuteTime": {
     "end_time": "2024-05-23T09:29:41.308850300Z",
     "start_time": "2024-05-23T09:29:40.219598800Z"
    }
   }
  },
  {
   "cell_type": "code",
   "execution_count": 20,
   "outputs": [],
   "source": [
    "df_service = processor.drop_columns('service_dropped')"
   ],
   "metadata": {
    "collapsed": false,
    "ExecuteTime": {
     "end_time": "2024-05-23T10:17:42.795691100Z",
     "start_time": "2024-05-23T10:17:42.717916700Z"
    }
   }
  },
  {
   "cell_type": "code",
   "execution_count": 24,
   "outputs": [
    {
     "data": {
      "text/plain": "        CREATED_BY_USER       CREATION_DATE  VISIT_ID  NET_WITH_VAT  \\\n0                  9521 2024-04-04 22:57:57    230089         56.12   \n1                  9521 2024-04-04 23:02:21    230117        202.40   \n2                  9521 2024-04-04 23:08:38    230160        408.08   \n3                  9521 2024-04-04 22:26:08    229872         24.27   \n4                  9521 2024-04-04 22:34:22    229913         80.64   \n...                 ...                 ...       ...           ...   \n488828             9593 2024-01-23 17:20:54    204110        242.48   \n488829            10962 2024-01-28 01:01:05    204377          1.06   \n488830            10962 2024-01-28 01:01:05    204377          1.14   \n488831            10962 2024-01-28 01:01:05    204377          1.79   \n488832             9593 2024-01-23 16:35:34    204093        144.56   \n\n                             SERVICE_DESCRIPTION  QTY  LINE_CLAIMED_AMOUNT  \\\n0                                  Unlisted Code  1.0                61.00   \n1                                            TSH  1.0               220.00   \n2                            In vivo laboratory   1.0               475.00   \n3                            ELICA-M CREAM 30 GM  1.0                25.55   \n4                 Peripheral intravenous cannula  1.0                90.00   \n...                                          ...  ...                  ...   \n488828  Quantitative Troponin (Protein) Analysis  1.0               324.39   \n488829                       NEBILET 5MG TABLETS  1.0                 1.14   \n488830                   Unlisted Procedure Code  5.0                 1.77   \n488831                 SALURIN 20MG-2ML AMPOULES  1.0                 1.93   \n488832              Radiography of chest, 1 view  1.0               193.39   \n\n        LINE_CLAIMED_AMOUNT_SAR  CO_PAY  CO_INSURANCE  ...  QTY_STOCKED_UOM  \\\n0                         61.00    0.00         61.00  ...                1   \n1                        220.00    0.00        220.00  ...                1   \n2                        475.00   10.75        464.25  ...                1   \n3                         25.55    4.85         20.70  ...                1   \n4                         90.00   14.40         75.60  ...                1   \n...                         ...     ...           ...  ...              ...   \n488828                   324.39    0.00        324.39  ...                1   \n488829                     1.14    0.00          1.14  ...                1   \n488830                     1.77    0.00          1.77  ...                5   \n488831                     1.93    0.00          1.93  ...                1   \n488832                   193.39    0.00        193.39  ...                1   \n\n        UNIT_PRICE                         OASIS_IOS_DESCRIPTION  SEQUENCE_NO  \\\n0        61.000000                            I.V. INFUSION OBS.           11   \n1       220.000000             TSH (THYROID STIMULATING HORMONE)            5   \n2       475.000000                             VITAMIN D (TOTAL)            9   \n3        25.550000                           ELICA-M CREAM 30 GM            5   \n4        90.000000                  INSERTION OF AN I.V. CANNULA            7   \n...            ...                                           ...          ...   \n488828  324.390000  TROPONIN I \"QUANTITATIVE\"                              44   \n488829    1.141071                           NEBILET 5MG TABLETS          119   \n488830    0.354052                                PLASTER STRIPS           70   \n488831    1.930000                     SALURIN 20MG-2ML AMPOULES           91   \n488832  193.390000                X RAY CHEST PA.                          14   \n\n        UNIT_PRICE_STOCKED_UOM  UNIT_PRICE_NET DISCOUNT_PERCENTAGE  \\\n0                        61.00           48.80               20.00   \n1                       220.00          176.00               20.00   \n2                       475.00          345.50               25.00   \n3                        25.55           19.42                5.01   \n4                        90.00           57.60               20.00   \n...                        ...             ...                 ...   \n488828                  324.39          210.85               35.00   \n488829                    1.14            1.06                7.02   \n488830                    0.35            0.23               35.03   \n488831                    1.93            1.79                7.25   \n488832                  193.39          125.70               35.00   \n\n                                                    NOTES   OUTCOME  \\\n0                              Partial Approved  BE-1-7     PARTIAL   \n1                              Partial Approved  BE-1-7     PARTIAL   \n2                                    Partial Approved      APPROVED   \n3                                    Partial Approved      APPROVED   \n4                              Partial Approved  BE-1-7     PARTIAL   \n...                                                   ...       ...   \n488828     BE-1-3Submission not compliant with contrac...  REJECTED   \n488829                                                     APPROVED   \n488830                                                     APPROVED   \n488831     MN-1-1Service is not clinically justified b...  REJECTED   \n488832     CV-1-1Provider is out of beneficiary network    REJECTED   \n\n        APPROVED_QUNATITY  \n0                    0.94  \n1                    0.94  \n2                    1.00  \n3                    1.00  \n4                    0.92  \n...                   ...  \n488828               0.00  \n488829               3.00  \n488830               1.00  \n488831               0.00  \n488832               0.00  \n\n[488833 rows x 28 columns]",
      "text/html": "<div>\n<style scoped>\n    .dataframe tbody tr th:only-of-type {\n        vertical-align: middle;\n    }\n\n    .dataframe tbody tr th {\n        vertical-align: top;\n    }\n\n    .dataframe thead th {\n        text-align: right;\n    }\n</style>\n<table border=\"1\" class=\"dataframe\">\n  <thead>\n    <tr style=\"text-align: right;\">\n      <th></th>\n      <th>CREATED_BY_USER</th>\n      <th>CREATION_DATE</th>\n      <th>VISIT_ID</th>\n      <th>NET_WITH_VAT</th>\n      <th>SERVICE_DESCRIPTION</th>\n      <th>QTY</th>\n      <th>LINE_CLAIMED_AMOUNT</th>\n      <th>LINE_CLAIMED_AMOUNT_SAR</th>\n      <th>CO_PAY</th>\n      <th>CO_INSURANCE</th>\n      <th>...</th>\n      <th>QTY_STOCKED_UOM</th>\n      <th>UNIT_PRICE</th>\n      <th>OASIS_IOS_DESCRIPTION</th>\n      <th>SEQUENCE_NO</th>\n      <th>UNIT_PRICE_STOCKED_UOM</th>\n      <th>UNIT_PRICE_NET</th>\n      <th>DISCOUNT_PERCENTAGE</th>\n      <th>NOTES</th>\n      <th>OUTCOME</th>\n      <th>APPROVED_QUNATITY</th>\n    </tr>\n  </thead>\n  <tbody>\n    <tr>\n      <th>0</th>\n      <td>9521</td>\n      <td>2024-04-04 22:57:57</td>\n      <td>230089</td>\n      <td>56.12</td>\n      <td>Unlisted Code</td>\n      <td>1.0</td>\n      <td>61.00</td>\n      <td>61.00</td>\n      <td>0.00</td>\n      <td>61.00</td>\n      <td>...</td>\n      <td>1</td>\n      <td>61.000000</td>\n      <td>I.V. INFUSION OBS.</td>\n      <td>11</td>\n      <td>61.00</td>\n      <td>48.80</td>\n      <td>20.00</td>\n      <td>Partial Approved  BE-1-7</td>\n      <td>PARTIAL</td>\n      <td>0.94</td>\n    </tr>\n    <tr>\n      <th>1</th>\n      <td>9521</td>\n      <td>2024-04-04 23:02:21</td>\n      <td>230117</td>\n      <td>202.40</td>\n      <td>TSH</td>\n      <td>1.0</td>\n      <td>220.00</td>\n      <td>220.00</td>\n      <td>0.00</td>\n      <td>220.00</td>\n      <td>...</td>\n      <td>1</td>\n      <td>220.000000</td>\n      <td>TSH (THYROID STIMULATING HORMONE)</td>\n      <td>5</td>\n      <td>220.00</td>\n      <td>176.00</td>\n      <td>20.00</td>\n      <td>Partial Approved  BE-1-7</td>\n      <td>PARTIAL</td>\n      <td>0.94</td>\n    </tr>\n    <tr>\n      <th>2</th>\n      <td>9521</td>\n      <td>2024-04-04 23:08:38</td>\n      <td>230160</td>\n      <td>408.08</td>\n      <td>In vivo laboratory</td>\n      <td>1.0</td>\n      <td>475.00</td>\n      <td>475.00</td>\n      <td>10.75</td>\n      <td>464.25</td>\n      <td>...</td>\n      <td>1</td>\n      <td>475.000000</td>\n      <td>VITAMIN D (TOTAL)</td>\n      <td>9</td>\n      <td>475.00</td>\n      <td>345.50</td>\n      <td>25.00</td>\n      <td>Partial Approved</td>\n      <td>APPROVED</td>\n      <td>1.00</td>\n    </tr>\n    <tr>\n      <th>3</th>\n      <td>9521</td>\n      <td>2024-04-04 22:26:08</td>\n      <td>229872</td>\n      <td>24.27</td>\n      <td>ELICA-M CREAM 30 GM</td>\n      <td>1.0</td>\n      <td>25.55</td>\n      <td>25.55</td>\n      <td>4.85</td>\n      <td>20.70</td>\n      <td>...</td>\n      <td>1</td>\n      <td>25.550000</td>\n      <td>ELICA-M CREAM 30 GM</td>\n      <td>5</td>\n      <td>25.55</td>\n      <td>19.42</td>\n      <td>5.01</td>\n      <td>Partial Approved</td>\n      <td>APPROVED</td>\n      <td>1.00</td>\n    </tr>\n    <tr>\n      <th>4</th>\n      <td>9521</td>\n      <td>2024-04-04 22:34:22</td>\n      <td>229913</td>\n      <td>80.64</td>\n      <td>Peripheral intravenous cannula</td>\n      <td>1.0</td>\n      <td>90.00</td>\n      <td>90.00</td>\n      <td>14.40</td>\n      <td>75.60</td>\n      <td>...</td>\n      <td>1</td>\n      <td>90.000000</td>\n      <td>INSERTION OF AN I.V. CANNULA</td>\n      <td>7</td>\n      <td>90.00</td>\n      <td>57.60</td>\n      <td>20.00</td>\n      <td>Partial Approved  BE-1-7</td>\n      <td>PARTIAL</td>\n      <td>0.92</td>\n    </tr>\n    <tr>\n      <th>...</th>\n      <td>...</td>\n      <td>...</td>\n      <td>...</td>\n      <td>...</td>\n      <td>...</td>\n      <td>...</td>\n      <td>...</td>\n      <td>...</td>\n      <td>...</td>\n      <td>...</td>\n      <td>...</td>\n      <td>...</td>\n      <td>...</td>\n      <td>...</td>\n      <td>...</td>\n      <td>...</td>\n      <td>...</td>\n      <td>...</td>\n      <td>...</td>\n      <td>...</td>\n      <td>...</td>\n    </tr>\n    <tr>\n      <th>488828</th>\n      <td>9593</td>\n      <td>2024-01-23 17:20:54</td>\n      <td>204110</td>\n      <td>242.48</td>\n      <td>Quantitative Troponin (Protein) Analysis</td>\n      <td>1.0</td>\n      <td>324.39</td>\n      <td>324.39</td>\n      <td>0.00</td>\n      <td>324.39</td>\n      <td>...</td>\n      <td>1</td>\n      <td>324.390000</td>\n      <td>TROPONIN I \"QUANTITATIVE\"</td>\n      <td>44</td>\n      <td>324.39</td>\n      <td>210.85</td>\n      <td>35.00</td>\n      <td>BE-1-3Submission not compliant with contrac...</td>\n      <td>REJECTED</td>\n      <td>0.00</td>\n    </tr>\n    <tr>\n      <th>488829</th>\n      <td>10962</td>\n      <td>2024-01-28 01:01:05</td>\n      <td>204377</td>\n      <td>1.06</td>\n      <td>NEBILET 5MG TABLETS</td>\n      <td>1.0</td>\n      <td>1.14</td>\n      <td>1.14</td>\n      <td>0.00</td>\n      <td>1.14</td>\n      <td>...</td>\n      <td>1</td>\n      <td>1.141071</td>\n      <td>NEBILET 5MG TABLETS</td>\n      <td>119</td>\n      <td>1.14</td>\n      <td>1.06</td>\n      <td>7.02</td>\n      <td></td>\n      <td>APPROVED</td>\n      <td>3.00</td>\n    </tr>\n    <tr>\n      <th>488830</th>\n      <td>10962</td>\n      <td>2024-01-28 01:01:05</td>\n      <td>204377</td>\n      <td>1.14</td>\n      <td>Unlisted Procedure Code</td>\n      <td>5.0</td>\n      <td>1.77</td>\n      <td>1.77</td>\n      <td>0.00</td>\n      <td>1.77</td>\n      <td>...</td>\n      <td>5</td>\n      <td>0.354052</td>\n      <td>PLASTER STRIPS</td>\n      <td>70</td>\n      <td>0.35</td>\n      <td>0.23</td>\n      <td>35.03</td>\n      <td></td>\n      <td>APPROVED</td>\n      <td>1.00</td>\n    </tr>\n    <tr>\n      <th>488831</th>\n      <td>10962</td>\n      <td>2024-01-28 01:01:05</td>\n      <td>204377</td>\n      <td>1.79</td>\n      <td>SALURIN 20MG-2ML AMPOULES</td>\n      <td>1.0</td>\n      <td>1.93</td>\n      <td>1.93</td>\n      <td>0.00</td>\n      <td>1.93</td>\n      <td>...</td>\n      <td>1</td>\n      <td>1.930000</td>\n      <td>SALURIN 20MG-2ML AMPOULES</td>\n      <td>91</td>\n      <td>1.93</td>\n      <td>1.79</td>\n      <td>7.25</td>\n      <td>MN-1-1Service is not clinically justified b...</td>\n      <td>REJECTED</td>\n      <td>0.00</td>\n    </tr>\n    <tr>\n      <th>488832</th>\n      <td>9593</td>\n      <td>2024-01-23 16:35:34</td>\n      <td>204093</td>\n      <td>144.56</td>\n      <td>Radiography of chest, 1 view</td>\n      <td>1.0</td>\n      <td>193.39</td>\n      <td>193.39</td>\n      <td>0.00</td>\n      <td>193.39</td>\n      <td>...</td>\n      <td>1</td>\n      <td>193.390000</td>\n      <td>X RAY CHEST PA.</td>\n      <td>14</td>\n      <td>193.39</td>\n      <td>125.70</td>\n      <td>35.00</td>\n      <td>CV-1-1Provider is out of beneficiary network</td>\n      <td>REJECTED</td>\n      <td>0.00</td>\n    </tr>\n  </tbody>\n</table>\n<p>488833 rows × 28 columns</p>\n</div>"
     },
     "execution_count": 24,
     "metadata": {},
     "output_type": "execute_result"
    }
   ],
   "source": [
    "df_service"
   ],
   "metadata": {
    "collapsed": false,
    "ExecuteTime": {
     "end_time": "2024-05-23T10:32:10.105213500Z",
     "start_time": "2024-05-23T10:32:09.873481500Z"
    }
   }
  },
  {
   "cell_type": "code",
   "execution_count": 22,
   "outputs": [
    {
     "data": {
      "text/plain": "Index(['CREATED_BY_USER', 'CREATION_DATE', 'VISIT_ID', 'NET_WITH_VAT',\n       'SERVICE_DESCRIPTION', 'QTY', 'LINE_CLAIMED_AMOUNT',\n       'LINE_CLAIMED_AMOUNT_SAR', 'CO_PAY', 'CO_INSURANCE',\n       'LINE_ITEM_DISCOUNT', 'NET_AMOUNT', 'NET_VAT_AMOUNT',\n       'PATIENT_VAT_AMOUNT', 'VAT_PERCENTAGE', 'TREATMENT_TYPE_INDICATOR',\n       'SERVICE_TYPE', 'DURATION', 'QTY_STOCKED_UOM', 'UNIT_PRICE',\n       'OASIS_IOS_DESCRIPTION', 'SEQUENCE_NO', 'UNIT_PRICE_STOCKED_UOM',\n       'UNIT_PRICE_NET', 'DISCOUNT_PERCENTAGE', 'NOTES', 'OUTCOME',\n       'APPROVED_QUNATITY'],\n      dtype='object')"
     },
     "execution_count": 22,
     "metadata": {},
     "output_type": "execute_result"
    }
   ],
   "source": [
    "df_service.columns"
   ],
   "metadata": {
    "collapsed": false,
    "ExecuteTime": {
     "end_time": "2024-05-23T10:17:51.448206200Z",
     "start_time": "2024-05-23T10:17:51.425964100Z"
    }
   }
  },
  {
   "cell_type": "code",
   "execution_count": 23,
   "outputs": [],
   "source": [
    "processor.store_current_columns(df_index='service')"
   ],
   "metadata": {
    "collapsed": false,
    "ExecuteTime": {
     "end_time": "2024-05-23T10:18:45.327084300Z",
     "start_time": "2024-05-23T10:18:45.309710500Z"
    }
   }
  },
  {
   "cell_type": "code",
   "execution_count": 26,
   "outputs": [],
   "source": [
    "df_service.to_csv('data/HJH/Claim_Service_scan.xlsx')"
   ],
   "metadata": {
    "collapsed": false,
    "ExecuteTime": {
     "end_time": "2024-05-23T11:11:37.104676Z",
     "start_time": "2024-05-23T11:11:27.504680900Z"
    }
   }
  },
  {
   "cell_type": "code",
   "execution_count": null,
   "outputs": [],
   "source": [],
   "metadata": {
    "collapsed": false
   }
  }
 ],
 "metadata": {
  "kernelspec": {
   "display_name": "Python 3",
   "language": "python",
   "name": "python3"
  },
  "language_info": {
   "codemirror_mode": {
    "name": "ipython",
    "version": 2
   },
   "file_extension": ".py",
   "mimetype": "text/x-python",
   "name": "python",
   "nbconvert_exporter": "python",
   "pygments_lexer": "ipython2",
   "version": "2.7.6"
  }
 },
 "nbformat": 4,
 "nbformat_minor": 0
}
