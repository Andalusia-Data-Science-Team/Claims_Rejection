{
 "cells": [
  {
   "cell_type": "code",
   "execution_count": 1,
   "metadata": {
    "collapsed": true,
    "ExecuteTime": {
     "end_time": "2024-05-23T09:53:01.918985500Z",
     "start_time": "2024-05-23T09:52:34.265360300Z"
    }
   },
   "outputs": [],
   "source": [
    "from src.data_application import DataFrameProcessor\n",
    "from src.data_local import DataLoader"
   ]
  },
  {
   "cell_type": "code",
   "execution_count": 2,
   "outputs": [],
   "source": [
    "#df = get_input(is_handled=False)"
   ],
   "metadata": {
    "collapsed": false,
    "ExecuteTime": {
     "end_time": "2024-05-23T08:38:28.776355400Z",
     "start_time": "2024-05-23T08:38:28.764672Z"
    }
   }
  },
  {
   "cell_type": "code",
   "execution_count": null,
   "outputs": [],
   "source": [
    "data_loader = DataLoader()\n",
    "df1,df2,df3 = data_loader.load_local() ## diagnosis, service, visit"
   ],
   "metadata": {
    "collapsed": false,
    "is_executing": true,
    "ExecuteTime": {
     "start_time": "2024-05-23T09:53:01.922973200Z"
    }
   }
  },
  {
   "cell_type": "code",
   "execution_count": null,
   "outputs": [],
   "source": [
    "df_service = df2.copy()"
   ],
   "metadata": {
    "collapsed": false,
    "is_executing": true
   }
  },
  {
   "cell_type": "code",
   "execution_count": 8,
   "outputs": [
    {
     "data": {
      "text/plain": "           AMEND_LAST_DATE  AMEND_BY_USER  CREATED_BY_USER  \\\n0      2024-04-17 06:30:29            0.0             9521   \n1      2024-04-17 06:30:31            0.0             9521   \n2      2024-04-17 06:30:33            0.0             9521   \n3      2024-04-17 06:30:22            0.0             9521   \n4      2024-04-17 06:30:24            0.0             9521   \n...                    ...            ...              ...   \n488828 2024-04-17 12:00:07            0.0             9593   \n488829 2024-04-17 12:00:08            0.0            10962   \n488830 2024-04-17 12:00:09            0.0            10962   \n488831 2024-04-17 12:00:09            0.0            10962   \n488832 2024-04-22 16:00:09            0.0             9593   \n\n             CREATION_DATE  HOSPITAL_ID  VISIT_ID  IS_FETCHED  NET_WITH_VAT  \\\n0      2024-04-04 22:57:57            1    230089         NaN         56.12   \n1      2024-04-04 23:02:21            1    230117         NaN        202.40   \n2      2024-04-04 23:08:38            1    230160         NaN        408.08   \n3      2024-04-04 22:26:08            1    229872         NaN         24.27   \n4      2024-04-04 22:34:22            1    229913         NaN         80.64   \n...                    ...          ...       ...         ...           ...   \n488828 2024-01-23 17:20:54            1    204110         NaN        242.48   \n488829 2024-01-28 01:01:05            1    204377         NaN          1.06   \n488830 2024-01-28 01:01:05            1    204377         NaN          1.14   \n488831 2024-01-28 01:01:05            1    204377         NaN          1.79   \n488832 2024-01-23 16:35:34            1    204093         NaN        144.56   \n\n        SERVICE_ID  INVOICE_NUMBER  ... UNIT_PRICE_NET APPROVAL_RESPONSE_ID  \\\n0         45925522         4430078  ...          48.80                  NaN   \n1         45816561         4430087  ...         176.00                  NaN   \n2         45687408         4430098  ...         345.50                  NaN   \n3         45739994         4430011  ...          19.42                  NaN   \n4         45815540         4430028  ...          57.60                  NaN   \n...            ...             ...  ...            ...                  ...   \n488828    45085469         4404986  ...         210.85                  NaN   \n488829    45105750         4404989  ...           1.06                  NaN   \n488830    45100159         4404989  ...           0.23                  NaN   \n488831    45096296         4404989  ...           1.79                  NaN   \n488832    45049291         4405026  ...         125.70                  NaN   \n\n       APPROVAL_RESPONSE_SYSTEM DISCOUNT_PERCENTAGE  \\\n0                           NaN               20.00   \n1                           NaN               20.00   \n2                           NaN               25.00   \n3                           NaN                5.01   \n4                           NaN               20.00   \n...                         ...                 ...   \n488828                      NaN               35.00   \n488829                      NaN                7.02   \n488830                      NaN               35.03   \n488831                      NaN                7.25   \n488832                      NaN               35.00   \n\n                                                    NOTES   OUTCOME  \\\n0                              Partial Approved  BE-1-7     PARTIAL   \n1                              Partial Approved  BE-1-7     PARTIAL   \n2                                    Partial Approved      APPROVED   \n3                                    Partial Approved      APPROVED   \n4                              Partial Approved  BE-1-7     PARTIAL   \n...                                                   ...       ...   \n488828     BE-1-3Submission not compliant with contrac...  REJECTED   \n488829                                                     APPROVED   \n488830                                                     APPROVED   \n488831     MN-1-1Service is not clinically justified b...  REJECTED   \n488832     CV-1-1Provider is out of beneficiary network    REJECTED   \n\n        APPROVED_QUNATITY            PRESCRIBED_CODE  SELECTION_REASON  \\\n0                    0.94                        NaN           generic   \n1                    0.94                        NaN           generic   \n2                    1.00                        NaN           generic   \n3                    1.00  8000000428-M-100000073712           generic   \n4                    0.92                        NaN           generic   \n...                   ...                        ...               ...   \n488828               0.00                        NaN           generic   \n488829               3.00  7000000881-5-100000073664           generic   \n488830               1.00                        NaN           generic   \n488831               0.00                        NaN           generic   \n488832               0.00                        NaN           generic   \n\n        SELECTION_REASON_DISPLAY  \n0                        Generic  \n1                        Generic  \n2                        Generic  \n3                        Generic  \n4                        Generic  \n...                          ...  \n488828                   Generic  \n488829                   Generic  \n488830                   Generic  \n488831                   Generic  \n488832                   Generic  \n\n[488833 rows x 67 columns]",
      "text/html": "<div>\n<style scoped>\n    .dataframe tbody tr th:only-of-type {\n        vertical-align: middle;\n    }\n\n    .dataframe tbody tr th {\n        vertical-align: top;\n    }\n\n    .dataframe thead th {\n        text-align: right;\n    }\n</style>\n<table border=\"1\" class=\"dataframe\">\n  <thead>\n    <tr style=\"text-align: right;\">\n      <th></th>\n      <th>AMEND_LAST_DATE</th>\n      <th>AMEND_BY_USER</th>\n      <th>CREATED_BY_USER</th>\n      <th>CREATION_DATE</th>\n      <th>HOSPITAL_ID</th>\n      <th>VISIT_ID</th>\n      <th>IS_FETCHED</th>\n      <th>NET_WITH_VAT</th>\n      <th>SERVICE_ID</th>\n      <th>INVOICE_NUMBER</th>\n      <th>...</th>\n      <th>UNIT_PRICE_NET</th>\n      <th>APPROVAL_RESPONSE_ID</th>\n      <th>APPROVAL_RESPONSE_SYSTEM</th>\n      <th>DISCOUNT_PERCENTAGE</th>\n      <th>NOTES</th>\n      <th>OUTCOME</th>\n      <th>APPROVED_QUNATITY</th>\n      <th>PRESCRIBED_CODE</th>\n      <th>SELECTION_REASON</th>\n      <th>SELECTION_REASON_DISPLAY</th>\n    </tr>\n  </thead>\n  <tbody>\n    <tr>\n      <th>0</th>\n      <td>2024-04-17 06:30:29</td>\n      <td>0.0</td>\n      <td>9521</td>\n      <td>2024-04-04 22:57:57</td>\n      <td>1</td>\n      <td>230089</td>\n      <td>NaN</td>\n      <td>56.12</td>\n      <td>45925522</td>\n      <td>4430078</td>\n      <td>...</td>\n      <td>48.80</td>\n      <td>NaN</td>\n      <td>NaN</td>\n      <td>20.00</td>\n      <td>Partial Approved  BE-1-7</td>\n      <td>PARTIAL</td>\n      <td>0.94</td>\n      <td>NaN</td>\n      <td>generic</td>\n      <td>Generic</td>\n    </tr>\n    <tr>\n      <th>1</th>\n      <td>2024-04-17 06:30:31</td>\n      <td>0.0</td>\n      <td>9521</td>\n      <td>2024-04-04 23:02:21</td>\n      <td>1</td>\n      <td>230117</td>\n      <td>NaN</td>\n      <td>202.40</td>\n      <td>45816561</td>\n      <td>4430087</td>\n      <td>...</td>\n      <td>176.00</td>\n      <td>NaN</td>\n      <td>NaN</td>\n      <td>20.00</td>\n      <td>Partial Approved  BE-1-7</td>\n      <td>PARTIAL</td>\n      <td>0.94</td>\n      <td>NaN</td>\n      <td>generic</td>\n      <td>Generic</td>\n    </tr>\n    <tr>\n      <th>2</th>\n      <td>2024-04-17 06:30:33</td>\n      <td>0.0</td>\n      <td>9521</td>\n      <td>2024-04-04 23:08:38</td>\n      <td>1</td>\n      <td>230160</td>\n      <td>NaN</td>\n      <td>408.08</td>\n      <td>45687408</td>\n      <td>4430098</td>\n      <td>...</td>\n      <td>345.50</td>\n      <td>NaN</td>\n      <td>NaN</td>\n      <td>25.00</td>\n      <td>Partial Approved</td>\n      <td>APPROVED</td>\n      <td>1.00</td>\n      <td>NaN</td>\n      <td>generic</td>\n      <td>Generic</td>\n    </tr>\n    <tr>\n      <th>3</th>\n      <td>2024-04-17 06:30:22</td>\n      <td>0.0</td>\n      <td>9521</td>\n      <td>2024-04-04 22:26:08</td>\n      <td>1</td>\n      <td>229872</td>\n      <td>NaN</td>\n      <td>24.27</td>\n      <td>45739994</td>\n      <td>4430011</td>\n      <td>...</td>\n      <td>19.42</td>\n      <td>NaN</td>\n      <td>NaN</td>\n      <td>5.01</td>\n      <td>Partial Approved</td>\n      <td>APPROVED</td>\n      <td>1.00</td>\n      <td>8000000428-M-100000073712</td>\n      <td>generic</td>\n      <td>Generic</td>\n    </tr>\n    <tr>\n      <th>4</th>\n      <td>2024-04-17 06:30:24</td>\n      <td>0.0</td>\n      <td>9521</td>\n      <td>2024-04-04 22:34:22</td>\n      <td>1</td>\n      <td>229913</td>\n      <td>NaN</td>\n      <td>80.64</td>\n      <td>45815540</td>\n      <td>4430028</td>\n      <td>...</td>\n      <td>57.60</td>\n      <td>NaN</td>\n      <td>NaN</td>\n      <td>20.00</td>\n      <td>Partial Approved  BE-1-7</td>\n      <td>PARTIAL</td>\n      <td>0.92</td>\n      <td>NaN</td>\n      <td>generic</td>\n      <td>Generic</td>\n    </tr>\n    <tr>\n      <th>...</th>\n      <td>...</td>\n      <td>...</td>\n      <td>...</td>\n      <td>...</td>\n      <td>...</td>\n      <td>...</td>\n      <td>...</td>\n      <td>...</td>\n      <td>...</td>\n      <td>...</td>\n      <td>...</td>\n      <td>...</td>\n      <td>...</td>\n      <td>...</td>\n      <td>...</td>\n      <td>...</td>\n      <td>...</td>\n      <td>...</td>\n      <td>...</td>\n      <td>...</td>\n      <td>...</td>\n    </tr>\n    <tr>\n      <th>488828</th>\n      <td>2024-04-17 12:00:07</td>\n      <td>0.0</td>\n      <td>9593</td>\n      <td>2024-01-23 17:20:54</td>\n      <td>1</td>\n      <td>204110</td>\n      <td>NaN</td>\n      <td>242.48</td>\n      <td>45085469</td>\n      <td>4404986</td>\n      <td>...</td>\n      <td>210.85</td>\n      <td>NaN</td>\n      <td>NaN</td>\n      <td>35.00</td>\n      <td>BE-1-3Submission not compliant with contrac...</td>\n      <td>REJECTED</td>\n      <td>0.00</td>\n      <td>NaN</td>\n      <td>generic</td>\n      <td>Generic</td>\n    </tr>\n    <tr>\n      <th>488829</th>\n      <td>2024-04-17 12:00:08</td>\n      <td>0.0</td>\n      <td>10962</td>\n      <td>2024-01-28 01:01:05</td>\n      <td>1</td>\n      <td>204377</td>\n      <td>NaN</td>\n      <td>1.06</td>\n      <td>45105750</td>\n      <td>4404989</td>\n      <td>...</td>\n      <td>1.06</td>\n      <td>NaN</td>\n      <td>NaN</td>\n      <td>7.02</td>\n      <td></td>\n      <td>APPROVED</td>\n      <td>3.00</td>\n      <td>7000000881-5-100000073664</td>\n      <td>generic</td>\n      <td>Generic</td>\n    </tr>\n    <tr>\n      <th>488830</th>\n      <td>2024-04-17 12:00:09</td>\n      <td>0.0</td>\n      <td>10962</td>\n      <td>2024-01-28 01:01:05</td>\n      <td>1</td>\n      <td>204377</td>\n      <td>NaN</td>\n      <td>1.14</td>\n      <td>45100159</td>\n      <td>4404989</td>\n      <td>...</td>\n      <td>0.23</td>\n      <td>NaN</td>\n      <td>NaN</td>\n      <td>35.03</td>\n      <td></td>\n      <td>APPROVED</td>\n      <td>1.00</td>\n      <td>NaN</td>\n      <td>generic</td>\n      <td>Generic</td>\n    </tr>\n    <tr>\n      <th>488831</th>\n      <td>2024-04-17 12:00:09</td>\n      <td>0.0</td>\n      <td>10962</td>\n      <td>2024-01-28 01:01:05</td>\n      <td>1</td>\n      <td>204377</td>\n      <td>NaN</td>\n      <td>1.79</td>\n      <td>45096296</td>\n      <td>4404989</td>\n      <td>...</td>\n      <td>1.79</td>\n      <td>NaN</td>\n      <td>NaN</td>\n      <td>7.25</td>\n      <td>MN-1-1Service is not clinically justified b...</td>\n      <td>REJECTED</td>\n      <td>0.00</td>\n      <td>NaN</td>\n      <td>generic</td>\n      <td>Generic</td>\n    </tr>\n    <tr>\n      <th>488832</th>\n      <td>2024-04-22 16:00:09</td>\n      <td>0.0</td>\n      <td>9593</td>\n      <td>2024-01-23 16:35:34</td>\n      <td>1</td>\n      <td>204093</td>\n      <td>NaN</td>\n      <td>144.56</td>\n      <td>45049291</td>\n      <td>4405026</td>\n      <td>...</td>\n      <td>125.70</td>\n      <td>NaN</td>\n      <td>NaN</td>\n      <td>35.00</td>\n      <td>CV-1-1Provider is out of beneficiary network</td>\n      <td>REJECTED</td>\n      <td>0.00</td>\n      <td>NaN</td>\n      <td>generic</td>\n      <td>Generic</td>\n    </tr>\n  </tbody>\n</table>\n<p>488833 rows × 67 columns</p>\n</div>"
     },
     "execution_count": 8,
     "metadata": {},
     "output_type": "execute_result"
    }
   ],
   "source": [
    "df_service"
   ],
   "metadata": {
    "collapsed": false,
    "ExecuteTime": {
     "end_time": "2024-05-23T08:54:04.887604400Z",
     "start_time": "2024-05-23T08:54:04.668210100Z"
    }
   }
  },
  {
   "cell_type": "code",
   "execution_count": 59,
   "outputs": [],
   "source": [
    "processor = DataFrameProcessor(df_service)"
   ],
   "metadata": {
    "collapsed": false,
    "ExecuteTime": {
     "end_time": "2024-05-23T09:51:20.551965500Z",
     "start_time": "2024-05-23T09:51:20.536977500Z"
    }
   }
  },
  {
   "cell_type": "code",
   "execution_count": 35,
   "outputs": [],
   "source": [
    "# processor.save_dropped_cols(df_index='service')\n",
    "# df_service = processor.drop_columns(list_name='service_dropped')\n",
    "# processor.save_dropped_cols(df_name='service',other_columns = columns_to_remove)"
   ],
   "metadata": {
    "collapsed": false,
    "ExecuteTime": {
     "end_time": "2024-05-23T09:29:41.308850300Z",
     "start_time": "2024-05-23T09:29:40.219598800Z"
    }
   }
  },
  {
   "cell_type": "code",
   "execution_count": 60,
   "outputs": [],
   "source": [
    "df_service = processor.drop_columns('service_dropped')"
   ],
   "metadata": {
    "collapsed": false,
    "ExecuteTime": {
     "end_time": "2024-05-23T09:51:38.434514900Z",
     "start_time": "2024-05-23T09:51:29.256899600Z"
    }
   }
  },
  {
   "cell_type": "code",
   "execution_count": 61,
   "outputs": [
    {
     "data": {
      "text/plain": "           AMEND_LAST_DATE  AMEND_BY_USER  CREATED_BY_USER  \\\n0      2024-04-17 06:30:29            0.0             9521   \n1      2024-04-17 06:30:31            0.0             9521   \n2      2024-04-17 06:30:33            0.0             9521   \n3      2024-04-17 06:30:22            0.0             9521   \n4      2024-04-17 06:30:24            0.0             9521   \n...                    ...            ...              ...   \n488828 2024-04-17 12:00:07            0.0             9593   \n488829 2024-04-17 12:00:08            0.0            10962   \n488830 2024-04-17 12:00:09            0.0            10962   \n488831 2024-04-17 12:00:09            0.0            10962   \n488832 2024-04-22 16:00:09            0.0             9593   \n\n             CREATION_DATE  HOSPITAL_ID  VISIT_ID  IS_FETCHED  NET_WITH_VAT  \\\n0      2024-04-04 22:57:57            1    230089         NaN         56.12   \n1      2024-04-04 23:02:21            1    230117         NaN        202.40   \n2      2024-04-04 23:08:38            1    230160         NaN        408.08   \n3      2024-04-04 22:26:08            1    229872         NaN         24.27   \n4      2024-04-04 22:34:22            1    229913         NaN         80.64   \n...                    ...          ...       ...         ...           ...   \n488828 2024-01-23 17:20:54            1    204110         NaN        242.48   \n488829 2024-01-28 01:01:05            1    204377         NaN          1.06   \n488830 2024-01-28 01:01:05            1    204377         NaN          1.14   \n488831 2024-01-28 01:01:05            1    204377         NaN          1.79   \n488832 2024-01-23 16:35:34            1    204093         NaN        144.56   \n\n        SERVICE_ID  INVOICE_NUMBER  ... UNIT_PRICE_NET APPROVAL_RESPONSE_ID  \\\n0         45925522         4430078  ...          48.80                  NaN   \n1         45816561         4430087  ...         176.00                  NaN   \n2         45687408         4430098  ...         345.50                  NaN   \n3         45739994         4430011  ...          19.42                  NaN   \n4         45815540         4430028  ...          57.60                  NaN   \n...            ...             ...  ...            ...                  ...   \n488828    45085469         4404986  ...         210.85                  NaN   \n488829    45105750         4404989  ...           1.06                  NaN   \n488830    45100159         4404989  ...           0.23                  NaN   \n488831    45096296         4404989  ...           1.79                  NaN   \n488832    45049291         4405026  ...         125.70                  NaN   \n\n       APPROVAL_RESPONSE_SYSTEM DISCOUNT_PERCENTAGE  \\\n0                           NaN               20.00   \n1                           NaN               20.00   \n2                           NaN               25.00   \n3                           NaN                5.01   \n4                           NaN               20.00   \n...                         ...                 ...   \n488828                      NaN               35.00   \n488829                      NaN                7.02   \n488830                      NaN               35.03   \n488831                      NaN                7.25   \n488832                      NaN               35.00   \n\n                                                    NOTES   OUTCOME  \\\n0                              Partial Approved  BE-1-7     PARTIAL   \n1                              Partial Approved  BE-1-7     PARTIAL   \n2                                    Partial Approved      APPROVED   \n3                                    Partial Approved      APPROVED   \n4                              Partial Approved  BE-1-7     PARTIAL   \n...                                                   ...       ...   \n488828     BE-1-3Submission not compliant with contrac...  REJECTED   \n488829                                                     APPROVED   \n488830                                                     APPROVED   \n488831     MN-1-1Service is not clinically justified b...  REJECTED   \n488832     CV-1-1Provider is out of beneficiary network    REJECTED   \n\n        APPROVED_QUNATITY            PRESCRIBED_CODE  SELECTION_REASON  \\\n0                    0.94                        NaN           generic   \n1                    0.94                        NaN           generic   \n2                    1.00                        NaN           generic   \n3                    1.00  8000000428-M-100000073712           generic   \n4                    0.92                        NaN           generic   \n...                   ...                        ...               ...   \n488828               0.00                        NaN           generic   \n488829               3.00  7000000881-5-100000073664           generic   \n488830               1.00                        NaN           generic   \n488831               0.00                        NaN           generic   \n488832               0.00                        NaN           generic   \n\n        SELECTION_REASON_DISPLAY  \n0                        Generic  \n1                        Generic  \n2                        Generic  \n3                        Generic  \n4                        Generic  \n...                          ...  \n488828                   Generic  \n488829                   Generic  \n488830                   Generic  \n488831                   Generic  \n488832                   Generic  \n\n[488833 rows x 67 columns]",
      "text/html": "<div>\n<style scoped>\n    .dataframe tbody tr th:only-of-type {\n        vertical-align: middle;\n    }\n\n    .dataframe tbody tr th {\n        vertical-align: top;\n    }\n\n    .dataframe thead th {\n        text-align: right;\n    }\n</style>\n<table border=\"1\" class=\"dataframe\">\n  <thead>\n    <tr style=\"text-align: right;\">\n      <th></th>\n      <th>AMEND_LAST_DATE</th>\n      <th>AMEND_BY_USER</th>\n      <th>CREATED_BY_USER</th>\n      <th>CREATION_DATE</th>\n      <th>HOSPITAL_ID</th>\n      <th>VISIT_ID</th>\n      <th>IS_FETCHED</th>\n      <th>NET_WITH_VAT</th>\n      <th>SERVICE_ID</th>\n      <th>INVOICE_NUMBER</th>\n      <th>...</th>\n      <th>UNIT_PRICE_NET</th>\n      <th>APPROVAL_RESPONSE_ID</th>\n      <th>APPROVAL_RESPONSE_SYSTEM</th>\n      <th>DISCOUNT_PERCENTAGE</th>\n      <th>NOTES</th>\n      <th>OUTCOME</th>\n      <th>APPROVED_QUNATITY</th>\n      <th>PRESCRIBED_CODE</th>\n      <th>SELECTION_REASON</th>\n      <th>SELECTION_REASON_DISPLAY</th>\n    </tr>\n  </thead>\n  <tbody>\n    <tr>\n      <th>0</th>\n      <td>2024-04-17 06:30:29</td>\n      <td>0.0</td>\n      <td>9521</td>\n      <td>2024-04-04 22:57:57</td>\n      <td>1</td>\n      <td>230089</td>\n      <td>NaN</td>\n      <td>56.12</td>\n      <td>45925522</td>\n      <td>4430078</td>\n      <td>...</td>\n      <td>48.80</td>\n      <td>NaN</td>\n      <td>NaN</td>\n      <td>20.00</td>\n      <td>Partial Approved  BE-1-7</td>\n      <td>PARTIAL</td>\n      <td>0.94</td>\n      <td>NaN</td>\n      <td>generic</td>\n      <td>Generic</td>\n    </tr>\n    <tr>\n      <th>1</th>\n      <td>2024-04-17 06:30:31</td>\n      <td>0.0</td>\n      <td>9521</td>\n      <td>2024-04-04 23:02:21</td>\n      <td>1</td>\n      <td>230117</td>\n      <td>NaN</td>\n      <td>202.40</td>\n      <td>45816561</td>\n      <td>4430087</td>\n      <td>...</td>\n      <td>176.00</td>\n      <td>NaN</td>\n      <td>NaN</td>\n      <td>20.00</td>\n      <td>Partial Approved  BE-1-7</td>\n      <td>PARTIAL</td>\n      <td>0.94</td>\n      <td>NaN</td>\n      <td>generic</td>\n      <td>Generic</td>\n    </tr>\n    <tr>\n      <th>2</th>\n      <td>2024-04-17 06:30:33</td>\n      <td>0.0</td>\n      <td>9521</td>\n      <td>2024-04-04 23:08:38</td>\n      <td>1</td>\n      <td>230160</td>\n      <td>NaN</td>\n      <td>408.08</td>\n      <td>45687408</td>\n      <td>4430098</td>\n      <td>...</td>\n      <td>345.50</td>\n      <td>NaN</td>\n      <td>NaN</td>\n      <td>25.00</td>\n      <td>Partial Approved</td>\n      <td>APPROVED</td>\n      <td>1.00</td>\n      <td>NaN</td>\n      <td>generic</td>\n      <td>Generic</td>\n    </tr>\n    <tr>\n      <th>3</th>\n      <td>2024-04-17 06:30:22</td>\n      <td>0.0</td>\n      <td>9521</td>\n      <td>2024-04-04 22:26:08</td>\n      <td>1</td>\n      <td>229872</td>\n      <td>NaN</td>\n      <td>24.27</td>\n      <td>45739994</td>\n      <td>4430011</td>\n      <td>...</td>\n      <td>19.42</td>\n      <td>NaN</td>\n      <td>NaN</td>\n      <td>5.01</td>\n      <td>Partial Approved</td>\n      <td>APPROVED</td>\n      <td>1.00</td>\n      <td>8000000428-M-100000073712</td>\n      <td>generic</td>\n      <td>Generic</td>\n    </tr>\n    <tr>\n      <th>4</th>\n      <td>2024-04-17 06:30:24</td>\n      <td>0.0</td>\n      <td>9521</td>\n      <td>2024-04-04 22:34:22</td>\n      <td>1</td>\n      <td>229913</td>\n      <td>NaN</td>\n      <td>80.64</td>\n      <td>45815540</td>\n      <td>4430028</td>\n      <td>...</td>\n      <td>57.60</td>\n      <td>NaN</td>\n      <td>NaN</td>\n      <td>20.00</td>\n      <td>Partial Approved  BE-1-7</td>\n      <td>PARTIAL</td>\n      <td>0.92</td>\n      <td>NaN</td>\n      <td>generic</td>\n      <td>Generic</td>\n    </tr>\n    <tr>\n      <th>...</th>\n      <td>...</td>\n      <td>...</td>\n      <td>...</td>\n      <td>...</td>\n      <td>...</td>\n      <td>...</td>\n      <td>...</td>\n      <td>...</td>\n      <td>...</td>\n      <td>...</td>\n      <td>...</td>\n      <td>...</td>\n      <td>...</td>\n      <td>...</td>\n      <td>...</td>\n      <td>...</td>\n      <td>...</td>\n      <td>...</td>\n      <td>...</td>\n      <td>...</td>\n      <td>...</td>\n    </tr>\n    <tr>\n      <th>488828</th>\n      <td>2024-04-17 12:00:07</td>\n      <td>0.0</td>\n      <td>9593</td>\n      <td>2024-01-23 17:20:54</td>\n      <td>1</td>\n      <td>204110</td>\n      <td>NaN</td>\n      <td>242.48</td>\n      <td>45085469</td>\n      <td>4404986</td>\n      <td>...</td>\n      <td>210.85</td>\n      <td>NaN</td>\n      <td>NaN</td>\n      <td>35.00</td>\n      <td>BE-1-3Submission not compliant with contrac...</td>\n      <td>REJECTED</td>\n      <td>0.00</td>\n      <td>NaN</td>\n      <td>generic</td>\n      <td>Generic</td>\n    </tr>\n    <tr>\n      <th>488829</th>\n      <td>2024-04-17 12:00:08</td>\n      <td>0.0</td>\n      <td>10962</td>\n      <td>2024-01-28 01:01:05</td>\n      <td>1</td>\n      <td>204377</td>\n      <td>NaN</td>\n      <td>1.06</td>\n      <td>45105750</td>\n      <td>4404989</td>\n      <td>...</td>\n      <td>1.06</td>\n      <td>NaN</td>\n      <td>NaN</td>\n      <td>7.02</td>\n      <td></td>\n      <td>APPROVED</td>\n      <td>3.00</td>\n      <td>7000000881-5-100000073664</td>\n      <td>generic</td>\n      <td>Generic</td>\n    </tr>\n    <tr>\n      <th>488830</th>\n      <td>2024-04-17 12:00:09</td>\n      <td>0.0</td>\n      <td>10962</td>\n      <td>2024-01-28 01:01:05</td>\n      <td>1</td>\n      <td>204377</td>\n      <td>NaN</td>\n      <td>1.14</td>\n      <td>45100159</td>\n      <td>4404989</td>\n      <td>...</td>\n      <td>0.23</td>\n      <td>NaN</td>\n      <td>NaN</td>\n      <td>35.03</td>\n      <td></td>\n      <td>APPROVED</td>\n      <td>1.00</td>\n      <td>NaN</td>\n      <td>generic</td>\n      <td>Generic</td>\n    </tr>\n    <tr>\n      <th>488831</th>\n      <td>2024-04-17 12:00:09</td>\n      <td>0.0</td>\n      <td>10962</td>\n      <td>2024-01-28 01:01:05</td>\n      <td>1</td>\n      <td>204377</td>\n      <td>NaN</td>\n      <td>1.79</td>\n      <td>45096296</td>\n      <td>4404989</td>\n      <td>...</td>\n      <td>1.79</td>\n      <td>NaN</td>\n      <td>NaN</td>\n      <td>7.25</td>\n      <td>MN-1-1Service is not clinically justified b...</td>\n      <td>REJECTED</td>\n      <td>0.00</td>\n      <td>NaN</td>\n      <td>generic</td>\n      <td>Generic</td>\n    </tr>\n    <tr>\n      <th>488832</th>\n      <td>2024-04-22 16:00:09</td>\n      <td>0.0</td>\n      <td>9593</td>\n      <td>2024-01-23 16:35:34</td>\n      <td>1</td>\n      <td>204093</td>\n      <td>NaN</td>\n      <td>144.56</td>\n      <td>45049291</td>\n      <td>4405026</td>\n      <td>...</td>\n      <td>125.70</td>\n      <td>NaN</td>\n      <td>NaN</td>\n      <td>35.00</td>\n      <td>CV-1-1Provider is out of beneficiary network</td>\n      <td>REJECTED</td>\n      <td>0.00</td>\n      <td>NaN</td>\n      <td>generic</td>\n      <td>Generic</td>\n    </tr>\n  </tbody>\n</table>\n<p>488833 rows × 67 columns</p>\n</div>"
     },
     "execution_count": 61,
     "metadata": {},
     "output_type": "execute_result"
    }
   ],
   "source": [
    "df_service"
   ],
   "metadata": {
    "collapsed": false,
    "ExecuteTime": {
     "end_time": "2024-05-23T09:51:41.423220500Z",
     "start_time": "2024-05-23T09:51:41.211381700Z"
    }
   }
  },
  {
   "cell_type": "code",
   "execution_count": null,
   "outputs": [],
   "source": [],
   "metadata": {
    "collapsed": false
   }
  }
 ],
 "metadata": {
  "kernelspec": {
   "display_name": "Python 3",
   "language": "python",
   "name": "python3"
  },
  "language_info": {
   "codemirror_mode": {
    "name": "ipython",
    "version": 2
   },
   "file_extension": ".py",
   "mimetype": "text/x-python",
   "name": "python",
   "nbconvert_exporter": "python",
   "pygments_lexer": "ipython2",
   "version": "2.7.6"
  }
 },
 "nbformat": 4,
 "nbformat_minor": 0
}
