{
 "cells": [
  {
   "cell_type": "code",
   "execution_count": 1,
   "metadata": {
    "collapsed": true,
    "ExecuteTime": {
     "end_time": "2024-08-27T11:47:27.388573Z",
     "start_time": "2024-08-27T11:47:19.255182900Z"
    }
   },
   "outputs": [],
   "source": [
    "from cashe import get_cashed_input\n",
    "from src.data_local import MergedDataPreprocessing\n",
    "from src.lstm_encoder import LSTMEmbedding\n",
    "import time\n",
    "from src.model_train import encode_label\n",
    "import numpy as np\n",
    "train_columns = ['SERVICE_DESCRIPTION', 'SERVICE_TYPE','UNIT','UNIT_TYPE','TIMES','PER',\n",
    "                 'OASIS_IOS_DESCRIPTION', 'PROVIDER_DEPARTMENT','ICD10','OUTCOME']"
   ]
  },
  {
   "cell_type": "code",
   "execution_count": 2,
   "outputs": [
    {
     "name": "stderr",
     "output_type": "stream",
     "text": [
      "E:\\Projects\\Claims_Rejection\\src\\data_local.py:276: FutureWarning: Downcasting behavior in `replace` is deprecated and will be removed in a future version. To retain the old behavior, explicitly call `result.infer_objects(copy=False)`. To opt-in to the future behavior, set `pd.set_option('future.no_silent_downcasting', True)`\n",
      "  df[column]= df[column].replace(column_encoding)\n",
      "E:\\Projects\\Claims_Rejection\\src\\data_local.py:284: FutureWarning: Downcasting behavior in `replace` is deprecated and will be removed in a future version. To retain the old behavior, explicitly call `result.infer_objects(copy=False)`. To opt-in to the future behavior, set `pd.set_option('future.no_silent_downcasting', True)`\n",
      "  df['PatientAgeRange']= df['PatientAgeRange'].replace(age_encoding)\n"
     ]
    }
   ],
   "source": [
    "df_original = get_cashed_input()\n",
    "preprocessing = MergedDataPreprocessing(df_original)\n",
    "\n",
    "df_original = preprocessing.columns_prep()\n",
    "df_train, df_test = preprocessing.train_test_split_time()"
   ],
   "metadata": {
    "collapsed": false,
    "ExecuteTime": {
     "end_time": "2024-08-27T11:52:13.363463500Z",
     "start_time": "2024-08-27T11:47:27.390567400Z"
    }
   }
  },
  {
   "cell_type": "code",
   "execution_count": 6,
   "outputs": [
    {
     "data": {
      "text/plain": "              REQUEST_DATE   VISIT_NO          VISIT_DATE  \\\n398452 2024-01-01 12:38:36  1343731-2 2023-12-03 00:00:00   \n398673 2024-01-02 01:04:02  1335736-8 2023-12-07 10:29:11   \n398668 2024-01-02 01:04:02  1335736-8 2023-12-07 10:29:11   \n398675 2024-01-02 01:04:02  1335736-8 2023-12-07 10:29:11   \n398674 2024-01-02 01:04:02  1335736-8 2023-12-07 10:29:11   \n\n        EMERGENCY_INDICATOR PROVIDER_DEPARTMENT_CODE  \\\n398452                    0                       25   \n398673                    0                       18   \n398668                    0                       18   \n398675                    0                       18   \n398674                    0                       18   \n\n                    PROVIDER_DEPARTMENT DOCTOR_SPECIALTY_CODE DOCTOR_CODE  \\\n398452     RADIOGRAPHIC INVESTIGATIONS                  18.06        9638   \n398673  OBSTERTRIC/GYNEACOLOGIC SERVIC                  10.00          56   \n398668  OBSTERTRIC/GYNEACOLOGIC SERVIC                  10.00          56   \n398675  OBSTERTRIC/GYNEACOLOGIC SERVIC                  10.00          56   \n398674  OBSTERTRIC/GYNEACOLOGIC SERVIC                  10.00          56   \n\n       PATIENT_NO EPISODE_NO  ... UNIT_PRICE_STOCKED_UOM UNIT_PRICE_NET  \\\n398452    1180507          2  ...                   4.72           3.49   \n398673    1173039          8  ...                  11.98          11.38   \n398668    1173039          8  ...                    340            272   \n398675    1173039          8  ...                    500            500   \n398674    1173039          8  ...                  15700          13345   \n\n       DISCOUNT_PERCENTAGE                                              NOTES  \\\n398452                7.43  Rejected for the reason Sorry you are not an a...   \n398673                5.01     CV-1-1Services performed by a non-network p...   \n398668                  20     CV-1-1Services performed by a non-network p...   \n398675                   0     CV-1-1Services performed by a non-network p...   \n398674                  15     CV-1-1Services performed by a non-network p...   \n\n         OUTCOME APPROVED_QUNATITY  Episode_Key  \\\n398452  REJECTED                 0  1_1343731-2   \n398673  REJECTED                 0  1_1335736-8   \n398668  REJECTED                 0  1_1335736-8   \n398675  REJECTED                 0  1_1335736-8   \n398674  REJECTED                 0  1_1335736-8   \n\n                                                    ICD10  Diagnosis_Key  \\\n398452                                              N80.1   1_1111228814   \n398673  Encounter for cesarean delivery without indica...   1_1111231440   \n398668  Encounter for cesarean delivery without indica...   1_1111231440   \n398675  Encounter for cesarean delivery without indica...   1_1111231440   \n398674  Encounter for cesarean delivery without indica...   1_1111231440   \n\n        PatientAgeRange  \n398452                5  \n398673                6  \n398668                6  \n398675                6  \n398674                6  \n\n[5 rows x 102 columns]",
      "text/html": "<div>\n<style scoped>\n    .dataframe tbody tr th:only-of-type {\n        vertical-align: middle;\n    }\n\n    .dataframe tbody tr th {\n        vertical-align: top;\n    }\n\n    .dataframe thead th {\n        text-align: right;\n    }\n</style>\n<table border=\"1\" class=\"dataframe\">\n  <thead>\n    <tr style=\"text-align: right;\">\n      <th></th>\n      <th>REQUEST_DATE</th>\n      <th>VISIT_NO</th>\n      <th>VISIT_DATE</th>\n      <th>EMERGENCY_INDICATOR</th>\n      <th>PROVIDER_DEPARTMENT_CODE</th>\n      <th>PROVIDER_DEPARTMENT</th>\n      <th>DOCTOR_SPECIALTY_CODE</th>\n      <th>DOCTOR_CODE</th>\n      <th>PATIENT_NO</th>\n      <th>EPISODE_NO</th>\n      <th>...</th>\n      <th>UNIT_PRICE_STOCKED_UOM</th>\n      <th>UNIT_PRICE_NET</th>\n      <th>DISCOUNT_PERCENTAGE</th>\n      <th>NOTES</th>\n      <th>OUTCOME</th>\n      <th>APPROVED_QUNATITY</th>\n      <th>Episode_Key</th>\n      <th>ICD10</th>\n      <th>Diagnosis_Key</th>\n      <th>PatientAgeRange</th>\n    </tr>\n  </thead>\n  <tbody>\n    <tr>\n      <th>398452</th>\n      <td>2024-01-01 12:38:36</td>\n      <td>1343731-2</td>\n      <td>2023-12-03 00:00:00</td>\n      <td>0</td>\n      <td>25</td>\n      <td>RADIOGRAPHIC INVESTIGATIONS</td>\n      <td>18.06</td>\n      <td>9638</td>\n      <td>1180507</td>\n      <td>2</td>\n      <td>...</td>\n      <td>4.72</td>\n      <td>3.49</td>\n      <td>7.43</td>\n      <td>Rejected for the reason Sorry you are not an a...</td>\n      <td>REJECTED</td>\n      <td>0</td>\n      <td>1_1343731-2</td>\n      <td>N80.1</td>\n      <td>1_1111228814</td>\n      <td>5</td>\n    </tr>\n    <tr>\n      <th>398673</th>\n      <td>2024-01-02 01:04:02</td>\n      <td>1335736-8</td>\n      <td>2023-12-07 10:29:11</td>\n      <td>0</td>\n      <td>18</td>\n      <td>OBSTERTRIC/GYNEACOLOGIC SERVIC</td>\n      <td>10.00</td>\n      <td>56</td>\n      <td>1173039</td>\n      <td>8</td>\n      <td>...</td>\n      <td>11.98</td>\n      <td>11.38</td>\n      <td>5.01</td>\n      <td>CV-1-1Services performed by a non-network p...</td>\n      <td>REJECTED</td>\n      <td>0</td>\n      <td>1_1335736-8</td>\n      <td>Encounter for cesarean delivery without indica...</td>\n      <td>1_1111231440</td>\n      <td>6</td>\n    </tr>\n    <tr>\n      <th>398668</th>\n      <td>2024-01-02 01:04:02</td>\n      <td>1335736-8</td>\n      <td>2023-12-07 10:29:11</td>\n      <td>0</td>\n      <td>18</td>\n      <td>OBSTERTRIC/GYNEACOLOGIC SERVIC</td>\n      <td>10.00</td>\n      <td>56</td>\n      <td>1173039</td>\n      <td>8</td>\n      <td>...</td>\n      <td>340</td>\n      <td>272</td>\n      <td>20</td>\n      <td>CV-1-1Services performed by a non-network p...</td>\n      <td>REJECTED</td>\n      <td>0</td>\n      <td>1_1335736-8</td>\n      <td>Encounter for cesarean delivery without indica...</td>\n      <td>1_1111231440</td>\n      <td>6</td>\n    </tr>\n    <tr>\n      <th>398675</th>\n      <td>2024-01-02 01:04:02</td>\n      <td>1335736-8</td>\n      <td>2023-12-07 10:29:11</td>\n      <td>0</td>\n      <td>18</td>\n      <td>OBSTERTRIC/GYNEACOLOGIC SERVIC</td>\n      <td>10.00</td>\n      <td>56</td>\n      <td>1173039</td>\n      <td>8</td>\n      <td>...</td>\n      <td>500</td>\n      <td>500</td>\n      <td>0</td>\n      <td>CV-1-1Services performed by a non-network p...</td>\n      <td>REJECTED</td>\n      <td>0</td>\n      <td>1_1335736-8</td>\n      <td>Encounter for cesarean delivery without indica...</td>\n      <td>1_1111231440</td>\n      <td>6</td>\n    </tr>\n    <tr>\n      <th>398674</th>\n      <td>2024-01-02 01:04:02</td>\n      <td>1335736-8</td>\n      <td>2023-12-07 10:29:11</td>\n      <td>0</td>\n      <td>18</td>\n      <td>OBSTERTRIC/GYNEACOLOGIC SERVIC</td>\n      <td>10.00</td>\n      <td>56</td>\n      <td>1173039</td>\n      <td>8</td>\n      <td>...</td>\n      <td>15700</td>\n      <td>13345</td>\n      <td>15</td>\n      <td>CV-1-1Services performed by a non-network p...</td>\n      <td>REJECTED</td>\n      <td>0</td>\n      <td>1_1335736-8</td>\n      <td>Encounter for cesarean delivery without indica...</td>\n      <td>1_1111231440</td>\n      <td>6</td>\n    </tr>\n  </tbody>\n</table>\n<p>5 rows × 102 columns</p>\n</div>"
     },
     "execution_count": 6,
     "metadata": {},
     "output_type": "execute_result"
    }
   ],
   "source": [
    "df_train[5:10]"
   ],
   "metadata": {
    "collapsed": false,
    "ExecuteTime": {
     "end_time": "2024-08-27T11:53:06.785859800Z",
     "start_time": "2024-08-27T11:53:06.713290200Z"
    }
   }
  },
  {
   "cell_type": "code",
   "execution_count": 7,
   "outputs": [],
   "source": [
    "X_train = df_train[train_columns[:-1]];  y_train = df_train[train_columns[-1]].values\n",
    "X_test = df_test[train_columns[:-1]];  y_test = df_test[train_columns[-1]].values\n",
    "\n",
    "y_train = encode_label(y_train); y_test = encode_label(y_test)"
   ],
   "metadata": {
    "collapsed": false,
    "ExecuteTime": {
     "end_time": "2024-08-27T11:59:14.141028800Z",
     "start_time": "2024-08-27T11:59:14.035002200Z"
    }
   }
  },
  {
   "cell_type": "code",
   "execution_count": 8,
   "outputs": [
    {
     "data": {
      "text/plain": "              REQUEST_DATE   VISIT_NO VISIT_DATE  EMERGENCY_INDICATOR  \\\n398448 2024-01-01 12:33:25  1346536-2 2023-12-07                    0   \n398449 2024-01-01 12:38:12  1343530-4 2023-12-06                    0   \n398453 2024-01-01 12:38:36  1343731-2 2023-12-03                    0   \n398454 2024-01-01 12:38:36  1343731-2 2023-12-03                    0   \n398450 2024-01-01 12:38:36  1343731-2 2023-12-03                    0   \n...                    ...        ...        ...                  ...   \n301019 2024-04-06 13:14:09  1360424-3 2024-03-04                    0   \n301018 2024-04-06 13:14:09  1360424-3 2024-03-04                    0   \n301017 2024-04-06 13:14:09  1360424-3 2024-03-04                    0   \n301022 2024-04-06 13:14:09  1360424-3 2024-03-04                    0   \n304947 2024-04-06 13:14:43  1361285-2 2024-03-05                    0   \n\n       PROVIDER_DEPARTMENT_CODE              PROVIDER_DEPARTMENT  \\\n398448                      855                   CARDIOTHORACIC   \n398449                        4                 DENTAL SERVICES    \n398453                       25     RADIOGRAPHIC INVESTIGATIONS    \n398454                       25     RADIOGRAPHIC INVESTIGATIONS    \n398450                       25     RADIOGRAPHIC INVESTIGATIONS    \n...                         ...                              ...   \n301019                       29             CARDIOLOGY SERVICES    \n301018                       29             CARDIOLOGY SERVICES    \n301017                       29             CARDIOLOGY SERVICES    \n301022                       29             CARDIOLOGY SERVICES    \n304947                       18  OBSTERTRIC/GYNEACOLOGIC SERVIC    \n\n       DOCTOR_SPECIALTY_CODE DOCTOR_CODE PATIENT_NO EPISODE_NO  ...  \\\n398448                 08.25        8455    1183018          2  ...   \n398449                 22.00        7352    1180321          4  ...   \n398453                 18.06        9638    1180507          2  ...   \n398454                 18.06        9638    1180507          2  ...   \n398450                 18.06        9638    1180507          2  ...   \n...                      ...         ...        ...        ...  ...   \n301019                 08.02        3396    1195919          3  ...   \n301018                 08.02        3396    1195919          3  ...   \n301017                 08.02        3396    1195919          3  ...   \n301022                 08.02        3396    1195919          3  ...   \n304947                 10.00        3049    1196744          2  ...   \n\n       UNIT_PRICE_STOCKED_UOM                          UNIT_PRICE_NET  \\\n398448                    120                                      96   \n398449                    120                                     120   \n398453                1791.67                                 1154.17   \n398454                   1.69                                    1.25   \n398450                  16.13                                   11.29   \n...                       ...                                     ...   \n301019                  14.85  .4703333333333333333333333333333333333   \n301018                  56.45  1.787666666666666666666666666666666666   \n301017                   86.9  2.751666666666666666666666666666666666   \n301022                   6.35                                    .067   \n304947                    180                                     144   \n\n       DISCOUNT_PERCENTAGE                                              NOTES  \\\n398448                   0                                                      \n398449                   0  Rejected for the reason Sorry you are not an a...   \n398453                  30  Rejected for the reason Sorry you are not an a...   \n398454                7.69  Rejected for the reason Sorry you are not an a...   \n398450               30.01  Rejected for the reason Sorry you are not an a...   \n...                    ...                                                ...   \n301019                4.98                                                      \n301018                5.01                                                      \n301017                5.01                                           BE-1-1     \n301022                5.04                                           BE-1-1     \n304947                   0                                                      \n\n         OUTCOME APPROVED_QUNATITY  Episode_Key  ICD10  Diagnosis_Key  \\\n398448  APPROVED               1.0  1_1346536-2    J93   1_1111225808   \n398449  REJECTED                 0  1_1343530-4    K02   1_1111225570   \n398453  REJECTED                 0  1_1343731-2  N80.1   1_1111228814   \n398454  REJECTED                 0  1_1343731-2  N80.1   1_1111228814   \n398450  REJECTED                 0  1_1343731-2  N80.1   1_1111228814   \n...          ...               ...          ...    ...            ...   \n301019  APPROVED                 1  1_1360424-3    I21    1_111225233   \n301018  APPROVED                 1  1_1360424-3    I21    1_111225233   \n301017   PARTIAL                 1  1_1360424-3    I21    1_111225233   \n301022   PARTIAL                 1  1_1360424-3    I21    1_111225233   \n304947  APPROVED                 1  1_1361285-2    N91   1_1111232793   \n\n        PatientAgeRange  \n398448                6  \n398449                1  \n398453                5  \n398454                5  \n398450                5  \n...                 ...  \n301019                7  \n301018                7  \n301017                7  \n301022                7  \n304947                6  \n\n[165580 rows x 102 columns]",
      "text/html": "<div>\n<style scoped>\n    .dataframe tbody tr th:only-of-type {\n        vertical-align: middle;\n    }\n\n    .dataframe tbody tr th {\n        vertical-align: top;\n    }\n\n    .dataframe thead th {\n        text-align: right;\n    }\n</style>\n<table border=\"1\" class=\"dataframe\">\n  <thead>\n    <tr style=\"text-align: right;\">\n      <th></th>\n      <th>REQUEST_DATE</th>\n      <th>VISIT_NO</th>\n      <th>VISIT_DATE</th>\n      <th>EMERGENCY_INDICATOR</th>\n      <th>PROVIDER_DEPARTMENT_CODE</th>\n      <th>PROVIDER_DEPARTMENT</th>\n      <th>DOCTOR_SPECIALTY_CODE</th>\n      <th>DOCTOR_CODE</th>\n      <th>PATIENT_NO</th>\n      <th>EPISODE_NO</th>\n      <th>...</th>\n      <th>UNIT_PRICE_STOCKED_UOM</th>\n      <th>UNIT_PRICE_NET</th>\n      <th>DISCOUNT_PERCENTAGE</th>\n      <th>NOTES</th>\n      <th>OUTCOME</th>\n      <th>APPROVED_QUNATITY</th>\n      <th>Episode_Key</th>\n      <th>ICD10</th>\n      <th>Diagnosis_Key</th>\n      <th>PatientAgeRange</th>\n    </tr>\n  </thead>\n  <tbody>\n    <tr>\n      <th>398448</th>\n      <td>2024-01-01 12:33:25</td>\n      <td>1346536-2</td>\n      <td>2023-12-07</td>\n      <td>0</td>\n      <td>855</td>\n      <td>CARDIOTHORACIC</td>\n      <td>08.25</td>\n      <td>8455</td>\n      <td>1183018</td>\n      <td>2</td>\n      <td>...</td>\n      <td>120</td>\n      <td>96</td>\n      <td>0</td>\n      <td></td>\n      <td>APPROVED</td>\n      <td>1.0</td>\n      <td>1_1346536-2</td>\n      <td>J93</td>\n      <td>1_1111225808</td>\n      <td>6</td>\n    </tr>\n    <tr>\n      <th>398449</th>\n      <td>2024-01-01 12:38:12</td>\n      <td>1343530-4</td>\n      <td>2023-12-06</td>\n      <td>0</td>\n      <td>4</td>\n      <td>DENTAL SERVICES</td>\n      <td>22.00</td>\n      <td>7352</td>\n      <td>1180321</td>\n      <td>4</td>\n      <td>...</td>\n      <td>120</td>\n      <td>120</td>\n      <td>0</td>\n      <td>Rejected for the reason Sorry you are not an a...</td>\n      <td>REJECTED</td>\n      <td>0</td>\n      <td>1_1343530-4</td>\n      <td>K02</td>\n      <td>1_1111225570</td>\n      <td>1</td>\n    </tr>\n    <tr>\n      <th>398453</th>\n      <td>2024-01-01 12:38:36</td>\n      <td>1343731-2</td>\n      <td>2023-12-03</td>\n      <td>0</td>\n      <td>25</td>\n      <td>RADIOGRAPHIC INVESTIGATIONS</td>\n      <td>18.06</td>\n      <td>9638</td>\n      <td>1180507</td>\n      <td>2</td>\n      <td>...</td>\n      <td>1791.67</td>\n      <td>1154.17</td>\n      <td>30</td>\n      <td>Rejected for the reason Sorry you are not an a...</td>\n      <td>REJECTED</td>\n      <td>0</td>\n      <td>1_1343731-2</td>\n      <td>N80.1</td>\n      <td>1_1111228814</td>\n      <td>5</td>\n    </tr>\n    <tr>\n      <th>398454</th>\n      <td>2024-01-01 12:38:36</td>\n      <td>1343731-2</td>\n      <td>2023-12-03</td>\n      <td>0</td>\n      <td>25</td>\n      <td>RADIOGRAPHIC INVESTIGATIONS</td>\n      <td>18.06</td>\n      <td>9638</td>\n      <td>1180507</td>\n      <td>2</td>\n      <td>...</td>\n      <td>1.69</td>\n      <td>1.25</td>\n      <td>7.69</td>\n      <td>Rejected for the reason Sorry you are not an a...</td>\n      <td>REJECTED</td>\n      <td>0</td>\n      <td>1_1343731-2</td>\n      <td>N80.1</td>\n      <td>1_1111228814</td>\n      <td>5</td>\n    </tr>\n    <tr>\n      <th>398450</th>\n      <td>2024-01-01 12:38:36</td>\n      <td>1343731-2</td>\n      <td>2023-12-03</td>\n      <td>0</td>\n      <td>25</td>\n      <td>RADIOGRAPHIC INVESTIGATIONS</td>\n      <td>18.06</td>\n      <td>9638</td>\n      <td>1180507</td>\n      <td>2</td>\n      <td>...</td>\n      <td>16.13</td>\n      <td>11.29</td>\n      <td>30.01</td>\n      <td>Rejected for the reason Sorry you are not an a...</td>\n      <td>REJECTED</td>\n      <td>0</td>\n      <td>1_1343731-2</td>\n      <td>N80.1</td>\n      <td>1_1111228814</td>\n      <td>5</td>\n    </tr>\n    <tr>\n      <th>...</th>\n      <td>...</td>\n      <td>...</td>\n      <td>...</td>\n      <td>...</td>\n      <td>...</td>\n      <td>...</td>\n      <td>...</td>\n      <td>...</td>\n      <td>...</td>\n      <td>...</td>\n      <td>...</td>\n      <td>...</td>\n      <td>...</td>\n      <td>...</td>\n      <td>...</td>\n      <td>...</td>\n      <td>...</td>\n      <td>...</td>\n      <td>...</td>\n      <td>...</td>\n      <td>...</td>\n    </tr>\n    <tr>\n      <th>301019</th>\n      <td>2024-04-06 13:14:09</td>\n      <td>1360424-3</td>\n      <td>2024-03-04</td>\n      <td>0</td>\n      <td>29</td>\n      <td>CARDIOLOGY SERVICES</td>\n      <td>08.02</td>\n      <td>3396</td>\n      <td>1195919</td>\n      <td>3</td>\n      <td>...</td>\n      <td>14.85</td>\n      <td>.4703333333333333333333333333333333333</td>\n      <td>4.98</td>\n      <td></td>\n      <td>APPROVED</td>\n      <td>1</td>\n      <td>1_1360424-3</td>\n      <td>I21</td>\n      <td>1_111225233</td>\n      <td>7</td>\n    </tr>\n    <tr>\n      <th>301018</th>\n      <td>2024-04-06 13:14:09</td>\n      <td>1360424-3</td>\n      <td>2024-03-04</td>\n      <td>0</td>\n      <td>29</td>\n      <td>CARDIOLOGY SERVICES</td>\n      <td>08.02</td>\n      <td>3396</td>\n      <td>1195919</td>\n      <td>3</td>\n      <td>...</td>\n      <td>56.45</td>\n      <td>1.787666666666666666666666666666666666</td>\n      <td>5.01</td>\n      <td></td>\n      <td>APPROVED</td>\n      <td>1</td>\n      <td>1_1360424-3</td>\n      <td>I21</td>\n      <td>1_111225233</td>\n      <td>7</td>\n    </tr>\n    <tr>\n      <th>301017</th>\n      <td>2024-04-06 13:14:09</td>\n      <td>1360424-3</td>\n      <td>2024-03-04</td>\n      <td>0</td>\n      <td>29</td>\n      <td>CARDIOLOGY SERVICES</td>\n      <td>08.02</td>\n      <td>3396</td>\n      <td>1195919</td>\n      <td>3</td>\n      <td>...</td>\n      <td>86.9</td>\n      <td>2.751666666666666666666666666666666666</td>\n      <td>5.01</td>\n      <td>BE-1-1</td>\n      <td>PARTIAL</td>\n      <td>1</td>\n      <td>1_1360424-3</td>\n      <td>I21</td>\n      <td>1_111225233</td>\n      <td>7</td>\n    </tr>\n    <tr>\n      <th>301022</th>\n      <td>2024-04-06 13:14:09</td>\n      <td>1360424-3</td>\n      <td>2024-03-04</td>\n      <td>0</td>\n      <td>29</td>\n      <td>CARDIOLOGY SERVICES</td>\n      <td>08.02</td>\n      <td>3396</td>\n      <td>1195919</td>\n      <td>3</td>\n      <td>...</td>\n      <td>6.35</td>\n      <td>.067</td>\n      <td>5.04</td>\n      <td>BE-1-1</td>\n      <td>PARTIAL</td>\n      <td>1</td>\n      <td>1_1360424-3</td>\n      <td>I21</td>\n      <td>1_111225233</td>\n      <td>7</td>\n    </tr>\n    <tr>\n      <th>304947</th>\n      <td>2024-04-06 13:14:43</td>\n      <td>1361285-2</td>\n      <td>2024-03-05</td>\n      <td>0</td>\n      <td>18</td>\n      <td>OBSTERTRIC/GYNEACOLOGIC SERVIC</td>\n      <td>10.00</td>\n      <td>3049</td>\n      <td>1196744</td>\n      <td>2</td>\n      <td>...</td>\n      <td>180</td>\n      <td>144</td>\n      <td>0</td>\n      <td></td>\n      <td>APPROVED</td>\n      <td>1</td>\n      <td>1_1361285-2</td>\n      <td>N91</td>\n      <td>1_1111232793</td>\n      <td>6</td>\n    </tr>\n  </tbody>\n</table>\n<p>165580 rows × 102 columns</p>\n</div>"
     },
     "execution_count": 8,
     "metadata": {},
     "output_type": "execute_result"
    }
   ],
   "source": [
    "X= df_train[df_train.columns]\n",
    "X"
   ],
   "metadata": {
    "collapsed": false,
    "ExecuteTime": {
     "end_time": "2024-08-27T11:59:17.167736700Z",
     "start_time": "2024-08-27T11:59:16.890152400Z"
    }
   }
  },
  {
   "cell_type": "code",
   "execution_count": 9,
   "outputs": [
    {
     "data": {
      "text/plain": "array([[  36,   16,    1, ...,    0,    0,    0],\n       [  16,   91,  123, ...,    0,    0,    0],\n       [1618,  164,   41, ...,    0,    0,    0],\n       ...,\n       [ 402,  149,  396, ...,   31,    1,  265],\n       [ 344,   82,    9, ...,  344,   82,    9],\n       [  59,   16,    1, ...,    0,    0,    0]])"
     },
     "execution_count": 9,
     "metadata": {},
     "output_type": "execute_result"
    }
   ],
   "source": [
    "lstm_embedding = LSTMEmbedding()\n",
    "X_train_processed = lstm_embedding.preprocess_data(X_train) ## 16-dim embedding\n",
    "X_train_processed"
   ],
   "metadata": {
    "collapsed": false,
    "ExecuteTime": {
     "end_time": "2024-08-27T11:59:25.781594500Z",
     "start_time": "2024-08-27T11:59:19.246762300Z"
    }
   }
  },
  {
   "cell_type": "code",
   "execution_count": 10,
   "outputs": [
    {
     "name": "stdout",
     "output_type": "stream",
     "text": [
      "Training Model\n",
      "Epoch 1/3\n",
      "\u001B[1m5175/5175\u001B[0m \u001B[32m━━━━━━━━━━━━━━━━━━━━\u001B[0m\u001B[37m\u001B[0m \u001B[1m21s\u001B[0m 4ms/step - accuracy: 0.5613 - loss: 0.6784\n",
      "Epoch 2/3\n",
      "\u001B[1m5175/5175\u001B[0m \u001B[32m━━━━━━━━━━━━━━━━━━━━\u001B[0m\u001B[37m\u001B[0m \u001B[1m19s\u001B[0m 4ms/step - accuracy: 0.5799 - loss: 0.6677\n",
      "Epoch 3/3\n",
      "\u001B[1m5175/5175\u001B[0m \u001B[32m━━━━━━━━━━━━━━━━━━━━\u001B[0m\u001B[37m\u001B[0m \u001B[1m18s\u001B[0m 4ms/step - accuracy: 0.5929 - loss: 0.6592\n",
      "Evaluating Model\n",
      "\u001B[1m1294/1294\u001B[0m \u001B[32m━━━━━━━━━━━━━━━━━━━━\u001B[0m\u001B[37m\u001B[0m \u001B[1m3s\u001B[0m 2ms/step - accuracy: 0.5693 - loss: 0.6726\n",
      "Model Accuracy on test data:  0.6825442314147949\n"
     ]
    }
   ],
   "source": [
    "print('Training Model')\n",
    "lstm_embedding.train_model(X_train_processed, y_train,epochs=3,batch_size=32)\n",
    "\n",
    "print('Evaluating Model')\n",
    "accuracy = lstm_embedding.evaluate_model(X_test, y_test)\n",
    "\n",
    "print('Model Accuracy on test data: ',accuracy)"
   ],
   "metadata": {
    "collapsed": false,
    "ExecuteTime": {
     "end_time": "2024-08-27T12:00:28.030762600Z",
     "start_time": "2024-08-27T11:59:25.784586200Z"
    }
   }
  },
  {
   "cell_type": "code",
   "execution_count": 11,
   "outputs": [
    {
     "data": {
      "text/plain": "(16, 1)"
     },
     "execution_count": 11,
     "metadata": {},
     "output_type": "execute_result"
    }
   ],
   "source": [
    "lstm_embedding.input_shape"
   ],
   "metadata": {
    "collapsed": false,
    "ExecuteTime": {
     "end_time": "2024-08-27T12:00:28.071642100Z",
     "start_time": "2024-08-27T12:00:28.033746500Z"
    }
   }
  },
  {
   "cell_type": "code",
   "execution_count": 12,
   "outputs": [
    {
     "data": {
      "text/plain": "array([[  29,    3,    4, ...,   18,    1,  244],\n       [   3,    4,  241, ...,   18,    1,  244],\n       [  36,   16,    1, ...,    0,    0,    0],\n       ...,\n       [2968,  889,  559, ...,    0,    0,    0],\n       [  11,   19,   74, ...,   18,    1, 4878],\n       [ 403,   33,  103, ...,    0,    0,    0]])"
     },
     "execution_count": 12,
     "metadata": {},
     "output_type": "execute_result"
    }
   ],
   "source": [
    "X_test_vectorized = lstm_embedding.embedding_vector(X_test,reload_model=False)\n",
    "X_test_vectorized"
   ],
   "metadata": {
    "collapsed": false,
    "ExecuteTime": {
     "end_time": "2024-08-27T12:00:29.140929800Z",
     "start_time": "2024-08-27T12:00:28.046710300Z"
    }
   }
  },
  {
   "cell_type": "code",
   "execution_count": 13,
   "outputs": [
    {
     "name": "stdout",
     "output_type": "stream",
     "text": [
      "Execution time per example: 0.29 seconds\n"
     ]
    }
   ],
   "source": [
    "start_time = time.time()\n",
    "lstm_encoder = LSTMEmbedding()\n",
    "lstm_encoder.load_model()\n",
    "X_test_vectorized = lstm_embedding.embedding_vector(X_test[:10],reload_model=True)\n",
    "\n",
    "end_time = time.time()\n",
    "execution_time = end_time - start_time\n",
    "print(\"Execution time per example: {:.2f} seconds\".format(execution_time))"
   ],
   "metadata": {
    "collapsed": false,
    "ExecuteTime": {
     "end_time": "2024-08-27T12:01:14.291526100Z",
     "start_time": "2024-08-27T12:01:13.997505500Z"
    }
   }
  },
  {
   "cell_type": "code",
   "execution_count": 14,
   "outputs": [
    {
     "data": {
      "text/plain": "array([[374, 268, 302, 276,   2,  62, 445,  54, 374, 268, 302, 276,   2,\n          0,   0,   0],\n       [272, 185, 648, 321, 455, 253, 272, 185, 648, 321,   0,   0,   0,\n          0,   0,   0],\n       [ 77,  77,   0,   0,   0,   0,   0,   0,   0,   0,   0,   0,   0,\n          0,   0,   0],\n       [ 29, 267, 733,  64,  29, 267, 733,  64,  73,  22, 253,   0,   0,\n          0,   0,   0],\n       [196,   6,  36,  43,  62,  43,  62, 196,   6,  36,  43,  73,  22,\n        253,   0,   0],\n       [ 35,   2,  68,  62,  43,  62,  67,  45,   6,   2,  35,   2,  68,\n         73,  22, 253],\n       [830,   5,  75,  62, 245, 830,   5,  75,  62, 245,  73,  22, 253,\n          0,   0,   0],\n       [ 73,  22, 253,   0,   0,   0,   0,   0,   0,   0,   0,   0,   0,\n          0,   0,   0],\n       [515,   8, 515,   8,  73,  22, 253,   0,   0,   0,   0,   0,   0,\n          0,   0,   0],\n       [ 70,   5, 123,  70,   5, 123,  73,  22, 253,   0,   0,   0,   0,\n          0,   0,   0]])"
     },
     "execution_count": 14,
     "metadata": {},
     "output_type": "execute_result"
    }
   ],
   "source": [
    "X_test_vectorized"
   ],
   "metadata": {
    "collapsed": false,
    "ExecuteTime": {
     "end_time": "2024-08-27T12:01:15.806870500Z",
     "start_time": "2024-08-27T12:01:15.794872Z"
    }
   }
  },
  {
   "cell_type": "code",
   "execution_count": 15,
   "outputs": [
    {
     "data": {
      "text/plain": "0.0011286411285400392"
     },
     "execution_count": 15,
     "metadata": {},
     "output_type": "execute_result"
    }
   ],
   "source": [
    "def vectorize(COUNT_VALS):\n",
    "      preds = lstm_encoder.embedding_vector(X_test[:COUNT_VALS],reload_model=True)\n",
    "\n",
    "\n",
    "def calculate_excecution():\n",
    "  exs = []\n",
    "  COUNT_VALS = 50\n",
    "  for i in range(10):\n",
    "    start_time = time.time()\n",
    "\n",
    "    vectorize(COUNT_VALS)\n",
    "\n",
    "    end_time = time.time()\n",
    "\n",
    "    execution_time = end_time - start_time\n",
    "    exs.append(execution_time)\n",
    "\n",
    "  average = np.array(exs).mean()\n",
    "  return average/COUNT_VALS\n",
    "\n",
    "calculate_excecution()"
   ],
   "metadata": {
    "collapsed": false,
    "ExecuteTime": {
     "end_time": "2024-08-27T12:01:17.799645100Z",
     "start_time": "2024-08-27T12:01:17.226304100Z"
    }
   }
  },
  {
   "cell_type": "code",
   "execution_count": null,
   "outputs": [],
   "source": [],
   "metadata": {
    "collapsed": false
   }
  }
 ],
 "metadata": {
  "kernelspec": {
   "display_name": "Python 3",
   "language": "python",
   "name": "python3"
  },
  "language_info": {
   "codemirror_mode": {
    "name": "ipython",
    "version": 2
   },
   "file_extension": ".py",
   "mimetype": "text/x-python",
   "name": "python",
   "nbconvert_exporter": "python",
   "pygments_lexer": "ipython2",
   "version": "2.7.6"
  }
 },
 "nbformat": 4,
 "nbformat_minor": 0
}
