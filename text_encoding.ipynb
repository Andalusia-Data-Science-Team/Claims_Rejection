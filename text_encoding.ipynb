{
 "cells": [
  {
   "cell_type": "code",
   "execution_count": 11,
   "metadata": {
    "collapsed": true,
    "ExecuteTime": {
     "end_time": "2024-05-15T07:48:58.003779300Z",
     "start_time": "2024-05-15T07:48:57.986829300Z"
    }
   },
   "outputs": [],
   "source": [
    "from cashe import get_input\n",
    "from src.data_local import MergedDataPreprocessing\n",
    "from src.lstm_encoder import LSTMEmbedding\n",
    "import time\n",
    "from src.model_train import encode_label\n",
    "import numpy as np\n",
    "\n",
    "train_columns = ['item_NameEn','item_ResponseState']"
   ]
  },
  {
   "cell_type": "code",
   "execution_count": 27,
   "outputs": [],
   "source": [
    "df_original = get_input()\n",
    "preprocessing = MergedDataPreprocessing(df_original)\n",
    "\n",
    "df_original = preprocessing.age_gender_item_ids_prep(item_encoding=False)\n",
    "df_train, df_test = preprocessing.train_test_split()"
   ],
   "metadata": {
    "collapsed": false,
    "ExecuteTime": {
     "end_time": "2024-05-15T09:21:49.582095400Z",
     "start_time": "2024-05-15T09:21:11.472908900Z"
    }
   }
  },
  {
   "cell_type": "code",
   "execution_count": 20,
   "outputs": [
    {
     "data": {
      "text/plain": "      item_CreatedDate                 transaction_RequestId  \\\n27041          2024-01  203e1866-f81a-4a8e-a71c-6c932694b474   \n15932          2023-11  ff79414b-e4b0-46a0-9a94-83e49d9f6720   \n32890          2024-02  ca464cf3-89dc-4724-a7ef-e666b2f6d2af   \n28215          2024-01  91ea6536-b509-447a-9b4a-04c95278d39c   \n34409          2024-02  b6442563-2ca1-48c1-85d1-a80397623d5f   \n...                ...                                   ...   \n37307          2024-03  ff019cbe-aad7-4fa9-b8a1-d98dc1b9681a   \n29951          2024-01  7e6c04dd-ae80-40ea-b066-785bdd91b721   \n13259          2023-10  3ce711b1-e378-4ccb-b7a0-db71598bb4dd   \n29375          2024-01  f59da168-8ad9-404d-a92f-cfcc05c537c1   \n13575          2023-10  015480f2-fdbf-4b18-b75e-a0c7a3ba5b8d   \n\n       transaction_PatientAge  transaction_PatientEnGender  \\\n27041                      44                            0   \n15932                       8                            0   \n32890                       5                            1   \n28215                      56                            0   \n34409                      10                            1   \n...                       ...                          ...   \n37307                      37                            0   \n29951                      32                            0   \n13259                      43                            0   \n29375                      29                            0   \n13575                      26                            1   \n\n                                             item_NameEn  item_Price  \\\n27041                                        Examination   90.000000   \n15932                      DEXAMETHASONE 8 MG/2 ML 5 AMP    8.550000   \n32890                              STAINLESS STEEL CROWN  131.687308   \n28215                   HAEMOGLOBIN A1C (GLYCOLATED HB )  216.670000   \n34409  Intravenous administration of pharmacological ...   80.000000   \n...                                                  ...         ...   \n37307                                    PANORAMA X- RAY  100.000000   \n29951                                    PARAFON 30  CAP   25.200000   \n13259                                     DENGUE ANTIGEN  381.150000   \n29375                                        Examination   80.000000   \n13575                       I.V INJECTION    (INJ. ROOM)   41.000000   \n\n       item_Status  item_Sequence  item_RequestQuantity  \\\n27041            2              1                   1.0   \n15932            2              4                   1.0   \n32890            6              8                   1.0   \n28215            6              7                   1.0   \n34409            6              6                   1.0   \n...            ...            ...                   ...   \n37307            6              2                   1.0   \n29951            6             10                   1.0   \n13259            2              9                   1.0   \n29375            6              1                   1.0   \n13575            2             10                   1.0   \n\n       item_ResponseQuantity  transaction_DiagnosisIds  \\\n27041                    1.0                         4   \n15932                    1.0                        14   \n32890                    0.0                         8   \n28215                    0.0                        11   \n34409                    0.0                         7   \n...                      ...                       ...   \n37307                    0.0                         8   \n29951                    0.0                        14   \n13259                    1.0                        14   \n29375                    0.0                        17   \n13575                    1.0                        14   \n\n                                transaction_PhysicianIds item_ResponseState  \n27041                                              ,,288           approved  \n15932                                   ,327,327,327,327           approved  \n32890                  324324324324324017468920465195008           rejected  \n28215                   ,258,258,258,258,258,258,258,258           rejected  \n34409                       ,296,296,296,296,296,296,296           rejected  \n...                                                  ...                ...  \n37307                                           ,195,195           rejected  \n29951               ,196,196,196,196,196,196,196,196,,,,           rejected  \n13259   ,326,326,326,326,326,326,326,326,326,326,326,326           approved  \n29375                                           ,139,139           rejected  \n13575  ,272,272,272,272,272,272,272,272,272,272,272,2...           approved  \n\n[14976 rows x 13 columns]",
      "text/html": "<div>\n<style scoped>\n    .dataframe tbody tr th:only-of-type {\n        vertical-align: middle;\n    }\n\n    .dataframe tbody tr th {\n        vertical-align: top;\n    }\n\n    .dataframe thead th {\n        text-align: right;\n    }\n</style>\n<table border=\"1\" class=\"dataframe\">\n  <thead>\n    <tr style=\"text-align: right;\">\n      <th></th>\n      <th>item_CreatedDate</th>\n      <th>transaction_RequestId</th>\n      <th>transaction_PatientAge</th>\n      <th>transaction_PatientEnGender</th>\n      <th>item_NameEn</th>\n      <th>item_Price</th>\n      <th>item_Status</th>\n      <th>item_Sequence</th>\n      <th>item_RequestQuantity</th>\n      <th>item_ResponseQuantity</th>\n      <th>transaction_DiagnosisIds</th>\n      <th>transaction_PhysicianIds</th>\n      <th>item_ResponseState</th>\n    </tr>\n  </thead>\n  <tbody>\n    <tr>\n      <th>27041</th>\n      <td>2024-01</td>\n      <td>203e1866-f81a-4a8e-a71c-6c932694b474</td>\n      <td>44</td>\n      <td>0</td>\n      <td>Examination</td>\n      <td>90.000000</td>\n      <td>2</td>\n      <td>1</td>\n      <td>1.0</td>\n      <td>1.0</td>\n      <td>4</td>\n      <td>,,288</td>\n      <td>approved</td>\n    </tr>\n    <tr>\n      <th>15932</th>\n      <td>2023-11</td>\n      <td>ff79414b-e4b0-46a0-9a94-83e49d9f6720</td>\n      <td>8</td>\n      <td>0</td>\n      <td>DEXAMETHASONE 8 MG/2 ML 5 AMP</td>\n      <td>8.550000</td>\n      <td>2</td>\n      <td>4</td>\n      <td>1.0</td>\n      <td>1.0</td>\n      <td>14</td>\n      <td>,327,327,327,327</td>\n      <td>approved</td>\n    </tr>\n    <tr>\n      <th>32890</th>\n      <td>2024-02</td>\n      <td>ca464cf3-89dc-4724-a7ef-e666b2f6d2af</td>\n      <td>5</td>\n      <td>1</td>\n      <td>STAINLESS STEEL CROWN</td>\n      <td>131.687308</td>\n      <td>6</td>\n      <td>8</td>\n      <td>1.0</td>\n      <td>0.0</td>\n      <td>8</td>\n      <td>324324324324324017468920465195008</td>\n      <td>rejected</td>\n    </tr>\n    <tr>\n      <th>28215</th>\n      <td>2024-01</td>\n      <td>91ea6536-b509-447a-9b4a-04c95278d39c</td>\n      <td>56</td>\n      <td>0</td>\n      <td>HAEMOGLOBIN A1C (GLYCOLATED HB )</td>\n      <td>216.670000</td>\n      <td>6</td>\n      <td>7</td>\n      <td>1.0</td>\n      <td>0.0</td>\n      <td>11</td>\n      <td>,258,258,258,258,258,258,258,258</td>\n      <td>rejected</td>\n    </tr>\n    <tr>\n      <th>34409</th>\n      <td>2024-02</td>\n      <td>b6442563-2ca1-48c1-85d1-a80397623d5f</td>\n      <td>10</td>\n      <td>1</td>\n      <td>Intravenous administration of pharmacological ...</td>\n      <td>80.000000</td>\n      <td>6</td>\n      <td>6</td>\n      <td>1.0</td>\n      <td>0.0</td>\n      <td>7</td>\n      <td>,296,296,296,296,296,296,296</td>\n      <td>rejected</td>\n    </tr>\n    <tr>\n      <th>...</th>\n      <td>...</td>\n      <td>...</td>\n      <td>...</td>\n      <td>...</td>\n      <td>...</td>\n      <td>...</td>\n      <td>...</td>\n      <td>...</td>\n      <td>...</td>\n      <td>...</td>\n      <td>...</td>\n      <td>...</td>\n      <td>...</td>\n    </tr>\n    <tr>\n      <th>37307</th>\n      <td>2024-03</td>\n      <td>ff019cbe-aad7-4fa9-b8a1-d98dc1b9681a</td>\n      <td>37</td>\n      <td>0</td>\n      <td>PANORAMA X- RAY</td>\n      <td>100.000000</td>\n      <td>6</td>\n      <td>2</td>\n      <td>1.0</td>\n      <td>0.0</td>\n      <td>8</td>\n      <td>,195,195</td>\n      <td>rejected</td>\n    </tr>\n    <tr>\n      <th>29951</th>\n      <td>2024-01</td>\n      <td>7e6c04dd-ae80-40ea-b066-785bdd91b721</td>\n      <td>32</td>\n      <td>0</td>\n      <td>PARAFON 30  CAP</td>\n      <td>25.200000</td>\n      <td>6</td>\n      <td>10</td>\n      <td>1.0</td>\n      <td>0.0</td>\n      <td>14</td>\n      <td>,196,196,196,196,196,196,196,196,,,,</td>\n      <td>rejected</td>\n    </tr>\n    <tr>\n      <th>13259</th>\n      <td>2023-10</td>\n      <td>3ce711b1-e378-4ccb-b7a0-db71598bb4dd</td>\n      <td>43</td>\n      <td>0</td>\n      <td>DENGUE ANTIGEN</td>\n      <td>381.150000</td>\n      <td>2</td>\n      <td>9</td>\n      <td>1.0</td>\n      <td>1.0</td>\n      <td>14</td>\n      <td>,326,326,326,326,326,326,326,326,326,326,326,326</td>\n      <td>approved</td>\n    </tr>\n    <tr>\n      <th>29375</th>\n      <td>2024-01</td>\n      <td>f59da168-8ad9-404d-a92f-cfcc05c537c1</td>\n      <td>29</td>\n      <td>0</td>\n      <td>Examination</td>\n      <td>80.000000</td>\n      <td>6</td>\n      <td>1</td>\n      <td>1.0</td>\n      <td>0.0</td>\n      <td>17</td>\n      <td>,139,139</td>\n      <td>rejected</td>\n    </tr>\n    <tr>\n      <th>13575</th>\n      <td>2023-10</td>\n      <td>015480f2-fdbf-4b18-b75e-a0c7a3ba5b8d</td>\n      <td>26</td>\n      <td>1</td>\n      <td>I.V INJECTION    (INJ. ROOM)</td>\n      <td>41.000000</td>\n      <td>2</td>\n      <td>10</td>\n      <td>1.0</td>\n      <td>1.0</td>\n      <td>14</td>\n      <td>,272,272,272,272,272,272,272,272,272,272,272,2...</td>\n      <td>approved</td>\n    </tr>\n  </tbody>\n</table>\n<p>14976 rows × 13 columns</p>\n</div>"
     },
     "execution_count": 20,
     "metadata": {},
     "output_type": "execute_result"
    }
   ],
   "source": [
    "df_train"
   ],
   "metadata": {
    "collapsed": false,
    "ExecuteTime": {
     "end_time": "2024-05-15T08:08:46.813866400Z",
     "start_time": "2024-05-15T08:08:46.779952Z"
    }
   }
  },
  {
   "cell_type": "code",
   "execution_count": 12,
   "outputs": [],
   "source": [
    "X_train = df_train[train_columns[:-1]];  y_train = df_train[train_columns[-1]].values\n",
    "X_test = df_test[train_columns[:-1]];  y_test = df_test[train_columns[-1]].values\n",
    "\n",
    "y_train = encode_label(y_train); y_test = encode_label(y_test)"
   ],
   "metadata": {
    "collapsed": false,
    "ExecuteTime": {
     "end_time": "2024-05-15T08:01:51.661232100Z",
     "start_time": "2024-05-15T08:01:51.645252600Z"
    }
   }
  },
  {
   "cell_type": "code",
   "execution_count": 25,
   "outputs": [
    {
     "data": {
      "text/plain": "      item_CreatedDate                 transaction_RequestId  \\\n27041          2024-01  203e1866-f81a-4a8e-a71c-6c932694b474   \n15932          2023-11  ff79414b-e4b0-46a0-9a94-83e49d9f6720   \n32890          2024-02  ca464cf3-89dc-4724-a7ef-e666b2f6d2af   \n28215          2024-01  91ea6536-b509-447a-9b4a-04c95278d39c   \n34409          2024-02  b6442563-2ca1-48c1-85d1-a80397623d5f   \n...                ...                                   ...   \n37307          2024-03  ff019cbe-aad7-4fa9-b8a1-d98dc1b9681a   \n29951          2024-01  7e6c04dd-ae80-40ea-b066-785bdd91b721   \n13259          2023-10  3ce711b1-e378-4ccb-b7a0-db71598bb4dd   \n29375          2024-01  f59da168-8ad9-404d-a92f-cfcc05c537c1   \n13575          2023-10  015480f2-fdbf-4b18-b75e-a0c7a3ba5b8d   \n\n       transaction_PatientAge  transaction_PatientEnGender  \\\n27041                      44                            0   \n15932                       8                            0   \n32890                       5                            1   \n28215                      56                            0   \n34409                      10                            1   \n...                       ...                          ...   \n37307                      37                            0   \n29951                      32                            0   \n13259                      43                            0   \n29375                      29                            0   \n13575                      26                            1   \n\n                                             item_NameEn  item_Price  \\\n27041                                        Examination   90.000000   \n15932                      DEXAMETHASONE 8 MG/2 ML 5 AMP    8.550000   \n32890                              STAINLESS STEEL CROWN  131.687308   \n28215                   HAEMOGLOBIN A1C (GLYCOLATED HB )  216.670000   \n34409  Intravenous administration of pharmacological ...   80.000000   \n...                                                  ...         ...   \n37307                                    PANORAMA X- RAY  100.000000   \n29951                                    PARAFON 30  CAP   25.200000   \n13259                                     DENGUE ANTIGEN  381.150000   \n29375                                        Examination   80.000000   \n13575                       I.V INJECTION    (INJ. ROOM)   41.000000   \n\n       item_Status  item_Sequence  item_RequestQuantity  \\\n27041            2              1                   1.0   \n15932            2              4                   1.0   \n32890            6              8                   1.0   \n28215            6              7                   1.0   \n34409            6              6                   1.0   \n...            ...            ...                   ...   \n37307            6              2                   1.0   \n29951            6             10                   1.0   \n13259            2              9                   1.0   \n29375            6              1                   1.0   \n13575            2             10                   1.0   \n\n       item_ResponseQuantity  transaction_DiagnosisIds  \\\n27041                    1.0                         4   \n15932                    1.0                        14   \n32890                    0.0                         8   \n28215                    0.0                        11   \n34409                    0.0                         7   \n...                      ...                       ...   \n37307                    0.0                         8   \n29951                    0.0                        14   \n13259                    1.0                        14   \n29375                    0.0                        17   \n13575                    1.0                        14   \n\n                                transaction_PhysicianIds item_ResponseState  \n27041                                              ,,288           approved  \n15932                                   ,327,327,327,327           approved  \n32890                  324324324324324017468920465195008           rejected  \n28215                   ,258,258,258,258,258,258,258,258           rejected  \n34409                       ,296,296,296,296,296,296,296           rejected  \n...                                                  ...                ...  \n37307                                           ,195,195           rejected  \n29951               ,196,196,196,196,196,196,196,196,,,,           rejected  \n13259   ,326,326,326,326,326,326,326,326,326,326,326,326           approved  \n29375                                           ,139,139           rejected  \n13575  ,272,272,272,272,272,272,272,272,272,272,272,2...           approved  \n\n[14976 rows x 13 columns]",
      "text/html": "<div>\n<style scoped>\n    .dataframe tbody tr th:only-of-type {\n        vertical-align: middle;\n    }\n\n    .dataframe tbody tr th {\n        vertical-align: top;\n    }\n\n    .dataframe thead th {\n        text-align: right;\n    }\n</style>\n<table border=\"1\" class=\"dataframe\">\n  <thead>\n    <tr style=\"text-align: right;\">\n      <th></th>\n      <th>item_CreatedDate</th>\n      <th>transaction_RequestId</th>\n      <th>transaction_PatientAge</th>\n      <th>transaction_PatientEnGender</th>\n      <th>item_NameEn</th>\n      <th>item_Price</th>\n      <th>item_Status</th>\n      <th>item_Sequence</th>\n      <th>item_RequestQuantity</th>\n      <th>item_ResponseQuantity</th>\n      <th>transaction_DiagnosisIds</th>\n      <th>transaction_PhysicianIds</th>\n      <th>item_ResponseState</th>\n    </tr>\n  </thead>\n  <tbody>\n    <tr>\n      <th>27041</th>\n      <td>2024-01</td>\n      <td>203e1866-f81a-4a8e-a71c-6c932694b474</td>\n      <td>44</td>\n      <td>0</td>\n      <td>Examination</td>\n      <td>90.000000</td>\n      <td>2</td>\n      <td>1</td>\n      <td>1.0</td>\n      <td>1.0</td>\n      <td>4</td>\n      <td>,,288</td>\n      <td>approved</td>\n    </tr>\n    <tr>\n      <th>15932</th>\n      <td>2023-11</td>\n      <td>ff79414b-e4b0-46a0-9a94-83e49d9f6720</td>\n      <td>8</td>\n      <td>0</td>\n      <td>DEXAMETHASONE 8 MG/2 ML 5 AMP</td>\n      <td>8.550000</td>\n      <td>2</td>\n      <td>4</td>\n      <td>1.0</td>\n      <td>1.0</td>\n      <td>14</td>\n      <td>,327,327,327,327</td>\n      <td>approved</td>\n    </tr>\n    <tr>\n      <th>32890</th>\n      <td>2024-02</td>\n      <td>ca464cf3-89dc-4724-a7ef-e666b2f6d2af</td>\n      <td>5</td>\n      <td>1</td>\n      <td>STAINLESS STEEL CROWN</td>\n      <td>131.687308</td>\n      <td>6</td>\n      <td>8</td>\n      <td>1.0</td>\n      <td>0.0</td>\n      <td>8</td>\n      <td>324324324324324017468920465195008</td>\n      <td>rejected</td>\n    </tr>\n    <tr>\n      <th>28215</th>\n      <td>2024-01</td>\n      <td>91ea6536-b509-447a-9b4a-04c95278d39c</td>\n      <td>56</td>\n      <td>0</td>\n      <td>HAEMOGLOBIN A1C (GLYCOLATED HB )</td>\n      <td>216.670000</td>\n      <td>6</td>\n      <td>7</td>\n      <td>1.0</td>\n      <td>0.0</td>\n      <td>11</td>\n      <td>,258,258,258,258,258,258,258,258</td>\n      <td>rejected</td>\n    </tr>\n    <tr>\n      <th>34409</th>\n      <td>2024-02</td>\n      <td>b6442563-2ca1-48c1-85d1-a80397623d5f</td>\n      <td>10</td>\n      <td>1</td>\n      <td>Intravenous administration of pharmacological ...</td>\n      <td>80.000000</td>\n      <td>6</td>\n      <td>6</td>\n      <td>1.0</td>\n      <td>0.0</td>\n      <td>7</td>\n      <td>,296,296,296,296,296,296,296</td>\n      <td>rejected</td>\n    </tr>\n    <tr>\n      <th>...</th>\n      <td>...</td>\n      <td>...</td>\n      <td>...</td>\n      <td>...</td>\n      <td>...</td>\n      <td>...</td>\n      <td>...</td>\n      <td>...</td>\n      <td>...</td>\n      <td>...</td>\n      <td>...</td>\n      <td>...</td>\n      <td>...</td>\n    </tr>\n    <tr>\n      <th>37307</th>\n      <td>2024-03</td>\n      <td>ff019cbe-aad7-4fa9-b8a1-d98dc1b9681a</td>\n      <td>37</td>\n      <td>0</td>\n      <td>PANORAMA X- RAY</td>\n      <td>100.000000</td>\n      <td>6</td>\n      <td>2</td>\n      <td>1.0</td>\n      <td>0.0</td>\n      <td>8</td>\n      <td>,195,195</td>\n      <td>rejected</td>\n    </tr>\n    <tr>\n      <th>29951</th>\n      <td>2024-01</td>\n      <td>7e6c04dd-ae80-40ea-b066-785bdd91b721</td>\n      <td>32</td>\n      <td>0</td>\n      <td>PARAFON 30  CAP</td>\n      <td>25.200000</td>\n      <td>6</td>\n      <td>10</td>\n      <td>1.0</td>\n      <td>0.0</td>\n      <td>14</td>\n      <td>,196,196,196,196,196,196,196,196,,,,</td>\n      <td>rejected</td>\n    </tr>\n    <tr>\n      <th>13259</th>\n      <td>2023-10</td>\n      <td>3ce711b1-e378-4ccb-b7a0-db71598bb4dd</td>\n      <td>43</td>\n      <td>0</td>\n      <td>DENGUE ANTIGEN</td>\n      <td>381.150000</td>\n      <td>2</td>\n      <td>9</td>\n      <td>1.0</td>\n      <td>1.0</td>\n      <td>14</td>\n      <td>,326,326,326,326,326,326,326,326,326,326,326,326</td>\n      <td>approved</td>\n    </tr>\n    <tr>\n      <th>29375</th>\n      <td>2024-01</td>\n      <td>f59da168-8ad9-404d-a92f-cfcc05c537c1</td>\n      <td>29</td>\n      <td>0</td>\n      <td>Examination</td>\n      <td>80.000000</td>\n      <td>6</td>\n      <td>1</td>\n      <td>1.0</td>\n      <td>0.0</td>\n      <td>17</td>\n      <td>,139,139</td>\n      <td>rejected</td>\n    </tr>\n    <tr>\n      <th>13575</th>\n      <td>2023-10</td>\n      <td>015480f2-fdbf-4b18-b75e-a0c7a3ba5b8d</td>\n      <td>26</td>\n      <td>1</td>\n      <td>I.V INJECTION    (INJ. ROOM)</td>\n      <td>41.000000</td>\n      <td>2</td>\n      <td>10</td>\n      <td>1.0</td>\n      <td>1.0</td>\n      <td>14</td>\n      <td>,272,272,272,272,272,272,272,272,272,272,272,2...</td>\n      <td>approved</td>\n    </tr>\n  </tbody>\n</table>\n<p>14976 rows × 13 columns</p>\n</div>"
     },
     "execution_count": 25,
     "metadata": {},
     "output_type": "execute_result"
    }
   ],
   "source": [
    "X= df_train[df_train.columns]\n",
    "X"
   ],
   "metadata": {
    "collapsed": false,
    "ExecuteTime": {
     "end_time": "2024-05-15T08:09:38.839180300Z",
     "start_time": "2024-05-15T08:09:38.788292500Z"
    }
   }
  },
  {
   "cell_type": "code",
   "execution_count": 13,
   "outputs": [
    {
     "data": {
      "text/plain": "array([[  1,   0,   0, ...,   0,   0,   0],\n       [ 62,  52,   6, ...,   0,   0,   0],\n       [257, 258, 167, ...,   0,   0,   0],\n       ...,\n       [134, 108,   0, ...,   0,   0,   0],\n       [  1,   0,   0, ...,   0,   0,   0],\n       [ 16,  44,  21, ...,   0,   0,   0]])"
     },
     "execution_count": 13,
     "metadata": {},
     "output_type": "execute_result"
    }
   ],
   "source": [
    "lstm_embedding = LSTMEmbedding()\n",
    "X_train_processed = lstm_embedding.preprocess_data(X_train)\n",
    "X_train_processed"
   ],
   "metadata": {
    "collapsed": false,
    "ExecuteTime": {
     "end_time": "2024-05-15T08:01:52.642043Z",
     "start_time": "2024-05-15T08:01:52.281492600Z"
    }
   }
  },
  {
   "cell_type": "code",
   "execution_count": 10,
   "outputs": [
    {
     "name": "stdout",
     "output_type": "stream",
     "text": [
      "Training Model\n",
      "Epoch 1/3\n",
      "\u001B[1m468/468\u001B[0m \u001B[32m━━━━━━━━━━━━━━━━━━━━\u001B[0m\u001B[37m\u001B[0m \u001B[1m9s\u001B[0m 5ms/step - accuracy: 0.5297 - loss: 0.6871\n",
      "Epoch 2/3\n",
      "\u001B[1m468/468\u001B[0m \u001B[32m━━━━━━━━━━━━━━━━━━━━\u001B[0m\u001B[37m\u001B[0m \u001B[1m7s\u001B[0m 3ms/step - accuracy: 0.6246 - loss: 0.6333\n",
      "Epoch 3/3\n",
      "\u001B[1m468/468\u001B[0m \u001B[32m━━━━━━━━━━━━━━━━━━━━\u001B[0m\u001B[37m\u001B[0m \u001B[1m3s\u001B[0m 4ms/step - accuracy: 0.6407 - loss: 0.6028\n",
      "Evaluating Model\n",
      "\u001B[1m118/118\u001B[0m \u001B[32m━━━━━━━━━━━━━━━━━━━━\u001B[0m\u001B[37m\u001B[0m \u001B[1m1s\u001B[0m 2ms/step - accuracy: 0.6438 - loss: 0.5868\n",
      "Model Accuracy on test data:  0.5913405418395996\n"
     ]
    }
   ],
   "source": [
    "print('Training Model')\n",
    "lstm_embedding.train_model(X_train_processed, y_train,epochs=3,batch_size=32)\n",
    "\n",
    "print('Evaluating Model')\n",
    "accuracy = lstm_embedding.evaluate_model(X_test, y_test)\n",
    "\n",
    "print('Model Accuracy on test data: ',accuracy)"
   ],
   "metadata": {
    "collapsed": false,
    "ExecuteTime": {
     "end_time": "2024-05-15T07:48:31.656432300Z",
     "start_time": "2024-05-15T07:47:53.789187100Z"
    }
   }
  },
  {
   "cell_type": "code",
   "execution_count": 8,
   "outputs": [
    {
     "data": {
      "text/plain": "(16, 1)"
     },
     "execution_count": 8,
     "metadata": {},
     "output_type": "execute_result"
    }
   ],
   "source": [
    "lstm_embedding.input_shape"
   ],
   "metadata": {
    "collapsed": false,
    "ExecuteTime": {
     "end_time": "2024-05-14T11:10:06.032014200Z",
     "start_time": "2024-05-14T11:10:06.012066400Z"
    }
   }
  },
  {
   "cell_type": "code",
   "execution_count": 10,
   "outputs": [
    {
     "data": {
      "text/plain": "array([[302,  78, 266,   0,   0,   0,   0,   0,   0,   0,   0,   0,   0,\n          0,   0,   0],\n       [  1,   0,   0,   0,   0,   0,   0,   0,   0,   0,   0,   0,   0,\n          0,   0,   0],\n       [120, 121,   5, 122, 123, 114,   0,   0,   0,   0,   0,   0,   0,\n          0,   0,   0],\n       [  1,   0,   0,   0,   0,   0,   0,   0,   0,   0,   0,   0,   0,\n          0,   0,   0],\n       [ 12,  13,  54,  22,  93,   4,  11,   0,   0,   0,   0,   0,   0,\n          0,   0,   0],\n       [  7,   8,  19,   0,   0,   0,   0,   0,   0,   0,   0,   0,   0,\n          0,   0,   0],\n       [  7,  48,  49,  50,   5,  10,   3,  39,  40,   3,   0,   0,   0,\n          0,   0,   0],\n       [ 73,  77,   0,   0,   0,   0,   0,   0,   0,   0,   0,   0,   0,\n          0,   0,   0],\n       [348,  75, 531, 446, 532, 447,   0,   0,   0,   0,   0,   0,   0,\n          0,   0,   0],\n       [149, 150,   0,   0,   0,   0,   0,   0,   0,   0,   0,   0,   0,\n          0,   0,   0],\n       [ 33,  43,  24,  44,  20,   0,   0,   0,   0,   0,   0,   0,   0,\n          0,   0,   0],\n       [  1,   0,   0,   0,   0,   0,   0,   0,   0,   0,   0,   0,   0,\n          0,   0,   0],\n       [ 61,  62,  20,   0,   0,   0,   0,   0,   0,   0,   0,   0,   0,\n          0,   0,   0],\n       [201, 279, 291, 292,   0,   0,   0,   0,   0,   0,   0,   0,   0,\n          0,   0,   0],\n       [ 29,  15,  16,   0,   0,   0,   0,   0,   0,   0,   0,   0,   0,\n          0,   0,   0]])"
     },
     "execution_count": 10,
     "metadata": {},
     "output_type": "execute_result"
    }
   ],
   "source": [
    "X_test_vectorized = lstm_embedding.embedding_vector(X_test[:15],reload_model=False)\n",
    "X_test_vectorized"
   ],
   "metadata": {
    "collapsed": false,
    "ExecuteTime": {
     "end_time": "2024-05-14T11:10:15.992851600Z",
     "start_time": "2024-05-14T11:10:15.960842500Z"
    }
   }
  },
  {
   "cell_type": "code",
   "execution_count": 12,
   "outputs": [
    {
     "name": "stdout",
     "output_type": "stream",
     "text": [
      "Execution time: 0.54 seconds\n"
     ]
    }
   ],
   "source": [
    "start_time = time.time()\n",
    "lstm_encoder = LSTMEmbedding()\n",
    "lstm_encoder.load_model()\n",
    "X_test_vectorized = lstm_embedding.embedding_vector(X_test[:10],reload_model=True)\n",
    "\n",
    "end_time = time.time()\n",
    "execution_time = end_time - start_time\n",
    "print(\"Execution time: {:.2f} seconds\".format(execution_time))"
   ],
   "metadata": {
    "collapsed": false,
    "ExecuteTime": {
     "end_time": "2024-05-14T11:12:36.173957400Z",
     "start_time": "2024-05-14T11:12:35.624554600Z"
    }
   }
  },
  {
   "cell_type": "code",
   "execution_count": 13,
   "outputs": [
    {
     "data": {
      "text/plain": "array([[286,  79, 269,   0,   0,   0,   0,   0,   0,   0,   0,   0,   0,\n          0,   0,   0],\n       [  1,   0,   0,   0,   0,   0,   0,   0,   0,   0,   0,   0,   0,\n          0,   0,   0],\n       [120, 121,   5, 122, 123, 116,   0,   0,   0,   0,   0,   0,   0,\n          0,   0,   0],\n       [  1,   0,   0,   0,   0,   0,   0,   0,   0,   0,   0,   0,   0,\n          0,   0,   0],\n       [ 12,  13,  53,  23,  92,   4,  11,   0,   0,   0,   0,   0,   0,\n          0,   0,   0],\n       [  7,   8,  19,   0,   0,   0,   0,   0,   0,   0,   0,   0,   0,\n          0,   0,   0],\n       [  7,  46,  47,  48,   5,  10,   3,  38,  39,   3,   0,   0,   0,\n          0,   0,   0],\n       [ 73,  77,   0,   0,   0,   0,   0,   0,   0,   0,   0,   0,   0,\n          0,   0,   0],\n       [374,  76, 541, 494, 542, 430,   0,   0,   0,   0,   0,   0,   0,\n          0,   0,   0],\n       [151, 152,   0,   0,   0,   0,   0,   0,   0,   0,   0,   0,   0,\n          0,   0,   0]])"
     },
     "execution_count": 13,
     "metadata": {},
     "output_type": "execute_result"
    }
   ],
   "source": [
    "X_test_vectorized"
   ],
   "metadata": {
    "collapsed": false,
    "ExecuteTime": {
     "end_time": "2024-05-14T11:12:37.258257600Z",
     "start_time": "2024-05-14T11:12:37.208856700Z"
    }
   }
  },
  {
   "cell_type": "code",
   "execution_count": 16,
   "outputs": [
    {
     "data": {
      "text/plain": "0.001722686767578125"
     },
     "execution_count": 16,
     "metadata": {},
     "output_type": "execute_result"
    }
   ],
   "source": [
    "def vectorize(COUNT_VALS):\n",
    "      preds = lstm_encoder.embedding_vector(X_test[:COUNT_VALS],reload_model=True)\n",
    "\n",
    "\n",
    "def calculate_excecution():\n",
    "  exs = []\n",
    "  COUNT_VALS = 50\n",
    "  for i in range(10):\n",
    "    start_time = time.time()\n",
    "\n",
    "    vectorize(COUNT_VALS)\n",
    "\n",
    "    end_time = time.time()\n",
    "\n",
    "    execution_time = end_time - start_time\n",
    "    exs.append(execution_time)\n",
    "\n",
    "  average = np.array(exs).mean()\n",
    "  return average/COUNT_VALS\n",
    "\n",
    "calculate_excecution()"
   ],
   "metadata": {
    "collapsed": false,
    "ExecuteTime": {
     "end_time": "2024-05-14T11:59:35.129502300Z",
     "start_time": "2024-05-14T11:59:34.248248600Z"
    }
   }
  },
  {
   "cell_type": "code",
   "execution_count": null,
   "outputs": [],
   "source": [],
   "metadata": {
    "collapsed": false
   }
  }
 ],
 "metadata": {
  "kernelspec": {
   "display_name": "Python 3",
   "language": "python",
   "name": "python3"
  },
  "language_info": {
   "codemirror_mode": {
    "name": "ipython",
    "version": 2
   },
   "file_extension": ".py",
   "mimetype": "text/x-python",
   "name": "python",
   "nbconvert_exporter": "python",
   "pygments_lexer": "ipython2",
   "version": "2.7.6"
  }
 },
 "nbformat": 4,
 "nbformat_minor": 0
}
