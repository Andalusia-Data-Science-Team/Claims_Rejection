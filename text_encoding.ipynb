{
 "cells": [
  {
   "cell_type": "code",
   "execution_count": 1,
   "metadata": {
    "collapsed": true,
    "ExecuteTime": {
     "end_time": "2024-05-14T08:49:37.442397500Z",
     "start_time": "2024-05-14T08:49:30.016808900Z"
    }
   },
   "outputs": [],
   "source": [
    "from cashe import get_input\n",
    "from src.data_local import MergedDataPreprocessing\n",
    "from src.lstm_encoder import LSTMEmbedding\n",
    "import time\n",
    "from src.model_train import encode_label\n",
    "import numpy as np\n",
    "\n",
    "train_columns = ['item_NameEn','item_ResponseState']"
   ]
  },
  {
   "cell_type": "code",
   "execution_count": 2,
   "outputs": [],
   "source": [
    "df_original = get_input()\n",
    "preprocessing = MergedDataPreprocessing(df_original)\n",
    "\n",
    "df_original = preprocessing.age_gender_item_ids_prep(item_encoding=False)\n",
    "df_train, df_test = preprocessing.train_test_split()"
   ],
   "metadata": {
    "collapsed": false,
    "ExecuteTime": {
     "end_time": "2024-05-14T08:50:09.707404700Z",
     "start_time": "2024-05-14T08:49:37.447372200Z"
    }
   }
  },
  {
   "cell_type": "code",
   "execution_count": 3,
   "outputs": [],
   "source": [
    "X_train = df_train[train_columns[:-1]];  y_train = df_train[train_columns[-1]].values\n",
    "X_test = df_test[train_columns[:-1]];  y_test = df_test[train_columns[-1]].values\n",
    "\n",
    "y_train = encode_label(y_train); y_test = encode_label(y_test)"
   ],
   "metadata": {
    "collapsed": false,
    "ExecuteTime": {
     "end_time": "2024-05-14T08:50:09.723462800Z",
     "start_time": "2024-05-14T08:50:09.710388900Z"
    }
   }
  },
  {
   "cell_type": "code",
   "execution_count": 4,
   "outputs": [
    {
     "name": "stdout",
     "output_type": "stream",
     "text": [
      "Training Model\n",
      "\u001B[1m468/468\u001B[0m \u001B[32m━━━━━━━━━━━━━━━━━━━━\u001B[0m\u001B[37m\u001B[0m \u001B[1m3s\u001B[0m 3ms/step - accuracy: 0.5242 - loss: 0.6904\n",
      "Evaluating Model\n",
      "\u001B[1m118/118\u001B[0m \u001B[32m━━━━━━━━━━━━━━━━━━━━\u001B[0m\u001B[37m\u001B[0m \u001B[1m0s\u001B[0m 2ms/step - accuracy: 0.5550 - loss: 0.6527\n",
      "Model Accuracy on test data:  0.6541973352432251\n"
     ]
    }
   ],
   "source": [
    "lstm_embedding = LSTMEmbedding()\n",
    "X_train_processed = lstm_embedding.preprocess_data(X_train)\n",
    "\n",
    "print('Training Model')\n",
    "lstm_embedding.train_model(X_train_processed, y_train,epochs=1,batch_size=32)\n",
    "\n",
    "print('Evaluating Model')\n",
    "accuracy = lstm_embedding.evaluate_model(X_test, y_test)\n",
    "\n",
    "print('Model Accuracy on test data: ',accuracy)"
   ],
   "metadata": {
    "collapsed": false,
    "ExecuteTime": {
     "end_time": "2024-05-14T08:50:13.504081100Z",
     "start_time": "2024-05-14T08:50:09.725484400Z"
    }
   }
  },
  {
   "cell_type": "code",
   "execution_count": 5,
   "outputs": [
    {
     "data": {
      "text/plain": "(16, 1)"
     },
     "execution_count": 5,
     "metadata": {},
     "output_type": "execute_result"
    }
   ],
   "source": [
    "lstm_embedding.input_shape"
   ],
   "metadata": {
    "collapsed": false,
    "ExecuteTime": {
     "end_time": "2024-05-14T08:50:13.541616100Z",
     "start_time": "2024-05-14T08:50:13.509070300Z"
    }
   }
  },
  {
   "cell_type": "code",
   "execution_count": 6,
   "outputs": [
    {
     "data": {
      "text/plain": "array([[ 59,  60,  21,   0,   0,   0,   0,   0,   0,   0,   0,   0,   0,\n          0,   0,   0],\n       [ 99,  45,   6,   2,  98,  34,   2,   0,   0,   0,   0,   0,   0,\n          0,   0,   0],\n       [ 12,  13,  52,  20,  17,   4,  11,   0,   0,   0,   0,   0,   0,\n          0,   0,   0],\n       [  1,   0,   0,   0,   0,   0,   0,   0,   0,   0,   0,   0,   0,\n          0,   0,   0],\n       [165, 174, 175, 176,   0,   0,   0,   0,   0,   0,   0,   0,   0,\n          0,   0,   0],\n       [192,  86,   8,   0,   0,   0,   0,   0,   0,   0,   0,   0,   0,\n          0,   0,   0],\n       [307,   5, 149, 308,   0,   0,   0,   0,   0,   0,   0,   0,   0,\n          0,   0,   0],\n       [  9,   1,   0,   0,   0,   0,   0,   0,   0,   0,   0,   0,   0,\n          0,   0,   0],\n       [  9,   1,   0,   0,   0,   0,   0,   0,   0,   0,   0,   0,   0,\n          0,   0,   0],\n       [  1,   0,   0,   0,   0,   0,   0,   0,   0,   0,   0,   0,   0,\n          0,   0,   0]])"
     },
     "execution_count": 6,
     "metadata": {},
     "output_type": "execute_result"
    }
   ],
   "source": [
    "X_test_vectorized = lstm_embedding.embedding_vector(X_test[:10],reload_model=False)\n",
    "X_test_vectorized"
   ],
   "metadata": {
    "collapsed": false,
    "ExecuteTime": {
     "end_time": "2024-05-14T08:50:13.620781200Z",
     "start_time": "2024-05-14T08:50:13.523172600Z"
    }
   }
  },
  {
   "cell_type": "code",
   "execution_count": 7,
   "outputs": [
    {
     "name": "stdout",
     "output_type": "stream",
     "text": [
      "Execution time: 0.15 seconds\n"
     ]
    }
   ],
   "source": [
    "start_time = time.time()\n",
    "lstm_encoder = LSTMEmbedding()\n",
    "lstm_encoder.load_model()\n",
    "predictions = lstm_embedding.embedding_vector(X_test[:10],reload_model=True)\n",
    "\n",
    "end_time = time.time()\n",
    "execution_time = end_time - start_time\n",
    "print(\"Execution time: {:.2f} seconds\".format(execution_time))"
   ],
   "metadata": {
    "collapsed": false,
    "ExecuteTime": {
     "end_time": "2024-05-14T08:50:13.872640Z",
     "start_time": "2024-05-14T08:50:13.623773800Z"
    }
   }
  },
  {
   "cell_type": "code",
   "execution_count": 8,
   "outputs": [
    {
     "data": {
      "text/plain": "array([[ 58,  60,  20,   0,   0,   0,   0,   0,   0,   0,   0,   0,   0,\n          0,   0,   0],\n       [101,  45,   6,   2,  99,  35,   2,   0,   0,   0,   0,   0,   0,\n          0,   0,   0],\n       [ 12,  13,  53,  23,  17,   4,  11,   0,   0,   0,   0,   0,   0,\n          0,   0,   0],\n       [  1,   0,   0,   0,   0,   0,   0,   0,   0,   0,   0,   0,   0,\n          0,   0,   0],\n       [149, 156, 157, 158,   0,   0,   0,   0,   0,   0,   0,   0,   0,\n          0,   0,   0],\n       [182,  83,   8,   0,   0,   0,   0,   0,   0,   0,   0,   0,   0,\n          0,   0,   0],\n       [279,   5, 146, 280,   0,   0,   0,   0,   0,   0,   0,   0,   0,\n          0,   0,   0],\n       [  9,   1,   0,   0,   0,   0,   0,   0,   0,   0,   0,   0,   0,\n          0,   0,   0],\n       [  9,   1,   0,   0,   0,   0,   0,   0,   0,   0,   0,   0,   0,\n          0,   0,   0],\n       [  1,   0,   0,   0,   0,   0,   0,   0,   0,   0,   0,   0,   0,\n          0,   0,   0]])"
     },
     "execution_count": 8,
     "metadata": {},
     "output_type": "execute_result"
    }
   ],
   "source": [
    "predictions"
   ],
   "metadata": {
    "collapsed": false,
    "ExecuteTime": {
     "end_time": "2024-05-14T08:50:13.917291700Z",
     "start_time": "2024-05-14T08:50:13.874634400Z"
    }
   }
  },
  {
   "cell_type": "code",
   "execution_count": 9,
   "outputs": [
    {
     "data": {
      "text/plain": "0.005915451049804688"
     },
     "execution_count": 9,
     "metadata": {},
     "output_type": "execute_result"
    }
   ],
   "source": [
    "def calculate_excecution():\n",
    "  exs = []\n",
    "  for i in range(10):\n",
    "    start_time = time.time()\n",
    "    preds = lstm_encoder.embedding_vector(X_test[:10],reload_model=True)\n",
    "\n",
    "    end_time = time.time()\n",
    "    execution_time = end_time - start_time\n",
    "    exs.append(execution_time)\n",
    "  average = np.array(exs).mean()\n",
    "  return average/10\n",
    "\n",
    "calculate_excecution()"
   ],
   "metadata": {
    "collapsed": false,
    "ExecuteTime": {
     "end_time": "2024-05-14T08:50:26.140082500Z",
     "start_time": "2024-05-14T08:50:25.524685600Z"
    }
   }
  },
  {
   "cell_type": "code",
   "execution_count": null,
   "outputs": [],
   "source": [],
   "metadata": {
    "collapsed": false
   }
  }
 ],
 "metadata": {
  "kernelspec": {
   "display_name": "Python 3",
   "language": "python",
   "name": "python3"
  },
  "language_info": {
   "codemirror_mode": {
    "name": "ipython",
    "version": 2
   },
   "file_extension": ".py",
   "mimetype": "text/x-python",
   "name": "python",
   "nbconvert_exporter": "python",
   "pygments_lexer": "ipython2",
   "version": "2.7.6"
  }
 },
 "nbformat": 4,
 "nbformat_minor": 0
}
