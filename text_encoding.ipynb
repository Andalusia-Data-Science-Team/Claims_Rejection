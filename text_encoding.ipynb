{
 "cells": [
  {
   "cell_type": "code",
   "execution_count": 1,
   "metadata": {
    "collapsed": true,
    "ExecuteTime": {
     "end_time": "2024-05-16T09:28:13.980945900Z",
     "start_time": "2024-05-16T09:28:05.794018Z"
    }
   },
   "outputs": [],
   "source": [
    "from cashe import get_input\n",
    "from src.data_local import MergedDataPreprocessing\n",
    "from src.lstm_encoder import LSTMEmbedding\n",
    "import time\n",
    "from src.model_train import encode_label\n",
    "import numpy as np\n",
    "\n",
    "#train_columns = ['item_NameEn','item_ResponseState']"
   ]
  },
  {
   "cell_type": "code",
   "execution_count": 2,
   "outputs": [],
   "source": [
    "df_original = get_input()\n",
    "preprocessing = MergedDataPreprocessing(df_original)\n",
    "\n",
    "df_original = preprocessing.age_gender_item_ids_prep(item_encoding=False)\n",
    "df_train, df_test = preprocessing.train_test_split()"
   ],
   "metadata": {
    "collapsed": false,
    "ExecuteTime": {
     "end_time": "2024-05-16T09:28:49.026790900Z",
     "start_time": "2024-05-16T09:28:13.981944Z"
    }
   }
  },
  {
   "cell_type": "code",
   "execution_count": 3,
   "outputs": [
    {
     "data": {
      "text/plain": "             item_CreatedDate                 transaction_RequestId  \\\n4     2023-08-24 15:03:23.404  c4427a02-3291-422d-b2e8-b97bf3d5081d   \n5     2023-08-29 11:48:54.060  e6f4ad37-13b9-4694-a61b-495384fcd245   \n6     2023-08-29 11:48:54.060  e6f4ad37-13b9-4694-a61b-495384fcd245   \n18    2023-08-29 12:35:53.514  bba44f35-42ea-4b22-aceb-8d8efaf45f9e   \n19    2023-08-29 12:35:53.514  bba44f35-42ea-4b22-aceb-8d8efaf45f9e   \n...                       ...                                   ...   \n45617 2024-04-23 14:29:40.340  d62d5929-d94d-4a53-830d-168671bbea82   \n45618 2024-04-23 16:20:30.584  da54b137-2aca-413a-9388-d9582ee72b57   \n45619 2024-04-23 16:20:30.585  da54b137-2aca-413a-9388-d9582ee72b57   \n45620 2024-04-23 16:20:30.585  da54b137-2aca-413a-9388-d9582ee72b57   \n45621 2024-04-23 16:20:30.585  da54b137-2aca-413a-9388-d9582ee72b57   \n\n       transaction_PatientAge  transaction_PatientEnGender  \\\n4                           6                            1   \n5                          28                            0   \n6                          28                            0   \n18                         56                            0   \n19                         56                            0   \n...                       ...                          ...   \n45617                      29                            1   \n45618                       0                            1   \n45619                       0                            1   \n45620                       0                            1   \n45621                       0                            1   \n\n                               item_NameEn  item_Price  item_Status  \\\n4                              Examination       80.00            2   \n5                              Examination       80.00            6   \n6                   PREGNANCY TEST (BLOOD)      175.45            6   \n18                             Examination       80.00            2   \n19                               PERFALGAN      110.00            2   \n...                                    ...         ...          ...   \n45617            REPARIL  20 MG 40 DRAGEES       17.92            2   \n45618  IRON BINDING CAPACITY, TOTAL (TIBC)      220.00            2   \n45619                  IRON, TOTAL (SERUM)      108.33            2   \n45620                             FERRITIN      211.25            2   \n45621          HAEMOGLOBIN ELECTROPHORESIS      255.00            2   \n\n       item_Sequence  item_RequestQuantity  item_ResponseQuantity  \\\n4                  1                   1.0                    1.0   \n5                  1                   1.0                    0.0   \n6                  2                   1.0                    0.0   \n18                 1                   1.0                    1.0   \n19                 2                   1.0                    1.0   \n...              ...                   ...                    ...   \n45617             11                   1.0                    1.0   \n45618              1                   1.0                    1.0   \n45619              2                   1.0                    1.0   \n45620              3                   1.0                    1.0   \n45621              4                   1.0                    1.0   \n\n       transaction_DiagnosisIds  transaction_PhysicianIds item_ResponseState  \n4                             7                      ,327           approved  \n5                            17                      ,139           rejected  \n6                            17                      ,139           rejected  \n18                           14          ,238,238,238,238           approved  \n19                           14          ,238,238,238,238           approved  \n...                         ...                       ...                ...  \n45617                        14  ,34,34,34,34,34,34,34,,,           approved  \n45618                         1              296296296296           approved  \n45619                         1              296296296296           approved  \n45620                         1              296296296296           approved  \n45621                         1              296296296296           approved  \n\n[14900 rows x 13 columns]",
      "text/html": "<div>\n<style scoped>\n    .dataframe tbody tr th:only-of-type {\n        vertical-align: middle;\n    }\n\n    .dataframe tbody tr th {\n        vertical-align: top;\n    }\n\n    .dataframe thead th {\n        text-align: right;\n    }\n</style>\n<table border=\"1\" class=\"dataframe\">\n  <thead>\n    <tr style=\"text-align: right;\">\n      <th></th>\n      <th>item_CreatedDate</th>\n      <th>transaction_RequestId</th>\n      <th>transaction_PatientAge</th>\n      <th>transaction_PatientEnGender</th>\n      <th>item_NameEn</th>\n      <th>item_Price</th>\n      <th>item_Status</th>\n      <th>item_Sequence</th>\n      <th>item_RequestQuantity</th>\n      <th>item_ResponseQuantity</th>\n      <th>transaction_DiagnosisIds</th>\n      <th>transaction_PhysicianIds</th>\n      <th>item_ResponseState</th>\n    </tr>\n  </thead>\n  <tbody>\n    <tr>\n      <th>4</th>\n      <td>2023-08-24 15:03:23.404</td>\n      <td>c4427a02-3291-422d-b2e8-b97bf3d5081d</td>\n      <td>6</td>\n      <td>1</td>\n      <td>Examination</td>\n      <td>80.00</td>\n      <td>2</td>\n      <td>1</td>\n      <td>1.0</td>\n      <td>1.0</td>\n      <td>7</td>\n      <td>,327</td>\n      <td>approved</td>\n    </tr>\n    <tr>\n      <th>5</th>\n      <td>2023-08-29 11:48:54.060</td>\n      <td>e6f4ad37-13b9-4694-a61b-495384fcd245</td>\n      <td>28</td>\n      <td>0</td>\n      <td>Examination</td>\n      <td>80.00</td>\n      <td>6</td>\n      <td>1</td>\n      <td>1.0</td>\n      <td>0.0</td>\n      <td>17</td>\n      <td>,139</td>\n      <td>rejected</td>\n    </tr>\n    <tr>\n      <th>6</th>\n      <td>2023-08-29 11:48:54.060</td>\n      <td>e6f4ad37-13b9-4694-a61b-495384fcd245</td>\n      <td>28</td>\n      <td>0</td>\n      <td>PREGNANCY TEST (BLOOD)</td>\n      <td>175.45</td>\n      <td>6</td>\n      <td>2</td>\n      <td>1.0</td>\n      <td>0.0</td>\n      <td>17</td>\n      <td>,139</td>\n      <td>rejected</td>\n    </tr>\n    <tr>\n      <th>18</th>\n      <td>2023-08-29 12:35:53.514</td>\n      <td>bba44f35-42ea-4b22-aceb-8d8efaf45f9e</td>\n      <td>56</td>\n      <td>0</td>\n      <td>Examination</td>\n      <td>80.00</td>\n      <td>2</td>\n      <td>1</td>\n      <td>1.0</td>\n      <td>1.0</td>\n      <td>14</td>\n      <td>,238,238,238,238</td>\n      <td>approved</td>\n    </tr>\n    <tr>\n      <th>19</th>\n      <td>2023-08-29 12:35:53.514</td>\n      <td>bba44f35-42ea-4b22-aceb-8d8efaf45f9e</td>\n      <td>56</td>\n      <td>0</td>\n      <td>PERFALGAN</td>\n      <td>110.00</td>\n      <td>2</td>\n      <td>2</td>\n      <td>1.0</td>\n      <td>1.0</td>\n      <td>14</td>\n      <td>,238,238,238,238</td>\n      <td>approved</td>\n    </tr>\n    <tr>\n      <th>...</th>\n      <td>...</td>\n      <td>...</td>\n      <td>...</td>\n      <td>...</td>\n      <td>...</td>\n      <td>...</td>\n      <td>...</td>\n      <td>...</td>\n      <td>...</td>\n      <td>...</td>\n      <td>...</td>\n      <td>...</td>\n      <td>...</td>\n    </tr>\n    <tr>\n      <th>45617</th>\n      <td>2024-04-23 14:29:40.340</td>\n      <td>d62d5929-d94d-4a53-830d-168671bbea82</td>\n      <td>29</td>\n      <td>1</td>\n      <td>REPARIL  20 MG 40 DRAGEES</td>\n      <td>17.92</td>\n      <td>2</td>\n      <td>11</td>\n      <td>1.0</td>\n      <td>1.0</td>\n      <td>14</td>\n      <td>,34,34,34,34,34,34,34,,,</td>\n      <td>approved</td>\n    </tr>\n    <tr>\n      <th>45618</th>\n      <td>2024-04-23 16:20:30.584</td>\n      <td>da54b137-2aca-413a-9388-d9582ee72b57</td>\n      <td>0</td>\n      <td>1</td>\n      <td>IRON BINDING CAPACITY, TOTAL (TIBC)</td>\n      <td>220.00</td>\n      <td>2</td>\n      <td>1</td>\n      <td>1.0</td>\n      <td>1.0</td>\n      <td>1</td>\n      <td>296296296296</td>\n      <td>approved</td>\n    </tr>\n    <tr>\n      <th>45619</th>\n      <td>2024-04-23 16:20:30.585</td>\n      <td>da54b137-2aca-413a-9388-d9582ee72b57</td>\n      <td>0</td>\n      <td>1</td>\n      <td>IRON, TOTAL (SERUM)</td>\n      <td>108.33</td>\n      <td>2</td>\n      <td>2</td>\n      <td>1.0</td>\n      <td>1.0</td>\n      <td>1</td>\n      <td>296296296296</td>\n      <td>approved</td>\n    </tr>\n    <tr>\n      <th>45620</th>\n      <td>2024-04-23 16:20:30.585</td>\n      <td>da54b137-2aca-413a-9388-d9582ee72b57</td>\n      <td>0</td>\n      <td>1</td>\n      <td>FERRITIN</td>\n      <td>211.25</td>\n      <td>2</td>\n      <td>3</td>\n      <td>1.0</td>\n      <td>1.0</td>\n      <td>1</td>\n      <td>296296296296</td>\n      <td>approved</td>\n    </tr>\n    <tr>\n      <th>45621</th>\n      <td>2024-04-23 16:20:30.585</td>\n      <td>da54b137-2aca-413a-9388-d9582ee72b57</td>\n      <td>0</td>\n      <td>1</td>\n      <td>HAEMOGLOBIN ELECTROPHORESIS</td>\n      <td>255.00</td>\n      <td>2</td>\n      <td>4</td>\n      <td>1.0</td>\n      <td>1.0</td>\n      <td>1</td>\n      <td>296296296296</td>\n      <td>approved</td>\n    </tr>\n  </tbody>\n</table>\n<p>14900 rows × 13 columns</p>\n</div>"
     },
     "execution_count": 3,
     "metadata": {},
     "output_type": "execute_result"
    }
   ],
   "source": [
    "df_train"
   ],
   "metadata": {
    "collapsed": false,
    "ExecuteTime": {
     "end_time": "2024-05-16T09:28:49.062386300Z",
     "start_time": "2024-05-16T09:28:49.028785800Z"
    }
   }
  },
  {
   "cell_type": "code",
   "execution_count": 4,
   "outputs": [],
   "source": [
    "X_train = df_train[train_columns[:-1]];  y_train = df_train[train_columns[-1]].values\n",
    "X_test = df_test[train_columns[:-1]];  y_test = df_test[train_columns[-1]].values\n",
    "\n",
    "y_train = encode_label(y_train); y_test = encode_label(y_test)"
   ],
   "metadata": {
    "collapsed": false,
    "ExecuteTime": {
     "end_time": "2024-05-16T09:28:49.195179900Z",
     "start_time": "2024-05-16T09:28:49.061388900Z"
    }
   }
  },
  {
   "cell_type": "code",
   "execution_count": 5,
   "outputs": [
    {
     "data": {
      "text/plain": "             item_CreatedDate                 transaction_RequestId  \\\n4     2023-08-24 15:03:23.404  c4427a02-3291-422d-b2e8-b97bf3d5081d   \n5     2023-08-29 11:48:54.060  e6f4ad37-13b9-4694-a61b-495384fcd245   \n6     2023-08-29 11:48:54.060  e6f4ad37-13b9-4694-a61b-495384fcd245   \n18    2023-08-29 12:35:53.514  bba44f35-42ea-4b22-aceb-8d8efaf45f9e   \n19    2023-08-29 12:35:53.514  bba44f35-42ea-4b22-aceb-8d8efaf45f9e   \n...                       ...                                   ...   \n45617 2024-04-23 14:29:40.340  d62d5929-d94d-4a53-830d-168671bbea82   \n45618 2024-04-23 16:20:30.584  da54b137-2aca-413a-9388-d9582ee72b57   \n45619 2024-04-23 16:20:30.585  da54b137-2aca-413a-9388-d9582ee72b57   \n45620 2024-04-23 16:20:30.585  da54b137-2aca-413a-9388-d9582ee72b57   \n45621 2024-04-23 16:20:30.585  da54b137-2aca-413a-9388-d9582ee72b57   \n\n       transaction_PatientAge  transaction_PatientEnGender  \\\n4                           6                            1   \n5                          28                            0   \n6                          28                            0   \n18                         56                            0   \n19                         56                            0   \n...                       ...                          ...   \n45617                      29                            1   \n45618                       0                            1   \n45619                       0                            1   \n45620                       0                            1   \n45621                       0                            1   \n\n                               item_NameEn  item_Price  item_Status  \\\n4                              Examination       80.00            2   \n5                              Examination       80.00            6   \n6                   PREGNANCY TEST (BLOOD)      175.45            6   \n18                             Examination       80.00            2   \n19                               PERFALGAN      110.00            2   \n...                                    ...         ...          ...   \n45617            REPARIL  20 MG 40 DRAGEES       17.92            2   \n45618  IRON BINDING CAPACITY, TOTAL (TIBC)      220.00            2   \n45619                  IRON, TOTAL (SERUM)      108.33            2   \n45620                             FERRITIN      211.25            2   \n45621          HAEMOGLOBIN ELECTROPHORESIS      255.00            2   \n\n       item_Sequence  item_RequestQuantity  item_ResponseQuantity  \\\n4                  1                   1.0                    1.0   \n5                  1                   1.0                    0.0   \n6                  2                   1.0                    0.0   \n18                 1                   1.0                    1.0   \n19                 2                   1.0                    1.0   \n...              ...                   ...                    ...   \n45617             11                   1.0                    1.0   \n45618              1                   1.0                    1.0   \n45619              2                   1.0                    1.0   \n45620              3                   1.0                    1.0   \n45621              4                   1.0                    1.0   \n\n       transaction_DiagnosisIds  transaction_PhysicianIds item_ResponseState  \n4                             7                      ,327           approved  \n5                            17                      ,139           rejected  \n6                            17                      ,139           rejected  \n18                           14          ,238,238,238,238           approved  \n19                           14          ,238,238,238,238           approved  \n...                         ...                       ...                ...  \n45617                        14  ,34,34,34,34,34,34,34,,,           approved  \n45618                         1              296296296296           approved  \n45619                         1              296296296296           approved  \n45620                         1              296296296296           approved  \n45621                         1              296296296296           approved  \n\n[14900 rows x 13 columns]",
      "text/html": "<div>\n<style scoped>\n    .dataframe tbody tr th:only-of-type {\n        vertical-align: middle;\n    }\n\n    .dataframe tbody tr th {\n        vertical-align: top;\n    }\n\n    .dataframe thead th {\n        text-align: right;\n    }\n</style>\n<table border=\"1\" class=\"dataframe\">\n  <thead>\n    <tr style=\"text-align: right;\">\n      <th></th>\n      <th>item_CreatedDate</th>\n      <th>transaction_RequestId</th>\n      <th>transaction_PatientAge</th>\n      <th>transaction_PatientEnGender</th>\n      <th>item_NameEn</th>\n      <th>item_Price</th>\n      <th>item_Status</th>\n      <th>item_Sequence</th>\n      <th>item_RequestQuantity</th>\n      <th>item_ResponseQuantity</th>\n      <th>transaction_DiagnosisIds</th>\n      <th>transaction_PhysicianIds</th>\n      <th>item_ResponseState</th>\n    </tr>\n  </thead>\n  <tbody>\n    <tr>\n      <th>4</th>\n      <td>2023-08-24 15:03:23.404</td>\n      <td>c4427a02-3291-422d-b2e8-b97bf3d5081d</td>\n      <td>6</td>\n      <td>1</td>\n      <td>Examination</td>\n      <td>80.00</td>\n      <td>2</td>\n      <td>1</td>\n      <td>1.0</td>\n      <td>1.0</td>\n      <td>7</td>\n      <td>,327</td>\n      <td>approved</td>\n    </tr>\n    <tr>\n      <th>5</th>\n      <td>2023-08-29 11:48:54.060</td>\n      <td>e6f4ad37-13b9-4694-a61b-495384fcd245</td>\n      <td>28</td>\n      <td>0</td>\n      <td>Examination</td>\n      <td>80.00</td>\n      <td>6</td>\n      <td>1</td>\n      <td>1.0</td>\n      <td>0.0</td>\n      <td>17</td>\n      <td>,139</td>\n      <td>rejected</td>\n    </tr>\n    <tr>\n      <th>6</th>\n      <td>2023-08-29 11:48:54.060</td>\n      <td>e6f4ad37-13b9-4694-a61b-495384fcd245</td>\n      <td>28</td>\n      <td>0</td>\n      <td>PREGNANCY TEST (BLOOD)</td>\n      <td>175.45</td>\n      <td>6</td>\n      <td>2</td>\n      <td>1.0</td>\n      <td>0.0</td>\n      <td>17</td>\n      <td>,139</td>\n      <td>rejected</td>\n    </tr>\n    <tr>\n      <th>18</th>\n      <td>2023-08-29 12:35:53.514</td>\n      <td>bba44f35-42ea-4b22-aceb-8d8efaf45f9e</td>\n      <td>56</td>\n      <td>0</td>\n      <td>Examination</td>\n      <td>80.00</td>\n      <td>2</td>\n      <td>1</td>\n      <td>1.0</td>\n      <td>1.0</td>\n      <td>14</td>\n      <td>,238,238,238,238</td>\n      <td>approved</td>\n    </tr>\n    <tr>\n      <th>19</th>\n      <td>2023-08-29 12:35:53.514</td>\n      <td>bba44f35-42ea-4b22-aceb-8d8efaf45f9e</td>\n      <td>56</td>\n      <td>0</td>\n      <td>PERFALGAN</td>\n      <td>110.00</td>\n      <td>2</td>\n      <td>2</td>\n      <td>1.0</td>\n      <td>1.0</td>\n      <td>14</td>\n      <td>,238,238,238,238</td>\n      <td>approved</td>\n    </tr>\n    <tr>\n      <th>...</th>\n      <td>...</td>\n      <td>...</td>\n      <td>...</td>\n      <td>...</td>\n      <td>...</td>\n      <td>...</td>\n      <td>...</td>\n      <td>...</td>\n      <td>...</td>\n      <td>...</td>\n      <td>...</td>\n      <td>...</td>\n      <td>...</td>\n    </tr>\n    <tr>\n      <th>45617</th>\n      <td>2024-04-23 14:29:40.340</td>\n      <td>d62d5929-d94d-4a53-830d-168671bbea82</td>\n      <td>29</td>\n      <td>1</td>\n      <td>REPARIL  20 MG 40 DRAGEES</td>\n      <td>17.92</td>\n      <td>2</td>\n      <td>11</td>\n      <td>1.0</td>\n      <td>1.0</td>\n      <td>14</td>\n      <td>,34,34,34,34,34,34,34,,,</td>\n      <td>approved</td>\n    </tr>\n    <tr>\n      <th>45618</th>\n      <td>2024-04-23 16:20:30.584</td>\n      <td>da54b137-2aca-413a-9388-d9582ee72b57</td>\n      <td>0</td>\n      <td>1</td>\n      <td>IRON BINDING CAPACITY, TOTAL (TIBC)</td>\n      <td>220.00</td>\n      <td>2</td>\n      <td>1</td>\n      <td>1.0</td>\n      <td>1.0</td>\n      <td>1</td>\n      <td>296296296296</td>\n      <td>approved</td>\n    </tr>\n    <tr>\n      <th>45619</th>\n      <td>2024-04-23 16:20:30.585</td>\n      <td>da54b137-2aca-413a-9388-d9582ee72b57</td>\n      <td>0</td>\n      <td>1</td>\n      <td>IRON, TOTAL (SERUM)</td>\n      <td>108.33</td>\n      <td>2</td>\n      <td>2</td>\n      <td>1.0</td>\n      <td>1.0</td>\n      <td>1</td>\n      <td>296296296296</td>\n      <td>approved</td>\n    </tr>\n    <tr>\n      <th>45620</th>\n      <td>2024-04-23 16:20:30.585</td>\n      <td>da54b137-2aca-413a-9388-d9582ee72b57</td>\n      <td>0</td>\n      <td>1</td>\n      <td>FERRITIN</td>\n      <td>211.25</td>\n      <td>2</td>\n      <td>3</td>\n      <td>1.0</td>\n      <td>1.0</td>\n      <td>1</td>\n      <td>296296296296</td>\n      <td>approved</td>\n    </tr>\n    <tr>\n      <th>45621</th>\n      <td>2024-04-23 16:20:30.585</td>\n      <td>da54b137-2aca-413a-9388-d9582ee72b57</td>\n      <td>0</td>\n      <td>1</td>\n      <td>HAEMOGLOBIN ELECTROPHORESIS</td>\n      <td>255.00</td>\n      <td>2</td>\n      <td>4</td>\n      <td>1.0</td>\n      <td>1.0</td>\n      <td>1</td>\n      <td>296296296296</td>\n      <td>approved</td>\n    </tr>\n  </tbody>\n</table>\n<p>14900 rows × 13 columns</p>\n</div>"
     },
     "execution_count": 5,
     "metadata": {},
     "output_type": "execute_result"
    }
   ],
   "source": [
    "X= df_train[df_train.columns]\n",
    "X"
   ],
   "metadata": {
    "collapsed": false,
    "ExecuteTime": {
     "end_time": "2024-05-16T09:28:49.316963200Z",
     "start_time": "2024-05-16T09:28:49.172484Z"
    }
   }
  },
  {
   "cell_type": "code",
   "execution_count": 7,
   "outputs": [
    {
     "data": {
      "text/plain": "array([[  1,   0,   0, ...,   0,   0,   0],\n       [  1,   0,   0, ...,   0,   0,   0],\n       [171,  81,   8, ...,   0,   0,   0],\n       ...,\n       [217, 107,  57, ...,   0,   0,   0],\n       [268,   0,   0, ...,   0,   0,   0],\n       [160, 577,   0, ...,   0,   0,   0]])"
     },
     "execution_count": 7,
     "metadata": {},
     "output_type": "execute_result"
    }
   ],
   "source": [
    "lstm_embedding = LSTMEmbedding()\n",
    "X_train_processed = lstm_embedding.preprocess_data(X_train)\n",
    "X_train_processed"
   ],
   "metadata": {
    "collapsed": false,
    "ExecuteTime": {
     "end_time": "2024-05-16T09:34:02.801692600Z",
     "start_time": "2024-05-16T09:34:02.361468Z"
    }
   }
  },
  {
   "cell_type": "code",
   "execution_count": 8,
   "outputs": [
    {
     "name": "stdout",
     "output_type": "stream",
     "text": [
      "Training Model\n",
      "Epoch 1/3\n",
      "\u001B[1m466/466\u001B[0m \u001B[32m━━━━━━━━━━━━━━━━━━━━\u001B[0m\u001B[37m\u001B[0m \u001B[1m6s\u001B[0m 4ms/step - accuracy: 0.5394 - loss: 0.6801\n",
      "Epoch 2/3\n",
      "\u001B[1m466/466\u001B[0m \u001B[32m━━━━━━━━━━━━━━━━━━━━\u001B[0m\u001B[37m\u001B[0m \u001B[1m2s\u001B[0m 3ms/step - accuracy: 0.5874 - loss: 0.6271\n",
      "Epoch 3/3\n",
      "\u001B[1m466/466\u001B[0m \u001B[32m━━━━━━━━━━━━━━━━━━━━\u001B[0m\u001B[37m\u001B[0m \u001B[1m2s\u001B[0m 4ms/step - accuracy: 0.5998 - loss: 0.6223\n",
      "Evaluating Model\n",
      "\u001B[1m120/120\u001B[0m \u001B[32m━━━━━━━━━━━━━━━━━━━━\u001B[0m\u001B[37m\u001B[0m \u001B[1m0s\u001B[0m 2ms/step - accuracy: 0.5587 - loss: 0.6461\n",
      "Model Accuracy on test data:  0.6211204528808594\n"
     ]
    }
   ],
   "source": [
    "print('Training Model')\n",
    "lstm_embedding.train_model(X_train_processed, y_train,epochs=3,batch_size=32)\n",
    "\n",
    "print('Evaluating Model')\n",
    "accuracy = lstm_embedding.evaluate_model(X_test, y_test)\n",
    "\n",
    "print('Model Accuracy on test data: ',accuracy)"
   ],
   "metadata": {
    "collapsed": false,
    "ExecuteTime": {
     "end_time": "2024-05-16T09:34:16.051379200Z",
     "start_time": "2024-05-16T09:34:05.301528300Z"
    }
   }
  },
  {
   "cell_type": "code",
   "execution_count": 9,
   "outputs": [
    {
     "data": {
      "text/plain": "(16, 1)"
     },
     "execution_count": 9,
     "metadata": {},
     "output_type": "execute_result"
    }
   ],
   "source": [
    "lstm_embedding.input_shape"
   ],
   "metadata": {
    "collapsed": false,
    "ExecuteTime": {
     "end_time": "2024-05-16T09:34:16.111412200Z",
     "start_time": "2024-05-16T09:34:16.051379200Z"
    }
   }
  },
  {
   "cell_type": "code",
   "execution_count": 10,
   "outputs": [
    {
     "data": {
      "text/plain": "array([[  1,   0,   0,   0,   0,   0,   0,   0,   0,   0,   0,   0,   0,\n          0,   0,   0],\n       [  1,   0,   0,   0,   0,   0,   0,   0,   0,   0,   0,   0,   0,\n          0,   0,   0],\n       [549,  41, 140,   0,   0,   0,   0,   0,   0,   0,   0,   0,   0,\n          0,   0,   0],\n       [ 66,   8,  58,   0,   0,   0,   0,   0,   0,   0,   0,   0,   0,\n          0,   0,   0],\n       [136,  56,  57,   0,   0,   0,   0,   0,   0,   0,   0,   0,   0,\n          0,   0,   0],\n       [  7,   8,  18,   0,   0,   0,   0,   0,   0,   0,   0,   0,   0,\n          0,   0,   0],\n       [ 85,  86,   0,   0,   0,   0,   0,   0,   0,   0,   0,   0,   0,\n          0,   0,   0],\n       [ 25,  30,  35,  28,   0,   0,   0,   0,   0,   0,   0,   0,   0,\n          0,   0,   0],\n       [  1,   0,   0,   0,   0,   0,   0,   0,   0,   0,   0,   0,   0,\n          0,   0,   0],\n       [  1,   0,   0,   0,   0,   0,   0,   0,   0,   0,   0,   0,   0,\n          0,   0,   0],\n       [  1,   0,   0,   0,   0,   0,   0,   0,   0,   0,   0,   0,   0,\n          0,   0,   0],\n       [ 30, 127,  80, 226, 227, 228,   0,   0,   0,   0,   0,   0,   0,\n          0,   0,   0],\n       [208,   0,   0,   0,   0,   0,   0,   0,   0,   0,   0,   0,   0,\n          0,   0,   0],\n       [  1,   0,   0,   0,   0,   0,   0,   0,   0,   0,   0,   0,   0,\n          0,   0,   0],\n       [ 33,  46,  26,  47,  20,   0,   0,   0,   0,   0,   0,   0,   0,\n          0,   0,   0]])"
     },
     "execution_count": 10,
     "metadata": {},
     "output_type": "execute_result"
    }
   ],
   "source": [
    "X_test_vectorized = lstm_embedding.embedding_vector(X_test[:15],reload_model=False)\n",
    "X_test_vectorized"
   ],
   "metadata": {
    "collapsed": false,
    "ExecuteTime": {
     "end_time": "2024-05-16T09:34:18.305241100Z",
     "start_time": "2024-05-16T09:34:18.281562700Z"
    }
   }
  },
  {
   "cell_type": "code",
   "execution_count": 12,
   "outputs": [
    {
     "name": "stdout",
     "output_type": "stream",
     "text": [
      "Execution time: 0.54 seconds\n"
     ]
    }
   ],
   "source": [
    "start_time = time.time()\n",
    "lstm_encoder = LSTMEmbedding()\n",
    "lstm_encoder.load_model()\n",
    "X_test_vectorized = lstm_embedding.embedding_vector(X_test[:10],reload_model=True)\n",
    "\n",
    "end_time = time.time()\n",
    "execution_time = end_time - start_time\n",
    "print(\"Execution time: {:.2f} seconds\".format(execution_time))"
   ],
   "metadata": {
    "collapsed": false,
    "ExecuteTime": {
     "end_time": "2024-05-14T11:12:36.173957400Z",
     "start_time": "2024-05-14T11:12:35.624554600Z"
    }
   }
  },
  {
   "cell_type": "code",
   "execution_count": 13,
   "outputs": [
    {
     "data": {
      "text/plain": "array([[286,  79, 269,   0,   0,   0,   0,   0,   0,   0,   0,   0,   0,\n          0,   0,   0],\n       [  1,   0,   0,   0,   0,   0,   0,   0,   0,   0,   0,   0,   0,\n          0,   0,   0],\n       [120, 121,   5, 122, 123, 116,   0,   0,   0,   0,   0,   0,   0,\n          0,   0,   0],\n       [  1,   0,   0,   0,   0,   0,   0,   0,   0,   0,   0,   0,   0,\n          0,   0,   0],\n       [ 12,  13,  53,  23,  92,   4,  11,   0,   0,   0,   0,   0,   0,\n          0,   0,   0],\n       [  7,   8,  19,   0,   0,   0,   0,   0,   0,   0,   0,   0,   0,\n          0,   0,   0],\n       [  7,  46,  47,  48,   5,  10,   3,  38,  39,   3,   0,   0,   0,\n          0,   0,   0],\n       [ 73,  77,   0,   0,   0,   0,   0,   0,   0,   0,   0,   0,   0,\n          0,   0,   0],\n       [374,  76, 541, 494, 542, 430,   0,   0,   0,   0,   0,   0,   0,\n          0,   0,   0],\n       [151, 152,   0,   0,   0,   0,   0,   0,   0,   0,   0,   0,   0,\n          0,   0,   0]])"
     },
     "execution_count": 13,
     "metadata": {},
     "output_type": "execute_result"
    }
   ],
   "source": [
    "X_test_vectorized"
   ],
   "metadata": {
    "collapsed": false,
    "ExecuteTime": {
     "end_time": "2024-05-14T11:12:37.258257600Z",
     "start_time": "2024-05-14T11:12:37.208856700Z"
    }
   }
  },
  {
   "cell_type": "code",
   "execution_count": 16,
   "outputs": [
    {
     "data": {
      "text/plain": "0.001722686767578125"
     },
     "execution_count": 16,
     "metadata": {},
     "output_type": "execute_result"
    }
   ],
   "source": [
    "def vectorize(COUNT_VALS):\n",
    "      preds = lstm_encoder.embedding_vector(X_test[:COUNT_VALS],reload_model=True)\n",
    "\n",
    "\n",
    "def calculate_excecution():\n",
    "  exs = []\n",
    "  COUNT_VALS = 50\n",
    "  for i in range(10):\n",
    "    start_time = time.time()\n",
    "\n",
    "    vectorize(COUNT_VALS)\n",
    "\n",
    "    end_time = time.time()\n",
    "\n",
    "    execution_time = end_time - start_time\n",
    "    exs.append(execution_time)\n",
    "\n",
    "  average = np.array(exs).mean()\n",
    "  return average/COUNT_VALS\n",
    "\n",
    "calculate_excecution()"
   ],
   "metadata": {
    "collapsed": false,
    "ExecuteTime": {
     "end_time": "2024-05-14T11:59:35.129502300Z",
     "start_time": "2024-05-14T11:59:34.248248600Z"
    }
   }
  },
  {
   "cell_type": "code",
   "execution_count": null,
   "outputs": [],
   "source": [],
   "metadata": {
    "collapsed": false
   }
  }
 ],
 "metadata": {
  "kernelspec": {
   "display_name": "Python 3",
   "language": "python",
   "name": "python3"
  },
  "language_info": {
   "codemirror_mode": {
    "name": "ipython",
    "version": 2
   },
   "file_extension": ".py",
   "mimetype": "text/x-python",
   "name": "python",
   "nbconvert_exporter": "python",
   "pygments_lexer": "ipython2",
   "version": "2.7.6"
  }
 },
 "nbformat": 4,
 "nbformat_minor": 0
}
