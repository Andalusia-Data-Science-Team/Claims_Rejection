{
 "cells": [
  {
   "cell_type": "code",
   "execution_count": 11,
   "metadata": {
    "collapsed": true,
    "ExecuteTime": {
     "end_time": "2024-06-05T09:24:04.382955900Z",
     "start_time": "2024-06-05T09:24:04.363982200Z"
    }
   },
   "outputs": [],
   "source": [
    "from cashe import get_cashed_input\n",
    "from src.data_local import MergedDataPreprocessing\n",
    "from src.lstm_encoder import LSTMEmbedding\n",
    "import time\n",
    "from src.model_train import encode_label\n",
    "import numpy as np"
   ]
  },
  {
   "cell_type": "code",
   "execution_count": 74,
   "outputs": [],
   "source": [
    "df_original = get_cashed_input()\n",
    "df_original = df_original[['VISIT_ID','SERVICE_DESCRIPTION', 'SERVICE_TYPE', 'OASIS_IOS_DESCRIPTION','PROVIDER_DEPARTMENT','OUTCOME']]"
   ],
   "metadata": {
    "collapsed": false,
    "ExecuteTime": {
     "end_time": "2024-06-05T10:03:52.207395300Z",
     "start_time": "2024-06-05T10:03:50.165433Z"
    }
   }
  },
  {
   "cell_type": "code",
   "execution_count": 61,
   "outputs": [],
   "source": [
    "preprocessing = MergedDataPreprocessing(df_original)\n",
    "df_train, df_test = preprocessing.train_test_split()"
   ],
   "metadata": {
    "collapsed": false,
    "ExecuteTime": {
     "end_time": "2024-06-05T09:41:37.881876600Z",
     "start_time": "2024-06-05T09:41:37.814056600Z"
    }
   }
  },
  {
   "cell_type": "code",
   "execution_count": 64,
   "outputs": [],
   "source": [
    "train_columns = list(df_train.columns)[1:]"
   ],
   "metadata": {
    "collapsed": false,
    "ExecuteTime": {
     "end_time": "2024-06-05T09:43:36.875669900Z",
     "start_time": "2024-06-05T09:43:36.850597600Z"
    }
   }
  },
  {
   "cell_type": "code",
   "execution_count": 65,
   "outputs": [],
   "source": [
    "X_train = df_train[train_columns[:-1]];  y_train = df_train[train_columns[-1]].values\n",
    "X_test = df_test[train_columns[:-1]];  y_test = df_test[train_columns[-1]].values\n",
    "\n",
    "y_train = encode_label(y_train); y_test = encode_label(y_test)"
   ],
   "metadata": {
    "collapsed": false,
    "ExecuteTime": {
     "end_time": "2024-06-05T09:43:38.449701500Z",
     "start_time": "2024-06-05T09:43:38.377206500Z"
    }
   }
  },
  {
   "cell_type": "code",
   "execution_count": 68,
   "outputs": [
    {
     "data": {
      "text/plain": "                     SERVICE_DESCRIPTION      SERVICE_TYPE  \\\n0                          Unlisted Code          services   \n1                                    TSH        laboratory   \n3                    ELICA-M CREAM 30 GM  medication-codes   \n4         Peripheral intravenous cannula   medical-devices   \n5       Computerised tomography of brain           imaging   \n...                                  ...               ...   \n488822                               BUN        laboratory   \n488829               NEBILET 5MG TABLETS  medication-codes   \n488830           Unlisted Procedure Code        procedures   \n488831         SALURIN 20MG-2ML AMPOULES  medication-codes   \n488832      Radiography of chest, 1 view           imaging   \n\n                    OASIS_IOS_DESCRIPTION  \\\n0                      I.V. INFUSION OBS.   \n1       TSH (THYROID STIMULATING HORMONE)   \n3                     ELICA-M CREAM 30 GM   \n4            INSERTION OF AN I.V. CANNULA   \n5             C.T. BRAIN WITHOUT CONTRAST   \n...                                   ...   \n488822                      UREA NITROGEN   \n488829                NEBILET 5MG TABLETS   \n488830                     PLASTER STRIPS   \n488831          SALURIN 20MG-2ML AMPOULES   \n488832     X RAY CHEST PA.                  \n\n                                  PROVIDER_DEPARTMENT  \n0       OBSTERTRIC/GYNEACOLOGIC SERVIC - نساء و ولادة  \n1                   E.N.T. SERVICES - انف واذن وحنجرة  \n3       OBSTERTRIC/GYNEACOLOGIC SERVIC - نساء و ولادة  \n4                     EMERGENCY ROOM SERVICES - طوارى  \n5                     EMERGENCY ROOM SERVICES - طوارى  \n...                                               ...  \n488822                    CARDIOLOGY SERVICES - القلب  \n488829                    CARDIOLOGY SERVICES - القلب  \n488830                    CARDIOLOGY SERVICES - القلب  \n488831                    CARDIOLOGY SERVICES - القلب  \n488832                EMERGENCY ROOM SERVICES - طوارى  \n\n[156456 rows x 4 columns]",
      "text/html": "<div>\n<style scoped>\n    .dataframe tbody tr th:only-of-type {\n        vertical-align: middle;\n    }\n\n    .dataframe tbody tr th {\n        vertical-align: top;\n    }\n\n    .dataframe thead th {\n        text-align: right;\n    }\n</style>\n<table border=\"1\" class=\"dataframe\">\n  <thead>\n    <tr style=\"text-align: right;\">\n      <th></th>\n      <th>SERVICE_DESCRIPTION</th>\n      <th>SERVICE_TYPE</th>\n      <th>OASIS_IOS_DESCRIPTION</th>\n      <th>PROVIDER_DEPARTMENT</th>\n    </tr>\n  </thead>\n  <tbody>\n    <tr>\n      <th>0</th>\n      <td>Unlisted Code</td>\n      <td>services</td>\n      <td>I.V. INFUSION OBS.</td>\n      <td>OBSTERTRIC/GYNEACOLOGIC SERVIC - نساء و ولادة</td>\n    </tr>\n    <tr>\n      <th>1</th>\n      <td>TSH</td>\n      <td>laboratory</td>\n      <td>TSH (THYROID STIMULATING HORMONE)</td>\n      <td>E.N.T. SERVICES - انف واذن وحنجرة</td>\n    </tr>\n    <tr>\n      <th>3</th>\n      <td>ELICA-M CREAM 30 GM</td>\n      <td>medication-codes</td>\n      <td>ELICA-M CREAM 30 GM</td>\n      <td>OBSTERTRIC/GYNEACOLOGIC SERVIC - نساء و ولادة</td>\n    </tr>\n    <tr>\n      <th>4</th>\n      <td>Peripheral intravenous cannula</td>\n      <td>medical-devices</td>\n      <td>INSERTION OF AN I.V. CANNULA</td>\n      <td>EMERGENCY ROOM SERVICES - طوارى</td>\n    </tr>\n    <tr>\n      <th>5</th>\n      <td>Computerised tomography of brain</td>\n      <td>imaging</td>\n      <td>C.T. BRAIN WITHOUT CONTRAST</td>\n      <td>EMERGENCY ROOM SERVICES - طوارى</td>\n    </tr>\n    <tr>\n      <th>...</th>\n      <td>...</td>\n      <td>...</td>\n      <td>...</td>\n      <td>...</td>\n    </tr>\n    <tr>\n      <th>488822</th>\n      <td>BUN</td>\n      <td>laboratory</td>\n      <td>UREA NITROGEN</td>\n      <td>CARDIOLOGY SERVICES - القلب</td>\n    </tr>\n    <tr>\n      <th>488829</th>\n      <td>NEBILET 5MG TABLETS</td>\n      <td>medication-codes</td>\n      <td>NEBILET 5MG TABLETS</td>\n      <td>CARDIOLOGY SERVICES - القلب</td>\n    </tr>\n    <tr>\n      <th>488830</th>\n      <td>Unlisted Procedure Code</td>\n      <td>procedures</td>\n      <td>PLASTER STRIPS</td>\n      <td>CARDIOLOGY SERVICES - القلب</td>\n    </tr>\n    <tr>\n      <th>488831</th>\n      <td>SALURIN 20MG-2ML AMPOULES</td>\n      <td>medication-codes</td>\n      <td>SALURIN 20MG-2ML AMPOULES</td>\n      <td>CARDIOLOGY SERVICES - القلب</td>\n    </tr>\n    <tr>\n      <th>488832</th>\n      <td>Radiography of chest, 1 view</td>\n      <td>imaging</td>\n      <td>X RAY CHEST PA.</td>\n      <td>EMERGENCY ROOM SERVICES - طوارى</td>\n    </tr>\n  </tbody>\n</table>\n<p>156456 rows × 4 columns</p>\n</div>"
     },
     "execution_count": 68,
     "metadata": {},
     "output_type": "execute_result"
    }
   ],
   "source": [
    "X_train"
   ],
   "metadata": {
    "collapsed": false,
    "ExecuteTime": {
     "end_time": "2024-06-05T09:45:41.849089400Z",
     "start_time": "2024-06-05T09:45:41.820970500Z"
    }
   }
  },
  {
   "cell_type": "code",
   "execution_count": 71,
   "outputs": [
    {
     "data": {
      "text/plain": "array([[ 73,  70,   1, ...,   0,   0,   0],\n       [157,   4, 157, ...,   0,   0,   0],\n       [607, 236, 176, ...,   0,   0,   0],\n       ...,\n       [ 73, 161,  70, ...,   0,   0,   0],\n       [565, 151, 158, ...,   0,   0,   0],\n       [117,  16, 118, ...,   0,   0,   0]])"
     },
     "execution_count": 71,
     "metadata": {},
     "output_type": "execute_result"
    }
   ],
   "source": [
    "lstm_embedding = LSTMEmbedding()\n",
    "X_train_processed = lstm_embedding.preprocess_data(X_train)\n",
    "X_train_processed"
   ],
   "metadata": {
    "collapsed": false,
    "ExecuteTime": {
     "end_time": "2024-06-05T09:47:25.480025Z",
     "start_time": "2024-06-05T09:47:18.326647300Z"
    }
   }
  },
  {
   "cell_type": "code",
   "execution_count": 72,
   "outputs": [
    {
     "name": "stdout",
     "output_type": "stream",
     "text": [
      "Training Model\n",
      "Epoch 1/20\n",
      "\u001B[1m4890/4890\u001B[0m \u001B[32m━━━━━━━━━━━━━━━━━━━━\u001B[0m\u001B[37m\u001B[0m \u001B[1m37s\u001B[0m 7ms/step - accuracy: 0.5355 - loss: 0.6859\n",
      "Epoch 2/20\n",
      "\u001B[1m4890/4890\u001B[0m \u001B[32m━━━━━━━━━━━━━━━━━━━━\u001B[0m\u001B[37m\u001B[0m \u001B[1m34s\u001B[0m 7ms/step - accuracy: 0.5617 - loss: 0.6741\n",
      "Epoch 3/20\n",
      "\u001B[1m4890/4890\u001B[0m \u001B[32m━━━━━━━━━━━━━━━━━━━━\u001B[0m\u001B[37m\u001B[0m \u001B[1m40s\u001B[0m 7ms/step - accuracy: 0.5766 - loss: 0.6690\n",
      "Epoch 4/20\n",
      "\u001B[1m4890/4890\u001B[0m \u001B[32m━━━━━━━━━━━━━━━━━━━━\u001B[0m\u001B[37m\u001B[0m \u001B[1m33s\u001B[0m 7ms/step - accuracy: 0.5860 - loss: 0.6657\n",
      "Epoch 5/20\n",
      "\u001B[1m4890/4890\u001B[0m \u001B[32m━━━━━━━━━━━━━━━━━━━━\u001B[0m\u001B[37m\u001B[0m \u001B[1m32s\u001B[0m 7ms/step - accuracy: 0.5959 - loss: 0.6603\n",
      "Epoch 6/20\n",
      "\u001B[1m4890/4890\u001B[0m \u001B[32m━━━━━━━━━━━━━━━━━━━━\u001B[0m\u001B[37m\u001B[0m \u001B[1m33s\u001B[0m 7ms/step - accuracy: 0.5999 - loss: 0.6574\n",
      "Epoch 7/20\n",
      "\u001B[1m4890/4890\u001B[0m \u001B[32m━━━━━━━━━━━━━━━━━━━━\u001B[0m\u001B[37m\u001B[0m \u001B[1m33s\u001B[0m 7ms/step - accuracy: 0.6026 - loss: 0.6551\n",
      "Epoch 8/20\n",
      "\u001B[1m4890/4890\u001B[0m \u001B[32m━━━━━━━━━━━━━━━━━━━━\u001B[0m\u001B[37m\u001B[0m \u001B[1m33s\u001B[0m 7ms/step - accuracy: 0.6084 - loss: 0.6505\n",
      "Epoch 9/20\n",
      "\u001B[1m4890/4890\u001B[0m \u001B[32m━━━━━━━━━━━━━━━━━━━━\u001B[0m\u001B[37m\u001B[0m \u001B[1m32s\u001B[0m 7ms/step - accuracy: 0.6091 - loss: 0.6498\n",
      "Epoch 10/20\n",
      "\u001B[1m4890/4890\u001B[0m \u001B[32m━━━━━━━━━━━━━━━━━━━━\u001B[0m\u001B[37m\u001B[0m \u001B[1m33s\u001B[0m 7ms/step - accuracy: 0.6118 - loss: 0.6474\n",
      "Epoch 11/20\n",
      "\u001B[1m4890/4890\u001B[0m \u001B[32m━━━━━━━━━━━━━━━━━━━━\u001B[0m\u001B[37m\u001B[0m \u001B[1m35s\u001B[0m 7ms/step - accuracy: 0.6114 - loss: 0.6465\n",
      "Epoch 12/20\n",
      "\u001B[1m4890/4890\u001B[0m \u001B[32m━━━━━━━━━━━━━━━━━━━━\u001B[0m\u001B[37m\u001B[0m \u001B[1m31s\u001B[0m 6ms/step - accuracy: 0.6139 - loss: 0.6454\n",
      "Epoch 13/20\n",
      "\u001B[1m4890/4890\u001B[0m \u001B[32m━━━━━━━━━━━━━━━━━━━━\u001B[0m\u001B[37m\u001B[0m \u001B[1m30s\u001B[0m 6ms/step - accuracy: 0.6180 - loss: 0.6431\n",
      "Epoch 14/20\n",
      "\u001B[1m4890/4890\u001B[0m \u001B[32m━━━━━━━━━━━━━━━━━━━━\u001B[0m\u001B[37m\u001B[0m \u001B[1m30s\u001B[0m 6ms/step - accuracy: 0.6156 - loss: 0.6434\n",
      "Epoch 15/20\n",
      "\u001B[1m4890/4890\u001B[0m \u001B[32m━━━━━━━━━━━━━━━━━━━━\u001B[0m\u001B[37m\u001B[0m \u001B[1m30s\u001B[0m 6ms/step - accuracy: 0.6175 - loss: 0.6411\n",
      "Epoch 16/20\n",
      "\u001B[1m4890/4890\u001B[0m \u001B[32m━━━━━━━━━━━━━━━━━━━━\u001B[0m\u001B[37m\u001B[0m \u001B[1m30s\u001B[0m 6ms/step - accuracy: 0.6187 - loss: 0.6404\n",
      "Epoch 17/20\n",
      "\u001B[1m4890/4890\u001B[0m \u001B[32m━━━━━━━━━━━━━━━━━━━━\u001B[0m\u001B[37m\u001B[0m \u001B[1m30s\u001B[0m 6ms/step - accuracy: 0.6188 - loss: 0.6402\n",
      "Epoch 18/20\n",
      "\u001B[1m4890/4890\u001B[0m \u001B[32m━━━━━━━━━━━━━━━━━━━━\u001B[0m\u001B[37m\u001B[0m \u001B[1m29s\u001B[0m 6ms/step - accuracy: 0.6212 - loss: 0.6392\n",
      "Epoch 19/20\n",
      "\u001B[1m4890/4890\u001B[0m \u001B[32m━━━━━━━━━━━━━━━━━━━━\u001B[0m\u001B[37m\u001B[0m \u001B[1m30s\u001B[0m 6ms/step - accuracy: 0.6223 - loss: 0.6385\n",
      "Epoch 20/20\n",
      "\u001B[1m4890/4890\u001B[0m \u001B[32m━━━━━━━━━━━━━━━━━━━━\u001B[0m\u001B[37m\u001B[0m \u001B[1m30s\u001B[0m 6ms/step - accuracy: 0.6229 - loss: 0.6379\n",
      "Evaluating Model\n",
      "\u001B[1m1197/1197\u001B[0m \u001B[32m━━━━━━━━━━━━━━━━━━━━\u001B[0m\u001B[37m\u001B[0m \u001B[1m3s\u001B[0m 2ms/step - accuracy: 0.6196 - loss: 0.6469\n",
      "Model Accuracy on test data:  0.6458964347839355\n"
     ]
    }
   ],
   "source": [
    "print('Training Model')\n",
    "lstm_embedding.train_model(X_train_processed, y_train,epochs=20,batch_size=32)\n",
    "\n",
    "print('Evaluating Model')\n",
    "accuracy = lstm_embedding.evaluate_model(X_test, y_test)\n",
    "\n",
    "print('Model Accuracy on test data: ',accuracy)"
   ],
   "metadata": {
    "collapsed": false,
    "ExecuteTime": {
     "end_time": "2024-06-05T09:58:41.655303100Z",
     "start_time": "2024-06-05T09:47:39.109564500Z"
    }
   }
  },
  {
   "cell_type": "code",
   "execution_count": 77,
   "outputs": [
    {
     "data": {
      "text/plain": "(37, 1)"
     },
     "execution_count": 77,
     "metadata": {},
     "output_type": "execute_result"
    }
   ],
   "source": [
    "lstm_embedding.input_shape"
   ],
   "metadata": {
    "collapsed": false,
    "ExecuteTime": {
     "end_time": "2024-06-05T10:15:10.530085700Z",
     "start_time": "2024-06-05T10:15:10.518119500Z"
    }
   }
  },
  {
   "cell_type": "code",
   "execution_count": 78,
   "outputs": [
    {
     "data": {
      "text/plain": "array([[  32,  237,    4,    4,  342,  131,  141,    5,    6,    7,    0,\n           0,    0,    0,    0,    0],\n       [  43,    2,    3,  811,   78,    8,  494,  211, 1239,   43,   46,\n          47,   48,   49,   50,   51],\n       [ 368,  151,   23,   22,   33,    2,    3,  368,  151,   23,   22,\n          33,    5,    6,    7,    0]])"
     },
     "execution_count": 78,
     "metadata": {},
     "output_type": "execute_result"
    }
   ],
   "source": [
    "X_test_vectorized = lstm_embedding.embedding_vector(X_test[:3],reload_model=False)\n",
    "X_test_vectorized"
   ],
   "metadata": {
    "collapsed": false,
    "ExecuteTime": {
     "end_time": "2024-06-05T10:15:13.118487Z",
     "start_time": "2024-06-05T10:15:12.999800800Z"
    }
   }
  },
  {
   "cell_type": "code",
   "execution_count": 79,
   "outputs": [
    {
     "name": "stdout",
     "output_type": "stream",
     "text": [
      "Execution time: 0.41 seconds\n"
     ]
    }
   ],
   "source": [
    "start_time = time.time()\n",
    "lstm_encoder = LSTMEmbedding()\n",
    "lstm_encoder.load_model()\n",
    "X_test_vectorized = lstm_embedding.embedding_vector(X_test[:10],reload_model=True)\n",
    "\n",
    "end_time = time.time()\n",
    "execution_time = end_time - start_time\n",
    "print(\"Execution time: {:.2f} seconds\".format(execution_time))"
   ],
   "metadata": {
    "collapsed": false,
    "ExecuteTime": {
     "end_time": "2024-06-05T10:15:44.806316700Z",
     "start_time": "2024-06-05T10:15:44.385683400Z"
    }
   }
  },
  {
   "cell_type": "code",
   "execution_count": 80,
   "outputs": [
    {
     "data": {
      "text/plain": "array([[ 55, 118, 128, 107,   0,   0,   0,   0,   0,   0,   0,   0,   0,\n          0,   0,   0],\n       [711,  35,   6,  37, 711,  35,   6,  37,   0,   0,   0,   0,   0,\n          0,   0,   0],\n       [346, 818, 239,  24, 132, 346, 818, 239,  24, 132,   0,   0,   0,\n          0,   0,   0],\n       [141, 141,  55,  57,   0,   0,   0,   0,   0,   0,   0,   0,   0,\n          0,   0,   0],\n       [ 34,  81,  61, 107, 570, 571, 104, 572, 107,   0,   0,   0,   0,\n          0,   0,   0],\n       [572, 266, 570, 571, 104, 572, 266,   0,   0,   0,   0,   0,   0,\n          0,   0,   0],\n       [470,   5, 127, 279,   5, 146, 280,   0,   0,   0,   0,   0,   0,\n          0,   0,   0],\n       [165, 164,   8, 165, 164,  55,  57,   0,   0,   0,   0,   0,   0,\n          0,   0,   0],\n       [ 83,  78,  64,   0,   0,   0,   0,   0,   0,   0,   0,   0,   0,\n          0,   0,   0],\n       [ 86,  69,  86,  69,   0,   0,   0,   0,   0,   0,   0,   0,   0,\n          0,   0,   0]])"
     },
     "execution_count": 80,
     "metadata": {},
     "output_type": "execute_result"
    }
   ],
   "source": [
    "X_test_vectorized"
   ],
   "metadata": {
    "collapsed": false,
    "ExecuteTime": {
     "end_time": "2024-06-05T10:16:10.886111400Z",
     "start_time": "2024-06-05T10:16:10.873145900Z"
    }
   }
  },
  {
   "cell_type": "code",
   "execution_count": 82,
   "outputs": [],
   "source": [
    "def vectorize(COUNT_VALS):\n",
    "      preds = lstm_encoder.embedding_vector(X_test[:COUNT_VALS],reload_model=True)\n",
    "      return\n",
    "\n",
    "def calculate_excecution():\n",
    "  exs = []\n",
    "  COUNT_VALS = 50\n",
    "  for i in range(10):\n",
    "    start_time = time.time()\n",
    "\n",
    "    vectorize(COUNT_VALS)\n",
    "\n",
    "    end_time = time.time()\n",
    "\n",
    "    execution_time = end_time - start_time\n",
    "    exs.append(execution_time)\n",
    "\n",
    "  average = np.array(exs).mean()\n",
    "  return average/COUNT_VALS"
   ],
   "metadata": {
    "collapsed": false,
    "ExecuteTime": {
     "end_time": "2024-06-05T10:21:47.959656400Z",
     "start_time": "2024-06-05T10:21:47.946691800Z"
    }
   }
  },
  {
   "cell_type": "code",
   "execution_count": 83,
   "outputs": [
    {
     "data": {
      "text/plain": "0.002570923328399658"
     },
     "execution_count": 83,
     "metadata": {},
     "output_type": "execute_result"
    }
   ],
   "source": [
    "calculate_excecution()"
   ],
   "metadata": {
    "collapsed": false,
    "ExecuteTime": {
     "end_time": "2024-06-05T10:21:50.985586900Z",
     "start_time": "2024-06-05T10:21:49.685163300Z"
    }
   }
  },
  {
   "cell_type": "code",
   "execution_count": null,
   "outputs": [],
   "source": [],
   "metadata": {
    "collapsed": false
   }
  }
 ],
 "metadata": {
  "kernelspec": {
   "display_name": "Python 3",
   "language": "python",
   "name": "python3"
  },
  "language_info": {
   "codemirror_mode": {
    "name": "ipython",
    "version": 2
   },
   "file_extension": ".py",
   "mimetype": "text/x-python",
   "name": "python",
   "nbconvert_exporter": "python",
   "pygments_lexer": "ipython2",
   "version": "2.7.6"
  }
 },
 "nbformat": 4,
 "nbformat_minor": 0
}
