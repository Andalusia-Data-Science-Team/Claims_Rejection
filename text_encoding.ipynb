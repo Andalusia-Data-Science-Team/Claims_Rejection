{
 "cells": [
  {
   "cell_type": "code",
   "execution_count": 4,
   "metadata": {
    "collapsed": true,
    "ExecuteTime": {
     "end_time": "2024-06-13T09:43:20.016505200Z",
     "start_time": "2024-06-13T09:43:19.991116900Z"
    }
   },
   "outputs": [],
   "source": [
    "from cashe import get_cashed_input\n",
    "from src.data_local import MergedDataPreprocessing\n",
    "from src.lstm_encoder import LSTMEmbedding\n",
    "import time\n",
    "from src.model_train import encode_label\n",
    "import numpy as np"
   ]
  },
  {
   "cell_type": "code",
   "execution_count": 7,
   "outputs": [],
   "source": [
    "df_original = get_cashed_input()\n",
    "df_original = df_original[['VISIT_ID','SERVICE_DESCRIPTION', 'SERVICE_TYPE', 'OASIS_IOS_DESCRIPTION','PROVIDER_DEPARTMENT','OUTCOME']]"
   ],
   "metadata": {
    "collapsed": false,
    "ExecuteTime": {
     "end_time": "2024-06-13T09:43:43.911152100Z",
     "start_time": "2024-06-13T09:43:42.226104200Z"
    }
   }
  },
  {
   "cell_type": "code",
   "execution_count": 8,
   "outputs": [],
   "source": [
    "preprocessing = MergedDataPreprocessing(df_original)\n",
    "df_train, df_test = preprocessing.train_test_split()"
   ],
   "metadata": {
    "collapsed": false,
    "ExecuteTime": {
     "end_time": "2024-06-13T09:43:46.121331500Z",
     "start_time": "2024-06-13T09:43:45.560617300Z"
    }
   }
  },
  {
   "cell_type": "code",
   "execution_count": 9,
   "outputs": [],
   "source": [
    "train_columns = list(df_train.columns)[1:]"
   ],
   "metadata": {
    "collapsed": false,
    "ExecuteTime": {
     "end_time": "2024-06-13T09:43:53.386786300Z",
     "start_time": "2024-06-13T09:43:53.374736600Z"
    }
   }
  },
  {
   "cell_type": "code",
   "execution_count": 10,
   "outputs": [],
   "source": [
    "X_train = df_train[train_columns[:-1]];  y_train = df_train[train_columns[-1]].values\n",
    "X_test = df_test[train_columns[:-1]];  y_test = df_test[train_columns[-1]].values\n",
    "\n",
    "y_train = encode_label(y_train); y_test = encode_label(y_test)"
   ],
   "metadata": {
    "collapsed": false,
    "ExecuteTime": {
     "end_time": "2024-06-13T09:44:01.610899Z",
     "start_time": "2024-06-13T09:44:01.230538300Z"
    }
   }
  },
  {
   "cell_type": "code",
   "execution_count": 11,
   "outputs": [
    {
     "data": {
      "text/plain": "                                      SERVICE_DESCRIPTION      SERVICE_TYPE  \\\n0                                           Unlisted Code          services   \n2                                     In vivo laboratory         laboratory   \n3                                     ELICA-M CREAM 30 GM  medication-codes   \n4                          Peripheral intravenous cannula   medical-devices   \n5                        Computerised tomography of brain           imaging   \n...                                                   ...               ...   \n488824                        HIV-1 AG W/HIV-1   HIV-2 AB        laboratory   \n488825           APIDRA SOLOSTAR 100 U- ML DISPOSABLE PEN  medication-codes   \n488826  TRESIBA FLEXTOUCH 100 U/ML SOLUTION FOR INJECTION  medication-codes   \n488827                                        Medical bag   medical-devices   \n488828           Quantitative Troponin (Protein) Analysis        laboratory   \n\n                                    OASIS_IOS_DESCRIPTION  \\\n0                                      I.V. INFUSION OBS.   \n2                                       VITAMIN D (TOTAL)   \n3                                     ELICA-M CREAM 30 GM   \n4                            INSERTION OF AN I.V. CANNULA   \n5                             C.T. BRAIN WITHOUT CONTRAST   \n...                                                   ...   \n488824                         HIV AG- ABS SCREEN (COMBO)   \n488825           APIDRA SOLOSTAR 100 U- ML DISPOSABLE PEN   \n488826  TRESIBA FLEXTOUCH 100 U/ML SOLUTION FOR INJECTION   \n488827                                        Medical bag   \n488828       TROPONIN I \"QUANTITATIVE\"                      \n\n                                  PROVIDER_DEPARTMENT  \n0       OBSTERTRIC/GYNEACOLOGIC SERVIC - نساء و ولادة  \n2                         INTERNAL MEDICINE - الباطنة  \n3       OBSTERTRIC/GYNEACOLOGIC SERVIC - نساء و ولادة  \n4                     EMERGENCY ROOM SERVICES - طوارى  \n5                     EMERGENCY ROOM SERVICES - طوارى  \n...                                               ...  \n488824                    CARDIOLOGY SERVICES - القلب  \n488825                    CARDIOLOGY SERVICES - القلب  \n488826                    CARDIOLOGY SERVICES - القلب  \n488827                    CARDIOLOGY SERVICES - القلب  \n488828                    CARDIOLOGY SERVICES - القلب  \n\n[155135 rows x 4 columns]",
      "text/html": "<div>\n<style scoped>\n    .dataframe tbody tr th:only-of-type {\n        vertical-align: middle;\n    }\n\n    .dataframe tbody tr th {\n        vertical-align: top;\n    }\n\n    .dataframe thead th {\n        text-align: right;\n    }\n</style>\n<table border=\"1\" class=\"dataframe\">\n  <thead>\n    <tr style=\"text-align: right;\">\n      <th></th>\n      <th>SERVICE_DESCRIPTION</th>\n      <th>SERVICE_TYPE</th>\n      <th>OASIS_IOS_DESCRIPTION</th>\n      <th>PROVIDER_DEPARTMENT</th>\n    </tr>\n  </thead>\n  <tbody>\n    <tr>\n      <th>0</th>\n      <td>Unlisted Code</td>\n      <td>services</td>\n      <td>I.V. INFUSION OBS.</td>\n      <td>OBSTERTRIC/GYNEACOLOGIC SERVIC - نساء و ولادة</td>\n    </tr>\n    <tr>\n      <th>2</th>\n      <td>In vivo laboratory</td>\n      <td>laboratory</td>\n      <td>VITAMIN D (TOTAL)</td>\n      <td>INTERNAL MEDICINE - الباطنة</td>\n    </tr>\n    <tr>\n      <th>3</th>\n      <td>ELICA-M CREAM 30 GM</td>\n      <td>medication-codes</td>\n      <td>ELICA-M CREAM 30 GM</td>\n      <td>OBSTERTRIC/GYNEACOLOGIC SERVIC - نساء و ولادة</td>\n    </tr>\n    <tr>\n      <th>4</th>\n      <td>Peripheral intravenous cannula</td>\n      <td>medical-devices</td>\n      <td>INSERTION OF AN I.V. CANNULA</td>\n      <td>EMERGENCY ROOM SERVICES - طوارى</td>\n    </tr>\n    <tr>\n      <th>5</th>\n      <td>Computerised tomography of brain</td>\n      <td>imaging</td>\n      <td>C.T. BRAIN WITHOUT CONTRAST</td>\n      <td>EMERGENCY ROOM SERVICES - طوارى</td>\n    </tr>\n    <tr>\n      <th>...</th>\n      <td>...</td>\n      <td>...</td>\n      <td>...</td>\n      <td>...</td>\n    </tr>\n    <tr>\n      <th>488824</th>\n      <td>HIV-1 AG W/HIV-1   HIV-2 AB</td>\n      <td>laboratory</td>\n      <td>HIV AG- ABS SCREEN (COMBO)</td>\n      <td>CARDIOLOGY SERVICES - القلب</td>\n    </tr>\n    <tr>\n      <th>488825</th>\n      <td>APIDRA SOLOSTAR 100 U- ML DISPOSABLE PEN</td>\n      <td>medication-codes</td>\n      <td>APIDRA SOLOSTAR 100 U- ML DISPOSABLE PEN</td>\n      <td>CARDIOLOGY SERVICES - القلب</td>\n    </tr>\n    <tr>\n      <th>488826</th>\n      <td>TRESIBA FLEXTOUCH 100 U/ML SOLUTION FOR INJECTION</td>\n      <td>medication-codes</td>\n      <td>TRESIBA FLEXTOUCH 100 U/ML SOLUTION FOR INJECTION</td>\n      <td>CARDIOLOGY SERVICES - القلب</td>\n    </tr>\n    <tr>\n      <th>488827</th>\n      <td>Medical bag</td>\n      <td>medical-devices</td>\n      <td>Medical bag</td>\n      <td>CARDIOLOGY SERVICES - القلب</td>\n    </tr>\n    <tr>\n      <th>488828</th>\n      <td>Quantitative Troponin (Protein) Analysis</td>\n      <td>laboratory</td>\n      <td>TROPONIN I \"QUANTITATIVE\"</td>\n      <td>CARDIOLOGY SERVICES - القلب</td>\n    </tr>\n  </tbody>\n</table>\n<p>155135 rows × 4 columns</p>\n</div>"
     },
     "execution_count": 11,
     "metadata": {},
     "output_type": "execute_result"
    }
   ],
   "source": [
    "X_train"
   ],
   "metadata": {
    "collapsed": false,
    "ExecuteTime": {
     "end_time": "2024-06-13T09:44:02.411408300Z",
     "start_time": "2024-06-13T09:44:02.070512600Z"
    }
   }
  },
  {
   "cell_type": "code",
   "execution_count": 12,
   "outputs": [
    {
     "data": {
      "text/plain": "array([[ 71,  69,   1, ...,   0,   0,   0],\n       [ 32, 232,   4, ...,   0,   0,   0],\n       [609, 236, 181, ...,   0,   0,   0],\n       ...,\n       [766, 704,  77, ...,   0,   0,   0],\n       [ 31, 210,  31, ...,   0,   0,   0],\n       [ 68, 142, 196, ...,   0,   0,   0]])"
     },
     "execution_count": 12,
     "metadata": {},
     "output_type": "execute_result"
    }
   ],
   "source": [
    "lstm_embedding = LSTMEmbedding()\n",
    "X_train_processed = lstm_embedding.preprocess_data(X_train)\n",
    "X_train_processed"
   ],
   "metadata": {
    "collapsed": false,
    "ExecuteTime": {
     "end_time": "2024-06-13T09:44:17.120579800Z",
     "start_time": "2024-06-13T09:44:10.561937300Z"
    }
   }
  },
  {
   "cell_type": "code",
   "execution_count": 13,
   "outputs": [
    {
     "name": "stdout",
     "output_type": "stream",
     "text": [
      "Training Model\n",
      "Epoch 1/20\n",
      "\u001B[1m4848/4848\u001B[0m \u001B[32m━━━━━━━━━━━━━━━━━━━━\u001B[0m\u001B[37m\u001B[0m \u001B[1m39s\u001B[0m 7ms/step - accuracy: 0.5402 - loss: 0.6857\n",
      "Epoch 2/20\n",
      "\u001B[1m4848/4848\u001B[0m \u001B[32m━━━━━━━━━━━━━━━━━━━━\u001B[0m\u001B[37m\u001B[0m \u001B[1m31s\u001B[0m 6ms/step - accuracy: 0.5738 - loss: 0.6719\n",
      "Epoch 3/20\n",
      "\u001B[1m4848/4848\u001B[0m \u001B[32m━━━━━━━━━━━━━━━━━━━━\u001B[0m\u001B[37m\u001B[0m \u001B[1m32s\u001B[0m 7ms/step - accuracy: 0.5852 - loss: 0.6651\n",
      "Epoch 4/20\n",
      "\u001B[1m4848/4848\u001B[0m \u001B[32m━━━━━━━━━━━━━━━━━━━━\u001B[0m\u001B[37m\u001B[0m \u001B[1m40s\u001B[0m 6ms/step - accuracy: 0.5896 - loss: 0.6614\n",
      "Epoch 5/20\n",
      "\u001B[1m4848/4848\u001B[0m \u001B[32m━━━━━━━━━━━━━━━━━━━━\u001B[0m\u001B[37m\u001B[0m \u001B[1m31s\u001B[0m 6ms/step - accuracy: 0.5961 - loss: 0.6556\n",
      "Epoch 6/20\n",
      "\u001B[1m4848/4848\u001B[0m \u001B[32m━━━━━━━━━━━━━━━━━━━━\u001B[0m\u001B[37m\u001B[0m \u001B[1m31s\u001B[0m 6ms/step - accuracy: 0.6028 - loss: 0.6521\n",
      "Epoch 7/20\n",
      "\u001B[1m4848/4848\u001B[0m \u001B[32m━━━━━━━━━━━━━━━━━━━━\u001B[0m\u001B[37m\u001B[0m \u001B[1m32s\u001B[0m 7ms/step - accuracy: 0.6026 - loss: 0.6527\n",
      "Epoch 8/20\n",
      "\u001B[1m4848/4848\u001B[0m \u001B[32m━━━━━━━━━━━━━━━━━━━━\u001B[0m\u001B[37m\u001B[0m \u001B[1m33s\u001B[0m 7ms/step - accuracy: 0.6094 - loss: 0.6501\n",
      "Epoch 9/20\n",
      "\u001B[1m4848/4848\u001B[0m \u001B[32m━━━━━━━━━━━━━━━━━━━━\u001B[0m\u001B[37m\u001B[0m \u001B[1m32s\u001B[0m 7ms/step - accuracy: 0.6132 - loss: 0.6480\n",
      "Epoch 10/20\n",
      "\u001B[1m4848/4848\u001B[0m \u001B[32m━━━━━━━━━━━━━━━━━━━━\u001B[0m\u001B[37m\u001B[0m \u001B[1m32s\u001B[0m 7ms/step - accuracy: 0.6147 - loss: 0.6447\n",
      "Epoch 11/20\n",
      "\u001B[1m4848/4848\u001B[0m \u001B[32m━━━━━━━━━━━━━━━━━━━━\u001B[0m\u001B[37m\u001B[0m \u001B[1m32s\u001B[0m 7ms/step - accuracy: 0.6163 - loss: 0.6433\n",
      "Epoch 12/20\n",
      "\u001B[1m4848/4848\u001B[0m \u001B[32m━━━━━━━━━━━━━━━━━━━━\u001B[0m\u001B[37m\u001B[0m \u001B[1m32s\u001B[0m 7ms/step - accuracy: 0.6171 - loss: 0.6421\n",
      "Epoch 13/20\n",
      "\u001B[1m4848/4848\u001B[0m \u001B[32m━━━━━━━━━━━━━━━━━━━━\u001B[0m\u001B[37m\u001B[0m \u001B[1m32s\u001B[0m 7ms/step - accuracy: 0.6201 - loss: 0.6394\n",
      "Epoch 14/20\n",
      "\u001B[1m4848/4848\u001B[0m \u001B[32m━━━━━━━━━━━━━━━━━━━━\u001B[0m\u001B[37m\u001B[0m \u001B[1m30s\u001B[0m 6ms/step - accuracy: 0.6187 - loss: 0.6406\n",
      "Epoch 15/20\n",
      "\u001B[1m4848/4848\u001B[0m \u001B[32m━━━━━━━━━━━━━━━━━━━━\u001B[0m\u001B[37m\u001B[0m \u001B[1m31s\u001B[0m 6ms/step - accuracy: 0.6212 - loss: 0.6386\n",
      "Epoch 16/20\n",
      "\u001B[1m4848/4848\u001B[0m \u001B[32m━━━━━━━━━━━━━━━━━━━━\u001B[0m\u001B[37m\u001B[0m \u001B[1m31s\u001B[0m 6ms/step - accuracy: 0.6235 - loss: 0.6366\n",
      "Epoch 17/20\n",
      "\u001B[1m4848/4848\u001B[0m \u001B[32m━━━━━━━━━━━━━━━━━━━━\u001B[0m\u001B[37m\u001B[0m \u001B[1m31s\u001B[0m 6ms/step - accuracy: 0.6233 - loss: 0.6360\n",
      "Epoch 18/20\n",
      "\u001B[1m4848/4848\u001B[0m \u001B[32m━━━━━━━━━━━━━━━━━━━━\u001B[0m\u001B[37m\u001B[0m \u001B[1m31s\u001B[0m 6ms/step - accuracy: 0.6253 - loss: 0.6353\n",
      "Epoch 19/20\n",
      "\u001B[1m4848/4848\u001B[0m \u001B[32m━━━━━━━━━━━━━━━━━━━━\u001B[0m\u001B[37m\u001B[0m \u001B[1m31s\u001B[0m 6ms/step - accuracy: 0.6256 - loss: 0.6341\n",
      "Epoch 20/20\n",
      "\u001B[1m4848/4848\u001B[0m \u001B[32m━━━━━━━━━━━━━━━━━━━━\u001B[0m\u001B[37m\u001B[0m \u001B[1m31s\u001B[0m 6ms/step - accuracy: 0.6252 - loss: 0.6349\n",
      "Evaluating Model\n",
      "\u001B[1m1238/1238\u001B[0m \u001B[32m━━━━━━━━━━━━━━━━━━━━\u001B[0m\u001B[37m\u001B[0m \u001B[1m3s\u001B[0m 2ms/step - accuracy: 0.6087 - loss: 0.6469\n",
      "Model Accuracy on test data:  0.6411015391349792\n"
     ]
    }
   ],
   "source": [
    "print('Training Model')\n",
    "lstm_embedding.train_model(X_train_processed, y_train,epochs=20,batch_size=32)\n",
    "\n",
    "print('Evaluating Model')\n",
    "accuracy = lstm_embedding.evaluate_model(X_test, y_test)\n",
    "\n",
    "print('Model Accuracy on test data: ',accuracy)"
   ],
   "metadata": {
    "collapsed": false,
    "ExecuteTime": {
     "end_time": "2024-06-13T09:55:11.831448800Z",
     "start_time": "2024-06-13T09:44:23.986433600Z"
    }
   }
  },
  {
   "cell_type": "code",
   "execution_count": 14,
   "outputs": [
    {
     "data": {
      "text/plain": "(37, 1)"
     },
     "execution_count": 14,
     "metadata": {},
     "output_type": "execute_result"
    }
   ],
   "source": [
    "lstm_embedding.input_shape"
   ],
   "metadata": {
    "collapsed": false,
    "ExecuteTime": {
     "end_time": "2024-06-13T10:03:57.032048500Z",
     "start_time": "2024-06-13T10:03:57.024784Z"
    }
   }
  },
  {
   "cell_type": "code",
   "execution_count": 15,
   "outputs": [
    {
     "data": {
      "text/plain": "array([[157,   4, 157, 237, 276, 228,  23,  53,  37,   1,  56,  57,  58,\n          0,   0,   0],\n       [105,  22,  41,   2,   3, 495, 497, 287, 105,  22,  41,  54,  34,\n          1,  38,  59],\n       [635, 476,   8,  60,  33,   2,   3, 635, 476,   8,  60,  33,  36,\n          1,  39,   0]])"
     },
     "execution_count": 15,
     "metadata": {},
     "output_type": "execute_result"
    }
   ],
   "source": [
    "X_test_vectorized = lstm_embedding.embedding_vector(X_test[:3],reload_model=False)\n",
    "X_test_vectorized"
   ],
   "metadata": {
    "collapsed": false,
    "ExecuteTime": {
     "end_time": "2024-06-13T10:04:22.650460700Z",
     "start_time": "2024-06-13T10:04:22.638410500Z"
    }
   }
  },
  {
   "cell_type": "code",
   "execution_count": 16,
   "outputs": [
    {
     "name": "stdout",
     "output_type": "stream",
     "text": [
      "Execution time: 0.31 seconds\n"
     ]
    }
   ],
   "source": [
    "start_time = time.time()\n",
    "lstm_encoder = LSTMEmbedding()\n",
    "lstm_encoder.load_model()\n",
    "X_test_vectorized = lstm_embedding.embedding_vector(X_test[:10],reload_model=True)\n",
    "\n",
    "end_time = time.time()\n",
    "execution_time = end_time - start_time\n",
    "print(\"Execution time: {:.2f} seconds\".format(execution_time))"
   ],
   "metadata": {
    "collapsed": false,
    "ExecuteTime": {
     "end_time": "2024-06-13T10:04:31.007143600Z",
     "start_time": "2024-06-13T10:04:30.692732900Z"
    }
   }
  },
  {
   "cell_type": "code",
   "execution_count": 17,
   "outputs": [
    {
     "data": {
      "text/plain": "array([[143, 143, 142, 139, 129, 239, 381,   0,   0,   0,   0,   0,   0,\n          0,   0,   0],\n       [338, 339, 174,  24, 338, 339, 174,  24, 441,   0,   0,   0,   0,\n          0,   0,   0],\n       [  6,  27, 132,   6,  27, 132,   0,   0,   0,   0,   0,   0,   0,\n          0,   0,   0],\n       [853,   0,   0,   0,   0,   0,   0,   0,   0,   0,   0,   0,   0,\n          0,   0,   0],\n       [ 96, 107,   0,   0,   0,   0,   0,   0,   0,   0,   0,   0,   0,\n          0,   0,   0],\n       [711,  35,   6,  37, 711,  35,   6,  37,   0,   0,   0,   0,   0,\n          0,   0,   0],\n       [697, 344, 321, 237, 697, 344, 321, 237, 239, 381,   0,   0,   0,\n          0,   0,   0],\n       [321, 176, 234, 321, 176, 234, 239, 381,   0,   0,   0,   0,   0,\n          0,   0,   0],\n       [697, 344, 321, 237, 697, 344, 321, 237, 239, 381,   0,   0,   0,\n          0,   0,   0],\n       [611,  76, 419, 268, 557, 611,  76, 419, 268, 557, 239, 381,   0,\n          0,   0,   0]])"
     },
     "execution_count": 17,
     "metadata": {},
     "output_type": "execute_result"
    }
   ],
   "source": [
    "X_test_vectorized"
   ],
   "metadata": {
    "collapsed": false,
    "ExecuteTime": {
     "end_time": "2024-06-13T10:04:31.663187800Z",
     "start_time": "2024-06-13T10:04:31.653853600Z"
    }
   }
  },
  {
   "cell_type": "code",
   "execution_count": 18,
   "outputs": [],
   "source": [
    "def vectorize(COUNT_VALS):\n",
    "      preds = lstm_encoder.embedding_vector(X_test[:COUNT_VALS],reload_model=True)\n",
    "      return\n",
    "\n",
    "def calculate_excecution():\n",
    "  exs = []\n",
    "  COUNT_VALS = 50\n",
    "  for i in range(10):\n",
    "    start_time = time.time()\n",
    "\n",
    "    vectorize(COUNT_VALS)\n",
    "\n",
    "    end_time = time.time()\n",
    "\n",
    "    execution_time = end_time - start_time\n",
    "    exs.append(execution_time)\n",
    "\n",
    "  average = np.array(exs).mean()\n",
    "  return average/COUNT_VALS"
   ],
   "metadata": {
    "collapsed": false,
    "ExecuteTime": {
     "end_time": "2024-06-13T10:04:34.040711500Z",
     "start_time": "2024-06-13T10:04:34.020168Z"
    }
   }
  },
  {
   "cell_type": "code",
   "execution_count": 19,
   "outputs": [
    {
     "data": {
      "text/plain": "0.001926307201385498"
     },
     "execution_count": 19,
     "metadata": {},
     "output_type": "execute_result"
    }
   ],
   "source": [
    "calculate_excecution()"
   ],
   "metadata": {
    "collapsed": false,
    "ExecuteTime": {
     "end_time": "2024-06-13T10:04:36.217531900Z",
     "start_time": "2024-06-13T10:04:35.237807900Z"
    }
   }
  },
  {
   "cell_type": "code",
   "execution_count": null,
   "outputs": [],
   "source": [],
   "metadata": {
    "collapsed": false
   }
  }
 ],
 "metadata": {
  "kernelspec": {
   "display_name": "Python 3",
   "language": "python",
   "name": "python3"
  },
  "language_info": {
   "codemirror_mode": {
    "name": "ipython",
    "version": 2
   },
   "file_extension": ".py",
   "mimetype": "text/x-python",
   "name": "python",
   "nbconvert_exporter": "python",
   "pygments_lexer": "ipython2",
   "version": "2.7.6"
  }
 },
 "nbformat": 4,
 "nbformat_minor": 0
}
