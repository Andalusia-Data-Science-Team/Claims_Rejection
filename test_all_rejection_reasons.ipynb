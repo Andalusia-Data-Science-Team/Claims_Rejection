{
 "cells": [
  {
   "cell_type": "code",
   "execution_count": 1,
   "metadata": {
    "collapsed": true,
    "ExecuteTime": {
     "end_time": "2024-08-22T13:21:30.020029900Z",
     "start_time": "2024-08-22T13:21:18.956984700Z"
    }
   },
   "outputs": [],
   "source": [
    "## re-run the rejection reason final model after that test\n",
    "from cashe import get_train_test_split, get_training_inputs, drop_nomodel_columns\n",
    "\n",
    "\n",
    "from src.utilities_rejection import RejectionReasonLabeling\n",
    "from src.data_local import MergedDataPreprocessing\n",
    "from src.model_train import ModelTrainer\n",
    "import pandas as pd\n",
    "import numpy as np\n",
    "\n",
    "df_train, df_test = get_train_test_split('data/HJH/12-06-2024')\n",
    "df_train = df_train[df_train['OUTCOME'] !='APPROVED']\n",
    "df_test = df_test[df_test['OUTCOME'] !='APPROVED']\n",
    "\n",
    "train_rej = RejectionReasonLabeling(df_train)\n",
    "train_rej.recoginze_label()\n",
    "train_rej = RejectionReasonLabeling(df_test)\n",
    "train_rej.recoginze_label()\n",
    "\n",
    "def analyze_error_code(error_value):\n",
    "\n",
    "    df_train['NPHIES_LABEL'] = np.where(df_train['NPHIES_CODE'] == error_value, 1, 0)\n",
    "    df_test['NPHIES_LABEL']  = np.where( df_test['NPHIES_CODE']  == error_value, 1, 0)\n",
    "    X_train, y_train, X_test, y_test = get_training_inputs(df_train, df_test)\n",
    "    X_train = drop_nomodel_columns(X_train);  X_test = drop_nomodel_columns(X_test)\n",
    "    X_train.drop(columns=['NPHIES_CODE'],inplace=True); X_test.drop(columns=['NPHIES_CODE'],inplace=True)\n",
    "\n",
    "    preprocessing_train = MergedDataPreprocessing(X_train)\n",
    "    X_train_prep = preprocessing_train.columns_prep()\n",
    "\n",
    "    preprocessing_test = MergedDataPreprocessing(X_test)\n",
    "    X_test_prep = preprocessing_test.columns_prep()\n",
    "\n",
    "    X_train_encoded = preprocessing_train.column_embedding(X_train_prep)\n",
    "    X_test_encoded = preprocessing_train.column_embedding(X_test_prep)\n",
    "\n",
    "    X_train_encoded = preprocessing_train.column_embedding(X_train_encoded,is_service=False)\n",
    "    X_test_encoded = preprocessing_train.column_embedding(X_test_encoded,is_service=False)\n",
    "\n",
    "    X_train_encoded.fillna(0,inplace=True)\n",
    "    X_test_encoded.fillna(0,inplace=True)\n",
    "\n",
    "    model_runner = ModelTrainer(X_train=X_train_encoded,y_train=y_train['NPHIES_LABEL'],\n",
    "                                X_test=X_test_encoded,y_test=y_test['NPHIES_LABEL'])\n",
    "\n",
    "    model_runner.train_models()\n",
    "    result_analysis = model_runner.evaluate_models()\n",
    "    top_model_features = model_runner.get_xgboost_feature_importance()\n",
    "\n",
    "    features_df = pd.DataFrame({\"Column_name\":X_test_encoded.columns,\"Feature_importance\":top_model_features}).sort_values(\n",
    "        by=['Feature_importance'],ascending=False)\n",
    "    model_features1 = find_service_importances(features_df)\n",
    "    model_features = find_icd_importances(model_features1)\n",
    "    return result_analysis['XGBoost'], model_features\n",
    "\n",
    "def find_service_importances(model_features):\n",
    "    combined_text_rows = model_features[model_features['Column_name'].str.contains('CombinedText')]\n",
    "    combined_sum = sum(combined_text_rows['Feature_importance'])\n",
    "    model_features = model_features[~model_features['Column_name'].str.contains('CombinedText')]\n",
    "    model_features.loc[len(model_features)] = {'Column_name':'SERVICE_DESCRIPTION','Feature_importance':float(combined_sum)}\n",
    "    return model_features\n",
    "\n",
    "def find_icd_importances(model_features):\n",
    "    combined_text_rows = model_features[model_features['Column_name'].str.contains('ICDText')]\n",
    "    combined_sum = sum(combined_text_rows['Feature_importance'])\n",
    "    model_features = model_features[~model_features['Column_name'].str.contains('ICDText')]\n",
    "    model_features.loc[len(model_features)] = {'Column_name':'ICD_10','Feature_importance':float(combined_sum)}\n",
    "    model_features.sort_values(by=['Feature_importance'],ascending=False,inplace=True)\n",
    "    return model_features\n",
    "\n",
    "def output_results_error(error_value):\n",
    "    model_performance, model_features = analyze_error_code(error_value)\n",
    "    df = pd.DataFrame(list(model_performance.items()))\n",
    "    df.to_csv(f'data/Extras/2024_08_20/{error_value}_acc.csv',index=False)\n",
    "    model_features.to_csv(f'data/Extras/2024_08_20/{error_value}_feats.csv',index=False)"
   ]
  },
  {
   "cell_type": "code",
   "execution_count": 10,
   "outputs": [
    {
     "name": "stderr",
     "output_type": "stream",
     "text": [
      "E:\\Projects\\Claims_Rejection\\src\\data_local.py:275: FutureWarning: Downcasting behavior in `replace` is deprecated and will be removed in a future version. To retain the old behavior, explicitly call `result.infer_objects(copy=False)`. To opt-in to the future behavior, set `pd.set_option('future.no_silent_downcasting', True)`\n",
      "  df[column] = df[column].replace(column_encoding)\n",
      "E:\\Projects\\Claims_Rejection\\src\\data_local.py:282: FutureWarning: Downcasting behavior in `replace` is deprecated and will be removed in a future version. To retain the old behavior, explicitly call `result.infer_objects(copy=False)`. To opt-in to the future behavior, set `pd.set_option('future.no_silent_downcasting', True)`\n",
      "  df['PatientAgeRange'] = df.PatientAgeRange.replace(age_encoding)\n",
      "E:\\Projects\\Claims_Rejection\\src\\data_local.py:275: FutureWarning: Downcasting behavior in `replace` is deprecated and will be removed in a future version. To retain the old behavior, explicitly call `result.infer_objects(copy=False)`. To opt-in to the future behavior, set `pd.set_option('future.no_silent_downcasting', True)`\n",
      "  df[column] = df[column].replace(column_encoding)\n",
      "E:\\Projects\\Claims_Rejection\\src\\data_local.py:282: FutureWarning: Downcasting behavior in `replace` is deprecated and will be removed in a future version. To retain the old behavior, explicitly call `result.infer_objects(copy=False)`. To opt-in to the future behavior, set `pd.set_option('future.no_silent_downcasting', True)`\n",
      "  df['PatientAgeRange'] = df.PatientAgeRange.replace(age_encoding)\n"
     ]
    },
    {
     "name": "stdout",
     "output_type": "stream",
     "text": [
      "[LightGBM] [Info] Number of positive: 17407, number of negative: 59599\n",
      "[LightGBM] [Info] Total Bins 6554\n",
      "[LightGBM] [Info] Number of data points in the train set: 77006, number of used features: 62\n",
      "[LightGBM] [Info] [binary:BoostFromScore]: pavg=0.226047 -> initscore=-1.230766\n",
      "[LightGBM] [Info] Start training from score -1.230766\n",
      "\n",
      "\n",
      "LightGBM, Decision Tree, SGD and Neural Network are trained on dataset.\n"
     ]
    },
    {
     "name": "stderr",
     "output_type": "stream",
     "text": [
      "C:\\Users\\omar.mounir\\AppData\\Local\\Temp\\ipykernel_1648\\1808676347.py:60: FutureWarning: Setting an item of incompatible dtype is deprecated and will raise an error in a future version of pandas. Value '0.26108051068149507' has dtype incompatible with float32, please explicitly cast to a compatible dtype first.\n",
      "  model_features.loc[len(model_features)] = {'Column_name':'SERVICE_DESCRIPTION','Feature_importance':float(combined_sum)}\n",
      "C:\\Users\\omar.mounir\\AppData\\Local\\Temp\\ipykernel_1648\\1808676347.py:67: SettingWithCopyWarning: \n",
      "A value is trying to be set on a copy of a slice from a DataFrame\n",
      "\n",
      "See the caveats in the documentation: https://pandas.pydata.org/pandas-docs/stable/user_guide/indexing.html#returning-a-view-versus-a-copy\n",
      "  model_features.loc[len(model_features)] = {'Column_name':'ICD_10','Feature_importance':float(combined_sum)}\n",
      "C:\\Users\\omar.mounir\\AppData\\Local\\Temp\\ipykernel_1648\\1808676347.py:68: SettingWithCopyWarning: \n",
      "A value is trying to be set on a copy of a slice from a DataFrame\n",
      "\n",
      "See the caveats in the documentation: https://pandas.pydata.org/pandas-docs/stable/user_guide/indexing.html#returning-a-view-versus-a-copy\n",
      "  model_features.sort_values(by=['Feature_importance'],ascending=False,inplace=True)\n"
     ]
    }
   ],
   "source": [
    "error_value = 'MN-1-1'\n",
    "model_performance, model_features = analyze_error_code(error_value)"
   ],
   "metadata": {
    "collapsed": false,
    "ExecuteTime": {
     "end_time": "2024-08-22T13:29:05.759563800Z",
     "start_time": "2024-08-22T13:26:42.237786800Z"
    }
   }
  },
  {
   "cell_type": "code",
   "execution_count": 11,
   "outputs": [
    {
     "name": "stdout",
     "output_type": "stream",
     "text": [
      "Training for MN-1-1, the model has: {'Accuracy': 0.89, 'Precision': 0.74, 'Recall': 0.57, 'F1 Score': 0.65}\n"
     ]
    }
   ],
   "source": [
    "print(f'Training for {error_value}, the model has: {model_performance}')"
   ],
   "metadata": {
    "collapsed": false,
    "ExecuteTime": {
     "end_time": "2024-08-22T13:29:05.802904400Z",
     "start_time": "2024-08-22T13:29:05.759563800Z"
    }
   }
  },
  {
   "cell_type": "code",
   "execution_count": 12,
   "outputs": [
    {
     "name": "stdout",
     "output_type": "stream",
     "text": [
      "                 Column_name  Feature_importance\n",
      "50       SERVICE_DESCRIPTION            0.261081\n",
      "35                    ICD_10            0.076171\n",
      "29            TREATMENT_TYPE            0.073752\n",
      "30            PURCHASER_CODE            0.070696\n",
      "15  PROVIDER_DEPARTMENT_CODE            0.049635\n",
      "7             VAT_PERCENTAGE            0.042631\n",
      "28           DEPARTMENT_TYPE            0.036681\n",
      "5             NET_VAT_AMOUNT            0.035640\n",
      "4         LINE_ITEM_DISCOUNT            0.034356\n",
      "9                   DURATION            0.029308\n",
      "11    UNIT_PRICE_STOCKED_UOM            0.021178\n",
      "2    LINE_CLAIMED_AMOUNT_SAR            0.021047\n",
      "13       DISCOUNT_PERCENTAGE            0.020230\n",
      "12            UNIT_PRICE_NET            0.018411\n",
      "3               CO_INSURANCE            0.014833\n",
      "31               CONTRACT_NO            0.014754\n",
      "16     DOCTOR_SPECIALTY_CODE            0.014365\n",
      "1                        QTY            0.013922\n",
      "24  TOTAL_CLAIMED_AMOUNT_SAR            0.013828\n",
      "23                CLAIM_TYPE            0.013636\n",
      "20       PATIENT_NATIONALITY            0.013258\n",
      "0               NET_WITH_VAT            0.012031\n",
      "26          TOTAL_DEDUCTIBLE            0.010208\n",
      "10           QTY_STOCKED_UOM            0.009530\n",
      "25            TOTAL_DISCOUNT            0.008611\n",
      "14       EMERGENCY_INDICATOR            0.008417\n",
      "17               DOCTOR_CODE            0.008393\n",
      "18               PATIENT_AGE            0.007501\n",
      "27   TOTAL_PATIENT_VATAMOUNT            0.007411\n",
      "21    PATIENT_MARITAL_STATUS            0.007288\n",
      "22            PATIENT_GENDER            0.005921\n",
      "19               UNIT_OF_AGE            0.005792\n",
      "6         PATIENT_VAT_AMOUNT            0.005734\n",
      "32                  NEW_BORN            0.005327\n",
      "33           PatientAgeRange            0.000000\n",
      "8   TREATMENT_TYPE_INDICATOR            0.000000\n"
     ]
    }
   ],
   "source": [
    "print(model_features)"
   ],
   "metadata": {
    "collapsed": false,
    "ExecuteTime": {
     "end_time": "2024-08-22T13:29:05.921887500Z",
     "start_time": "2024-08-22T13:29:05.775662900Z"
    }
   }
  },
  {
   "cell_type": "code",
   "execution_count": 5,
   "outputs": [
    {
     "name": "stderr",
     "output_type": "stream",
     "text": [
      "E:\\Projects\\Claims_Rejection\\src\\data_local.py:275: FutureWarning: Downcasting behavior in `replace` is deprecated and will be removed in a future version. To retain the old behavior, explicitly call `result.infer_objects(copy=False)`. To opt-in to the future behavior, set `pd.set_option('future.no_silent_downcasting', True)`\n",
      "  df[column] = df[column].replace(column_encoding)\n",
      "E:\\Projects\\Claims_Rejection\\src\\data_local.py:282: FutureWarning: Downcasting behavior in `replace` is deprecated and will be removed in a future version. To retain the old behavior, explicitly call `result.infer_objects(copy=False)`. To opt-in to the future behavior, set `pd.set_option('future.no_silent_downcasting', True)`\n",
      "  df['PatientAgeRange'] = df.PatientAgeRange.replace(age_encoding)\n",
      "E:\\Projects\\Claims_Rejection\\src\\data_local.py:275: FutureWarning: Downcasting behavior in `replace` is deprecated and will be removed in a future version. To retain the old behavior, explicitly call `result.infer_objects(copy=False)`. To opt-in to the future behavior, set `pd.set_option('future.no_silent_downcasting', True)`\n",
      "  df[column] = df[column].replace(column_encoding)\n",
      "E:\\Projects\\Claims_Rejection\\src\\data_local.py:282: FutureWarning: Downcasting behavior in `replace` is deprecated and will be removed in a future version. To retain the old behavior, explicitly call `result.infer_objects(copy=False)`. To opt-in to the future behavior, set `pd.set_option('future.no_silent_downcasting', True)`\n",
      "  df['PatientAgeRange'] = df.PatientAgeRange.replace(age_encoding)\n"
     ]
    },
    {
     "name": "stdout",
     "output_type": "stream",
     "text": [
      "[LightGBM] [Info] Number of positive: 10129, number of negative: 66877\n",
      "[LightGBM] [Info] Total Bins 6554\n",
      "[LightGBM] [Info] Number of data points in the train set: 77006, number of used features: 62\n",
      "[LightGBM] [Info] [binary:BoostFromScore]: pavg=0.131535 -> initscore=-1.887453\n",
      "[LightGBM] [Info] Start training from score -1.887453\n",
      "\n",
      "\n",
      "LightGBM, Decision Tree, SGD and Neural Network are trained on dataset.\n"
     ]
    },
    {
     "name": "stderr",
     "output_type": "stream",
     "text": [
      "C:\\Users\\omar.mounir\\AppData\\Local\\Temp\\ipykernel_1648\\1808676347.py:60: FutureWarning: Setting an item of incompatible dtype is deprecated and will raise an error in a future version of pandas. Value '0.039837736170738935' has dtype incompatible with float32, please explicitly cast to a compatible dtype first.\n",
      "  model_features.loc[len(model_features)] = {'Column_name':'SERVICE_DESCRIPTION','Feature_importance':float(combined_sum)}\n",
      "C:\\Users\\omar.mounir\\AppData\\Local\\Temp\\ipykernel_1648\\1808676347.py:67: SettingWithCopyWarning: \n",
      "A value is trying to be set on a copy of a slice from a DataFrame\n",
      "\n",
      "See the caveats in the documentation: https://pandas.pydata.org/pandas-docs/stable/user_guide/indexing.html#returning-a-view-versus-a-copy\n",
      "  model_features.loc[len(model_features)] = {'Column_name':'ICD_10','Feature_importance':float(combined_sum)}\n",
      "C:\\Users\\omar.mounir\\AppData\\Local\\Temp\\ipykernel_1648\\1808676347.py:68: SettingWithCopyWarning: \n",
      "A value is trying to be set on a copy of a slice from a DataFrame\n",
      "\n",
      "See the caveats in the documentation: https://pandas.pydata.org/pandas-docs/stable/user_guide/indexing.html#returning-a-view-versus-a-copy\n",
      "  model_features.sort_values(by=['Feature_importance'],ascending=False,inplace=True)\n"
     ]
    }
   ],
   "source": [
    "error_value = 'CV-1-1'\n",
    "model_performance, model_features = analyze_error_code(error_value)"
   ],
   "metadata": {
    "collapsed": false,
    "ExecuteTime": {
     "end_time": "2024-08-22T13:26:36.405302400Z",
     "start_time": "2024-08-22T13:23:51.752285500Z"
    }
   }
  },
  {
   "cell_type": "code",
   "execution_count": 6,
   "outputs": [
    {
     "name": "stdout",
     "output_type": "stream",
     "text": [
      "Training for CV-1-1, the model has: {'Accuracy': 0.9, 'Precision': 0.94, 'Recall': 0.63, 'F1 Score': 0.75}\n"
     ]
    }
   ],
   "source": [
    "print(f'Training for {error_value}, the model has: {model_performance}')"
   ],
   "metadata": {
    "collapsed": false,
    "ExecuteTime": {
     "end_time": "2024-08-22T13:26:36.416217600Z",
     "start_time": "2024-08-22T13:26:36.379465200Z"
    }
   }
  },
  {
   "cell_type": "code",
   "execution_count": 7,
   "outputs": [
    {
     "data": {
      "text/plain": "                 Column_name  Feature_importance\n30            PURCHASER_CODE            0.292619\n28           DEPARTMENT_TYPE            0.135752\n29            TREATMENT_TYPE            0.121588\n23                CLAIM_TYPE            0.057480\n31               CONTRACT_NO            0.056405\n20       PATIENT_NATIONALITY            0.049356\n35                    ICD_10            0.044195\n50       SERVICE_DESCRIPTION            0.039838\n16     DOCTOR_SPECIALTY_CODE            0.037601\n25            TOTAL_DISCOUNT            0.016043\n24  TOTAL_CLAIMED_AMOUNT_SAR            0.013626\n22            PATIENT_GENDER            0.011291\n13       DISCOUNT_PERCENTAGE            0.011146\n18               PATIENT_AGE            0.010028\n15  PROVIDER_DEPARTMENT_CODE            0.009616\n21    PATIENT_MARITAL_STATUS            0.009513\n17               DOCTOR_CODE            0.009340\n26          TOTAL_DEDUCTIBLE            0.008498\n11    UNIT_PRICE_STOCKED_UOM            0.007125\n27   TOTAL_PATIENT_VATAMOUNT            0.007033\n14       EMERGENCY_INDICATOR            0.006671\n19               UNIT_OF_AGE            0.005915\n4         LINE_ITEM_DISCOUNT            0.004742\n6         PATIENT_VAT_AMOUNT            0.004403\n5             NET_VAT_AMOUNT            0.003902\n12            UNIT_PRICE_NET            0.003450\n2    LINE_CLAIMED_AMOUNT_SAR            0.003028\n0               NET_WITH_VAT            0.003001\n10           QTY_STOCKED_UOM            0.002821\n1                        QTY            0.002492\n9                   DURATION            0.002490\n3               CO_INSURANCE            0.002128\n33           PatientAgeRange            0.000000\n32                  NEW_BORN            0.000000\n8   TREATMENT_TYPE_INDICATOR            0.000000\n7             VAT_PERCENTAGE            0.000000",
      "text/html": "<div>\n<style scoped>\n    .dataframe tbody tr th:only-of-type {\n        vertical-align: middle;\n    }\n\n    .dataframe tbody tr th {\n        vertical-align: top;\n    }\n\n    .dataframe thead th {\n        text-align: right;\n    }\n</style>\n<table border=\"1\" class=\"dataframe\">\n  <thead>\n    <tr style=\"text-align: right;\">\n      <th></th>\n      <th>Column_name</th>\n      <th>Feature_importance</th>\n    </tr>\n  </thead>\n  <tbody>\n    <tr>\n      <th>30</th>\n      <td>PURCHASER_CODE</td>\n      <td>0.292619</td>\n    </tr>\n    <tr>\n      <th>28</th>\n      <td>DEPARTMENT_TYPE</td>\n      <td>0.135752</td>\n    </tr>\n    <tr>\n      <th>29</th>\n      <td>TREATMENT_TYPE</td>\n      <td>0.121588</td>\n    </tr>\n    <tr>\n      <th>23</th>\n      <td>CLAIM_TYPE</td>\n      <td>0.057480</td>\n    </tr>\n    <tr>\n      <th>31</th>\n      <td>CONTRACT_NO</td>\n      <td>0.056405</td>\n    </tr>\n    <tr>\n      <th>20</th>\n      <td>PATIENT_NATIONALITY</td>\n      <td>0.049356</td>\n    </tr>\n    <tr>\n      <th>35</th>\n      <td>ICD_10</td>\n      <td>0.044195</td>\n    </tr>\n    <tr>\n      <th>50</th>\n      <td>SERVICE_DESCRIPTION</td>\n      <td>0.039838</td>\n    </tr>\n    <tr>\n      <th>16</th>\n      <td>DOCTOR_SPECIALTY_CODE</td>\n      <td>0.037601</td>\n    </tr>\n    <tr>\n      <th>25</th>\n      <td>TOTAL_DISCOUNT</td>\n      <td>0.016043</td>\n    </tr>\n    <tr>\n      <th>24</th>\n      <td>TOTAL_CLAIMED_AMOUNT_SAR</td>\n      <td>0.013626</td>\n    </tr>\n    <tr>\n      <th>22</th>\n      <td>PATIENT_GENDER</td>\n      <td>0.011291</td>\n    </tr>\n    <tr>\n      <th>13</th>\n      <td>DISCOUNT_PERCENTAGE</td>\n      <td>0.011146</td>\n    </tr>\n    <tr>\n      <th>18</th>\n      <td>PATIENT_AGE</td>\n      <td>0.010028</td>\n    </tr>\n    <tr>\n      <th>15</th>\n      <td>PROVIDER_DEPARTMENT_CODE</td>\n      <td>0.009616</td>\n    </tr>\n    <tr>\n      <th>21</th>\n      <td>PATIENT_MARITAL_STATUS</td>\n      <td>0.009513</td>\n    </tr>\n    <tr>\n      <th>17</th>\n      <td>DOCTOR_CODE</td>\n      <td>0.009340</td>\n    </tr>\n    <tr>\n      <th>26</th>\n      <td>TOTAL_DEDUCTIBLE</td>\n      <td>0.008498</td>\n    </tr>\n    <tr>\n      <th>11</th>\n      <td>UNIT_PRICE_STOCKED_UOM</td>\n      <td>0.007125</td>\n    </tr>\n    <tr>\n      <th>27</th>\n      <td>TOTAL_PATIENT_VATAMOUNT</td>\n      <td>0.007033</td>\n    </tr>\n    <tr>\n      <th>14</th>\n      <td>EMERGENCY_INDICATOR</td>\n      <td>0.006671</td>\n    </tr>\n    <tr>\n      <th>19</th>\n      <td>UNIT_OF_AGE</td>\n      <td>0.005915</td>\n    </tr>\n    <tr>\n      <th>4</th>\n      <td>LINE_ITEM_DISCOUNT</td>\n      <td>0.004742</td>\n    </tr>\n    <tr>\n      <th>6</th>\n      <td>PATIENT_VAT_AMOUNT</td>\n      <td>0.004403</td>\n    </tr>\n    <tr>\n      <th>5</th>\n      <td>NET_VAT_AMOUNT</td>\n      <td>0.003902</td>\n    </tr>\n    <tr>\n      <th>12</th>\n      <td>UNIT_PRICE_NET</td>\n      <td>0.003450</td>\n    </tr>\n    <tr>\n      <th>2</th>\n      <td>LINE_CLAIMED_AMOUNT_SAR</td>\n      <td>0.003028</td>\n    </tr>\n    <tr>\n      <th>0</th>\n      <td>NET_WITH_VAT</td>\n      <td>0.003001</td>\n    </tr>\n    <tr>\n      <th>10</th>\n      <td>QTY_STOCKED_UOM</td>\n      <td>0.002821</td>\n    </tr>\n    <tr>\n      <th>1</th>\n      <td>QTY</td>\n      <td>0.002492</td>\n    </tr>\n    <tr>\n      <th>9</th>\n      <td>DURATION</td>\n      <td>0.002490</td>\n    </tr>\n    <tr>\n      <th>3</th>\n      <td>CO_INSURANCE</td>\n      <td>0.002128</td>\n    </tr>\n    <tr>\n      <th>33</th>\n      <td>PatientAgeRange</td>\n      <td>0.000000</td>\n    </tr>\n    <tr>\n      <th>32</th>\n      <td>NEW_BORN</td>\n      <td>0.000000</td>\n    </tr>\n    <tr>\n      <th>8</th>\n      <td>TREATMENT_TYPE_INDICATOR</td>\n      <td>0.000000</td>\n    </tr>\n    <tr>\n      <th>7</th>\n      <td>VAT_PERCENTAGE</td>\n      <td>0.000000</td>\n    </tr>\n  </tbody>\n</table>\n</div>"
     },
     "execution_count": 7,
     "metadata": {},
     "output_type": "execute_result"
    }
   ],
   "source": [
    "model_features"
   ],
   "metadata": {
    "collapsed": false,
    "ExecuteTime": {
     "end_time": "2024-08-22T13:26:36.629040300Z",
     "start_time": "2024-08-22T13:26:36.405302400Z"
    }
   }
  },
  {
   "cell_type": "code",
   "execution_count": 13,
   "outputs": [
    {
     "name": "stderr",
     "output_type": "stream",
     "text": [
      "E:\\Projects\\Claims_Rejection\\src\\data_local.py:275: FutureWarning: Downcasting behavior in `replace` is deprecated and will be removed in a future version. To retain the old behavior, explicitly call `result.infer_objects(copy=False)`. To opt-in to the future behavior, set `pd.set_option('future.no_silent_downcasting', True)`\n",
      "  df[column] = df[column].replace(column_encoding)\n",
      "E:\\Projects\\Claims_Rejection\\src\\data_local.py:282: FutureWarning: Downcasting behavior in `replace` is deprecated and will be removed in a future version. To retain the old behavior, explicitly call `result.infer_objects(copy=False)`. To opt-in to the future behavior, set `pd.set_option('future.no_silent_downcasting', True)`\n",
      "  df['PatientAgeRange'] = df.PatientAgeRange.replace(age_encoding)\n",
      "E:\\Projects\\Claims_Rejection\\src\\data_local.py:275: FutureWarning: Downcasting behavior in `replace` is deprecated and will be removed in a future version. To retain the old behavior, explicitly call `result.infer_objects(copy=False)`. To opt-in to the future behavior, set `pd.set_option('future.no_silent_downcasting', True)`\n",
      "  df[column] = df[column].replace(column_encoding)\n",
      "E:\\Projects\\Claims_Rejection\\src\\data_local.py:282: FutureWarning: Downcasting behavior in `replace` is deprecated and will be removed in a future version. To retain the old behavior, explicitly call `result.infer_objects(copy=False)`. To opt-in to the future behavior, set `pd.set_option('future.no_silent_downcasting', True)`\n",
      "  df['PatientAgeRange'] = df.PatientAgeRange.replace(age_encoding)\n"
     ]
    },
    {
     "name": "stdout",
     "output_type": "stream",
     "text": [
      "[LightGBM] [Info] Number of positive: 10031, number of negative: 66975\n",
      "[LightGBM] [Info] Total Bins 6554\n",
      "[LightGBM] [Info] Number of data points in the train set: 77006, number of used features: 62\n",
      "[LightGBM] [Info] [binary:BoostFromScore]: pavg=0.130263 -> initscore=-1.898639\n",
      "[LightGBM] [Info] Start training from score -1.898639\n",
      "\n",
      "\n",
      "LightGBM, Decision Tree, SGD and Neural Network are trained on dataset.\n"
     ]
    },
    {
     "name": "stderr",
     "output_type": "stream",
     "text": [
      "E:\\Projects\\Claims_Rejection\\src\\model_train.py:59: RuntimeWarning: invalid value encountered in scalar divide\n",
      "  mod_f1 = (2*mod_precision*mod_recall) / (mod_precision+mod_recall)\n",
      "C:\\Users\\omar.mounir\\AppData\\Local\\Temp\\ipykernel_1648\\1808676347.py:60: FutureWarning: Setting an item of incompatible dtype is deprecated and will raise an error in a future version of pandas. Value '0.03420372254913673' has dtype incompatible with float32, please explicitly cast to a compatible dtype first.\n",
      "  model_features.loc[len(model_features)] = {'Column_name':'SERVICE_DESCRIPTION','Feature_importance':float(combined_sum)}\n",
      "C:\\Users\\omar.mounir\\AppData\\Local\\Temp\\ipykernel_1648\\1808676347.py:67: SettingWithCopyWarning: \n",
      "A value is trying to be set on a copy of a slice from a DataFrame\n",
      "\n",
      "See the caveats in the documentation: https://pandas.pydata.org/pandas-docs/stable/user_guide/indexing.html#returning-a-view-versus-a-copy\n",
      "  model_features.loc[len(model_features)] = {'Column_name':'ICD_10','Feature_importance':float(combined_sum)}\n",
      "C:\\Users\\omar.mounir\\AppData\\Local\\Temp\\ipykernel_1648\\1808676347.py:68: SettingWithCopyWarning: \n",
      "A value is trying to be set on a copy of a slice from a DataFrame\n",
      "\n",
      "See the caveats in the documentation: https://pandas.pydata.org/pandas-docs/stable/user_guide/indexing.html#returning-a-view-versus-a-copy\n",
      "  model_features.sort_values(by=['Feature_importance'],ascending=False,inplace=True)\n"
     ]
    }
   ],
   "source": [
    "error_value = 'SE-1-6'\n",
    "model_performance, model_features = analyze_error_code(error_value)"
   ],
   "metadata": {
    "collapsed": false,
    "ExecuteTime": {
     "end_time": "2024-08-22T13:45:04.768378200Z",
     "start_time": "2024-08-22T13:42:28.059907Z"
    }
   }
  },
  {
   "cell_type": "code",
   "execution_count": 14,
   "outputs": [
    {
     "name": "stdout",
     "output_type": "stream",
     "text": [
      "Training for SE-1-6, the model has: {'Accuracy': 0.99, 'Precision': 0.98, 'Recall': 0.97, 'F1 Score': 0.97}\n"
     ]
    }
   ],
   "source": [
    "print(f'Training for {error_value}, the model has: {model_performance}')"
   ],
   "metadata": {
    "collapsed": false,
    "ExecuteTime": {
     "end_time": "2024-08-22T13:45:04.776015100Z",
     "start_time": "2024-08-22T13:45:04.771370500Z"
    }
   }
  },
  {
   "cell_type": "code",
   "execution_count": 16,
   "outputs": [
    {
     "data": {
      "text/plain": "                 Column_name  Feature_importance\n30            PURCHASER_CODE            0.463636\n31               CONTRACT_NO            0.152568\n1                        QTY            0.043568\n28           DEPARTMENT_TYPE            0.036525\n50       SERVICE_DESCRIPTION            0.034204\n26          TOTAL_DEDUCTIBLE            0.032257\n35                    ICD_10            0.028425\n24  TOTAL_CLAIMED_AMOUNT_SAR            0.019450\n2    LINE_CLAIMED_AMOUNT_SAR            0.019218\n29            TREATMENT_TYPE            0.013412\n13       DISCOUNT_PERCENTAGE            0.013052\n16     DOCTOR_SPECIALTY_CODE            0.010622\n15  PROVIDER_DEPARTMENT_CODE            0.009893\n14       EMERGENCY_INDICATOR            0.009406\n4         LINE_ITEM_DISCOUNT            0.009146\n18               PATIENT_AGE            0.008833\n9                   DURATION            0.008567\n20       PATIENT_NATIONALITY            0.008400\n11    UNIT_PRICE_STOCKED_UOM            0.007939\n25            TOTAL_DISCOUNT            0.007744\n22            PATIENT_GENDER            0.007019\n5             NET_VAT_AMOUNT            0.006785\n7             VAT_PERCENTAGE            0.005684\n12            UNIT_PRICE_NET            0.005183\n23                CLAIM_TYPE            0.005124\n17               DOCTOR_CODE            0.004544\n0               NET_WITH_VAT            0.004355\n21    PATIENT_MARITAL_STATUS            0.003479\n10           QTY_STOCKED_UOM            0.003264\n3               CO_INSURANCE            0.003123\n27   TOTAL_PATIENT_VATAMOUNT            0.003116\n19               UNIT_OF_AGE            0.001945\n32                  NEW_BORN            0.001472\n6         PATIENT_VAT_AMOUNT            0.001376\n33           PatientAgeRange            0.000000\n8   TREATMENT_TYPE_INDICATOR            0.000000",
      "text/html": "<div>\n<style scoped>\n    .dataframe tbody tr th:only-of-type {\n        vertical-align: middle;\n    }\n\n    .dataframe tbody tr th {\n        vertical-align: top;\n    }\n\n    .dataframe thead th {\n        text-align: right;\n    }\n</style>\n<table border=\"1\" class=\"dataframe\">\n  <thead>\n    <tr style=\"text-align: right;\">\n      <th></th>\n      <th>Column_name</th>\n      <th>Feature_importance</th>\n    </tr>\n  </thead>\n  <tbody>\n    <tr>\n      <th>30</th>\n      <td>PURCHASER_CODE</td>\n      <td>0.463636</td>\n    </tr>\n    <tr>\n      <th>31</th>\n      <td>CONTRACT_NO</td>\n      <td>0.152568</td>\n    </tr>\n    <tr>\n      <th>1</th>\n      <td>QTY</td>\n      <td>0.043568</td>\n    </tr>\n    <tr>\n      <th>28</th>\n      <td>DEPARTMENT_TYPE</td>\n      <td>0.036525</td>\n    </tr>\n    <tr>\n      <th>50</th>\n      <td>SERVICE_DESCRIPTION</td>\n      <td>0.034204</td>\n    </tr>\n    <tr>\n      <th>26</th>\n      <td>TOTAL_DEDUCTIBLE</td>\n      <td>0.032257</td>\n    </tr>\n    <tr>\n      <th>35</th>\n      <td>ICD_10</td>\n      <td>0.028425</td>\n    </tr>\n    <tr>\n      <th>24</th>\n      <td>TOTAL_CLAIMED_AMOUNT_SAR</td>\n      <td>0.019450</td>\n    </tr>\n    <tr>\n      <th>2</th>\n      <td>LINE_CLAIMED_AMOUNT_SAR</td>\n      <td>0.019218</td>\n    </tr>\n    <tr>\n      <th>29</th>\n      <td>TREATMENT_TYPE</td>\n      <td>0.013412</td>\n    </tr>\n    <tr>\n      <th>13</th>\n      <td>DISCOUNT_PERCENTAGE</td>\n      <td>0.013052</td>\n    </tr>\n    <tr>\n      <th>16</th>\n      <td>DOCTOR_SPECIALTY_CODE</td>\n      <td>0.010622</td>\n    </tr>\n    <tr>\n      <th>15</th>\n      <td>PROVIDER_DEPARTMENT_CODE</td>\n      <td>0.009893</td>\n    </tr>\n    <tr>\n      <th>14</th>\n      <td>EMERGENCY_INDICATOR</td>\n      <td>0.009406</td>\n    </tr>\n    <tr>\n      <th>4</th>\n      <td>LINE_ITEM_DISCOUNT</td>\n      <td>0.009146</td>\n    </tr>\n    <tr>\n      <th>18</th>\n      <td>PATIENT_AGE</td>\n      <td>0.008833</td>\n    </tr>\n    <tr>\n      <th>9</th>\n      <td>DURATION</td>\n      <td>0.008567</td>\n    </tr>\n    <tr>\n      <th>20</th>\n      <td>PATIENT_NATIONALITY</td>\n      <td>0.008400</td>\n    </tr>\n    <tr>\n      <th>11</th>\n      <td>UNIT_PRICE_STOCKED_UOM</td>\n      <td>0.007939</td>\n    </tr>\n    <tr>\n      <th>25</th>\n      <td>TOTAL_DISCOUNT</td>\n      <td>0.007744</td>\n    </tr>\n    <tr>\n      <th>22</th>\n      <td>PATIENT_GENDER</td>\n      <td>0.007019</td>\n    </tr>\n    <tr>\n      <th>5</th>\n      <td>NET_VAT_AMOUNT</td>\n      <td>0.006785</td>\n    </tr>\n    <tr>\n      <th>7</th>\n      <td>VAT_PERCENTAGE</td>\n      <td>0.005684</td>\n    </tr>\n    <tr>\n      <th>12</th>\n      <td>UNIT_PRICE_NET</td>\n      <td>0.005183</td>\n    </tr>\n    <tr>\n      <th>23</th>\n      <td>CLAIM_TYPE</td>\n      <td>0.005124</td>\n    </tr>\n    <tr>\n      <th>17</th>\n      <td>DOCTOR_CODE</td>\n      <td>0.004544</td>\n    </tr>\n    <tr>\n      <th>0</th>\n      <td>NET_WITH_VAT</td>\n      <td>0.004355</td>\n    </tr>\n    <tr>\n      <th>21</th>\n      <td>PATIENT_MARITAL_STATUS</td>\n      <td>0.003479</td>\n    </tr>\n    <tr>\n      <th>10</th>\n      <td>QTY_STOCKED_UOM</td>\n      <td>0.003264</td>\n    </tr>\n    <tr>\n      <th>3</th>\n      <td>CO_INSURANCE</td>\n      <td>0.003123</td>\n    </tr>\n    <tr>\n      <th>27</th>\n      <td>TOTAL_PATIENT_VATAMOUNT</td>\n      <td>0.003116</td>\n    </tr>\n    <tr>\n      <th>19</th>\n      <td>UNIT_OF_AGE</td>\n      <td>0.001945</td>\n    </tr>\n    <tr>\n      <th>32</th>\n      <td>NEW_BORN</td>\n      <td>0.001472</td>\n    </tr>\n    <tr>\n      <th>6</th>\n      <td>PATIENT_VAT_AMOUNT</td>\n      <td>0.001376</td>\n    </tr>\n    <tr>\n      <th>33</th>\n      <td>PatientAgeRange</td>\n      <td>0.000000</td>\n    </tr>\n    <tr>\n      <th>8</th>\n      <td>TREATMENT_TYPE_INDICATOR</td>\n      <td>0.000000</td>\n    </tr>\n  </tbody>\n</table>\n</div>"
     },
     "execution_count": 16,
     "metadata": {},
     "output_type": "execute_result"
    }
   ],
   "source": [
    "model_features"
   ],
   "metadata": {
    "collapsed": false,
    "ExecuteTime": {
     "end_time": "2024-08-22T13:45:30.768127900Z",
     "start_time": "2024-08-22T13:45:30.725758400Z"
    }
   }
  },
  {
   "cell_type": "code",
   "execution_count": 11,
   "outputs": [
    {
     "name": "stderr",
     "output_type": "stream",
     "text": [
      "E:\\Projects\\Claims_Rejection\\src\\data_local.py:269: FutureWarning: Downcasting behavior in `replace` is deprecated and will be removed in a future version. To retain the old behavior, explicitly call `result.infer_objects(copy=False)`. To opt-in to the future behavior, set `pd.set_option('future.no_silent_downcasting', True)`\n",
      "  self.df['PatientAgeRange'] = self.df.PatientAgeRange.replace(age_encoding)\n",
      "E:\\Projects\\Claims_Rejection\\src\\data_local.py:269: FutureWarning: Downcasting behavior in `replace` is deprecated and will be removed in a future version. To retain the old behavior, explicitly call `result.infer_objects(copy=False)`. To opt-in to the future behavior, set `pd.set_option('future.no_silent_downcasting', True)`\n",
      "  self.df['PatientAgeRange'] = self.df.PatientAgeRange.replace(age_encoding)\n"
     ]
    },
    {
     "name": "stdout",
     "output_type": "stream",
     "text": [
      "[LightGBM] [Info] Number of positive: 1297, number of negative: 78392\n",
      "[LightGBM] [Info] Total Bins 5683\n",
      "[LightGBM] [Info] Number of data points in the train set: 79689, number of used features: 47\n",
      "[LightGBM] [Info] [binary:BoostFromScore]: pavg=0.016276 -> initscore=-4.101668\n",
      "[LightGBM] [Info] Start training from score -4.101668\n",
      "\n",
      "\n",
      "LightGBM, Decision Tree, SGD and Neural Network are trained on dataset.\n"
     ]
    },
    {
     "name": "stderr",
     "output_type": "stream",
     "text": [
      "E:\\Projects\\Claims_Rejection\\src\\model_train.py:59: RuntimeWarning: invalid value encountered in scalar divide\n",
      "  mod_f1 = (2*mod_precision*mod_recall) / (mod_precision+mod_recall)\n",
      "E:\\Projects\\Claims_Rejection\\src\\model_train.py:59: RuntimeWarning: invalid value encountered in scalar divide\n",
      "  mod_f1 = (2*mod_precision*mod_recall) / (mod_precision+mod_recall)\n",
      "C:\\Users\\omar.mounir\\AppData\\Local\\Temp\\ipykernel_11324\\3176289654.py:55: SettingWithCopyWarning: \n",
      "A value is trying to be set on a copy of a slice from a DataFrame\n",
      "\n",
      "See the caveats in the documentation: https://pandas.pydata.org/pandas-docs/stable/user_guide/indexing.html#returning-a-view-versus-a-copy\n",
      "  model_features.loc[len(model_features)] = {'Column_name':'SERVICE_DESCRIPTION','Feature_importance':float(combined_sum)}\n",
      "C:\\Users\\omar.mounir\\AppData\\Local\\Temp\\ipykernel_11324\\3176289654.py:56: SettingWithCopyWarning: \n",
      "A value is trying to be set on a copy of a slice from a DataFrame\n",
      "\n",
      "See the caveats in the documentation: https://pandas.pydata.org/pandas-docs/stable/user_guide/indexing.html#returning-a-view-versus-a-copy\n",
      "  model_features.sort_values(by=['Feature_importance'],ascending=False,inplace=True)\n"
     ]
    }
   ],
   "source": [
    "error_value = 'SE-1-8'\n",
    "model_performance, model_features = analyze_error_code(error_value)"
   ],
   "metadata": {
    "collapsed": false,
    "ExecuteTime": {
     "end_time": "2024-08-20T09:25:52.517429100Z",
     "start_time": "2024-08-20T09:24:58.999266500Z"
    }
   }
  },
  {
   "cell_type": "code",
   "execution_count": 12,
   "outputs": [
    {
     "name": "stdout",
     "output_type": "stream",
     "text": [
      "Training for SE-1-8, the model has: {'Accuracy': 0.98, 'Precision': 0.14, 'Recall': 0.04, 'F1 Score': 0.06}\n"
     ]
    }
   ],
   "source": [
    "print(f'Training for {error_value}, the model has: {model_performance}') ## data is extremely imbalanced\n",
    "## Predictive analytics couldn't be done"
   ],
   "metadata": {
    "collapsed": false,
    "ExecuteTime": {
     "end_time": "2024-08-20T09:25:52.582728700Z",
     "start_time": "2024-08-20T09:25:52.521419900Z"
    }
   }
  },
  {
   "cell_type": "code",
   "execution_count": 13,
   "outputs": [
    {
     "data": {
      "text/plain": "                 Column_name  Feature_importance\n27           DEPARTMENT_TYPE            0.447325\n29            PURCHASER_CODE            0.123270\n33       SERVICE_DESCRIPTION            0.047021\n19       PATIENT_NATIONALITY            0.046959\n14  PROVIDER_DEPARTMENT_CODE            0.042484\n24            TOTAL_DISCOUNT            0.040729\n16               DOCTOR_CODE            0.036699\n15     DOCTOR_SPECIALTY_CODE            0.029574\n23  TOTAL_CLAIMED_AMOUNT_SAR            0.028882\n17               PATIENT_AGE            0.026865\n8                   DURATION            0.019173\n18               UNIT_OF_AGE            0.017253\n4             NET_VAT_AMOUNT            0.015886\n20    PATIENT_MARITAL_STATUS            0.012161\n12       DISCOUNT_PERCENTAGE            0.010067\n6             VAT_PERCENTAGE            0.008807\n21            PATIENT_GENDER            0.008008\n13       EMERGENCY_INDICATOR            0.006975\n11            UNIT_PRICE_NET            0.006502\n28            TREATMENT_TYPE            0.005825\n0               NET_WITH_VAT            0.004693\n10    UNIT_PRICE_STOCKED_UOM            0.004224\n1                        QTY            0.004178\n3         LINE_ITEM_DISCOUNT            0.003133\n2    LINE_CLAIMED_AMOUNT_SAR            0.002567\n9            QTY_STOCKED_UOM            0.000739\n32           PatientAgeRange            0.000000\n25          TOTAL_DEDUCTIBLE            0.000000\n31                     ICD10            0.000000\n26   TOTAL_PATIENT_VATAMOUNT            0.000000\n7   TREATMENT_TYPE_INDICATOR            0.000000\n5         PATIENT_VAT_AMOUNT            0.000000\n22                CLAIM_TYPE            0.000000\n30                  NEW_BORN            0.000000",
      "text/html": "<div>\n<style scoped>\n    .dataframe tbody tr th:only-of-type {\n        vertical-align: middle;\n    }\n\n    .dataframe tbody tr th {\n        vertical-align: top;\n    }\n\n    .dataframe thead th {\n        text-align: right;\n    }\n</style>\n<table border=\"1\" class=\"dataframe\">\n  <thead>\n    <tr style=\"text-align: right;\">\n      <th></th>\n      <th>Column_name</th>\n      <th>Feature_importance</th>\n    </tr>\n  </thead>\n  <tbody>\n    <tr>\n      <th>27</th>\n      <td>DEPARTMENT_TYPE</td>\n      <td>0.447325</td>\n    </tr>\n    <tr>\n      <th>29</th>\n      <td>PURCHASER_CODE</td>\n      <td>0.123270</td>\n    </tr>\n    <tr>\n      <th>33</th>\n      <td>SERVICE_DESCRIPTION</td>\n      <td>0.047021</td>\n    </tr>\n    <tr>\n      <th>19</th>\n      <td>PATIENT_NATIONALITY</td>\n      <td>0.046959</td>\n    </tr>\n    <tr>\n      <th>14</th>\n      <td>PROVIDER_DEPARTMENT_CODE</td>\n      <td>0.042484</td>\n    </tr>\n    <tr>\n      <th>24</th>\n      <td>TOTAL_DISCOUNT</td>\n      <td>0.040729</td>\n    </tr>\n    <tr>\n      <th>16</th>\n      <td>DOCTOR_CODE</td>\n      <td>0.036699</td>\n    </tr>\n    <tr>\n      <th>15</th>\n      <td>DOCTOR_SPECIALTY_CODE</td>\n      <td>0.029574</td>\n    </tr>\n    <tr>\n      <th>23</th>\n      <td>TOTAL_CLAIMED_AMOUNT_SAR</td>\n      <td>0.028882</td>\n    </tr>\n    <tr>\n      <th>17</th>\n      <td>PATIENT_AGE</td>\n      <td>0.026865</td>\n    </tr>\n    <tr>\n      <th>8</th>\n      <td>DURATION</td>\n      <td>0.019173</td>\n    </tr>\n    <tr>\n      <th>18</th>\n      <td>UNIT_OF_AGE</td>\n      <td>0.017253</td>\n    </tr>\n    <tr>\n      <th>4</th>\n      <td>NET_VAT_AMOUNT</td>\n      <td>0.015886</td>\n    </tr>\n    <tr>\n      <th>20</th>\n      <td>PATIENT_MARITAL_STATUS</td>\n      <td>0.012161</td>\n    </tr>\n    <tr>\n      <th>12</th>\n      <td>DISCOUNT_PERCENTAGE</td>\n      <td>0.010067</td>\n    </tr>\n    <tr>\n      <th>6</th>\n      <td>VAT_PERCENTAGE</td>\n      <td>0.008807</td>\n    </tr>\n    <tr>\n      <th>21</th>\n      <td>PATIENT_GENDER</td>\n      <td>0.008008</td>\n    </tr>\n    <tr>\n      <th>13</th>\n      <td>EMERGENCY_INDICATOR</td>\n      <td>0.006975</td>\n    </tr>\n    <tr>\n      <th>11</th>\n      <td>UNIT_PRICE_NET</td>\n      <td>0.006502</td>\n    </tr>\n    <tr>\n      <th>28</th>\n      <td>TREATMENT_TYPE</td>\n      <td>0.005825</td>\n    </tr>\n    <tr>\n      <th>0</th>\n      <td>NET_WITH_VAT</td>\n      <td>0.004693</td>\n    </tr>\n    <tr>\n      <th>10</th>\n      <td>UNIT_PRICE_STOCKED_UOM</td>\n      <td>0.004224</td>\n    </tr>\n    <tr>\n      <th>1</th>\n      <td>QTY</td>\n      <td>0.004178</td>\n    </tr>\n    <tr>\n      <th>3</th>\n      <td>LINE_ITEM_DISCOUNT</td>\n      <td>0.003133</td>\n    </tr>\n    <tr>\n      <th>2</th>\n      <td>LINE_CLAIMED_AMOUNT_SAR</td>\n      <td>0.002567</td>\n    </tr>\n    <tr>\n      <th>9</th>\n      <td>QTY_STOCKED_UOM</td>\n      <td>0.000739</td>\n    </tr>\n    <tr>\n      <th>32</th>\n      <td>PatientAgeRange</td>\n      <td>0.000000</td>\n    </tr>\n    <tr>\n      <th>25</th>\n      <td>TOTAL_DEDUCTIBLE</td>\n      <td>0.000000</td>\n    </tr>\n    <tr>\n      <th>31</th>\n      <td>ICD10</td>\n      <td>0.000000</td>\n    </tr>\n    <tr>\n      <th>26</th>\n      <td>TOTAL_PATIENT_VATAMOUNT</td>\n      <td>0.000000</td>\n    </tr>\n    <tr>\n      <th>7</th>\n      <td>TREATMENT_TYPE_INDICATOR</td>\n      <td>0.000000</td>\n    </tr>\n    <tr>\n      <th>5</th>\n      <td>PATIENT_VAT_AMOUNT</td>\n      <td>0.000000</td>\n    </tr>\n    <tr>\n      <th>22</th>\n      <td>CLAIM_TYPE</td>\n      <td>0.000000</td>\n    </tr>\n    <tr>\n      <th>30</th>\n      <td>NEW_BORN</td>\n      <td>0.000000</td>\n    </tr>\n  </tbody>\n</table>\n</div>"
     },
     "execution_count": 13,
     "metadata": {},
     "output_type": "execute_result"
    }
   ],
   "source": [
    "model_features"
   ],
   "metadata": {
    "collapsed": false,
    "ExecuteTime": {
     "end_time": "2024-08-20T09:25:52.673637400Z",
     "start_time": "2024-08-20T09:25:52.550933700Z"
    }
   }
  },
  {
   "cell_type": "code",
   "execution_count": 4,
   "outputs": [
    {
     "name": "stderr",
     "output_type": "stream",
     "text": [
      "E:\\Projects\\Claims_Rejection\\src\\data_local.py:269: FutureWarning: Downcasting behavior in `replace` is deprecated and will be removed in a future version. To retain the old behavior, explicitly call `result.infer_objects(copy=False)`. To opt-in to the future behavior, set `pd.set_option('future.no_silent_downcasting', True)`\n",
      "  self.df['PatientAgeRange'] = self.df.PatientAgeRange.replace(age_encoding)\n",
      "E:\\Projects\\Claims_Rejection\\src\\data_local.py:269: FutureWarning: Downcasting behavior in `replace` is deprecated and will be removed in a future version. To retain the old behavior, explicitly call `result.infer_objects(copy=False)`. To opt-in to the future behavior, set `pd.set_option('future.no_silent_downcasting', True)`\n",
      "  self.df['PatientAgeRange'] = self.df.PatientAgeRange.replace(age_encoding)\n"
     ]
    },
    {
     "name": "stdout",
     "output_type": "stream",
     "text": [
      "[LightGBM] [Info] Number of positive: 17007, number of negative: 62682\n",
      "[LightGBM] [Info] Total Bins 6193\n",
      "[LightGBM] [Info] Number of data points in the train set: 79689, number of used features: 49\n",
      "[LightGBM] [Info] [binary:BoostFromScore]: pavg=0.213417 -> initscore=-1.304449\n",
      "[LightGBM] [Info] Start training from score -1.304449\n",
      "\n",
      "\n",
      "LightGBM, Decision Tree, SGD and Neural Network are trained on dataset.\n"
     ]
    },
    {
     "name": "stderr",
     "output_type": "stream",
     "text": [
      "C:\\Users\\omar.mounir\\AppData\\Local\\Temp\\ipykernel_9416\\3176289654.py:55: SettingWithCopyWarning: \n",
      "A value is trying to be set on a copy of a slice from a DataFrame\n",
      "\n",
      "See the caveats in the documentation: https://pandas.pydata.org/pandas-docs/stable/user_guide/indexing.html#returning-a-view-versus-a-copy\n",
      "  model_features.loc[len(model_features)] = {'Column_name':'SERVICE_DESCRIPTION','Feature_importance':float(combined_sum)}\n",
      "C:\\Users\\omar.mounir\\AppData\\Local\\Temp\\ipykernel_9416\\3176289654.py:56: SettingWithCopyWarning: \n",
      "A value is trying to be set on a copy of a slice from a DataFrame\n",
      "\n",
      "See the caveats in the documentation: https://pandas.pydata.org/pandas-docs/stable/user_guide/indexing.html#returning-a-view-versus-a-copy\n",
      "  model_features.sort_values(by=['Feature_importance'],ascending=False,inplace=True)\n",
      "E:\\Projects\\Claims_Rejection\\src\\data_local.py:269: FutureWarning: Downcasting behavior in `replace` is deprecated and will be removed in a future version. To retain the old behavior, explicitly call `result.infer_objects(copy=False)`. To opt-in to the future behavior, set `pd.set_option('future.no_silent_downcasting', True)`\n",
      "  self.df['PatientAgeRange'] = self.df.PatientAgeRange.replace(age_encoding)\n",
      "E:\\Projects\\Claims_Rejection\\src\\data_local.py:269: FutureWarning: Downcasting behavior in `replace` is deprecated and will be removed in a future version. To retain the old behavior, explicitly call `result.infer_objects(copy=False)`. To opt-in to the future behavior, set `pd.set_option('future.no_silent_downcasting', True)`\n",
      "  self.df['PatientAgeRange'] = self.df.PatientAgeRange.replace(age_encoding)\n"
     ]
    },
    {
     "name": "stdout",
     "output_type": "stream",
     "text": [
      "[LightGBM] [Info] Number of positive: 12461, number of negative: 67228\n",
      "[LightGBM] [Info] Total Bins 6193\n",
      "[LightGBM] [Info] Number of data points in the train set: 79689, number of used features: 49\n",
      "[LightGBM] [Info] [binary:BoostFromScore]: pavg=0.156370 -> initscore=-1.685486\n",
      "[LightGBM] [Info] Start training from score -1.685486\n",
      "\n",
      "\n",
      "LightGBM, Decision Tree, SGD and Neural Network are trained on dataset.\n"
     ]
    },
    {
     "name": "stderr",
     "output_type": "stream",
     "text": [
      "C:\\Users\\omar.mounir\\AppData\\Local\\Temp\\ipykernel_9416\\3176289654.py:55: SettingWithCopyWarning: \n",
      "A value is trying to be set on a copy of a slice from a DataFrame\n",
      "\n",
      "See the caveats in the documentation: https://pandas.pydata.org/pandas-docs/stable/user_guide/indexing.html#returning-a-view-versus-a-copy\n",
      "  model_features.loc[len(model_features)] = {'Column_name':'SERVICE_DESCRIPTION','Feature_importance':float(combined_sum)}\n",
      "C:\\Users\\omar.mounir\\AppData\\Local\\Temp\\ipykernel_9416\\3176289654.py:56: SettingWithCopyWarning: \n",
      "A value is trying to be set on a copy of a slice from a DataFrame\n",
      "\n",
      "See the caveats in the documentation: https://pandas.pydata.org/pandas-docs/stable/user_guide/indexing.html#returning-a-view-versus-a-copy\n",
      "  model_features.sort_values(by=['Feature_importance'],ascending=False,inplace=True)\n",
      "E:\\Projects\\Claims_Rejection\\src\\data_local.py:269: FutureWarning: Downcasting behavior in `replace` is deprecated and will be removed in a future version. To retain the old behavior, explicitly call `result.infer_objects(copy=False)`. To opt-in to the future behavior, set `pd.set_option('future.no_silent_downcasting', True)`\n",
      "  self.df['PatientAgeRange'] = self.df.PatientAgeRange.replace(age_encoding)\n",
      "E:\\Projects\\Claims_Rejection\\src\\data_local.py:269: FutureWarning: Downcasting behavior in `replace` is deprecated and will be removed in a future version. To retain the old behavior, explicitly call `result.infer_objects(copy=False)`. To opt-in to the future behavior, set `pd.set_option('future.no_silent_downcasting', True)`\n",
      "  self.df['PatientAgeRange'] = self.df.PatientAgeRange.replace(age_encoding)\n"
     ]
    },
    {
     "name": "stdout",
     "output_type": "stream",
     "text": [
      "[LightGBM] [Info] Number of positive: 10171, number of negative: 69518\n",
      "[LightGBM] [Info] Total Bins 6193\n",
      "[LightGBM] [Info] Number of data points in the train set: 79689, number of used features: 49\n",
      "[LightGBM] [Info] [binary:BoostFromScore]: pavg=0.127634 -> initscore=-1.922045\n",
      "[LightGBM] [Info] Start training from score -1.922045\n",
      "\n",
      "\n",
      "LightGBM, Decision Tree, SGD and Neural Network are trained on dataset.\n"
     ]
    },
    {
     "name": "stderr",
     "output_type": "stream",
     "text": [
      "C:\\Users\\omar.mounir\\AppData\\Local\\Temp\\ipykernel_9416\\3176289654.py:55: SettingWithCopyWarning: \n",
      "A value is trying to be set on a copy of a slice from a DataFrame\n",
      "\n",
      "See the caveats in the documentation: https://pandas.pydata.org/pandas-docs/stable/user_guide/indexing.html#returning-a-view-versus-a-copy\n",
      "  model_features.loc[len(model_features)] = {'Column_name':'SERVICE_DESCRIPTION','Feature_importance':float(combined_sum)}\n",
      "C:\\Users\\omar.mounir\\AppData\\Local\\Temp\\ipykernel_9416\\3176289654.py:56: SettingWithCopyWarning: \n",
      "A value is trying to be set on a copy of a slice from a DataFrame\n",
      "\n",
      "See the caveats in the documentation: https://pandas.pydata.org/pandas-docs/stable/user_guide/indexing.html#returning-a-view-versus-a-copy\n",
      "  model_features.sort_values(by=['Feature_importance'],ascending=False,inplace=True)\n",
      "E:\\Projects\\Claims_Rejection\\src\\data_local.py:269: FutureWarning: Downcasting behavior in `replace` is deprecated and will be removed in a future version. To retain the old behavior, explicitly call `result.infer_objects(copy=False)`. To opt-in to the future behavior, set `pd.set_option('future.no_silent_downcasting', True)`\n",
      "  self.df['PatientAgeRange'] = self.df.PatientAgeRange.replace(age_encoding)\n",
      "E:\\Projects\\Claims_Rejection\\src\\data_local.py:269: FutureWarning: Downcasting behavior in `replace` is deprecated and will be removed in a future version. To retain the old behavior, explicitly call `result.infer_objects(copy=False)`. To opt-in to the future behavior, set `pd.set_option('future.no_silent_downcasting', True)`\n",
      "  self.df['PatientAgeRange'] = self.df.PatientAgeRange.replace(age_encoding)\n"
     ]
    },
    {
     "name": "stdout",
     "output_type": "stream",
     "text": [
      "[LightGBM] [Info] Number of positive: 7636, number of negative: 72053\n",
      "[LightGBM] [Info] Total Bins 6193\n",
      "[LightGBM] [Info] Number of data points in the train set: 79689, number of used features: 49\n",
      "[LightGBM] [Info] [binary:BoostFromScore]: pavg=0.095823 -> initscore=-2.244528\n",
      "[LightGBM] [Info] Start training from score -2.244528\n",
      "\n",
      "\n",
      "LightGBM, Decision Tree, SGD and Neural Network are trained on dataset.\n"
     ]
    },
    {
     "name": "stderr",
     "output_type": "stream",
     "text": [
      "C:\\Users\\omar.mounir\\AppData\\Local\\Temp\\ipykernel_9416\\3176289654.py:55: SettingWithCopyWarning: \n",
      "A value is trying to be set on a copy of a slice from a DataFrame\n",
      "\n",
      "See the caveats in the documentation: https://pandas.pydata.org/pandas-docs/stable/user_guide/indexing.html#returning-a-view-versus-a-copy\n",
      "  model_features.loc[len(model_features)] = {'Column_name':'SERVICE_DESCRIPTION','Feature_importance':float(combined_sum)}\n",
      "C:\\Users\\omar.mounir\\AppData\\Local\\Temp\\ipykernel_9416\\3176289654.py:56: SettingWithCopyWarning: \n",
      "A value is trying to be set on a copy of a slice from a DataFrame\n",
      "\n",
      "See the caveats in the documentation: https://pandas.pydata.org/pandas-docs/stable/user_guide/indexing.html#returning-a-view-versus-a-copy\n",
      "  model_features.sort_values(by=['Feature_importance'],ascending=False,inplace=True)\n",
      "E:\\Projects\\Claims_Rejection\\src\\data_local.py:269: FutureWarning: Downcasting behavior in `replace` is deprecated and will be removed in a future version. To retain the old behavior, explicitly call `result.infer_objects(copy=False)`. To opt-in to the future behavior, set `pd.set_option('future.no_silent_downcasting', True)`\n",
      "  self.df['PatientAgeRange'] = self.df.PatientAgeRange.replace(age_encoding)\n",
      "E:\\Projects\\Claims_Rejection\\src\\data_local.py:269: FutureWarning: Downcasting behavior in `replace` is deprecated and will be removed in a future version. To retain the old behavior, explicitly call `result.infer_objects(copy=False)`. To opt-in to the future behavior, set `pd.set_option('future.no_silent_downcasting', True)`\n",
      "  self.df['PatientAgeRange'] = self.df.PatientAgeRange.replace(age_encoding)\n"
     ]
    },
    {
     "name": "stdout",
     "output_type": "stream",
     "text": [
      "[LightGBM] [Info] Number of positive: 2595, number of negative: 77094\n",
      "[LightGBM] [Info] Total Bins 6193\n",
      "[LightGBM] [Info] Number of data points in the train set: 79689, number of used features: 49\n",
      "[LightGBM] [Info] [binary:BoostFromScore]: pavg=0.032564 -> initscore=-3.391439\n",
      "[LightGBM] [Info] Start training from score -3.391439\n",
      "\n",
      "\n",
      "LightGBM, Decision Tree, SGD and Neural Network are trained on dataset.\n"
     ]
    },
    {
     "name": "stderr",
     "output_type": "stream",
     "text": [
      "E:\\Projects\\Claims_Rejection\\src\\model_train.py:59: RuntimeWarning: invalid value encountered in scalar divide\n",
      "  mod_f1 = (2*mod_precision*mod_recall) / (mod_precision+mod_recall)\n",
      "C:\\Users\\omar.mounir\\AppData\\Local\\Temp\\ipykernel_9416\\3176289654.py:55: SettingWithCopyWarning: \n",
      "A value is trying to be set on a copy of a slice from a DataFrame\n",
      "\n",
      "See the caveats in the documentation: https://pandas.pydata.org/pandas-docs/stable/user_guide/indexing.html#returning-a-view-versus-a-copy\n",
      "  model_features.loc[len(model_features)] = {'Column_name':'SERVICE_DESCRIPTION','Feature_importance':float(combined_sum)}\n",
      "C:\\Users\\omar.mounir\\AppData\\Local\\Temp\\ipykernel_9416\\3176289654.py:56: SettingWithCopyWarning: \n",
      "A value is trying to be set on a copy of a slice from a DataFrame\n",
      "\n",
      "See the caveats in the documentation: https://pandas.pydata.org/pandas-docs/stable/user_guide/indexing.html#returning-a-view-versus-a-copy\n",
      "  model_features.sort_values(by=['Feature_importance'],ascending=False,inplace=True)\n",
      "E:\\Projects\\Claims_Rejection\\src\\data_local.py:269: FutureWarning: Downcasting behavior in `replace` is deprecated and will be removed in a future version. To retain the old behavior, explicitly call `result.infer_objects(copy=False)`. To opt-in to the future behavior, set `pd.set_option('future.no_silent_downcasting', True)`\n",
      "  self.df['PatientAgeRange'] = self.df.PatientAgeRange.replace(age_encoding)\n",
      "E:\\Projects\\Claims_Rejection\\src\\data_local.py:269: FutureWarning: Downcasting behavior in `replace` is deprecated and will be removed in a future version. To retain the old behavior, explicitly call `result.infer_objects(copy=False)`. To opt-in to the future behavior, set `pd.set_option('future.no_silent_downcasting', True)`\n",
      "  self.df['PatientAgeRange'] = self.df.PatientAgeRange.replace(age_encoding)\n"
     ]
    },
    {
     "name": "stdout",
     "output_type": "stream",
     "text": [
      "[LightGBM] [Info] Number of positive: 1297, number of negative: 78392\n",
      "[LightGBM] [Info] Total Bins 6193\n",
      "[LightGBM] [Info] Number of data points in the train set: 79689, number of used features: 49\n",
      "[LightGBM] [Info] [binary:BoostFromScore]: pavg=0.016276 -> initscore=-4.101668\n",
      "[LightGBM] [Info] Start training from score -4.101668\n",
      "\n",
      "\n",
      "LightGBM, Decision Tree, SGD and Neural Network are trained on dataset.\n"
     ]
    },
    {
     "name": "stderr",
     "output_type": "stream",
     "text": [
      "E:\\Projects\\Claims_Rejection\\src\\model_train.py:59: RuntimeWarning: invalid value encountered in scalar divide\n",
      "  mod_f1 = (2*mod_precision*mod_recall) / (mod_precision+mod_recall)\n",
      "E:\\Projects\\Claims_Rejection\\venv\\lib\\site-packages\\sklearn\\metrics\\_classification.py:1509: UndefinedMetricWarning: Precision is ill-defined and being set to 0.0 due to no predicted samples. Use `zero_division` parameter to control this behavior.\n",
      "  _warn_prf(average, modifier, f\"{metric.capitalize()} is\", len(result))\n",
      "E:\\Projects\\Claims_Rejection\\src\\model_train.py:59: RuntimeWarning: invalid value encountered in scalar divide\n",
      "  mod_f1 = (2*mod_precision*mod_recall) / (mod_precision+mod_recall)\n",
      "C:\\Users\\omar.mounir\\AppData\\Local\\Temp\\ipykernel_9416\\3176289654.py:55: SettingWithCopyWarning: \n",
      "A value is trying to be set on a copy of a slice from a DataFrame\n",
      "\n",
      "See the caveats in the documentation: https://pandas.pydata.org/pandas-docs/stable/user_guide/indexing.html#returning-a-view-versus-a-copy\n",
      "  model_features.loc[len(model_features)] = {'Column_name':'SERVICE_DESCRIPTION','Feature_importance':float(combined_sum)}\n",
      "C:\\Users\\omar.mounir\\AppData\\Local\\Temp\\ipykernel_9416\\3176289654.py:56: SettingWithCopyWarning: \n",
      "A value is trying to be set on a copy of a slice from a DataFrame\n",
      "\n",
      "See the caveats in the documentation: https://pandas.pydata.org/pandas-docs/stable/user_guide/indexing.html#returning-a-view-versus-a-copy\n",
      "  model_features.sort_values(by=['Feature_importance'],ascending=False,inplace=True)\n"
     ]
    }
   ],
   "source": [
    "output_results_error('MN-1-1')\n",
    "output_results_error('CV-1-1')\n",
    "output_results_error('SE-1-6')\n",
    "output_results_error('BE-1-7')\n",
    "output_results_error('BE-1-4')\n",
    "output_results_error('SE-1-8')"
   ],
   "metadata": {
    "collapsed": false,
    "ExecuteTime": {
     "end_time": "2024-08-20T12:14:15.001587800Z",
     "start_time": "2024-08-20T12:09:10.275613500Z"
    }
   }
  },
  {
   "cell_type": "code",
   "execution_count": 5,
   "outputs": [
    {
     "name": "stderr",
     "output_type": "stream",
     "text": [
      "E:\\Projects\\Claims_Rejection\\src\\data_local.py:269: FutureWarning: Downcasting behavior in `replace` is deprecated and will be removed in a future version. To retain the old behavior, explicitly call `result.infer_objects(copy=False)`. To opt-in to the future behavior, set `pd.set_option('future.no_silent_downcasting', True)`\n",
      "  self.df['PatientAgeRange'] = self.df.PatientAgeRange.replace(age_encoding)\n",
      "E:\\Projects\\Claims_Rejection\\src\\data_local.py:269: FutureWarning: Downcasting behavior in `replace` is deprecated and will be removed in a future version. To retain the old behavior, explicitly call `result.infer_objects(copy=False)`. To opt-in to the future behavior, set `pd.set_option('future.no_silent_downcasting', True)`\n",
      "  self.df['PatientAgeRange'] = self.df.PatientAgeRange.replace(age_encoding)\n"
     ]
    },
    {
     "name": "stdout",
     "output_type": "stream",
     "text": [
      "[LightGBM] [Info] Number of positive: 3114, number of negative: 76575\n",
      "[LightGBM] [Info] Total Bins 6193\n",
      "[LightGBM] [Info] Number of data points in the train set: 79689, number of used features: 49\n",
      "[LightGBM] [Info] [binary:BoostFromScore]: pavg=0.039077 -> initscore=-3.202363\n",
      "[LightGBM] [Info] Start training from score -3.202363\n",
      "\n",
      "\n",
      "LightGBM, Decision Tree, SGD and Neural Network are trained on dataset.\n"
     ]
    },
    {
     "name": "stderr",
     "output_type": "stream",
     "text": [
      "C:\\Users\\omar.mounir\\AppData\\Local\\Temp\\ipykernel_9416\\3176289654.py:55: SettingWithCopyWarning: \n",
      "A value is trying to be set on a copy of a slice from a DataFrame\n",
      "\n",
      "See the caveats in the documentation: https://pandas.pydata.org/pandas-docs/stable/user_guide/indexing.html#returning-a-view-versus-a-copy\n",
      "  model_features.loc[len(model_features)] = {'Column_name':'SERVICE_DESCRIPTION','Feature_importance':float(combined_sum)}\n",
      "C:\\Users\\omar.mounir\\AppData\\Local\\Temp\\ipykernel_9416\\3176289654.py:56: SettingWithCopyWarning: \n",
      "A value is trying to be set on a copy of a slice from a DataFrame\n",
      "\n",
      "See the caveats in the documentation: https://pandas.pydata.org/pandas-docs/stable/user_guide/indexing.html#returning-a-view-versus-a-copy\n",
      "  model_features.sort_values(by=['Feature_importance'],ascending=False,inplace=True)\n",
      "E:\\Projects\\Claims_Rejection\\src\\data_local.py:269: FutureWarning: Downcasting behavior in `replace` is deprecated and will be removed in a future version. To retain the old behavior, explicitly call `result.infer_objects(copy=False)`. To opt-in to the future behavior, set `pd.set_option('future.no_silent_downcasting', True)`\n",
      "  self.df['PatientAgeRange'] = self.df.PatientAgeRange.replace(age_encoding)\n",
      "E:\\Projects\\Claims_Rejection\\src\\data_local.py:269: FutureWarning: Downcasting behavior in `replace` is deprecated and will be removed in a future version. To retain the old behavior, explicitly call `result.infer_objects(copy=False)`. To opt-in to the future behavior, set `pd.set_option('future.no_silent_downcasting', True)`\n",
      "  self.df['PatientAgeRange'] = self.df.PatientAgeRange.replace(age_encoding)\n"
     ]
    },
    {
     "name": "stdout",
     "output_type": "stream",
     "text": [
      "[LightGBM] [Info] Number of positive: 4125, number of negative: 75564\n",
      "[LightGBM] [Info] Total Bins 6193\n",
      "[LightGBM] [Info] Number of data points in the train set: 79689, number of used features: 49\n",
      "[LightGBM] [Info] [binary:BoostFromScore]: pavg=0.051764 -> initscore=-2.907914\n",
      "[LightGBM] [Info] Start training from score -2.907914\n",
      "\n",
      "\n",
      "LightGBM, Decision Tree, SGD and Neural Network are trained on dataset.\n"
     ]
    },
    {
     "name": "stderr",
     "output_type": "stream",
     "text": [
      "E:\\Projects\\Claims_Rejection\\src\\model_train.py:59: RuntimeWarning: invalid value encountered in scalar divide\n",
      "  mod_f1 = (2*mod_precision*mod_recall) / (mod_precision+mod_recall)\n",
      "E:\\Projects\\Claims_Rejection\\src\\model_train.py:59: RuntimeWarning: invalid value encountered in scalar divide\n",
      "  mod_f1 = (2*mod_precision*mod_recall) / (mod_precision+mod_recall)\n",
      "C:\\Users\\omar.mounir\\AppData\\Local\\Temp\\ipykernel_9416\\3176289654.py:55: SettingWithCopyWarning: \n",
      "A value is trying to be set on a copy of a slice from a DataFrame\n",
      "\n",
      "See the caveats in the documentation: https://pandas.pydata.org/pandas-docs/stable/user_guide/indexing.html#returning-a-view-versus-a-copy\n",
      "  model_features.loc[len(model_features)] = {'Column_name':'SERVICE_DESCRIPTION','Feature_importance':float(combined_sum)}\n",
      "C:\\Users\\omar.mounir\\AppData\\Local\\Temp\\ipykernel_9416\\3176289654.py:56: SettingWithCopyWarning: \n",
      "A value is trying to be set on a copy of a slice from a DataFrame\n",
      "\n",
      "See the caveats in the documentation: https://pandas.pydata.org/pandas-docs/stable/user_guide/indexing.html#returning-a-view-versus-a-copy\n",
      "  model_features.sort_values(by=['Feature_importance'],ascending=False,inplace=True)\n",
      "E:\\Projects\\Claims_Rejection\\src\\data_local.py:269: FutureWarning: Downcasting behavior in `replace` is deprecated and will be removed in a future version. To retain the old behavior, explicitly call `result.infer_objects(copy=False)`. To opt-in to the future behavior, set `pd.set_option('future.no_silent_downcasting', True)`\n",
      "  self.df['PatientAgeRange'] = self.df.PatientAgeRange.replace(age_encoding)\n",
      "E:\\Projects\\Claims_Rejection\\src\\data_local.py:269: FutureWarning: Downcasting behavior in `replace` is deprecated and will be removed in a future version. To retain the old behavior, explicitly call `result.infer_objects(copy=False)`. To opt-in to the future behavior, set `pd.set_option('future.no_silent_downcasting', True)`\n",
      "  self.df['PatientAgeRange'] = self.df.PatientAgeRange.replace(age_encoding)\n"
     ]
    },
    {
     "name": "stdout",
     "output_type": "stream",
     "text": [
      "[LightGBM] [Info] Number of positive: 4068, number of negative: 75621\n",
      "[LightGBM] [Info] Total Bins 6193\n",
      "[LightGBM] [Info] Number of data points in the train set: 79689, number of used features: 49\n",
      "[LightGBM] [Info] [binary:BoostFromScore]: pavg=0.051048 -> initscore=-2.922583\n",
      "[LightGBM] [Info] Start training from score -2.922583\n",
      "\n",
      "\n",
      "LightGBM, Decision Tree, SGD and Neural Network are trained on dataset.\n"
     ]
    },
    {
     "name": "stderr",
     "output_type": "stream",
     "text": [
      "E:\\Projects\\Claims_Rejection\\venv\\lib\\site-packages\\sklearn\\metrics\\_classification.py:1509: UndefinedMetricWarning: Precision is ill-defined and being set to 0.0 due to no predicted samples. Use `zero_division` parameter to control this behavior.\n",
      "  _warn_prf(average, modifier, f\"{metric.capitalize()} is\", len(result))\n",
      "E:\\Projects\\Claims_Rejection\\src\\model_train.py:59: RuntimeWarning: invalid value encountered in scalar divide\n",
      "  mod_f1 = (2*mod_precision*mod_recall) / (mod_precision+mod_recall)\n",
      "C:\\Users\\omar.mounir\\AppData\\Local\\Temp\\ipykernel_9416\\3176289654.py:55: SettingWithCopyWarning: \n",
      "A value is trying to be set on a copy of a slice from a DataFrame\n",
      "\n",
      "See the caveats in the documentation: https://pandas.pydata.org/pandas-docs/stable/user_guide/indexing.html#returning-a-view-versus-a-copy\n",
      "  model_features.loc[len(model_features)] = {'Column_name':'SERVICE_DESCRIPTION','Feature_importance':float(combined_sum)}\n",
      "C:\\Users\\omar.mounir\\AppData\\Local\\Temp\\ipykernel_9416\\3176289654.py:56: SettingWithCopyWarning: \n",
      "A value is trying to be set on a copy of a slice from a DataFrame\n",
      "\n",
      "See the caveats in the documentation: https://pandas.pydata.org/pandas-docs/stable/user_guide/indexing.html#returning-a-view-versus-a-copy\n",
      "  model_features.sort_values(by=['Feature_importance'],ascending=False,inplace=True)\n"
     ]
    }
   ],
   "source": [
    "output_results_error('BE-1-1')\n",
    "output_results_error('BE-1-3')\n",
    "output_results_error('BE-1-6')"
   ],
   "metadata": {
    "collapsed": false,
    "ExecuteTime": {
     "end_time": "2024-08-20T13:13:38.748981800Z",
     "start_time": "2024-08-20T13:12:05.269213600Z"
    }
   }
  },
  {
   "cell_type": "code",
   "execution_count": null,
   "outputs": [],
   "source": [],
   "metadata": {
    "collapsed": false
   }
  }
 ],
 "metadata": {
  "kernelspec": {
   "display_name": "Python 3",
   "language": "python",
   "name": "python3"
  },
  "language_info": {
   "codemirror_mode": {
    "name": "ipython",
    "version": 2
   },
   "file_extension": ".py",
   "mimetype": "text/x-python",
   "name": "python",
   "nbconvert_exporter": "python",
   "pygments_lexer": "ipython2",
   "version": "2.7.6"
  }
 },
 "nbformat": 4,
 "nbformat_minor": 0
}
