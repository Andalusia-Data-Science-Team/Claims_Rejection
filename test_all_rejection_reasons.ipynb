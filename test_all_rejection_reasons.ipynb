{
 "cells": [
  {
   "cell_type": "code",
   "execution_count": 1,
   "metadata": {
    "collapsed": true,
    "ExecuteTime": {
     "end_time": "2024-08-21T14:15:19.555182Z",
     "start_time": "2024-08-21T14:14:43.360990600Z"
    }
   },
   "outputs": [],
   "source": [
    "## re-run the rejection reason final model after that test\n",
    "from cashe import get_train_test_split, get_training_inputs, drop_nomodel_columns\n",
    "from src.model_app import ModelApplication, ModelApplicationDeployment\n",
    "from src.utilities_rejection import RejectionReasonLabeling\n",
    "from src.data_local import MergedDataPreprocessing\n",
    "from src.model_train import ModelTrainer\n",
    "import pandas as pd\n",
    "import numpy as np\n",
    "\n",
    "df_train, df_test = get_train_test_split('data/HJH/12-06-2024')\n",
    "df_train = df_train[df_train['OUTCOME'] !='APPROVED']\n",
    "df_test = df_test[df_test['OUTCOME'] !='APPROVED']\n",
    "\n",
    "train_rej = RejectionReasonLabeling(df_train)\n",
    "train_rej.recoginze_label()\n",
    "train_rej = RejectionReasonLabeling(df_test)\n",
    "train_rej.recoginze_label()\n",
    "\n",
    "def analyze_error_code(error_value):\n",
    "\n",
    "    df_train['NPHIES_LABEL'] = np.where(df_train['NPHIES_CODE'] == error_value, 1, 0)\n",
    "    df_test['NPHIES_LABEL']  = np.where( df_test['NPHIES_CODE']  == error_value, 1, 0)\n",
    "    X_train, y_train, X_test, y_test = get_training_inputs(df_train, df_test)\n",
    "    X_train = drop_nomodel_columns(X_train);  X_test = drop_nomodel_columns(X_test)\n",
    "    X_train.drop(columns=['NPHIES_CODE'],inplace=True); X_test.drop(columns=['NPHIES_CODE'],inplace=True)\n",
    "\n",
    "    preprocessing_train = MergedDataPreprocessing(X_train)\n",
    "    X_train_prep = preprocessing_train.columns_prep()\n",
    "\n",
    "    preprocessing_test = MergedDataPreprocessing(X_test)\n",
    "    X_test_prep = preprocessing_test.columns_prep()\n",
    "\n",
    "    X_train_encoded = preprocessing_train.column_embedding(X_train_prep)\n",
    "    X_test_encoded = preprocessing_train.column_embedding(X_test_prep)\n",
    "\n",
    "    X_train_encoded.fillna(0,inplace=True)\n",
    "    X_test_encoded.fillna(0,inplace=True)\n",
    "\n",
    "    model_runner = ModelTrainer(X_train=X_train_encoded,y_train=y_train['NPHIES_LABEL'],\n",
    "                                X_test=X_test_encoded,y_test=y_test['NPHIES_LABEL'])\n",
    "\n",
    "    model_runner.train_models()\n",
    "    result_analysis = model_runner.evaluate_models()\n",
    "    top_model_features = model_runner.get_xgboost_feature_importance()\n",
    "\n",
    "    features_df = pd.DataFrame({\"Column_name\":X_test_encoded.columns,\"Feature_importance\":top_model_features}).sort_values(\n",
    "        by=['Feature_importance'],ascending=False)\n",
    "    model_features = find_all_importances(features_df)\n",
    "    return result_analysis['XGBoost'], model_features\n",
    "\n",
    "def find_all_importances(model_features):\n",
    "    combined_text_rows = model_features[model_features['Column_name'].str.contains('CombinedText')]\n",
    "    combined_sum = sum(combined_text_rows['Feature_importance'])\n",
    "    model_features = model_features[~model_features['Column_name'].str.contains('CombinedText')]\n",
    "    model_features.loc[len(model_features)] = {'Column_name':'SERVICE_DESCRIPTION','Feature_importance':float(combined_sum)}\n",
    "    model_features.sort_values(by=['Feature_importance'],ascending=False,inplace=True)\n",
    "    return model_features"
   ]
  },
  {
   "cell_type": "code",
   "execution_count": 2,
   "outputs": [],
   "source": [
    "def output_results_error(error_value):\n",
    "    model_performance, model_features = analyze_error_code(error_value)\n",
    "    df = pd.DataFrame(list(model_performance.items()))\n",
    "    df.to_csv(f'data/Extras/2024_08_20/{error_value}_acc.csv',index=False)\n",
    "    model_features.to_csv(f'data/Extras/2024_08_20/{error_value}_feats.csv',index=False)"
   ],
   "metadata": {
    "collapsed": false,
    "ExecuteTime": {
     "end_time": "2024-08-21T14:15:19.570371500Z",
     "start_time": "2024-08-21T14:15:19.558174300Z"
    }
   }
  },
  {
   "cell_type": "code",
   "execution_count": null,
   "outputs": [
    {
     "name": "stdout",
     "output_type": "stream",
     "text": [
      "[LightGBM] [Info] Number of positive: 17007, number of negative: 62682\n",
      "[LightGBM] [Info] Total Bins 6216\n",
      "[LightGBM] [Info] Number of data points in the train set: 79689, number of used features: 50\n",
      "[LightGBM] [Info] [binary:BoostFromScore]: pavg=0.213417 -> initscore=-1.304449\n",
      "[LightGBM] [Info] Start training from score -1.304449\n"
     ]
    }
   ],
   "source": [
    "error_value = 'MN-1-1'\n",
    "model_performance, model_features = analyze_error_code(error_value)"
   ],
   "metadata": {
    "collapsed": false,
    "is_executing": true,
    "ExecuteTime": {
     "start_time": "2024-08-21T14:15:21.863297400Z"
    }
   }
  },
  {
   "cell_type": "code",
   "execution_count": null,
   "outputs": [],
   "source": [
    "print(f'Training for {error_value}, the model has: {model_performance}')"
   ],
   "metadata": {
    "collapsed": false,
    "is_executing": true
   }
  },
  {
   "cell_type": "code",
   "execution_count": null,
   "outputs": [],
   "source": [
    "print(model_features)"
   ],
   "metadata": {
    "collapsed": false,
    "is_executing": true
   }
  },
  {
   "cell_type": "code",
   "execution_count": 5,
   "outputs": [
    {
     "name": "stderr",
     "output_type": "stream",
     "text": [
      "E:\\Projects\\Claims_Rejection\\src\\data_local.py:269: FutureWarning: Downcasting behavior in `replace` is deprecated and will be removed in a future version. To retain the old behavior, explicitly call `result.infer_objects(copy=False)`. To opt-in to the future behavior, set `pd.set_option('future.no_silent_downcasting', True)`\n",
      "  self.df['PatientAgeRange'] = self.df.PatientAgeRange.replace(age_encoding)\n",
      "E:\\Projects\\Claims_Rejection\\src\\data_local.py:269: FutureWarning: Downcasting behavior in `replace` is deprecated and will be removed in a future version. To retain the old behavior, explicitly call `result.infer_objects(copy=False)`. To opt-in to the future behavior, set `pd.set_option('future.no_silent_downcasting', True)`\n",
      "  self.df['PatientAgeRange'] = self.df.PatientAgeRange.replace(age_encoding)\n"
     ]
    },
    {
     "name": "stdout",
     "output_type": "stream",
     "text": [
      "[LightGBM] [Info] Number of positive: 12461, number of negative: 67228\n",
      "[LightGBM] [Info] Total Bins 5683\n",
      "[LightGBM] [Info] Number of data points in the train set: 79689, number of used features: 47\n",
      "[LightGBM] [Info] [binary:BoostFromScore]: pavg=0.156370 -> initscore=-1.685486\n",
      "[LightGBM] [Info] Start training from score -1.685486\n",
      "\n",
      "\n",
      "LightGBM, Decision Tree, SGD and Neural Network are trained on dataset.\n"
     ]
    },
    {
     "name": "stderr",
     "output_type": "stream",
     "text": [
      "C:\\Users\\omar.mounir\\AppData\\Local\\Temp\\ipykernel_11324\\3176289654.py:55: SettingWithCopyWarning: \n",
      "A value is trying to be set on a copy of a slice from a DataFrame\n",
      "\n",
      "See the caveats in the documentation: https://pandas.pydata.org/pandas-docs/stable/user_guide/indexing.html#returning-a-view-versus-a-copy\n",
      "  model_features.loc[len(model_features)] = {'Column_name':'SERVICE_DESCRIPTION','Feature_importance':float(combined_sum)}\n",
      "C:\\Users\\omar.mounir\\AppData\\Local\\Temp\\ipykernel_11324\\3176289654.py:56: SettingWithCopyWarning: \n",
      "A value is trying to be set on a copy of a slice from a DataFrame\n",
      "\n",
      "See the caveats in the documentation: https://pandas.pydata.org/pandas-docs/stable/user_guide/indexing.html#returning-a-view-versus-a-copy\n",
      "  model_features.sort_values(by=['Feature_importance'],ascending=False,inplace=True)\n"
     ]
    }
   ],
   "source": [
    "error_value = 'CV-1-1'\n",
    "model_performance, model_features = analyze_error_code(error_value)"
   ],
   "metadata": {
    "collapsed": false,
    "ExecuteTime": {
     "end_time": "2024-08-20T09:22:53.116203200Z",
     "start_time": "2024-08-20T09:22:12.083728100Z"
    }
   }
  },
  {
   "cell_type": "code",
   "execution_count": 6,
   "outputs": [
    {
     "name": "stdout",
     "output_type": "stream",
     "text": [
      "Training for CV-1-1, the model has: {'Accuracy': 0.92, 'Precision': 0.73, 'Recall': 0.81, 'F1 Score': 0.77}\n"
     ]
    }
   ],
   "source": [
    "print(f'Training for {error_value}, the model has: {model_performance}')"
   ],
   "metadata": {
    "collapsed": false,
    "ExecuteTime": {
     "end_time": "2024-08-20T09:22:53.189445500Z",
     "start_time": "2024-08-20T09:22:53.117200800Z"
    }
   }
  },
  {
   "cell_type": "code",
   "execution_count": 7,
   "outputs": [
    {
     "data": {
      "text/plain": "                 Column_name  Feature_importance\n29            PURCHASER_CODE            0.307840\n28            TREATMENT_TYPE            0.114707\n27           DEPARTMENT_TYPE            0.109626\n19       PATIENT_NATIONALITY            0.091035\n33       SERVICE_DESCRIPTION            0.059344\n13       EMERGENCY_INDICATOR            0.054303\n12       DISCOUNT_PERCENTAGE            0.052148\n15     DOCTOR_SPECIALTY_CODE            0.020894\n24            TOTAL_DISCOUNT            0.018247\n23  TOTAL_CLAIMED_AMOUNT_SAR            0.016802\n22                CLAIM_TYPE            0.015692\n17               PATIENT_AGE            0.014197\n16               DOCTOR_CODE            0.013482\n20    PATIENT_MARITAL_STATUS            0.012683\n14  PROVIDER_DEPARTMENT_CODE            0.011328\n25          TOTAL_DEDUCTIBLE            0.010713\n26   TOTAL_PATIENT_VATAMOUNT            0.008495\n21            PATIENT_GENDER            0.007648\n4             NET_VAT_AMOUNT            0.006265\n3         LINE_ITEM_DISCOUNT            0.006158\n18               UNIT_OF_AGE            0.005806\n5         PATIENT_VAT_AMOUNT            0.005622\n1                        QTY            0.005253\n8                   DURATION            0.005202\n30                  NEW_BORN            0.005158\n10    UNIT_PRICE_STOCKED_UOM            0.005045\n11            UNIT_PRICE_NET            0.004425\n0               NET_WITH_VAT            0.004382\n2    LINE_CLAIMED_AMOUNT_SAR            0.004012\n9            QTY_STOCKED_UOM            0.003488\n32           PatientAgeRange            0.000000\n6             VAT_PERCENTAGE            0.000000\n7   TREATMENT_TYPE_INDICATOR            0.000000\n31                     ICD10            0.000000",
      "text/html": "<div>\n<style scoped>\n    .dataframe tbody tr th:only-of-type {\n        vertical-align: middle;\n    }\n\n    .dataframe tbody tr th {\n        vertical-align: top;\n    }\n\n    .dataframe thead th {\n        text-align: right;\n    }\n</style>\n<table border=\"1\" class=\"dataframe\">\n  <thead>\n    <tr style=\"text-align: right;\">\n      <th></th>\n      <th>Column_name</th>\n      <th>Feature_importance</th>\n    </tr>\n  </thead>\n  <tbody>\n    <tr>\n      <th>29</th>\n      <td>PURCHASER_CODE</td>\n      <td>0.307840</td>\n    </tr>\n    <tr>\n      <th>28</th>\n      <td>TREATMENT_TYPE</td>\n      <td>0.114707</td>\n    </tr>\n    <tr>\n      <th>27</th>\n      <td>DEPARTMENT_TYPE</td>\n      <td>0.109626</td>\n    </tr>\n    <tr>\n      <th>19</th>\n      <td>PATIENT_NATIONALITY</td>\n      <td>0.091035</td>\n    </tr>\n    <tr>\n      <th>33</th>\n      <td>SERVICE_DESCRIPTION</td>\n      <td>0.059344</td>\n    </tr>\n    <tr>\n      <th>13</th>\n      <td>EMERGENCY_INDICATOR</td>\n      <td>0.054303</td>\n    </tr>\n    <tr>\n      <th>12</th>\n      <td>DISCOUNT_PERCENTAGE</td>\n      <td>0.052148</td>\n    </tr>\n    <tr>\n      <th>15</th>\n      <td>DOCTOR_SPECIALTY_CODE</td>\n      <td>0.020894</td>\n    </tr>\n    <tr>\n      <th>24</th>\n      <td>TOTAL_DISCOUNT</td>\n      <td>0.018247</td>\n    </tr>\n    <tr>\n      <th>23</th>\n      <td>TOTAL_CLAIMED_AMOUNT_SAR</td>\n      <td>0.016802</td>\n    </tr>\n    <tr>\n      <th>22</th>\n      <td>CLAIM_TYPE</td>\n      <td>0.015692</td>\n    </tr>\n    <tr>\n      <th>17</th>\n      <td>PATIENT_AGE</td>\n      <td>0.014197</td>\n    </tr>\n    <tr>\n      <th>16</th>\n      <td>DOCTOR_CODE</td>\n      <td>0.013482</td>\n    </tr>\n    <tr>\n      <th>20</th>\n      <td>PATIENT_MARITAL_STATUS</td>\n      <td>0.012683</td>\n    </tr>\n    <tr>\n      <th>14</th>\n      <td>PROVIDER_DEPARTMENT_CODE</td>\n      <td>0.011328</td>\n    </tr>\n    <tr>\n      <th>25</th>\n      <td>TOTAL_DEDUCTIBLE</td>\n      <td>0.010713</td>\n    </tr>\n    <tr>\n      <th>26</th>\n      <td>TOTAL_PATIENT_VATAMOUNT</td>\n      <td>0.008495</td>\n    </tr>\n    <tr>\n      <th>21</th>\n      <td>PATIENT_GENDER</td>\n      <td>0.007648</td>\n    </tr>\n    <tr>\n      <th>4</th>\n      <td>NET_VAT_AMOUNT</td>\n      <td>0.006265</td>\n    </tr>\n    <tr>\n      <th>3</th>\n      <td>LINE_ITEM_DISCOUNT</td>\n      <td>0.006158</td>\n    </tr>\n    <tr>\n      <th>18</th>\n      <td>UNIT_OF_AGE</td>\n      <td>0.005806</td>\n    </tr>\n    <tr>\n      <th>5</th>\n      <td>PATIENT_VAT_AMOUNT</td>\n      <td>0.005622</td>\n    </tr>\n    <tr>\n      <th>1</th>\n      <td>QTY</td>\n      <td>0.005253</td>\n    </tr>\n    <tr>\n      <th>8</th>\n      <td>DURATION</td>\n      <td>0.005202</td>\n    </tr>\n    <tr>\n      <th>30</th>\n      <td>NEW_BORN</td>\n      <td>0.005158</td>\n    </tr>\n    <tr>\n      <th>10</th>\n      <td>UNIT_PRICE_STOCKED_UOM</td>\n      <td>0.005045</td>\n    </tr>\n    <tr>\n      <th>11</th>\n      <td>UNIT_PRICE_NET</td>\n      <td>0.004425</td>\n    </tr>\n    <tr>\n      <th>0</th>\n      <td>NET_WITH_VAT</td>\n      <td>0.004382</td>\n    </tr>\n    <tr>\n      <th>2</th>\n      <td>LINE_CLAIMED_AMOUNT_SAR</td>\n      <td>0.004012</td>\n    </tr>\n    <tr>\n      <th>9</th>\n      <td>QTY_STOCKED_UOM</td>\n      <td>0.003488</td>\n    </tr>\n    <tr>\n      <th>32</th>\n      <td>PatientAgeRange</td>\n      <td>0.000000</td>\n    </tr>\n    <tr>\n      <th>6</th>\n      <td>VAT_PERCENTAGE</td>\n      <td>0.000000</td>\n    </tr>\n    <tr>\n      <th>7</th>\n      <td>TREATMENT_TYPE_INDICATOR</td>\n      <td>0.000000</td>\n    </tr>\n    <tr>\n      <th>31</th>\n      <td>ICD10</td>\n      <td>0.000000</td>\n    </tr>\n  </tbody>\n</table>\n</div>"
     },
     "execution_count": 7,
     "metadata": {},
     "output_type": "execute_result"
    }
   ],
   "source": [
    "model_features"
   ],
   "metadata": {
    "collapsed": false,
    "ExecuteTime": {
     "end_time": "2024-08-20T09:22:53.325150900Z",
     "start_time": "2024-08-20T09:22:53.147708100Z"
    }
   }
  },
  {
   "cell_type": "code",
   "execution_count": 8,
   "outputs": [
    {
     "name": "stderr",
     "output_type": "stream",
     "text": [
      "E:\\Projects\\Claims_Rejection\\src\\data_local.py:269: FutureWarning: Downcasting behavior in `replace` is deprecated and will be removed in a future version. To retain the old behavior, explicitly call `result.infer_objects(copy=False)`. To opt-in to the future behavior, set `pd.set_option('future.no_silent_downcasting', True)`\n",
      "  self.df['PatientAgeRange'] = self.df.PatientAgeRange.replace(age_encoding)\n",
      "E:\\Projects\\Claims_Rejection\\src\\data_local.py:269: FutureWarning: Downcasting behavior in `replace` is deprecated and will be removed in a future version. To retain the old behavior, explicitly call `result.infer_objects(copy=False)`. To opt-in to the future behavior, set `pd.set_option('future.no_silent_downcasting', True)`\n",
      "  self.df['PatientAgeRange'] = self.df.PatientAgeRange.replace(age_encoding)\n"
     ]
    },
    {
     "name": "stdout",
     "output_type": "stream",
     "text": [
      "[LightGBM] [Info] Number of positive: 10171, number of negative: 69518\n",
      "[LightGBM] [Info] Total Bins 5683\n",
      "[LightGBM] [Info] Number of data points in the train set: 79689, number of used features: 47\n",
      "[LightGBM] [Info] [binary:BoostFromScore]: pavg=0.127634 -> initscore=-1.922045\n",
      "[LightGBM] [Info] Start training from score -1.922045\n"
     ]
    },
    {
     "name": "stderr",
     "output_type": "stream",
     "text": [
      "E:\\Projects\\Claims_Rejection\\venv\\lib\\site-packages\\sklearn\\neural_network\\_multilayer_perceptron.py:691: ConvergenceWarning: Stochastic Optimizer: Maximum iterations (200) reached and the optimization hasn't converged yet.\n",
      "  warnings.warn(\n"
     ]
    },
    {
     "name": "stdout",
     "output_type": "stream",
     "text": [
      "\n",
      "\n",
      "LightGBM, Decision Tree, SGD and Neural Network are trained on dataset.\n"
     ]
    },
    {
     "name": "stderr",
     "output_type": "stream",
     "text": [
      "C:\\Users\\omar.mounir\\AppData\\Local\\Temp\\ipykernel_11324\\3176289654.py:55: SettingWithCopyWarning: \n",
      "A value is trying to be set on a copy of a slice from a DataFrame\n",
      "\n",
      "See the caveats in the documentation: https://pandas.pydata.org/pandas-docs/stable/user_guide/indexing.html#returning-a-view-versus-a-copy\n",
      "  model_features.loc[len(model_features)] = {'Column_name':'SERVICE_DESCRIPTION','Feature_importance':float(combined_sum)}\n",
      "C:\\Users\\omar.mounir\\AppData\\Local\\Temp\\ipykernel_11324\\3176289654.py:56: SettingWithCopyWarning: \n",
      "A value is trying to be set on a copy of a slice from a DataFrame\n",
      "\n",
      "See the caveats in the documentation: https://pandas.pydata.org/pandas-docs/stable/user_guide/indexing.html#returning-a-view-versus-a-copy\n",
      "  model_features.sort_values(by=['Feature_importance'],ascending=False,inplace=True)\n"
     ]
    }
   ],
   "source": [
    "error_value = 'SE-1-6'\n",
    "model_performance, model_features = analyze_error_code(error_value)"
   ],
   "metadata": {
    "collapsed": false,
    "ExecuteTime": {
     "end_time": "2024-08-20T09:24:58.867379700Z",
     "start_time": "2024-08-20T09:23:04.593780100Z"
    }
   }
  },
  {
   "cell_type": "code",
   "execution_count": 9,
   "outputs": [
    {
     "name": "stdout",
     "output_type": "stream",
     "text": [
      "Training for SE-1-6, the model has: {'Accuracy': 0.96, 'Precision': 0.92, 'Recall': 0.77, 'F1 Score': 0.84}\n"
     ]
    }
   ],
   "source": [
    "print(f'Training for {error_value}, the model has: {model_performance}')"
   ],
   "metadata": {
    "collapsed": false,
    "ExecuteTime": {
     "end_time": "2024-08-20T09:24:58.873706700Z",
     "start_time": "2024-08-20T09:24:58.870374900Z"
    }
   }
  },
  {
   "cell_type": "code",
   "execution_count": 10,
   "outputs": [
    {
     "data": {
      "text/plain": "                 Column_name  Feature_importance\n29            PURCHASER_CODE            0.506960\n33       SERVICE_DESCRIPTION            0.074825\n19       PATIENT_NATIONALITY            0.068148\n26   TOTAL_PATIENT_VATAMOUNT            0.033929\n1                        QTY            0.030968\n27           DEPARTMENT_TYPE            0.022640\n15     DOCTOR_SPECIALTY_CODE            0.020823\n23  TOTAL_CLAIMED_AMOUNT_SAR            0.018652\n25          TOTAL_DEDUCTIBLE            0.018374\n2    LINE_CLAIMED_AMOUNT_SAR            0.015629\n17               PATIENT_AGE            0.015407\n12       DISCOUNT_PERCENTAGE            0.013288\n18               UNIT_OF_AGE            0.012494\n21            PATIENT_GENDER            0.012101\n28            TREATMENT_TYPE            0.011908\n24            TOTAL_DISCOUNT            0.011886\n14  PROVIDER_DEPARTMENT_CODE            0.011375\n13       EMERGENCY_INDICATOR            0.011188\n3         LINE_ITEM_DISCOUNT            0.010637\n16               DOCTOR_CODE            0.010200\n8                   DURATION            0.009748\n10    UNIT_PRICE_STOCKED_UOM            0.009051\n0               NET_WITH_VAT            0.007831\n20    PATIENT_MARITAL_STATUS            0.007188\n4             NET_VAT_AMOUNT            0.007049\n6             VAT_PERCENTAGE            0.006816\n11            UNIT_PRICE_NET            0.006587\n22                CLAIM_TYPE            0.004895\n5         PATIENT_VAT_AMOUNT            0.003444\n30                  NEW_BORN            0.003020\n9            QTY_STOCKED_UOM            0.002937\n7   TREATMENT_TYPE_INDICATOR            0.000000\n32           PatientAgeRange            0.000000\n31                     ICD10            0.000000",
      "text/html": "<div>\n<style scoped>\n    .dataframe tbody tr th:only-of-type {\n        vertical-align: middle;\n    }\n\n    .dataframe tbody tr th {\n        vertical-align: top;\n    }\n\n    .dataframe thead th {\n        text-align: right;\n    }\n</style>\n<table border=\"1\" class=\"dataframe\">\n  <thead>\n    <tr style=\"text-align: right;\">\n      <th></th>\n      <th>Column_name</th>\n      <th>Feature_importance</th>\n    </tr>\n  </thead>\n  <tbody>\n    <tr>\n      <th>29</th>\n      <td>PURCHASER_CODE</td>\n      <td>0.506960</td>\n    </tr>\n    <tr>\n      <th>33</th>\n      <td>SERVICE_DESCRIPTION</td>\n      <td>0.074825</td>\n    </tr>\n    <tr>\n      <th>19</th>\n      <td>PATIENT_NATIONALITY</td>\n      <td>0.068148</td>\n    </tr>\n    <tr>\n      <th>26</th>\n      <td>TOTAL_PATIENT_VATAMOUNT</td>\n      <td>0.033929</td>\n    </tr>\n    <tr>\n      <th>1</th>\n      <td>QTY</td>\n      <td>0.030968</td>\n    </tr>\n    <tr>\n      <th>27</th>\n      <td>DEPARTMENT_TYPE</td>\n      <td>0.022640</td>\n    </tr>\n    <tr>\n      <th>15</th>\n      <td>DOCTOR_SPECIALTY_CODE</td>\n      <td>0.020823</td>\n    </tr>\n    <tr>\n      <th>23</th>\n      <td>TOTAL_CLAIMED_AMOUNT_SAR</td>\n      <td>0.018652</td>\n    </tr>\n    <tr>\n      <th>25</th>\n      <td>TOTAL_DEDUCTIBLE</td>\n      <td>0.018374</td>\n    </tr>\n    <tr>\n      <th>2</th>\n      <td>LINE_CLAIMED_AMOUNT_SAR</td>\n      <td>0.015629</td>\n    </tr>\n    <tr>\n      <th>17</th>\n      <td>PATIENT_AGE</td>\n      <td>0.015407</td>\n    </tr>\n    <tr>\n      <th>12</th>\n      <td>DISCOUNT_PERCENTAGE</td>\n      <td>0.013288</td>\n    </tr>\n    <tr>\n      <th>18</th>\n      <td>UNIT_OF_AGE</td>\n      <td>0.012494</td>\n    </tr>\n    <tr>\n      <th>21</th>\n      <td>PATIENT_GENDER</td>\n      <td>0.012101</td>\n    </tr>\n    <tr>\n      <th>28</th>\n      <td>TREATMENT_TYPE</td>\n      <td>0.011908</td>\n    </tr>\n    <tr>\n      <th>24</th>\n      <td>TOTAL_DISCOUNT</td>\n      <td>0.011886</td>\n    </tr>\n    <tr>\n      <th>14</th>\n      <td>PROVIDER_DEPARTMENT_CODE</td>\n      <td>0.011375</td>\n    </tr>\n    <tr>\n      <th>13</th>\n      <td>EMERGENCY_INDICATOR</td>\n      <td>0.011188</td>\n    </tr>\n    <tr>\n      <th>3</th>\n      <td>LINE_ITEM_DISCOUNT</td>\n      <td>0.010637</td>\n    </tr>\n    <tr>\n      <th>16</th>\n      <td>DOCTOR_CODE</td>\n      <td>0.010200</td>\n    </tr>\n    <tr>\n      <th>8</th>\n      <td>DURATION</td>\n      <td>0.009748</td>\n    </tr>\n    <tr>\n      <th>10</th>\n      <td>UNIT_PRICE_STOCKED_UOM</td>\n      <td>0.009051</td>\n    </tr>\n    <tr>\n      <th>0</th>\n      <td>NET_WITH_VAT</td>\n      <td>0.007831</td>\n    </tr>\n    <tr>\n      <th>20</th>\n      <td>PATIENT_MARITAL_STATUS</td>\n      <td>0.007188</td>\n    </tr>\n    <tr>\n      <th>4</th>\n      <td>NET_VAT_AMOUNT</td>\n      <td>0.007049</td>\n    </tr>\n    <tr>\n      <th>6</th>\n      <td>VAT_PERCENTAGE</td>\n      <td>0.006816</td>\n    </tr>\n    <tr>\n      <th>11</th>\n      <td>UNIT_PRICE_NET</td>\n      <td>0.006587</td>\n    </tr>\n    <tr>\n      <th>22</th>\n      <td>CLAIM_TYPE</td>\n      <td>0.004895</td>\n    </tr>\n    <tr>\n      <th>5</th>\n      <td>PATIENT_VAT_AMOUNT</td>\n      <td>0.003444</td>\n    </tr>\n    <tr>\n      <th>30</th>\n      <td>NEW_BORN</td>\n      <td>0.003020</td>\n    </tr>\n    <tr>\n      <th>9</th>\n      <td>QTY_STOCKED_UOM</td>\n      <td>0.002937</td>\n    </tr>\n    <tr>\n      <th>7</th>\n      <td>TREATMENT_TYPE_INDICATOR</td>\n      <td>0.000000</td>\n    </tr>\n    <tr>\n      <th>32</th>\n      <td>PatientAgeRange</td>\n      <td>0.000000</td>\n    </tr>\n    <tr>\n      <th>31</th>\n      <td>ICD10</td>\n      <td>0.000000</td>\n    </tr>\n  </tbody>\n</table>\n</div>"
     },
     "execution_count": 10,
     "metadata": {},
     "output_type": "execute_result"
    }
   ],
   "source": [
    "model_features"
   ],
   "metadata": {
    "collapsed": false,
    "ExecuteTime": {
     "end_time": "2024-08-20T09:24:58.998268Z",
     "start_time": "2024-08-20T09:24:58.873706700Z"
    }
   }
  },
  {
   "cell_type": "code",
   "execution_count": 11,
   "outputs": [
    {
     "name": "stderr",
     "output_type": "stream",
     "text": [
      "E:\\Projects\\Claims_Rejection\\src\\data_local.py:269: FutureWarning: Downcasting behavior in `replace` is deprecated and will be removed in a future version. To retain the old behavior, explicitly call `result.infer_objects(copy=False)`. To opt-in to the future behavior, set `pd.set_option('future.no_silent_downcasting', True)`\n",
      "  self.df['PatientAgeRange'] = self.df.PatientAgeRange.replace(age_encoding)\n",
      "E:\\Projects\\Claims_Rejection\\src\\data_local.py:269: FutureWarning: Downcasting behavior in `replace` is deprecated and will be removed in a future version. To retain the old behavior, explicitly call `result.infer_objects(copy=False)`. To opt-in to the future behavior, set `pd.set_option('future.no_silent_downcasting', True)`\n",
      "  self.df['PatientAgeRange'] = self.df.PatientAgeRange.replace(age_encoding)\n"
     ]
    },
    {
     "name": "stdout",
     "output_type": "stream",
     "text": [
      "[LightGBM] [Info] Number of positive: 1297, number of negative: 78392\n",
      "[LightGBM] [Info] Total Bins 5683\n",
      "[LightGBM] [Info] Number of data points in the train set: 79689, number of used features: 47\n",
      "[LightGBM] [Info] [binary:BoostFromScore]: pavg=0.016276 -> initscore=-4.101668\n",
      "[LightGBM] [Info] Start training from score -4.101668\n",
      "\n",
      "\n",
      "LightGBM, Decision Tree, SGD and Neural Network are trained on dataset.\n"
     ]
    },
    {
     "name": "stderr",
     "output_type": "stream",
     "text": [
      "E:\\Projects\\Claims_Rejection\\src\\model_train.py:59: RuntimeWarning: invalid value encountered in scalar divide\n",
      "  mod_f1 = (2*mod_precision*mod_recall) / (mod_precision+mod_recall)\n",
      "E:\\Projects\\Claims_Rejection\\src\\model_train.py:59: RuntimeWarning: invalid value encountered in scalar divide\n",
      "  mod_f1 = (2*mod_precision*mod_recall) / (mod_precision+mod_recall)\n",
      "C:\\Users\\omar.mounir\\AppData\\Local\\Temp\\ipykernel_11324\\3176289654.py:55: SettingWithCopyWarning: \n",
      "A value is trying to be set on a copy of a slice from a DataFrame\n",
      "\n",
      "See the caveats in the documentation: https://pandas.pydata.org/pandas-docs/stable/user_guide/indexing.html#returning-a-view-versus-a-copy\n",
      "  model_features.loc[len(model_features)] = {'Column_name':'SERVICE_DESCRIPTION','Feature_importance':float(combined_sum)}\n",
      "C:\\Users\\omar.mounir\\AppData\\Local\\Temp\\ipykernel_11324\\3176289654.py:56: SettingWithCopyWarning: \n",
      "A value is trying to be set on a copy of a slice from a DataFrame\n",
      "\n",
      "See the caveats in the documentation: https://pandas.pydata.org/pandas-docs/stable/user_guide/indexing.html#returning-a-view-versus-a-copy\n",
      "  model_features.sort_values(by=['Feature_importance'],ascending=False,inplace=True)\n"
     ]
    }
   ],
   "source": [
    "error_value = 'SE-1-8'\n",
    "model_performance, model_features = analyze_error_code(error_value)"
   ],
   "metadata": {
    "collapsed": false,
    "ExecuteTime": {
     "end_time": "2024-08-20T09:25:52.517429100Z",
     "start_time": "2024-08-20T09:24:58.999266500Z"
    }
   }
  },
  {
   "cell_type": "code",
   "execution_count": 12,
   "outputs": [
    {
     "name": "stdout",
     "output_type": "stream",
     "text": [
      "Training for SE-1-8, the model has: {'Accuracy': 0.98, 'Precision': 0.14, 'Recall': 0.04, 'F1 Score': 0.06}\n"
     ]
    }
   ],
   "source": [
    "print(f'Training for {error_value}, the model has: {model_performance}') ## data is extremely imbalanced\n",
    "## Predictive analytics couldn't be done"
   ],
   "metadata": {
    "collapsed": false,
    "ExecuteTime": {
     "end_time": "2024-08-20T09:25:52.582728700Z",
     "start_time": "2024-08-20T09:25:52.521419900Z"
    }
   }
  },
  {
   "cell_type": "code",
   "execution_count": 13,
   "outputs": [
    {
     "data": {
      "text/plain": "                 Column_name  Feature_importance\n27           DEPARTMENT_TYPE            0.447325\n29            PURCHASER_CODE            0.123270\n33       SERVICE_DESCRIPTION            0.047021\n19       PATIENT_NATIONALITY            0.046959\n14  PROVIDER_DEPARTMENT_CODE            0.042484\n24            TOTAL_DISCOUNT            0.040729\n16               DOCTOR_CODE            0.036699\n15     DOCTOR_SPECIALTY_CODE            0.029574\n23  TOTAL_CLAIMED_AMOUNT_SAR            0.028882\n17               PATIENT_AGE            0.026865\n8                   DURATION            0.019173\n18               UNIT_OF_AGE            0.017253\n4             NET_VAT_AMOUNT            0.015886\n20    PATIENT_MARITAL_STATUS            0.012161\n12       DISCOUNT_PERCENTAGE            0.010067\n6             VAT_PERCENTAGE            0.008807\n21            PATIENT_GENDER            0.008008\n13       EMERGENCY_INDICATOR            0.006975\n11            UNIT_PRICE_NET            0.006502\n28            TREATMENT_TYPE            0.005825\n0               NET_WITH_VAT            0.004693\n10    UNIT_PRICE_STOCKED_UOM            0.004224\n1                        QTY            0.004178\n3         LINE_ITEM_DISCOUNT            0.003133\n2    LINE_CLAIMED_AMOUNT_SAR            0.002567\n9            QTY_STOCKED_UOM            0.000739\n32           PatientAgeRange            0.000000\n25          TOTAL_DEDUCTIBLE            0.000000\n31                     ICD10            0.000000\n26   TOTAL_PATIENT_VATAMOUNT            0.000000\n7   TREATMENT_TYPE_INDICATOR            0.000000\n5         PATIENT_VAT_AMOUNT            0.000000\n22                CLAIM_TYPE            0.000000\n30                  NEW_BORN            0.000000",
      "text/html": "<div>\n<style scoped>\n    .dataframe tbody tr th:only-of-type {\n        vertical-align: middle;\n    }\n\n    .dataframe tbody tr th {\n        vertical-align: top;\n    }\n\n    .dataframe thead th {\n        text-align: right;\n    }\n</style>\n<table border=\"1\" class=\"dataframe\">\n  <thead>\n    <tr style=\"text-align: right;\">\n      <th></th>\n      <th>Column_name</th>\n      <th>Feature_importance</th>\n    </tr>\n  </thead>\n  <tbody>\n    <tr>\n      <th>27</th>\n      <td>DEPARTMENT_TYPE</td>\n      <td>0.447325</td>\n    </tr>\n    <tr>\n      <th>29</th>\n      <td>PURCHASER_CODE</td>\n      <td>0.123270</td>\n    </tr>\n    <tr>\n      <th>33</th>\n      <td>SERVICE_DESCRIPTION</td>\n      <td>0.047021</td>\n    </tr>\n    <tr>\n      <th>19</th>\n      <td>PATIENT_NATIONALITY</td>\n      <td>0.046959</td>\n    </tr>\n    <tr>\n      <th>14</th>\n      <td>PROVIDER_DEPARTMENT_CODE</td>\n      <td>0.042484</td>\n    </tr>\n    <tr>\n      <th>24</th>\n      <td>TOTAL_DISCOUNT</td>\n      <td>0.040729</td>\n    </tr>\n    <tr>\n      <th>16</th>\n      <td>DOCTOR_CODE</td>\n      <td>0.036699</td>\n    </tr>\n    <tr>\n      <th>15</th>\n      <td>DOCTOR_SPECIALTY_CODE</td>\n      <td>0.029574</td>\n    </tr>\n    <tr>\n      <th>23</th>\n      <td>TOTAL_CLAIMED_AMOUNT_SAR</td>\n      <td>0.028882</td>\n    </tr>\n    <tr>\n      <th>17</th>\n      <td>PATIENT_AGE</td>\n      <td>0.026865</td>\n    </tr>\n    <tr>\n      <th>8</th>\n      <td>DURATION</td>\n      <td>0.019173</td>\n    </tr>\n    <tr>\n      <th>18</th>\n      <td>UNIT_OF_AGE</td>\n      <td>0.017253</td>\n    </tr>\n    <tr>\n      <th>4</th>\n      <td>NET_VAT_AMOUNT</td>\n      <td>0.015886</td>\n    </tr>\n    <tr>\n      <th>20</th>\n      <td>PATIENT_MARITAL_STATUS</td>\n      <td>0.012161</td>\n    </tr>\n    <tr>\n      <th>12</th>\n      <td>DISCOUNT_PERCENTAGE</td>\n      <td>0.010067</td>\n    </tr>\n    <tr>\n      <th>6</th>\n      <td>VAT_PERCENTAGE</td>\n      <td>0.008807</td>\n    </tr>\n    <tr>\n      <th>21</th>\n      <td>PATIENT_GENDER</td>\n      <td>0.008008</td>\n    </tr>\n    <tr>\n      <th>13</th>\n      <td>EMERGENCY_INDICATOR</td>\n      <td>0.006975</td>\n    </tr>\n    <tr>\n      <th>11</th>\n      <td>UNIT_PRICE_NET</td>\n      <td>0.006502</td>\n    </tr>\n    <tr>\n      <th>28</th>\n      <td>TREATMENT_TYPE</td>\n      <td>0.005825</td>\n    </tr>\n    <tr>\n      <th>0</th>\n      <td>NET_WITH_VAT</td>\n      <td>0.004693</td>\n    </tr>\n    <tr>\n      <th>10</th>\n      <td>UNIT_PRICE_STOCKED_UOM</td>\n      <td>0.004224</td>\n    </tr>\n    <tr>\n      <th>1</th>\n      <td>QTY</td>\n      <td>0.004178</td>\n    </tr>\n    <tr>\n      <th>3</th>\n      <td>LINE_ITEM_DISCOUNT</td>\n      <td>0.003133</td>\n    </tr>\n    <tr>\n      <th>2</th>\n      <td>LINE_CLAIMED_AMOUNT_SAR</td>\n      <td>0.002567</td>\n    </tr>\n    <tr>\n      <th>9</th>\n      <td>QTY_STOCKED_UOM</td>\n      <td>0.000739</td>\n    </tr>\n    <tr>\n      <th>32</th>\n      <td>PatientAgeRange</td>\n      <td>0.000000</td>\n    </tr>\n    <tr>\n      <th>25</th>\n      <td>TOTAL_DEDUCTIBLE</td>\n      <td>0.000000</td>\n    </tr>\n    <tr>\n      <th>31</th>\n      <td>ICD10</td>\n      <td>0.000000</td>\n    </tr>\n    <tr>\n      <th>26</th>\n      <td>TOTAL_PATIENT_VATAMOUNT</td>\n      <td>0.000000</td>\n    </tr>\n    <tr>\n      <th>7</th>\n      <td>TREATMENT_TYPE_INDICATOR</td>\n      <td>0.000000</td>\n    </tr>\n    <tr>\n      <th>5</th>\n      <td>PATIENT_VAT_AMOUNT</td>\n      <td>0.000000</td>\n    </tr>\n    <tr>\n      <th>22</th>\n      <td>CLAIM_TYPE</td>\n      <td>0.000000</td>\n    </tr>\n    <tr>\n      <th>30</th>\n      <td>NEW_BORN</td>\n      <td>0.000000</td>\n    </tr>\n  </tbody>\n</table>\n</div>"
     },
     "execution_count": 13,
     "metadata": {},
     "output_type": "execute_result"
    }
   ],
   "source": [
    "model_features"
   ],
   "metadata": {
    "collapsed": false,
    "ExecuteTime": {
     "end_time": "2024-08-20T09:25:52.673637400Z",
     "start_time": "2024-08-20T09:25:52.550933700Z"
    }
   }
  },
  {
   "cell_type": "code",
   "execution_count": 4,
   "outputs": [
    {
     "name": "stderr",
     "output_type": "stream",
     "text": [
      "E:\\Projects\\Claims_Rejection\\src\\data_local.py:269: FutureWarning: Downcasting behavior in `replace` is deprecated and will be removed in a future version. To retain the old behavior, explicitly call `result.infer_objects(copy=False)`. To opt-in to the future behavior, set `pd.set_option('future.no_silent_downcasting', True)`\n",
      "  self.df['PatientAgeRange'] = self.df.PatientAgeRange.replace(age_encoding)\n",
      "E:\\Projects\\Claims_Rejection\\src\\data_local.py:269: FutureWarning: Downcasting behavior in `replace` is deprecated and will be removed in a future version. To retain the old behavior, explicitly call `result.infer_objects(copy=False)`. To opt-in to the future behavior, set `pd.set_option('future.no_silent_downcasting', True)`\n",
      "  self.df['PatientAgeRange'] = self.df.PatientAgeRange.replace(age_encoding)\n"
     ]
    },
    {
     "name": "stdout",
     "output_type": "stream",
     "text": [
      "[LightGBM] [Info] Number of positive: 17007, number of negative: 62682\n",
      "[LightGBM] [Info] Total Bins 6193\n",
      "[LightGBM] [Info] Number of data points in the train set: 79689, number of used features: 49\n",
      "[LightGBM] [Info] [binary:BoostFromScore]: pavg=0.213417 -> initscore=-1.304449\n",
      "[LightGBM] [Info] Start training from score -1.304449\n",
      "\n",
      "\n",
      "LightGBM, Decision Tree, SGD and Neural Network are trained on dataset.\n"
     ]
    },
    {
     "name": "stderr",
     "output_type": "stream",
     "text": [
      "C:\\Users\\omar.mounir\\AppData\\Local\\Temp\\ipykernel_9416\\3176289654.py:55: SettingWithCopyWarning: \n",
      "A value is trying to be set on a copy of a slice from a DataFrame\n",
      "\n",
      "See the caveats in the documentation: https://pandas.pydata.org/pandas-docs/stable/user_guide/indexing.html#returning-a-view-versus-a-copy\n",
      "  model_features.loc[len(model_features)] = {'Column_name':'SERVICE_DESCRIPTION','Feature_importance':float(combined_sum)}\n",
      "C:\\Users\\omar.mounir\\AppData\\Local\\Temp\\ipykernel_9416\\3176289654.py:56: SettingWithCopyWarning: \n",
      "A value is trying to be set on a copy of a slice from a DataFrame\n",
      "\n",
      "See the caveats in the documentation: https://pandas.pydata.org/pandas-docs/stable/user_guide/indexing.html#returning-a-view-versus-a-copy\n",
      "  model_features.sort_values(by=['Feature_importance'],ascending=False,inplace=True)\n",
      "E:\\Projects\\Claims_Rejection\\src\\data_local.py:269: FutureWarning: Downcasting behavior in `replace` is deprecated and will be removed in a future version. To retain the old behavior, explicitly call `result.infer_objects(copy=False)`. To opt-in to the future behavior, set `pd.set_option('future.no_silent_downcasting', True)`\n",
      "  self.df['PatientAgeRange'] = self.df.PatientAgeRange.replace(age_encoding)\n",
      "E:\\Projects\\Claims_Rejection\\src\\data_local.py:269: FutureWarning: Downcasting behavior in `replace` is deprecated and will be removed in a future version. To retain the old behavior, explicitly call `result.infer_objects(copy=False)`. To opt-in to the future behavior, set `pd.set_option('future.no_silent_downcasting', True)`\n",
      "  self.df['PatientAgeRange'] = self.df.PatientAgeRange.replace(age_encoding)\n"
     ]
    },
    {
     "name": "stdout",
     "output_type": "stream",
     "text": [
      "[LightGBM] [Info] Number of positive: 12461, number of negative: 67228\n",
      "[LightGBM] [Info] Total Bins 6193\n",
      "[LightGBM] [Info] Number of data points in the train set: 79689, number of used features: 49\n",
      "[LightGBM] [Info] [binary:BoostFromScore]: pavg=0.156370 -> initscore=-1.685486\n",
      "[LightGBM] [Info] Start training from score -1.685486\n",
      "\n",
      "\n",
      "LightGBM, Decision Tree, SGD and Neural Network are trained on dataset.\n"
     ]
    },
    {
     "name": "stderr",
     "output_type": "stream",
     "text": [
      "C:\\Users\\omar.mounir\\AppData\\Local\\Temp\\ipykernel_9416\\3176289654.py:55: SettingWithCopyWarning: \n",
      "A value is trying to be set on a copy of a slice from a DataFrame\n",
      "\n",
      "See the caveats in the documentation: https://pandas.pydata.org/pandas-docs/stable/user_guide/indexing.html#returning-a-view-versus-a-copy\n",
      "  model_features.loc[len(model_features)] = {'Column_name':'SERVICE_DESCRIPTION','Feature_importance':float(combined_sum)}\n",
      "C:\\Users\\omar.mounir\\AppData\\Local\\Temp\\ipykernel_9416\\3176289654.py:56: SettingWithCopyWarning: \n",
      "A value is trying to be set on a copy of a slice from a DataFrame\n",
      "\n",
      "See the caveats in the documentation: https://pandas.pydata.org/pandas-docs/stable/user_guide/indexing.html#returning-a-view-versus-a-copy\n",
      "  model_features.sort_values(by=['Feature_importance'],ascending=False,inplace=True)\n",
      "E:\\Projects\\Claims_Rejection\\src\\data_local.py:269: FutureWarning: Downcasting behavior in `replace` is deprecated and will be removed in a future version. To retain the old behavior, explicitly call `result.infer_objects(copy=False)`. To opt-in to the future behavior, set `pd.set_option('future.no_silent_downcasting', True)`\n",
      "  self.df['PatientAgeRange'] = self.df.PatientAgeRange.replace(age_encoding)\n",
      "E:\\Projects\\Claims_Rejection\\src\\data_local.py:269: FutureWarning: Downcasting behavior in `replace` is deprecated and will be removed in a future version. To retain the old behavior, explicitly call `result.infer_objects(copy=False)`. To opt-in to the future behavior, set `pd.set_option('future.no_silent_downcasting', True)`\n",
      "  self.df['PatientAgeRange'] = self.df.PatientAgeRange.replace(age_encoding)\n"
     ]
    },
    {
     "name": "stdout",
     "output_type": "stream",
     "text": [
      "[LightGBM] [Info] Number of positive: 10171, number of negative: 69518\n",
      "[LightGBM] [Info] Total Bins 6193\n",
      "[LightGBM] [Info] Number of data points in the train set: 79689, number of used features: 49\n",
      "[LightGBM] [Info] [binary:BoostFromScore]: pavg=0.127634 -> initscore=-1.922045\n",
      "[LightGBM] [Info] Start training from score -1.922045\n",
      "\n",
      "\n",
      "LightGBM, Decision Tree, SGD and Neural Network are trained on dataset.\n"
     ]
    },
    {
     "name": "stderr",
     "output_type": "stream",
     "text": [
      "C:\\Users\\omar.mounir\\AppData\\Local\\Temp\\ipykernel_9416\\3176289654.py:55: SettingWithCopyWarning: \n",
      "A value is trying to be set on a copy of a slice from a DataFrame\n",
      "\n",
      "See the caveats in the documentation: https://pandas.pydata.org/pandas-docs/stable/user_guide/indexing.html#returning-a-view-versus-a-copy\n",
      "  model_features.loc[len(model_features)] = {'Column_name':'SERVICE_DESCRIPTION','Feature_importance':float(combined_sum)}\n",
      "C:\\Users\\omar.mounir\\AppData\\Local\\Temp\\ipykernel_9416\\3176289654.py:56: SettingWithCopyWarning: \n",
      "A value is trying to be set on a copy of a slice from a DataFrame\n",
      "\n",
      "See the caveats in the documentation: https://pandas.pydata.org/pandas-docs/stable/user_guide/indexing.html#returning-a-view-versus-a-copy\n",
      "  model_features.sort_values(by=['Feature_importance'],ascending=False,inplace=True)\n",
      "E:\\Projects\\Claims_Rejection\\src\\data_local.py:269: FutureWarning: Downcasting behavior in `replace` is deprecated and will be removed in a future version. To retain the old behavior, explicitly call `result.infer_objects(copy=False)`. To opt-in to the future behavior, set `pd.set_option('future.no_silent_downcasting', True)`\n",
      "  self.df['PatientAgeRange'] = self.df.PatientAgeRange.replace(age_encoding)\n",
      "E:\\Projects\\Claims_Rejection\\src\\data_local.py:269: FutureWarning: Downcasting behavior in `replace` is deprecated and will be removed in a future version. To retain the old behavior, explicitly call `result.infer_objects(copy=False)`. To opt-in to the future behavior, set `pd.set_option('future.no_silent_downcasting', True)`\n",
      "  self.df['PatientAgeRange'] = self.df.PatientAgeRange.replace(age_encoding)\n"
     ]
    },
    {
     "name": "stdout",
     "output_type": "stream",
     "text": [
      "[LightGBM] [Info] Number of positive: 7636, number of negative: 72053\n",
      "[LightGBM] [Info] Total Bins 6193\n",
      "[LightGBM] [Info] Number of data points in the train set: 79689, number of used features: 49\n",
      "[LightGBM] [Info] [binary:BoostFromScore]: pavg=0.095823 -> initscore=-2.244528\n",
      "[LightGBM] [Info] Start training from score -2.244528\n",
      "\n",
      "\n",
      "LightGBM, Decision Tree, SGD and Neural Network are trained on dataset.\n"
     ]
    },
    {
     "name": "stderr",
     "output_type": "stream",
     "text": [
      "C:\\Users\\omar.mounir\\AppData\\Local\\Temp\\ipykernel_9416\\3176289654.py:55: SettingWithCopyWarning: \n",
      "A value is trying to be set on a copy of a slice from a DataFrame\n",
      "\n",
      "See the caveats in the documentation: https://pandas.pydata.org/pandas-docs/stable/user_guide/indexing.html#returning-a-view-versus-a-copy\n",
      "  model_features.loc[len(model_features)] = {'Column_name':'SERVICE_DESCRIPTION','Feature_importance':float(combined_sum)}\n",
      "C:\\Users\\omar.mounir\\AppData\\Local\\Temp\\ipykernel_9416\\3176289654.py:56: SettingWithCopyWarning: \n",
      "A value is trying to be set on a copy of a slice from a DataFrame\n",
      "\n",
      "See the caveats in the documentation: https://pandas.pydata.org/pandas-docs/stable/user_guide/indexing.html#returning-a-view-versus-a-copy\n",
      "  model_features.sort_values(by=['Feature_importance'],ascending=False,inplace=True)\n",
      "E:\\Projects\\Claims_Rejection\\src\\data_local.py:269: FutureWarning: Downcasting behavior in `replace` is deprecated and will be removed in a future version. To retain the old behavior, explicitly call `result.infer_objects(copy=False)`. To opt-in to the future behavior, set `pd.set_option('future.no_silent_downcasting', True)`\n",
      "  self.df['PatientAgeRange'] = self.df.PatientAgeRange.replace(age_encoding)\n",
      "E:\\Projects\\Claims_Rejection\\src\\data_local.py:269: FutureWarning: Downcasting behavior in `replace` is deprecated and will be removed in a future version. To retain the old behavior, explicitly call `result.infer_objects(copy=False)`. To opt-in to the future behavior, set `pd.set_option('future.no_silent_downcasting', True)`\n",
      "  self.df['PatientAgeRange'] = self.df.PatientAgeRange.replace(age_encoding)\n"
     ]
    },
    {
     "name": "stdout",
     "output_type": "stream",
     "text": [
      "[LightGBM] [Info] Number of positive: 2595, number of negative: 77094\n",
      "[LightGBM] [Info] Total Bins 6193\n",
      "[LightGBM] [Info] Number of data points in the train set: 79689, number of used features: 49\n",
      "[LightGBM] [Info] [binary:BoostFromScore]: pavg=0.032564 -> initscore=-3.391439\n",
      "[LightGBM] [Info] Start training from score -3.391439\n",
      "\n",
      "\n",
      "LightGBM, Decision Tree, SGD and Neural Network are trained on dataset.\n"
     ]
    },
    {
     "name": "stderr",
     "output_type": "stream",
     "text": [
      "E:\\Projects\\Claims_Rejection\\src\\model_train.py:59: RuntimeWarning: invalid value encountered in scalar divide\n",
      "  mod_f1 = (2*mod_precision*mod_recall) / (mod_precision+mod_recall)\n",
      "C:\\Users\\omar.mounir\\AppData\\Local\\Temp\\ipykernel_9416\\3176289654.py:55: SettingWithCopyWarning: \n",
      "A value is trying to be set on a copy of a slice from a DataFrame\n",
      "\n",
      "See the caveats in the documentation: https://pandas.pydata.org/pandas-docs/stable/user_guide/indexing.html#returning-a-view-versus-a-copy\n",
      "  model_features.loc[len(model_features)] = {'Column_name':'SERVICE_DESCRIPTION','Feature_importance':float(combined_sum)}\n",
      "C:\\Users\\omar.mounir\\AppData\\Local\\Temp\\ipykernel_9416\\3176289654.py:56: SettingWithCopyWarning: \n",
      "A value is trying to be set on a copy of a slice from a DataFrame\n",
      "\n",
      "See the caveats in the documentation: https://pandas.pydata.org/pandas-docs/stable/user_guide/indexing.html#returning-a-view-versus-a-copy\n",
      "  model_features.sort_values(by=['Feature_importance'],ascending=False,inplace=True)\n",
      "E:\\Projects\\Claims_Rejection\\src\\data_local.py:269: FutureWarning: Downcasting behavior in `replace` is deprecated and will be removed in a future version. To retain the old behavior, explicitly call `result.infer_objects(copy=False)`. To opt-in to the future behavior, set `pd.set_option('future.no_silent_downcasting', True)`\n",
      "  self.df['PatientAgeRange'] = self.df.PatientAgeRange.replace(age_encoding)\n",
      "E:\\Projects\\Claims_Rejection\\src\\data_local.py:269: FutureWarning: Downcasting behavior in `replace` is deprecated and will be removed in a future version. To retain the old behavior, explicitly call `result.infer_objects(copy=False)`. To opt-in to the future behavior, set `pd.set_option('future.no_silent_downcasting', True)`\n",
      "  self.df['PatientAgeRange'] = self.df.PatientAgeRange.replace(age_encoding)\n"
     ]
    },
    {
     "name": "stdout",
     "output_type": "stream",
     "text": [
      "[LightGBM] [Info] Number of positive: 1297, number of negative: 78392\n",
      "[LightGBM] [Info] Total Bins 6193\n",
      "[LightGBM] [Info] Number of data points in the train set: 79689, number of used features: 49\n",
      "[LightGBM] [Info] [binary:BoostFromScore]: pavg=0.016276 -> initscore=-4.101668\n",
      "[LightGBM] [Info] Start training from score -4.101668\n",
      "\n",
      "\n",
      "LightGBM, Decision Tree, SGD and Neural Network are trained on dataset.\n"
     ]
    },
    {
     "name": "stderr",
     "output_type": "stream",
     "text": [
      "E:\\Projects\\Claims_Rejection\\src\\model_train.py:59: RuntimeWarning: invalid value encountered in scalar divide\n",
      "  mod_f1 = (2*mod_precision*mod_recall) / (mod_precision+mod_recall)\n",
      "E:\\Projects\\Claims_Rejection\\venv\\lib\\site-packages\\sklearn\\metrics\\_classification.py:1509: UndefinedMetricWarning: Precision is ill-defined and being set to 0.0 due to no predicted samples. Use `zero_division` parameter to control this behavior.\n",
      "  _warn_prf(average, modifier, f\"{metric.capitalize()} is\", len(result))\n",
      "E:\\Projects\\Claims_Rejection\\src\\model_train.py:59: RuntimeWarning: invalid value encountered in scalar divide\n",
      "  mod_f1 = (2*mod_precision*mod_recall) / (mod_precision+mod_recall)\n",
      "C:\\Users\\omar.mounir\\AppData\\Local\\Temp\\ipykernel_9416\\3176289654.py:55: SettingWithCopyWarning: \n",
      "A value is trying to be set on a copy of a slice from a DataFrame\n",
      "\n",
      "See the caveats in the documentation: https://pandas.pydata.org/pandas-docs/stable/user_guide/indexing.html#returning-a-view-versus-a-copy\n",
      "  model_features.loc[len(model_features)] = {'Column_name':'SERVICE_DESCRIPTION','Feature_importance':float(combined_sum)}\n",
      "C:\\Users\\omar.mounir\\AppData\\Local\\Temp\\ipykernel_9416\\3176289654.py:56: SettingWithCopyWarning: \n",
      "A value is trying to be set on a copy of a slice from a DataFrame\n",
      "\n",
      "See the caveats in the documentation: https://pandas.pydata.org/pandas-docs/stable/user_guide/indexing.html#returning-a-view-versus-a-copy\n",
      "  model_features.sort_values(by=['Feature_importance'],ascending=False,inplace=True)\n"
     ]
    }
   ],
   "source": [
    "output_results_error('MN-1-1')\n",
    "output_results_error('CV-1-1')\n",
    "output_results_error('SE-1-6')\n",
    "output_results_error('BE-1-7')\n",
    "output_results_error('BE-1-4')\n",
    "output_results_error('SE-1-8')"
   ],
   "metadata": {
    "collapsed": false,
    "ExecuteTime": {
     "end_time": "2024-08-20T12:14:15.001587800Z",
     "start_time": "2024-08-20T12:09:10.275613500Z"
    }
   }
  },
  {
   "cell_type": "code",
   "execution_count": 5,
   "outputs": [
    {
     "name": "stderr",
     "output_type": "stream",
     "text": [
      "E:\\Projects\\Claims_Rejection\\src\\data_local.py:269: FutureWarning: Downcasting behavior in `replace` is deprecated and will be removed in a future version. To retain the old behavior, explicitly call `result.infer_objects(copy=False)`. To opt-in to the future behavior, set `pd.set_option('future.no_silent_downcasting', True)`\n",
      "  self.df['PatientAgeRange'] = self.df.PatientAgeRange.replace(age_encoding)\n",
      "E:\\Projects\\Claims_Rejection\\src\\data_local.py:269: FutureWarning: Downcasting behavior in `replace` is deprecated and will be removed in a future version. To retain the old behavior, explicitly call `result.infer_objects(copy=False)`. To opt-in to the future behavior, set `pd.set_option('future.no_silent_downcasting', True)`\n",
      "  self.df['PatientAgeRange'] = self.df.PatientAgeRange.replace(age_encoding)\n"
     ]
    },
    {
     "name": "stdout",
     "output_type": "stream",
     "text": [
      "[LightGBM] [Info] Number of positive: 3114, number of negative: 76575\n",
      "[LightGBM] [Info] Total Bins 6193\n",
      "[LightGBM] [Info] Number of data points in the train set: 79689, number of used features: 49\n",
      "[LightGBM] [Info] [binary:BoostFromScore]: pavg=0.039077 -> initscore=-3.202363\n",
      "[LightGBM] [Info] Start training from score -3.202363\n",
      "\n",
      "\n",
      "LightGBM, Decision Tree, SGD and Neural Network are trained on dataset.\n"
     ]
    },
    {
     "name": "stderr",
     "output_type": "stream",
     "text": [
      "C:\\Users\\omar.mounir\\AppData\\Local\\Temp\\ipykernel_9416\\3176289654.py:55: SettingWithCopyWarning: \n",
      "A value is trying to be set on a copy of a slice from a DataFrame\n",
      "\n",
      "See the caveats in the documentation: https://pandas.pydata.org/pandas-docs/stable/user_guide/indexing.html#returning-a-view-versus-a-copy\n",
      "  model_features.loc[len(model_features)] = {'Column_name':'SERVICE_DESCRIPTION','Feature_importance':float(combined_sum)}\n",
      "C:\\Users\\omar.mounir\\AppData\\Local\\Temp\\ipykernel_9416\\3176289654.py:56: SettingWithCopyWarning: \n",
      "A value is trying to be set on a copy of a slice from a DataFrame\n",
      "\n",
      "See the caveats in the documentation: https://pandas.pydata.org/pandas-docs/stable/user_guide/indexing.html#returning-a-view-versus-a-copy\n",
      "  model_features.sort_values(by=['Feature_importance'],ascending=False,inplace=True)\n",
      "E:\\Projects\\Claims_Rejection\\src\\data_local.py:269: FutureWarning: Downcasting behavior in `replace` is deprecated and will be removed in a future version. To retain the old behavior, explicitly call `result.infer_objects(copy=False)`. To opt-in to the future behavior, set `pd.set_option('future.no_silent_downcasting', True)`\n",
      "  self.df['PatientAgeRange'] = self.df.PatientAgeRange.replace(age_encoding)\n",
      "E:\\Projects\\Claims_Rejection\\src\\data_local.py:269: FutureWarning: Downcasting behavior in `replace` is deprecated and will be removed in a future version. To retain the old behavior, explicitly call `result.infer_objects(copy=False)`. To opt-in to the future behavior, set `pd.set_option('future.no_silent_downcasting', True)`\n",
      "  self.df['PatientAgeRange'] = self.df.PatientAgeRange.replace(age_encoding)\n"
     ]
    },
    {
     "name": "stdout",
     "output_type": "stream",
     "text": [
      "[LightGBM] [Info] Number of positive: 4125, number of negative: 75564\n",
      "[LightGBM] [Info] Total Bins 6193\n",
      "[LightGBM] [Info] Number of data points in the train set: 79689, number of used features: 49\n",
      "[LightGBM] [Info] [binary:BoostFromScore]: pavg=0.051764 -> initscore=-2.907914\n",
      "[LightGBM] [Info] Start training from score -2.907914\n",
      "\n",
      "\n",
      "LightGBM, Decision Tree, SGD and Neural Network are trained on dataset.\n"
     ]
    },
    {
     "name": "stderr",
     "output_type": "stream",
     "text": [
      "E:\\Projects\\Claims_Rejection\\src\\model_train.py:59: RuntimeWarning: invalid value encountered in scalar divide\n",
      "  mod_f1 = (2*mod_precision*mod_recall) / (mod_precision+mod_recall)\n",
      "E:\\Projects\\Claims_Rejection\\src\\model_train.py:59: RuntimeWarning: invalid value encountered in scalar divide\n",
      "  mod_f1 = (2*mod_precision*mod_recall) / (mod_precision+mod_recall)\n",
      "C:\\Users\\omar.mounir\\AppData\\Local\\Temp\\ipykernel_9416\\3176289654.py:55: SettingWithCopyWarning: \n",
      "A value is trying to be set on a copy of a slice from a DataFrame\n",
      "\n",
      "See the caveats in the documentation: https://pandas.pydata.org/pandas-docs/stable/user_guide/indexing.html#returning-a-view-versus-a-copy\n",
      "  model_features.loc[len(model_features)] = {'Column_name':'SERVICE_DESCRIPTION','Feature_importance':float(combined_sum)}\n",
      "C:\\Users\\omar.mounir\\AppData\\Local\\Temp\\ipykernel_9416\\3176289654.py:56: SettingWithCopyWarning: \n",
      "A value is trying to be set on a copy of a slice from a DataFrame\n",
      "\n",
      "See the caveats in the documentation: https://pandas.pydata.org/pandas-docs/stable/user_guide/indexing.html#returning-a-view-versus-a-copy\n",
      "  model_features.sort_values(by=['Feature_importance'],ascending=False,inplace=True)\n",
      "E:\\Projects\\Claims_Rejection\\src\\data_local.py:269: FutureWarning: Downcasting behavior in `replace` is deprecated and will be removed in a future version. To retain the old behavior, explicitly call `result.infer_objects(copy=False)`. To opt-in to the future behavior, set `pd.set_option('future.no_silent_downcasting', True)`\n",
      "  self.df['PatientAgeRange'] = self.df.PatientAgeRange.replace(age_encoding)\n",
      "E:\\Projects\\Claims_Rejection\\src\\data_local.py:269: FutureWarning: Downcasting behavior in `replace` is deprecated and will be removed in a future version. To retain the old behavior, explicitly call `result.infer_objects(copy=False)`. To opt-in to the future behavior, set `pd.set_option('future.no_silent_downcasting', True)`\n",
      "  self.df['PatientAgeRange'] = self.df.PatientAgeRange.replace(age_encoding)\n"
     ]
    },
    {
     "name": "stdout",
     "output_type": "stream",
     "text": [
      "[LightGBM] [Info] Number of positive: 4068, number of negative: 75621\n",
      "[LightGBM] [Info] Total Bins 6193\n",
      "[LightGBM] [Info] Number of data points in the train set: 79689, number of used features: 49\n",
      "[LightGBM] [Info] [binary:BoostFromScore]: pavg=0.051048 -> initscore=-2.922583\n",
      "[LightGBM] [Info] Start training from score -2.922583\n",
      "\n",
      "\n",
      "LightGBM, Decision Tree, SGD and Neural Network are trained on dataset.\n"
     ]
    },
    {
     "name": "stderr",
     "output_type": "stream",
     "text": [
      "E:\\Projects\\Claims_Rejection\\venv\\lib\\site-packages\\sklearn\\metrics\\_classification.py:1509: UndefinedMetricWarning: Precision is ill-defined and being set to 0.0 due to no predicted samples. Use `zero_division` parameter to control this behavior.\n",
      "  _warn_prf(average, modifier, f\"{metric.capitalize()} is\", len(result))\n",
      "E:\\Projects\\Claims_Rejection\\src\\model_train.py:59: RuntimeWarning: invalid value encountered in scalar divide\n",
      "  mod_f1 = (2*mod_precision*mod_recall) / (mod_precision+mod_recall)\n",
      "C:\\Users\\omar.mounir\\AppData\\Local\\Temp\\ipykernel_9416\\3176289654.py:55: SettingWithCopyWarning: \n",
      "A value is trying to be set on a copy of a slice from a DataFrame\n",
      "\n",
      "See the caveats in the documentation: https://pandas.pydata.org/pandas-docs/stable/user_guide/indexing.html#returning-a-view-versus-a-copy\n",
      "  model_features.loc[len(model_features)] = {'Column_name':'SERVICE_DESCRIPTION','Feature_importance':float(combined_sum)}\n",
      "C:\\Users\\omar.mounir\\AppData\\Local\\Temp\\ipykernel_9416\\3176289654.py:56: SettingWithCopyWarning: \n",
      "A value is trying to be set on a copy of a slice from a DataFrame\n",
      "\n",
      "See the caveats in the documentation: https://pandas.pydata.org/pandas-docs/stable/user_guide/indexing.html#returning-a-view-versus-a-copy\n",
      "  model_features.sort_values(by=['Feature_importance'],ascending=False,inplace=True)\n"
     ]
    }
   ],
   "source": [
    "output_results_error('BE-1-1')\n",
    "output_results_error('BE-1-3')\n",
    "output_results_error('BE-1-6')"
   ],
   "metadata": {
    "collapsed": false,
    "ExecuteTime": {
     "end_time": "2024-08-20T13:13:38.748981800Z",
     "start_time": "2024-08-20T13:12:05.269213600Z"
    }
   }
  },
  {
   "cell_type": "code",
   "execution_count": null,
   "outputs": [],
   "source": [],
   "metadata": {
    "collapsed": false
   }
  }
 ],
 "metadata": {
  "kernelspec": {
   "display_name": "Python 3",
   "language": "python",
   "name": "python3"
  },
  "language_info": {
   "codemirror_mode": {
    "name": "ipython",
    "version": 2
   },
   "file_extension": ".py",
   "mimetype": "text/x-python",
   "name": "python",
   "nbconvert_exporter": "python",
   "pygments_lexer": "ipython2",
   "version": "2.7.6"
  }
 },
 "nbformat": 4,
 "nbformat_minor": 0
}
