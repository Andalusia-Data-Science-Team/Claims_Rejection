{
 "cells": [
  {
   "cell_type": "code",
   "execution_count": 13,
   "metadata": {
    "collapsed": true,
    "ExecuteTime": {
     "end_time": "2024-09-01T18:10:00.645530600Z",
     "start_time": "2024-09-01T18:09:56.379708300Z"
    }
   },
   "outputs": [],
   "source": [
    "from cashe import get_train_test_split, get_testing_inputs, drop_nomodel_columns, get_training_inputs\n",
    "from src.data_local import MergedDataPreprocessing, read_last_date, append_last_line\n",
    "from src.utilities_rejection import DataFrameRejection\n",
    "from src.lstm_encoder import LSTMEmbedding\n",
    "from src.model_app import ModelApplicationDeployment\n",
    "import numpy as np\n",
    "from src.utilities_rejection import RejectionReasonLabeling\n",
    "from src.model_app import ModelApplication\n",
    "\n",
    "df_train, df_test = get_train_test_split('data/HJH/13-06-2024')\n",
    "\n",
    "'''\n",
    "if 'OUTCOME' not in df_test.columns:\n",
    "    df_test['OUTCOME'] = ''\n",
    "if 'SUBMIT_CLAIM_MESSAGE' not in df_test.columns:\n",
    "    df_test['SUBMIT_CLAIM_MESSAGE'] = ''\n",
    "'''\n",
    "\n",
    "train_rej = RejectionReasonLabeling(df_train)\n",
    "train_rej.recoginze_label()\n",
    "\n",
    "train_rej = RejectionReasonLabeling(df_test)\n",
    "train_rej.recoginze_label()\n",
    "\n",
    "df_train['NPHIES_LABEL'] = np.where(df_train['NPHIES_CODE'] == 'MN-1-1', 1, 0)\n",
    "df_test['NPHIES_LABEL'] = np.where(df_test['NPHIES_CODE'] == 'MN-1-1', 1, 0)"
   ]
  },
  {
   "cell_type": "code",
   "execution_count": 14,
   "outputs": [
    {
     "name": "stderr",
     "output_type": "stream",
     "text": [
      "C:\\Users\\omar.mounir\\AppData\\Local\\Temp\\ipykernel_8952\\1485650554.py:5: SettingWithCopyWarning: \n",
      "A value is trying to be set on a copy of a slice from a DataFrame.\n",
      "Try using .loc[row_indexer,col_indexer] = value instead\n",
      "\n",
      "See the caveats in the documentation: https://pandas.pydata.org/pandas-docs/stable/user_guide/indexing.html#returning-a-view-versus-a-copy\n",
      "  y_train['NPHIES_LABEL'] = df_train.NPHIES_LABEL; y_test['NPHIES_LABEL'] = df_test.NPHIES_LABEL\n"
     ]
    }
   ],
   "source": [
    "X_train, y_train, X_test, y_test = get_training_inputs(df_train,df_test)\n",
    "X_train = drop_nomodel_columns(X_train)\n",
    "X_test  = drop_nomodel_columns(X_test)\n",
    "\n",
    "y_train['NPHIES_LABEL'] = df_train.NPHIES_LABEL; y_test['NPHIES_LABEL'] = df_test.NPHIES_LABEL"
   ],
   "metadata": {
    "collapsed": false,
    "ExecuteTime": {
     "end_time": "2024-09-01T18:10:47.580832Z",
     "start_time": "2024-09-01T18:10:44.512218800Z"
    }
   }
  },
  {
   "cell_type": "code",
   "execution_count": 15,
   "outputs": [
    {
     "name": "stderr",
     "output_type": "stream",
     "text": [
      "E:\\Projects\\Claims_Rejection\\src\\data_local.py:276: FutureWarning: Downcasting behavior in `replace` is deprecated and will be removed in a future version. To retain the old behavior, explicitly call `result.infer_objects(copy=False)`. To opt-in to the future behavior, set `pd.set_option('future.no_silent_downcasting', True)`\n",
      "  df[column]= df[column].replace(column_encoding)\n",
      "E:\\Projects\\Claims_Rejection\\src\\data_local.py:284: FutureWarning: Downcasting behavior in `replace` is deprecated and will be removed in a future version. To retain the old behavior, explicitly call `result.infer_objects(copy=False)`. To opt-in to the future behavior, set `pd.set_option('future.no_silent_downcasting', True)`\n",
      "  df['PatientAgeRange']= df['PatientAgeRange'].replace(age_encoding)\n",
      "E:\\Projects\\Claims_Rejection\\src\\data_local.py:276: FutureWarning: Downcasting behavior in `replace` is deprecated and will be removed in a future version. To retain the old behavior, explicitly call `result.infer_objects(copy=False)`. To opt-in to the future behavior, set `pd.set_option('future.no_silent_downcasting', True)`\n",
      "  df[column]= df[column].replace(column_encoding)\n",
      "E:\\Projects\\Claims_Rejection\\src\\data_local.py:284: FutureWarning: Downcasting behavior in `replace` is deprecated and will be removed in a future version. To retain the old behavior, explicitly call `result.infer_objects(copy=False)`. To opt-in to the future behavior, set `pd.set_option('future.no_silent_downcasting', True)`\n",
      "  df['PatientAgeRange']= df['PatientAgeRange'].replace(age_encoding)\n"
     ]
    }
   ],
   "source": [
    "preprocessing_train = MergedDataPreprocessing(X_train)\n",
    "preprocessing_test = MergedDataPreprocessing(X_test)\n",
    "\n",
    "X_train_prep = preprocessing_train.columns_prep(service_encoding=False)\n",
    "X_test_prep = preprocessing_test.columns_prep(service_encoding=False)"
   ],
   "metadata": {
    "collapsed": false,
    "ExecuteTime": {
     "end_time": "2024-09-01T18:15:24.062441500Z",
     "start_time": "2024-09-01T18:10:51.619116600Z"
    }
   }
  },
  {
   "cell_type": "code",
   "execution_count": 16,
   "outputs": [],
   "source": [
    "lstm_embedding = LSTMEmbedding()\n",
    "\n",
    "X_train_encoded = preprocessing_train.column_embedding(X_train_prep, is_service=True)\n",
    "X_test_encoded  = preprocessing_train.column_embedding(X_test_prep, is_service=True)\n",
    "X_train_encoded = preprocessing_train.column_embedding(X_train_encoded,is_service=False)\n",
    "X_test_encoded  = preprocessing_train.column_embedding(X_test_encoded,is_service=False)"
   ],
   "metadata": {
    "collapsed": false,
    "ExecuteTime": {
     "end_time": "2024-09-01T18:15:33.229163400Z",
     "start_time": "2024-09-01T18:15:24.064436700Z"
    }
   }
  },
  {
   "cell_type": "code",
   "execution_count": 14,
   "outputs": [
    {
     "name": "stdout",
     "output_type": "stream",
     "text": [
      "Training is done\n"
     ]
    }
   ],
   "source": [
    "model_rejection = ModelApplication(X_train=X_train_encoded, y_train=y_train['OUTCOME'], X_test=X_test_encoded, y_test=y_test['OUTCOME'])\n",
    "\n",
    "model_rejection.get_model(force_retrain=False,model_type='outcome')\n",
    "y_rej_pred = model_rejection.model_predict(X_test)"
   ],
   "metadata": {
    "collapsed": false,
    "ExecuteTime": {
     "end_time": "2024-08-29T12:37:56.401213Z",
     "start_time": "2024-08-29T12:37:53.732526Z"
    }
   }
  },
  {
   "cell_type": "code",
   "execution_count": 21,
   "outputs": [
    {
     "name": "stdout",
     "output_type": "stream",
     "text": [
      "XGBoost Model is loading from disk..\n"
     ]
    }
   ],
   "source": [
    "model_rejection = ModelApplication(X_train=X_train_encoded, y_train=y_train['NPHIES_LABEL'],\n",
    "                                   X_test=X_test_encoded, y_test=y_test['NPHIES_LABEL'])\n",
    "\n",
    "model_rejection.get_model(force_retrain=False,model_type='rejection')\n",
    "y_reason_pred = model_rejection.model_predict(X_test)"
   ],
   "metadata": {
    "collapsed": false,
    "ExecuteTime": {
     "end_time": "2024-08-29T12:40:06.292259800Z",
     "start_time": "2024-08-29T12:40:06.166598700Z"
    }
   }
  },
  {
   "cell_type": "code",
   "execution_count": 29,
   "outputs": [],
   "source": [
    "## check in rejection with reason\n",
    "for i in range(len(y_rej_pred)):\n",
    "    if y_rej_pred[i] == 1:\n",
    "        y_reason_pred[i] = 0\n",
    "\n",
    "df_test['Claim_Acceptance'] = y_rej_pred\n",
    "df_test['Rejection_Reason'] =y_reason_pred"
   ],
   "metadata": {
    "collapsed": false,
    "ExecuteTime": {
     "end_time": "2024-08-29T12:46:17.525839700Z",
     "start_time": "2024-08-29T12:46:17.491628Z"
    }
   }
  },
  {
   "cell_type": "code",
   "execution_count": 32,
   "outputs": [],
   "source": [
    "df_test.to_csv('predictions.csv',index=False)"
   ],
   "metadata": {
    "collapsed": false,
    "ExecuteTime": {
     "end_time": "2024-08-29T12:47:40.722825600Z",
     "start_time": "2024-08-29T12:47:37.084947200Z"
    }
   }
  },
  {
   "cell_type": "code",
   "execution_count": null,
   "outputs": [],
   "source": [],
   "metadata": {
    "collapsed": false
   }
  }
 ],
 "metadata": {
  "kernelspec": {
   "display_name": "Python 3",
   "language": "python",
   "name": "python3"
  },
  "language_info": {
   "codemirror_mode": {
    "name": "ipython",
    "version": 2
   },
   "file_extension": ".py",
   "mimetype": "text/x-python",
   "name": "python",
   "nbconvert_exporter": "python",
   "pygments_lexer": "ipython2",
   "version": "2.7.6"
  }
 },
 "nbformat": 4,
 "nbformat_minor": 0
}
