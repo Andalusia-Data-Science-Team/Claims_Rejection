{
 "cells": [
  {
   "cell_type": "code",
   "execution_count": 9,
   "id": "initial_id",
   "metadata": {
    "collapsed": true,
    "ExecuteTime": {
     "end_time": "2024-06-26T07:30:07.990885600Z",
     "start_time": "2024-06-26T07:30:07.985721200Z"
    }
   },
   "outputs": [],
   "source": [
    "import pandas as pd\n",
    "from src import data_query"
   ]
  },
  {
   "cell_type": "code",
   "execution_count": 7,
   "outputs": [],
   "source": [],
   "metadata": {
    "collapsed": false,
    "ExecuteTime": {
     "end_time": "2024-06-26T07:22:00.507598100Z",
     "start_time": "2024-06-26T07:22:00.501802500Z"
    }
   },
   "id": "1b2203b8d321352c"
  },
  {
   "cell_type": "code",
   "execution_count": 9,
   "outputs": [],
   "source": [],
   "metadata": {
    "collapsed": false,
    "ExecuteTime": {
     "end_time": "2024-06-26T07:30:14.536870200Z",
     "start_time": "2024-06-26T07:30:14.523563Z"
    }
   },
   "id": "3aa717928ae37e2c"
  },
  {
   "cell_type": "code",
   "execution_count": 34,
   "outputs": [],
   "source": [
    "diagnosis_df = data_query.load_query(TABLE_NAME='[Episode-Diagnose]', source='BI')"
   ],
   "metadata": {
    "collapsed": false,
    "ExecuteTime": {
     "end_time": "2024-06-26T08:14:54.921969100Z",
     "start_time": "2024-06-26T08:14:32.559896300Z"
    }
   },
   "id": "c5196aee356a7ee4"
  },
  {
   "cell_type": "code",
   "execution_count": 35,
   "outputs": [],
   "source": [
    "diagnosis_df['VISIT_NO'] = diagnosis_df['Episode_Key'].apply(lambda x:x.split('_')[1])\n",
    "# diagnosis_df['Hospital_ID'] = diagnosis_df['Episode_Key'].apply(lambda x:x.split('_')[0])"
   ],
   "metadata": {
    "collapsed": false,
    "ExecuteTime": {
     "end_time": "2024-06-26T08:14:58.083586700Z",
     "start_time": "2024-06-26T08:14:58.036990700Z"
    }
   },
   "id": "c9f8e1843debd053"
  },
  {
   "cell_type": "code",
   "execution_count": 36,
   "outputs": [
    {
     "data": {
      "text/plain": "dtype('O')"
     },
     "execution_count": 36,
     "metadata": {},
     "output_type": "execute_result"
    }
   ],
   "source": [
    "diagnosis_df['VISIT_NO'].dtype"
   ],
   "metadata": {
    "collapsed": false,
    "ExecuteTime": {
     "end_time": "2024-06-26T08:14:58.855333Z",
     "start_time": "2024-06-26T08:14:58.841282700Z"
    }
   },
   "id": "34880f9ef32c68af"
  },
  {
   "cell_type": "code",
   "execution_count": 37,
   "outputs": [
    {
     "data": {
      "text/plain": "       Episode_Key  ICD10 Diagnosis_Key   VISIT_NO\n0      1_1328896-4  J06.9    1_10164354  1328896-4\n1      1_1031641-3  J30.4    1_10164418  1031641-3\n2      1_65079-107    A09   1_111220949  65079-107\n3      1_1326483-4  R22.1    1_10171516  1326483-4\n4      1_1325276-8    K02    1_10164622  1325276-8\n...            ...    ...           ...        ...\n38362  1_831810-92  R52.0    1_10171630  831810-92\n38363  1_1356893-1  K90.4    1_10165130  1356893-1\n38364  1_1363505-9  M54.1   1_111230672  1363505-9\n38365  1_1356840-2  M22.2    1_10166537  1356840-2\n38366   1_829950-8  B35.6    1_10160409   829950-8\n\n[38367 rows x 4 columns]",
      "text/html": "<div>\n<style scoped>\n    .dataframe tbody tr th:only-of-type {\n        vertical-align: middle;\n    }\n\n    .dataframe tbody tr th {\n        vertical-align: top;\n    }\n\n    .dataframe thead th {\n        text-align: right;\n    }\n</style>\n<table border=\"1\" class=\"dataframe\">\n  <thead>\n    <tr style=\"text-align: right;\">\n      <th></th>\n      <th>Episode_Key</th>\n      <th>ICD10</th>\n      <th>Diagnosis_Key</th>\n      <th>VISIT_NO</th>\n    </tr>\n  </thead>\n  <tbody>\n    <tr>\n      <th>0</th>\n      <td>1_1328896-4</td>\n      <td>J06.9</td>\n      <td>1_10164354</td>\n      <td>1328896-4</td>\n    </tr>\n    <tr>\n      <th>1</th>\n      <td>1_1031641-3</td>\n      <td>J30.4</td>\n      <td>1_10164418</td>\n      <td>1031641-3</td>\n    </tr>\n    <tr>\n      <th>2</th>\n      <td>1_65079-107</td>\n      <td>A09</td>\n      <td>1_111220949</td>\n      <td>65079-107</td>\n    </tr>\n    <tr>\n      <th>3</th>\n      <td>1_1326483-4</td>\n      <td>R22.1</td>\n      <td>1_10171516</td>\n      <td>1326483-4</td>\n    </tr>\n    <tr>\n      <th>4</th>\n      <td>1_1325276-8</td>\n      <td>K02</td>\n      <td>1_10164622</td>\n      <td>1325276-8</td>\n    </tr>\n    <tr>\n      <th>...</th>\n      <td>...</td>\n      <td>...</td>\n      <td>...</td>\n      <td>...</td>\n    </tr>\n    <tr>\n      <th>38362</th>\n      <td>1_831810-92</td>\n      <td>R52.0</td>\n      <td>1_10171630</td>\n      <td>831810-92</td>\n    </tr>\n    <tr>\n      <th>38363</th>\n      <td>1_1356893-1</td>\n      <td>K90.4</td>\n      <td>1_10165130</td>\n      <td>1356893-1</td>\n    </tr>\n    <tr>\n      <th>38364</th>\n      <td>1_1363505-9</td>\n      <td>M54.1</td>\n      <td>1_111230672</td>\n      <td>1363505-9</td>\n    </tr>\n    <tr>\n      <th>38365</th>\n      <td>1_1356840-2</td>\n      <td>M22.2</td>\n      <td>1_10166537</td>\n      <td>1356840-2</td>\n    </tr>\n    <tr>\n      <th>38366</th>\n      <td>1_829950-8</td>\n      <td>B35.6</td>\n      <td>1_10160409</td>\n      <td>829950-8</td>\n    </tr>\n  </tbody>\n</table>\n<p>38367 rows × 4 columns</p>\n</div>"
     },
     "execution_count": 37,
     "metadata": {},
     "output_type": "execute_result"
    }
   ],
   "source": [
    "diagnosis_df"
   ],
   "metadata": {
    "collapsed": false,
    "ExecuteTime": {
     "end_time": "2024-06-26T08:14:59.521664500Z",
     "start_time": "2024-06-26T08:14:59.494996400Z"
    }
   },
   "id": "b02573a3b281b7e"
  },
  {
   "cell_type": "code",
   "execution_count": 38,
   "outputs": [],
   "source": [
    "diagnosis_df.to_excel('data/HJH/Episode_Diagnose.xlsx', index=False)"
   ],
   "metadata": {
    "collapsed": false,
    "ExecuteTime": {
     "end_time": "2024-06-26T08:15:21.389300200Z",
     "start_time": "2024-06-26T08:15:16.732106700Z"
    }
   },
   "id": "c73416e39a0e6197"
  },
  {
   "cell_type": "code",
   "execution_count": 39,
   "outputs": [],
   "source": [
    "# read the original parquet file for service and visit \n",
    "\n",
    "\n",
    "df_claim = pd.read_parquet('data/prq/df.parquet')"
   ],
   "metadata": {
    "collapsed": false,
    "ExecuteTime": {
     "end_time": "2024-06-26T08:15:24.242870800Z",
     "start_time": "2024-06-26T08:15:22.541210400Z"
    }
   },
   "id": "787878f9cb84c3c7"
  },
  {
   "cell_type": "code",
   "execution_count": 40,
   "outputs": [
    {
     "data": {
      "text/plain": "dtype('O')"
     },
     "execution_count": 40,
     "metadata": {},
     "output_type": "execute_result"
    }
   ],
   "source": [
    "df_claim['VISIT_NO'].dtype"
   ],
   "metadata": {
    "collapsed": false,
    "ExecuteTime": {
     "end_time": "2024-06-26T08:15:24.831873900Z",
     "start_time": "2024-06-26T08:15:24.808807800Z"
    }
   },
   "id": "85dbaa7c2f5e33b6"
  },
  {
   "cell_type": "code",
   "execution_count": 42,
   "outputs": [],
   "source": [
    "df_claim=df_claim.merge(diagnosis_df,how='left',on='VISIT_NO')"
   ],
   "metadata": {
    "collapsed": false,
    "ExecuteTime": {
     "end_time": "2024-06-26T08:16:35.215733200Z",
     "start_time": "2024-06-26T08:16:34.842424300Z"
    }
   },
   "id": "a23383cd2adfb3fb"
  },
  {
   "cell_type": "code",
   "execution_count": null,
   "outputs": [],
   "source": [
    "df_claim[]"
   ],
   "metadata": {
    "collapsed": false
   },
   "id": "8ce14f77dda30499"
  },
  {
   "cell_type": "code",
   "execution_count": 45,
   "outputs": [
    {
     "data": {
      "text/plain": "0           Z36\n1         R22.1\n2           R53\n3           R10\n4         R00.1\n          ...  \n488828    I24.9\n488829    R07.4\n488830    R07.4\n488831    R07.4\n488832    I46.0\nName: ICD10, Length: 488833, dtype: object"
     },
     "execution_count": 45,
     "metadata": {},
     "output_type": "execute_result"
    }
   ],
   "source": [
    "df_claim.ICD10"
   ],
   "metadata": {
    "collapsed": false,
    "ExecuteTime": {
     "end_time": "2024-06-26T08:17:20.151842700Z",
     "start_time": "2024-06-26T08:17:20.138847400Z"
    }
   },
   "id": "4239c8f99bb6daa8"
  },
  {
   "cell_type": "code",
   "execution_count": 46,
   "outputs": [],
   "source": [
    "df_claim.to_parquet('data/prq/df.parquet',index=False)"
   ],
   "metadata": {
    "collapsed": false,
    "ExecuteTime": {
     "end_time": "2024-06-26T08:24:18.449097600Z",
     "start_time": "2024-06-26T08:24:14.328720600Z"
    }
   },
   "id": "926e9fc0e7349a09"
  },
  {
   "cell_type": "code",
   "execution_count": null,
   "outputs": [],
   "source": [],
   "metadata": {
    "collapsed": false
   },
   "id": "52652b717482999d"
  }
 ],
 "metadata": {
  "kernelspec": {
   "display_name": "Python 3",
   "language": "python",
   "name": "python3"
  },
  "language_info": {
   "codemirror_mode": {
    "name": "ipython",
    "version": 2
   },
   "file_extension": ".py",
   "mimetype": "text/x-python",
   "name": "python",
   "nbconvert_exporter": "python",
   "pygments_lexer": "ipython2",
   "version": "2.7.6"
  }
 },
 "nbformat": 4,
 "nbformat_minor": 5
}
