{
 "cells": [
  {
   "cell_type": "code",
   "execution_count": 6,
   "id": "initial_id",
   "metadata": {
    "collapsed": true,
    "ExecuteTime": {
     "end_time": "2024-06-26T07:21:59.101210Z",
     "start_time": "2024-06-26T07:21:59.092388700Z"
    }
   },
   "outputs": [],
   "source": [
    "import pandas as pd\n",
    "from src import data_query"
   ]
  },
  {
   "cell_type": "code",
   "execution_count": 7,
   "outputs": [],
   "source": [
    "import json\n",
    "with open('..\\Claims_Rejection\\src\\data_backup\\passcode.json', 'r') as file:\n",
    "    data_dict = json.load(file)\n",
    "\n",
    "db_names = data_dict['DB_NAMES']\n",
    "\n",
    "with open('..\\Claims_Rejection\\src\\data_backup\\stored_info.json', 'r') as file:\n",
    "    table_info_dict = json.load(file)\n"
   ],
   "metadata": {
    "collapsed": false,
    "ExecuteTime": {
     "end_time": "2024-06-26T07:22:00.507598100Z",
     "start_time": "2024-06-26T07:22:00.501802500Z"
    }
   },
   "id": "1b2203b8d321352c"
  },
  {
   "cell_type": "code",
   "execution_count": 8,
   "outputs": [
    {
     "data": {
      "text/plain": "{'name': 'data_columns_info_backup',\n 'version': '1.0.0',\n 'claim_service_dropped': ['HOSPITAL_ID',\n  'IS_FETCHED',\n  'INVOICE_CREATED_BY',\n  'USERNAME',\n  'TOOTH_SURFACE',\n  'DENTAL_TREATMENT_TYPE',\n  'BENEFIT_TYPE_INDICATOR',\n  'MEDICINE_GENERIC_NAME',\n  'MEDICINECONCENTRATION',\n  'SERVICE_CODE_SYSTEM',\n  'ACHI_CODE',\n  'ACHI_DESCRIPTION',\n  'OASIS_SERVICE_TYPE',\n  'PACKAGE_ID',\n  'PRE_AUTH_OFFLINE',\n  'APPROVAL_RESPONSE_ID',\n  'APPROVAL_RESPONSE_SYSTEM',\n  'SELECTION_REASON_DISPLAY',\n  'AMEND_LAST_DATE',\n  'AMEND_BY_USER',\n  'HOSPITAL_ID',\n  'IS_FETCHED',\n  'SERVICE_ID',\n  'INVOICE_NUMBER',\n  'INVOICE_DATE',\n  'SERVICE_CODE',\n  'OASIS_IOS_CODE',\n  'VAT_INDICATOR',\n  'SERVICE_CATEGORY',\n  'INVOICE_CREATED_BY',\n  'USERNAME',\n  'PRE_AUTH_ID',\n  'TOOTH_NO',\n  'TOOTH_SURFACE',\n  'DENTAL_TREATMENT_TYPE',\n  'BENEFIT_TYPE_INDICATOR',\n  'UNIT',\n  'UNIT_TYPE',\n  'TIMES',\n  'PER',\n  'MEDICINE_GENERIC_NAME',\n  'MEDICINECONCENTRATION',\n  'SERVICE_CODE_SYSTEM',\n  'ACHI_CODE',\n  'ACHI_DESCRIPTION',\n  'OASIS_SERVICE_TYPE',\n  'PRE_AUTH_RESPONSE_ID',\n  'PRE_AUTH_RESPONSE_SYSTEM',\n  'OASIS_IOS_USER',\n  'PACKAGE_ID',\n  'PRE_AUTH_OFFLINE',\n  'APPROVAL_RESPONSE_ID',\n  'APPROVAL_RESPONSE_SYSTEM',\n  'PRESCRIBED_CODE',\n  'SELECTION_REASON',\n  'SELECTION_REASON_DISPLAY',\n  'PRE_AUTH_OFFLINE_DATE'],\n 'claim_service_columns': ['CREATED_BY_USER',\n  'CREATION_DATE',\n  'VISIT_ID',\n  'NET_WITH_VAT',\n  'SERVICE_DESCRIPTION',\n  'QTY',\n  'LINE_CLAIMED_AMOUNT',\n  'LINE_CLAIMED_AMOUNT_SAR',\n  'CO_PAY',\n  'CO_INSURANCE',\n  'LINE_ITEM_DISCOUNT',\n  'NET_AMOUNT',\n  'NET_VAT_AMOUNT',\n  'PATIENT_VAT_AMOUNT',\n  'VAT_PERCENTAGE',\n  'TREATMENT_TYPE_INDICATOR',\n  'SERVICE_TYPE',\n  'DURATION',\n  'QTY_STOCKED_UOM',\n  'UNIT_PRICE',\n  'OASIS_IOS_DESCRIPTION',\n  'SEQUENCE_NO',\n  'UNIT_PRICE_STOCKED_UOM',\n  'UNIT_PRICE_NET',\n  'DISCOUNT_PERCENTAGE',\n  'NOTES',\n  'OUTCOME',\n  'APPROVED_QUNATITY'],\n 'claim_visit_dropped': ['HOSPITAL_ID',\n  'VISIT_TYPE',\n  'RESERVATION_NO',\n  'REFERRAL_IND',\n  'EMERGENCY_CARE_LEVEL',\n  'PILGRIM_TYPE',\n  'BIRTH_COUNTRY',\n  'RESIDENCE_COUNTRY',\n  'RESIDENCE_CITY',\n  'RELIGION',\n  'OCCUPATION',\n  'MAIN_MEMBERSHIP_NUMBER',\n  'PATIENT_RELATION_CODE',\n  'PLAN_TYPE',\n  'ISSUE_NO',\n  'POLICY_HOLDER_NAME',\n  'POLICY_EXPIRY_DATE',\n  'CLASS',\n  'GOSI_INDICATOR',\n  'DATE_OF_ACCIDENT_INJURY',\n  'EMPLOYER_NAME',\n  'EMPLOYER_REGISTRATION_NUMBER',\n  'EMPLOYEE_NO',\n  'GOSI_INSURANCE_NO',\n  'ADMISSION_SPECIALTY',\n  'ADMISSION_TYPE',\n  'ROOM_NUMBER',\n  'BED_NUMBER',\n  'DISCHARGE_SPECIALTY',\n  'SCHS_LICENSE_NUMBER',\n  'INTENDED_LOS',\n  'TRIAGE_DATE',\n  'ER_SERVICE_START',\n  'ER_WAITING_TIME',\n  'SERVICE_EVENT_TYPE',\n  'CARE_TYPE',\n  'ER_MAJOR_DIAGNOSTIC_BLOCK',\n  'CONDITION_ONSET_FLAG',\n  'MAJOR_DIAGNOSTIC_CATEGORY',\n  'PCCL',\n  'PMA_USER_ID',\n  'USER_NAME',\n  'IS_FETCHED',\n  'USER_ID_UPDATE',\n  'PASSPORT_NO',\n  'USER_ID_CREATE',\n  'DOCTOR_NATIONALITY',\n  'PATIENTID_EXPIRYDATE',\n  'ELIGIBILITY_REF_NO',\n  'MED_REC_NO',\n  'VALID',\n  'VALIDATION_MESSAGE',\n  'SURGERY_FLAG',\n  'SUBMIT_BY',\n  'RES_TRANSACTION_ID',\n  'RES_POLICY_NO',\n  'RES_POLICY_NAME',\n  'RES_BATCH_ID',\n  'RES_BATCHTYPE',\n  'CANCELED_BY',\n  'BATCH_API_TRANS_ID',\n  'BATCH_ID',\n  'NET_WITH_VAT',\n  'RELATED_API_TRANS_ID',\n  'ADMISSION_DATE',\n  'DISCHARGE_DATE',\n  'LENGTH_OF_STAY',\n  'ADMISSION_WEIGHT',\n  'DISCHARGE_MODE',\n  'ER_DISPOSITION_CODE',\n  'ED_ARRIVAL_MODE',\n  'REFERRAL_NO',\n  'CANCEL_DATE',\n  'CANCELED',\n  'CANCEL_MESSAGE',\n  'CANCEL_API_TRANS_ID',\n  'APPROVAL_DOCS',\n  'ELIGIBILITY_OFFLINE_REFERENCE',\n  'ELIGIBILITY_OFFLINE_DATE',\n  'PULL_RESPONSE_ID',\n  'PATIENT_THIRD_NAME',\n  'PATIENT_SECOND_NAME',\n  'DOCTOR_NAME',\n  'PATIENT_FAMILY_NAME',\n  'PATIENT_NAME',\n  'PATIENT_FIRST_NAME',\n  'DOCTOR_SPECIALTY'],\n 'claim_visit_columns': ['VISIT_ID',\n  'REQUEST_DATE',\n  'VISIT_NO',\n  'VISIT_DATE',\n  'EMERGENCY_INDICATOR',\n  'PROVIDER_DEPARTMENT_CODE',\n  'PROVIDER_DEPARTMENT',\n  'DOCTOR_SPECIALTY_CODE',\n  'DOCTOR_CODE',\n  'PATIENT_NO',\n  'EPISODE_NO',\n  'PATIENT_ID',\n  'MEMBERSHIP_NO',\n  'PATIENT_ID_TYPE',\n  'PATIENT_NATIONAL_IQAMA_ID',\n  'PATIENT_DOB',\n  'PATIENT_AGE',\n  'UNIT_OF_AGE',\n  'PATIENT_NATIONALITY',\n  'PATIENT_MARITAL_STATUS',\n  'PATIENT_GENDER',\n  'PATIENT_MOBILE_NO',\n  'PATIENT_BADGE_NO',\n  'HIS_INSURANCE_CODE',\n  'POLICY_HOLDER_NO',\n  'CLAIM_TYPE',\n  'BATCH_NO',\n  'TOTAL_CLAIMED_AMOUNT',\n  'TOTAL_CLAIMED_AMOUNT_SAR',\n  'TOTAL_NET_AMOUNT',\n  'TOTAL_DISCOUNT',\n  'TOTAL_DEDUCTIBLE',\n  'TOTAL_PATIENT_VATAMOUNT',\n  'TOTAL_NET_VAT_AMOUNT',\n  'CLAIM_NO',\n  'STAT_END_DATE',\n  'CREATED_BY_USER',\n  'CREATION_DATE',\n  'AMEND_BY_USER',\n  'AMEND_LAST_DATE',\n  'PAYER_LICENSE',\n  'DOCTOR_LICENSE',\n  'DEPARTMENT_TYPE',\n  'TREATMENT_TYPE',\n  'CLAIM_INVOICE_NO',\n  'STAT_INVOICE_NO',\n  'PURCHASER_CODE',\n  'STATUS',\n  'API_TRANS_ID',\n  'SUBMIT_CLAIM_OUTCOME',\n  'SUBMIT_CLAIM_MESSAGE',\n  'RES_STATUS',\n  'RES_CLAIM_ID',\n  'CONSULTATION_INVOICE_NO',\n  'TREATMENT_SUB_TYPE',\n  'ELIGIBILITY_RESPONSE_ID',\n  'ELIGIBILITY_RESPONSE_SYSTEM',\n  'CONTRACT_NO',\n  'ELIGIBILITY_API_TRANS_ID',\n  'CLAIM_IDENTIFIER',\n  'ATTACHED_FILES',\n  'ATTACHMENT_TYPE',\n  'NEW_BORN',\n  'PATIENT_IDENTITY_TYPE',\n  'BILLABLE_PERIOD_START',\n  'BILLABLE_PERIOD_END',\n  'BATCH_PERIOD_START',\n  'BATCH_PERIOD_END'],\n 'insurance_ahj_columns': ['API_TRANS_ID',\n  'API_PROVIDER',\n  'TRANSACTION_ID',\n  'API_NAME',\n  'URL',\n  'STATUS',\n  'ERROR_ID',\n  'ERROR_MESSAGE',\n  'TRANS_DATE',\n  'HTTP_STATUS_CODE',\n  'HTTP_STATUS_MESSAGE',\n  'RESPONSE_MESSAGE',\n  'HOSPITAL_ID',\n  'DEST_URL',\n  'REQ_HEADER',\n  'AMEND_BY_USER',\n  'AMEND_LAST_DATE',\n  'CREATED_BY_USER',\n  'CREATION_DATE',\n  'MESSAGE_HEADER_ID',\n  'RESPONSE_TIME_MS',\n  'ELAPSED_TIME_MS',\n  'DESTINATION_CODE',\n  'PATIENT_ID',\n  'PURCHASER_CODE',\n  'OUTCOME',\n  'LOCAL_API_TIME_MS',\n  'API_FUNCTION',\n  'BATCH_ID',\n  'BATCH_API_TRANS_ID',\n  'BUNDLE_ID',\n  'CANCEL_API_TRANS_ID',\n  'EXTERNAL_MESSAGE',\n  'OASIS_MESSGAE_ID',\n  'RES_SENDER',\n  'PROVIDER_LIC',\n  'RES_IDENTIFIER',\n  'RES_IDENTIFIER_SYSTEM',\n  'ABOUT_API_TRANS_ID',\n  'BUNDLE_COUNT',\n  'ADJUDICATION_OUTCOME',\n  'ARCHIVE_DATE',\n  'FACILITY_ID'],\n 'latest_update': ['2024-04-30']}"
     },
     "execution_count": 8,
     "metadata": {},
     "output_type": "execute_result"
    }
   ],
   "source": [
    "table_info_dict"
   ],
   "metadata": {
    "collapsed": false,
    "ExecuteTime": {
     "end_time": "2024-06-26T07:22:07.525570300Z",
     "start_time": "2024-06-26T07:22:07.497624900Z"
    }
   },
   "id": "3aa717928ae37e2c"
  },
  {
   "cell_type": "code",
   "execution_count": null,
   "outputs": [],
   "source": [],
   "metadata": {
    "collapsed": false
   },
   "id": "c5196aee356a7ee4"
  }
 ],
 "metadata": {
  "kernelspec": {
   "display_name": "Python 3",
   "language": "python",
   "name": "python3"
  },
  "language_info": {
   "codemirror_mode": {
    "name": "ipython",
    "version": 2
   },
   "file_extension": ".py",
   "mimetype": "text/x-python",
   "name": "python",
   "nbconvert_exporter": "python",
   "pygments_lexer": "ipython2",
   "version": "2.7.6"
  }
 },
 "nbformat": 4,
 "nbformat_minor": 5
}
