{
 "cells": [
  {
   "cell_type": "markdown",
   "source": [
    "## Data Loading and diagnosis added"
   ],
   "metadata": {
    "collapsed": false
   }
  },
  {
   "cell_type": "code",
   "execution_count": 9,
   "outputs": [],
   "source": [
    "import pandas as pd\n",
    "from src import data_query"
   ],
   "metadata": {
    "collapsed": false,
    "ExecuteTime": {
     "end_time": "2024-06-26T07:30:07.990885600Z",
     "start_time": "2024-06-26T07:30:07.985721200Z"
    }
   }
  },
  {
   "cell_type": "code",
   "execution_count": 34,
   "outputs": [],
   "source": [
    "diagnosis_df = data_query.load_query(TABLE_NAME='[Episode-Diagnose]', source='BI')"
   ],
   "metadata": {
    "collapsed": false,
    "ExecuteTime": {
     "end_time": "2024-06-26T08:14:54.921969100Z",
     "start_time": "2024-06-26T08:14:32.559896300Z"
    }
   },
   "id": "c5196aee356a7ee4"
  },
  {
   "cell_type": "code",
   "execution_count": 35,
   "outputs": [],
   "source": [
    "diagnosis_df['VISIT_NO'] = diagnosis_df['Episode_Key'].apply(lambda x:x.split('_')[1])\n",
    "# diagnosis_df['Hospital_ID'] = diagnosis_df['Episode_Key'].apply(lambda x:x.split('_')[0])"
   ],
   "metadata": {
    "collapsed": false,
    "ExecuteTime": {
     "end_time": "2024-06-26T08:14:58.083586700Z",
     "start_time": "2024-06-26T08:14:58.036990700Z"
    }
   },
   "id": "c9f8e1843debd053"
  },
  {
   "cell_type": "code",
   "execution_count": 36,
   "outputs": [
    {
     "data": {
      "text/plain": "dtype('O')"
     },
     "execution_count": 36,
     "metadata": {},
     "output_type": "execute_result"
    }
   ],
   "source": [
    "diagnosis_df['VISIT_NO'].dtype"
   ],
   "metadata": {
    "collapsed": false,
    "ExecuteTime": {
     "end_time": "2024-06-26T08:14:58.855333Z",
     "start_time": "2024-06-26T08:14:58.841282700Z"
    }
   },
   "id": "34880f9ef32c68af"
  },
  {
   "cell_type": "code",
   "execution_count": 37,
   "outputs": [
    {
     "data": {
      "text/plain": "       Episode_Key  ICD10 Diagnosis_Key   VISIT_NO\n0      1_1328896-4  J06.9    1_10164354  1328896-4\n1      1_1031641-3  J30.4    1_10164418  1031641-3\n2      1_65079-107    A09   1_111220949  65079-107\n3      1_1326483-4  R22.1    1_10171516  1326483-4\n4      1_1325276-8    K02    1_10164622  1325276-8\n...            ...    ...           ...        ...\n38362  1_831810-92  R52.0    1_10171630  831810-92\n38363  1_1356893-1  K90.4    1_10165130  1356893-1\n38364  1_1363505-9  M54.1   1_111230672  1363505-9\n38365  1_1356840-2  M22.2    1_10166537  1356840-2\n38366   1_829950-8  B35.6    1_10160409   829950-8\n\n[38367 rows x 4 columns]",
      "text/html": "<div>\n<style scoped>\n    .dataframe tbody tr th:only-of-type {\n        vertical-align: middle;\n    }\n\n    .dataframe tbody tr th {\n        vertical-align: top;\n    }\n\n    .dataframe thead th {\n        text-align: right;\n    }\n</style>\n<table border=\"1\" class=\"dataframe\">\n  <thead>\n    <tr style=\"text-align: right;\">\n      <th></th>\n      <th>Episode_Key</th>\n      <th>ICD10</th>\n      <th>Diagnosis_Key</th>\n      <th>VISIT_NO</th>\n    </tr>\n  </thead>\n  <tbody>\n    <tr>\n      <th>0</th>\n      <td>1_1328896-4</td>\n      <td>J06.9</td>\n      <td>1_10164354</td>\n      <td>1328896-4</td>\n    </tr>\n    <tr>\n      <th>1</th>\n      <td>1_1031641-3</td>\n      <td>J30.4</td>\n      <td>1_10164418</td>\n      <td>1031641-3</td>\n    </tr>\n    <tr>\n      <th>2</th>\n      <td>1_65079-107</td>\n      <td>A09</td>\n      <td>1_111220949</td>\n      <td>65079-107</td>\n    </tr>\n    <tr>\n      <th>3</th>\n      <td>1_1326483-4</td>\n      <td>R22.1</td>\n      <td>1_10171516</td>\n      <td>1326483-4</td>\n    </tr>\n    <tr>\n      <th>4</th>\n      <td>1_1325276-8</td>\n      <td>K02</td>\n      <td>1_10164622</td>\n      <td>1325276-8</td>\n    </tr>\n    <tr>\n      <th>...</th>\n      <td>...</td>\n      <td>...</td>\n      <td>...</td>\n      <td>...</td>\n    </tr>\n    <tr>\n      <th>38362</th>\n      <td>1_831810-92</td>\n      <td>R52.0</td>\n      <td>1_10171630</td>\n      <td>831810-92</td>\n    </tr>\n    <tr>\n      <th>38363</th>\n      <td>1_1356893-1</td>\n      <td>K90.4</td>\n      <td>1_10165130</td>\n      <td>1356893-1</td>\n    </tr>\n    <tr>\n      <th>38364</th>\n      <td>1_1363505-9</td>\n      <td>M54.1</td>\n      <td>1_111230672</td>\n      <td>1363505-9</td>\n    </tr>\n    <tr>\n      <th>38365</th>\n      <td>1_1356840-2</td>\n      <td>M22.2</td>\n      <td>1_10166537</td>\n      <td>1356840-2</td>\n    </tr>\n    <tr>\n      <th>38366</th>\n      <td>1_829950-8</td>\n      <td>B35.6</td>\n      <td>1_10160409</td>\n      <td>829950-8</td>\n    </tr>\n  </tbody>\n</table>\n<p>38367 rows × 4 columns</p>\n</div>"
     },
     "execution_count": 37,
     "metadata": {},
     "output_type": "execute_result"
    }
   ],
   "source": [
    "diagnosis_df"
   ],
   "metadata": {
    "collapsed": false,
    "ExecuteTime": {
     "end_time": "2024-06-26T08:14:59.521664500Z",
     "start_time": "2024-06-26T08:14:59.494996400Z"
    }
   },
   "id": "b02573a3b281b7e"
  },
  {
   "cell_type": "code",
   "execution_count": 38,
   "outputs": [],
   "source": [
    "diagnosis_df.to_excel('data/HJH/Episode_Diagnose.xlsx', index=False)"
   ],
   "metadata": {
    "collapsed": false,
    "ExecuteTime": {
     "end_time": "2024-06-26T08:15:21.389300200Z",
     "start_time": "2024-06-26T08:15:16.732106700Z"
    }
   },
   "id": "c73416e39a0e6197"
  },
  {
   "cell_type": "code",
   "execution_count": 39,
   "outputs": [],
   "source": [
    "# read the original parquet file for service and visit\n",
    "df_claim = pd.read_parquet('data/prq/df.parquet')"
   ],
   "metadata": {
    "collapsed": false,
    "ExecuteTime": {
     "end_time": "2024-06-26T08:15:24.242870800Z",
     "start_time": "2024-06-26T08:15:22.541210400Z"
    }
   },
   "id": "787878f9cb84c3c7"
  },
  {
   "cell_type": "code",
   "execution_count": 40,
   "outputs": [
    {
     "data": {
      "text/plain": "dtype('O')"
     },
     "execution_count": 40,
     "metadata": {},
     "output_type": "execute_result"
    }
   ],
   "source": [
    "df_claim['VISIT_NO'].dtype"
   ],
   "metadata": {
    "collapsed": false,
    "ExecuteTime": {
     "end_time": "2024-06-26T08:15:24.831873900Z",
     "start_time": "2024-06-26T08:15:24.808807800Z"
    }
   },
   "id": "85dbaa7c2f5e33b6"
  },
  {
   "cell_type": "code",
   "execution_count": 42,
   "outputs": [],
   "source": [
    "df_claim=df_claim.merge(diagnosis_df,how='left',on='VISIT_NO')"
   ],
   "metadata": {
    "collapsed": false,
    "ExecuteTime": {
     "end_time": "2024-06-26T08:16:35.215733200Z",
     "start_time": "2024-06-26T08:16:34.842424300Z"
    }
   },
   "id": "a23383cd2adfb3fb"
  },
  {
   "cell_type": "code",
   "execution_count": 45,
   "outputs": [
    {
     "data": {
      "text/plain": "0           Z36\n1         R22.1\n2           R53\n3           R10\n4         R00.1\n          ...  \n488828    I24.9\n488829    R07.4\n488830    R07.4\n488831    R07.4\n488832    I46.0\nName: ICD10, Length: 488833, dtype: object"
     },
     "execution_count": 45,
     "metadata": {},
     "output_type": "execute_result"
    }
   ],
   "source": [
    "df_claim.ICD10"
   ],
   "metadata": {
    "collapsed": false,
    "ExecuteTime": {
     "end_time": "2024-06-26T08:17:20.151842700Z",
     "start_time": "2024-06-26T08:17:20.138847400Z"
    }
   },
   "id": "4239c8f99bb6daa8"
  },
  {
   "cell_type": "code",
   "execution_count": 46,
   "outputs": [],
   "source": [
    "df_claim.to_parquet('data/prq/df.parquet',index=False)"
   ],
   "metadata": {
    "collapsed": false,
    "ExecuteTime": {
     "end_time": "2024-06-26T08:24:18.449097600Z",
     "start_time": "2024-06-26T08:24:14.328720600Z"
    }
   },
   "id": "926e9fc0e7349a09"
  },
  {
   "cell_type": "markdown",
   "source": [
    "## Update data"
   ],
   "metadata": {
    "collapsed": false
   }
  },
  {
   "cell_type": "code",
   "execution_count": 1,
   "outputs": [],
   "source": [
    "import pandas as pd\n",
    "from src.data_query import update_data\n",
    "from src.data_local import read_last_date , create_folder,  store_dfs, load_stored_dfs, merge_claim"
   ],
   "metadata": {
    "collapsed": false,
    "ExecuteTime": {
     "end_time": "2024-08-16T14:51:42.687561900Z",
     "start_time": "2024-08-16T14:49:16.798707900Z"
    }
   }
  },
  {
   "cell_type": "code",
   "execution_count": 2,
   "outputs": [
    {
     "data": {
      "text/plain": "'2024-04-30'"
     },
     "execution_count": 2,
     "metadata": {},
     "output_type": "execute_result"
    }
   ],
   "source": [
    "FIRST_DATE = read_last_date()\n",
    "FIRST_DATE"
   ],
   "metadata": {
    "collapsed": false,
    "ExecuteTime": {
     "end_time": "2024-08-16T14:51:42.695771400Z",
     "start_time": "2024-08-16T14:51:42.610152700Z"
    }
   }
  },
  {
   "cell_type": "code",
   "execution_count": 3,
   "outputs": [
    {
     "data": {
      "text/plain": "'2024-06-12'"
     },
     "execution_count": 3,
     "metadata": {},
     "output_type": "execute_result"
    }
   ],
   "source": [
    "LAST_DATE = '2024-06-12' ## 60 days margin\n",
    "LAST_DATE"
   ],
   "metadata": {
    "collapsed": false,
    "ExecuteTime": {
     "end_time": "2024-08-16T14:51:42.819623900Z",
     "start_time": "2024-08-16T14:51:42.688591100Z"
    }
   }
  },
  {
   "cell_type": "code",
   "execution_count": 4,
   "outputs": [],
   "source": [
    "df_visit, df_service,df_diagnose, df_episode = update_data(FIRST_DATE= FIRST_DATE, LAST_DATE=LAST_DATE)"
   ],
   "metadata": {
    "collapsed": false,
    "ExecuteTime": {
     "end_time": "2024-08-15T23:02:19.456633200Z",
     "start_time": "2024-08-15T23:01:03.026101600Z"
    }
   },
   "id": "52652b717482999d"
  },
  {
   "cell_type": "code",
   "execution_count": 5,
   "outputs": [],
   "source": [
    "path_date = 'data/HJH/12-06-2024'\n",
    "create_folder(folder_name= path_date)\n",
    "store_dfs(df_visit, df_service,df_diagnose,df_episode,path_date)"
   ],
   "metadata": {
    "collapsed": false,
    "ExecuteTime": {
     "end_time": "2024-08-15T23:05:16.918660900Z",
     "start_time": "2024-08-15T23:05:15.234165300Z"
    }
   }
  },
  {
   "cell_type": "code",
   "execution_count": 4,
   "outputs": [],
   "source": [
    "## required after the loading session\n",
    "path_date = 'data/HJH/12-06-2024'\n",
    "df_visit, df_service,df_diagnose, df_episode = load_stored_dfs(path_date)"
   ],
   "metadata": {
    "collapsed": false,
    "ExecuteTime": {
     "end_time": "2024-08-16T14:51:44.783507900Z",
     "start_time": "2024-08-16T14:51:42.771417500Z"
    }
   }
  },
  {
   "cell_type": "code",
   "execution_count": 5,
   "outputs": [],
   "source": [
    "df_claim = merge_claim(df_visit, df_service, df_episode)"
   ],
   "metadata": {
    "collapsed": false,
    "ExecuteTime": {
     "end_time": "2024-08-16T14:51:45.777772400Z",
     "start_time": "2024-08-16T14:51:44.788493700Z"
    }
   }
  },
  {
   "cell_type": "code",
   "execution_count": 8,
   "outputs": [],
   "source": [
    "df_claim.to_parquet('data/HJH/12-06-2024/df_claim.parquet')"
   ],
   "metadata": {
    "collapsed": false,
    "ExecuteTime": {
     "end_time": "2024-08-15T23:06:01.423553600Z",
     "start_time": "2024-08-15T23:05:58.977465Z"
    }
   }
  },
  {
   "cell_type": "code",
   "execution_count": 6,
   "outputs": [],
   "source": [
    "df_old_claim = pd.read_parquet('data/HJH/30-04-2024/df.parquet')"
   ],
   "metadata": {
    "collapsed": false,
    "ExecuteTime": {
     "end_time": "2024-08-16T14:52:47.037164500Z",
     "start_time": "2024-08-16T14:52:44.420214700Z"
    }
   }
  },
  {
   "cell_type": "code",
   "execution_count": 13,
   "outputs": [
    {
     "data": {
      "text/plain": "0         237963\n1         237963\n2         237963\n3         237963\n4         237963\n           ...  \n189287    252519\n189288    252519\n189289    252519\n189290    252519\n189291    252519\nName: VISIT_ID, Length: 189292, dtype: int64"
     },
     "execution_count": 13,
     "metadata": {},
     "output_type": "execute_result"
    }
   ],
   "source": [
    "dtype = type(df_old_claim['VISIT_ID'].iloc[0])\n",
    "df_claim['VISIT_ID'].astype(dtype)"
   ],
   "metadata": {
    "collapsed": false,
    "ExecuteTime": {
     "end_time": "2024-08-16T14:54:51.416879400Z",
     "start_time": "2024-08-16T14:54:51.350777800Z"
    }
   }
  },
  {
   "cell_type": "code",
   "execution_count": 16,
   "outputs": [],
   "source": [
    "for col in df_old_claim.columns:\n",
    "    try:\n",
    "        dtype = type(df_old_claim[col].iloc[0])\n",
    "        df_claim[col] = df_claim[col].astype(dtype)\n",
    "    except:\n",
    "        if 'timestamp' in str(dtype):\n",
    "            df_claim[col] = pd.to_datetime(df_claim[col])"
   ],
   "metadata": {
    "collapsed": false,
    "ExecuteTime": {
     "end_time": "2024-08-16T14:57:56.964460Z",
     "start_time": "2024-08-16T14:57:54.512716700Z"
    }
   }
  },
  {
   "cell_type": "code",
   "execution_count": 17,
   "outputs": [],
   "source": [
    "cols = ['VISIT_ID','NET_WITH_VAT', 'SERVICE_DESCRIPTION', 'QTY', 'LINE_CLAIMED_AMOUNT_SAR', 'LINE_ITEM_DISCOUNT', 'NET_VAT_AMOUNT', 'PATIENT_VAT_AMOUNT', 'VAT_PERCENTAGE', 'TREATMENT_TYPE_INDICATOR', 'SERVICE_TYPE', 'DURATION', 'QTY_STOCKED_UOM', 'OASIS_IOS_DESCRIPTION', 'UNIT_PRICE_STOCKED_UOM', 'UNIT_PRICE_NET', 'DISCOUNT_PERCENTAGE', 'EMERGENCY_INDICATOR', 'PROVIDER_DEPARTMENT_CODE', 'PROVIDER_DEPARTMENT', 'DOCTOR_SPECIALTY_CODE', 'DOCTOR_CODE', 'PATIENT_AGE', 'UNIT_OF_AGE', 'PATIENT_NATIONALITY', 'PATIENT_MARITAL_STATUS', 'PATIENT_GENDER', 'CLAIM_TYPE', 'TOTAL_CLAIMED_AMOUNT_SAR', 'TOTAL_DISCOUNT', 'TOTAL_DEDUCTIBLE', 'TOTAL_PATIENT_VATAMOUNT', 'DEPARTMENT_TYPE', 'TREATMENT_TYPE', 'PURCHASER_CODE', 'NEW_BORN', 'ICD10']\n",
    "\n",
    "df = pd.concat([df_old_claim,df_claim])\n",
    "df = df.sort_values( by =['CREATION_DATE'])"
   ],
   "metadata": {
    "collapsed": false,
    "ExecuteTime": {
     "end_time": "2024-08-16T14:58:04.603756200Z",
     "start_time": "2024-08-16T14:58:02.971294500Z"
    }
   }
  },
  {
   "cell_type": "code",
   "execution_count": 18,
   "outputs": [
    {
     "name": "stdout",
     "output_type": "stream",
     "text": [
      "(678125, 96)\n"
     ]
    }
   ],
   "source": [
    "print(df.shape)\n",
    "df.drop_duplicates(cols,keep='last',inplace=True)"
   ],
   "metadata": {
    "collapsed": false,
    "ExecuteTime": {
     "end_time": "2024-08-16T14:58:20.339021600Z",
     "start_time": "2024-08-16T14:58:17.656120600Z"
    }
   }
  },
  {
   "cell_type": "code",
   "execution_count": 19,
   "outputs": [
    {
     "data": {
      "text/plain": "(476190, 96)"
     },
     "execution_count": 19,
     "metadata": {},
     "output_type": "execute_result"
    }
   ],
   "source": [
    "df.shape"
   ],
   "metadata": {
    "collapsed": false,
    "ExecuteTime": {
     "end_time": "2024-08-16T14:58:21.159798800Z",
     "start_time": "2024-08-16T14:58:21.142363300Z"
    }
   }
  },
  {
   "cell_type": "code",
   "execution_count": 20,
   "outputs": [
    {
     "data": {
      "text/plain": "        CREATED_BY_USER       CREATION_DATE  VISIT_ID  NET_WITH_VAT  \\\n397551            10335 2024-01-01 09:58:15    194131        575.00   \n397550            10335 2024-01-01 09:58:15    194131      15346.75   \n397549            10335 2024-01-01 09:58:15    194131         11.38   \n397543            10335 2024-01-01 09:58:15    194131        312.80   \n397556            10335 2024-01-01 10:00:43    194132        299.00   \n...                 ...                 ...       ...           ...   \n184614             9638 2024-05-31 18:36:40    252592         95.13   \n184615             9638 2024-05-31 18:36:40    252592         95.13   \n184616             9638 2024-05-31 18:36:40    252592          0.78   \n184618             9638 2024-05-31 18:36:40    252592        214.53   \n186145             9638 2024-05-31 18:36:40    252592          7.44   \n\n                             SERVICE_DESCRIPTION   QTY  LINE_CLAIMED_AMOUNT  \\\n397551     Routine preoperative anaes assessment   1.0               500.00   \n397550      Elective classical caesarean section   1.0             15700.00   \n397549            TRANDATE INJ. 100 MG.-AMP.20ML   1.0                11.98   \n397543                            Cross Matching   1.0               340.00   \n397556                                       TSH   1.0               325.00   \n...                                          ...   ...                  ...   \n184614                                       k +   1.0               127.26   \n184615                        Blood sodium Level   1.0               127.26   \n184616                       CORDARONE 200MG TAB   1.0                 0.84   \n184618  IV admin of pharmac agt oth   unsp agent  10.0               287.00   \n186145             SODIUM CHLORIDE 0.9% INFUSION   1.0                 8.00   \n\n        LINE_CLAIMED_AMOUNT_SAR  CO_PAY  CO_INSURANCE  ...  ATTACHMENT_TYPE  \\\n397551                   500.00     0.0        500.00  ...             FILE   \n397550                 15700.00     0.0      15700.00  ...             FILE   \n397549                    11.98     0.0         11.98  ...             FILE   \n397543                   340.00     0.0        340.00  ...             FILE   \n397556                   325.00     0.0        325.00  ...             FILE   \n...                         ...     ...           ...  ...              ...   \n184614                   127.26     0.0        127.26  ...             FILE   \n184615                   127.26     0.0        127.26  ...             FILE   \n184616                     0.84     0.0          0.84  ...             FILE   \n184618                   287.00     0.0        287.00  ...             FILE   \n186145                     8.00     0.0          8.00  ...             FILE   \n\n        NEW_BORN  PATIENT_IDENTITY_TYPE  BILLABLE_PERIOD_START  \\\n397551         N                      H    2023-12-07 10:29:10   \n397550         N                      H    2023-12-07 10:29:10   \n397549         N                      H    2023-12-07 10:29:10   \n397543         N                      H    2023-12-07 10:29:10   \n397556         N                      H    2023-12-07 14:09:32   \n...          ...                    ...                    ...   \n184614         N                      H    2024-04-16 07:45:09   \n184615         N                      H    2024-04-16 07:45:09   \n184616         N                      H    2024-04-16 07:45:09   \n184618         N                      H    2024-04-16 07:45:09   \n186145         N                      H    2024-04-16 07:45:09   \n\n        BILLABLE_PERIOD_END  BATCH_PERIOD_START BATCH_PERIOD_END  Episode_Key  \\\n397551  2023-12-09 09:52:10          2023-12-01       2023-12-10  1_1335736-8   \n397550  2023-12-09 09:52:10          2023-12-01       2023-12-10  1_1335736-8   \n397549  2023-12-09 09:52:10          2023-12-01       2023-12-10  1_1335736-8   \n397543  2023-12-09 09:52:10          2023-12-01       2023-12-10  1_1335736-8   \n397556  2023-12-09 09:52:28          2023-12-01       2023-12-10         None   \n...                     ...                 ...              ...          ...   \n184614  2024-05-05 22:07:21          2024-05-01       2024-05-15          nan   \n184615  2024-05-05 22:07:21          2024-05-01       2024-05-15          nan   \n184616  2024-05-05 22:07:21          2024-05-01       2024-05-15          nan   \n184618  2024-05-05 22:07:21          2024-05-01       2024-05-15          nan   \n186145  2024-05-05 22:07:21          2024-05-01       2024-05-15          nan   \n\n        ICD10  Diagnosis_Key  \n397551    O82   1_1111231440  \n397550    O82   1_1111231440  \n397549    O82   1_1111231440  \n397543    O82   1_1111231440  \n397556   None           None  \n...       ...            ...  \n184614    nan            nan  \n184615    nan            nan  \n184616    nan            nan  \n184618    nan            nan  \n186145    nan            nan  \n\n[476190 rows x 96 columns]",
      "text/html": "<div>\n<style scoped>\n    .dataframe tbody tr th:only-of-type {\n        vertical-align: middle;\n    }\n\n    .dataframe tbody tr th {\n        vertical-align: top;\n    }\n\n    .dataframe thead th {\n        text-align: right;\n    }\n</style>\n<table border=\"1\" class=\"dataframe\">\n  <thead>\n    <tr style=\"text-align: right;\">\n      <th></th>\n      <th>CREATED_BY_USER</th>\n      <th>CREATION_DATE</th>\n      <th>VISIT_ID</th>\n      <th>NET_WITH_VAT</th>\n      <th>SERVICE_DESCRIPTION</th>\n      <th>QTY</th>\n      <th>LINE_CLAIMED_AMOUNT</th>\n      <th>LINE_CLAIMED_AMOUNT_SAR</th>\n      <th>CO_PAY</th>\n      <th>CO_INSURANCE</th>\n      <th>...</th>\n      <th>ATTACHMENT_TYPE</th>\n      <th>NEW_BORN</th>\n      <th>PATIENT_IDENTITY_TYPE</th>\n      <th>BILLABLE_PERIOD_START</th>\n      <th>BILLABLE_PERIOD_END</th>\n      <th>BATCH_PERIOD_START</th>\n      <th>BATCH_PERIOD_END</th>\n      <th>Episode_Key</th>\n      <th>ICD10</th>\n      <th>Diagnosis_Key</th>\n    </tr>\n  </thead>\n  <tbody>\n    <tr>\n      <th>397551</th>\n      <td>10335</td>\n      <td>2024-01-01 09:58:15</td>\n      <td>194131</td>\n      <td>575.00</td>\n      <td>Routine preoperative anaes assessment</td>\n      <td>1.0</td>\n      <td>500.00</td>\n      <td>500.00</td>\n      <td>0.0</td>\n      <td>500.00</td>\n      <td>...</td>\n      <td>FILE</td>\n      <td>N</td>\n      <td>H</td>\n      <td>2023-12-07 10:29:10</td>\n      <td>2023-12-09 09:52:10</td>\n      <td>2023-12-01</td>\n      <td>2023-12-10</td>\n      <td>1_1335736-8</td>\n      <td>O82</td>\n      <td>1_1111231440</td>\n    </tr>\n    <tr>\n      <th>397550</th>\n      <td>10335</td>\n      <td>2024-01-01 09:58:15</td>\n      <td>194131</td>\n      <td>15346.75</td>\n      <td>Elective classical caesarean section</td>\n      <td>1.0</td>\n      <td>15700.00</td>\n      <td>15700.00</td>\n      <td>0.0</td>\n      <td>15700.00</td>\n      <td>...</td>\n      <td>FILE</td>\n      <td>N</td>\n      <td>H</td>\n      <td>2023-12-07 10:29:10</td>\n      <td>2023-12-09 09:52:10</td>\n      <td>2023-12-01</td>\n      <td>2023-12-10</td>\n      <td>1_1335736-8</td>\n      <td>O82</td>\n      <td>1_1111231440</td>\n    </tr>\n    <tr>\n      <th>397549</th>\n      <td>10335</td>\n      <td>2024-01-01 09:58:15</td>\n      <td>194131</td>\n      <td>11.38</td>\n      <td>TRANDATE INJ. 100 MG.-AMP.20ML</td>\n      <td>1.0</td>\n      <td>11.98</td>\n      <td>11.98</td>\n      <td>0.0</td>\n      <td>11.98</td>\n      <td>...</td>\n      <td>FILE</td>\n      <td>N</td>\n      <td>H</td>\n      <td>2023-12-07 10:29:10</td>\n      <td>2023-12-09 09:52:10</td>\n      <td>2023-12-01</td>\n      <td>2023-12-10</td>\n      <td>1_1335736-8</td>\n      <td>O82</td>\n      <td>1_1111231440</td>\n    </tr>\n    <tr>\n      <th>397543</th>\n      <td>10335</td>\n      <td>2024-01-01 09:58:15</td>\n      <td>194131</td>\n      <td>312.80</td>\n      <td>Cross Matching</td>\n      <td>1.0</td>\n      <td>340.00</td>\n      <td>340.00</td>\n      <td>0.0</td>\n      <td>340.00</td>\n      <td>...</td>\n      <td>FILE</td>\n      <td>N</td>\n      <td>H</td>\n      <td>2023-12-07 10:29:10</td>\n      <td>2023-12-09 09:52:10</td>\n      <td>2023-12-01</td>\n      <td>2023-12-10</td>\n      <td>1_1335736-8</td>\n      <td>O82</td>\n      <td>1_1111231440</td>\n    </tr>\n    <tr>\n      <th>397556</th>\n      <td>10335</td>\n      <td>2024-01-01 10:00:43</td>\n      <td>194132</td>\n      <td>299.00</td>\n      <td>TSH</td>\n      <td>1.0</td>\n      <td>325.00</td>\n      <td>325.00</td>\n      <td>0.0</td>\n      <td>325.00</td>\n      <td>...</td>\n      <td>FILE</td>\n      <td>N</td>\n      <td>H</td>\n      <td>2023-12-07 14:09:32</td>\n      <td>2023-12-09 09:52:28</td>\n      <td>2023-12-01</td>\n      <td>2023-12-10</td>\n      <td>None</td>\n      <td>None</td>\n      <td>None</td>\n    </tr>\n    <tr>\n      <th>...</th>\n      <td>...</td>\n      <td>...</td>\n      <td>...</td>\n      <td>...</td>\n      <td>...</td>\n      <td>...</td>\n      <td>...</td>\n      <td>...</td>\n      <td>...</td>\n      <td>...</td>\n      <td>...</td>\n      <td>...</td>\n      <td>...</td>\n      <td>...</td>\n      <td>...</td>\n      <td>...</td>\n      <td>...</td>\n      <td>...</td>\n      <td>...</td>\n      <td>...</td>\n      <td>...</td>\n    </tr>\n    <tr>\n      <th>184614</th>\n      <td>9638</td>\n      <td>2024-05-31 18:36:40</td>\n      <td>252592</td>\n      <td>95.13</td>\n      <td>k +</td>\n      <td>1.0</td>\n      <td>127.26</td>\n      <td>127.26</td>\n      <td>0.0</td>\n      <td>127.26</td>\n      <td>...</td>\n      <td>FILE</td>\n      <td>N</td>\n      <td>H</td>\n      <td>2024-04-16 07:45:09</td>\n      <td>2024-05-05 22:07:21</td>\n      <td>2024-05-01</td>\n      <td>2024-05-15</td>\n      <td>nan</td>\n      <td>nan</td>\n      <td>nan</td>\n    </tr>\n    <tr>\n      <th>184615</th>\n      <td>9638</td>\n      <td>2024-05-31 18:36:40</td>\n      <td>252592</td>\n      <td>95.13</td>\n      <td>Blood sodium Level</td>\n      <td>1.0</td>\n      <td>127.26</td>\n      <td>127.26</td>\n      <td>0.0</td>\n      <td>127.26</td>\n      <td>...</td>\n      <td>FILE</td>\n      <td>N</td>\n      <td>H</td>\n      <td>2024-04-16 07:45:09</td>\n      <td>2024-05-05 22:07:21</td>\n      <td>2024-05-01</td>\n      <td>2024-05-15</td>\n      <td>nan</td>\n      <td>nan</td>\n      <td>nan</td>\n    </tr>\n    <tr>\n      <th>184616</th>\n      <td>9638</td>\n      <td>2024-05-31 18:36:40</td>\n      <td>252592</td>\n      <td>0.78</td>\n      <td>CORDARONE 200MG TAB</td>\n      <td>1.0</td>\n      <td>0.84</td>\n      <td>0.84</td>\n      <td>0.0</td>\n      <td>0.84</td>\n      <td>...</td>\n      <td>FILE</td>\n      <td>N</td>\n      <td>H</td>\n      <td>2024-04-16 07:45:09</td>\n      <td>2024-05-05 22:07:21</td>\n      <td>2024-05-01</td>\n      <td>2024-05-15</td>\n      <td>nan</td>\n      <td>nan</td>\n      <td>nan</td>\n    </tr>\n    <tr>\n      <th>184618</th>\n      <td>9638</td>\n      <td>2024-05-31 18:36:40</td>\n      <td>252592</td>\n      <td>214.53</td>\n      <td>IV admin of pharmac agt oth   unsp agent</td>\n      <td>10.0</td>\n      <td>287.00</td>\n      <td>287.00</td>\n      <td>0.0</td>\n      <td>287.00</td>\n      <td>...</td>\n      <td>FILE</td>\n      <td>N</td>\n      <td>H</td>\n      <td>2024-04-16 07:45:09</td>\n      <td>2024-05-05 22:07:21</td>\n      <td>2024-05-01</td>\n      <td>2024-05-15</td>\n      <td>nan</td>\n      <td>nan</td>\n      <td>nan</td>\n    </tr>\n    <tr>\n      <th>186145</th>\n      <td>9638</td>\n      <td>2024-05-31 18:36:40</td>\n      <td>252592</td>\n      <td>7.44</td>\n      <td>SODIUM CHLORIDE 0.9% INFUSION</td>\n      <td>1.0</td>\n      <td>8.00</td>\n      <td>8.00</td>\n      <td>0.0</td>\n      <td>8.00</td>\n      <td>...</td>\n      <td>FILE</td>\n      <td>N</td>\n      <td>H</td>\n      <td>2024-04-16 07:45:09</td>\n      <td>2024-05-05 22:07:21</td>\n      <td>2024-05-01</td>\n      <td>2024-05-15</td>\n      <td>nan</td>\n      <td>nan</td>\n      <td>nan</td>\n    </tr>\n  </tbody>\n</table>\n<p>476190 rows × 96 columns</p>\n</div>"
     },
     "execution_count": 20,
     "metadata": {},
     "output_type": "execute_result"
    }
   ],
   "source": [
    "df"
   ],
   "metadata": {
    "collapsed": false,
    "ExecuteTime": {
     "end_time": "2024-08-16T14:58:31.119226900Z",
     "start_time": "2024-08-16T14:58:30.616869Z"
    }
   }
  },
  {
   "cell_type": "code",
   "execution_count": 21,
   "outputs": [],
   "source": [
    "df.to_parquet('data/HJH/12-06-2024/df.parquet')"
   ],
   "metadata": {
    "collapsed": false,
    "ExecuteTime": {
     "end_time": "2024-08-16T14:58:45.068515600Z",
     "start_time": "2024-08-16T14:58:41.120382900Z"
    }
   }
  },
  {
   "cell_type": "code",
   "execution_count": 22,
   "outputs": [],
   "source": [
    "df.to_csv('data/HJH/12-06-2024/df.csv',index=False)"
   ],
   "metadata": {
    "collapsed": false,
    "ExecuteTime": {
     "end_time": "2024-08-16T14:59:42.932394700Z",
     "start_time": "2024-08-16T14:59:03.334377200Z"
    }
   }
  },
  {
   "cell_type": "code",
   "execution_count": null,
   "outputs": [],
   "source": [],
   "metadata": {
    "collapsed": false
   }
  }
 ],
 "metadata": {
  "kernelspec": {
   "display_name": "Python 3",
   "language": "python",
   "name": "python3"
  },
  "language_info": {
   "codemirror_mode": {
    "name": "ipython",
    "version": 2
   },
   "file_extension": ".py",
   "mimetype": "text/x-python",
   "name": "python",
   "nbconvert_exporter": "python",
   "pygments_lexer": "ipython2",
   "version": "2.7.6"
  }
 },
 "nbformat": 4,
 "nbformat_minor": 5
}
