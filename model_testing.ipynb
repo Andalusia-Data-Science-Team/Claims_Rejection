{
 "cells": [
  {
   "cell_type": "code",
   "execution_count": 1,
   "metadata": {
    "collapsed": true,
    "ExecuteTime": {
     "end_time": "2024-07-01T11:09:36.670997500Z",
     "start_time": "2024-07-01T11:09:22.332483Z"
    }
   },
   "outputs": [],
   "source": [
    "from cashe import get_cashed_input\n",
    "from src.lstm_encoder import LSTMEmbedding\n",
    "from src.data_local import MergedDataPreprocessing\n",
    "import pandas as pd"
   ]
  },
  {
   "cell_type": "code",
   "execution_count": 2,
   "outputs": [],
   "source": [
    "df = get_cashed_input()"
   ],
   "metadata": {
    "collapsed": false,
    "ExecuteTime": {
     "end_time": "2024-07-01T11:09:38.907337600Z",
     "start_time": "2024-07-01T11:09:36.671993600Z"
    }
   }
  },
  {
   "cell_type": "code",
   "execution_count": 3,
   "outputs": [
    {
     "data": {
      "text/plain": "        CREATED_BY_USER       CREATION_DATE  VISIT_ID  NET_WITH_VAT  \\\n0                  9521 2024-04-04 22:57:57    230089         56.12   \n1                  9521 2024-04-04 23:02:21    230117        202.40   \n2                  9521 2024-04-04 23:08:38    230160        408.08   \n3                  9521 2024-04-04 22:26:08    229872         24.27   \n4                  9521 2024-04-04 22:34:22    229913         80.64   \n...                 ...                 ...       ...           ...   \n488828             9593 2024-01-23 17:20:54    204110        242.48   \n488829            10962 2024-01-28 01:01:05    204377          1.06   \n488830            10962 2024-01-28 01:01:05    204377          1.14   \n488831            10962 2024-01-28 01:01:05    204377          1.79   \n488832             9593 2024-01-23 16:35:34    204093        144.56   \n\n                             SERVICE_DESCRIPTION  QTY  LINE_CLAIMED_AMOUNT  \\\n0                                  Unlisted Code  1.0                61.00   \n1                                            TSH  1.0               220.00   \n2                            In vivo laboratory   1.0               475.00   \n3                            ELICA-M CREAM 30 GM  1.0                25.55   \n4                 Peripheral intravenous cannula  1.0                90.00   \n...                                          ...  ...                  ...   \n488828  Quantitative Troponin (Protein) Analysis  1.0               324.39   \n488829                       NEBILET 5MG TABLETS  1.0                 1.14   \n488830                   Unlisted Procedure Code  5.0                 1.77   \n488831                 SALURIN 20MG-2ML AMPOULES  1.0                 1.93   \n488832              Radiography of chest, 1 view  1.0               193.39   \n\n        LINE_CLAIMED_AMOUNT_SAR  CO_PAY  CO_INSURANCE  ...  \\\n0                         61.00    0.00         61.00  ...   \n1                        220.00    0.00        220.00  ...   \n2                        475.00   10.75        464.25  ...   \n3                         25.55    4.85         20.70  ...   \n4                         90.00   14.40         75.60  ...   \n...                         ...     ...           ...  ...   \n488828                   324.39    0.00        324.39  ...   \n488829                     1.14    0.00          1.14  ...   \n488830                     1.77    0.00          1.77  ...   \n488831                     1.93    0.00          1.93  ...   \n488832                   193.39    0.00        193.39  ...   \n\n        ELIGIBILITY_API_TRANS_ID  CLAIM_IDENTIFIER  \\\n0                      1680350.0         4430078.0   \n1                      1643690.0         4430087.0   \n2                      1616370.0         4430098.0   \n3                      1638278.0         4430011.0   \n4                      1657180.0         4430028.0   \n...                          ...               ...   \n488828                       NaN         4404986.0   \n488829                       NaN         4404989.0   \n488830                       NaN         4404989.0   \n488831                       NaN         4404989.0   \n488832                       NaN         4405026.0   \n\n                                           ATTACHED_FILES  ATTACHMENT_TYPE  \\\n0       929362-34-4430078_OPDUCAF_2024-04-04_22-57-36_...             FILE   \n1       1083147-3-4430087_OPDUCAF_2024-04-04_23-01-52_...             FILE   \n2       1339075-6-4430098_OPDUCAF_2024-04-04_23-08-22_...             FILE   \n3       656928-60-4430011_OPDUCAF_2024-04-04_22-25-48_...             FILE   \n4       1019628-25-4430028_OPDUCAF_2024-04-04_22-33-56...             FILE   \n...                                                   ...              ...   \n488828  1348956-2-4404986_OPDUCAF_2024-01-23_17-17-31_...             FILE   \n488829  1349595-2-4404989_LABCHRT1_2024-01-28_01-00-04...             FILE   \n488830  1349595-2-4404989_LABCHRT1_2024-01-28_01-00-04...             FILE   \n488831  1349595-2-4404989_LABCHRT1_2024-01-28_01-00-04...             FILE   \n488832  1348795-1-4405026_OPDUCAF_2024-01-23_16-35-06_...             FILE   \n\n        NEW_BORN  PATIENT_IDENTITY_TYPE BILLABLE_PERIOD_START  \\\n0              N                      H   2024-03-28 00:00:00   \n1              N                      H   2024-03-12 00:00:00   \n2              N                      H   2024-03-04 00:00:00   \n3              N                      H   2024-03-10 00:00:00   \n4              N                      H   2024-03-18 00:00:00   \n...          ...                    ...                   ...   \n488828         N                     IQ   2023-12-24 10:28:07   \n488829         N                     IQ   2023-12-27 20:51:37   \n488830         N                     IQ   2023-12-27 20:51:37   \n488831         N                     IQ   2023-12-27 20:51:37   \n488832         N                     IQ   2023-12-22 00:00:00   \n\n        BILLABLE_PERIOD_END  BATCH_PERIOD_START  BATCH_PERIOD_END  \n0       2024-04-11 00:00:00          2024-03-01        2024-03-31  \n1       2024-03-26 00:00:00          2024-03-01        2024-03-31  \n2       2024-03-18 00:00:00          2024-03-01        2024-03-31  \n3       2024-03-24 00:00:00          2024-03-01        2024-03-31  \n4       2024-04-01 00:00:00          2024-03-01        2024-03-31  \n...                     ...                 ...               ...  \n488828  2023-12-28 12:07:18          2023-12-01        2023-12-31  \n488829  2023-12-31 17:16:53          2023-12-01        2023-12-31  \n488830  2023-12-31 17:16:53          2023-12-01        2023-12-31  \n488831  2023-12-31 17:16:53          2023-12-01        2023-12-31  \n488832  2024-01-05 00:00:00          2023-12-01        2023-12-31  \n\n[488833 rows x 93 columns]",
      "text/html": "<div>\n<style scoped>\n    .dataframe tbody tr th:only-of-type {\n        vertical-align: middle;\n    }\n\n    .dataframe tbody tr th {\n        vertical-align: top;\n    }\n\n    .dataframe thead th {\n        text-align: right;\n    }\n</style>\n<table border=\"1\" class=\"dataframe\">\n  <thead>\n    <tr style=\"text-align: right;\">\n      <th></th>\n      <th>CREATED_BY_USER</th>\n      <th>CREATION_DATE</th>\n      <th>VISIT_ID</th>\n      <th>NET_WITH_VAT</th>\n      <th>SERVICE_DESCRIPTION</th>\n      <th>QTY</th>\n      <th>LINE_CLAIMED_AMOUNT</th>\n      <th>LINE_CLAIMED_AMOUNT_SAR</th>\n      <th>CO_PAY</th>\n      <th>CO_INSURANCE</th>\n      <th>...</th>\n      <th>ELIGIBILITY_API_TRANS_ID</th>\n      <th>CLAIM_IDENTIFIER</th>\n      <th>ATTACHED_FILES</th>\n      <th>ATTACHMENT_TYPE</th>\n      <th>NEW_BORN</th>\n      <th>PATIENT_IDENTITY_TYPE</th>\n      <th>BILLABLE_PERIOD_START</th>\n      <th>BILLABLE_PERIOD_END</th>\n      <th>BATCH_PERIOD_START</th>\n      <th>BATCH_PERIOD_END</th>\n    </tr>\n  </thead>\n  <tbody>\n    <tr>\n      <th>0</th>\n      <td>9521</td>\n      <td>2024-04-04 22:57:57</td>\n      <td>230089</td>\n      <td>56.12</td>\n      <td>Unlisted Code</td>\n      <td>1.0</td>\n      <td>61.00</td>\n      <td>61.00</td>\n      <td>0.00</td>\n      <td>61.00</td>\n      <td>...</td>\n      <td>1680350.0</td>\n      <td>4430078.0</td>\n      <td>929362-34-4430078_OPDUCAF_2024-04-04_22-57-36_...</td>\n      <td>FILE</td>\n      <td>N</td>\n      <td>H</td>\n      <td>2024-03-28 00:00:00</td>\n      <td>2024-04-11 00:00:00</td>\n      <td>2024-03-01</td>\n      <td>2024-03-31</td>\n    </tr>\n    <tr>\n      <th>1</th>\n      <td>9521</td>\n      <td>2024-04-04 23:02:21</td>\n      <td>230117</td>\n      <td>202.40</td>\n      <td>TSH</td>\n      <td>1.0</td>\n      <td>220.00</td>\n      <td>220.00</td>\n      <td>0.00</td>\n      <td>220.00</td>\n      <td>...</td>\n      <td>1643690.0</td>\n      <td>4430087.0</td>\n      <td>1083147-3-4430087_OPDUCAF_2024-04-04_23-01-52_...</td>\n      <td>FILE</td>\n      <td>N</td>\n      <td>H</td>\n      <td>2024-03-12 00:00:00</td>\n      <td>2024-03-26 00:00:00</td>\n      <td>2024-03-01</td>\n      <td>2024-03-31</td>\n    </tr>\n    <tr>\n      <th>2</th>\n      <td>9521</td>\n      <td>2024-04-04 23:08:38</td>\n      <td>230160</td>\n      <td>408.08</td>\n      <td>In vivo laboratory</td>\n      <td>1.0</td>\n      <td>475.00</td>\n      <td>475.00</td>\n      <td>10.75</td>\n      <td>464.25</td>\n      <td>...</td>\n      <td>1616370.0</td>\n      <td>4430098.0</td>\n      <td>1339075-6-4430098_OPDUCAF_2024-04-04_23-08-22_...</td>\n      <td>FILE</td>\n      <td>N</td>\n      <td>H</td>\n      <td>2024-03-04 00:00:00</td>\n      <td>2024-03-18 00:00:00</td>\n      <td>2024-03-01</td>\n      <td>2024-03-31</td>\n    </tr>\n    <tr>\n      <th>3</th>\n      <td>9521</td>\n      <td>2024-04-04 22:26:08</td>\n      <td>229872</td>\n      <td>24.27</td>\n      <td>ELICA-M CREAM 30 GM</td>\n      <td>1.0</td>\n      <td>25.55</td>\n      <td>25.55</td>\n      <td>4.85</td>\n      <td>20.70</td>\n      <td>...</td>\n      <td>1638278.0</td>\n      <td>4430011.0</td>\n      <td>656928-60-4430011_OPDUCAF_2024-04-04_22-25-48_...</td>\n      <td>FILE</td>\n      <td>N</td>\n      <td>H</td>\n      <td>2024-03-10 00:00:00</td>\n      <td>2024-03-24 00:00:00</td>\n      <td>2024-03-01</td>\n      <td>2024-03-31</td>\n    </tr>\n    <tr>\n      <th>4</th>\n      <td>9521</td>\n      <td>2024-04-04 22:34:22</td>\n      <td>229913</td>\n      <td>80.64</td>\n      <td>Peripheral intravenous cannula</td>\n      <td>1.0</td>\n      <td>90.00</td>\n      <td>90.00</td>\n      <td>14.40</td>\n      <td>75.60</td>\n      <td>...</td>\n      <td>1657180.0</td>\n      <td>4430028.0</td>\n      <td>1019628-25-4430028_OPDUCAF_2024-04-04_22-33-56...</td>\n      <td>FILE</td>\n      <td>N</td>\n      <td>H</td>\n      <td>2024-03-18 00:00:00</td>\n      <td>2024-04-01 00:00:00</td>\n      <td>2024-03-01</td>\n      <td>2024-03-31</td>\n    </tr>\n    <tr>\n      <th>...</th>\n      <td>...</td>\n      <td>...</td>\n      <td>...</td>\n      <td>...</td>\n      <td>...</td>\n      <td>...</td>\n      <td>...</td>\n      <td>...</td>\n      <td>...</td>\n      <td>...</td>\n      <td>...</td>\n      <td>...</td>\n      <td>...</td>\n      <td>...</td>\n      <td>...</td>\n      <td>...</td>\n      <td>...</td>\n      <td>...</td>\n      <td>...</td>\n      <td>...</td>\n      <td>...</td>\n    </tr>\n    <tr>\n      <th>488828</th>\n      <td>9593</td>\n      <td>2024-01-23 17:20:54</td>\n      <td>204110</td>\n      <td>242.48</td>\n      <td>Quantitative Troponin (Protein) Analysis</td>\n      <td>1.0</td>\n      <td>324.39</td>\n      <td>324.39</td>\n      <td>0.00</td>\n      <td>324.39</td>\n      <td>...</td>\n      <td>NaN</td>\n      <td>4404986.0</td>\n      <td>1348956-2-4404986_OPDUCAF_2024-01-23_17-17-31_...</td>\n      <td>FILE</td>\n      <td>N</td>\n      <td>IQ</td>\n      <td>2023-12-24 10:28:07</td>\n      <td>2023-12-28 12:07:18</td>\n      <td>2023-12-01</td>\n      <td>2023-12-31</td>\n    </tr>\n    <tr>\n      <th>488829</th>\n      <td>10962</td>\n      <td>2024-01-28 01:01:05</td>\n      <td>204377</td>\n      <td>1.06</td>\n      <td>NEBILET 5MG TABLETS</td>\n      <td>1.0</td>\n      <td>1.14</td>\n      <td>1.14</td>\n      <td>0.00</td>\n      <td>1.14</td>\n      <td>...</td>\n      <td>NaN</td>\n      <td>4404989.0</td>\n      <td>1349595-2-4404989_LABCHRT1_2024-01-28_01-00-04...</td>\n      <td>FILE</td>\n      <td>N</td>\n      <td>IQ</td>\n      <td>2023-12-27 20:51:37</td>\n      <td>2023-12-31 17:16:53</td>\n      <td>2023-12-01</td>\n      <td>2023-12-31</td>\n    </tr>\n    <tr>\n      <th>488830</th>\n      <td>10962</td>\n      <td>2024-01-28 01:01:05</td>\n      <td>204377</td>\n      <td>1.14</td>\n      <td>Unlisted Procedure Code</td>\n      <td>5.0</td>\n      <td>1.77</td>\n      <td>1.77</td>\n      <td>0.00</td>\n      <td>1.77</td>\n      <td>...</td>\n      <td>NaN</td>\n      <td>4404989.0</td>\n      <td>1349595-2-4404989_LABCHRT1_2024-01-28_01-00-04...</td>\n      <td>FILE</td>\n      <td>N</td>\n      <td>IQ</td>\n      <td>2023-12-27 20:51:37</td>\n      <td>2023-12-31 17:16:53</td>\n      <td>2023-12-01</td>\n      <td>2023-12-31</td>\n    </tr>\n    <tr>\n      <th>488831</th>\n      <td>10962</td>\n      <td>2024-01-28 01:01:05</td>\n      <td>204377</td>\n      <td>1.79</td>\n      <td>SALURIN 20MG-2ML AMPOULES</td>\n      <td>1.0</td>\n      <td>1.93</td>\n      <td>1.93</td>\n      <td>0.00</td>\n      <td>1.93</td>\n      <td>...</td>\n      <td>NaN</td>\n      <td>4404989.0</td>\n      <td>1349595-2-4404989_LABCHRT1_2024-01-28_01-00-04...</td>\n      <td>FILE</td>\n      <td>N</td>\n      <td>IQ</td>\n      <td>2023-12-27 20:51:37</td>\n      <td>2023-12-31 17:16:53</td>\n      <td>2023-12-01</td>\n      <td>2023-12-31</td>\n    </tr>\n    <tr>\n      <th>488832</th>\n      <td>9593</td>\n      <td>2024-01-23 16:35:34</td>\n      <td>204093</td>\n      <td>144.56</td>\n      <td>Radiography of chest, 1 view</td>\n      <td>1.0</td>\n      <td>193.39</td>\n      <td>193.39</td>\n      <td>0.00</td>\n      <td>193.39</td>\n      <td>...</td>\n      <td>NaN</td>\n      <td>4405026.0</td>\n      <td>1348795-1-4405026_OPDUCAF_2024-01-23_16-35-06_...</td>\n      <td>FILE</td>\n      <td>N</td>\n      <td>IQ</td>\n      <td>2023-12-22 00:00:00</td>\n      <td>2024-01-05 00:00:00</td>\n      <td>2023-12-01</td>\n      <td>2023-12-31</td>\n    </tr>\n  </tbody>\n</table>\n<p>488833 rows × 93 columns</p>\n</div>"
     },
     "execution_count": 3,
     "metadata": {},
     "output_type": "execute_result"
    }
   ],
   "source": [
    "df"
   ],
   "metadata": {
    "collapsed": false,
    "ExecuteTime": {
     "end_time": "2024-07-01T11:09:39.217507Z",
     "start_time": "2024-07-01T11:09:38.921298800Z"
    }
   }
  },
  {
   "cell_type": "code",
   "execution_count": 13,
   "outputs": [],
   "source": [
    "#!pip install tf-keras --quiet\n",
    "#!pip install transformers --quiet"
   ],
   "metadata": {
    "collapsed": false,
    "ExecuteTime": {
     "end_time": "2024-07-02T10:34:31.570355900Z",
     "start_time": "2024-07-02T10:34:31.546378600Z"
    }
   }
  },
  {
   "cell_type": "code",
   "execution_count": 5,
   "outputs": [],
   "source": [
    "preprocessing = MergedDataPreprocessing(df)"
   ],
   "metadata": {
    "collapsed": false,
    "ExecuteTime": {
     "end_time": "2024-07-01T10:25:08.374242800Z",
     "start_time": "2024-07-01T10:25:08.344652Z"
    }
   }
  },
  {
   "cell_type": "code",
   "execution_count": 6,
   "outputs": [
    {
     "name": "stderr",
     "output_type": "stream",
     "text": [
      "E:\\Projects\\Claims_Rejection\\src\\data_local.py:203: FutureWarning: Downcasting behavior in `replace` is deprecated and will be removed in a future version. To retain the old behavior, explicitly call `result.infer_objects(copy=False)`. To opt-in to the future behavior, set `pd.set_option('future.no_silent_downcasting', True)`\n",
      "  self.df[column] = self.df[column].replace(column_encoding)\n",
      "E:\\Projects\\Claims_Rejection\\src\\data_local.py:208: FutureWarning: Downcasting behavior in `replace` is deprecated and will be removed in a future version. To retain the old behavior, explicitly call `result.infer_objects(copy=False)`. To opt-in to the future behavior, set `pd.set_option('future.no_silent_downcasting', True)`\n",
      "  self.df['PatientAgeRange'] = self.df.PatientAgeRange.replace(age_encoding)\n"
     ]
    }
   ],
   "source": [
    "df_prep = preprocessing.columns_prep(service_encoding=True)"
   ],
   "metadata": {
    "collapsed": false,
    "ExecuteTime": {
     "end_time": "2024-07-01T10:25:33.972734700Z",
     "start_time": "2024-07-01T10:25:08.911638400Z"
    }
   }
  },
  {
   "cell_type": "code",
   "execution_count": 7,
   "outputs": [
    {
     "data": {
      "text/plain": "        CREATED_BY_USER       CREATION_DATE  VISIT_ID  NET_WITH_VAT  \\\n0                  9521 2024-04-04 22:57:57    230089         56.12   \n1                  9521 2024-04-04 23:02:21    230117        202.40   \n2                  9521 2024-04-04 23:08:38    230160        408.08   \n3                  9521 2024-04-04 22:26:08    229872         24.27   \n4                  9521 2024-04-04 22:34:22    229913         80.64   \n...                 ...                 ...       ...           ...   \n488828             9593 2024-01-23 17:20:54    204110        242.48   \n488829            10962 2024-01-28 01:01:05    204377          1.06   \n488830            10962 2024-01-28 01:01:05    204377          1.14   \n488831            10962 2024-01-28 01:01:05    204377          1.79   \n488832             9593 2024-01-23 16:35:34    204093        144.56   \n\n        SERVICE_DESCRIPTION  QTY  LINE_CLAIMED_AMOUNT  \\\n0                      1205  1.0                61.00   \n1                      1165  1.0               220.00   \n2                       617  1.0               475.00   \n3                       396  1.0                25.55   \n4                       917  1.0                90.00   \n...                     ...  ...                  ...   \n488828                  930  1.0               324.39   \n488829                  770  1.0                 1.14   \n488830                 1206  5.0                 1.77   \n488831                 1058  1.0                 1.93   \n488832                  982  1.0               193.39   \n\n        LINE_CLAIMED_AMOUNT_SAR  CO_PAY  CO_INSURANCE  ...  CLAIM_IDENTIFIER  \\\n0                         61.00    0.00         61.00  ...         4430078.0   \n1                        220.00    0.00        220.00  ...         4430087.0   \n2                        475.00   10.75        464.25  ...         4430098.0   \n3                         25.55    4.85         20.70  ...         4430011.0   \n4                         90.00   14.40         75.60  ...         4430028.0   \n...                         ...     ...           ...  ...               ...   \n488828                   324.39    0.00        324.39  ...         4404986.0   \n488829                     1.14    0.00          1.14  ...         4404989.0   \n488830                     1.77    0.00          1.77  ...         4404989.0   \n488831                     1.93    0.00          1.93  ...         4404989.0   \n488832                   193.39    0.00        193.39  ...         4405026.0   \n\n                                           ATTACHED_FILES  ATTACHMENT_TYPE  \\\n0       929362-34-4430078_OPDUCAF_2024-04-04_22-57-36_...             FILE   \n1       1083147-3-4430087_OPDUCAF_2024-04-04_23-01-52_...             FILE   \n2       1339075-6-4430098_OPDUCAF_2024-04-04_23-08-22_...             FILE   \n3       656928-60-4430011_OPDUCAF_2024-04-04_22-25-48_...             FILE   \n4       1019628-25-4430028_OPDUCAF_2024-04-04_22-33-56...             FILE   \n...                                                   ...              ...   \n488828  1348956-2-4404986_OPDUCAF_2024-01-23_17-17-31_...             FILE   \n488829  1349595-2-4404989_LABCHRT1_2024-01-28_01-00-04...             FILE   \n488830  1349595-2-4404989_LABCHRT1_2024-01-28_01-00-04...             FILE   \n488831  1349595-2-4404989_LABCHRT1_2024-01-28_01-00-04...             FILE   \n488832  1348795-1-4405026_OPDUCAF_2024-01-23_16-35-06_...             FILE   \n\n        NEW_BORN  PATIENT_IDENTITY_TYPE  BILLABLE_PERIOD_START  \\\n0              0                      H    2024-03-28 00:00:00   \n1              0                      H    2024-03-12 00:00:00   \n2              0                      H    2024-03-04 00:00:00   \n3              0                      H    2024-03-10 00:00:00   \n4              0                      H    2024-03-18 00:00:00   \n...          ...                    ...                    ...   \n488828         0                     IQ    2023-12-24 10:28:07   \n488829         0                     IQ    2023-12-27 20:51:37   \n488830         0                     IQ    2023-12-27 20:51:37   \n488831         0                     IQ    2023-12-27 20:51:37   \n488832         0                     IQ    2023-12-22 00:00:00   \n\n       BILLABLE_PERIOD_END  BATCH_PERIOD_START  BATCH_PERIOD_END  \\\n0      2024-04-11 00:00:00          2024-03-01        2024-03-31   \n1      2024-03-26 00:00:00          2024-03-01        2024-03-31   \n2      2024-03-18 00:00:00          2024-03-01        2024-03-31   \n3      2024-03-24 00:00:00          2024-03-01        2024-03-31   \n4      2024-04-01 00:00:00          2024-03-01        2024-03-31   \n...                    ...                 ...               ...   \n488828 2023-12-28 12:07:18          2023-12-01        2023-12-31   \n488829 2023-12-31 17:16:53          2023-12-01        2023-12-31   \n488830 2023-12-31 17:16:53          2023-12-01        2023-12-31   \n488831 2023-12-31 17:16:53          2023-12-01        2023-12-31   \n488832 2024-01-05 00:00:00          2023-12-01        2023-12-31   \n\n        PatientAgeRange  \n0                     6  \n1                     5  \n2                     6  \n3                     6  \n4                     8  \n...                 ...  \n488828                8  \n488829                7  \n488830                7  \n488831                7  \n488832                9  \n\n[488833 rows x 94 columns]",
      "text/html": "<div>\n<style scoped>\n    .dataframe tbody tr th:only-of-type {\n        vertical-align: middle;\n    }\n\n    .dataframe tbody tr th {\n        vertical-align: top;\n    }\n\n    .dataframe thead th {\n        text-align: right;\n    }\n</style>\n<table border=\"1\" class=\"dataframe\">\n  <thead>\n    <tr style=\"text-align: right;\">\n      <th></th>\n      <th>CREATED_BY_USER</th>\n      <th>CREATION_DATE</th>\n      <th>VISIT_ID</th>\n      <th>NET_WITH_VAT</th>\n      <th>SERVICE_DESCRIPTION</th>\n      <th>QTY</th>\n      <th>LINE_CLAIMED_AMOUNT</th>\n      <th>LINE_CLAIMED_AMOUNT_SAR</th>\n      <th>CO_PAY</th>\n      <th>CO_INSURANCE</th>\n      <th>...</th>\n      <th>CLAIM_IDENTIFIER</th>\n      <th>ATTACHED_FILES</th>\n      <th>ATTACHMENT_TYPE</th>\n      <th>NEW_BORN</th>\n      <th>PATIENT_IDENTITY_TYPE</th>\n      <th>BILLABLE_PERIOD_START</th>\n      <th>BILLABLE_PERIOD_END</th>\n      <th>BATCH_PERIOD_START</th>\n      <th>BATCH_PERIOD_END</th>\n      <th>PatientAgeRange</th>\n    </tr>\n  </thead>\n  <tbody>\n    <tr>\n      <th>0</th>\n      <td>9521</td>\n      <td>2024-04-04 22:57:57</td>\n      <td>230089</td>\n      <td>56.12</td>\n      <td>1205</td>\n      <td>1.0</td>\n      <td>61.00</td>\n      <td>61.00</td>\n      <td>0.00</td>\n      <td>61.00</td>\n      <td>...</td>\n      <td>4430078.0</td>\n      <td>929362-34-4430078_OPDUCAF_2024-04-04_22-57-36_...</td>\n      <td>FILE</td>\n      <td>0</td>\n      <td>H</td>\n      <td>2024-03-28 00:00:00</td>\n      <td>2024-04-11 00:00:00</td>\n      <td>2024-03-01</td>\n      <td>2024-03-31</td>\n      <td>6</td>\n    </tr>\n    <tr>\n      <th>1</th>\n      <td>9521</td>\n      <td>2024-04-04 23:02:21</td>\n      <td>230117</td>\n      <td>202.40</td>\n      <td>1165</td>\n      <td>1.0</td>\n      <td>220.00</td>\n      <td>220.00</td>\n      <td>0.00</td>\n      <td>220.00</td>\n      <td>...</td>\n      <td>4430087.0</td>\n      <td>1083147-3-4430087_OPDUCAF_2024-04-04_23-01-52_...</td>\n      <td>FILE</td>\n      <td>0</td>\n      <td>H</td>\n      <td>2024-03-12 00:00:00</td>\n      <td>2024-03-26 00:00:00</td>\n      <td>2024-03-01</td>\n      <td>2024-03-31</td>\n      <td>5</td>\n    </tr>\n    <tr>\n      <th>2</th>\n      <td>9521</td>\n      <td>2024-04-04 23:08:38</td>\n      <td>230160</td>\n      <td>408.08</td>\n      <td>617</td>\n      <td>1.0</td>\n      <td>475.00</td>\n      <td>475.00</td>\n      <td>10.75</td>\n      <td>464.25</td>\n      <td>...</td>\n      <td>4430098.0</td>\n      <td>1339075-6-4430098_OPDUCAF_2024-04-04_23-08-22_...</td>\n      <td>FILE</td>\n      <td>0</td>\n      <td>H</td>\n      <td>2024-03-04 00:00:00</td>\n      <td>2024-03-18 00:00:00</td>\n      <td>2024-03-01</td>\n      <td>2024-03-31</td>\n      <td>6</td>\n    </tr>\n    <tr>\n      <th>3</th>\n      <td>9521</td>\n      <td>2024-04-04 22:26:08</td>\n      <td>229872</td>\n      <td>24.27</td>\n      <td>396</td>\n      <td>1.0</td>\n      <td>25.55</td>\n      <td>25.55</td>\n      <td>4.85</td>\n      <td>20.70</td>\n      <td>...</td>\n      <td>4430011.0</td>\n      <td>656928-60-4430011_OPDUCAF_2024-04-04_22-25-48_...</td>\n      <td>FILE</td>\n      <td>0</td>\n      <td>H</td>\n      <td>2024-03-10 00:00:00</td>\n      <td>2024-03-24 00:00:00</td>\n      <td>2024-03-01</td>\n      <td>2024-03-31</td>\n      <td>6</td>\n    </tr>\n    <tr>\n      <th>4</th>\n      <td>9521</td>\n      <td>2024-04-04 22:34:22</td>\n      <td>229913</td>\n      <td>80.64</td>\n      <td>917</td>\n      <td>1.0</td>\n      <td>90.00</td>\n      <td>90.00</td>\n      <td>14.40</td>\n      <td>75.60</td>\n      <td>...</td>\n      <td>4430028.0</td>\n      <td>1019628-25-4430028_OPDUCAF_2024-04-04_22-33-56...</td>\n      <td>FILE</td>\n      <td>0</td>\n      <td>H</td>\n      <td>2024-03-18 00:00:00</td>\n      <td>2024-04-01 00:00:00</td>\n      <td>2024-03-01</td>\n      <td>2024-03-31</td>\n      <td>8</td>\n    </tr>\n    <tr>\n      <th>...</th>\n      <td>...</td>\n      <td>...</td>\n      <td>...</td>\n      <td>...</td>\n      <td>...</td>\n      <td>...</td>\n      <td>...</td>\n      <td>...</td>\n      <td>...</td>\n      <td>...</td>\n      <td>...</td>\n      <td>...</td>\n      <td>...</td>\n      <td>...</td>\n      <td>...</td>\n      <td>...</td>\n      <td>...</td>\n      <td>...</td>\n      <td>...</td>\n      <td>...</td>\n      <td>...</td>\n    </tr>\n    <tr>\n      <th>488828</th>\n      <td>9593</td>\n      <td>2024-01-23 17:20:54</td>\n      <td>204110</td>\n      <td>242.48</td>\n      <td>930</td>\n      <td>1.0</td>\n      <td>324.39</td>\n      <td>324.39</td>\n      <td>0.00</td>\n      <td>324.39</td>\n      <td>...</td>\n      <td>4404986.0</td>\n      <td>1348956-2-4404986_OPDUCAF_2024-01-23_17-17-31_...</td>\n      <td>FILE</td>\n      <td>0</td>\n      <td>IQ</td>\n      <td>2023-12-24 10:28:07</td>\n      <td>2023-12-28 12:07:18</td>\n      <td>2023-12-01</td>\n      <td>2023-12-31</td>\n      <td>8</td>\n    </tr>\n    <tr>\n      <th>488829</th>\n      <td>10962</td>\n      <td>2024-01-28 01:01:05</td>\n      <td>204377</td>\n      <td>1.06</td>\n      <td>770</td>\n      <td>1.0</td>\n      <td>1.14</td>\n      <td>1.14</td>\n      <td>0.00</td>\n      <td>1.14</td>\n      <td>...</td>\n      <td>4404989.0</td>\n      <td>1349595-2-4404989_LABCHRT1_2024-01-28_01-00-04...</td>\n      <td>FILE</td>\n      <td>0</td>\n      <td>IQ</td>\n      <td>2023-12-27 20:51:37</td>\n      <td>2023-12-31 17:16:53</td>\n      <td>2023-12-01</td>\n      <td>2023-12-31</td>\n      <td>7</td>\n    </tr>\n    <tr>\n      <th>488830</th>\n      <td>10962</td>\n      <td>2024-01-28 01:01:05</td>\n      <td>204377</td>\n      <td>1.14</td>\n      <td>1206</td>\n      <td>5.0</td>\n      <td>1.77</td>\n      <td>1.77</td>\n      <td>0.00</td>\n      <td>1.77</td>\n      <td>...</td>\n      <td>4404989.0</td>\n      <td>1349595-2-4404989_LABCHRT1_2024-01-28_01-00-04...</td>\n      <td>FILE</td>\n      <td>0</td>\n      <td>IQ</td>\n      <td>2023-12-27 20:51:37</td>\n      <td>2023-12-31 17:16:53</td>\n      <td>2023-12-01</td>\n      <td>2023-12-31</td>\n      <td>7</td>\n    </tr>\n    <tr>\n      <th>488831</th>\n      <td>10962</td>\n      <td>2024-01-28 01:01:05</td>\n      <td>204377</td>\n      <td>1.79</td>\n      <td>1058</td>\n      <td>1.0</td>\n      <td>1.93</td>\n      <td>1.93</td>\n      <td>0.00</td>\n      <td>1.93</td>\n      <td>...</td>\n      <td>4404989.0</td>\n      <td>1349595-2-4404989_LABCHRT1_2024-01-28_01-00-04...</td>\n      <td>FILE</td>\n      <td>0</td>\n      <td>IQ</td>\n      <td>2023-12-27 20:51:37</td>\n      <td>2023-12-31 17:16:53</td>\n      <td>2023-12-01</td>\n      <td>2023-12-31</td>\n      <td>7</td>\n    </tr>\n    <tr>\n      <th>488832</th>\n      <td>9593</td>\n      <td>2024-01-23 16:35:34</td>\n      <td>204093</td>\n      <td>144.56</td>\n      <td>982</td>\n      <td>1.0</td>\n      <td>193.39</td>\n      <td>193.39</td>\n      <td>0.00</td>\n      <td>193.39</td>\n      <td>...</td>\n      <td>4405026.0</td>\n      <td>1348795-1-4405026_OPDUCAF_2024-01-23_16-35-06_...</td>\n      <td>FILE</td>\n      <td>0</td>\n      <td>IQ</td>\n      <td>2023-12-22 00:00:00</td>\n      <td>2024-01-05 00:00:00</td>\n      <td>2023-12-01</td>\n      <td>2023-12-31</td>\n      <td>9</td>\n    </tr>\n  </tbody>\n</table>\n<p>488833 rows × 94 columns</p>\n</div>"
     },
     "execution_count": 7,
     "metadata": {},
     "output_type": "execute_result"
    }
   ],
   "source": [
    "df_prep"
   ],
   "metadata": {
    "collapsed": false,
    "ExecuteTime": {
     "end_time": "2024-07-01T10:25:34.420455100Z",
     "start_time": "2024-07-01T10:25:33.976725400Z"
    }
   }
  },
  {
   "cell_type": "code",
   "execution_count": 13,
   "outputs": [
    {
     "data": {
      "text/plain": "        CREATED_BY_USER       CREATION_DATE  VISIT_ID  NET_WITH_VAT  \\\n0                  9521 2024-04-04 22:57:57    230089         56.12   \n1                  9521 2024-04-04 23:02:21    230117        202.40   \n2                  9521 2024-04-04 23:08:38    230160        408.08   \n3                  9521 2024-04-04 22:26:08    229872         24.27   \n4                  9521 2024-04-04 22:34:22    229913         80.64   \n...                 ...                 ...       ...           ...   \n488828             9593 2024-01-23 17:20:54    204110        242.48   \n488829            10962 2024-01-28 01:01:05    204377          1.06   \n488830            10962 2024-01-28 01:01:05    204377          1.14   \n488831            10962 2024-01-28 01:01:05    204377          1.79   \n488832             9593 2024-01-23 16:35:34    204093        144.56   \n\n                             SERVICE_DESCRIPTION  QTY  LINE_CLAIMED_AMOUNT  \\\n0                                  Unlisted Code  1.0                61.00   \n1                                            TSH  1.0               220.00   \n2                            In vivo laboratory   1.0               475.00   \n3                            ELICA-M CREAM 30 GM  1.0                25.55   \n4                 Peripheral intravenous cannula  1.0                90.00   \n...                                          ...  ...                  ...   \n488828  Quantitative Troponin (Protein) Analysis  1.0               324.39   \n488829                       NEBILET 5MG TABLETS  1.0                 1.14   \n488830                   Unlisted Procedure Code  5.0                 1.77   \n488831                 SALURIN 20MG-2ML AMPOULES  1.0                 1.93   \n488832              Radiography of chest, 1 view  1.0               193.39   \n\n        LINE_CLAIMED_AMOUNT_SAR  CO_PAY  CO_INSURANCE  ...  CLAIM_IDENTIFIER  \\\n0                         61.00    0.00         61.00  ...         4430078.0   \n1                        220.00    0.00        220.00  ...         4430087.0   \n2                        475.00   10.75        464.25  ...         4430098.0   \n3                         25.55    4.85         20.70  ...         4430011.0   \n4                         90.00   14.40         75.60  ...         4430028.0   \n...                         ...     ...           ...  ...               ...   \n488828                   324.39    0.00        324.39  ...         4404986.0   \n488829                     1.14    0.00          1.14  ...         4404989.0   \n488830                     1.77    0.00          1.77  ...         4404989.0   \n488831                     1.93    0.00          1.93  ...         4404989.0   \n488832                   193.39    0.00        193.39  ...         4405026.0   \n\n                                           ATTACHED_FILES  ATTACHMENT_TYPE  \\\n0       929362-34-4430078_OPDUCAF_2024-04-04_22-57-36_...             FILE   \n1       1083147-3-4430087_OPDUCAF_2024-04-04_23-01-52_...             FILE   \n2       1339075-6-4430098_OPDUCAF_2024-04-04_23-08-22_...             FILE   \n3       656928-60-4430011_OPDUCAF_2024-04-04_22-25-48_...             FILE   \n4       1019628-25-4430028_OPDUCAF_2024-04-04_22-33-56...             FILE   \n...                                                   ...              ...   \n488828  1348956-2-4404986_OPDUCAF_2024-01-23_17-17-31_...             FILE   \n488829  1349595-2-4404989_LABCHRT1_2024-01-28_01-00-04...             FILE   \n488830  1349595-2-4404989_LABCHRT1_2024-01-28_01-00-04...             FILE   \n488831  1349595-2-4404989_LABCHRT1_2024-01-28_01-00-04...             FILE   \n488832  1348795-1-4405026_OPDUCAF_2024-01-23_16-35-06_...             FILE   \n\n        NEW_BORN  PATIENT_IDENTITY_TYPE  BILLABLE_PERIOD_START  \\\n0              0                      H    2024-03-28 00:00:00   \n1              0                      H    2024-03-12 00:00:00   \n2              0                      H    2024-03-04 00:00:00   \n3              0                      H    2024-03-10 00:00:00   \n4              0                      H    2024-03-18 00:00:00   \n...          ...                    ...                    ...   \n488828         0                     IQ    2023-12-24 10:28:07   \n488829         0                     IQ    2023-12-27 20:51:37   \n488830         0                     IQ    2023-12-27 20:51:37   \n488831         0                     IQ    2023-12-27 20:51:37   \n488832         0                     IQ    2023-12-22 00:00:00   \n\n       BILLABLE_PERIOD_END  BATCH_PERIOD_START  BATCH_PERIOD_END  \\\n0      2024-04-11 00:00:00          2024-03-01        2024-03-31   \n1      2024-03-26 00:00:00          2024-03-01        2024-03-31   \n2      2024-03-18 00:00:00          2024-03-01        2024-03-31   \n3      2024-03-24 00:00:00          2024-03-01        2024-03-31   \n4      2024-04-01 00:00:00          2024-03-01        2024-03-31   \n...                    ...                 ...               ...   \n488828 2023-12-28 12:07:18          2023-12-01        2023-12-31   \n488829 2023-12-31 17:16:53          2023-12-01        2023-12-31   \n488830 2023-12-31 17:16:53          2023-12-01        2023-12-31   \n488831 2023-12-31 17:16:53          2023-12-01        2023-12-31   \n488832 2024-01-05 00:00:00          2023-12-01        2023-12-31   \n\n        PatientAgeRange  \n0                     6  \n1                     5  \n2                     6  \n3                     6  \n4                     8  \n...                 ...  \n488828                8  \n488829                7  \n488830                7  \n488831                7  \n488832                9  \n\n[488833 rows x 94 columns]",
      "text/html": "<div>\n<style scoped>\n    .dataframe tbody tr th:only-of-type {\n        vertical-align: middle;\n    }\n\n    .dataframe tbody tr th {\n        vertical-align: top;\n    }\n\n    .dataframe thead th {\n        text-align: right;\n    }\n</style>\n<table border=\"1\" class=\"dataframe\">\n  <thead>\n    <tr style=\"text-align: right;\">\n      <th></th>\n      <th>CREATED_BY_USER</th>\n      <th>CREATION_DATE</th>\n      <th>VISIT_ID</th>\n      <th>NET_WITH_VAT</th>\n      <th>SERVICE_DESCRIPTION</th>\n      <th>QTY</th>\n      <th>LINE_CLAIMED_AMOUNT</th>\n      <th>LINE_CLAIMED_AMOUNT_SAR</th>\n      <th>CO_PAY</th>\n      <th>CO_INSURANCE</th>\n      <th>...</th>\n      <th>CLAIM_IDENTIFIER</th>\n      <th>ATTACHED_FILES</th>\n      <th>ATTACHMENT_TYPE</th>\n      <th>NEW_BORN</th>\n      <th>PATIENT_IDENTITY_TYPE</th>\n      <th>BILLABLE_PERIOD_START</th>\n      <th>BILLABLE_PERIOD_END</th>\n      <th>BATCH_PERIOD_START</th>\n      <th>BATCH_PERIOD_END</th>\n      <th>PatientAgeRange</th>\n    </tr>\n  </thead>\n  <tbody>\n    <tr>\n      <th>0</th>\n      <td>9521</td>\n      <td>2024-04-04 22:57:57</td>\n      <td>230089</td>\n      <td>56.12</td>\n      <td>Unlisted Code</td>\n      <td>1.0</td>\n      <td>61.00</td>\n      <td>61.00</td>\n      <td>0.00</td>\n      <td>61.00</td>\n      <td>...</td>\n      <td>4430078.0</td>\n      <td>929362-34-4430078_OPDUCAF_2024-04-04_22-57-36_...</td>\n      <td>FILE</td>\n      <td>0</td>\n      <td>H</td>\n      <td>2024-03-28 00:00:00</td>\n      <td>2024-04-11 00:00:00</td>\n      <td>2024-03-01</td>\n      <td>2024-03-31</td>\n      <td>6</td>\n    </tr>\n    <tr>\n      <th>1</th>\n      <td>9521</td>\n      <td>2024-04-04 23:02:21</td>\n      <td>230117</td>\n      <td>202.40</td>\n      <td>TSH</td>\n      <td>1.0</td>\n      <td>220.00</td>\n      <td>220.00</td>\n      <td>0.00</td>\n      <td>220.00</td>\n      <td>...</td>\n      <td>4430087.0</td>\n      <td>1083147-3-4430087_OPDUCAF_2024-04-04_23-01-52_...</td>\n      <td>FILE</td>\n      <td>0</td>\n      <td>H</td>\n      <td>2024-03-12 00:00:00</td>\n      <td>2024-03-26 00:00:00</td>\n      <td>2024-03-01</td>\n      <td>2024-03-31</td>\n      <td>5</td>\n    </tr>\n    <tr>\n      <th>2</th>\n      <td>9521</td>\n      <td>2024-04-04 23:08:38</td>\n      <td>230160</td>\n      <td>408.08</td>\n      <td>In vivo laboratory</td>\n      <td>1.0</td>\n      <td>475.00</td>\n      <td>475.00</td>\n      <td>10.75</td>\n      <td>464.25</td>\n      <td>...</td>\n      <td>4430098.0</td>\n      <td>1339075-6-4430098_OPDUCAF_2024-04-04_23-08-22_...</td>\n      <td>FILE</td>\n      <td>0</td>\n      <td>H</td>\n      <td>2024-03-04 00:00:00</td>\n      <td>2024-03-18 00:00:00</td>\n      <td>2024-03-01</td>\n      <td>2024-03-31</td>\n      <td>6</td>\n    </tr>\n    <tr>\n      <th>3</th>\n      <td>9521</td>\n      <td>2024-04-04 22:26:08</td>\n      <td>229872</td>\n      <td>24.27</td>\n      <td>ELICA-M CREAM 30 GM</td>\n      <td>1.0</td>\n      <td>25.55</td>\n      <td>25.55</td>\n      <td>4.85</td>\n      <td>20.70</td>\n      <td>...</td>\n      <td>4430011.0</td>\n      <td>656928-60-4430011_OPDUCAF_2024-04-04_22-25-48_...</td>\n      <td>FILE</td>\n      <td>0</td>\n      <td>H</td>\n      <td>2024-03-10 00:00:00</td>\n      <td>2024-03-24 00:00:00</td>\n      <td>2024-03-01</td>\n      <td>2024-03-31</td>\n      <td>6</td>\n    </tr>\n    <tr>\n      <th>4</th>\n      <td>9521</td>\n      <td>2024-04-04 22:34:22</td>\n      <td>229913</td>\n      <td>80.64</td>\n      <td>Peripheral intravenous cannula</td>\n      <td>1.0</td>\n      <td>90.00</td>\n      <td>90.00</td>\n      <td>14.40</td>\n      <td>75.60</td>\n      <td>...</td>\n      <td>4430028.0</td>\n      <td>1019628-25-4430028_OPDUCAF_2024-04-04_22-33-56...</td>\n      <td>FILE</td>\n      <td>0</td>\n      <td>H</td>\n      <td>2024-03-18 00:00:00</td>\n      <td>2024-04-01 00:00:00</td>\n      <td>2024-03-01</td>\n      <td>2024-03-31</td>\n      <td>8</td>\n    </tr>\n    <tr>\n      <th>...</th>\n      <td>...</td>\n      <td>...</td>\n      <td>...</td>\n      <td>...</td>\n      <td>...</td>\n      <td>...</td>\n      <td>...</td>\n      <td>...</td>\n      <td>...</td>\n      <td>...</td>\n      <td>...</td>\n      <td>...</td>\n      <td>...</td>\n      <td>...</td>\n      <td>...</td>\n      <td>...</td>\n      <td>...</td>\n      <td>...</td>\n      <td>...</td>\n      <td>...</td>\n      <td>...</td>\n    </tr>\n    <tr>\n      <th>488828</th>\n      <td>9593</td>\n      <td>2024-01-23 17:20:54</td>\n      <td>204110</td>\n      <td>242.48</td>\n      <td>Quantitative Troponin (Protein) Analysis</td>\n      <td>1.0</td>\n      <td>324.39</td>\n      <td>324.39</td>\n      <td>0.00</td>\n      <td>324.39</td>\n      <td>...</td>\n      <td>4404986.0</td>\n      <td>1348956-2-4404986_OPDUCAF_2024-01-23_17-17-31_...</td>\n      <td>FILE</td>\n      <td>0</td>\n      <td>IQ</td>\n      <td>2023-12-24 10:28:07</td>\n      <td>2023-12-28 12:07:18</td>\n      <td>2023-12-01</td>\n      <td>2023-12-31</td>\n      <td>8</td>\n    </tr>\n    <tr>\n      <th>488829</th>\n      <td>10962</td>\n      <td>2024-01-28 01:01:05</td>\n      <td>204377</td>\n      <td>1.06</td>\n      <td>NEBILET 5MG TABLETS</td>\n      <td>1.0</td>\n      <td>1.14</td>\n      <td>1.14</td>\n      <td>0.00</td>\n      <td>1.14</td>\n      <td>...</td>\n      <td>4404989.0</td>\n      <td>1349595-2-4404989_LABCHRT1_2024-01-28_01-00-04...</td>\n      <td>FILE</td>\n      <td>0</td>\n      <td>IQ</td>\n      <td>2023-12-27 20:51:37</td>\n      <td>2023-12-31 17:16:53</td>\n      <td>2023-12-01</td>\n      <td>2023-12-31</td>\n      <td>7</td>\n    </tr>\n    <tr>\n      <th>488830</th>\n      <td>10962</td>\n      <td>2024-01-28 01:01:05</td>\n      <td>204377</td>\n      <td>1.14</td>\n      <td>Unlisted Procedure Code</td>\n      <td>5.0</td>\n      <td>1.77</td>\n      <td>1.77</td>\n      <td>0.00</td>\n      <td>1.77</td>\n      <td>...</td>\n      <td>4404989.0</td>\n      <td>1349595-2-4404989_LABCHRT1_2024-01-28_01-00-04...</td>\n      <td>FILE</td>\n      <td>0</td>\n      <td>IQ</td>\n      <td>2023-12-27 20:51:37</td>\n      <td>2023-12-31 17:16:53</td>\n      <td>2023-12-01</td>\n      <td>2023-12-31</td>\n      <td>7</td>\n    </tr>\n    <tr>\n      <th>488831</th>\n      <td>10962</td>\n      <td>2024-01-28 01:01:05</td>\n      <td>204377</td>\n      <td>1.79</td>\n      <td>SALURIN 20MG-2ML AMPOULES</td>\n      <td>1.0</td>\n      <td>1.93</td>\n      <td>1.93</td>\n      <td>0.00</td>\n      <td>1.93</td>\n      <td>...</td>\n      <td>4404989.0</td>\n      <td>1349595-2-4404989_LABCHRT1_2024-01-28_01-00-04...</td>\n      <td>FILE</td>\n      <td>0</td>\n      <td>IQ</td>\n      <td>2023-12-27 20:51:37</td>\n      <td>2023-12-31 17:16:53</td>\n      <td>2023-12-01</td>\n      <td>2023-12-31</td>\n      <td>7</td>\n    </tr>\n    <tr>\n      <th>488832</th>\n      <td>9593</td>\n      <td>2024-01-23 16:35:34</td>\n      <td>204093</td>\n      <td>144.56</td>\n      <td>Radiography of chest, 1 view</td>\n      <td>1.0</td>\n      <td>193.39</td>\n      <td>193.39</td>\n      <td>0.00</td>\n      <td>193.39</td>\n      <td>...</td>\n      <td>4405026.0</td>\n      <td>1348795-1-4405026_OPDUCAF_2024-01-23_16-35-06_...</td>\n      <td>FILE</td>\n      <td>0</td>\n      <td>IQ</td>\n      <td>2023-12-22 00:00:00</td>\n      <td>2024-01-05 00:00:00</td>\n      <td>2023-12-01</td>\n      <td>2023-12-31</td>\n      <td>9</td>\n    </tr>\n  </tbody>\n</table>\n<p>488833 rows × 94 columns</p>\n</div>"
     },
     "execution_count": 13,
     "metadata": {},
     "output_type": "execute_result"
    }
   ],
   "source": [
    "lstm_embedding = LSTMEmbedding()\n",
    "df1 = df_prep.copy()\n",
    "textual_col = ['SERVICE_DESCRIPTION', 'SERVICE_TYPE', 'OASIS_IOS_DESCRIPTION','PROVIDER_DEPARTMENT']\n",
    "#df1\n",
    "\n",
    "pre_embedd = []\n",
    "\n",
    "for i in range(len(df1)):\n",
    "    elem = ''\n",
    "    for col in textual_col:\n",
    "        elem = elem + str(df1[col].iloc[i]) + ' '\n",
    "    elem = elem[:-1] + '.'\n",
    "    pre_embedd.append(elem)\n",
    "lstm_embedding.embedding_vector(concatenated_string,reload_model=True)\n",
    "\n",
    "df_prep"
   ],
   "metadata": {
    "collapsed": false,
    "ExecuteTime": {
     "end_time": "2024-06-06T10:29:42.513320700Z",
     "start_time": "2024-06-06T10:29:42.171648300Z"
    }
   }
  },
  {
   "cell_type": "code",
   "execution_count": 8,
   "outputs": [],
   "source": [
    "from src.data_application import DataFrameProcessor\n",
    "\n",
    "handling = DataFrameProcessor(df_prep)"
   ],
   "metadata": {
    "collapsed": false,
    "ExecuteTime": {
     "end_time": "2024-07-01T10:25:43.085710Z",
     "start_time": "2024-07-01T10:25:43.073459900Z"
    }
   }
  },
  {
   "cell_type": "code",
   "execution_count": 9,
   "outputs": [
    {
     "data": {
      "text/plain": "Index(['CREATED_BY_USER', 'CREATION_DATE', 'VISIT_ID', 'NET_WITH_VAT',\n       'SERVICE_DESCRIPTION', 'QTY', 'LINE_CLAIMED_AMOUNT',\n       'LINE_CLAIMED_AMOUNT_SAR', 'CO_PAY', 'CO_INSURANCE',\n       'LINE_ITEM_DISCOUNT', 'NET_AMOUNT', 'NET_VAT_AMOUNT',\n       'PATIENT_VAT_AMOUNT', 'VAT_PERCENTAGE', 'TREATMENT_TYPE_INDICATOR',\n       'SERVICE_TYPE', 'DURATION', 'QTY_STOCKED_UOM', 'UNIT_PRICE',\n       'OASIS_IOS_DESCRIPTION', 'SEQUENCE_NO', 'UNIT_PRICE_STOCKED_UOM',\n       'UNIT_PRICE_NET', 'DISCOUNT_PERCENTAGE', 'NOTES', 'OUTCOME',\n       'APPROVED_QUNATITY', 'REQUEST_DATE', 'VISIT_NO', 'VISIT_DATE',\n       'EMERGENCY_INDICATOR', 'PROVIDER_DEPARTMENT_CODE',\n       'PROVIDER_DEPARTMENT', 'DOCTOR_SPECIALTY_CODE', 'DOCTOR_CODE',\n       'PATIENT_NO', 'EPISODE_NO', 'PATIENT_ID', 'MEMBERSHIP_NO',\n       'PATIENT_ID_TYPE', 'PATIENT_NATIONAL_IQAMA_ID', 'PATIENT_DOB',\n       'PATIENT_AGE', 'UNIT_OF_AGE', 'PATIENT_NATIONALITY',\n       'PATIENT_MARITAL_STATUS', 'PATIENT_GENDER', 'PATIENT_MOBILE_NO',\n       'PATIENT_BADGE_NO', 'HIS_INSURANCE_CODE', 'POLICY_HOLDER_NO',\n       'CLAIM_TYPE', 'BATCH_NO', 'TOTAL_CLAIMED_AMOUNT',\n       'TOTAL_CLAIMED_AMOUNT_SAR', 'TOTAL_NET_AMOUNT', 'TOTAL_DISCOUNT',\n       'TOTAL_DEDUCTIBLE', 'TOTAL_PATIENT_VATAMOUNT', 'TOTAL_NET_VAT_AMOUNT',\n       'CLAIM_NO', 'STAT_END_DATE', 'AMEND_BY_USER', 'AMEND_LAST_DATE',\n       'PAYER_LICENSE', 'DOCTOR_LICENSE', 'DEPARTMENT_TYPE', 'TREATMENT_TYPE',\n       'CLAIM_INVOICE_NO', 'STAT_INVOICE_NO', 'PURCHASER_CODE', 'STATUS',\n       'API_TRANS_ID', 'SUBMIT_CLAIM_OUTCOME', 'SUBMIT_CLAIM_MESSAGE',\n       'RES_STATUS', 'RES_CLAIM_ID', 'CONSULTATION_INVOICE_NO',\n       'TREATMENT_SUB_TYPE', 'ELIGIBILITY_RESPONSE_ID',\n       'ELIGIBILITY_RESPONSE_SYSTEM', 'CONTRACT_NO',\n       'ELIGIBILITY_API_TRANS_ID', 'CLAIM_IDENTIFIER', 'ATTACHED_FILES',\n       'ATTACHMENT_TYPE', 'NEW_BORN', 'PATIENT_IDENTITY_TYPE',\n       'BILLABLE_PERIOD_START', 'BILLABLE_PERIOD_END', 'BATCH_PERIOD_START',\n       'BATCH_PERIOD_END', 'PatientAgeRange'],\n      dtype='object')"
     },
     "execution_count": 9,
     "metadata": {},
     "output_type": "execute_result"
    }
   ],
   "source": [
    "df_prep.columns"
   ],
   "metadata": {
    "collapsed": false,
    "ExecuteTime": {
     "end_time": "2024-07-01T10:25:44.859074200Z",
     "start_time": "2024-07-01T10:25:44.808795300Z"
    }
   }
  },
  {
   "cell_type": "code",
   "execution_count": 10,
   "outputs": [],
   "source": [
    "## list of columns not needed in the modeling.\n",
    "list_handler = ['PERIOD','DATE','_ID','_NO','_API','ATTACH','PATIENT_DOB','_USER','TREATMENT_SUB_TYPE','ELIGIBILITY_RESPONSE_SYSTEM', 'DOCTOR_LICENSE']\n",
    "\n",
    "df_prep = handling._drop_columns_with_substring(list_handler)"
   ],
   "metadata": {
    "collapsed": false,
    "ExecuteTime": {
     "end_time": "2024-07-01T10:25:51.810619800Z",
     "start_time": "2024-07-01T10:25:49.190031800Z"
    }
   }
  },
  {
   "cell_type": "code",
   "execution_count": 11,
   "outputs": [
    {
     "data": {
      "text/plain": "        NET_WITH_VAT  SERVICE_DESCRIPTION  QTY  LINE_CLAIMED_AMOUNT  \\\n0              56.12                 1205  1.0                61.00   \n1             202.40                 1165  1.0               220.00   \n2             408.08                  617  1.0               475.00   \n3              24.27                  396  1.0                25.55   \n4              80.64                  917  1.0                90.00   \n...              ...                  ...  ...                  ...   \n488828        242.48                  930  1.0               324.39   \n488829          1.06                  770  1.0                 1.14   \n488830          1.14                 1206  5.0                 1.77   \n488831          1.79                 1058  1.0                 1.93   \n488832        144.56                  982  1.0               193.39   \n\n        LINE_CLAIMED_AMOUNT_SAR  CO_PAY  CO_INSURANCE  LINE_ITEM_DISCOUNT  \\\n0                         61.00    0.00         61.00               12.20   \n1                        220.00    0.00        220.00               44.00   \n2                        475.00   10.75        464.25              118.75   \n3                         25.55    4.85         20.70                1.28   \n4                         90.00   14.40         75.60               18.00   \n...                         ...     ...           ...                 ...   \n488828                   324.39    0.00        324.39              113.54   \n488829                     1.14    0.00          1.14                0.08   \n488830                     1.77    0.00          1.77                0.62   \n488831                     1.93    0.00          1.93                0.14   \n488832                   193.39    0.00        193.39               67.69   \n\n        NET_AMOUNT  NET_VAT_AMOUNT  ...  PAYER_LICENSE  DEPARTMENT_TYPE  \\\n0            48.80            7.32  ...     7001599658             18.0   \n1           176.00           26.40  ...     7001599658              6.0   \n2           345.50           51.83  ...     7001599658             11.0   \n3            19.42            0.00  ...     7001599658             18.0   \n4            57.60            8.64  ...     7001599658             39.0   \n...            ...             ...  ...            ...              ...   \n488828      210.85           31.63  ...     7001571327              NaN   \n488829        1.06            0.00  ...     7001571327              NaN   \n488830        1.15            0.00  ...     7001571327              NaN   \n488831        1.79            0.00  ...     7001571327              NaN   \n488832      125.70           18.86  ...     7001571327             39.0   \n\n        TREATMENT_TYPE PURCHASER_CODE    STATUS  SUBMIT_CLAIM_OUTCOME  \\\n0                    1           2622   PARTIAL                PENDED   \n1                    1           2622   PARTIAL                PENDED   \n2                    1           2622   PARTIAL                PENDED   \n3                    1           2622   PARTIAL                PENDED   \n4                    0           2622   PARTIAL                PENDED   \n...                ...            ...       ...                   ...   \n488828               0            183   PARTIAL                PENDED   \n488829               0            183   PARTIAL                PENDED   \n488830               0            183   PARTIAL                PENDED   \n488831               0            183   PARTIAL                PENDED   \n488832               0            183  REJECTED                PENDED   \n\n                                     SUBMIT_CLAIM_MESSAGE RES_STATUS  \\\n0       BE-1-1 Co-pay was not collected from memberBE-...    PARTIAL   \n1         BE-1-7 Incorrect billing regimePartial Approved    PARTIAL   \n2         BE-1-7 Incorrect billing regimePartial Approved    PARTIAL   \n3       MN-1-1 Service is not clinically justified bas...    PARTIAL   \n4       BE-1-7 Incorrect billing regimeBE-1-7 Incorrec...    PARTIAL   \n...                                                   ...        ...   \n488828  BE-1-4 Preauthorization is required and was no...    PARTIAL   \n488829  MN-1-1 Service is not clinically justified bas...    PARTIAL   \n488830  MN-1-1 Service is not clinically justified bas...    PARTIAL   \n488831  MN-1-1 Service is not clinically justified bas...    PARTIAL   \n488832  CV-1-1 Provider is out of beneficiary networkC...   REJECTED   \n\n        NEW_BORN  PatientAgeRange  \n0              0                6  \n1              0                5  \n2              0                6  \n3              0                6  \n4              0                8  \n...          ...              ...  \n488828         0                8  \n488829         0                7  \n488830         0                7  \n488831         0                7  \n488832         0                9  \n\n[488833 rows x 53 columns]",
      "text/html": "<div>\n<style scoped>\n    .dataframe tbody tr th:only-of-type {\n        vertical-align: middle;\n    }\n\n    .dataframe tbody tr th {\n        vertical-align: top;\n    }\n\n    .dataframe thead th {\n        text-align: right;\n    }\n</style>\n<table border=\"1\" class=\"dataframe\">\n  <thead>\n    <tr style=\"text-align: right;\">\n      <th></th>\n      <th>NET_WITH_VAT</th>\n      <th>SERVICE_DESCRIPTION</th>\n      <th>QTY</th>\n      <th>LINE_CLAIMED_AMOUNT</th>\n      <th>LINE_CLAIMED_AMOUNT_SAR</th>\n      <th>CO_PAY</th>\n      <th>CO_INSURANCE</th>\n      <th>LINE_ITEM_DISCOUNT</th>\n      <th>NET_AMOUNT</th>\n      <th>NET_VAT_AMOUNT</th>\n      <th>...</th>\n      <th>PAYER_LICENSE</th>\n      <th>DEPARTMENT_TYPE</th>\n      <th>TREATMENT_TYPE</th>\n      <th>PURCHASER_CODE</th>\n      <th>STATUS</th>\n      <th>SUBMIT_CLAIM_OUTCOME</th>\n      <th>SUBMIT_CLAIM_MESSAGE</th>\n      <th>RES_STATUS</th>\n      <th>NEW_BORN</th>\n      <th>PatientAgeRange</th>\n    </tr>\n  </thead>\n  <tbody>\n    <tr>\n      <th>0</th>\n      <td>56.12</td>\n      <td>1205</td>\n      <td>1.0</td>\n      <td>61.00</td>\n      <td>61.00</td>\n      <td>0.00</td>\n      <td>61.00</td>\n      <td>12.20</td>\n      <td>48.80</td>\n      <td>7.32</td>\n      <td>...</td>\n      <td>7001599658</td>\n      <td>18.0</td>\n      <td>1</td>\n      <td>2622</td>\n      <td>PARTIAL</td>\n      <td>PENDED</td>\n      <td>BE-1-1 Co-pay was not collected from memberBE-...</td>\n      <td>PARTIAL</td>\n      <td>0</td>\n      <td>6</td>\n    </tr>\n    <tr>\n      <th>1</th>\n      <td>202.40</td>\n      <td>1165</td>\n      <td>1.0</td>\n      <td>220.00</td>\n      <td>220.00</td>\n      <td>0.00</td>\n      <td>220.00</td>\n      <td>44.00</td>\n      <td>176.00</td>\n      <td>26.40</td>\n      <td>...</td>\n      <td>7001599658</td>\n      <td>6.0</td>\n      <td>1</td>\n      <td>2622</td>\n      <td>PARTIAL</td>\n      <td>PENDED</td>\n      <td>BE-1-7 Incorrect billing regimePartial Approved</td>\n      <td>PARTIAL</td>\n      <td>0</td>\n      <td>5</td>\n    </tr>\n    <tr>\n      <th>2</th>\n      <td>408.08</td>\n      <td>617</td>\n      <td>1.0</td>\n      <td>475.00</td>\n      <td>475.00</td>\n      <td>10.75</td>\n      <td>464.25</td>\n      <td>118.75</td>\n      <td>345.50</td>\n      <td>51.83</td>\n      <td>...</td>\n      <td>7001599658</td>\n      <td>11.0</td>\n      <td>1</td>\n      <td>2622</td>\n      <td>PARTIAL</td>\n      <td>PENDED</td>\n      <td>BE-1-7 Incorrect billing regimePartial Approved</td>\n      <td>PARTIAL</td>\n      <td>0</td>\n      <td>6</td>\n    </tr>\n    <tr>\n      <th>3</th>\n      <td>24.27</td>\n      <td>396</td>\n      <td>1.0</td>\n      <td>25.55</td>\n      <td>25.55</td>\n      <td>4.85</td>\n      <td>20.70</td>\n      <td>1.28</td>\n      <td>19.42</td>\n      <td>0.00</td>\n      <td>...</td>\n      <td>7001599658</td>\n      <td>18.0</td>\n      <td>1</td>\n      <td>2622</td>\n      <td>PARTIAL</td>\n      <td>PENDED</td>\n      <td>MN-1-1 Service is not clinically justified bas...</td>\n      <td>PARTIAL</td>\n      <td>0</td>\n      <td>6</td>\n    </tr>\n    <tr>\n      <th>4</th>\n      <td>80.64</td>\n      <td>917</td>\n      <td>1.0</td>\n      <td>90.00</td>\n      <td>90.00</td>\n      <td>14.40</td>\n      <td>75.60</td>\n      <td>18.00</td>\n      <td>57.60</td>\n      <td>8.64</td>\n      <td>...</td>\n      <td>7001599658</td>\n      <td>39.0</td>\n      <td>0</td>\n      <td>2622</td>\n      <td>PARTIAL</td>\n      <td>PENDED</td>\n      <td>BE-1-7 Incorrect billing regimeBE-1-7 Incorrec...</td>\n      <td>PARTIAL</td>\n      <td>0</td>\n      <td>8</td>\n    </tr>\n    <tr>\n      <th>...</th>\n      <td>...</td>\n      <td>...</td>\n      <td>...</td>\n      <td>...</td>\n      <td>...</td>\n      <td>...</td>\n      <td>...</td>\n      <td>...</td>\n      <td>...</td>\n      <td>...</td>\n      <td>...</td>\n      <td>...</td>\n      <td>...</td>\n      <td>...</td>\n      <td>...</td>\n      <td>...</td>\n      <td>...</td>\n      <td>...</td>\n      <td>...</td>\n      <td>...</td>\n      <td>...</td>\n    </tr>\n    <tr>\n      <th>488828</th>\n      <td>242.48</td>\n      <td>930</td>\n      <td>1.0</td>\n      <td>324.39</td>\n      <td>324.39</td>\n      <td>0.00</td>\n      <td>324.39</td>\n      <td>113.54</td>\n      <td>210.85</td>\n      <td>31.63</td>\n      <td>...</td>\n      <td>7001571327</td>\n      <td>NaN</td>\n      <td>0</td>\n      <td>183</td>\n      <td>PARTIAL</td>\n      <td>PENDED</td>\n      <td>BE-1-4 Preauthorization is required and was no...</td>\n      <td>PARTIAL</td>\n      <td>0</td>\n      <td>8</td>\n    </tr>\n    <tr>\n      <th>488829</th>\n      <td>1.06</td>\n      <td>770</td>\n      <td>1.0</td>\n      <td>1.14</td>\n      <td>1.14</td>\n      <td>0.00</td>\n      <td>1.14</td>\n      <td>0.08</td>\n      <td>1.06</td>\n      <td>0.00</td>\n      <td>...</td>\n      <td>7001571327</td>\n      <td>NaN</td>\n      <td>0</td>\n      <td>183</td>\n      <td>PARTIAL</td>\n      <td>PENDED</td>\n      <td>MN-1-1 Service is not clinically justified bas...</td>\n      <td>PARTIAL</td>\n      <td>0</td>\n      <td>7</td>\n    </tr>\n    <tr>\n      <th>488830</th>\n      <td>1.14</td>\n      <td>1206</td>\n      <td>5.0</td>\n      <td>1.77</td>\n      <td>1.77</td>\n      <td>0.00</td>\n      <td>1.77</td>\n      <td>0.62</td>\n      <td>1.15</td>\n      <td>0.00</td>\n      <td>...</td>\n      <td>7001571327</td>\n      <td>NaN</td>\n      <td>0</td>\n      <td>183</td>\n      <td>PARTIAL</td>\n      <td>PENDED</td>\n      <td>MN-1-1 Service is not clinically justified bas...</td>\n      <td>PARTIAL</td>\n      <td>0</td>\n      <td>7</td>\n    </tr>\n    <tr>\n      <th>488831</th>\n      <td>1.79</td>\n      <td>1058</td>\n      <td>1.0</td>\n      <td>1.93</td>\n      <td>1.93</td>\n      <td>0.00</td>\n      <td>1.93</td>\n      <td>0.14</td>\n      <td>1.79</td>\n      <td>0.00</td>\n      <td>...</td>\n      <td>7001571327</td>\n      <td>NaN</td>\n      <td>0</td>\n      <td>183</td>\n      <td>PARTIAL</td>\n      <td>PENDED</td>\n      <td>MN-1-1 Service is not clinically justified bas...</td>\n      <td>PARTIAL</td>\n      <td>0</td>\n      <td>7</td>\n    </tr>\n    <tr>\n      <th>488832</th>\n      <td>144.56</td>\n      <td>982</td>\n      <td>1.0</td>\n      <td>193.39</td>\n      <td>193.39</td>\n      <td>0.00</td>\n      <td>193.39</td>\n      <td>67.69</td>\n      <td>125.70</td>\n      <td>18.86</td>\n      <td>...</td>\n      <td>7001571327</td>\n      <td>39.0</td>\n      <td>0</td>\n      <td>183</td>\n      <td>REJECTED</td>\n      <td>PENDED</td>\n      <td>CV-1-1 Provider is out of beneficiary networkC...</td>\n      <td>REJECTED</td>\n      <td>0</td>\n      <td>9</td>\n    </tr>\n  </tbody>\n</table>\n<p>488833 rows × 53 columns</p>\n</div>"
     },
     "execution_count": 11,
     "metadata": {},
     "output_type": "execute_result"
    }
   ],
   "source": [
    "df_prep"
   ],
   "metadata": {
    "collapsed": false,
    "ExecuteTime": {
     "end_time": "2024-07-01T10:25:52.013416700Z",
     "start_time": "2024-07-01T10:25:51.812614Z"
    }
   }
  },
  {
   "cell_type": "markdown",
   "source": [
    "## New pipeline"
   ],
   "metadata": {
    "collapsed": false
   }
  },
  {
   "cell_type": "code",
   "execution_count": 1,
   "outputs": [],
   "source": [
    "from cashe import get_train_test_split,get_training_inputs, drop_nomodel_columns\n",
    "from src.data_local import MergedDataPreprocessing\n",
    "from src.lstm_encoder import LSTMEmbedding\n",
    "from src.model_app import ModelApplication"
   ],
   "metadata": {
    "collapsed": false,
    "ExecuteTime": {
     "end_time": "2024-07-02T10:32:28.084814Z",
     "start_time": "2024-07-02T10:32:20.703335500Z"
    }
   }
  },
  {
   "cell_type": "code",
   "execution_count": 2,
   "outputs": [],
   "source": [
    "df_train, df_test = get_train_test_split()"
   ],
   "metadata": {
    "collapsed": false,
    "ExecuteTime": {
     "end_time": "2024-07-02T10:32:28.698986500Z",
     "start_time": "2024-07-02T10:32:28.088805700Z"
    }
   }
  },
  {
   "cell_type": "code",
   "execution_count": 3,
   "outputs": [],
   "source": [
    "X_train, y_train, X_test, y_test = get_training_inputs(df_train,df_test)"
   ],
   "metadata": {
    "collapsed": false,
    "ExecuteTime": {
     "end_time": "2024-07-02T10:32:28.823871100Z",
     "start_time": "2024-07-02T10:32:28.703969300Z"
    }
   }
  },
  {
   "cell_type": "code",
   "execution_count": 4,
   "outputs": [
    {
     "data": {
      "text/plain": "        NET_WITH_VAT                       SERVICE_DESCRIPTION  QTY  \\\n0              56.12                             Unlisted Code  1.0   \n1             202.40                                       TSH  1.0   \n2             408.08                       In vivo laboratory   1.0   \n3              24.27                       ELICA-M CREAM 30 GM  1.0   \n4              80.64            Peripheral intravenous cannula  1.0   \n...              ...                                       ...  ...   \n488828        242.48  Quantitative Troponin (Protein) Analysis  1.0   \n488829          1.06                       NEBILET 5MG TABLETS  1.0   \n488830          1.14                   Unlisted Procedure Code  5.0   \n488831          1.79                 SALURIN 20MG-2ML AMPOULES  1.0   \n488832        144.56              Radiography of chest, 1 view  1.0   \n\n        LINE_CLAIMED_AMOUNT  LINE_CLAIMED_AMOUNT_SAR  CO_PAY  CO_INSURANCE  \\\n0                     61.00                    61.00    0.00         61.00   \n1                    220.00                   220.00    0.00        220.00   \n2                    475.00                   475.00   10.75        464.25   \n3                     25.55                    25.55    4.85         20.70   \n4                     90.00                    90.00   14.40         75.60   \n...                     ...                      ...     ...           ...   \n488828               324.39                   324.39    0.00        324.39   \n488829                 1.14                     1.14    0.00          1.14   \n488830                 1.77                     1.77    0.00          1.77   \n488831                 1.93                     1.93    0.00          1.93   \n488832               193.39                   193.39    0.00        193.39   \n\n        LINE_ITEM_DISCOUNT  NET_AMOUNT  NET_VAT_AMOUNT  ...  TOTAL_NET_AMOUNT  \\\n0                    12.20       48.80            7.32  ...           1028.88   \n1                    44.00      176.00           26.40  ...           1029.75   \n2                   118.75      345.50           51.83  ...           1205.00   \n3                     1.28       19.42            0.00  ...            360.99   \n4                    18.00       57.60            8.64  ...           2765.79   \n...                    ...         ...             ...  ...               ...   \n488828              113.54      210.85           31.63  ...          35058.44   \n488829                0.08        1.06            0.00  ...          32309.30   \n488830                0.62        1.15            0.00  ...          32309.30   \n488831                0.14        1.79            0.00  ...          32309.30   \n488832               67.69      125.70           18.86  ...           1938.01   \n\n        TOTAL_DISCOUNT  TOTAL_DEDUCTIBLE TOTAL_PATIENT_VATAMOUNT  \\\n0               219.46            139.88                     0.0   \n1               320.25            100.00                     0.0   \n2               390.00            100.00                     0.0   \n3                95.07             90.24                     0.0   \n4               291.19            103.74                     0.0   \n...                ...               ...                     ...   \n488828         5229.23              0.00                     0.0   \n488829        13042.16              0.00                     0.0   \n488830        13042.16              0.00                     0.0   \n488831        13042.16              0.00                     0.0   \n488832          952.92              0.00                     0.0   \n\n        TOTAL_NET_VAT_AMOUNT  DEPARTMENT_TYPE  TREATMENT_TYPE PURCHASER_CODE  \\\n0                     128.79             18.0    professional           2622   \n1                     154.46              6.0    professional           2622   \n2                     180.77             11.0    professional           2622   \n3                      48.30             18.0    professional           2622   \n4                     412.62             39.0   institutional           2622   \n...                      ...              ...             ...            ...   \n488828               5231.53              NaN   institutional            183   \n488829               4608.10              NaN   institutional            183   \n488830               4608.10              NaN   institutional            183   \n488831               4608.10              NaN   institutional            183   \n488832                276.55             39.0   institutional            183   \n\n        NEW_BORN  PatientAgeRange  \n0              0                6  \n1              0                5  \n2              0                6  \n3              0                6  \n4              0                8  \n...          ...              ...  \n488828         0                8  \n488829         0                7  \n488830         0                7  \n488831         0                7  \n488832         0                9  \n\n[155399 rows x 45 columns]",
      "text/html": "<div>\n<style scoped>\n    .dataframe tbody tr th:only-of-type {\n        vertical-align: middle;\n    }\n\n    .dataframe tbody tr th {\n        vertical-align: top;\n    }\n\n    .dataframe thead th {\n        text-align: right;\n    }\n</style>\n<table border=\"1\" class=\"dataframe\">\n  <thead>\n    <tr style=\"text-align: right;\">\n      <th></th>\n      <th>NET_WITH_VAT</th>\n      <th>SERVICE_DESCRIPTION</th>\n      <th>QTY</th>\n      <th>LINE_CLAIMED_AMOUNT</th>\n      <th>LINE_CLAIMED_AMOUNT_SAR</th>\n      <th>CO_PAY</th>\n      <th>CO_INSURANCE</th>\n      <th>LINE_ITEM_DISCOUNT</th>\n      <th>NET_AMOUNT</th>\n      <th>NET_VAT_AMOUNT</th>\n      <th>...</th>\n      <th>TOTAL_NET_AMOUNT</th>\n      <th>TOTAL_DISCOUNT</th>\n      <th>TOTAL_DEDUCTIBLE</th>\n      <th>TOTAL_PATIENT_VATAMOUNT</th>\n      <th>TOTAL_NET_VAT_AMOUNT</th>\n      <th>DEPARTMENT_TYPE</th>\n      <th>TREATMENT_TYPE</th>\n      <th>PURCHASER_CODE</th>\n      <th>NEW_BORN</th>\n      <th>PatientAgeRange</th>\n    </tr>\n  </thead>\n  <tbody>\n    <tr>\n      <th>0</th>\n      <td>56.12</td>\n      <td>Unlisted Code</td>\n      <td>1.0</td>\n      <td>61.00</td>\n      <td>61.00</td>\n      <td>0.00</td>\n      <td>61.00</td>\n      <td>12.20</td>\n      <td>48.80</td>\n      <td>7.32</td>\n      <td>...</td>\n      <td>1028.88</td>\n      <td>219.46</td>\n      <td>139.88</td>\n      <td>0.0</td>\n      <td>128.79</td>\n      <td>18.0</td>\n      <td>professional</td>\n      <td>2622</td>\n      <td>0</td>\n      <td>6</td>\n    </tr>\n    <tr>\n      <th>1</th>\n      <td>202.40</td>\n      <td>TSH</td>\n      <td>1.0</td>\n      <td>220.00</td>\n      <td>220.00</td>\n      <td>0.00</td>\n      <td>220.00</td>\n      <td>44.00</td>\n      <td>176.00</td>\n      <td>26.40</td>\n      <td>...</td>\n      <td>1029.75</td>\n      <td>320.25</td>\n      <td>100.00</td>\n      <td>0.0</td>\n      <td>154.46</td>\n      <td>6.0</td>\n      <td>professional</td>\n      <td>2622</td>\n      <td>0</td>\n      <td>5</td>\n    </tr>\n    <tr>\n      <th>2</th>\n      <td>408.08</td>\n      <td>In vivo laboratory</td>\n      <td>1.0</td>\n      <td>475.00</td>\n      <td>475.00</td>\n      <td>10.75</td>\n      <td>464.25</td>\n      <td>118.75</td>\n      <td>345.50</td>\n      <td>51.83</td>\n      <td>...</td>\n      <td>1205.00</td>\n      <td>390.00</td>\n      <td>100.00</td>\n      <td>0.0</td>\n      <td>180.77</td>\n      <td>11.0</td>\n      <td>professional</td>\n      <td>2622</td>\n      <td>0</td>\n      <td>6</td>\n    </tr>\n    <tr>\n      <th>3</th>\n      <td>24.27</td>\n      <td>ELICA-M CREAM 30 GM</td>\n      <td>1.0</td>\n      <td>25.55</td>\n      <td>25.55</td>\n      <td>4.85</td>\n      <td>20.70</td>\n      <td>1.28</td>\n      <td>19.42</td>\n      <td>0.00</td>\n      <td>...</td>\n      <td>360.99</td>\n      <td>95.07</td>\n      <td>90.24</td>\n      <td>0.0</td>\n      <td>48.30</td>\n      <td>18.0</td>\n      <td>professional</td>\n      <td>2622</td>\n      <td>0</td>\n      <td>6</td>\n    </tr>\n    <tr>\n      <th>4</th>\n      <td>80.64</td>\n      <td>Peripheral intravenous cannula</td>\n      <td>1.0</td>\n      <td>90.00</td>\n      <td>90.00</td>\n      <td>14.40</td>\n      <td>75.60</td>\n      <td>18.00</td>\n      <td>57.60</td>\n      <td>8.64</td>\n      <td>...</td>\n      <td>2765.79</td>\n      <td>291.19</td>\n      <td>103.74</td>\n      <td>0.0</td>\n      <td>412.62</td>\n      <td>39.0</td>\n      <td>institutional</td>\n      <td>2622</td>\n      <td>0</td>\n      <td>8</td>\n    </tr>\n    <tr>\n      <th>...</th>\n      <td>...</td>\n      <td>...</td>\n      <td>...</td>\n      <td>...</td>\n      <td>...</td>\n      <td>...</td>\n      <td>...</td>\n      <td>...</td>\n      <td>...</td>\n      <td>...</td>\n      <td>...</td>\n      <td>...</td>\n      <td>...</td>\n      <td>...</td>\n      <td>...</td>\n      <td>...</td>\n      <td>...</td>\n      <td>...</td>\n      <td>...</td>\n      <td>...</td>\n      <td>...</td>\n    </tr>\n    <tr>\n      <th>488828</th>\n      <td>242.48</td>\n      <td>Quantitative Troponin (Protein) Analysis</td>\n      <td>1.0</td>\n      <td>324.39</td>\n      <td>324.39</td>\n      <td>0.00</td>\n      <td>324.39</td>\n      <td>113.54</td>\n      <td>210.85</td>\n      <td>31.63</td>\n      <td>...</td>\n      <td>35058.44</td>\n      <td>5229.23</td>\n      <td>0.00</td>\n      <td>0.0</td>\n      <td>5231.53</td>\n      <td>NaN</td>\n      <td>institutional</td>\n      <td>183</td>\n      <td>0</td>\n      <td>8</td>\n    </tr>\n    <tr>\n      <th>488829</th>\n      <td>1.06</td>\n      <td>NEBILET 5MG TABLETS</td>\n      <td>1.0</td>\n      <td>1.14</td>\n      <td>1.14</td>\n      <td>0.00</td>\n      <td>1.14</td>\n      <td>0.08</td>\n      <td>1.06</td>\n      <td>0.00</td>\n      <td>...</td>\n      <td>32309.30</td>\n      <td>13042.16</td>\n      <td>0.00</td>\n      <td>0.0</td>\n      <td>4608.10</td>\n      <td>NaN</td>\n      <td>institutional</td>\n      <td>183</td>\n      <td>0</td>\n      <td>7</td>\n    </tr>\n    <tr>\n      <th>488830</th>\n      <td>1.14</td>\n      <td>Unlisted Procedure Code</td>\n      <td>5.0</td>\n      <td>1.77</td>\n      <td>1.77</td>\n      <td>0.00</td>\n      <td>1.77</td>\n      <td>0.62</td>\n      <td>1.15</td>\n      <td>0.00</td>\n      <td>...</td>\n      <td>32309.30</td>\n      <td>13042.16</td>\n      <td>0.00</td>\n      <td>0.0</td>\n      <td>4608.10</td>\n      <td>NaN</td>\n      <td>institutional</td>\n      <td>183</td>\n      <td>0</td>\n      <td>7</td>\n    </tr>\n    <tr>\n      <th>488831</th>\n      <td>1.79</td>\n      <td>SALURIN 20MG-2ML AMPOULES</td>\n      <td>1.0</td>\n      <td>1.93</td>\n      <td>1.93</td>\n      <td>0.00</td>\n      <td>1.93</td>\n      <td>0.14</td>\n      <td>1.79</td>\n      <td>0.00</td>\n      <td>...</td>\n      <td>32309.30</td>\n      <td>13042.16</td>\n      <td>0.00</td>\n      <td>0.0</td>\n      <td>4608.10</td>\n      <td>NaN</td>\n      <td>institutional</td>\n      <td>183</td>\n      <td>0</td>\n      <td>7</td>\n    </tr>\n    <tr>\n      <th>488832</th>\n      <td>144.56</td>\n      <td>Radiography of chest, 1 view</td>\n      <td>1.0</td>\n      <td>193.39</td>\n      <td>193.39</td>\n      <td>0.00</td>\n      <td>193.39</td>\n      <td>67.69</td>\n      <td>125.70</td>\n      <td>18.86</td>\n      <td>...</td>\n      <td>1938.01</td>\n      <td>952.92</td>\n      <td>0.00</td>\n      <td>0.0</td>\n      <td>276.55</td>\n      <td>39.0</td>\n      <td>institutional</td>\n      <td>183</td>\n      <td>0</td>\n      <td>9</td>\n    </tr>\n  </tbody>\n</table>\n<p>155399 rows × 45 columns</p>\n</div>"
     },
     "execution_count": 4,
     "metadata": {},
     "output_type": "execute_result"
    }
   ],
   "source": [
    "X_train = drop_nomodel_columns(X_train)\n",
    "X_test = drop_nomodel_columns(X_test)\n",
    "X_train"
   ],
   "metadata": {
    "collapsed": false,
    "ExecuteTime": {
     "end_time": "2024-07-02T10:32:29.984614700Z",
     "start_time": "2024-07-02T10:32:28.829886200Z"
    }
   }
  },
  {
   "cell_type": "code",
   "execution_count": 5,
   "outputs": [
    {
     "name": "stderr",
     "output_type": "stream",
     "text": [
      "E:\\Projects\\Claims_Rejection\\src\\data_local.py:203: FutureWarning: Downcasting behavior in `replace` is deprecated and will be removed in a future version. To retain the old behavior, explicitly call `result.infer_objects(copy=False)`. To opt-in to the future behavior, set `pd.set_option('future.no_silent_downcasting', True)`\n",
      "  self.df[column] = self.df[column].replace(column_encoding)\n",
      "E:\\Projects\\Claims_Rejection\\src\\data_local.py:208: FutureWarning: Downcasting behavior in `replace` is deprecated and will be removed in a future version. To retain the old behavior, explicitly call `result.infer_objects(copy=False)`. To opt-in to the future behavior, set `pd.set_option('future.no_silent_downcasting', True)`\n",
      "  self.df['PatientAgeRange'] = self.df.PatientAgeRange.replace(age_encoding)\n"
     ]
    }
   ],
   "source": [
    "preprocessing_train = MergedDataPreprocessing(X_train)\n",
    "X_train_prep = preprocessing_train.columns_prep(service_encoding=False)\n",
    "\n",
    "preprocessing_test = MergedDataPreprocessing(X_test)\n",
    "X_test_prep = preprocessing_test.columns_prep(service_encoding=False)"
   ],
   "metadata": {
    "collapsed": false,
    "ExecuteTime": {
     "end_time": "2024-07-02T10:32:30.931215200Z",
     "start_time": "2024-07-02T10:32:29.986583800Z"
    }
   }
  },
  {
   "cell_type": "code",
   "execution_count": 6,
   "outputs": [
    {
     "data": {
      "text/plain": "        NET_WITH_VAT                       SERVICE_DESCRIPTION  QTY  \\\n0              56.12                             Unlisted Code  1.0   \n1             202.40                                       TSH  1.0   \n2             408.08                       In vivo laboratory   1.0   \n3              24.27                       ELICA-M CREAM 30 GM  1.0   \n4              80.64            Peripheral intravenous cannula  1.0   \n...              ...                                       ...  ...   \n488828        242.48  Quantitative Troponin (Protein) Analysis  1.0   \n488829          1.06                       NEBILET 5MG TABLETS  1.0   \n488830          1.14                   Unlisted Procedure Code  5.0   \n488831          1.79                 SALURIN 20MG-2ML AMPOULES  1.0   \n488832        144.56              Radiography of chest, 1 view  1.0   \n\n        LINE_CLAIMED_AMOUNT  LINE_CLAIMED_AMOUNT_SAR  CO_PAY  CO_INSURANCE  \\\n0                     61.00                    61.00    0.00         61.00   \n1                    220.00                   220.00    0.00        220.00   \n2                    475.00                   475.00   10.75        464.25   \n3                     25.55                    25.55    4.85         20.70   \n4                     90.00                    90.00   14.40         75.60   \n...                     ...                      ...     ...           ...   \n488828               324.39                   324.39    0.00        324.39   \n488829                 1.14                     1.14    0.00          1.14   \n488830                 1.77                     1.77    0.00          1.77   \n488831                 1.93                     1.93    0.00          1.93   \n488832               193.39                   193.39    0.00        193.39   \n\n        LINE_ITEM_DISCOUNT  NET_AMOUNT  NET_VAT_AMOUNT  ...  TOTAL_NET_AMOUNT  \\\n0                    12.20       48.80            7.32  ...           1028.88   \n1                    44.00      176.00           26.40  ...           1029.75   \n2                   118.75      345.50           51.83  ...           1205.00   \n3                     1.28       19.42            0.00  ...            360.99   \n4                    18.00       57.60            8.64  ...           2765.79   \n...                    ...         ...             ...  ...               ...   \n488828              113.54      210.85           31.63  ...          35058.44   \n488829                0.08        1.06            0.00  ...          32309.30   \n488830                0.62        1.15            0.00  ...          32309.30   \n488831                0.14        1.79            0.00  ...          32309.30   \n488832               67.69      125.70           18.86  ...           1938.01   \n\n        TOTAL_DISCOUNT  TOTAL_DEDUCTIBLE TOTAL_PATIENT_VATAMOUNT  \\\n0               219.46            139.88                     0.0   \n1               320.25            100.00                     0.0   \n2               390.00            100.00                     0.0   \n3                95.07             90.24                     0.0   \n4               291.19            103.74                     0.0   \n...                ...               ...                     ...   \n488828         5229.23              0.00                     0.0   \n488829        13042.16              0.00                     0.0   \n488830        13042.16              0.00                     0.0   \n488831        13042.16              0.00                     0.0   \n488832          952.92              0.00                     0.0   \n\n        TOTAL_NET_VAT_AMOUNT  DEPARTMENT_TYPE  TREATMENT_TYPE PURCHASER_CODE  \\\n0                     128.79             18.0               1           2622   \n1                     154.46              6.0               1           2622   \n2                     180.77             11.0               1           2622   \n3                      48.30             18.0               1           2622   \n4                     412.62             39.0               0           2622   \n...                      ...              ...             ...            ...   \n488828               5231.53              NaN               0            183   \n488829               4608.10              NaN               0            183   \n488830               4608.10              NaN               0            183   \n488831               4608.10              NaN               0            183   \n488832                276.55             39.0               0            183   \n\n        NEW_BORN  PatientAgeRange  \n0              0                6  \n1              0                5  \n2              0                6  \n3              0                6  \n4              0                8  \n...          ...              ...  \n488828         0                8  \n488829         0                7  \n488830         0                7  \n488831         0                7  \n488832         0                9  \n\n[155399 rows x 45 columns]",
      "text/html": "<div>\n<style scoped>\n    .dataframe tbody tr th:only-of-type {\n        vertical-align: middle;\n    }\n\n    .dataframe tbody tr th {\n        vertical-align: top;\n    }\n\n    .dataframe thead th {\n        text-align: right;\n    }\n</style>\n<table border=\"1\" class=\"dataframe\">\n  <thead>\n    <tr style=\"text-align: right;\">\n      <th></th>\n      <th>NET_WITH_VAT</th>\n      <th>SERVICE_DESCRIPTION</th>\n      <th>QTY</th>\n      <th>LINE_CLAIMED_AMOUNT</th>\n      <th>LINE_CLAIMED_AMOUNT_SAR</th>\n      <th>CO_PAY</th>\n      <th>CO_INSURANCE</th>\n      <th>LINE_ITEM_DISCOUNT</th>\n      <th>NET_AMOUNT</th>\n      <th>NET_VAT_AMOUNT</th>\n      <th>...</th>\n      <th>TOTAL_NET_AMOUNT</th>\n      <th>TOTAL_DISCOUNT</th>\n      <th>TOTAL_DEDUCTIBLE</th>\n      <th>TOTAL_PATIENT_VATAMOUNT</th>\n      <th>TOTAL_NET_VAT_AMOUNT</th>\n      <th>DEPARTMENT_TYPE</th>\n      <th>TREATMENT_TYPE</th>\n      <th>PURCHASER_CODE</th>\n      <th>NEW_BORN</th>\n      <th>PatientAgeRange</th>\n    </tr>\n  </thead>\n  <tbody>\n    <tr>\n      <th>0</th>\n      <td>56.12</td>\n      <td>Unlisted Code</td>\n      <td>1.0</td>\n      <td>61.00</td>\n      <td>61.00</td>\n      <td>0.00</td>\n      <td>61.00</td>\n      <td>12.20</td>\n      <td>48.80</td>\n      <td>7.32</td>\n      <td>...</td>\n      <td>1028.88</td>\n      <td>219.46</td>\n      <td>139.88</td>\n      <td>0.0</td>\n      <td>128.79</td>\n      <td>18.0</td>\n      <td>1</td>\n      <td>2622</td>\n      <td>0</td>\n      <td>6</td>\n    </tr>\n    <tr>\n      <th>1</th>\n      <td>202.40</td>\n      <td>TSH</td>\n      <td>1.0</td>\n      <td>220.00</td>\n      <td>220.00</td>\n      <td>0.00</td>\n      <td>220.00</td>\n      <td>44.00</td>\n      <td>176.00</td>\n      <td>26.40</td>\n      <td>...</td>\n      <td>1029.75</td>\n      <td>320.25</td>\n      <td>100.00</td>\n      <td>0.0</td>\n      <td>154.46</td>\n      <td>6.0</td>\n      <td>1</td>\n      <td>2622</td>\n      <td>0</td>\n      <td>5</td>\n    </tr>\n    <tr>\n      <th>2</th>\n      <td>408.08</td>\n      <td>In vivo laboratory</td>\n      <td>1.0</td>\n      <td>475.00</td>\n      <td>475.00</td>\n      <td>10.75</td>\n      <td>464.25</td>\n      <td>118.75</td>\n      <td>345.50</td>\n      <td>51.83</td>\n      <td>...</td>\n      <td>1205.00</td>\n      <td>390.00</td>\n      <td>100.00</td>\n      <td>0.0</td>\n      <td>180.77</td>\n      <td>11.0</td>\n      <td>1</td>\n      <td>2622</td>\n      <td>0</td>\n      <td>6</td>\n    </tr>\n    <tr>\n      <th>3</th>\n      <td>24.27</td>\n      <td>ELICA-M CREAM 30 GM</td>\n      <td>1.0</td>\n      <td>25.55</td>\n      <td>25.55</td>\n      <td>4.85</td>\n      <td>20.70</td>\n      <td>1.28</td>\n      <td>19.42</td>\n      <td>0.00</td>\n      <td>...</td>\n      <td>360.99</td>\n      <td>95.07</td>\n      <td>90.24</td>\n      <td>0.0</td>\n      <td>48.30</td>\n      <td>18.0</td>\n      <td>1</td>\n      <td>2622</td>\n      <td>0</td>\n      <td>6</td>\n    </tr>\n    <tr>\n      <th>4</th>\n      <td>80.64</td>\n      <td>Peripheral intravenous cannula</td>\n      <td>1.0</td>\n      <td>90.00</td>\n      <td>90.00</td>\n      <td>14.40</td>\n      <td>75.60</td>\n      <td>18.00</td>\n      <td>57.60</td>\n      <td>8.64</td>\n      <td>...</td>\n      <td>2765.79</td>\n      <td>291.19</td>\n      <td>103.74</td>\n      <td>0.0</td>\n      <td>412.62</td>\n      <td>39.0</td>\n      <td>0</td>\n      <td>2622</td>\n      <td>0</td>\n      <td>8</td>\n    </tr>\n    <tr>\n      <th>...</th>\n      <td>...</td>\n      <td>...</td>\n      <td>...</td>\n      <td>...</td>\n      <td>...</td>\n      <td>...</td>\n      <td>...</td>\n      <td>...</td>\n      <td>...</td>\n      <td>...</td>\n      <td>...</td>\n      <td>...</td>\n      <td>...</td>\n      <td>...</td>\n      <td>...</td>\n      <td>...</td>\n      <td>...</td>\n      <td>...</td>\n      <td>...</td>\n      <td>...</td>\n      <td>...</td>\n    </tr>\n    <tr>\n      <th>488828</th>\n      <td>242.48</td>\n      <td>Quantitative Troponin (Protein) Analysis</td>\n      <td>1.0</td>\n      <td>324.39</td>\n      <td>324.39</td>\n      <td>0.00</td>\n      <td>324.39</td>\n      <td>113.54</td>\n      <td>210.85</td>\n      <td>31.63</td>\n      <td>...</td>\n      <td>35058.44</td>\n      <td>5229.23</td>\n      <td>0.00</td>\n      <td>0.0</td>\n      <td>5231.53</td>\n      <td>NaN</td>\n      <td>0</td>\n      <td>183</td>\n      <td>0</td>\n      <td>8</td>\n    </tr>\n    <tr>\n      <th>488829</th>\n      <td>1.06</td>\n      <td>NEBILET 5MG TABLETS</td>\n      <td>1.0</td>\n      <td>1.14</td>\n      <td>1.14</td>\n      <td>0.00</td>\n      <td>1.14</td>\n      <td>0.08</td>\n      <td>1.06</td>\n      <td>0.00</td>\n      <td>...</td>\n      <td>32309.30</td>\n      <td>13042.16</td>\n      <td>0.00</td>\n      <td>0.0</td>\n      <td>4608.10</td>\n      <td>NaN</td>\n      <td>0</td>\n      <td>183</td>\n      <td>0</td>\n      <td>7</td>\n    </tr>\n    <tr>\n      <th>488830</th>\n      <td>1.14</td>\n      <td>Unlisted Procedure Code</td>\n      <td>5.0</td>\n      <td>1.77</td>\n      <td>1.77</td>\n      <td>0.00</td>\n      <td>1.77</td>\n      <td>0.62</td>\n      <td>1.15</td>\n      <td>0.00</td>\n      <td>...</td>\n      <td>32309.30</td>\n      <td>13042.16</td>\n      <td>0.00</td>\n      <td>0.0</td>\n      <td>4608.10</td>\n      <td>NaN</td>\n      <td>0</td>\n      <td>183</td>\n      <td>0</td>\n      <td>7</td>\n    </tr>\n    <tr>\n      <th>488831</th>\n      <td>1.79</td>\n      <td>SALURIN 20MG-2ML AMPOULES</td>\n      <td>1.0</td>\n      <td>1.93</td>\n      <td>1.93</td>\n      <td>0.00</td>\n      <td>1.93</td>\n      <td>0.14</td>\n      <td>1.79</td>\n      <td>0.00</td>\n      <td>...</td>\n      <td>32309.30</td>\n      <td>13042.16</td>\n      <td>0.00</td>\n      <td>0.0</td>\n      <td>4608.10</td>\n      <td>NaN</td>\n      <td>0</td>\n      <td>183</td>\n      <td>0</td>\n      <td>7</td>\n    </tr>\n    <tr>\n      <th>488832</th>\n      <td>144.56</td>\n      <td>Radiography of chest, 1 view</td>\n      <td>1.0</td>\n      <td>193.39</td>\n      <td>193.39</td>\n      <td>0.00</td>\n      <td>193.39</td>\n      <td>67.69</td>\n      <td>125.70</td>\n      <td>18.86</td>\n      <td>...</td>\n      <td>1938.01</td>\n      <td>952.92</td>\n      <td>0.00</td>\n      <td>0.0</td>\n      <td>276.55</td>\n      <td>39.0</td>\n      <td>0</td>\n      <td>183</td>\n      <td>0</td>\n      <td>9</td>\n    </tr>\n  </tbody>\n</table>\n<p>155399 rows × 45 columns</p>\n</div>"
     },
     "execution_count": 6,
     "metadata": {},
     "output_type": "execute_result"
    }
   ],
   "source": [
    "X_train_prep"
   ],
   "metadata": {
    "collapsed": false,
    "ExecuteTime": {
     "end_time": "2024-07-02T10:32:31.840279400Z",
     "start_time": "2024-07-02T10:32:31.756433400Z"
    }
   }
  },
  {
   "cell_type": "code",
   "execution_count": 7,
   "outputs": [],
   "source": [
    "lstm_embedding = LSTMEmbedding()\n",
    "\n",
    "X_train_encoded = preprocessing_train.column_embedding(X_train_prep)\n",
    "X_test_encoded = preprocessing_train.column_embedding(X_test_prep)"
   ],
   "metadata": {
    "collapsed": false,
    "ExecuteTime": {
     "end_time": "2024-07-02T10:32:43.081908Z",
     "start_time": "2024-07-02T10:32:36.889649400Z"
    }
   }
  },
  {
   "cell_type": "code",
   "execution_count": 8,
   "outputs": [
    {
     "data": {
      "text/plain": "        NET_WITH_VAT   QTY  LINE_CLAIMED_AMOUNT  LINE_CLAIMED_AMOUNT_SAR  \\\n9              27.36   2.0                28.80                    28.80   \n26             12.16  20.0                13.15                    13.15   \n27             50.18  10.0                54.26                    54.26   \n28             27.47   3.0                29.70                    29.70   \n69            131.26   1.0               163.06                   163.06   \n...              ...   ...                  ...                      ...   \n488709        836.67   1.0              1053.50                  1053.50   \n488710        134.40   1.0               120.00                   120.00   \n488775         12.49  20.0                13.15                    13.15   \n488776         12.67   1.0                13.70                    13.70   \n488820          0.06   1.0                 0.08                     0.08   \n\n        CO_PAY  CO_INSURANCE  LINE_ITEM_DISCOUNT  NET_AMOUNT  NET_VAT_AMOUNT  \\\n9         5.47         23.33                1.44       21.89            0.00   \n26        6.08          7.07                0.99        6.08            0.00   \n27       10.04         44.22                4.07       40.15            0.00   \n28        5.49         24.21                2.23       21.98            0.00   \n69        0.00        163.06               48.92      114.14           17.12   \n...        ...           ...                 ...         ...             ...   \n488709   76.00        977.50              316.05      661.45           99.22   \n488710   24.00         96.00                0.00       96.00           14.40   \n488775    2.50         10.65                0.66        9.99            0.00   \n488776    2.53         11.17                1.03       10.14            0.00   \n488820    0.00          0.08                0.01        0.07            0.00   \n\n        PATIENT_VAT_AMOUNT  ...  CombinedText7  CombinedText8  CombinedText9  \\\n9                      0.0  ...            285             54              6   \n26                     0.0  ...              0              0              0   \n27                     0.0  ...              0              0              0   \n28                     0.0  ...              0              0              0   \n69                     0.0  ...             19              0              0   \n...                    ...  ...            ...            ...            ...   \n488709                11.4  ...            617             32            205   \n488710                 3.6  ...              0              0              0   \n488775                 0.0  ...              0              0              0   \n488776                 0.0  ...             68             67             45   \n488820                 0.0  ...              0              0              0   \n\n        CombinedText10  CombinedText11  CombinedText12  CombinedText13  \\\n9                   70              36              43              73   \n26                   0               0               0               0   \n27                   0               0               0               0   \n28                   0               0               0               0   \n69                   0               0               0               0   \n...                ...             ...             ...             ...   \n488709             703             172              37             200   \n488710               0               0               0               0   \n488775               0               0               0               0   \n488776               6               2              35               2   \n488820               0               0               0               0   \n\n        CombinedText14  CombinedText15  CombinedText16  \n9                   22               0               0  \n26                   0               0               0  \n27                   0               0               0  \n28                   0               0               0  \n69                   0               0               0  \n...                ...             ...             ...  \n488709             441               0               0  \n488710               0               0               0  \n488775               0               0               0  \n488776              68               0               0  \n488820               0               0               0  \n\n[39340 rows x 57 columns]",
      "text/html": "<div>\n<style scoped>\n    .dataframe tbody tr th:only-of-type {\n        vertical-align: middle;\n    }\n\n    .dataframe tbody tr th {\n        vertical-align: top;\n    }\n\n    .dataframe thead th {\n        text-align: right;\n    }\n</style>\n<table border=\"1\" class=\"dataframe\">\n  <thead>\n    <tr style=\"text-align: right;\">\n      <th></th>\n      <th>NET_WITH_VAT</th>\n      <th>QTY</th>\n      <th>LINE_CLAIMED_AMOUNT</th>\n      <th>LINE_CLAIMED_AMOUNT_SAR</th>\n      <th>CO_PAY</th>\n      <th>CO_INSURANCE</th>\n      <th>LINE_ITEM_DISCOUNT</th>\n      <th>NET_AMOUNT</th>\n      <th>NET_VAT_AMOUNT</th>\n      <th>PATIENT_VAT_AMOUNT</th>\n      <th>...</th>\n      <th>CombinedText7</th>\n      <th>CombinedText8</th>\n      <th>CombinedText9</th>\n      <th>CombinedText10</th>\n      <th>CombinedText11</th>\n      <th>CombinedText12</th>\n      <th>CombinedText13</th>\n      <th>CombinedText14</th>\n      <th>CombinedText15</th>\n      <th>CombinedText16</th>\n    </tr>\n  </thead>\n  <tbody>\n    <tr>\n      <th>9</th>\n      <td>27.36</td>\n      <td>2.0</td>\n      <td>28.80</td>\n      <td>28.80</td>\n      <td>5.47</td>\n      <td>23.33</td>\n      <td>1.44</td>\n      <td>21.89</td>\n      <td>0.00</td>\n      <td>0.0</td>\n      <td>...</td>\n      <td>285</td>\n      <td>54</td>\n      <td>6</td>\n      <td>70</td>\n      <td>36</td>\n      <td>43</td>\n      <td>73</td>\n      <td>22</td>\n      <td>0</td>\n      <td>0</td>\n    </tr>\n    <tr>\n      <th>26</th>\n      <td>12.16</td>\n      <td>20.0</td>\n      <td>13.15</td>\n      <td>13.15</td>\n      <td>6.08</td>\n      <td>7.07</td>\n      <td>0.99</td>\n      <td>6.08</td>\n      <td>0.00</td>\n      <td>0.0</td>\n      <td>...</td>\n      <td>0</td>\n      <td>0</td>\n      <td>0</td>\n      <td>0</td>\n      <td>0</td>\n      <td>0</td>\n      <td>0</td>\n      <td>0</td>\n      <td>0</td>\n      <td>0</td>\n    </tr>\n    <tr>\n      <th>27</th>\n      <td>50.18</td>\n      <td>10.0</td>\n      <td>54.26</td>\n      <td>54.26</td>\n      <td>10.04</td>\n      <td>44.22</td>\n      <td>4.07</td>\n      <td>40.15</td>\n      <td>0.00</td>\n      <td>0.0</td>\n      <td>...</td>\n      <td>0</td>\n      <td>0</td>\n      <td>0</td>\n      <td>0</td>\n      <td>0</td>\n      <td>0</td>\n      <td>0</td>\n      <td>0</td>\n      <td>0</td>\n      <td>0</td>\n    </tr>\n    <tr>\n      <th>28</th>\n      <td>27.47</td>\n      <td>3.0</td>\n      <td>29.70</td>\n      <td>29.70</td>\n      <td>5.49</td>\n      <td>24.21</td>\n      <td>2.23</td>\n      <td>21.98</td>\n      <td>0.00</td>\n      <td>0.0</td>\n      <td>...</td>\n      <td>0</td>\n      <td>0</td>\n      <td>0</td>\n      <td>0</td>\n      <td>0</td>\n      <td>0</td>\n      <td>0</td>\n      <td>0</td>\n      <td>0</td>\n      <td>0</td>\n    </tr>\n    <tr>\n      <th>69</th>\n      <td>131.26</td>\n      <td>1.0</td>\n      <td>163.06</td>\n      <td>163.06</td>\n      <td>0.00</td>\n      <td>163.06</td>\n      <td>48.92</td>\n      <td>114.14</td>\n      <td>17.12</td>\n      <td>0.0</td>\n      <td>...</td>\n      <td>19</td>\n      <td>0</td>\n      <td>0</td>\n      <td>0</td>\n      <td>0</td>\n      <td>0</td>\n      <td>0</td>\n      <td>0</td>\n      <td>0</td>\n      <td>0</td>\n    </tr>\n    <tr>\n      <th>...</th>\n      <td>...</td>\n      <td>...</td>\n      <td>...</td>\n      <td>...</td>\n      <td>...</td>\n      <td>...</td>\n      <td>...</td>\n      <td>...</td>\n      <td>...</td>\n      <td>...</td>\n      <td>...</td>\n      <td>...</td>\n      <td>...</td>\n      <td>...</td>\n      <td>...</td>\n      <td>...</td>\n      <td>...</td>\n      <td>...</td>\n      <td>...</td>\n      <td>...</td>\n      <td>...</td>\n    </tr>\n    <tr>\n      <th>488709</th>\n      <td>836.67</td>\n      <td>1.0</td>\n      <td>1053.50</td>\n      <td>1053.50</td>\n      <td>76.00</td>\n      <td>977.50</td>\n      <td>316.05</td>\n      <td>661.45</td>\n      <td>99.22</td>\n      <td>11.4</td>\n      <td>...</td>\n      <td>617</td>\n      <td>32</td>\n      <td>205</td>\n      <td>703</td>\n      <td>172</td>\n      <td>37</td>\n      <td>200</td>\n      <td>441</td>\n      <td>0</td>\n      <td>0</td>\n    </tr>\n    <tr>\n      <th>488710</th>\n      <td>134.40</td>\n      <td>1.0</td>\n      <td>120.00</td>\n      <td>120.00</td>\n      <td>24.00</td>\n      <td>96.00</td>\n      <td>0.00</td>\n      <td>96.00</td>\n      <td>14.40</td>\n      <td>3.6</td>\n      <td>...</td>\n      <td>0</td>\n      <td>0</td>\n      <td>0</td>\n      <td>0</td>\n      <td>0</td>\n      <td>0</td>\n      <td>0</td>\n      <td>0</td>\n      <td>0</td>\n      <td>0</td>\n    </tr>\n    <tr>\n      <th>488775</th>\n      <td>12.49</td>\n      <td>20.0</td>\n      <td>13.15</td>\n      <td>13.15</td>\n      <td>2.50</td>\n      <td>10.65</td>\n      <td>0.66</td>\n      <td>9.99</td>\n      <td>0.00</td>\n      <td>0.0</td>\n      <td>...</td>\n      <td>0</td>\n      <td>0</td>\n      <td>0</td>\n      <td>0</td>\n      <td>0</td>\n      <td>0</td>\n      <td>0</td>\n      <td>0</td>\n      <td>0</td>\n      <td>0</td>\n    </tr>\n    <tr>\n      <th>488776</th>\n      <td>12.67</td>\n      <td>1.0</td>\n      <td>13.70</td>\n      <td>13.70</td>\n      <td>2.53</td>\n      <td>11.17</td>\n      <td>1.03</td>\n      <td>10.14</td>\n      <td>0.00</td>\n      <td>0.0</td>\n      <td>...</td>\n      <td>68</td>\n      <td>67</td>\n      <td>45</td>\n      <td>6</td>\n      <td>2</td>\n      <td>35</td>\n      <td>2</td>\n      <td>68</td>\n      <td>0</td>\n      <td>0</td>\n    </tr>\n    <tr>\n      <th>488820</th>\n      <td>0.06</td>\n      <td>1.0</td>\n      <td>0.08</td>\n      <td>0.08</td>\n      <td>0.00</td>\n      <td>0.08</td>\n      <td>0.01</td>\n      <td>0.07</td>\n      <td>0.00</td>\n      <td>0.0</td>\n      <td>...</td>\n      <td>0</td>\n      <td>0</td>\n      <td>0</td>\n      <td>0</td>\n      <td>0</td>\n      <td>0</td>\n      <td>0</td>\n      <td>0</td>\n      <td>0</td>\n      <td>0</td>\n    </tr>\n  </tbody>\n</table>\n<p>39340 rows × 57 columns</p>\n</div>"
     },
     "execution_count": 8,
     "metadata": {},
     "output_type": "execute_result"
    }
   ],
   "source": [
    "X_test_encoded"
   ],
   "metadata": {
    "collapsed": false,
    "ExecuteTime": {
     "end_time": "2024-07-02T10:32:43.130777200Z",
     "start_time": "2024-07-02T10:32:43.084901600Z"
    }
   }
  },
  {
   "cell_type": "code",
   "execution_count": 9,
   "outputs": [],
   "source": [
    "model_runner = ModelApplication(X_train= X_train,y_train= y_train['OUTCOME'],X_test= X_test,y_test= y_test['OUTCOME'])"
   ],
   "metadata": {
    "collapsed": false,
    "ExecuteTime": {
     "end_time": "2024-07-02T10:32:46.070634800Z",
     "start_time": "2024-07-02T10:32:46.051657200Z"
    }
   }
  },
  {
   "cell_type": "code",
   "execution_count": 10,
   "outputs": [
    {
     "name": "stdout",
     "output_type": "stream",
     "text": [
      "XGBoost Model is loading from disk..\n"
     ]
    }
   ],
   "source": [
    "model_runner.get_model(force_retrain=True)"
   ],
   "metadata": {
    "collapsed": false,
    "ExecuteTime": {
     "end_time": "2024-07-02T10:32:49.367119800Z",
     "start_time": "2024-07-02T10:32:46.326919200Z"
    }
   }
  },
  {
   "cell_type": "code",
   "execution_count": 11,
   "outputs": [
    {
     "data": {
      "text/plain": "{'XGBoost': {'Accuracy': 0.75,\n  'Precision': 0.74,\n  'Recall': 0.79,\n  'F1 Score': 0.76}}"
     },
     "execution_count": 11,
     "metadata": {},
     "output_type": "execute_result"
    }
   ],
   "source": [
    "model_runner.evaluate_model()"
   ],
   "metadata": {
    "collapsed": false,
    "ExecuteTime": {
     "end_time": "2024-07-02T10:33:14.330520800Z",
     "start_time": "2024-07-02T10:33:14.185795600Z"
    }
   }
  },
  {
   "cell_type": "code",
   "execution_count": 19,
   "outputs": [
    {
     "data": {
      "text/plain": "       OUTCOME                               SUBMIT_CLAIM_MESSAGE\n0            0  BE-1-1 Co-pay was not collected from memberBE-...\n1            0    BE-1-7 Incorrect billing regimePartial Approved\n2            1    BE-1-7 Incorrect billing regimePartial Approved\n3            1  MN-1-1 Service is not clinically justified bas...\n4            0  BE-1-7 Incorrect billing regimeBE-1-7 Incorrec...\n...        ...                                                ...\n488828       0  BE-1-4 Preauthorization is required and was no...\n488829       1  MN-1-1 Service is not clinically justified bas...\n488830       1  MN-1-1 Service is not clinically justified bas...\n488831       0  MN-1-1 Service is not clinically justified bas...\n488832       0  CV-1-1 Provider is out of beneficiary networkC...\n\n[155399 rows x 2 columns]",
      "text/html": "<div>\n<style scoped>\n    .dataframe tbody tr th:only-of-type {\n        vertical-align: middle;\n    }\n\n    .dataframe tbody tr th {\n        vertical-align: top;\n    }\n\n    .dataframe thead th {\n        text-align: right;\n    }\n</style>\n<table border=\"1\" class=\"dataframe\">\n  <thead>\n    <tr style=\"text-align: right;\">\n      <th></th>\n      <th>OUTCOME</th>\n      <th>SUBMIT_CLAIM_MESSAGE</th>\n    </tr>\n  </thead>\n  <tbody>\n    <tr>\n      <th>0</th>\n      <td>0</td>\n      <td>BE-1-1 Co-pay was not collected from memberBE-...</td>\n    </tr>\n    <tr>\n      <th>1</th>\n      <td>0</td>\n      <td>BE-1-7 Incorrect billing regimePartial Approved</td>\n    </tr>\n    <tr>\n      <th>2</th>\n      <td>1</td>\n      <td>BE-1-7 Incorrect billing regimePartial Approved</td>\n    </tr>\n    <tr>\n      <th>3</th>\n      <td>1</td>\n      <td>MN-1-1 Service is not clinically justified bas...</td>\n    </tr>\n    <tr>\n      <th>4</th>\n      <td>0</td>\n      <td>BE-1-7 Incorrect billing regimeBE-1-7 Incorrec...</td>\n    </tr>\n    <tr>\n      <th>...</th>\n      <td>...</td>\n      <td>...</td>\n    </tr>\n    <tr>\n      <th>488828</th>\n      <td>0</td>\n      <td>BE-1-4 Preauthorization is required and was no...</td>\n    </tr>\n    <tr>\n      <th>488829</th>\n      <td>1</td>\n      <td>MN-1-1 Service is not clinically justified bas...</td>\n    </tr>\n    <tr>\n      <th>488830</th>\n      <td>1</td>\n      <td>MN-1-1 Service is not clinically justified bas...</td>\n    </tr>\n    <tr>\n      <th>488831</th>\n      <td>0</td>\n      <td>MN-1-1 Service is not clinically justified bas...</td>\n    </tr>\n    <tr>\n      <th>488832</th>\n      <td>0</td>\n      <td>CV-1-1 Provider is out of beneficiary networkC...</td>\n    </tr>\n  </tbody>\n</table>\n<p>155399 rows × 2 columns</p>\n</div>"
     },
     "execution_count": 19,
     "metadata": {},
     "output_type": "execute_result"
    }
   ],
   "source": [
    "y_train"
   ],
   "metadata": {
    "collapsed": false,
    "ExecuteTime": {
     "end_time": "2024-07-02T10:42:05.483473600Z",
     "start_time": "2024-07-02T10:42:05.456538300Z"
    }
   }
  },
  {
   "cell_type": "code",
   "execution_count": 36,
   "outputs": [],
   "source": [
    "import re\n",
    "from transformers import pipeline\n",
    "import os\n",
    "import joblib\n",
    "\n",
    "class RejectionCategory:\n",
    "    def __init__(self, model_path='data/bart_model/bart_zero_classifier'):\n",
    "        if model_path and os.path.exists(model_path):\n",
    "            self.classifier = joblib.load(model_path)\n",
    "        else:\n",
    "            self.classifier = pipeline(\"zero-shot-classification\", model=\"facebook/bart-large-mnli\")\n",
    "\n",
    "        self.categories = [\n",
    "            \"Medical Justification Denials\",\n",
    "            \"Contractual or Financial Benefit Denials\",\n",
    "            \"Information Errors or Omissions Denials\"]\n",
    "        print('Model loading is done')\n",
    "\n",
    "    def save_classifier(self, model_path):\n",
    "        joblib.dump(self.classifier, model_path)\n",
    "\n",
    "    def classify_message(self, message,predictions):\n",
    "        result = self.classifier(message, self.categories)\n",
    "        labels = []\n",
    "        for i in range(len(result)):\n",
    "            if predictions[i] == 0:\n",
    "                most_probable_label = result[i]['labels'][0]\n",
    "                labels.append(most_probable_label)\n",
    "            else:\n",
    "                labels.append('APPROVED_PREDICTION')\n",
    "            if i%10 == 0:\n",
    "                print(f\"A batch of {i} is done\")\n",
    "        return labels\n",
    "\n",
    "    def preprocess_messages(self, messages,predictions):\n",
    "        cleaned_messages = []\n",
    "        nphies_code_pattern = r'[A-Z]{2}-\\d+-\\d+'\n",
    "\n",
    "        for looper in range(len(messages)):\n",
    "            if predictions[looper] == 0:\n",
    "                message = messages[looper]\n",
    "                message = str(message).strip().strip(\"'''\")\n",
    "\n",
    "                message = re.sub(f\"({nphies_code_pattern})\", r' \\1 ', message)\n",
    "                parts = message.split()\n",
    "\n",
    "                unique_parts = []\n",
    "                seen = set()\n",
    "                for part in parts:\n",
    "                    if part not in seen:\n",
    "                        seen.add(part)\n",
    "                        unique_parts.append(part)\n",
    "\n",
    "                cleaned_message = ' '.join(unique_parts)\n",
    "                cleaned_message = re.sub(r'([a-z])([A-Z])', r'\\1 \\2', cleaned_message)\n",
    "                cleaned_messages.append(cleaned_message.strip())\n",
    "            else:\n",
    "                cleaned_messages.append('APPROVED_PREDICTION')\n",
    "\n",
    "        return cleaned_messages"
   ],
   "metadata": {
    "collapsed": false,
    "ExecuteTime": {
     "end_time": "2024-07-02T10:50:22.047134500Z",
     "start_time": "2024-07-02T10:50:22.019564500Z"
    }
   }
  },
  {
   "cell_type": "code",
   "execution_count": null,
   "outputs": [],
   "source": [
    "#from src.rejection_clustering import RejectionCategory\n",
    "\n",
    "rejection_category = RejectionCategory()\n",
    "\n",
    "messages  = y_test['SUBMIT_CLAIM_MESSAGE'].tolist()\n",
    "predicted_labels = y_test['OUTCOME'].tolist()"
   ],
   "metadata": {
    "collapsed": false
   }
  },
  {
   "cell_type": "code",
   "execution_count": 38,
   "outputs": [],
   "source": [
    "cleaned_messages = rejection_category.preprocess_messages(messages,predicted_labels)"
   ],
   "metadata": {
    "collapsed": false,
    "ExecuteTime": {
     "end_time": "2024-07-02T10:50:34.286017700Z",
     "start_time": "2024-07-02T10:50:33.557399500Z"
    }
   }
  },
  {
   "cell_type": "code",
   "execution_count": null,
   "outputs": [],
   "source": [
    "classification_result = rejection_category.classify_message(cleaned_messages,predicted_labels)"
   ],
   "metadata": {
    "collapsed": false,
    "is_executing": true,
    "ExecuteTime": {
     "start_time": "2024-07-02T10:50:34.289994Z"
    }
   }
  },
  {
   "cell_type": "code",
   "execution_count": null,
   "outputs": [],
   "source": [],
   "metadata": {
    "collapsed": false
   }
  }
 ],
 "metadata": {
  "kernelspec": {
   "display_name": "Python 3",
   "language": "python",
   "name": "python3"
  },
  "language_info": {
   "codemirror_mode": {
    "name": "ipython",
    "version": 2
   },
   "file_extension": ".py",
   "mimetype": "text/x-python",
   "name": "python",
   "nbconvert_exporter": "python",
   "pygments_lexer": "ipython2",
   "version": "2.7.6"
  }
 },
 "nbformat": 4,
 "nbformat_minor": 0
}
