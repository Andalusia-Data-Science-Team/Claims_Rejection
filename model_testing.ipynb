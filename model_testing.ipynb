{
 "cells": [
  {
   "cell_type": "code",
   "execution_count": 1,
   "metadata": {
    "collapsed": true,
    "ExecuteTime": {
     "end_time": "2024-06-02T11:44:11.284259600Z",
     "start_time": "2024-06-02T11:44:03.835959300Z"
    }
   },
   "outputs": [],
   "source": [
    "from cashe import get_cashed_input"
   ]
  },
  {
   "cell_type": "code",
   "execution_count": 2,
   "outputs": [],
   "source": [
    "df = get_cashed_input()"
   ],
   "metadata": {
    "collapsed": false,
    "ExecuteTime": {
     "end_time": "2024-06-02T11:44:12.933908800Z",
     "start_time": "2024-06-02T11:44:11.286226800Z"
    }
   }
  },
  {
   "cell_type": "code",
   "execution_count": 3,
   "outputs": [
    {
     "data": {
      "text/plain": "        CREATED_BY_USER       CREATION_DATE  VISIT_ID  NET_WITH_VAT  \\\n0                  9521 2024-04-04 22:57:57    230089         56.12   \n1                  9521 2024-04-04 23:02:21    230117        202.40   \n2                  9521 2024-04-04 23:08:38    230160        408.08   \n3                  9521 2024-04-04 22:26:08    229872         24.27   \n4                  9521 2024-04-04 22:34:22    229913         80.64   \n...                 ...                 ...       ...           ...   \n488828             9593 2024-01-23 17:20:54    204110        242.48   \n488829            10962 2024-01-28 01:01:05    204377          1.06   \n488830            10962 2024-01-28 01:01:05    204377          1.14   \n488831            10962 2024-01-28 01:01:05    204377          1.79   \n488832             9593 2024-01-23 16:35:34    204093        144.56   \n\n                             SERVICE_DESCRIPTION  QTY  LINE_CLAIMED_AMOUNT  \\\n0                                  Unlisted Code  1.0                61.00   \n1                                            TSH  1.0               220.00   \n2                            In vivo laboratory   1.0               475.00   \n3                            ELICA-M CREAM 30 GM  1.0                25.55   \n4                 Peripheral intravenous cannula  1.0                90.00   \n...                                          ...  ...                  ...   \n488828  Quantitative Troponin (Protein) Analysis  1.0               324.39   \n488829                       NEBILET 5MG TABLETS  1.0                 1.14   \n488830                   Unlisted Procedure Code  5.0                 1.77   \n488831                 SALURIN 20MG-2ML AMPOULES  1.0                 1.93   \n488832              Radiography of chest, 1 view  1.0               193.39   \n\n        LINE_CLAIMED_AMOUNT_SAR  CO_PAY  CO_INSURANCE  ...  \\\n0                         61.00    0.00         61.00  ...   \n1                        220.00    0.00        220.00  ...   \n2                        475.00   10.75        464.25  ...   \n3                         25.55    4.85         20.70  ...   \n4                         90.00   14.40         75.60  ...   \n...                         ...     ...           ...  ...   \n488828                   324.39    0.00        324.39  ...   \n488829                     1.14    0.00          1.14  ...   \n488830                     1.77    0.00          1.77  ...   \n488831                     1.93    0.00          1.93  ...   \n488832                   193.39    0.00        193.39  ...   \n\n        ELIGIBILITY_API_TRANS_ID  CLAIM_IDENTIFIER  \\\n0                      1680350.0         4430078.0   \n1                      1643690.0         4430087.0   \n2                      1616370.0         4430098.0   \n3                      1638278.0         4430011.0   \n4                      1657180.0         4430028.0   \n...                          ...               ...   \n488828                       NaN         4404986.0   \n488829                       NaN         4404989.0   \n488830                       NaN         4404989.0   \n488831                       NaN         4404989.0   \n488832                       NaN         4405026.0   \n\n                                           ATTACHED_FILES  ATTACHMENT_TYPE  \\\n0       929362-34-4430078_OPDUCAF_2024-04-04_22-57-36_...             FILE   \n1       1083147-3-4430087_OPDUCAF_2024-04-04_23-01-52_...             FILE   \n2       1339075-6-4430098_OPDUCAF_2024-04-04_23-08-22_...             FILE   \n3       656928-60-4430011_OPDUCAF_2024-04-04_22-25-48_...             FILE   \n4       1019628-25-4430028_OPDUCAF_2024-04-04_22-33-56...             FILE   \n...                                                   ...              ...   \n488828  1348956-2-4404986_OPDUCAF_2024-01-23_17-17-31_...             FILE   \n488829  1349595-2-4404989_LABCHRT1_2024-01-28_01-00-04...             FILE   \n488830  1349595-2-4404989_LABCHRT1_2024-01-28_01-00-04...             FILE   \n488831  1349595-2-4404989_LABCHRT1_2024-01-28_01-00-04...             FILE   \n488832  1348795-1-4405026_OPDUCAF_2024-01-23_16-35-06_...             FILE   \n\n        NEW_BORN  PATIENT_IDENTITY_TYPE BILLABLE_PERIOD_START  \\\n0              N                      H   2024-03-28 00:00:00   \n1              N                      H   2024-03-12 00:00:00   \n2              N                      H   2024-03-04 00:00:00   \n3              N                      H   2024-03-10 00:00:00   \n4              N                      H   2024-03-18 00:00:00   \n...          ...                    ...                   ...   \n488828         N                     IQ   2023-12-24 10:28:07   \n488829         N                     IQ   2023-12-27 20:51:37   \n488830         N                     IQ   2023-12-27 20:51:37   \n488831         N                     IQ   2023-12-27 20:51:37   \n488832         N                     IQ   2023-12-22 00:00:00   \n\n        BILLABLE_PERIOD_END  BATCH_PERIOD_START  BATCH_PERIOD_END  \n0       2024-04-11 00:00:00          2024-03-01        2024-03-31  \n1       2024-03-26 00:00:00          2024-03-01        2024-03-31  \n2       2024-03-18 00:00:00          2024-03-01        2024-03-31  \n3       2024-03-24 00:00:00          2024-03-01        2024-03-31  \n4       2024-04-01 00:00:00          2024-03-01        2024-03-31  \n...                     ...                 ...               ...  \n488828  2023-12-28 12:07:18          2023-12-01        2023-12-31  \n488829  2023-12-31 17:16:53          2023-12-01        2023-12-31  \n488830  2023-12-31 17:16:53          2023-12-01        2023-12-31  \n488831  2023-12-31 17:16:53          2023-12-01        2023-12-31  \n488832  2024-01-05 00:00:00          2023-12-01        2023-12-31  \n\n[488833 rows x 93 columns]",
      "text/html": "<div>\n<style scoped>\n    .dataframe tbody tr th:only-of-type {\n        vertical-align: middle;\n    }\n\n    .dataframe tbody tr th {\n        vertical-align: top;\n    }\n\n    .dataframe thead th {\n        text-align: right;\n    }\n</style>\n<table border=\"1\" class=\"dataframe\">\n  <thead>\n    <tr style=\"text-align: right;\">\n      <th></th>\n      <th>CREATED_BY_USER</th>\n      <th>CREATION_DATE</th>\n      <th>VISIT_ID</th>\n      <th>NET_WITH_VAT</th>\n      <th>SERVICE_DESCRIPTION</th>\n      <th>QTY</th>\n      <th>LINE_CLAIMED_AMOUNT</th>\n      <th>LINE_CLAIMED_AMOUNT_SAR</th>\n      <th>CO_PAY</th>\n      <th>CO_INSURANCE</th>\n      <th>...</th>\n      <th>ELIGIBILITY_API_TRANS_ID</th>\n      <th>CLAIM_IDENTIFIER</th>\n      <th>ATTACHED_FILES</th>\n      <th>ATTACHMENT_TYPE</th>\n      <th>NEW_BORN</th>\n      <th>PATIENT_IDENTITY_TYPE</th>\n      <th>BILLABLE_PERIOD_START</th>\n      <th>BILLABLE_PERIOD_END</th>\n      <th>BATCH_PERIOD_START</th>\n      <th>BATCH_PERIOD_END</th>\n    </tr>\n  </thead>\n  <tbody>\n    <tr>\n      <th>0</th>\n      <td>9521</td>\n      <td>2024-04-04 22:57:57</td>\n      <td>230089</td>\n      <td>56.12</td>\n      <td>Unlisted Code</td>\n      <td>1.0</td>\n      <td>61.00</td>\n      <td>61.00</td>\n      <td>0.00</td>\n      <td>61.00</td>\n      <td>...</td>\n      <td>1680350.0</td>\n      <td>4430078.0</td>\n      <td>929362-34-4430078_OPDUCAF_2024-04-04_22-57-36_...</td>\n      <td>FILE</td>\n      <td>N</td>\n      <td>H</td>\n      <td>2024-03-28 00:00:00</td>\n      <td>2024-04-11 00:00:00</td>\n      <td>2024-03-01</td>\n      <td>2024-03-31</td>\n    </tr>\n    <tr>\n      <th>1</th>\n      <td>9521</td>\n      <td>2024-04-04 23:02:21</td>\n      <td>230117</td>\n      <td>202.40</td>\n      <td>TSH</td>\n      <td>1.0</td>\n      <td>220.00</td>\n      <td>220.00</td>\n      <td>0.00</td>\n      <td>220.00</td>\n      <td>...</td>\n      <td>1643690.0</td>\n      <td>4430087.0</td>\n      <td>1083147-3-4430087_OPDUCAF_2024-04-04_23-01-52_...</td>\n      <td>FILE</td>\n      <td>N</td>\n      <td>H</td>\n      <td>2024-03-12 00:00:00</td>\n      <td>2024-03-26 00:00:00</td>\n      <td>2024-03-01</td>\n      <td>2024-03-31</td>\n    </tr>\n    <tr>\n      <th>2</th>\n      <td>9521</td>\n      <td>2024-04-04 23:08:38</td>\n      <td>230160</td>\n      <td>408.08</td>\n      <td>In vivo laboratory</td>\n      <td>1.0</td>\n      <td>475.00</td>\n      <td>475.00</td>\n      <td>10.75</td>\n      <td>464.25</td>\n      <td>...</td>\n      <td>1616370.0</td>\n      <td>4430098.0</td>\n      <td>1339075-6-4430098_OPDUCAF_2024-04-04_23-08-22_...</td>\n      <td>FILE</td>\n      <td>N</td>\n      <td>H</td>\n      <td>2024-03-04 00:00:00</td>\n      <td>2024-03-18 00:00:00</td>\n      <td>2024-03-01</td>\n      <td>2024-03-31</td>\n    </tr>\n    <tr>\n      <th>3</th>\n      <td>9521</td>\n      <td>2024-04-04 22:26:08</td>\n      <td>229872</td>\n      <td>24.27</td>\n      <td>ELICA-M CREAM 30 GM</td>\n      <td>1.0</td>\n      <td>25.55</td>\n      <td>25.55</td>\n      <td>4.85</td>\n      <td>20.70</td>\n      <td>...</td>\n      <td>1638278.0</td>\n      <td>4430011.0</td>\n      <td>656928-60-4430011_OPDUCAF_2024-04-04_22-25-48_...</td>\n      <td>FILE</td>\n      <td>N</td>\n      <td>H</td>\n      <td>2024-03-10 00:00:00</td>\n      <td>2024-03-24 00:00:00</td>\n      <td>2024-03-01</td>\n      <td>2024-03-31</td>\n    </tr>\n    <tr>\n      <th>4</th>\n      <td>9521</td>\n      <td>2024-04-04 22:34:22</td>\n      <td>229913</td>\n      <td>80.64</td>\n      <td>Peripheral intravenous cannula</td>\n      <td>1.0</td>\n      <td>90.00</td>\n      <td>90.00</td>\n      <td>14.40</td>\n      <td>75.60</td>\n      <td>...</td>\n      <td>1657180.0</td>\n      <td>4430028.0</td>\n      <td>1019628-25-4430028_OPDUCAF_2024-04-04_22-33-56...</td>\n      <td>FILE</td>\n      <td>N</td>\n      <td>H</td>\n      <td>2024-03-18 00:00:00</td>\n      <td>2024-04-01 00:00:00</td>\n      <td>2024-03-01</td>\n      <td>2024-03-31</td>\n    </tr>\n    <tr>\n      <th>...</th>\n      <td>...</td>\n      <td>...</td>\n      <td>...</td>\n      <td>...</td>\n      <td>...</td>\n      <td>...</td>\n      <td>...</td>\n      <td>...</td>\n      <td>...</td>\n      <td>...</td>\n      <td>...</td>\n      <td>...</td>\n      <td>...</td>\n      <td>...</td>\n      <td>...</td>\n      <td>...</td>\n      <td>...</td>\n      <td>...</td>\n      <td>...</td>\n      <td>...</td>\n      <td>...</td>\n    </tr>\n    <tr>\n      <th>488828</th>\n      <td>9593</td>\n      <td>2024-01-23 17:20:54</td>\n      <td>204110</td>\n      <td>242.48</td>\n      <td>Quantitative Troponin (Protein) Analysis</td>\n      <td>1.0</td>\n      <td>324.39</td>\n      <td>324.39</td>\n      <td>0.00</td>\n      <td>324.39</td>\n      <td>...</td>\n      <td>NaN</td>\n      <td>4404986.0</td>\n      <td>1348956-2-4404986_OPDUCAF_2024-01-23_17-17-31_...</td>\n      <td>FILE</td>\n      <td>N</td>\n      <td>IQ</td>\n      <td>2023-12-24 10:28:07</td>\n      <td>2023-12-28 12:07:18</td>\n      <td>2023-12-01</td>\n      <td>2023-12-31</td>\n    </tr>\n    <tr>\n      <th>488829</th>\n      <td>10962</td>\n      <td>2024-01-28 01:01:05</td>\n      <td>204377</td>\n      <td>1.06</td>\n      <td>NEBILET 5MG TABLETS</td>\n      <td>1.0</td>\n      <td>1.14</td>\n      <td>1.14</td>\n      <td>0.00</td>\n      <td>1.14</td>\n      <td>...</td>\n      <td>NaN</td>\n      <td>4404989.0</td>\n      <td>1349595-2-4404989_LABCHRT1_2024-01-28_01-00-04...</td>\n      <td>FILE</td>\n      <td>N</td>\n      <td>IQ</td>\n      <td>2023-12-27 20:51:37</td>\n      <td>2023-12-31 17:16:53</td>\n      <td>2023-12-01</td>\n      <td>2023-12-31</td>\n    </tr>\n    <tr>\n      <th>488830</th>\n      <td>10962</td>\n      <td>2024-01-28 01:01:05</td>\n      <td>204377</td>\n      <td>1.14</td>\n      <td>Unlisted Procedure Code</td>\n      <td>5.0</td>\n      <td>1.77</td>\n      <td>1.77</td>\n      <td>0.00</td>\n      <td>1.77</td>\n      <td>...</td>\n      <td>NaN</td>\n      <td>4404989.0</td>\n      <td>1349595-2-4404989_LABCHRT1_2024-01-28_01-00-04...</td>\n      <td>FILE</td>\n      <td>N</td>\n      <td>IQ</td>\n      <td>2023-12-27 20:51:37</td>\n      <td>2023-12-31 17:16:53</td>\n      <td>2023-12-01</td>\n      <td>2023-12-31</td>\n    </tr>\n    <tr>\n      <th>488831</th>\n      <td>10962</td>\n      <td>2024-01-28 01:01:05</td>\n      <td>204377</td>\n      <td>1.79</td>\n      <td>SALURIN 20MG-2ML AMPOULES</td>\n      <td>1.0</td>\n      <td>1.93</td>\n      <td>1.93</td>\n      <td>0.00</td>\n      <td>1.93</td>\n      <td>...</td>\n      <td>NaN</td>\n      <td>4404989.0</td>\n      <td>1349595-2-4404989_LABCHRT1_2024-01-28_01-00-04...</td>\n      <td>FILE</td>\n      <td>N</td>\n      <td>IQ</td>\n      <td>2023-12-27 20:51:37</td>\n      <td>2023-12-31 17:16:53</td>\n      <td>2023-12-01</td>\n      <td>2023-12-31</td>\n    </tr>\n    <tr>\n      <th>488832</th>\n      <td>9593</td>\n      <td>2024-01-23 16:35:34</td>\n      <td>204093</td>\n      <td>144.56</td>\n      <td>Radiography of chest, 1 view</td>\n      <td>1.0</td>\n      <td>193.39</td>\n      <td>193.39</td>\n      <td>0.00</td>\n      <td>193.39</td>\n      <td>...</td>\n      <td>NaN</td>\n      <td>4405026.0</td>\n      <td>1348795-1-4405026_OPDUCAF_2024-01-23_16-35-06_...</td>\n      <td>FILE</td>\n      <td>N</td>\n      <td>IQ</td>\n      <td>2023-12-22 00:00:00</td>\n      <td>2024-01-05 00:00:00</td>\n      <td>2023-12-01</td>\n      <td>2023-12-31</td>\n    </tr>\n  </tbody>\n</table>\n<p>488833 rows × 93 columns</p>\n</div>"
     },
     "execution_count": 3,
     "metadata": {},
     "output_type": "execute_result"
    }
   ],
   "source": [
    "df"
   ],
   "metadata": {
    "collapsed": false,
    "ExecuteTime": {
     "end_time": "2024-06-02T11:44:14.758609900Z",
     "start_time": "2024-06-02T11:44:14.456893200Z"
    }
   }
  },
  {
   "cell_type": "code",
   "execution_count": 4,
   "outputs": [],
   "source": [
    "from src.data_local import MergedDataPreprocessing\n",
    "\n",
    "preprocessing = MergedDataPreprocessing(df)"
   ],
   "metadata": {
    "collapsed": false,
    "ExecuteTime": {
     "end_time": "2024-06-02T11:44:15.889891Z",
     "start_time": "2024-06-02T11:44:15.871939Z"
    }
   }
  },
  {
   "cell_type": "code",
   "execution_count": 5,
   "outputs": [
    {
     "name": "stderr",
     "output_type": "stream",
     "text": [
      "E:\\Projects\\Claims_Rejection\\src\\data_local.py:195: FutureWarning: Downcasting behavior in `replace` is deprecated and will be removed in a future version. To retain the old behavior, explicitly call `result.infer_objects(copy=False)`. To opt-in to the future behavior, set `pd.set_option('future.no_silent_downcasting', True)`\n",
      "  self.df[column] = self.df[column].replace(column_encoding)\n",
      "E:\\Projects\\Claims_Rejection\\src\\data_local.py:203: FutureWarning: Downcasting behavior in `replace` is deprecated and will be removed in a future version. To retain the old behavior, explicitly call `result.infer_objects(copy=False)`. To opt-in to the future behavior, set `pd.set_option('future.no_silent_downcasting', True)`\n",
      "  self.df['PatientAgeRange'] = self.df.PatientAgeRange.replace(age_encoding)\n"
     ]
    }
   ],
   "source": [
    "df_prep = preprocessing.columns_prep(service_encoding=False)"
   ],
   "metadata": {
    "collapsed": false,
    "ExecuteTime": {
     "end_time": "2024-06-02T11:44:19.067523Z",
     "start_time": "2024-06-02T11:44:16.726486500Z"
    }
   }
  },
  {
   "cell_type": "code",
   "execution_count": 6,
   "outputs": [],
   "source": [
    "from src.data_application import DataFrameProcessor\n",
    "\n",
    "handling = DataFrameProcessor(df_prep)"
   ],
   "metadata": {
    "collapsed": false,
    "ExecuteTime": {
     "end_time": "2024-06-02T11:44:21.239965100Z",
     "start_time": "2024-06-02T11:44:21.196990500Z"
    }
   }
  },
  {
   "cell_type": "code",
   "execution_count": 7,
   "outputs": [
    {
     "data": {
      "text/plain": "Index(['CREATED_BY_USER', 'CREATION_DATE', 'VISIT_ID', 'NET_WITH_VAT',\n       'SERVICE_DESCRIPTION', 'QTY', 'LINE_CLAIMED_AMOUNT',\n       'LINE_CLAIMED_AMOUNT_SAR', 'CO_PAY', 'CO_INSURANCE',\n       'LINE_ITEM_DISCOUNT', 'NET_AMOUNT', 'NET_VAT_AMOUNT',\n       'PATIENT_VAT_AMOUNT', 'VAT_PERCENTAGE', 'TREATMENT_TYPE_INDICATOR',\n       'SERVICE_TYPE', 'DURATION', 'QTY_STOCKED_UOM', 'UNIT_PRICE',\n       'OASIS_IOS_DESCRIPTION', 'SEQUENCE_NO', 'UNIT_PRICE_STOCKED_UOM',\n       'UNIT_PRICE_NET', 'DISCOUNT_PERCENTAGE', 'NOTES', 'OUTCOME',\n       'APPROVED_QUNATITY', 'REQUEST_DATE', 'VISIT_NO', 'VISIT_DATE',\n       'EMERGENCY_INDICATOR', 'PROVIDER_DEPARTMENT_CODE',\n       'PROVIDER_DEPARTMENT', 'DOCTOR_SPECIALTY_CODE', 'DOCTOR_CODE',\n       'PATIENT_NO', 'EPISODE_NO', 'PATIENT_ID', 'MEMBERSHIP_NO',\n       'PATIENT_ID_TYPE', 'PATIENT_NATIONAL_IQAMA_ID', 'PATIENT_DOB',\n       'PATIENT_AGE', 'UNIT_OF_AGE', 'PATIENT_NATIONALITY',\n       'PATIENT_MARITAL_STATUS', 'PATIENT_GENDER', 'PATIENT_MOBILE_NO',\n       'PATIENT_BADGE_NO', 'HIS_INSURANCE_CODE', 'POLICY_HOLDER_NO',\n       'CLAIM_TYPE', 'BATCH_NO', 'TOTAL_CLAIMED_AMOUNT',\n       'TOTAL_CLAIMED_AMOUNT_SAR', 'TOTAL_NET_AMOUNT', 'TOTAL_DISCOUNT',\n       'TOTAL_DEDUCTIBLE', 'TOTAL_PATIENT_VATAMOUNT', 'TOTAL_NET_VAT_AMOUNT',\n       'CLAIM_NO', 'STAT_END_DATE', 'AMEND_BY_USER', 'AMEND_LAST_DATE',\n       'PAYER_LICENSE', 'DOCTOR_LICENSE', 'DEPARTMENT_TYPE', 'TREATMENT_TYPE',\n       'CLAIM_INVOICE_NO', 'STAT_INVOICE_NO', 'PURCHASER_CODE', 'STATUS',\n       'API_TRANS_ID', 'SUBMIT_CLAIM_OUTCOME', 'SUBMIT_CLAIM_MESSAGE',\n       'RES_STATUS', 'RES_CLAIM_ID', 'CONSULTATION_INVOICE_NO',\n       'TREATMENT_SUB_TYPE', 'ELIGIBILITY_RESPONSE_ID',\n       'ELIGIBILITY_RESPONSE_SYSTEM', 'CONTRACT_NO',\n       'ELIGIBILITY_API_TRANS_ID', 'CLAIM_IDENTIFIER', 'ATTACHED_FILES',\n       'ATTACHMENT_TYPE', 'NEW_BORN', 'PATIENT_IDENTITY_TYPE',\n       'BILLABLE_PERIOD_START', 'BILLABLE_PERIOD_END', 'BATCH_PERIOD_START',\n       'BATCH_PERIOD_END', 'PatientAgeRange'],\n      dtype='object')"
     },
     "execution_count": 7,
     "metadata": {},
     "output_type": "execute_result"
    }
   ],
   "source": [
    "df_prep.columns"
   ],
   "metadata": {
    "collapsed": false,
    "ExecuteTime": {
     "end_time": "2024-06-02T11:44:22.530707800Z",
     "start_time": "2024-06-02T11:44:22.517189200Z"
    }
   }
  },
  {
   "cell_type": "code",
   "execution_count": 8,
   "outputs": [],
   "source": [
    "## list of columns not needed in the modeling.\n",
    "list_handler = ['PERIOD','DATE','_ID','_NO','_API','ATTACH','PATIENT_DOB','_USER','TREATMENT_SUB_TYPE','ELIGIBILITY_RESPONSE_SYSTEM', 'DOCTOR_LICENSE']\n",
    "\n",
    "df_prep = handling._drop_columns_with_substring(list_handler)"
   ],
   "metadata": {
    "collapsed": false,
    "ExecuteTime": {
     "end_time": "2024-06-02T11:44:25.909965100Z",
     "start_time": "2024-06-02T11:44:23.090907900Z"
    }
   }
  },
  {
   "cell_type": "code",
   "execution_count": 9,
   "outputs": [
    {
     "data": {
      "text/plain": "        NET_WITH_VAT                       SERVICE_DESCRIPTION  QTY  \\\n0              56.12                             Unlisted Code  1.0   \n1             202.40                                       TSH  1.0   \n2             408.08                       In vivo laboratory   1.0   \n3              24.27                       ELICA-M CREAM 30 GM  1.0   \n4              80.64            Peripheral intravenous cannula  1.0   \n...              ...                                       ...  ...   \n488828        242.48  Quantitative Troponin (Protein) Analysis  1.0   \n488829          1.06                       NEBILET 5MG TABLETS  1.0   \n488830          1.14                   Unlisted Procedure Code  5.0   \n488831          1.79                 SALURIN 20MG-2ML AMPOULES  1.0   \n488832        144.56              Radiography of chest, 1 view  1.0   \n\n        LINE_CLAIMED_AMOUNT  LINE_CLAIMED_AMOUNT_SAR  CO_PAY  CO_INSURANCE  \\\n0                     61.00                    61.00    0.00         61.00   \n1                    220.00                   220.00    0.00        220.00   \n2                    475.00                   475.00   10.75        464.25   \n3                     25.55                    25.55    4.85         20.70   \n4                     90.00                    90.00   14.40         75.60   \n...                     ...                      ...     ...           ...   \n488828               324.39                   324.39    0.00        324.39   \n488829                 1.14                     1.14    0.00          1.14   \n488830                 1.77                     1.77    0.00          1.77   \n488831                 1.93                     1.93    0.00          1.93   \n488832               193.39                   193.39    0.00        193.39   \n\n        LINE_ITEM_DISCOUNT  NET_AMOUNT  NET_VAT_AMOUNT  ...  PAYER_LICENSE  \\\n0                    12.20       48.80            7.32  ...     7001599658   \n1                    44.00      176.00           26.40  ...     7001599658   \n2                   118.75      345.50           51.83  ...     7001599658   \n3                     1.28       19.42            0.00  ...     7001599658   \n4                    18.00       57.60            8.64  ...     7001599658   \n...                    ...         ...             ...  ...            ...   \n488828              113.54      210.85           31.63  ...     7001571327   \n488829                0.08        1.06            0.00  ...     7001571327   \n488830                0.62        1.15            0.00  ...     7001571327   \n488831                0.14        1.79            0.00  ...     7001571327   \n488832               67.69      125.70           18.86  ...     7001571327   \n\n        DEPARTMENT_TYPE  TREATMENT_TYPE PURCHASER_CODE    STATUS  \\\n0                  18.0               1           2622   PARTIAL   \n1                   6.0               1           2622   PARTIAL   \n2                  11.0               1           2622   PARTIAL   \n3                  18.0               1           2622   PARTIAL   \n4                  39.0               0           2622   PARTIAL   \n...                 ...             ...            ...       ...   \n488828              NaN               0            183   PARTIAL   \n488829              NaN               0            183   PARTIAL   \n488830              NaN               0            183   PARTIAL   \n488831              NaN               0            183   PARTIAL   \n488832             39.0               0            183  REJECTED   \n\n        SUBMIT_CLAIM_OUTCOME  \\\n0                     PENDED   \n1                     PENDED   \n2                     PENDED   \n3                     PENDED   \n4                     PENDED   \n...                      ...   \n488828                PENDED   \n488829                PENDED   \n488830                PENDED   \n488831                PENDED   \n488832                PENDED   \n\n                                     SUBMIT_CLAIM_MESSAGE RES_STATUS  \\\n0       BE-1-1 Co-pay was not collected from memberBE-...    PARTIAL   \n1         BE-1-7 Incorrect billing regimePartial Approved    PARTIAL   \n2         BE-1-7 Incorrect billing regimePartial Approved    PARTIAL   \n3       MN-1-1 Service is not clinically justified bas...    PARTIAL   \n4       BE-1-7 Incorrect billing regimeBE-1-7 Incorrec...    PARTIAL   \n...                                                   ...        ...   \n488828  BE-1-4 Preauthorization is required and was no...    PARTIAL   \n488829  MN-1-1 Service is not clinically justified bas...    PARTIAL   \n488830  MN-1-1 Service is not clinically justified bas...    PARTIAL   \n488831  MN-1-1 Service is not clinically justified bas...    PARTIAL   \n488832  CV-1-1 Provider is out of beneficiary networkC...   REJECTED   \n\n        NEW_BORN  PatientAgeRange  \n0              0                6  \n1              0                5  \n2              0                6  \n3              0                6  \n4              0                8  \n...          ...              ...  \n488828         0                8  \n488829         0                7  \n488830         0                7  \n488831         0                7  \n488832         0                9  \n\n[488833 rows x 52 columns]",
      "text/html": "<div>\n<style scoped>\n    .dataframe tbody tr th:only-of-type {\n        vertical-align: middle;\n    }\n\n    .dataframe tbody tr th {\n        vertical-align: top;\n    }\n\n    .dataframe thead th {\n        text-align: right;\n    }\n</style>\n<table border=\"1\" class=\"dataframe\">\n  <thead>\n    <tr style=\"text-align: right;\">\n      <th></th>\n      <th>NET_WITH_VAT</th>\n      <th>SERVICE_DESCRIPTION</th>\n      <th>QTY</th>\n      <th>LINE_CLAIMED_AMOUNT</th>\n      <th>LINE_CLAIMED_AMOUNT_SAR</th>\n      <th>CO_PAY</th>\n      <th>CO_INSURANCE</th>\n      <th>LINE_ITEM_DISCOUNT</th>\n      <th>NET_AMOUNT</th>\n      <th>NET_VAT_AMOUNT</th>\n      <th>...</th>\n      <th>PAYER_LICENSE</th>\n      <th>DEPARTMENT_TYPE</th>\n      <th>TREATMENT_TYPE</th>\n      <th>PURCHASER_CODE</th>\n      <th>STATUS</th>\n      <th>SUBMIT_CLAIM_OUTCOME</th>\n      <th>SUBMIT_CLAIM_MESSAGE</th>\n      <th>RES_STATUS</th>\n      <th>NEW_BORN</th>\n      <th>PatientAgeRange</th>\n    </tr>\n  </thead>\n  <tbody>\n    <tr>\n      <th>0</th>\n      <td>56.12</td>\n      <td>Unlisted Code</td>\n      <td>1.0</td>\n      <td>61.00</td>\n      <td>61.00</td>\n      <td>0.00</td>\n      <td>61.00</td>\n      <td>12.20</td>\n      <td>48.80</td>\n      <td>7.32</td>\n      <td>...</td>\n      <td>7001599658</td>\n      <td>18.0</td>\n      <td>1</td>\n      <td>2622</td>\n      <td>PARTIAL</td>\n      <td>PENDED</td>\n      <td>BE-1-1 Co-pay was not collected from memberBE-...</td>\n      <td>PARTIAL</td>\n      <td>0</td>\n      <td>6</td>\n    </tr>\n    <tr>\n      <th>1</th>\n      <td>202.40</td>\n      <td>TSH</td>\n      <td>1.0</td>\n      <td>220.00</td>\n      <td>220.00</td>\n      <td>0.00</td>\n      <td>220.00</td>\n      <td>44.00</td>\n      <td>176.00</td>\n      <td>26.40</td>\n      <td>...</td>\n      <td>7001599658</td>\n      <td>6.0</td>\n      <td>1</td>\n      <td>2622</td>\n      <td>PARTIAL</td>\n      <td>PENDED</td>\n      <td>BE-1-7 Incorrect billing regimePartial Approved</td>\n      <td>PARTIAL</td>\n      <td>0</td>\n      <td>5</td>\n    </tr>\n    <tr>\n      <th>2</th>\n      <td>408.08</td>\n      <td>In vivo laboratory</td>\n      <td>1.0</td>\n      <td>475.00</td>\n      <td>475.00</td>\n      <td>10.75</td>\n      <td>464.25</td>\n      <td>118.75</td>\n      <td>345.50</td>\n      <td>51.83</td>\n      <td>...</td>\n      <td>7001599658</td>\n      <td>11.0</td>\n      <td>1</td>\n      <td>2622</td>\n      <td>PARTIAL</td>\n      <td>PENDED</td>\n      <td>BE-1-7 Incorrect billing regimePartial Approved</td>\n      <td>PARTIAL</td>\n      <td>0</td>\n      <td>6</td>\n    </tr>\n    <tr>\n      <th>3</th>\n      <td>24.27</td>\n      <td>ELICA-M CREAM 30 GM</td>\n      <td>1.0</td>\n      <td>25.55</td>\n      <td>25.55</td>\n      <td>4.85</td>\n      <td>20.70</td>\n      <td>1.28</td>\n      <td>19.42</td>\n      <td>0.00</td>\n      <td>...</td>\n      <td>7001599658</td>\n      <td>18.0</td>\n      <td>1</td>\n      <td>2622</td>\n      <td>PARTIAL</td>\n      <td>PENDED</td>\n      <td>MN-1-1 Service is not clinically justified bas...</td>\n      <td>PARTIAL</td>\n      <td>0</td>\n      <td>6</td>\n    </tr>\n    <tr>\n      <th>4</th>\n      <td>80.64</td>\n      <td>Peripheral intravenous cannula</td>\n      <td>1.0</td>\n      <td>90.00</td>\n      <td>90.00</td>\n      <td>14.40</td>\n      <td>75.60</td>\n      <td>18.00</td>\n      <td>57.60</td>\n      <td>8.64</td>\n      <td>...</td>\n      <td>7001599658</td>\n      <td>39.0</td>\n      <td>0</td>\n      <td>2622</td>\n      <td>PARTIAL</td>\n      <td>PENDED</td>\n      <td>BE-1-7 Incorrect billing regimeBE-1-7 Incorrec...</td>\n      <td>PARTIAL</td>\n      <td>0</td>\n      <td>8</td>\n    </tr>\n    <tr>\n      <th>...</th>\n      <td>...</td>\n      <td>...</td>\n      <td>...</td>\n      <td>...</td>\n      <td>...</td>\n      <td>...</td>\n      <td>...</td>\n      <td>...</td>\n      <td>...</td>\n      <td>...</td>\n      <td>...</td>\n      <td>...</td>\n      <td>...</td>\n      <td>...</td>\n      <td>...</td>\n      <td>...</td>\n      <td>...</td>\n      <td>...</td>\n      <td>...</td>\n      <td>...</td>\n      <td>...</td>\n    </tr>\n    <tr>\n      <th>488828</th>\n      <td>242.48</td>\n      <td>Quantitative Troponin (Protein) Analysis</td>\n      <td>1.0</td>\n      <td>324.39</td>\n      <td>324.39</td>\n      <td>0.00</td>\n      <td>324.39</td>\n      <td>113.54</td>\n      <td>210.85</td>\n      <td>31.63</td>\n      <td>...</td>\n      <td>7001571327</td>\n      <td>NaN</td>\n      <td>0</td>\n      <td>183</td>\n      <td>PARTIAL</td>\n      <td>PENDED</td>\n      <td>BE-1-4 Preauthorization is required and was no...</td>\n      <td>PARTIAL</td>\n      <td>0</td>\n      <td>8</td>\n    </tr>\n    <tr>\n      <th>488829</th>\n      <td>1.06</td>\n      <td>NEBILET 5MG TABLETS</td>\n      <td>1.0</td>\n      <td>1.14</td>\n      <td>1.14</td>\n      <td>0.00</td>\n      <td>1.14</td>\n      <td>0.08</td>\n      <td>1.06</td>\n      <td>0.00</td>\n      <td>...</td>\n      <td>7001571327</td>\n      <td>NaN</td>\n      <td>0</td>\n      <td>183</td>\n      <td>PARTIAL</td>\n      <td>PENDED</td>\n      <td>MN-1-1 Service is not clinically justified bas...</td>\n      <td>PARTIAL</td>\n      <td>0</td>\n      <td>7</td>\n    </tr>\n    <tr>\n      <th>488830</th>\n      <td>1.14</td>\n      <td>Unlisted Procedure Code</td>\n      <td>5.0</td>\n      <td>1.77</td>\n      <td>1.77</td>\n      <td>0.00</td>\n      <td>1.77</td>\n      <td>0.62</td>\n      <td>1.15</td>\n      <td>0.00</td>\n      <td>...</td>\n      <td>7001571327</td>\n      <td>NaN</td>\n      <td>0</td>\n      <td>183</td>\n      <td>PARTIAL</td>\n      <td>PENDED</td>\n      <td>MN-1-1 Service is not clinically justified bas...</td>\n      <td>PARTIAL</td>\n      <td>0</td>\n      <td>7</td>\n    </tr>\n    <tr>\n      <th>488831</th>\n      <td>1.79</td>\n      <td>SALURIN 20MG-2ML AMPOULES</td>\n      <td>1.0</td>\n      <td>1.93</td>\n      <td>1.93</td>\n      <td>0.00</td>\n      <td>1.93</td>\n      <td>0.14</td>\n      <td>1.79</td>\n      <td>0.00</td>\n      <td>...</td>\n      <td>7001571327</td>\n      <td>NaN</td>\n      <td>0</td>\n      <td>183</td>\n      <td>PARTIAL</td>\n      <td>PENDED</td>\n      <td>MN-1-1 Service is not clinically justified bas...</td>\n      <td>PARTIAL</td>\n      <td>0</td>\n      <td>7</td>\n    </tr>\n    <tr>\n      <th>488832</th>\n      <td>144.56</td>\n      <td>Radiography of chest, 1 view</td>\n      <td>1.0</td>\n      <td>193.39</td>\n      <td>193.39</td>\n      <td>0.00</td>\n      <td>193.39</td>\n      <td>67.69</td>\n      <td>125.70</td>\n      <td>18.86</td>\n      <td>...</td>\n      <td>7001571327</td>\n      <td>39.0</td>\n      <td>0</td>\n      <td>183</td>\n      <td>REJECTED</td>\n      <td>PENDED</td>\n      <td>CV-1-1 Provider is out of beneficiary networkC...</td>\n      <td>REJECTED</td>\n      <td>0</td>\n      <td>9</td>\n    </tr>\n  </tbody>\n</table>\n<p>488833 rows × 52 columns</p>\n</div>"
     },
     "execution_count": 9,
     "metadata": {},
     "output_type": "execute_result"
    }
   ],
   "source": [
    "df_prep"
   ],
   "metadata": {
    "collapsed": false,
    "ExecuteTime": {
     "end_time": "2024-06-02T11:44:26.144383Z",
     "start_time": "2024-06-02T11:44:25.911961300Z"
    }
   }
  },
  {
   "cell_type": "code",
   "execution_count": 16,
   "outputs": [
    {
     "data": {
      "text/plain": "TREATMENT_TYPE\ninstitutional    315935\nprofessional     158815\noral              14083\nName: count, dtype: int64"
     },
     "execution_count": 16,
     "metadata": {},
     "output_type": "execute_result"
    }
   ],
   "source": [
    "df_prep.TREATMENT_TYPE.value_counts()"
   ],
   "metadata": {
    "collapsed": false,
    "ExecuteTime": {
     "end_time": "2024-06-02T11:22:30.153860300Z",
     "start_time": "2024-06-02T11:22:30.121434Z"
    }
   }
  },
  {
   "cell_type": "code",
   "execution_count": null,
   "outputs": [],
   "source": [],
   "metadata": {
    "collapsed": false
   }
  }
 ],
 "metadata": {
  "kernelspec": {
   "display_name": "Python 3",
   "language": "python",
   "name": "python3"
  },
  "language_info": {
   "codemirror_mode": {
    "name": "ipython",
    "version": 2
   },
   "file_extension": ".py",
   "mimetype": "text/x-python",
   "name": "python",
   "nbconvert_exporter": "python",
   "pygments_lexer": "ipython2",
   "version": "2.7.6"
  }
 },
 "nbformat": 4,
 "nbformat_minor": 0
}
