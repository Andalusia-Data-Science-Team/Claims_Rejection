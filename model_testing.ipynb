{
 "cells": [
  {
   "cell_type": "code",
   "execution_count": 9,
   "outputs": [],
   "source": [
    "from cashe import get_train_test_split, get_testing_inputs, drop_nomodel_columns\n",
    "from src.data_local import MergedDataPreprocessing, read_last_date, append_last_line\n",
    "from src.utilities_rejection import DataFrameRejection\n",
    "from src.lstm_encoder import LSTMEmbedding\n",
    "from src.model_app import ModelApplicationDeployment"
   ],
   "metadata": {
    "collapsed": false,
    "ExecuteTime": {
     "end_time": "2024-07-22T17:51:20.265053900Z",
     "start_time": "2024-07-22T17:51:20.236829400Z"
    }
   }
  },
  {
   "cell_type": "code",
   "execution_count": 10,
   "outputs": [],
   "source": [
    "_, df_test = get_train_test_split()\n",
    "\n",
    "train_rej = DataFrameRejection(df_test)\n",
    "train_rej_attr = train_rej.map_rejection_label()\n",
    "df_test  = train_rej.get_label_rejection()\n",
    "\n",
    "LAST_DATE = read_last_date() ## we should take data released after that day to do the analysis, but we'll take the df_test now\n",
    "## read data for LAST_DATE\n",
    "## put it in df_test dataframe\n",
    "\n",
    "X_test, y_test = get_testing_inputs(df_test)\n",
    "X_test = drop_nomodel_columns(X_test)"
   ],
   "metadata": {
    "collapsed": false,
    "ExecuteTime": {
     "end_time": "2024-07-22T17:52:47.900259Z",
     "start_time": "2024-07-22T17:52:45.865664400Z"
    }
   }
  },
  {
   "cell_type": "code",
   "execution_count": 11,
   "outputs": [
    {
     "data": {
      "text/plain": "   OUTCOME                               SUBMIT_CLAIM_MESSAGE  NPHIES_LABEL\n6        1                                           Approved             0\n17       0  SUBMITTED AS RELATED TO Inapropriate approval ...             0\n18       0  SUBMITTED AS RELATED TO Inapropriate approval ...             1\n19       0  SUBMITTED AS RELATED TO Inapropriate approval ...             0",
      "text/html": "<div>\n<style scoped>\n    .dataframe tbody tr th:only-of-type {\n        vertical-align: middle;\n    }\n\n    .dataframe tbody tr th {\n        vertical-align: top;\n    }\n\n    .dataframe thead th {\n        text-align: right;\n    }\n</style>\n<table border=\"1\" class=\"dataframe\">\n  <thead>\n    <tr style=\"text-align: right;\">\n      <th></th>\n      <th>OUTCOME</th>\n      <th>SUBMIT_CLAIM_MESSAGE</th>\n      <th>NPHIES_LABEL</th>\n    </tr>\n  </thead>\n  <tbody>\n    <tr>\n      <th>6</th>\n      <td>1</td>\n      <td>Approved</td>\n      <td>0</td>\n    </tr>\n    <tr>\n      <th>17</th>\n      <td>0</td>\n      <td>SUBMITTED AS RELATED TO Inapropriate approval ...</td>\n      <td>0</td>\n    </tr>\n    <tr>\n      <th>18</th>\n      <td>0</td>\n      <td>SUBMITTED AS RELATED TO Inapropriate approval ...</td>\n      <td>1</td>\n    </tr>\n    <tr>\n      <th>19</th>\n      <td>0</td>\n      <td>SUBMITTED AS RELATED TO Inapropriate approval ...</td>\n      <td>0</td>\n    </tr>\n  </tbody>\n</table>\n</div>"
     },
     "execution_count": 11,
     "metadata": {},
     "output_type": "execute_result"
    }
   ],
   "source": [
    "y_test[:4]"
   ],
   "metadata": {
    "collapsed": false,
    "ExecuteTime": {
     "end_time": "2024-07-22T17:52:52.093581400Z",
     "start_time": "2024-07-22T17:52:52.064691500Z"
    }
   }
  },
  {
   "cell_type": "code",
   "execution_count": 12,
   "outputs": [
    {
     "name": "stderr",
     "output_type": "stream",
     "text": [
      "E:\\Projects\\Claims_Rejection\\src\\data_local.py:275: FutureWarning: Downcasting behavior in `replace` is deprecated and will be removed in a future version. To retain the old behavior, explicitly call `result.infer_objects(copy=False)`. To opt-in to the future behavior, set `pd.set_option('future.no_silent_downcasting', True)`\n",
      "  self.df[column] = self.df[column].replace(column_encoding)\n",
      "E:\\Projects\\Claims_Rejection\\src\\data_local.py:280: FutureWarning: Downcasting behavior in `replace` is deprecated and will be removed in a future version. To retain the old behavior, explicitly call `result.infer_objects(copy=False)`. To opt-in to the future behavior, set `pd.set_option('future.no_silent_downcasting', True)`\n",
      "  self.df['PatientAgeRange'] = self.df.PatientAgeRange.replace(age_encoding)\n"
     ]
    }
   ],
   "source": [
    "preprocessing_test = MergedDataPreprocessing(X_test)\n",
    "X_test_prep = preprocessing_test.columns_prep(service_encoding=False)\n",
    "lstm_embedding = LSTMEmbedding()\n",
    "\n",
    "X_test_encoded = preprocessing_test.column_embedding(X_test_prep)"
   ],
   "metadata": {
    "collapsed": false,
    "ExecuteTime": {
     "end_time": "2024-07-22T17:53:18.716214300Z",
     "start_time": "2024-07-22T17:53:17.205456600Z"
    }
   }
  },
  {
   "cell_type": "code",
   "execution_count": 13,
   "outputs": [
    {
     "name": "stdout",
     "output_type": "stream",
     "text": [
      "XGBoost Model is loading from disk..\n"
     ]
    }
   ],
   "source": [
    "model = ModelApplicationDeployment(X_test)"
   ],
   "metadata": {
    "collapsed": false,
    "ExecuteTime": {
     "end_time": "2024-07-22T17:53:20.200285300Z",
     "start_time": "2024-07-22T17:53:20.101451900Z"
    }
   }
  },
  {
   "cell_type": "code",
   "execution_count": 14,
   "outputs": [
    {
     "data": {
      "text/plain": "0.7650342285413375"
     },
     "execution_count": 14,
     "metadata": {},
     "output_type": "execute_result"
    }
   ],
   "source": [
    "from sklearn.metrics import accuracy_score\n",
    "\n",
    "pred_claims, pred_rejection = model.predict()\n",
    "\n",
    "acc1 = accuracy_score(pred_claims.tolist(), y_test['OUTCOME'].tolist())\n",
    "acc1"
   ],
   "metadata": {
    "collapsed": false,
    "ExecuteTime": {
     "end_time": "2024-07-22T17:53:23.888586400Z",
     "start_time": "2024-07-22T17:53:23.754735100Z"
    }
   }
  },
  {
   "cell_type": "code",
   "execution_count": 16,
   "outputs": [
    {
     "data": {
      "text/plain": "0.8818062137967351"
     },
     "execution_count": 16,
     "metadata": {},
     "output_type": "execute_result"
    }
   ],
   "source": [
    "### 1 : medically rejected\n",
    "acc2 = accuracy_score(pred_rejection.tolist(), y_test['NPHIES_LABEL'].tolist())\n",
    "acc2"
   ],
   "metadata": {
    "collapsed": false,
    "ExecuteTime": {
     "end_time": "2024-07-22T17:53:38.301933700Z",
     "start_time": "2024-07-22T17:53:38.262303800Z"
    }
   }
  },
  {
   "cell_type": "markdown",
   "source": [
    "## New pipeline"
   ],
   "metadata": {
    "collapsed": false
   }
  },
  {
   "cell_type": "code",
   "execution_count": 1,
   "outputs": [],
   "source": [
    "from cashe import get_train_test_split,get_training_inputs, drop_nomodel_columns, get_cashed_input\n",
    "from src.data_local import MergedDataPreprocessing,read_last_date, append_last_line\n",
    "from src.lstm_encoder import LSTMEmbedding\n",
    "from src.model_app import ModelApplication"
   ],
   "metadata": {
    "collapsed": false,
    "ExecuteTime": {
     "end_time": "2024-07-07T12:02:57.728089500Z",
     "start_time": "2024-07-07T12:02:52.017402700Z"
    }
   }
  },
  {
   "cell_type": "code",
   "execution_count": 2,
   "outputs": [],
   "source": [
    "df_train, df_test = get_train_test_split()"
   ],
   "metadata": {
    "collapsed": false,
    "ExecuteTime": {
     "end_time": "2024-07-07T12:02:58.406099700Z",
     "start_time": "2024-07-07T12:02:57.735043900Z"
    }
   }
  },
  {
   "cell_type": "code",
   "execution_count": 3,
   "outputs": [
    {
     "data": {
      "text/plain": "index\n0        2024-04-04 22:57:57\n1        2024-04-04 23:02:21\n2        2024-04-04 23:08:38\n3        2024-04-04 22:26:08\n4        2024-04-04 22:34:22\n                 ...        \n488828   2024-01-23 17:20:54\n488829   2024-01-28 01:01:05\n488830   2024-01-28 01:01:05\n488831   2024-01-28 01:01:05\n488832   2024-01-23 16:35:34\nName: CREATION_DATE, Length: 155399, dtype: datetime64[ns]"
     },
     "execution_count": 3,
     "metadata": {},
     "output_type": "execute_result"
    }
   ],
   "source": [
    "df_train['CREATION_DATE']"
   ],
   "metadata": {
    "collapsed": false,
    "ExecuteTime": {
     "end_time": "2024-07-07T12:02:58.421652200Z",
     "start_time": "2024-07-07T12:02:58.408093400Z"
    }
   }
  },
  {
   "cell_type": "code",
   "execution_count": 4,
   "outputs": [
    {
     "data": {
      "text/plain": "'2024-04-30'"
     },
     "execution_count": 4,
     "metadata": {},
     "output_type": "execute_result"
    }
   ],
   "source": [
    "append_last_line('2024-04-30')\n",
    "read_last_date()"
   ],
   "metadata": {
    "collapsed": false,
    "ExecuteTime": {
     "end_time": "2024-07-07T12:02:58.474778200Z",
     "start_time": "2024-07-07T12:02:58.424646Z"
    }
   }
  },
  {
   "cell_type": "code",
   "execution_count": 5,
   "outputs": [],
   "source": [
    "X_train, y_train, X_test, y_test = get_training_inputs(df_train,df_test)"
   ],
   "metadata": {
    "collapsed": false,
    "ExecuteTime": {
     "end_time": "2024-07-07T12:02:58.639364300Z",
     "start_time": "2024-07-07T12:02:58.439690700Z"
    }
   }
  },
  {
   "cell_type": "code",
   "execution_count": 6,
   "outputs": [
    {
     "data": {
      "text/plain": "        NET_WITH_VAT                       SERVICE_DESCRIPTION  QTY  \\\nindex                                                                 \n0              56.12                             Unlisted Code  1.0   \n1             202.40                                       TSH  1.0   \n2             408.08                       In vivo laboratory   1.0   \n3              24.27                       ELICA-M CREAM 30 GM  1.0   \n4              80.64            Peripheral intravenous cannula  1.0   \n...              ...                                       ...  ...   \n488828        242.48  Quantitative Troponin (Protein) Analysis  1.0   \n488829          1.06                       NEBILET 5MG TABLETS  1.0   \n488830          1.14                   Unlisted Procedure Code  5.0   \n488831          1.79                 SALURIN 20MG-2ML AMPOULES  1.0   \n488832        144.56              Radiography of chest, 1 view  1.0   \n\n        LINE_CLAIMED_AMOUNT  LINE_CLAIMED_AMOUNT_SAR  CO_PAY  CO_INSURANCE  \\\nindex                                                                        \n0                     61.00                    61.00    0.00         61.00   \n1                    220.00                   220.00    0.00        220.00   \n2                    475.00                   475.00   10.75        464.25   \n3                     25.55                    25.55    4.85         20.70   \n4                     90.00                    90.00   14.40         75.60   \n...                     ...                      ...     ...           ...   \n488828               324.39                   324.39    0.00        324.39   \n488829                 1.14                     1.14    0.00          1.14   \n488830                 1.77                     1.77    0.00          1.77   \n488831                 1.93                     1.93    0.00          1.93   \n488832               193.39                   193.39    0.00        193.39   \n\n        LINE_ITEM_DISCOUNT  NET_AMOUNT  NET_VAT_AMOUNT  ...  TOTAL_DISCOUNT  \\\nindex                                                   ...                   \n0                    12.20       48.80            7.32  ...          219.46   \n1                    44.00      176.00           26.40  ...          320.25   \n2                   118.75      345.50           51.83  ...          390.00   \n3                     1.28       19.42            0.00  ...           95.07   \n4                    18.00       57.60            8.64  ...          291.19   \n...                    ...         ...             ...  ...             ...   \n488828              113.54      210.85           31.63  ...         5229.23   \n488829                0.08        1.06            0.00  ...        13042.16   \n488830                0.62        1.15            0.00  ...        13042.16   \n488831                0.14        1.79            0.00  ...        13042.16   \n488832               67.69      125.70           18.86  ...          952.92   \n\n        TOTAL_DEDUCTIBLE  TOTAL_PATIENT_VATAMOUNT TOTAL_NET_VAT_AMOUNT  \\\nindex                                                                    \n0                 139.88                      0.0               128.79   \n1                 100.00                      0.0               154.46   \n2                 100.00                      0.0               180.77   \n3                  90.24                      0.0                48.30   \n4                 103.74                      0.0               412.62   \n...                  ...                      ...                  ...   \n488828              0.00                      0.0              5231.53   \n488829              0.00                      0.0              4608.10   \n488830              0.00                      0.0              4608.10   \n488831              0.00                      0.0              4608.10   \n488832              0.00                      0.0               276.55   \n\n        DEPARTMENT_TYPE  TREATMENT_TYPE  PURCHASER_CODE NEW_BORN  ICD10  \\\nindex                                                                     \n0                  18.0               1            2622        0    Z36   \n1                   6.0               1            2622        0  R22.1   \n2                  11.0               1            2622        0    R53   \n3                  18.0               1            2622        0    R10   \n4                  39.0               0            2622        0  R00.1   \n...                 ...             ...             ...      ...    ...   \n488828              NaN               0             183        0  I24.9   \n488829              NaN               0             183        0  R07.4   \n488830              NaN               0             183        0  R07.4   \n488831              NaN               0             183        0  R07.4   \n488832             39.0               0             183        0  I46.0   \n\n        PatientAgeRange  \nindex                    \n0                     6  \n1                     5  \n2                     6  \n3                     6  \n4                     8  \n...                 ...  \n488828                8  \n488829                7  \n488830                7  \n488831                7  \n488832                9  \n\n[155399 rows x 46 columns]",
      "text/html": "<div>\n<style scoped>\n    .dataframe tbody tr th:only-of-type {\n        vertical-align: middle;\n    }\n\n    .dataframe tbody tr th {\n        vertical-align: top;\n    }\n\n    .dataframe thead th {\n        text-align: right;\n    }\n</style>\n<table border=\"1\" class=\"dataframe\">\n  <thead>\n    <tr style=\"text-align: right;\">\n      <th></th>\n      <th>NET_WITH_VAT</th>\n      <th>SERVICE_DESCRIPTION</th>\n      <th>QTY</th>\n      <th>LINE_CLAIMED_AMOUNT</th>\n      <th>LINE_CLAIMED_AMOUNT_SAR</th>\n      <th>CO_PAY</th>\n      <th>CO_INSURANCE</th>\n      <th>LINE_ITEM_DISCOUNT</th>\n      <th>NET_AMOUNT</th>\n      <th>NET_VAT_AMOUNT</th>\n      <th>...</th>\n      <th>TOTAL_DISCOUNT</th>\n      <th>TOTAL_DEDUCTIBLE</th>\n      <th>TOTAL_PATIENT_VATAMOUNT</th>\n      <th>TOTAL_NET_VAT_AMOUNT</th>\n      <th>DEPARTMENT_TYPE</th>\n      <th>TREATMENT_TYPE</th>\n      <th>PURCHASER_CODE</th>\n      <th>NEW_BORN</th>\n      <th>ICD10</th>\n      <th>PatientAgeRange</th>\n    </tr>\n    <tr>\n      <th>index</th>\n      <th></th>\n      <th></th>\n      <th></th>\n      <th></th>\n      <th></th>\n      <th></th>\n      <th></th>\n      <th></th>\n      <th></th>\n      <th></th>\n      <th></th>\n      <th></th>\n      <th></th>\n      <th></th>\n      <th></th>\n      <th></th>\n      <th></th>\n      <th></th>\n      <th></th>\n      <th></th>\n      <th></th>\n    </tr>\n  </thead>\n  <tbody>\n    <tr>\n      <th>0</th>\n      <td>56.12</td>\n      <td>Unlisted Code</td>\n      <td>1.0</td>\n      <td>61.00</td>\n      <td>61.00</td>\n      <td>0.00</td>\n      <td>61.00</td>\n      <td>12.20</td>\n      <td>48.80</td>\n      <td>7.32</td>\n      <td>...</td>\n      <td>219.46</td>\n      <td>139.88</td>\n      <td>0.0</td>\n      <td>128.79</td>\n      <td>18.0</td>\n      <td>1</td>\n      <td>2622</td>\n      <td>0</td>\n      <td>Z36</td>\n      <td>6</td>\n    </tr>\n    <tr>\n      <th>1</th>\n      <td>202.40</td>\n      <td>TSH</td>\n      <td>1.0</td>\n      <td>220.00</td>\n      <td>220.00</td>\n      <td>0.00</td>\n      <td>220.00</td>\n      <td>44.00</td>\n      <td>176.00</td>\n      <td>26.40</td>\n      <td>...</td>\n      <td>320.25</td>\n      <td>100.00</td>\n      <td>0.0</td>\n      <td>154.46</td>\n      <td>6.0</td>\n      <td>1</td>\n      <td>2622</td>\n      <td>0</td>\n      <td>R22.1</td>\n      <td>5</td>\n    </tr>\n    <tr>\n      <th>2</th>\n      <td>408.08</td>\n      <td>In vivo laboratory</td>\n      <td>1.0</td>\n      <td>475.00</td>\n      <td>475.00</td>\n      <td>10.75</td>\n      <td>464.25</td>\n      <td>118.75</td>\n      <td>345.50</td>\n      <td>51.83</td>\n      <td>...</td>\n      <td>390.00</td>\n      <td>100.00</td>\n      <td>0.0</td>\n      <td>180.77</td>\n      <td>11.0</td>\n      <td>1</td>\n      <td>2622</td>\n      <td>0</td>\n      <td>R53</td>\n      <td>6</td>\n    </tr>\n    <tr>\n      <th>3</th>\n      <td>24.27</td>\n      <td>ELICA-M CREAM 30 GM</td>\n      <td>1.0</td>\n      <td>25.55</td>\n      <td>25.55</td>\n      <td>4.85</td>\n      <td>20.70</td>\n      <td>1.28</td>\n      <td>19.42</td>\n      <td>0.00</td>\n      <td>...</td>\n      <td>95.07</td>\n      <td>90.24</td>\n      <td>0.0</td>\n      <td>48.30</td>\n      <td>18.0</td>\n      <td>1</td>\n      <td>2622</td>\n      <td>0</td>\n      <td>R10</td>\n      <td>6</td>\n    </tr>\n    <tr>\n      <th>4</th>\n      <td>80.64</td>\n      <td>Peripheral intravenous cannula</td>\n      <td>1.0</td>\n      <td>90.00</td>\n      <td>90.00</td>\n      <td>14.40</td>\n      <td>75.60</td>\n      <td>18.00</td>\n      <td>57.60</td>\n      <td>8.64</td>\n      <td>...</td>\n      <td>291.19</td>\n      <td>103.74</td>\n      <td>0.0</td>\n      <td>412.62</td>\n      <td>39.0</td>\n      <td>0</td>\n      <td>2622</td>\n      <td>0</td>\n      <td>R00.1</td>\n      <td>8</td>\n    </tr>\n    <tr>\n      <th>...</th>\n      <td>...</td>\n      <td>...</td>\n      <td>...</td>\n      <td>...</td>\n      <td>...</td>\n      <td>...</td>\n      <td>...</td>\n      <td>...</td>\n      <td>...</td>\n      <td>...</td>\n      <td>...</td>\n      <td>...</td>\n      <td>...</td>\n      <td>...</td>\n      <td>...</td>\n      <td>...</td>\n      <td>...</td>\n      <td>...</td>\n      <td>...</td>\n      <td>...</td>\n      <td>...</td>\n    </tr>\n    <tr>\n      <th>488828</th>\n      <td>242.48</td>\n      <td>Quantitative Troponin (Protein) Analysis</td>\n      <td>1.0</td>\n      <td>324.39</td>\n      <td>324.39</td>\n      <td>0.00</td>\n      <td>324.39</td>\n      <td>113.54</td>\n      <td>210.85</td>\n      <td>31.63</td>\n      <td>...</td>\n      <td>5229.23</td>\n      <td>0.00</td>\n      <td>0.0</td>\n      <td>5231.53</td>\n      <td>NaN</td>\n      <td>0</td>\n      <td>183</td>\n      <td>0</td>\n      <td>I24.9</td>\n      <td>8</td>\n    </tr>\n    <tr>\n      <th>488829</th>\n      <td>1.06</td>\n      <td>NEBILET 5MG TABLETS</td>\n      <td>1.0</td>\n      <td>1.14</td>\n      <td>1.14</td>\n      <td>0.00</td>\n      <td>1.14</td>\n      <td>0.08</td>\n      <td>1.06</td>\n      <td>0.00</td>\n      <td>...</td>\n      <td>13042.16</td>\n      <td>0.00</td>\n      <td>0.0</td>\n      <td>4608.10</td>\n      <td>NaN</td>\n      <td>0</td>\n      <td>183</td>\n      <td>0</td>\n      <td>R07.4</td>\n      <td>7</td>\n    </tr>\n    <tr>\n      <th>488830</th>\n      <td>1.14</td>\n      <td>Unlisted Procedure Code</td>\n      <td>5.0</td>\n      <td>1.77</td>\n      <td>1.77</td>\n      <td>0.00</td>\n      <td>1.77</td>\n      <td>0.62</td>\n      <td>1.15</td>\n      <td>0.00</td>\n      <td>...</td>\n      <td>13042.16</td>\n      <td>0.00</td>\n      <td>0.0</td>\n      <td>4608.10</td>\n      <td>NaN</td>\n      <td>0</td>\n      <td>183</td>\n      <td>0</td>\n      <td>R07.4</td>\n      <td>7</td>\n    </tr>\n    <tr>\n      <th>488831</th>\n      <td>1.79</td>\n      <td>SALURIN 20MG-2ML AMPOULES</td>\n      <td>1.0</td>\n      <td>1.93</td>\n      <td>1.93</td>\n      <td>0.00</td>\n      <td>1.93</td>\n      <td>0.14</td>\n      <td>1.79</td>\n      <td>0.00</td>\n      <td>...</td>\n      <td>13042.16</td>\n      <td>0.00</td>\n      <td>0.0</td>\n      <td>4608.10</td>\n      <td>NaN</td>\n      <td>0</td>\n      <td>183</td>\n      <td>0</td>\n      <td>R07.4</td>\n      <td>7</td>\n    </tr>\n    <tr>\n      <th>488832</th>\n      <td>144.56</td>\n      <td>Radiography of chest, 1 view</td>\n      <td>1.0</td>\n      <td>193.39</td>\n      <td>193.39</td>\n      <td>0.00</td>\n      <td>193.39</td>\n      <td>67.69</td>\n      <td>125.70</td>\n      <td>18.86</td>\n      <td>...</td>\n      <td>952.92</td>\n      <td>0.00</td>\n      <td>0.0</td>\n      <td>276.55</td>\n      <td>39.0</td>\n      <td>0</td>\n      <td>183</td>\n      <td>0</td>\n      <td>I46.0</td>\n      <td>9</td>\n    </tr>\n  </tbody>\n</table>\n<p>155399 rows × 46 columns</p>\n</div>"
     },
     "execution_count": 6,
     "metadata": {},
     "output_type": "execute_result"
    }
   ],
   "source": [
    "X_train = drop_nomodel_columns(X_train)\n",
    "X_test = drop_nomodel_columns(X_test)\n",
    "X_train"
   ],
   "metadata": {
    "collapsed": false,
    "ExecuteTime": {
     "end_time": "2024-07-07T12:03:01.074702500Z",
     "start_time": "2024-07-07T12:02:58.642584500Z"
    }
   }
  },
  {
   "cell_type": "code",
   "execution_count": 7,
   "outputs": [
    {
     "name": "stderr",
     "output_type": "stream",
     "text": [
      "C:\\AI_Projects\\Claims_Rejection_2024\\Claims_Rejection\\src\\data_local.py:280: FutureWarning: Downcasting behavior in `replace` is deprecated and will be removed in a future version. To retain the old behavior, explicitly call `result.infer_objects(copy=False)`. To opt-in to the future behavior, set `pd.set_option('future.no_silent_downcasting', True)`\n",
      "  self.df['PatientAgeRange'] = self.df.PatientAgeRange.replace(age_encoding)\n"
     ]
    }
   ],
   "source": [
    "preprocessing_train = MergedDataPreprocessing(X_train)\n",
    "X_train_prep = preprocessing_train.columns_prep(service_encoding=False)\n",
    "\n",
    "preprocessing_test = MergedDataPreprocessing(X_test)\n",
    "X_test_prep = preprocessing_test.columns_prep(service_encoding=False)"
   ],
   "metadata": {
    "collapsed": false,
    "ExecuteTime": {
     "end_time": "2024-07-07T12:03:02.040943300Z",
     "start_time": "2024-07-07T12:03:01.077692400Z"
    }
   }
  },
  {
   "cell_type": "code",
   "execution_count": 8,
   "outputs": [
    {
     "data": {
      "text/plain": "        NET_WITH_VAT                       SERVICE_DESCRIPTION  QTY  \\\nindex                                                                 \n0              56.12                             Unlisted Code  1.0   \n1             202.40                                       TSH  1.0   \n2             408.08                       In vivo laboratory   1.0   \n3              24.27                       ELICA-M CREAM 30 GM  1.0   \n4              80.64            Peripheral intravenous cannula  1.0   \n...              ...                                       ...  ...   \n488828        242.48  Quantitative Troponin (Protein) Analysis  1.0   \n488829          1.06                       NEBILET 5MG TABLETS  1.0   \n488830          1.14                   Unlisted Procedure Code  5.0   \n488831          1.79                 SALURIN 20MG-2ML AMPOULES  1.0   \n488832        144.56              Radiography of chest, 1 view  1.0   \n\n        LINE_CLAIMED_AMOUNT  LINE_CLAIMED_AMOUNT_SAR  CO_PAY  CO_INSURANCE  \\\nindex                                                                        \n0                     61.00                    61.00    0.00         61.00   \n1                    220.00                   220.00    0.00        220.00   \n2                    475.00                   475.00   10.75        464.25   \n3                     25.55                    25.55    4.85         20.70   \n4                     90.00                    90.00   14.40         75.60   \n...                     ...                      ...     ...           ...   \n488828               324.39                   324.39    0.00        324.39   \n488829                 1.14                     1.14    0.00          1.14   \n488830                 1.77                     1.77    0.00          1.77   \n488831                 1.93                     1.93    0.00          1.93   \n488832               193.39                   193.39    0.00        193.39   \n\n        LINE_ITEM_DISCOUNT  NET_AMOUNT  NET_VAT_AMOUNT  ...  TOTAL_DISCOUNT  \\\nindex                                                   ...                   \n0                    12.20       48.80            7.32  ...          219.46   \n1                    44.00      176.00           26.40  ...          320.25   \n2                   118.75      345.50           51.83  ...          390.00   \n3                     1.28       19.42            0.00  ...           95.07   \n4                    18.00       57.60            8.64  ...          291.19   \n...                    ...         ...             ...  ...             ...   \n488828              113.54      210.85           31.63  ...         5229.23   \n488829                0.08        1.06            0.00  ...        13042.16   \n488830                0.62        1.15            0.00  ...        13042.16   \n488831                0.14        1.79            0.00  ...        13042.16   \n488832               67.69      125.70           18.86  ...          952.92   \n\n        TOTAL_DEDUCTIBLE  TOTAL_PATIENT_VATAMOUNT TOTAL_NET_VAT_AMOUNT  \\\nindex                                                                    \n0                 139.88                      0.0               128.79   \n1                 100.00                      0.0               154.46   \n2                 100.00                      0.0               180.77   \n3                  90.24                      0.0                48.30   \n4                 103.74                      0.0               412.62   \n...                  ...                      ...                  ...   \n488828              0.00                      0.0              5231.53   \n488829              0.00                      0.0              4608.10   \n488830              0.00                      0.0              4608.10   \n488831              0.00                      0.0              4608.10   \n488832              0.00                      0.0               276.55   \n\n        DEPARTMENT_TYPE  TREATMENT_TYPE  PURCHASER_CODE NEW_BORN  ICD10  \\\nindex                                                                     \n0                  18.0               1            2622        0     22   \n1                   6.0               1            2622        0     19   \n2                  11.0               1            2622        0     19   \n3                  18.0               1            2622        0     19   \n4                  39.0               0            2622        0     19   \n...                 ...             ...             ...      ...    ...   \n488828              NaN               0             183        0     10   \n488829              NaN               0             183        0     19   \n488830              NaN               0             183        0     19   \n488831              NaN               0             183        0     19   \n488832             39.0               0             183        0     10   \n\n        PatientAgeRange  \nindex                    \n0                     6  \n1                     5  \n2                     6  \n3                     6  \n4                     8  \n...                 ...  \n488828                8  \n488829                7  \n488830                7  \n488831                7  \n488832                9  \n\n[155399 rows x 46 columns]",
      "text/html": "<div>\n<style scoped>\n    .dataframe tbody tr th:only-of-type {\n        vertical-align: middle;\n    }\n\n    .dataframe tbody tr th {\n        vertical-align: top;\n    }\n\n    .dataframe thead th {\n        text-align: right;\n    }\n</style>\n<table border=\"1\" class=\"dataframe\">\n  <thead>\n    <tr style=\"text-align: right;\">\n      <th></th>\n      <th>NET_WITH_VAT</th>\n      <th>SERVICE_DESCRIPTION</th>\n      <th>QTY</th>\n      <th>LINE_CLAIMED_AMOUNT</th>\n      <th>LINE_CLAIMED_AMOUNT_SAR</th>\n      <th>CO_PAY</th>\n      <th>CO_INSURANCE</th>\n      <th>LINE_ITEM_DISCOUNT</th>\n      <th>NET_AMOUNT</th>\n      <th>NET_VAT_AMOUNT</th>\n      <th>...</th>\n      <th>TOTAL_DISCOUNT</th>\n      <th>TOTAL_DEDUCTIBLE</th>\n      <th>TOTAL_PATIENT_VATAMOUNT</th>\n      <th>TOTAL_NET_VAT_AMOUNT</th>\n      <th>DEPARTMENT_TYPE</th>\n      <th>TREATMENT_TYPE</th>\n      <th>PURCHASER_CODE</th>\n      <th>NEW_BORN</th>\n      <th>ICD10</th>\n      <th>PatientAgeRange</th>\n    </tr>\n    <tr>\n      <th>index</th>\n      <th></th>\n      <th></th>\n      <th></th>\n      <th></th>\n      <th></th>\n      <th></th>\n      <th></th>\n      <th></th>\n      <th></th>\n      <th></th>\n      <th></th>\n      <th></th>\n      <th></th>\n      <th></th>\n      <th></th>\n      <th></th>\n      <th></th>\n      <th></th>\n      <th></th>\n      <th></th>\n      <th></th>\n    </tr>\n  </thead>\n  <tbody>\n    <tr>\n      <th>0</th>\n      <td>56.12</td>\n      <td>Unlisted Code</td>\n      <td>1.0</td>\n      <td>61.00</td>\n      <td>61.00</td>\n      <td>0.00</td>\n      <td>61.00</td>\n      <td>12.20</td>\n      <td>48.80</td>\n      <td>7.32</td>\n      <td>...</td>\n      <td>219.46</td>\n      <td>139.88</td>\n      <td>0.0</td>\n      <td>128.79</td>\n      <td>18.0</td>\n      <td>1</td>\n      <td>2622</td>\n      <td>0</td>\n      <td>22</td>\n      <td>6</td>\n    </tr>\n    <tr>\n      <th>1</th>\n      <td>202.40</td>\n      <td>TSH</td>\n      <td>1.0</td>\n      <td>220.00</td>\n      <td>220.00</td>\n      <td>0.00</td>\n      <td>220.00</td>\n      <td>44.00</td>\n      <td>176.00</td>\n      <td>26.40</td>\n      <td>...</td>\n      <td>320.25</td>\n      <td>100.00</td>\n      <td>0.0</td>\n      <td>154.46</td>\n      <td>6.0</td>\n      <td>1</td>\n      <td>2622</td>\n      <td>0</td>\n      <td>19</td>\n      <td>5</td>\n    </tr>\n    <tr>\n      <th>2</th>\n      <td>408.08</td>\n      <td>In vivo laboratory</td>\n      <td>1.0</td>\n      <td>475.00</td>\n      <td>475.00</td>\n      <td>10.75</td>\n      <td>464.25</td>\n      <td>118.75</td>\n      <td>345.50</td>\n      <td>51.83</td>\n      <td>...</td>\n      <td>390.00</td>\n      <td>100.00</td>\n      <td>0.0</td>\n      <td>180.77</td>\n      <td>11.0</td>\n      <td>1</td>\n      <td>2622</td>\n      <td>0</td>\n      <td>19</td>\n      <td>6</td>\n    </tr>\n    <tr>\n      <th>3</th>\n      <td>24.27</td>\n      <td>ELICA-M CREAM 30 GM</td>\n      <td>1.0</td>\n      <td>25.55</td>\n      <td>25.55</td>\n      <td>4.85</td>\n      <td>20.70</td>\n      <td>1.28</td>\n      <td>19.42</td>\n      <td>0.00</td>\n      <td>...</td>\n      <td>95.07</td>\n      <td>90.24</td>\n      <td>0.0</td>\n      <td>48.30</td>\n      <td>18.0</td>\n      <td>1</td>\n      <td>2622</td>\n      <td>0</td>\n      <td>19</td>\n      <td>6</td>\n    </tr>\n    <tr>\n      <th>4</th>\n      <td>80.64</td>\n      <td>Peripheral intravenous cannula</td>\n      <td>1.0</td>\n      <td>90.00</td>\n      <td>90.00</td>\n      <td>14.40</td>\n      <td>75.60</td>\n      <td>18.00</td>\n      <td>57.60</td>\n      <td>8.64</td>\n      <td>...</td>\n      <td>291.19</td>\n      <td>103.74</td>\n      <td>0.0</td>\n      <td>412.62</td>\n      <td>39.0</td>\n      <td>0</td>\n      <td>2622</td>\n      <td>0</td>\n      <td>19</td>\n      <td>8</td>\n    </tr>\n    <tr>\n      <th>...</th>\n      <td>...</td>\n      <td>...</td>\n      <td>...</td>\n      <td>...</td>\n      <td>...</td>\n      <td>...</td>\n      <td>...</td>\n      <td>...</td>\n      <td>...</td>\n      <td>...</td>\n      <td>...</td>\n      <td>...</td>\n      <td>...</td>\n      <td>...</td>\n      <td>...</td>\n      <td>...</td>\n      <td>...</td>\n      <td>...</td>\n      <td>...</td>\n      <td>...</td>\n      <td>...</td>\n    </tr>\n    <tr>\n      <th>488828</th>\n      <td>242.48</td>\n      <td>Quantitative Troponin (Protein) Analysis</td>\n      <td>1.0</td>\n      <td>324.39</td>\n      <td>324.39</td>\n      <td>0.00</td>\n      <td>324.39</td>\n      <td>113.54</td>\n      <td>210.85</td>\n      <td>31.63</td>\n      <td>...</td>\n      <td>5229.23</td>\n      <td>0.00</td>\n      <td>0.0</td>\n      <td>5231.53</td>\n      <td>NaN</td>\n      <td>0</td>\n      <td>183</td>\n      <td>0</td>\n      <td>10</td>\n      <td>8</td>\n    </tr>\n    <tr>\n      <th>488829</th>\n      <td>1.06</td>\n      <td>NEBILET 5MG TABLETS</td>\n      <td>1.0</td>\n      <td>1.14</td>\n      <td>1.14</td>\n      <td>0.00</td>\n      <td>1.14</td>\n      <td>0.08</td>\n      <td>1.06</td>\n      <td>0.00</td>\n      <td>...</td>\n      <td>13042.16</td>\n      <td>0.00</td>\n      <td>0.0</td>\n      <td>4608.10</td>\n      <td>NaN</td>\n      <td>0</td>\n      <td>183</td>\n      <td>0</td>\n      <td>19</td>\n      <td>7</td>\n    </tr>\n    <tr>\n      <th>488830</th>\n      <td>1.14</td>\n      <td>Unlisted Procedure Code</td>\n      <td>5.0</td>\n      <td>1.77</td>\n      <td>1.77</td>\n      <td>0.00</td>\n      <td>1.77</td>\n      <td>0.62</td>\n      <td>1.15</td>\n      <td>0.00</td>\n      <td>...</td>\n      <td>13042.16</td>\n      <td>0.00</td>\n      <td>0.0</td>\n      <td>4608.10</td>\n      <td>NaN</td>\n      <td>0</td>\n      <td>183</td>\n      <td>0</td>\n      <td>19</td>\n      <td>7</td>\n    </tr>\n    <tr>\n      <th>488831</th>\n      <td>1.79</td>\n      <td>SALURIN 20MG-2ML AMPOULES</td>\n      <td>1.0</td>\n      <td>1.93</td>\n      <td>1.93</td>\n      <td>0.00</td>\n      <td>1.93</td>\n      <td>0.14</td>\n      <td>1.79</td>\n      <td>0.00</td>\n      <td>...</td>\n      <td>13042.16</td>\n      <td>0.00</td>\n      <td>0.0</td>\n      <td>4608.10</td>\n      <td>NaN</td>\n      <td>0</td>\n      <td>183</td>\n      <td>0</td>\n      <td>19</td>\n      <td>7</td>\n    </tr>\n    <tr>\n      <th>488832</th>\n      <td>144.56</td>\n      <td>Radiography of chest, 1 view</td>\n      <td>1.0</td>\n      <td>193.39</td>\n      <td>193.39</td>\n      <td>0.00</td>\n      <td>193.39</td>\n      <td>67.69</td>\n      <td>125.70</td>\n      <td>18.86</td>\n      <td>...</td>\n      <td>952.92</td>\n      <td>0.00</td>\n      <td>0.0</td>\n      <td>276.55</td>\n      <td>39.0</td>\n      <td>0</td>\n      <td>183</td>\n      <td>0</td>\n      <td>10</td>\n      <td>9</td>\n    </tr>\n  </tbody>\n</table>\n<p>155399 rows × 46 columns</p>\n</div>"
     },
     "execution_count": 8,
     "metadata": {},
     "output_type": "execute_result"
    }
   ],
   "source": [
    "X_train_prep"
   ],
   "metadata": {
    "collapsed": false,
    "ExecuteTime": {
     "end_time": "2024-07-07T12:03:02.132785400Z",
     "start_time": "2024-07-07T12:03:02.041939600Z"
    }
   }
  },
  {
   "cell_type": "code",
   "execution_count": 9,
   "outputs": [],
   "source": [
    "lstm_embedding = LSTMEmbedding()\n",
    "\n",
    "X_train_encoded = preprocessing_train.column_embedding(X_train_prep)\n",
    "X_test_encoded = preprocessing_train.column_embedding(X_test_prep)"
   ],
   "metadata": {
    "collapsed": false,
    "ExecuteTime": {
     "end_time": "2024-07-07T12:03:07.090960400Z",
     "start_time": "2024-07-07T12:03:02.134752200Z"
    }
   }
  },
  {
   "cell_type": "code",
   "execution_count": 10,
   "outputs": [
    {
     "data": {
      "text/plain": "        NET_WITH_VAT   QTY  LINE_CLAIMED_AMOUNT  LINE_CLAIMED_AMOUNT_SAR  \\\nindex                                                                      \n9              27.36   2.0                28.80                    28.80   \n26             12.16  20.0                13.15                    13.15   \n27             50.18  10.0                54.26                    54.26   \n28             27.47   3.0                29.70                    29.70   \n69            131.26   1.0               163.06                   163.06   \n...              ...   ...                  ...                      ...   \n488709        836.67   1.0              1053.50                  1053.50   \n488710        134.40   1.0               120.00                   120.00   \n488775         12.49  20.0                13.15                    13.15   \n488776         12.67   1.0                13.70                    13.70   \n488820          0.06   1.0                 0.08                     0.08   \n\n        CO_PAY  CO_INSURANCE  LINE_ITEM_DISCOUNT  NET_AMOUNT  NET_VAT_AMOUNT  \\\nindex                                                                          \n9         5.47         23.33                1.44       21.89            0.00   \n26        6.08          7.07                0.99        6.08            0.00   \n27       10.04         44.22                4.07       40.15            0.00   \n28        5.49         24.21                2.23       21.98            0.00   \n69        0.00        163.06               48.92      114.14           17.12   \n...        ...           ...                 ...         ...             ...   \n488709   76.00        977.50              316.05      661.45           99.22   \n488710   24.00         96.00                0.00       96.00           14.40   \n488775    2.50         10.65                0.66        9.99            0.00   \n488776    2.53         11.17                1.03       10.14            0.00   \n488820    0.00          0.08                0.01        0.07            0.00   \n\n        PATIENT_VAT_AMOUNT  ...  CombinedText7  CombinedText8  CombinedText9  \\\nindex                       ...                                                \n9                      0.0  ...            285             54              6   \n26                     0.0  ...              0              0              0   \n27                     0.0  ...              0              0              0   \n28                     0.0  ...              0              0              0   \n69                     0.0  ...             19              0              0   \n...                    ...  ...            ...            ...            ...   \n488709                11.4  ...            617             32            205   \n488710                 3.6  ...              0              0              0   \n488775                 0.0  ...              0              0              0   \n488776                 0.0  ...             68             67             45   \n488820                 0.0  ...              0              0              0   \n\n        CombinedText10  CombinedText11  CombinedText12  CombinedText13  \\\nindex                                                                    \n9                   70              36              43              73   \n26                   0               0               0               0   \n27                   0               0               0               0   \n28                   0               0               0               0   \n69                   0               0               0               0   \n...                ...             ...             ...             ...   \n488709             703             172              37             200   \n488710               0               0               0               0   \n488775               0               0               0               0   \n488776               6               2              35               2   \n488820               0               0               0               0   \n\n        CombinedText14  CombinedText15  CombinedText16  \nindex                                                   \n9                   22               0               0  \n26                   0               0               0  \n27                   0               0               0  \n28                   0               0               0  \n69                   0               0               0  \n...                ...             ...             ...  \n488709             441               0               0  \n488710               0               0               0  \n488775               0               0               0  \n488776              68               0               0  \n488820               0               0               0  \n\n[39340 rows x 58 columns]",
      "text/html": "<div>\n<style scoped>\n    .dataframe tbody tr th:only-of-type {\n        vertical-align: middle;\n    }\n\n    .dataframe tbody tr th {\n        vertical-align: top;\n    }\n\n    .dataframe thead th {\n        text-align: right;\n    }\n</style>\n<table border=\"1\" class=\"dataframe\">\n  <thead>\n    <tr style=\"text-align: right;\">\n      <th></th>\n      <th>NET_WITH_VAT</th>\n      <th>QTY</th>\n      <th>LINE_CLAIMED_AMOUNT</th>\n      <th>LINE_CLAIMED_AMOUNT_SAR</th>\n      <th>CO_PAY</th>\n      <th>CO_INSURANCE</th>\n      <th>LINE_ITEM_DISCOUNT</th>\n      <th>NET_AMOUNT</th>\n      <th>NET_VAT_AMOUNT</th>\n      <th>PATIENT_VAT_AMOUNT</th>\n      <th>...</th>\n      <th>CombinedText7</th>\n      <th>CombinedText8</th>\n      <th>CombinedText9</th>\n      <th>CombinedText10</th>\n      <th>CombinedText11</th>\n      <th>CombinedText12</th>\n      <th>CombinedText13</th>\n      <th>CombinedText14</th>\n      <th>CombinedText15</th>\n      <th>CombinedText16</th>\n    </tr>\n    <tr>\n      <th>index</th>\n      <th></th>\n      <th></th>\n      <th></th>\n      <th></th>\n      <th></th>\n      <th></th>\n      <th></th>\n      <th></th>\n      <th></th>\n      <th></th>\n      <th></th>\n      <th></th>\n      <th></th>\n      <th></th>\n      <th></th>\n      <th></th>\n      <th></th>\n      <th></th>\n      <th></th>\n      <th></th>\n      <th></th>\n    </tr>\n  </thead>\n  <tbody>\n    <tr>\n      <th>9</th>\n      <td>27.36</td>\n      <td>2.0</td>\n      <td>28.80</td>\n      <td>28.80</td>\n      <td>5.47</td>\n      <td>23.33</td>\n      <td>1.44</td>\n      <td>21.89</td>\n      <td>0.00</td>\n      <td>0.0</td>\n      <td>...</td>\n      <td>285</td>\n      <td>54</td>\n      <td>6</td>\n      <td>70</td>\n      <td>36</td>\n      <td>43</td>\n      <td>73</td>\n      <td>22</td>\n      <td>0</td>\n      <td>0</td>\n    </tr>\n    <tr>\n      <th>26</th>\n      <td>12.16</td>\n      <td>20.0</td>\n      <td>13.15</td>\n      <td>13.15</td>\n      <td>6.08</td>\n      <td>7.07</td>\n      <td>0.99</td>\n      <td>6.08</td>\n      <td>0.00</td>\n      <td>0.0</td>\n      <td>...</td>\n      <td>0</td>\n      <td>0</td>\n      <td>0</td>\n      <td>0</td>\n      <td>0</td>\n      <td>0</td>\n      <td>0</td>\n      <td>0</td>\n      <td>0</td>\n      <td>0</td>\n    </tr>\n    <tr>\n      <th>27</th>\n      <td>50.18</td>\n      <td>10.0</td>\n      <td>54.26</td>\n      <td>54.26</td>\n      <td>10.04</td>\n      <td>44.22</td>\n      <td>4.07</td>\n      <td>40.15</td>\n      <td>0.00</td>\n      <td>0.0</td>\n      <td>...</td>\n      <td>0</td>\n      <td>0</td>\n      <td>0</td>\n      <td>0</td>\n      <td>0</td>\n      <td>0</td>\n      <td>0</td>\n      <td>0</td>\n      <td>0</td>\n      <td>0</td>\n    </tr>\n    <tr>\n      <th>28</th>\n      <td>27.47</td>\n      <td>3.0</td>\n      <td>29.70</td>\n      <td>29.70</td>\n      <td>5.49</td>\n      <td>24.21</td>\n      <td>2.23</td>\n      <td>21.98</td>\n      <td>0.00</td>\n      <td>0.0</td>\n      <td>...</td>\n      <td>0</td>\n      <td>0</td>\n      <td>0</td>\n      <td>0</td>\n      <td>0</td>\n      <td>0</td>\n      <td>0</td>\n      <td>0</td>\n      <td>0</td>\n      <td>0</td>\n    </tr>\n    <tr>\n      <th>69</th>\n      <td>131.26</td>\n      <td>1.0</td>\n      <td>163.06</td>\n      <td>163.06</td>\n      <td>0.00</td>\n      <td>163.06</td>\n      <td>48.92</td>\n      <td>114.14</td>\n      <td>17.12</td>\n      <td>0.0</td>\n      <td>...</td>\n      <td>19</td>\n      <td>0</td>\n      <td>0</td>\n      <td>0</td>\n      <td>0</td>\n      <td>0</td>\n      <td>0</td>\n      <td>0</td>\n      <td>0</td>\n      <td>0</td>\n    </tr>\n    <tr>\n      <th>...</th>\n      <td>...</td>\n      <td>...</td>\n      <td>...</td>\n      <td>...</td>\n      <td>...</td>\n      <td>...</td>\n      <td>...</td>\n      <td>...</td>\n      <td>...</td>\n      <td>...</td>\n      <td>...</td>\n      <td>...</td>\n      <td>...</td>\n      <td>...</td>\n      <td>...</td>\n      <td>...</td>\n      <td>...</td>\n      <td>...</td>\n      <td>...</td>\n      <td>...</td>\n      <td>...</td>\n    </tr>\n    <tr>\n      <th>488709</th>\n      <td>836.67</td>\n      <td>1.0</td>\n      <td>1053.50</td>\n      <td>1053.50</td>\n      <td>76.00</td>\n      <td>977.50</td>\n      <td>316.05</td>\n      <td>661.45</td>\n      <td>99.22</td>\n      <td>11.4</td>\n      <td>...</td>\n      <td>617</td>\n      <td>32</td>\n      <td>205</td>\n      <td>703</td>\n      <td>172</td>\n      <td>37</td>\n      <td>200</td>\n      <td>441</td>\n      <td>0</td>\n      <td>0</td>\n    </tr>\n    <tr>\n      <th>488710</th>\n      <td>134.40</td>\n      <td>1.0</td>\n      <td>120.00</td>\n      <td>120.00</td>\n      <td>24.00</td>\n      <td>96.00</td>\n      <td>0.00</td>\n      <td>96.00</td>\n      <td>14.40</td>\n      <td>3.6</td>\n      <td>...</td>\n      <td>0</td>\n      <td>0</td>\n      <td>0</td>\n      <td>0</td>\n      <td>0</td>\n      <td>0</td>\n      <td>0</td>\n      <td>0</td>\n      <td>0</td>\n      <td>0</td>\n    </tr>\n    <tr>\n      <th>488775</th>\n      <td>12.49</td>\n      <td>20.0</td>\n      <td>13.15</td>\n      <td>13.15</td>\n      <td>2.50</td>\n      <td>10.65</td>\n      <td>0.66</td>\n      <td>9.99</td>\n      <td>0.00</td>\n      <td>0.0</td>\n      <td>...</td>\n      <td>0</td>\n      <td>0</td>\n      <td>0</td>\n      <td>0</td>\n      <td>0</td>\n      <td>0</td>\n      <td>0</td>\n      <td>0</td>\n      <td>0</td>\n      <td>0</td>\n    </tr>\n    <tr>\n      <th>488776</th>\n      <td>12.67</td>\n      <td>1.0</td>\n      <td>13.70</td>\n      <td>13.70</td>\n      <td>2.53</td>\n      <td>11.17</td>\n      <td>1.03</td>\n      <td>10.14</td>\n      <td>0.00</td>\n      <td>0.0</td>\n      <td>...</td>\n      <td>68</td>\n      <td>67</td>\n      <td>45</td>\n      <td>6</td>\n      <td>2</td>\n      <td>35</td>\n      <td>2</td>\n      <td>68</td>\n      <td>0</td>\n      <td>0</td>\n    </tr>\n    <tr>\n      <th>488820</th>\n      <td>0.06</td>\n      <td>1.0</td>\n      <td>0.08</td>\n      <td>0.08</td>\n      <td>0.00</td>\n      <td>0.08</td>\n      <td>0.01</td>\n      <td>0.07</td>\n      <td>0.00</td>\n      <td>0.0</td>\n      <td>...</td>\n      <td>0</td>\n      <td>0</td>\n      <td>0</td>\n      <td>0</td>\n      <td>0</td>\n      <td>0</td>\n      <td>0</td>\n      <td>0</td>\n      <td>0</td>\n      <td>0</td>\n    </tr>\n  </tbody>\n</table>\n<p>39340 rows × 58 columns</p>\n</div>"
     },
     "execution_count": 10,
     "metadata": {},
     "output_type": "execute_result"
    }
   ],
   "source": [
    "X_test_encoded"
   ],
   "metadata": {
    "collapsed": false,
    "ExecuteTime": {
     "end_time": "2024-07-07T12:03:07.141786800Z",
     "start_time": "2024-07-07T12:03:07.092149300Z"
    }
   }
  },
  {
   "cell_type": "code",
   "execution_count": 11,
   "outputs": [],
   "source": [
    "model_runner = ModelApplication(X_train= X_train,y_train= y_train['OUTCOME'],X_test= X_test,y_test= y_test['OUTCOME'])"
   ],
   "metadata": {
    "collapsed": false,
    "ExecuteTime": {
     "end_time": "2024-07-07T12:03:07.150479500Z",
     "start_time": "2024-07-07T12:03:07.138665100Z"
    }
   }
  },
  {
   "cell_type": "code",
   "execution_count": 12,
   "outputs": [
    {
     "name": "stdout",
     "output_type": "stream",
     "text": [
      "<class 'pandas.core.frame.DataFrame'>\n",
      "Index: 155399 entries, 0 to 488832\n",
      "Data columns (total 97 columns):\n",
      " #   Column                       Non-Null Count   Dtype         \n",
      "---  ------                       --------------   -----         \n",
      " 0   CREATED_BY_USER              155399 non-null  int64         \n",
      " 1   CREATION_DATE                155399 non-null  datetime64[ns]\n",
      " 2   VISIT_ID                     155399 non-null  int64         \n",
      " 3   NET_WITH_VAT                 155399 non-null  float64       \n",
      " 4   SERVICE_DESCRIPTION          155399 non-null  object        \n",
      " 5   QTY                          155399 non-null  float64       \n",
      " 6   LINE_CLAIMED_AMOUNT          155399 non-null  float64       \n",
      " 7   LINE_CLAIMED_AMOUNT_SAR      155399 non-null  float64       \n",
      " 8   CO_PAY                       155399 non-null  float64       \n",
      " 9   CO_INSURANCE                 155399 non-null  float64       \n",
      " 10  LINE_ITEM_DISCOUNT           155399 non-null  float64       \n",
      " 11  NET_AMOUNT                   155399 non-null  float64       \n",
      " 12  NET_VAT_AMOUNT               155399 non-null  float64       \n",
      " 13  PATIENT_VAT_AMOUNT           155399 non-null  float64       \n",
      " 14  VAT_PERCENTAGE               155399 non-null  float64       \n",
      " 15  TREATMENT_TYPE_INDICATOR     155399 non-null  int64         \n",
      " 16  SERVICE_TYPE                 155399 non-null  object        \n",
      " 17  DURATION                     55152 non-null   float64       \n",
      " 18  QTY_STOCKED_UOM              155399 non-null  int64         \n",
      " 19  UNIT_PRICE                   155399 non-null  float64       \n",
      " 20  OASIS_IOS_DESCRIPTION        155399 non-null  object        \n",
      " 21  SEQUENCE_NO                  155399 non-null  int64         \n",
      " 22  UNIT_PRICE_STOCKED_UOM       155399 non-null  float64       \n",
      " 23  UNIT_PRICE_NET               155399 non-null  float64       \n",
      " 24  DISCOUNT_PERCENTAGE          155399 non-null  float64       \n",
      " 25  NOTES                        155399 non-null  object        \n",
      " 26  OUTCOME                      155399 non-null  object        \n",
      " 27  APPROVED_QUNATITY            155398 non-null  float64       \n",
      " 28  REQUEST_DATE                 155399 non-null  datetime64[ns]\n",
      " 29  VISIT_NO                     155399 non-null  object        \n",
      " 30  VISIT_DATE                   155399 non-null  datetime64[ns]\n",
      " 31  EMERGENCY_INDICATOR          155399 non-null  int64         \n",
      " 32  PROVIDER_DEPARTMENT_CODE     155399 non-null  int64         \n",
      " 33  PROVIDER_DEPARTMENT          155399 non-null  object        \n",
      " 34  DOCTOR_SPECIALTY_CODE        155399 non-null  float64       \n",
      " 35  DOCTOR_CODE                  155399 non-null  int64         \n",
      " 36  PATIENT_NO                   155399 non-null  int64         \n",
      " 37  EPISODE_NO                   155399 non-null  int64         \n",
      " 38  PATIENT_ID                   155399 non-null  int64         \n",
      " 39  MEMBERSHIP_NO                155399 non-null  object        \n",
      " 40  PATIENT_ID_TYPE              154823 non-null  float64       \n",
      " 41  PATIENT_NATIONAL_IQAMA_ID    155385 non-null  object        \n",
      " 42  PATIENT_DOB                  155399 non-null  datetime64[ns]\n",
      " 43  PATIENT_AGE                  155399 non-null  int64         \n",
      " 44  UNIT_OF_AGE                  155399 non-null  int64         \n",
      " 45  PATIENT_NATIONALITY          155399 non-null  int64         \n",
      " 46  PATIENT_MARITAL_STATUS       155399 non-null  int64         \n",
      " 47  PATIENT_GENDER               155399 non-null  int64         \n",
      " 48  PATIENT_MOBILE_NO            155399 non-null  int64         \n",
      " 49  PATIENT_BADGE_NO             146233 non-null  object        \n",
      " 50  HIS_INSURANCE_CODE           155399 non-null  int64         \n",
      " 51  POLICY_HOLDER_NO             124795 non-null  object        \n",
      " 52  CLAIM_TYPE                   155399 non-null  int64         \n",
      " 53  BATCH_NO                     155399 non-null  int64         \n",
      " 54  TOTAL_CLAIMED_AMOUNT         155399 non-null  float64       \n",
      " 55  TOTAL_CLAIMED_AMOUNT_SAR     155399 non-null  float64       \n",
      " 56  TOTAL_NET_AMOUNT             155399 non-null  float64       \n",
      " 57  TOTAL_DISCOUNT               155399 non-null  float64       \n",
      " 58  TOTAL_DEDUCTIBLE             155399 non-null  float64       \n",
      " 59  TOTAL_PATIENT_VATAMOUNT      155399 non-null  float64       \n",
      " 60  TOTAL_NET_VAT_AMOUNT         155399 non-null  float64       \n",
      " 61  CLAIM_NO                     155399 non-null  object        \n",
      " 62  STAT_END_DATE                155399 non-null  datetime64[ns]\n",
      " 63  AMEND_BY_USER                155399 non-null  int64         \n",
      " 64  AMEND_LAST_DATE              155399 non-null  datetime64[ns]\n",
      " 65  PAYER_LICENSE                155399 non-null  int64         \n",
      " 66  DOCTOR_LICENSE               155399 non-null  object        \n",
      " 67  DEPARTMENT_TYPE              110944 non-null  float64       \n",
      " 68  TREATMENT_TYPE               155399 non-null  int64         \n",
      " 69  CLAIM_INVOICE_NO             155399 non-null  int64         \n",
      " 70  STAT_INVOICE_NO              155399 non-null  int64         \n",
      " 71  PURCHASER_CODE               155399 non-null  int64         \n",
      " 72  STATUS                       155399 non-null  object        \n",
      " 73  API_TRANS_ID                 155399 non-null  int64         \n",
      " 74  SUBMIT_CLAIM_OUTCOME         154536 non-null  object        \n",
      " 75  SUBMIT_CLAIM_MESSAGE         84090 non-null   object        \n",
      " 76  RES_STATUS                   155399 non-null  object        \n",
      " 77  RES_CLAIM_ID                 154536 non-null  object        \n",
      " 78  CONSULTATION_INVOICE_NO      100047 non-null  object        \n",
      " 79  TREATMENT_SUB_TYPE           155399 non-null  object        \n",
      " 80  ELIGIBILITY_RESPONSE_ID      95521 non-null   object        \n",
      " 81  ELIGIBILITY_RESPONSE_SYSTEM  95562 non-null   object        \n",
      " 82  CONTRACT_NO                  155399 non-null  int64         \n",
      " 83  ELIGIBILITY_API_TRANS_ID     105897 non-null  float64       \n",
      " 84  CLAIM_IDENTIFIER             154028 non-null  float64       \n",
      " 85  ATTACHED_FILES               155233 non-null  object        \n",
      " 86  ATTACHMENT_TYPE              155399 non-null  object        \n",
      " 87  NEW_BORN                     155399 non-null  int64         \n",
      " 88  PATIENT_IDENTITY_TYPE        155399 non-null  object        \n",
      " 89  BILLABLE_PERIOD_START        155399 non-null  datetime64[ns]\n",
      " 90  BILLABLE_PERIOD_END          155399 non-null  datetime64[ns]\n",
      " 91  BATCH_PERIOD_START           155399 non-null  datetime64[ns]\n",
      " 92  BATCH_PERIOD_END             155399 non-null  datetime64[ns]\n",
      " 93  Episode_Key                  150220 non-null  object        \n",
      " 94  ICD10                        150220 non-null  object        \n",
      " 95  Diagnosis_Key                150220 non-null  object        \n",
      " 96  PatientAgeRange              155399 non-null  int64         \n",
      "dtypes: datetime64[ns](10), float64(29), int64(30), object(28)\n",
      "memory usage: 116.2+ MB\n"
     ]
    }
   ],
   "source": [
    "df_train.info()"
   ],
   "metadata": {
    "collapsed": false,
    "ExecuteTime": {
     "end_time": "2024-07-07T12:03:07.323435100Z",
     "start_time": "2024-07-07T12:03:07.152615100Z"
    }
   }
  },
  {
   "cell_type": "code",
   "execution_count": 13,
   "outputs": [
    {
     "name": "stdout",
     "output_type": "stream",
     "text": [
      "Training is done\n"
     ]
    }
   ],
   "source": [
    "model_runner.get_model(force_retrain=True)"
   ],
   "metadata": {
    "collapsed": false,
    "ExecuteTime": {
     "end_time": "2024-07-07T12:03:10.735022300Z",
     "start_time": "2024-07-07T12:03:08.884001600Z"
    }
   }
  },
  {
   "cell_type": "code",
   "execution_count": 14,
   "outputs": [
    {
     "data": {
      "text/plain": "{'XGBoost': {'Accuracy': 0.75,\n  'Precision': 0.74,\n  'Recall': 0.79,\n  'F1 Score': 0.77}}"
     },
     "execution_count": 14,
     "metadata": {},
     "output_type": "execute_result"
    }
   ],
   "source": [
    "model_runner.evaluate_model()"
   ],
   "metadata": {
    "collapsed": false,
    "ExecuteTime": {
     "end_time": "2024-07-07T12:03:15.644553900Z",
     "start_time": "2024-07-07T12:03:15.481648Z"
    }
   }
  },
  {
   "cell_type": "code",
   "execution_count": 15,
   "outputs": [
    {
     "data": {
      "text/plain": "       OUTCOME                               SUBMIT_CLAIM_MESSAGE\nindex                                                            \n0            0  BE-1-1 Co-pay was not collected from memberBE-...\n1            0    BE-1-7 Incorrect billing regimePartial Approved\n2            1    BE-1-7 Incorrect billing regimePartial Approved\n3            1  MN-1-1 Service is not clinically justified bas...\n4            0  BE-1-7 Incorrect billing regimeBE-1-7 Incorrec...\n...        ...                                                ...\n488828       0  BE-1-4 Preauthorization is required and was no...\n488829       1  MN-1-1 Service is not clinically justified bas...\n488830       1  MN-1-1 Service is not clinically justified bas...\n488831       0  MN-1-1 Service is not clinically justified bas...\n488832       0  CV-1-1 Provider is out of beneficiary networkC...\n\n[155399 rows x 2 columns]",
      "text/html": "<div>\n<style scoped>\n    .dataframe tbody tr th:only-of-type {\n        vertical-align: middle;\n    }\n\n    .dataframe tbody tr th {\n        vertical-align: top;\n    }\n\n    .dataframe thead th {\n        text-align: right;\n    }\n</style>\n<table border=\"1\" class=\"dataframe\">\n  <thead>\n    <tr style=\"text-align: right;\">\n      <th></th>\n      <th>OUTCOME</th>\n      <th>SUBMIT_CLAIM_MESSAGE</th>\n    </tr>\n    <tr>\n      <th>index</th>\n      <th></th>\n      <th></th>\n    </tr>\n  </thead>\n  <tbody>\n    <tr>\n      <th>0</th>\n      <td>0</td>\n      <td>BE-1-1 Co-pay was not collected from memberBE-...</td>\n    </tr>\n    <tr>\n      <th>1</th>\n      <td>0</td>\n      <td>BE-1-7 Incorrect billing regimePartial Approved</td>\n    </tr>\n    <tr>\n      <th>2</th>\n      <td>1</td>\n      <td>BE-1-7 Incorrect billing regimePartial Approved</td>\n    </tr>\n    <tr>\n      <th>3</th>\n      <td>1</td>\n      <td>MN-1-1 Service is not clinically justified bas...</td>\n    </tr>\n    <tr>\n      <th>4</th>\n      <td>0</td>\n      <td>BE-1-7 Incorrect billing regimeBE-1-7 Incorrec...</td>\n    </tr>\n    <tr>\n      <th>...</th>\n      <td>...</td>\n      <td>...</td>\n    </tr>\n    <tr>\n      <th>488828</th>\n      <td>0</td>\n      <td>BE-1-4 Preauthorization is required and was no...</td>\n    </tr>\n    <tr>\n      <th>488829</th>\n      <td>1</td>\n      <td>MN-1-1 Service is not clinically justified bas...</td>\n    </tr>\n    <tr>\n      <th>488830</th>\n      <td>1</td>\n      <td>MN-1-1 Service is not clinically justified bas...</td>\n    </tr>\n    <tr>\n      <th>488831</th>\n      <td>0</td>\n      <td>MN-1-1 Service is not clinically justified bas...</td>\n    </tr>\n    <tr>\n      <th>488832</th>\n      <td>0</td>\n      <td>CV-1-1 Provider is out of beneficiary networkC...</td>\n    </tr>\n  </tbody>\n</table>\n<p>155399 rows × 2 columns</p>\n</div>"
     },
     "execution_count": 15,
     "metadata": {},
     "output_type": "execute_result"
    }
   ],
   "source": [
    "y_train"
   ],
   "metadata": {
    "collapsed": false,
    "ExecuteTime": {
     "end_time": "2024-07-07T12:03:21.476934500Z",
     "start_time": "2024-07-07T12:03:21.451337900Z"
    }
   }
  },
  {
   "cell_type": "code",
   "execution_count": 16,
   "outputs": [
    {
     "ename": "ModuleNotFoundError",
     "evalue": "No module named 'AHBS_AIServices'",
     "output_type": "error",
     "traceback": [
      "\u001B[1;31m---------------------------------------------------------------------------\u001B[0m",
      "\u001B[1;31mModuleNotFoundError\u001B[0m                       Traceback (most recent call last)",
      "Cell \u001B[1;32mIn[16], line 1\u001B[0m\n\u001B[1;32m----> 1\u001B[0m \u001B[38;5;28;01mfrom\u001B[39;00m \u001B[38;5;21;01msrc\u001B[39;00m\u001B[38;5;21;01m.\u001B[39;00m\u001B[38;5;21;01mrejection_clustering\u001B[39;00m \u001B[38;5;28;01mimport\u001B[39;00m RejectionCategory\n\u001B[0;32m      2\u001B[0m \u001B[38;5;28;01mfrom\u001B[39;00m \u001B[38;5;21;01msrc\u001B[39;00m\u001B[38;5;21;01m.\u001B[39;00m\u001B[38;5;21;01mrejection_clustering\u001B[39;00m \u001B[38;5;28;01mimport\u001B[39;00m find_category_similarity\n\u001B[0;32m      3\u001B[0m rejection_category \u001B[38;5;241m=\u001B[39m RejectionCategory()\n",
      "File \u001B[1;32mC:\\AI_Projects\\Claims_Rejection_2024\\Claims_Rejection\\src\\rejection_clustering.py:2\u001B[0m\n\u001B[0;32m      1\u001B[0m \u001B[38;5;28;01mimport\u001B[39;00m \u001B[38;5;21;01mre\u001B[39;00m\n\u001B[1;32m----> 2\u001B[0m \u001B[38;5;28;01mfrom\u001B[39;00m \u001B[38;5;21;01mAHBS_AIServices\u001B[39;00m \u001B[38;5;28;01mimport\u001B[39;00m similarity\n\u001B[0;32m      3\u001B[0m \u001B[38;5;28;01mfrom\u001B[39;00m \u001B[38;5;21;01mtransformers\u001B[39;00m \u001B[38;5;28;01mimport\u001B[39;00m pipeline\n\u001B[0;32m      4\u001B[0m \u001B[38;5;28;01mimport\u001B[39;00m \u001B[38;5;21;01mos\u001B[39;00m\n",
      "\u001B[1;31mModuleNotFoundError\u001B[0m: No module named 'AHBS_AIServices'"
     ]
    }
   ],
   "source": [
    "from src.rejection_clustering import RejectionCategory\n",
    "from src.rejection_clustering import find_category_similarity\n",
    "rejection_category = RejectionCategory()\n",
    "\n",
    "messages  = y_test['SUBMIT_CLAIM_MESSAGE'].tolist()\n",
    "predicted_labels = y_test['OUTCOME'].tolist()"
   ],
   "metadata": {
    "collapsed": false,
    "ExecuteTime": {
     "end_time": "2024-07-07T12:03:23.412189800Z",
     "start_time": "2024-07-07T12:03:22.606973500Z"
    }
   }
  },
  {
   "cell_type": "code",
   "execution_count": 33,
   "outputs": [],
   "source": [
    "cleaned_messages = rejection_category.preprocess_messages(messages,predicted_labels)"
   ],
   "metadata": {
    "collapsed": false,
    "ExecuteTime": {
     "end_time": "2024-07-03T11:18:18.861023700Z",
     "start_time": "2024-07-03T11:18:18.166589400Z"
    }
   }
  },
  {
   "cell_type": "code",
   "execution_count": 45,
   "outputs": [
    {
     "data": {
      "text/plain": "{'2 Bipolar affective disorder Not Covered',\n '2 Contraceptive management Not Covered',\n '2 Contraceptive management unspecified Not Covered',\n '2 Convalescence following surgery Not Covered',\n '2 F U care r o fx plate oth int fix dev Not Covered',\n '2 F U exam after oth Rx for cond Not Covered',\n '2 Female infertility Not Covered',\n '2 Follow up exam after surg for oth cond Not Covered',\n '2 General medical examination Not Covered',\n '2 Impotence of organic origin Not Covered',\n '2 Obesity unspecified Not Covered',\n '2 Obs suspected toxic effect ingested subs Not Covered',\n '2 Patent ductus arteriosus Not Covered',\n '2 Postinflammatory hyperpigmentation Not Covered',\n '2 This Diagnosis is not Covered',\n '2 This Diagnosis is not covered',\n '2 This diagnosis not coverd',\n '2024 284841 missing discharge summary progress notes',\n 'AD-1-3 Diagnosis is inconsistent with encounter type',\n 'AD-1-4 Diagnosis is inconsistent with service/procedure',\n 'AD-1-6 Service/procedure is inconsistent with clinician specialty',\n 'AD-1-6 Service/procedure is inconsistent with clinician specialty BE-1-6 Calculation discrepancy BE-1-1 Co-pay was not collected from member',\n 'AD-1-6 Service/procedure is inconsistent with clinician specialty CV-3-2 may be appropriate, but too frequent CV-4-7 Device not consistent the service/procedure',\n 'AD-1-7 Service/procedure is inconsistent with encounter type',\n 'AD-2-4 Duplicate service/procedure code based on the date',\n 'AD-2-4 Duplicate service/procedure code based on the date ...',\n 'AD-2-4 Duplicate service/procedure code based on the date BE-1-1 Co-pay was not collected from member BE-1-6 Calculation discrepancy',\n 'AD-2-4 Duplicate service/procedure code based on the date BE-1-3 Submission not compliant with contractual agreement between provider & payer MN-1-1 Service is clinically justified clinical practice guideline, without additional supporting diagnosis Duplicate Repeated billing Finally settled',\n 'AD-2-4 Duplicate service/procedure code based on the date BE-1-3 Submission not compliant with contractual agreement between provider & payer the...',\n 'AD-2-4 Duplicate service/procedure code based on the date BE-1-4 Preauthorization is required and was not obtained MN-1-1 Service clinically justified clinical practice guideline, without additional supporting diagnosis diagnosis Duplicate Repeated billing Finally settled',\n 'AD-2-4 Duplicate service/procedure code based on the date Duplicate Repeated billing Finally settled',\n 'AD-2-4 Duplicate service/procedure code based on the date Partial Approved',\n 'AD-2-4 Duplicate service/procedure code based on the date date Duplicate Repeated billing Finally settled',\n 'AD-2-5 Time limit for submission has expired',\n 'AD-2-5 Time limit for submission has expired BE-1-3 Submission not compliant with contractual agreement between provider & payer',\n 'AD-2-5 Time limit for submission has expired SUBMITTED AS RELATED TO Inapropriate approval s 2023 5796276 Already linked to batch 202312250555',\n 'AD-2-5 Time limit for submission has expired SUBMITTED AS RELATED TO Inapropriate approval s 2023 5849155 Already linked to batch 202312250555',\n 'AD-2-5 Time limit for submission has expired expired SUBMITTED AS RELATED TO Inapropriate approval s 2023 5530449 Already linked to batch 202312051273',\n 'AD-2-5 Time limit for submission has expired expired SUBMITTED AS RELATED TO Inapropriate approval s 2023 5826339 Already linked to batch 202312250555',\n 'AD-2-5 Time limit for submission has expired expired SUBMITTED AS RELATED TO Inapropriate approval s 2023 5852052 Already linked to batch 202312250285',\n 'AD-2-5 Time limit for submission has expired expired SUBMITTED AS RELATED TO Inapropriate approval s 2023 5885767 Already linked to batch 202312250555',\n 'AD-2-5 Time limit for submission has expired expired SUBMITTED AS RELATED TO Inapropriate approval s 2023 6160375 Already linked to batch 202402030001',\n 'AD-2-5 Time limit for submission has expired expired SUBMITTED AS RELATED TO Inapropriate approval s 2024 593056 Already linked to batch 202402051231',\n 'AD-2-5 Time limit for submission has expired expired Time',\n 'AD-2-6 Service s is are performed outside authorization validity date',\n 'AD-2-6 Service was performed outside authorization validity date Out of preauthorization',\n 'AD-3-2 Use bundled code BE-1-3 Submission not compliant with contractual agreement between provider & payer Charges service included,bundled or part of billed procedure, consultation management',\n 'AD-3-2 Use bundled code BE-1-3 Submission not compliant with contractual agreement between provider & payer MN-1-1 Service is clinically justified based on clinical practice guideline, without additional supporting diagnosis diagnosis Charges service included,bundled or part of billed procedure, consultation management',\n 'AD-3-2 Use bundled code BE-1-3 Submission not compliant with contractual agreement between provider & payer code Charges service included,bundled or part of billed procedure, consultation management',\n 'AD-3-2 Use bundled code Charges service included,bundled or part of billed procedure, consultation management',\n 'AD-3-2 Use bundled code MN-1-1 Service is not clinically justified based on clinical practice guideline, without additional supporting diagnosis BE-1-3 Submission compliant with contractual agreement between provider & payer Service/supply may be appropriate, but too frequent frequent Charges service included,bundled or part of billed procedure, consultation management',\n 'AD-3-2 Use bundled code code Charges Service included,bundled or part of billed PD Per diem RATES',\n 'AD-3-3 Room services and food are included in room board expenses CV-1-4 Service/procedure is not covered BE-1-3 Submission compliant with contractual agreement between provider & payer payer The charges related to the Board cover requested service',\n \"AD-3-7 Service/procedure is inconsistent with patient's age BE-1-7 Incorrect billing regime\",\n 'APPROVED_PREDICTION',\n 'Already rejected Cancelled at preauthorization',\n 'Authorization request Claim is a duplicate based on service codes and dates',\n 'BE-1-1 Co-pay was not collected from member',\n 'BE-1-1 Co-pay was not collected from member AD-1-7 Service/procedure is inconsistent with encounter type',\n 'BE-1-1 Co-pay was not collected from member AD-2-4 Duplicate service/procedure code based on the date The Claim Is Adjusted Because Of Wrong Calculation The Excess Deductible',\n 'BE-1-1 Co-pay was not collected from member AD-2-4 Duplicate service/procedure code based on the date member Wrong Calculation Of The Patient S Deductable',\n 'BE-1-1 Co-pay was not collected from member BE-1-3 Submission compliant with contractual agreement between provider & payer MN-1-1 Service is clinically justified based on clinical practice guideline, without additional supporting diagnosis BE-1-6 Calculation discrepancy',\n 'BE-1-1 Co-pay was not collected from member BE-1-3 Submission compliant with contractual agreement between provider & payer member Wrong Calculation Of The Patient S Deductable',\n 'BE-1-1 Co-pay was not collected from member BE-1-3 Submission compliant with contractual agreement between provider & payer payer Wrong Calculation Of The Patient S Deductable',\n 'BE-1-1 Co-pay was not collected from member BE-1-4 Preauthorization is required and obtained',\n 'BE-1-1 Co-pay was not collected from member BE-1-6 Calculation discrepancy',\n 'BE-1-1 Co-pay was not collected from member BE-1-6 Calculation discrepancy BE-1-7 Incorrect billing regime MN-1-1 Service is clinically justified based on clinical practice guideline, without additional supporting diagnosis',\n 'BE-1-1 Co-pay was not collected from member BE-1-7 Incorrect billing regime Partial Approved',\n 'BE-1-1 Co-pay was not collected from member BE-1-7 Incorrect billing regime member Partial Approved',\n 'BE-1-1 Co-pay was not collected from member MN-1-1 Service is clinically justified based on clinical practice guideline, without additional supporting diagnosis',\n 'BE-1-1 Co-pay was not collected from member MN-1-1 Service is clinically justified based on clinical practice guideline, without additional supporting diagnosis 2024 1079243',\n 'BE-1-1 Co-pay was not collected from member MN-1-1 Service is clinically justified based on clinical practice guideline, without additional supporting diagnosis AD-2-4 Duplicate service/procedure code the date Partial Approved',\n 'BE-1-1 Co-pay was not collected from member MN-1-1 Service is clinically justified based on clinical practice guideline, without additional supporting diagnosis BE-1-6 Calculation discrepancy',\n 'BE-1-1 Co-pay was not collected from member MN-1-1 Service is clinically justified based on clinical practice guideline, without additional supporting diagnosis BE-1-7 Incorrect billing regime Partial Approved',\n 'BE-1-1 Co-pay was not collected from member MN-1-1 Service is clinically justified based on clinical practice guideline, without additional supporting diagnosis Partial Approved',\n 'BE-1-1 Co-pay was not collected from member MN-1-1 Service is clinically justified based on clinical practice guideline, without additional supporting diagnosis member Partial Approved',\n 'BE-1-1 Co-pay was not collected from member Partial Approved',\n 'BE-1-1 Co-pay was not collected from member SE-1-6 Investigation result is inadequate or missing',\n 'BE-1-1 Co-pay was not collected from member Wrong Calculation Of The Patient S Deductable',\n 'BE-1-1 Co-pay was not collected from member member Partial Approved',\n 'BE-1-1 Co-pay was not collected from member member Wrong Calculation Of The Patient S Deductable',\n 'BE-1-1 Co-pay was not collected from member member Wrong Vat Applied',\n 'BE-1-1 Co-pay was not collected from member member2024 741116 2024 1074752 1072736',\n 'BE-1-3 Submission not compliant with contractual agreement between provider & payer',\n 'BE-1-3 Submission not compliant with contractual agreement between provider & payer AD-2-4 Duplicate service/procedure code based on the date Billed service is part of agreed pricelist',\n 'BE-1-3 Submission not compliant with contractual agreement between provider & payer AD-2-4 Duplicate service/procedure code based on the date MN-1-1 Service is clinically justified clinical practice guideline, without additional supporting diagnosis diagnosis Billed service part of agreed pricelist',\n 'BE-1-3 Submission not compliant with contractual agreement between provider & payer AD-2-4 Duplicate service/procedure code based on the date payer Billed service is part of agreed pricelist',\n 'BE-1-3 Submission not compliant with contractual agreement between provider & payer AD-2-5 Time limit for submission has expired',\n 'BE-1-3 Submission not compliant with contractual agreement between provider & payer AD-2-5 Time limit for submission has expired SUBMITTED AS RELATED TO Inapropriate approval s 2023 5805236 Already linked to batch 202312250555',\n 'BE-1-3 Submission not compliant with contractual agreement between provider & payer AD-3-2 Use bundled code BE-1-6 Calculation discrepancy MN-1-1 Service is clinically justified based on clinical practice guideline, without additional supporting diagnosis Service/supply may be appropriate, but too frequent BE-1-4 Preauthorization required...',\n 'BE-1-3 Submission not compliant with contractual agreement between provider & payer AD-3-3 Room services and food are included in room board expenses BE-1-5 Claim information is inconsistent preauthorized MN-1-1 Service clinically justified based on clinical practice guideline, without additional supporting diagnosis additiona...',\n 'BE-1-3 Submission not compliant with contractual agreement between provider & payer BE-1-1 Co-pay was collected from member AD-2-4 Duplicate service/procedure code based on the date Service Price Is Not Billed As Per Agreement',\n 'BE-1-3 Submission not compliant with contractual agreement between provider & payer BE-1-1 Co-pay was collected from member BE-1-6 Calculation discrepancy',\n 'BE-1-3 Submission not compliant with contractual agreement between provider & payer BE-1-1 Co-pay was collected from member MN-1-1 Service is clinically justified based on clinical practice guideline, without additional supporting diagnosis BE-1-6 Calculation discrepancy',\n 'BE-1-3 Submission not compliant with contractual agreement between provider & payer BE-1-5 Claim information is inconsistent preauthorized services MN-1-1 Service clinically justified based on clinical practice guideline, without additional supporting diagnosis CV-1-4 Service/procedure covered AD-3-3 Room and food are included in room board expenses services The claim adjusted as per the agreed tariff',\n 'BE-1-3 Submission not compliant with contractual agreement between provider & payer BE-1-6 Calculation discrepancy',\n 'BE-1-3 Submission not compliant with contractual agreement between provider & payer BE-1-6 Calculation discrepancy BE-1-1 Co-pay was collected from member',\n 'BE-1-3 Submission not compliant with contractual agreement between provider & payer BE-1-6 Calculation discrepancy BE-1-4 Preauthorization is required and was obtained SE-1-6 Investigation result inadequate or missing CV-4-9 Service/procedure/device/medication included within another service/procedure',\n 'BE-1-3 Submission not compliant with contractual agreement between provider & payer BE-1-6 Calculation discrepancy Billed service code is part of the agreed pricelist',\n 'BE-1-3 Submission not compliant with contractual agreement between provider & payer BE-1-6 Calculation discrepancy CV-4-9 Service/procedure/device/medication was included within another service/procedure SE-1-6 Investigation result is inadequate or missing Service/procedure/device/med...',\n 'BE-1-3 Submission not compliant with contractual agreement between provider & payer BE-1-6 Calculation discrepancy MANUAL',\n 'BE-1-3 Submission not compliant with contractual agreement between provider & payer BE-1-6 Calculation discrepancy MN-1-1 Service is clinically justified based on clinical practice guideline, without additional supporting diagnosis',\n 'BE-1-3 Submission not compliant with contractual agreement between provider & payer BE-1-6 Calculation discrepancy provide...',\n 'BE-1-3 Submission not compliant with contractual agreement between provider & payer Billed service code is out of validity as per the agreed pricelist',\n 'BE-1-3 Submission not compliant with contractual agreement between provider & payer Billed service code is part of the agreed pricelist',\n 'BE-1-3 Submission not compliant with contractual agreement between provider & payer CV-4-9 Service/procedure/device/medication was included within another service/procedure BE-1-6 Calculation discrepancy SE-1-6 Investigation result is inadequate or missing discrepancy...',\n 'BE-1-3 Submission not compliant with contractual agreement between provider & payer CV-4-9 Service/procedure/device/medication was included within another service/procedure SE-1-6 Investigation result is inadequate or missing SE-1-8 Treatment plan BE-1-6 Calculation discrepancy o...',\n 'BE-1-3 Submission not compliant with contractual agreement between provider & payer Discount Calculated Is Different From The Agreed Upon',\n 'BE-1-3 Submission not compliant with contractual agreement between provider & payer MN-1-1 Service is clinically justified based on clinical practice guideline, without additional supporting diagnosis',\n 'BE-1-3 Submission not compliant with contractual agreement between provider & payer MN-1-1 Service is clinically justified based on clinical practice guideline, without additional supporting diagnosis AD-3-2 Use bundled code CV-4-1 Inappropriate medication dose Service/supply may be appropriate, but too frequent payer Billed service part of the agreed pricelist',\n 'BE-1-3 Submission not compliant with contractual agreement between provider & payer MN-1-1 Service is clinically justified based on clinical practice guideline, without additional supporting diagnosis BE-1-1 Co-pay was collected from member BE-1-6 Calculation discrepancy',\n 'BE-1-3 Submission not compliant with contractual agreement between provider & payer MN-1-1 Service is clinically justified based on clinical practice guideline, without additional supporting diagnosis BE-1-6 Calculation discrepancy',\n 'BE-1-3 Submission not compliant with contractual agreement between provider & payer MN-1-1 Service is clinically justified based on clinical practice guideline, without additional supporting diagnosis Billed service code out of validity as per the agreed pricelist',\n 'BE-1-3 Submission not compliant with contractual agreement between provider & payer MN-1-1 Service is clinically justified based on clinical practice guideline, without additional supporting diagnosis Billed service code part of the agreed pricelist',\n 'BE-1-3 Submission not compliant with contractual agreement between provider & payer MN-1-1 Service is clinically justified based on clinical practice guideline, without additional supporting diagnosis CV-1-4 Service/procedure covered BE-1-5 Claim information inconsistent preauthorized services AD-3-3 Room and food are included in room board expenses payer The claim adjusted as per the agreed tariff',\n 'BE-1-3 Submission not compliant with contractual agreement between provider & payer MN-1-1 Service is clinically justified based on clinical practice guideline, without additional supporting diagnosis SUBMITTED AS RELATED TO Inapropriate approval s 2024 1158255 Already linked to batch 202403030611',\n 'BE-1-3 Submission not compliant with contractual agreement between provider & payer MN-1-1 Service is clinically justified based on clinical practice guideline, without additional supporting diagnosis Service/supply may be appropriate, but too frequent AD-3-2 Use bundled code payer Billed service part of the agreed pricelist',\n 'BE-1-3 Submission not compliant with contractual agreement between provider & payer MN-1-1 Service is clinically justified based on clinical practice guideline, without additional supporting diagnosis diagnosis Billed service code part of the agreed pricelist',\n 'BE-1-3 Submission not compliant with contractual agreement between provider & payer SE-1-6 Investigation result is inadequate or missing BE-1-6 Calculation discrepancy MN-1-1 Service clinically justified based on clinical practice guideline, without additional supporting diagnosis missing SUBMITTED AS RELATED TO Inapropriate approval s 2024 1279211 Already linked to batch 202403042073',\n 'BE-1-3 Submission not compliant with contractual agreement between provider & payer SE-1-6 Investigation result is inadequate or missing resul...',\n 'BE-1-3 Submission not compliant with contractual agreement between provider & payer SE-1-9 Quantity of service/procedure is inappropriate or missing is...',\n 'BE-1-3 Submission not compliant with contractual agreement between provider & payer SUBMITTED AS RELATED TO Inapropriate approval s 2024 673704 Already linked to batch 202402051588',\n 'BE-1-3 Submission not compliant with contractual agreement between provider & payer Service Price Is Not Billed As Per Agreement',\n 'BE-1-3 Submission not compliant with contractual agreement between provider & payer Wrong Vat Applied',\n 'BE-1-3 Submission not compliant with contractual agreement between provider & payer payer Billed service code is out of validity as per the agreed pricelist',\n 'BE-1-3 Submission not compliant with contractual agreement between provider & payer payer Billed service code is part of the agreed pricelist',\n 'BE-1-3 Submission not compliant with contractual agreement between provider & payer payer MANUAL',\n 'BE-1-3 Submission not compliant with contractual agreement between provider & payer payer Physiotherapy Inconsistency or Deficiencies',\n 'BE-1-3 Submission not compliant with contractual agreement between provider & payer payer Service Price Is Not Billed As Per Agreement',\n 'BE-1-4 Preauthorization is required and was not obtained',\n 'BE-1-4 Preauthorization is required and was not obtained Already rejected Cancelled at preauthorization',\n 'BE-1-4 Preauthorization is required and was not obtained BE-1-3 Submission compliant with contractual agreement between provider & payer',\n 'BE-1-4 Preauthorization is required and was not obtained BE-1-3 Submission compliant with contractual agreement between provider & payer Already rejected Cancelled at preauthorization',\n 'BE-1-4 Preauthorization is required and was not obtained BE-1-7 Incorrect billing regime regime Partial Approved',\n 'BE-1-4 Preauthorization is required and was not obtained CV-1-8 Annual limit/sublimit amount exceeded Partial Approved',\n 'BE-1-4 Preauthorization is required and was not obtained CV-3-1 Benefit maximum for this time period or occurrence has been reached Not part of the preauthorization request',\n 'BE-1-4 Preauthorization is required and was not obtained Dental service pre authorized',\n 'BE-1-4 Preauthorization is required and was not obtained MN-1-1 Service clinically justified based on clinical practice guideline, without additional supporting diagnosis guidelin...',\n 'BE-1-4 Preauthorization is required and was not obtained Not part of the preauthorization request',\n 'BE-1-4 Preauthorization is required and was not obtained Rejected',\n 'BE-1-4 Preauthorization is required and was not obtained Requires preauthorization as per policy',\n 'BE-1-4 Preauthorization is required and was not obtained obtained Already rejected Cancelled at preauthorization',\n 'BE-1-4 Preauthorization is required and was not obtained obtained Dental service pre authorized',\n 'BE-1-4 Preauthorization is required and was not obtained obtained Not part of the preauthorization request',\n 'BE-1-4 Preauthorization is required and was not obtained obtained Rejected',\n 'BE-1-4 Preauthorization is required and was not obtained obtained SUBMITTED AS RELATED TO Inapropriate approval s 2024 1262056 Already linked to batch 202403040253',\n 'BE-1-4 Preauthorization is required and was not obtained obtained Service Claim requires prior notification or approval ID submitted as per MDS Policy',\n 'BE-1-5 Claim information is inconsistent with preauthorized services preaut...',\n 'BE-1-5 Claim information is inconsistent with preauthorized services services The claim rejected because of missing documents',\n 'BE-1-6 Calculation discrepancy',\n 'BE-1-6 Calculation discrepancy BE-1-1 Co-pay was not collected from member',\n 'BE-1-6 Calculation discrepancy BE-1-1 Co-pay was not collected from member AD-1-7 Service/procedure is inconsistent with encounter type',\n 'BE-1-6 Calculation discrepancy BE-1-1 Co-pay was not collected from member MN-1-1 Service is clinically justified based on clinical practice guideline, without additional supporting diagnosis',\n 'BE-1-6 Calculation discrepancy BE-1-1 Co-pay was not collected from member MN-1-1 Service is clinically justified based on clinical practice guideline, without additional supporting diagnosis SUBMITTED AS RELATED TO Invalid approval s 0',\n 'BE-1-6 Calculation discrepancy BE-1-3 Submission not compliant with contractual agreement between provider & payer',\n 'BE-1-6 Calculation discrepancy BE-1-3 Submission not compliant with contractual agreement between provider & payer BE-1-1 Co-pay was collected from member',\n 'BE-1-6 Calculation discrepancy BE-1-3 Submission not compliant with contractual agreement between provider & payer BE-1-1 Co-pay was collected from member MN-1-1 Service is clinically justified based on clinical practice guideline, without additional supporting diagnosis',\n 'BE-1-6 Calculation discrepancy BE-1-3 Submission not compliant with contractual agreement between provider & payer MN-1-1 Service is clinically justified based on clinical practice guideline, without additional supporting diagnosis',\n 'BE-1-6 Calculation discrepancy BE-1-3 Submission not compliant with contractual agreement between provider & payer MN-1-1 Service is clinically justified based on clinical practice guideline, without additional supporting diagnosis AD-2-4 Duplicate service/procedure code the date BE-1-1 Co-pay was collected from member',\n 'BE-1-6 Calculation discrepancy BE-1-3 Submission not compliant with contractual agreement between provider & payer MN-1-1 Service is clinically justified based on clinical practice guideline, without additional supporting diagnosis BE-1-1 Co-pay was collected from member',\n 'BE-1-6 Calculation discrepancy BE-1-4 Preauthorization is required and was not obtained BE-1-3 Submission compliant with contractual agreement between provider & payer obtained Billed above agreed prices',\n 'BE-1-6 Calculation discrepancy Billed above contractual agreed prices',\n 'BE-1-6 Calculation discrepancy MN-1-1 Service is not clinically justified based on clinical practice guideline, without additional supporting diagnosis',\n 'BE-1-6 Calculation discrepancy MN-1-1 Service is not clinically justified based on clinical practice guideline, without additional supporting diagnosis BE-1-1 Co-pay was collected from member',\n 'BE-1-6 Calculation discrepancy MN-1-1 Service is not clinically justified based on clinical practice guideline, without additional supporting diagnosis BE-1-3 Submission compliant with contractual agreement between provider & payer BE-1-1 Co-pay was collected from member',\n 'BE-1-6 Calculation discrepancy MN-1-1 Service is not clinically justified based on clinical practice guideline, without additional supporting diagnosis Billed above contractual agreed prices',\n 'BE-1-6 Calculation discrepancy MN-1-1 Service is not clinically justified based on clinical practice guideline, without additional supporting diagnosis SUBMITTED AS RELATED TO Inapropriate approval s 2024 404658 Already linked to batch 202402260289',\n 'BE-1-6 Calculation discrepancy SE-1-6 Investigation result is inadequate or missing BE-1-1 Co-pay was not collected from member',\n 'BE-1-6 Calculation discrepancy SUBMITTED AS RELATED TO Inapropriate approval s 2024 1742662 Already linked to batch 202403241271',\n 'BE-1-7 Incorrect billing regime',\n 'BE-1-7 Incorrect billing regime AD-1-6 Service/procedure is inconsistent with clinician specialty MN-1-1 Service not clinically justified based on clinical practice guideline, without additional supporting diagnosis',\n 'BE-1-7 Incorrect billing regime BE-1-1 Co-pay was not collected from member BE-1-4 Preauthorization is required and obtained Partial Approved',\n 'BE-1-7 Incorrect billing regime BE-1-1 Co-pay was not collected from member MN-1-1 Service is clinically justified based on clinical practice guideline, without additional supporting diagnosis member Partial Approved',\n 'BE-1-7 Incorrect billing regime BE-1-1 Co-pay was not collected from member Partial Approved',\n 'BE-1-7 Incorrect billing regime BE-1-1 Co-pay was not collected from member regime Partial Approved',\n 'BE-1-7 Incorrect billing regime BE-1-3 Submission not compliant with contractual agreement between provider & payer BE-1-6 Calculation discrepancy MN-1-1 Service is clinically justified based on clinical practice guideline, without additional supporting diagnosis',\n 'BE-1-7 Incorrect billing regime BE-1-4 Preauthorization is required and was not obtained Partial Approved',\n 'BE-1-7 Incorrect billing regime BE-1-6 Calculation discrepancy WRONG BENEFIT',\n 'BE-1-7 Incorrect billing regime CV-1-8 Annual limit/sublimit amount exceeded MN-1-1 Service is not clinically justified based on clinical practice guideline, without additional supporting diagnosis',\n 'BE-1-7 Incorrect billing regime CV-4-7 Device is not consistent with the service/procedure',\n 'BE-1-7 Incorrect billing regime CV-4-7 Device is not consistent with the service/procedure MN-1-1 Service clinically justified based on clinical practice guideline, without additional supporting diagnosis',\n 'BE-1-7 Incorrect billing regime MN-1-1 Service is not clinically justified based on clinical practice guideline, without additional supporting diagnosis',\n 'BE-1-7 Incorrect billing regime MN-1-1 Service is not clinically justified based on clinical practice guideline, without additional supporting diagnosis BE-1-1 Co-pay was collected from member Partial Approved',\n 'BE-1-7 Incorrect billing regime MN-1-1 Service is not clinically justified based on clinical practice guideline, without additional supporting diagnosis CV-4-7 Device consistent with the service/procedure',\n 'BE-1-7 Incorrect billing regime MN-1-1 Service is not clinically justified based on clinical practice guideline, without additional supporting diagnosis Partial Approved',\n 'BE-1-7 Incorrect billing regime MN-1-1 Service is not clinically justified based on clinical practice guideline, without additional supporting diagnosis regime Partial Approved',\n 'BE-1-7 Incorrect billing regime Partial Approved',\n 'BE-1-7 Incorrect billing regime regime Partial Approved',\n 'Benefit not covered Before age effective date head doesn t fall under member s benefit',\n 'Billed above contractual agreed prices',\n 'Billed service code is not part of the agreed pricelist',\n 'CV-1-1 Provider is out of beneficiary network MN-1-1 Service not clinically justified based on clinical practice guideline, without additional supporting diagnosis AD-2-4 Duplicate service/procedure code the date Rejected',\n 'CV-1-1 Provider is out of beneficiary network MN-1-1 Service not clinically justified based on clinical practice guideline, without additional supporting diagnosis Rejected',\n 'CV-1-1 Provider is out of beneficiary network MN-1-1 Service not clinically justified based on clinical practice guideline, without additional supporting diagnosis Your facility was assigned for the member class date service',\n 'CV-1-1 Provider is out of beneficiary network MN-1-1 Service not clinically justified based on clinical practice guideline, without additional supporting diagnosis network Your facility was assigned for the member class date service',\n 'CV-1-1 Provider is out of beneficiary network Rejected',\n 'CV-1-1 Provider is out of beneficiary network Rejected for the reason Sorry you are not an appointed provider',\n 'CV-1-1 Provider is out of beneficiary network Your facility was not assigned for the member class on date service',\n 'CV-1-1 Provider is out of beneficiary network ne...',\n 'CV-1-1 Provider is out of beneficiary network network Your facility was not assigned for the member class on date service',\n 'CV-1-1 Services performed by a non network provider',\n 'CV-1-1 Services performed by a non-network provider are not covered.',\n 'CV-1-2 Provider is not eligible for the service',\n 'CV-1-3 Diagnosis is not covered',\n 'CV-1-3 Diagnosis is not covered Benefit covered Before age effective date Benefit head doesn t fall under member s benefit',\n 'CV-1-3 Diagnosis is not covered covered Benefit Before age effective date Benefit head doesn t fall under member s benefit',\n 'CV-1-3 Diagnosis is not covered covered Diagnosis es are',\n 'CV-1-3 Diagnosis is not covered covered2 Contraceptive management unspecified Not Covered',\n 'CV-1-3 Diagnosis is not covered covered2 Follow up exam after surg for oth cond Not Covered',\n 'CV-1-3 Diagnosis is not covered covered2 Need immunis agnst cmb of infectious dis Not Covered for this age',\n 'CV-1-3 Diagnosis is not covered covered2 Psychol beh factors ass w disrd dis cl e Not Covered',\n 'CV-1-4 Diagnosis(es) is (are) not covered Not covered by the effective insurance policy condition service',\n 'CV-1-4 Diagnosis(es) is (are) not covered covered Not by the effective insurance policy condition service Within waiting period',\n 'CV-1-4 Service/procedure is not covered',\n 'CV-1-4 Service/procedure is not covered BE-1-3 Submission compliant with contractual agreement between provider & payer MN-1-1 Service clinically justified based on clinical practice guideline, without additional supporting diagnosis payer The claim rejected because the Prior Approval was secured From regulator risk carrier TPA etc',\n 'CV-1-4 Service/procedure is not covered BE-1-7 Incorrect billing regime Partial Approved',\n 'CV-1-4 Service/procedure is not covered MN-1-1 Service clinically justified based on clinical practice guideline, without additional supporting diagnosis covered The claim rejected because the Prior Approval was secured From regulator risk carrier TPA etc',\n 'CV-1-4 Service/procedure is not covered Partial Approved',\n 'CV-1-4 Service/procedure is not covered Service/pro...',\n 'CV-1-8 Annual limit/sublimit amount exceeded 2024 1153786 AS PER POLICY',\n 'CV-1-9 Consultation is within 14-day follow up period',\n 'CV-1-9 Consultation is within 14-day follow up period Consultation the free period',\n 'CV-3-1 Benefit maximum for this time period or occurrence has been reached Benefit exhausted at benefit type level',\n 'CV-3-2 Service/procedure may be appropriate, but too frequent',\n 'CV-3-2 Service/procedure may be appropriate, but too frequent CV-1-8 Annual limit/sublimit amount exceeded',\n 'CV-3-2 Service/procedure may be appropriate, but too frequent CV-4-7 Device is not consistent with the service/procedure',\n 'CV-3-2 Service/procedure may be appropriate, but too frequent CV-4-7 Device is not consistent with the service/procedure BE-1-7 Incorrect billing regime MN-1-1 Service clinically justified based on clinical practice guideline, without additional supporting diagnosis',\n 'CV-3-2 Service/procedure may be appropriate, but too frequent CV-4-8 Refill soon',\n 'CV-3-2 Service/procedure may be appropriate, but too frequent MN-1-1 Service is not clinically justified based on clinical practice guideline, without additional supporting diagnosis CV-4-3 Authorization quantity exceeds prescription BE-1-7 Incorrect billing regime',\n 'CV-3-5 Service/procedure is above Saudi Riyals threshold per policy BE-1-1 Co-pay was not collected from member AD-2-4 Duplicate service/procedure code based on the date date The Item Exceeds The Maximum Quantity Allowed Per Transaction Dispensing Full Amount Requires A Prior Approval',\n 'CV-4-3 Authorization quantity exceeds prescription',\n 'CV-4-3 Authorization quantity exceeds prescription CV-3-2 Service/procedure may be appropriate, but too frequent BE-1-7 Incorrect billing regime CV-4-8 Refill soon MN-1-1 Service is not clinically justified based on clinical practice guideline, without additional supporting diagnosis Authorizatio...',\n \"CV-4-3 Authorization quantity exceeds prescription CV-4-7 Device is not consistent with the service/procedure AD-3-7 Service/procedure inconsistent patient's age MN-1-1 Service clinically justified based on clinical practice guideline, without additional supporting diagnosis\",\n 'CV-4-3 Authorization quantity exceeds prescription CV-4-7 Device is not consistent with the service/procedure BE-1-7 Incorrect billing regime MN-1-1 Service clinically justified based on clinical practice guideline, without additional supporting diagnosis support...',\n 'CV-4-3 Authorization quantity exceeds prescription CV-4-7 Device is not consistent with the service/procedure MN-1-1 Service clinically justified based on clinical practice guideline, without additional supporting diagnosis BE-1-7 Incorrect billing regime guideline...',\n 'CV-4-3 Authorization quantity exceeds prescription CV-4-7 Device is not consistent with the service/procedure MN-1-1 Service clinically justified based on clinical practice guideline, without additional supporting diagnosis exc...',\n 'CV-4-3 Authorization quantity exceeds prescription CV-4-8 Refill too soon MN-1-1 Service is not clinically justified based on clinical practice guideline, without additional supporting diagnosis Authorizatio...',\n 'CV-4-3 Authorization quantity exceeds prescription MN-1-1 Service is not clinically justified based on clinical practice guideline, without additional supporting diagnosis BE-1-7 Incorrect billing regime',\n 'CV-4-3 Authorization quantity exceeds prescription MN-1-1 Service is not clinically justified based on clinical practice guideline, without additional supporting diagnosis BE-1-7 Incorrect billing regime no...',\n 'CV-4-3 Authorization quantity exceeds prescription MN-1-1 Service is not clinically justified based on clinical practice guideline, without additional supporting diagnosis q...',\n 'CV-4-7 Device is not consistent with the service/procedure',\n 'CV-4-7 Device is not consistent with the service/procedure BE-1-4 Preauthorization required and was obtained MN-1-1 Service clinically justified based on clinical practice guideline, without additional supporting diagnosis',\n 'CV-4-7 Device is not consistent with the service/procedure BE-1-7 Incorrect billing regime',\n 'CV-4-7 Device is not consistent with the service/procedure BE-1-7 Incorrect billing regime MN-1-1 Service clinically justified based on clinical practice guideline, without additional supporting diagnosis',\n 'CV-4-7 Device is not consistent with the service/procedure CV-3-2 Service/procedure may be appropriate, but too frequent',\n 'CV-4-7 Device is not consistent with the service/procedure CV-3-2 Service/procedure may be appropriate, but too frequent BE-1-7 Incorrect billing regime',\n 'CV-4-7 Device is not consistent with the service/procedure CV-4-8 Refill too soon BE-1-7 Incorrect billing regime',\n 'CV-4-7 Device is not consistent with the service/procedure MN-1-1 Service clinically justified based on clinical practice guideline, without additional supporting diagnosis',\n 'CV-4-7 Device is not consistent with the service/procedure MN-1-1 Service clinically justified based on clinical practice guideline, without additional supporting diagnosis BE-1-7 Incorrect billing regime',\n 'CV-4-7 Device is not consistent with the service/procedure MN-1-1 Service clinically justified based on clinical practice guideline, without additional supporting diagnosis CV-3-2 Service/procedure may be appropriate, but too frequent',\n 'CV-4-8 Refill too soon',\n 'CV-4-9 Service/procedure/device/medication was included within another service/procedure',\n 'Cannot Get Provider Tariff Ora20001 Default Provider Country966 Soap A Direct0 Contract37051669 Coverage Ot4274 Date08012024',\n 'Charges Service included,bundled or part of billed PD Per diem RATES',\n 'Charges service included,bundled or part of billed procedure, consultation management',\n 'Dental service not pre authorized',\n 'Diagnosis es is are not covered',\n 'Discount Calculated Is Different From The Agreed Upon',\n 'Domperidone Maleate Oral Tablet 10 Mg And Ciprofloxacin Hcl 750 May Interact Based On The Potential Interaction Between Qt Prolonging Agents',\n 'Drug Requires Prior Approval Due To Duplication Of Therapy',\n 'Duplicate Repeated billing Finally settled',\n 'Early as per given data condition',\n 'F U exam after oth Rx for cond Not Covered',\n 'Follow Up Consultation Same Complaint',\n 'Follow up exam after surg for oth cond Not Covered',\n 'Fraud',\n 'MANUAL',\n 'MN-1-1 Service is not clinically justified based on clinical practice guideline, without additional supporting diagnosis',\n 'MN-1-1 Service is not clinically justified based on clinical practice guideline, without additional supporting diagnosis AD-1-6 Service/procedure inconsistent with clinician specialty',\n 'MN-1-1 Service is not clinically justified based on clinical practice guideline, without additional supporting diagnosis AD-1-7 Service/procedure inconsistent with encounter type',\n 'MN-1-1 Service is not clinically justified based on clinical practice guideline, without additional supporting diagnosis BE-1-1 Co-pay was collected from member',\n 'MN-1-1 Service is not clinically justified based on clinical practice guideline, without additional supporting diagnosis BE-1-1 Co-pay was collected from member AD-1-7 Service/procedure inconsistent with encounter type SUBMITTED AS RELATED TO Invalid approval s 0',\n 'MN-1-1 Service is not clinically justified based on clinical practice guideline, without additional supporting diagnosis BE-1-1 Co-pay was collected from member BE-1-3 Submission compliant with contractual agreement between provider & payer member The Item Service Is Rejected Because It Not Considered As Medically Necessary',\n 'MN-1-1 Service is not clinically justified based on clinical practice guideline, without additional supporting diagnosis BE-1-1 Co-pay was collected from member BE-1-6 Calculation discrepancy',\n 'MN-1-1 Service is not clinically justified based on clinical practice guideline, without additional supporting diagnosis BE-1-1 Co-pay was collected from member BE-1-6 Calculation discrepancy member SUBMITTED AS RELATED TO Invalid approval s 0',\n 'MN-1-1 Service is not clinically justified based on clinical practice guideline, without additional supporting diagnosis BE-1-1 Co-pay was collected from member BE-1-7 Incorrect billing regime AD-2-4 Duplicate service/procedure code the date Partial Approved',\n 'MN-1-1 Service is not clinically justified based on clinical practice guideline, without additional supporting diagnosis BE-1-1 Co-pay was collected from member Partial Approved',\n 'MN-1-1 Service is not clinically justified based on clinical practice guideline, without additional supporting diagnosis BE-1-1 Co-pay was collected from member SUBMITTED AS RELATED TO Inapropriate approval s 2024 724209 Already linked to batch 202402261267',\n 'MN-1-1 Service is not clinically justified based on clinical practice guideline, without additional supporting diagnosis BE-1-1 Co-pay was collected from member member Partial Approved',\n 'MN-1-1 Service is not clinically justified based on clinical practice guideline, without additional supporting diagnosis BE-1-1 Co-pay was collected from member member SUBMITTED AS RELATED TO Inapropriate approval s 2024 1204109 Already linked to batch 202402261267',\n 'MN-1-1 Service is not clinically justified based on clinical practice guideline, without additional supporting diagnosis BE-1-1 Co-pay was collected from member member SUBMITTED AS RELATED TO Invalid approval s 0',\n 'MN-1-1 Service is not clinically justified based on clinical practice guideline, without additional supporting diagnosis BE-1-3 Submission compliant with contractual agreement between provider & payer',\n 'MN-1-1 Service is not clinically justified based on clinical practice guideline, without additional supporting diagnosis BE-1-3 Submission compliant with contractual agreement between provider & payer BE-1-1 Co-pay was collected from member',\n 'MN-1-1 Service is not clinically justified based on clinical practice guideline, without additional supporting diagnosis BE-1-3 Submission compliant with contractual agreement between provider & payer BE-1-1 Co-pay was collected from member AD-2-4 Duplicate service/procedure code the date payer The Item Service Is Rejected Because It Not Considered As Medically Necessary',\n 'MN-1-1 Service is not clinically justified based on clinical practice guideline, without additional supporting diagnosis BE-1-3 Submission compliant with contractual agreement between provider & payer BE-1-6 Calculation discrepancy BE-1-1 Co-pay was collected from member',\n 'MN-1-1 Service is not clinically justified based on clinical practice guideline, without additional supporting diagnosis BE-1-3 Submission compliant with contractual agreement between provider & payer CV-1-4 Service/procedure covered The itemservice rejected because it considered as medically necessary',\n 'MN-1-1 Service is not clinically justified based on clinical practice guideline, without additional supporting diagnosis BE-1-3 Submission compliant with contractual agreement between provider & payer Early as per given data condition',\n 'MN-1-1 Service is not clinically justified based on clinical practice guideline, without additional supporting diagnosis BE-1-3 Submission compliant with contractual agreement between provider & payer SUBMITTED AS RELATED TO Invalid approval s 0',\n 'MN-1-1 Service is not clinically justified based on clinical practice guideline, without additional supporting diagnosis BE-1-3 Submission compliant with contractual agreement between provider & payer The Drug Is Rejected Because It Not Considered As Medically Necessary',\n 'MN-1-1 Service is not clinically justified based on clinical practice guideline, without additional supporting diagnosis BE-1-3 Submission compliant with contractual agreement between provider & payer diagnosis Early as per given data condition',\n 'MN-1-1 Service is not clinically justified based on clinical practice guideline, without additional supporting diagnosis BE-1-3 Submission compliant with contractual agreement between provider & payer payer Early as per given data condition',\n 'MN-1-1 Service is not clinically justified based on clinical practice guideline, without additional supporting diagnosis BE-1-4 Preauthorization required and was obtained BE-1-3 Submission compliant with contractual agreement between provider & payer obtained Early as per given data condition',\n 'MN-1-1 Service is not clinically justified based on clinical practice guideline, without additional supporting diagnosis BE-1-6 Calculation discrepancy',\n 'MN-1-1 Service is not clinically justified based on clinical practice guideline, without additional supporting diagnosis BE-1-6 Calculation discrepancy AD-2-4 Duplicate service/procedure code the date',\n 'MN-1-1 Service is not clinically justified based on clinical practice guideline, without additional supporting diagnosis BE-1-6 Calculation discrepancy BE-1-1 Co-pay was collected from member',\n 'MN-1-1 Service is not clinically justified based on clinical practice guideline, without additional supporting diagnosis BE-1-6 Calculation discrepancy BE-1-3 Submission compliant with contractual agreement between provider & payer BE-1-1 Co-pay was collected from member member SUBMITTED AS RELATED TO Invalid approval s 0',\n 'MN-1-1 Service is not clinically justified based on clinical practice guideline, without additional supporting diagnosis BE-1-7 Incorrect billing regime',\n 'MN-1-1 Service is not clinically justified based on clinical practice guideline, without additional supporting diagnosis BE-1-7 Incorrect billing regime BE-1-1 Co-pay was collected from member Partial Approved',\n 'MN-1-1 Service is not clinically justified based on clinical practice guideline, without additional supporting diagnosis BE-1-7 Incorrect billing regime CV-4-7 Device consistent with the service/procedure',\n 'MN-1-1 Service is not clinically justified based on clinical practice guideline, without additional supporting diagnosis BE-1-7 Incorrect billing regime Partial Approved',\n 'MN-1-1 Service is not clinically justified based on clinical practice guideline, without additional supporting diagnosis BE-1-7 Incorrect billing regime regime Partial Approved',\n 'MN-1-1 Service is not clinically justified based on clinical practice guideline, without additional supporting diagnosis CV-1-1 Provider out of beneficiary network Rejected',\n 'MN-1-1 Service is not clinically justified based on clinical practice guideline, without additional supporting diagnosis CV-1-4 Diagnosis(es) (are) covered Early as per given data condition',\n 'MN-1-1 Service is not clinically justified based on clinical practice guideline, without additional supporting diagnosis CV-1-4 Service/procedure covered Partial Approved',\n 'MN-1-1 Service is not clinically justified based on clinical practice guideline, without additional supporting diagnosis CV-3-2 Service/procedure may be appropriate, but too frequent',\n 'MN-1-1 Service is not clinically justified based on clinical practice guideline, without additional supporting diagnosis CV-3-2 Service/procedure may be appropriate, but too frequent F U exam after oth Rx for cond Not Covered',\n 'MN-1-1 Service is not clinically justified based on clinical practice guideline, without additional supporting diagnosis CV-4-7 Device consistent with the service/procedure',\n \"MN-1-1 Service is not clinically justified based on clinical practice guideline, without additional supporting diagnosis CV-4-7 Device consistent with the service/procedure AD-3-7 Service/procedure inconsistent patient's age CV-4-3 Authorization quantity exceeds prescription guidel...\",\n 'MN-1-1 Service is not clinically justified based on clinical practice guideline, without additional supporting diagnosis CV-4-7 Device consistent with the service/procedure BE-1-7 Incorrect billing regime',\n 'MN-1-1 Service is not clinically justified based on clinical practice guideline, without additional supporting diagnosis CV-4-7 Device consistent with the service/procedure CV-3-2 Service/procedure may be appropriate, but too frequent',\n 'MN-1-1 Service is not clinically justified based on clinical practice guideline, without additional supporting diagnosis CV-4-8 Refill too soon',\n 'MN-1-1 Service is not clinically justified based on clinical practice guideline, without additional supporting diagnosis Early as per given data condition',\n 'MN-1-1 Service is not clinically justified based on clinical practice guideline, without additional supporting diagnosis No indication as per data provided',\n 'MN-1-1 Service is not clinically justified based on clinical practice guideline, without additional supporting diagnosis Partial Approved',\n 'MN-1-1 Service is not clinically justified based on clinical practice guideline, without additional supporting diagnosis Routine monitoring screening completed by other service test done approved best evidence',\n 'MN-1-1 Service is not clinically justified based on clinical practice guideline, without additional supporting diagnosis SE-1-6 Investigation result inadequate or missing diagnosis Early as per given data condition',\n 'MN-1-1 Service is not clinically justified based on clinical practice guideline, without additional supporting diagnosis SUBMITTED AS RELATED TO Inapropriate approval s 2024 665724 Already linked to batch 202402261267',\n 'MN-1-1 Service is not clinically justified based on clinical practice guideline, without additional supporting diagnosis SUBMITTED AS RELATED TO Inapropriate approval s 2024 778867 Already linked to batch 202402261267',\n 'MN-1-1 Service is not clinically justified based on clinical practice guideline, without additional supporting diagnosis SUBMITTED AS RELATED TO Inapropriate approval s 2024 832115 Already linked to batch 202402260289',\n 'MN-1-1 Service is not clinically justified based on clinical practice guideline, without additional supporting diagnosis SUBMITTED AS RELATED TO Inapropriate approval s 2024 855443 Already linked to batch 202402261267',\n 'MN-1-1 Service is not clinically justified based on clinical practice guideline, without additional supporting diagnosis SUBMITTED AS RELATED TO Inapropriate approval s 2024 891644 Already linked to batch 202402261267',\n 'MN-1-1 Service is not clinically justified based on clinical practice guideline, without additional supporting diagnosis SUBMITTED AS RELATED TO Inapropriate approval s 2024 941757 Already linked to batch 202402260289',\n 'MN-1-1 Service is not clinically justified based on clinical practice guideline, without additional supporting diagnosis The Item Service Is Rejected Because It Not Considered As Medically Necessary',\n 'MN-1-1 Service is not clinically justified based on clinical practice guideline, without additional supporting diagnosis diagnosis Early as per given data condition',\n 'MN-1-1 Service is not clinically justified based on clinical practice guideline, without additional supporting diagnosis diagnosis Routine monitoring screening completed by other service test done approved best evidence',\n 'Max Qty Approved By Globemed Saudi',\n 'No indication as per data provided',\n 'No proof supporting document of billed services',\n 'Non compliance with the agreed submission protocol requirements',\n 'None',\n 'Not part of the preauthorization request',\n 'Partial Approved',\n 'Physiotherapy Inconsistency or Deficiencies',\n 'Rejected',\n 'Rejected for the reason Sorry you are not an appointed provider',\n 'Routine monitoring screening completed by other service test done approved best evidence',\n 'SE-1-2 History of present illness is inadequate or missing',\n 'SE-1-6 Investigation result is inadequate or missing',\n 'SE-1-6 Investigation result is inadequate or missing BE-1-1 Co-pay was not collected from member missing2024 1229388',\n 'SE-1-6 Investigation result is inadequate or missing BE-1-3 Submission not compliant with contractual agreement between provider & payer BE-1-6 Calculation discrepancy No proof supporting document of billed services',\n 'SE-1-6 Investigation result is inadequate or missing BE-1-3 Submission not compliant with contractual agreement between provider & payer m...',\n 'SE-1-6 Investigation result is inadequate or missing MN-1-1 Service not clinically justified based on clinical practice guideline, without additional supporting diagnosis BE-1-7 Incorrect billing regime BE-1-3 Submission compliant with contractual agreement between provider & payer CV-1-4 Service/procedure covered BE-1-4 Preauthorization required and was obtained Partial Approved',\n 'SE-1-6 Investigation result is inadequate or missing MN-1-1 Service not clinically justified based on clinical practice guideline, without additional supporting diagnosis diagnosis No proof document of billed services',\n 'SE-1-6 Investigation result is inadequate or missing No proof supporting document of billed services',\n 'SE-1-6 Investigation result is inadequate or missing Rejected',\n 'SE-1-6 Investigation result is inadequate or missing missing Rejected',\n 'SE-1-6 Investigation result is inadequate or missing missingno medical report and discharge summary attached se 1 6',\n 'SE-1-6 Investigation result is inadequate or missing or...',\n 'SE-1-6 Investigation result is inadequate or missing2024 1143576',\n 'SE-1-6 Investigation result is inadequate or missing2024 1153194',\n 'SE-1-6 Investigation result is inadequate or missing2024 1225455 2024 1228350',\n 'SE-1-6 Investigation result is inadequate or missing2024 1277588',\n 'SE-1-6 Investigation result is inadequate or missing2024 657402',\n 'SE-1-6 Investigation result is inadequate or missingno medical report and discharge summary attached se 1 6',\n 'SE-1-8 Treatment plan is inadequate or missing BE-1-3 Submission not compliant with contractual agreement between provider & payer missingmissing OR notes discharge summary',\n 'SE-1-9 Quantity of service/procedure is inappropriate or missing',\n 'SE-1-9 Quantity of service/procedure is inappropriate or missing SE-1-6 Investigation result inadequate BE-1-1 Co-pay was not collected from member2024 1239868 2024 1242307 1243139 no report attached',\n 'SUBMITTED AS RELATED TO Inapropriate approval s 2023 3820594 Already linked to batch 202309041390',\n 'SUBMITTED AS RELATED TO Inapropriate approval s 2023 6047580 Already linked to batch 202401250196',\n 'SUBMITTED AS RELATED TO Inapropriate approval s 2023 6072333 Already linked to batch 202401250196',\n 'SUBMITTED AS RELATED TO Inapropriate approval s 2024 128581 Already linked to batch 202402030001',\n 'SUBMITTED AS RELATED TO Inapropriate approval s 2024 156603 Already linked to batch 202402030003',\n 'SUBMITTED AS RELATED TO Inapropriate approval s 2024 239082 Already linked to batch 202402051350',\n 'SUBMITTED AS RELATED TO Inapropriate approval s 2024 33728 Already linked to batch 202402030003',\n 'SUBMITTED AS RELATED TO Inapropriate approval s 2024 366993 Already linked to batch 202402110978',\n 'SUBMITTED AS RELATED TO Inapropriate approval s 2024 384932 related to another insured',\n 'SUBMITTED AS RELATED TO Inapropriate approval s 2024 38635 Already linked to batch 202402051231',\n 'SUBMITTED AS RELATED TO Inapropriate approval s 2024 463506 Already linked to batch 202402051231',\n 'SUBMITTED AS RELATED TO Inapropriate approval s 2024 469398 Already linked to batch 202402051231',\n 'SUBMITTED AS RELATED TO Inapropriate approval s 2024 506102 Already linked to batch 202402051411',\n 'SUBMITTED AS RELATED TO Inapropriate approval s 2024 548988 Already linked to batch 202402051411',\n 'SUBMITTED AS RELATED TO Inapropriate approval s 2024 550700 Already linked to batch 202402051588',\n 'SUBMITTED AS RELATED TO Inapropriate approval s 2024 621743 Already linked to batch 202402051588',\n 'SUBMITTED AS RELATED TO Inapropriate approval s 2024 646749 Already linked to batch 202402051588',\n 'SUBMITTED AS RELATED TO Inapropriate approval s 2024 672546 Already linked to batch 202402051411',\n 'SUBMITTED AS RELATED TO Inapropriate approval s 2024 721644 Already linked to batch 202402260289',\n 'SUBMITTED AS RELATED TO Inapropriate approval s 2024 86190 Already linked to batch 202402030001',\n 'SUBMITTED AS RELATED TO Invalid approval s 0',\n 'SUBMITTED AS RELATED TO Invalid approval s 00,0',\n 'SUBMITTED AS RELATED TO Invalid approval s 2023 5850990',\n 'SUBMITTED AS RELATED TO Invalid approval s 2024 242336',\n 'SUBMITTED AS RELATED TO Invalid approval s 2024 679140',\n 'Service Price Is Not Billed As Per Agreement',\n 'Service s is are performed outside authorization validity date',\n 'Services performed by a non network provider',\n 'Significance Fdb Only When Necessary Comment Available Human Data Show No Increased Risk For Major Birth Defects Full Description Fda Rating But May Have Precautions Or Warnings Animal And Or Studies Pre Post Marketing Information',\n 'The Drug Is Rejected Because It Not Considered As Medically Necessary',\n 'The Item Exceeds Maximum Quantity Allowed Per Transaction Dispensing Full Amount Requires A Prior Approval',\n 'The Item Service Is Rejected Because It Not Considered As Medically Necessary',\n 'The Service Is Rejected Because It Was Requested Performed By A Non Network Provider',\n 'The charges related to the Room Board cover requested service',\n 'The claim is adjusted as per the agreed tariff',\n 'The claim is rejected because of missing documents',\n 'The service is rejected because it exceeding the financial limitation',\n 'This Item Requires A Prior Approval',\n 'Top or GI neonatal candidiasis Not Covered',\n 'Wrong Calculation Of The Patient S Deductable',\n 'Wrong Vat Applied',\n 'Wrong information have been submitted in the related transaction',\n 'Your facility was not assigned for the member class on date of service',\n 'missing discharge summary OR notes',\n 'missing discharge summary nurse notes'}"
     },
     "execution_count": 45,
     "metadata": {},
     "output_type": "execute_result"
    }
   ],
   "source": [
    "cleaned_messages = set(cleaned_messages)\n",
    "cleaned_messages"
   ],
   "metadata": {
    "collapsed": false,
    "ExecuteTime": {
     "end_time": "2024-07-03T11:35:50.196883200Z",
     "start_time": "2024-07-03T11:35:50.145898400Z"
    }
   }
  },
  {
   "cell_type": "code",
   "execution_count": 46,
   "outputs": [
    {
     "ename": "AttributeError",
     "evalue": "'list' object has no attribute 'shape'",
     "output_type": "error",
     "traceback": [
      "\u001B[1;31m---------------------------------------------------------------------------\u001B[0m",
      "\u001B[1;31mAttributeError\u001B[0m                            Traceback (most recent call last)",
      "Cell \u001B[1;32mIn[46], line 1\u001B[0m\n\u001B[1;32m----> 1\u001B[0m _,classification_result \u001B[38;5;241m=\u001B[39m \u001B[43mfind_category_similarity\u001B[49m\u001B[43m(\u001B[49m\u001B[43mcleaned_messages\u001B[49m\u001B[43m)\u001B[49m\n",
      "File \u001B[1;32mE:\\Projects\\Claims_Rejection\\src\\rejection_clustering.py:65\u001B[0m, in \u001B[0;36mfind_category_similarity\u001B[1;34m(ls1, ls2)\u001B[0m\n\u001B[0;32m     64\u001B[0m \u001B[38;5;28;01mdef\u001B[39;00m \u001B[38;5;21mfind_category_similarity\u001B[39m(ls1:\u001B[38;5;28mlist\u001B[39m,ls2 \u001B[38;5;241m=\u001B[39m[ \u001B[38;5;124m\"\u001B[39m\u001B[38;5;124mMedical Justification Denials\u001B[39m\u001B[38;5;124m\"\u001B[39m,  \u001B[38;5;124m\"\u001B[39m\u001B[38;5;124mContractual or Financial Benefit Denials\u001B[39m\u001B[38;5;124m\"\u001B[39m, \u001B[38;5;124m\"\u001B[39m\u001B[38;5;124mInformation Errors or Omissions Denials\u001B[39m\u001B[38;5;124m\"\u001B[39m]):\n\u001B[1;32m---> 65\u001B[0m     sim_out \u001B[38;5;241m=\u001B[39m \u001B[43msimilarity\u001B[49m\u001B[38;5;241;43m.\u001B[39;49m\u001B[43msentences_cosine_similarity\u001B[49m\u001B[43m(\u001B[49m\u001B[43m[\u001B[49m\u001B[43m(\u001B[49m\u001B[43mls1\u001B[49m\u001B[43m)\u001B[49m\u001B[43m]\u001B[49m\u001B[43m,\u001B[49m\u001B[43m \u001B[49m\u001B[43m[\u001B[49m\u001B[43m(\u001B[49m\u001B[43mls2\u001B[49m\u001B[43m)\u001B[49m\u001B[43m]\u001B[49m\u001B[43m)\u001B[49m\n\u001B[0;32m     66\u001B[0m     similarity_match \u001B[38;5;241m=\u001B[39m []; similarity_element \u001B[38;5;241m=\u001B[39m []\n\u001B[0;32m     67\u001B[0m     \u001B[38;5;28;01mfor\u001B[39;00m elem \u001B[38;5;129;01min\u001B[39;00m sim_out:\n",
      "File \u001B[1;32mE:\\Projects\\Claims_Rejection\\venv\\lib\\site-packages\\AHBS_AIServices\\similarity.py:55\u001B[0m, in \u001B[0;36msentences_cosine_similarity\u001B[1;34m(sentences_matrix1, sentences_matrix2)\u001B[0m\n\u001B[0;32m     47\u001B[0m \u001B[38;5;28;01mdef\u001B[39;00m \u001B[38;5;21msentences_cosine_similarity\u001B[39m(sentences_matrix1: np, sentences_matrix2: np):\n\u001B[0;32m     48\u001B[0m \u001B[38;5;250m    \u001B[39m\u001B[38;5;124;03m\"\"\"\u001B[39;00m\n\u001B[0;32m     49\u001B[0m \u001B[38;5;124;03m    calculate similarity between matrix 1 and matrix 2\u001B[39;00m\n\u001B[0;32m     50\u001B[0m \u001B[38;5;124;03m    :param: sentences_matrix1 numpy matrix (no_sentences,features_dim)\u001B[39;00m\n\u001B[0;32m     51\u001B[0m \u001B[38;5;124;03m    :param: sentences_matrix2: numpy matrix (no_sentences,features_dim)\u001B[39;00m\n\u001B[0;32m     52\u001B[0m \u001B[38;5;124;03m    :return: cosine similarity between sentences of matrix 1 with matrix 2\u001B[39;00m\n\u001B[0;32m     53\u001B[0m \u001B[38;5;124;03m    \"\"\"\u001B[39;00m\n\u001B[1;32m---> 55\u001B[0m     similarity_dot_prod_mat \u001B[38;5;241m=\u001B[39m \u001B[43msentences_dot_product\u001B[49m\u001B[43m(\u001B[49m\u001B[43msentences_matrix1\u001B[49m\u001B[43m,\u001B[49m\u001B[43m \u001B[49m\u001B[43msentences_matrix2\u001B[49m\u001B[43m)\u001B[49m\n\u001B[0;32m     56\u001B[0m     sentences_matrix1_mag \u001B[38;5;241m=\u001B[39m np\u001B[38;5;241m.\u001B[39mlinalg\u001B[38;5;241m.\u001B[39mnorm(sentences_matrix1, axis\u001B[38;5;241m=\u001B[39m\u001B[38;5;241m1\u001B[39m)\n\u001B[0;32m     57\u001B[0m     sentences_matrix2_mag \u001B[38;5;241m=\u001B[39m np\u001B[38;5;241m.\u001B[39mlinalg\u001B[38;5;241m.\u001B[39mnorm(sentences_matrix2, axis\u001B[38;5;241m=\u001B[39m\u001B[38;5;241m1\u001B[39m)\n",
      "File \u001B[1;32mE:\\Projects\\Claims_Rejection\\venv\\lib\\site-packages\\AHBS_AIServices\\similarity.py:43\u001B[0m, in \u001B[0;36msentences_dot_product\u001B[1;34m(sentences_matrix1, sentences_matrix2)\u001B[0m\n\u001B[0;32m     36\u001B[0m \u001B[38;5;28;01mdef\u001B[39;00m \u001B[38;5;21msentences_dot_product\u001B[39m(sentences_matrix1: np, sentences_matrix2: np):\n\u001B[0;32m     37\u001B[0m \u001B[38;5;250m    \u001B[39m\u001B[38;5;124;03m\"\"\"\u001B[39;00m\n\u001B[0;32m     38\u001B[0m \u001B[38;5;124;03m    calculate similarity between matrix 1 and matrix 2\u001B[39;00m\n\u001B[0;32m     39\u001B[0m \u001B[38;5;124;03m    :param: sentences_matrix1 numpy matrix (no_sentences,features_dim)\u001B[39;00m\n\u001B[0;32m     40\u001B[0m \u001B[38;5;124;03m    :param: sentences_matrix2: numpy matrix (no_sentences,features_dim)\u001B[39;00m\n\u001B[0;32m     41\u001B[0m \u001B[38;5;124;03m    :return: dot product similarity between sentences of matrix 1 with matrix 2\u001B[39;00m\n\u001B[0;32m     42\u001B[0m \u001B[38;5;124;03m    \"\"\"\u001B[39;00m\n\u001B[1;32m---> 43\u001B[0m     \u001B[38;5;28;01massert\u001B[39;00m \u001B[43msentences_matrix1\u001B[49m\u001B[38;5;241;43m.\u001B[39;49m\u001B[43mshape\u001B[49m[\u001B[38;5;241m1\u001B[39m] \u001B[38;5;241m==\u001B[39m sentences_matrix2\u001B[38;5;241m.\u001B[39mshape[\u001B[38;5;241m1\u001B[39m]\n\u001B[0;32m     44\u001B[0m     \u001B[38;5;28;01mreturn\u001B[39;00m np\u001B[38;5;241m.\u001B[39mdot(sentences_matrix1, np\u001B[38;5;241m.\u001B[39mtranspose(sentences_matrix2))\n",
      "\u001B[1;31mAttributeError\u001B[0m: 'list' object has no attribute 'shape'"
     ]
    }
   ],
   "source": [
    "_,classification_result = find_category_similarity(cleaned_messages)"
   ],
   "metadata": {
    "collapsed": false,
    "ExecuteTime": {
     "end_time": "2024-07-03T11:35:56.264855900Z",
     "start_time": "2024-07-03T11:35:56.209008200Z"
    }
   }
  },
  {
   "cell_type": "code",
   "execution_count": null,
   "outputs": [],
   "source": [
    "#!pip install git+https://github.com/Andalusia-Data-Science-Team/AHBS_AIServices"
   ],
   "metadata": {
    "collapsed": false
   }
  },
  {
   "cell_type": "code",
   "execution_count": 47,
   "outputs": [
    {
     "ename": "AttributeError",
     "evalue": "'list' object has no attribute 'shape'",
     "output_type": "error",
     "traceback": [
      "\u001B[1;31m---------------------------------------------------------------------------\u001B[0m",
      "\u001B[1;31mAttributeError\u001B[0m                            Traceback (most recent call last)",
      "Cell \u001B[1;32mIn[47], line 3\u001B[0m\n\u001B[0;32m      1\u001B[0m categories \u001B[38;5;241m=\u001B[39m [ \u001B[38;5;124m\"\u001B[39m\u001B[38;5;124mMedical Justification Denials\u001B[39m\u001B[38;5;124m\"\u001B[39m,  \u001B[38;5;124m\"\u001B[39m\u001B[38;5;124mContractual or Financial Benefit Denials\u001B[39m\u001B[38;5;124m\"\u001B[39m, \u001B[38;5;124m\"\u001B[39m\u001B[38;5;124mInformation Errors or Omissions Denials\u001B[39m\u001B[38;5;124m\"\u001B[39m]\n\u001B[1;32m----> 3\u001B[0m sim_out \u001B[38;5;241m=\u001B[39m \u001B[43msimilarity\u001B[49m\u001B[38;5;241;43m.\u001B[39;49m\u001B[43msentences_cosine_similarity\u001B[49m\u001B[43m(\u001B[49m\u001B[38;5;28;43mlist\u001B[39;49m\u001B[43m(\u001B[49m\u001B[38;5;28;43mset\u001B[39;49m\u001B[43m(\u001B[49m\u001B[43mcleaned_messages\u001B[49m\u001B[43m)\u001B[49m\u001B[43m)\u001B[49m\u001B[43m,\u001B[49m\u001B[43m \u001B[49m\u001B[38;5;28;43mlist\u001B[39;49m\u001B[43m(\u001B[49m\u001B[43mcategories\u001B[49m\u001B[43m)\u001B[49m\u001B[43m)\u001B[49m\n",
      "File \u001B[1;32mE:\\Projects\\Claims_Rejection\\venv\\lib\\site-packages\\AHBS_AIServices\\similarity.py:55\u001B[0m, in \u001B[0;36msentences_cosine_similarity\u001B[1;34m(sentences_matrix1, sentences_matrix2)\u001B[0m\n\u001B[0;32m     47\u001B[0m \u001B[38;5;28;01mdef\u001B[39;00m \u001B[38;5;21msentences_cosine_similarity\u001B[39m(sentences_matrix1: np, sentences_matrix2: np):\n\u001B[0;32m     48\u001B[0m \u001B[38;5;250m    \u001B[39m\u001B[38;5;124;03m\"\"\"\u001B[39;00m\n\u001B[0;32m     49\u001B[0m \u001B[38;5;124;03m    calculate similarity between matrix 1 and matrix 2\u001B[39;00m\n\u001B[0;32m     50\u001B[0m \u001B[38;5;124;03m    :param: sentences_matrix1 numpy matrix (no_sentences,features_dim)\u001B[39;00m\n\u001B[0;32m     51\u001B[0m \u001B[38;5;124;03m    :param: sentences_matrix2: numpy matrix (no_sentences,features_dim)\u001B[39;00m\n\u001B[0;32m     52\u001B[0m \u001B[38;5;124;03m    :return: cosine similarity between sentences of matrix 1 with matrix 2\u001B[39;00m\n\u001B[0;32m     53\u001B[0m \u001B[38;5;124;03m    \"\"\"\u001B[39;00m\n\u001B[1;32m---> 55\u001B[0m     similarity_dot_prod_mat \u001B[38;5;241m=\u001B[39m \u001B[43msentences_dot_product\u001B[49m\u001B[43m(\u001B[49m\u001B[43msentences_matrix1\u001B[49m\u001B[43m,\u001B[49m\u001B[43m \u001B[49m\u001B[43msentences_matrix2\u001B[49m\u001B[43m)\u001B[49m\n\u001B[0;32m     56\u001B[0m     sentences_matrix1_mag \u001B[38;5;241m=\u001B[39m np\u001B[38;5;241m.\u001B[39mlinalg\u001B[38;5;241m.\u001B[39mnorm(sentences_matrix1, axis\u001B[38;5;241m=\u001B[39m\u001B[38;5;241m1\u001B[39m)\n\u001B[0;32m     57\u001B[0m     sentences_matrix2_mag \u001B[38;5;241m=\u001B[39m np\u001B[38;5;241m.\u001B[39mlinalg\u001B[38;5;241m.\u001B[39mnorm(sentences_matrix2, axis\u001B[38;5;241m=\u001B[39m\u001B[38;5;241m1\u001B[39m)\n",
      "File \u001B[1;32mE:\\Projects\\Claims_Rejection\\venv\\lib\\site-packages\\AHBS_AIServices\\similarity.py:43\u001B[0m, in \u001B[0;36msentences_dot_product\u001B[1;34m(sentences_matrix1, sentences_matrix2)\u001B[0m\n\u001B[0;32m     36\u001B[0m \u001B[38;5;28;01mdef\u001B[39;00m \u001B[38;5;21msentences_dot_product\u001B[39m(sentences_matrix1: np, sentences_matrix2: np):\n\u001B[0;32m     37\u001B[0m \u001B[38;5;250m    \u001B[39m\u001B[38;5;124;03m\"\"\"\u001B[39;00m\n\u001B[0;32m     38\u001B[0m \u001B[38;5;124;03m    calculate similarity between matrix 1 and matrix 2\u001B[39;00m\n\u001B[0;32m     39\u001B[0m \u001B[38;5;124;03m    :param: sentences_matrix1 numpy matrix (no_sentences,features_dim)\u001B[39;00m\n\u001B[0;32m     40\u001B[0m \u001B[38;5;124;03m    :param: sentences_matrix2: numpy matrix (no_sentences,features_dim)\u001B[39;00m\n\u001B[0;32m     41\u001B[0m \u001B[38;5;124;03m    :return: dot product similarity between sentences of matrix 1 with matrix 2\u001B[39;00m\n\u001B[0;32m     42\u001B[0m \u001B[38;5;124;03m    \"\"\"\u001B[39;00m\n\u001B[1;32m---> 43\u001B[0m     \u001B[38;5;28;01massert\u001B[39;00m \u001B[43msentences_matrix1\u001B[49m\u001B[38;5;241;43m.\u001B[39;49m\u001B[43mshape\u001B[49m[\u001B[38;5;241m1\u001B[39m] \u001B[38;5;241m==\u001B[39m sentences_matrix2\u001B[38;5;241m.\u001B[39mshape[\u001B[38;5;241m1\u001B[39m]\n\u001B[0;32m     44\u001B[0m     \u001B[38;5;28;01mreturn\u001B[39;00m np\u001B[38;5;241m.\u001B[39mdot(sentences_matrix1, np\u001B[38;5;241m.\u001B[39mtranspose(sentences_matrix2))\n",
      "\u001B[1;31mAttributeError\u001B[0m: 'list' object has no attribute 'shape'"
     ]
    }
   ],
   "source": [
    "categories = [ \"Medical Justification Denials\",  \"Contractual or Financial Benefit Denials\", \"Information Errors or Omissions Denials\"]\n",
    "\n",
    "sim_out = similarity.sentences_cosine_similarity(list(set(cleaned_messages)), list(categories))"
   ],
   "metadata": {
    "collapsed": false,
    "ExecuteTime": {
     "end_time": "2024-07-03T11:36:17.728605300Z",
     "start_time": "2024-07-03T11:36:17.659852800Z"
    }
   }
  },
  {
   "cell_type": "markdown",
   "source": [
    "## Data Update"
   ],
   "metadata": {
    "collapsed": false
   }
  },
  {
   "cell_type": "code",
   "execution_count": 8,
   "outputs": [],
   "source": [
    "from src.data_query import  update_data\n",
    "from src.data_local import read_last_date, append_last_line , create_folder,  store_dfs"
   ],
   "metadata": {
    "collapsed": false,
    "ExecuteTime": {
     "end_time": "2024-07-07T09:26:04.198538500Z",
     "start_time": "2024-07-07T09:26:04.175887300Z"
    }
   }
  },
  {
   "cell_type": "code",
   "execution_count": 9,
   "outputs": [],
   "source": [
    "LAST_DATE = read_last_date()\n",
    "df_visit, df_service,df_diagnose = update_data(LAST_DATE)"
   ],
   "metadata": {
    "collapsed": false,
    "ExecuteTime": {
     "end_time": "2024-07-07T09:46:52.623397800Z",
     "start_time": "2024-07-07T09:26:05.051579900Z"
    }
   }
  },
  {
   "cell_type": "code",
   "execution_count": 10,
   "outputs": [
    {
     "data": {
      "text/plain": "'2024-05-31'"
     },
     "execution_count": 10,
     "metadata": {},
     "output_type": "execute_result"
    }
   ],
   "source": [
    "LAST_DATE"
   ],
   "metadata": {
    "collapsed": false,
    "ExecuteTime": {
     "end_time": "2024-07-07T10:13:09.598010700Z",
     "start_time": "2024-07-07T10:13:09.574912600Z"
    }
   }
  },
  {
   "cell_type": "code",
   "execution_count": 11,
   "outputs": [
    {
     "data": {
      "text/plain": "'data/HJH/updates/2024-05-31'"
     },
     "execution_count": 11,
     "metadata": {},
     "output_type": "execute_result"
    }
   ],
   "source": [
    "NEW_LAST_DATE = str(df_visit['CREATION_DATE'].sort_values(ascending=False).iloc[0])[:10]\n",
    "path_date = 'data/HJH/updates/' + NEW_LAST_DATE\n",
    "create_folder(folder_name= path_date)\n",
    "store_dfs(df_visit, df_service,df_diagnose,path_date)\n",
    "path_date"
   ],
   "metadata": {
    "collapsed": false,
    "ExecuteTime": {
     "end_time": "2024-07-07T10:13:17.588645300Z",
     "start_time": "2024-07-07T10:13:10.819808100Z"
    }
   }
  },
  {
   "cell_type": "code",
   "execution_count": 20,
   "outputs": [
    {
     "data": {
      "text/plain": "Timestamp('2024-01-01 09:58:15')"
     },
     "execution_count": 20,
     "metadata": {},
     "output_type": "execute_result"
    }
   ],
   "source": [
    "df_visit.CREATION_DATE.min()"
   ],
   "metadata": {
    "collapsed": false,
    "ExecuteTime": {
     "end_time": "2024-07-07T10:54:19.431534Z",
     "start_time": "2024-07-07T10:54:19.391946100Z"
    }
   }
  },
  {
   "cell_type": "code",
   "execution_count": 12,
   "outputs": [],
   "source": [
    "append_last_line(NEW_LAST_DATE)"
   ],
   "metadata": {
    "collapsed": false,
    "ExecuteTime": {
     "end_time": "2024-07-07T10:13:25.249036900Z",
     "start_time": "2024-07-07T10:13:25.236292900Z"
    }
   }
  },
  {
   "cell_type": "code",
   "execution_count": 15,
   "outputs": [
    {
     "data": {
      "text/plain": "Timestamp('2024-01-01 09:58:15')"
     },
     "execution_count": 15,
     "metadata": {},
     "output_type": "execute_result"
    }
   ],
   "source": [
    "df_visit['CREATION_DATE'].min()"
   ],
   "metadata": {
    "collapsed": false,
    "ExecuteTime": {
     "end_time": "2024-07-07T10:52:15.478395200Z",
     "start_time": "2024-07-07T10:52:15.385862200Z"
    }
   }
  },
  {
   "cell_type": "code",
   "execution_count": 22,
   "outputs": [
    {
     "data": {
      "text/plain": "array([1, 2, 3, 4, 5])"
     },
     "execution_count": 22,
     "metadata": {},
     "output_type": "execute_result"
    }
   ],
   "source": [
    "df_visit['CREATION_DATE'].dt.month.unique()"
   ],
   "metadata": {
    "collapsed": false,
    "ExecuteTime": {
     "end_time": "2024-07-07T10:59:32.685744900Z",
     "start_time": "2024-07-07T10:59:32.596261700Z"
    }
   }
  },
  {
   "cell_type": "code",
   "execution_count": null,
   "outputs": [],
   "source": [],
   "metadata": {
    "collapsed": false
   }
  }
 ],
 "metadata": {
  "kernelspec": {
   "display_name": "Python 3",
   "language": "python",
   "name": "python3"
  },
  "language_info": {
   "codemirror_mode": {
    "name": "ipython",
    "version": 2
   },
   "file_extension": ".py",
   "mimetype": "text/x-python",
   "name": "python",
   "nbconvert_exporter": "python",
   "pygments_lexer": "ipython2",
   "version": "2.7.6"
  }
 },
 "nbformat": 4,
 "nbformat_minor": 0
}
