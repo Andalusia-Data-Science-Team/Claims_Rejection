{
 "cells": [
  {
   "cell_type": "code",
   "execution_count": 1,
   "outputs": [],
   "source": [
    "#!pip install shap --quiet"
   ],
   "metadata": {
    "collapsed": false,
    "ExecuteTime": {
     "end_time": "2024-08-21T13:55:43.586570Z",
     "start_time": "2024-08-21T13:55:43.567619500Z"
    }
   }
  },
  {
   "cell_type": "code",
   "execution_count": 1,
   "outputs": [],
   "source": [
    "from cashe import get_train_test_split, get_training_inputs, drop_nomodel_columns\n",
    "from src.model_app import ModelApplication, ModelApplicationDeployment\n",
    "from src.utilities_rejection import RejectionReasonLabeling\n",
    "from src.data_local import MergedDataPreprocessing\n",
    "from src.lstm_encoder import LSTMEmbedding\n",
    "import pandas as pd\n",
    "import numpy as np"
   ],
   "metadata": {
    "collapsed": false,
    "ExecuteTime": {
     "end_time": "2024-08-27T16:39:03.221720300Z",
     "start_time": "2024-08-27T16:38:48.834941200Z"
    }
   }
  },
  {
   "cell_type": "code",
   "execution_count": 2,
   "outputs": [],
   "source": [
    "df_train, df_test = get_train_test_split('data/HJH/13-06-2024')\n",
    "\n",
    "df_train = df_train[df_train['OUTCOME'] !='APPROVED']\n",
    "df_test = df_test[df_test['OUTCOME'] !='APPROVED']"
   ],
   "metadata": {
    "collapsed": false,
    "ExecuteTime": {
     "end_time": "2024-08-27T16:39:04.696002200Z",
     "start_time": "2024-08-27T16:39:03.224712700Z"
    }
   }
  },
  {
   "cell_type": "code",
   "execution_count": 3,
   "outputs": [
    {
     "data": {
      "text/plain": "Index(['REQUEST_DATE', 'VISIT_NO', 'VISIT_DATE', 'EMERGENCY_INDICATOR',\n       'PROVIDER_DEPARTMENT_CODE', 'PROVIDER_DEPARTMENT',\n       'DOCTOR_SPECIALTY_CODE', 'DOCTOR_CODE', 'PATIENT_NO', 'EPISODE_NO',\n       ...\n       'SEQUENCE_NO', 'UNIT_PRICE_STOCKED_UOM', 'UNIT_PRICE_NET',\n       'DISCOUNT_PERCENTAGE', 'NOTES', 'OUTCOME', 'APPROVED_QUNATITY',\n       'Episode_Key', 'ICD10', 'Diagnosis_Key'],\n      dtype='object', length=101)"
     },
     "execution_count": 3,
     "metadata": {},
     "output_type": "execute_result"
    }
   ],
   "source": [
    "df_train.columns"
   ],
   "metadata": {
    "collapsed": false,
    "ExecuteTime": {
     "end_time": "2024-08-27T16:39:04.710961700Z",
     "start_time": "2024-08-27T16:39:04.698994200Z"
    }
   }
  },
  {
   "cell_type": "code",
   "execution_count": 4,
   "outputs": [],
   "source": [
    "train_rej = RejectionReasonLabeling(df_train)\n",
    "train_rej.recoginze_label()\n",
    "\n",
    "train_rej = RejectionReasonLabeling(df_test)\n",
    "train_rej.recoginze_label()"
   ],
   "metadata": {
    "collapsed": false,
    "ExecuteTime": {
     "end_time": "2024-08-27T16:39:05.965730500Z",
     "start_time": "2024-08-27T16:39:04.711958900Z"
    }
   }
  },
  {
   "cell_type": "code",
   "execution_count": 5,
   "outputs": [],
   "source": [
    "df_train['NPHIES_LABEL'] = np.where(df_train['NPHIES_CODE'] == 'MN-1-1', 1, 0)\n",
    "df_test['NPHIES_LABEL'] = np.where(df_test['NPHIES_CODE'] == 'MN-1-1', 1, 0)"
   ],
   "metadata": {
    "collapsed": false,
    "ExecuteTime": {
     "end_time": "2024-08-27T16:39:05.980842200Z",
     "start_time": "2024-08-27T16:39:05.966728600Z"
    }
   }
  },
  {
   "cell_type": "code",
   "execution_count": 7,
   "outputs": [
    {
     "data": {
      "text/plain": "        ICD10                                              NOTES  \\\n398449    K02  Rejected for the reason Sorry you are not an a...   \n398453  N80.1  Rejected for the reason Sorry you are not an a...   \n398454  N80.1  Rejected for the reason Sorry you are not an a...   \n398450  N80.1  Rejected for the reason Sorry you are not an a...   \n398452  N80.1  Rejected for the reason Sorry you are not an a...   \n...       ...                                                ...   \n316179  J18.0                                           MN-1-1     \n301017    I21                                           BE-1-1     \n301022    I21                                           BE-1-1     \n301021    I21                                           BE-1-1     \n301023    I21                                           BE-1-1     \n\n        NPHIES_LABEL NPHIES_CODE  \n398449             0      CV-1-1  \n398453             0      CV-1-1  \n398454             0      CV-1-1  \n398450             0      CV-1-1  \n398452             0      CV-1-1  \n...              ...         ...  \n316179             1      MN-1-1  \n301017             0      BE-1-1  \n301022             0      BE-1-1  \n301021             0      BE-1-1  \n301023             0      BE-1-1  \n\n[76988 rows x 4 columns]",
      "text/html": "<div>\n<style scoped>\n    .dataframe tbody tr th:only-of-type {\n        vertical-align: middle;\n    }\n\n    .dataframe tbody tr th {\n        vertical-align: top;\n    }\n\n    .dataframe thead th {\n        text-align: right;\n    }\n</style>\n<table border=\"1\" class=\"dataframe\">\n  <thead>\n    <tr style=\"text-align: right;\">\n      <th></th>\n      <th>ICD10</th>\n      <th>NOTES</th>\n      <th>NPHIES_LABEL</th>\n      <th>NPHIES_CODE</th>\n    </tr>\n  </thead>\n  <tbody>\n    <tr>\n      <th>398449</th>\n      <td>K02</td>\n      <td>Rejected for the reason Sorry you are not an a...</td>\n      <td>0</td>\n      <td>CV-1-1</td>\n    </tr>\n    <tr>\n      <th>398453</th>\n      <td>N80.1</td>\n      <td>Rejected for the reason Sorry you are not an a...</td>\n      <td>0</td>\n      <td>CV-1-1</td>\n    </tr>\n    <tr>\n      <th>398454</th>\n      <td>N80.1</td>\n      <td>Rejected for the reason Sorry you are not an a...</td>\n      <td>0</td>\n      <td>CV-1-1</td>\n    </tr>\n    <tr>\n      <th>398450</th>\n      <td>N80.1</td>\n      <td>Rejected for the reason Sorry you are not an a...</td>\n      <td>0</td>\n      <td>CV-1-1</td>\n    </tr>\n    <tr>\n      <th>398452</th>\n      <td>N80.1</td>\n      <td>Rejected for the reason Sorry you are not an a...</td>\n      <td>0</td>\n      <td>CV-1-1</td>\n    </tr>\n    <tr>\n      <th>...</th>\n      <td>...</td>\n      <td>...</td>\n      <td>...</td>\n      <td>...</td>\n    </tr>\n    <tr>\n      <th>316179</th>\n      <td>J18.0</td>\n      <td>MN-1-1</td>\n      <td>1</td>\n      <td>MN-1-1</td>\n    </tr>\n    <tr>\n      <th>301017</th>\n      <td>I21</td>\n      <td>BE-1-1</td>\n      <td>0</td>\n      <td>BE-1-1</td>\n    </tr>\n    <tr>\n      <th>301022</th>\n      <td>I21</td>\n      <td>BE-1-1</td>\n      <td>0</td>\n      <td>BE-1-1</td>\n    </tr>\n    <tr>\n      <th>301021</th>\n      <td>I21</td>\n      <td>BE-1-1</td>\n      <td>0</td>\n      <td>BE-1-1</td>\n    </tr>\n    <tr>\n      <th>301023</th>\n      <td>I21</td>\n      <td>BE-1-1</td>\n      <td>0</td>\n      <td>BE-1-1</td>\n    </tr>\n  </tbody>\n</table>\n<p>76988 rows × 4 columns</p>\n</div>"
     },
     "execution_count": 7,
     "metadata": {},
     "output_type": "execute_result"
    }
   ],
   "source": [
    "df_train[['ICD10','NOTES','NPHIES_LABEL','NPHIES_CODE']]"
   ],
   "metadata": {
    "collapsed": false,
    "ExecuteTime": {
     "end_time": "2024-08-27T16:46:22.553131100Z",
     "start_time": "2024-08-27T16:46:22.494300300Z"
    }
   }
  },
  {
   "cell_type": "code",
   "execution_count": 8,
   "outputs": [],
   "source": [
    "X_train, y_train, X_test, y_test = get_training_inputs(df_train, df_test)\n",
    "X_train = drop_nomodel_columns(X_train);  X_test = drop_nomodel_columns(X_test)\n",
    "X_train.drop(columns=['NPHIES_CODE'],inplace=True); X_test.drop(columns=['NPHIES_CODE'],inplace=True)"
   ],
   "metadata": {
    "collapsed": false,
    "ExecuteTime": {
     "end_time": "2024-08-27T16:46:25.490873600Z",
     "start_time": "2024-08-27T16:46:22.727944500Z"
    }
   }
  },
  {
   "cell_type": "code",
   "execution_count": 9,
   "outputs": [
    {
     "data": {
      "text/plain": "398449      K02\n398453    N80.1\n398454    N80.1\n398450    N80.1\n398452    N80.1\n          ...  \n316179    J18.0\n301017      I21\n301022      I21\n301021      I21\n301023      I21\nName: ICD10, Length: 76988, dtype: object"
     },
     "execution_count": 9,
     "metadata": {},
     "output_type": "execute_result"
    }
   ],
   "source": [
    "X_train['ICD10']"
   ],
   "metadata": {
    "collapsed": false,
    "ExecuteTime": {
     "end_time": "2024-08-27T16:46:25.560711500Z",
     "start_time": "2024-08-27T16:46:25.494862500Z"
    }
   }
  },
  {
   "cell_type": "code",
   "execution_count": 10,
   "outputs": [
    {
     "name": "stderr",
     "output_type": "stream",
     "text": [
      "E:\\Projects\\Claims_Rejection\\src\\data_local.py:276: FutureWarning: Downcasting behavior in `replace` is deprecated and will be removed in a future version. To retain the old behavior, explicitly call `result.infer_objects(copy=False)`. To opt-in to the future behavior, set `pd.set_option('future.no_silent_downcasting', True)`\n",
      "  df[column]= df[column].replace(column_encoding)\n",
      "E:\\Projects\\Claims_Rejection\\src\\data_local.py:284: FutureWarning: Downcasting behavior in `replace` is deprecated and will be removed in a future version. To retain the old behavior, explicitly call `result.infer_objects(copy=False)`. To opt-in to the future behavior, set `pd.set_option('future.no_silent_downcasting', True)`\n",
      "  df['PatientAgeRange']= df['PatientAgeRange'].replace(age_encoding)\n",
      "E:\\Projects\\Claims_Rejection\\src\\data_local.py:276: FutureWarning: Downcasting behavior in `replace` is deprecated and will be removed in a future version. To retain the old behavior, explicitly call `result.infer_objects(copy=False)`. To opt-in to the future behavior, set `pd.set_option('future.no_silent_downcasting', True)`\n",
      "  df[column]= df[column].replace(column_encoding)\n",
      "E:\\Projects\\Claims_Rejection\\src\\data_local.py:284: FutureWarning: Downcasting behavior in `replace` is deprecated and will be removed in a future version. To retain the old behavior, explicitly call `result.infer_objects(copy=False)`. To opt-in to the future behavior, set `pd.set_option('future.no_silent_downcasting', True)`\n",
      "  df['PatientAgeRange']= df['PatientAgeRange'].replace(age_encoding)\n"
     ]
    }
   ],
   "source": [
    "preprocessing_train = MergedDataPreprocessing(X_train)\n",
    "X_train_prep = preprocessing_train.columns_prep(service_encoding=False)\n",
    "\n",
    "preprocessing_test = MergedDataPreprocessing(X_test)\n",
    "X_test_prep = preprocessing_test.columns_prep(service_encoding=False)\n",
    "lstm_embedding = LSTMEmbedding()\n",
    "\n",
    "X_train_encoded = preprocessing_train.column_embedding(X_train_prep, is_service=True)\n",
    "X_test_encoded = preprocessing_train.column_embedding(X_test_prep, is_service=True)"
   ],
   "metadata": {
    "collapsed": false,
    "ExecuteTime": {
     "end_time": "2024-08-27T16:48:24.549362800Z",
     "start_time": "2024-08-27T16:46:25.662994700Z"
    }
   }
  },
  {
   "cell_type": "code",
   "execution_count": 11,
   "outputs": [
    {
     "data": {
      "text/plain": "398449                                                  K02\n398453                                                N80.1\n398454                                                N80.1\n398450                                                N80.1\n398452                                                N80.1\n                                ...                        \n316179    Pneumonia, unspecified organism,Bronchopneumon...\n301017                                                  I21\n301022                                                  I21\n301021                                                  I21\n301023                                                  I21\nName: ICD10, Length: 76988, dtype: object"
     },
     "execution_count": 11,
     "metadata": {},
     "output_type": "execute_result"
    }
   ],
   "source": [
    "X_train_encoded.ICD10"
   ],
   "metadata": {
    "collapsed": false,
    "ExecuteTime": {
     "end_time": "2024-08-27T16:48:24.599890800Z",
     "start_time": "2024-08-27T16:48:24.565502500Z"
    }
   }
  },
  {
   "cell_type": "code",
   "execution_count": 12,
   "outputs": [
    {
     "data": {
      "text/plain": "        EMERGENCY_INDICATOR  PROVIDER_DEPARTMENT_CODE  DOCTOR_SPECIALTY_CODE  \\\n398449                    0                         4                  22.00   \n398453                    0                        25                  18.06   \n398454                    0                        25                  18.06   \n398450                    0                        25                  18.06   \n398452                    0                        25                  18.06   \n...                     ...                       ...                    ...   \n316179                    0                        22                  14.00   \n301017                    0                        29                   8.02   \n301022                    0                        29                   8.02   \n301021                    0                        29                   8.02   \n301023                    0                        29                   8.02   \n\n        DOCTOR_CODE  PATIENT_AGE  UNIT_OF_AGE  PATIENT_NATIONALITY  \\\n398449         7352            0            2                    2   \n398453         9638           33            1                    2   \n398454         9638           33            1                    2   \n398450         9638           33            1                    2   \n398452         9638           33            1                    2   \n...             ...          ...          ...                  ...   \n316179         5096           13            1                    2   \n301017         3396           45            1                    0   \n301022         3396           45            1                    0   \n301021         3396           45            1                    0   \n301023         3396           45            1                    0   \n\n        PATIENT_MARITAL_STATUS  PATIENT_GENDER  CLAIM_TYPE  ...  ICDText7  \\\n398449                       0               0           1  ...         0   \n398453                       1               0           1  ...         0   \n398454                       1               0           1  ...         0   \n398450                       1               0           1  ...         0   \n398452                       1               0           1  ...         0   \n...                        ...             ...         ...  ...       ...   \n316179                       0               1           1  ...         0   \n301017                       1               1           1  ...         0   \n301022                       1               1           1  ...         0   \n301021                       1               1           1  ...         0   \n301023                       1               1           1  ...         0   \n\n        ICDText8  ICDText9  ICDText10  ICDText11  ICDText12  ICDText13  \\\n398449         0         0          0          0          0          0   \n398453         0         0          0          0          0          0   \n398454         0         0          0          0          0          0   \n398450         0         0          0          0          0          0   \n398452         0         0          0          0          0          0   \n...          ...       ...        ...        ...        ...        ...   \n316179         0         0          0          0          0          0   \n301017         0         0          0          0          0          0   \n301022         0         0          0          0          0          0   \n301021         0         0          0          0          0          0   \n301023         0         0          0          0          0          0   \n\n        ICDText14  ICDText15  ICDText16  \n398449          0          0          0  \n398453          0          0          0  \n398454          0          0          0  \n398450          0          0          0  \n398452          0          0          0  \n...           ...        ...        ...  \n316179          0          0          0  \n301017          0          0          0  \n301022          0          0          0  \n301021          0          0          0  \n301023          0          0          0  \n\n[76988 rows x 66 columns]",
      "text/html": "<div>\n<style scoped>\n    .dataframe tbody tr th:only-of-type {\n        vertical-align: middle;\n    }\n\n    .dataframe tbody tr th {\n        vertical-align: top;\n    }\n\n    .dataframe thead th {\n        text-align: right;\n    }\n</style>\n<table border=\"1\" class=\"dataframe\">\n  <thead>\n    <tr style=\"text-align: right;\">\n      <th></th>\n      <th>EMERGENCY_INDICATOR</th>\n      <th>PROVIDER_DEPARTMENT_CODE</th>\n      <th>DOCTOR_SPECIALTY_CODE</th>\n      <th>DOCTOR_CODE</th>\n      <th>PATIENT_AGE</th>\n      <th>UNIT_OF_AGE</th>\n      <th>PATIENT_NATIONALITY</th>\n      <th>PATIENT_MARITAL_STATUS</th>\n      <th>PATIENT_GENDER</th>\n      <th>CLAIM_TYPE</th>\n      <th>...</th>\n      <th>ICDText7</th>\n      <th>ICDText8</th>\n      <th>ICDText9</th>\n      <th>ICDText10</th>\n      <th>ICDText11</th>\n      <th>ICDText12</th>\n      <th>ICDText13</th>\n      <th>ICDText14</th>\n      <th>ICDText15</th>\n      <th>ICDText16</th>\n    </tr>\n  </thead>\n  <tbody>\n    <tr>\n      <th>398449</th>\n      <td>0</td>\n      <td>4</td>\n      <td>22.00</td>\n      <td>7352</td>\n      <td>0</td>\n      <td>2</td>\n      <td>2</td>\n      <td>0</td>\n      <td>0</td>\n      <td>1</td>\n      <td>...</td>\n      <td>0</td>\n      <td>0</td>\n      <td>0</td>\n      <td>0</td>\n      <td>0</td>\n      <td>0</td>\n      <td>0</td>\n      <td>0</td>\n      <td>0</td>\n      <td>0</td>\n    </tr>\n    <tr>\n      <th>398453</th>\n      <td>0</td>\n      <td>25</td>\n      <td>18.06</td>\n      <td>9638</td>\n      <td>33</td>\n      <td>1</td>\n      <td>2</td>\n      <td>1</td>\n      <td>0</td>\n      <td>1</td>\n      <td>...</td>\n      <td>0</td>\n      <td>0</td>\n      <td>0</td>\n      <td>0</td>\n      <td>0</td>\n      <td>0</td>\n      <td>0</td>\n      <td>0</td>\n      <td>0</td>\n      <td>0</td>\n    </tr>\n    <tr>\n      <th>398454</th>\n      <td>0</td>\n      <td>25</td>\n      <td>18.06</td>\n      <td>9638</td>\n      <td>33</td>\n      <td>1</td>\n      <td>2</td>\n      <td>1</td>\n      <td>0</td>\n      <td>1</td>\n      <td>...</td>\n      <td>0</td>\n      <td>0</td>\n      <td>0</td>\n      <td>0</td>\n      <td>0</td>\n      <td>0</td>\n      <td>0</td>\n      <td>0</td>\n      <td>0</td>\n      <td>0</td>\n    </tr>\n    <tr>\n      <th>398450</th>\n      <td>0</td>\n      <td>25</td>\n      <td>18.06</td>\n      <td>9638</td>\n      <td>33</td>\n      <td>1</td>\n      <td>2</td>\n      <td>1</td>\n      <td>0</td>\n      <td>1</td>\n      <td>...</td>\n      <td>0</td>\n      <td>0</td>\n      <td>0</td>\n      <td>0</td>\n      <td>0</td>\n      <td>0</td>\n      <td>0</td>\n      <td>0</td>\n      <td>0</td>\n      <td>0</td>\n    </tr>\n    <tr>\n      <th>398452</th>\n      <td>0</td>\n      <td>25</td>\n      <td>18.06</td>\n      <td>9638</td>\n      <td>33</td>\n      <td>1</td>\n      <td>2</td>\n      <td>1</td>\n      <td>0</td>\n      <td>1</td>\n      <td>...</td>\n      <td>0</td>\n      <td>0</td>\n      <td>0</td>\n      <td>0</td>\n      <td>0</td>\n      <td>0</td>\n      <td>0</td>\n      <td>0</td>\n      <td>0</td>\n      <td>0</td>\n    </tr>\n    <tr>\n      <th>...</th>\n      <td>...</td>\n      <td>...</td>\n      <td>...</td>\n      <td>...</td>\n      <td>...</td>\n      <td>...</td>\n      <td>...</td>\n      <td>...</td>\n      <td>...</td>\n      <td>...</td>\n      <td>...</td>\n      <td>...</td>\n      <td>...</td>\n      <td>...</td>\n      <td>...</td>\n      <td>...</td>\n      <td>...</td>\n      <td>...</td>\n      <td>...</td>\n      <td>...</td>\n      <td>...</td>\n    </tr>\n    <tr>\n      <th>316179</th>\n      <td>0</td>\n      <td>22</td>\n      <td>14.00</td>\n      <td>5096</td>\n      <td>13</td>\n      <td>1</td>\n      <td>2</td>\n      <td>0</td>\n      <td>1</td>\n      <td>1</td>\n      <td>...</td>\n      <td>0</td>\n      <td>0</td>\n      <td>0</td>\n      <td>0</td>\n      <td>0</td>\n      <td>0</td>\n      <td>0</td>\n      <td>0</td>\n      <td>0</td>\n      <td>0</td>\n    </tr>\n    <tr>\n      <th>301017</th>\n      <td>0</td>\n      <td>29</td>\n      <td>8.02</td>\n      <td>3396</td>\n      <td>45</td>\n      <td>1</td>\n      <td>0</td>\n      <td>1</td>\n      <td>1</td>\n      <td>1</td>\n      <td>...</td>\n      <td>0</td>\n      <td>0</td>\n      <td>0</td>\n      <td>0</td>\n      <td>0</td>\n      <td>0</td>\n      <td>0</td>\n      <td>0</td>\n      <td>0</td>\n      <td>0</td>\n    </tr>\n    <tr>\n      <th>301022</th>\n      <td>0</td>\n      <td>29</td>\n      <td>8.02</td>\n      <td>3396</td>\n      <td>45</td>\n      <td>1</td>\n      <td>0</td>\n      <td>1</td>\n      <td>1</td>\n      <td>1</td>\n      <td>...</td>\n      <td>0</td>\n      <td>0</td>\n      <td>0</td>\n      <td>0</td>\n      <td>0</td>\n      <td>0</td>\n      <td>0</td>\n      <td>0</td>\n      <td>0</td>\n      <td>0</td>\n    </tr>\n    <tr>\n      <th>301021</th>\n      <td>0</td>\n      <td>29</td>\n      <td>8.02</td>\n      <td>3396</td>\n      <td>45</td>\n      <td>1</td>\n      <td>0</td>\n      <td>1</td>\n      <td>1</td>\n      <td>1</td>\n      <td>...</td>\n      <td>0</td>\n      <td>0</td>\n      <td>0</td>\n      <td>0</td>\n      <td>0</td>\n      <td>0</td>\n      <td>0</td>\n      <td>0</td>\n      <td>0</td>\n      <td>0</td>\n    </tr>\n    <tr>\n      <th>301023</th>\n      <td>0</td>\n      <td>29</td>\n      <td>8.02</td>\n      <td>3396</td>\n      <td>45</td>\n      <td>1</td>\n      <td>0</td>\n      <td>1</td>\n      <td>1</td>\n      <td>1</td>\n      <td>...</td>\n      <td>0</td>\n      <td>0</td>\n      <td>0</td>\n      <td>0</td>\n      <td>0</td>\n      <td>0</td>\n      <td>0</td>\n      <td>0</td>\n      <td>0</td>\n      <td>0</td>\n    </tr>\n  </tbody>\n</table>\n<p>76988 rows × 66 columns</p>\n</div>"
     },
     "execution_count": 12,
     "metadata": {},
     "output_type": "execute_result"
    }
   ],
   "source": [
    "X_train_encoded = preprocessing_train.column_embedding(X_train_encoded,is_service=False)\n",
    "X_test_encoded = preprocessing_train.column_embedding(X_test_encoded,is_service=False)\n",
    "X_train_encoded"
   ],
   "metadata": {
    "collapsed": false,
    "ExecuteTime": {
     "end_time": "2024-08-27T16:53:58.111595200Z",
     "start_time": "2024-08-27T16:53:56.621544Z"
    }
   }
  },
  {
   "cell_type": "code",
   "execution_count": 13,
   "outputs": [],
   "source": [
    "model_rejection = ModelApplication(X_train=X_train_encoded, y_train=y_train['NPHIES_LABEL'],\n",
    "                                   X_test=X_test_encoded, y_test=y_test['NPHIES_LABEL'])"
   ],
   "metadata": {
    "collapsed": false,
    "ExecuteTime": {
     "end_time": "2024-08-27T16:54:11.955936Z",
     "start_time": "2024-08-27T16:54:11.932792100Z"
    }
   }
  },
  {
   "cell_type": "code",
   "execution_count": 17,
   "outputs": [
    {
     "name": "stdout",
     "output_type": "stream",
     "text": [
      "XGBoost Model is loading from disk..\n"
     ]
    }
   ],
   "source": [
    "model_rejection.get_model(force_retrain=False,model_type='rejection')"
   ],
   "metadata": {
    "collapsed": false,
    "ExecuteTime": {
     "end_time": "2024-08-29T11:00:10.952086400Z",
     "start_time": "2024-08-29T11:00:10.780514100Z"
    }
   }
  },
  {
   "cell_type": "code",
   "execution_count": 15,
   "outputs": [
    {
     "data": {
      "text/plain": "{'XGBoost': {'Accuracy': 0.89,\n  'Precision': 0.74,\n  'Recall': 0.58,\n  'F1 Score': 0.65}}"
     },
     "execution_count": 15,
     "metadata": {},
     "output_type": "execute_result"
    }
   ],
   "source": [
    "## runtime 1\n",
    "model_rejection.evaluate_model()"
   ],
   "metadata": {
    "collapsed": false,
    "ExecuteTime": {
     "end_time": "2024-08-27T16:54:22.713993600Z",
     "start_time": "2024-08-27T16:54:22.584260900Z"
    }
   }
  },
  {
   "cell_type": "code",
   "execution_count": 16,
   "outputs": [
    {
     "data": {
      "text/plain": "{'XGBoost': {'Accuracy': 0.89,\n  'Precision': 0.74,\n  'Recall': 0.58,\n  'F1 Score': 0.65}}"
     },
     "execution_count": 16,
     "metadata": {},
     "output_type": "execute_result"
    }
   ],
   "source": [
    "## runtime 2\n",
    "model_rejection.evaluate_model()"
   ],
   "metadata": {
    "collapsed": false,
    "ExecuteTime": {
     "end_time": "2024-08-29T11:00:06.620966200Z",
     "start_time": "2024-08-29T11:00:06.510263900Z"
    }
   }
  },
  {
   "cell_type": "code",
   "execution_count": 23,
   "outputs": [
    {
     "name": "stdout",
     "output_type": "stream",
     "text": [
      "XGBoost Model is loading from disk..\n"
     ]
    },
    {
     "data": {
      "text/plain": "      main_contributing_feature\n0                PURCHASER_CODE\n1                PURCHASER_CODE\n2                PURCHASER_CODE\n3                PURCHASER_CODE\n4                PURCHASER_CODE\n...                         ...\n19811               CONTRACT_NO\n19812            PURCHASER_CODE\n19813            PURCHASER_CODE\n19814            PURCHASER_CODE\n19815            PURCHASER_CODE\n\n[19816 rows x 1 columns]",
      "text/html": "<div>\n<style scoped>\n    .dataframe tbody tr th:only-of-type {\n        vertical-align: middle;\n    }\n\n    .dataframe tbody tr th {\n        vertical-align: top;\n    }\n\n    .dataframe thead th {\n        text-align: right;\n    }\n</style>\n<table border=\"1\" class=\"dataframe\">\n  <thead>\n    <tr style=\"text-align: right;\">\n      <th></th>\n      <th>main_contributing_feature</th>\n    </tr>\n  </thead>\n  <tbody>\n    <tr>\n      <th>0</th>\n      <td>PURCHASER_CODE</td>\n    </tr>\n    <tr>\n      <th>1</th>\n      <td>PURCHASER_CODE</td>\n    </tr>\n    <tr>\n      <th>2</th>\n      <td>PURCHASER_CODE</td>\n    </tr>\n    <tr>\n      <th>3</th>\n      <td>PURCHASER_CODE</td>\n    </tr>\n    <tr>\n      <th>4</th>\n      <td>PURCHASER_CODE</td>\n    </tr>\n    <tr>\n      <th>...</th>\n      <td>...</td>\n    </tr>\n    <tr>\n      <th>19811</th>\n      <td>CONTRACT_NO</td>\n    </tr>\n    <tr>\n      <th>19812</th>\n      <td>PURCHASER_CODE</td>\n    </tr>\n    <tr>\n      <th>19813</th>\n      <td>PURCHASER_CODE</td>\n    </tr>\n    <tr>\n      <th>19814</th>\n      <td>PURCHASER_CODE</td>\n    </tr>\n    <tr>\n      <th>19815</th>\n      <td>PURCHASER_CODE</td>\n    </tr>\n  </tbody>\n</table>\n<p>19816 rows × 1 columns</p>\n</div>"
     },
     "execution_count": 23,
     "metadata": {},
     "output_type": "execute_result"
    }
   ],
   "source": [
    "model_rejection_deployed = ModelApplicationDeployment(X_test)\n",
    "model_rejection_deployed.interprete()"
   ],
   "metadata": {
    "collapsed": false,
    "ExecuteTime": {
     "end_time": "2024-08-22T09:35:26.512381300Z",
     "start_time": "2024-08-22T09:35:06.571944500Z"
    }
   }
  },
  {
   "cell_type": "code",
   "execution_count": 24,
   "outputs": [
    {
     "data": {
      "text/plain": "Index(['NET_WITH_VAT', 'QTY', 'LINE_CLAIMED_AMOUNT_SAR', 'CO_INSURANCE',\n       'LINE_ITEM_DISCOUNT', 'NET_VAT_AMOUNT', 'PATIENT_VAT_AMOUNT',\n       'VAT_PERCENTAGE', 'TREATMENT_TYPE_INDICATOR', 'DURATION',\n       'QTY_STOCKED_UOM', 'UNIT_PRICE_STOCKED_UOM', 'UNIT_PRICE_NET',\n       'DISCOUNT_PERCENTAGE', 'EMERGENCY_INDICATOR',\n       'PROVIDER_DEPARTMENT_CODE', 'DOCTOR_SPECIALTY_CODE', 'DOCTOR_CODE',\n       'PATIENT_AGE', 'UNIT_OF_AGE', 'PATIENT_NATIONALITY',\n       'PATIENT_MARITAL_STATUS', 'PATIENT_GENDER', 'CLAIM_TYPE',\n       'TOTAL_CLAIMED_AMOUNT_SAR', 'TOTAL_DISCOUNT', 'TOTAL_DEDUCTIBLE',\n       'TOTAL_PATIENT_VATAMOUNT', 'DEPARTMENT_TYPE', 'TREATMENT_TYPE',\n       'PURCHASER_CODE', 'CONTRACT_NO', 'NEW_BORN', 'PatientAgeRange',\n       'CombinedText1', 'CombinedText2', 'CombinedText3', 'CombinedText4',\n       'CombinedText5', 'CombinedText6', 'CombinedText7', 'CombinedText8',\n       'CombinedText9', 'CombinedText10', 'CombinedText11', 'CombinedText12',\n       'CombinedText13', 'CombinedText14', 'CombinedText15', 'CombinedText16',\n       'ICDText1', 'ICDText2', 'ICDText3', 'ICDText4', 'ICDText5', 'ICDText6',\n       'ICDText7', 'ICDText8', 'ICDText9', 'ICDText10', 'ICDText11',\n       'ICDText12', 'ICDText13', 'ICDText14', 'ICDText15', 'ICDText16'],\n      dtype='object')"
     },
     "execution_count": 24,
     "metadata": {},
     "output_type": "execute_result"
    }
   ],
   "source": [
    "X_train.columns\n"
   ],
   "metadata": {
    "collapsed": false,
    "ExecuteTime": {
     "end_time": "2024-08-22T09:35:26.552196100Z",
     "start_time": "2024-08-22T09:35:26.515372300Z"
    }
   }
  },
  {
   "cell_type": "markdown",
   "source": [
    "## Models Comparison"
   ],
   "metadata": {
    "collapsed": false
   }
  },
  {
   "cell_type": "code",
   "execution_count": 23,
   "outputs": [
    {
     "name": "stdout",
     "output_type": "stream",
     "text": [
      "[LightGBM] [Info] Number of positive: 17007, number of negative: 62680\n",
      "[LightGBM] [Info] Total Bins 4704\n",
      "[LightGBM] [Info] Number of data points in the train set: 79687, number of used features: 47\n",
      "[LightGBM] [Info] [binary:BoostFromScore]: pavg=0.213423 -> initscore=-1.304417\n",
      "[LightGBM] [Info] Start training from score -1.304417\n",
      "\n",
      "\n",
      "LightGBM, Decision Tree, SGD and Neural Network are trained on dataset.\n"
     ]
    }
   ],
   "source": [
    "from src.model_train import ModelTrainer\n",
    "\n",
    "X_train_encoded.fillna(0,inplace=True)\n",
    "X_test_encoded.fillna(0,inplace=True)\n",
    "\n",
    "model_runner = ModelTrainer(X_train=X_train_encoded,y_train=y_train['NPHIES_LABEL'],\n",
    "                            X_test=X_test_encoded,y_test=y_test['NPHIES_LABEL'])\n",
    "\n",
    "model_runner.train_models()"
   ],
   "metadata": {
    "collapsed": false,
    "ExecuteTime": {
     "end_time": "2024-08-16T15:21:59.876727400Z",
     "start_time": "2024-08-16T15:21:10.382156600Z"
    }
   }
  },
  {
   "cell_type": "code",
   "execution_count": 24,
   "outputs": [
    {
     "data": {
      "text/plain": "{'Decision Tree': {'Accuracy': 0.87,\n  'Precision': 0.69,\n  'Recall': 0.71,\n  'F1 Score': 0.7},\n 'LightGBM': {'Accuracy': 0.89,\n  'Precision': 0.83,\n  'Recall': 0.59,\n  'F1 Score': 0.69},\n 'SGD Classifier': {'Accuracy': 0.73,\n  'Precision': 0.37,\n  'Recall': 0.34,\n  'F1 Score': 0.35},\n 'XGBoost': {'Accuracy': 0.9,\n  'Precision': 0.83,\n  'Recall': 0.67,\n  'F1 Score': 0.74},\n 'Neural Network': {'Accuracy': 0.81,\n  'Precision': 0.71,\n  'Recall': 0.18,\n  'F1 Score': 0.28}}"
     },
     "execution_count": 24,
     "metadata": {},
     "output_type": "execute_result"
    }
   ],
   "source": [
    "result_analysis = model_runner.evaluate_models()\n",
    "result_analysis"
   ],
   "metadata": {
    "collapsed": false,
    "ExecuteTime": {
     "end_time": "2024-08-16T15:22:00.245530900Z",
     "start_time": "2024-08-16T15:21:59.880719400Z"
    }
   }
  },
  {
   "cell_type": "code",
   "execution_count": 26,
   "outputs": [],
   "source": [
    "result_df = pd.DataFrame(result_analysis)\n",
    "result_df.to_csv('rejecction_results.csv',index=False)"
   ],
   "metadata": {
    "collapsed": false,
    "ExecuteTime": {
     "end_time": "2024-08-16T15:27:11.222306600Z",
     "start_time": "2024-08-16T15:27:11.080432800Z"
    }
   }
  },
  {
   "cell_type": "code",
   "execution_count": 28,
   "outputs": [
    {
     "data": {
      "text/plain": "                 Column_name  Feature_importance\n29            PURCHASER_CODE            0.093649\n27           DEPARTMENT_TYPE            0.064988\n6             VAT_PERCENTAGE            0.063160\n28            TREATMENT_TYPE            0.058410\n14  PROVIDER_DEPARTMENT_CODE            0.053595\n12       DISCOUNT_PERCENTAGE            0.044982\n10    UNIT_PRICE_STOCKED_UOM            0.031178\n2    LINE_CLAIMED_AMOUNT_SAR            0.030961\n37             CombinedText5            0.030481\n38             CombinedText6            0.030072\n35             CombinedText3            0.028827\n8                   DURATION            0.028166\n4             NET_VAT_AMOUNT            0.025052\n33             CombinedText1            0.024955\n36             CombinedText4            0.024887\n19       PATIENT_NATIONALITY            0.024360\n34             CombinedText2            0.023066\n0               NET_WITH_VAT            0.022153\n15     DOCTOR_SPECIALTY_CODE            0.020822\n3         LINE_ITEM_DISCOUNT            0.019851\n25          TOTAL_DEDUCTIBLE            0.019761\n11            UNIT_PRICE_NET            0.019461\n30                  NEW_BORN            0.018217\n42            CombinedText10            0.016759\n40             CombinedText8            0.015763\n13       EMERGENCY_INDICATOR            0.015361\n24            TOTAL_DISCOUNT            0.014266\n1                        QTY            0.013937\n23  TOTAL_CLAIMED_AMOUNT_SAR            0.013675\n22                CLAIM_TYPE            0.013078\n16               DOCTOR_CODE            0.012588\n26   TOTAL_PATIENT_VATAMOUNT            0.011738\n17               PATIENT_AGE            0.010731\n43            CombinedText11            0.009750\n18               UNIT_OF_AGE            0.009092\n41             CombinedText9            0.007693\n20    PATIENT_MARITAL_STATUS            0.007472\n39             CombinedText7            0.006884\n9            QTY_STOCKED_UOM            0.005712\n5         PATIENT_VAT_AMOUNT            0.005500\n21            PATIENT_GENDER            0.005308\n45            CombinedText13            0.003639\n7   TREATMENT_TYPE_INDICATOR            0.000000\n32           PatientAgeRange            0.000000\n31                     ICD10            0.000000\n44            CombinedText12            0.000000\n46            CombinedText14            0.000000\n47            CombinedText15            0.000000\n48            CombinedText16            0.000000",
      "text/html": "<div>\n<style scoped>\n    .dataframe tbody tr th:only-of-type {\n        vertical-align: middle;\n    }\n\n    .dataframe tbody tr th {\n        vertical-align: top;\n    }\n\n    .dataframe thead th {\n        text-align: right;\n    }\n</style>\n<table border=\"1\" class=\"dataframe\">\n  <thead>\n    <tr style=\"text-align: right;\">\n      <th></th>\n      <th>Column_name</th>\n      <th>Feature_importance</th>\n    </tr>\n  </thead>\n  <tbody>\n    <tr>\n      <th>29</th>\n      <td>PURCHASER_CODE</td>\n      <td>0.093649</td>\n    </tr>\n    <tr>\n      <th>27</th>\n      <td>DEPARTMENT_TYPE</td>\n      <td>0.064988</td>\n    </tr>\n    <tr>\n      <th>6</th>\n      <td>VAT_PERCENTAGE</td>\n      <td>0.063160</td>\n    </tr>\n    <tr>\n      <th>28</th>\n      <td>TREATMENT_TYPE</td>\n      <td>0.058410</td>\n    </tr>\n    <tr>\n      <th>14</th>\n      <td>PROVIDER_DEPARTMENT_CODE</td>\n      <td>0.053595</td>\n    </tr>\n    <tr>\n      <th>12</th>\n      <td>DISCOUNT_PERCENTAGE</td>\n      <td>0.044982</td>\n    </tr>\n    <tr>\n      <th>10</th>\n      <td>UNIT_PRICE_STOCKED_UOM</td>\n      <td>0.031178</td>\n    </tr>\n    <tr>\n      <th>2</th>\n      <td>LINE_CLAIMED_AMOUNT_SAR</td>\n      <td>0.030961</td>\n    </tr>\n    <tr>\n      <th>37</th>\n      <td>CombinedText5</td>\n      <td>0.030481</td>\n    </tr>\n    <tr>\n      <th>38</th>\n      <td>CombinedText6</td>\n      <td>0.030072</td>\n    </tr>\n    <tr>\n      <th>35</th>\n      <td>CombinedText3</td>\n      <td>0.028827</td>\n    </tr>\n    <tr>\n      <th>8</th>\n      <td>DURATION</td>\n      <td>0.028166</td>\n    </tr>\n    <tr>\n      <th>4</th>\n      <td>NET_VAT_AMOUNT</td>\n      <td>0.025052</td>\n    </tr>\n    <tr>\n      <th>33</th>\n      <td>CombinedText1</td>\n      <td>0.024955</td>\n    </tr>\n    <tr>\n      <th>36</th>\n      <td>CombinedText4</td>\n      <td>0.024887</td>\n    </tr>\n    <tr>\n      <th>19</th>\n      <td>PATIENT_NATIONALITY</td>\n      <td>0.024360</td>\n    </tr>\n    <tr>\n      <th>34</th>\n      <td>CombinedText2</td>\n      <td>0.023066</td>\n    </tr>\n    <tr>\n      <th>0</th>\n      <td>NET_WITH_VAT</td>\n      <td>0.022153</td>\n    </tr>\n    <tr>\n      <th>15</th>\n      <td>DOCTOR_SPECIALTY_CODE</td>\n      <td>0.020822</td>\n    </tr>\n    <tr>\n      <th>3</th>\n      <td>LINE_ITEM_DISCOUNT</td>\n      <td>0.019851</td>\n    </tr>\n    <tr>\n      <th>25</th>\n      <td>TOTAL_DEDUCTIBLE</td>\n      <td>0.019761</td>\n    </tr>\n    <tr>\n      <th>11</th>\n      <td>UNIT_PRICE_NET</td>\n      <td>0.019461</td>\n    </tr>\n    <tr>\n      <th>30</th>\n      <td>NEW_BORN</td>\n      <td>0.018217</td>\n    </tr>\n    <tr>\n      <th>42</th>\n      <td>CombinedText10</td>\n      <td>0.016759</td>\n    </tr>\n    <tr>\n      <th>40</th>\n      <td>CombinedText8</td>\n      <td>0.015763</td>\n    </tr>\n    <tr>\n      <th>13</th>\n      <td>EMERGENCY_INDICATOR</td>\n      <td>0.015361</td>\n    </tr>\n    <tr>\n      <th>24</th>\n      <td>TOTAL_DISCOUNT</td>\n      <td>0.014266</td>\n    </tr>\n    <tr>\n      <th>1</th>\n      <td>QTY</td>\n      <td>0.013937</td>\n    </tr>\n    <tr>\n      <th>23</th>\n      <td>TOTAL_CLAIMED_AMOUNT_SAR</td>\n      <td>0.013675</td>\n    </tr>\n    <tr>\n      <th>22</th>\n      <td>CLAIM_TYPE</td>\n      <td>0.013078</td>\n    </tr>\n    <tr>\n      <th>16</th>\n      <td>DOCTOR_CODE</td>\n      <td>0.012588</td>\n    </tr>\n    <tr>\n      <th>26</th>\n      <td>TOTAL_PATIENT_VATAMOUNT</td>\n      <td>0.011738</td>\n    </tr>\n    <tr>\n      <th>17</th>\n      <td>PATIENT_AGE</td>\n      <td>0.010731</td>\n    </tr>\n    <tr>\n      <th>43</th>\n      <td>CombinedText11</td>\n      <td>0.009750</td>\n    </tr>\n    <tr>\n      <th>18</th>\n      <td>UNIT_OF_AGE</td>\n      <td>0.009092</td>\n    </tr>\n    <tr>\n      <th>41</th>\n      <td>CombinedText9</td>\n      <td>0.007693</td>\n    </tr>\n    <tr>\n      <th>20</th>\n      <td>PATIENT_MARITAL_STATUS</td>\n      <td>0.007472</td>\n    </tr>\n    <tr>\n      <th>39</th>\n      <td>CombinedText7</td>\n      <td>0.006884</td>\n    </tr>\n    <tr>\n      <th>9</th>\n      <td>QTY_STOCKED_UOM</td>\n      <td>0.005712</td>\n    </tr>\n    <tr>\n      <th>5</th>\n      <td>PATIENT_VAT_AMOUNT</td>\n      <td>0.005500</td>\n    </tr>\n    <tr>\n      <th>21</th>\n      <td>PATIENT_GENDER</td>\n      <td>0.005308</td>\n    </tr>\n    <tr>\n      <th>45</th>\n      <td>CombinedText13</td>\n      <td>0.003639</td>\n    </tr>\n    <tr>\n      <th>7</th>\n      <td>TREATMENT_TYPE_INDICATOR</td>\n      <td>0.000000</td>\n    </tr>\n    <tr>\n      <th>32</th>\n      <td>PatientAgeRange</td>\n      <td>0.000000</td>\n    </tr>\n    <tr>\n      <th>31</th>\n      <td>ICD10</td>\n      <td>0.000000</td>\n    </tr>\n    <tr>\n      <th>44</th>\n      <td>CombinedText12</td>\n      <td>0.000000</td>\n    </tr>\n    <tr>\n      <th>46</th>\n      <td>CombinedText14</td>\n      <td>0.000000</td>\n    </tr>\n    <tr>\n      <th>47</th>\n      <td>CombinedText15</td>\n      <td>0.000000</td>\n    </tr>\n    <tr>\n      <th>48</th>\n      <td>CombinedText16</td>\n      <td>0.000000</td>\n    </tr>\n  </tbody>\n</table>\n</div>"
     },
     "execution_count": 28,
     "metadata": {},
     "output_type": "execute_result"
    }
   ],
   "source": [
    "top_model_features = model_runner.get_xgboost_feature_importance()\n",
    "\n",
    "features_df = pd.DataFrame({\"Column_name\":X_test_encoded.columns,\"Feature_importance\":top_model_features}).sort_values(\n",
    "    by=['Feature_importance'],ascending=False)\n",
    "features_df"
   ],
   "metadata": {
    "collapsed": false,
    "ExecuteTime": {
     "end_time": "2024-08-16T15:27:47.482209600Z",
     "start_time": "2024-08-16T15:27:47.286442900Z"
    }
   }
  },
  {
   "cell_type": "code",
   "execution_count": 29,
   "outputs": [],
   "source": [
    "features_df.to_csv('Features_importance.csv',index=False)"
   ],
   "metadata": {
    "collapsed": false,
    "ExecuteTime": {
     "end_time": "2024-08-16T15:28:09.904039300Z",
     "start_time": "2024-08-16T15:28:09.838896700Z"
    }
   }
  },
  {
   "cell_type": "markdown",
   "source": [
    "## Rejection Reason Notes Codes Analysis\n"
   ],
   "metadata": {
    "collapsed": false
   }
  },
  {
   "cell_type": "code",
   "execution_count": 5,
   "outputs": [
    {
     "name": "stderr",
     "output_type": "stream",
     "text": [
      "C:\\Users\\omar.mounir\\AppData\\Local\\Temp\\ipykernel_12424\\3523704105.py:6: DtypeWarning: Columns (26,39,41,49,51) have mixed types. Specify dtype option on import or set low_memory=False.\n",
      "  df = pd.read_csv('data/HJH/12-06-2024/df.csv')\n"
     ]
    }
   ],
   "source": [
    "from src.utilities_rejection import RejectionReasonLabeling\n",
    "from src.data_local import MergedDataPreprocessing\n",
    "from cashe import get_cashed_input,read_cashed_original\n",
    "\n",
    "#df = get_cashed_input()\n",
    "df = pd.read_csv('data/HJH/12-06-2024/df.csv')"
   ],
   "metadata": {
    "collapsed": false,
    "ExecuteTime": {
     "end_time": "2024-08-15T15:40:37.607299900Z",
     "start_time": "2024-08-15T15:40:21.254790900Z"
    }
   }
  },
  {
   "cell_type": "code",
   "execution_count": 6,
   "outputs": [
    {
     "data": {
      "text/plain": "OUTCOME\nAPPROVED    107638\nREJECTED     85261\nPARTIAL      14306\nName: count, dtype: int64"
     },
     "execution_count": 6,
     "metadata": {},
     "output_type": "execute_result"
    }
   ],
   "source": [
    "df['OUTCOME'].value_counts()"
   ],
   "metadata": {
    "collapsed": false,
    "ExecuteTime": {
     "end_time": "2024-08-15T15:40:37.651263900Z",
     "start_time": "2024-08-15T15:40:37.610506400Z"
    }
   }
  },
  {
   "cell_type": "code",
   "execution_count": 7,
   "outputs": [],
   "source": [
    "label_technical = RejectionReasonLabeling(df)\n",
    "label_technical.recoginze_label()"
   ],
   "metadata": {
    "collapsed": false,
    "ExecuteTime": {
     "end_time": "2024-08-15T15:42:01.331797900Z",
     "start_time": "2024-08-15T15:41:55.381855600Z"
    }
   }
  },
  {
   "cell_type": "code",
   "execution_count": 43,
   "outputs": [],
   "source": [
    "#df_original = read_cashed_original()\n",
    "#label_technical.recognize_service(df_original)"
   ],
   "metadata": {
    "collapsed": false,
    "ExecuteTime": {
     "end_time": "2024-08-05T13:18:44.083659700Z",
     "start_time": "2024-08-05T13:13:07.851024800Z"
    }
   }
  },
  {
   "cell_type": "code",
   "execution_count": 8,
   "outputs": [
    {
     "data": {
      "text/plain": "        CREATED_BY_USER        CREATION_DATE  VISIT_ID  NET_WITH_VAT  \\\n0                 10335  2024-01-01 09:58:15    194131        575.00   \n1                 10335  2024-01-01 09:58:15    194131        312.80   \n2                 10335  2024-01-01 09:58:15    194131         11.38   \n3                 10335  2024-01-01 09:58:15    194131      15346.75   \n4                 10335  2024-01-01 10:00:43    194132          0.88   \n...                 ...                  ...       ...           ...   \n478139             9638  2024-05-31 18:36:40    252592        113.84   \n478140             9638  2024-05-31 18:36:40    252592         56.92   \n478141             9638  2024-05-31 18:36:40    252592        168.94   \n478142             9638  2024-05-31 18:36:40    252592          2.08   \n478143             9638  2024-05-31 18:36:40    252592          0.07   \n\n                             SERVICE_DESCRIPTION  QTY  LINE_CLAIMED_AMOUNT  \\\n0          Routine preoperative anaes assessment  1.0               500.00   \n1                                 Cross Matching  1.0               340.00   \n2                 TRANDATE INJ. 100 MG.-AMP.20ML  1.0                11.98   \n3           Elective classical caesarean section  1.0             15700.00   \n4                  Hypodermic needle, single-use  1.0                 1.10   \n...                                          ...  ...                  ...   \n478139                      VANIN 500 MG 10 VIAL  4.0               122.40   \n478140                      VANIN 500 MG 10 VIAL  2.0                61.20   \n478141  Room and Board ICU excluding consumables  1.0               226.00   \n478142                 TAZMERON 15 MG  30 TABLET  1.0                 2.24   \n478143        AZERA 100 MG ENTERIC-COATED TABLET  1.0                 0.07   \n\n        LINE_CLAIMED_AMOUNT_SAR  CO_PAY  CO_INSURANCE  ...  NEW_BORN  \\\n0                        500.00     0.0        500.00  ...         N   \n1                        340.00     0.0        340.00  ...         N   \n2                         11.98     0.0         11.98  ...         N   \n3                      15700.00     0.0      15700.00  ...         N   \n4                          1.10     0.0          1.10  ...         N   \n...                         ...     ...           ...  ...       ...   \n478139                   122.40     0.0        122.40  ...         N   \n478140                    61.20     0.0         61.20  ...         N   \n478141                   226.00     0.0        226.00  ...         N   \n478142                     2.24     0.0          2.24  ...         N   \n478143                     0.07     0.0          0.07  ...         N   \n\n        PATIENT_IDENTITY_TYPE  BILLABLE_PERIOD_START  BILLABLE_PERIOD_END  \\\n0                           H    2023-12-07 10:29:10  2023-12-09 09:52:10   \n1                           H    2023-12-07 10:29:10  2023-12-09 09:52:10   \n2                           H    2023-12-07 10:29:10  2023-12-09 09:52:10   \n3                           H    2023-12-07 10:29:10  2023-12-09 09:52:10   \n4                           H    2023-12-07 14:09:32  2023-12-09 09:52:28   \n...                       ...                    ...                  ...   \n478139                      H    2024-04-16 07:45:09  2024-05-05 22:07:21   \n478140                      H    2024-04-16 07:45:09  2024-05-05 22:07:21   \n478141                      H    2024-04-16 07:45:09  2024-05-05 22:07:21   \n478142                      H    2024-04-16 07:45:09  2024-05-05 22:07:21   \n478143                      H    2024-04-16 07:45:09  2024-05-05 22:07:21   \n\n        BATCH_PERIOD_START  BATCH_PERIOD_END  Episode_Key  ICD10  \\\n0               2023-12-01        2023-12-10  1_1335736-8    O82   \n1               2023-12-01        2023-12-10  1_1335736-8    O82   \n2               2023-12-01        2023-12-10  1_1335736-8    O82   \n3               2023-12-01        2023-12-10  1_1335736-8    O82   \n4               2023-12-01        2023-12-10          NaN    NaN   \n...                    ...               ...          ...    ...   \n478139          2024-05-01        2024-05-15          NaN    NaN   \n478140          2024-05-01        2024-05-15          NaN    NaN   \n478141          2024-05-01        2024-05-15          NaN    NaN   \n478142          2024-05-01        2024-05-15          NaN    NaN   \n478143          2024-05-01        2024-05-15          NaN    NaN   \n\n        Diagnosis_Key  NPHIES_CODE  \n0        1_1111231440         None  \n1        1_1111231440         None  \n2        1_1111231440         None  \n3        1_1111231440         None  \n4                 NaN         None  \n...               ...          ...  \n478139            NaN         None  \n478140            NaN         None  \n478141            NaN         None  \n478142            NaN         None  \n478143            NaN         None  \n\n[478144 rows x 97 columns]",
      "text/html": "<div>\n<style scoped>\n    .dataframe tbody tr th:only-of-type {\n        vertical-align: middle;\n    }\n\n    .dataframe tbody tr th {\n        vertical-align: top;\n    }\n\n    .dataframe thead th {\n        text-align: right;\n    }\n</style>\n<table border=\"1\" class=\"dataframe\">\n  <thead>\n    <tr style=\"text-align: right;\">\n      <th></th>\n      <th>CREATED_BY_USER</th>\n      <th>CREATION_DATE</th>\n      <th>VISIT_ID</th>\n      <th>NET_WITH_VAT</th>\n      <th>SERVICE_DESCRIPTION</th>\n      <th>QTY</th>\n      <th>LINE_CLAIMED_AMOUNT</th>\n      <th>LINE_CLAIMED_AMOUNT_SAR</th>\n      <th>CO_PAY</th>\n      <th>CO_INSURANCE</th>\n      <th>...</th>\n      <th>NEW_BORN</th>\n      <th>PATIENT_IDENTITY_TYPE</th>\n      <th>BILLABLE_PERIOD_START</th>\n      <th>BILLABLE_PERIOD_END</th>\n      <th>BATCH_PERIOD_START</th>\n      <th>BATCH_PERIOD_END</th>\n      <th>Episode_Key</th>\n      <th>ICD10</th>\n      <th>Diagnosis_Key</th>\n      <th>NPHIES_CODE</th>\n    </tr>\n  </thead>\n  <tbody>\n    <tr>\n      <th>0</th>\n      <td>10335</td>\n      <td>2024-01-01 09:58:15</td>\n      <td>194131</td>\n      <td>575.00</td>\n      <td>Routine preoperative anaes assessment</td>\n      <td>1.0</td>\n      <td>500.00</td>\n      <td>500.00</td>\n      <td>0.0</td>\n      <td>500.00</td>\n      <td>...</td>\n      <td>N</td>\n      <td>H</td>\n      <td>2023-12-07 10:29:10</td>\n      <td>2023-12-09 09:52:10</td>\n      <td>2023-12-01</td>\n      <td>2023-12-10</td>\n      <td>1_1335736-8</td>\n      <td>O82</td>\n      <td>1_1111231440</td>\n      <td>None</td>\n    </tr>\n    <tr>\n      <th>1</th>\n      <td>10335</td>\n      <td>2024-01-01 09:58:15</td>\n      <td>194131</td>\n      <td>312.80</td>\n      <td>Cross Matching</td>\n      <td>1.0</td>\n      <td>340.00</td>\n      <td>340.00</td>\n      <td>0.0</td>\n      <td>340.00</td>\n      <td>...</td>\n      <td>N</td>\n      <td>H</td>\n      <td>2023-12-07 10:29:10</td>\n      <td>2023-12-09 09:52:10</td>\n      <td>2023-12-01</td>\n      <td>2023-12-10</td>\n      <td>1_1335736-8</td>\n      <td>O82</td>\n      <td>1_1111231440</td>\n      <td>None</td>\n    </tr>\n    <tr>\n      <th>2</th>\n      <td>10335</td>\n      <td>2024-01-01 09:58:15</td>\n      <td>194131</td>\n      <td>11.38</td>\n      <td>TRANDATE INJ. 100 MG.-AMP.20ML</td>\n      <td>1.0</td>\n      <td>11.98</td>\n      <td>11.98</td>\n      <td>0.0</td>\n      <td>11.98</td>\n      <td>...</td>\n      <td>N</td>\n      <td>H</td>\n      <td>2023-12-07 10:29:10</td>\n      <td>2023-12-09 09:52:10</td>\n      <td>2023-12-01</td>\n      <td>2023-12-10</td>\n      <td>1_1335736-8</td>\n      <td>O82</td>\n      <td>1_1111231440</td>\n      <td>None</td>\n    </tr>\n    <tr>\n      <th>3</th>\n      <td>10335</td>\n      <td>2024-01-01 09:58:15</td>\n      <td>194131</td>\n      <td>15346.75</td>\n      <td>Elective classical caesarean section</td>\n      <td>1.0</td>\n      <td>15700.00</td>\n      <td>15700.00</td>\n      <td>0.0</td>\n      <td>15700.00</td>\n      <td>...</td>\n      <td>N</td>\n      <td>H</td>\n      <td>2023-12-07 10:29:10</td>\n      <td>2023-12-09 09:52:10</td>\n      <td>2023-12-01</td>\n      <td>2023-12-10</td>\n      <td>1_1335736-8</td>\n      <td>O82</td>\n      <td>1_1111231440</td>\n      <td>None</td>\n    </tr>\n    <tr>\n      <th>4</th>\n      <td>10335</td>\n      <td>2024-01-01 10:00:43</td>\n      <td>194132</td>\n      <td>0.88</td>\n      <td>Hypodermic needle, single-use</td>\n      <td>1.0</td>\n      <td>1.10</td>\n      <td>1.10</td>\n      <td>0.0</td>\n      <td>1.10</td>\n      <td>...</td>\n      <td>N</td>\n      <td>H</td>\n      <td>2023-12-07 14:09:32</td>\n      <td>2023-12-09 09:52:28</td>\n      <td>2023-12-01</td>\n      <td>2023-12-10</td>\n      <td>NaN</td>\n      <td>NaN</td>\n      <td>NaN</td>\n      <td>None</td>\n    </tr>\n    <tr>\n      <th>...</th>\n      <td>...</td>\n      <td>...</td>\n      <td>...</td>\n      <td>...</td>\n      <td>...</td>\n      <td>...</td>\n      <td>...</td>\n      <td>...</td>\n      <td>...</td>\n      <td>...</td>\n      <td>...</td>\n      <td>...</td>\n      <td>...</td>\n      <td>...</td>\n      <td>...</td>\n      <td>...</td>\n      <td>...</td>\n      <td>...</td>\n      <td>...</td>\n      <td>...</td>\n      <td>...</td>\n    </tr>\n    <tr>\n      <th>478139</th>\n      <td>9638</td>\n      <td>2024-05-31 18:36:40</td>\n      <td>252592</td>\n      <td>113.84</td>\n      <td>VANIN 500 MG 10 VIAL</td>\n      <td>4.0</td>\n      <td>122.40</td>\n      <td>122.40</td>\n      <td>0.0</td>\n      <td>122.40</td>\n      <td>...</td>\n      <td>N</td>\n      <td>H</td>\n      <td>2024-04-16 07:45:09</td>\n      <td>2024-05-05 22:07:21</td>\n      <td>2024-05-01</td>\n      <td>2024-05-15</td>\n      <td>NaN</td>\n      <td>NaN</td>\n      <td>NaN</td>\n      <td>None</td>\n    </tr>\n    <tr>\n      <th>478140</th>\n      <td>9638</td>\n      <td>2024-05-31 18:36:40</td>\n      <td>252592</td>\n      <td>56.92</td>\n      <td>VANIN 500 MG 10 VIAL</td>\n      <td>2.0</td>\n      <td>61.20</td>\n      <td>61.20</td>\n      <td>0.0</td>\n      <td>61.20</td>\n      <td>...</td>\n      <td>N</td>\n      <td>H</td>\n      <td>2024-04-16 07:45:09</td>\n      <td>2024-05-05 22:07:21</td>\n      <td>2024-05-01</td>\n      <td>2024-05-15</td>\n      <td>NaN</td>\n      <td>NaN</td>\n      <td>NaN</td>\n      <td>None</td>\n    </tr>\n    <tr>\n      <th>478141</th>\n      <td>9638</td>\n      <td>2024-05-31 18:36:40</td>\n      <td>252592</td>\n      <td>168.94</td>\n      <td>Room and Board ICU excluding consumables</td>\n      <td>1.0</td>\n      <td>226.00</td>\n      <td>226.00</td>\n      <td>0.0</td>\n      <td>226.00</td>\n      <td>...</td>\n      <td>N</td>\n      <td>H</td>\n      <td>2024-04-16 07:45:09</td>\n      <td>2024-05-05 22:07:21</td>\n      <td>2024-05-01</td>\n      <td>2024-05-15</td>\n      <td>NaN</td>\n      <td>NaN</td>\n      <td>NaN</td>\n      <td>None</td>\n    </tr>\n    <tr>\n      <th>478142</th>\n      <td>9638</td>\n      <td>2024-05-31 18:36:40</td>\n      <td>252592</td>\n      <td>2.08</td>\n      <td>TAZMERON 15 MG  30 TABLET</td>\n      <td>1.0</td>\n      <td>2.24</td>\n      <td>2.24</td>\n      <td>0.0</td>\n      <td>2.24</td>\n      <td>...</td>\n      <td>N</td>\n      <td>H</td>\n      <td>2024-04-16 07:45:09</td>\n      <td>2024-05-05 22:07:21</td>\n      <td>2024-05-01</td>\n      <td>2024-05-15</td>\n      <td>NaN</td>\n      <td>NaN</td>\n      <td>NaN</td>\n      <td>None</td>\n    </tr>\n    <tr>\n      <th>478143</th>\n      <td>9638</td>\n      <td>2024-05-31 18:36:40</td>\n      <td>252592</td>\n      <td>0.07</td>\n      <td>AZERA 100 MG ENTERIC-COATED TABLET</td>\n      <td>1.0</td>\n      <td>0.07</td>\n      <td>0.07</td>\n      <td>0.0</td>\n      <td>0.07</td>\n      <td>...</td>\n      <td>N</td>\n      <td>H</td>\n      <td>2024-04-16 07:45:09</td>\n      <td>2024-05-05 22:07:21</td>\n      <td>2024-05-01</td>\n      <td>2024-05-15</td>\n      <td>NaN</td>\n      <td>NaN</td>\n      <td>NaN</td>\n      <td>None</td>\n    </tr>\n  </tbody>\n</table>\n<p>478144 rows × 97 columns</p>\n</div>"
     },
     "execution_count": 8,
     "metadata": {},
     "output_type": "execute_result"
    }
   ],
   "source": [
    "df"
   ],
   "metadata": {
    "collapsed": false,
    "ExecuteTime": {
     "end_time": "2024-08-15T15:42:01.731961400Z",
     "start_time": "2024-08-15T15:42:01.333794500Z"
    }
   }
  },
  {
   "cell_type": "code",
   "execution_count": 9,
   "outputs": [
    {
     "data": {
      "text/plain": "   NPHIES_CODE  LINE_CLAIMED_AMOUNT\n20      CV-1-1           7112957.40\n31      MN-1-1           3791351.04\n36      SE-1-6           3086728.68\n19      BE-1-7           2507428.10\n16      BE-1-4           1973048.38\n12      BE-1-1           1865733.43\n15      BE-1-3           1779970.90\n18      BE-1-6           1295824.43\n38      SE-1-8            688381.38\n17      BE-1-5            535632.13\n39      SE-1-9            465447.95\n4       AD-2-4            376637.44\n24      CV-1-4            343556.41\n23      CV-1-3            294458.59\n34      SE-1-2            286038.63\n5       AD-2-5            269010.00\n7       AD-3-2            169934.33\n25      CV-1-8            160846.84\n6       AD-2-6            120821.66\n29      CV-3-2            115250.14\n22      CV-1-2            103899.99\n2       AD-1-6             93454.59\n28      CV-3-1             87891.88\n14      BE-1-2             61278.50\n30      CV-3-5             49245.88\n27      CV-2-1             39626.77\n8       AD-3-3             32079.88\n13     BE-1-10             27711.55\n0       AD-1-3             19481.75\n3       AD-1-7             19057.73\n32      MN-1-2             12024.01\n10      AD-3-7              5704.43\n26      CV-1-9              5300.00\n1       AD-1-4              5128.60\n9       AD-3-5              1214.39\n11      AD-3-8               840.50\n35      SE-1-5               671.88\n21     CV-1-10               667.14\n37      SE-1-7               180.00\n33     SE-1-10                11.01",
      "text/html": "<div>\n<style scoped>\n    .dataframe tbody tr th:only-of-type {\n        vertical-align: middle;\n    }\n\n    .dataframe tbody tr th {\n        vertical-align: top;\n    }\n\n    .dataframe thead th {\n        text-align: right;\n    }\n</style>\n<table border=\"1\" class=\"dataframe\">\n  <thead>\n    <tr style=\"text-align: right;\">\n      <th></th>\n      <th>NPHIES_CODE</th>\n      <th>LINE_CLAIMED_AMOUNT</th>\n    </tr>\n  </thead>\n  <tbody>\n    <tr>\n      <th>20</th>\n      <td>CV-1-1</td>\n      <td>7112957.40</td>\n    </tr>\n    <tr>\n      <th>31</th>\n      <td>MN-1-1</td>\n      <td>3791351.04</td>\n    </tr>\n    <tr>\n      <th>36</th>\n      <td>SE-1-6</td>\n      <td>3086728.68</td>\n    </tr>\n    <tr>\n      <th>19</th>\n      <td>BE-1-7</td>\n      <td>2507428.10</td>\n    </tr>\n    <tr>\n      <th>16</th>\n      <td>BE-1-4</td>\n      <td>1973048.38</td>\n    </tr>\n    <tr>\n      <th>12</th>\n      <td>BE-1-1</td>\n      <td>1865733.43</td>\n    </tr>\n    <tr>\n      <th>15</th>\n      <td>BE-1-3</td>\n      <td>1779970.90</td>\n    </tr>\n    <tr>\n      <th>18</th>\n      <td>BE-1-6</td>\n      <td>1295824.43</td>\n    </tr>\n    <tr>\n      <th>38</th>\n      <td>SE-1-8</td>\n      <td>688381.38</td>\n    </tr>\n    <tr>\n      <th>17</th>\n      <td>BE-1-5</td>\n      <td>535632.13</td>\n    </tr>\n    <tr>\n      <th>39</th>\n      <td>SE-1-9</td>\n      <td>465447.95</td>\n    </tr>\n    <tr>\n      <th>4</th>\n      <td>AD-2-4</td>\n      <td>376637.44</td>\n    </tr>\n    <tr>\n      <th>24</th>\n      <td>CV-1-4</td>\n      <td>343556.41</td>\n    </tr>\n    <tr>\n      <th>23</th>\n      <td>CV-1-3</td>\n      <td>294458.59</td>\n    </tr>\n    <tr>\n      <th>34</th>\n      <td>SE-1-2</td>\n      <td>286038.63</td>\n    </tr>\n    <tr>\n      <th>5</th>\n      <td>AD-2-5</td>\n      <td>269010.00</td>\n    </tr>\n    <tr>\n      <th>7</th>\n      <td>AD-3-2</td>\n      <td>169934.33</td>\n    </tr>\n    <tr>\n      <th>25</th>\n      <td>CV-1-8</td>\n      <td>160846.84</td>\n    </tr>\n    <tr>\n      <th>6</th>\n      <td>AD-2-6</td>\n      <td>120821.66</td>\n    </tr>\n    <tr>\n      <th>29</th>\n      <td>CV-3-2</td>\n      <td>115250.14</td>\n    </tr>\n    <tr>\n      <th>22</th>\n      <td>CV-1-2</td>\n      <td>103899.99</td>\n    </tr>\n    <tr>\n      <th>2</th>\n      <td>AD-1-6</td>\n      <td>93454.59</td>\n    </tr>\n    <tr>\n      <th>28</th>\n      <td>CV-3-1</td>\n      <td>87891.88</td>\n    </tr>\n    <tr>\n      <th>14</th>\n      <td>BE-1-2</td>\n      <td>61278.50</td>\n    </tr>\n    <tr>\n      <th>30</th>\n      <td>CV-3-5</td>\n      <td>49245.88</td>\n    </tr>\n    <tr>\n      <th>27</th>\n      <td>CV-2-1</td>\n      <td>39626.77</td>\n    </tr>\n    <tr>\n      <th>8</th>\n      <td>AD-3-3</td>\n      <td>32079.88</td>\n    </tr>\n    <tr>\n      <th>13</th>\n      <td>BE-1-10</td>\n      <td>27711.55</td>\n    </tr>\n    <tr>\n      <th>0</th>\n      <td>AD-1-3</td>\n      <td>19481.75</td>\n    </tr>\n    <tr>\n      <th>3</th>\n      <td>AD-1-7</td>\n      <td>19057.73</td>\n    </tr>\n    <tr>\n      <th>32</th>\n      <td>MN-1-2</td>\n      <td>12024.01</td>\n    </tr>\n    <tr>\n      <th>10</th>\n      <td>AD-3-7</td>\n      <td>5704.43</td>\n    </tr>\n    <tr>\n      <th>26</th>\n      <td>CV-1-9</td>\n      <td>5300.00</td>\n    </tr>\n    <tr>\n      <th>1</th>\n      <td>AD-1-4</td>\n      <td>5128.60</td>\n    </tr>\n    <tr>\n      <th>9</th>\n      <td>AD-3-5</td>\n      <td>1214.39</td>\n    </tr>\n    <tr>\n      <th>11</th>\n      <td>AD-3-8</td>\n      <td>840.50</td>\n    </tr>\n    <tr>\n      <th>35</th>\n      <td>SE-1-5</td>\n      <td>671.88</td>\n    </tr>\n    <tr>\n      <th>21</th>\n      <td>CV-1-10</td>\n      <td>667.14</td>\n    </tr>\n    <tr>\n      <th>37</th>\n      <td>SE-1-7</td>\n      <td>180.00</td>\n    </tr>\n    <tr>\n      <th>33</th>\n      <td>SE-1-10</td>\n      <td>11.01</td>\n    </tr>\n  </tbody>\n</table>\n</div>"
     },
     "execution_count": 9,
     "metadata": {},
     "output_type": "execute_result"
    }
   ],
   "source": [
    "df.groupby('NPHIES_CODE')['LINE_CLAIMED_AMOUNT'].sum().reset_index().sort_values(['LINE_CLAIMED_AMOUNT'],ascending=False)"
   ],
   "metadata": {
    "collapsed": false,
    "ExecuteTime": {
     "end_time": "2024-08-15T15:42:01.988118400Z",
     "start_time": "2024-08-15T15:42:01.733956Z"
    }
   }
  },
  {
   "cell_type": "code",
   "execution_count": 91,
   "outputs": [
    {
     "data": {
      "text/plain": "        PURCHASER_CODE  CONTRACT_NO  PAYER_LICENSE\n11985             2126        74298     7001519912\n12030             2126        74302     7001519912\n12126             2126       116960     7001519912\n12138             2126        74301     7001519912\n12825              607        85088     7001519912\n12910              607       118918     7001519912\n12926              607        60747     7001519912\n13125              607        96770     7001519912\n13168              607       122102     7001519912\n13192              607       115439     7001519912\n13208              607       121770     7001519912\n13249              607       121897     7001519912\n42700              275       104943     7001548317\n44225             2134        72725     7001548317\n73970             2126       116958     7001519912\n74464              607       105067     7001519912\n74597              607       121982     7001519912\n74613              607       121753     7001519912\n79259              607        36995     7001519912\n79631              607       104997     7001519912\n165418             607       114948     7001519912\n165457             607       123845     7001519912\n165499             607       122149     7001519912\n168882             275        88533     7001548317\n175566             607        36996     7001519912\n175786             607       105069     7001519912\n219726             275       104942     7001548317\n252286             607       121413     7001519912\n252309             607       118494     7001519912\n252314             607       123611     7001519912\n252332             607       124033     7001519912",
      "text/html": "<div>\n<style scoped>\n    .dataframe tbody tr th:only-of-type {\n        vertical-align: middle;\n    }\n\n    .dataframe tbody tr th {\n        vertical-align: top;\n    }\n\n    .dataframe thead th {\n        text-align: right;\n    }\n</style>\n<table border=\"1\" class=\"dataframe\">\n  <thead>\n    <tr style=\"text-align: right;\">\n      <th></th>\n      <th>PURCHASER_CODE</th>\n      <th>CONTRACT_NO</th>\n      <th>PAYER_LICENSE</th>\n    </tr>\n  </thead>\n  <tbody>\n    <tr>\n      <th>11985</th>\n      <td>2126</td>\n      <td>74298</td>\n      <td>7001519912</td>\n    </tr>\n    <tr>\n      <th>12030</th>\n      <td>2126</td>\n      <td>74302</td>\n      <td>7001519912</td>\n    </tr>\n    <tr>\n      <th>12126</th>\n      <td>2126</td>\n      <td>116960</td>\n      <td>7001519912</td>\n    </tr>\n    <tr>\n      <th>12138</th>\n      <td>2126</td>\n      <td>74301</td>\n      <td>7001519912</td>\n    </tr>\n    <tr>\n      <th>12825</th>\n      <td>607</td>\n      <td>85088</td>\n      <td>7001519912</td>\n    </tr>\n    <tr>\n      <th>12910</th>\n      <td>607</td>\n      <td>118918</td>\n      <td>7001519912</td>\n    </tr>\n    <tr>\n      <th>12926</th>\n      <td>607</td>\n      <td>60747</td>\n      <td>7001519912</td>\n    </tr>\n    <tr>\n      <th>13125</th>\n      <td>607</td>\n      <td>96770</td>\n      <td>7001519912</td>\n    </tr>\n    <tr>\n      <th>13168</th>\n      <td>607</td>\n      <td>122102</td>\n      <td>7001519912</td>\n    </tr>\n    <tr>\n      <th>13192</th>\n      <td>607</td>\n      <td>115439</td>\n      <td>7001519912</td>\n    </tr>\n    <tr>\n      <th>13208</th>\n      <td>607</td>\n      <td>121770</td>\n      <td>7001519912</td>\n    </tr>\n    <tr>\n      <th>13249</th>\n      <td>607</td>\n      <td>121897</td>\n      <td>7001519912</td>\n    </tr>\n    <tr>\n      <th>42700</th>\n      <td>275</td>\n      <td>104943</td>\n      <td>7001548317</td>\n    </tr>\n    <tr>\n      <th>44225</th>\n      <td>2134</td>\n      <td>72725</td>\n      <td>7001548317</td>\n    </tr>\n    <tr>\n      <th>73970</th>\n      <td>2126</td>\n      <td>116958</td>\n      <td>7001519912</td>\n    </tr>\n    <tr>\n      <th>74464</th>\n      <td>607</td>\n      <td>105067</td>\n      <td>7001519912</td>\n    </tr>\n    <tr>\n      <th>74597</th>\n      <td>607</td>\n      <td>121982</td>\n      <td>7001519912</td>\n    </tr>\n    <tr>\n      <th>74613</th>\n      <td>607</td>\n      <td>121753</td>\n      <td>7001519912</td>\n    </tr>\n    <tr>\n      <th>79259</th>\n      <td>607</td>\n      <td>36995</td>\n      <td>7001519912</td>\n    </tr>\n    <tr>\n      <th>79631</th>\n      <td>607</td>\n      <td>104997</td>\n      <td>7001519912</td>\n    </tr>\n    <tr>\n      <th>165418</th>\n      <td>607</td>\n      <td>114948</td>\n      <td>7001519912</td>\n    </tr>\n    <tr>\n      <th>165457</th>\n      <td>607</td>\n      <td>123845</td>\n      <td>7001519912</td>\n    </tr>\n    <tr>\n      <th>165499</th>\n      <td>607</td>\n      <td>122149</td>\n      <td>7001519912</td>\n    </tr>\n    <tr>\n      <th>168882</th>\n      <td>275</td>\n      <td>88533</td>\n      <td>7001548317</td>\n    </tr>\n    <tr>\n      <th>175566</th>\n      <td>607</td>\n      <td>36996</td>\n      <td>7001519912</td>\n    </tr>\n    <tr>\n      <th>175786</th>\n      <td>607</td>\n      <td>105069</td>\n      <td>7001519912</td>\n    </tr>\n    <tr>\n      <th>219726</th>\n      <td>275</td>\n      <td>104942</td>\n      <td>7001548317</td>\n    </tr>\n    <tr>\n      <th>252286</th>\n      <td>607</td>\n      <td>121413</td>\n      <td>7001519912</td>\n    </tr>\n    <tr>\n      <th>252309</th>\n      <td>607</td>\n      <td>118494</td>\n      <td>7001519912</td>\n    </tr>\n    <tr>\n      <th>252314</th>\n      <td>607</td>\n      <td>123611</td>\n      <td>7001519912</td>\n    </tr>\n    <tr>\n      <th>252332</th>\n      <td>607</td>\n      <td>124033</td>\n      <td>7001519912</td>\n    </tr>\n  </tbody>\n</table>\n</div>"
     },
     "execution_count": 91,
     "metadata": {},
     "output_type": "execute_result"
    }
   ],
   "source": [
    "df[df['NPHIES_CODE']=='SE-1-9'][['PURCHASER_CODE','CONTRACT_NO','PAYER_LICENSE']].drop_duplicates()"
   ],
   "metadata": {
    "collapsed": false,
    "ExecuteTime": {
     "end_time": "2024-08-09T19:07:29.528812400Z",
     "start_time": "2024-08-09T19:07:29.219602700Z"
    }
   }
  },
  {
   "cell_type": "code",
   "execution_count": 95,
   "outputs": [
    {
     "data": {
      "text/plain": "0.8049165105072948"
     },
     "execution_count": 95,
     "metadata": {},
     "output_type": "execute_result"
    }
   ],
   "source": [
    "df[df.QTY.isin([1.0,2.0,3.0])].QTY.value_counts().sum() / len(df)"
   ],
   "metadata": {
    "collapsed": false,
    "ExecuteTime": {
     "end_time": "2024-08-12T21:15:32.073062100Z",
     "start_time": "2024-08-12T21:15:31.518618800Z"
    }
   }
  },
  {
   "cell_type": "code",
   "execution_count": 96,
   "outputs": [
    {
     "data": {
      "text/plain": "478144"
     },
     "execution_count": 96,
     "metadata": {},
     "output_type": "execute_result"
    }
   ],
   "source": [
    "len(df)"
   ],
   "metadata": {
    "collapsed": false,
    "ExecuteTime": {
     "end_time": "2024-08-12T21:17:56.312699900Z",
     "start_time": "2024-08-12T21:17:56.312699900Z"
    }
   }
  },
  {
   "cell_type": "code",
   "execution_count": 63,
   "outputs": [],
   "source": [
    "df.groupby('NPHIES_CODE')['LINE_CLAIMED_AMOUNT'].sum().reset_index().sort_values(['LINE_CLAIMED_AMOUNT'],ascending=False).\\\n",
    "    to_csv('data/Extras/2024_08_02/helper/a.csv',index=True)"
   ],
   "metadata": {
    "collapsed": false,
    "ExecuteTime": {
     "end_time": "2024-08-07T12:32:11.489222400Z",
     "start_time": "2024-08-07T12:32:11.294501500Z"
    }
   }
  },
  {
   "cell_type": "code",
   "execution_count": 69,
   "outputs": [
    {
     "data": {
      "text/plain": "        CONTRACT_NO  HIS_INSURANCE_CODE\n398360        74294                2134\n398364       117860                2134\n398363       117860                2134\n398365       117860                2134\n398361       117860                2134\n...             ...                 ...\n387587        74304                2134\n387926        74304                2134\n388312        72725                2134\n388311        72725                2134\n388313        74304                2134\n\n[12178 rows x 2 columns]",
      "text/html": "<div>\n<style scoped>\n    .dataframe tbody tr th:only-of-type {\n        vertical-align: middle;\n    }\n\n    .dataframe tbody tr th {\n        vertical-align: top;\n    }\n\n    .dataframe thead th {\n        text-align: right;\n    }\n</style>\n<table border=\"1\" class=\"dataframe\">\n  <thead>\n    <tr style=\"text-align: right;\">\n      <th></th>\n      <th>CONTRACT_NO</th>\n      <th>HIS_INSURANCE_CODE</th>\n    </tr>\n  </thead>\n  <tbody>\n    <tr>\n      <th>398360</th>\n      <td>74294</td>\n      <td>2134</td>\n    </tr>\n    <tr>\n      <th>398364</th>\n      <td>117860</td>\n      <td>2134</td>\n    </tr>\n    <tr>\n      <th>398363</th>\n      <td>117860</td>\n      <td>2134</td>\n    </tr>\n    <tr>\n      <th>398365</th>\n      <td>117860</td>\n      <td>2134</td>\n    </tr>\n    <tr>\n      <th>398361</th>\n      <td>117860</td>\n      <td>2134</td>\n    </tr>\n    <tr>\n      <th>...</th>\n      <td>...</td>\n      <td>...</td>\n    </tr>\n    <tr>\n      <th>387587</th>\n      <td>74304</td>\n      <td>2134</td>\n    </tr>\n    <tr>\n      <th>387926</th>\n      <td>74304</td>\n      <td>2134</td>\n    </tr>\n    <tr>\n      <th>388312</th>\n      <td>72725</td>\n      <td>2134</td>\n    </tr>\n    <tr>\n      <th>388311</th>\n      <td>72725</td>\n      <td>2134</td>\n    </tr>\n    <tr>\n      <th>388313</th>\n      <td>74304</td>\n      <td>2134</td>\n    </tr>\n  </tbody>\n</table>\n<p>12178 rows × 2 columns</p>\n</div>"
     },
     "execution_count": 69,
     "metadata": {},
     "output_type": "execute_result"
    }
   ],
   "source": [
    "df[df['NPHIES_CODE']=='CV-1-1'][['CONTRACT_NO','HIS_INSURANCE_CODE']]"
   ],
   "metadata": {
    "collapsed": false,
    "ExecuteTime": {
     "end_time": "2024-08-08T19:19:14.211176400Z",
     "start_time": "2024-08-08T19:19:14.098968Z"
    }
   }
  },
  {
   "cell_type": "code",
   "execution_count": 78,
   "outputs": [
    {
     "data": {
      "text/plain": "SERVICE_DESCRIPTION\nUnlisted Code                                                                                                                    202\nAdhesive restoration(eg. compomer, composite, glass ionomer, polymer glass, resin composite), each additional surface, direct    139\nUric Acid Level, Blood                                                                                                            16\nGHBA1C                                                                                                                            13\nTSH                                                                                                                                7\nSyringe-loaded injector, manual, professional                                                                                      4\nComputerised tomography of chest                                                                                                   4\nIV admin of pharmac agt oth   unsp agent                                                                                           3\nUrine Culture Test                                                                                                                 3\nQuantitative Troponin (Protein) Analysis                                                                                           3\nAMOCLAN 1.2 GM VIAL                                                                                                                2\nFerritin                                                                                                                           2\nFree t4 (Thyroxine)                                                                                                                2\nConsultant Consultation                                                                                                            2\nIV admin of pharmac agt nutritional subs                                                                                           2\nWATER FOR INJECTION AMP 10ML                                                                                                       2\nMedical bag                                                                                                                        2\nIntrathcl admin pharmac agt oth   unsp                                                                                             2\nBlood sodium Level                                                                                                                 2\nk +                                                                                                                                2\nREPARIL GEL N                                                                                                                      1\nCKMB isoenzymes                                                                                                                    1\nUnlisted Procedure Code                                                                                                            1\nPeripheral intravenous cannula                                                                                                     1\nSkin Test                                                                                                                          1\nBlood sugar by glucometer                                                                                                          1\nBNP                                                                                                                                1\nCT of chest, abdomen   pelvis                                                                                                      1\nThyroid Hormone, t3 Measurement                                                                                                    1\nM-mode   2D real time u/s of heart                                                                                                 1\nSpecialist Consultation                                                                                                            1\nNebulizing system, heated                                                                                                          1\nResp medication administered nebuliser                                                                                             1\nBUN                                                                                                                                1\nPANTROX 40 MG IV  VIAL                                                                                                             1\nVANIN 500 MG 10 VIAL                                                                                                               1\nLiver enzyme (SGPT), Level                                                                                                         1\nCRP                                                                                                                                1\nCa Profile                                                                                                                         1\nATROVENT 250MCG-2ML UDV (SOLUTION FOR INHALATION)                                                                                  1\nAutomated complete Blood cell  and differential wbc count                                                                          1\nARCHIFAR 500 MG POWDER FOR SOLUTION FOR INJECTION OR INFUSION                                                                      1\nCreatinine Assay                                                                                                                   1\nOMNICEF 125MG-5ML SUSP                                                                                                             1\nFBS                                                                                                                                1\nCulture, Stool                                                                                                                     1\nIn vivo laboratory                                                                                                                 1\nName: count, dtype: int64"
     },
     "execution_count": 78,
     "metadata": {},
     "output_type": "execute_result"
    }
   ],
   "source": [
    "df[df['NPHIES_CODE']=='CV-3-2'].SERVICE_DESCRIPTION.value_counts()"
   ],
   "metadata": {
    "collapsed": false,
    "ExecuteTime": {
     "end_time": "2024-08-08T19:57:22.769052600Z",
     "start_time": "2024-08-08T19:57:22.682821600Z"
    }
   }
  },
  {
   "cell_type": "code",
   "execution_count": 55,
   "outputs": [
    {
     "data": {
      "text/plain": "        CREATED_BY_USER       CREATION_DATE  VISIT_ID  NET_WITH_VAT  \\\n420945            10708 2024-01-02 18:09:30    194912         83.16   \n477555            10658 2024-01-02 18:15:47    194944         14.96   \n408941            10658 2024-01-02 18:15:47    194944          7.17   \n408942            10658 2024-01-02 18:15:47    194944         13.01   \n408943            10658 2024-01-02 18:15:47    194944         18.43   \n...                 ...                 ...       ...           ...   \n377361            10335 2024-04-25 17:18:00    237570        175.95   \n377360            10335 2024-04-25 17:18:00    237570        276.00   \n378157            10335 2024-04-25 17:18:00    237570        430.39   \n378159            10335 2024-04-25 17:18:00    237570        263.58   \n378161            10335 2024-04-25 17:18:00    237570        414.00   \n\n                           SERVICE_DESCRIPTION   QTY  LINE_CLAIMED_AMOUNT  \\\n420945              Dressing of wound, small     1.0                99.00   \n477555       PANADOL EXTEND 665MG F.C. TABLETS  24.0                15.75   \n408941                     DECOZAL NASAL SPRAY   1.0                 7.55   \n408942  PARACETOL 10 MG/ML 100 ML BOTTLE (PSI)   1.0                13.70   \n408943         LEVOZAL 5 MG FILM COATED TABLET  20.0                19.40   \n...                                        ...   ...                  ...   \n377361    Load drug delv device oth   unsp agt   1.0               204.00   \n377360  Intrathcl admin pharmac agt oth   unsp   4.0               320.00   \n378157                                     ABG   1.0               499.00   \n378159               Blood sugar by glucometer   4.0               305.60   \n378161  Intrathcl admin pharmac agt oth   unsp   6.0               480.00   \n\n        LINE_CLAIMED_AMOUNT_SAR  CO_PAY  CO_INSURANCE  ...  NEW_BORN  \\\n420945                    99.00   14.85         84.15  ...         N   \n477555                    15.75    2.99         12.76  ...         N   \n408941                     7.55    1.43          6.12  ...         N   \n408942                    13.70    2.60         11.10  ...         N   \n408943                    19.40    3.69         15.71  ...         N   \n...                         ...     ...           ...  ...       ...   \n377361                   204.00    0.00        204.00  ...         N   \n377360                   320.00    0.00        320.00  ...         N   \n378157                   499.00    0.00        499.00  ...         N   \n378159                   305.60    0.00        305.60  ...         N   \n378161                   480.00    0.00        480.00  ...         N   \n\n        PATIENT_IDENTITY_TYPE  BILLABLE_PERIOD_START  BILLABLE_PERIOD_END  \\\n420945                      H    2023-12-12 00:00:00  2023-12-26 00:00:00   \n477555                      H    2023-12-26 00:00:00  2024-01-09 00:00:00   \n408941                      H    2023-12-26 00:00:00  2024-01-09 00:00:00   \n408942                      H    2023-12-26 00:00:00  2024-01-09 00:00:00   \n408943                      H    2023-12-26 00:00:00  2024-01-09 00:00:00   \n...                       ...                    ...                  ...   \n377361                     BN    2024-03-02 00:18:18  2024-03-18 16:04:53   \n377360                     BN    2024-03-02 00:18:18  2024-03-18 16:04:53   \n378157                     BN    2024-03-02 00:18:18  2024-03-18 16:04:53   \n378159                     BN    2024-03-02 00:18:18  2024-03-18 16:04:53   \n378161                     BN    2024-03-02 00:18:18  2024-03-18 16:04:53   \n\n        BATCH_PERIOD_START  BATCH_PERIOD_END  Episode_Key  ICD10  \\\n420945          2023-12-01        2023-12-31  1_783381-39    T30   \n477555          2023-12-01        2023-12-31   1_878295-9  J06.9   \n408941          2023-12-01        2023-12-31   1_878295-9  J06.9   \n408942          2023-12-01        2023-12-31   1_878295-9  J06.9   \n408943          2023-12-01        2023-12-31   1_878295-9  J06.9   \n...                    ...               ...          ...    ...   \n377361          2024-03-01        2024-03-31  1_1360604-2  R57.8   \n377360          2024-03-01        2024-03-31  1_1360604-2  R57.8   \n378157          2024-03-01        2024-03-31  1_1360604-2  R57.8   \n378159          2024-03-01        2024-03-31  1_1360604-2  R57.8   \n378161          2024-03-01        2024-03-31  1_1360604-2  R57.8   \n\n        Diagnosis_Key  NPHIES_CODE  \n420945    1_110237929       AD-2-4  \n477555     1_10164354       AD-2-4  \n408941     1_10164354       AD-2-4  \n408942     1_10164354       AD-2-4  \n408943     1_10164354       AD-2-4  \n...               ...          ...  \n377361   1_1111232265       AD-2-4  \n377360   1_1111232265       AD-2-4  \n378157   1_1111232265       AD-2-4  \n378159   1_1111232265       AD-2-4  \n378161   1_1111232265       AD-2-4  \n\n[759 rows x 97 columns]",
      "text/html": "<div>\n<style scoped>\n    .dataframe tbody tr th:only-of-type {\n        vertical-align: middle;\n    }\n\n    .dataframe tbody tr th {\n        vertical-align: top;\n    }\n\n    .dataframe thead th {\n        text-align: right;\n    }\n</style>\n<table border=\"1\" class=\"dataframe\">\n  <thead>\n    <tr style=\"text-align: right;\">\n      <th></th>\n      <th>CREATED_BY_USER</th>\n      <th>CREATION_DATE</th>\n      <th>VISIT_ID</th>\n      <th>NET_WITH_VAT</th>\n      <th>SERVICE_DESCRIPTION</th>\n      <th>QTY</th>\n      <th>LINE_CLAIMED_AMOUNT</th>\n      <th>LINE_CLAIMED_AMOUNT_SAR</th>\n      <th>CO_PAY</th>\n      <th>CO_INSURANCE</th>\n      <th>...</th>\n      <th>NEW_BORN</th>\n      <th>PATIENT_IDENTITY_TYPE</th>\n      <th>BILLABLE_PERIOD_START</th>\n      <th>BILLABLE_PERIOD_END</th>\n      <th>BATCH_PERIOD_START</th>\n      <th>BATCH_PERIOD_END</th>\n      <th>Episode_Key</th>\n      <th>ICD10</th>\n      <th>Diagnosis_Key</th>\n      <th>NPHIES_CODE</th>\n    </tr>\n  </thead>\n  <tbody>\n    <tr>\n      <th>420945</th>\n      <td>10708</td>\n      <td>2024-01-02 18:09:30</td>\n      <td>194912</td>\n      <td>83.16</td>\n      <td>Dressing of wound, small</td>\n      <td>1.0</td>\n      <td>99.00</td>\n      <td>99.00</td>\n      <td>14.85</td>\n      <td>84.15</td>\n      <td>...</td>\n      <td>N</td>\n      <td>H</td>\n      <td>2023-12-12 00:00:00</td>\n      <td>2023-12-26 00:00:00</td>\n      <td>2023-12-01</td>\n      <td>2023-12-31</td>\n      <td>1_783381-39</td>\n      <td>T30</td>\n      <td>1_110237929</td>\n      <td>AD-2-4</td>\n    </tr>\n    <tr>\n      <th>477555</th>\n      <td>10658</td>\n      <td>2024-01-02 18:15:47</td>\n      <td>194944</td>\n      <td>14.96</td>\n      <td>PANADOL EXTEND 665MG F.C. TABLETS</td>\n      <td>24.0</td>\n      <td>15.75</td>\n      <td>15.75</td>\n      <td>2.99</td>\n      <td>12.76</td>\n      <td>...</td>\n      <td>N</td>\n      <td>H</td>\n      <td>2023-12-26 00:00:00</td>\n      <td>2024-01-09 00:00:00</td>\n      <td>2023-12-01</td>\n      <td>2023-12-31</td>\n      <td>1_878295-9</td>\n      <td>J06.9</td>\n      <td>1_10164354</td>\n      <td>AD-2-4</td>\n    </tr>\n    <tr>\n      <th>408941</th>\n      <td>10658</td>\n      <td>2024-01-02 18:15:47</td>\n      <td>194944</td>\n      <td>7.17</td>\n      <td>DECOZAL NASAL SPRAY</td>\n      <td>1.0</td>\n      <td>7.55</td>\n      <td>7.55</td>\n      <td>1.43</td>\n      <td>6.12</td>\n      <td>...</td>\n      <td>N</td>\n      <td>H</td>\n      <td>2023-12-26 00:00:00</td>\n      <td>2024-01-09 00:00:00</td>\n      <td>2023-12-01</td>\n      <td>2023-12-31</td>\n      <td>1_878295-9</td>\n      <td>J06.9</td>\n      <td>1_10164354</td>\n      <td>AD-2-4</td>\n    </tr>\n    <tr>\n      <th>408942</th>\n      <td>10658</td>\n      <td>2024-01-02 18:15:47</td>\n      <td>194944</td>\n      <td>13.01</td>\n      <td>PARACETOL 10 MG/ML 100 ML BOTTLE (PSI)</td>\n      <td>1.0</td>\n      <td>13.70</td>\n      <td>13.70</td>\n      <td>2.60</td>\n      <td>11.10</td>\n      <td>...</td>\n      <td>N</td>\n      <td>H</td>\n      <td>2023-12-26 00:00:00</td>\n      <td>2024-01-09 00:00:00</td>\n      <td>2023-12-01</td>\n      <td>2023-12-31</td>\n      <td>1_878295-9</td>\n      <td>J06.9</td>\n      <td>1_10164354</td>\n      <td>AD-2-4</td>\n    </tr>\n    <tr>\n      <th>408943</th>\n      <td>10658</td>\n      <td>2024-01-02 18:15:47</td>\n      <td>194944</td>\n      <td>18.43</td>\n      <td>LEVOZAL 5 MG FILM COATED TABLET</td>\n      <td>20.0</td>\n      <td>19.40</td>\n      <td>19.40</td>\n      <td>3.69</td>\n      <td>15.71</td>\n      <td>...</td>\n      <td>N</td>\n      <td>H</td>\n      <td>2023-12-26 00:00:00</td>\n      <td>2024-01-09 00:00:00</td>\n      <td>2023-12-01</td>\n      <td>2023-12-31</td>\n      <td>1_878295-9</td>\n      <td>J06.9</td>\n      <td>1_10164354</td>\n      <td>AD-2-4</td>\n    </tr>\n    <tr>\n      <th>...</th>\n      <td>...</td>\n      <td>...</td>\n      <td>...</td>\n      <td>...</td>\n      <td>...</td>\n      <td>...</td>\n      <td>...</td>\n      <td>...</td>\n      <td>...</td>\n      <td>...</td>\n      <td>...</td>\n      <td>...</td>\n      <td>...</td>\n      <td>...</td>\n      <td>...</td>\n      <td>...</td>\n      <td>...</td>\n      <td>...</td>\n      <td>...</td>\n      <td>...</td>\n      <td>...</td>\n    </tr>\n    <tr>\n      <th>377361</th>\n      <td>10335</td>\n      <td>2024-04-25 17:18:00</td>\n      <td>237570</td>\n      <td>175.95</td>\n      <td>Load drug delv device oth   unsp agt</td>\n      <td>1.0</td>\n      <td>204.00</td>\n      <td>204.00</td>\n      <td>0.00</td>\n      <td>204.00</td>\n      <td>...</td>\n      <td>N</td>\n      <td>BN</td>\n      <td>2024-03-02 00:18:18</td>\n      <td>2024-03-18 16:04:53</td>\n      <td>2024-03-01</td>\n      <td>2024-03-31</td>\n      <td>1_1360604-2</td>\n      <td>R57.8</td>\n      <td>1_1111232265</td>\n      <td>AD-2-4</td>\n    </tr>\n    <tr>\n      <th>377360</th>\n      <td>10335</td>\n      <td>2024-04-25 17:18:00</td>\n      <td>237570</td>\n      <td>276.00</td>\n      <td>Intrathcl admin pharmac agt oth   unsp</td>\n      <td>4.0</td>\n      <td>320.00</td>\n      <td>320.00</td>\n      <td>0.00</td>\n      <td>320.00</td>\n      <td>...</td>\n      <td>N</td>\n      <td>BN</td>\n      <td>2024-03-02 00:18:18</td>\n      <td>2024-03-18 16:04:53</td>\n      <td>2024-03-01</td>\n      <td>2024-03-31</td>\n      <td>1_1360604-2</td>\n      <td>R57.8</td>\n      <td>1_1111232265</td>\n      <td>AD-2-4</td>\n    </tr>\n    <tr>\n      <th>378157</th>\n      <td>10335</td>\n      <td>2024-04-25 17:18:00</td>\n      <td>237570</td>\n      <td>430.39</td>\n      <td>ABG</td>\n      <td>1.0</td>\n      <td>499.00</td>\n      <td>499.00</td>\n      <td>0.00</td>\n      <td>499.00</td>\n      <td>...</td>\n      <td>N</td>\n      <td>BN</td>\n      <td>2024-03-02 00:18:18</td>\n      <td>2024-03-18 16:04:53</td>\n      <td>2024-03-01</td>\n      <td>2024-03-31</td>\n      <td>1_1360604-2</td>\n      <td>R57.8</td>\n      <td>1_1111232265</td>\n      <td>AD-2-4</td>\n    </tr>\n    <tr>\n      <th>378159</th>\n      <td>10335</td>\n      <td>2024-04-25 17:18:00</td>\n      <td>237570</td>\n      <td>263.58</td>\n      <td>Blood sugar by glucometer</td>\n      <td>4.0</td>\n      <td>305.60</td>\n      <td>305.60</td>\n      <td>0.00</td>\n      <td>305.60</td>\n      <td>...</td>\n      <td>N</td>\n      <td>BN</td>\n      <td>2024-03-02 00:18:18</td>\n      <td>2024-03-18 16:04:53</td>\n      <td>2024-03-01</td>\n      <td>2024-03-31</td>\n      <td>1_1360604-2</td>\n      <td>R57.8</td>\n      <td>1_1111232265</td>\n      <td>AD-2-4</td>\n    </tr>\n    <tr>\n      <th>378161</th>\n      <td>10335</td>\n      <td>2024-04-25 17:18:00</td>\n      <td>237570</td>\n      <td>414.00</td>\n      <td>Intrathcl admin pharmac agt oth   unsp</td>\n      <td>6.0</td>\n      <td>480.00</td>\n      <td>480.00</td>\n      <td>0.00</td>\n      <td>480.00</td>\n      <td>...</td>\n      <td>N</td>\n      <td>BN</td>\n      <td>2024-03-02 00:18:18</td>\n      <td>2024-03-18 16:04:53</td>\n      <td>2024-03-01</td>\n      <td>2024-03-31</td>\n      <td>1_1360604-2</td>\n      <td>R57.8</td>\n      <td>1_1111232265</td>\n      <td>AD-2-4</td>\n    </tr>\n  </tbody>\n</table>\n<p>759 rows × 97 columns</p>\n</div>"
     },
     "execution_count": 55,
     "metadata": {},
     "output_type": "execute_result"
    }
   ],
   "source": [
    "df[df['NPHIES_CODE']=='AD-2-4']"
   ],
   "metadata": {
    "collapsed": false,
    "ExecuteTime": {
     "end_time": "2024-08-07T12:24:51.883044400Z",
     "start_time": "2024-08-07T12:24:51.706214100Z"
    }
   }
  },
  {
   "cell_type": "code",
   "execution_count": 64,
   "outputs": [
    {
     "data": {
      "text/plain": "Index(['CREATED_BY_USER', 'CREATION_DATE', 'VISIT_ID', 'NET_WITH_VAT',\n       'SERVICE_DESCRIPTION', 'QTY', 'LINE_CLAIMED_AMOUNT',\n       'LINE_CLAIMED_AMOUNT_SAR', 'CO_PAY', 'CO_INSURANCE',\n       'LINE_ITEM_DISCOUNT', 'NET_AMOUNT', 'NET_VAT_AMOUNT',\n       'PATIENT_VAT_AMOUNT', 'VAT_PERCENTAGE', 'TREATMENT_TYPE_INDICATOR',\n       'SERVICE_TYPE', 'DURATION', 'QTY_STOCKED_UOM', 'UNIT_PRICE',\n       'OASIS_IOS_DESCRIPTION', 'SEQUENCE_NO', 'UNIT_PRICE_STOCKED_UOM',\n       'UNIT_PRICE_NET', 'DISCOUNT_PERCENTAGE', 'NOTES', 'OUTCOME',\n       'APPROVED_QUNATITY', 'REQUEST_DATE', 'VISIT_NO', 'VISIT_DATE',\n       'EMERGENCY_INDICATOR', 'PROVIDER_DEPARTMENT_CODE',\n       'PROVIDER_DEPARTMENT', 'DOCTOR_SPECIALTY_CODE', 'DOCTOR_CODE',\n       'PATIENT_NO', 'EPISODE_NO', 'PATIENT_ID', 'MEMBERSHIP_NO',\n       'PATIENT_ID_TYPE', 'PATIENT_NATIONAL_IQAMA_ID', 'PATIENT_DOB',\n       'PATIENT_AGE', 'UNIT_OF_AGE', 'PATIENT_NATIONALITY',\n       'PATIENT_MARITAL_STATUS', 'PATIENT_GENDER', 'PATIENT_MOBILE_NO',\n       'PATIENT_BADGE_NO', 'HIS_INSURANCE_CODE', 'POLICY_HOLDER_NO',\n       'CLAIM_TYPE', 'BATCH_NO', 'TOTAL_CLAIMED_AMOUNT',\n       'TOTAL_CLAIMED_AMOUNT_SAR', 'TOTAL_NET_AMOUNT', 'TOTAL_DISCOUNT',\n       'TOTAL_DEDUCTIBLE', 'TOTAL_PATIENT_VATAMOUNT', 'TOTAL_NET_VAT_AMOUNT',\n       'CLAIM_NO', 'STAT_END_DATE', 'AMEND_BY_USER', 'AMEND_LAST_DATE',\n       'PAYER_LICENSE', 'DOCTOR_LICENSE', 'DEPARTMENT_TYPE', 'TREATMENT_TYPE',\n       'CLAIM_INVOICE_NO', 'STAT_INVOICE_NO', 'PURCHASER_CODE', 'STATUS',\n       'API_TRANS_ID', 'SUBMIT_CLAIM_OUTCOME', 'SUBMIT_CLAIM_MESSAGE',\n       'RES_STATUS', 'RES_CLAIM_ID', 'CONSULTATION_INVOICE_NO',\n       'TREATMENT_SUB_TYPE', 'ELIGIBILITY_RESPONSE_ID',\n       'ELIGIBILITY_RESPONSE_SYSTEM', 'CONTRACT_NO',\n       'ELIGIBILITY_API_TRANS_ID', 'CLAIM_IDENTIFIER', 'ATTACHED_FILES',\n       'ATTACHMENT_TYPE', 'NEW_BORN', 'PATIENT_IDENTITY_TYPE',\n       'BILLABLE_PERIOD_START', 'BILLABLE_PERIOD_END', 'BATCH_PERIOD_START',\n       'BATCH_PERIOD_END', 'Episode_Key', 'ICD10', 'Diagnosis_Key',\n       'NPHIES_CODE'],\n      dtype='object')"
     },
     "execution_count": 64,
     "metadata": {},
     "output_type": "execute_result"
    }
   ],
   "source": [
    "df.columns"
   ],
   "metadata": {
    "collapsed": false,
    "ExecuteTime": {
     "end_time": "2024-08-07T13:18:34.475300Z",
     "start_time": "2024-08-07T13:18:34.408399700Z"
    }
   }
  },
  {
   "cell_type": "code",
   "execution_count": 57,
   "outputs": [],
   "source": [
    "#df.DUPLICATED_SERVICE.value_counts()"
   ],
   "metadata": {
    "collapsed": false,
    "ExecuteTime": {
     "end_time": "2024-08-07T12:25:00.133725500Z",
     "start_time": "2024-08-07T12:25:00.107115700Z"
    }
   }
  },
  {
   "cell_type": "code",
   "execution_count": null,
   "outputs": [],
   "source": [
    "## CV-x-x problems are related to the provider contract mainly, which can't be a part of our predictive analytics"
   ],
   "metadata": {
    "collapsed": false
   }
  },
  {
   "cell_type": "code",
   "execution_count": 4,
   "outputs": [
    {
     "data": {
      "text/plain": "                                      SERVICE_DESCRIPTION   ICD10\n397397                               DERMATIN SOLUTION 1%     H60\n397398                     DEXAFLOX OPHTHALMIC SUSPENSION     H60\n397468                   OPTIDEX-T STERILE OPHTALMIC SUSP   H00.1\n397606             PARACETOL 10 MG/ML 100 ML BOTTLE (PSI)   H66.9\n397541           PANADOL ADVANCE 500MG FILM COATED TABLET   H66.9\n...                                                   ...     ...\n388372                                            RIAZOLE  Z39.00\n388376                                                CRP   P51.9\n388377  Automated complete Blood cell  and differentia...   P51.9\n388378                             AVOBAN 2% W-W OINTMENT   P51.9\n388626                               RINA 0.5 MG/ML SYRUP   R50.9\n\n[17806 rows x 2 columns]",
      "text/html": "<div>\n<style scoped>\n    .dataframe tbody tr th:only-of-type {\n        vertical-align: middle;\n    }\n\n    .dataframe tbody tr th {\n        vertical-align: top;\n    }\n\n    .dataframe thead th {\n        text-align: right;\n    }\n</style>\n<table border=\"1\" class=\"dataframe\">\n  <thead>\n    <tr style=\"text-align: right;\">\n      <th></th>\n      <th>SERVICE_DESCRIPTION</th>\n      <th>ICD10</th>\n    </tr>\n  </thead>\n  <tbody>\n    <tr>\n      <th>397397</th>\n      <td>DERMATIN SOLUTION 1%</td>\n      <td>H60</td>\n    </tr>\n    <tr>\n      <th>397398</th>\n      <td>DEXAFLOX OPHTHALMIC SUSPENSION</td>\n      <td>H60</td>\n    </tr>\n    <tr>\n      <th>397468</th>\n      <td>OPTIDEX-T STERILE OPHTALMIC SUSP</td>\n      <td>H00.1</td>\n    </tr>\n    <tr>\n      <th>397606</th>\n      <td>PARACETOL 10 MG/ML 100 ML BOTTLE (PSI)</td>\n      <td>H66.9</td>\n    </tr>\n    <tr>\n      <th>397541</th>\n      <td>PANADOL ADVANCE 500MG FILM COATED TABLET</td>\n      <td>H66.9</td>\n    </tr>\n    <tr>\n      <th>...</th>\n      <td>...</td>\n      <td>...</td>\n    </tr>\n    <tr>\n      <th>388372</th>\n      <td>RIAZOLE</td>\n      <td>Z39.00</td>\n    </tr>\n    <tr>\n      <th>388376</th>\n      <td>CRP</td>\n      <td>P51.9</td>\n    </tr>\n    <tr>\n      <th>388377</th>\n      <td>Automated complete Blood cell  and differentia...</td>\n      <td>P51.9</td>\n    </tr>\n    <tr>\n      <th>388378</th>\n      <td>AVOBAN 2% W-W OINTMENT</td>\n      <td>P51.9</td>\n    </tr>\n    <tr>\n      <th>388626</th>\n      <td>RINA 0.5 MG/ML SYRUP</td>\n      <td>R50.9</td>\n    </tr>\n  </tbody>\n</table>\n<p>17806 rows × 2 columns</p>\n</div>"
     },
     "execution_count": 4,
     "metadata": {},
     "output_type": "execute_result"
    }
   ],
   "source": [
    "## MN-1-1 Service is not clinically justified based on clinical practice guideline (Service vs Diagnosis)\n",
    "df[df['NPHIES_CODE'] == 'MN-1-1'][['SERVICE_DESCRIPTION', 'ICD10']]\n",
    "## DERMATIN SOLUTION with ICD10 (H60) indicating Otitis externa ( Drug is incompatible with icd10 ).\n",
    "## DERMATIN for foot itches, and otitis externa could be treated with hydrocortisone 3 drops to the affected ear daily they are two different things."
   ],
   "metadata": {
    "collapsed": false,
    "ExecuteTime": {
     "end_time": "2024-08-05T11:47:16.066575600Z",
     "start_time": "2024-08-05T11:47:15.254272600Z"
    }
   }
  },
  {
   "cell_type": "code",
   "execution_count": 5,
   "outputs": [
    {
     "data": {
      "text/plain": "                       SERVICE_DESCRIPTION  PATIENT_NO  PATIENT_ID  \\\n400859    Radiography of teeth, full mouth      876090     1020440   \n401581    Radiography of teeth, full mouth     1182339     1345812   \n402709    Radiography of teeth, full mouth      124165       51877   \n400522    Radiography of teeth, full mouth     1014161     1167940   \n400537    Radiography of teeth, full mouth     1044181     1199407   \n...                                    ...         ...         ...   \n325911              LAMICTAL 100 MG 30 TAB      137825      176890   \n325914                       OLFEN PATCHES      137825      176890   \n325912              NEXIUM 20MG TAB BOX/28      137825      176890   \n339352  M-mode   2D real time u/s of heart     1196636     1361172   \n342915        Spr ang CT other site w IVCM     1198817     1363477   \n\n       MEMBERSHIP_NO  PATIENT_ID_TYPE PATIENT_NATIONAL_IQAMA_ID PATIENT_DOB  \\\n400859       1079611              1.0                1195216146  1996-10-16   \n401581       5291507              1.0                1084294865  1989-02-27   \n402709       1417318              1.0                1003238548  1948-05-09   \n400522        635153              2.0                2037303993  1983-10-27   \n400537        635156              2.0                2223614682  2005-07-17   \n...              ...              ...                       ...         ...   \n325911      54925667              1.0                1009343847  1973-07-30   \n325914      54925667              1.0                1009343847  1973-07-30   \n325912      54925667              1.0                1009343847  1973-07-30   \n339352       6755132              2.0                2008467603  1955-07-01   \n342915      34434468              2.0                2253503789  1971-01-01   \n\n       PATIENT_NATIONALITY PATIENT_MARITAL_STATUS PATIENT_GENDER  \\\n400859       SAUDI ARABIAN                      S              F   \n401581       SAUDI ARABIAN                      M              F   \n402709       SAUDI ARABIAN                      M              M   \n400522              YEMENI                      M              M   \n400537              YEMENI                      S              M   \n...                    ...                    ...            ...   \n325911       SAUDI ARABIAN                      M              M   \n325914       SAUDI ARABIAN                      M              M   \n325912       SAUDI ARABIAN                      M              M   \n339352            SUDANESE                      M              M   \n342915           PAKESTANI                      M              M   \n\n        PATIENT_MOBILE_NO PATIENT_BADGE_NO  HIS_INSURANCE_CODE  \\\n400859          551444436          1079611                 275   \n401581          566102603          5291507                 275   \n402709          555644665          1417318                 275   \n400522          500211499           635153                 275   \n400537          500211499           635156                 275   \n...                   ...              ...                 ...   \n325911          503627060         54925667                2622   \n325914          503627060         54925667                2622   \n325912          503627060         54925667                2622   \n339352          507439462          6755132                 183   \n342915          555682667         34434468                 183   \n\n       POLICY_HOLDER_NO  \n400859       1116797745  \n401581     GRH/15163579  \n402709         14888432  \n400522   GRH/15218233-0  \n400537       2037303993  \n...                 ...  \n325911       2230000326  \n325914       2230000326  \n325912       2230000326  \n339352        185182033  \n342915         49810500  \n\n[10042 rows x 14 columns]",
      "text/html": "<div>\n<style scoped>\n    .dataframe tbody tr th:only-of-type {\n        vertical-align: middle;\n    }\n\n    .dataframe tbody tr th {\n        vertical-align: top;\n    }\n\n    .dataframe thead th {\n        text-align: right;\n    }\n</style>\n<table border=\"1\" class=\"dataframe\">\n  <thead>\n    <tr style=\"text-align: right;\">\n      <th></th>\n      <th>SERVICE_DESCRIPTION</th>\n      <th>PATIENT_NO</th>\n      <th>PATIENT_ID</th>\n      <th>MEMBERSHIP_NO</th>\n      <th>PATIENT_ID_TYPE</th>\n      <th>PATIENT_NATIONAL_IQAMA_ID</th>\n      <th>PATIENT_DOB</th>\n      <th>PATIENT_NATIONALITY</th>\n      <th>PATIENT_MARITAL_STATUS</th>\n      <th>PATIENT_GENDER</th>\n      <th>PATIENT_MOBILE_NO</th>\n      <th>PATIENT_BADGE_NO</th>\n      <th>HIS_INSURANCE_CODE</th>\n      <th>POLICY_HOLDER_NO</th>\n    </tr>\n  </thead>\n  <tbody>\n    <tr>\n      <th>400859</th>\n      <td>Radiography of teeth, full mouth</td>\n      <td>876090</td>\n      <td>1020440</td>\n      <td>1079611</td>\n      <td>1.0</td>\n      <td>1195216146</td>\n      <td>1996-10-16</td>\n      <td>SAUDI ARABIAN</td>\n      <td>S</td>\n      <td>F</td>\n      <td>551444436</td>\n      <td>1079611</td>\n      <td>275</td>\n      <td>1116797745</td>\n    </tr>\n    <tr>\n      <th>401581</th>\n      <td>Radiography of teeth, full mouth</td>\n      <td>1182339</td>\n      <td>1345812</td>\n      <td>5291507</td>\n      <td>1.0</td>\n      <td>1084294865</td>\n      <td>1989-02-27</td>\n      <td>SAUDI ARABIAN</td>\n      <td>M</td>\n      <td>F</td>\n      <td>566102603</td>\n      <td>5291507</td>\n      <td>275</td>\n      <td>GRH/15163579</td>\n    </tr>\n    <tr>\n      <th>402709</th>\n      <td>Radiography of teeth, full mouth</td>\n      <td>124165</td>\n      <td>51877</td>\n      <td>1417318</td>\n      <td>1.0</td>\n      <td>1003238548</td>\n      <td>1948-05-09</td>\n      <td>SAUDI ARABIAN</td>\n      <td>M</td>\n      <td>M</td>\n      <td>555644665</td>\n      <td>1417318</td>\n      <td>275</td>\n      <td>14888432</td>\n    </tr>\n    <tr>\n      <th>400522</th>\n      <td>Radiography of teeth, full mouth</td>\n      <td>1014161</td>\n      <td>1167940</td>\n      <td>635153</td>\n      <td>2.0</td>\n      <td>2037303993</td>\n      <td>1983-10-27</td>\n      <td>YEMENI</td>\n      <td>M</td>\n      <td>M</td>\n      <td>500211499</td>\n      <td>635153</td>\n      <td>275</td>\n      <td>GRH/15218233-0</td>\n    </tr>\n    <tr>\n      <th>400537</th>\n      <td>Radiography of teeth, full mouth</td>\n      <td>1044181</td>\n      <td>1199407</td>\n      <td>635156</td>\n      <td>2.0</td>\n      <td>2223614682</td>\n      <td>2005-07-17</td>\n      <td>YEMENI</td>\n      <td>S</td>\n      <td>M</td>\n      <td>500211499</td>\n      <td>635156</td>\n      <td>275</td>\n      <td>2037303993</td>\n    </tr>\n    <tr>\n      <th>...</th>\n      <td>...</td>\n      <td>...</td>\n      <td>...</td>\n      <td>...</td>\n      <td>...</td>\n      <td>...</td>\n      <td>...</td>\n      <td>...</td>\n      <td>...</td>\n      <td>...</td>\n      <td>...</td>\n      <td>...</td>\n      <td>...</td>\n      <td>...</td>\n    </tr>\n    <tr>\n      <th>325911</th>\n      <td>LAMICTAL 100 MG 30 TAB</td>\n      <td>137825</td>\n      <td>176890</td>\n      <td>54925667</td>\n      <td>1.0</td>\n      <td>1009343847</td>\n      <td>1973-07-30</td>\n      <td>SAUDI ARABIAN</td>\n      <td>M</td>\n      <td>M</td>\n      <td>503627060</td>\n      <td>54925667</td>\n      <td>2622</td>\n      <td>2230000326</td>\n    </tr>\n    <tr>\n      <th>325914</th>\n      <td>OLFEN PATCHES</td>\n      <td>137825</td>\n      <td>176890</td>\n      <td>54925667</td>\n      <td>1.0</td>\n      <td>1009343847</td>\n      <td>1973-07-30</td>\n      <td>SAUDI ARABIAN</td>\n      <td>M</td>\n      <td>M</td>\n      <td>503627060</td>\n      <td>54925667</td>\n      <td>2622</td>\n      <td>2230000326</td>\n    </tr>\n    <tr>\n      <th>325912</th>\n      <td>NEXIUM 20MG TAB BOX/28</td>\n      <td>137825</td>\n      <td>176890</td>\n      <td>54925667</td>\n      <td>1.0</td>\n      <td>1009343847</td>\n      <td>1973-07-30</td>\n      <td>SAUDI ARABIAN</td>\n      <td>M</td>\n      <td>M</td>\n      <td>503627060</td>\n      <td>54925667</td>\n      <td>2622</td>\n      <td>2230000326</td>\n    </tr>\n    <tr>\n      <th>339352</th>\n      <td>M-mode   2D real time u/s of heart</td>\n      <td>1196636</td>\n      <td>1361172</td>\n      <td>6755132</td>\n      <td>2.0</td>\n      <td>2008467603</td>\n      <td>1955-07-01</td>\n      <td>SUDANESE</td>\n      <td>M</td>\n      <td>M</td>\n      <td>507439462</td>\n      <td>6755132</td>\n      <td>183</td>\n      <td>185182033</td>\n    </tr>\n    <tr>\n      <th>342915</th>\n      <td>Spr ang CT other site w IVCM</td>\n      <td>1198817</td>\n      <td>1363477</td>\n      <td>34434468</td>\n      <td>2.0</td>\n      <td>2253503789</td>\n      <td>1971-01-01</td>\n      <td>PAKESTANI</td>\n      <td>M</td>\n      <td>M</td>\n      <td>555682667</td>\n      <td>34434468</td>\n      <td>183</td>\n      <td>49810500</td>\n    </tr>\n  </tbody>\n</table>\n<p>10042 rows × 14 columns</p>\n</div>"
     },
     "execution_count": 5,
     "metadata": {},
     "output_type": "execute_result"
    }
   ],
   "source": [
    "## SE-1-6: Investigation result is inadequate or missing\n",
    "df[df['NPHIES_CODE'] == 'SE-1-6'][\n",
    "    ['SERVICE_DESCRIPTION', 'PATIENT_NO', 'PATIENT_ID', 'MEMBERSHIP_NO', 'PATIENT_ID_TYPE', 'PATIENT_NATIONAL_IQAMA_ID',\n",
    "     'PATIENT_DOB', 'PATIENT_NATIONALITY', 'PATIENT_MARITAL_STATUS', 'PATIENT_GENDER', 'PATIENT_MOBILE_NO',\n",
    "     'PATIENT_BADGE_NO', 'HIS_INSURANCE_CODE', 'POLICY_HOLDER_NO']]\n",
    "## SE-1-8,9: Treatment plan is inadequate or missing, Quantity of service/procedure is inappropriate or missing"
   ],
   "metadata": {
    "collapsed": false,
    "ExecuteTime": {
     "end_time": "2024-08-05T11:47:30.301986800Z",
     "start_time": "2024-08-05T11:47:30.235910100Z"
    }
   }
  },
  {
   "cell_type": "code",
   "execution_count": 6,
   "outputs": [
    {
     "data": {
      "text/plain": "        QTY  LINE_CLAIMED_AMOUNT  LINE_CLAIMED_AMOUNT_SAR  CO_PAY  \\\n404193  1.0                750.0                    750.0     0.0   \n404200  1.0                135.0                    135.0     0.0   \n403452  2.0                 16.0                     16.0     0.0   \n403475  2.0               1160.0                   1160.0     0.0   \n404226  1.0                  5.4                      5.4     0.0   \n...     ...                  ...                      ...     ...   \n229082  2.0               3380.0                   3380.0     0.0   \n229083  1.0                810.0                    810.0     0.0   \n229446  2.0               2070.0                   2070.0     0.0   \n229444  1.0               1820.0                   1820.0     0.0   \n229081  1.0               1555.0                   1555.0     0.0   \n\n        CO_INSURANCE  LINE_ITEM_DISCOUNT  NET_AMOUNT  NET_VAT_AMOUNT  \n404193         750.0                0.00      750.00          112.50  \n404200         135.0               33.75      101.25           15.19  \n403452          16.0                0.80       15.20            0.00  \n403475        1160.0              290.00      870.00          130.50  \n404226           5.4                1.35        4.05            0.00  \n...              ...                 ...         ...             ...  \n229082        3380.0                0.00     3380.00          507.00  \n229083         810.0              202.50      607.50           91.13  \n229446        2070.0                0.00     2070.00          310.50  \n229444        1820.0                0.00     1820.00          273.00  \n229081        1555.0              388.75     1166.25          174.94  \n\n[3108 rows x 8 columns]",
      "text/html": "<div>\n<style scoped>\n    .dataframe tbody tr th:only-of-type {\n        vertical-align: middle;\n    }\n\n    .dataframe tbody tr th {\n        vertical-align: top;\n    }\n\n    .dataframe thead th {\n        text-align: right;\n    }\n</style>\n<table border=\"1\" class=\"dataframe\">\n  <thead>\n    <tr style=\"text-align: right;\">\n      <th></th>\n      <th>QTY</th>\n      <th>LINE_CLAIMED_AMOUNT</th>\n      <th>LINE_CLAIMED_AMOUNT_SAR</th>\n      <th>CO_PAY</th>\n      <th>CO_INSURANCE</th>\n      <th>LINE_ITEM_DISCOUNT</th>\n      <th>NET_AMOUNT</th>\n      <th>NET_VAT_AMOUNT</th>\n    </tr>\n  </thead>\n  <tbody>\n    <tr>\n      <th>404193</th>\n      <td>1.0</td>\n      <td>750.0</td>\n      <td>750.0</td>\n      <td>0.0</td>\n      <td>750.0</td>\n      <td>0.00</td>\n      <td>750.00</td>\n      <td>112.50</td>\n    </tr>\n    <tr>\n      <th>404200</th>\n      <td>1.0</td>\n      <td>135.0</td>\n      <td>135.0</td>\n      <td>0.0</td>\n      <td>135.0</td>\n      <td>33.75</td>\n      <td>101.25</td>\n      <td>15.19</td>\n    </tr>\n    <tr>\n      <th>403452</th>\n      <td>2.0</td>\n      <td>16.0</td>\n      <td>16.0</td>\n      <td>0.0</td>\n      <td>16.0</td>\n      <td>0.80</td>\n      <td>15.20</td>\n      <td>0.00</td>\n    </tr>\n    <tr>\n      <th>403475</th>\n      <td>2.0</td>\n      <td>1160.0</td>\n      <td>1160.0</td>\n      <td>0.0</td>\n      <td>1160.0</td>\n      <td>290.00</td>\n      <td>870.00</td>\n      <td>130.50</td>\n    </tr>\n    <tr>\n      <th>404226</th>\n      <td>1.0</td>\n      <td>5.4</td>\n      <td>5.4</td>\n      <td>0.0</td>\n      <td>5.4</td>\n      <td>1.35</td>\n      <td>4.05</td>\n      <td>0.00</td>\n    </tr>\n    <tr>\n      <th>...</th>\n      <td>...</td>\n      <td>...</td>\n      <td>...</td>\n      <td>...</td>\n      <td>...</td>\n      <td>...</td>\n      <td>...</td>\n      <td>...</td>\n    </tr>\n    <tr>\n      <th>229082</th>\n      <td>2.0</td>\n      <td>3380.0</td>\n      <td>3380.0</td>\n      <td>0.0</td>\n      <td>3380.0</td>\n      <td>0.00</td>\n      <td>3380.00</td>\n      <td>507.00</td>\n    </tr>\n    <tr>\n      <th>229083</th>\n      <td>1.0</td>\n      <td>810.0</td>\n      <td>810.0</td>\n      <td>0.0</td>\n      <td>810.0</td>\n      <td>202.50</td>\n      <td>607.50</td>\n      <td>91.13</td>\n    </tr>\n    <tr>\n      <th>229446</th>\n      <td>2.0</td>\n      <td>2070.0</td>\n      <td>2070.0</td>\n      <td>0.0</td>\n      <td>2070.0</td>\n      <td>0.00</td>\n      <td>2070.00</td>\n      <td>310.50</td>\n    </tr>\n    <tr>\n      <th>229444</th>\n      <td>1.0</td>\n      <td>1820.0</td>\n      <td>1820.0</td>\n      <td>0.0</td>\n      <td>1820.0</td>\n      <td>0.00</td>\n      <td>1820.00</td>\n      <td>273.00</td>\n    </tr>\n    <tr>\n      <th>229081</th>\n      <td>1.0</td>\n      <td>1555.0</td>\n      <td>1555.0</td>\n      <td>0.0</td>\n      <td>1555.0</td>\n      <td>388.75</td>\n      <td>1166.25</td>\n      <td>174.94</td>\n    </tr>\n  </tbody>\n</table>\n<p>3108 rows × 8 columns</p>\n</div>"
     },
     "execution_count": 6,
     "metadata": {},
     "output_type": "execute_result"
    }
   ],
   "source": [
    "df[df['NPHIES_CODE'].isin(['SE-1-9', 'SE-1-8'])][\n",
    "    ['QTY', 'LINE_CLAIMED_AMOUNT', 'LINE_CLAIMED_AMOUNT_SAR', 'CO_PAY', 'CO_INSURANCE', 'LINE_ITEM_DISCOUNT',\n",
    "     'NET_AMOUNT', 'NET_VAT_AMOUNT']]\n",
    "## some items quantities are way too many"
   ],
   "metadata": {
    "collapsed": false,
    "ExecuteTime": {
     "end_time": "2024-08-05T11:47:53.838657400Z",
     "start_time": "2024-08-05T11:47:53.789788200Z"
    }
   }
  },
  {
   "cell_type": "code",
   "execution_count": 97,
   "outputs": [
    {
     "data": {
      "text/plain": "        QTY  LINE_CLAIMED_AMOUNT  LINE_CLAIMED_AMOUNT_SAR  CO_PAY  \\\n71507   1.0             12362.51                 12362.51     0.0   \n72985   1.0               104.81                   104.81     0.0   \n72986   1.0               446.13                   446.13     0.0   \n72989   1.0               365.50                   365.50     0.0   \n72990   1.0               104.81                   104.81     0.0   \n...     ...                  ...                      ...     ...   \n242591  1.0               154.71                   154.71     0.0   \n242592  1.0               154.71                   154.71     0.0   \n242593  1.0               276.98                   276.98     0.0   \n244786  6.0              3762.48                  3762.48     0.0   \n414401  1.0               124.76                   124.76     0.0   \n\n        CO_INSURANCE  LINE_ITEM_DISCOUNT  NET_AMOUNT  NET_VAT_AMOUNT  \n71507       12362.51             1854.38    10508.13         1576.22  \n72985         104.81               31.44       73.37           11.01  \n72986         446.13              133.84      312.29           46.84  \n72989         365.50              109.65      255.85           38.38  \n72990         104.81               31.44       73.37           11.01  \n...              ...                 ...         ...             ...  \n242591        154.71               54.15      100.56           15.08  \n242592        154.71               54.15      100.56           15.08  \n242593        276.98               96.94      180.04           27.01  \n244786       3762.48             1128.74     2633.74          395.06  \n414401        124.76                0.00      124.76           18.71  \n\n[1608 rows x 8 columns]",
      "text/html": "<div>\n<style scoped>\n    .dataframe tbody tr th:only-of-type {\n        vertical-align: middle;\n    }\n\n    .dataframe tbody tr th {\n        vertical-align: top;\n    }\n\n    .dataframe thead th {\n        text-align: right;\n    }\n</style>\n<table border=\"1\" class=\"dataframe\">\n  <thead>\n    <tr style=\"text-align: right;\">\n      <th></th>\n      <th>QTY</th>\n      <th>LINE_CLAIMED_AMOUNT</th>\n      <th>LINE_CLAIMED_AMOUNT_SAR</th>\n      <th>CO_PAY</th>\n      <th>CO_INSURANCE</th>\n      <th>LINE_ITEM_DISCOUNT</th>\n      <th>NET_AMOUNT</th>\n      <th>NET_VAT_AMOUNT</th>\n    </tr>\n  </thead>\n  <tbody>\n    <tr>\n      <th>71507</th>\n      <td>1.0</td>\n      <td>12362.51</td>\n      <td>12362.51</td>\n      <td>0.0</td>\n      <td>12362.51</td>\n      <td>1854.38</td>\n      <td>10508.13</td>\n      <td>1576.22</td>\n    </tr>\n    <tr>\n      <th>72985</th>\n      <td>1.0</td>\n      <td>104.81</td>\n      <td>104.81</td>\n      <td>0.0</td>\n      <td>104.81</td>\n      <td>31.44</td>\n      <td>73.37</td>\n      <td>11.01</td>\n    </tr>\n    <tr>\n      <th>72986</th>\n      <td>1.0</td>\n      <td>446.13</td>\n      <td>446.13</td>\n      <td>0.0</td>\n      <td>446.13</td>\n      <td>133.84</td>\n      <td>312.29</td>\n      <td>46.84</td>\n    </tr>\n    <tr>\n      <th>72989</th>\n      <td>1.0</td>\n      <td>365.50</td>\n      <td>365.50</td>\n      <td>0.0</td>\n      <td>365.50</td>\n      <td>109.65</td>\n      <td>255.85</td>\n      <td>38.38</td>\n    </tr>\n    <tr>\n      <th>72990</th>\n      <td>1.0</td>\n      <td>104.81</td>\n      <td>104.81</td>\n      <td>0.0</td>\n      <td>104.81</td>\n      <td>31.44</td>\n      <td>73.37</td>\n      <td>11.01</td>\n    </tr>\n    <tr>\n      <th>...</th>\n      <td>...</td>\n      <td>...</td>\n      <td>...</td>\n      <td>...</td>\n      <td>...</td>\n      <td>...</td>\n      <td>...</td>\n      <td>...</td>\n    </tr>\n    <tr>\n      <th>242591</th>\n      <td>1.0</td>\n      <td>154.71</td>\n      <td>154.71</td>\n      <td>0.0</td>\n      <td>154.71</td>\n      <td>54.15</td>\n      <td>100.56</td>\n      <td>15.08</td>\n    </tr>\n    <tr>\n      <th>242592</th>\n      <td>1.0</td>\n      <td>154.71</td>\n      <td>154.71</td>\n      <td>0.0</td>\n      <td>154.71</td>\n      <td>54.15</td>\n      <td>100.56</td>\n      <td>15.08</td>\n    </tr>\n    <tr>\n      <th>242593</th>\n      <td>1.0</td>\n      <td>276.98</td>\n      <td>276.98</td>\n      <td>0.0</td>\n      <td>276.98</td>\n      <td>96.94</td>\n      <td>180.04</td>\n      <td>27.01</td>\n    </tr>\n    <tr>\n      <th>244786</th>\n      <td>6.0</td>\n      <td>3762.48</td>\n      <td>3762.48</td>\n      <td>0.0</td>\n      <td>3762.48</td>\n      <td>1128.74</td>\n      <td>2633.74</td>\n      <td>395.06</td>\n    </tr>\n    <tr>\n      <th>414401</th>\n      <td>1.0</td>\n      <td>124.76</td>\n      <td>124.76</td>\n      <td>0.0</td>\n      <td>124.76</td>\n      <td>0.00</td>\n      <td>124.76</td>\n      <td>18.71</td>\n    </tr>\n  </tbody>\n</table>\n<p>1608 rows × 8 columns</p>\n</div>"
     },
     "execution_count": 97,
     "metadata": {},
     "output_type": "execute_result"
    }
   ],
   "source": [
    "df[df['NPHIES_CODE'].isin(['SE-1-8'])][ ['QTY', 'LINE_CLAIMED_AMOUNT', 'LINE_CLAIMED_AMOUNT_SAR', 'CO_PAY', 'CO_INSURANCE', 'LINE_ITEM_DISCOUNT',  'NET_AMOUNT', 'NET_VAT_AMOUNT']]"
   ],
   "metadata": {
    "collapsed": false,
    "ExecuteTime": {
     "end_time": "2024-08-12T21:22:28.268032600Z",
     "start_time": "2024-08-12T21:22:28.088513400Z"
    }
   }
  },
  {
   "cell_type": "code",
   "execution_count": 98,
   "outputs": [
    {
     "data": {
      "text/plain": "QTY\n1.0     1124\n2.0      211\n3.0       78\n4.0       67\n5.0       42\n6.0       32\n10.0      28\n8.0       12\n20.0       7\n14.0       1\n12.0       1\n30.0       1\n15.0       1\n7.0        1\n9.0        1\n40.0       1\nName: count, dtype: int64"
     },
     "execution_count": 98,
     "metadata": {},
     "output_type": "execute_result"
    }
   ],
   "source": [
    "df[df['NPHIES_CODE'].isin(['SE-1-8'])][ ['QTY', 'LINE_CLAIMED_AMOUNT', 'LINE_CLAIMED_AMOUNT_SAR', 'CO_PAY', 'CO_INSURANCE', 'LINE_ITEM_DISCOUNT',  'NET_AMOUNT', 'NET_VAT_AMOUNT']].QTY.value_counts()"
   ],
   "metadata": {
    "collapsed": false,
    "ExecuteTime": {
     "end_time": "2024-08-12T21:25:08.165967600Z",
     "start_time": "2024-08-12T21:25:08.132046800Z"
    }
   }
  },
  {
   "cell_type": "code",
   "execution_count": 7,
   "outputs": [
    {
     "data": {
      "text/plain": "         QTY  CO_PAY  CO_INSURANCE  LINE_ITEM_DISCOUNT  NET_AMOUNT\n407021   7.0   13.02        108.29                6.07      102.22\n477325  14.0    8.47         36.13                2.23       33.90\n407392   1.0    0.00        180.00                0.00      180.00\n407384   1.0    0.00        269.00               67.25      201.75\n407399  90.0    0.00          6.35                0.32        6.03\n...      ...     ...           ...                 ...         ...\n387799   1.0   16.30        100.15               34.94       65.21\n388099   1.0    3.76         23.11                8.06       15.05\n388366   1.0    8.15         50.08               17.47       32.61\n388367   1.0    8.15         50.08               17.47       32.61\n388370   1.0    0.00         26.88                8.06       18.82\n\n[7177 rows x 5 columns]",
      "text/html": "<div>\n<style scoped>\n    .dataframe tbody tr th:only-of-type {\n        vertical-align: middle;\n    }\n\n    .dataframe tbody tr th {\n        vertical-align: top;\n    }\n\n    .dataframe thead th {\n        text-align: right;\n    }\n</style>\n<table border=\"1\" class=\"dataframe\">\n  <thead>\n    <tr style=\"text-align: right;\">\n      <th></th>\n      <th>QTY</th>\n      <th>CO_PAY</th>\n      <th>CO_INSURANCE</th>\n      <th>LINE_ITEM_DISCOUNT</th>\n      <th>NET_AMOUNT</th>\n    </tr>\n  </thead>\n  <tbody>\n    <tr>\n      <th>407021</th>\n      <td>7.0</td>\n      <td>13.02</td>\n      <td>108.29</td>\n      <td>6.07</td>\n      <td>102.22</td>\n    </tr>\n    <tr>\n      <th>477325</th>\n      <td>14.0</td>\n      <td>8.47</td>\n      <td>36.13</td>\n      <td>2.23</td>\n      <td>33.90</td>\n    </tr>\n    <tr>\n      <th>407392</th>\n      <td>1.0</td>\n      <td>0.00</td>\n      <td>180.00</td>\n      <td>0.00</td>\n      <td>180.00</td>\n    </tr>\n    <tr>\n      <th>407384</th>\n      <td>1.0</td>\n      <td>0.00</td>\n      <td>269.00</td>\n      <td>67.25</td>\n      <td>201.75</td>\n    </tr>\n    <tr>\n      <th>407399</th>\n      <td>90.0</td>\n      <td>0.00</td>\n      <td>6.35</td>\n      <td>0.32</td>\n      <td>6.03</td>\n    </tr>\n    <tr>\n      <th>...</th>\n      <td>...</td>\n      <td>...</td>\n      <td>...</td>\n      <td>...</td>\n      <td>...</td>\n    </tr>\n    <tr>\n      <th>387799</th>\n      <td>1.0</td>\n      <td>16.30</td>\n      <td>100.15</td>\n      <td>34.94</td>\n      <td>65.21</td>\n    </tr>\n    <tr>\n      <th>388099</th>\n      <td>1.0</td>\n      <td>3.76</td>\n      <td>23.11</td>\n      <td>8.06</td>\n      <td>15.05</td>\n    </tr>\n    <tr>\n      <th>388366</th>\n      <td>1.0</td>\n      <td>8.15</td>\n      <td>50.08</td>\n      <td>17.47</td>\n      <td>32.61</td>\n    </tr>\n    <tr>\n      <th>388367</th>\n      <td>1.0</td>\n      <td>8.15</td>\n      <td>50.08</td>\n      <td>17.47</td>\n      <td>32.61</td>\n    </tr>\n    <tr>\n      <th>388370</th>\n      <td>1.0</td>\n      <td>0.00</td>\n      <td>26.88</td>\n      <td>8.06</td>\n      <td>18.82</td>\n    </tr>\n  </tbody>\n</table>\n<p>7177 rows × 5 columns</p>\n</div>"
     },
     "execution_count": 7,
     "metadata": {},
     "output_type": "execute_result"
    }
   ],
   "source": [
    "## BE-1-1 : Co-pay was not collected from member\n",
    "df[df['NPHIES_CODE'].isin(['BE-1-1'])][['QTY', 'CO_PAY', 'CO_INSURANCE', 'LINE_ITEM_DISCOUNT', 'NET_AMOUNT']]\n",
    "## Most of CO_PAY values are zeros. (MOST)"
   ],
   "metadata": {
    "collapsed": false,
    "ExecuteTime": {
     "end_time": "2024-08-05T11:48:07.471297100Z",
     "start_time": "2024-08-05T11:48:07.440379300Z"
    }
   }
  },
  {
   "cell_type": "code",
   "execution_count": 99,
   "outputs": [
    {
     "data": {
      "text/plain": "CO_PAY\n0.00     4505\n24.00     544\n16.30     482\n14.67     296\n8.15      230\n         ... \n17.06       1\n35.69       1\n17.95       1\n46.65       1\n9.36        1\nName: count, Length: 674, dtype: int64"
     },
     "execution_count": 99,
     "metadata": {},
     "output_type": "execute_result"
    }
   ],
   "source": [
    "df[df['NPHIES_CODE'].isin(['BE-1-1'])].CO_PAY.value_counts()"
   ],
   "metadata": {
    "collapsed": false,
    "ExecuteTime": {
     "end_time": "2024-08-12T21:28:23.685388400Z",
     "start_time": "2024-08-12T21:28:23.598807800Z"
    }
   }
  },
  {
   "cell_type": "code",
   "execution_count": 100,
   "outputs": [
    {
     "data": {
      "text/plain": "0.625"
     },
     "execution_count": 100,
     "metadata": {},
     "output_type": "execute_result"
    }
   ],
   "source": [
    "## portion of zeros\n",
    "4500 / 7200"
   ],
   "metadata": {
    "collapsed": false,
    "ExecuteTime": {
     "end_time": "2024-08-12T21:28:49.338884800Z",
     "start_time": "2024-08-12T21:28:49.316122800Z"
    }
   }
  },
  {
   "cell_type": "code",
   "execution_count": 102,
   "outputs": [
    {
     "data": {
      "text/plain": "CO_PAY\n0.00      300638\n24.00       7189\n20.00       4336\n25.00       4145\n34.00       4056\n           ...  \n26.33          1\n31.43          1\n389.12         1\n57.58          1\n45.17          1\nName: count, Length: 4104, dtype: int64"
     },
     "execution_count": 102,
     "metadata": {},
     "output_type": "execute_result"
    }
   ],
   "source": [
    "df[df['NPHIES_CODE'] !='BE-1-1'].CO_PAY.value_counts()"
   ],
   "metadata": {
    "collapsed": false,
    "ExecuteTime": {
     "end_time": "2024-08-12T21:31:39.263626500Z",
     "start_time": "2024-08-12T21:31:38.702929500Z"
    }
   }
  },
  {
   "cell_type": "code",
   "execution_count": 103,
   "outputs": [
    {
     "data": {
      "text/plain": "0.6287603734439834"
     },
     "execution_count": 103,
     "metadata": {},
     "output_type": "execute_result"
    }
   ],
   "source": [
    "300638 / len(df)"
   ],
   "metadata": {
    "collapsed": false,
    "ExecuteTime": {
     "end_time": "2024-08-12T21:34:26.972295700Z",
     "start_time": "2024-08-12T21:34:26.952358200Z"
    }
   }
  },
  {
   "cell_type": "code",
   "execution_count": 8,
   "outputs": [
    {
     "data": {
      "text/plain": "array(['INTERNAL MEDICINE - الباطنة', 'OPHTHALMIC SERVICES  - العيون',\n       'E.N.T. SERVICES - انف واذن وحنجرة',\n       'EMERGENCY ROOM SERVICES - طوارى', 'PAEDIATRIC SERVICES - الاطفال',\n       'OBSTERTRIC/GYNEACOLOGIC SERVIC - نساء و ولادة',\n       'ORTHOPAEDIC SERVICE - العظام', 'NEUROLOGY SERVICES مخ واعصاب',\n       'CARDIOLOGY SERVICES - القلب', 'DENTAL SERVICES - اسنان',\n       'NEURO SURGERY - جراحة مخ واعصاب', 'PULMONARY SERVICES - الصدرية',\n       'UROLOGY SERVICES -المسالك',\n       'GENERAL SURGERY SERVICES - جراحة عامة',\n       'INTENSIVE CARE SERVICES - العناية المركزة',\n       'DERMATOLOGY & VENEREOLOGY SERV - جلدية'], dtype=object)"
     },
     "execution_count": 8,
     "metadata": {},
     "output_type": "execute_result"
    }
   ],
   "source": [
    "## BE-1-3: provider and the payer disagreement\n",
    "df2 = df[df['NPHIES_CODE'].isin(['BE-1-3'])][['PROVIDER_DEPARTMENT', 'HIS_INSURANCE_CODE']]\n",
    "df2[df2['HIS_INSURANCE_CODE'] == 1494].PROVIDER_DEPARTMENT.unique()"
   ],
   "metadata": {
    "collapsed": false,
    "ExecuteTime": {
     "end_time": "2024-08-05T11:48:28.974697900Z",
     "start_time": "2024-08-05T11:48:28.908874Z"
    }
   }
  },
  {
   "cell_type": "code",
   "execution_count": 9,
   "outputs": [
    {
     "data": {
      "text/plain": "array(['E.N.T. SERVICES - انف واذن وحنجرة',\n       'ORTHOPAEDIC SERVICE - العظام', 'NEUROLOGY SERVICES مخ واعصاب',\n       'PULMONARY SERVICES - الصدرية', 'OPHTHALMIC SERVICES  - العيون',\n       'OBSTERTRIC/GYNEACOLOGIC SERVIC - نساء و ولادة',\n       'INTERNAL MEDICINE - الباطنة', 'EMERGENCY ROOM SERVICES - طوارى',\n       'DENTAL SERVICES - اسنان',\n       'DERMATOLOGY & VENEREOLOGY SERV - جلدية',\n       'PAEDIATRIC SERVICES - الاطفال', 'UROLOGY SERVICES -المسالك',\n       'CARDIOLOGY SERVICES - القلب', 'NEURO SURGERY - جراحة مخ واعصاب',\n       'PLASTIC SURGERY - التجميل',\n       'GENERAL SURGERY SERVICES - جراحة عامة',\n       'INTENSIVE CARE SERVICES - العناية المركزة',\n       'RADIOGRAPHIC INVESTIGATIONS - الأشعة', 'SCREENING DEPARTMENT',\n       'MAXILLOFACIAL SURGERY'], dtype=object)"
     },
     "execution_count": 9,
     "metadata": {},
     "output_type": "execute_result"
    }
   ],
   "source": [
    "df_2 = df[df['NPHIES_CODE'] != 'BE-1-3'][['PROVIDER_DEPARTMENT', 'HIS_INSURANCE_CODE']]\n",
    "df_2[df_2['HIS_INSURANCE_CODE'] == 1494].PROVIDER_DEPARTMENT.unique()\n",
    "## Notice that the same set of departments exists twice"
   ],
   "metadata": {
    "collapsed": false,
    "ExecuteTime": {
     "end_time": "2024-08-05T11:48:52.461221200Z",
     "start_time": "2024-08-05T11:48:52.219697100Z"
    }
   }
  },
  {
   "cell_type": "code",
   "execution_count": 10,
   "outputs": [
    {
     "data": {
      "text/plain": "Index(['CREATED_BY_USER', 'CREATION_DATE', 'VISIT_ID', 'NET_WITH_VAT',\n       'SERVICE_DESCRIPTION', 'QTY', 'LINE_CLAIMED_AMOUNT',\n       'LINE_CLAIMED_AMOUNT_SAR', 'CO_PAY', 'CO_INSURANCE',\n       'LINE_ITEM_DISCOUNT', 'NET_AMOUNT', 'NET_VAT_AMOUNT',\n       'PATIENT_VAT_AMOUNT', 'VAT_PERCENTAGE', 'TREATMENT_TYPE_INDICATOR',\n       'SERVICE_TYPE', 'DURATION', 'QTY_STOCKED_UOM', 'UNIT_PRICE',\n       'OASIS_IOS_DESCRIPTION', 'SEQUENCE_NO', 'UNIT_PRICE_STOCKED_UOM',\n       'UNIT_PRICE_NET', 'DISCOUNT_PERCENTAGE', 'NOTES', 'OUTCOME',\n       'APPROVED_QUNATITY', 'REQUEST_DATE', 'VISIT_NO', 'VISIT_DATE',\n       'EMERGENCY_INDICATOR', 'PROVIDER_DEPARTMENT_CODE',\n       'PROVIDER_DEPARTMENT', 'DOCTOR_SPECIALTY_CODE', 'DOCTOR_CODE',\n       'PATIENT_NO', 'EPISODE_NO', 'PATIENT_ID', 'MEMBERSHIP_NO',\n       'PATIENT_ID_TYPE', 'PATIENT_NATIONAL_IQAMA_ID', 'PATIENT_DOB',\n       'PATIENT_AGE', 'UNIT_OF_AGE', 'PATIENT_NATIONALITY',\n       'PATIENT_MARITAL_STATUS', 'PATIENT_GENDER', 'PATIENT_MOBILE_NO',\n       'PATIENT_BADGE_NO', 'HIS_INSURANCE_CODE', 'POLICY_HOLDER_NO',\n       'CLAIM_TYPE', 'BATCH_NO', 'TOTAL_CLAIMED_AMOUNT',\n       'TOTAL_CLAIMED_AMOUNT_SAR', 'TOTAL_NET_AMOUNT', 'TOTAL_DISCOUNT',\n       'TOTAL_DEDUCTIBLE', 'TOTAL_PATIENT_VATAMOUNT', 'TOTAL_NET_VAT_AMOUNT',\n       'CLAIM_NO', 'STAT_END_DATE', 'AMEND_BY_USER', 'AMEND_LAST_DATE',\n       'PAYER_LICENSE', 'DOCTOR_LICENSE', 'DEPARTMENT_TYPE', 'TREATMENT_TYPE',\n       'CLAIM_INVOICE_NO', 'STAT_INVOICE_NO', 'PURCHASER_CODE', 'STATUS',\n       'API_TRANS_ID', 'SUBMIT_CLAIM_OUTCOME', 'SUBMIT_CLAIM_MESSAGE',\n       'RES_STATUS', 'RES_CLAIM_ID', 'CONSULTATION_INVOICE_NO',\n       'TREATMENT_SUB_TYPE', 'ELIGIBILITY_RESPONSE_ID',\n       'ELIGIBILITY_RESPONSE_SYSTEM', 'CONTRACT_NO',\n       'ELIGIBILITY_API_TRANS_ID', 'CLAIM_IDENTIFIER', 'ATTACHED_FILES',\n       'ATTACHMENT_TYPE', 'NEW_BORN', 'PATIENT_IDENTITY_TYPE',\n       'BILLABLE_PERIOD_START', 'BILLABLE_PERIOD_END', 'BATCH_PERIOD_START',\n       'BATCH_PERIOD_END', 'Episode_Key', 'ICD10', 'Diagnosis_Key',\n       'NPHIES_CODE'],\n      dtype='object')"
     },
     "execution_count": 10,
     "metadata": {},
     "output_type": "execute_result"
    }
   ],
   "source": [
    "df.columns\n",
    "## BE-1-4: Preauthorization is required and was not obtained (Can't be modeled)\n",
    "## BE-1-6: Calculation discrepancy from contract (Can't be modeled)\n",
    "## BE-1-7: Incorrect billing regime An inpatient claim is submitted as Fee for Service when it should be billed as DRG."
   ],
   "metadata": {
    "collapsed": false,
    "ExecuteTime": {
     "end_time": "2024-08-05T11:49:12.953123600Z",
     "start_time": "2024-08-05T11:49:12.935169100Z"
    }
   }
  },
  {
   "cell_type": "code",
   "execution_count": 11,
   "outputs": [
    {
     "data": {
      "text/plain": "        PATIENT_ID_TYPE  TOTAL_DISCOUNT  TOTAL_NET_AMOUNT CLAIM_TYPE\n397551              1.0          2763.6          15488.38          I\n397548              1.0          2763.6          15488.38          I\n397549              1.0          2763.6          15488.38          I\n397550              1.0          2763.6          15488.38          I\n397559              1.0           298.6           2352.96          I\n...                 ...             ...               ...        ...\n388637              1.0           362.2            893.03          O\n388638              1.0           362.2            893.03          O\n388639              1.0           362.2            893.03          O\n388640              1.0           362.2            893.03          O\n388641              1.0           362.2            893.03          O\n\n[345510 rows x 4 columns]",
      "text/html": "<div>\n<style scoped>\n    .dataframe tbody tr th:only-of-type {\n        vertical-align: middle;\n    }\n\n    .dataframe tbody tr th {\n        vertical-align: top;\n    }\n\n    .dataframe thead th {\n        text-align: right;\n    }\n</style>\n<table border=\"1\" class=\"dataframe\">\n  <thead>\n    <tr style=\"text-align: right;\">\n      <th></th>\n      <th>PATIENT_ID_TYPE</th>\n      <th>TOTAL_DISCOUNT</th>\n      <th>TOTAL_NET_AMOUNT</th>\n      <th>CLAIM_TYPE</th>\n    </tr>\n  </thead>\n  <tbody>\n    <tr>\n      <th>397551</th>\n      <td>1.0</td>\n      <td>2763.6</td>\n      <td>15488.38</td>\n      <td>I</td>\n    </tr>\n    <tr>\n      <th>397548</th>\n      <td>1.0</td>\n      <td>2763.6</td>\n      <td>15488.38</td>\n      <td>I</td>\n    </tr>\n    <tr>\n      <th>397549</th>\n      <td>1.0</td>\n      <td>2763.6</td>\n      <td>15488.38</td>\n      <td>I</td>\n    </tr>\n    <tr>\n      <th>397550</th>\n      <td>1.0</td>\n      <td>2763.6</td>\n      <td>15488.38</td>\n      <td>I</td>\n    </tr>\n    <tr>\n      <th>397559</th>\n      <td>1.0</td>\n      <td>298.6</td>\n      <td>2352.96</td>\n      <td>I</td>\n    </tr>\n    <tr>\n      <th>...</th>\n      <td>...</td>\n      <td>...</td>\n      <td>...</td>\n      <td>...</td>\n    </tr>\n    <tr>\n      <th>388637</th>\n      <td>1.0</td>\n      <td>362.2</td>\n      <td>893.03</td>\n      <td>O</td>\n    </tr>\n    <tr>\n      <th>388638</th>\n      <td>1.0</td>\n      <td>362.2</td>\n      <td>893.03</td>\n      <td>O</td>\n    </tr>\n    <tr>\n      <th>388639</th>\n      <td>1.0</td>\n      <td>362.2</td>\n      <td>893.03</td>\n      <td>O</td>\n    </tr>\n    <tr>\n      <th>388640</th>\n      <td>1.0</td>\n      <td>362.2</td>\n      <td>893.03</td>\n      <td>O</td>\n    </tr>\n    <tr>\n      <th>388641</th>\n      <td>1.0</td>\n      <td>362.2</td>\n      <td>893.03</td>\n      <td>O</td>\n    </tr>\n  </tbody>\n</table>\n<p>345510 rows × 4 columns</p>\n</div>"
     },
     "execution_count": 11,
     "metadata": {},
     "output_type": "execute_result"
    }
   ],
   "source": [
    "df[df['NPHIES_CODE'] != 'BE-1-7'][['PATIENT_ID_TYPE', 'TOTAL_DISCOUNT', 'TOTAL_NET_AMOUNT', 'CLAIM_TYPE']]\n",
    "## AD-2-4, AD-2-6 : duplicated service or procedure in the same claim, missing the date of claim, and / or claim is submitted after 5 months of the date of service"
   ],
   "metadata": {
    "collapsed": false,
    "ExecuteTime": {
     "end_time": "2024-08-05T11:49:21.951127500Z",
     "start_time": "2024-08-05T11:49:21.691472900Z"
    }
   }
  },
  {
   "cell_type": "code",
   "execution_count": 12,
   "outputs": [
    {
     "data": {
      "text/plain": "             CREATION_DATE BATCH_PERIOD_START BATCH_PERIOD_END  \\\n419923 2024-01-02 16:25:59         2023-12-01       2023-12-31   \n419924 2024-01-02 16:25:59         2023-12-01       2023-12-31   \n419925 2024-01-02 16:25:59         2023-12-01       2023-12-31   \n419926 2024-01-02 16:25:59         2023-12-01       2023-12-31   \n419927 2024-01-02 16:25:59         2023-12-01       2023-12-31   \n...                    ...                ...              ...   \n339407 2024-04-14 16:39:49         2024-03-01       2024-03-31   \n340182 2024-04-14 16:46:09         2024-03-01       2024-03-31   \n340183 2024-04-14 16:46:10         2024-03-01       2024-03-31   \n396630 2024-04-14 16:46:11         2024-03-01       2024-03-31   \n340550 2024-04-14 16:46:13         2024-03-01       2024-03-31   \n\n                             SERVICE_DESCRIPTION  \n419923                            Dengue IgM/IgG  \n419924            FARCOLIN 0.5% RESPIRATOR SOLN.  \n419925                      OSELTA 75MG CAPSULES  \n419926                 Nebulizing system, heated  \n419927   Unsp admin of pharmac agent electrolyte  \n...                                          ...  \n339407    PARACETOL 10 MG/ML 100 ML BOTTLE (PSI)  \n340182                             Unlisted Code  \n340183  Quantitative Troponin (Protein) Analysis  \n396630              Radiography of chest, 1 view  \n340550                   ZENORIT 8 MG IM/IV VIAL  \n\n[1100 rows x 4 columns]",
      "text/html": "<div>\n<style scoped>\n    .dataframe tbody tr th:only-of-type {\n        vertical-align: middle;\n    }\n\n    .dataframe tbody tr th {\n        vertical-align: top;\n    }\n\n    .dataframe thead th {\n        text-align: right;\n    }\n</style>\n<table border=\"1\" class=\"dataframe\">\n  <thead>\n    <tr style=\"text-align: right;\">\n      <th></th>\n      <th>CREATION_DATE</th>\n      <th>BATCH_PERIOD_START</th>\n      <th>BATCH_PERIOD_END</th>\n      <th>SERVICE_DESCRIPTION</th>\n    </tr>\n  </thead>\n  <tbody>\n    <tr>\n      <th>419923</th>\n      <td>2024-01-02 16:25:59</td>\n      <td>2023-12-01</td>\n      <td>2023-12-31</td>\n      <td>Dengue IgM/IgG</td>\n    </tr>\n    <tr>\n      <th>419924</th>\n      <td>2024-01-02 16:25:59</td>\n      <td>2023-12-01</td>\n      <td>2023-12-31</td>\n      <td>FARCOLIN 0.5% RESPIRATOR SOLN.</td>\n    </tr>\n    <tr>\n      <th>419925</th>\n      <td>2024-01-02 16:25:59</td>\n      <td>2023-12-01</td>\n      <td>2023-12-31</td>\n      <td>OSELTA 75MG CAPSULES</td>\n    </tr>\n    <tr>\n      <th>419926</th>\n      <td>2024-01-02 16:25:59</td>\n      <td>2023-12-01</td>\n      <td>2023-12-31</td>\n      <td>Nebulizing system, heated</td>\n    </tr>\n    <tr>\n      <th>419927</th>\n      <td>2024-01-02 16:25:59</td>\n      <td>2023-12-01</td>\n      <td>2023-12-31</td>\n      <td>Unsp admin of pharmac agent electrolyte</td>\n    </tr>\n    <tr>\n      <th>...</th>\n      <td>...</td>\n      <td>...</td>\n      <td>...</td>\n      <td>...</td>\n    </tr>\n    <tr>\n      <th>339407</th>\n      <td>2024-04-14 16:39:49</td>\n      <td>2024-03-01</td>\n      <td>2024-03-31</td>\n      <td>PARACETOL 10 MG/ML 100 ML BOTTLE (PSI)</td>\n    </tr>\n    <tr>\n      <th>340182</th>\n      <td>2024-04-14 16:46:09</td>\n      <td>2024-03-01</td>\n      <td>2024-03-31</td>\n      <td>Unlisted Code</td>\n    </tr>\n    <tr>\n      <th>340183</th>\n      <td>2024-04-14 16:46:10</td>\n      <td>2024-03-01</td>\n      <td>2024-03-31</td>\n      <td>Quantitative Troponin (Protein) Analysis</td>\n    </tr>\n    <tr>\n      <th>396630</th>\n      <td>2024-04-14 16:46:11</td>\n      <td>2024-03-01</td>\n      <td>2024-03-31</td>\n      <td>Radiography of chest, 1 view</td>\n    </tr>\n    <tr>\n      <th>340550</th>\n      <td>2024-04-14 16:46:13</td>\n      <td>2024-03-01</td>\n      <td>2024-03-31</td>\n      <td>ZENORIT 8 MG IM/IV VIAL</td>\n    </tr>\n  </tbody>\n</table>\n<p>1100 rows × 4 columns</p>\n</div>"
     },
     "execution_count": 12,
     "metadata": {},
     "output_type": "execute_result"
    }
   ],
   "source": [
    "df[df['NPHIES_CODE'].isin([\"AD-2-5\", \"AD-2-6\"])][\n",
    "    ['CREATION_DATE', 'BATCH_PERIOD_START', 'BATCH_PERIOD_END', 'SERVICE_DESCRIPTION']]"
   ],
   "metadata": {
    "collapsed": false,
    "ExecuteTime": {
     "end_time": "2024-08-05T11:49:32.514219300Z",
     "start_time": "2024-08-05T11:49:32.448397200Z"
    }
   }
  },
  {
   "cell_type": "code",
   "execution_count": 13,
   "outputs": [
    {
     "data": {
      "text/plain": "             CREATION_DATE BATCH_PERIOD_START BATCH_PERIOD_END  \\\n420802 2024-01-02 19:50:02         2023-12-01       2023-12-31   \n420803 2024-01-02 19:50:02         2023-12-01       2023-12-31   \n420801 2024-01-02 19:50:02         2023-12-01       2023-12-31   \n414051 2024-01-03 17:40:06         2023-12-01       2023-12-31   \n414050 2024-01-03 17:40:06         2023-12-01       2023-12-31   \n...                    ...                ...              ...   \n291711 2024-04-06 05:54:25         2024-03-01       2024-03-31   \n291712 2024-04-06 05:54:25         2024-03-01       2024-03-31   \n291714 2024-04-06 05:54:25         2024-03-01       2024-03-31   \n291706 2024-04-06 05:54:25         2024-03-01       2024-03-31   \n292102 2024-04-06 05:54:25         2024-03-01       2024-03-31   \n\n                SERVICE_DESCRIPTION  \n420802        FLUCA OPTHALMIC SUSP.  \n420803      Consultant Consultation  \n420801            TOBRADEX EYE OINT  \n414051  SOCLAV 1 G/125 MG 16 SACHET  \n414050    SOLPADEINE SOLUBLE TABLET  \n...                             ...  \n291711    SALURIN 20MG-2ML AMPOULES  \n291712    SALURIN 20MG-2ML AMPOULES  \n291714     EPINOR 4 MG / 4 ML 5 AMP  \n291706      Unlisted Procedure Code  \n292102             SAMIXON 1GM VIAL  \n\n[735 rows x 4 columns]",
      "text/html": "<div>\n<style scoped>\n    .dataframe tbody tr th:only-of-type {\n        vertical-align: middle;\n    }\n\n    .dataframe tbody tr th {\n        vertical-align: top;\n    }\n\n    .dataframe thead th {\n        text-align: right;\n    }\n</style>\n<table border=\"1\" class=\"dataframe\">\n  <thead>\n    <tr style=\"text-align: right;\">\n      <th></th>\n      <th>CREATION_DATE</th>\n      <th>BATCH_PERIOD_START</th>\n      <th>BATCH_PERIOD_END</th>\n      <th>SERVICE_DESCRIPTION</th>\n    </tr>\n  </thead>\n  <tbody>\n    <tr>\n      <th>420802</th>\n      <td>2024-01-02 19:50:02</td>\n      <td>2023-12-01</td>\n      <td>2023-12-31</td>\n      <td>FLUCA OPTHALMIC SUSP.</td>\n    </tr>\n    <tr>\n      <th>420803</th>\n      <td>2024-01-02 19:50:02</td>\n      <td>2023-12-01</td>\n      <td>2023-12-31</td>\n      <td>Consultant Consultation</td>\n    </tr>\n    <tr>\n      <th>420801</th>\n      <td>2024-01-02 19:50:02</td>\n      <td>2023-12-01</td>\n      <td>2023-12-31</td>\n      <td>TOBRADEX EYE OINT</td>\n    </tr>\n    <tr>\n      <th>414051</th>\n      <td>2024-01-03 17:40:06</td>\n      <td>2023-12-01</td>\n      <td>2023-12-31</td>\n      <td>SOCLAV 1 G/125 MG 16 SACHET</td>\n    </tr>\n    <tr>\n      <th>414050</th>\n      <td>2024-01-03 17:40:06</td>\n      <td>2023-12-01</td>\n      <td>2023-12-31</td>\n      <td>SOLPADEINE SOLUBLE TABLET</td>\n    </tr>\n    <tr>\n      <th>...</th>\n      <td>...</td>\n      <td>...</td>\n      <td>...</td>\n      <td>...</td>\n    </tr>\n    <tr>\n      <th>291711</th>\n      <td>2024-04-06 05:54:25</td>\n      <td>2024-03-01</td>\n      <td>2024-03-31</td>\n      <td>SALURIN 20MG-2ML AMPOULES</td>\n    </tr>\n    <tr>\n      <th>291712</th>\n      <td>2024-04-06 05:54:25</td>\n      <td>2024-03-01</td>\n      <td>2024-03-31</td>\n      <td>SALURIN 20MG-2ML AMPOULES</td>\n    </tr>\n    <tr>\n      <th>291714</th>\n      <td>2024-04-06 05:54:25</td>\n      <td>2024-03-01</td>\n      <td>2024-03-31</td>\n      <td>EPINOR 4 MG / 4 ML 5 AMP</td>\n    </tr>\n    <tr>\n      <th>291706</th>\n      <td>2024-04-06 05:54:25</td>\n      <td>2024-03-01</td>\n      <td>2024-03-31</td>\n      <td>Unlisted Procedure Code</td>\n    </tr>\n    <tr>\n      <th>292102</th>\n      <td>2024-04-06 05:54:25</td>\n      <td>2024-03-01</td>\n      <td>2024-03-31</td>\n      <td>SAMIXON 1GM VIAL</td>\n    </tr>\n  </tbody>\n</table>\n<p>735 rows × 4 columns</p>\n</div>"
     },
     "execution_count": 13,
     "metadata": {},
     "output_type": "execute_result"
    }
   ],
   "source": [
    "df[df['NPHIES_CODE'] == \"AD-2-5\"][['CREATION_DATE', 'BATCH_PERIOD_START', 'BATCH_PERIOD_END', 'SERVICE_DESCRIPTION']]"
   ],
   "metadata": {
    "collapsed": false,
    "ExecuteTime": {
     "end_time": "2024-08-05T11:49:39.738546100Z",
     "start_time": "2024-08-05T11:49:39.705635Z"
    }
   }
  },
  {
   "cell_type": "code",
   "execution_count": 14,
   "outputs": [
    {
     "data": {
      "text/plain": "Timestamp('2024-04-30 12:13:09')"
     },
     "execution_count": 14,
     "metadata": {},
     "output_type": "execute_result"
    }
   ],
   "source": [
    "df[df['NPHIES_CODE'] == \"AD-2-6\"][['CREATION_DATE', 'BATCH_PERIOD_START', 'BATCH_PERIOD_END', 'SERVICE_DESCRIPTION']]\n",
    "df.CREATION_DATE.sort_values().iloc[-1]"
   ],
   "metadata": {
    "collapsed": false,
    "ExecuteTime": {
     "end_time": "2024-08-05T11:50:53.249947300Z",
     "start_time": "2024-08-05T11:50:53.203149Z"
    }
   }
  },
  {
   "cell_type": "code",
   "execution_count": 15,
   "outputs": [
    {
     "data": {
      "text/plain": "             CREATION_DATE BATCH_PERIOD_START BATCH_PERIOD_END  \\\n397551 2024-01-01 09:58:15         2023-12-01       2023-12-10   \n397548 2024-01-01 09:58:15         2023-12-01       2023-12-10   \n397549 2024-01-01 09:58:15         2023-12-01       2023-12-10   \n397550 2024-01-01 09:58:15         2023-12-01       2023-12-10   \n397559 2024-01-01 10:00:43         2023-12-01       2023-12-10   \n...                    ...                ...              ...   \n388637 2024-04-30 12:13:09         2024-04-01       2024-04-10   \n388638 2024-04-30 12:13:09         2024-04-01       2024-04-10   \n388639 2024-04-30 12:13:09         2024-04-01       2024-04-10   \n388640 2024-04-30 12:13:09         2024-04-01       2024-04-10   \n388641 2024-04-30 12:13:09         2024-04-01       2024-04-10   \n\n                          SERVICE_DESCRIPTION  \n397551  Routine preoperative anaes assessment  \n397548                         Cross Matching  \n397549         TRANDATE INJ. 100 MG.-AMP.20ML  \n397550   Elective classical caesarean section  \n397559          Hypodermic needle, single-use  \n...                                       ...  \n388637         Peripheral intravenous cannula  \n388638                   Ultrasound of pelvis  \n388639                        Urinalysis Test  \n388640                 PANADREX 500 MG 24 TAB  \n388641                 NORMAL SALINE 500ML PB  \n\n[350810 rows x 4 columns]",
      "text/html": "<div>\n<style scoped>\n    .dataframe tbody tr th:only-of-type {\n        vertical-align: middle;\n    }\n\n    .dataframe tbody tr th {\n        vertical-align: top;\n    }\n\n    .dataframe thead th {\n        text-align: right;\n    }\n</style>\n<table border=\"1\" class=\"dataframe\">\n  <thead>\n    <tr style=\"text-align: right;\">\n      <th></th>\n      <th>CREATION_DATE</th>\n      <th>BATCH_PERIOD_START</th>\n      <th>BATCH_PERIOD_END</th>\n      <th>SERVICE_DESCRIPTION</th>\n    </tr>\n  </thead>\n  <tbody>\n    <tr>\n      <th>397551</th>\n      <td>2024-01-01 09:58:15</td>\n      <td>2023-12-01</td>\n      <td>2023-12-10</td>\n      <td>Routine preoperative anaes assessment</td>\n    </tr>\n    <tr>\n      <th>397548</th>\n      <td>2024-01-01 09:58:15</td>\n      <td>2023-12-01</td>\n      <td>2023-12-10</td>\n      <td>Cross Matching</td>\n    </tr>\n    <tr>\n      <th>397549</th>\n      <td>2024-01-01 09:58:15</td>\n      <td>2023-12-01</td>\n      <td>2023-12-10</td>\n      <td>TRANDATE INJ. 100 MG.-AMP.20ML</td>\n    </tr>\n    <tr>\n      <th>397550</th>\n      <td>2024-01-01 09:58:15</td>\n      <td>2023-12-01</td>\n      <td>2023-12-10</td>\n      <td>Elective classical caesarean section</td>\n    </tr>\n    <tr>\n      <th>397559</th>\n      <td>2024-01-01 10:00:43</td>\n      <td>2023-12-01</td>\n      <td>2023-12-10</td>\n      <td>Hypodermic needle, single-use</td>\n    </tr>\n    <tr>\n      <th>...</th>\n      <td>...</td>\n      <td>...</td>\n      <td>...</td>\n      <td>...</td>\n    </tr>\n    <tr>\n      <th>388637</th>\n      <td>2024-04-30 12:13:09</td>\n      <td>2024-04-01</td>\n      <td>2024-04-10</td>\n      <td>Peripheral intravenous cannula</td>\n    </tr>\n    <tr>\n      <th>388638</th>\n      <td>2024-04-30 12:13:09</td>\n      <td>2024-04-01</td>\n      <td>2024-04-10</td>\n      <td>Ultrasound of pelvis</td>\n    </tr>\n    <tr>\n      <th>388639</th>\n      <td>2024-04-30 12:13:09</td>\n      <td>2024-04-01</td>\n      <td>2024-04-10</td>\n      <td>Urinalysis Test</td>\n    </tr>\n    <tr>\n      <th>388640</th>\n      <td>2024-04-30 12:13:09</td>\n      <td>2024-04-01</td>\n      <td>2024-04-10</td>\n      <td>PANADREX 500 MG 24 TAB</td>\n    </tr>\n    <tr>\n      <th>388641</th>\n      <td>2024-04-30 12:13:09</td>\n      <td>2024-04-01</td>\n      <td>2024-04-10</td>\n      <td>NORMAL SALINE 500ML PB</td>\n    </tr>\n  </tbody>\n</table>\n<p>350810 rows × 4 columns</p>\n</div>"
     },
     "execution_count": 15,
     "metadata": {},
     "output_type": "execute_result"
    }
   ],
   "source": [
    "df[~df['NPHIES_CODE'].isin([\"AD-2-4\", \"AD-2-5\", \"AD-2-6\"])][\n",
    "    ['CREATION_DATE', 'BATCH_PERIOD_START', 'BATCH_PERIOD_END', 'SERVICE_DESCRIPTION']]"
   ],
   "metadata": {
    "collapsed": false,
    "ExecuteTime": {
     "end_time": "2024-08-05T11:50:58.970244600Z",
     "start_time": "2024-08-05T11:50:58.695593700Z"
    }
   }
  },
  {
   "cell_type": "code",
   "execution_count": null,
   "outputs": [],
   "source": [
    "df['OUTCOME'].value_counts()"
   ],
   "metadata": {
    "collapsed": false
   }
  }
 ],
 "metadata": {
  "kernelspec": {
   "display_name": "Python 3",
   "language": "python",
   "name": "python3"
  },
  "language_info": {
   "codemirror_mode": {
    "name": "ipython",
    "version": 2
   },
   "file_extension": ".py",
   "mimetype": "text/x-python",
   "name": "python",
   "nbconvert_exporter": "python",
   "pygments_lexer": "ipython2",
   "version": "2.7.6"
  }
 },
 "nbformat": 4,
 "nbformat_minor": 0
}
