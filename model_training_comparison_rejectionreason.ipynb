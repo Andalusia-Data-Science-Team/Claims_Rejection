{
 "cells": [
  {
   "cell_type": "code",
   "execution_count": null,
   "outputs": [],
   "source": [
    "!pip install shap --quiet"
   ],
   "metadata": {
    "collapsed": false
   }
  },
  {
   "cell_type": "code",
   "execution_count": 1,
   "outputs": [],
   "source": [
    "from cashe import get_train_test_split, get_training_inputs, drop_nomodel_columns\n",
    "from src.data_local import MergedDataPreprocessing\n",
    "from src.utilities_rejection import DataFrameRejection\n",
    "from src.lstm_encoder import LSTMEmbedding\n",
    "from src.model_app import ModelApplication, ModelApplicationDeployment\n",
    "import pandas as pd"
   ],
   "metadata": {
    "collapsed": false,
    "ExecuteTime": {
     "end_time": "2024-07-29T18:18:20.785497300Z",
     "start_time": "2024-07-29T18:18:12.267498400Z"
    }
   }
  },
  {
   "cell_type": "code",
   "execution_count": 2,
   "outputs": [],
   "source": [
    "df_train, df_test = get_train_test_split()\n",
    "\n",
    "df_train = df_train[df_train['OUTCOME'] !='APPROVED']\n",
    "df_test = df_test[df_test['OUTCOME'] !='APPROVED']"
   ],
   "metadata": {
    "collapsed": false,
    "ExecuteTime": {
     "end_time": "2024-07-29T18:18:22.071111300Z",
     "start_time": "2024-07-29T18:18:20.787492400Z"
    }
   }
  },
  {
   "cell_type": "code",
   "execution_count": 39,
   "outputs": [
    {
     "data": {
      "text/plain": "                                                    NOTES NPHIES_LABEL\n0                              Partial Approved  BE-1-7        Billing\n1                              Partial Approved  BE-1-7        Billing\n4                              Partial Approved  BE-1-7        Billing\n5                              Partial Approved  BE-1-7        Billing\n7                              Partial Approved  BE-1-7        Billing\n...                                                   ...          ...\n488826     MN-1-1Service is not clinically justified b...      Medical\n488827     MN-1-1Service is not clinically justified b...      Medical\n488828     BE-1-3Submission not compliant with contrac...      Billing\n488831     MN-1-1Service is not clinically justified b...      Medical\n488832     CV-1-1Provider is out of beneficiary network       Coverage\n\n[76867 rows x 2 columns]",
      "text/html": "<div>\n<style scoped>\n    .dataframe tbody tr th:only-of-type {\n        vertical-align: middle;\n    }\n\n    .dataframe tbody tr th {\n        vertical-align: top;\n    }\n\n    .dataframe thead th {\n        text-align: right;\n    }\n</style>\n<table border=\"1\" class=\"dataframe\">\n  <thead>\n    <tr style=\"text-align: right;\">\n      <th></th>\n      <th>NOTES</th>\n      <th>NPHIES_LABEL</th>\n    </tr>\n  </thead>\n  <tbody>\n    <tr>\n      <th>0</th>\n      <td>Partial Approved  BE-1-7</td>\n      <td>Billing</td>\n    </tr>\n    <tr>\n      <th>1</th>\n      <td>Partial Approved  BE-1-7</td>\n      <td>Billing</td>\n    </tr>\n    <tr>\n      <th>4</th>\n      <td>Partial Approved  BE-1-7</td>\n      <td>Billing</td>\n    </tr>\n    <tr>\n      <th>5</th>\n      <td>Partial Approved  BE-1-7</td>\n      <td>Billing</td>\n    </tr>\n    <tr>\n      <th>7</th>\n      <td>Partial Approved  BE-1-7</td>\n      <td>Billing</td>\n    </tr>\n    <tr>\n      <th>...</th>\n      <td>...</td>\n      <td>...</td>\n    </tr>\n    <tr>\n      <th>488826</th>\n      <td>MN-1-1Service is not clinically justified b...</td>\n      <td>Medical</td>\n    </tr>\n    <tr>\n      <th>488827</th>\n      <td>MN-1-1Service is not clinically justified b...</td>\n      <td>Medical</td>\n    </tr>\n    <tr>\n      <th>488828</th>\n      <td>BE-1-3Submission not compliant with contrac...</td>\n      <td>Billing</td>\n    </tr>\n    <tr>\n      <th>488831</th>\n      <td>MN-1-1Service is not clinically justified b...</td>\n      <td>Medical</td>\n    </tr>\n    <tr>\n      <th>488832</th>\n      <td>CV-1-1Provider is out of beneficiary network</td>\n      <td>Coverage</td>\n    </tr>\n  </tbody>\n</table>\n<p>76867 rows × 2 columns</p>\n</div>"
     },
     "execution_count": 39,
     "metadata": {},
     "output_type": "execute_result"
    }
   ],
   "source": [
    "train_rej_attr[['NOTES','NPHIES_LABEL']]"
   ],
   "metadata": {
    "collapsed": false,
    "ExecuteTime": {
     "end_time": "2024-07-22T17:33:43.116724700Z",
     "start_time": "2024-07-22T17:33:43.105520400Z"
    }
   }
  },
  {
   "cell_type": "code",
   "execution_count": 3,
   "outputs": [],
   "source": [
    "train_rej = DataFrameRejection(df_train)\n",
    "train_rej_attr = train_rej.map_rejection_label()\n",
    "df_train  = train_rej.get_label_rejection()\n",
    "\n",
    "test_rej = DataFrameRejection(df_test)\n",
    "train_rej.map_rejection_label()\n",
    "df_test  = train_rej.get_label_rejection()"
   ],
   "metadata": {
    "collapsed": false,
    "ExecuteTime": {
     "end_time": "2024-07-29T18:19:06.630204400Z",
     "start_time": "2024-07-29T18:19:04.242638500Z"
    }
   }
  },
  {
   "cell_type": "code",
   "execution_count": 4,
   "outputs": [
    {
     "data": {
      "text/plain": "                                                    NOTES  NPHIES_LABEL\n398360  Rejected for the reason Sorry you are not an a...             0\n398594     CV-1-1Services performed by a non-network p...             0\n398595     CV-1-1Services performed by a non-network p...             0\n398596     CV-1-1Services performed by a non-network p...             0\n398588     CV-1-1Services performed by a non-network p...             0\n...                                                   ...           ...\n388372                                           MN-1-1               1\n388385                                           AD-1-7               0\n388628                                           BE-1-6               0\n388629                                           BE-1-6               0\n388630                                           BE-1-6               0\n\n[65992 rows x 2 columns]",
      "text/html": "<div>\n<style scoped>\n    .dataframe tbody tr th:only-of-type {\n        vertical-align: middle;\n    }\n\n    .dataframe tbody tr th {\n        vertical-align: top;\n    }\n\n    .dataframe thead th {\n        text-align: right;\n    }\n</style>\n<table border=\"1\" class=\"dataframe\">\n  <thead>\n    <tr style=\"text-align: right;\">\n      <th></th>\n      <th>NOTES</th>\n      <th>NPHIES_LABEL</th>\n    </tr>\n  </thead>\n  <tbody>\n    <tr>\n      <th>398360</th>\n      <td>Rejected for the reason Sorry you are not an a...</td>\n      <td>0</td>\n    </tr>\n    <tr>\n      <th>398594</th>\n      <td>CV-1-1Services performed by a non-network p...</td>\n      <td>0</td>\n    </tr>\n    <tr>\n      <th>398595</th>\n      <td>CV-1-1Services performed by a non-network p...</td>\n      <td>0</td>\n    </tr>\n    <tr>\n      <th>398596</th>\n      <td>CV-1-1Services performed by a non-network p...</td>\n      <td>0</td>\n    </tr>\n    <tr>\n      <th>398588</th>\n      <td>CV-1-1Services performed by a non-network p...</td>\n      <td>0</td>\n    </tr>\n    <tr>\n      <th>...</th>\n      <td>...</td>\n      <td>...</td>\n    </tr>\n    <tr>\n      <th>388372</th>\n      <td>MN-1-1</td>\n      <td>1</td>\n    </tr>\n    <tr>\n      <th>388385</th>\n      <td>AD-1-7</td>\n      <td>0</td>\n    </tr>\n    <tr>\n      <th>388628</th>\n      <td>BE-1-6</td>\n      <td>0</td>\n    </tr>\n    <tr>\n      <th>388629</th>\n      <td>BE-1-6</td>\n      <td>0</td>\n    </tr>\n    <tr>\n      <th>388630</th>\n      <td>BE-1-6</td>\n      <td>0</td>\n    </tr>\n  </tbody>\n</table>\n<p>65992 rows × 2 columns</p>\n</div>"
     },
     "execution_count": 4,
     "metadata": {},
     "output_type": "execute_result"
    }
   ],
   "source": [
    "df_train[['NOTES','NPHIES_LABEL']]"
   ],
   "metadata": {
    "collapsed": false,
    "ExecuteTime": {
     "end_time": "2024-07-29T18:19:06.678076Z",
     "start_time": "2024-07-29T18:19:06.632200700Z"
    }
   }
  },
  {
   "cell_type": "code",
   "execution_count": 5,
   "outputs": [
    {
     "data": {
      "text/plain": "        NET_WITH_VAT                    SERVICE_DESCRIPTION   QTY  \\\n398360        138.00                           Consultation   1.0   \n398594         11.38         TRANDATE INJ. 100 MG.-AMP.20ML   1.0   \n398595      15346.75   Elective classical caesarean section   1.0   \n398596        575.00  Routine preoperative anaes assessment   1.0   \n398588        312.80                         Cross Matching   1.0   \n...              ...                                    ...   ...   \n388372         12.39                                RIAZOLE  20.0   \n388385        248.63      Cryotherapy of single skin lesion   1.0   \n388628          9.39                    TYLENOL SUPP 100 MG  10.0   \n388629          6.66                    PROF 100MG-5ML SUSP   1.0   \n388630         31.17                               AZI-ONCE   1.0   \n\n        LINE_CLAIMED_AMOUNT_SAR  LINE_ITEM_DISCOUNT  NET_VAT_AMOUNT  \\\n398360                   120.00                0.00           18.00   \n398594                    11.98                0.60            0.00   \n398595                 15700.00             2355.00         2001.75   \n398596                   500.00                0.00           75.00   \n398588                   340.00               68.00           40.80   \n...                         ...                 ...             ...   \n388372                    13.41                1.01            0.00   \n388385                   317.13               95.14           26.64   \n388628                    10.15                0.76            0.00   \n388629                     7.20                0.54            0.00   \n388630                    33.70                2.53            0.00   \n\n        PATIENT_VAT_AMOUNT  VAT_PERCENTAGE  TREATMENT_TYPE_INDICATOR  \\\n398360                0.00            0.15                         2   \n398594                0.00            0.00                         2   \n398595                0.00            0.15                         2   \n398596                0.00            0.15                         2   \n398588                0.00            0.15                         2   \n...                    ...             ...                       ...   \n388372                0.00            0.00                         2   \n388385                6.66            0.15                         2   \n388628                0.00            0.00                         2   \n388629                0.00            0.00                         2   \n388630                0.00            0.00                         2   \n\n            SERVICE_TYPE  ...  CLAIM_TYPE  TOTAL_CLAIMED_AMOUNT_SAR  \\\n398360    oral-health-op  ...           O                    120.00   \n398594  medication-codes  ...           I                  18251.98   \n398595        procedures  ...           I                  18251.98   \n398596        procedures  ...           I                  18251.98   \n398588        laboratory  ...           I                  18251.98   \n...                  ...  ...         ...                       ...   \n388372  medication-codes  ...           O                    197.57   \n388385        procedures  ...           O                    437.13   \n388628  medication-codes  ...           O                    171.05   \n388629  medication-codes  ...           O                    171.05   \n388630  medication-codes  ...           O                    171.05   \n\n       TOTAL_DISCOUNT  TOTAL_DEDUCTIBLE  TOTAL_PATIENT_VATAMOUNT  \\\n398360           0.00              0.00                     0.00   \n398594        2763.60              0.00                     0.00   \n398595        2763.60              0.00                     0.00   \n398596        2763.60              0.00                     0.00   \n398588        2763.60              0.00                     0.00   \n...               ...               ...                      ...   \n388372          14.83             30.00                     0.00   \n388385          95.14             68.40                    10.26   \n388628           3.83             33.44                     0.00   \n388629           3.83             33.44                     0.00   \n388630           3.83             33.44                     0.00   \n\n        DEPARTMENT_TYPE TREATMENT_TYPE  PURCHASER_CODE NEW_BORN   ICD10  \n398360              4.0           oral            2134        N     K02  \n398594              NaN  institutional            2132        N     O82  \n398595              NaN  institutional            2132        N     O82  \n398596              NaN  institutional            2132        N     O82  \n398588              NaN  institutional            2132        N     O82  \n...                 ...            ...             ...      ...     ...  \n388372             18.0   professional             275        N  Z39.00  \n388385              5.0   professional             275        N     B07  \n388628             22.0   professional             275        N     J03  \n388629             22.0   professional             275        N     J03  \n388630             22.0   professional             275        N     J03  \n\n[65992 rows x 36 columns]",
      "text/html": "<div>\n<style scoped>\n    .dataframe tbody tr th:only-of-type {\n        vertical-align: middle;\n    }\n\n    .dataframe tbody tr th {\n        vertical-align: top;\n    }\n\n    .dataframe thead th {\n        text-align: right;\n    }\n</style>\n<table border=\"1\" class=\"dataframe\">\n  <thead>\n    <tr style=\"text-align: right;\">\n      <th></th>\n      <th>NET_WITH_VAT</th>\n      <th>SERVICE_DESCRIPTION</th>\n      <th>QTY</th>\n      <th>LINE_CLAIMED_AMOUNT_SAR</th>\n      <th>LINE_ITEM_DISCOUNT</th>\n      <th>NET_VAT_AMOUNT</th>\n      <th>PATIENT_VAT_AMOUNT</th>\n      <th>VAT_PERCENTAGE</th>\n      <th>TREATMENT_TYPE_INDICATOR</th>\n      <th>SERVICE_TYPE</th>\n      <th>...</th>\n      <th>CLAIM_TYPE</th>\n      <th>TOTAL_CLAIMED_AMOUNT_SAR</th>\n      <th>TOTAL_DISCOUNT</th>\n      <th>TOTAL_DEDUCTIBLE</th>\n      <th>TOTAL_PATIENT_VATAMOUNT</th>\n      <th>DEPARTMENT_TYPE</th>\n      <th>TREATMENT_TYPE</th>\n      <th>PURCHASER_CODE</th>\n      <th>NEW_BORN</th>\n      <th>ICD10</th>\n    </tr>\n  </thead>\n  <tbody>\n    <tr>\n      <th>398360</th>\n      <td>138.00</td>\n      <td>Consultation</td>\n      <td>1.0</td>\n      <td>120.00</td>\n      <td>0.00</td>\n      <td>18.00</td>\n      <td>0.00</td>\n      <td>0.15</td>\n      <td>2</td>\n      <td>oral-health-op</td>\n      <td>...</td>\n      <td>O</td>\n      <td>120.00</td>\n      <td>0.00</td>\n      <td>0.00</td>\n      <td>0.00</td>\n      <td>4.0</td>\n      <td>oral</td>\n      <td>2134</td>\n      <td>N</td>\n      <td>K02</td>\n    </tr>\n    <tr>\n      <th>398594</th>\n      <td>11.38</td>\n      <td>TRANDATE INJ. 100 MG.-AMP.20ML</td>\n      <td>1.0</td>\n      <td>11.98</td>\n      <td>0.60</td>\n      <td>0.00</td>\n      <td>0.00</td>\n      <td>0.00</td>\n      <td>2</td>\n      <td>medication-codes</td>\n      <td>...</td>\n      <td>I</td>\n      <td>18251.98</td>\n      <td>2763.60</td>\n      <td>0.00</td>\n      <td>0.00</td>\n      <td>NaN</td>\n      <td>institutional</td>\n      <td>2132</td>\n      <td>N</td>\n      <td>O82</td>\n    </tr>\n    <tr>\n      <th>398595</th>\n      <td>15346.75</td>\n      <td>Elective classical caesarean section</td>\n      <td>1.0</td>\n      <td>15700.00</td>\n      <td>2355.00</td>\n      <td>2001.75</td>\n      <td>0.00</td>\n      <td>0.15</td>\n      <td>2</td>\n      <td>procedures</td>\n      <td>...</td>\n      <td>I</td>\n      <td>18251.98</td>\n      <td>2763.60</td>\n      <td>0.00</td>\n      <td>0.00</td>\n      <td>NaN</td>\n      <td>institutional</td>\n      <td>2132</td>\n      <td>N</td>\n      <td>O82</td>\n    </tr>\n    <tr>\n      <th>398596</th>\n      <td>575.00</td>\n      <td>Routine preoperative anaes assessment</td>\n      <td>1.0</td>\n      <td>500.00</td>\n      <td>0.00</td>\n      <td>75.00</td>\n      <td>0.00</td>\n      <td>0.15</td>\n      <td>2</td>\n      <td>procedures</td>\n      <td>...</td>\n      <td>I</td>\n      <td>18251.98</td>\n      <td>2763.60</td>\n      <td>0.00</td>\n      <td>0.00</td>\n      <td>NaN</td>\n      <td>institutional</td>\n      <td>2132</td>\n      <td>N</td>\n      <td>O82</td>\n    </tr>\n    <tr>\n      <th>398588</th>\n      <td>312.80</td>\n      <td>Cross Matching</td>\n      <td>1.0</td>\n      <td>340.00</td>\n      <td>68.00</td>\n      <td>40.80</td>\n      <td>0.00</td>\n      <td>0.15</td>\n      <td>2</td>\n      <td>laboratory</td>\n      <td>...</td>\n      <td>I</td>\n      <td>18251.98</td>\n      <td>2763.60</td>\n      <td>0.00</td>\n      <td>0.00</td>\n      <td>NaN</td>\n      <td>institutional</td>\n      <td>2132</td>\n      <td>N</td>\n      <td>O82</td>\n    </tr>\n    <tr>\n      <th>...</th>\n      <td>...</td>\n      <td>...</td>\n      <td>...</td>\n      <td>...</td>\n      <td>...</td>\n      <td>...</td>\n      <td>...</td>\n      <td>...</td>\n      <td>...</td>\n      <td>...</td>\n      <td>...</td>\n      <td>...</td>\n      <td>...</td>\n      <td>...</td>\n      <td>...</td>\n      <td>...</td>\n      <td>...</td>\n      <td>...</td>\n      <td>...</td>\n      <td>...</td>\n      <td>...</td>\n    </tr>\n    <tr>\n      <th>388372</th>\n      <td>12.39</td>\n      <td>RIAZOLE</td>\n      <td>20.0</td>\n      <td>13.41</td>\n      <td>1.01</td>\n      <td>0.00</td>\n      <td>0.00</td>\n      <td>0.00</td>\n      <td>2</td>\n      <td>medication-codes</td>\n      <td>...</td>\n      <td>O</td>\n      <td>197.57</td>\n      <td>14.83</td>\n      <td>30.00</td>\n      <td>0.00</td>\n      <td>18.0</td>\n      <td>professional</td>\n      <td>275</td>\n      <td>N</td>\n      <td>Z39.00</td>\n    </tr>\n    <tr>\n      <th>388385</th>\n      <td>248.63</td>\n      <td>Cryotherapy of single skin lesion</td>\n      <td>1.0</td>\n      <td>317.13</td>\n      <td>95.14</td>\n      <td>26.64</td>\n      <td>6.66</td>\n      <td>0.15</td>\n      <td>2</td>\n      <td>procedures</td>\n      <td>...</td>\n      <td>O</td>\n      <td>437.13</td>\n      <td>95.14</td>\n      <td>68.40</td>\n      <td>10.26</td>\n      <td>5.0</td>\n      <td>professional</td>\n      <td>275</td>\n      <td>N</td>\n      <td>B07</td>\n    </tr>\n    <tr>\n      <th>388628</th>\n      <td>9.39</td>\n      <td>TYLENOL SUPP 100 MG</td>\n      <td>10.0</td>\n      <td>10.15</td>\n      <td>0.76</td>\n      <td>0.00</td>\n      <td>0.00</td>\n      <td>0.00</td>\n      <td>2</td>\n      <td>medication-codes</td>\n      <td>...</td>\n      <td>O</td>\n      <td>171.05</td>\n      <td>3.83</td>\n      <td>33.44</td>\n      <td>0.00</td>\n      <td>22.0</td>\n      <td>professional</td>\n      <td>275</td>\n      <td>N</td>\n      <td>J03</td>\n    </tr>\n    <tr>\n      <th>388629</th>\n      <td>6.66</td>\n      <td>PROF 100MG-5ML SUSP</td>\n      <td>1.0</td>\n      <td>7.20</td>\n      <td>0.54</td>\n      <td>0.00</td>\n      <td>0.00</td>\n      <td>0.00</td>\n      <td>2</td>\n      <td>medication-codes</td>\n      <td>...</td>\n      <td>O</td>\n      <td>171.05</td>\n      <td>3.83</td>\n      <td>33.44</td>\n      <td>0.00</td>\n      <td>22.0</td>\n      <td>professional</td>\n      <td>275</td>\n      <td>N</td>\n      <td>J03</td>\n    </tr>\n    <tr>\n      <th>388630</th>\n      <td>31.17</td>\n      <td>AZI-ONCE</td>\n      <td>1.0</td>\n      <td>33.70</td>\n      <td>2.53</td>\n      <td>0.00</td>\n      <td>0.00</td>\n      <td>0.00</td>\n      <td>2</td>\n      <td>medication-codes</td>\n      <td>...</td>\n      <td>O</td>\n      <td>171.05</td>\n      <td>3.83</td>\n      <td>33.44</td>\n      <td>0.00</td>\n      <td>22.0</td>\n      <td>professional</td>\n      <td>275</td>\n      <td>N</td>\n      <td>J03</td>\n    </tr>\n  </tbody>\n</table>\n<p>65992 rows × 36 columns</p>\n</div>"
     },
     "execution_count": 5,
     "metadata": {},
     "output_type": "execute_result"
    }
   ],
   "source": [
    "X_train, y_train, X_test, y_test = get_training_inputs(df_train, df_test)\n",
    "X_train = drop_nomodel_columns(X_train)\n",
    "X_test = drop_nomodel_columns(X_test)\n",
    "X_train"
   ],
   "metadata": {
    "collapsed": false,
    "ExecuteTime": {
     "end_time": "2024-07-29T18:19:10.165242600Z",
     "start_time": "2024-07-29T18:19:08.861436Z"
    }
   }
  },
  {
   "cell_type": "code",
   "execution_count": 6,
   "outputs": [
    {
     "name": "stderr",
     "output_type": "stream",
     "text": [
      "E:\\Projects\\Claims_Rejection\\src\\data_local.py:275: FutureWarning: Downcasting behavior in `replace` is deprecated and will be removed in a future version. To retain the old behavior, explicitly call `result.infer_objects(copy=False)`. To opt-in to the future behavior, set `pd.set_option('future.no_silent_downcasting', True)`\n",
      "  self.df[column] = self.df[column].replace(column_encoding)\n",
      "E:\\Projects\\Claims_Rejection\\src\\data_local.py:280: FutureWarning: Downcasting behavior in `replace` is deprecated and will be removed in a future version. To retain the old behavior, explicitly call `result.infer_objects(copy=False)`. To opt-in to the future behavior, set `pd.set_option('future.no_silent_downcasting', True)`\n",
      "  self.df['PatientAgeRange'] = self.df.PatientAgeRange.replace(age_encoding)\n",
      "E:\\Projects\\Claims_Rejection\\src\\data_local.py:275: FutureWarning: Downcasting behavior in `replace` is deprecated and will be removed in a future version. To retain the old behavior, explicitly call `result.infer_objects(copy=False)`. To opt-in to the future behavior, set `pd.set_option('future.no_silent_downcasting', True)`\n",
      "  self.df[column] = self.df[column].replace(column_encoding)\n",
      "E:\\Projects\\Claims_Rejection\\src\\data_local.py:280: FutureWarning: Downcasting behavior in `replace` is deprecated and will be removed in a future version. To retain the old behavior, explicitly call `result.infer_objects(copy=False)`. To opt-in to the future behavior, set `pd.set_option('future.no_silent_downcasting', True)`\n",
      "  self.df['PatientAgeRange'] = self.df.PatientAgeRange.replace(age_encoding)\n"
     ]
    }
   ],
   "source": [
    "preprocessing_train = MergedDataPreprocessing(X_train)\n",
    "X_train_prep = preprocessing_train.columns_prep(service_encoding=False)\n",
    "\n",
    "preprocessing_test = MergedDataPreprocessing(X_test)\n",
    "X_test_prep = preprocessing_test.columns_prep(service_encoding=False)\n",
    "lstm_embedding = LSTMEmbedding()\n",
    "\n",
    "X_train_encoded = preprocessing_train.column_embedding(X_train_prep)\n",
    "X_test_encoded = preprocessing_train.column_embedding(X_test_prep)"
   ],
   "metadata": {
    "collapsed": false,
    "ExecuteTime": {
     "end_time": "2024-07-29T18:19:22.434076Z",
     "start_time": "2024-07-29T18:19:17.550744800Z"
    }
   }
  },
  {
   "cell_type": "code",
   "execution_count": 7,
   "outputs": [
    {
     "data": {
      "text/plain": "        NET_WITH_VAT   QTY  LINE_CLAIMED_AMOUNT_SAR  LINE_ITEM_DISCOUNT  \\\n398360        138.00   1.0                   120.00                0.00   \n398594         11.38   1.0                    11.98                0.60   \n398595      15346.75   1.0                 15700.00             2355.00   \n398596        575.00   1.0                   500.00                0.00   \n398588        312.80   1.0                   340.00               68.00   \n...              ...   ...                      ...                 ...   \n388372         12.39  20.0                    13.41                1.01   \n388385        248.63   1.0                   317.13               95.14   \n388628          9.39  10.0                    10.15                0.76   \n388629          6.66   1.0                     7.20                0.54   \n388630         31.17   1.0                    33.70                2.53   \n\n        NET_VAT_AMOUNT  PATIENT_VAT_AMOUNT  VAT_PERCENTAGE  \\\n398360           18.00                0.00            0.15   \n398594            0.00                0.00            0.00   \n398595         2001.75                0.00            0.15   \n398596           75.00                0.00            0.15   \n398588           40.80                0.00            0.15   \n...                ...                 ...             ...   \n388372            0.00                0.00            0.00   \n388385           26.64                6.66            0.15   \n388628            0.00                0.00            0.00   \n388629            0.00                0.00            0.00   \n388630            0.00                0.00            0.00   \n\n        TREATMENT_TYPE_INDICATOR  DURATION  QTY_STOCKED_UOM  ...  \\\n398360                         2       0.0                1  ...   \n398594                         2       1.0                1  ...   \n398595                         2       0.0                1  ...   \n398596                         2       0.0                1  ...   \n398588                         2       0.0                1  ...   \n...                          ...       ...              ...  ...   \n388372                         2       5.0                1  ...   \n388385                         2       1.0                1  ...   \n388628                         2       2.0                1  ...   \n388629                         2       3.0                1  ...   \n388630                         2       1.0                1  ...   \n\n        CombinedText7  CombinedText8  CombinedText9  CombinedText10  \\\n398360              0              0              0               0   \n398594              6             52              0               0   \n398595              0              0              0               0   \n398596              0              0              0               0   \n398588              0              0              0               0   \n...               ...            ...            ...             ...   \n388372              0              0              0               0   \n388385            366              0              0               0   \n388628             35              6              0               0   \n388629            321            237              0               0   \n388630              0              0              0               0   \n\n        CombinedText11  CombinedText12  CombinedText13  CombinedText14  \\\n398360               0               0               0               0   \n398594               0               0               0               0   \n398595               0               0               0               0   \n398596               0               0               0               0   \n398588               0               0               0               0   \n...                ...             ...             ...             ...   \n388372               0               0               0               0   \n388385               0               0               0               0   \n388628               0               0               0               0   \n388629               0               0               0               0   \n388630               0               0               0               0   \n\n        CombinedText15  CombinedText16  \n398360               0               0  \n398594               0               0  \n398595               0               0  \n398596               0               0  \n398588               0               0  \n...                ...             ...  \n388372               0               0  \n388385               0               0  \n388628               0               0  \n388629               0               0  \n388630               0               0  \n\n[65992 rows x 49 columns]",
      "text/html": "<div>\n<style scoped>\n    .dataframe tbody tr th:only-of-type {\n        vertical-align: middle;\n    }\n\n    .dataframe tbody tr th {\n        vertical-align: top;\n    }\n\n    .dataframe thead th {\n        text-align: right;\n    }\n</style>\n<table border=\"1\" class=\"dataframe\">\n  <thead>\n    <tr style=\"text-align: right;\">\n      <th></th>\n      <th>NET_WITH_VAT</th>\n      <th>QTY</th>\n      <th>LINE_CLAIMED_AMOUNT_SAR</th>\n      <th>LINE_ITEM_DISCOUNT</th>\n      <th>NET_VAT_AMOUNT</th>\n      <th>PATIENT_VAT_AMOUNT</th>\n      <th>VAT_PERCENTAGE</th>\n      <th>TREATMENT_TYPE_INDICATOR</th>\n      <th>DURATION</th>\n      <th>QTY_STOCKED_UOM</th>\n      <th>...</th>\n      <th>CombinedText7</th>\n      <th>CombinedText8</th>\n      <th>CombinedText9</th>\n      <th>CombinedText10</th>\n      <th>CombinedText11</th>\n      <th>CombinedText12</th>\n      <th>CombinedText13</th>\n      <th>CombinedText14</th>\n      <th>CombinedText15</th>\n      <th>CombinedText16</th>\n    </tr>\n  </thead>\n  <tbody>\n    <tr>\n      <th>398360</th>\n      <td>138.00</td>\n      <td>1.0</td>\n      <td>120.00</td>\n      <td>0.00</td>\n      <td>18.00</td>\n      <td>0.00</td>\n      <td>0.15</td>\n      <td>2</td>\n      <td>0.0</td>\n      <td>1</td>\n      <td>...</td>\n      <td>0</td>\n      <td>0</td>\n      <td>0</td>\n      <td>0</td>\n      <td>0</td>\n      <td>0</td>\n      <td>0</td>\n      <td>0</td>\n      <td>0</td>\n      <td>0</td>\n    </tr>\n    <tr>\n      <th>398594</th>\n      <td>11.38</td>\n      <td>1.0</td>\n      <td>11.98</td>\n      <td>0.60</td>\n      <td>0.00</td>\n      <td>0.00</td>\n      <td>0.00</td>\n      <td>2</td>\n      <td>1.0</td>\n      <td>1</td>\n      <td>...</td>\n      <td>6</td>\n      <td>52</td>\n      <td>0</td>\n      <td>0</td>\n      <td>0</td>\n      <td>0</td>\n      <td>0</td>\n      <td>0</td>\n      <td>0</td>\n      <td>0</td>\n    </tr>\n    <tr>\n      <th>398595</th>\n      <td>15346.75</td>\n      <td>1.0</td>\n      <td>15700.00</td>\n      <td>2355.00</td>\n      <td>2001.75</td>\n      <td>0.00</td>\n      <td>0.15</td>\n      <td>2</td>\n      <td>0.0</td>\n      <td>1</td>\n      <td>...</td>\n      <td>0</td>\n      <td>0</td>\n      <td>0</td>\n      <td>0</td>\n      <td>0</td>\n      <td>0</td>\n      <td>0</td>\n      <td>0</td>\n      <td>0</td>\n      <td>0</td>\n    </tr>\n    <tr>\n      <th>398596</th>\n      <td>575.00</td>\n      <td>1.0</td>\n      <td>500.00</td>\n      <td>0.00</td>\n      <td>75.00</td>\n      <td>0.00</td>\n      <td>0.15</td>\n      <td>2</td>\n      <td>0.0</td>\n      <td>1</td>\n      <td>...</td>\n      <td>0</td>\n      <td>0</td>\n      <td>0</td>\n      <td>0</td>\n      <td>0</td>\n      <td>0</td>\n      <td>0</td>\n      <td>0</td>\n      <td>0</td>\n      <td>0</td>\n    </tr>\n    <tr>\n      <th>398588</th>\n      <td>312.80</td>\n      <td>1.0</td>\n      <td>340.00</td>\n      <td>68.00</td>\n      <td>40.80</td>\n      <td>0.00</td>\n      <td>0.15</td>\n      <td>2</td>\n      <td>0.0</td>\n      <td>1</td>\n      <td>...</td>\n      <td>0</td>\n      <td>0</td>\n      <td>0</td>\n      <td>0</td>\n      <td>0</td>\n      <td>0</td>\n      <td>0</td>\n      <td>0</td>\n      <td>0</td>\n      <td>0</td>\n    </tr>\n    <tr>\n      <th>...</th>\n      <td>...</td>\n      <td>...</td>\n      <td>...</td>\n      <td>...</td>\n      <td>...</td>\n      <td>...</td>\n      <td>...</td>\n      <td>...</td>\n      <td>...</td>\n      <td>...</td>\n      <td>...</td>\n      <td>...</td>\n      <td>...</td>\n      <td>...</td>\n      <td>...</td>\n      <td>...</td>\n      <td>...</td>\n      <td>...</td>\n      <td>...</td>\n      <td>...</td>\n      <td>...</td>\n    </tr>\n    <tr>\n      <th>388372</th>\n      <td>12.39</td>\n      <td>20.0</td>\n      <td>13.41</td>\n      <td>1.01</td>\n      <td>0.00</td>\n      <td>0.00</td>\n      <td>0.00</td>\n      <td>2</td>\n      <td>5.0</td>\n      <td>1</td>\n      <td>...</td>\n      <td>0</td>\n      <td>0</td>\n      <td>0</td>\n      <td>0</td>\n      <td>0</td>\n      <td>0</td>\n      <td>0</td>\n      <td>0</td>\n      <td>0</td>\n      <td>0</td>\n    </tr>\n    <tr>\n      <th>388385</th>\n      <td>248.63</td>\n      <td>1.0</td>\n      <td>317.13</td>\n      <td>95.14</td>\n      <td>26.64</td>\n      <td>6.66</td>\n      <td>0.15</td>\n      <td>2</td>\n      <td>1.0</td>\n      <td>1</td>\n      <td>...</td>\n      <td>366</td>\n      <td>0</td>\n      <td>0</td>\n      <td>0</td>\n      <td>0</td>\n      <td>0</td>\n      <td>0</td>\n      <td>0</td>\n      <td>0</td>\n      <td>0</td>\n    </tr>\n    <tr>\n      <th>388628</th>\n      <td>9.39</td>\n      <td>10.0</td>\n      <td>10.15</td>\n      <td>0.76</td>\n      <td>0.00</td>\n      <td>0.00</td>\n      <td>0.00</td>\n      <td>2</td>\n      <td>2.0</td>\n      <td>1</td>\n      <td>...</td>\n      <td>35</td>\n      <td>6</td>\n      <td>0</td>\n      <td>0</td>\n      <td>0</td>\n      <td>0</td>\n      <td>0</td>\n      <td>0</td>\n      <td>0</td>\n      <td>0</td>\n    </tr>\n    <tr>\n      <th>388629</th>\n      <td>6.66</td>\n      <td>1.0</td>\n      <td>7.20</td>\n      <td>0.54</td>\n      <td>0.00</td>\n      <td>0.00</td>\n      <td>0.00</td>\n      <td>2</td>\n      <td>3.0</td>\n      <td>1</td>\n      <td>...</td>\n      <td>321</td>\n      <td>237</td>\n      <td>0</td>\n      <td>0</td>\n      <td>0</td>\n      <td>0</td>\n      <td>0</td>\n      <td>0</td>\n      <td>0</td>\n      <td>0</td>\n    </tr>\n    <tr>\n      <th>388630</th>\n      <td>31.17</td>\n      <td>1.0</td>\n      <td>33.70</td>\n      <td>2.53</td>\n      <td>0.00</td>\n      <td>0.00</td>\n      <td>0.00</td>\n      <td>2</td>\n      <td>1.0</td>\n      <td>1</td>\n      <td>...</td>\n      <td>0</td>\n      <td>0</td>\n      <td>0</td>\n      <td>0</td>\n      <td>0</td>\n      <td>0</td>\n      <td>0</td>\n      <td>0</td>\n      <td>0</td>\n      <td>0</td>\n    </tr>\n  </tbody>\n</table>\n<p>65992 rows × 49 columns</p>\n</div>"
     },
     "execution_count": 7,
     "metadata": {},
     "output_type": "execute_result"
    }
   ],
   "source": [
    "X_test_encoded"
   ],
   "metadata": {
    "collapsed": false,
    "ExecuteTime": {
     "end_time": "2024-07-29T18:19:31.056050100Z",
     "start_time": "2024-07-29T18:19:30.990614900Z"
    }
   }
  },
  {
   "cell_type": "code",
   "execution_count": 8,
   "outputs": [],
   "source": [
    "model_rejection = ModelApplication(X_train=X_train_encoded, y_train=y_train['NPHIES_LABEL'],\n",
    "                                   X_test=X_test_encoded, y_test=y_test['NPHIES_LABEL'])"
   ],
   "metadata": {
    "collapsed": false,
    "ExecuteTime": {
     "end_time": "2024-07-29T18:19:36.066844900Z",
     "start_time": "2024-07-29T18:19:36.055875200Z"
    }
   }
  },
  {
   "cell_type": "code",
   "execution_count": 11,
   "outputs": [
    {
     "name": "stdout",
     "output_type": "stream",
     "text": [
      "XGBoost Model is loading from disk..\n"
     ]
    }
   ],
   "source": [
    "model_rejection.get_model(force_retrain=False,model_type='rejection')"
   ],
   "metadata": {
    "collapsed": false,
    "ExecuteTime": {
     "end_time": "2024-07-29T18:19:48.800371200Z",
     "start_time": "2024-07-29T18:19:48.738535500Z"
    }
   }
  },
  {
   "cell_type": "code",
   "execution_count": 10,
   "outputs": [
    {
     "data": {
      "text/plain": "{'XGBoost': {'Accuracy': 0.95,\n  'Precision': 0.94,\n  'Recall': 0.83,\n  'F1 Score': 0.88}}"
     },
     "execution_count": 10,
     "metadata": {},
     "output_type": "execute_result"
    }
   ],
   "source": [
    "## runtime 1\n",
    "model_rejection.evaluate_model()"
   ],
   "metadata": {
    "collapsed": false,
    "ExecuteTime": {
     "end_time": "2024-07-29T18:19:42.362215Z",
     "start_time": "2024-07-29T18:19:42.134143400Z"
    }
   }
  },
  {
   "cell_type": "code",
   "execution_count": 12,
   "outputs": [
    {
     "data": {
      "text/plain": "{'XGBoost': {'Accuracy': 0.95,\n  'Precision': 0.94,\n  'Recall': 0.83,\n  'F1 Score': 0.88}}"
     },
     "execution_count": 12,
     "metadata": {},
     "output_type": "execute_result"
    }
   ],
   "source": [
    "## runtime 2\n",
    "model_rejection.evaluate_model()"
   ],
   "metadata": {
    "collapsed": false,
    "ExecuteTime": {
     "end_time": "2024-07-29T18:19:51.142245400Z",
     "start_time": "2024-07-29T18:19:50.558620800Z"
    }
   }
  },
  {
   "cell_type": "code",
   "execution_count": 13,
   "outputs": [
    {
     "name": "stdout",
     "output_type": "stream",
     "text": [
      "XGBoost Model is loading from disk..\n"
     ]
    },
    {
     "data": {
      "text/plain": "      main_contributing_feature\n0                PURCHASER_CODE\n1                PURCHASER_CODE\n2                PURCHASER_CODE\n3                PURCHASER_CODE\n4                PURCHASER_CODE\n...                         ...\n65987            PURCHASER_CODE\n65988            PURCHASER_CODE\n65989            PURCHASER_CODE\n65990              NET_WITH_VAT\n65991            PURCHASER_CODE\n\n[65992 rows x 1 columns]",
      "text/html": "<div>\n<style scoped>\n    .dataframe tbody tr th:only-of-type {\n        vertical-align: middle;\n    }\n\n    .dataframe tbody tr th {\n        vertical-align: top;\n    }\n\n    .dataframe thead th {\n        text-align: right;\n    }\n</style>\n<table border=\"1\" class=\"dataframe\">\n  <thead>\n    <tr style=\"text-align: right;\">\n      <th></th>\n      <th>main_contributing_feature</th>\n    </tr>\n  </thead>\n  <tbody>\n    <tr>\n      <th>0</th>\n      <td>PURCHASER_CODE</td>\n    </tr>\n    <tr>\n      <th>1</th>\n      <td>PURCHASER_CODE</td>\n    </tr>\n    <tr>\n      <th>2</th>\n      <td>PURCHASER_CODE</td>\n    </tr>\n    <tr>\n      <th>3</th>\n      <td>PURCHASER_CODE</td>\n    </tr>\n    <tr>\n      <th>4</th>\n      <td>PURCHASER_CODE</td>\n    </tr>\n    <tr>\n      <th>...</th>\n      <td>...</td>\n    </tr>\n    <tr>\n      <th>65987</th>\n      <td>PURCHASER_CODE</td>\n    </tr>\n    <tr>\n      <th>65988</th>\n      <td>PURCHASER_CODE</td>\n    </tr>\n    <tr>\n      <th>65989</th>\n      <td>PURCHASER_CODE</td>\n    </tr>\n    <tr>\n      <th>65990</th>\n      <td>NET_WITH_VAT</td>\n    </tr>\n    <tr>\n      <th>65991</th>\n      <td>PURCHASER_CODE</td>\n    </tr>\n  </tbody>\n</table>\n<p>65992 rows × 1 columns</p>\n</div>"
     },
     "execution_count": 13,
     "metadata": {},
     "output_type": "execute_result"
    }
   ],
   "source": [
    "model_rejection_deployed = ModelApplicationDeployment(X_test)\n",
    "model_rejection_deployed.interprete()"
   ],
   "metadata": {
    "collapsed": false,
    "ExecuteTime": {
     "end_time": "2024-07-30T09:25:01.682586500Z",
     "start_time": "2024-07-30T09:24:03.640338100Z"
    }
   }
  },
  {
   "cell_type": "markdown",
   "source": [
    "## Models Comparison"
   ],
   "metadata": {
    "collapsed": false
   }
  },
  {
   "cell_type": "code",
   "execution_count": 13,
   "outputs": [
    {
     "name": "stdout",
     "output_type": "stream",
     "text": [
      "[LightGBM] [Info] Number of positive: 15977, number of negative: 60890\n",
      "[LightGBM] [Info] Total Bins 5673\n",
      "[LightGBM] [Info] Number of data points in the train set: 76867, number of used features: 48\n",
      "[LightGBM] [Info] [binary:BoostFromScore]: pavg=0.207853 -> initscore=-1.337919\n",
      "[LightGBM] [Info] Start training from score -1.337919\n",
      "\n",
      "\n",
      "LightGBM, Decision Tree, SGD and Neural Network are trained on dataset.\n"
     ]
    }
   ],
   "source": [
    "from src.model_train import ModelTrainer\n",
    "\n",
    "X_train_encoded.fillna(0,inplace=True)\n",
    "X_test_encoded.fillna(0,inplace=True)\n",
    "\n",
    "model_runner = ModelTrainer(X_train=X_train_encoded,y_train=y_train['NPHIES_LABEL']\n",
    "                            ,X_test=X_test_encoded,y_test=y_test['NPHIES_LABEL'])\n",
    "\n",
    "model_runner.train_models()"
   ],
   "metadata": {
    "collapsed": false,
    "ExecuteTime": {
     "end_time": "2024-07-22T17:48:08.568106300Z",
     "start_time": "2024-07-22T17:47:46.816813900Z"
    }
   }
  },
  {
   "cell_type": "code",
   "execution_count": 14,
   "outputs": [
    {
     "data": {
      "text/plain": "{'Decision Tree': {'Accuracy': 1.0,\n  'Precision': 1.0,\n  'Recall': 0.99,\n  'F1 Score': 0.99},\n 'LightGBM': {'Accuracy': 0.92,\n  'Precision': 0.9,\n  'Recall': 0.7,\n  'F1 Score': 0.79},\n 'SGD Classifier': {'Accuracy': 0.78,\n  'Precision': 0.37,\n  'Recall': 0.12,\n  'F1 Score': 0.18},\n 'XGBoost': {'Accuracy': 0.95,\n  'Precision': 0.94,\n  'Recall': 0.82,\n  'F1 Score': 0.88},\n 'Neural Network': {'Accuracy': 0.79,\n  'Precision': 0.49,\n  'Recall': 0.3,\n  'F1 Score': 0.37}}"
     },
     "execution_count": 14,
     "metadata": {},
     "output_type": "execute_result"
    }
   ],
   "source": [
    "result_analysis = model_runner.evaluate_models()\n",
    "result_analysis"
   ],
   "metadata": {
    "collapsed": false,
    "ExecuteTime": {
     "end_time": "2024-07-22T17:48:14.455609800Z",
     "start_time": "2024-07-22T17:48:13.637713600Z"
    }
   }
  },
  {
   "cell_type": "code",
   "execution_count": 15,
   "outputs": [
    {
     "data": {
      "text/plain": "                 Column_name  Feature_importance\n29            PURCHASER_CODE            0.146008\n35             CombinedText3            0.065311\n33             CombinedText1            0.059334\n4             NET_VAT_AMOUNT            0.055781\n10    UNIT_PRICE_STOCKED_UOM            0.054122\n24            TOTAL_DISCOUNT            0.047606\n14  PROVIDER_DEPARTMENT_CODE            0.044674\n34             CombinedText2            0.040802\n23  TOTAL_CLAIMED_AMOUNT_SAR            0.040249\n25          TOTAL_DEDUCTIBLE            0.036858\n17               PATIENT_AGE            0.035841\n11            UNIT_PRICE_NET            0.033813\n2    LINE_CLAIMED_AMOUNT_SAR            0.029947\n3         LINE_ITEM_DISCOUNT            0.028498\n31                     ICD10            0.027844\n12       DISCOUNT_PERCENTAGE            0.027288\n16               DOCTOR_CODE            0.023373\n39             CombinedText7            0.021978\n37             CombinedText5            0.021686\n0               NET_WITH_VAT            0.020961\n36             CombinedText4            0.020790\n8                   DURATION            0.014726\n15     DOCTOR_SPECIALTY_CODE            0.011445\n38             CombinedText6            0.009910\n27           DEPARTMENT_TYPE            0.008911\n28            TREATMENT_TYPE            0.008200\n32           PatientAgeRange            0.006491\n1                        QTY            0.006371\n40             CombinedText8            0.005085\n44            CombinedText12            0.004920\n41             CombinedText9            0.004911\n9            QTY_STOCKED_UOM            0.004901\n26   TOTAL_PATIENT_VATAMOUNT            0.004670\n19       PATIENT_NATIONALITY            0.004423\n21            PATIENT_GENDER            0.004218\n6             VAT_PERCENTAGE            0.004186\n42            CombinedText10            0.002540\n5         PATIENT_VAT_AMOUNT            0.002289\n13       EMERGENCY_INDICATOR            0.002213\n20    PATIENT_MARITAL_STATUS            0.001838\n46            CombinedText14            0.001179\n43            CombinedText11            0.001062\n22                CLAIM_TYPE            0.000915\n18               UNIT_OF_AGE            0.000812\n45            CombinedText13            0.000510\n30                  NEW_BORN            0.000263\n48            CombinedText16            0.000136\n47            CombinedText15            0.000109\n7   TREATMENT_TYPE_INDICATOR            0.000000",
      "text/html": "<div>\n<style scoped>\n    .dataframe tbody tr th:only-of-type {\n        vertical-align: middle;\n    }\n\n    .dataframe tbody tr th {\n        vertical-align: top;\n    }\n\n    .dataframe thead th {\n        text-align: right;\n    }\n</style>\n<table border=\"1\" class=\"dataframe\">\n  <thead>\n    <tr style=\"text-align: right;\">\n      <th></th>\n      <th>Column_name</th>\n      <th>Feature_importance</th>\n    </tr>\n  </thead>\n  <tbody>\n    <tr>\n      <th>29</th>\n      <td>PURCHASER_CODE</td>\n      <td>0.146008</td>\n    </tr>\n    <tr>\n      <th>35</th>\n      <td>CombinedText3</td>\n      <td>0.065311</td>\n    </tr>\n    <tr>\n      <th>33</th>\n      <td>CombinedText1</td>\n      <td>0.059334</td>\n    </tr>\n    <tr>\n      <th>4</th>\n      <td>NET_VAT_AMOUNT</td>\n      <td>0.055781</td>\n    </tr>\n    <tr>\n      <th>10</th>\n      <td>UNIT_PRICE_STOCKED_UOM</td>\n      <td>0.054122</td>\n    </tr>\n    <tr>\n      <th>24</th>\n      <td>TOTAL_DISCOUNT</td>\n      <td>0.047606</td>\n    </tr>\n    <tr>\n      <th>14</th>\n      <td>PROVIDER_DEPARTMENT_CODE</td>\n      <td>0.044674</td>\n    </tr>\n    <tr>\n      <th>34</th>\n      <td>CombinedText2</td>\n      <td>0.040802</td>\n    </tr>\n    <tr>\n      <th>23</th>\n      <td>TOTAL_CLAIMED_AMOUNT_SAR</td>\n      <td>0.040249</td>\n    </tr>\n    <tr>\n      <th>25</th>\n      <td>TOTAL_DEDUCTIBLE</td>\n      <td>0.036858</td>\n    </tr>\n    <tr>\n      <th>17</th>\n      <td>PATIENT_AGE</td>\n      <td>0.035841</td>\n    </tr>\n    <tr>\n      <th>11</th>\n      <td>UNIT_PRICE_NET</td>\n      <td>0.033813</td>\n    </tr>\n    <tr>\n      <th>2</th>\n      <td>LINE_CLAIMED_AMOUNT_SAR</td>\n      <td>0.029947</td>\n    </tr>\n    <tr>\n      <th>3</th>\n      <td>LINE_ITEM_DISCOUNT</td>\n      <td>0.028498</td>\n    </tr>\n    <tr>\n      <th>31</th>\n      <td>ICD10</td>\n      <td>0.027844</td>\n    </tr>\n    <tr>\n      <th>12</th>\n      <td>DISCOUNT_PERCENTAGE</td>\n      <td>0.027288</td>\n    </tr>\n    <tr>\n      <th>16</th>\n      <td>DOCTOR_CODE</td>\n      <td>0.023373</td>\n    </tr>\n    <tr>\n      <th>39</th>\n      <td>CombinedText7</td>\n      <td>0.021978</td>\n    </tr>\n    <tr>\n      <th>37</th>\n      <td>CombinedText5</td>\n      <td>0.021686</td>\n    </tr>\n    <tr>\n      <th>0</th>\n      <td>NET_WITH_VAT</td>\n      <td>0.020961</td>\n    </tr>\n    <tr>\n      <th>36</th>\n      <td>CombinedText4</td>\n      <td>0.020790</td>\n    </tr>\n    <tr>\n      <th>8</th>\n      <td>DURATION</td>\n      <td>0.014726</td>\n    </tr>\n    <tr>\n      <th>15</th>\n      <td>DOCTOR_SPECIALTY_CODE</td>\n      <td>0.011445</td>\n    </tr>\n    <tr>\n      <th>38</th>\n      <td>CombinedText6</td>\n      <td>0.009910</td>\n    </tr>\n    <tr>\n      <th>27</th>\n      <td>DEPARTMENT_TYPE</td>\n      <td>0.008911</td>\n    </tr>\n    <tr>\n      <th>28</th>\n      <td>TREATMENT_TYPE</td>\n      <td>0.008200</td>\n    </tr>\n    <tr>\n      <th>32</th>\n      <td>PatientAgeRange</td>\n      <td>0.006491</td>\n    </tr>\n    <tr>\n      <th>1</th>\n      <td>QTY</td>\n      <td>0.006371</td>\n    </tr>\n    <tr>\n      <th>40</th>\n      <td>CombinedText8</td>\n      <td>0.005085</td>\n    </tr>\n    <tr>\n      <th>44</th>\n      <td>CombinedText12</td>\n      <td>0.004920</td>\n    </tr>\n    <tr>\n      <th>41</th>\n      <td>CombinedText9</td>\n      <td>0.004911</td>\n    </tr>\n    <tr>\n      <th>9</th>\n      <td>QTY_STOCKED_UOM</td>\n      <td>0.004901</td>\n    </tr>\n    <tr>\n      <th>26</th>\n      <td>TOTAL_PATIENT_VATAMOUNT</td>\n      <td>0.004670</td>\n    </tr>\n    <tr>\n      <th>19</th>\n      <td>PATIENT_NATIONALITY</td>\n      <td>0.004423</td>\n    </tr>\n    <tr>\n      <th>21</th>\n      <td>PATIENT_GENDER</td>\n      <td>0.004218</td>\n    </tr>\n    <tr>\n      <th>6</th>\n      <td>VAT_PERCENTAGE</td>\n      <td>0.004186</td>\n    </tr>\n    <tr>\n      <th>42</th>\n      <td>CombinedText10</td>\n      <td>0.002540</td>\n    </tr>\n    <tr>\n      <th>5</th>\n      <td>PATIENT_VAT_AMOUNT</td>\n      <td>0.002289</td>\n    </tr>\n    <tr>\n      <th>13</th>\n      <td>EMERGENCY_INDICATOR</td>\n      <td>0.002213</td>\n    </tr>\n    <tr>\n      <th>20</th>\n      <td>PATIENT_MARITAL_STATUS</td>\n      <td>0.001838</td>\n    </tr>\n    <tr>\n      <th>46</th>\n      <td>CombinedText14</td>\n      <td>0.001179</td>\n    </tr>\n    <tr>\n      <th>43</th>\n      <td>CombinedText11</td>\n      <td>0.001062</td>\n    </tr>\n    <tr>\n      <th>22</th>\n      <td>CLAIM_TYPE</td>\n      <td>0.000915</td>\n    </tr>\n    <tr>\n      <th>18</th>\n      <td>UNIT_OF_AGE</td>\n      <td>0.000812</td>\n    </tr>\n    <tr>\n      <th>45</th>\n      <td>CombinedText13</td>\n      <td>0.000510</td>\n    </tr>\n    <tr>\n      <th>30</th>\n      <td>NEW_BORN</td>\n      <td>0.000263</td>\n    </tr>\n    <tr>\n      <th>48</th>\n      <td>CombinedText16</td>\n      <td>0.000136</td>\n    </tr>\n    <tr>\n      <th>47</th>\n      <td>CombinedText15</td>\n      <td>0.000109</td>\n    </tr>\n    <tr>\n      <th>7</th>\n      <td>TREATMENT_TYPE_INDICATOR</td>\n      <td>0.000000</td>\n    </tr>\n  </tbody>\n</table>\n</div>"
     },
     "execution_count": 15,
     "metadata": {},
     "output_type": "execute_result"
    }
   ],
   "source": [
    "top_model_features = model_runner.get_decision_tree_feature_importance()\n",
    "\n",
    "pd.DataFrame({\"Column_name\":X_test_encoded.columns,\"Feature_importance\":top_model_features}).sort_values(\n",
    "    by=['Feature_importance'],ascending=False)"
   ],
   "metadata": {
    "collapsed": false,
    "ExecuteTime": {
     "end_time": "2024-07-22T17:48:35.821269900Z",
     "start_time": "2024-07-22T17:48:35.794551700Z"
    }
   }
  },
  {
   "cell_type": "code",
   "execution_count": null,
   "outputs": [],
   "source": [],
   "metadata": {
    "collapsed": false
   }
  }
 ],
 "metadata": {
  "kernelspec": {
   "display_name": "Python 3",
   "language": "python",
   "name": "python3"
  },
  "language_info": {
   "codemirror_mode": {
    "name": "ipython",
    "version": 2
   },
   "file_extension": ".py",
   "mimetype": "text/x-python",
   "name": "python",
   "nbconvert_exporter": "python",
   "pygments_lexer": "ipython2",
   "version": "2.7.6"
  }
 },
 "nbformat": 4,
 "nbformat_minor": 0
}
