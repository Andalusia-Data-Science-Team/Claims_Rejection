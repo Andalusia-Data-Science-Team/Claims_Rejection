{
 "cells": [
  {
   "cell_type": "code",
   "execution_count": 1,
   "outputs": [],
   "source": [
    "from src.data_application import DataFrameProcessor\n",
    "from src.data_local import DataLoader, MergedDataPreprocessing\n",
    "from cashe import get_input"
   ],
   "metadata": {
    "collapsed": false,
    "ExecuteTime": {
     "end_time": "2024-05-15T11:52:01.121199500Z",
     "start_time": "2024-05-15T11:51:58.867853200Z"
    }
   }
  },
  {
   "cell_type": "markdown",
   "source": [
    "## SNB Dataset - Live data\n",
    "loaded on 3/5/2024"
   ],
   "metadata": {
    "collapsed": false
   }
  },
  {
   "cell_type": "code",
   "execution_count": 2,
   "outputs": [],
   "source": [
    "df_original = get_input()"
   ],
   "metadata": {
    "collapsed": false,
    "ExecuteTime": {
     "end_time": "2024-05-15T11:52:55.468076400Z",
     "start_time": "2024-05-15T11:52:20.713378300Z"
    }
   }
  },
  {
   "cell_type": "code",
   "execution_count": 3,
   "outputs": [
    {
     "data": {
      "text/plain": "         item_CreatedDate                 transaction_RequestId  \\\n0 2023-08-24 14:21:05.369  75a9840c-865f-4fd9-9b67-255bb8771eee   \n1 2023-08-24 14:34:14.349  6c46f638-517f-493d-b710-4aef5f9e9393   \n2 2023-08-24 14:58:18.912  3c2813fe-f1f3-438f-b16f-92fcf917dc67   \n3 2023-08-24 15:00:39.525  65e81315-23b8-4d4e-9767-040c45a0f560   \n4 2023-08-24 15:03:23.404  c4427a02-3291-422d-b2e8-b97bf3d5081d   \n\n  transaction_PatientAge transaction_PatientEnGender  item_NameEn  item_Price  \\\n0                  6Y-3M                        Male  Examination        80.0   \n1                  6Y-3M                        Male  Examination        80.0   \n2                  6Y-3M                        Male  Examination        80.0   \n3                  6Y-3M                        Male  Examination        80.0   \n4                  6Y-3M                        Male  Examination        80.0   \n\n   item_Status  item_Sequence  item_RequestQuantity  item_ResponseQuantity  \\\n0            1              1                   1.0                    0.0   \n1            1              1                   1.0                    0.0   \n2            1              1                   1.0                    0.0   \n3            1              1                   1.0                    0.0   \n4            2              1                   1.0                    1.0   \n\n  transaction_DiagnosisIds transaction_PhysicianIds item_ResponseState  \n0                      J02                     ,327                NaN  \n1                      J02                     ,327                NaN  \n2                      J02                     ,327                NaN  \n3                      J02                     ,327                NaN  \n4                      J02                     ,327           approved  ",
      "text/html": "<div>\n<style scoped>\n    .dataframe tbody tr th:only-of-type {\n        vertical-align: middle;\n    }\n\n    .dataframe tbody tr th {\n        vertical-align: top;\n    }\n\n    .dataframe thead th {\n        text-align: right;\n    }\n</style>\n<table border=\"1\" class=\"dataframe\">\n  <thead>\n    <tr style=\"text-align: right;\">\n      <th></th>\n      <th>item_CreatedDate</th>\n      <th>transaction_RequestId</th>\n      <th>transaction_PatientAge</th>\n      <th>transaction_PatientEnGender</th>\n      <th>item_NameEn</th>\n      <th>item_Price</th>\n      <th>item_Status</th>\n      <th>item_Sequence</th>\n      <th>item_RequestQuantity</th>\n      <th>item_ResponseQuantity</th>\n      <th>transaction_DiagnosisIds</th>\n      <th>transaction_PhysicianIds</th>\n      <th>item_ResponseState</th>\n    </tr>\n  </thead>\n  <tbody>\n    <tr>\n      <th>0</th>\n      <td>2023-08-24 14:21:05.369</td>\n      <td>75a9840c-865f-4fd9-9b67-255bb8771eee</td>\n      <td>6Y-3M</td>\n      <td>Male</td>\n      <td>Examination</td>\n      <td>80.0</td>\n      <td>1</td>\n      <td>1</td>\n      <td>1.0</td>\n      <td>0.0</td>\n      <td>J02</td>\n      <td>,327</td>\n      <td>NaN</td>\n    </tr>\n    <tr>\n      <th>1</th>\n      <td>2023-08-24 14:34:14.349</td>\n      <td>6c46f638-517f-493d-b710-4aef5f9e9393</td>\n      <td>6Y-3M</td>\n      <td>Male</td>\n      <td>Examination</td>\n      <td>80.0</td>\n      <td>1</td>\n      <td>1</td>\n      <td>1.0</td>\n      <td>0.0</td>\n      <td>J02</td>\n      <td>,327</td>\n      <td>NaN</td>\n    </tr>\n    <tr>\n      <th>2</th>\n      <td>2023-08-24 14:58:18.912</td>\n      <td>3c2813fe-f1f3-438f-b16f-92fcf917dc67</td>\n      <td>6Y-3M</td>\n      <td>Male</td>\n      <td>Examination</td>\n      <td>80.0</td>\n      <td>1</td>\n      <td>1</td>\n      <td>1.0</td>\n      <td>0.0</td>\n      <td>J02</td>\n      <td>,327</td>\n      <td>NaN</td>\n    </tr>\n    <tr>\n      <th>3</th>\n      <td>2023-08-24 15:00:39.525</td>\n      <td>65e81315-23b8-4d4e-9767-040c45a0f560</td>\n      <td>6Y-3M</td>\n      <td>Male</td>\n      <td>Examination</td>\n      <td>80.0</td>\n      <td>1</td>\n      <td>1</td>\n      <td>1.0</td>\n      <td>0.0</td>\n      <td>J02</td>\n      <td>,327</td>\n      <td>NaN</td>\n    </tr>\n    <tr>\n      <th>4</th>\n      <td>2023-08-24 15:03:23.404</td>\n      <td>c4427a02-3291-422d-b2e8-b97bf3d5081d</td>\n      <td>6Y-3M</td>\n      <td>Male</td>\n      <td>Examination</td>\n      <td>80.0</td>\n      <td>2</td>\n      <td>1</td>\n      <td>1.0</td>\n      <td>1.0</td>\n      <td>J02</td>\n      <td>,327</td>\n      <td>approved</td>\n    </tr>\n  </tbody>\n</table>\n</div>"
     },
     "execution_count": 3,
     "metadata": {},
     "output_type": "execute_result"
    }
   ],
   "source": [
    "df_original.head(5)"
   ],
   "metadata": {
    "collapsed": false,
    "ExecuteTime": {
     "end_time": "2024-05-15T11:52:55.511289800Z",
     "start_time": "2024-05-15T11:52:55.470071800Z"
    }
   }
  },
  {
   "cell_type": "code",
   "execution_count": 4,
   "outputs": [],
   "source": [
    "preprocessing = MergedDataPreprocessing(df_original)"
   ],
   "metadata": {
    "collapsed": false,
    "ExecuteTime": {
     "end_time": "2024-05-15T11:52:55.685177100Z",
     "start_time": "2024-05-15T11:52:55.500261300Z"
    }
   }
  },
  {
   "cell_type": "code",
   "execution_count": 5,
   "outputs": [
    {
     "data": {
      "text/plain": "             item_CreatedDate                 transaction_RequestId  \\\n0     2023-08-24 14:21:05.369  75a9840c-865f-4fd9-9b67-255bb8771eee   \n1     2023-08-24 14:34:14.349  6c46f638-517f-493d-b710-4aef5f9e9393   \n2     2023-08-24 14:58:18.912  3c2813fe-f1f3-438f-b16f-92fcf917dc67   \n3     2023-08-24 15:00:39.525  65e81315-23b8-4d4e-9767-040c45a0f560   \n4     2023-08-24 15:03:23.404  c4427a02-3291-422d-b2e8-b97bf3d5081d   \n...                       ...                                   ...   \n49087 2024-04-30 09:00:16.704  f4cbab83-28f3-4410-948c-2c87cdcdd8da   \n49088 2024-04-30 09:00:16.704  f4cbab83-28f3-4410-948c-2c87cdcdd8da   \n49089 2024-04-30 09:00:16.704  f4cbab83-28f3-4410-948c-2c87cdcdd8da   \n49090 2024-04-30 09:00:16.704  f4cbab83-28f3-4410-948c-2c87cdcdd8da   \n49091 2024-04-30 09:00:16.704  f4cbab83-28f3-4410-948c-2c87cdcdd8da   \n\n       transaction_PatientAge  transaction_PatientEnGender  \\\n0                           6                            1   \n1                           6                            1   \n2                           6                            1   \n3                           6                            1   \n4                           6                            1   \n...                       ...                          ...   \n49087                      31                            1   \n49088                      31                            1   \n49089                      31                            1   \n49090                      31                            1   \n49091                      31                            1   \n\n                  item_NameEn  item_Price  item_Status  item_Sequence  \\\n0                 Examination       80.00            1              1   \n1                 Examination       80.00            1              1   \n2                 Examination       80.00            1              1   \n3                 Examination       80.00            1              1   \n4                 Examination       80.00            2              1   \n...                       ...         ...          ...            ...   \n49087           TRIGLYCERIDES      121.00            1              3   \n49088          URINE ANALYSIS       60.50            1              2   \n49089             Examination       80.00            1              1   \n49090  CIPROXEN 500 MG 10 TAB       54.25            1             16   \n49091    NEUROBION TAB 30 TAB       23.30            1             17   \n\n       item_RequestQuantity  item_ResponseQuantity  transaction_DiagnosisIds  \\\n0                       1.0                    0.0                         7   \n1                       1.0                    0.0                         7   \n2                       1.0                    0.0                         7   \n3                       1.0                    0.0                         7   \n4                       1.0                    1.0                         7   \n...                     ...                    ...                       ...   \n49087                   1.0                    0.0                         2   \n49088                   1.0                    0.0                         2   \n49089                   1.0                    0.0                         2   \n49090                   1.0                    0.0                         2   \n49091                   3.0                    0.0                         2   \n\n                                transaction_PhysicianIds item_ResponseState  \n0                                                   ,327                NaN  \n1                                                   ,327                NaN  \n2                                                   ,327                NaN  \n3                                                   ,327                NaN  \n4                                                   ,327           approved  \n...                                                  ...                ...  \n49087  ,238,238,238,238,238,238,238,238,238,238,238,2...                NaN  \n49088  ,238,238,238,238,238,238,238,238,238,238,238,2...                NaN  \n49089  ,238,238,238,238,238,238,238,238,238,238,238,2...                NaN  \n49090  ,238,238,238,238,238,238,238,238,238,238,238,2...                NaN  \n49091  ,238,238,238,238,238,238,238,238,238,238,238,2...                NaN  \n\n[49092 rows x 13 columns]",
      "text/html": "<div>\n<style scoped>\n    .dataframe tbody tr th:only-of-type {\n        vertical-align: middle;\n    }\n\n    .dataframe tbody tr th {\n        vertical-align: top;\n    }\n\n    .dataframe thead th {\n        text-align: right;\n    }\n</style>\n<table border=\"1\" class=\"dataframe\">\n  <thead>\n    <tr style=\"text-align: right;\">\n      <th></th>\n      <th>item_CreatedDate</th>\n      <th>transaction_RequestId</th>\n      <th>transaction_PatientAge</th>\n      <th>transaction_PatientEnGender</th>\n      <th>item_NameEn</th>\n      <th>item_Price</th>\n      <th>item_Status</th>\n      <th>item_Sequence</th>\n      <th>item_RequestQuantity</th>\n      <th>item_ResponseQuantity</th>\n      <th>transaction_DiagnosisIds</th>\n      <th>transaction_PhysicianIds</th>\n      <th>item_ResponseState</th>\n    </tr>\n  </thead>\n  <tbody>\n    <tr>\n      <th>0</th>\n      <td>2023-08-24 14:21:05.369</td>\n      <td>75a9840c-865f-4fd9-9b67-255bb8771eee</td>\n      <td>6</td>\n      <td>1</td>\n      <td>Examination</td>\n      <td>80.00</td>\n      <td>1</td>\n      <td>1</td>\n      <td>1.0</td>\n      <td>0.0</td>\n      <td>7</td>\n      <td>,327</td>\n      <td>NaN</td>\n    </tr>\n    <tr>\n      <th>1</th>\n      <td>2023-08-24 14:34:14.349</td>\n      <td>6c46f638-517f-493d-b710-4aef5f9e9393</td>\n      <td>6</td>\n      <td>1</td>\n      <td>Examination</td>\n      <td>80.00</td>\n      <td>1</td>\n      <td>1</td>\n      <td>1.0</td>\n      <td>0.0</td>\n      <td>7</td>\n      <td>,327</td>\n      <td>NaN</td>\n    </tr>\n    <tr>\n      <th>2</th>\n      <td>2023-08-24 14:58:18.912</td>\n      <td>3c2813fe-f1f3-438f-b16f-92fcf917dc67</td>\n      <td>6</td>\n      <td>1</td>\n      <td>Examination</td>\n      <td>80.00</td>\n      <td>1</td>\n      <td>1</td>\n      <td>1.0</td>\n      <td>0.0</td>\n      <td>7</td>\n      <td>,327</td>\n      <td>NaN</td>\n    </tr>\n    <tr>\n      <th>3</th>\n      <td>2023-08-24 15:00:39.525</td>\n      <td>65e81315-23b8-4d4e-9767-040c45a0f560</td>\n      <td>6</td>\n      <td>1</td>\n      <td>Examination</td>\n      <td>80.00</td>\n      <td>1</td>\n      <td>1</td>\n      <td>1.0</td>\n      <td>0.0</td>\n      <td>7</td>\n      <td>,327</td>\n      <td>NaN</td>\n    </tr>\n    <tr>\n      <th>4</th>\n      <td>2023-08-24 15:03:23.404</td>\n      <td>c4427a02-3291-422d-b2e8-b97bf3d5081d</td>\n      <td>6</td>\n      <td>1</td>\n      <td>Examination</td>\n      <td>80.00</td>\n      <td>2</td>\n      <td>1</td>\n      <td>1.0</td>\n      <td>1.0</td>\n      <td>7</td>\n      <td>,327</td>\n      <td>approved</td>\n    </tr>\n    <tr>\n      <th>...</th>\n      <td>...</td>\n      <td>...</td>\n      <td>...</td>\n      <td>...</td>\n      <td>...</td>\n      <td>...</td>\n      <td>...</td>\n      <td>...</td>\n      <td>...</td>\n      <td>...</td>\n      <td>...</td>\n      <td>...</td>\n      <td>...</td>\n    </tr>\n    <tr>\n      <th>49087</th>\n      <td>2024-04-30 09:00:16.704</td>\n      <td>f4cbab83-28f3-4410-948c-2c87cdcdd8da</td>\n      <td>31</td>\n      <td>1</td>\n      <td>TRIGLYCERIDES</td>\n      <td>121.00</td>\n      <td>1</td>\n      <td>3</td>\n      <td>1.0</td>\n      <td>0.0</td>\n      <td>2</td>\n      <td>,238,238,238,238,238,238,238,238,238,238,238,2...</td>\n      <td>NaN</td>\n    </tr>\n    <tr>\n      <th>49088</th>\n      <td>2024-04-30 09:00:16.704</td>\n      <td>f4cbab83-28f3-4410-948c-2c87cdcdd8da</td>\n      <td>31</td>\n      <td>1</td>\n      <td>URINE ANALYSIS</td>\n      <td>60.50</td>\n      <td>1</td>\n      <td>2</td>\n      <td>1.0</td>\n      <td>0.0</td>\n      <td>2</td>\n      <td>,238,238,238,238,238,238,238,238,238,238,238,2...</td>\n      <td>NaN</td>\n    </tr>\n    <tr>\n      <th>49089</th>\n      <td>2024-04-30 09:00:16.704</td>\n      <td>f4cbab83-28f3-4410-948c-2c87cdcdd8da</td>\n      <td>31</td>\n      <td>1</td>\n      <td>Examination</td>\n      <td>80.00</td>\n      <td>1</td>\n      <td>1</td>\n      <td>1.0</td>\n      <td>0.0</td>\n      <td>2</td>\n      <td>,238,238,238,238,238,238,238,238,238,238,238,2...</td>\n      <td>NaN</td>\n    </tr>\n    <tr>\n      <th>49090</th>\n      <td>2024-04-30 09:00:16.704</td>\n      <td>f4cbab83-28f3-4410-948c-2c87cdcdd8da</td>\n      <td>31</td>\n      <td>1</td>\n      <td>CIPROXEN 500 MG 10 TAB</td>\n      <td>54.25</td>\n      <td>1</td>\n      <td>16</td>\n      <td>1.0</td>\n      <td>0.0</td>\n      <td>2</td>\n      <td>,238,238,238,238,238,238,238,238,238,238,238,2...</td>\n      <td>NaN</td>\n    </tr>\n    <tr>\n      <th>49091</th>\n      <td>2024-04-30 09:00:16.704</td>\n      <td>f4cbab83-28f3-4410-948c-2c87cdcdd8da</td>\n      <td>31</td>\n      <td>1</td>\n      <td>NEUROBION TAB 30 TAB</td>\n      <td>23.30</td>\n      <td>1</td>\n      <td>17</td>\n      <td>3.0</td>\n      <td>0.0</td>\n      <td>2</td>\n      <td>,238,238,238,238,238,238,238,238,238,238,238,2...</td>\n      <td>NaN</td>\n    </tr>\n  </tbody>\n</table>\n<p>49092 rows × 13 columns</p>\n</div>"
     },
     "execution_count": 5,
     "metadata": {},
     "output_type": "execute_result"
    }
   ],
   "source": [
    "df_original_prep = preprocessing.age_gender_item_ids_prep(item_encoding=False)\n",
    "df_original_prep"
   ],
   "metadata": {
    "collapsed": false,
    "ExecuteTime": {
     "end_time": "2024-05-15T11:52:55.894671700Z",
     "start_time": "2024-05-15T11:52:55.613783700Z"
    }
   }
  },
  {
   "cell_type": "code",
   "execution_count": 19,
   "outputs": [],
   "source": [
    "df_train, df_test = preprocessing.train_test_split(test_size=0.2,random_state=4)"
   ],
   "metadata": {
    "collapsed": false,
    "ExecuteTime": {
     "end_time": "2024-05-15T11:53:34.356790700Z",
     "start_time": "2024-05-15T11:53:34.305926100Z"
    }
   }
  },
  {
   "cell_type": "code",
   "execution_count": 20,
   "outputs": [
    {
     "data": {
      "text/plain": "[]"
     },
     "execution_count": 20,
     "metadata": {},
     "output_type": "execute_result"
    }
   ],
   "source": [
    "ls1 = list(df_train.sort_values(by='transaction_RequestId')['transaction_RequestId'])\n",
    "ls2 = list(df_test.sort_values(by='transaction_RequestId')['transaction_RequestId'])\n",
    "intersection = list(set(ls1) & set(ls2))\n",
    "intersection ## to find the repeated transaction id between them"
   ],
   "metadata": {
    "collapsed": false,
    "ExecuteTime": {
     "end_time": "2024-05-15T11:53:34.871246500Z",
     "start_time": "2024-05-15T11:53:34.837991600Z"
    }
   }
  },
  {
   "cell_type": "code",
   "execution_count": 21,
   "outputs": [
    {
     "data": {
      "text/plain": "4.028471662637658"
     },
     "execution_count": 21,
     "metadata": {},
     "output_type": "execute_result"
    }
   ],
   "source": [
    "len(df_train) / len(df_test)"
   ],
   "metadata": {
    "collapsed": false,
    "ExecuteTime": {
     "end_time": "2024-05-15T11:53:35.099967900Z",
     "start_time": "2024-05-15T11:53:35.071640800Z"
    }
   }
  },
  {
   "cell_type": "code",
   "execution_count": 22,
   "outputs": [],
   "source": [
    "df_train.to_excel('data/SplittedData/SNB_train_data.xlsx',index=False)\n",
    "df_test.to_excel('data/SplittedData/SNB_test_data.xlsx',index=False)"
   ],
   "metadata": {
    "collapsed": false,
    "ExecuteTime": {
     "end_time": "2024-05-15T11:53:50.764483500Z",
     "start_time": "2024-05-15T11:53:45.067852300Z"
    }
   }
  },
  {
   "cell_type": "code",
   "execution_count": null,
   "outputs": [],
   "source": [
    "#df_trans_req, df_trans_res = data_loader.split_transaction(df_trans)"
   ],
   "metadata": {
    "collapsed": false
   }
  },
  {
   "cell_type": "code",
   "execution_count": null,
   "outputs": [],
   "source": [],
   "metadata": {
    "collapsed": false
   }
  },
  {
   "cell_type": "markdown",
   "source": [
    "## Request-Response dataframes"
   ],
   "metadata": {
    "collapsed": false
   }
  },
  {
   "cell_type": "code",
   "execution_count": null,
   "outputs": [],
   "source": [
    "## Old data form\n",
    "df_trans_req = DataFrameProcessor(df_trans_req).filter_high_variance_features()\n",
    "df_trans_res = DataFrameProcessor(df_trans_res).filter_high_variance_features()"
   ],
   "metadata": {
    "collapsed": false
   }
  },
  {
   "cell_type": "code",
   "execution_count": null,
   "outputs": [],
   "source": [
    "df_trans_req.head(3)"
   ],
   "metadata": {
    "collapsed": false
   }
  },
  {
   "cell_type": "code",
   "execution_count": null,
   "outputs": [],
   "source": [
    "df_trans_req.columns"
   ],
   "metadata": {
    "collapsed": false
   }
  },
  {
   "cell_type": "code",
   "execution_count": null,
   "outputs": [],
   "source": [
    "df_trans_res.head(3)"
   ],
   "metadata": {
    "collapsed": false
   }
  },
  {
   "cell_type": "code",
   "execution_count": null,
   "outputs": [],
   "source": [
    "data_loader = DataLoader()\n",
    "df_request, df_response = data_loader.load_data()"
   ],
   "metadata": {
    "collapsed": false
   }
  },
  {
   "cell_type": "code",
   "execution_count": null,
   "outputs": [],
   "source": [
    "len(df_request)"
   ],
   "metadata": {
    "collapsed": false
   }
  },
  {
   "cell_type": "code",
   "execution_count": null,
   "outputs": [],
   "source": [
    "processor = DataFrameProcessor(df_request)\n",
    "\n",
    "df_request_out = processor.filter_high_variance_features()"
   ],
   "metadata": {
    "collapsed": false
   }
  },
  {
   "cell_type": "code",
   "execution_count": null,
   "outputs": [],
   "source": [
    "df_request.to_excel('sad.xlsx')"
   ],
   "metadata": {
    "collapsed": false
   }
  },
  {
   "cell_type": "code",
   "execution_count": null,
   "outputs": [],
   "source": [
    "print(1)"
   ],
   "metadata": {
    "collapsed": false
   }
  },
  {
   "cell_type": "code",
   "execution_count": null,
   "outputs": [],
   "source": [
    "df_request_out.head(3)"
   ],
   "metadata": {
    "collapsed": false
   }
  },
  {
   "cell_type": "code",
   "execution_count": null,
   "outputs": [],
   "source": [
    "df_request_out.columns"
   ],
   "metadata": {
    "collapsed": false
   }
  },
  {
   "cell_type": "code",
   "execution_count": null,
   "outputs": [],
   "source": [
    "dfs[1].head()"
   ],
   "metadata": {
    "collapsed": false
   }
  },
  {
   "cell_type": "code",
   "execution_count": null,
   "outputs": [],
   "source": [
    "dfs[2].head()"
   ],
   "metadata": {
    "collapsed": false
   }
  },
  {
   "cell_type": "code",
   "execution_count": null,
   "outputs": [],
   "source": [],
   "metadata": {
    "collapsed": false
   }
  }
 ],
 "metadata": {
  "kernelspec": {
   "display_name": "Python 3",
   "language": "python",
   "name": "python3"
  },
  "language_info": {
   "codemirror_mode": {
    "name": "ipython",
    "version": 2
   },
   "file_extension": ".py",
   "mimetype": "text/x-python",
   "name": "python",
   "nbconvert_exporter": "python",
   "pygments_lexer": "ipython2",
   "version": "2.7.6"
  }
 },
 "nbformat": 4,
 "nbformat_minor": 0
}
