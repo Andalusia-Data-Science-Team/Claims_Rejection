{
 "cells": [
  {
   "cell_type": "code",
   "execution_count": 1,
   "outputs": [],
   "source": [
    "import pandas as pd\n",
    "\n",
    "from src.data_local import MergedDataPreprocessing\n",
    "from cashe import get_cashed_input"
   ],
   "metadata": {
    "collapsed": false,
    "ExecuteTime": {
     "end_time": "2024-08-26T21:28:49.125947200Z",
     "start_time": "2024-08-26T21:28:40.186248200Z"
    }
   }
  },
  {
   "cell_type": "markdown",
   "source": [
    "## HJH Dataset\n",
    "loaded on 23/5/2024\n",
    "loaded on 12/08/2024"
   ],
   "metadata": {
    "collapsed": false
   }
  },
  {
   "cell_type": "code",
   "execution_count": 2,
   "outputs": [],
   "source": [
    "df_original = get_cashed_input()"
   ],
   "metadata": {
    "collapsed": false,
    "ExecuteTime": {
     "end_time": "2024-08-26T21:28:56.399481400Z",
     "start_time": "2024-08-26T21:28:49.127941400Z"
    }
   }
  },
  {
   "cell_type": "code",
   "execution_count": 3,
   "outputs": [
    {
     "data": {
      "text/plain": "648062   2024-05-30 11:46:53\n647256   2024-05-30 11:46:53\n647258   2024-05-30 11:46:53\n647259   2024-05-30 11:46:53\n647260   2024-05-30 11:46:53\n                 ...        \n398453   2024-01-01 12:38:36\n398452   2024-01-01 12:38:36\n398454   2024-01-01 12:38:36\n398449   2024-01-01 12:38:12\n398448   2024-01-01 12:33:25\nName: CREATION_DATE, Length: 206976, dtype: datetime64[us]"
     },
     "execution_count": 3,
     "metadata": {},
     "output_type": "execute_result"
    }
   ],
   "source": [
    "df_original['CREATION_DATE'].sort_values(ascending=False)"
   ],
   "metadata": {
    "collapsed": false,
    "ExecuteTime": {
     "end_time": "2024-08-26T21:28:56.483539300Z",
     "start_time": "2024-08-26T21:28:56.400480500Z"
    }
   }
  },
  {
   "cell_type": "code",
   "execution_count": 4,
   "outputs": [
    {
     "data": {
      "text/plain": "VISIT_ID\n211067    99\n241410    98\n215839    92\n202428    92\n202391    90\n          ..\n217366     1\n217367     1\n217369     1\n217371     1\n194135     1\nName: count, Length: 33392, dtype: int64"
     },
     "execution_count": 4,
     "metadata": {},
     "output_type": "execute_result"
    }
   ],
   "source": [
    "df_original.VISIT_ID.value_counts()"
   ],
   "metadata": {
    "collapsed": false,
    "ExecuteTime": {
     "end_time": "2024-08-26T21:28:56.562861Z",
     "start_time": "2024-08-26T21:28:56.427406800Z"
    }
   }
  },
  {
   "cell_type": "code",
   "execution_count": 5,
   "outputs": [],
   "source": [
    "preprocessing = MergedDataPreprocessing(df_original)"
   ],
   "metadata": {
    "collapsed": false,
    "ExecuteTime": {
     "end_time": "2024-08-26T21:28:56.624107400Z",
     "start_time": "2024-08-26T21:28:56.554643Z"
    }
   }
  },
  {
   "cell_type": "code",
   "execution_count": 6,
   "outputs": [
    {
     "name": "stdout",
     "output_type": "stream",
     "text": [
      "REQUEST_DATE : datetime64[us]\n",
      "VISIT_NO : object\n",
      "VISIT_DATE : datetime64[us]\n",
      "EMERGENCY_INDICATOR : object\n",
      "PROVIDER_DEPARTMENT_CODE : object\n",
      "PROVIDER_DEPARTMENT : object\n",
      "DOCTOR_SPECIALTY_CODE : object\n",
      "DOCTOR_CODE : object\n",
      "PATIENT_NO : object\n",
      "EPISODE_NO : object\n",
      "PATIENT_ID : object\n",
      "MEMBERSHIP_NO : object\n",
      "PATIENT_ID_TYPE : object\n",
      "PATIENT_NATIONAL_IQAMA_ID : object\n",
      "PATIENT_DOB : datetime64[us]\n",
      "PATIENT_AGE : object\n",
      "UNIT_OF_AGE : object\n",
      "PATIENT_NATIONALITY : object\n",
      "PATIENT_MARITAL_STATUS : object\n",
      "PATIENT_GENDER : object\n",
      "PATIENT_MOBILE_NO : object\n",
      "PATIENT_BADGE_NO : object\n",
      "HIS_INSURANCE_CODE : object\n",
      "POLICY_HOLDER_NO : object\n",
      "CLAIM_TYPE : object\n",
      "BATCH_NO : object\n",
      "TOTAL_CLAIMED_AMOUNT : object\n",
      "TOTAL_CLAIMED_AMOUNT_SAR : object\n",
      "TOTAL_NET_AMOUNT : object\n",
      "TOTAL_DISCOUNT : object\n",
      "TOTAL_DEDUCTIBLE : object\n",
      "TOTAL_PATIENT_VATAMOUNT : object\n",
      "TOTAL_NET_VAT_AMOUNT : object\n",
      "CLAIM_NO : object\n",
      "STAT_END_DATE : datetime64[us]\n",
      "AMEND_BY_USER : object\n",
      "AMEND_LAST_DATE : datetime64[us]\n",
      "PAYER_LICENSE : object\n",
      "DOCTOR_LICENSE : object\n",
      "DEPARTMENT_TYPE : object\n",
      "TREATMENT_TYPE : object\n",
      "CLAIM_INVOICE_NO : object\n",
      "STAT_INVOICE_NO : object\n",
      "PURCHASER_CODE : object\n",
      "STATUS : object\n",
      "API_TRANS_ID : object\n",
      "SUBMIT_CLAIM_OUTCOME : object\n",
      "SUBMIT_CLAIM_MESSAGE : object\n",
      "RES_STATUS : object\n",
      "RES_CLAIM_ID : object\n",
      "CONSULTATION_INVOICE_NO : object\n",
      "TREATMENT_SUB_TYPE : object\n",
      "ELIGIBILITY_RESPONSE_ID : object\n",
      "ELIGIBILITY_RESPONSE_SYSTEM : object\n",
      "CONTRACT_NO : object\n",
      "ELIGIBILITY_API_TRANS_ID : object\n",
      "CLAIM_IDENTIFIER : object\n",
      "ATTACHED_FILES : object\n",
      "ATTACHMENT_TYPE : object\n",
      "NEW_BORN : object\n",
      "PATIENT_IDENTITY_TYPE : object\n",
      "BILLABLE_PERIOD_START : datetime64[us]\n",
      "BILLABLE_PERIOD_END : datetime64[us]\n",
      "BATCH_PERIOD_START : datetime64[us]\n",
      "BATCH_PERIOD_END : datetime64[us]\n",
      "CREATED_BY_USER : object\n",
      "CREATION_DATE : datetime64[us]\n",
      "VISIT_ID : object\n",
      "NET_WITH_VAT : object\n",
      "SERVICE_DESCRIPTION : object\n",
      "LINE_CLAIMED_AMOUNT : object\n",
      "LINE_CLAIMED_AMOUNT_SAR : object\n",
      "CO_PAY : object\n",
      "CO_INSURANCE : object\n",
      "LINE_ITEM_DISCOUNT : object\n",
      "NET_AMOUNT : object\n",
      "NET_VAT_AMOUNT : object\n",
      "PATIENT_VAT_AMOUNT : object\n",
      "VAT_PERCENTAGE : object\n",
      "TREATMENT_TYPE_INDICATOR : object\n",
      "SERVICE_TYPE : object\n",
      "SERVICE_CATEGORY : object\n",
      "DURATION : object\n",
      "UNIT : object\n",
      "UNIT_TYPE : object\n",
      "TIMES : object\n",
      "PER : object\n",
      "QTY : object\n",
      "QTY_STOCKED_UOM : object\n",
      "UNIT_PRICE : object\n",
      "OASIS_IOS_DESCRIPTION : object\n",
      "SEQUENCE_NO : object\n",
      "UNIT_PRICE_STOCKED_UOM : object\n",
      "UNIT_PRICE_NET : object\n",
      "DISCOUNT_PERCENTAGE : object\n",
      "NOTES : object\n",
      "OUTCOME : object\n",
      "APPROVED_QUNATITY : object\n",
      "Episode_Key : object\n",
      "ICD10 : object\n",
      "Diagnosis_Key : object\n"
     ]
    }
   ],
   "source": [
    "for col in df_original.columns:\n",
    "    print(col,\":\",df_original[col].dtype)"
   ],
   "metadata": {
    "collapsed": false,
    "ExecuteTime": {
     "end_time": "2024-08-26T21:28:56.725571600Z",
     "start_time": "2024-08-26T21:28:56.614732500Z"
    }
   }
  },
  {
   "cell_type": "code",
   "execution_count": 7,
   "outputs": [
    {
     "data": {
      "text/plain": "398448            services\n398449      oral-health-op\n398453          procedures\n398454    medication-codes\n398450            services\n                ...       \n648046          laboratory\n648058     medical-devices\n648060    medication-codes\n648061          laboratory\n648062          laboratory\nName: SERVICE_TYPE, Length: 206976, dtype: object"
     },
     "execution_count": 7,
     "metadata": {},
     "output_type": "execute_result"
    }
   ],
   "source": [
    "df_original.SERVICE_TYPE"
   ],
   "metadata": {
    "collapsed": false,
    "ExecuteTime": {
     "end_time": "2024-08-26T21:28:56.816326500Z",
     "start_time": "2024-08-26T21:28:56.728563Z"
    }
   }
  },
  {
   "cell_type": "code",
   "execution_count": 8,
   "outputs": [
    {
     "data": {
      "text/plain": "REQUEST_DATE                   0\nVISIT_NO                       0\nVISIT_DATE                     0\nEMERGENCY_INDICATOR            0\nPROVIDER_DEPARTMENT_CODE       0\n                            ... \nOUTCOME                        0\nAPPROVED_QUNATITY              1\nEpisode_Key                 4878\nICD10                       4878\nDiagnosis_Key               4878\nLength: 101, dtype: int64"
     },
     "execution_count": 8,
     "metadata": {},
     "output_type": "execute_result"
    }
   ],
   "source": [
    "df_original.isna().sum()"
   ],
   "metadata": {
    "collapsed": false,
    "ExecuteTime": {
     "end_time": "2024-08-26T21:28:57.502619500Z",
     "start_time": "2024-08-26T21:28:56.796381700Z"
    }
   }
  },
  {
   "cell_type": "code",
   "execution_count": 9,
   "outputs": [
    {
     "data": {
      "text/plain": "OUTCOME\nAPPROVED    107504\nREJECTED     85199\nPARTIAL      14273\nName: count, dtype: int64"
     },
     "execution_count": 9,
     "metadata": {},
     "output_type": "execute_result"
    }
   ],
   "source": [
    "df_original.OUTCOME.value_counts()"
   ],
   "metadata": {
    "collapsed": false,
    "ExecuteTime": {
     "end_time": "2024-08-26T21:28:57.532104300Z",
     "start_time": "2024-08-26T21:28:57.504615500Z"
    }
   }
  },
  {
   "cell_type": "code",
   "execution_count": 10,
   "outputs": [
    {
     "data": {
      "text/plain": "dtype('O')"
     },
     "execution_count": 10,
     "metadata": {},
     "output_type": "execute_result"
    }
   ],
   "source": [
    "df_original.PATIENT_AGE.dtype"
   ],
   "metadata": {
    "collapsed": false,
    "ExecuteTime": {
     "end_time": "2024-08-26T21:28:57.642323600Z",
     "start_time": "2024-08-26T21:28:57.521569800Z"
    }
   }
  },
  {
   "cell_type": "code",
   "execution_count": 11,
   "outputs": [
    {
     "data": {
      "text/plain": "              REQUEST_DATE   VISIT_NO          VISIT_DATE EMERGENCY_INDICATOR  \\\n398448 2024-01-01 12:33:25  1346536-2 2023-12-07 00:00:00                   N   \n398449 2024-01-01 12:38:12  1343530-4 2023-12-06 00:00:00                   N   \n398453 2024-01-01 12:38:36  1343731-2 2023-12-03 00:00:00                   N   \n398454 2024-01-01 12:38:36  1343731-2 2023-12-03 00:00:00                   N   \n398450 2024-01-01 12:38:36  1343731-2 2023-12-03 00:00:00                   N   \n...                    ...        ...                 ...                 ...   \n647260 2024-05-30 11:46:53  1370946-1 2024-05-07 11:39:50                   N   \n647259 2024-05-30 11:46:53  1370946-1 2024-05-07 11:39:50                   N   \n647258 2024-05-30 11:46:53  1370946-1 2024-05-07 11:39:50                   N   \n647256 2024-05-30 11:46:53  1370946-1 2024-05-07 11:39:50                   N   \n648062 2024-05-30 11:46:53  1370946-1 2024-05-07 11:39:50                   N   \n\n       PROVIDER_DEPARTMENT_CODE                   PROVIDER_DEPARTMENT  \\\n398448                      855                        CARDIOTHORACIC   \n398449                        4               DENTAL SERVICES - اسنان   \n398453                       25  RADIOGRAPHIC INVESTIGATIONS - الأشعة   \n398454                       25  RADIOGRAPHIC INVESTIGATIONS - الأشعة   \n398450                       25  RADIOGRAPHIC INVESTIGATIONS - الأشعة   \n...                         ...                                   ...   \n647260                       22         PAEDIATRIC SERVICES - الاطفال   \n647259                       22         PAEDIATRIC SERVICES - الاطفال   \n647258                       22         PAEDIATRIC SERVICES - الاطفال   \n647256                       22         PAEDIATRIC SERVICES - الاطفال   \n648062                       22         PAEDIATRIC SERVICES - الاطفال   \n\n       DOCTOR_SPECIALTY_CODE DOCTOR_CODE PATIENT_NO EPISODE_NO  ...  \\\n398448                 08.25        8455    1183018          2  ...   \n398449                 22.00        7352    1180321          4  ...   \n398453                 18.06        9638    1180507          2  ...   \n398454                 18.06        9638    1180507          2  ...   \n398450                 18.06        9638    1180507          2  ...   \n...                      ...         ...        ...        ...  ...   \n647260                 14.00        5096    1205840          1  ...   \n647259                 14.00        5096    1205840          1  ...   \n647258                 14.00        5096    1205840          1  ...   \n647256                 14.00        5096    1205840          1  ...   \n648062                 14.00        5096    1205840          1  ...   \n\n       SEQUENCE_NO UNIT_PRICE_STOCKED_UOM UNIT_PRICE_NET DISCOUNT_PERCENTAGE  \\\n398448           1                    120             96                   0   \n398449           1                    120            120                   0   \n398453           4                1791.67        1154.17                  30   \n398454           5                   1.69           1.25                7.69   \n398450           1                  16.13          11.29               30.01   \n...            ...                    ...            ...                 ...   \n647260          56                   6.45          5.965                7.52   \n647259          52                   1.63           1.14               30.06   \n647258          48                 241.88         169.32                  30   \n647256          30                   22.7             21                7.49   \n648062          32                 338.63         237.04                  30   \n\n                                                    NOTES   OUTCOME  \\\n398448                                                     APPROVED   \n398449  Rejected for the reason Sorry you are not an a...  REJECTED   \n398453  Rejected for the reason Sorry you are not an a...  REJECTED   \n398454  Rejected for the reason Sorry you are not an a...  REJECTED   \n398450  Rejected for the reason Sorry you are not an a...  REJECTED   \n...                                                   ...       ...   \n647260  Rejected for the reason Sorry you are not an a...  REJECTED   \n647259  Rejected for the reason Sorry you are not an a...  REJECTED   \n647258  Rejected for the reason Sorry you are not an a...  REJECTED   \n647256  Rejected for the reason Sorry you are not an a...  REJECTED   \n648062  Rejected for the reason Sorry you are not an a...  REJECTED   \n\n       APPROVED_QUNATITY  Episode_Key  ICD10 Diagnosis_Key  \n398448               1.0  1_1346536-2    J93  1_1111225808  \n398449                 0  1_1343530-4    K02  1_1111225570  \n398453                 0  1_1343731-2  N80.1  1_1111228814  \n398454                 0  1_1343731-2  N80.1  1_1111228814  \n398450                 0  1_1343731-2  N80.1  1_1111228814  \n...                  ...          ...    ...           ...  \n647260                 0  1_1370946-1    Z38   1_111260843  \n647259                 0  1_1370946-1    Z38   1_111260843  \n647258                 0  1_1370946-1    Z38   1_111260843  \n647256                 0  1_1370946-1    Z38   1_111260843  \n648062                 0  1_1370946-1    Z38   1_111260843  \n\n[206976 rows x 101 columns]",
      "text/html": "<div>\n<style scoped>\n    .dataframe tbody tr th:only-of-type {\n        vertical-align: middle;\n    }\n\n    .dataframe tbody tr th {\n        vertical-align: top;\n    }\n\n    .dataframe thead th {\n        text-align: right;\n    }\n</style>\n<table border=\"1\" class=\"dataframe\">\n  <thead>\n    <tr style=\"text-align: right;\">\n      <th></th>\n      <th>REQUEST_DATE</th>\n      <th>VISIT_NO</th>\n      <th>VISIT_DATE</th>\n      <th>EMERGENCY_INDICATOR</th>\n      <th>PROVIDER_DEPARTMENT_CODE</th>\n      <th>PROVIDER_DEPARTMENT</th>\n      <th>DOCTOR_SPECIALTY_CODE</th>\n      <th>DOCTOR_CODE</th>\n      <th>PATIENT_NO</th>\n      <th>EPISODE_NO</th>\n      <th>...</th>\n      <th>SEQUENCE_NO</th>\n      <th>UNIT_PRICE_STOCKED_UOM</th>\n      <th>UNIT_PRICE_NET</th>\n      <th>DISCOUNT_PERCENTAGE</th>\n      <th>NOTES</th>\n      <th>OUTCOME</th>\n      <th>APPROVED_QUNATITY</th>\n      <th>Episode_Key</th>\n      <th>ICD10</th>\n      <th>Diagnosis_Key</th>\n    </tr>\n  </thead>\n  <tbody>\n    <tr>\n      <th>398448</th>\n      <td>2024-01-01 12:33:25</td>\n      <td>1346536-2</td>\n      <td>2023-12-07 00:00:00</td>\n      <td>N</td>\n      <td>855</td>\n      <td>CARDIOTHORACIC</td>\n      <td>08.25</td>\n      <td>8455</td>\n      <td>1183018</td>\n      <td>2</td>\n      <td>...</td>\n      <td>1</td>\n      <td>120</td>\n      <td>96</td>\n      <td>0</td>\n      <td></td>\n      <td>APPROVED</td>\n      <td>1.0</td>\n      <td>1_1346536-2</td>\n      <td>J93</td>\n      <td>1_1111225808</td>\n    </tr>\n    <tr>\n      <th>398449</th>\n      <td>2024-01-01 12:38:12</td>\n      <td>1343530-4</td>\n      <td>2023-12-06 00:00:00</td>\n      <td>N</td>\n      <td>4</td>\n      <td>DENTAL SERVICES - اسنان</td>\n      <td>22.00</td>\n      <td>7352</td>\n      <td>1180321</td>\n      <td>4</td>\n      <td>...</td>\n      <td>1</td>\n      <td>120</td>\n      <td>120</td>\n      <td>0</td>\n      <td>Rejected for the reason Sorry you are not an a...</td>\n      <td>REJECTED</td>\n      <td>0</td>\n      <td>1_1343530-4</td>\n      <td>K02</td>\n      <td>1_1111225570</td>\n    </tr>\n    <tr>\n      <th>398453</th>\n      <td>2024-01-01 12:38:36</td>\n      <td>1343731-2</td>\n      <td>2023-12-03 00:00:00</td>\n      <td>N</td>\n      <td>25</td>\n      <td>RADIOGRAPHIC INVESTIGATIONS - الأشعة</td>\n      <td>18.06</td>\n      <td>9638</td>\n      <td>1180507</td>\n      <td>2</td>\n      <td>...</td>\n      <td>4</td>\n      <td>1791.67</td>\n      <td>1154.17</td>\n      <td>30</td>\n      <td>Rejected for the reason Sorry you are not an a...</td>\n      <td>REJECTED</td>\n      <td>0</td>\n      <td>1_1343731-2</td>\n      <td>N80.1</td>\n      <td>1_1111228814</td>\n    </tr>\n    <tr>\n      <th>398454</th>\n      <td>2024-01-01 12:38:36</td>\n      <td>1343731-2</td>\n      <td>2023-12-03 00:00:00</td>\n      <td>N</td>\n      <td>25</td>\n      <td>RADIOGRAPHIC INVESTIGATIONS - الأشعة</td>\n      <td>18.06</td>\n      <td>9638</td>\n      <td>1180507</td>\n      <td>2</td>\n      <td>...</td>\n      <td>5</td>\n      <td>1.69</td>\n      <td>1.25</td>\n      <td>7.69</td>\n      <td>Rejected for the reason Sorry you are not an a...</td>\n      <td>REJECTED</td>\n      <td>0</td>\n      <td>1_1343731-2</td>\n      <td>N80.1</td>\n      <td>1_1111228814</td>\n    </tr>\n    <tr>\n      <th>398450</th>\n      <td>2024-01-01 12:38:36</td>\n      <td>1343731-2</td>\n      <td>2023-12-03 00:00:00</td>\n      <td>N</td>\n      <td>25</td>\n      <td>RADIOGRAPHIC INVESTIGATIONS - الأشعة</td>\n      <td>18.06</td>\n      <td>9638</td>\n      <td>1180507</td>\n      <td>2</td>\n      <td>...</td>\n      <td>1</td>\n      <td>16.13</td>\n      <td>11.29</td>\n      <td>30.01</td>\n      <td>Rejected for the reason Sorry you are not an a...</td>\n      <td>REJECTED</td>\n      <td>0</td>\n      <td>1_1343731-2</td>\n      <td>N80.1</td>\n      <td>1_1111228814</td>\n    </tr>\n    <tr>\n      <th>...</th>\n      <td>...</td>\n      <td>...</td>\n      <td>...</td>\n      <td>...</td>\n      <td>...</td>\n      <td>...</td>\n      <td>...</td>\n      <td>...</td>\n      <td>...</td>\n      <td>...</td>\n      <td>...</td>\n      <td>...</td>\n      <td>...</td>\n      <td>...</td>\n      <td>...</td>\n      <td>...</td>\n      <td>...</td>\n      <td>...</td>\n      <td>...</td>\n      <td>...</td>\n      <td>...</td>\n    </tr>\n    <tr>\n      <th>647260</th>\n      <td>2024-05-30 11:46:53</td>\n      <td>1370946-1</td>\n      <td>2024-05-07 11:39:50</td>\n      <td>N</td>\n      <td>22</td>\n      <td>PAEDIATRIC SERVICES - الاطفال</td>\n      <td>14.00</td>\n      <td>5096</td>\n      <td>1205840</td>\n      <td>1</td>\n      <td>...</td>\n      <td>56</td>\n      <td>6.45</td>\n      <td>5.965</td>\n      <td>7.52</td>\n      <td>Rejected for the reason Sorry you are not an a...</td>\n      <td>REJECTED</td>\n      <td>0</td>\n      <td>1_1370946-1</td>\n      <td>Z38</td>\n      <td>1_111260843</td>\n    </tr>\n    <tr>\n      <th>647259</th>\n      <td>2024-05-30 11:46:53</td>\n      <td>1370946-1</td>\n      <td>2024-05-07 11:39:50</td>\n      <td>N</td>\n      <td>22</td>\n      <td>PAEDIATRIC SERVICES - الاطفال</td>\n      <td>14.00</td>\n      <td>5096</td>\n      <td>1205840</td>\n      <td>1</td>\n      <td>...</td>\n      <td>52</td>\n      <td>1.63</td>\n      <td>1.14</td>\n      <td>30.06</td>\n      <td>Rejected for the reason Sorry you are not an a...</td>\n      <td>REJECTED</td>\n      <td>0</td>\n      <td>1_1370946-1</td>\n      <td>Z38</td>\n      <td>1_111260843</td>\n    </tr>\n    <tr>\n      <th>647258</th>\n      <td>2024-05-30 11:46:53</td>\n      <td>1370946-1</td>\n      <td>2024-05-07 11:39:50</td>\n      <td>N</td>\n      <td>22</td>\n      <td>PAEDIATRIC SERVICES - الاطفال</td>\n      <td>14.00</td>\n      <td>5096</td>\n      <td>1205840</td>\n      <td>1</td>\n      <td>...</td>\n      <td>48</td>\n      <td>241.88</td>\n      <td>169.32</td>\n      <td>30</td>\n      <td>Rejected for the reason Sorry you are not an a...</td>\n      <td>REJECTED</td>\n      <td>0</td>\n      <td>1_1370946-1</td>\n      <td>Z38</td>\n      <td>1_111260843</td>\n    </tr>\n    <tr>\n      <th>647256</th>\n      <td>2024-05-30 11:46:53</td>\n      <td>1370946-1</td>\n      <td>2024-05-07 11:39:50</td>\n      <td>N</td>\n      <td>22</td>\n      <td>PAEDIATRIC SERVICES - الاطفال</td>\n      <td>14.00</td>\n      <td>5096</td>\n      <td>1205840</td>\n      <td>1</td>\n      <td>...</td>\n      <td>30</td>\n      <td>22.7</td>\n      <td>21</td>\n      <td>7.49</td>\n      <td>Rejected for the reason Sorry you are not an a...</td>\n      <td>REJECTED</td>\n      <td>0</td>\n      <td>1_1370946-1</td>\n      <td>Z38</td>\n      <td>1_111260843</td>\n    </tr>\n    <tr>\n      <th>648062</th>\n      <td>2024-05-30 11:46:53</td>\n      <td>1370946-1</td>\n      <td>2024-05-07 11:39:50</td>\n      <td>N</td>\n      <td>22</td>\n      <td>PAEDIATRIC SERVICES - الاطفال</td>\n      <td>14.00</td>\n      <td>5096</td>\n      <td>1205840</td>\n      <td>1</td>\n      <td>...</td>\n      <td>32</td>\n      <td>338.63</td>\n      <td>237.04</td>\n      <td>30</td>\n      <td>Rejected for the reason Sorry you are not an a...</td>\n      <td>REJECTED</td>\n      <td>0</td>\n      <td>1_1370946-1</td>\n      <td>Z38</td>\n      <td>1_111260843</td>\n    </tr>\n  </tbody>\n</table>\n<p>206976 rows × 101 columns</p>\n</div>"
     },
     "execution_count": 11,
     "metadata": {},
     "output_type": "execute_result"
    }
   ],
   "source": [
    "df_original.sort_values(['CREATION_DATE'])"
   ],
   "metadata": {
    "collapsed": false,
    "ExecuteTime": {
     "end_time": "2024-08-26T21:28:58.018801300Z",
     "start_time": "2024-08-26T21:28:57.641326400Z"
    }
   }
  },
  {
   "cell_type": "code",
   "execution_count": 66,
   "outputs": [],
   "source": [
    "import pandas as pd\n",
    "\n",
    "df_types = pd.read_csv('src/data_backup/items_types.csv'); data_types = {}\n",
    "\n",
    "for i in range(len(df_types)):\n",
    "    data_types[df_types['Column name'].iloc[i]] =df_types['Data type'].iloc[i]"
   ],
   "metadata": {
    "collapsed": false,
    "ExecuteTime": {
     "end_time": "2024-08-27T11:32:59.279652900Z",
     "start_time": "2024-08-27T11:32:59.263695500Z"
    }
   }
  },
  {
   "cell_type": "code",
   "execution_count": 67,
   "outputs": [
    {
     "name": "stdout",
     "output_type": "stream",
     "text": [
      "REQUEST_DATE\n",
      "VISIT_NO\n",
      "VISIT_DATE\n",
      "EMERGENCY_INDICATOR\n",
      "PROVIDER_DEPARTMENT_CODE\n",
      "PROVIDER_DEPARTMENT\n",
      "DOCTOR_SPECIALTY_CODE\n",
      "DOCTOR_CODE\n",
      "PATIENT_NO\n",
      "EPISODE_NO\n",
      "PATIENT_ID\n",
      "MEMBERSHIP_NO\n",
      "PATIENT_ID_TYPE\n",
      "PATIENT_NATIONAL_IQAMA_ID\n",
      "PATIENT_DOB\n",
      "PATIENT_AGE\n",
      "UNIT_OF_AGE\n",
      "PATIENT_NATIONALITY\n",
      "PATIENT_MARITAL_STATUS\n",
      "PATIENT_GENDER\n",
      "PATIENT_MOBILE_NO\n",
      "PATIENT_BADGE_NO\n",
      "HIS_INSURANCE_CODE\n",
      "POLICY_HOLDER_NO\n",
      "CLAIM_TYPE\n",
      "BATCH_NO\n",
      "TOTAL_CLAIMED_AMOUNT\n",
      "TOTAL_CLAIMED_AMOUNT_SAR\n",
      "TOTAL_NET_AMOUNT\n",
      "TOTAL_DISCOUNT\n",
      "TOTAL_DEDUCTIBLE\n",
      "TOTAL_PATIENT_VATAMOUNT\n",
      "TOTAL_NET_VAT_AMOUNT\n",
      "CLAIM_NO\n",
      "STAT_END_DATE\n",
      "AMEND_BY_USER\n",
      "AMEND_LAST_DATE\n",
      "PAYER_LICENSE\n",
      "DOCTOR_LICENSE\n",
      "DEPARTMENT_TYPE\n",
      "TREATMENT_TYPE\n",
      "CLAIM_INVOICE_NO\n",
      "STAT_INVOICE_NO\n",
      "PURCHASER_CODE\n",
      "STATUS\n",
      "API_TRANS_ID\n",
      "SUBMIT_CLAIM_OUTCOME\n",
      "SUBMIT_CLAIM_MESSAGE\n",
      "RES_STATUS\n",
      "RES_CLAIM_ID\n",
      "CONSULTATION_INVOICE_NO\n",
      "TREATMENT_SUB_TYPE\n",
      "ELIGIBILITY_RESPONSE_ID\n",
      "ELIGIBILITY_RESPONSE_SYSTEM\n",
      "CONTRACT_NO\n",
      "ELIGIBILITY_API_TRANS_ID\n",
      "CLAIM_IDENTIFIER\n",
      "ATTACHED_FILES\n",
      "ATTACHMENT_TYPE\n",
      "NEW_BORN\n",
      "PATIENT_IDENTITY_TYPE\n",
      "BILLABLE_PERIOD_START\n",
      "BILLABLE_PERIOD_END\n",
      "BATCH_PERIOD_START\n",
      "BATCH_PERIOD_END\n",
      "CREATED_BY_USER\n",
      "CREATION_DATE\n",
      "VISIT_ID\n",
      "NET_WITH_VAT\n",
      "SERVICE_DESCRIPTION\n",
      "LINE_CLAIMED_AMOUNT\n",
      "LINE_CLAIMED_AMOUNT_SAR\n",
      "CO_PAY\n",
      "CO_INSURANCE\n",
      "LINE_ITEM_DISCOUNT\n",
      "NET_AMOUNT\n",
      "NET_VAT_AMOUNT\n",
      "PATIENT_VAT_AMOUNT\n",
      "VAT_PERCENTAGE\n",
      "TREATMENT_TYPE_INDICATOR\n",
      "SERVICE_TYPE\n",
      "SERVICE_CATEGORY\n",
      "DURATION\n",
      "UNIT\n",
      "UNIT_TYPE\n",
      "TIMES\n",
      "PER\n",
      "QTY\n",
      "QTY_STOCKED_UOM\n",
      "UNIT_PRICE\n",
      "OASIS_IOS_DESCRIPTION\n",
      "SEQUENCE_NO\n",
      "UNIT_PRICE_STOCKED_UOM\n",
      "UNIT_PRICE_NET\n",
      "DISCOUNT_PERCENTAGE\n",
      "NOTES\n",
      "OUTCOME\n",
      "APPROVED_QUNATITY\n",
      "Episode_Key\n",
      "ICD10\n",
      "Diagnosis_Key\n"
     ]
    }
   ],
   "source": [
    "for col in df_original.columns:\n",
    "    try:\n",
    "        df_original[col] = df_original[col].astype(data_types[col].dtype)\n",
    "    except:\n",
    "        print(col)"
   ],
   "metadata": {
    "collapsed": false,
    "ExecuteTime": {
     "end_time": "2024-08-27T11:33:04.858069900Z",
     "start_time": "2024-08-27T11:33:04.836838800Z"
    }
   }
  },
  {
   "cell_type": "code",
   "execution_count": 68,
   "outputs": [],
   "source": [
    "df_train, df_test = preprocessing.train_test_split_time(id_column='CREATION_DATE',test_size=0.2)"
   ],
   "metadata": {
    "collapsed": false,
    "ExecuteTime": {
     "end_time": "2024-08-27T11:36:02.206976200Z",
     "start_time": "2024-08-27T11:36:01.745973400Z"
    }
   }
  },
  {
   "cell_type": "code",
   "execution_count": 69,
   "outputs": [
    {
     "name": "stdout",
     "output_type": "stream",
     "text": [
      "REQUEST_DATE datetime64[ns]\n",
      "VISIT_NO object\n",
      "VISIT_DATE datetime64[ns]\n",
      "EMERGENCY_INDICATOR object\n",
      "PROVIDER_DEPARTMENT_CODE int64\n",
      "PROVIDER_DEPARTMENT object\n",
      "DOCTOR_SPECIALTY_CODE float64\n",
      "DOCTOR_CODE int64\n",
      "PATIENT_NO int64\n",
      "EPISODE_NO int64\n",
      "PATIENT_ID int64\n",
      "MEMBERSHIP_NO object\n",
      "PATIENT_ID_TYPE float64\n",
      "PATIENT_NATIONAL_IQAMA_ID object\n",
      "PATIENT_DOB datetime64[ns]\n",
      "PATIENT_AGE int64\n",
      "UNIT_OF_AGE int64\n",
      "PATIENT_NATIONALITY object\n",
      "PATIENT_MARITAL_STATUS object\n",
      "PATIENT_GENDER object\n",
      "PATIENT_MOBILE_NO int64\n",
      "PATIENT_BADGE_NO object\n",
      "HIS_INSURANCE_CODE int64\n",
      "POLICY_HOLDER_NO object\n",
      "CLAIM_TYPE object\n",
      "BATCH_NO int64\n",
      "TOTAL_CLAIMED_AMOUNT float64\n",
      "TOTAL_CLAIMED_AMOUNT_SAR float64\n",
      "TOTAL_NET_AMOUNT float64\n",
      "TOTAL_DISCOUNT float64\n",
      "TOTAL_DEDUCTIBLE float64\n",
      "TOTAL_PATIENT_VATAMOUNT float64\n",
      "TOTAL_NET_VAT_AMOUNT float64\n",
      "CLAIM_NO object\n",
      "STAT_END_DATE datetime64[ns]\n",
      "AMEND_BY_USER int64\n",
      "AMEND_LAST_DATE datetime64[ns]\n",
      "PAYER_LICENSE int64\n",
      "DOCTOR_LICENSE object\n",
      "DEPARTMENT_TYPE float64\n",
      "TREATMENT_TYPE object\n",
      "CLAIM_INVOICE_NO int64\n",
      "STAT_INVOICE_NO int64\n",
      "PURCHASER_CODE int64\n",
      "STATUS object\n",
      "API_TRANS_ID int64\n",
      "SUBMIT_CLAIM_OUTCOME object\n",
      "SUBMIT_CLAIM_MESSAGE object\n",
      "RES_STATUS object\n",
      "RES_CLAIM_ID object\n",
      "CONSULTATION_INVOICE_NO object\n",
      "TREATMENT_SUB_TYPE object\n",
      "ELIGIBILITY_RESPONSE_ID object\n",
      "ELIGIBILITY_RESPONSE_SYSTEM object\n",
      "CONTRACT_NO int64\n",
      "ELIGIBILITY_API_TRANS_ID float64\n",
      "CLAIM_IDENTIFIER float64\n",
      "ATTACHED_FILES object\n",
      "ATTACHMENT_TYPE object\n",
      "NEW_BORN object\n",
      "PATIENT_IDENTITY_TYPE object\n",
      "BILLABLE_PERIOD_START datetime64[ns]\n",
      "BILLABLE_PERIOD_END datetime64[ns]\n",
      "BATCH_PERIOD_START datetime64[ns]\n",
      "BATCH_PERIOD_END datetime64[ns]\n",
      "CREATED_BY_USER int64\n",
      "CREATION_DATE datetime64[ns]\n",
      "VISIT_ID int64\n",
      "NET_WITH_VAT float64\n",
      "SERVICE_DESCRIPTION object\n",
      "LINE_CLAIMED_AMOUNT float64\n",
      "LINE_CLAIMED_AMOUNT_SAR float64\n",
      "CO_PAY float64\n",
      "CO_INSURANCE float64\n",
      "LINE_ITEM_DISCOUNT float64\n",
      "NET_AMOUNT float64\n",
      "NET_VAT_AMOUNT float64\n",
      "PATIENT_VAT_AMOUNT float64\n",
      "VAT_PERCENTAGE float64\n",
      "TREATMENT_TYPE_INDICATOR int64\n",
      "SERVICE_TYPE object\n",
      "SERVICE_CATEGORY object\n",
      "DURATION float64\n",
      "UNIT object\n",
      "UNIT_TYPE object\n",
      "TIMES object\n",
      "PER object\n",
      "QTY float64\n",
      "QTY_STOCKED_UOM int64\n",
      "UNIT_PRICE float64\n",
      "OASIS_IOS_DESCRIPTION object\n",
      "SEQUENCE_NO int64\n",
      "UNIT_PRICE_STOCKED_UOM float64\n",
      "UNIT_PRICE_NET float64\n",
      "DISCOUNT_PERCENTAGE float64\n",
      "NOTES object\n",
      "OUTCOME object\n",
      "APPROVED_QUNATITY float64\n",
      "Episode_Key object\n",
      "ICD10 object\n",
      "Diagnosis_Key object\n"
     ]
    }
   ],
   "source": [
    "for col in df_train.columns:\n",
    "    print(col,df_train[col].dtype)"
   ],
   "metadata": {
    "collapsed": false,
    "ExecuteTime": {
     "end_time": "2024-08-27T11:36:05.367368400Z",
     "start_time": "2024-08-27T11:36:05.323028700Z"
    }
   }
  },
  {
   "cell_type": "code",
   "execution_count": 70,
   "outputs": [
    {
     "data": {
      "text/plain": "0.2500060393767363"
     },
     "execution_count": 70,
     "metadata": {},
     "output_type": "execute_result"
    }
   ],
   "source": [
    "len(df_test)/ len(df_train)"
   ],
   "metadata": {
    "collapsed": false,
    "ExecuteTime": {
     "end_time": "2024-08-27T11:36:07.326281800Z",
     "start_time": "2024-08-27T11:36:07.314285800Z"
    }
   }
  },
  {
   "cell_type": "code",
   "execution_count": 71,
   "outputs": [
    {
     "data": {
      "text/plain": "[]"
     },
     "execution_count": 71,
     "metadata": {},
     "output_type": "execute_result"
    }
   ],
   "source": [
    "ls1 = list(df_train.sort_values(by='VISIT_ID')['VISIT_ID'])\n",
    "ls2 = list(df_test.sort_values(by='VISIT_ID')['VISIT_ID'])\n",
    "intersection = list(set(ls1) & set(ls2))\n",
    "intersection ## to find the repeated transaction id between them"
   ],
   "metadata": {
    "collapsed": false,
    "ExecuteTime": {
     "end_time": "2024-08-27T11:36:08.352472200Z",
     "start_time": "2024-08-27T11:36:08.131551200Z"
    }
   }
  },
  {
   "cell_type": "code",
   "execution_count": 72,
   "outputs": [
    {
     "data": {
      "text/plain": "3.999903372306503"
     },
     "execution_count": 72,
     "metadata": {},
     "output_type": "execute_result"
    }
   ],
   "source": [
    "len(df_train) / len(df_test)"
   ],
   "metadata": {
    "collapsed": false,
    "ExecuteTime": {
     "end_time": "2024-08-27T11:36:09.019690200Z",
     "start_time": "2024-08-27T11:36:08.989771400Z"
    }
   }
  },
  {
   "cell_type": "code",
   "execution_count": 73,
   "outputs": [],
   "source": [
    "path_date = 'data/HJH/13-06-2024'; train_prq = path_date + '/train.parquet';test_prq = path_date + '/test.parquet'\n",
    "\n",
    "df_train.to_parquet(train_prq)\n",
    "df_test.to_parquet(test_prq)"
   ],
   "metadata": {
    "collapsed": false,
    "ExecuteTime": {
     "end_time": "2024-08-27T11:36:11.379240100Z",
     "start_time": "2024-08-27T11:36:09.700147700Z"
    }
   }
  },
  {
   "cell_type": "code",
   "execution_count": 74,
   "outputs": [
    {
     "data": {
      "text/plain": "316188   2024-04-06 13:14:51\n316187   2024-04-06 13:14:51\n316186   2024-04-06 13:14:51\n301026   2024-04-06 13:15:27\n301402   2024-04-06 13:15:27\n                 ...        \n647260   2024-05-30 11:46:53\n647259   2024-05-30 11:46:53\n647258   2024-05-30 11:46:53\n647256   2024-05-30 11:46:53\n648062   2024-05-30 11:46:53\nName: CREATION_DATE, Length: 41396, dtype: datetime64[ns]"
     },
     "execution_count": 74,
     "metadata": {},
     "output_type": "execute_result"
    }
   ],
   "source": [
    "df_test.CREATION_DATE"
   ],
   "metadata": {
    "collapsed": false,
    "ExecuteTime": {
     "end_time": "2024-08-27T11:36:11.785294600Z",
     "start_time": "2024-08-27T11:36:11.774324Z"
    }
   }
  },
  {
   "cell_type": "code",
   "execution_count": 75,
   "outputs": [
    {
     "data": {
      "text/plain": "398448      J93\n398449      K02\n398453    N80.1\n398454    N80.1\n398450    N80.1\n          ...  \n301019      I21\n301018      I21\n301017      I21\n301022      I21\n304947      N91\nName: ICD10, Length: 165580, dtype: object"
     },
     "execution_count": 75,
     "metadata": {},
     "output_type": "execute_result"
    }
   ],
   "source": [
    "df_train.ICD10"
   ],
   "metadata": {
    "collapsed": false,
    "ExecuteTime": {
     "end_time": "2024-08-27T11:36:12.848104100Z",
     "start_time": "2024-08-27T11:36:12.830152400Z"
    }
   }
  },
  {
   "cell_type": "code",
   "execution_count": 76,
   "outputs": [
    {
     "name": "stdout",
     "output_type": "stream",
     "text": [
      "['REQUEST_DATE', 'VISIT_NO', 'VISIT_DATE', 'EMERGENCY_INDICATOR', 'PROVIDER_DEPARTMENT_CODE', 'PROVIDER_DEPARTMENT', 'DOCTOR_SPECIALTY_CODE', 'DOCTOR_CODE', 'PATIENT_NO', 'EPISODE_NO', 'PATIENT_ID', 'MEMBERSHIP_NO', 'PATIENT_ID_TYPE', 'PATIENT_NATIONAL_IQAMA_ID', 'PATIENT_DOB', 'PATIENT_AGE', 'UNIT_OF_AGE', 'PATIENT_NATIONALITY', 'PATIENT_MARITAL_STATUS', 'PATIENT_GENDER', 'PATIENT_MOBILE_NO', 'PATIENT_BADGE_NO', 'HIS_INSURANCE_CODE', 'POLICY_HOLDER_NO', 'CLAIM_TYPE', 'BATCH_NO', 'TOTAL_CLAIMED_AMOUNT', 'TOTAL_CLAIMED_AMOUNT_SAR', 'TOTAL_NET_AMOUNT', 'TOTAL_DISCOUNT', 'TOTAL_DEDUCTIBLE', 'TOTAL_PATIENT_VATAMOUNT', 'TOTAL_NET_VAT_AMOUNT', 'CLAIM_NO', 'STAT_END_DATE', 'AMEND_BY_USER', 'AMEND_LAST_DATE', 'PAYER_LICENSE', 'DOCTOR_LICENSE', 'DEPARTMENT_TYPE', 'TREATMENT_TYPE', 'CLAIM_INVOICE_NO', 'STAT_INVOICE_NO', 'PURCHASER_CODE', 'STATUS', 'API_TRANS_ID', 'SUBMIT_CLAIM_OUTCOME', 'SUBMIT_CLAIM_MESSAGE', 'RES_STATUS', 'RES_CLAIM_ID', 'CONSULTATION_INVOICE_NO', 'TREATMENT_SUB_TYPE', 'ELIGIBILITY_RESPONSE_ID', 'ELIGIBILITY_RESPONSE_SYSTEM', 'CONTRACT_NO', 'ELIGIBILITY_API_TRANS_ID', 'CLAIM_IDENTIFIER', 'ATTACHED_FILES', 'ATTACHMENT_TYPE', 'NEW_BORN', 'PATIENT_IDENTITY_TYPE', 'BILLABLE_PERIOD_START', 'BILLABLE_PERIOD_END', 'BATCH_PERIOD_START', 'BATCH_PERIOD_END', 'CREATED_BY_USER', 'CREATION_DATE', 'VISIT_ID', 'NET_WITH_VAT', 'SERVICE_DESCRIPTION', 'LINE_CLAIMED_AMOUNT', 'LINE_CLAIMED_AMOUNT_SAR', 'CO_PAY', 'CO_INSURANCE', 'LINE_ITEM_DISCOUNT', 'NET_AMOUNT', 'NET_VAT_AMOUNT', 'PATIENT_VAT_AMOUNT', 'VAT_PERCENTAGE', 'TREATMENT_TYPE_INDICATOR', 'SERVICE_TYPE', 'SERVICE_CATEGORY', 'DURATION', 'UNIT', 'UNIT_TYPE', 'TIMES', 'PER', 'QTY', 'QTY_STOCKED_UOM', 'UNIT_PRICE', 'OASIS_IOS_DESCRIPTION', 'SEQUENCE_NO', 'UNIT_PRICE_STOCKED_UOM', 'UNIT_PRICE_NET', 'DISCOUNT_PERCENTAGE', 'NOTES', 'OUTCOME', 'APPROVED_QUNATITY', 'Episode_Key', 'ICD10', 'Diagnosis_Key']\n"
     ]
    }
   ],
   "source": [
    "print(list(df_train.columns))"
   ],
   "metadata": {
    "collapsed": false,
    "ExecuteTime": {
     "end_time": "2024-08-27T11:36:14.147800300Z",
     "start_time": "2024-08-27T11:36:14.134806700Z"
    }
   }
  },
  {
   "cell_type": "code",
   "execution_count": 77,
   "outputs": [],
   "source": [
    "df_original.to_csv('data/HJH/13-06-2024/df.csv',index=False)"
   ],
   "metadata": {
    "collapsed": false,
    "ExecuteTime": {
     "end_time": "2024-08-27T11:36:30.926204800Z",
     "start_time": "2024-08-27T11:36:15.750103900Z"
    }
   }
  },
  {
   "cell_type": "code",
   "execution_count": null,
   "outputs": [],
   "source": [],
   "metadata": {
    "collapsed": false
   }
  },
  {
   "cell_type": "code",
   "execution_count": null,
   "outputs": [],
   "source": [],
   "metadata": {
    "collapsed": false
   }
  }
 ],
 "metadata": {
  "kernelspec": {
   "display_name": "Python 3",
   "language": "python",
   "name": "python3"
  },
  "language_info": {
   "codemirror_mode": {
    "name": "ipython",
    "version": 2
   },
   "file_extension": ".py",
   "mimetype": "text/x-python",
   "name": "python",
   "nbconvert_exporter": "python",
   "pygments_lexer": "ipython2",
   "version": "2.7.6"
  }
 },
 "nbformat": 4,
 "nbformat_minor": 0
}
