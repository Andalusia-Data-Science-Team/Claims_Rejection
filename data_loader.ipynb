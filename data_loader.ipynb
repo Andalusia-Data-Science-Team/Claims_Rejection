{
 "cells": [
  {
   "cell_type": "code",
   "execution_count": 1,
   "outputs": [],
   "source": [
    "from src.data_local import MergedDataPreprocessing\n",
    "from cashe import get_cashed_input"
   ],
   "metadata": {
    "collapsed": false,
    "ExecuteTime": {
     "end_time": "2024-08-22T13:09:37.453376100Z",
     "start_time": "2024-08-22T13:09:29.619591900Z"
    }
   }
  },
  {
   "cell_type": "markdown",
   "source": [
    "## HJH Dataset\n",
    "loaded on 23/5/2024\n",
    "loaded on 12/08/2024"
   ],
   "metadata": {
    "collapsed": false
   }
  },
  {
   "cell_type": "code",
   "execution_count": 2,
   "outputs": [],
   "source": [
    "df_original = get_cashed_input()"
   ],
   "metadata": {
    "collapsed": false,
    "ExecuteTime": {
     "end_time": "2024-08-22T13:09:40.511412200Z",
     "start_time": "2024-08-22T13:09:37.462867Z"
    }
   }
  },
  {
   "cell_type": "code",
   "execution_count": 3,
   "outputs": [
    {
     "data": {
      "text/plain": "164579   2024-05-30 11:46:53\n164571   2024-05-30 11:46:53\n164549   2024-05-30 11:46:53\n164569   2024-05-30 11:46:53\n164557   2024-05-30 11:46:53\n                 ...        \n398361   2024-01-01 12:38:36\n398363   2024-01-01 12:38:36\n398365   2024-01-01 12:38:36\n398360   2024-01-01 12:38:12\n398359   2024-01-01 12:33:25\nName: CREATION_DATE, Length: 207106, dtype: datetime64[ns]"
     },
     "execution_count": 3,
     "metadata": {},
     "output_type": "execute_result"
    }
   ],
   "source": [
    "df_original['CREATION_DATE'].sort_values(ascending=False)"
   ],
   "metadata": {
    "collapsed": false,
    "ExecuteTime": {
     "end_time": "2024-08-22T13:09:40.571200300Z",
     "start_time": "2024-08-22T13:09:40.514405300Z"
    }
   }
  },
  {
   "cell_type": "code",
   "execution_count": 4,
   "outputs": [
    {
     "data": {
      "text/plain": "VISIT_ID\n211067    100\n241410     98\n202428     95\n245528     93\n237374     91\n         ... \n217366      1\n217367      1\n217369      1\n217371      1\n194135      1\nName: count, Length: 33392, dtype: int64"
     },
     "execution_count": 4,
     "metadata": {},
     "output_type": "execute_result"
    }
   ],
   "source": [
    "df_original.VISIT_ID.value_counts()"
   ],
   "metadata": {
    "collapsed": false,
    "ExecuteTime": {
     "end_time": "2024-08-22T13:08:20.953328300Z",
     "start_time": "2024-08-22T13:08:20.849185100Z"
    }
   }
  },
  {
   "cell_type": "code",
   "execution_count": 4,
   "outputs": [],
   "source": [
    "preprocessing = MergedDataPreprocessing(df_original)"
   ],
   "metadata": {
    "collapsed": false,
    "ExecuteTime": {
     "end_time": "2024-08-22T13:09:40.609236600Z",
     "start_time": "2024-08-22T13:09:40.545319400Z"
    }
   }
  },
  {
   "cell_type": "code",
   "execution_count": 6,
   "outputs": [
    {
     "name": "stdout",
     "output_type": "stream",
     "text": [
      "CREATED_BY_USER : int64\n",
      "CREATION_DATE : datetime64[ns]\n",
      "VISIT_ID : int64\n",
      "NET_WITH_VAT : float64\n",
      "SERVICE_DESCRIPTION : object\n",
      "QTY : float64\n",
      "LINE_CLAIMED_AMOUNT : float64\n",
      "LINE_CLAIMED_AMOUNT_SAR : float64\n",
      "CO_PAY : float64\n",
      "CO_INSURANCE : float64\n",
      "LINE_ITEM_DISCOUNT : float64\n",
      "NET_AMOUNT : float64\n",
      "NET_VAT_AMOUNT : float64\n",
      "PATIENT_VAT_AMOUNT : float64\n",
      "VAT_PERCENTAGE : float64\n",
      "TREATMENT_TYPE_INDICATOR : int64\n",
      "SERVICE_TYPE : object\n",
      "DURATION : float64\n",
      "QTY_STOCKED_UOM : int64\n",
      "UNIT_PRICE : float64\n",
      "OASIS_IOS_DESCRIPTION : object\n",
      "SEQUENCE_NO : int64\n",
      "UNIT_PRICE_STOCKED_UOM : float64\n",
      "UNIT_PRICE_NET : float64\n",
      "DISCOUNT_PERCENTAGE : float64\n",
      "NOTES : object\n",
      "OUTCOME : object\n",
      "APPROVED_QUNATITY : float64\n",
      "REQUEST_DATE : datetime64[ns]\n",
      "VISIT_NO : object\n",
      "VISIT_DATE : datetime64[ns]\n",
      "EMERGENCY_INDICATOR : object\n",
      "PROVIDER_DEPARTMENT_CODE : int64\n",
      "PROVIDER_DEPARTMENT : object\n",
      "DOCTOR_SPECIALTY_CODE : float64\n",
      "DOCTOR_CODE : int64\n",
      "PATIENT_NO : int64\n",
      "EPISODE_NO : int64\n",
      "PATIENT_ID : int64\n",
      "MEMBERSHIP_NO : object\n",
      "PATIENT_ID_TYPE : float64\n",
      "PATIENT_NATIONAL_IQAMA_ID : object\n",
      "PATIENT_DOB : datetime64[ns]\n",
      "PATIENT_AGE : int64\n",
      "UNIT_OF_AGE : int64\n",
      "PATIENT_NATIONALITY : object\n",
      "PATIENT_MARITAL_STATUS : object\n",
      "PATIENT_GENDER : object\n",
      "PATIENT_MOBILE_NO : int64\n",
      "PATIENT_BADGE_NO : object\n",
      "HIS_INSURANCE_CODE : int64\n",
      "POLICY_HOLDER_NO : object\n",
      "CLAIM_TYPE : object\n",
      "BATCH_NO : int64\n",
      "TOTAL_CLAIMED_AMOUNT : float64\n",
      "TOTAL_CLAIMED_AMOUNT_SAR : float64\n",
      "TOTAL_NET_AMOUNT : float64\n",
      "TOTAL_DISCOUNT : float64\n",
      "TOTAL_DEDUCTIBLE : float64\n",
      "TOTAL_PATIENT_VATAMOUNT : float64\n",
      "TOTAL_NET_VAT_AMOUNT : float64\n",
      "CLAIM_NO : object\n",
      "STAT_END_DATE : datetime64[ns]\n",
      "AMEND_BY_USER : int64\n",
      "AMEND_LAST_DATE : datetime64[ns]\n",
      "PAYER_LICENSE : int64\n",
      "DOCTOR_LICENSE : object\n",
      "DEPARTMENT_TYPE : float64\n",
      "TREATMENT_TYPE : object\n",
      "CLAIM_INVOICE_NO : int64\n",
      "STAT_INVOICE_NO : int64\n",
      "PURCHASER_CODE : int64\n",
      "STATUS : object\n",
      "API_TRANS_ID : int64\n",
      "SUBMIT_CLAIM_OUTCOME : object\n",
      "SUBMIT_CLAIM_MESSAGE : object\n",
      "RES_STATUS : object\n",
      "RES_CLAIM_ID : object\n",
      "CONSULTATION_INVOICE_NO : object\n",
      "TREATMENT_SUB_TYPE : object\n",
      "ELIGIBILITY_RESPONSE_ID : object\n",
      "ELIGIBILITY_RESPONSE_SYSTEM : object\n",
      "CONTRACT_NO : int64\n",
      "ELIGIBILITY_API_TRANS_ID : float64\n",
      "CLAIM_IDENTIFIER : float64\n",
      "ATTACHED_FILES : object\n",
      "ATTACHMENT_TYPE : object\n",
      "NEW_BORN : object\n",
      "PATIENT_IDENTITY_TYPE : object\n",
      "BILLABLE_PERIOD_START : datetime64[ns]\n",
      "BILLABLE_PERIOD_END : datetime64[ns]\n",
      "BATCH_PERIOD_START : datetime64[ns]\n",
      "BATCH_PERIOD_END : datetime64[ns]\n",
      "Episode_Key : object\n",
      "ICD10 : object\n",
      "Diagnosis_Key : object\n"
     ]
    }
   ],
   "source": [
    "for col in df_original.columns:\n",
    "    print(col,\":\",df_original[col].dtype)"
   ],
   "metadata": {
    "collapsed": false,
    "ExecuteTime": {
     "end_time": "2024-08-22T13:05:33.802119500Z",
     "start_time": "2024-08-22T13:05:33.703795200Z"
    }
   }
  },
  {
   "cell_type": "code",
   "execution_count": 7,
   "outputs": [
    {
     "data": {
      "text/plain": "398359            services\n398360      oral-health-op\n398361            services\n398365    medication-codes\n398364          procedures\n                ...       \n164577     medical-devices\n164576             imaging\n164575             imaging\n164573          procedures\n164579     medical-devices\nName: SERVICE_TYPE, Length: 207106, dtype: object"
     },
     "execution_count": 7,
     "metadata": {},
     "output_type": "execute_result"
    }
   ],
   "source": [
    "df_original.SERVICE_TYPE"
   ],
   "metadata": {
    "collapsed": false,
    "ExecuteTime": {
     "end_time": "2024-08-22T13:05:33.879680300Z",
     "start_time": "2024-08-22T13:05:33.806108200Z"
    }
   }
  },
  {
   "cell_type": "code",
   "execution_count": 8,
   "outputs": [
    {
     "data": {
      "text/plain": "CREATED_BY_USER           0\nCREATION_DATE             0\nVISIT_ID                  0\nNET_WITH_VAT              0\nSERVICE_DESCRIPTION       0\n                       ... \nBATCH_PERIOD_START        0\nBATCH_PERIOD_END          0\nEpisode_Key            4003\nICD10                  4003\nDiagnosis_Key          4003\nLength: 96, dtype: int64"
     },
     "execution_count": 8,
     "metadata": {},
     "output_type": "execute_result"
    }
   ],
   "source": [
    "df_original.isna().sum()"
   ],
   "metadata": {
    "collapsed": false,
    "ExecuteTime": {
     "end_time": "2024-08-22T13:05:35.837721800Z",
     "start_time": "2024-08-22T13:05:35.568905700Z"
    }
   }
  },
  {
   "cell_type": "code",
   "execution_count": 9,
   "outputs": [
    {
     "data": {
      "text/plain": "OUTCOME\nAPPROVED    107601\nREJECTED     85234\nPARTIAL      14271\nName: count, dtype: int64"
     },
     "execution_count": 9,
     "metadata": {},
     "output_type": "execute_result"
    }
   ],
   "source": [
    "df_original.OUTCOME.value_counts()"
   ],
   "metadata": {
    "collapsed": false,
    "ExecuteTime": {
     "end_time": "2024-08-22T13:01:54.162217Z",
     "start_time": "2024-08-22T13:01:54.124512100Z"
    }
   }
  },
  {
   "cell_type": "code",
   "execution_count": 10,
   "outputs": [
    {
     "data": {
      "text/plain": "dtype('int64')"
     },
     "execution_count": 10,
     "metadata": {},
     "output_type": "execute_result"
    }
   ],
   "source": [
    "df_original.PATIENT_AGE.dtype"
   ],
   "metadata": {
    "collapsed": false,
    "ExecuteTime": {
     "end_time": "2024-08-22T11:27:41.572913700Z",
     "start_time": "2024-08-22T11:27:41.127365300Z"
    }
   }
  },
  {
   "cell_type": "code",
   "execution_count": 14,
   "outputs": [
    {
     "data": {
      "text/plain": "        CREATED_BY_USER       CREATION_DATE  VISIT_ID  NET_WITH_VAT  \\\n398359             9643 2024-01-01 12:33:25    194135        134.40   \n398360             9643 2024-01-01 12:38:12    194136        138.00   \n398361             9643 2024-01-01 12:38:36    194137         12.98   \n398365             9643 2024-01-01 12:38:36    194137          1.56   \n398364             9643 2024-01-01 12:38:36    194137       1427.30   \n...                 ...                 ...       ...           ...   \n164555            10335 2024-05-30 11:46:53    252432          8.40   \n164557            10335 2024-05-30 11:46:53    252432         61.53   \n164569            10335 2024-05-30 11:46:53    252432         26.49   \n164566            10335 2024-05-30 11:46:53    252432        148.00   \n164579            10335 2024-05-30 11:46:53    252432         17.50   \n\n                  SERVICE_DESCRIPTION  QTY  LINE_CLAIMED_AMOUNT  \\\n398359        Consultant Consultation  1.0               120.00   \n398360                   Consultation  1.0               120.00   \n398361                  Unlisted Code  1.0                16.13   \n398365            SPASMOPAN 20MG AMP.  1.0                 1.69   \n398364         Therapeutic ultrasound  1.0              1791.68   \n...                               ...  ...                  ...   \n164555  Hypodermic needle, single-use  4.0                12.00   \n164557        Unlisted Procedure Code  1.0                87.90   \n164569            WATER FOR INJECTION  1.0                37.84   \n164566          I.V ADMIXTURE SERVICE  2.0               160.00   \n164579  Hypodermic needle, single-use  5.0                25.00   \n\n        LINE_CLAIMED_AMOUNT_SAR  CO_PAY  CO_INSURANCE  ...  ATTACHMENT_TYPE  \\\n398359                   120.00   24.00         96.00  ...             FILE   \n398360                   120.00    0.00        120.00  ...             FILE   \n398361                    16.13    0.00         16.13  ...             FILE   \n398365                     1.69    0.31          1.38  ...             FILE   \n398364                  1791.68  100.00       1691.68  ...             FILE   \n...                         ...     ...           ...  ...              ...   \n164555                    12.00    0.00         12.00  ...             FILE   \n164557                    87.90    0.00         87.90  ...             FILE   \n164569                    37.84    0.00         37.84  ...             FILE   \n164566                   160.00    0.00        160.00  ...             FILE   \n164579                    25.00    0.00         25.00  ...             FILE   \n\n        NEW_BORN  PATIENT_IDENTITY_TYPE  BILLABLE_PERIOD_START  \\\n398359         N                     IQ    2023-12-07 00:00:00   \n398360         N                      H    2023-12-06 00:00:00   \n398361         N                      H    2023-12-03 00:00:00   \n398365         N                      H    2023-12-03 00:00:00   \n398364         N                      H    2023-12-03 00:00:00   \n...          ...                    ...                    ...   \n164555         Y                      H    2024-05-07 11:39:50   \n164557         Y                      H    2024-05-07 11:39:50   \n164569         Y                      H    2024-05-07 11:39:50   \n164566         Y                      H    2024-05-07 11:39:50   \n164579         Y                      H    2024-05-07 11:39:50   \n\n        BILLABLE_PERIOD_END  BATCH_PERIOD_START BATCH_PERIOD_END  Episode_Key  \\\n398359  2023-12-21 00:00:00          2023-12-01       2023-12-10  1_1346536-2   \n398360  2023-12-20 00:00:00          2023-12-01       2023-12-10  1_1343530-4   \n398361  2023-12-04 00:00:00          2023-12-01       2023-12-10  1_1343731-2   \n398365  2023-12-04 00:00:00          2023-12-01       2023-12-10  1_1343731-2   \n398364  2023-12-04 00:00:00          2023-12-01       2023-12-10  1_1343731-2   \n...                     ...                 ...              ...          ...   \n164555  2024-05-11 14:29:56          2024-05-01       2024-05-15  1_1370946-1   \n164557  2024-05-11 14:29:56          2024-05-01       2024-05-15  1_1370946-1   \n164569  2024-05-11 14:29:56          2024-05-01       2024-05-15  1_1370946-1   \n164566  2024-05-11 14:29:56          2024-05-01       2024-05-15  1_1370946-1   \n164579  2024-05-11 14:29:56          2024-05-01       2024-05-15  1_1370946-1   \n\n        ICD10  Diagnosis_Key  \n398359    J93   1_1111225808  \n398360    K02   1_1111225570  \n398361  N80.1   1_1111228814  \n398365  N80.1   1_1111228814  \n398364  N80.1   1_1111228814  \n...       ...            ...  \n164555    Z38    1_111260843  \n164557    Z38    1_111260843  \n164569    Z38    1_111260843  \n164566    Z38    1_111260843  \n164579    Z38    1_111260843  \n\n[207106 rows x 96 columns]",
      "text/html": "<div>\n<style scoped>\n    .dataframe tbody tr th:only-of-type {\n        vertical-align: middle;\n    }\n\n    .dataframe tbody tr th {\n        vertical-align: top;\n    }\n\n    .dataframe thead th {\n        text-align: right;\n    }\n</style>\n<table border=\"1\" class=\"dataframe\">\n  <thead>\n    <tr style=\"text-align: right;\">\n      <th></th>\n      <th>CREATED_BY_USER</th>\n      <th>CREATION_DATE</th>\n      <th>VISIT_ID</th>\n      <th>NET_WITH_VAT</th>\n      <th>SERVICE_DESCRIPTION</th>\n      <th>QTY</th>\n      <th>LINE_CLAIMED_AMOUNT</th>\n      <th>LINE_CLAIMED_AMOUNT_SAR</th>\n      <th>CO_PAY</th>\n      <th>CO_INSURANCE</th>\n      <th>...</th>\n      <th>ATTACHMENT_TYPE</th>\n      <th>NEW_BORN</th>\n      <th>PATIENT_IDENTITY_TYPE</th>\n      <th>BILLABLE_PERIOD_START</th>\n      <th>BILLABLE_PERIOD_END</th>\n      <th>BATCH_PERIOD_START</th>\n      <th>BATCH_PERIOD_END</th>\n      <th>Episode_Key</th>\n      <th>ICD10</th>\n      <th>Diagnosis_Key</th>\n    </tr>\n  </thead>\n  <tbody>\n    <tr>\n      <th>398359</th>\n      <td>9643</td>\n      <td>2024-01-01 12:33:25</td>\n      <td>194135</td>\n      <td>134.40</td>\n      <td>Consultant Consultation</td>\n      <td>1.0</td>\n      <td>120.00</td>\n      <td>120.00</td>\n      <td>24.00</td>\n      <td>96.00</td>\n      <td>...</td>\n      <td>FILE</td>\n      <td>N</td>\n      <td>IQ</td>\n      <td>2023-12-07 00:00:00</td>\n      <td>2023-12-21 00:00:00</td>\n      <td>2023-12-01</td>\n      <td>2023-12-10</td>\n      <td>1_1346536-2</td>\n      <td>J93</td>\n      <td>1_1111225808</td>\n    </tr>\n    <tr>\n      <th>398360</th>\n      <td>9643</td>\n      <td>2024-01-01 12:38:12</td>\n      <td>194136</td>\n      <td>138.00</td>\n      <td>Consultation</td>\n      <td>1.0</td>\n      <td>120.00</td>\n      <td>120.00</td>\n      <td>0.00</td>\n      <td>120.00</td>\n      <td>...</td>\n      <td>FILE</td>\n      <td>N</td>\n      <td>H</td>\n      <td>2023-12-06 00:00:00</td>\n      <td>2023-12-20 00:00:00</td>\n      <td>2023-12-01</td>\n      <td>2023-12-10</td>\n      <td>1_1343530-4</td>\n      <td>K02</td>\n      <td>1_1111225570</td>\n    </tr>\n    <tr>\n      <th>398361</th>\n      <td>9643</td>\n      <td>2024-01-01 12:38:36</td>\n      <td>194137</td>\n      <td>12.98</td>\n      <td>Unlisted Code</td>\n      <td>1.0</td>\n      <td>16.13</td>\n      <td>16.13</td>\n      <td>0.00</td>\n      <td>16.13</td>\n      <td>...</td>\n      <td>FILE</td>\n      <td>N</td>\n      <td>H</td>\n      <td>2023-12-03 00:00:00</td>\n      <td>2023-12-04 00:00:00</td>\n      <td>2023-12-01</td>\n      <td>2023-12-10</td>\n      <td>1_1343731-2</td>\n      <td>N80.1</td>\n      <td>1_1111228814</td>\n    </tr>\n    <tr>\n      <th>398365</th>\n      <td>9643</td>\n      <td>2024-01-01 12:38:36</td>\n      <td>194137</td>\n      <td>1.56</td>\n      <td>SPASMOPAN 20MG AMP.</td>\n      <td>1.0</td>\n      <td>1.69</td>\n      <td>1.69</td>\n      <td>0.31</td>\n      <td>1.38</td>\n      <td>...</td>\n      <td>FILE</td>\n      <td>N</td>\n      <td>H</td>\n      <td>2023-12-03 00:00:00</td>\n      <td>2023-12-04 00:00:00</td>\n      <td>2023-12-01</td>\n      <td>2023-12-10</td>\n      <td>1_1343731-2</td>\n      <td>N80.1</td>\n      <td>1_1111228814</td>\n    </tr>\n    <tr>\n      <th>398364</th>\n      <td>9643</td>\n      <td>2024-01-01 12:38:36</td>\n      <td>194137</td>\n      <td>1427.30</td>\n      <td>Therapeutic ultrasound</td>\n      <td>1.0</td>\n      <td>1791.68</td>\n      <td>1791.68</td>\n      <td>100.00</td>\n      <td>1691.68</td>\n      <td>...</td>\n      <td>FILE</td>\n      <td>N</td>\n      <td>H</td>\n      <td>2023-12-03 00:00:00</td>\n      <td>2023-12-04 00:00:00</td>\n      <td>2023-12-01</td>\n      <td>2023-12-10</td>\n      <td>1_1343731-2</td>\n      <td>N80.1</td>\n      <td>1_1111228814</td>\n    </tr>\n    <tr>\n      <th>...</th>\n      <td>...</td>\n      <td>...</td>\n      <td>...</td>\n      <td>...</td>\n      <td>...</td>\n      <td>...</td>\n      <td>...</td>\n      <td>...</td>\n      <td>...</td>\n      <td>...</td>\n      <td>...</td>\n      <td>...</td>\n      <td>...</td>\n      <td>...</td>\n      <td>...</td>\n      <td>...</td>\n      <td>...</td>\n      <td>...</td>\n      <td>...</td>\n      <td>...</td>\n      <td>...</td>\n    </tr>\n    <tr>\n      <th>164555</th>\n      <td>10335</td>\n      <td>2024-05-30 11:46:53</td>\n      <td>252432</td>\n      <td>8.40</td>\n      <td>Hypodermic needle, single-use</td>\n      <td>4.0</td>\n      <td>12.00</td>\n      <td>12.00</td>\n      <td>0.00</td>\n      <td>12.00</td>\n      <td>...</td>\n      <td>FILE</td>\n      <td>Y</td>\n      <td>H</td>\n      <td>2024-05-07 11:39:50</td>\n      <td>2024-05-11 14:29:56</td>\n      <td>2024-05-01</td>\n      <td>2024-05-15</td>\n      <td>1_1370946-1</td>\n      <td>Z38</td>\n      <td>1_111260843</td>\n    </tr>\n    <tr>\n      <th>164557</th>\n      <td>10335</td>\n      <td>2024-05-30 11:46:53</td>\n      <td>252432</td>\n      <td>61.53</td>\n      <td>Unlisted Procedure Code</td>\n      <td>1.0</td>\n      <td>87.90</td>\n      <td>87.90</td>\n      <td>0.00</td>\n      <td>87.90</td>\n      <td>...</td>\n      <td>FILE</td>\n      <td>Y</td>\n      <td>H</td>\n      <td>2024-05-07 11:39:50</td>\n      <td>2024-05-11 14:29:56</td>\n      <td>2024-05-01</td>\n      <td>2024-05-15</td>\n      <td>1_1370946-1</td>\n      <td>Z38</td>\n      <td>1_111260843</td>\n    </tr>\n    <tr>\n      <th>164569</th>\n      <td>10335</td>\n      <td>2024-05-30 11:46:53</td>\n      <td>252432</td>\n      <td>26.49</td>\n      <td>WATER FOR INJECTION</td>\n      <td>1.0</td>\n      <td>37.84</td>\n      <td>37.84</td>\n      <td>0.00</td>\n      <td>37.84</td>\n      <td>...</td>\n      <td>FILE</td>\n      <td>Y</td>\n      <td>H</td>\n      <td>2024-05-07 11:39:50</td>\n      <td>2024-05-11 14:29:56</td>\n      <td>2024-05-01</td>\n      <td>2024-05-15</td>\n      <td>1_1370946-1</td>\n      <td>Z38</td>\n      <td>1_111260843</td>\n    </tr>\n    <tr>\n      <th>164566</th>\n      <td>10335</td>\n      <td>2024-05-30 11:46:53</td>\n      <td>252432</td>\n      <td>148.00</td>\n      <td>I.V ADMIXTURE SERVICE</td>\n      <td>2.0</td>\n      <td>160.00</td>\n      <td>160.00</td>\n      <td>0.00</td>\n      <td>160.00</td>\n      <td>...</td>\n      <td>FILE</td>\n      <td>Y</td>\n      <td>H</td>\n      <td>2024-05-07 11:39:50</td>\n      <td>2024-05-11 14:29:56</td>\n      <td>2024-05-01</td>\n      <td>2024-05-15</td>\n      <td>1_1370946-1</td>\n      <td>Z38</td>\n      <td>1_111260843</td>\n    </tr>\n    <tr>\n      <th>164579</th>\n      <td>10335</td>\n      <td>2024-05-30 11:46:53</td>\n      <td>252432</td>\n      <td>17.50</td>\n      <td>Hypodermic needle, single-use</td>\n      <td>5.0</td>\n      <td>25.00</td>\n      <td>25.00</td>\n      <td>0.00</td>\n      <td>25.00</td>\n      <td>...</td>\n      <td>FILE</td>\n      <td>Y</td>\n      <td>H</td>\n      <td>2024-05-07 11:39:50</td>\n      <td>2024-05-11 14:29:56</td>\n      <td>2024-05-01</td>\n      <td>2024-05-15</td>\n      <td>1_1370946-1</td>\n      <td>Z38</td>\n      <td>1_111260843</td>\n    </tr>\n  </tbody>\n</table>\n<p>207106 rows × 96 columns</p>\n</div>"
     },
     "execution_count": 14,
     "metadata": {},
     "output_type": "execute_result"
    }
   ],
   "source": [
    "df_original.sort_values(['CREATION_DATE'])"
   ],
   "metadata": {
    "collapsed": false,
    "ExecuteTime": {
     "end_time": "2024-08-22T13:06:39.926172200Z",
     "start_time": "2024-08-22T13:06:39.676233100Z"
    }
   }
  },
  {
   "cell_type": "code",
   "execution_count": 5,
   "outputs": [],
   "source": [
    "df_train, df_test = preprocessing.train_test_split_time(id_column='CREATION_DATE',test_size=0.2)"
   ],
   "metadata": {
    "collapsed": false,
    "ExecuteTime": {
     "end_time": "2024-08-22T13:10:34.206842800Z",
     "start_time": "2024-08-22T13:10:33.968616700Z"
    }
   }
  },
  {
   "cell_type": "code",
   "execution_count": 6,
   "outputs": [
    {
     "data": {
      "text/plain": "0.25000603558581397"
     },
     "execution_count": 6,
     "metadata": {},
     "output_type": "execute_result"
    }
   ],
   "source": [
    "len(df_test)/ len(df_train)"
   ],
   "metadata": {
    "collapsed": false,
    "ExecuteTime": {
     "end_time": "2024-08-22T13:10:36.654986400Z",
     "start_time": "2024-08-22T13:10:36.637713700Z"
    }
   }
  },
  {
   "cell_type": "code",
   "execution_count": 7,
   "outputs": [
    {
     "data": {
      "text/plain": "[235723]"
     },
     "execution_count": 7,
     "metadata": {},
     "output_type": "execute_result"
    }
   ],
   "source": [
    "ls1 = list(df_train.sort_values(by='VISIT_ID')['VISIT_ID'])\n",
    "ls2 = list(df_test.sort_values(by='VISIT_ID')['VISIT_ID'])\n",
    "intersection = list(set(ls1) & set(ls2))\n",
    "intersection ## to find the repeated transaction id between them"
   ],
   "metadata": {
    "collapsed": false,
    "ExecuteTime": {
     "end_time": "2024-08-22T13:10:41.849460100Z",
     "start_time": "2024-08-22T13:10:41.667967500Z"
    }
   }
  },
  {
   "cell_type": "code",
   "execution_count": 8,
   "outputs": [
    {
     "data": {
      "text/plain": "3.999903432958331"
     },
     "execution_count": 8,
     "metadata": {},
     "output_type": "execute_result"
    }
   ],
   "source": [
    "len(df_train) / len(df_test)"
   ],
   "metadata": {
    "collapsed": false,
    "ExecuteTime": {
     "end_time": "2024-08-22T13:10:42.664808600Z",
     "start_time": "2024-08-22T13:10:42.644529700Z"
    }
   }
  },
  {
   "cell_type": "code",
   "execution_count": 9,
   "outputs": [],
   "source": [
    "path_date = 'data/HJH/12-06-2024'; train_prq = path_date + '/train.parquet';test_prq = path_date + '/test.parquet'\n",
    "\n",
    "df_train.to_parquet(train_prq)\n",
    "df_test.to_parquet(test_prq)"
   ],
   "metadata": {
    "collapsed": false,
    "ExecuteTime": {
     "end_time": "2024-08-22T13:10:54.285808300Z",
     "start_time": "2024-08-22T13:10:52.691611Z"
    }
   }
  },
  {
   "cell_type": "code",
   "execution_count": 11,
   "outputs": [
    {
     "data": {
      "text/plain": "322046   2024-04-06 13:18:08\n322044   2024-04-06 13:18:08\n322048   2024-04-06 13:18:09\n322047   2024-04-06 13:18:09\n304945   2024-04-06 13:18:25\n                 ...        \n164555   2024-05-30 11:46:53\n164557   2024-05-30 11:46:53\n164569   2024-05-30 11:46:53\n164566   2024-05-30 11:46:53\n164579   2024-05-30 11:46:53\nName: CREATION_DATE, Length: 41422, dtype: datetime64[ns]"
     },
     "execution_count": 11,
     "metadata": {},
     "output_type": "execute_result"
    }
   ],
   "source": [
    "df_test.CREATION_DATE"
   ],
   "metadata": {
    "collapsed": false,
    "ExecuteTime": {
     "end_time": "2024-08-22T13:30:54.179930700Z",
     "start_time": "2024-08-22T13:30:54.160196100Z"
    }
   }
  },
  {
   "cell_type": "code",
   "execution_count": 10,
   "outputs": [
    {
     "data": {
      "text/plain": "398359      J93\n398360      K02\n398361    N80.1\n398365    N80.1\n398364    N80.1\n          ...  \n301417    R07.4\n301418    R07.4\n301414    R07.4\n316581      K21\n322045    R07.4\nName: ICD10, Length: 165684, dtype: object"
     },
     "execution_count": 10,
     "metadata": {},
     "output_type": "execute_result"
    }
   ],
   "source": [
    "df_train.ICD10"
   ],
   "metadata": {
    "collapsed": false,
    "ExecuteTime": {
     "end_time": "2024-08-22T13:10:54.633638800Z",
     "start_time": "2024-08-22T13:10:54.620582Z"
    }
   }
  },
  {
   "cell_type": "code",
   "execution_count": null,
   "outputs": [],
   "source": [],
   "metadata": {
    "collapsed": false
   }
  }
 ],
 "metadata": {
  "kernelspec": {
   "display_name": "Python 3",
   "language": "python",
   "name": "python3"
  },
  "language_info": {
   "codemirror_mode": {
    "name": "ipython",
    "version": 2
   },
   "file_extension": ".py",
   "mimetype": "text/x-python",
   "name": "python",
   "nbconvert_exporter": "python",
   "pygments_lexer": "ipython2",
   "version": "2.7.6"
  }
 },
 "nbformat": 4,
 "nbformat_minor": 0
}
