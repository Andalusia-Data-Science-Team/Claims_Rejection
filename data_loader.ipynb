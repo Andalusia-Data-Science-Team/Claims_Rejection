{
 "cells": [
  {
   "cell_type": "code",
   "execution_count": 1,
   "outputs": [
    {
     "ename": "ModuleNotFoundError",
     "evalue": "No module named 'keras.preprocessing'",
     "output_type": "error",
     "traceback": [
      "\u001B[1;31m---------------------------------------------------------------------------\u001B[0m",
      "\u001B[1;31mModuleNotFoundError\u001B[0m                       Traceback (most recent call last)",
      "Cell \u001B[1;32mIn[1], line 1\u001B[0m\n\u001B[1;32m----> 1\u001B[0m \u001B[38;5;28;01mfrom\u001B[39;00m \u001B[38;5;21;01msrc\u001B[39;00m\u001B[38;5;21;01m.\u001B[39;00m\u001B[38;5;21;01mdata_local\u001B[39;00m \u001B[38;5;28;01mimport\u001B[39;00m MergedDataPreprocessing\n\u001B[0;32m      2\u001B[0m \u001B[38;5;28;01mfrom\u001B[39;00m \u001B[38;5;21;01mcashe\u001B[39;00m \u001B[38;5;28;01mimport\u001B[39;00m get_cashed_input\n",
      "File \u001B[1;32mC:\\AI_Projects\\Claims_Rejection_2024\\Claims_Rejection\\src\\data_local.py:6\u001B[0m\n\u001B[0;32m      4\u001B[0m \u001B[38;5;28;01mfrom\u001B[39;00m \u001B[38;5;21;01msklearn\u001B[39;00m\u001B[38;5;21;01m.\u001B[39;00m\u001B[38;5;21;01mmodel_selection\u001B[39;00m \u001B[38;5;28;01mimport\u001B[39;00m train_test_split\n\u001B[0;32m      5\u001B[0m \u001B[38;5;28;01mfrom\u001B[39;00m \u001B[38;5;21;01msklearn\u001B[39;00m\u001B[38;5;21;01m.\u001B[39;00m\u001B[38;5;21;01mpreprocessing\u001B[39;00m \u001B[38;5;28;01mimport\u001B[39;00m LabelEncoder\n\u001B[1;32m----> 6\u001B[0m \u001B[38;5;28;01mfrom\u001B[39;00m \u001B[38;5;21;01msrc\u001B[39;00m\u001B[38;5;21;01m.\u001B[39;00m\u001B[38;5;21;01mlstm_encoder\u001B[39;00m \u001B[38;5;28;01mimport\u001B[39;00m LSTMEmbedding\n\u001B[0;32m      8\u001B[0m \u001B[38;5;28;01mclass\u001B[39;00m \u001B[38;5;21;01mDataLoader\u001B[39;00m:\n\u001B[0;32m      9\u001B[0m     \u001B[38;5;28;01mdef\u001B[39;00m \u001B[38;5;21m__init__\u001B[39m(\u001B[38;5;28mself\u001B[39m, source\u001B[38;5;241m=\u001B[39m\u001B[38;5;124m'\u001B[39m\u001B[38;5;124mHJH\u001B[39m\u001B[38;5;124m'\u001B[39m):\n",
      "File \u001B[1;32mC:\\AI_Projects\\Claims_Rejection_2024\\Claims_Rejection\\src\\lstm_encoder.py:3\u001B[0m\n\u001B[0;32m      1\u001B[0m \u001B[38;5;28;01mimport\u001B[39;00m \u001B[38;5;21;01mnumpy\u001B[39;00m \u001B[38;5;28;01mas\u001B[39;00m \u001B[38;5;21;01mnp\u001B[39;00m\n\u001B[0;32m      2\u001B[0m \u001B[38;5;28;01mimport\u001B[39;00m \u001B[38;5;21;01mpandas\u001B[39;00m \u001B[38;5;28;01mas\u001B[39;00m \u001B[38;5;21;01mpd\u001B[39;00m\n\u001B[1;32m----> 3\u001B[0m \u001B[38;5;28;01mfrom\u001B[39;00m \u001B[38;5;21;01mkeras\u001B[39;00m\u001B[38;5;21;01m.\u001B[39;00m\u001B[38;5;21;01mpreprocessing\u001B[39;00m\u001B[38;5;21;01m.\u001B[39;00m\u001B[38;5;21;01msequence\u001B[39;00m \u001B[38;5;28;01mimport\u001B[39;00m pad_sequences\n\u001B[0;32m      4\u001B[0m \u001B[38;5;28;01mfrom\u001B[39;00m \u001B[38;5;21;01mkeras\u001B[39;00m\u001B[38;5;21;01m.\u001B[39;00m\u001B[38;5;21;01mmodels\u001B[39;00m \u001B[38;5;28;01mimport\u001B[39;00m Sequential, load_model, Model\n\u001B[0;32m      5\u001B[0m \u001B[38;5;28;01mfrom\u001B[39;00m \u001B[38;5;21;01mkeras\u001B[39;00m\u001B[38;5;21;01m.\u001B[39;00m\u001B[38;5;21;01mlayers\u001B[39;00m \u001B[38;5;28;01mimport\u001B[39;00m LSTM, Dense, Input\n",
      "\u001B[1;31mModuleNotFoundError\u001B[0m: No module named 'keras.preprocessing'"
     ]
    }
   ],
   "source": [
    "from src.data_local import MergedDataPreprocessing\n",
    "from cashe import get_cashed_input"
   ],
   "metadata": {
    "collapsed": false,
    "ExecuteTime": {
     "end_time": "2024-07-01T07:27:28.294168800Z",
     "start_time": "2024-07-01T07:25:35.271293900Z"
    }
   }
  },
  {
   "cell_type": "markdown",
   "source": [
    "## HJH Dataset\n",
    "loaded on 23/5/2024"
   ],
   "metadata": {
    "collapsed": false
   }
  },
  {
   "cell_type": "code",
   "execution_count": 2,
   "outputs": [],
   "source": [
    "df_original = get_cashed_input()"
   ],
   "metadata": {
    "collapsed": false,
    "ExecuteTime": {
     "end_time": "2024-06-10T07:52:46.746199500Z",
     "start_time": "2024-06-10T07:52:42.186834500Z"
    }
   }
  },
  {
   "cell_type": "code",
   "execution_count": 7,
   "outputs": [
    {
     "data": {
      "text/plain": "388640   2024-04-30 12:13:09\n388639   2024-04-30 12:13:09\n388633   2024-04-30 12:13:09\n388634   2024-04-30 12:13:09\n388635   2024-04-30 12:13:09\n                 ...        \n397544   2024-01-01 09:58:15\n397545   2024-01-01 09:58:15\n397546   2024-01-01 09:58:15\n397547   2024-01-01 09:58:15\n397549   2024-01-01 09:58:15\nName: CREATION_DATE, Length: 488833, dtype: datetime64[ns]"
     },
     "execution_count": 7,
     "metadata": {},
     "output_type": "execute_result"
    }
   ],
   "source": [
    "df_original['CREATION_DATE'].sort_values(ascending=False)"
   ],
   "metadata": {
    "collapsed": false,
    "ExecuteTime": {
     "end_time": "2024-06-10T07:53:43.906275200Z",
     "start_time": "2024-06-10T07:53:43.758832900Z"
    }
   }
  },
  {
   "cell_type": "code",
   "execution_count": 4,
   "outputs": [
    {
     "data": {
      "text/plain": "VISIT_ID\n220020    1819\n202392    1529\n203244    1529\n201986    1529\n202394    1529\n          ... \n198125       1\n228482       1\n210011       1\n228691       1\n231136       1\nName: count, Length: 42771, dtype: int64"
     },
     "execution_count": 4,
     "metadata": {},
     "output_type": "execute_result"
    }
   ],
   "source": [
    "df_original.VISIT_ID.value_counts()"
   ],
   "metadata": {
    "collapsed": false,
    "ExecuteTime": {
     "end_time": "2024-05-27T07:58:43.113882100Z",
     "start_time": "2024-05-27T07:58:43.060025800Z"
    }
   }
  },
  {
   "cell_type": "code",
   "execution_count": 4,
   "outputs": [],
   "source": [
    "preprocessing = MergedDataPreprocessing(df_original)"
   ],
   "metadata": {
    "collapsed": false,
    "ExecuteTime": {
     "end_time": "2024-05-27T07:16:00.142822600Z",
     "start_time": "2024-05-27T07:16:00.127863900Z"
    }
   }
  },
  {
   "cell_type": "code",
   "execution_count": 5,
   "outputs": [
    {
     "name": "stdout",
     "output_type": "stream",
     "text": [
      "CREATED_BY_USER : int64\n",
      "CREATION_DATE : datetime64[ns]\n",
      "VISIT_ID : int64\n",
      "NET_WITH_VAT : float64\n",
      "SERVICE_DESCRIPTION : object\n",
      "QTY : float64\n",
      "LINE_CLAIMED_AMOUNT : float64\n",
      "LINE_CLAIMED_AMOUNT_SAR : float64\n",
      "CO_PAY : float64\n",
      "CO_INSURANCE : float64\n",
      "LINE_ITEM_DISCOUNT : float64\n",
      "NET_AMOUNT : float64\n",
      "NET_VAT_AMOUNT : float64\n",
      "PATIENT_VAT_AMOUNT : float64\n",
      "VAT_PERCENTAGE : float64\n",
      "TREATMENT_TYPE_INDICATOR : int64\n",
      "SERVICE_TYPE : object\n",
      "DURATION : float64\n",
      "QTY_STOCKED_UOM : int64\n",
      "UNIT_PRICE : float64\n",
      "OASIS_IOS_DESCRIPTION : object\n",
      "SEQUENCE_NO : int64\n",
      "UNIT_PRICE_STOCKED_UOM : float64\n",
      "UNIT_PRICE_NET : float64\n",
      "DISCOUNT_PERCENTAGE : float64\n",
      "NOTES : object\n",
      "OUTCOME : object\n",
      "APPROVED_QUNATITY : float64\n",
      "REQUEST_DATE : datetime64[ns]\n",
      "VISIT_NO : object\n",
      "VISIT_DATE : datetime64[ns]\n",
      "EMERGENCY_INDICATOR : object\n",
      "PROVIDER_DEPARTMENT_CODE : int64\n",
      "PROVIDER_DEPARTMENT : object\n",
      "DOCTOR_SPECIALTY_CODE : float64\n",
      "DOCTOR_CODE : int64\n",
      "PATIENT_NO : int64\n",
      "EPISODE_NO : int64\n",
      "PATIENT_ID : int64\n",
      "MEMBERSHIP_NO : object\n",
      "PATIENT_ID_TYPE : float64\n",
      "PATIENT_NATIONAL_IQAMA_ID : object\n",
      "PATIENT_DOB : datetime64[ns]\n",
      "PATIENT_AGE : int64\n",
      "UNIT_OF_AGE : int64\n",
      "PATIENT_NATIONALITY : object\n",
      "PATIENT_MARITAL_STATUS : object\n",
      "PATIENT_GENDER : object\n",
      "PATIENT_MOBILE_NO : int64\n",
      "PATIENT_BADGE_NO : object\n",
      "HIS_INSURANCE_CODE : int64\n",
      "POLICY_HOLDER_NO : object\n",
      "CLAIM_TYPE : object\n",
      "BATCH_NO : int64\n",
      "TOTAL_CLAIMED_AMOUNT : float64\n",
      "TOTAL_CLAIMED_AMOUNT_SAR : float64\n",
      "TOTAL_NET_AMOUNT : float64\n",
      "TOTAL_DISCOUNT : float64\n",
      "TOTAL_DEDUCTIBLE : float64\n",
      "TOTAL_PATIENT_VATAMOUNT : float64\n",
      "TOTAL_NET_VAT_AMOUNT : float64\n",
      "CLAIM_NO : object\n",
      "STAT_END_DATE : datetime64[ns]\n",
      "AMEND_BY_USER : int64\n",
      "AMEND_LAST_DATE : datetime64[ns]\n",
      "PAYER_LICENSE : int64\n",
      "DOCTOR_LICENSE : object\n",
      "DEPARTMENT_TYPE : float64\n",
      "TREATMENT_TYPE : object\n",
      "CLAIM_INVOICE_NO : int64\n",
      "STAT_INVOICE_NO : int64\n",
      "PURCHASER_CODE : int64\n",
      "STATUS : object\n",
      "API_TRANS_ID : int64\n",
      "SUBMIT_CLAIM_OUTCOME : object\n",
      "SUBMIT_CLAIM_MESSAGE : object\n",
      "RES_STATUS : object\n",
      "RES_CLAIM_ID : object\n",
      "CONSULTATION_INVOICE_NO : object\n",
      "TREATMENT_SUB_TYPE : object\n",
      "ELIGIBILITY_RESPONSE_ID : object\n",
      "ELIGIBILITY_RESPONSE_SYSTEM : object\n",
      "CONTRACT_NO : int64\n",
      "ELIGIBILITY_API_TRANS_ID : float64\n",
      "CLAIM_IDENTIFIER : float64\n",
      "ATTACHED_FILES : object\n",
      "ATTACHMENT_TYPE : object\n",
      "NEW_BORN : object\n",
      "PATIENT_IDENTITY_TYPE : object\n",
      "BILLABLE_PERIOD_START : datetime64[ns]\n",
      "BILLABLE_PERIOD_END : datetime64[ns]\n",
      "BATCH_PERIOD_START : datetime64[ns]\n",
      "BATCH_PERIOD_END : datetime64[ns]\n"
     ]
    }
   ],
   "source": [
    "for col in df_original.columns:\n",
    "    print(col,\":\",df_original[col].dtype)"
   ],
   "metadata": {
    "collapsed": false,
    "ExecuteTime": {
     "end_time": "2024-05-27T07:16:00.694175700Z",
     "start_time": "2024-05-27T07:16:00.655251400Z"
    }
   }
  },
  {
   "cell_type": "code",
   "execution_count": 12,
   "outputs": [
    {
     "data": {
      "text/plain": "CREATED_BY_USER            0\nCREATION_DATE              0\nVISIT_ID                   0\nNET_WITH_VAT               0\nSERVICE_DESCRIPTION        0\n                        ... \nPATIENT_IDENTITY_TYPE    190\nBILLABLE_PERIOD_START      0\nBILLABLE_PERIOD_END        0\nBATCH_PERIOD_START         0\nBATCH_PERIOD_END           0\nLength: 93, dtype: int64"
     },
     "execution_count": 12,
     "metadata": {},
     "output_type": "execute_result"
    }
   ],
   "source": [
    "df_original.isna().sum()"
   ],
   "metadata": {
    "collapsed": false,
    "ExecuteTime": {
     "end_time": "2024-05-26T12:12:10.764832600Z",
     "start_time": "2024-05-26T12:12:10.134736800Z"
    }
   }
  },
  {
   "cell_type": "code",
   "execution_count": 14,
   "outputs": [
    {
     "data": {
      "text/plain": "SUBMIT_CLAIM_OUTCOME\nPENDED    241830\nQUEUED     70352\nERROR      64160\nName: count, dtype: int64"
     },
     "execution_count": 14,
     "metadata": {},
     "output_type": "execute_result"
    }
   ],
   "source": [
    "df_original.SUBMIT_CLAIM_OUTCOME.value_counts()"
   ],
   "metadata": {
    "collapsed": false,
    "ExecuteTime": {
     "end_time": "2024-05-26T12:14:51.183860400Z",
     "start_time": "2024-05-26T12:14:51.125503600Z"
    }
   }
  },
  {
   "cell_type": "code",
   "execution_count": null,
   "outputs": [],
   "source": [
    "df_prep = preprocessing.columns_prep()"
   ],
   "metadata": {
    "collapsed": false
   }
  },
  {
   "cell_type": "code",
   "execution_count": 7,
   "outputs": [
    {
     "data": {
      "text/plain": "        CREATED_BY_USER       CREATION_DATE  VISIT_ID  NET_WITH_VAT  \\\n0                  9521 2024-04-04 22:57:57    230089         56.12   \n1                  9521 2024-04-04 23:02:21    230117        202.40   \n2                  9521 2024-04-04 23:08:38    230160        408.08   \n3                  9521 2024-04-04 22:26:08    229872         24.27   \n4                  9521 2024-04-04 22:34:22    229913         80.64   \n...                 ...                 ...       ...           ...   \n488828             9593 2024-01-23 17:20:54    204110        242.48   \n488829            10962 2024-01-28 01:01:05    204377          1.06   \n488830            10962 2024-01-28 01:01:05    204377          1.14   \n488831            10962 2024-01-28 01:01:05    204377          1.79   \n488832             9593 2024-01-23 16:35:34    204093        144.56   \n\n                             SERVICE_DESCRIPTION  QTY  LINE_CLAIMED_AMOUNT  \\\n0                                  Unlisted Code  1.0                61.00   \n1                                            TSH  1.0               220.00   \n2                            In vivo laboratory   1.0               475.00   \n3                            ELICA-M CREAM 30 GM  1.0                25.55   \n4                 Peripheral intravenous cannula  1.0                90.00   \n...                                          ...  ...                  ...   \n488828  Quantitative Troponin (Protein) Analysis  1.0               324.39   \n488829                       NEBILET 5MG TABLETS  1.0                 1.14   \n488830                   Unlisted Procedure Code  5.0                 1.77   \n488831                 SALURIN 20MG-2ML AMPOULES  1.0                 1.93   \n488832              Radiography of chest, 1 view  1.0               193.39   \n\n        LINE_CLAIMED_AMOUNT_SAR  CO_PAY  CO_INSURANCE  ...  CLAIM_IDENTIFIER  \\\n0                         61.00    0.00         61.00  ...         4430078.0   \n1                        220.00    0.00        220.00  ...         4430087.0   \n2                        475.00   10.75        464.25  ...         4430098.0   \n3                         25.55    4.85         20.70  ...         4430011.0   \n4                         90.00   14.40         75.60  ...         4430028.0   \n...                         ...     ...           ...  ...               ...   \n488828                   324.39    0.00        324.39  ...         4404986.0   \n488829                     1.14    0.00          1.14  ...         4404989.0   \n488830                     1.77    0.00          1.77  ...         4404989.0   \n488831                     1.93    0.00          1.93  ...         4404989.0   \n488832                   193.39    0.00        193.39  ...         4405026.0   \n\n                                           ATTACHED_FILES  ATTACHMENT_TYPE  \\\n0       929362-34-4430078_OPDUCAF_2024-04-04_22-57-36_...             FILE   \n1       1083147-3-4430087_OPDUCAF_2024-04-04_23-01-52_...             FILE   \n2       1339075-6-4430098_OPDUCAF_2024-04-04_23-08-22_...             FILE   \n3       656928-60-4430011_OPDUCAF_2024-04-04_22-25-48_...             FILE   \n4       1019628-25-4430028_OPDUCAF_2024-04-04_22-33-56...             FILE   \n...                                                   ...              ...   \n488828  1348956-2-4404986_OPDUCAF_2024-01-23_17-17-31_...             FILE   \n488829  1349595-2-4404989_LABCHRT1_2024-01-28_01-00-04...             FILE   \n488830  1349595-2-4404989_LABCHRT1_2024-01-28_01-00-04...             FILE   \n488831  1349595-2-4404989_LABCHRT1_2024-01-28_01-00-04...             FILE   \n488832  1348795-1-4405026_OPDUCAF_2024-01-23_16-35-06_...             FILE   \n\n        NEW_BORN  PATIENT_IDENTITY_TYPE  BILLABLE_PERIOD_START  \\\n0              0                      H    2024-03-28 00:00:00   \n1              0                      H    2024-03-12 00:00:00   \n2              0                      H    2024-03-04 00:00:00   \n3              0                      H    2024-03-10 00:00:00   \n4              0                      H    2024-03-18 00:00:00   \n...          ...                    ...                    ...   \n488828         0                     IQ    2023-12-24 10:28:07   \n488829         0                     IQ    2023-12-27 20:51:37   \n488830         0                     IQ    2023-12-27 20:51:37   \n488831         0                     IQ    2023-12-27 20:51:37   \n488832         0                     IQ    2023-12-22 00:00:00   \n\n       BILLABLE_PERIOD_END  BATCH_PERIOD_START  BATCH_PERIOD_END  \\\n0      2024-04-11 00:00:00          2024-03-01        2024-03-31   \n1      2024-03-26 00:00:00          2024-03-01        2024-03-31   \n2      2024-03-18 00:00:00          2024-03-01        2024-03-31   \n3      2024-03-24 00:00:00          2024-03-01        2024-03-31   \n4      2024-04-01 00:00:00          2024-03-01        2024-03-31   \n...                    ...                 ...               ...   \n488828 2023-12-28 12:07:18          2023-12-01        2023-12-31   \n488829 2023-12-31 17:16:53          2023-12-01        2023-12-31   \n488830 2023-12-31 17:16:53          2023-12-01        2023-12-31   \n488831 2023-12-31 17:16:53          2023-12-01        2023-12-31   \n488832 2024-01-05 00:00:00          2023-12-01        2023-12-31   \n\n        PatientAgeRange  \n0                     6  \n1                     5  \n2                     6  \n3                     6  \n4                     8  \n...                 ...  \n488828                8  \n488829                7  \n488830                7  \n488831                7  \n488832                9  \n\n[488833 rows x 94 columns]",
      "text/html": "<div>\n<style scoped>\n    .dataframe tbody tr th:only-of-type {\n        vertical-align: middle;\n    }\n\n    .dataframe tbody tr th {\n        vertical-align: top;\n    }\n\n    .dataframe thead th {\n        text-align: right;\n    }\n</style>\n<table border=\"1\" class=\"dataframe\">\n  <thead>\n    <tr style=\"text-align: right;\">\n      <th></th>\n      <th>CREATED_BY_USER</th>\n      <th>CREATION_DATE</th>\n      <th>VISIT_ID</th>\n      <th>NET_WITH_VAT</th>\n      <th>SERVICE_DESCRIPTION</th>\n      <th>QTY</th>\n      <th>LINE_CLAIMED_AMOUNT</th>\n      <th>LINE_CLAIMED_AMOUNT_SAR</th>\n      <th>CO_PAY</th>\n      <th>CO_INSURANCE</th>\n      <th>...</th>\n      <th>CLAIM_IDENTIFIER</th>\n      <th>ATTACHED_FILES</th>\n      <th>ATTACHMENT_TYPE</th>\n      <th>NEW_BORN</th>\n      <th>PATIENT_IDENTITY_TYPE</th>\n      <th>BILLABLE_PERIOD_START</th>\n      <th>BILLABLE_PERIOD_END</th>\n      <th>BATCH_PERIOD_START</th>\n      <th>BATCH_PERIOD_END</th>\n      <th>PatientAgeRange</th>\n    </tr>\n  </thead>\n  <tbody>\n    <tr>\n      <th>0</th>\n      <td>9521</td>\n      <td>2024-04-04 22:57:57</td>\n      <td>230089</td>\n      <td>56.12</td>\n      <td>Unlisted Code</td>\n      <td>1.0</td>\n      <td>61.00</td>\n      <td>61.00</td>\n      <td>0.00</td>\n      <td>61.00</td>\n      <td>...</td>\n      <td>4430078.0</td>\n      <td>929362-34-4430078_OPDUCAF_2024-04-04_22-57-36_...</td>\n      <td>FILE</td>\n      <td>0</td>\n      <td>H</td>\n      <td>2024-03-28 00:00:00</td>\n      <td>2024-04-11 00:00:00</td>\n      <td>2024-03-01</td>\n      <td>2024-03-31</td>\n      <td>6</td>\n    </tr>\n    <tr>\n      <th>1</th>\n      <td>9521</td>\n      <td>2024-04-04 23:02:21</td>\n      <td>230117</td>\n      <td>202.40</td>\n      <td>TSH</td>\n      <td>1.0</td>\n      <td>220.00</td>\n      <td>220.00</td>\n      <td>0.00</td>\n      <td>220.00</td>\n      <td>...</td>\n      <td>4430087.0</td>\n      <td>1083147-3-4430087_OPDUCAF_2024-04-04_23-01-52_...</td>\n      <td>FILE</td>\n      <td>0</td>\n      <td>H</td>\n      <td>2024-03-12 00:00:00</td>\n      <td>2024-03-26 00:00:00</td>\n      <td>2024-03-01</td>\n      <td>2024-03-31</td>\n      <td>5</td>\n    </tr>\n    <tr>\n      <th>2</th>\n      <td>9521</td>\n      <td>2024-04-04 23:08:38</td>\n      <td>230160</td>\n      <td>408.08</td>\n      <td>In vivo laboratory</td>\n      <td>1.0</td>\n      <td>475.00</td>\n      <td>475.00</td>\n      <td>10.75</td>\n      <td>464.25</td>\n      <td>...</td>\n      <td>4430098.0</td>\n      <td>1339075-6-4430098_OPDUCAF_2024-04-04_23-08-22_...</td>\n      <td>FILE</td>\n      <td>0</td>\n      <td>H</td>\n      <td>2024-03-04 00:00:00</td>\n      <td>2024-03-18 00:00:00</td>\n      <td>2024-03-01</td>\n      <td>2024-03-31</td>\n      <td>6</td>\n    </tr>\n    <tr>\n      <th>3</th>\n      <td>9521</td>\n      <td>2024-04-04 22:26:08</td>\n      <td>229872</td>\n      <td>24.27</td>\n      <td>ELICA-M CREAM 30 GM</td>\n      <td>1.0</td>\n      <td>25.55</td>\n      <td>25.55</td>\n      <td>4.85</td>\n      <td>20.70</td>\n      <td>...</td>\n      <td>4430011.0</td>\n      <td>656928-60-4430011_OPDUCAF_2024-04-04_22-25-48_...</td>\n      <td>FILE</td>\n      <td>0</td>\n      <td>H</td>\n      <td>2024-03-10 00:00:00</td>\n      <td>2024-03-24 00:00:00</td>\n      <td>2024-03-01</td>\n      <td>2024-03-31</td>\n      <td>6</td>\n    </tr>\n    <tr>\n      <th>4</th>\n      <td>9521</td>\n      <td>2024-04-04 22:34:22</td>\n      <td>229913</td>\n      <td>80.64</td>\n      <td>Peripheral intravenous cannula</td>\n      <td>1.0</td>\n      <td>90.00</td>\n      <td>90.00</td>\n      <td>14.40</td>\n      <td>75.60</td>\n      <td>...</td>\n      <td>4430028.0</td>\n      <td>1019628-25-4430028_OPDUCAF_2024-04-04_22-33-56...</td>\n      <td>FILE</td>\n      <td>0</td>\n      <td>H</td>\n      <td>2024-03-18 00:00:00</td>\n      <td>2024-04-01 00:00:00</td>\n      <td>2024-03-01</td>\n      <td>2024-03-31</td>\n      <td>8</td>\n    </tr>\n    <tr>\n      <th>...</th>\n      <td>...</td>\n      <td>...</td>\n      <td>...</td>\n      <td>...</td>\n      <td>...</td>\n      <td>...</td>\n      <td>...</td>\n      <td>...</td>\n      <td>...</td>\n      <td>...</td>\n      <td>...</td>\n      <td>...</td>\n      <td>...</td>\n      <td>...</td>\n      <td>...</td>\n      <td>...</td>\n      <td>...</td>\n      <td>...</td>\n      <td>...</td>\n      <td>...</td>\n      <td>...</td>\n    </tr>\n    <tr>\n      <th>488828</th>\n      <td>9593</td>\n      <td>2024-01-23 17:20:54</td>\n      <td>204110</td>\n      <td>242.48</td>\n      <td>Quantitative Troponin (Protein) Analysis</td>\n      <td>1.0</td>\n      <td>324.39</td>\n      <td>324.39</td>\n      <td>0.00</td>\n      <td>324.39</td>\n      <td>...</td>\n      <td>4404986.0</td>\n      <td>1348956-2-4404986_OPDUCAF_2024-01-23_17-17-31_...</td>\n      <td>FILE</td>\n      <td>0</td>\n      <td>IQ</td>\n      <td>2023-12-24 10:28:07</td>\n      <td>2023-12-28 12:07:18</td>\n      <td>2023-12-01</td>\n      <td>2023-12-31</td>\n      <td>8</td>\n    </tr>\n    <tr>\n      <th>488829</th>\n      <td>10962</td>\n      <td>2024-01-28 01:01:05</td>\n      <td>204377</td>\n      <td>1.06</td>\n      <td>NEBILET 5MG TABLETS</td>\n      <td>1.0</td>\n      <td>1.14</td>\n      <td>1.14</td>\n      <td>0.00</td>\n      <td>1.14</td>\n      <td>...</td>\n      <td>4404989.0</td>\n      <td>1349595-2-4404989_LABCHRT1_2024-01-28_01-00-04...</td>\n      <td>FILE</td>\n      <td>0</td>\n      <td>IQ</td>\n      <td>2023-12-27 20:51:37</td>\n      <td>2023-12-31 17:16:53</td>\n      <td>2023-12-01</td>\n      <td>2023-12-31</td>\n      <td>7</td>\n    </tr>\n    <tr>\n      <th>488830</th>\n      <td>10962</td>\n      <td>2024-01-28 01:01:05</td>\n      <td>204377</td>\n      <td>1.14</td>\n      <td>Unlisted Procedure Code</td>\n      <td>5.0</td>\n      <td>1.77</td>\n      <td>1.77</td>\n      <td>0.00</td>\n      <td>1.77</td>\n      <td>...</td>\n      <td>4404989.0</td>\n      <td>1349595-2-4404989_LABCHRT1_2024-01-28_01-00-04...</td>\n      <td>FILE</td>\n      <td>0</td>\n      <td>IQ</td>\n      <td>2023-12-27 20:51:37</td>\n      <td>2023-12-31 17:16:53</td>\n      <td>2023-12-01</td>\n      <td>2023-12-31</td>\n      <td>7</td>\n    </tr>\n    <tr>\n      <th>488831</th>\n      <td>10962</td>\n      <td>2024-01-28 01:01:05</td>\n      <td>204377</td>\n      <td>1.79</td>\n      <td>SALURIN 20MG-2ML AMPOULES</td>\n      <td>1.0</td>\n      <td>1.93</td>\n      <td>1.93</td>\n      <td>0.00</td>\n      <td>1.93</td>\n      <td>...</td>\n      <td>4404989.0</td>\n      <td>1349595-2-4404989_LABCHRT1_2024-01-28_01-00-04...</td>\n      <td>FILE</td>\n      <td>0</td>\n      <td>IQ</td>\n      <td>2023-12-27 20:51:37</td>\n      <td>2023-12-31 17:16:53</td>\n      <td>2023-12-01</td>\n      <td>2023-12-31</td>\n      <td>7</td>\n    </tr>\n    <tr>\n      <th>488832</th>\n      <td>9593</td>\n      <td>2024-01-23 16:35:34</td>\n      <td>204093</td>\n      <td>144.56</td>\n      <td>Radiography of chest, 1 view</td>\n      <td>1.0</td>\n      <td>193.39</td>\n      <td>193.39</td>\n      <td>0.00</td>\n      <td>193.39</td>\n      <td>...</td>\n      <td>4405026.0</td>\n      <td>1348795-1-4405026_OPDUCAF_2024-01-23_16-35-06_...</td>\n      <td>FILE</td>\n      <td>0</td>\n      <td>IQ</td>\n      <td>2023-12-22 00:00:00</td>\n      <td>2024-01-05 00:00:00</td>\n      <td>2023-12-01</td>\n      <td>2023-12-31</td>\n      <td>9</td>\n    </tr>\n  </tbody>\n</table>\n<p>488833 rows × 94 columns</p>\n</div>"
     },
     "execution_count": 7,
     "metadata": {},
     "output_type": "execute_result"
    }
   ],
   "source": [
    "df_prep"
   ],
   "metadata": {
    "collapsed": false,
    "ExecuteTime": {
     "end_time": "2024-05-26T09:33:17.423279500Z",
     "start_time": "2024-05-26T09:33:17.152991700Z"
    }
   }
  },
  {
   "cell_type": "code",
   "execution_count": 25,
   "outputs": [],
   "source": [
    "df_train, df_test = preprocessing.train_test_split(test_size=0.2,random_state=6)"
   ],
   "metadata": {
    "collapsed": false,
    "ExecuteTime": {
     "end_time": "2024-05-26T10:02:46.686790100Z",
     "start_time": "2024-05-26T10:02:46.239464800Z"
    }
   }
  },
  {
   "cell_type": "code",
   "execution_count": 26,
   "outputs": [
    {
     "data": {
      "text/plain": "0.2531547822058057"
     },
     "execution_count": 26,
     "metadata": {},
     "output_type": "execute_result"
    }
   ],
   "source": [
    "len(df_test)/ len(df_train)"
   ],
   "metadata": {
    "collapsed": false,
    "ExecuteTime": {
     "end_time": "2024-05-26T10:02:48.457567300Z",
     "start_time": "2024-05-26T10:02:48.438621100Z"
    }
   }
  },
  {
   "cell_type": "code",
   "execution_count": 12,
   "outputs": [
    {
     "data": {
      "text/plain": "[]"
     },
     "execution_count": 12,
     "metadata": {},
     "output_type": "execute_result"
    }
   ],
   "source": [
    "ls1 = list(df_train.sort_values(by='VISIT_ID')['VISIT_ID'])\n",
    "ls2 = list(df_test.sort_values(by='VISIT_ID')['VISIT_ID'])\n",
    "intersection = list(set(ls1) & set(ls2))\n",
    "intersection ## to find the repeated transaction id between them"
   ],
   "metadata": {
    "collapsed": false,
    "ExecuteTime": {
     "end_time": "2024-05-26T10:02:13.277902600Z",
     "start_time": "2024-05-26T10:02:13.094270200Z"
    }
   }
  },
  {
   "cell_type": "code",
   "execution_count": 27,
   "outputs": [
    {
     "data": {
      "text/plain": "3.9501525165226234"
     },
     "execution_count": 27,
     "metadata": {},
     "output_type": "execute_result"
    }
   ],
   "source": [
    "len(df_train) / len(df_test)"
   ],
   "metadata": {
    "collapsed": false,
    "ExecuteTime": {
     "end_time": "2024-05-26T10:02:52.953474700Z",
     "start_time": "2024-05-26T10:02:52.941476800Z"
    }
   }
  },
  {
   "cell_type": "code",
   "execution_count": 29,
   "outputs": [],
   "source": [
    "df_train.to_parquet('data/HJH/prq/train.parquet')\n",
    "df_test.to_parquet('data/HJH/prq/test.parquet')"
   ],
   "metadata": {
    "collapsed": false,
    "ExecuteTime": {
     "end_time": "2024-05-26T10:04:52.137799600Z",
     "start_time": "2024-05-26T10:04:50.258801700Z"
    }
   }
  },
  {
   "cell_type": "code",
   "execution_count": null,
   "outputs": [],
   "source": [],
   "metadata": {
    "collapsed": false
   }
  }
 ],
 "metadata": {
  "kernelspec": {
   "display_name": "Python 3",
   "language": "python",
   "name": "python3"
  },
  "language_info": {
   "codemirror_mode": {
    "name": "ipython",
    "version": 2
   },
   "file_extension": ".py",
   "mimetype": "text/x-python",
   "name": "python",
   "nbconvert_exporter": "python",
   "pygments_lexer": "ipython2",
   "version": "2.7.6"
  }
 },
 "nbformat": 4,
 "nbformat_minor": 0
}
