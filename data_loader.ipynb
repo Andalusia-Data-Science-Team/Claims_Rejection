{
 "cells": [
  {
   "cell_type": "code",
   "execution_count": 1,
   "outputs": [],
   "source": [
    "from src.utilities_rejection import RejectionReasonLabeling\n",
    "from src.data_local import MergedDataPreprocessing\n",
    "from cashe import get_cashed_input"
   ],
   "metadata": {
    "collapsed": false,
    "ExecuteTime": {
     "end_time": "2024-08-04T09:42:11.755157500Z",
     "start_time": "2024-08-04T09:39:42.210300900Z"
    }
   }
  },
  {
   "cell_type": "code",
   "execution_count": 2,
   "outputs": [],
   "source": [
    "# !pip install tensorflow --upgrade\n",
    "df = get_cashed_input()"
   ],
   "metadata": {
    "collapsed": false,
    "ExecuteTime": {
     "end_time": "2024-08-04T09:42:33.596923700Z",
     "start_time": "2024-08-04T09:42:11.586197300Z"
    }
   }
  },
  {
   "cell_type": "code",
   "execution_count": 3,
   "outputs": [
    {
     "data": {
      "text/plain": "        CREATED_BY_USER       CREATION_DATE  VISIT_ID  NET_WITH_VAT  \\\n397551            10335 2024-01-01 09:58:15    194131        575.00   \n397548            10335 2024-01-01 09:58:15    194131        312.80   \n397549            10335 2024-01-01 09:58:15    194131         11.38   \n397550            10335 2024-01-01 09:58:15    194131      15346.75   \n397559            10335 2024-01-01 10:00:43    194132          0.88   \n...                 ...                 ...       ...           ...   \n388637             9643 2024-04-30 12:13:09    238137         50.57   \n388638             9643 2024-04-30 12:13:09    238137        555.18   \n388639             9643 2024-04-30 12:13:09    238137         45.65   \n388640             9643 2024-04-30 12:13:09    238137          4.67   \n388641             9643 2024-04-30 12:13:09    238137         21.38   \n\n                          SERVICE_DESCRIPTION   QTY  LINE_CLAIMED_AMOUNT  \\\n397551  Routine preoperative anaes assessment   1.0               500.00   \n397548                         Cross Matching   1.0               340.00   \n397549         TRANDATE INJ. 100 MG.-AMP.20ML   1.0                11.98   \n397550   Elective classical caesarean section   1.0             15700.00   \n397559          Hypodermic needle, single-use   1.0                 1.10   \n...                                       ...   ...                  ...   \n388637         Peripheral intravenous cannula   1.0                64.50   \n388638                   Ultrasound of pelvis   1.0               689.80   \n388639                        Urinalysis Test   1.0                58.23   \n388640                 PANADREX 500 MG 24 TAB  24.0                 5.05   \n388641                 NORMAL SALINE 500ML PB   1.0                23.10   \n\n        LINE_CLAIMED_AMOUNT_SAR  CO_PAY  CO_INSURANCE  ...  ATTACHMENT_TYPE  \\\n397551                   500.00    0.00        500.00  ...             FILE   \n397548                   340.00    0.00        340.00  ...             FILE   \n397549                    11.98    0.00         11.98  ...             FILE   \n397550                 15700.00    0.00      15700.00  ...             FILE   \n397559                     1.10    0.00          1.10  ...             FILE   \n...                         ...     ...           ...  ...              ...   \n388637                    64.50    9.03         55.47  ...             FILE   \n388638                   689.80    0.75        689.05  ...             FILE   \n388639                    58.23    8.15         50.08  ...             FILE   \n388640                     5.05    0.93          4.12  ...             FILE   \n388641                    23.10    4.27         18.83  ...             FILE   \n\n        NEW_BORN  PATIENT_IDENTITY_TYPE  BILLABLE_PERIOD_START  \\\n397551         N                      H    2023-12-07 10:29:10   \n397548         N                      H    2023-12-07 10:29:10   \n397549         N                      H    2023-12-07 10:29:10   \n397550         N                      H    2023-12-07 10:29:10   \n397559         N                      H    2023-12-07 14:09:32   \n...          ...                    ...                    ...   \n388637         N                      H    2024-04-05 00:00:00   \n388638         N                      H    2024-04-05 00:00:00   \n388639         N                      H    2024-04-05 00:00:00   \n388640         N                      H    2024-04-05 00:00:00   \n388641         N                      H    2024-04-05 00:00:00   \n\n        BILLABLE_PERIOD_END  BATCH_PERIOD_START BATCH_PERIOD_END  Episode_Key  \\\n397551  2023-12-09 09:52:10          2023-12-01       2023-12-10  1_1335736-8   \n397548  2023-12-09 09:52:10          2023-12-01       2023-12-10  1_1335736-8   \n397549  2023-12-09 09:52:10          2023-12-01       2023-12-10  1_1335736-8   \n397550  2023-12-09 09:52:10          2023-12-01       2023-12-10  1_1335736-8   \n397559  2023-12-09 09:52:28          2023-12-01       2023-12-10         None   \n...                     ...                 ...              ...          ...   \n388637  2024-04-19 00:00:00          2024-04-01       2024-04-10  1_150587-17   \n388638  2024-04-19 00:00:00          2024-04-01       2024-04-10  1_150587-17   \n388639  2024-04-19 00:00:00          2024-04-01       2024-04-10  1_150587-17   \n388640  2024-04-19 00:00:00          2024-04-01       2024-04-10  1_150587-17   \n388641  2024-04-19 00:00:00          2024-04-01       2024-04-10  1_150587-17   \n\n        ICD10  Diagnosis_Key  \n397551    O82   1_1111231440  \n397548    O82   1_1111231440  \n397549    O82   1_1111231440  \n397550    O82   1_1111231440  \n397559   None           None  \n...       ...            ...  \n388637    N23     1_10169499  \n388638    N23     1_10169499  \n388639    N23     1_10169499  \n388640    N23     1_10169499  \n388641    N23     1_10169499  \n\n[352669 rows x 96 columns]",
      "text/html": "<div>\n<style scoped>\n    .dataframe tbody tr th:only-of-type {\n        vertical-align: middle;\n    }\n\n    .dataframe tbody tr th {\n        vertical-align: top;\n    }\n\n    .dataframe thead th {\n        text-align: right;\n    }\n</style>\n<table border=\"1\" class=\"dataframe\">\n  <thead>\n    <tr style=\"text-align: right;\">\n      <th></th>\n      <th>CREATED_BY_USER</th>\n      <th>CREATION_DATE</th>\n      <th>VISIT_ID</th>\n      <th>NET_WITH_VAT</th>\n      <th>SERVICE_DESCRIPTION</th>\n      <th>QTY</th>\n      <th>LINE_CLAIMED_AMOUNT</th>\n      <th>LINE_CLAIMED_AMOUNT_SAR</th>\n      <th>CO_PAY</th>\n      <th>CO_INSURANCE</th>\n      <th>...</th>\n      <th>ATTACHMENT_TYPE</th>\n      <th>NEW_BORN</th>\n      <th>PATIENT_IDENTITY_TYPE</th>\n      <th>BILLABLE_PERIOD_START</th>\n      <th>BILLABLE_PERIOD_END</th>\n      <th>BATCH_PERIOD_START</th>\n      <th>BATCH_PERIOD_END</th>\n      <th>Episode_Key</th>\n      <th>ICD10</th>\n      <th>Diagnosis_Key</th>\n    </tr>\n  </thead>\n  <tbody>\n    <tr>\n      <th>397551</th>\n      <td>10335</td>\n      <td>2024-01-01 09:58:15</td>\n      <td>194131</td>\n      <td>575.00</td>\n      <td>Routine preoperative anaes assessment</td>\n      <td>1.0</td>\n      <td>500.00</td>\n      <td>500.00</td>\n      <td>0.00</td>\n      <td>500.00</td>\n      <td>...</td>\n      <td>FILE</td>\n      <td>N</td>\n      <td>H</td>\n      <td>2023-12-07 10:29:10</td>\n      <td>2023-12-09 09:52:10</td>\n      <td>2023-12-01</td>\n      <td>2023-12-10</td>\n      <td>1_1335736-8</td>\n      <td>O82</td>\n      <td>1_1111231440</td>\n    </tr>\n    <tr>\n      <th>397548</th>\n      <td>10335</td>\n      <td>2024-01-01 09:58:15</td>\n      <td>194131</td>\n      <td>312.80</td>\n      <td>Cross Matching</td>\n      <td>1.0</td>\n      <td>340.00</td>\n      <td>340.00</td>\n      <td>0.00</td>\n      <td>340.00</td>\n      <td>...</td>\n      <td>FILE</td>\n      <td>N</td>\n      <td>H</td>\n      <td>2023-12-07 10:29:10</td>\n      <td>2023-12-09 09:52:10</td>\n      <td>2023-12-01</td>\n      <td>2023-12-10</td>\n      <td>1_1335736-8</td>\n      <td>O82</td>\n      <td>1_1111231440</td>\n    </tr>\n    <tr>\n      <th>397549</th>\n      <td>10335</td>\n      <td>2024-01-01 09:58:15</td>\n      <td>194131</td>\n      <td>11.38</td>\n      <td>TRANDATE INJ. 100 MG.-AMP.20ML</td>\n      <td>1.0</td>\n      <td>11.98</td>\n      <td>11.98</td>\n      <td>0.00</td>\n      <td>11.98</td>\n      <td>...</td>\n      <td>FILE</td>\n      <td>N</td>\n      <td>H</td>\n      <td>2023-12-07 10:29:10</td>\n      <td>2023-12-09 09:52:10</td>\n      <td>2023-12-01</td>\n      <td>2023-12-10</td>\n      <td>1_1335736-8</td>\n      <td>O82</td>\n      <td>1_1111231440</td>\n    </tr>\n    <tr>\n      <th>397550</th>\n      <td>10335</td>\n      <td>2024-01-01 09:58:15</td>\n      <td>194131</td>\n      <td>15346.75</td>\n      <td>Elective classical caesarean section</td>\n      <td>1.0</td>\n      <td>15700.00</td>\n      <td>15700.00</td>\n      <td>0.00</td>\n      <td>15700.00</td>\n      <td>...</td>\n      <td>FILE</td>\n      <td>N</td>\n      <td>H</td>\n      <td>2023-12-07 10:29:10</td>\n      <td>2023-12-09 09:52:10</td>\n      <td>2023-12-01</td>\n      <td>2023-12-10</td>\n      <td>1_1335736-8</td>\n      <td>O82</td>\n      <td>1_1111231440</td>\n    </tr>\n    <tr>\n      <th>397559</th>\n      <td>10335</td>\n      <td>2024-01-01 10:00:43</td>\n      <td>194132</td>\n      <td>0.88</td>\n      <td>Hypodermic needle, single-use</td>\n      <td>1.0</td>\n      <td>1.10</td>\n      <td>1.10</td>\n      <td>0.00</td>\n      <td>1.10</td>\n      <td>...</td>\n      <td>FILE</td>\n      <td>N</td>\n      <td>H</td>\n      <td>2023-12-07 14:09:32</td>\n      <td>2023-12-09 09:52:28</td>\n      <td>2023-12-01</td>\n      <td>2023-12-10</td>\n      <td>None</td>\n      <td>None</td>\n      <td>None</td>\n    </tr>\n    <tr>\n      <th>...</th>\n      <td>...</td>\n      <td>...</td>\n      <td>...</td>\n      <td>...</td>\n      <td>...</td>\n      <td>...</td>\n      <td>...</td>\n      <td>...</td>\n      <td>...</td>\n      <td>...</td>\n      <td>...</td>\n      <td>...</td>\n      <td>...</td>\n      <td>...</td>\n      <td>...</td>\n      <td>...</td>\n      <td>...</td>\n      <td>...</td>\n      <td>...</td>\n      <td>...</td>\n      <td>...</td>\n    </tr>\n    <tr>\n      <th>388637</th>\n      <td>9643</td>\n      <td>2024-04-30 12:13:09</td>\n      <td>238137</td>\n      <td>50.57</td>\n      <td>Peripheral intravenous cannula</td>\n      <td>1.0</td>\n      <td>64.50</td>\n      <td>64.50</td>\n      <td>9.03</td>\n      <td>55.47</td>\n      <td>...</td>\n      <td>FILE</td>\n      <td>N</td>\n      <td>H</td>\n      <td>2024-04-05 00:00:00</td>\n      <td>2024-04-19 00:00:00</td>\n      <td>2024-04-01</td>\n      <td>2024-04-10</td>\n      <td>1_150587-17</td>\n      <td>N23</td>\n      <td>1_10169499</td>\n    </tr>\n    <tr>\n      <th>388638</th>\n      <td>9643</td>\n      <td>2024-04-30 12:13:09</td>\n      <td>238137</td>\n      <td>555.18</td>\n      <td>Ultrasound of pelvis</td>\n      <td>1.0</td>\n      <td>689.80</td>\n      <td>689.80</td>\n      <td>0.75</td>\n      <td>689.05</td>\n      <td>...</td>\n      <td>FILE</td>\n      <td>N</td>\n      <td>H</td>\n      <td>2024-04-05 00:00:00</td>\n      <td>2024-04-19 00:00:00</td>\n      <td>2024-04-01</td>\n      <td>2024-04-10</td>\n      <td>1_150587-17</td>\n      <td>N23</td>\n      <td>1_10169499</td>\n    </tr>\n    <tr>\n      <th>388639</th>\n      <td>9643</td>\n      <td>2024-04-30 12:13:09</td>\n      <td>238137</td>\n      <td>45.65</td>\n      <td>Urinalysis Test</td>\n      <td>1.0</td>\n      <td>58.23</td>\n      <td>58.23</td>\n      <td>8.15</td>\n      <td>50.08</td>\n      <td>...</td>\n      <td>FILE</td>\n      <td>N</td>\n      <td>H</td>\n      <td>2024-04-05 00:00:00</td>\n      <td>2024-04-19 00:00:00</td>\n      <td>2024-04-01</td>\n      <td>2024-04-10</td>\n      <td>1_150587-17</td>\n      <td>N23</td>\n      <td>1_10169499</td>\n    </tr>\n    <tr>\n      <th>388640</th>\n      <td>9643</td>\n      <td>2024-04-30 12:13:09</td>\n      <td>238137</td>\n      <td>4.67</td>\n      <td>PANADREX 500 MG 24 TAB</td>\n      <td>24.0</td>\n      <td>5.05</td>\n      <td>5.05</td>\n      <td>0.93</td>\n      <td>4.12</td>\n      <td>...</td>\n      <td>FILE</td>\n      <td>N</td>\n      <td>H</td>\n      <td>2024-04-05 00:00:00</td>\n      <td>2024-04-19 00:00:00</td>\n      <td>2024-04-01</td>\n      <td>2024-04-10</td>\n      <td>1_150587-17</td>\n      <td>N23</td>\n      <td>1_10169499</td>\n    </tr>\n    <tr>\n      <th>388641</th>\n      <td>9643</td>\n      <td>2024-04-30 12:13:09</td>\n      <td>238137</td>\n      <td>21.38</td>\n      <td>NORMAL SALINE 500ML PB</td>\n      <td>1.0</td>\n      <td>23.10</td>\n      <td>23.10</td>\n      <td>4.27</td>\n      <td>18.83</td>\n      <td>...</td>\n      <td>FILE</td>\n      <td>N</td>\n      <td>H</td>\n      <td>2024-04-05 00:00:00</td>\n      <td>2024-04-19 00:00:00</td>\n      <td>2024-04-01</td>\n      <td>2024-04-10</td>\n      <td>1_150587-17</td>\n      <td>N23</td>\n      <td>1_10169499</td>\n    </tr>\n  </tbody>\n</table>\n<p>352669 rows × 96 columns</p>\n</div>"
     },
     "execution_count": 3,
     "metadata": {},
     "output_type": "execute_result"
    }
   ],
   "source": [
    "df"
   ],
   "metadata": {
    "collapsed": false,
    "ExecuteTime": {
     "end_time": "2024-08-04T09:42:34.238692900Z",
     "start_time": "2024-08-04T09:42:33.585953800Z"
    }
   }
  },
  {
   "cell_type": "markdown",
   "source": [
    "# Rejection Reason Notes Codes Analysis"
   ],
   "metadata": {
    "collapsed": false
   }
  },
  {
   "cell_type": "code",
   "execution_count": 4,
   "outputs": [
    {
     "name": "stdout",
     "output_type": "stream",
     "text": [
      "\n"
     ]
    }
   ],
   "source": [
    "'''\n",
    "class RejectionReasonLabeling:\n",
    "    def __init__(self, df):\n",
    "        self.df = df\n",
    "        self.df['NPHIES_CODE'] = None\n",
    "\n",
    "    def check_doctor_code(self):\n",
    "        df = self.df\n",
    "\n",
    "        label_technical = []\n",
    "        for visit_id in set(df['VISIT_ID']):\n",
    "            df_visit = df[df['VISIT_ID']==visit_id]\n",
    "            if len(df_visit['DOCTOR_CODE'].value_counts())!=1:\n",
    "                technical_issue = ['DOCTOR_CODE']* len(df_visit)\n",
    "            else:\n",
    "                technical_issue = [None]* len(df_visit)\n",
    "            label_technical = label_technical + technical_issue\n",
    "        df['TECHNICAL_ISSUE'] = label_technical\n",
    "\n",
    "        return df\n",
    "'''\n",
    "print()"
   ],
   "metadata": {
    "collapsed": false,
    "ExecuteTime": {
     "end_time": "2024-08-04T09:42:34.291604500Z",
     "start_time": "2024-08-04T09:42:34.129068200Z"
    }
   }
  },
  {
   "cell_type": "code",
   "execution_count": 5,
   "outputs": [],
   "source": [
    "label_technical = RejectionReasonLabeling(df)\n",
    "df = label_technical.recoginze_label()"
   ],
   "metadata": {
    "collapsed": false,
    "ExecuteTime": {
     "end_time": "2024-08-04T09:42:41.006875900Z",
     "start_time": "2024-08-04T09:42:34.238692900Z"
    }
   }
  },
  {
   "cell_type": "code",
   "execution_count": null,
   "outputs": [],
   "source": [
    "## CV-x-x problems are related to the provider contract mainly, which can't be a part of our predictive analytics"
   ],
   "metadata": {
    "collapsed": false
   }
  },
  {
   "cell_type": "code",
   "execution_count": 6,
   "outputs": [
    {
     "data": {
      "text/plain": "                                      SERVICE_DESCRIPTION   ICD10\n397397                               DERMATIN SOLUTION 1%     H60\n397398                     DEXAFLOX OPHTHALMIC SUSPENSION     H60\n397468                   OPTIDEX-T STERILE OPHTALMIC SUSP   H00.1\n397606             PARACETOL 10 MG/ML 100 ML BOTTLE (PSI)   H66.9\n397541           PANADOL ADVANCE 500MG FILM COATED TABLET   H66.9\n...                                                   ...     ...\n388372                                            RIAZOLE  Z39.00\n388376                                                CRP   P51.9\n388377  Automated complete Blood cell  and differentia...   P51.9\n388378                             AVOBAN 2% W-W OINTMENT   P51.9\n388626                               RINA 0.5 MG/ML SYRUP   R50.9\n\n[17806 rows x 2 columns]",
      "text/html": "<div>\n<style scoped>\n    .dataframe tbody tr th:only-of-type {\n        vertical-align: middle;\n    }\n\n    .dataframe tbody tr th {\n        vertical-align: top;\n    }\n\n    .dataframe thead th {\n        text-align: right;\n    }\n</style>\n<table border=\"1\" class=\"dataframe\">\n  <thead>\n    <tr style=\"text-align: right;\">\n      <th></th>\n      <th>SERVICE_DESCRIPTION</th>\n      <th>ICD10</th>\n    </tr>\n  </thead>\n  <tbody>\n    <tr>\n      <th>397397</th>\n      <td>DERMATIN SOLUTION 1%</td>\n      <td>H60</td>\n    </tr>\n    <tr>\n      <th>397398</th>\n      <td>DEXAFLOX OPHTHALMIC SUSPENSION</td>\n      <td>H60</td>\n    </tr>\n    <tr>\n      <th>397468</th>\n      <td>OPTIDEX-T STERILE OPHTALMIC SUSP</td>\n      <td>H00.1</td>\n    </tr>\n    <tr>\n      <th>397606</th>\n      <td>PARACETOL 10 MG/ML 100 ML BOTTLE (PSI)</td>\n      <td>H66.9</td>\n    </tr>\n    <tr>\n      <th>397541</th>\n      <td>PANADOL ADVANCE 500MG FILM COATED TABLET</td>\n      <td>H66.9</td>\n    </tr>\n    <tr>\n      <th>...</th>\n      <td>...</td>\n      <td>...</td>\n    </tr>\n    <tr>\n      <th>388372</th>\n      <td>RIAZOLE</td>\n      <td>Z39.00</td>\n    </tr>\n    <tr>\n      <th>388376</th>\n      <td>CRP</td>\n      <td>P51.9</td>\n    </tr>\n    <tr>\n      <th>388377</th>\n      <td>Automated complete Blood cell  and differentia...</td>\n      <td>P51.9</td>\n    </tr>\n    <tr>\n      <th>388378</th>\n      <td>AVOBAN 2% W-W OINTMENT</td>\n      <td>P51.9</td>\n    </tr>\n    <tr>\n      <th>388626</th>\n      <td>RINA 0.5 MG/ML SYRUP</td>\n      <td>R50.9</td>\n    </tr>\n  </tbody>\n</table>\n<p>17806 rows × 2 columns</p>\n</div>"
     },
     "execution_count": 6,
     "metadata": {},
     "output_type": "execute_result"
    }
   ],
   "source": [
    "## MN-1-1 Service is not clinically justified based on clinical practice guideline (Service vs Diagnosis)\n",
    "df[df['NPHIES_CODE']=='MN-1-1'][['SERVICE_DESCRIPTION','ICD10']]\n",
    "## DERMATIN SOLUTION with ICD10 (H60) indicating Otitis externa ( Drug is incompatible with icd10 ).\n",
    "## DERMATIN for foot itches, and otitis externa could be treated with hydrocortisone 3 drops to the affected ear daily they are two different things."
   ],
   "metadata": {
    "collapsed": false,
    "ExecuteTime": {
     "end_time": "2024-08-04T09:42:44.118424Z",
     "start_time": "2024-08-04T09:42:43.996289600Z"
    }
   }
  },
  {
   "cell_type": "code",
   "execution_count": 97,
   "outputs": [
    {
     "data": {
      "text/plain": "                       SERVICE_DESCRIPTION  PATIENT_NO  PATIENT_ID  \\\n400859    Radiography of teeth, full mouth      876090     1020440   \n401581    Radiography of teeth, full mouth     1182339     1345812   \n402709    Radiography of teeth, full mouth      124165       51877   \n400522    Radiography of teeth, full mouth     1014161     1167940   \n400537    Radiography of teeth, full mouth     1044181     1199407   \n...                                    ...         ...         ...   \n325911              LAMICTAL 100 MG 30 TAB      137825      176890   \n325914                       OLFEN PATCHES      137825      176890   \n325912              NEXIUM 20MG TAB BOX/28      137825      176890   \n339352  M-mode   2D real time u/s of heart     1196636     1361172   \n342915        Spr ang CT other site w IVCM     1198817     1363477   \n\n       MEMBERSHIP_NO  PATIENT_ID_TYPE PATIENT_NATIONAL_IQAMA_ID PATIENT_DOB  \\\n400859       1079611              1.0                1195216146  1996-10-16   \n401581       5291507              1.0                1084294865  1989-02-27   \n402709       1417318              1.0                1003238548  1948-05-09   \n400522        635153              2.0                2037303993  1983-10-27   \n400537        635156              2.0                2223614682  2005-07-17   \n...              ...              ...                       ...         ...   \n325911      54925667              1.0                1009343847  1973-07-30   \n325914      54925667              1.0                1009343847  1973-07-30   \n325912      54925667              1.0                1009343847  1973-07-30   \n339352       6755132              2.0                2008467603  1955-07-01   \n342915      34434468              2.0                2253503789  1971-01-01   \n\n       PATIENT_NATIONALITY PATIENT_MARITAL_STATUS PATIENT_GENDER  \\\n400859       SAUDI ARABIAN                      S              F   \n401581       SAUDI ARABIAN                      M              F   \n402709       SAUDI ARABIAN                      M              M   \n400522              YEMENI                      M              M   \n400537              YEMENI                      S              M   \n...                    ...                    ...            ...   \n325911       SAUDI ARABIAN                      M              M   \n325914       SAUDI ARABIAN                      M              M   \n325912       SAUDI ARABIAN                      M              M   \n339352            SUDANESE                      M              M   \n342915           PAKESTANI                      M              M   \n\n        PATIENT_MOBILE_NO PATIENT_BADGE_NO  HIS_INSURANCE_CODE  \\\n400859          551444436          1079611                 275   \n401581          566102603          5291507                 275   \n402709          555644665          1417318                 275   \n400522          500211499           635153                 275   \n400537          500211499           635156                 275   \n...                   ...              ...                 ...   \n325911          503627060         54925667                2622   \n325914          503627060         54925667                2622   \n325912          503627060         54925667                2622   \n339352          507439462          6755132                 183   \n342915          555682667         34434468                 183   \n\n       POLICY_HOLDER_NO  \n400859       1116797745  \n401581     GRH/15163579  \n402709         14888432  \n400522   GRH/15218233-0  \n400537       2037303993  \n...                 ...  \n325911       2230000326  \n325914       2230000326  \n325912       2230000326  \n339352        185182033  \n342915         49810500  \n\n[10042 rows x 14 columns]",
      "text/html": "<div>\n<style scoped>\n    .dataframe tbody tr th:only-of-type {\n        vertical-align: middle;\n    }\n\n    .dataframe tbody tr th {\n        vertical-align: top;\n    }\n\n    .dataframe thead th {\n        text-align: right;\n    }\n</style>\n<table border=\"1\" class=\"dataframe\">\n  <thead>\n    <tr style=\"text-align: right;\">\n      <th></th>\n      <th>SERVICE_DESCRIPTION</th>\n      <th>PATIENT_NO</th>\n      <th>PATIENT_ID</th>\n      <th>MEMBERSHIP_NO</th>\n      <th>PATIENT_ID_TYPE</th>\n      <th>PATIENT_NATIONAL_IQAMA_ID</th>\n      <th>PATIENT_DOB</th>\n      <th>PATIENT_NATIONALITY</th>\n      <th>PATIENT_MARITAL_STATUS</th>\n      <th>PATIENT_GENDER</th>\n      <th>PATIENT_MOBILE_NO</th>\n      <th>PATIENT_BADGE_NO</th>\n      <th>HIS_INSURANCE_CODE</th>\n      <th>POLICY_HOLDER_NO</th>\n    </tr>\n  </thead>\n  <tbody>\n    <tr>\n      <th>400859</th>\n      <td>Radiography of teeth, full mouth</td>\n      <td>876090</td>\n      <td>1020440</td>\n      <td>1079611</td>\n      <td>1.0</td>\n      <td>1195216146</td>\n      <td>1996-10-16</td>\n      <td>SAUDI ARABIAN</td>\n      <td>S</td>\n      <td>F</td>\n      <td>551444436</td>\n      <td>1079611</td>\n      <td>275</td>\n      <td>1116797745</td>\n    </tr>\n    <tr>\n      <th>401581</th>\n      <td>Radiography of teeth, full mouth</td>\n      <td>1182339</td>\n      <td>1345812</td>\n      <td>5291507</td>\n      <td>1.0</td>\n      <td>1084294865</td>\n      <td>1989-02-27</td>\n      <td>SAUDI ARABIAN</td>\n      <td>M</td>\n      <td>F</td>\n      <td>566102603</td>\n      <td>5291507</td>\n      <td>275</td>\n      <td>GRH/15163579</td>\n    </tr>\n    <tr>\n      <th>402709</th>\n      <td>Radiography of teeth, full mouth</td>\n      <td>124165</td>\n      <td>51877</td>\n      <td>1417318</td>\n      <td>1.0</td>\n      <td>1003238548</td>\n      <td>1948-05-09</td>\n      <td>SAUDI ARABIAN</td>\n      <td>M</td>\n      <td>M</td>\n      <td>555644665</td>\n      <td>1417318</td>\n      <td>275</td>\n      <td>14888432</td>\n    </tr>\n    <tr>\n      <th>400522</th>\n      <td>Radiography of teeth, full mouth</td>\n      <td>1014161</td>\n      <td>1167940</td>\n      <td>635153</td>\n      <td>2.0</td>\n      <td>2037303993</td>\n      <td>1983-10-27</td>\n      <td>YEMENI</td>\n      <td>M</td>\n      <td>M</td>\n      <td>500211499</td>\n      <td>635153</td>\n      <td>275</td>\n      <td>GRH/15218233-0</td>\n    </tr>\n    <tr>\n      <th>400537</th>\n      <td>Radiography of teeth, full mouth</td>\n      <td>1044181</td>\n      <td>1199407</td>\n      <td>635156</td>\n      <td>2.0</td>\n      <td>2223614682</td>\n      <td>2005-07-17</td>\n      <td>YEMENI</td>\n      <td>S</td>\n      <td>M</td>\n      <td>500211499</td>\n      <td>635156</td>\n      <td>275</td>\n      <td>2037303993</td>\n    </tr>\n    <tr>\n      <th>...</th>\n      <td>...</td>\n      <td>...</td>\n      <td>...</td>\n      <td>...</td>\n      <td>...</td>\n      <td>...</td>\n      <td>...</td>\n      <td>...</td>\n      <td>...</td>\n      <td>...</td>\n      <td>...</td>\n      <td>...</td>\n      <td>...</td>\n      <td>...</td>\n    </tr>\n    <tr>\n      <th>325911</th>\n      <td>LAMICTAL 100 MG 30 TAB</td>\n      <td>137825</td>\n      <td>176890</td>\n      <td>54925667</td>\n      <td>1.0</td>\n      <td>1009343847</td>\n      <td>1973-07-30</td>\n      <td>SAUDI ARABIAN</td>\n      <td>M</td>\n      <td>M</td>\n      <td>503627060</td>\n      <td>54925667</td>\n      <td>2622</td>\n      <td>2230000326</td>\n    </tr>\n    <tr>\n      <th>325914</th>\n      <td>OLFEN PATCHES</td>\n      <td>137825</td>\n      <td>176890</td>\n      <td>54925667</td>\n      <td>1.0</td>\n      <td>1009343847</td>\n      <td>1973-07-30</td>\n      <td>SAUDI ARABIAN</td>\n      <td>M</td>\n      <td>M</td>\n      <td>503627060</td>\n      <td>54925667</td>\n      <td>2622</td>\n      <td>2230000326</td>\n    </tr>\n    <tr>\n      <th>325912</th>\n      <td>NEXIUM 20MG TAB BOX/28</td>\n      <td>137825</td>\n      <td>176890</td>\n      <td>54925667</td>\n      <td>1.0</td>\n      <td>1009343847</td>\n      <td>1973-07-30</td>\n      <td>SAUDI ARABIAN</td>\n      <td>M</td>\n      <td>M</td>\n      <td>503627060</td>\n      <td>54925667</td>\n      <td>2622</td>\n      <td>2230000326</td>\n    </tr>\n    <tr>\n      <th>339352</th>\n      <td>M-mode   2D real time u/s of heart</td>\n      <td>1196636</td>\n      <td>1361172</td>\n      <td>6755132</td>\n      <td>2.0</td>\n      <td>2008467603</td>\n      <td>1955-07-01</td>\n      <td>SUDANESE</td>\n      <td>M</td>\n      <td>M</td>\n      <td>507439462</td>\n      <td>6755132</td>\n      <td>183</td>\n      <td>185182033</td>\n    </tr>\n    <tr>\n      <th>342915</th>\n      <td>Spr ang CT other site w IVCM</td>\n      <td>1198817</td>\n      <td>1363477</td>\n      <td>34434468</td>\n      <td>2.0</td>\n      <td>2253503789</td>\n      <td>1971-01-01</td>\n      <td>PAKESTANI</td>\n      <td>M</td>\n      <td>M</td>\n      <td>555682667</td>\n      <td>34434468</td>\n      <td>183</td>\n      <td>49810500</td>\n    </tr>\n  </tbody>\n</table>\n<p>10042 rows × 14 columns</p>\n</div>"
     },
     "execution_count": 97,
     "metadata": {},
     "output_type": "execute_result"
    }
   ],
   "source": [
    "## SE-1-6: Investigation result is inadequate or missing\n",
    "df[df['NPHIES_CODE']=='SE-1-6'][['SERVICE_DESCRIPTION','PATIENT_NO', 'PATIENT_ID', 'MEMBERSHIP_NO', 'PATIENT_ID_TYPE', 'PATIENT_NATIONAL_IQAMA_ID', 'PATIENT_DOB', 'PATIENT_NATIONALITY',  'PATIENT_MARITAL_STATUS', 'PATIENT_GENDER', 'PATIENT_MOBILE_NO',   'PATIENT_BADGE_NO', 'HIS_INSURANCE_CODE', 'POLICY_HOLDER_NO']]"
   ],
   "metadata": {
    "collapsed": false,
    "ExecuteTime": {
     "end_time": "2024-08-02T16:22:35.145232Z",
     "start_time": "2024-08-02T16:22:35.092374200Z"
    }
   }
  },
  {
   "cell_type": "code",
   "execution_count": 100,
   "outputs": [
    {
     "data": {
      "text/plain": "        QTY  LINE_CLAIMED_AMOUNT  LINE_CLAIMED_AMOUNT_SAR  CO_PAY  \\\n404193  1.0                750.0                    750.0     0.0   \n404200  1.0                135.0                    135.0     0.0   \n403452  2.0                 16.0                     16.0     0.0   \n403475  2.0               1160.0                   1160.0     0.0   \n404226  1.0                  5.4                      5.4     0.0   \n...     ...                  ...                      ...     ...   \n229082  2.0               3380.0                   3380.0     0.0   \n229083  1.0                810.0                    810.0     0.0   \n229446  2.0               2070.0                   2070.0     0.0   \n229444  1.0               1820.0                   1820.0     0.0   \n229081  1.0               1555.0                   1555.0     0.0   \n\n        CO_INSURANCE  LINE_ITEM_DISCOUNT  NET_AMOUNT  NET_VAT_AMOUNT  \n404193         750.0                0.00      750.00          112.50  \n404200         135.0               33.75      101.25           15.19  \n403452          16.0                0.80       15.20            0.00  \n403475        1160.0              290.00      870.00          130.50  \n404226           5.4                1.35        4.05            0.00  \n...              ...                 ...         ...             ...  \n229082        3380.0                0.00     3380.00          507.00  \n229083         810.0              202.50      607.50           91.13  \n229446        2070.0                0.00     2070.00          310.50  \n229444        1820.0                0.00     1820.00          273.00  \n229081        1555.0              388.75     1166.25          174.94  \n\n[3108 rows x 8 columns]",
      "text/html": "<div>\n<style scoped>\n    .dataframe tbody tr th:only-of-type {\n        vertical-align: middle;\n    }\n\n    .dataframe tbody tr th {\n        vertical-align: top;\n    }\n\n    .dataframe thead th {\n        text-align: right;\n    }\n</style>\n<table border=\"1\" class=\"dataframe\">\n  <thead>\n    <tr style=\"text-align: right;\">\n      <th></th>\n      <th>QTY</th>\n      <th>LINE_CLAIMED_AMOUNT</th>\n      <th>LINE_CLAIMED_AMOUNT_SAR</th>\n      <th>CO_PAY</th>\n      <th>CO_INSURANCE</th>\n      <th>LINE_ITEM_DISCOUNT</th>\n      <th>NET_AMOUNT</th>\n      <th>NET_VAT_AMOUNT</th>\n    </tr>\n  </thead>\n  <tbody>\n    <tr>\n      <th>404193</th>\n      <td>1.0</td>\n      <td>750.0</td>\n      <td>750.0</td>\n      <td>0.0</td>\n      <td>750.0</td>\n      <td>0.00</td>\n      <td>750.00</td>\n      <td>112.50</td>\n    </tr>\n    <tr>\n      <th>404200</th>\n      <td>1.0</td>\n      <td>135.0</td>\n      <td>135.0</td>\n      <td>0.0</td>\n      <td>135.0</td>\n      <td>33.75</td>\n      <td>101.25</td>\n      <td>15.19</td>\n    </tr>\n    <tr>\n      <th>403452</th>\n      <td>2.0</td>\n      <td>16.0</td>\n      <td>16.0</td>\n      <td>0.0</td>\n      <td>16.0</td>\n      <td>0.80</td>\n      <td>15.20</td>\n      <td>0.00</td>\n    </tr>\n    <tr>\n      <th>403475</th>\n      <td>2.0</td>\n      <td>1160.0</td>\n      <td>1160.0</td>\n      <td>0.0</td>\n      <td>1160.0</td>\n      <td>290.00</td>\n      <td>870.00</td>\n      <td>130.50</td>\n    </tr>\n    <tr>\n      <th>404226</th>\n      <td>1.0</td>\n      <td>5.4</td>\n      <td>5.4</td>\n      <td>0.0</td>\n      <td>5.4</td>\n      <td>1.35</td>\n      <td>4.05</td>\n      <td>0.00</td>\n    </tr>\n    <tr>\n      <th>...</th>\n      <td>...</td>\n      <td>...</td>\n      <td>...</td>\n      <td>...</td>\n      <td>...</td>\n      <td>...</td>\n      <td>...</td>\n      <td>...</td>\n    </tr>\n    <tr>\n      <th>229082</th>\n      <td>2.0</td>\n      <td>3380.0</td>\n      <td>3380.0</td>\n      <td>0.0</td>\n      <td>3380.0</td>\n      <td>0.00</td>\n      <td>3380.00</td>\n      <td>507.00</td>\n    </tr>\n    <tr>\n      <th>229083</th>\n      <td>1.0</td>\n      <td>810.0</td>\n      <td>810.0</td>\n      <td>0.0</td>\n      <td>810.0</td>\n      <td>202.50</td>\n      <td>607.50</td>\n      <td>91.13</td>\n    </tr>\n    <tr>\n      <th>229446</th>\n      <td>2.0</td>\n      <td>2070.0</td>\n      <td>2070.0</td>\n      <td>0.0</td>\n      <td>2070.0</td>\n      <td>0.00</td>\n      <td>2070.00</td>\n      <td>310.50</td>\n    </tr>\n    <tr>\n      <th>229444</th>\n      <td>1.0</td>\n      <td>1820.0</td>\n      <td>1820.0</td>\n      <td>0.0</td>\n      <td>1820.0</td>\n      <td>0.00</td>\n      <td>1820.00</td>\n      <td>273.00</td>\n    </tr>\n    <tr>\n      <th>229081</th>\n      <td>1.0</td>\n      <td>1555.0</td>\n      <td>1555.0</td>\n      <td>0.0</td>\n      <td>1555.0</td>\n      <td>388.75</td>\n      <td>1166.25</td>\n      <td>174.94</td>\n    </tr>\n  </tbody>\n</table>\n<p>3108 rows × 8 columns</p>\n</div>"
     },
     "execution_count": 100,
     "metadata": {},
     "output_type": "execute_result"
    }
   ],
   "source": [
    "## SE-1-8,9: Treatment plan is inadequate or missing, Quantity of service/procedure is inappropriate or missing\n",
    "df[df['NPHIES_CODE'].isin(['SE-1-9','SE-1-8'])][['QTY', 'LINE_CLAIMED_AMOUNT', 'LINE_CLAIMED_AMOUNT_SAR', 'CO_PAY', 'CO_INSURANCE', 'LINE_ITEM_DISCOUNT', 'NET_AMOUNT', 'NET_VAT_AMOUNT']]\n",
    "## some items quantities are way too many"
   ],
   "metadata": {
    "collapsed": false,
    "ExecuteTime": {
     "end_time": "2024-08-02T16:28:11.923584900Z",
     "start_time": "2024-08-02T16:28:11.856457100Z"
    }
   }
  },
  {
   "cell_type": "code",
   "execution_count": 103,
   "outputs": [
    {
     "data": {
      "text/plain": "         QTY  CO_PAY  CO_INSURANCE  LINE_ITEM_DISCOUNT  NET_AMOUNT\n407021   7.0   13.02        108.29                6.07      102.22\n477325  14.0    8.47         36.13                2.23       33.90\n407392   1.0    0.00        180.00                0.00      180.00\n407384   1.0    0.00        269.00               67.25      201.75\n407399  90.0    0.00          6.35                0.32        6.03\n...      ...     ...           ...                 ...         ...\n387799   1.0   16.30        100.15               34.94       65.21\n388099   1.0    3.76         23.11                8.06       15.05\n388366   1.0    8.15         50.08               17.47       32.61\n388367   1.0    8.15         50.08               17.47       32.61\n388370   1.0    0.00         26.88                8.06       18.82\n\n[7177 rows x 5 columns]",
      "text/html": "<div>\n<style scoped>\n    .dataframe tbody tr th:only-of-type {\n        vertical-align: middle;\n    }\n\n    .dataframe tbody tr th {\n        vertical-align: top;\n    }\n\n    .dataframe thead th {\n        text-align: right;\n    }\n</style>\n<table border=\"1\" class=\"dataframe\">\n  <thead>\n    <tr style=\"text-align: right;\">\n      <th></th>\n      <th>QTY</th>\n      <th>CO_PAY</th>\n      <th>CO_INSURANCE</th>\n      <th>LINE_ITEM_DISCOUNT</th>\n      <th>NET_AMOUNT</th>\n    </tr>\n  </thead>\n  <tbody>\n    <tr>\n      <th>407021</th>\n      <td>7.0</td>\n      <td>13.02</td>\n      <td>108.29</td>\n      <td>6.07</td>\n      <td>102.22</td>\n    </tr>\n    <tr>\n      <th>477325</th>\n      <td>14.0</td>\n      <td>8.47</td>\n      <td>36.13</td>\n      <td>2.23</td>\n      <td>33.90</td>\n    </tr>\n    <tr>\n      <th>407392</th>\n      <td>1.0</td>\n      <td>0.00</td>\n      <td>180.00</td>\n      <td>0.00</td>\n      <td>180.00</td>\n    </tr>\n    <tr>\n      <th>407384</th>\n      <td>1.0</td>\n      <td>0.00</td>\n      <td>269.00</td>\n      <td>67.25</td>\n      <td>201.75</td>\n    </tr>\n    <tr>\n      <th>407399</th>\n      <td>90.0</td>\n      <td>0.00</td>\n      <td>6.35</td>\n      <td>0.32</td>\n      <td>6.03</td>\n    </tr>\n    <tr>\n      <th>...</th>\n      <td>...</td>\n      <td>...</td>\n      <td>...</td>\n      <td>...</td>\n      <td>...</td>\n    </tr>\n    <tr>\n      <th>387799</th>\n      <td>1.0</td>\n      <td>16.30</td>\n      <td>100.15</td>\n      <td>34.94</td>\n      <td>65.21</td>\n    </tr>\n    <tr>\n      <th>388099</th>\n      <td>1.0</td>\n      <td>3.76</td>\n      <td>23.11</td>\n      <td>8.06</td>\n      <td>15.05</td>\n    </tr>\n    <tr>\n      <th>388366</th>\n      <td>1.0</td>\n      <td>8.15</td>\n      <td>50.08</td>\n      <td>17.47</td>\n      <td>32.61</td>\n    </tr>\n    <tr>\n      <th>388367</th>\n      <td>1.0</td>\n      <td>8.15</td>\n      <td>50.08</td>\n      <td>17.47</td>\n      <td>32.61</td>\n    </tr>\n    <tr>\n      <th>388370</th>\n      <td>1.0</td>\n      <td>0.00</td>\n      <td>26.88</td>\n      <td>8.06</td>\n      <td>18.82</td>\n    </tr>\n  </tbody>\n</table>\n<p>7177 rows × 5 columns</p>\n</div>"
     },
     "execution_count": 103,
     "metadata": {},
     "output_type": "execute_result"
    }
   ],
   "source": [
    "## BE-1-1 : Co-pay was not collected from member\n",
    "df[df['NPHIES_CODE'].isin(['BE-1-1'])][['QTY', 'CO_PAY', 'CO_INSURANCE', 'LINE_ITEM_DISCOUNT', 'NET_AMOUNT']]\n",
    "## Most of CO_PAY values are zeros. (MOST)"
   ],
   "metadata": {
    "collapsed": false,
    "ExecuteTime": {
     "end_time": "2024-08-02T16:31:07.537498500Z",
     "start_time": "2024-08-02T16:31:07.464666400Z"
    }
   }
  },
  {
   "cell_type": "code",
   "execution_count": 111,
   "outputs": [
    {
     "data": {
      "text/plain": "array(['E.N.T. SERVICES - انف واذن وحنجرة',\n       'ORTHOPAEDIC SERVICE - العظام', 'NEUROLOGY SERVICES مخ واعصاب',\n       'PULMONARY SERVICES - الصدرية', 'OPHTHALMIC SERVICES  - العيون',\n       'OBSTERTRIC/GYNEACOLOGIC SERVIC - نساء و ولادة',\n       'INTERNAL MEDICINE - الباطنة', 'EMERGENCY ROOM SERVICES - طوارى',\n       'DENTAL SERVICES - اسنان',\n       'DERMATOLOGY & VENEREOLOGY SERV - جلدية',\n       'PAEDIATRIC SERVICES - الاطفال', 'UROLOGY SERVICES -المسالك',\n       'CARDIOLOGY SERVICES - القلب', 'NEURO SURGERY - جراحة مخ واعصاب',\n       'PLASTIC SURGERY - التجميل',\n       'GENERAL SURGERY SERVICES - جراحة عامة',\n       'INTENSIVE CARE SERVICES - العناية المركزة',\n       'RADIOGRAPHIC INVESTIGATIONS - الأشعة', 'SCREENING DEPARTMENT',\n       'MAXILLOFACIAL SURGERY'], dtype=object)"
     },
     "execution_count": 111,
     "metadata": {},
     "output_type": "execute_result"
    }
   ],
   "source": [
    "## BE-1-3: provider and the payer disagreement\n",
    "df2 = df[df['NPHIES_CODE'].isin(['BE-1-3'])][['PROVIDER_DEPARTMENT', 'HIS_INSURANCE_CODE']]\n",
    "df2[df2['HIS_INSURANCE_CODE']==1494].PROVIDER_DEPARTMENT.unique()"
   ],
   "metadata": {
    "collapsed": false,
    "ExecuteTime": {
     "end_time": "2024-08-02T16:56:20.167526700Z",
     "start_time": "2024-08-02T16:56:20.102472200Z"
    }
   }
  },
  {
   "cell_type": "code",
   "execution_count": 110,
   "outputs": [
    {
     "data": {
      "text/plain": "array(['E.N.T. SERVICES - انف واذن وحنجرة',\n       'ORTHOPAEDIC SERVICE - العظام', 'NEUROLOGY SERVICES مخ واعصاب',\n       'PULMONARY SERVICES - الصدرية', 'OPHTHALMIC SERVICES  - العيون',\n       'OBSTERTRIC/GYNEACOLOGIC SERVIC - نساء و ولادة',\n       'INTERNAL MEDICINE - الباطنة', 'EMERGENCY ROOM SERVICES - طوارى',\n       'DENTAL SERVICES - اسنان',\n       'DERMATOLOGY & VENEREOLOGY SERV - جلدية',\n       'PAEDIATRIC SERVICES - الاطفال', 'UROLOGY SERVICES -المسالك',\n       'CARDIOLOGY SERVICES - القلب', 'NEURO SURGERY - جراحة مخ واعصاب',\n       'PLASTIC SURGERY - التجميل',\n       'GENERAL SURGERY SERVICES - جراحة عامة',\n       'INTENSIVE CARE SERVICES - العناية المركزة',\n       'RADIOGRAPHIC INVESTIGATIONS - الأشعة', 'SCREENING DEPARTMENT',\n       'MAXILLOFACIAL SURGERY'], dtype=object)"
     },
     "execution_count": 110,
     "metadata": {},
     "output_type": "execute_result"
    }
   ],
   "source": [
    "df_2 = df[df['NPHIES_CODE'] != 'BE-1-3'][['PROVIDER_DEPARTMENT', 'HIS_INSURANCE_CODE']]\n",
    "df_2[df_2['HIS_INSURANCE_CODE']==1494].PROVIDER_DEPARTMENT.unique()\n",
    "## Notice that the same set of departments exists twice"
   ],
   "metadata": {
    "collapsed": false,
    "ExecuteTime": {
     "end_time": "2024-08-02T16:44:14.853141500Z",
     "start_time": "2024-08-02T16:44:14.564304600Z"
    }
   }
  },
  {
   "cell_type": "code",
   "execution_count": 112,
   "outputs": [
    {
     "data": {
      "text/plain": "Index(['CREATED_BY_USER', 'CREATION_DATE', 'VISIT_ID', 'NET_WITH_VAT',\n       'SERVICE_DESCRIPTION', 'QTY', 'LINE_CLAIMED_AMOUNT',\n       'LINE_CLAIMED_AMOUNT_SAR', 'CO_PAY', 'CO_INSURANCE',\n       'LINE_ITEM_DISCOUNT', 'NET_AMOUNT', 'NET_VAT_AMOUNT',\n       'PATIENT_VAT_AMOUNT', 'VAT_PERCENTAGE', 'TREATMENT_TYPE_INDICATOR',\n       'SERVICE_TYPE', 'DURATION', 'QTY_STOCKED_UOM', 'UNIT_PRICE',\n       'OASIS_IOS_DESCRIPTION', 'SEQUENCE_NO', 'UNIT_PRICE_STOCKED_UOM',\n       'UNIT_PRICE_NET', 'DISCOUNT_PERCENTAGE', 'NOTES', 'OUTCOME',\n       'APPROVED_QUNATITY', 'REQUEST_DATE', 'VISIT_NO', 'VISIT_DATE',\n       'EMERGENCY_INDICATOR', 'PROVIDER_DEPARTMENT_CODE',\n       'PROVIDER_DEPARTMENT', 'DOCTOR_SPECIALTY_CODE', 'DOCTOR_CODE',\n       'PATIENT_NO', 'EPISODE_NO', 'PATIENT_ID', 'MEMBERSHIP_NO',\n       'PATIENT_ID_TYPE', 'PATIENT_NATIONAL_IQAMA_ID', 'PATIENT_DOB',\n       'PATIENT_AGE', 'UNIT_OF_AGE', 'PATIENT_NATIONALITY',\n       'PATIENT_MARITAL_STATUS', 'PATIENT_GENDER', 'PATIENT_MOBILE_NO',\n       'PATIENT_BADGE_NO', 'HIS_INSURANCE_CODE', 'POLICY_HOLDER_NO',\n       'CLAIM_TYPE', 'BATCH_NO', 'TOTAL_CLAIMED_AMOUNT',\n       'TOTAL_CLAIMED_AMOUNT_SAR', 'TOTAL_NET_AMOUNT', 'TOTAL_DISCOUNT',\n       'TOTAL_DEDUCTIBLE', 'TOTAL_PATIENT_VATAMOUNT', 'TOTAL_NET_VAT_AMOUNT',\n       'CLAIM_NO', 'STAT_END_DATE', 'AMEND_BY_USER', 'AMEND_LAST_DATE',\n       'PAYER_LICENSE', 'DOCTOR_LICENSE', 'DEPARTMENT_TYPE', 'TREATMENT_TYPE',\n       'CLAIM_INVOICE_NO', 'STAT_INVOICE_NO', 'PURCHASER_CODE', 'STATUS',\n       'API_TRANS_ID', 'SUBMIT_CLAIM_OUTCOME', 'SUBMIT_CLAIM_MESSAGE',\n       'RES_STATUS', 'RES_CLAIM_ID', 'CONSULTATION_INVOICE_NO',\n       'TREATMENT_SUB_TYPE', 'ELIGIBILITY_RESPONSE_ID',\n       'ELIGIBILITY_RESPONSE_SYSTEM', 'CONTRACT_NO',\n       'ELIGIBILITY_API_TRANS_ID', 'CLAIM_IDENTIFIER', 'ATTACHED_FILES',\n       'ATTACHMENT_TYPE', 'NEW_BORN', 'PATIENT_IDENTITY_TYPE',\n       'BILLABLE_PERIOD_START', 'BILLABLE_PERIOD_END', 'BATCH_PERIOD_START',\n       'BATCH_PERIOD_END', 'Episode_Key', 'ICD10', 'Diagnosis_Key',\n       'NPHIES_CODE'],\n      dtype='object')"
     },
     "execution_count": 112,
     "metadata": {},
     "output_type": "execute_result"
    }
   ],
   "source": [
    "## BE-1-4: Preauthorization is required and was not obtained (Can't be modeled)\n",
    "## BE-1-6: Calculation discrepancy from contract (Can't be modeled)\n",
    "df.columns"
   ],
   "metadata": {
    "collapsed": false,
    "ExecuteTime": {
     "end_time": "2024-08-02T16:59:18.017283Z",
     "start_time": "2024-08-02T16:59:17.962442100Z"
    }
   }
  },
  {
   "cell_type": "code",
   "execution_count": 116,
   "outputs": [
    {
     "data": {
      "text/plain": "        PATIENT_ID_TYPE  TOTAL_DISCOUNT  TOTAL_NET_AMOUNT CLAIM_TYPE\n397551              1.0          2763.6          15488.38          I\n397548              1.0          2763.6          15488.38          I\n397549              1.0          2763.6          15488.38          I\n397550              1.0          2763.6          15488.38          I\n397559              1.0           298.6           2352.96          I\n...                 ...             ...               ...        ...\n388637              1.0           362.2            893.03          O\n388638              1.0           362.2            893.03          O\n388639              1.0           362.2            893.03          O\n388640              1.0           362.2            893.03          O\n388641              1.0           362.2            893.03          O\n\n[345510 rows x 4 columns]",
      "text/html": "<div>\n<style scoped>\n    .dataframe tbody tr th:only-of-type {\n        vertical-align: middle;\n    }\n\n    .dataframe tbody tr th {\n        vertical-align: top;\n    }\n\n    .dataframe thead th {\n        text-align: right;\n    }\n</style>\n<table border=\"1\" class=\"dataframe\">\n  <thead>\n    <tr style=\"text-align: right;\">\n      <th></th>\n      <th>PATIENT_ID_TYPE</th>\n      <th>TOTAL_DISCOUNT</th>\n      <th>TOTAL_NET_AMOUNT</th>\n      <th>CLAIM_TYPE</th>\n    </tr>\n  </thead>\n  <tbody>\n    <tr>\n      <th>397551</th>\n      <td>1.0</td>\n      <td>2763.6</td>\n      <td>15488.38</td>\n      <td>I</td>\n    </tr>\n    <tr>\n      <th>397548</th>\n      <td>1.0</td>\n      <td>2763.6</td>\n      <td>15488.38</td>\n      <td>I</td>\n    </tr>\n    <tr>\n      <th>397549</th>\n      <td>1.0</td>\n      <td>2763.6</td>\n      <td>15488.38</td>\n      <td>I</td>\n    </tr>\n    <tr>\n      <th>397550</th>\n      <td>1.0</td>\n      <td>2763.6</td>\n      <td>15488.38</td>\n      <td>I</td>\n    </tr>\n    <tr>\n      <th>397559</th>\n      <td>1.0</td>\n      <td>298.6</td>\n      <td>2352.96</td>\n      <td>I</td>\n    </tr>\n    <tr>\n      <th>...</th>\n      <td>...</td>\n      <td>...</td>\n      <td>...</td>\n      <td>...</td>\n    </tr>\n    <tr>\n      <th>388637</th>\n      <td>1.0</td>\n      <td>362.2</td>\n      <td>893.03</td>\n      <td>O</td>\n    </tr>\n    <tr>\n      <th>388638</th>\n      <td>1.0</td>\n      <td>362.2</td>\n      <td>893.03</td>\n      <td>O</td>\n    </tr>\n    <tr>\n      <th>388639</th>\n      <td>1.0</td>\n      <td>362.2</td>\n      <td>893.03</td>\n      <td>O</td>\n    </tr>\n    <tr>\n      <th>388640</th>\n      <td>1.0</td>\n      <td>362.2</td>\n      <td>893.03</td>\n      <td>O</td>\n    </tr>\n    <tr>\n      <th>388641</th>\n      <td>1.0</td>\n      <td>362.2</td>\n      <td>893.03</td>\n      <td>O</td>\n    </tr>\n  </tbody>\n</table>\n<p>345510 rows × 4 columns</p>\n</div>"
     },
     "execution_count": 116,
     "metadata": {},
     "output_type": "execute_result"
    }
   ],
   "source": [
    "## BE-1-7: Incorrect billing regime An inpatient claim is submitted as Fee for Service when it should be billed as DRG.\n",
    "df[df['NPHIES_CODE'] != 'BE-1-7'][['PATIENT_ID_TYPE','TOTAL_DISCOUNT','TOTAL_NET_AMOUNT', 'CLAIM_TYPE']]"
   ],
   "metadata": {
    "collapsed": false,
    "ExecuteTime": {
     "end_time": "2024-08-03T13:40:54.065922200Z",
     "start_time": "2024-08-03T13:40:53.764623300Z"
    }
   }
  },
  {
   "cell_type": "code",
   "execution_count": 10,
   "outputs": [
    {
     "data": {
      "text/plain": "             CREATION_DATE BATCH_PERIOD_START BATCH_PERIOD_END  \\\n419923 2024-01-02 16:25:59         2023-12-01       2023-12-31   \n419924 2024-01-02 16:25:59         2023-12-01       2023-12-31   \n419925 2024-01-02 16:25:59         2023-12-01       2023-12-31   \n419926 2024-01-02 16:25:59         2023-12-01       2023-12-31   \n419927 2024-01-02 16:25:59         2023-12-01       2023-12-31   \n...                    ...                ...              ...   \n339407 2024-04-14 16:39:49         2024-03-01       2024-03-31   \n340182 2024-04-14 16:46:09         2024-03-01       2024-03-31   \n340183 2024-04-14 16:46:10         2024-03-01       2024-03-31   \n396630 2024-04-14 16:46:11         2024-03-01       2024-03-31   \n340550 2024-04-14 16:46:13         2024-03-01       2024-03-31   \n\n                             SERVICE_DESCRIPTION  \n419923                            Dengue IgM/IgG  \n419924            FARCOLIN 0.5% RESPIRATOR SOLN.  \n419925                      OSELTA 75MG CAPSULES  \n419926                 Nebulizing system, heated  \n419927   Unsp admin of pharmac agent electrolyte  \n...                                          ...  \n339407    PARACETOL 10 MG/ML 100 ML BOTTLE (PSI)  \n340182                             Unlisted Code  \n340183  Quantitative Troponin (Protein) Analysis  \n396630              Radiography of chest, 1 view  \n340550                   ZENORIT 8 MG IM/IV VIAL  \n\n[1100 rows x 4 columns]",
      "text/html": "<div>\n<style scoped>\n    .dataframe tbody tr th:only-of-type {\n        vertical-align: middle;\n    }\n\n    .dataframe tbody tr th {\n        vertical-align: top;\n    }\n\n    .dataframe thead th {\n        text-align: right;\n    }\n</style>\n<table border=\"1\" class=\"dataframe\">\n  <thead>\n    <tr style=\"text-align: right;\">\n      <th></th>\n      <th>CREATION_DATE</th>\n      <th>BATCH_PERIOD_START</th>\n      <th>BATCH_PERIOD_END</th>\n      <th>SERVICE_DESCRIPTION</th>\n    </tr>\n  </thead>\n  <tbody>\n    <tr>\n      <th>419923</th>\n      <td>2024-01-02 16:25:59</td>\n      <td>2023-12-01</td>\n      <td>2023-12-31</td>\n      <td>Dengue IgM/IgG</td>\n    </tr>\n    <tr>\n      <th>419924</th>\n      <td>2024-01-02 16:25:59</td>\n      <td>2023-12-01</td>\n      <td>2023-12-31</td>\n      <td>FARCOLIN 0.5% RESPIRATOR SOLN.</td>\n    </tr>\n    <tr>\n      <th>419925</th>\n      <td>2024-01-02 16:25:59</td>\n      <td>2023-12-01</td>\n      <td>2023-12-31</td>\n      <td>OSELTA 75MG CAPSULES</td>\n    </tr>\n    <tr>\n      <th>419926</th>\n      <td>2024-01-02 16:25:59</td>\n      <td>2023-12-01</td>\n      <td>2023-12-31</td>\n      <td>Nebulizing system, heated</td>\n    </tr>\n    <tr>\n      <th>419927</th>\n      <td>2024-01-02 16:25:59</td>\n      <td>2023-12-01</td>\n      <td>2023-12-31</td>\n      <td>Unsp admin of pharmac agent electrolyte</td>\n    </tr>\n    <tr>\n      <th>...</th>\n      <td>...</td>\n      <td>...</td>\n      <td>...</td>\n      <td>...</td>\n    </tr>\n    <tr>\n      <th>339407</th>\n      <td>2024-04-14 16:39:49</td>\n      <td>2024-03-01</td>\n      <td>2024-03-31</td>\n      <td>PARACETOL 10 MG/ML 100 ML BOTTLE (PSI)</td>\n    </tr>\n    <tr>\n      <th>340182</th>\n      <td>2024-04-14 16:46:09</td>\n      <td>2024-03-01</td>\n      <td>2024-03-31</td>\n      <td>Unlisted Code</td>\n    </tr>\n    <tr>\n      <th>340183</th>\n      <td>2024-04-14 16:46:10</td>\n      <td>2024-03-01</td>\n      <td>2024-03-31</td>\n      <td>Quantitative Troponin (Protein) Analysis</td>\n    </tr>\n    <tr>\n      <th>396630</th>\n      <td>2024-04-14 16:46:11</td>\n      <td>2024-03-01</td>\n      <td>2024-03-31</td>\n      <td>Radiography of chest, 1 view</td>\n    </tr>\n    <tr>\n      <th>340550</th>\n      <td>2024-04-14 16:46:13</td>\n      <td>2024-03-01</td>\n      <td>2024-03-31</td>\n      <td>ZENORIT 8 MG IM/IV VIAL</td>\n    </tr>\n  </tbody>\n</table>\n<p>1100 rows × 4 columns</p>\n</div>"
     },
     "execution_count": 10,
     "metadata": {},
     "output_type": "execute_result"
    }
   ],
   "source": [
    "## AD-2-4, AD-2-6 : duplicated service or procedure in the same claim, missing the date of claim, and / or claim is submitted after 5 months of the date of service\n",
    "df[df['NPHIES_CODE'].isin([\"AD-2-5\",\"AD-2-6\"])][['CREATION_DATE','BATCH_PERIOD_START','BATCH_PERIOD_END', 'SERVICE_DESCRIPTION']]"
   ],
   "metadata": {
    "collapsed": false,
    "ExecuteTime": {
     "end_time": "2024-08-04T10:23:43.491220100Z",
     "start_time": "2024-08-04T10:23:43.471683200Z"
    }
   }
  },
  {
   "cell_type": "code",
   "execution_count": 12,
   "outputs": [
    {
     "data": {
      "text/plain": "             CREATION_DATE BATCH_PERIOD_START BATCH_PERIOD_END  \\\n420802 2024-01-02 19:50:02         2023-12-01       2023-12-31   \n420803 2024-01-02 19:50:02         2023-12-01       2023-12-31   \n420801 2024-01-02 19:50:02         2023-12-01       2023-12-31   \n414051 2024-01-03 17:40:06         2023-12-01       2023-12-31   \n414050 2024-01-03 17:40:06         2023-12-01       2023-12-31   \n...                    ...                ...              ...   \n291711 2024-04-06 05:54:25         2024-03-01       2024-03-31   \n291712 2024-04-06 05:54:25         2024-03-01       2024-03-31   \n291714 2024-04-06 05:54:25         2024-03-01       2024-03-31   \n291706 2024-04-06 05:54:25         2024-03-01       2024-03-31   \n292102 2024-04-06 05:54:25         2024-03-01       2024-03-31   \n\n                SERVICE_DESCRIPTION  \n420802        FLUCA OPTHALMIC SUSP.  \n420803      Consultant Consultation  \n420801            TOBRADEX EYE OINT  \n414051  SOCLAV 1 G/125 MG 16 SACHET  \n414050    SOLPADEINE SOLUBLE TABLET  \n...                             ...  \n291711    SALURIN 20MG-2ML AMPOULES  \n291712    SALURIN 20MG-2ML AMPOULES  \n291714     EPINOR 4 MG / 4 ML 5 AMP  \n291706      Unlisted Procedure Code  \n292102             SAMIXON 1GM VIAL  \n\n[735 rows x 4 columns]",
      "text/html": "<div>\n<style scoped>\n    .dataframe tbody tr th:only-of-type {\n        vertical-align: middle;\n    }\n\n    .dataframe tbody tr th {\n        vertical-align: top;\n    }\n\n    .dataframe thead th {\n        text-align: right;\n    }\n</style>\n<table border=\"1\" class=\"dataframe\">\n  <thead>\n    <tr style=\"text-align: right;\">\n      <th></th>\n      <th>CREATION_DATE</th>\n      <th>BATCH_PERIOD_START</th>\n      <th>BATCH_PERIOD_END</th>\n      <th>SERVICE_DESCRIPTION</th>\n    </tr>\n  </thead>\n  <tbody>\n    <tr>\n      <th>420802</th>\n      <td>2024-01-02 19:50:02</td>\n      <td>2023-12-01</td>\n      <td>2023-12-31</td>\n      <td>FLUCA OPTHALMIC SUSP.</td>\n    </tr>\n    <tr>\n      <th>420803</th>\n      <td>2024-01-02 19:50:02</td>\n      <td>2023-12-01</td>\n      <td>2023-12-31</td>\n      <td>Consultant Consultation</td>\n    </tr>\n    <tr>\n      <th>420801</th>\n      <td>2024-01-02 19:50:02</td>\n      <td>2023-12-01</td>\n      <td>2023-12-31</td>\n      <td>TOBRADEX EYE OINT</td>\n    </tr>\n    <tr>\n      <th>414051</th>\n      <td>2024-01-03 17:40:06</td>\n      <td>2023-12-01</td>\n      <td>2023-12-31</td>\n      <td>SOCLAV 1 G/125 MG 16 SACHET</td>\n    </tr>\n    <tr>\n      <th>414050</th>\n      <td>2024-01-03 17:40:06</td>\n      <td>2023-12-01</td>\n      <td>2023-12-31</td>\n      <td>SOLPADEINE SOLUBLE TABLET</td>\n    </tr>\n    <tr>\n      <th>...</th>\n      <td>...</td>\n      <td>...</td>\n      <td>...</td>\n      <td>...</td>\n    </tr>\n    <tr>\n      <th>291711</th>\n      <td>2024-04-06 05:54:25</td>\n      <td>2024-03-01</td>\n      <td>2024-03-31</td>\n      <td>SALURIN 20MG-2ML AMPOULES</td>\n    </tr>\n    <tr>\n      <th>291712</th>\n      <td>2024-04-06 05:54:25</td>\n      <td>2024-03-01</td>\n      <td>2024-03-31</td>\n      <td>SALURIN 20MG-2ML AMPOULES</td>\n    </tr>\n    <tr>\n      <th>291714</th>\n      <td>2024-04-06 05:54:25</td>\n      <td>2024-03-01</td>\n      <td>2024-03-31</td>\n      <td>EPINOR 4 MG / 4 ML 5 AMP</td>\n    </tr>\n    <tr>\n      <th>291706</th>\n      <td>2024-04-06 05:54:25</td>\n      <td>2024-03-01</td>\n      <td>2024-03-31</td>\n      <td>Unlisted Procedure Code</td>\n    </tr>\n    <tr>\n      <th>292102</th>\n      <td>2024-04-06 05:54:25</td>\n      <td>2024-03-01</td>\n      <td>2024-03-31</td>\n      <td>SAMIXON 1GM VIAL</td>\n    </tr>\n  </tbody>\n</table>\n<p>735 rows × 4 columns</p>\n</div>"
     },
     "execution_count": 12,
     "metadata": {},
     "output_type": "execute_result"
    }
   ],
   "source": [
    "df[df['NPHIES_CODE'] == \"AD-2-5\"][['CREATION_DATE','BATCH_PERIOD_START','BATCH_PERIOD_END', 'SERVICE_DESCRIPTION']]"
   ],
   "metadata": {
    "collapsed": false,
    "ExecuteTime": {
     "end_time": "2024-08-04T10:25:28.669066900Z",
     "start_time": "2024-08-04T10:25:28.641805200Z"
    }
   }
  },
  {
   "cell_type": "code",
   "execution_count": 19,
   "outputs": [
    {
     "data": {
      "text/plain": "             CREATION_DATE BATCH_PERIOD_START BATCH_PERIOD_END  \\\n419923 2024-01-02 16:25:59         2023-12-01       2023-12-31   \n419924 2024-01-02 16:25:59         2023-12-01       2023-12-31   \n419925 2024-01-02 16:25:59         2023-12-01       2023-12-31   \n419926 2024-01-02 16:25:59         2023-12-01       2023-12-31   \n419927 2024-01-02 16:25:59         2023-12-01       2023-12-31   \n...                    ...                ...              ...   \n339407 2024-04-14 16:39:49         2024-03-01       2024-03-31   \n340182 2024-04-14 16:46:09         2024-03-01       2024-03-31   \n340183 2024-04-14 16:46:10         2024-03-01       2024-03-31   \n396630 2024-04-14 16:46:11         2024-03-01       2024-03-31   \n340550 2024-04-14 16:46:13         2024-03-01       2024-03-31   \n\n                             SERVICE_DESCRIPTION  \n419923                            Dengue IgM/IgG  \n419924            FARCOLIN 0.5% RESPIRATOR SOLN.  \n419925                      OSELTA 75MG CAPSULES  \n419926                 Nebulizing system, heated  \n419927   Unsp admin of pharmac agent electrolyte  \n...                                          ...  \n339407    PARACETOL 10 MG/ML 100 ML BOTTLE (PSI)  \n340182                             Unlisted Code  \n340183  Quantitative Troponin (Protein) Analysis  \n396630              Radiography of chest, 1 view  \n340550                   ZENORIT 8 MG IM/IV VIAL  \n\n[365 rows x 4 columns]",
      "text/html": "<div>\n<style scoped>\n    .dataframe tbody tr th:only-of-type {\n        vertical-align: middle;\n    }\n\n    .dataframe tbody tr th {\n        vertical-align: top;\n    }\n\n    .dataframe thead th {\n        text-align: right;\n    }\n</style>\n<table border=\"1\" class=\"dataframe\">\n  <thead>\n    <tr style=\"text-align: right;\">\n      <th></th>\n      <th>CREATION_DATE</th>\n      <th>BATCH_PERIOD_START</th>\n      <th>BATCH_PERIOD_END</th>\n      <th>SERVICE_DESCRIPTION</th>\n    </tr>\n  </thead>\n  <tbody>\n    <tr>\n      <th>419923</th>\n      <td>2024-01-02 16:25:59</td>\n      <td>2023-12-01</td>\n      <td>2023-12-31</td>\n      <td>Dengue IgM/IgG</td>\n    </tr>\n    <tr>\n      <th>419924</th>\n      <td>2024-01-02 16:25:59</td>\n      <td>2023-12-01</td>\n      <td>2023-12-31</td>\n      <td>FARCOLIN 0.5% RESPIRATOR SOLN.</td>\n    </tr>\n    <tr>\n      <th>419925</th>\n      <td>2024-01-02 16:25:59</td>\n      <td>2023-12-01</td>\n      <td>2023-12-31</td>\n      <td>OSELTA 75MG CAPSULES</td>\n    </tr>\n    <tr>\n      <th>419926</th>\n      <td>2024-01-02 16:25:59</td>\n      <td>2023-12-01</td>\n      <td>2023-12-31</td>\n      <td>Nebulizing system, heated</td>\n    </tr>\n    <tr>\n      <th>419927</th>\n      <td>2024-01-02 16:25:59</td>\n      <td>2023-12-01</td>\n      <td>2023-12-31</td>\n      <td>Unsp admin of pharmac agent electrolyte</td>\n    </tr>\n    <tr>\n      <th>...</th>\n      <td>...</td>\n      <td>...</td>\n      <td>...</td>\n      <td>...</td>\n    </tr>\n    <tr>\n      <th>339407</th>\n      <td>2024-04-14 16:39:49</td>\n      <td>2024-03-01</td>\n      <td>2024-03-31</td>\n      <td>PARACETOL 10 MG/ML 100 ML BOTTLE (PSI)</td>\n    </tr>\n    <tr>\n      <th>340182</th>\n      <td>2024-04-14 16:46:09</td>\n      <td>2024-03-01</td>\n      <td>2024-03-31</td>\n      <td>Unlisted Code</td>\n    </tr>\n    <tr>\n      <th>340183</th>\n      <td>2024-04-14 16:46:10</td>\n      <td>2024-03-01</td>\n      <td>2024-03-31</td>\n      <td>Quantitative Troponin (Protein) Analysis</td>\n    </tr>\n    <tr>\n      <th>396630</th>\n      <td>2024-04-14 16:46:11</td>\n      <td>2024-03-01</td>\n      <td>2024-03-31</td>\n      <td>Radiography of chest, 1 view</td>\n    </tr>\n    <tr>\n      <th>340550</th>\n      <td>2024-04-14 16:46:13</td>\n      <td>2024-03-01</td>\n      <td>2024-03-31</td>\n      <td>ZENORIT 8 MG IM/IV VIAL</td>\n    </tr>\n  </tbody>\n</table>\n<p>365 rows × 4 columns</p>\n</div>"
     },
     "execution_count": 19,
     "metadata": {},
     "output_type": "execute_result"
    }
   ],
   "source": [
    "df[df['NPHIES_CODE'] == \"AD-2-6\"][['CREATION_DATE','BATCH_PERIOD_START','BATCH_PERIOD_END', 'SERVICE_DESCRIPTION']]"
   ],
   "metadata": {
    "collapsed": false,
    "ExecuteTime": {
     "end_time": "2024-08-04T12:37:17.730992600Z",
     "start_time": "2024-08-04T12:37:17.691102800Z"
    }
   }
  },
  {
   "cell_type": "code",
   "execution_count": 18,
   "outputs": [
    {
     "data": {
      "text/plain": "Timestamp('2024-04-30 12:13:09')"
     },
     "execution_count": 18,
     "metadata": {},
     "output_type": "execute_result"
    }
   ],
   "source": [
    "df.CREATION_DATE.sort_values().iloc[-1]"
   ],
   "metadata": {
    "collapsed": false,
    "ExecuteTime": {
     "end_time": "2024-08-04T12:17:56.577965300Z",
     "start_time": "2024-08-04T12:17:56.537527800Z"
    }
   }
  },
  {
   "cell_type": "code",
   "execution_count": 9,
   "outputs": [
    {
     "data": {
      "text/plain": "             CREATION_DATE BATCH_PERIOD_START BATCH_PERIOD_END  \\\n397551 2024-01-01 09:58:15         2023-12-01       2023-12-10   \n397548 2024-01-01 09:58:15         2023-12-01       2023-12-10   \n397549 2024-01-01 09:58:15         2023-12-01       2023-12-10   \n397550 2024-01-01 09:58:15         2023-12-01       2023-12-10   \n397559 2024-01-01 10:00:43         2023-12-01       2023-12-10   \n...                    ...                ...              ...   \n388637 2024-04-30 12:13:09         2024-04-01       2024-04-10   \n388638 2024-04-30 12:13:09         2024-04-01       2024-04-10   \n388639 2024-04-30 12:13:09         2024-04-01       2024-04-10   \n388640 2024-04-30 12:13:09         2024-04-01       2024-04-10   \n388641 2024-04-30 12:13:09         2024-04-01       2024-04-10   \n\n                          SERVICE_DESCRIPTION  \n397551  Routine preoperative anaes assessment  \n397548                         Cross Matching  \n397549         TRANDATE INJ. 100 MG.-AMP.20ML  \n397550   Elective classical caesarean section  \n397559          Hypodermic needle, single-use  \n...                                       ...  \n388637         Peripheral intravenous cannula  \n388638                   Ultrasound of pelvis  \n388639                        Urinalysis Test  \n388640                 PANADREX 500 MG 24 TAB  \n388641                 NORMAL SALINE 500ML PB  \n\n[350810 rows x 4 columns]",
      "text/html": "<div>\n<style scoped>\n    .dataframe tbody tr th:only-of-type {\n        vertical-align: middle;\n    }\n\n    .dataframe tbody tr th {\n        vertical-align: top;\n    }\n\n    .dataframe thead th {\n        text-align: right;\n    }\n</style>\n<table border=\"1\" class=\"dataframe\">\n  <thead>\n    <tr style=\"text-align: right;\">\n      <th></th>\n      <th>CREATION_DATE</th>\n      <th>BATCH_PERIOD_START</th>\n      <th>BATCH_PERIOD_END</th>\n      <th>SERVICE_DESCRIPTION</th>\n    </tr>\n  </thead>\n  <tbody>\n    <tr>\n      <th>397551</th>\n      <td>2024-01-01 09:58:15</td>\n      <td>2023-12-01</td>\n      <td>2023-12-10</td>\n      <td>Routine preoperative anaes assessment</td>\n    </tr>\n    <tr>\n      <th>397548</th>\n      <td>2024-01-01 09:58:15</td>\n      <td>2023-12-01</td>\n      <td>2023-12-10</td>\n      <td>Cross Matching</td>\n    </tr>\n    <tr>\n      <th>397549</th>\n      <td>2024-01-01 09:58:15</td>\n      <td>2023-12-01</td>\n      <td>2023-12-10</td>\n      <td>TRANDATE INJ. 100 MG.-AMP.20ML</td>\n    </tr>\n    <tr>\n      <th>397550</th>\n      <td>2024-01-01 09:58:15</td>\n      <td>2023-12-01</td>\n      <td>2023-12-10</td>\n      <td>Elective classical caesarean section</td>\n    </tr>\n    <tr>\n      <th>397559</th>\n      <td>2024-01-01 10:00:43</td>\n      <td>2023-12-01</td>\n      <td>2023-12-10</td>\n      <td>Hypodermic needle, single-use</td>\n    </tr>\n    <tr>\n      <th>...</th>\n      <td>...</td>\n      <td>...</td>\n      <td>...</td>\n      <td>...</td>\n    </tr>\n    <tr>\n      <th>388637</th>\n      <td>2024-04-30 12:13:09</td>\n      <td>2024-04-01</td>\n      <td>2024-04-10</td>\n      <td>Peripheral intravenous cannula</td>\n    </tr>\n    <tr>\n      <th>388638</th>\n      <td>2024-04-30 12:13:09</td>\n      <td>2024-04-01</td>\n      <td>2024-04-10</td>\n      <td>Ultrasound of pelvis</td>\n    </tr>\n    <tr>\n      <th>388639</th>\n      <td>2024-04-30 12:13:09</td>\n      <td>2024-04-01</td>\n      <td>2024-04-10</td>\n      <td>Urinalysis Test</td>\n    </tr>\n    <tr>\n      <th>388640</th>\n      <td>2024-04-30 12:13:09</td>\n      <td>2024-04-01</td>\n      <td>2024-04-10</td>\n      <td>PANADREX 500 MG 24 TAB</td>\n    </tr>\n    <tr>\n      <th>388641</th>\n      <td>2024-04-30 12:13:09</td>\n      <td>2024-04-01</td>\n      <td>2024-04-10</td>\n      <td>NORMAL SALINE 500ML PB</td>\n    </tr>\n  </tbody>\n</table>\n<p>350810 rows × 4 columns</p>\n</div>"
     },
     "execution_count": 9,
     "metadata": {},
     "output_type": "execute_result"
    }
   ],
   "source": [
    "df[~df['NPHIES_CODE'].isin([\"AD-2-4\",\"AD-2-5\",\"AD-2-6\"])][['CREATION_DATE','BATCH_PERIOD_START','BATCH_PERIOD_END', 'SERVICE_DESCRIPTION']]"
   ],
   "metadata": {
    "collapsed": false,
    "ExecuteTime": {
     "end_time": "2024-08-04T09:56:36.835978500Z",
     "start_time": "2024-08-04T09:56:36.531330700Z"
    }
   }
  },
  {
   "cell_type": "code",
   "execution_count": 7,
   "outputs": [
    {
     "data": {
      "text/plain": "NPHIES_CODE\nMN-1-1     17806\nCV-1-1     12178\nSE-1-6     10042\nBE-1-1      7177\nBE-1-7      7159\nBE-1-3      4530\nBE-1-6      4493\nBE-1-4      2604\nSE-1-8      1607\nSE-1-9      1501\nCV-1-3      1059\nAD-2-4       759\nAD-2-5       735\nBE-1-5       500\nCV-1-4       487\nCV-3-2       441\nAD-2-6       365\nAD-3-2       326\nCV-3-5       280\nAD-1-6       233\nCV-1-2       223\nCV-1-8       211\nSE-1-2       142\nAD-3-3       107\nAD-1-3        77\nAD-1-7        54\nCV-2-1        44\nCV-3-1        31\nAD-1-4        24\nCV-1-9        20\nAD-3-5        19\nAD-3-7        15\nBE-1-10        9\nBE-1-2         9\nMN-1-2         6\nCV-1-10        5\nAD-3-8         3\nSE-1-10        1\nSE-1-5         1\nSE-1-7         1\nName: count, dtype: int64"
     },
     "execution_count": 7,
     "metadata": {},
     "output_type": "execute_result"
    }
   ],
   "source": [
    "df['NPHIES_CODE'].value_counts()"
   ],
   "metadata": {
    "collapsed": false,
    "ExecuteTime": {
     "end_time": "2024-08-04T09:44:05.103549400Z",
     "start_time": "2024-08-04T09:44:05.001386300Z"
    }
   }
  },
  {
   "cell_type": "code",
   "execution_count": 55,
   "outputs": [
    {
     "data": {
      "text/plain": "Empty DataFrame\nColumns: [VISIT_ID, DOCTOR_CODE, TECHNICAL_ISSUE]\nIndex: []",
      "text/html": "<div>\n<style scoped>\n    .dataframe tbody tr th:only-of-type {\n        vertical-align: middle;\n    }\n\n    .dataframe tbody tr th {\n        vertical-align: top;\n    }\n\n    .dataframe thead th {\n        text-align: right;\n    }\n</style>\n<table border=\"1\" class=\"dataframe\">\n  <thead>\n    <tr style=\"text-align: right;\">\n      <th></th>\n      <th>VISIT_ID</th>\n      <th>DOCTOR_CODE</th>\n      <th>TECHNICAL_ISSUE</th>\n    </tr>\n  </thead>\n  <tbody>\n  </tbody>\n</table>\n</div>"
     },
     "execution_count": 55,
     "metadata": {},
     "output_type": "execute_result"
    }
   ],
   "source": [
    "REVS = ['VISIT_ID','DOCTOR_CODE','TECHNICAL_ISSUE']\n",
    "df[df['TECHNICAL_ISSUE']=='DOCTOR_CODE'][REVS]"
   ],
   "metadata": {
    "collapsed": false,
    "ExecuteTime": {
     "end_time": "2024-07-30T12:51:58.854325200Z",
     "start_time": "2024-07-30T12:51:58.802713200Z"
    }
   }
  },
  {
   "cell_type": "code",
   "execution_count": 15,
   "outputs": [
    {
     "data": {
      "text/plain": "OUTCOME\nAPPROVED    91507\nREJECTED    69008\nPARTIAL     11476\nName: count, dtype: int64"
     },
     "execution_count": 15,
     "metadata": {},
     "output_type": "execute_result"
    }
   ],
   "source": [
    "df['OUTCOME'].value_counts()"
   ],
   "metadata": {
    "collapsed": false,
    "ExecuteTime": {
     "end_time": "2024-07-30T11:53:51.143679200Z",
     "start_time": "2024-07-30T11:53:51.121592700Z"
    }
   }
  },
  {
   "cell_type": "code",
   "execution_count": null,
   "outputs": [],
   "source": [],
   "metadata": {
    "collapsed": false
   }
  },
  {
   "cell_type": "code",
   "execution_count": null,
   "outputs": [],
   "source": [],
   "metadata": {
    "collapsed": false
   }
  },
  {
   "cell_type": "markdown",
   "source": [
    "## HJH Dataset\n",
    "loaded on 23/5/2024"
   ],
   "metadata": {
    "collapsed": false
   }
  },
  {
   "cell_type": "code",
   "execution_count": 3,
   "outputs": [],
   "source": [
    "df_original = get_cashed_input()"
   ],
   "metadata": {
    "collapsed": false,
    "ExecuteTime": {
     "end_time": "2024-07-01T09:27:59.742029800Z",
     "start_time": "2024-07-01T09:27:58.446457Z"
    }
   }
  },
  {
   "cell_type": "code",
   "execution_count": 4,
   "outputs": [
    {
     "data": {
      "text/plain": "388640   2024-04-30 12:13:09\n388639   2024-04-30 12:13:09\n388633   2024-04-30 12:13:09\n388634   2024-04-30 12:13:09\n388635   2024-04-30 12:13:09\n                 ...        \n397544   2024-01-01 09:58:15\n397545   2024-01-01 09:58:15\n397546   2024-01-01 09:58:15\n397547   2024-01-01 09:58:15\n397549   2024-01-01 09:58:15\nName: CREATION_DATE, Length: 488833, dtype: datetime64[ns]"
     },
     "execution_count": 4,
     "metadata": {},
     "output_type": "execute_result"
    }
   ],
   "source": [
    "df_original['CREATION_DATE'].sort_values(ascending=False)"
   ],
   "metadata": {
    "collapsed": false,
    "ExecuteTime": {
     "end_time": "2024-07-01T09:28:00.536816100Z",
     "start_time": "2024-07-01T09:28:00.471990200Z"
    }
   }
  },
  {
   "cell_type": "code",
   "execution_count": 5,
   "outputs": [
    {
     "data": {
      "text/plain": "VISIT_ID\n220020    1819\n202392    1529\n203244    1529\n201986    1529\n202394    1529\n          ... \n198125       1\n228482       1\n210011       1\n228691       1\n231136       1\nName: count, Length: 42771, dtype: int64"
     },
     "execution_count": 5,
     "metadata": {},
     "output_type": "execute_result"
    }
   ],
   "source": [
    "df_original.VISIT_ID.value_counts()"
   ],
   "metadata": {
    "collapsed": false,
    "ExecuteTime": {
     "end_time": "2024-07-01T09:28:01.713806200Z",
     "start_time": "2024-07-01T09:28:01.644992400Z"
    }
   }
  },
  {
   "cell_type": "code",
   "execution_count": 6,
   "outputs": [],
   "source": [
    "preprocessing = MergedDataPreprocessing(df_original)"
   ],
   "metadata": {
    "collapsed": false,
    "ExecuteTime": {
     "end_time": "2024-07-01T09:28:03.360314700Z",
     "start_time": "2024-07-01T09:28:03.349343500Z"
    }
   }
  },
  {
   "cell_type": "code",
   "execution_count": 7,
   "outputs": [
    {
     "name": "stdout",
     "output_type": "stream",
     "text": [
      "CREATED_BY_USER : int64\n",
      "CREATION_DATE : datetime64[ns]\n",
      "VISIT_ID : int64\n",
      "NET_WITH_VAT : float64\n",
      "SERVICE_DESCRIPTION : object\n",
      "QTY : float64\n",
      "LINE_CLAIMED_AMOUNT : float64\n",
      "LINE_CLAIMED_AMOUNT_SAR : float64\n",
      "CO_PAY : float64\n",
      "CO_INSURANCE : float64\n",
      "LINE_ITEM_DISCOUNT : float64\n",
      "NET_AMOUNT : float64\n",
      "NET_VAT_AMOUNT : float64\n",
      "PATIENT_VAT_AMOUNT : float64\n",
      "VAT_PERCENTAGE : float64\n",
      "TREATMENT_TYPE_INDICATOR : int64\n",
      "SERVICE_TYPE : object\n",
      "DURATION : float64\n",
      "QTY_STOCKED_UOM : int64\n",
      "UNIT_PRICE : float64\n",
      "OASIS_IOS_DESCRIPTION : object\n",
      "SEQUENCE_NO : int64\n",
      "UNIT_PRICE_STOCKED_UOM : float64\n",
      "UNIT_PRICE_NET : float64\n",
      "DISCOUNT_PERCENTAGE : float64\n",
      "NOTES : object\n",
      "OUTCOME : object\n",
      "APPROVED_QUNATITY : float64\n",
      "REQUEST_DATE : datetime64[ns]\n",
      "VISIT_NO : object\n",
      "VISIT_DATE : datetime64[ns]\n",
      "EMERGENCY_INDICATOR : object\n",
      "PROVIDER_DEPARTMENT_CODE : int64\n",
      "PROVIDER_DEPARTMENT : object\n",
      "DOCTOR_SPECIALTY_CODE : float64\n",
      "DOCTOR_CODE : int64\n",
      "PATIENT_NO : int64\n",
      "EPISODE_NO : int64\n",
      "PATIENT_ID : int64\n",
      "MEMBERSHIP_NO : object\n",
      "PATIENT_ID_TYPE : float64\n",
      "PATIENT_NATIONAL_IQAMA_ID : object\n",
      "PATIENT_DOB : datetime64[ns]\n",
      "PATIENT_AGE : int64\n",
      "UNIT_OF_AGE : int64\n",
      "PATIENT_NATIONALITY : object\n",
      "PATIENT_MARITAL_STATUS : object\n",
      "PATIENT_GENDER : object\n",
      "PATIENT_MOBILE_NO : int64\n",
      "PATIENT_BADGE_NO : object\n",
      "HIS_INSURANCE_CODE : int64\n",
      "POLICY_HOLDER_NO : object\n",
      "CLAIM_TYPE : object\n",
      "BATCH_NO : int64\n",
      "TOTAL_CLAIMED_AMOUNT : float64\n",
      "TOTAL_CLAIMED_AMOUNT_SAR : float64\n",
      "TOTAL_NET_AMOUNT : float64\n",
      "TOTAL_DISCOUNT : float64\n",
      "TOTAL_DEDUCTIBLE : float64\n",
      "TOTAL_PATIENT_VATAMOUNT : float64\n",
      "TOTAL_NET_VAT_AMOUNT : float64\n",
      "CLAIM_NO : object\n",
      "STAT_END_DATE : datetime64[ns]\n",
      "AMEND_BY_USER : int64\n",
      "AMEND_LAST_DATE : datetime64[ns]\n",
      "PAYER_LICENSE : int64\n",
      "DOCTOR_LICENSE : object\n",
      "DEPARTMENT_TYPE : float64\n",
      "TREATMENT_TYPE : object\n",
      "CLAIM_INVOICE_NO : int64\n",
      "STAT_INVOICE_NO : int64\n",
      "PURCHASER_CODE : int64\n",
      "STATUS : object\n",
      "API_TRANS_ID : int64\n",
      "SUBMIT_CLAIM_OUTCOME : object\n",
      "SUBMIT_CLAIM_MESSAGE : object\n",
      "RES_STATUS : object\n",
      "RES_CLAIM_ID : object\n",
      "CONSULTATION_INVOICE_NO : object\n",
      "TREATMENT_SUB_TYPE : object\n",
      "ELIGIBILITY_RESPONSE_ID : object\n",
      "ELIGIBILITY_RESPONSE_SYSTEM : object\n",
      "CONTRACT_NO : int64\n",
      "ELIGIBILITY_API_TRANS_ID : float64\n",
      "CLAIM_IDENTIFIER : float64\n",
      "ATTACHED_FILES : object\n",
      "ATTACHMENT_TYPE : object\n",
      "NEW_BORN : object\n",
      "PATIENT_IDENTITY_TYPE : object\n",
      "BILLABLE_PERIOD_START : datetime64[ns]\n",
      "BILLABLE_PERIOD_END : datetime64[ns]\n",
      "BATCH_PERIOD_START : datetime64[ns]\n",
      "BATCH_PERIOD_END : datetime64[ns]\n",
      "Episode_Key : object\n",
      "ICD10 : object\n",
      "Diagnosis_Key : object\n"
     ]
    }
   ],
   "source": [
    "for col in df_original.columns:\n",
    "    print(col,\":\",df_original[col].dtype)"
   ],
   "metadata": {
    "collapsed": false,
    "ExecuteTime": {
     "end_time": "2024-07-01T09:28:04.877783Z",
     "start_time": "2024-07-01T09:28:04.845873100Z"
    }
   }
  },
  {
   "cell_type": "code",
   "execution_count": 8,
   "outputs": [
    {
     "data": {
      "text/plain": "CREATED_BY_USER            0\nCREATION_DATE              0\nVISIT_ID                   0\nNET_WITH_VAT               0\nSERVICE_DESCRIPTION        0\n                       ...  \nBATCH_PERIOD_START         0\nBATCH_PERIOD_END           0\nEpisode_Key            31109\nICD10                  31109\nDiagnosis_Key          31109\nLength: 96, dtype: int64"
     },
     "execution_count": 8,
     "metadata": {},
     "output_type": "execute_result"
    }
   ],
   "source": [
    "df_original.isna().sum()"
   ],
   "metadata": {
    "collapsed": false,
    "ExecuteTime": {
     "end_time": "2024-07-01T09:28:13.948698300Z",
     "start_time": "2024-07-01T09:28:13.403290600Z"
    }
   }
  },
  {
   "cell_type": "code",
   "execution_count": 9,
   "outputs": [
    {
     "data": {
      "text/plain": "SUBMIT_CLAIM_OUTCOME\nPENDED    241830\nQUEUED     70352\nERROR      64160\nName: count, dtype: int64"
     },
     "execution_count": 9,
     "metadata": {},
     "output_type": "execute_result"
    }
   ],
   "source": [
    "df_original.SUBMIT_CLAIM_OUTCOME.value_counts()"
   ],
   "metadata": {
    "collapsed": false,
    "ExecuteTime": {
     "end_time": "2024-07-01T09:28:17.226824300Z",
     "start_time": "2024-07-01T09:28:17.196897900Z"
    }
   }
  },
  {
   "cell_type": "code",
   "execution_count": 10,
   "outputs": [
    {
     "name": "stderr",
     "output_type": "stream",
     "text": [
      "C:\\AI_Projects\\Claims_Rejection_2024\\Claims_Rejection\\src\\data_local.py:203: FutureWarning: Downcasting behavior in `replace` is deprecated and will be removed in a future version. To retain the old behavior, explicitly call `result.infer_objects(copy=False)`. To opt-in to the future behavior, set `pd.set_option('future.no_silent_downcasting', True)`\n",
      "  self.df[column] = self.df[column].replace(column_encoding)\n",
      "C:\\AI_Projects\\Claims_Rejection_2024\\Claims_Rejection\\src\\data_local.py:208: FutureWarning: Downcasting behavior in `replace` is deprecated and will be removed in a future version. To retain the old behavior, explicitly call `result.infer_objects(copy=False)`. To opt-in to the future behavior, set `pd.set_option('future.no_silent_downcasting', True)`\n",
      "  self.df['PatientAgeRange'] = self.df.PatientAgeRange.replace(age_encoding)\n",
      "C:\\AI_Projects\\Claims_Rejection_2024\\Claims_Rejection\\src\\data_local.py:214: UserWarning: Pandas doesn't allow columns to be created via a new attribute name - see https://pandas.pydata.org/pandas-docs/stable/indexing.html#attribute-access\n",
      "  self.df.item_NameEn = self._label_encode_column(column_name='SERVICE_DESCRIPTION', min_count=15)\n"
     ]
    }
   ],
   "source": [
    "df_prep = preprocessing.columns_prep()"
   ],
   "metadata": {
    "collapsed": false,
    "ExecuteTime": {
     "end_time": "2024-07-01T09:28:40.572014800Z",
     "start_time": "2024-07-01T09:28:19.990398500Z"
    }
   }
  },
  {
   "cell_type": "code",
   "execution_count": 11,
   "outputs": [
    {
     "data": {
      "text/plain": "        CREATED_BY_USER       CREATION_DATE  VISIT_ID  NET_WITH_VAT  \\\n0                  9521 2024-04-04 22:57:57    230089         56.12   \n1                  9521 2024-04-04 23:02:21    230117        202.40   \n2                  9521 2024-04-04 23:08:38    230160        408.08   \n3                  9521 2024-04-04 22:26:08    229872         24.27   \n4                  9521 2024-04-04 22:34:22    229913         80.64   \n...                 ...                 ...       ...           ...   \n488828             9593 2024-01-23 17:20:54    204110        242.48   \n488829            10962 2024-01-28 01:01:05    204377          1.06   \n488830            10962 2024-01-28 01:01:05    204377          1.14   \n488831            10962 2024-01-28 01:01:05    204377          1.79   \n488832             9593 2024-01-23 16:35:34    204093        144.56   \n\n                             SERVICE_DESCRIPTION  QTY  LINE_CLAIMED_AMOUNT  \\\n0                                  Unlisted Code  1.0                61.00   \n1                                            TSH  1.0               220.00   \n2                            In vivo laboratory   1.0               475.00   \n3                            ELICA-M CREAM 30 GM  1.0                25.55   \n4                 Peripheral intravenous cannula  1.0                90.00   \n...                                          ...  ...                  ...   \n488828  Quantitative Troponin (Protein) Analysis  1.0               324.39   \n488829                       NEBILET 5MG TABLETS  1.0                 1.14   \n488830                   Unlisted Procedure Code  5.0                 1.77   \n488831                 SALURIN 20MG-2ML AMPOULES  1.0                 1.93   \n488832              Radiography of chest, 1 view  1.0               193.39   \n\n        LINE_CLAIMED_AMOUNT_SAR  CO_PAY  CO_INSURANCE  ...  NEW_BORN  \\\n0                         61.00    0.00         61.00  ...         0   \n1                        220.00    0.00        220.00  ...         0   \n2                        475.00   10.75        464.25  ...         0   \n3                         25.55    4.85         20.70  ...         0   \n4                         90.00   14.40         75.60  ...         0   \n...                         ...     ...           ...  ...       ...   \n488828                   324.39    0.00        324.39  ...         0   \n488829                     1.14    0.00          1.14  ...         0   \n488830                     1.77    0.00          1.77  ...         0   \n488831                     1.93    0.00          1.93  ...         0   \n488832                   193.39    0.00        193.39  ...         0   \n\n        PATIENT_IDENTITY_TYPE  BILLABLE_PERIOD_START  BILLABLE_PERIOD_END  \\\n0                           H    2024-03-28 00:00:00  2024-04-11 00:00:00   \n1                           H    2024-03-12 00:00:00  2024-03-26 00:00:00   \n2                           H    2024-03-04 00:00:00  2024-03-18 00:00:00   \n3                           H    2024-03-10 00:00:00  2024-03-24 00:00:00   \n4                           H    2024-03-18 00:00:00  2024-04-01 00:00:00   \n...                       ...                    ...                  ...   \n488828                     IQ    2023-12-24 10:28:07  2023-12-28 12:07:18   \n488829                     IQ    2023-12-27 20:51:37  2023-12-31 17:16:53   \n488830                     IQ    2023-12-27 20:51:37  2023-12-31 17:16:53   \n488831                     IQ    2023-12-27 20:51:37  2023-12-31 17:16:53   \n488832                     IQ    2023-12-22 00:00:00  2024-01-05 00:00:00   \n\n        BATCH_PERIOD_START  BATCH_PERIOD_END   Episode_Key  ICD10  \\\n0               2024-03-01        2024-03-31   1_929362-34    Z36   \n1               2024-03-01        2024-03-31   1_1083147-3  R22.1   \n2               2024-03-01        2024-03-31   1_1339075-6    R53   \n3               2024-03-01        2024-03-31   1_656928-60    R10   \n4               2024-03-01        2024-03-31  1_1019628-25  R00.1   \n...                    ...               ...           ...    ...   \n488828          2023-12-01        2023-12-31   1_1348956-2  I24.9   \n488829          2023-12-01        2023-12-31   1_1349595-2  R07.4   \n488830          2023-12-01        2023-12-31   1_1349595-2  R07.4   \n488831          2023-12-01        2023-12-31   1_1349595-2  R07.4   \n488832          2023-12-01        2023-12-31   1_1348795-1  I46.0   \n\n        Diagnosis_Key  PatientAgeRange  \n0          1_10198603                6  \n1          1_10171516                5  \n2        1_1111232092                6  \n3        1_1111231597                6  \n4          1_10171441                8  \n...               ...              ...  \n488828     1_10163946                8  \n488829    1_110217036                7  \n488830    1_110217036                7  \n488831    1_110217036                7  \n488832     1_10164072                9  \n\n[488833 rows x 97 columns]",
      "text/html": "<div>\n<style scoped>\n    .dataframe tbody tr th:only-of-type {\n        vertical-align: middle;\n    }\n\n    .dataframe tbody tr th {\n        vertical-align: top;\n    }\n\n    .dataframe thead th {\n        text-align: right;\n    }\n</style>\n<table border=\"1\" class=\"dataframe\">\n  <thead>\n    <tr style=\"text-align: right;\">\n      <th></th>\n      <th>CREATED_BY_USER</th>\n      <th>CREATION_DATE</th>\n      <th>VISIT_ID</th>\n      <th>NET_WITH_VAT</th>\n      <th>SERVICE_DESCRIPTION</th>\n      <th>QTY</th>\n      <th>LINE_CLAIMED_AMOUNT</th>\n      <th>LINE_CLAIMED_AMOUNT_SAR</th>\n      <th>CO_PAY</th>\n      <th>CO_INSURANCE</th>\n      <th>...</th>\n      <th>NEW_BORN</th>\n      <th>PATIENT_IDENTITY_TYPE</th>\n      <th>BILLABLE_PERIOD_START</th>\n      <th>BILLABLE_PERIOD_END</th>\n      <th>BATCH_PERIOD_START</th>\n      <th>BATCH_PERIOD_END</th>\n      <th>Episode_Key</th>\n      <th>ICD10</th>\n      <th>Diagnosis_Key</th>\n      <th>PatientAgeRange</th>\n    </tr>\n  </thead>\n  <tbody>\n    <tr>\n      <th>0</th>\n      <td>9521</td>\n      <td>2024-04-04 22:57:57</td>\n      <td>230089</td>\n      <td>56.12</td>\n      <td>Unlisted Code</td>\n      <td>1.0</td>\n      <td>61.00</td>\n      <td>61.00</td>\n      <td>0.00</td>\n      <td>61.00</td>\n      <td>...</td>\n      <td>0</td>\n      <td>H</td>\n      <td>2024-03-28 00:00:00</td>\n      <td>2024-04-11 00:00:00</td>\n      <td>2024-03-01</td>\n      <td>2024-03-31</td>\n      <td>1_929362-34</td>\n      <td>Z36</td>\n      <td>1_10198603</td>\n      <td>6</td>\n    </tr>\n    <tr>\n      <th>1</th>\n      <td>9521</td>\n      <td>2024-04-04 23:02:21</td>\n      <td>230117</td>\n      <td>202.40</td>\n      <td>TSH</td>\n      <td>1.0</td>\n      <td>220.00</td>\n      <td>220.00</td>\n      <td>0.00</td>\n      <td>220.00</td>\n      <td>...</td>\n      <td>0</td>\n      <td>H</td>\n      <td>2024-03-12 00:00:00</td>\n      <td>2024-03-26 00:00:00</td>\n      <td>2024-03-01</td>\n      <td>2024-03-31</td>\n      <td>1_1083147-3</td>\n      <td>R22.1</td>\n      <td>1_10171516</td>\n      <td>5</td>\n    </tr>\n    <tr>\n      <th>2</th>\n      <td>9521</td>\n      <td>2024-04-04 23:08:38</td>\n      <td>230160</td>\n      <td>408.08</td>\n      <td>In vivo laboratory</td>\n      <td>1.0</td>\n      <td>475.00</td>\n      <td>475.00</td>\n      <td>10.75</td>\n      <td>464.25</td>\n      <td>...</td>\n      <td>0</td>\n      <td>H</td>\n      <td>2024-03-04 00:00:00</td>\n      <td>2024-03-18 00:00:00</td>\n      <td>2024-03-01</td>\n      <td>2024-03-31</td>\n      <td>1_1339075-6</td>\n      <td>R53</td>\n      <td>1_1111232092</td>\n      <td>6</td>\n    </tr>\n    <tr>\n      <th>3</th>\n      <td>9521</td>\n      <td>2024-04-04 22:26:08</td>\n      <td>229872</td>\n      <td>24.27</td>\n      <td>ELICA-M CREAM 30 GM</td>\n      <td>1.0</td>\n      <td>25.55</td>\n      <td>25.55</td>\n      <td>4.85</td>\n      <td>20.70</td>\n      <td>...</td>\n      <td>0</td>\n      <td>H</td>\n      <td>2024-03-10 00:00:00</td>\n      <td>2024-03-24 00:00:00</td>\n      <td>2024-03-01</td>\n      <td>2024-03-31</td>\n      <td>1_656928-60</td>\n      <td>R10</td>\n      <td>1_1111231597</td>\n      <td>6</td>\n    </tr>\n    <tr>\n      <th>4</th>\n      <td>9521</td>\n      <td>2024-04-04 22:34:22</td>\n      <td>229913</td>\n      <td>80.64</td>\n      <td>Peripheral intravenous cannula</td>\n      <td>1.0</td>\n      <td>90.00</td>\n      <td>90.00</td>\n      <td>14.40</td>\n      <td>75.60</td>\n      <td>...</td>\n      <td>0</td>\n      <td>H</td>\n      <td>2024-03-18 00:00:00</td>\n      <td>2024-04-01 00:00:00</td>\n      <td>2024-03-01</td>\n      <td>2024-03-31</td>\n      <td>1_1019628-25</td>\n      <td>R00.1</td>\n      <td>1_10171441</td>\n      <td>8</td>\n    </tr>\n    <tr>\n      <th>...</th>\n      <td>...</td>\n      <td>...</td>\n      <td>...</td>\n      <td>...</td>\n      <td>...</td>\n      <td>...</td>\n      <td>...</td>\n      <td>...</td>\n      <td>...</td>\n      <td>...</td>\n      <td>...</td>\n      <td>...</td>\n      <td>...</td>\n      <td>...</td>\n      <td>...</td>\n      <td>...</td>\n      <td>...</td>\n      <td>...</td>\n      <td>...</td>\n      <td>...</td>\n      <td>...</td>\n    </tr>\n    <tr>\n      <th>488828</th>\n      <td>9593</td>\n      <td>2024-01-23 17:20:54</td>\n      <td>204110</td>\n      <td>242.48</td>\n      <td>Quantitative Troponin (Protein) Analysis</td>\n      <td>1.0</td>\n      <td>324.39</td>\n      <td>324.39</td>\n      <td>0.00</td>\n      <td>324.39</td>\n      <td>...</td>\n      <td>0</td>\n      <td>IQ</td>\n      <td>2023-12-24 10:28:07</td>\n      <td>2023-12-28 12:07:18</td>\n      <td>2023-12-01</td>\n      <td>2023-12-31</td>\n      <td>1_1348956-2</td>\n      <td>I24.9</td>\n      <td>1_10163946</td>\n      <td>8</td>\n    </tr>\n    <tr>\n      <th>488829</th>\n      <td>10962</td>\n      <td>2024-01-28 01:01:05</td>\n      <td>204377</td>\n      <td>1.06</td>\n      <td>NEBILET 5MG TABLETS</td>\n      <td>1.0</td>\n      <td>1.14</td>\n      <td>1.14</td>\n      <td>0.00</td>\n      <td>1.14</td>\n      <td>...</td>\n      <td>0</td>\n      <td>IQ</td>\n      <td>2023-12-27 20:51:37</td>\n      <td>2023-12-31 17:16:53</td>\n      <td>2023-12-01</td>\n      <td>2023-12-31</td>\n      <td>1_1349595-2</td>\n      <td>R07.4</td>\n      <td>1_110217036</td>\n      <td>7</td>\n    </tr>\n    <tr>\n      <th>488830</th>\n      <td>10962</td>\n      <td>2024-01-28 01:01:05</td>\n      <td>204377</td>\n      <td>1.14</td>\n      <td>Unlisted Procedure Code</td>\n      <td>5.0</td>\n      <td>1.77</td>\n      <td>1.77</td>\n      <td>0.00</td>\n      <td>1.77</td>\n      <td>...</td>\n      <td>0</td>\n      <td>IQ</td>\n      <td>2023-12-27 20:51:37</td>\n      <td>2023-12-31 17:16:53</td>\n      <td>2023-12-01</td>\n      <td>2023-12-31</td>\n      <td>1_1349595-2</td>\n      <td>R07.4</td>\n      <td>1_110217036</td>\n      <td>7</td>\n    </tr>\n    <tr>\n      <th>488831</th>\n      <td>10962</td>\n      <td>2024-01-28 01:01:05</td>\n      <td>204377</td>\n      <td>1.79</td>\n      <td>SALURIN 20MG-2ML AMPOULES</td>\n      <td>1.0</td>\n      <td>1.93</td>\n      <td>1.93</td>\n      <td>0.00</td>\n      <td>1.93</td>\n      <td>...</td>\n      <td>0</td>\n      <td>IQ</td>\n      <td>2023-12-27 20:51:37</td>\n      <td>2023-12-31 17:16:53</td>\n      <td>2023-12-01</td>\n      <td>2023-12-31</td>\n      <td>1_1349595-2</td>\n      <td>R07.4</td>\n      <td>1_110217036</td>\n      <td>7</td>\n    </tr>\n    <tr>\n      <th>488832</th>\n      <td>9593</td>\n      <td>2024-01-23 16:35:34</td>\n      <td>204093</td>\n      <td>144.56</td>\n      <td>Radiography of chest, 1 view</td>\n      <td>1.0</td>\n      <td>193.39</td>\n      <td>193.39</td>\n      <td>0.00</td>\n      <td>193.39</td>\n      <td>...</td>\n      <td>0</td>\n      <td>IQ</td>\n      <td>2023-12-22 00:00:00</td>\n      <td>2024-01-05 00:00:00</td>\n      <td>2023-12-01</td>\n      <td>2023-12-31</td>\n      <td>1_1348795-1</td>\n      <td>I46.0</td>\n      <td>1_10164072</td>\n      <td>9</td>\n    </tr>\n  </tbody>\n</table>\n<p>488833 rows × 97 columns</p>\n</div>"
     },
     "execution_count": 11,
     "metadata": {},
     "output_type": "execute_result"
    }
   ],
   "source": [
    "df_prep"
   ],
   "metadata": {
    "collapsed": false,
    "ExecuteTime": {
     "end_time": "2024-07-01T09:28:40.791433300Z",
     "start_time": "2024-07-01T09:28:40.576007400Z"
    }
   }
  },
  {
   "cell_type": "code",
   "execution_count": 12,
   "outputs": [],
   "source": [
    "df_train, df_test = preprocessing.train_test_split(test_size=0.2,random_state=6)"
   ],
   "metadata": {
    "collapsed": false,
    "ExecuteTime": {
     "end_time": "2024-07-01T09:28:44.974325900Z",
     "start_time": "2024-07-01T09:28:44.488111400Z"
    }
   }
  },
  {
   "cell_type": "code",
   "execution_count": 13,
   "outputs": [
    {
     "data": {
      "text/plain": "0.2531547822058057"
     },
     "execution_count": 13,
     "metadata": {},
     "output_type": "execute_result"
    }
   ],
   "source": [
    "len(df_test)/ len(df_train)"
   ],
   "metadata": {
    "collapsed": false,
    "ExecuteTime": {
     "end_time": "2024-07-01T09:28:45.697392200Z",
     "start_time": "2024-07-01T09:28:45.678443400Z"
    }
   }
  },
  {
   "cell_type": "code",
   "execution_count": 14,
   "outputs": [
    {
     "data": {
      "text/plain": "[]"
     },
     "execution_count": 14,
     "metadata": {},
     "output_type": "execute_result"
    }
   ],
   "source": [
    "ls1 = list(df_train.sort_values(by='VISIT_ID')['VISIT_ID'])\n",
    "ls2 = list(df_test.sort_values(by='VISIT_ID')['VISIT_ID'])\n",
    "intersection = list(set(ls1) & set(ls2))\n",
    "intersection ## to find the repeated transaction id between them"
   ],
   "metadata": {
    "collapsed": false,
    "ExecuteTime": {
     "end_time": "2024-07-01T09:28:46.961593100Z",
     "start_time": "2024-07-01T09:28:46.766115300Z"
    }
   }
  },
  {
   "cell_type": "code",
   "execution_count": 15,
   "outputs": [
    {
     "data": {
      "text/plain": "3.9501525165226234"
     },
     "execution_count": 15,
     "metadata": {},
     "output_type": "execute_result"
    }
   ],
   "source": [
    "len(df_train) / len(df_test)"
   ],
   "metadata": {
    "collapsed": false,
    "ExecuteTime": {
     "end_time": "2024-07-01T09:28:47.786387Z",
     "start_time": "2024-07-01T09:28:47.766440700Z"
    }
   }
  },
  {
   "cell_type": "code",
   "execution_count": 16,
   "outputs": [],
   "source": [
    "df_train.to_parquet('data/HJH/prq/train.parquet')\n",
    "df_test.to_parquet('data/HJH/prq/test.parquet')"
   ],
   "metadata": {
    "collapsed": false,
    "ExecuteTime": {
     "end_time": "2024-07-01T09:28:50.368388100Z",
     "start_time": "2024-07-01T09:28:48.371332100Z"
    }
   }
  },
  {
   "cell_type": "code",
   "execution_count": null,
   "outputs": [],
   "source": [],
   "metadata": {
    "collapsed": false
   }
  }
 ],
 "metadata": {
  "kernelspec": {
   "display_name": "Python 3",
   "language": "python",
   "name": "python3"
  },
  "language_info": {
   "codemirror_mode": {
    "name": "ipython",
    "version": 2
   },
   "file_extension": ".py",
   "mimetype": "text/x-python",
   "name": "python",
   "nbconvert_exporter": "python",
   "pygments_lexer": "ipython2",
   "version": "2.7.6"
  }
 },
 "nbformat": 4,
 "nbformat_minor": 0
}
