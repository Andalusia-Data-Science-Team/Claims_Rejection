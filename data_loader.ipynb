{
 "cells": [
  {
   "cell_type": "code",
   "execution_count": 1,
   "outputs": [],
   "source": [
    "from src.data_local import MergedDataPreprocessing\n",
    "from cashe import get_cashed_input"
   ],
   "metadata": {
    "collapsed": false,
    "ExecuteTime": {
     "end_time": "2024-08-16T15:02:38.394047500Z",
     "start_time": "2024-08-16T15:02:30.281732700Z"
    }
   }
  },
  {
   "cell_type": "markdown",
   "source": [
    "## HJH Dataset\n",
    "loaded on 23/5/2024\n",
    "loaded on 12/08/2024"
   ],
   "metadata": {
    "collapsed": false
   }
  },
  {
   "cell_type": "code",
   "execution_count": 2,
   "outputs": [],
   "source": [
    "df_original = get_cashed_input()"
   ],
   "metadata": {
    "collapsed": false,
    "ExecuteTime": {
     "end_time": "2024-08-16T15:02:41.902537500Z",
     "start_time": "2024-08-16T15:02:38.396044300Z"
    }
   }
  },
  {
   "cell_type": "code",
   "execution_count": 3,
   "outputs": [
    {
     "data": {
      "text/plain": "164579   2024-05-30 11:46:53\n164571   2024-05-30 11:46:53\n164549   2024-05-30 11:46:53\n164569   2024-05-30 11:46:53\n164557   2024-05-30 11:46:53\n                 ...        \n398361   2024-01-01 12:38:36\n398363   2024-01-01 12:38:36\n398365   2024-01-01 12:38:36\n398360   2024-01-01 12:38:12\n398359   2024-01-01 12:33:25\nName: CREATION_DATE, Length: 207106, dtype: datetime64[ns]"
     },
     "execution_count": 3,
     "metadata": {},
     "output_type": "execute_result"
    }
   ],
   "source": [
    "df_original['CREATION_DATE'].sort_values(ascending=False)"
   ],
   "metadata": {
    "collapsed": false,
    "ExecuteTime": {
     "end_time": "2024-08-16T15:02:41.963276600Z",
     "start_time": "2024-08-16T15:02:41.904533200Z"
    }
   }
  },
  {
   "cell_type": "code",
   "execution_count": 4,
   "outputs": [
    {
     "data": {
      "text/plain": "VISIT_ID\n211067    100\n241410     98\n202428     95\n245528     93\n237374     91\n         ... \n217366      1\n217367      1\n217369      1\n217371      1\n194135      1\nName: count, Length: 33392, dtype: int64"
     },
     "execution_count": 4,
     "metadata": {},
     "output_type": "execute_result"
    }
   ],
   "source": [
    "df_original.VISIT_ID.value_counts()"
   ],
   "metadata": {
    "collapsed": false,
    "ExecuteTime": {
     "end_time": "2024-08-16T15:05:52.013240400Z",
     "start_time": "2024-08-16T15:05:51.993258100Z"
    }
   }
  },
  {
   "cell_type": "code",
   "execution_count": 5,
   "outputs": [],
   "source": [
    "preprocessing = MergedDataPreprocessing(df_original)"
   ],
   "metadata": {
    "collapsed": false,
    "ExecuteTime": {
     "end_time": "2024-08-16T15:05:53.951327700Z",
     "start_time": "2024-08-16T15:05:53.932387400Z"
    }
   }
  },
  {
   "cell_type": "code",
   "execution_count": 6,
   "outputs": [
    {
     "name": "stdout",
     "output_type": "stream",
     "text": [
      "CREATED_BY_USER : int64\n",
      "CREATION_DATE : datetime64[ns]\n",
      "VISIT_ID : int64\n",
      "NET_WITH_VAT : float64\n",
      "SERVICE_DESCRIPTION : object\n",
      "QTY : float64\n",
      "LINE_CLAIMED_AMOUNT : float64\n",
      "LINE_CLAIMED_AMOUNT_SAR : float64\n",
      "CO_PAY : float64\n",
      "CO_INSURANCE : float64\n",
      "LINE_ITEM_DISCOUNT : float64\n",
      "NET_AMOUNT : float64\n",
      "NET_VAT_AMOUNT : float64\n",
      "PATIENT_VAT_AMOUNT : float64\n",
      "VAT_PERCENTAGE : float64\n",
      "TREATMENT_TYPE_INDICATOR : int64\n",
      "SERVICE_TYPE : object\n",
      "DURATION : float64\n",
      "QTY_STOCKED_UOM : int64\n",
      "UNIT_PRICE : float64\n",
      "OASIS_IOS_DESCRIPTION : object\n",
      "SEQUENCE_NO : int64\n",
      "UNIT_PRICE_STOCKED_UOM : float64\n",
      "UNIT_PRICE_NET : float64\n",
      "DISCOUNT_PERCENTAGE : float64\n",
      "NOTES : object\n",
      "OUTCOME : object\n",
      "APPROVED_QUNATITY : float64\n",
      "REQUEST_DATE : datetime64[ns]\n",
      "VISIT_NO : object\n",
      "VISIT_DATE : datetime64[ns]\n",
      "EMERGENCY_INDICATOR : object\n",
      "PROVIDER_DEPARTMENT_CODE : int64\n",
      "PROVIDER_DEPARTMENT : object\n",
      "DOCTOR_SPECIALTY_CODE : float64\n",
      "DOCTOR_CODE : int64\n",
      "PATIENT_NO : int64\n",
      "EPISODE_NO : int64\n",
      "PATIENT_ID : int64\n",
      "MEMBERSHIP_NO : object\n",
      "PATIENT_ID_TYPE : float64\n",
      "PATIENT_NATIONAL_IQAMA_ID : object\n",
      "PATIENT_DOB : datetime64[ns]\n",
      "PATIENT_AGE : int64\n",
      "UNIT_OF_AGE : int64\n",
      "PATIENT_NATIONALITY : object\n",
      "PATIENT_MARITAL_STATUS : object\n",
      "PATIENT_GENDER : object\n",
      "PATIENT_MOBILE_NO : int64\n",
      "PATIENT_BADGE_NO : object\n",
      "HIS_INSURANCE_CODE : int64\n",
      "POLICY_HOLDER_NO : object\n",
      "CLAIM_TYPE : object\n",
      "BATCH_NO : int64\n",
      "TOTAL_CLAIMED_AMOUNT : float64\n",
      "TOTAL_CLAIMED_AMOUNT_SAR : float64\n",
      "TOTAL_NET_AMOUNT : float64\n",
      "TOTAL_DISCOUNT : float64\n",
      "TOTAL_DEDUCTIBLE : float64\n",
      "TOTAL_PATIENT_VATAMOUNT : float64\n",
      "TOTAL_NET_VAT_AMOUNT : float64\n",
      "CLAIM_NO : object\n",
      "STAT_END_DATE : datetime64[ns]\n",
      "AMEND_BY_USER : int64\n",
      "AMEND_LAST_DATE : datetime64[ns]\n",
      "PAYER_LICENSE : int64\n",
      "DOCTOR_LICENSE : object\n",
      "DEPARTMENT_TYPE : float64\n",
      "TREATMENT_TYPE : object\n",
      "CLAIM_INVOICE_NO : int64\n",
      "STAT_INVOICE_NO : int64\n",
      "PURCHASER_CODE : int64\n",
      "STATUS : object\n",
      "API_TRANS_ID : int64\n",
      "SUBMIT_CLAIM_OUTCOME : object\n",
      "SUBMIT_CLAIM_MESSAGE : object\n",
      "RES_STATUS : object\n",
      "RES_CLAIM_ID : object\n",
      "CONSULTATION_INVOICE_NO : object\n",
      "TREATMENT_SUB_TYPE : object\n",
      "ELIGIBILITY_RESPONSE_ID : object\n",
      "ELIGIBILITY_RESPONSE_SYSTEM : object\n",
      "CONTRACT_NO : int64\n",
      "ELIGIBILITY_API_TRANS_ID : float64\n",
      "CLAIM_IDENTIFIER : float64\n",
      "ATTACHED_FILES : object\n",
      "ATTACHMENT_TYPE : object\n",
      "NEW_BORN : object\n",
      "PATIENT_IDENTITY_TYPE : object\n",
      "BILLABLE_PERIOD_START : datetime64[ns]\n",
      "BILLABLE_PERIOD_END : datetime64[ns]\n",
      "BATCH_PERIOD_START : datetime64[ns]\n",
      "BATCH_PERIOD_END : datetime64[ns]\n",
      "Episode_Key : object\n",
      "ICD10 : object\n",
      "Diagnosis_Key : object\n"
     ]
    }
   ],
   "source": [
    "for col in df_original.columns:\n",
    "    print(col,\":\",df_original[col].dtype)"
   ],
   "metadata": {
    "collapsed": false,
    "ExecuteTime": {
     "end_time": "2024-08-16T15:05:54.762503200Z",
     "start_time": "2024-08-16T15:05:54.735576Z"
    }
   }
  },
  {
   "cell_type": "code",
   "execution_count": 7,
   "outputs": [
    {
     "data": {
      "text/plain": "398359            services\n398360      oral-health-op\n398361            services\n398365    medication-codes\n398364          procedures\n                ...       \n164577     medical-devices\n164576             imaging\n164575             imaging\n164573          procedures\n164579     medical-devices\nName: SERVICE_TYPE, Length: 207106, dtype: object"
     },
     "execution_count": 7,
     "metadata": {},
     "output_type": "execute_result"
    }
   ],
   "source": [
    "df_original.SERVICE_TYPE"
   ],
   "metadata": {
    "collapsed": false,
    "ExecuteTime": {
     "end_time": "2024-08-16T15:05:56.108383900Z",
     "start_time": "2024-08-16T15:05:56.090431900Z"
    }
   }
  },
  {
   "cell_type": "code",
   "execution_count": 8,
   "outputs": [
    {
     "data": {
      "text/plain": "CREATED_BY_USER           0\nCREATION_DATE             0\nVISIT_ID                  0\nNET_WITH_VAT              0\nSERVICE_DESCRIPTION       0\n                       ... \nBATCH_PERIOD_START        0\nBATCH_PERIOD_END          0\nEpisode_Key            4003\nICD10                  4003\nDiagnosis_Key          4003\nLength: 96, dtype: int64"
     },
     "execution_count": 8,
     "metadata": {},
     "output_type": "execute_result"
    }
   ],
   "source": [
    "df_original.isna().sum()"
   ],
   "metadata": {
    "collapsed": false,
    "ExecuteTime": {
     "end_time": "2024-08-16T15:05:58.075887400Z",
     "start_time": "2024-08-16T15:05:57.825557600Z"
    }
   }
  },
  {
   "cell_type": "code",
   "execution_count": 9,
   "outputs": [
    {
     "data": {
      "text/plain": "OUTCOME\nAPPROVED    107601\nREJECTED     85234\nPARTIAL      14271\nName: count, dtype: int64"
     },
     "execution_count": 9,
     "metadata": {},
     "output_type": "execute_result"
    }
   ],
   "source": [
    "df_original.OUTCOME.value_counts()"
   ],
   "metadata": {
    "collapsed": false,
    "ExecuteTime": {
     "end_time": "2024-08-16T15:05:59.626309100Z",
     "start_time": "2024-08-16T15:05:59.596845900Z"
    }
   }
  },
  {
   "cell_type": "code",
   "execution_count": 10,
   "outputs": [
    {
     "data": {
      "text/plain": "dtype('int64')"
     },
     "execution_count": 10,
     "metadata": {},
     "output_type": "execute_result"
    }
   ],
   "source": [
    "df_original.PATIENT_AGE.dtype"
   ],
   "metadata": {
    "collapsed": false,
    "ExecuteTime": {
     "end_time": "2024-08-16T15:06:01.319381300Z",
     "start_time": "2024-08-16T15:06:01.299643100Z"
    }
   }
  },
  {
   "cell_type": "code",
   "execution_count": 11,
   "outputs": [
    {
     "name": "stderr",
     "output_type": "stream",
     "text": [
      "E:\\Projects\\Claims_Rejection\\src\\data_local.py:264: FutureWarning: Downcasting behavior in `replace` is deprecated and will be removed in a future version. To retain the old behavior, explicitly call `result.infer_objects(copy=False)`. To opt-in to the future behavior, set `pd.set_option('future.no_silent_downcasting', True)`\n",
      "  self.df[column] = self.df[column].replace(column_encoding)\n",
      "E:\\Projects\\Claims_Rejection\\src\\data_local.py:269: FutureWarning: Downcasting behavior in `replace` is deprecated and will be removed in a future version. To retain the old behavior, explicitly call `result.infer_objects(copy=False)`. To opt-in to the future behavior, set `pd.set_option('future.no_silent_downcasting', True)`\n",
      "  self.df['PatientAgeRange'] = self.df.PatientAgeRange.replace(age_encoding)\n"
     ]
    }
   ],
   "source": [
    "df_prep = preprocessing.columns_prep()"
   ],
   "metadata": {
    "collapsed": false,
    "ExecuteTime": {
     "end_time": "2024-08-16T15:06:13.804968400Z",
     "start_time": "2024-08-16T15:06:02.500638600Z"
    }
   }
  },
  {
   "cell_type": "code",
   "execution_count": 12,
   "outputs": [
    {
     "data": {
      "text/plain": "        CREATED_BY_USER       CREATION_DATE  VISIT_ID  NET_WITH_VAT  \\\n398359             9643 2024-01-01 12:33:25    194135        134.40   \n398360             9643 2024-01-01 12:38:12    194136        138.00   \n398361             9643 2024-01-01 12:38:36    194137         12.98   \n398365             9643 2024-01-01 12:38:36    194137          1.56   \n398364             9643 2024-01-01 12:38:36    194137       1427.30   \n...                 ...                 ...       ...           ...   \n164577            10335 2024-05-30 11:46:53    252432          2.10   \n164576            10335 2024-05-30 11:46:53    252432        450.00   \n164575            10335 2024-05-30 11:46:53    252432        545.19   \n164573            10335 2024-05-30 11:46:53    252432         51.93   \n164579            10335 2024-05-30 11:46:53    252432         17.50   \n\n        SERVICE_DESCRIPTION  QTY  LINE_CLAIMED_AMOUNT  \\\n398359                  209  1.0               120.00   \n398360                  210  1.0               120.00   \n398361                  933  1.0                16.13   \n398365                  843  1.0                 1.69   \n398364                  905  1.0              1791.68   \n...                     ...  ...                  ...   \n164577                  449  1.0                 3.00   \n164576                  926  1.0               559.00   \n164575                  642  1.0               677.26   \n164573                  480  4.0                64.52   \n164579                  449  5.0                25.00   \n\n        LINE_CLAIMED_AMOUNT_SAR  CO_PAY  CO_INSURANCE  ...  NEW_BORN  \\\n398359                   120.00   24.00         96.00  ...         0   \n398360                   120.00    0.00        120.00  ...         0   \n398361                    16.13    0.00         16.13  ...         0   \n398365                     1.69    0.31          1.38  ...         0   \n398364                  1791.68  100.00       1691.68  ...         0   \n...                         ...     ...           ...  ...       ...   \n164577                     3.00    0.00          3.00  ...         1   \n164576                   559.00    0.00        559.00  ...         1   \n164575                   677.26    0.00        677.26  ...         1   \n164573                    64.52    0.00         64.52  ...         1   \n164579                    25.00    0.00         25.00  ...         1   \n\n        PATIENT_IDENTITY_TYPE  BILLABLE_PERIOD_START  BILLABLE_PERIOD_END  \\\n398359                     IQ    2023-12-07 00:00:00  2023-12-21 00:00:00   \n398360                      H    2023-12-06 00:00:00  2023-12-20 00:00:00   \n398361                      H    2023-12-03 00:00:00  2023-12-04 00:00:00   \n398365                      H    2023-12-03 00:00:00  2023-12-04 00:00:00   \n398364                      H    2023-12-03 00:00:00  2023-12-04 00:00:00   \n...                       ...                    ...                  ...   \n164577                      H    2024-05-07 11:39:50  2024-05-11 14:29:56   \n164576                      H    2024-05-07 11:39:50  2024-05-11 14:29:56   \n164575                      H    2024-05-07 11:39:50  2024-05-11 14:29:56   \n164573                      H    2024-05-07 11:39:50  2024-05-11 14:29:56   \n164579                      H    2024-05-07 11:39:50  2024-05-11 14:29:56   \n\n        BATCH_PERIOD_START  BATCH_PERIOD_END  Episode_Key  ICD10  \\\n398359          2023-12-01        2023-12-10  1_1346536-2     11   \n398360          2023-12-01        2023-12-10  1_1343530-4     12   \n398361          2023-12-01        2023-12-10  1_1343731-2     15   \n398365          2023-12-01        2023-12-10  1_1343731-2     15   \n398364          2023-12-01        2023-12-10  1_1343731-2     15   \n...                    ...               ...          ...    ...   \n164577          2024-05-01        2024-05-15  1_1370946-1     22   \n164576          2024-05-01        2024-05-15  1_1370946-1     22   \n164575          2024-05-01        2024-05-15  1_1370946-1     22   \n164573          2024-05-01        2024-05-15  1_1370946-1     22   \n164579          2024-05-01        2024-05-15  1_1370946-1     22   \n\n        Diagnosis_Key  PatientAgeRange  \n398359   1_1111225808                6  \n398360   1_1111225570                1  \n398361   1_1111228814                5  \n398365   1_1111228814                5  \n398364   1_1111228814                5  \n...               ...              ...  \n164577    1_111260843                1  \n164576    1_111260843                1  \n164575    1_111260843                1  \n164573    1_111260843                1  \n164579    1_111260843                1  \n\n[207106 rows x 97 columns]",
      "text/html": "<div>\n<style scoped>\n    .dataframe tbody tr th:only-of-type {\n        vertical-align: middle;\n    }\n\n    .dataframe tbody tr th {\n        vertical-align: top;\n    }\n\n    .dataframe thead th {\n        text-align: right;\n    }\n</style>\n<table border=\"1\" class=\"dataframe\">\n  <thead>\n    <tr style=\"text-align: right;\">\n      <th></th>\n      <th>CREATED_BY_USER</th>\n      <th>CREATION_DATE</th>\n      <th>VISIT_ID</th>\n      <th>NET_WITH_VAT</th>\n      <th>SERVICE_DESCRIPTION</th>\n      <th>QTY</th>\n      <th>LINE_CLAIMED_AMOUNT</th>\n      <th>LINE_CLAIMED_AMOUNT_SAR</th>\n      <th>CO_PAY</th>\n      <th>CO_INSURANCE</th>\n      <th>...</th>\n      <th>NEW_BORN</th>\n      <th>PATIENT_IDENTITY_TYPE</th>\n      <th>BILLABLE_PERIOD_START</th>\n      <th>BILLABLE_PERIOD_END</th>\n      <th>BATCH_PERIOD_START</th>\n      <th>BATCH_PERIOD_END</th>\n      <th>Episode_Key</th>\n      <th>ICD10</th>\n      <th>Diagnosis_Key</th>\n      <th>PatientAgeRange</th>\n    </tr>\n  </thead>\n  <tbody>\n    <tr>\n      <th>398359</th>\n      <td>9643</td>\n      <td>2024-01-01 12:33:25</td>\n      <td>194135</td>\n      <td>134.40</td>\n      <td>209</td>\n      <td>1.0</td>\n      <td>120.00</td>\n      <td>120.00</td>\n      <td>24.00</td>\n      <td>96.00</td>\n      <td>...</td>\n      <td>0</td>\n      <td>IQ</td>\n      <td>2023-12-07 00:00:00</td>\n      <td>2023-12-21 00:00:00</td>\n      <td>2023-12-01</td>\n      <td>2023-12-10</td>\n      <td>1_1346536-2</td>\n      <td>11</td>\n      <td>1_1111225808</td>\n      <td>6</td>\n    </tr>\n    <tr>\n      <th>398360</th>\n      <td>9643</td>\n      <td>2024-01-01 12:38:12</td>\n      <td>194136</td>\n      <td>138.00</td>\n      <td>210</td>\n      <td>1.0</td>\n      <td>120.00</td>\n      <td>120.00</td>\n      <td>0.00</td>\n      <td>120.00</td>\n      <td>...</td>\n      <td>0</td>\n      <td>H</td>\n      <td>2023-12-06 00:00:00</td>\n      <td>2023-12-20 00:00:00</td>\n      <td>2023-12-01</td>\n      <td>2023-12-10</td>\n      <td>1_1343530-4</td>\n      <td>12</td>\n      <td>1_1111225570</td>\n      <td>1</td>\n    </tr>\n    <tr>\n      <th>398361</th>\n      <td>9643</td>\n      <td>2024-01-01 12:38:36</td>\n      <td>194137</td>\n      <td>12.98</td>\n      <td>933</td>\n      <td>1.0</td>\n      <td>16.13</td>\n      <td>16.13</td>\n      <td>0.00</td>\n      <td>16.13</td>\n      <td>...</td>\n      <td>0</td>\n      <td>H</td>\n      <td>2023-12-03 00:00:00</td>\n      <td>2023-12-04 00:00:00</td>\n      <td>2023-12-01</td>\n      <td>2023-12-10</td>\n      <td>1_1343731-2</td>\n      <td>15</td>\n      <td>1_1111228814</td>\n      <td>5</td>\n    </tr>\n    <tr>\n      <th>398365</th>\n      <td>9643</td>\n      <td>2024-01-01 12:38:36</td>\n      <td>194137</td>\n      <td>1.56</td>\n      <td>843</td>\n      <td>1.0</td>\n      <td>1.69</td>\n      <td>1.69</td>\n      <td>0.31</td>\n      <td>1.38</td>\n      <td>...</td>\n      <td>0</td>\n      <td>H</td>\n      <td>2023-12-03 00:00:00</td>\n      <td>2023-12-04 00:00:00</td>\n      <td>2023-12-01</td>\n      <td>2023-12-10</td>\n      <td>1_1343731-2</td>\n      <td>15</td>\n      <td>1_1111228814</td>\n      <td>5</td>\n    </tr>\n    <tr>\n      <th>398364</th>\n      <td>9643</td>\n      <td>2024-01-01 12:38:36</td>\n      <td>194137</td>\n      <td>1427.30</td>\n      <td>905</td>\n      <td>1.0</td>\n      <td>1791.68</td>\n      <td>1791.68</td>\n      <td>100.00</td>\n      <td>1691.68</td>\n      <td>...</td>\n      <td>0</td>\n      <td>H</td>\n      <td>2023-12-03 00:00:00</td>\n      <td>2023-12-04 00:00:00</td>\n      <td>2023-12-01</td>\n      <td>2023-12-10</td>\n      <td>1_1343731-2</td>\n      <td>15</td>\n      <td>1_1111228814</td>\n      <td>5</td>\n    </tr>\n    <tr>\n      <th>...</th>\n      <td>...</td>\n      <td>...</td>\n      <td>...</td>\n      <td>...</td>\n      <td>...</td>\n      <td>...</td>\n      <td>...</td>\n      <td>...</td>\n      <td>...</td>\n      <td>...</td>\n      <td>...</td>\n      <td>...</td>\n      <td>...</td>\n      <td>...</td>\n      <td>...</td>\n      <td>...</td>\n      <td>...</td>\n      <td>...</td>\n      <td>...</td>\n      <td>...</td>\n      <td>...</td>\n    </tr>\n    <tr>\n      <th>164577</th>\n      <td>10335</td>\n      <td>2024-05-30 11:46:53</td>\n      <td>252432</td>\n      <td>2.10</td>\n      <td>449</td>\n      <td>1.0</td>\n      <td>3.00</td>\n      <td>3.00</td>\n      <td>0.00</td>\n      <td>3.00</td>\n      <td>...</td>\n      <td>1</td>\n      <td>H</td>\n      <td>2024-05-07 11:39:50</td>\n      <td>2024-05-11 14:29:56</td>\n      <td>2024-05-01</td>\n      <td>2024-05-15</td>\n      <td>1_1370946-1</td>\n      <td>22</td>\n      <td>1_111260843</td>\n      <td>1</td>\n    </tr>\n    <tr>\n      <th>164576</th>\n      <td>10335</td>\n      <td>2024-05-30 11:46:53</td>\n      <td>252432</td>\n      <td>450.00</td>\n      <td>926</td>\n      <td>1.0</td>\n      <td>559.00</td>\n      <td>559.00</td>\n      <td>0.00</td>\n      <td>559.00</td>\n      <td>...</td>\n      <td>1</td>\n      <td>H</td>\n      <td>2024-05-07 11:39:50</td>\n      <td>2024-05-11 14:29:56</td>\n      <td>2024-05-01</td>\n      <td>2024-05-15</td>\n      <td>1_1370946-1</td>\n      <td>22</td>\n      <td>1_111260843</td>\n      <td>1</td>\n    </tr>\n    <tr>\n      <th>164575</th>\n      <td>10335</td>\n      <td>2024-05-30 11:46:53</td>\n      <td>252432</td>\n      <td>545.19</td>\n      <td>642</td>\n      <td>1.0</td>\n      <td>677.26</td>\n      <td>677.26</td>\n      <td>0.00</td>\n      <td>677.26</td>\n      <td>...</td>\n      <td>1</td>\n      <td>H</td>\n      <td>2024-05-07 11:39:50</td>\n      <td>2024-05-11 14:29:56</td>\n      <td>2024-05-01</td>\n      <td>2024-05-15</td>\n      <td>1_1370946-1</td>\n      <td>22</td>\n      <td>1_111260843</td>\n      <td>1</td>\n    </tr>\n    <tr>\n      <th>164573</th>\n      <td>10335</td>\n      <td>2024-05-30 11:46:53</td>\n      <td>252432</td>\n      <td>51.93</td>\n      <td>480</td>\n      <td>4.0</td>\n      <td>64.52</td>\n      <td>64.52</td>\n      <td>0.00</td>\n      <td>64.52</td>\n      <td>...</td>\n      <td>1</td>\n      <td>H</td>\n      <td>2024-05-07 11:39:50</td>\n      <td>2024-05-11 14:29:56</td>\n      <td>2024-05-01</td>\n      <td>2024-05-15</td>\n      <td>1_1370946-1</td>\n      <td>22</td>\n      <td>1_111260843</td>\n      <td>1</td>\n    </tr>\n    <tr>\n      <th>164579</th>\n      <td>10335</td>\n      <td>2024-05-30 11:46:53</td>\n      <td>252432</td>\n      <td>17.50</td>\n      <td>449</td>\n      <td>5.0</td>\n      <td>25.00</td>\n      <td>25.00</td>\n      <td>0.00</td>\n      <td>25.00</td>\n      <td>...</td>\n      <td>1</td>\n      <td>H</td>\n      <td>2024-05-07 11:39:50</td>\n      <td>2024-05-11 14:29:56</td>\n      <td>2024-05-01</td>\n      <td>2024-05-15</td>\n      <td>1_1370946-1</td>\n      <td>22</td>\n      <td>1_111260843</td>\n      <td>1</td>\n    </tr>\n  </tbody>\n</table>\n<p>207106 rows × 97 columns</p>\n</div>"
     },
     "execution_count": 12,
     "metadata": {},
     "output_type": "execute_result"
    }
   ],
   "source": [
    "df_prep"
   ],
   "metadata": {
    "collapsed": false,
    "ExecuteTime": {
     "end_time": "2024-08-16T15:06:14.039340900Z",
     "start_time": "2024-08-16T15:06:13.805967500Z"
    }
   }
  },
  {
   "cell_type": "code",
   "execution_count": 13,
   "outputs": [],
   "source": [
    "df_prep.to_parquet('s.parquet')"
   ],
   "metadata": {
    "collapsed": false,
    "ExecuteTime": {
     "end_time": "2024-08-16T15:06:32.011708100Z",
     "start_time": "2024-08-16T15:06:30.498782800Z"
    }
   }
  },
  {
   "cell_type": "code",
   "execution_count": 14,
   "outputs": [
    {
     "data": {
      "text/plain": "dtype('float64')"
     },
     "execution_count": 14,
     "metadata": {},
     "output_type": "execute_result"
    }
   ],
   "source": [
    "df_prep.NET_WITH_VAT.dtype"
   ],
   "metadata": {
    "collapsed": false,
    "ExecuteTime": {
     "end_time": "2024-08-16T15:07:07.671682100Z",
     "start_time": "2024-08-16T15:07:07.641764800Z"
    }
   }
  },
  {
   "cell_type": "code",
   "execution_count": 15,
   "outputs": [],
   "source": [
    "df_train, df_test = preprocessing.train_test_split(test_size=0.2,random_state=6)"
   ],
   "metadata": {
    "collapsed": false,
    "ExecuteTime": {
     "end_time": "2024-08-16T15:07:09.210262600Z",
     "start_time": "2024-08-16T15:07:08.353315500Z"
    }
   }
  },
  {
   "cell_type": "code",
   "execution_count": 16,
   "outputs": [
    {
     "data": {
      "text/plain": "0.24731092133315666"
     },
     "execution_count": 16,
     "metadata": {},
     "output_type": "execute_result"
    }
   ],
   "source": [
    "len(df_test)/ len(df_train)"
   ],
   "metadata": {
    "collapsed": false,
    "ExecuteTime": {
     "end_time": "2024-08-16T15:07:10.226049700Z",
     "start_time": "2024-08-16T15:07:10.200107300Z"
    }
   }
  },
  {
   "cell_type": "code",
   "execution_count": 17,
   "outputs": [
    {
     "data": {
      "text/plain": "[]"
     },
     "execution_count": 17,
     "metadata": {},
     "output_type": "execute_result"
    }
   ],
   "source": [
    "ls1 = list(df_train.sort_values(by='VISIT_ID')['VISIT_ID'])\n",
    "ls2 = list(df_test.sort_values(by='VISIT_ID')['VISIT_ID'])\n",
    "intersection = list(set(ls1) & set(ls2))\n",
    "intersection ## to find the repeated transaction id between them"
   ],
   "metadata": {
    "collapsed": false,
    "ExecuteTime": {
     "end_time": "2024-08-16T15:07:20.849856100Z",
     "start_time": "2024-08-16T15:07:20.612749500Z"
    }
   }
  },
  {
   "cell_type": "code",
   "execution_count": 18,
   "outputs": [
    {
     "data": {
      "text/plain": "4.043493083966491"
     },
     "execution_count": 18,
     "metadata": {},
     "output_type": "execute_result"
    }
   ],
   "source": [
    "len(df_train) / len(df_test)"
   ],
   "metadata": {
    "collapsed": false,
    "ExecuteTime": {
     "end_time": "2024-08-16T15:07:23.019781100Z",
     "start_time": "2024-08-16T15:07:22.992733600Z"
    }
   }
  },
  {
   "cell_type": "code",
   "execution_count": 19,
   "outputs": [],
   "source": [
    "path_date = 'data/HJH/12-06-2024'; train_prq = path_date + '/train.parquet';test_prq = path_date + '/test.parquet'\n",
    "\n",
    "df_train.to_parquet(train_prq)\n",
    "df_test.to_parquet(test_prq)"
   ],
   "metadata": {
    "collapsed": false,
    "ExecuteTime": {
     "end_time": "2024-08-16T15:07:25.131183100Z",
     "start_time": "2024-08-16T15:07:23.671360300Z"
    }
   }
  },
  {
   "cell_type": "code",
   "execution_count": null,
   "outputs": [],
   "source": [],
   "metadata": {
    "collapsed": false
   }
  }
 ],
 "metadata": {
  "kernelspec": {
   "display_name": "Python 3",
   "language": "python",
   "name": "python3"
  },
  "language_info": {
   "codemirror_mode": {
    "name": "ipython",
    "version": 2
   },
   "file_extension": ".py",
   "mimetype": "text/x-python",
   "name": "python",
   "nbconvert_exporter": "python",
   "pygments_lexer": "ipython2",
   "version": "2.7.6"
  }
 },
 "nbformat": 4,
 "nbformat_minor": 0
}
