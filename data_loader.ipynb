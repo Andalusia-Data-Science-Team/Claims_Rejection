{
 "cells": [
  {
   "cell_type": "code",
   "execution_count": 1,
   "outputs": [],
   "source": [
    "from src.data_application import DataFrameProcessor\n",
    "from src.data_local import DataLoader ,MergedDataPreprocessing\n",
    "from cashe import get_cashed_input"
   ],
   "metadata": {
    "collapsed": false,
    "ExecuteTime": {
     "end_time": "2024-05-26T09:30:59.228096100Z",
     "start_time": "2024-05-26T09:29:58.734182200Z"
    }
   }
  },
  {
   "cell_type": "markdown",
   "source": [
    "## HJH Dataset\n",
    "loaded on 23/5/2024"
   ],
   "metadata": {
    "collapsed": false
   }
  },
  {
   "cell_type": "code",
   "execution_count": 2,
   "outputs": [],
   "source": [
    "df_original = get_cashed_input()"
   ],
   "metadata": {
    "collapsed": false,
    "ExecuteTime": {
     "end_time": "2024-05-26T09:31:01.315674900Z",
     "start_time": "2024-05-26T09:30:59.230092500Z"
    }
   }
  },
  {
   "cell_type": "code",
   "execution_count": 3,
   "outputs": [
    {
     "data": {
      "text/plain": "        CREATED_BY_USER       CREATION_DATE  VISIT_ID  NET_WITH_VAT  \\\n0                  9521 2024-04-04 22:57:57    230089         56.12   \n1                  9521 2024-04-04 23:02:21    230117        202.40   \n2                  9521 2024-04-04 23:08:38    230160        408.08   \n3                  9521 2024-04-04 22:26:08    229872         24.27   \n4                  9521 2024-04-04 22:34:22    229913         80.64   \n...                 ...                 ...       ...           ...   \n488828             9593 2024-01-23 17:20:54    204110        242.48   \n488829            10962 2024-01-28 01:01:05    204377          1.06   \n488830            10962 2024-01-28 01:01:05    204377          1.14   \n488831            10962 2024-01-28 01:01:05    204377          1.79   \n488832             9593 2024-01-23 16:35:34    204093        144.56   \n\n                             SERVICE_DESCRIPTION  QTY  LINE_CLAIMED_AMOUNT  \\\n0                                  Unlisted Code  1.0                61.00   \n1                                            TSH  1.0               220.00   \n2                            In vivo laboratory   1.0               475.00   \n3                            ELICA-M CREAM 30 GM  1.0                25.55   \n4                 Peripheral intravenous cannula  1.0                90.00   \n...                                          ...  ...                  ...   \n488828  Quantitative Troponin (Protein) Analysis  1.0               324.39   \n488829                       NEBILET 5MG TABLETS  1.0                 1.14   \n488830                   Unlisted Procedure Code  5.0                 1.77   \n488831                 SALURIN 20MG-2ML AMPOULES  1.0                 1.93   \n488832              Radiography of chest, 1 view  1.0               193.39   \n\n        LINE_CLAIMED_AMOUNT_SAR  CO_PAY  CO_INSURANCE  ...  \\\n0                         61.00    0.00         61.00  ...   \n1                        220.00    0.00        220.00  ...   \n2                        475.00   10.75        464.25  ...   \n3                         25.55    4.85         20.70  ...   \n4                         90.00   14.40         75.60  ...   \n...                         ...     ...           ...  ...   \n488828                   324.39    0.00        324.39  ...   \n488829                     1.14    0.00          1.14  ...   \n488830                     1.77    0.00          1.77  ...   \n488831                     1.93    0.00          1.93  ...   \n488832                   193.39    0.00        193.39  ...   \n\n        ELIGIBILITY_API_TRANS_ID  CLAIM_IDENTIFIER  \\\n0                      1680350.0         4430078.0   \n1                      1643690.0         4430087.0   \n2                      1616370.0         4430098.0   \n3                      1638278.0         4430011.0   \n4                      1657180.0         4430028.0   \n...                          ...               ...   \n488828                       NaN         4404986.0   \n488829                       NaN         4404989.0   \n488830                       NaN         4404989.0   \n488831                       NaN         4404989.0   \n488832                       NaN         4405026.0   \n\n                                           ATTACHED_FILES  ATTACHMENT_TYPE  \\\n0       929362-34-4430078_OPDUCAF_2024-04-04_22-57-36_...             FILE   \n1       1083147-3-4430087_OPDUCAF_2024-04-04_23-01-52_...             FILE   \n2       1339075-6-4430098_OPDUCAF_2024-04-04_23-08-22_...             FILE   \n3       656928-60-4430011_OPDUCAF_2024-04-04_22-25-48_...             FILE   \n4       1019628-25-4430028_OPDUCAF_2024-04-04_22-33-56...             FILE   \n...                                                   ...              ...   \n488828  1348956-2-4404986_OPDUCAF_2024-01-23_17-17-31_...             FILE   \n488829  1349595-2-4404989_LABCHRT1_2024-01-28_01-00-04...             FILE   \n488830  1349595-2-4404989_LABCHRT1_2024-01-28_01-00-04...             FILE   \n488831  1349595-2-4404989_LABCHRT1_2024-01-28_01-00-04...             FILE   \n488832  1348795-1-4405026_OPDUCAF_2024-01-23_16-35-06_...             FILE   \n\n        NEW_BORN  PATIENT_IDENTITY_TYPE BILLABLE_PERIOD_START  \\\n0              N                      H   2024-03-28 00:00:00   \n1              N                      H   2024-03-12 00:00:00   \n2              N                      H   2024-03-04 00:00:00   \n3              N                      H   2024-03-10 00:00:00   \n4              N                      H   2024-03-18 00:00:00   \n...          ...                    ...                   ...   \n488828         N                     IQ   2023-12-24 10:28:07   \n488829         N                     IQ   2023-12-27 20:51:37   \n488830         N                     IQ   2023-12-27 20:51:37   \n488831         N                     IQ   2023-12-27 20:51:37   \n488832         N                     IQ   2023-12-22 00:00:00   \n\n        BILLABLE_PERIOD_END  BATCH_PERIOD_START  BATCH_PERIOD_END  \n0       2024-04-11 00:00:00          2024-03-01        2024-03-31  \n1       2024-03-26 00:00:00          2024-03-01        2024-03-31  \n2       2024-03-18 00:00:00          2024-03-01        2024-03-31  \n3       2024-03-24 00:00:00          2024-03-01        2024-03-31  \n4       2024-04-01 00:00:00          2024-03-01        2024-03-31  \n...                     ...                 ...               ...  \n488828  2023-12-28 12:07:18          2023-12-01        2023-12-31  \n488829  2023-12-31 17:16:53          2023-12-01        2023-12-31  \n488830  2023-12-31 17:16:53          2023-12-01        2023-12-31  \n488831  2023-12-31 17:16:53          2023-12-01        2023-12-31  \n488832  2024-01-05 00:00:00          2023-12-01        2023-12-31  \n\n[488833 rows x 93 columns]",
      "text/html": "<div>\n<style scoped>\n    .dataframe tbody tr th:only-of-type {\n        vertical-align: middle;\n    }\n\n    .dataframe tbody tr th {\n        vertical-align: top;\n    }\n\n    .dataframe thead th {\n        text-align: right;\n    }\n</style>\n<table border=\"1\" class=\"dataframe\">\n  <thead>\n    <tr style=\"text-align: right;\">\n      <th></th>\n      <th>CREATED_BY_USER</th>\n      <th>CREATION_DATE</th>\n      <th>VISIT_ID</th>\n      <th>NET_WITH_VAT</th>\n      <th>SERVICE_DESCRIPTION</th>\n      <th>QTY</th>\n      <th>LINE_CLAIMED_AMOUNT</th>\n      <th>LINE_CLAIMED_AMOUNT_SAR</th>\n      <th>CO_PAY</th>\n      <th>CO_INSURANCE</th>\n      <th>...</th>\n      <th>ELIGIBILITY_API_TRANS_ID</th>\n      <th>CLAIM_IDENTIFIER</th>\n      <th>ATTACHED_FILES</th>\n      <th>ATTACHMENT_TYPE</th>\n      <th>NEW_BORN</th>\n      <th>PATIENT_IDENTITY_TYPE</th>\n      <th>BILLABLE_PERIOD_START</th>\n      <th>BILLABLE_PERIOD_END</th>\n      <th>BATCH_PERIOD_START</th>\n      <th>BATCH_PERIOD_END</th>\n    </tr>\n  </thead>\n  <tbody>\n    <tr>\n      <th>0</th>\n      <td>9521</td>\n      <td>2024-04-04 22:57:57</td>\n      <td>230089</td>\n      <td>56.12</td>\n      <td>Unlisted Code</td>\n      <td>1.0</td>\n      <td>61.00</td>\n      <td>61.00</td>\n      <td>0.00</td>\n      <td>61.00</td>\n      <td>...</td>\n      <td>1680350.0</td>\n      <td>4430078.0</td>\n      <td>929362-34-4430078_OPDUCAF_2024-04-04_22-57-36_...</td>\n      <td>FILE</td>\n      <td>N</td>\n      <td>H</td>\n      <td>2024-03-28 00:00:00</td>\n      <td>2024-04-11 00:00:00</td>\n      <td>2024-03-01</td>\n      <td>2024-03-31</td>\n    </tr>\n    <tr>\n      <th>1</th>\n      <td>9521</td>\n      <td>2024-04-04 23:02:21</td>\n      <td>230117</td>\n      <td>202.40</td>\n      <td>TSH</td>\n      <td>1.0</td>\n      <td>220.00</td>\n      <td>220.00</td>\n      <td>0.00</td>\n      <td>220.00</td>\n      <td>...</td>\n      <td>1643690.0</td>\n      <td>4430087.0</td>\n      <td>1083147-3-4430087_OPDUCAF_2024-04-04_23-01-52_...</td>\n      <td>FILE</td>\n      <td>N</td>\n      <td>H</td>\n      <td>2024-03-12 00:00:00</td>\n      <td>2024-03-26 00:00:00</td>\n      <td>2024-03-01</td>\n      <td>2024-03-31</td>\n    </tr>\n    <tr>\n      <th>2</th>\n      <td>9521</td>\n      <td>2024-04-04 23:08:38</td>\n      <td>230160</td>\n      <td>408.08</td>\n      <td>In vivo laboratory</td>\n      <td>1.0</td>\n      <td>475.00</td>\n      <td>475.00</td>\n      <td>10.75</td>\n      <td>464.25</td>\n      <td>...</td>\n      <td>1616370.0</td>\n      <td>4430098.0</td>\n      <td>1339075-6-4430098_OPDUCAF_2024-04-04_23-08-22_...</td>\n      <td>FILE</td>\n      <td>N</td>\n      <td>H</td>\n      <td>2024-03-04 00:00:00</td>\n      <td>2024-03-18 00:00:00</td>\n      <td>2024-03-01</td>\n      <td>2024-03-31</td>\n    </tr>\n    <tr>\n      <th>3</th>\n      <td>9521</td>\n      <td>2024-04-04 22:26:08</td>\n      <td>229872</td>\n      <td>24.27</td>\n      <td>ELICA-M CREAM 30 GM</td>\n      <td>1.0</td>\n      <td>25.55</td>\n      <td>25.55</td>\n      <td>4.85</td>\n      <td>20.70</td>\n      <td>...</td>\n      <td>1638278.0</td>\n      <td>4430011.0</td>\n      <td>656928-60-4430011_OPDUCAF_2024-04-04_22-25-48_...</td>\n      <td>FILE</td>\n      <td>N</td>\n      <td>H</td>\n      <td>2024-03-10 00:00:00</td>\n      <td>2024-03-24 00:00:00</td>\n      <td>2024-03-01</td>\n      <td>2024-03-31</td>\n    </tr>\n    <tr>\n      <th>4</th>\n      <td>9521</td>\n      <td>2024-04-04 22:34:22</td>\n      <td>229913</td>\n      <td>80.64</td>\n      <td>Peripheral intravenous cannula</td>\n      <td>1.0</td>\n      <td>90.00</td>\n      <td>90.00</td>\n      <td>14.40</td>\n      <td>75.60</td>\n      <td>...</td>\n      <td>1657180.0</td>\n      <td>4430028.0</td>\n      <td>1019628-25-4430028_OPDUCAF_2024-04-04_22-33-56...</td>\n      <td>FILE</td>\n      <td>N</td>\n      <td>H</td>\n      <td>2024-03-18 00:00:00</td>\n      <td>2024-04-01 00:00:00</td>\n      <td>2024-03-01</td>\n      <td>2024-03-31</td>\n    </tr>\n    <tr>\n      <th>...</th>\n      <td>...</td>\n      <td>...</td>\n      <td>...</td>\n      <td>...</td>\n      <td>...</td>\n      <td>...</td>\n      <td>...</td>\n      <td>...</td>\n      <td>...</td>\n      <td>...</td>\n      <td>...</td>\n      <td>...</td>\n      <td>...</td>\n      <td>...</td>\n      <td>...</td>\n      <td>...</td>\n      <td>...</td>\n      <td>...</td>\n      <td>...</td>\n      <td>...</td>\n      <td>...</td>\n    </tr>\n    <tr>\n      <th>488828</th>\n      <td>9593</td>\n      <td>2024-01-23 17:20:54</td>\n      <td>204110</td>\n      <td>242.48</td>\n      <td>Quantitative Troponin (Protein) Analysis</td>\n      <td>1.0</td>\n      <td>324.39</td>\n      <td>324.39</td>\n      <td>0.00</td>\n      <td>324.39</td>\n      <td>...</td>\n      <td>NaN</td>\n      <td>4404986.0</td>\n      <td>1348956-2-4404986_OPDUCAF_2024-01-23_17-17-31_...</td>\n      <td>FILE</td>\n      <td>N</td>\n      <td>IQ</td>\n      <td>2023-12-24 10:28:07</td>\n      <td>2023-12-28 12:07:18</td>\n      <td>2023-12-01</td>\n      <td>2023-12-31</td>\n    </tr>\n    <tr>\n      <th>488829</th>\n      <td>10962</td>\n      <td>2024-01-28 01:01:05</td>\n      <td>204377</td>\n      <td>1.06</td>\n      <td>NEBILET 5MG TABLETS</td>\n      <td>1.0</td>\n      <td>1.14</td>\n      <td>1.14</td>\n      <td>0.00</td>\n      <td>1.14</td>\n      <td>...</td>\n      <td>NaN</td>\n      <td>4404989.0</td>\n      <td>1349595-2-4404989_LABCHRT1_2024-01-28_01-00-04...</td>\n      <td>FILE</td>\n      <td>N</td>\n      <td>IQ</td>\n      <td>2023-12-27 20:51:37</td>\n      <td>2023-12-31 17:16:53</td>\n      <td>2023-12-01</td>\n      <td>2023-12-31</td>\n    </tr>\n    <tr>\n      <th>488830</th>\n      <td>10962</td>\n      <td>2024-01-28 01:01:05</td>\n      <td>204377</td>\n      <td>1.14</td>\n      <td>Unlisted Procedure Code</td>\n      <td>5.0</td>\n      <td>1.77</td>\n      <td>1.77</td>\n      <td>0.00</td>\n      <td>1.77</td>\n      <td>...</td>\n      <td>NaN</td>\n      <td>4404989.0</td>\n      <td>1349595-2-4404989_LABCHRT1_2024-01-28_01-00-04...</td>\n      <td>FILE</td>\n      <td>N</td>\n      <td>IQ</td>\n      <td>2023-12-27 20:51:37</td>\n      <td>2023-12-31 17:16:53</td>\n      <td>2023-12-01</td>\n      <td>2023-12-31</td>\n    </tr>\n    <tr>\n      <th>488831</th>\n      <td>10962</td>\n      <td>2024-01-28 01:01:05</td>\n      <td>204377</td>\n      <td>1.79</td>\n      <td>SALURIN 20MG-2ML AMPOULES</td>\n      <td>1.0</td>\n      <td>1.93</td>\n      <td>1.93</td>\n      <td>0.00</td>\n      <td>1.93</td>\n      <td>...</td>\n      <td>NaN</td>\n      <td>4404989.0</td>\n      <td>1349595-2-4404989_LABCHRT1_2024-01-28_01-00-04...</td>\n      <td>FILE</td>\n      <td>N</td>\n      <td>IQ</td>\n      <td>2023-12-27 20:51:37</td>\n      <td>2023-12-31 17:16:53</td>\n      <td>2023-12-01</td>\n      <td>2023-12-31</td>\n    </tr>\n    <tr>\n      <th>488832</th>\n      <td>9593</td>\n      <td>2024-01-23 16:35:34</td>\n      <td>204093</td>\n      <td>144.56</td>\n      <td>Radiography of chest, 1 view</td>\n      <td>1.0</td>\n      <td>193.39</td>\n      <td>193.39</td>\n      <td>0.00</td>\n      <td>193.39</td>\n      <td>...</td>\n      <td>NaN</td>\n      <td>4405026.0</td>\n      <td>1348795-1-4405026_OPDUCAF_2024-01-23_16-35-06_...</td>\n      <td>FILE</td>\n      <td>N</td>\n      <td>IQ</td>\n      <td>2023-12-22 00:00:00</td>\n      <td>2024-01-05 00:00:00</td>\n      <td>2023-12-01</td>\n      <td>2023-12-31</td>\n    </tr>\n  </tbody>\n</table>\n<p>488833 rows × 93 columns</p>\n</div>"
     },
     "execution_count": 3,
     "metadata": {},
     "output_type": "execute_result"
    }
   ],
   "source": [
    "df_original"
   ],
   "metadata": {
    "collapsed": false,
    "ExecuteTime": {
     "end_time": "2024-05-26T09:31:04.509682700Z",
     "start_time": "2024-05-26T09:31:04.236556800Z"
    }
   }
  },
  {
   "cell_type": "code",
   "execution_count": 4,
   "outputs": [],
   "source": [
    "preprocessing = MergedDataPreprocessing(df_original)"
   ],
   "metadata": {
    "collapsed": false,
    "ExecuteTime": {
     "end_time": "2024-05-26T09:31:22.745372100Z",
     "start_time": "2024-05-26T09:31:22.715048300Z"
    }
   }
  },
  {
   "cell_type": "code",
   "execution_count": null,
   "outputs": [],
   "source": [
    "df_prep = preprocessing.columns_prep()"
   ],
   "metadata": {
    "collapsed": false
   }
  },
  {
   "cell_type": "code",
   "execution_count": 7,
   "outputs": [
    {
     "data": {
      "text/plain": "        CREATED_BY_USER       CREATION_DATE  VISIT_ID  NET_WITH_VAT  \\\n0                  9521 2024-04-04 22:57:57    230089         56.12   \n1                  9521 2024-04-04 23:02:21    230117        202.40   \n2                  9521 2024-04-04 23:08:38    230160        408.08   \n3                  9521 2024-04-04 22:26:08    229872         24.27   \n4                  9521 2024-04-04 22:34:22    229913         80.64   \n...                 ...                 ...       ...           ...   \n488828             9593 2024-01-23 17:20:54    204110        242.48   \n488829            10962 2024-01-28 01:01:05    204377          1.06   \n488830            10962 2024-01-28 01:01:05    204377          1.14   \n488831            10962 2024-01-28 01:01:05    204377          1.79   \n488832             9593 2024-01-23 16:35:34    204093        144.56   \n\n                             SERVICE_DESCRIPTION  QTY  LINE_CLAIMED_AMOUNT  \\\n0                                  Unlisted Code  1.0                61.00   \n1                                            TSH  1.0               220.00   \n2                            In vivo laboratory   1.0               475.00   \n3                            ELICA-M CREAM 30 GM  1.0                25.55   \n4                 Peripheral intravenous cannula  1.0                90.00   \n...                                          ...  ...                  ...   \n488828  Quantitative Troponin (Protein) Analysis  1.0               324.39   \n488829                       NEBILET 5MG TABLETS  1.0                 1.14   \n488830                   Unlisted Procedure Code  5.0                 1.77   \n488831                 SALURIN 20MG-2ML AMPOULES  1.0                 1.93   \n488832              Radiography of chest, 1 view  1.0               193.39   \n\n        LINE_CLAIMED_AMOUNT_SAR  CO_PAY  CO_INSURANCE  ...  CLAIM_IDENTIFIER  \\\n0                         61.00    0.00         61.00  ...         4430078.0   \n1                        220.00    0.00        220.00  ...         4430087.0   \n2                        475.00   10.75        464.25  ...         4430098.0   \n3                         25.55    4.85         20.70  ...         4430011.0   \n4                         90.00   14.40         75.60  ...         4430028.0   \n...                         ...     ...           ...  ...               ...   \n488828                   324.39    0.00        324.39  ...         4404986.0   \n488829                     1.14    0.00          1.14  ...         4404989.0   \n488830                     1.77    0.00          1.77  ...         4404989.0   \n488831                     1.93    0.00          1.93  ...         4404989.0   \n488832                   193.39    0.00        193.39  ...         4405026.0   \n\n                                           ATTACHED_FILES  ATTACHMENT_TYPE  \\\n0       929362-34-4430078_OPDUCAF_2024-04-04_22-57-36_...             FILE   \n1       1083147-3-4430087_OPDUCAF_2024-04-04_23-01-52_...             FILE   \n2       1339075-6-4430098_OPDUCAF_2024-04-04_23-08-22_...             FILE   \n3       656928-60-4430011_OPDUCAF_2024-04-04_22-25-48_...             FILE   \n4       1019628-25-4430028_OPDUCAF_2024-04-04_22-33-56...             FILE   \n...                                                   ...              ...   \n488828  1348956-2-4404986_OPDUCAF_2024-01-23_17-17-31_...             FILE   \n488829  1349595-2-4404989_LABCHRT1_2024-01-28_01-00-04...             FILE   \n488830  1349595-2-4404989_LABCHRT1_2024-01-28_01-00-04...             FILE   \n488831  1349595-2-4404989_LABCHRT1_2024-01-28_01-00-04...             FILE   \n488832  1348795-1-4405026_OPDUCAF_2024-01-23_16-35-06_...             FILE   \n\n        NEW_BORN  PATIENT_IDENTITY_TYPE  BILLABLE_PERIOD_START  \\\n0              0                      H    2024-03-28 00:00:00   \n1              0                      H    2024-03-12 00:00:00   \n2              0                      H    2024-03-04 00:00:00   \n3              0                      H    2024-03-10 00:00:00   \n4              0                      H    2024-03-18 00:00:00   \n...          ...                    ...                    ...   \n488828         0                     IQ    2023-12-24 10:28:07   \n488829         0                     IQ    2023-12-27 20:51:37   \n488830         0                     IQ    2023-12-27 20:51:37   \n488831         0                     IQ    2023-12-27 20:51:37   \n488832         0                     IQ    2023-12-22 00:00:00   \n\n       BILLABLE_PERIOD_END  BATCH_PERIOD_START  BATCH_PERIOD_END  \\\n0      2024-04-11 00:00:00          2024-03-01        2024-03-31   \n1      2024-03-26 00:00:00          2024-03-01        2024-03-31   \n2      2024-03-18 00:00:00          2024-03-01        2024-03-31   \n3      2024-03-24 00:00:00          2024-03-01        2024-03-31   \n4      2024-04-01 00:00:00          2024-03-01        2024-03-31   \n...                    ...                 ...               ...   \n488828 2023-12-28 12:07:18          2023-12-01        2023-12-31   \n488829 2023-12-31 17:16:53          2023-12-01        2023-12-31   \n488830 2023-12-31 17:16:53          2023-12-01        2023-12-31   \n488831 2023-12-31 17:16:53          2023-12-01        2023-12-31   \n488832 2024-01-05 00:00:00          2023-12-01        2023-12-31   \n\n        PatientAgeRange  \n0                     6  \n1                     5  \n2                     6  \n3                     6  \n4                     8  \n...                 ...  \n488828                8  \n488829                7  \n488830                7  \n488831                7  \n488832                9  \n\n[488833 rows x 94 columns]",
      "text/html": "<div>\n<style scoped>\n    .dataframe tbody tr th:only-of-type {\n        vertical-align: middle;\n    }\n\n    .dataframe tbody tr th {\n        vertical-align: top;\n    }\n\n    .dataframe thead th {\n        text-align: right;\n    }\n</style>\n<table border=\"1\" class=\"dataframe\">\n  <thead>\n    <tr style=\"text-align: right;\">\n      <th></th>\n      <th>CREATED_BY_USER</th>\n      <th>CREATION_DATE</th>\n      <th>VISIT_ID</th>\n      <th>NET_WITH_VAT</th>\n      <th>SERVICE_DESCRIPTION</th>\n      <th>QTY</th>\n      <th>LINE_CLAIMED_AMOUNT</th>\n      <th>LINE_CLAIMED_AMOUNT_SAR</th>\n      <th>CO_PAY</th>\n      <th>CO_INSURANCE</th>\n      <th>...</th>\n      <th>CLAIM_IDENTIFIER</th>\n      <th>ATTACHED_FILES</th>\n      <th>ATTACHMENT_TYPE</th>\n      <th>NEW_BORN</th>\n      <th>PATIENT_IDENTITY_TYPE</th>\n      <th>BILLABLE_PERIOD_START</th>\n      <th>BILLABLE_PERIOD_END</th>\n      <th>BATCH_PERIOD_START</th>\n      <th>BATCH_PERIOD_END</th>\n      <th>PatientAgeRange</th>\n    </tr>\n  </thead>\n  <tbody>\n    <tr>\n      <th>0</th>\n      <td>9521</td>\n      <td>2024-04-04 22:57:57</td>\n      <td>230089</td>\n      <td>56.12</td>\n      <td>Unlisted Code</td>\n      <td>1.0</td>\n      <td>61.00</td>\n      <td>61.00</td>\n      <td>0.00</td>\n      <td>61.00</td>\n      <td>...</td>\n      <td>4430078.0</td>\n      <td>929362-34-4430078_OPDUCAF_2024-04-04_22-57-36_...</td>\n      <td>FILE</td>\n      <td>0</td>\n      <td>H</td>\n      <td>2024-03-28 00:00:00</td>\n      <td>2024-04-11 00:00:00</td>\n      <td>2024-03-01</td>\n      <td>2024-03-31</td>\n      <td>6</td>\n    </tr>\n    <tr>\n      <th>1</th>\n      <td>9521</td>\n      <td>2024-04-04 23:02:21</td>\n      <td>230117</td>\n      <td>202.40</td>\n      <td>TSH</td>\n      <td>1.0</td>\n      <td>220.00</td>\n      <td>220.00</td>\n      <td>0.00</td>\n      <td>220.00</td>\n      <td>...</td>\n      <td>4430087.0</td>\n      <td>1083147-3-4430087_OPDUCAF_2024-04-04_23-01-52_...</td>\n      <td>FILE</td>\n      <td>0</td>\n      <td>H</td>\n      <td>2024-03-12 00:00:00</td>\n      <td>2024-03-26 00:00:00</td>\n      <td>2024-03-01</td>\n      <td>2024-03-31</td>\n      <td>5</td>\n    </tr>\n    <tr>\n      <th>2</th>\n      <td>9521</td>\n      <td>2024-04-04 23:08:38</td>\n      <td>230160</td>\n      <td>408.08</td>\n      <td>In vivo laboratory</td>\n      <td>1.0</td>\n      <td>475.00</td>\n      <td>475.00</td>\n      <td>10.75</td>\n      <td>464.25</td>\n      <td>...</td>\n      <td>4430098.0</td>\n      <td>1339075-6-4430098_OPDUCAF_2024-04-04_23-08-22_...</td>\n      <td>FILE</td>\n      <td>0</td>\n      <td>H</td>\n      <td>2024-03-04 00:00:00</td>\n      <td>2024-03-18 00:00:00</td>\n      <td>2024-03-01</td>\n      <td>2024-03-31</td>\n      <td>6</td>\n    </tr>\n    <tr>\n      <th>3</th>\n      <td>9521</td>\n      <td>2024-04-04 22:26:08</td>\n      <td>229872</td>\n      <td>24.27</td>\n      <td>ELICA-M CREAM 30 GM</td>\n      <td>1.0</td>\n      <td>25.55</td>\n      <td>25.55</td>\n      <td>4.85</td>\n      <td>20.70</td>\n      <td>...</td>\n      <td>4430011.0</td>\n      <td>656928-60-4430011_OPDUCAF_2024-04-04_22-25-48_...</td>\n      <td>FILE</td>\n      <td>0</td>\n      <td>H</td>\n      <td>2024-03-10 00:00:00</td>\n      <td>2024-03-24 00:00:00</td>\n      <td>2024-03-01</td>\n      <td>2024-03-31</td>\n      <td>6</td>\n    </tr>\n    <tr>\n      <th>4</th>\n      <td>9521</td>\n      <td>2024-04-04 22:34:22</td>\n      <td>229913</td>\n      <td>80.64</td>\n      <td>Peripheral intravenous cannula</td>\n      <td>1.0</td>\n      <td>90.00</td>\n      <td>90.00</td>\n      <td>14.40</td>\n      <td>75.60</td>\n      <td>...</td>\n      <td>4430028.0</td>\n      <td>1019628-25-4430028_OPDUCAF_2024-04-04_22-33-56...</td>\n      <td>FILE</td>\n      <td>0</td>\n      <td>H</td>\n      <td>2024-03-18 00:00:00</td>\n      <td>2024-04-01 00:00:00</td>\n      <td>2024-03-01</td>\n      <td>2024-03-31</td>\n      <td>8</td>\n    </tr>\n    <tr>\n      <th>...</th>\n      <td>...</td>\n      <td>...</td>\n      <td>...</td>\n      <td>...</td>\n      <td>...</td>\n      <td>...</td>\n      <td>...</td>\n      <td>...</td>\n      <td>...</td>\n      <td>...</td>\n      <td>...</td>\n      <td>...</td>\n      <td>...</td>\n      <td>...</td>\n      <td>...</td>\n      <td>...</td>\n      <td>...</td>\n      <td>...</td>\n      <td>...</td>\n      <td>...</td>\n      <td>...</td>\n    </tr>\n    <tr>\n      <th>488828</th>\n      <td>9593</td>\n      <td>2024-01-23 17:20:54</td>\n      <td>204110</td>\n      <td>242.48</td>\n      <td>Quantitative Troponin (Protein) Analysis</td>\n      <td>1.0</td>\n      <td>324.39</td>\n      <td>324.39</td>\n      <td>0.00</td>\n      <td>324.39</td>\n      <td>...</td>\n      <td>4404986.0</td>\n      <td>1348956-2-4404986_OPDUCAF_2024-01-23_17-17-31_...</td>\n      <td>FILE</td>\n      <td>0</td>\n      <td>IQ</td>\n      <td>2023-12-24 10:28:07</td>\n      <td>2023-12-28 12:07:18</td>\n      <td>2023-12-01</td>\n      <td>2023-12-31</td>\n      <td>8</td>\n    </tr>\n    <tr>\n      <th>488829</th>\n      <td>10962</td>\n      <td>2024-01-28 01:01:05</td>\n      <td>204377</td>\n      <td>1.06</td>\n      <td>NEBILET 5MG TABLETS</td>\n      <td>1.0</td>\n      <td>1.14</td>\n      <td>1.14</td>\n      <td>0.00</td>\n      <td>1.14</td>\n      <td>...</td>\n      <td>4404989.0</td>\n      <td>1349595-2-4404989_LABCHRT1_2024-01-28_01-00-04...</td>\n      <td>FILE</td>\n      <td>0</td>\n      <td>IQ</td>\n      <td>2023-12-27 20:51:37</td>\n      <td>2023-12-31 17:16:53</td>\n      <td>2023-12-01</td>\n      <td>2023-12-31</td>\n      <td>7</td>\n    </tr>\n    <tr>\n      <th>488830</th>\n      <td>10962</td>\n      <td>2024-01-28 01:01:05</td>\n      <td>204377</td>\n      <td>1.14</td>\n      <td>Unlisted Procedure Code</td>\n      <td>5.0</td>\n      <td>1.77</td>\n      <td>1.77</td>\n      <td>0.00</td>\n      <td>1.77</td>\n      <td>...</td>\n      <td>4404989.0</td>\n      <td>1349595-2-4404989_LABCHRT1_2024-01-28_01-00-04...</td>\n      <td>FILE</td>\n      <td>0</td>\n      <td>IQ</td>\n      <td>2023-12-27 20:51:37</td>\n      <td>2023-12-31 17:16:53</td>\n      <td>2023-12-01</td>\n      <td>2023-12-31</td>\n      <td>7</td>\n    </tr>\n    <tr>\n      <th>488831</th>\n      <td>10962</td>\n      <td>2024-01-28 01:01:05</td>\n      <td>204377</td>\n      <td>1.79</td>\n      <td>SALURIN 20MG-2ML AMPOULES</td>\n      <td>1.0</td>\n      <td>1.93</td>\n      <td>1.93</td>\n      <td>0.00</td>\n      <td>1.93</td>\n      <td>...</td>\n      <td>4404989.0</td>\n      <td>1349595-2-4404989_LABCHRT1_2024-01-28_01-00-04...</td>\n      <td>FILE</td>\n      <td>0</td>\n      <td>IQ</td>\n      <td>2023-12-27 20:51:37</td>\n      <td>2023-12-31 17:16:53</td>\n      <td>2023-12-01</td>\n      <td>2023-12-31</td>\n      <td>7</td>\n    </tr>\n    <tr>\n      <th>488832</th>\n      <td>9593</td>\n      <td>2024-01-23 16:35:34</td>\n      <td>204093</td>\n      <td>144.56</td>\n      <td>Radiography of chest, 1 view</td>\n      <td>1.0</td>\n      <td>193.39</td>\n      <td>193.39</td>\n      <td>0.00</td>\n      <td>193.39</td>\n      <td>...</td>\n      <td>4405026.0</td>\n      <td>1348795-1-4405026_OPDUCAF_2024-01-23_16-35-06_...</td>\n      <td>FILE</td>\n      <td>0</td>\n      <td>IQ</td>\n      <td>2023-12-22 00:00:00</td>\n      <td>2024-01-05 00:00:00</td>\n      <td>2023-12-01</td>\n      <td>2023-12-31</td>\n      <td>9</td>\n    </tr>\n  </tbody>\n</table>\n<p>488833 rows × 94 columns</p>\n</div>"
     },
     "execution_count": 7,
     "metadata": {},
     "output_type": "execute_result"
    }
   ],
   "source": [
    "df_prep"
   ],
   "metadata": {
    "collapsed": false,
    "ExecuteTime": {
     "end_time": "2024-05-26T09:33:17.423279500Z",
     "start_time": "2024-05-26T09:33:17.152991700Z"
    }
   }
  },
  {
   "cell_type": "code",
   "execution_count": 25,
   "outputs": [],
   "source": [
    "df_train, df_test = preprocessing.train_test_split(test_size=0.2,random_state=6)"
   ],
   "metadata": {
    "collapsed": false,
    "ExecuteTime": {
     "end_time": "2024-05-26T10:02:46.686790100Z",
     "start_time": "2024-05-26T10:02:46.239464800Z"
    }
   }
  },
  {
   "cell_type": "code",
   "execution_count": 26,
   "outputs": [
    {
     "data": {
      "text/plain": "0.2531547822058057"
     },
     "execution_count": 26,
     "metadata": {},
     "output_type": "execute_result"
    }
   ],
   "source": [
    "len(df_test)/ len(df_train)"
   ],
   "metadata": {
    "collapsed": false,
    "ExecuteTime": {
     "end_time": "2024-05-26T10:02:48.457567300Z",
     "start_time": "2024-05-26T10:02:48.438621100Z"
    }
   }
  },
  {
   "cell_type": "code",
   "execution_count": 12,
   "outputs": [
    {
     "data": {
      "text/plain": "[]"
     },
     "execution_count": 12,
     "metadata": {},
     "output_type": "execute_result"
    }
   ],
   "source": [
    "ls1 = list(df_train.sort_values(by='VISIT_ID')['VISIT_ID'])\n",
    "ls2 = list(df_test.sort_values(by='VISIT_ID')['VISIT_ID'])\n",
    "intersection = list(set(ls1) & set(ls2))\n",
    "intersection ## to find the repeated transaction id between them"
   ],
   "metadata": {
    "collapsed": false,
    "ExecuteTime": {
     "end_time": "2024-05-26T10:02:13.277902600Z",
     "start_time": "2024-05-26T10:02:13.094270200Z"
    }
   }
  },
  {
   "cell_type": "code",
   "execution_count": 27,
   "outputs": [
    {
     "data": {
      "text/plain": "3.9501525165226234"
     },
     "execution_count": 27,
     "metadata": {},
     "output_type": "execute_result"
    }
   ],
   "source": [
    "len(df_train) / len(df_test)"
   ],
   "metadata": {
    "collapsed": false,
    "ExecuteTime": {
     "end_time": "2024-05-26T10:02:52.953474700Z",
     "start_time": "2024-05-26T10:02:52.941476800Z"
    }
   }
  },
  {
   "cell_type": "code",
   "execution_count": 29,
   "outputs": [],
   "source": [
    "df_train.to_parquet('data/HJH/prq/train.parquet')\n",
    "df_test.to_parquet('data/HJH/prq/test.parquet')"
   ],
   "metadata": {
    "collapsed": false,
    "ExecuteTime": {
     "end_time": "2024-05-26T10:04:52.137799600Z",
     "start_time": "2024-05-26T10:04:50.258801700Z"
    }
   }
  },
  {
   "cell_type": "code",
   "execution_count": null,
   "outputs": [],
   "source": [],
   "metadata": {
    "collapsed": false
   }
  }
 ],
 "metadata": {
  "kernelspec": {
   "display_name": "Python 3",
   "language": "python",
   "name": "python3"
  },
  "language_info": {
   "codemirror_mode": {
    "name": "ipython",
    "version": 2
   },
   "file_extension": ".py",
   "mimetype": "text/x-python",
   "name": "python",
   "nbconvert_exporter": "python",
   "pygments_lexer": "ipython2",
   "version": "2.7.6"
  }
 },
 "nbformat": 4,
 "nbformat_minor": 0
}
