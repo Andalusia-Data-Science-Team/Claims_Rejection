{
 "cells": [
  {
   "cell_type": "code",
   "execution_count": 1,
   "outputs": [],
   "source": [
    "from src.data_local import MergedDataPreprocessing\n",
    "from cashe import get_cashed_input"
   ],
   "metadata": {
    "collapsed": false,
    "ExecuteTime": {
     "end_time": "2024-07-29T16:27:54.462788800Z",
     "start_time": "2024-07-29T16:27:04.719867100Z"
    }
   }
  },
  {
   "cell_type": "code",
   "execution_count": 20,
   "outputs": [],
   "source": [
    "# !pip install tensorflow --upgrade\n",
    "df = get_cashed_input()"
   ],
   "metadata": {
    "collapsed": false,
    "ExecuteTime": {
     "end_time": "2024-07-29T16:51:54.907947200Z",
     "start_time": "2024-07-29T16:51:52.880364500Z"
    }
   }
  },
  {
   "cell_type": "code",
   "execution_count": 15,
   "outputs": [
    {
     "data": {
      "text/plain": "Index(['NET_WITH_VAT', 'SERVICE_DESCRIPTION', 'QTY', 'LINE_CLAIMED_AMOUNT_SAR',\n       'LINE_ITEM_DISCOUNT', 'NET_VAT_AMOUNT', 'PATIENT_VAT_AMOUNT',\n       'VAT_PERCENTAGE', 'TREATMENT_TYPE_INDICATOR', 'SERVICE_TYPE',\n       'DURATION', 'QTY_STOCKED_UOM', 'OASIS_IOS_DESCRIPTION',\n       'UNIT_PRICE_STOCKED_UOM', 'UNIT_PRICE_NET', 'DISCOUNT_PERCENTAGE',\n       'EMERGENCY_INDICATOR', 'PROVIDER_DEPARTMENT_CODE',\n       'PROVIDER_DEPARTMENT', 'DOCTOR_SPECIALTY_CODE', 'DOCTOR_CODE',\n       'PATIENT_AGE', 'UNIT_OF_AGE', 'PATIENT_NATIONALITY',\n       'PATIENT_MARITAL_STATUS', 'PATIENT_GENDER', 'CLAIM_TYPE',\n       'TOTAL_CLAIMED_AMOUNT_SAR', 'TOTAL_DISCOUNT', 'TOTAL_DEDUCTIBLE',\n       'TOTAL_PATIENT_VATAMOUNT', 'DEPARTMENT_TYPE', 'TREATMENT_TYPE',\n       'PURCHASER_CODE', 'SUBMIT_CLAIM_MESSAGE', 'NEW_BORN', 'ICD10'],\n      dtype='object')"
     },
     "execution_count": 15,
     "metadata": {},
     "output_type": "execute_result"
    }
   ],
   "source": [
    "df.columns"
   ],
   "metadata": {
    "collapsed": false,
    "ExecuteTime": {
     "end_time": "2024-07-29T16:34:09.536871900Z",
     "start_time": "2024-07-29T16:34:09.467831200Z"
    }
   }
  },
  {
   "cell_type": "code",
   "execution_count": 18,
   "outputs": [
    {
     "data": {
      "text/plain": "        NET_WITH_VAT                             SERVICE_DESCRIPTION   QTY  \\\n397555          9.20        IM admin of pharmac agt oth   unsp agent   1.0   \n398359        134.40                         Consultant Consultation   1.0   \n398367       1349.99                                  Oesophagoscopy   1.0   \n398366         38.95                  Peripheral intravenous cannula   1.0   \n398368       3152.44  Removal of pin, screw or wire, NEC, unilateral   1.0   \n...              ...                                             ...   ...   \n388637         50.57                  Peripheral intravenous cannula   1.0   \n388638        555.18                            Ultrasound of pelvis   1.0   \n388639         45.65                                 Urinalysis Test   1.0   \n388640          4.67                          PANADREX 500 MG 24 TAB  24.0   \n388641         21.38                          NORMAL SALINE 500ML PB   1.0   \n\n        LINE_CLAIMED_AMOUNT_SAR  LINE_ITEM_DISCOUNT  NET_VAT_AMOUNT  \\\n397555                    10.00                2.00            1.20   \n398359                   120.00                0.00           14.40   \n398367                  1677.00              503.10          176.09   \n398366                    48.38               14.51            5.08   \n398368                  3225.00              483.75          411.19   \n...                         ...                 ...             ...   \n388637                    64.50               19.35            5.42   \n388638                   689.80              206.94           72.32   \n388639                    58.23               17.47            4.89   \n388640                     5.05                0.38            0.00   \n388641                    23.10                1.73            0.00   \n\n        PATIENT_VAT_AMOUNT  VAT_PERCENTAGE  TREATMENT_TYPE_INDICATOR  \\\n397555                 0.0            0.15                         2   \n398359                 3.6            0.15                         2   \n398367                 0.0            0.15                         2   \n398366                 0.0            0.15                         2   \n398368                 0.0            0.15                         2   \n...                    ...             ...                       ...   \n388637                 0.0            0.15                         2   \n388638                 0.0            0.15                         2   \n388639                 0.0            0.15                         2   \n388640                 0.0            0.00                         2   \n388641                 0.0            0.00                         2   \n\n            SERVICE_TYPE  ...  TOTAL_CLAIMED_AMOUNT_SAR  TOTAL_DISCOUNT  \\\n397555        procedures  ...                   2651.56          298.60   \n398359          services  ...                    120.00            0.00   \n398367        procedures  ...                   1725.38          517.61   \n398366   medical-devices  ...                   1725.38          517.61   \n398368        procedures  ...                   3225.00          483.75   \n...                  ...  ...                       ...             ...   \n388637   medical-devices  ...                   1358.69          362.20   \n388638           imaging  ...                   1358.69          362.20   \n388639        laboratory  ...                   1358.69          362.20   \n388640  medication-codes  ...                   1358.69          362.20   \n388641  medication-codes  ...                   1358.69          362.20   \n\n       TOTAL_DEDUCTIBLE  TOTAL_PATIENT_VATAMOUNT  DEPARTMENT_TYPE  \\\n397555             0.00                      0.0              NaN   \n398359            24.00                      3.6            855.0   \n398367             0.00                      0.0              NaN   \n398366             0.00                      0.0              NaN   \n398368             0.00                      0.0              NaN   \n...                 ...                      ...              ...   \n388637           103.46                      0.0             39.0   \n388638           103.46                      0.0             39.0   \n388639           103.46                      0.0             39.0   \n388640           103.46                      0.0             39.0   \n388641           103.46                      0.0             39.0   \n\n        TREATMENT_TYPE PURCHASER_CODE  \\\n397555   institutional           2132   \n398359    professional           2134   \n398367   institutional           2134   \n398366   institutional           2134   \n398368   institutional           2134   \n...                ...            ...   \n388637   institutional            275   \n388638   institutional            275   \n388639   institutional            275   \n388640   institutional            275   \n388641   institutional            275   \n\n                                     SUBMIT_CLAIM_MESSAGE NEW_BORN  ICD10  \n397555  Error In Claim Info  item 11 extension 5 value...        N   None  \n398359                                               None        N    J93  \n398367                                               None        N    E66  \n398366                                               None        N    E66  \n398368                                               None        N  S82.0  \n...                                                   ...      ...    ...  \n388637                                               None        N    N23  \n388638                                               None        N    N23  \n388639                                               None        N    N23  \n388640                                               None        N    N23  \n388641                                               None        N    N23  \n\n[207645 rows x 37 columns]",
      "text/html": "<div>\n<style scoped>\n    .dataframe tbody tr th:only-of-type {\n        vertical-align: middle;\n    }\n\n    .dataframe tbody tr th {\n        vertical-align: top;\n    }\n\n    .dataframe thead th {\n        text-align: right;\n    }\n</style>\n<table border=\"1\" class=\"dataframe\">\n  <thead>\n    <tr style=\"text-align: right;\">\n      <th></th>\n      <th>NET_WITH_VAT</th>\n      <th>SERVICE_DESCRIPTION</th>\n      <th>QTY</th>\n      <th>LINE_CLAIMED_AMOUNT_SAR</th>\n      <th>LINE_ITEM_DISCOUNT</th>\n      <th>NET_VAT_AMOUNT</th>\n      <th>PATIENT_VAT_AMOUNT</th>\n      <th>VAT_PERCENTAGE</th>\n      <th>TREATMENT_TYPE_INDICATOR</th>\n      <th>SERVICE_TYPE</th>\n      <th>...</th>\n      <th>TOTAL_CLAIMED_AMOUNT_SAR</th>\n      <th>TOTAL_DISCOUNT</th>\n      <th>TOTAL_DEDUCTIBLE</th>\n      <th>TOTAL_PATIENT_VATAMOUNT</th>\n      <th>DEPARTMENT_TYPE</th>\n      <th>TREATMENT_TYPE</th>\n      <th>PURCHASER_CODE</th>\n      <th>SUBMIT_CLAIM_MESSAGE</th>\n      <th>NEW_BORN</th>\n      <th>ICD10</th>\n    </tr>\n  </thead>\n  <tbody>\n    <tr>\n      <th>397555</th>\n      <td>9.20</td>\n      <td>IM admin of pharmac agt oth   unsp agent</td>\n      <td>1.0</td>\n      <td>10.00</td>\n      <td>2.00</td>\n      <td>1.20</td>\n      <td>0.0</td>\n      <td>0.15</td>\n      <td>2</td>\n      <td>procedures</td>\n      <td>...</td>\n      <td>2651.56</td>\n      <td>298.60</td>\n      <td>0.00</td>\n      <td>0.0</td>\n      <td>NaN</td>\n      <td>institutional</td>\n      <td>2132</td>\n      <td>Error In Claim Info  item 11 extension 5 value...</td>\n      <td>N</td>\n      <td>None</td>\n    </tr>\n    <tr>\n      <th>398359</th>\n      <td>134.40</td>\n      <td>Consultant Consultation</td>\n      <td>1.0</td>\n      <td>120.00</td>\n      <td>0.00</td>\n      <td>14.40</td>\n      <td>3.6</td>\n      <td>0.15</td>\n      <td>2</td>\n      <td>services</td>\n      <td>...</td>\n      <td>120.00</td>\n      <td>0.00</td>\n      <td>24.00</td>\n      <td>3.6</td>\n      <td>855.0</td>\n      <td>professional</td>\n      <td>2134</td>\n      <td>None</td>\n      <td>N</td>\n      <td>J93</td>\n    </tr>\n    <tr>\n      <th>398367</th>\n      <td>1349.99</td>\n      <td>Oesophagoscopy</td>\n      <td>1.0</td>\n      <td>1677.00</td>\n      <td>503.10</td>\n      <td>176.09</td>\n      <td>0.0</td>\n      <td>0.15</td>\n      <td>2</td>\n      <td>procedures</td>\n      <td>...</td>\n      <td>1725.38</td>\n      <td>517.61</td>\n      <td>0.00</td>\n      <td>0.0</td>\n      <td>NaN</td>\n      <td>institutional</td>\n      <td>2134</td>\n      <td>None</td>\n      <td>N</td>\n      <td>E66</td>\n    </tr>\n    <tr>\n      <th>398366</th>\n      <td>38.95</td>\n      <td>Peripheral intravenous cannula</td>\n      <td>1.0</td>\n      <td>48.38</td>\n      <td>14.51</td>\n      <td>5.08</td>\n      <td>0.0</td>\n      <td>0.15</td>\n      <td>2</td>\n      <td>medical-devices</td>\n      <td>...</td>\n      <td>1725.38</td>\n      <td>517.61</td>\n      <td>0.00</td>\n      <td>0.0</td>\n      <td>NaN</td>\n      <td>institutional</td>\n      <td>2134</td>\n      <td>None</td>\n      <td>N</td>\n      <td>E66</td>\n    </tr>\n    <tr>\n      <th>398368</th>\n      <td>3152.44</td>\n      <td>Removal of pin, screw or wire, NEC, unilateral</td>\n      <td>1.0</td>\n      <td>3225.00</td>\n      <td>483.75</td>\n      <td>411.19</td>\n      <td>0.0</td>\n      <td>0.15</td>\n      <td>2</td>\n      <td>procedures</td>\n      <td>...</td>\n      <td>3225.00</td>\n      <td>483.75</td>\n      <td>0.00</td>\n      <td>0.0</td>\n      <td>NaN</td>\n      <td>institutional</td>\n      <td>2134</td>\n      <td>None</td>\n      <td>N</td>\n      <td>S82.0</td>\n    </tr>\n    <tr>\n      <th>...</th>\n      <td>...</td>\n      <td>...</td>\n      <td>...</td>\n      <td>...</td>\n      <td>...</td>\n      <td>...</td>\n      <td>...</td>\n      <td>...</td>\n      <td>...</td>\n      <td>...</td>\n      <td>...</td>\n      <td>...</td>\n      <td>...</td>\n      <td>...</td>\n      <td>...</td>\n      <td>...</td>\n      <td>...</td>\n      <td>...</td>\n      <td>...</td>\n      <td>...</td>\n      <td>...</td>\n    </tr>\n    <tr>\n      <th>388637</th>\n      <td>50.57</td>\n      <td>Peripheral intravenous cannula</td>\n      <td>1.0</td>\n      <td>64.50</td>\n      <td>19.35</td>\n      <td>5.42</td>\n      <td>0.0</td>\n      <td>0.15</td>\n      <td>2</td>\n      <td>medical-devices</td>\n      <td>...</td>\n      <td>1358.69</td>\n      <td>362.20</td>\n      <td>103.46</td>\n      <td>0.0</td>\n      <td>39.0</td>\n      <td>institutional</td>\n      <td>275</td>\n      <td>None</td>\n      <td>N</td>\n      <td>N23</td>\n    </tr>\n    <tr>\n      <th>388638</th>\n      <td>555.18</td>\n      <td>Ultrasound of pelvis</td>\n      <td>1.0</td>\n      <td>689.80</td>\n      <td>206.94</td>\n      <td>72.32</td>\n      <td>0.0</td>\n      <td>0.15</td>\n      <td>2</td>\n      <td>imaging</td>\n      <td>...</td>\n      <td>1358.69</td>\n      <td>362.20</td>\n      <td>103.46</td>\n      <td>0.0</td>\n      <td>39.0</td>\n      <td>institutional</td>\n      <td>275</td>\n      <td>None</td>\n      <td>N</td>\n      <td>N23</td>\n    </tr>\n    <tr>\n      <th>388639</th>\n      <td>45.65</td>\n      <td>Urinalysis Test</td>\n      <td>1.0</td>\n      <td>58.23</td>\n      <td>17.47</td>\n      <td>4.89</td>\n      <td>0.0</td>\n      <td>0.15</td>\n      <td>2</td>\n      <td>laboratory</td>\n      <td>...</td>\n      <td>1358.69</td>\n      <td>362.20</td>\n      <td>103.46</td>\n      <td>0.0</td>\n      <td>39.0</td>\n      <td>institutional</td>\n      <td>275</td>\n      <td>None</td>\n      <td>N</td>\n      <td>N23</td>\n    </tr>\n    <tr>\n      <th>388640</th>\n      <td>4.67</td>\n      <td>PANADREX 500 MG 24 TAB</td>\n      <td>24.0</td>\n      <td>5.05</td>\n      <td>0.38</td>\n      <td>0.00</td>\n      <td>0.0</td>\n      <td>0.00</td>\n      <td>2</td>\n      <td>medication-codes</td>\n      <td>...</td>\n      <td>1358.69</td>\n      <td>362.20</td>\n      <td>103.46</td>\n      <td>0.0</td>\n      <td>39.0</td>\n      <td>institutional</td>\n      <td>275</td>\n      <td>None</td>\n      <td>N</td>\n      <td>N23</td>\n    </tr>\n    <tr>\n      <th>388641</th>\n      <td>21.38</td>\n      <td>NORMAL SALINE 500ML PB</td>\n      <td>1.0</td>\n      <td>23.10</td>\n      <td>1.73</td>\n      <td>0.00</td>\n      <td>0.0</td>\n      <td>0.00</td>\n      <td>2</td>\n      <td>medication-codes</td>\n      <td>...</td>\n      <td>1358.69</td>\n      <td>362.20</td>\n      <td>103.46</td>\n      <td>0.0</td>\n      <td>39.0</td>\n      <td>institutional</td>\n      <td>275</td>\n      <td>None</td>\n      <td>N</td>\n      <td>N23</td>\n    </tr>\n  </tbody>\n</table>\n<p>207645 rows × 37 columns</p>\n</div>"
     },
     "execution_count": 18,
     "metadata": {},
     "output_type": "execute_result"
    }
   ],
   "source": [
    "df"
   ],
   "metadata": {
    "collapsed": false,
    "ExecuteTime": {
     "end_time": "2024-07-29T16:46:42.768613500Z",
     "start_time": "2024-07-29T16:46:41.592730300Z"
    }
   }
  },
  {
   "cell_type": "markdown",
   "source": [
    "## HJH Dataset\n",
    "loaded on 23/5/2024"
   ],
   "metadata": {
    "collapsed": false
   }
  },
  {
   "cell_type": "code",
   "execution_count": 3,
   "outputs": [],
   "source": [
    "df_original = get_cashed_input()"
   ],
   "metadata": {
    "collapsed": false,
    "ExecuteTime": {
     "end_time": "2024-07-01T09:27:59.742029800Z",
     "start_time": "2024-07-01T09:27:58.446457Z"
    }
   }
  },
  {
   "cell_type": "code",
   "execution_count": 4,
   "outputs": [
    {
     "data": {
      "text/plain": "388640   2024-04-30 12:13:09\n388639   2024-04-30 12:13:09\n388633   2024-04-30 12:13:09\n388634   2024-04-30 12:13:09\n388635   2024-04-30 12:13:09\n                 ...        \n397544   2024-01-01 09:58:15\n397545   2024-01-01 09:58:15\n397546   2024-01-01 09:58:15\n397547   2024-01-01 09:58:15\n397549   2024-01-01 09:58:15\nName: CREATION_DATE, Length: 488833, dtype: datetime64[ns]"
     },
     "execution_count": 4,
     "metadata": {},
     "output_type": "execute_result"
    }
   ],
   "source": [
    "df_original['CREATION_DATE'].sort_values(ascending=False)"
   ],
   "metadata": {
    "collapsed": false,
    "ExecuteTime": {
     "end_time": "2024-07-01T09:28:00.536816100Z",
     "start_time": "2024-07-01T09:28:00.471990200Z"
    }
   }
  },
  {
   "cell_type": "code",
   "execution_count": 5,
   "outputs": [
    {
     "data": {
      "text/plain": "VISIT_ID\n220020    1819\n202392    1529\n203244    1529\n201986    1529\n202394    1529\n          ... \n198125       1\n228482       1\n210011       1\n228691       1\n231136       1\nName: count, Length: 42771, dtype: int64"
     },
     "execution_count": 5,
     "metadata": {},
     "output_type": "execute_result"
    }
   ],
   "source": [
    "df_original.VISIT_ID.value_counts()"
   ],
   "metadata": {
    "collapsed": false,
    "ExecuteTime": {
     "end_time": "2024-07-01T09:28:01.713806200Z",
     "start_time": "2024-07-01T09:28:01.644992400Z"
    }
   }
  },
  {
   "cell_type": "code",
   "execution_count": 6,
   "outputs": [],
   "source": [
    "preprocessing = MergedDataPreprocessing(df_original)"
   ],
   "metadata": {
    "collapsed": false,
    "ExecuteTime": {
     "end_time": "2024-07-01T09:28:03.360314700Z",
     "start_time": "2024-07-01T09:28:03.349343500Z"
    }
   }
  },
  {
   "cell_type": "code",
   "execution_count": 7,
   "outputs": [
    {
     "name": "stdout",
     "output_type": "stream",
     "text": [
      "CREATED_BY_USER : int64\n",
      "CREATION_DATE : datetime64[ns]\n",
      "VISIT_ID : int64\n",
      "NET_WITH_VAT : float64\n",
      "SERVICE_DESCRIPTION : object\n",
      "QTY : float64\n",
      "LINE_CLAIMED_AMOUNT : float64\n",
      "LINE_CLAIMED_AMOUNT_SAR : float64\n",
      "CO_PAY : float64\n",
      "CO_INSURANCE : float64\n",
      "LINE_ITEM_DISCOUNT : float64\n",
      "NET_AMOUNT : float64\n",
      "NET_VAT_AMOUNT : float64\n",
      "PATIENT_VAT_AMOUNT : float64\n",
      "VAT_PERCENTAGE : float64\n",
      "TREATMENT_TYPE_INDICATOR : int64\n",
      "SERVICE_TYPE : object\n",
      "DURATION : float64\n",
      "QTY_STOCKED_UOM : int64\n",
      "UNIT_PRICE : float64\n",
      "OASIS_IOS_DESCRIPTION : object\n",
      "SEQUENCE_NO : int64\n",
      "UNIT_PRICE_STOCKED_UOM : float64\n",
      "UNIT_PRICE_NET : float64\n",
      "DISCOUNT_PERCENTAGE : float64\n",
      "NOTES : object\n",
      "OUTCOME : object\n",
      "APPROVED_QUNATITY : float64\n",
      "REQUEST_DATE : datetime64[ns]\n",
      "VISIT_NO : object\n",
      "VISIT_DATE : datetime64[ns]\n",
      "EMERGENCY_INDICATOR : object\n",
      "PROVIDER_DEPARTMENT_CODE : int64\n",
      "PROVIDER_DEPARTMENT : object\n",
      "DOCTOR_SPECIALTY_CODE : float64\n",
      "DOCTOR_CODE : int64\n",
      "PATIENT_NO : int64\n",
      "EPISODE_NO : int64\n",
      "PATIENT_ID : int64\n",
      "MEMBERSHIP_NO : object\n",
      "PATIENT_ID_TYPE : float64\n",
      "PATIENT_NATIONAL_IQAMA_ID : object\n",
      "PATIENT_DOB : datetime64[ns]\n",
      "PATIENT_AGE : int64\n",
      "UNIT_OF_AGE : int64\n",
      "PATIENT_NATIONALITY : object\n",
      "PATIENT_MARITAL_STATUS : object\n",
      "PATIENT_GENDER : object\n",
      "PATIENT_MOBILE_NO : int64\n",
      "PATIENT_BADGE_NO : object\n",
      "HIS_INSURANCE_CODE : int64\n",
      "POLICY_HOLDER_NO : object\n",
      "CLAIM_TYPE : object\n",
      "BATCH_NO : int64\n",
      "TOTAL_CLAIMED_AMOUNT : float64\n",
      "TOTAL_CLAIMED_AMOUNT_SAR : float64\n",
      "TOTAL_NET_AMOUNT : float64\n",
      "TOTAL_DISCOUNT : float64\n",
      "TOTAL_DEDUCTIBLE : float64\n",
      "TOTAL_PATIENT_VATAMOUNT : float64\n",
      "TOTAL_NET_VAT_AMOUNT : float64\n",
      "CLAIM_NO : object\n",
      "STAT_END_DATE : datetime64[ns]\n",
      "AMEND_BY_USER : int64\n",
      "AMEND_LAST_DATE : datetime64[ns]\n",
      "PAYER_LICENSE : int64\n",
      "DOCTOR_LICENSE : object\n",
      "DEPARTMENT_TYPE : float64\n",
      "TREATMENT_TYPE : object\n",
      "CLAIM_INVOICE_NO : int64\n",
      "STAT_INVOICE_NO : int64\n",
      "PURCHASER_CODE : int64\n",
      "STATUS : object\n",
      "API_TRANS_ID : int64\n",
      "SUBMIT_CLAIM_OUTCOME : object\n",
      "SUBMIT_CLAIM_MESSAGE : object\n",
      "RES_STATUS : object\n",
      "RES_CLAIM_ID : object\n",
      "CONSULTATION_INVOICE_NO : object\n",
      "TREATMENT_SUB_TYPE : object\n",
      "ELIGIBILITY_RESPONSE_ID : object\n",
      "ELIGIBILITY_RESPONSE_SYSTEM : object\n",
      "CONTRACT_NO : int64\n",
      "ELIGIBILITY_API_TRANS_ID : float64\n",
      "CLAIM_IDENTIFIER : float64\n",
      "ATTACHED_FILES : object\n",
      "ATTACHMENT_TYPE : object\n",
      "NEW_BORN : object\n",
      "PATIENT_IDENTITY_TYPE : object\n",
      "BILLABLE_PERIOD_START : datetime64[ns]\n",
      "BILLABLE_PERIOD_END : datetime64[ns]\n",
      "BATCH_PERIOD_START : datetime64[ns]\n",
      "BATCH_PERIOD_END : datetime64[ns]\n",
      "Episode_Key : object\n",
      "ICD10 : object\n",
      "Diagnosis_Key : object\n"
     ]
    }
   ],
   "source": [
    "for col in df_original.columns:\n",
    "    print(col,\":\",df_original[col].dtype)"
   ],
   "metadata": {
    "collapsed": false,
    "ExecuteTime": {
     "end_time": "2024-07-01T09:28:04.877783Z",
     "start_time": "2024-07-01T09:28:04.845873100Z"
    }
   }
  },
  {
   "cell_type": "code",
   "execution_count": 8,
   "outputs": [
    {
     "data": {
      "text/plain": "CREATED_BY_USER            0\nCREATION_DATE              0\nVISIT_ID                   0\nNET_WITH_VAT               0\nSERVICE_DESCRIPTION        0\n                       ...  \nBATCH_PERIOD_START         0\nBATCH_PERIOD_END           0\nEpisode_Key            31109\nICD10                  31109\nDiagnosis_Key          31109\nLength: 96, dtype: int64"
     },
     "execution_count": 8,
     "metadata": {},
     "output_type": "execute_result"
    }
   ],
   "source": [
    "df_original.isna().sum()"
   ],
   "metadata": {
    "collapsed": false,
    "ExecuteTime": {
     "end_time": "2024-07-01T09:28:13.948698300Z",
     "start_time": "2024-07-01T09:28:13.403290600Z"
    }
   }
  },
  {
   "cell_type": "code",
   "execution_count": 9,
   "outputs": [
    {
     "data": {
      "text/plain": "SUBMIT_CLAIM_OUTCOME\nPENDED    241830\nQUEUED     70352\nERROR      64160\nName: count, dtype: int64"
     },
     "execution_count": 9,
     "metadata": {},
     "output_type": "execute_result"
    }
   ],
   "source": [
    "df_original.SUBMIT_CLAIM_OUTCOME.value_counts()"
   ],
   "metadata": {
    "collapsed": false,
    "ExecuteTime": {
     "end_time": "2024-07-01T09:28:17.226824300Z",
     "start_time": "2024-07-01T09:28:17.196897900Z"
    }
   }
  },
  {
   "cell_type": "code",
   "execution_count": 10,
   "outputs": [
    {
     "name": "stderr",
     "output_type": "stream",
     "text": [
      "C:\\AI_Projects\\Claims_Rejection_2024\\Claims_Rejection\\src\\data_local.py:203: FutureWarning: Downcasting behavior in `replace` is deprecated and will be removed in a future version. To retain the old behavior, explicitly call `result.infer_objects(copy=False)`. To opt-in to the future behavior, set `pd.set_option('future.no_silent_downcasting', True)`\n",
      "  self.df[column] = self.df[column].replace(column_encoding)\n",
      "C:\\AI_Projects\\Claims_Rejection_2024\\Claims_Rejection\\src\\data_local.py:208: FutureWarning: Downcasting behavior in `replace` is deprecated and will be removed in a future version. To retain the old behavior, explicitly call `result.infer_objects(copy=False)`. To opt-in to the future behavior, set `pd.set_option('future.no_silent_downcasting', True)`\n",
      "  self.df['PatientAgeRange'] = self.df.PatientAgeRange.replace(age_encoding)\n",
      "C:\\AI_Projects\\Claims_Rejection_2024\\Claims_Rejection\\src\\data_local.py:214: UserWarning: Pandas doesn't allow columns to be created via a new attribute name - see https://pandas.pydata.org/pandas-docs/stable/indexing.html#attribute-access\n",
      "  self.df.item_NameEn = self._label_encode_column(column_name='SERVICE_DESCRIPTION', min_count=15)\n"
     ]
    }
   ],
   "source": [
    "df_prep = preprocessing.columns_prep()"
   ],
   "metadata": {
    "collapsed": false,
    "ExecuteTime": {
     "end_time": "2024-07-01T09:28:40.572014800Z",
     "start_time": "2024-07-01T09:28:19.990398500Z"
    }
   }
  },
  {
   "cell_type": "code",
   "execution_count": 11,
   "outputs": [
    {
     "data": {
      "text/plain": "        CREATED_BY_USER       CREATION_DATE  VISIT_ID  NET_WITH_VAT  \\\n0                  9521 2024-04-04 22:57:57    230089         56.12   \n1                  9521 2024-04-04 23:02:21    230117        202.40   \n2                  9521 2024-04-04 23:08:38    230160        408.08   \n3                  9521 2024-04-04 22:26:08    229872         24.27   \n4                  9521 2024-04-04 22:34:22    229913         80.64   \n...                 ...                 ...       ...           ...   \n488828             9593 2024-01-23 17:20:54    204110        242.48   \n488829            10962 2024-01-28 01:01:05    204377          1.06   \n488830            10962 2024-01-28 01:01:05    204377          1.14   \n488831            10962 2024-01-28 01:01:05    204377          1.79   \n488832             9593 2024-01-23 16:35:34    204093        144.56   \n\n                             SERVICE_DESCRIPTION  QTY  LINE_CLAIMED_AMOUNT  \\\n0                                  Unlisted Code  1.0                61.00   \n1                                            TSH  1.0               220.00   \n2                            In vivo laboratory   1.0               475.00   \n3                            ELICA-M CREAM 30 GM  1.0                25.55   \n4                 Peripheral intravenous cannula  1.0                90.00   \n...                                          ...  ...                  ...   \n488828  Quantitative Troponin (Protein) Analysis  1.0               324.39   \n488829                       NEBILET 5MG TABLETS  1.0                 1.14   \n488830                   Unlisted Procedure Code  5.0                 1.77   \n488831                 SALURIN 20MG-2ML AMPOULES  1.0                 1.93   \n488832              Radiography of chest, 1 view  1.0               193.39   \n\n        LINE_CLAIMED_AMOUNT_SAR  CO_PAY  CO_INSURANCE  ...  NEW_BORN  \\\n0                         61.00    0.00         61.00  ...         0   \n1                        220.00    0.00        220.00  ...         0   \n2                        475.00   10.75        464.25  ...         0   \n3                         25.55    4.85         20.70  ...         0   \n4                         90.00   14.40         75.60  ...         0   \n...                         ...     ...           ...  ...       ...   \n488828                   324.39    0.00        324.39  ...         0   \n488829                     1.14    0.00          1.14  ...         0   \n488830                     1.77    0.00          1.77  ...         0   \n488831                     1.93    0.00          1.93  ...         0   \n488832                   193.39    0.00        193.39  ...         0   \n\n        PATIENT_IDENTITY_TYPE  BILLABLE_PERIOD_START  BILLABLE_PERIOD_END  \\\n0                           H    2024-03-28 00:00:00  2024-04-11 00:00:00   \n1                           H    2024-03-12 00:00:00  2024-03-26 00:00:00   \n2                           H    2024-03-04 00:00:00  2024-03-18 00:00:00   \n3                           H    2024-03-10 00:00:00  2024-03-24 00:00:00   \n4                           H    2024-03-18 00:00:00  2024-04-01 00:00:00   \n...                       ...                    ...                  ...   \n488828                     IQ    2023-12-24 10:28:07  2023-12-28 12:07:18   \n488829                     IQ    2023-12-27 20:51:37  2023-12-31 17:16:53   \n488830                     IQ    2023-12-27 20:51:37  2023-12-31 17:16:53   \n488831                     IQ    2023-12-27 20:51:37  2023-12-31 17:16:53   \n488832                     IQ    2023-12-22 00:00:00  2024-01-05 00:00:00   \n\n        BATCH_PERIOD_START  BATCH_PERIOD_END   Episode_Key  ICD10  \\\n0               2024-03-01        2024-03-31   1_929362-34    Z36   \n1               2024-03-01        2024-03-31   1_1083147-3  R22.1   \n2               2024-03-01        2024-03-31   1_1339075-6    R53   \n3               2024-03-01        2024-03-31   1_656928-60    R10   \n4               2024-03-01        2024-03-31  1_1019628-25  R00.1   \n...                    ...               ...           ...    ...   \n488828          2023-12-01        2023-12-31   1_1348956-2  I24.9   \n488829          2023-12-01        2023-12-31   1_1349595-2  R07.4   \n488830          2023-12-01        2023-12-31   1_1349595-2  R07.4   \n488831          2023-12-01        2023-12-31   1_1349595-2  R07.4   \n488832          2023-12-01        2023-12-31   1_1348795-1  I46.0   \n\n        Diagnosis_Key  PatientAgeRange  \n0          1_10198603                6  \n1          1_10171516                5  \n2        1_1111232092                6  \n3        1_1111231597                6  \n4          1_10171441                8  \n...               ...              ...  \n488828     1_10163946                8  \n488829    1_110217036                7  \n488830    1_110217036                7  \n488831    1_110217036                7  \n488832     1_10164072                9  \n\n[488833 rows x 97 columns]",
      "text/html": "<div>\n<style scoped>\n    .dataframe tbody tr th:only-of-type {\n        vertical-align: middle;\n    }\n\n    .dataframe tbody tr th {\n        vertical-align: top;\n    }\n\n    .dataframe thead th {\n        text-align: right;\n    }\n</style>\n<table border=\"1\" class=\"dataframe\">\n  <thead>\n    <tr style=\"text-align: right;\">\n      <th></th>\n      <th>CREATED_BY_USER</th>\n      <th>CREATION_DATE</th>\n      <th>VISIT_ID</th>\n      <th>NET_WITH_VAT</th>\n      <th>SERVICE_DESCRIPTION</th>\n      <th>QTY</th>\n      <th>LINE_CLAIMED_AMOUNT</th>\n      <th>LINE_CLAIMED_AMOUNT_SAR</th>\n      <th>CO_PAY</th>\n      <th>CO_INSURANCE</th>\n      <th>...</th>\n      <th>NEW_BORN</th>\n      <th>PATIENT_IDENTITY_TYPE</th>\n      <th>BILLABLE_PERIOD_START</th>\n      <th>BILLABLE_PERIOD_END</th>\n      <th>BATCH_PERIOD_START</th>\n      <th>BATCH_PERIOD_END</th>\n      <th>Episode_Key</th>\n      <th>ICD10</th>\n      <th>Diagnosis_Key</th>\n      <th>PatientAgeRange</th>\n    </tr>\n  </thead>\n  <tbody>\n    <tr>\n      <th>0</th>\n      <td>9521</td>\n      <td>2024-04-04 22:57:57</td>\n      <td>230089</td>\n      <td>56.12</td>\n      <td>Unlisted Code</td>\n      <td>1.0</td>\n      <td>61.00</td>\n      <td>61.00</td>\n      <td>0.00</td>\n      <td>61.00</td>\n      <td>...</td>\n      <td>0</td>\n      <td>H</td>\n      <td>2024-03-28 00:00:00</td>\n      <td>2024-04-11 00:00:00</td>\n      <td>2024-03-01</td>\n      <td>2024-03-31</td>\n      <td>1_929362-34</td>\n      <td>Z36</td>\n      <td>1_10198603</td>\n      <td>6</td>\n    </tr>\n    <tr>\n      <th>1</th>\n      <td>9521</td>\n      <td>2024-04-04 23:02:21</td>\n      <td>230117</td>\n      <td>202.40</td>\n      <td>TSH</td>\n      <td>1.0</td>\n      <td>220.00</td>\n      <td>220.00</td>\n      <td>0.00</td>\n      <td>220.00</td>\n      <td>...</td>\n      <td>0</td>\n      <td>H</td>\n      <td>2024-03-12 00:00:00</td>\n      <td>2024-03-26 00:00:00</td>\n      <td>2024-03-01</td>\n      <td>2024-03-31</td>\n      <td>1_1083147-3</td>\n      <td>R22.1</td>\n      <td>1_10171516</td>\n      <td>5</td>\n    </tr>\n    <tr>\n      <th>2</th>\n      <td>9521</td>\n      <td>2024-04-04 23:08:38</td>\n      <td>230160</td>\n      <td>408.08</td>\n      <td>In vivo laboratory</td>\n      <td>1.0</td>\n      <td>475.00</td>\n      <td>475.00</td>\n      <td>10.75</td>\n      <td>464.25</td>\n      <td>...</td>\n      <td>0</td>\n      <td>H</td>\n      <td>2024-03-04 00:00:00</td>\n      <td>2024-03-18 00:00:00</td>\n      <td>2024-03-01</td>\n      <td>2024-03-31</td>\n      <td>1_1339075-6</td>\n      <td>R53</td>\n      <td>1_1111232092</td>\n      <td>6</td>\n    </tr>\n    <tr>\n      <th>3</th>\n      <td>9521</td>\n      <td>2024-04-04 22:26:08</td>\n      <td>229872</td>\n      <td>24.27</td>\n      <td>ELICA-M CREAM 30 GM</td>\n      <td>1.0</td>\n      <td>25.55</td>\n      <td>25.55</td>\n      <td>4.85</td>\n      <td>20.70</td>\n      <td>...</td>\n      <td>0</td>\n      <td>H</td>\n      <td>2024-03-10 00:00:00</td>\n      <td>2024-03-24 00:00:00</td>\n      <td>2024-03-01</td>\n      <td>2024-03-31</td>\n      <td>1_656928-60</td>\n      <td>R10</td>\n      <td>1_1111231597</td>\n      <td>6</td>\n    </tr>\n    <tr>\n      <th>4</th>\n      <td>9521</td>\n      <td>2024-04-04 22:34:22</td>\n      <td>229913</td>\n      <td>80.64</td>\n      <td>Peripheral intravenous cannula</td>\n      <td>1.0</td>\n      <td>90.00</td>\n      <td>90.00</td>\n      <td>14.40</td>\n      <td>75.60</td>\n      <td>...</td>\n      <td>0</td>\n      <td>H</td>\n      <td>2024-03-18 00:00:00</td>\n      <td>2024-04-01 00:00:00</td>\n      <td>2024-03-01</td>\n      <td>2024-03-31</td>\n      <td>1_1019628-25</td>\n      <td>R00.1</td>\n      <td>1_10171441</td>\n      <td>8</td>\n    </tr>\n    <tr>\n      <th>...</th>\n      <td>...</td>\n      <td>...</td>\n      <td>...</td>\n      <td>...</td>\n      <td>...</td>\n      <td>...</td>\n      <td>...</td>\n      <td>...</td>\n      <td>...</td>\n      <td>...</td>\n      <td>...</td>\n      <td>...</td>\n      <td>...</td>\n      <td>...</td>\n      <td>...</td>\n      <td>...</td>\n      <td>...</td>\n      <td>...</td>\n      <td>...</td>\n      <td>...</td>\n      <td>...</td>\n    </tr>\n    <tr>\n      <th>488828</th>\n      <td>9593</td>\n      <td>2024-01-23 17:20:54</td>\n      <td>204110</td>\n      <td>242.48</td>\n      <td>Quantitative Troponin (Protein) Analysis</td>\n      <td>1.0</td>\n      <td>324.39</td>\n      <td>324.39</td>\n      <td>0.00</td>\n      <td>324.39</td>\n      <td>...</td>\n      <td>0</td>\n      <td>IQ</td>\n      <td>2023-12-24 10:28:07</td>\n      <td>2023-12-28 12:07:18</td>\n      <td>2023-12-01</td>\n      <td>2023-12-31</td>\n      <td>1_1348956-2</td>\n      <td>I24.9</td>\n      <td>1_10163946</td>\n      <td>8</td>\n    </tr>\n    <tr>\n      <th>488829</th>\n      <td>10962</td>\n      <td>2024-01-28 01:01:05</td>\n      <td>204377</td>\n      <td>1.06</td>\n      <td>NEBILET 5MG TABLETS</td>\n      <td>1.0</td>\n      <td>1.14</td>\n      <td>1.14</td>\n      <td>0.00</td>\n      <td>1.14</td>\n      <td>...</td>\n      <td>0</td>\n      <td>IQ</td>\n      <td>2023-12-27 20:51:37</td>\n      <td>2023-12-31 17:16:53</td>\n      <td>2023-12-01</td>\n      <td>2023-12-31</td>\n      <td>1_1349595-2</td>\n      <td>R07.4</td>\n      <td>1_110217036</td>\n      <td>7</td>\n    </tr>\n    <tr>\n      <th>488830</th>\n      <td>10962</td>\n      <td>2024-01-28 01:01:05</td>\n      <td>204377</td>\n      <td>1.14</td>\n      <td>Unlisted Procedure Code</td>\n      <td>5.0</td>\n      <td>1.77</td>\n      <td>1.77</td>\n      <td>0.00</td>\n      <td>1.77</td>\n      <td>...</td>\n      <td>0</td>\n      <td>IQ</td>\n      <td>2023-12-27 20:51:37</td>\n      <td>2023-12-31 17:16:53</td>\n      <td>2023-12-01</td>\n      <td>2023-12-31</td>\n      <td>1_1349595-2</td>\n      <td>R07.4</td>\n      <td>1_110217036</td>\n      <td>7</td>\n    </tr>\n    <tr>\n      <th>488831</th>\n      <td>10962</td>\n      <td>2024-01-28 01:01:05</td>\n      <td>204377</td>\n      <td>1.79</td>\n      <td>SALURIN 20MG-2ML AMPOULES</td>\n      <td>1.0</td>\n      <td>1.93</td>\n      <td>1.93</td>\n      <td>0.00</td>\n      <td>1.93</td>\n      <td>...</td>\n      <td>0</td>\n      <td>IQ</td>\n      <td>2023-12-27 20:51:37</td>\n      <td>2023-12-31 17:16:53</td>\n      <td>2023-12-01</td>\n      <td>2023-12-31</td>\n      <td>1_1349595-2</td>\n      <td>R07.4</td>\n      <td>1_110217036</td>\n      <td>7</td>\n    </tr>\n    <tr>\n      <th>488832</th>\n      <td>9593</td>\n      <td>2024-01-23 16:35:34</td>\n      <td>204093</td>\n      <td>144.56</td>\n      <td>Radiography of chest, 1 view</td>\n      <td>1.0</td>\n      <td>193.39</td>\n      <td>193.39</td>\n      <td>0.00</td>\n      <td>193.39</td>\n      <td>...</td>\n      <td>0</td>\n      <td>IQ</td>\n      <td>2023-12-22 00:00:00</td>\n      <td>2024-01-05 00:00:00</td>\n      <td>2023-12-01</td>\n      <td>2023-12-31</td>\n      <td>1_1348795-1</td>\n      <td>I46.0</td>\n      <td>1_10164072</td>\n      <td>9</td>\n    </tr>\n  </tbody>\n</table>\n<p>488833 rows × 97 columns</p>\n</div>"
     },
     "execution_count": 11,
     "metadata": {},
     "output_type": "execute_result"
    }
   ],
   "source": [
    "df_prep"
   ],
   "metadata": {
    "collapsed": false,
    "ExecuteTime": {
     "end_time": "2024-07-01T09:28:40.791433300Z",
     "start_time": "2024-07-01T09:28:40.576007400Z"
    }
   }
  },
  {
   "cell_type": "code",
   "execution_count": 12,
   "outputs": [],
   "source": [
    "df_train, df_test = preprocessing.train_test_split(test_size=0.2,random_state=6)"
   ],
   "metadata": {
    "collapsed": false,
    "ExecuteTime": {
     "end_time": "2024-07-01T09:28:44.974325900Z",
     "start_time": "2024-07-01T09:28:44.488111400Z"
    }
   }
  },
  {
   "cell_type": "code",
   "execution_count": 13,
   "outputs": [
    {
     "data": {
      "text/plain": "0.2531547822058057"
     },
     "execution_count": 13,
     "metadata": {},
     "output_type": "execute_result"
    }
   ],
   "source": [
    "len(df_test)/ len(df_train)"
   ],
   "metadata": {
    "collapsed": false,
    "ExecuteTime": {
     "end_time": "2024-07-01T09:28:45.697392200Z",
     "start_time": "2024-07-01T09:28:45.678443400Z"
    }
   }
  },
  {
   "cell_type": "code",
   "execution_count": 14,
   "outputs": [
    {
     "data": {
      "text/plain": "[]"
     },
     "execution_count": 14,
     "metadata": {},
     "output_type": "execute_result"
    }
   ],
   "source": [
    "ls1 = list(df_train.sort_values(by='VISIT_ID')['VISIT_ID'])\n",
    "ls2 = list(df_test.sort_values(by='VISIT_ID')['VISIT_ID'])\n",
    "intersection = list(set(ls1) & set(ls2))\n",
    "intersection ## to find the repeated transaction id between them"
   ],
   "metadata": {
    "collapsed": false,
    "ExecuteTime": {
     "end_time": "2024-07-01T09:28:46.961593100Z",
     "start_time": "2024-07-01T09:28:46.766115300Z"
    }
   }
  },
  {
   "cell_type": "code",
   "execution_count": 15,
   "outputs": [
    {
     "data": {
      "text/plain": "3.9501525165226234"
     },
     "execution_count": 15,
     "metadata": {},
     "output_type": "execute_result"
    }
   ],
   "source": [
    "len(df_train) / len(df_test)"
   ],
   "metadata": {
    "collapsed": false,
    "ExecuteTime": {
     "end_time": "2024-07-01T09:28:47.786387Z",
     "start_time": "2024-07-01T09:28:47.766440700Z"
    }
   }
  },
  {
   "cell_type": "code",
   "execution_count": 16,
   "outputs": [],
   "source": [
    "df_train.to_parquet('data/HJH/prq/train.parquet')\n",
    "df_test.to_parquet('data/HJH/prq/test.parquet')"
   ],
   "metadata": {
    "collapsed": false,
    "ExecuteTime": {
     "end_time": "2024-07-01T09:28:50.368388100Z",
     "start_time": "2024-07-01T09:28:48.371332100Z"
    }
   }
  },
  {
   "cell_type": "code",
   "execution_count": null,
   "outputs": [],
   "source": [],
   "metadata": {
    "collapsed": false
   }
  }
 ],
 "metadata": {
  "kernelspec": {
   "display_name": "Python 3",
   "language": "python",
   "name": "python3"
  },
  "language_info": {
   "codemirror_mode": {
    "name": "ipython",
    "version": 2
   },
   "file_extension": ".py",
   "mimetype": "text/x-python",
   "name": "python",
   "nbconvert_exporter": "python",
   "pygments_lexer": "ipython2",
   "version": "2.7.6"
  }
 },
 "nbformat": 4,
 "nbformat_minor": 0
}
