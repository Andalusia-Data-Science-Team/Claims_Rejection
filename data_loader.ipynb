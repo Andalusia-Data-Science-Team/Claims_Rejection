{
 "cells": [
  {
   "cell_type": "code",
   "execution_count": 1,
   "outputs": [],
   "source": [
    "from src.data_application import DataFrameProcessor\n",
    "from src.data_local import DataLoader, MergedDataPreprocessing\n",
    "from cashe import get_input"
   ],
   "metadata": {
    "collapsed": false,
    "ExecuteTime": {
     "end_time": "2024-05-09T09:07:22.277995Z",
     "start_time": "2024-05-09T09:07:18.559448100Z"
    }
   }
  },
  {
   "cell_type": "code",
   "execution_count": 2,
   "outputs": [],
   "source": [
    "df_original = get_input()"
   ],
   "metadata": {
    "collapsed": false,
    "ExecuteTime": {
     "end_time": "2024-05-09T09:08:09.085769900Z",
     "start_time": "2024-05-09T09:07:22.277995Z"
    }
   }
  },
  {
   "cell_type": "code",
   "execution_count": 3,
   "outputs": [
    {
     "data": {
      "text/plain": "         item_CreatedDate                 transaction_RequestId  \\\n0 2023-08-24 14:21:05.369  75a9840c-865f-4fd9-9b67-255bb8771eee   \n1 2023-08-24 14:34:14.349  6c46f638-517f-493d-b710-4aef5f9e9393   \n2 2023-08-24 14:58:18.912  3c2813fe-f1f3-438f-b16f-92fcf917dc67   \n3 2023-08-24 15:00:39.525  65e81315-23b8-4d4e-9767-040c45a0f560   \n4 2023-08-24 15:03:23.404  c4427a02-3291-422d-b2e8-b97bf3d5081d   \n\n  transaction_PatientAge transaction_PatientEnGender  item_NameEn  item_Price  \\\n0                  6Y-3M                        Male  Examination        80.0   \n1                  6Y-3M                        Male  Examination        80.0   \n2                  6Y-3M                        Male  Examination        80.0   \n3                  6Y-3M                        Male  Examination        80.0   \n4                  6Y-3M                        Male  Examination        80.0   \n\n   item_Status  item_Sequence  item_RequestQuantity  item_ResponseQuantity  \\\n0            1              1                   1.0                    0.0   \n1            1              1                   1.0                    0.0   \n2            1              1                   1.0                    0.0   \n3            1              1                   1.0                    0.0   \n4            2              1                   1.0                    1.0   \n\n  transaction_DiagnosisIds transaction_PhysicianIds item_ResponseState  \n0                      J02                     ,327                NaN  \n1                      J02                     ,327                NaN  \n2                      J02                     ,327                NaN  \n3                      J02                     ,327                NaN  \n4                      J02                     ,327           approved  ",
      "text/html": "<div>\n<style scoped>\n    .dataframe tbody tr th:only-of-type {\n        vertical-align: middle;\n    }\n\n    .dataframe tbody tr th {\n        vertical-align: top;\n    }\n\n    .dataframe thead th {\n        text-align: right;\n    }\n</style>\n<table border=\"1\" class=\"dataframe\">\n  <thead>\n    <tr style=\"text-align: right;\">\n      <th></th>\n      <th>item_CreatedDate</th>\n      <th>transaction_RequestId</th>\n      <th>transaction_PatientAge</th>\n      <th>transaction_PatientEnGender</th>\n      <th>item_NameEn</th>\n      <th>item_Price</th>\n      <th>item_Status</th>\n      <th>item_Sequence</th>\n      <th>item_RequestQuantity</th>\n      <th>item_ResponseQuantity</th>\n      <th>transaction_DiagnosisIds</th>\n      <th>transaction_PhysicianIds</th>\n      <th>item_ResponseState</th>\n    </tr>\n  </thead>\n  <tbody>\n    <tr>\n      <th>0</th>\n      <td>2023-08-24 14:21:05.369</td>\n      <td>75a9840c-865f-4fd9-9b67-255bb8771eee</td>\n      <td>6Y-3M</td>\n      <td>Male</td>\n      <td>Examination</td>\n      <td>80.0</td>\n      <td>1</td>\n      <td>1</td>\n      <td>1.0</td>\n      <td>0.0</td>\n      <td>J02</td>\n      <td>,327</td>\n      <td>NaN</td>\n    </tr>\n    <tr>\n      <th>1</th>\n      <td>2023-08-24 14:34:14.349</td>\n      <td>6c46f638-517f-493d-b710-4aef5f9e9393</td>\n      <td>6Y-3M</td>\n      <td>Male</td>\n      <td>Examination</td>\n      <td>80.0</td>\n      <td>1</td>\n      <td>1</td>\n      <td>1.0</td>\n      <td>0.0</td>\n      <td>J02</td>\n      <td>,327</td>\n      <td>NaN</td>\n    </tr>\n    <tr>\n      <th>2</th>\n      <td>2023-08-24 14:58:18.912</td>\n      <td>3c2813fe-f1f3-438f-b16f-92fcf917dc67</td>\n      <td>6Y-3M</td>\n      <td>Male</td>\n      <td>Examination</td>\n      <td>80.0</td>\n      <td>1</td>\n      <td>1</td>\n      <td>1.0</td>\n      <td>0.0</td>\n      <td>J02</td>\n      <td>,327</td>\n      <td>NaN</td>\n    </tr>\n    <tr>\n      <th>3</th>\n      <td>2023-08-24 15:00:39.525</td>\n      <td>65e81315-23b8-4d4e-9767-040c45a0f560</td>\n      <td>6Y-3M</td>\n      <td>Male</td>\n      <td>Examination</td>\n      <td>80.0</td>\n      <td>1</td>\n      <td>1</td>\n      <td>1.0</td>\n      <td>0.0</td>\n      <td>J02</td>\n      <td>,327</td>\n      <td>NaN</td>\n    </tr>\n    <tr>\n      <th>4</th>\n      <td>2023-08-24 15:03:23.404</td>\n      <td>c4427a02-3291-422d-b2e8-b97bf3d5081d</td>\n      <td>6Y-3M</td>\n      <td>Male</td>\n      <td>Examination</td>\n      <td>80.0</td>\n      <td>2</td>\n      <td>1</td>\n      <td>1.0</td>\n      <td>1.0</td>\n      <td>J02</td>\n      <td>,327</td>\n      <td>approved</td>\n    </tr>\n  </tbody>\n</table>\n</div>"
     },
     "execution_count": 3,
     "metadata": {},
     "output_type": "execute_result"
    }
   ],
   "source": [
    "df_original.head(5)"
   ],
   "metadata": {
    "collapsed": false,
    "ExecuteTime": {
     "end_time": "2024-05-09T09:08:09.627651Z",
     "start_time": "2024-05-09T09:08:09.086768Z"
    }
   }
  },
  {
   "cell_type": "code",
   "execution_count": 4,
   "outputs": [],
   "source": [
    "preprocessing = MergedDataPreprocessing(df_original)"
   ],
   "metadata": {
    "collapsed": false,
    "ExecuteTime": {
     "end_time": "2024-05-09T09:08:09.629674Z",
     "start_time": "2024-05-09T09:08:09.575653500Z"
    }
   }
  },
  {
   "cell_type": "code",
   "execution_count": 5,
   "outputs": [
    {
     "name": "stderr",
     "output_type": "stream",
     "text": [
      "E:\\Projects\\Claims_Rejection\\src\\data_local.py:164: FutureWarning: A value is trying to be set on a copy of a DataFrame or Series through chained assignment using an inplace method.\n",
      "The behavior will change in pandas 3.0. This inplace method will never work because the intermediate object on which we are setting values always behaves as a copy.\n",
      "\n",
      "For example, when doing 'df[col].method(value, inplace=True)', try using 'df.method({col: value}, inplace=True)' or df[col] = df[col].method(value) instead, to perform the operation inplace on the original object.\n",
      "\n",
      "\n",
      "  self.df.item_Price.fillna(column_average, inplace=True)\n"
     ]
    },
    {
     "data": {
      "text/plain": "             item_CreatedDate                 transaction_RequestId  \\\n0     2023-08-24 14:21:05.369  75a9840c-865f-4fd9-9b67-255bb8771eee   \n1     2023-08-24 14:34:14.349  6c46f638-517f-493d-b710-4aef5f9e9393   \n2     2023-08-24 14:58:18.912  3c2813fe-f1f3-438f-b16f-92fcf917dc67   \n3     2023-08-24 15:00:39.525  65e81315-23b8-4d4e-9767-040c45a0f560   \n4     2023-08-24 15:03:23.404  c4427a02-3291-422d-b2e8-b97bf3d5081d   \n...                       ...                                   ...   \n49087 2024-04-30 09:00:16.704  f4cbab83-28f3-4410-948c-2c87cdcdd8da   \n49088 2024-04-30 09:00:16.704  f4cbab83-28f3-4410-948c-2c87cdcdd8da   \n49089 2024-04-30 09:00:16.704  f4cbab83-28f3-4410-948c-2c87cdcdd8da   \n49090 2024-04-30 09:00:16.704  f4cbab83-28f3-4410-948c-2c87cdcdd8da   \n49091 2024-04-30 09:00:16.704  f4cbab83-28f3-4410-948c-2c87cdcdd8da   \n\n       transaction_PatientAge  transaction_PatientEnGender  item_NameEn  \\\n0                           6                            1           74   \n1                           6                            1           74   \n2                           6                            1           74   \n3                           6                            1           74   \n4                           6                            1           74   \n...                       ...                          ...          ...   \n49087                      31                            1          222   \n49088                      31                            1          234   \n49089                      31                            1           74   \n49090                      31                            1           41   \n49091                      31                            1          148   \n\n       item_Price  item_Status  item_Sequence  item_RequestQuantity  \\\n0           80.00            1              1                   1.0   \n1           80.00            1              1                   1.0   \n2           80.00            1              1                   1.0   \n3           80.00            1              1                   1.0   \n4           80.00            2              1                   1.0   \n...           ...          ...            ...                   ...   \n49087      121.00            1              3                   1.0   \n49088       60.50            1              2                   1.0   \n49089       80.00            1              1                   1.0   \n49090       54.25            1             16                   1.0   \n49091       23.30            1             17                   3.0   \n\n       item_ResponseQuantity  transaction_DiagnosisIds  \\\n0                        0.0                         7   \n1                        0.0                         7   \n2                        0.0                         7   \n3                        0.0                         7   \n4                        1.0                         7   \n...                      ...                       ...   \n49087                    0.0                         2   \n49088                    0.0                         2   \n49089                    0.0                         2   \n49090                    0.0                         2   \n49091                    0.0                         2   \n\n                                transaction_PhysicianIds item_ResponseState  \n0                                                   ,327                NaN  \n1                                                   ,327                NaN  \n2                                                   ,327                NaN  \n3                                                   ,327                NaN  \n4                                                   ,327           approved  \n...                                                  ...                ...  \n49087  ,238,238,238,238,238,238,238,238,238,238,238,2...                NaN  \n49088  ,238,238,238,238,238,238,238,238,238,238,238,2...                NaN  \n49089  ,238,238,238,238,238,238,238,238,238,238,238,2...                NaN  \n49090  ,238,238,238,238,238,238,238,238,238,238,238,2...                NaN  \n49091  ,238,238,238,238,238,238,238,238,238,238,238,2...                NaN  \n\n[49092 rows x 13 columns]",
      "text/html": "<div>\n<style scoped>\n    .dataframe tbody tr th:only-of-type {\n        vertical-align: middle;\n    }\n\n    .dataframe tbody tr th {\n        vertical-align: top;\n    }\n\n    .dataframe thead th {\n        text-align: right;\n    }\n</style>\n<table border=\"1\" class=\"dataframe\">\n  <thead>\n    <tr style=\"text-align: right;\">\n      <th></th>\n      <th>item_CreatedDate</th>\n      <th>transaction_RequestId</th>\n      <th>transaction_PatientAge</th>\n      <th>transaction_PatientEnGender</th>\n      <th>item_NameEn</th>\n      <th>item_Price</th>\n      <th>item_Status</th>\n      <th>item_Sequence</th>\n      <th>item_RequestQuantity</th>\n      <th>item_ResponseQuantity</th>\n      <th>transaction_DiagnosisIds</th>\n      <th>transaction_PhysicianIds</th>\n      <th>item_ResponseState</th>\n    </tr>\n  </thead>\n  <tbody>\n    <tr>\n      <th>0</th>\n      <td>2023-08-24 14:21:05.369</td>\n      <td>75a9840c-865f-4fd9-9b67-255bb8771eee</td>\n      <td>6</td>\n      <td>1</td>\n      <td>74</td>\n      <td>80.00</td>\n      <td>1</td>\n      <td>1</td>\n      <td>1.0</td>\n      <td>0.0</td>\n      <td>7</td>\n      <td>,327</td>\n      <td>NaN</td>\n    </tr>\n    <tr>\n      <th>1</th>\n      <td>2023-08-24 14:34:14.349</td>\n      <td>6c46f638-517f-493d-b710-4aef5f9e9393</td>\n      <td>6</td>\n      <td>1</td>\n      <td>74</td>\n      <td>80.00</td>\n      <td>1</td>\n      <td>1</td>\n      <td>1.0</td>\n      <td>0.0</td>\n      <td>7</td>\n      <td>,327</td>\n      <td>NaN</td>\n    </tr>\n    <tr>\n      <th>2</th>\n      <td>2023-08-24 14:58:18.912</td>\n      <td>3c2813fe-f1f3-438f-b16f-92fcf917dc67</td>\n      <td>6</td>\n      <td>1</td>\n      <td>74</td>\n      <td>80.00</td>\n      <td>1</td>\n      <td>1</td>\n      <td>1.0</td>\n      <td>0.0</td>\n      <td>7</td>\n      <td>,327</td>\n      <td>NaN</td>\n    </tr>\n    <tr>\n      <th>3</th>\n      <td>2023-08-24 15:00:39.525</td>\n      <td>65e81315-23b8-4d4e-9767-040c45a0f560</td>\n      <td>6</td>\n      <td>1</td>\n      <td>74</td>\n      <td>80.00</td>\n      <td>1</td>\n      <td>1</td>\n      <td>1.0</td>\n      <td>0.0</td>\n      <td>7</td>\n      <td>,327</td>\n      <td>NaN</td>\n    </tr>\n    <tr>\n      <th>4</th>\n      <td>2023-08-24 15:03:23.404</td>\n      <td>c4427a02-3291-422d-b2e8-b97bf3d5081d</td>\n      <td>6</td>\n      <td>1</td>\n      <td>74</td>\n      <td>80.00</td>\n      <td>2</td>\n      <td>1</td>\n      <td>1.0</td>\n      <td>1.0</td>\n      <td>7</td>\n      <td>,327</td>\n      <td>approved</td>\n    </tr>\n    <tr>\n      <th>...</th>\n      <td>...</td>\n      <td>...</td>\n      <td>...</td>\n      <td>...</td>\n      <td>...</td>\n      <td>...</td>\n      <td>...</td>\n      <td>...</td>\n      <td>...</td>\n      <td>...</td>\n      <td>...</td>\n      <td>...</td>\n      <td>...</td>\n    </tr>\n    <tr>\n      <th>49087</th>\n      <td>2024-04-30 09:00:16.704</td>\n      <td>f4cbab83-28f3-4410-948c-2c87cdcdd8da</td>\n      <td>31</td>\n      <td>1</td>\n      <td>222</td>\n      <td>121.00</td>\n      <td>1</td>\n      <td>3</td>\n      <td>1.0</td>\n      <td>0.0</td>\n      <td>2</td>\n      <td>,238,238,238,238,238,238,238,238,238,238,238,2...</td>\n      <td>NaN</td>\n    </tr>\n    <tr>\n      <th>49088</th>\n      <td>2024-04-30 09:00:16.704</td>\n      <td>f4cbab83-28f3-4410-948c-2c87cdcdd8da</td>\n      <td>31</td>\n      <td>1</td>\n      <td>234</td>\n      <td>60.50</td>\n      <td>1</td>\n      <td>2</td>\n      <td>1.0</td>\n      <td>0.0</td>\n      <td>2</td>\n      <td>,238,238,238,238,238,238,238,238,238,238,238,2...</td>\n      <td>NaN</td>\n    </tr>\n    <tr>\n      <th>49089</th>\n      <td>2024-04-30 09:00:16.704</td>\n      <td>f4cbab83-28f3-4410-948c-2c87cdcdd8da</td>\n      <td>31</td>\n      <td>1</td>\n      <td>74</td>\n      <td>80.00</td>\n      <td>1</td>\n      <td>1</td>\n      <td>1.0</td>\n      <td>0.0</td>\n      <td>2</td>\n      <td>,238,238,238,238,238,238,238,238,238,238,238,2...</td>\n      <td>NaN</td>\n    </tr>\n    <tr>\n      <th>49090</th>\n      <td>2024-04-30 09:00:16.704</td>\n      <td>f4cbab83-28f3-4410-948c-2c87cdcdd8da</td>\n      <td>31</td>\n      <td>1</td>\n      <td>41</td>\n      <td>54.25</td>\n      <td>1</td>\n      <td>16</td>\n      <td>1.0</td>\n      <td>0.0</td>\n      <td>2</td>\n      <td>,238,238,238,238,238,238,238,238,238,238,238,2...</td>\n      <td>NaN</td>\n    </tr>\n    <tr>\n      <th>49091</th>\n      <td>2024-04-30 09:00:16.704</td>\n      <td>f4cbab83-28f3-4410-948c-2c87cdcdd8da</td>\n      <td>31</td>\n      <td>1</td>\n      <td>148</td>\n      <td>23.30</td>\n      <td>1</td>\n      <td>17</td>\n      <td>3.0</td>\n      <td>0.0</td>\n      <td>2</td>\n      <td>,238,238,238,238,238,238,238,238,238,238,238,2...</td>\n      <td>NaN</td>\n    </tr>\n  </tbody>\n</table>\n<p>49092 rows × 13 columns</p>\n</div>"
     },
     "execution_count": 5,
     "metadata": {},
     "output_type": "execute_result"
    }
   ],
   "source": [
    "df_original_prep = preprocessing.age_gender_item_ids_prep()\n",
    "df_original_prep"
   ],
   "metadata": {
    "collapsed": false,
    "ExecuteTime": {
     "end_time": "2024-05-09T09:08:11.161016400Z",
     "start_time": "2024-05-09T09:08:09.585628500Z"
    }
   }
  },
  {
   "cell_type": "code",
   "execution_count": 6,
   "outputs": [],
   "source": [
    "df_train, df_test = preprocessing.train_test_split(startify_column='item_CreatedDate')"
   ],
   "metadata": {
    "collapsed": false,
    "ExecuteTime": {
     "end_time": "2024-05-09T09:08:11.511657300Z",
     "start_time": "2024-05-09T09:08:11.162017100Z"
    }
   }
  },
  {
   "cell_type": "code",
   "execution_count": 7,
   "outputs": [
    {
     "name": "stdout",
     "output_type": "stream",
     "text": [
      "<class 'pandas.core.frame.DataFrame'>\n",
      "Index: 14976 entries, 8355 to 38075\n",
      "Data columns (total 13 columns):\n",
      " #   Column                       Non-Null Count  Dtype  \n",
      "---  ------                       --------------  -----  \n",
      " 0   item_CreatedDate             14976 non-null  object \n",
      " 1   transaction_RequestId        14976 non-null  object \n",
      " 2   transaction_PatientAge       14976 non-null  int64  \n",
      " 3   transaction_PatientEnGender  14976 non-null  int64  \n",
      " 4   item_NameEn                  14976 non-null  int32  \n",
      " 5   item_Price                   14976 non-null  float64\n",
      " 6   item_Status                  14976 non-null  int64  \n",
      " 7   item_Sequence                14976 non-null  int64  \n",
      " 8   item_RequestQuantity         14976 non-null  float64\n",
      " 9   item_ResponseQuantity        14976 non-null  float64\n",
      " 10  transaction_DiagnosisIds     14976 non-null  int32  \n",
      " 11  transaction_PhysicianIds     14976 non-null  object \n",
      " 12  item_ResponseState           14976 non-null  object \n",
      "dtypes: float64(3), int32(2), int64(4), object(4)\n",
      "memory usage: 1.5+ MB\n"
     ]
    }
   ],
   "source": [
    "df_train.info()"
   ],
   "metadata": {
    "collapsed": false,
    "ExecuteTime": {
     "end_time": "2024-05-09T09:08:11.594434300Z",
     "start_time": "2024-05-09T09:08:11.512655900Z"
    }
   }
  },
  {
   "cell_type": "code",
   "execution_count": 8,
   "outputs": [
    {
     "name": "stdout",
     "output_type": "stream",
     "text": [
      "<class 'pandas.core.frame.DataFrame'>\n",
      "Index: 3745 entries, 17344 to 24635\n",
      "Data columns (total 13 columns):\n",
      " #   Column                       Non-Null Count  Dtype  \n",
      "---  ------                       --------------  -----  \n",
      " 0   item_CreatedDate             3745 non-null   object \n",
      " 1   transaction_RequestId        3745 non-null   object \n",
      " 2   transaction_PatientAge       3745 non-null   int64  \n",
      " 3   transaction_PatientEnGender  3745 non-null   int64  \n",
      " 4   item_NameEn                  3745 non-null   int32  \n",
      " 5   item_Price                   3745 non-null   float64\n",
      " 6   item_Status                  3745 non-null   int64  \n",
      " 7   item_Sequence                3745 non-null   int64  \n",
      " 8   item_RequestQuantity         3745 non-null   float64\n",
      " 9   item_ResponseQuantity        3745 non-null   float64\n",
      " 10  transaction_DiagnosisIds     3745 non-null   int32  \n",
      " 11  transaction_PhysicianIds     3745 non-null   object \n",
      " 12  item_ResponseState           3745 non-null   object \n",
      "dtypes: float64(3), int32(2), int64(4), object(4)\n",
      "memory usage: 380.4+ KB\n"
     ]
    }
   ],
   "source": [
    "df_test.info()"
   ],
   "metadata": {
    "collapsed": false,
    "ExecuteTime": {
     "end_time": "2024-05-09T09:08:12.325481600Z",
     "start_time": "2024-05-09T09:08:11.588452300Z"
    }
   }
  },
  {
   "cell_type": "code",
   "execution_count": 9,
   "outputs": [],
   "source": [
    "df_train.to_excel('data/SplittedData/SNB_train_data.xlsx',index=False)\n",
    "df_test.to_excel('data/SplittedData/SNB_test_data.xlsx',index=False)"
   ],
   "metadata": {
    "collapsed": false,
    "ExecuteTime": {
     "end_time": "2024-05-09T09:10:08.109361800Z",
     "start_time": "2024-05-09T09:09:59.639614Z"
    }
   }
  },
  {
   "cell_type": "code",
   "execution_count": null,
   "outputs": [],
   "source": [
    "#df_trans_req, df_trans_res = data_loader.split_transaction(df_trans)"
   ],
   "metadata": {
    "collapsed": false
   }
  },
  {
   "cell_type": "code",
   "execution_count": null,
   "outputs": [],
   "source": [
    "df_trans_req = DataFrameProcessor(df_trans_req).filter_high_variance_features()\n",
    "df_trans_res = DataFrameProcessor(df_trans_res).filter_high_variance_features()"
   ],
   "metadata": {
    "collapsed": false
   }
  },
  {
   "cell_type": "code",
   "execution_count": null,
   "outputs": [],
   "source": [
    "df_trans_req.head(3)"
   ],
   "metadata": {
    "collapsed": false
   }
  },
  {
   "cell_type": "code",
   "execution_count": null,
   "outputs": [],
   "source": [
    "df_trans_req.columns"
   ],
   "metadata": {
    "collapsed": false
   }
  },
  {
   "cell_type": "code",
   "execution_count": null,
   "outputs": [],
   "source": [
    "df_trans_res.head(3)"
   ],
   "metadata": {
    "collapsed": false
   }
  },
  {
   "cell_type": "code",
   "execution_count": null,
   "outputs": [],
   "source": [],
   "metadata": {
    "collapsed": false
   }
  },
  {
   "cell_type": "code",
   "execution_count": null,
   "outputs": [],
   "source": [
    "data_loader = DataLoader()\n",
    "df_request, df_response = data_loader.load_data()"
   ],
   "metadata": {
    "collapsed": false
   }
  },
  {
   "cell_type": "code",
   "execution_count": null,
   "outputs": [],
   "source": [
    "len(df_request)"
   ],
   "metadata": {
    "collapsed": false
   }
  },
  {
   "cell_type": "code",
   "execution_count": null,
   "outputs": [],
   "source": [
    "processor = DataFrameProcessor(df_request)\n",
    "\n",
    "df_request_out = processor.filter_high_variance_features()"
   ],
   "metadata": {
    "collapsed": false
   }
  },
  {
   "cell_type": "code",
   "execution_count": null,
   "outputs": [],
   "source": [],
   "metadata": {
    "collapsed": false
   }
  },
  {
   "cell_type": "code",
   "execution_count": null,
   "outputs": [],
   "source": [
    "df_request.to_excel('sad.xlsx')"
   ],
   "metadata": {
    "collapsed": false
   }
  },
  {
   "cell_type": "code",
   "execution_count": null,
   "outputs": [],
   "source": [
    "print(1)"
   ],
   "metadata": {
    "collapsed": false
   }
  },
  {
   "cell_type": "code",
   "execution_count": null,
   "outputs": [],
   "source": [
    "df_request_out.head(3)"
   ],
   "metadata": {
    "collapsed": false
   }
  },
  {
   "cell_type": "code",
   "execution_count": null,
   "outputs": [],
   "source": [
    "df_request_out.columns"
   ],
   "metadata": {
    "collapsed": false
   }
  },
  {
   "cell_type": "code",
   "execution_count": null,
   "outputs": [],
   "source": [
    "dfs[1].head()"
   ],
   "metadata": {
    "collapsed": false
   }
  },
  {
   "cell_type": "code",
   "execution_count": null,
   "outputs": [],
   "source": [
    "dfs[2].head()"
   ],
   "metadata": {
    "collapsed": false
   }
  },
  {
   "cell_type": "code",
   "execution_count": null,
   "outputs": [],
   "source": [],
   "metadata": {
    "collapsed": false
   }
  }
 ],
 "metadata": {
  "kernelspec": {
   "display_name": "Python 3",
   "language": "python",
   "name": "python3"
  },
  "language_info": {
   "codemirror_mode": {
    "name": "ipython",
    "version": 2
   },
   "file_extension": ".py",
   "mimetype": "text/x-python",
   "name": "python",
   "nbconvert_exporter": "python",
   "pygments_lexer": "ipython2",
   "version": "2.7.6"
  }
 },
 "nbformat": 4,
 "nbformat_minor": 0
}
