{
 "cells": [
  {
   "cell_type": "code",
   "execution_count": 1,
   "metadata": {
    "collapsed": true,
    "ExecuteTime": {
     "end_time": "2024-09-02T12:00:40.951628800Z",
     "start_time": "2024-09-02T11:55:56.577539600Z"
    }
   },
   "outputs": [
    {
     "name": "stdout",
     "output_type": "stream",
     "text": [
      "data is labeled with medical reason\n"
     ]
    },
    {
     "name": "stderr",
     "output_type": "stream",
     "text": [
      "C:\\Users\\omar.mounir\\AppData\\Local\\Temp\\ipykernel_2616\\4243396844.py:19: SettingWithCopyWarning: \n",
      "A value is trying to be set on a copy of a slice from a DataFrame.\n",
      "Try using .loc[row_indexer,col_indexer] = value instead\n",
      "\n",
      "See the caveats in the documentation: https://pandas.pydata.org/pandas-docs/stable/user_guide/indexing.html#returning-a-view-versus-a-copy\n",
      "  y_train['NPHIES_LABEL'] = df_train.NPHIES_LABEL; y_test['NPHIES_LABEL'] = df_test.NPHIES_LABEL\n"
     ]
    },
    {
     "name": "stdout",
     "output_type": "stream",
     "text": [
      "data is loaded successfully\n"
     ]
    },
    {
     "name": "stderr",
     "output_type": "stream",
     "text": [
      "E:\\Projects\\Claims_Rejection\\src\\data_local.py:276: FutureWarning: Downcasting behavior in `replace` is deprecated and will be removed in a future version. To retain the old behavior, explicitly call `result.infer_objects(copy=False)`. To opt-in to the future behavior, set `pd.set_option('future.no_silent_downcasting', True)`\n",
      "  df[column]= df[column].replace(column_encoding)\n",
      "E:\\Projects\\Claims_Rejection\\src\\data_local.py:284: FutureWarning: Downcasting behavior in `replace` is deprecated and will be removed in a future version. To retain the old behavior, explicitly call `result.infer_objects(copy=False)`. To opt-in to the future behavior, set `pd.set_option('future.no_silent_downcasting', True)`\n",
      "  df['PatientAgeRange']= df['PatientAgeRange'].replace(age_encoding)\n",
      "E:\\Projects\\Claims_Rejection\\src\\data_local.py:276: FutureWarning: Downcasting behavior in `replace` is deprecated and will be removed in a future version. To retain the old behavior, explicitly call `result.infer_objects(copy=False)`. To opt-in to the future behavior, set `pd.set_option('future.no_silent_downcasting', True)`\n",
      "  df[column]= df[column].replace(column_encoding)\n"
     ]
    },
    {
     "name": "stdout",
     "output_type": "stream",
     "text": [
      "data is preprocessed numerically\n"
     ]
    },
    {
     "name": "stderr",
     "output_type": "stream",
     "text": [
      "E:\\Projects\\Claims_Rejection\\src\\data_local.py:284: FutureWarning: Downcasting behavior in `replace` is deprecated and will be removed in a future version. To retain the old behavior, explicitly call `result.infer_objects(copy=False)`. To opt-in to the future behavior, set `pd.set_option('future.no_silent_downcasting', True)`\n",
      "  df['PatientAgeRange']= df['PatientAgeRange'].replace(age_encoding)\n"
     ]
    }
   ],
   "source": [
    "import numpy as np\n",
    "from src.lstm_encoder import LSTMEmbedding\n",
    "from cashe import get_train_test_split, get_training_inputs, drop_nomodel_columns\n",
    "from src.model_app import ModelApplication\n",
    "from src.utilities_rejection import RejectionReasonLabeling\n",
    "from src.data_local import MergedDataPreprocessing\n",
    "\n",
    "df_train, df_test = get_train_test_split(path='data/HJH/13-06-2024')\n",
    "train_rej = RejectionReasonLabeling(df_train)\n",
    "train_rej.recoginze_label()\n",
    "\n",
    "train_rej = RejectionReasonLabeling(df_test)\n",
    "train_rej.recoginze_label()\n",
    "df_train['NPHIES_LABEL'] = np.where(df_train['NPHIES_CODE'] == 'MN-1-1', 1, 0)\n",
    "df_test['NPHIES_LABEL'] = np.where(df_test['NPHIES_CODE'] == 'MN-1-1', 1, 0)\n",
    "\n",
    "print('data is labeled with medical reason')\n",
    "X_train, y_train, X_test, y_test = get_training_inputs(df_train, df_test)\n",
    "y_train['NPHIES_LABEL'] = df_train.NPHIES_LABEL; y_test['NPHIES_LABEL'] = df_test.NPHIES_LABEL\n",
    "X_train.drop(columns=['NPHIES_CODE'],inplace=True); X_test.drop(columns=['NPHIES_CODE'],inplace=True)\n",
    "\n",
    "print('data is loaded successfully')\n",
    "preprocessing_train = MergedDataPreprocessing(X_train)\n",
    "X_train_prep = preprocessing_train.columns_prep()\n",
    "\n",
    "preprocessing_test = MergedDataPreprocessing(X_test)\n",
    "X_test_prep = preprocessing_test.columns_prep()\n",
    "print('data is preprocessed numerically')"
   ]
  },
  {
   "cell_type": "code",
   "execution_count": 2,
   "outputs": [
    {
     "name": "stdout",
     "output_type": "stream",
     "text": [
      "data is encoded\n"
     ]
    }
   ],
   "source": [
    "lstm_embedding = LSTMEmbedding()\n",
    "\n",
    "X_train_encoded = preprocessing_train.column_embedding(X_train_prep, is_service=True)\n",
    "X_test_encoded = preprocessing_train.column_embedding(X_test_prep, is_service=True)\n",
    "\n",
    "X_train_encoded = preprocessing_train.column_embedding(X_train_encoded, is_service=False)\n",
    "X_test_encoded = preprocessing_train.column_embedding(X_test_encoded, is_service=False)\n",
    "\n",
    "X_train = drop_nomodel_columns(X_train_encoded)\n",
    "X_test  = drop_nomodel_columns(X_test_encoded)\n",
    "print('data is encoded')"
   ],
   "metadata": {
    "collapsed": false,
    "ExecuteTime": {
     "end_time": "2024-09-02T12:00:51.684712Z",
     "start_time": "2024-09-02T12:00:40.956618500Z"
    }
   }
  },
  {
   "cell_type": "code",
   "execution_count": 18,
   "outputs": [
    {
     "name": "stderr",
     "output_type": "stream",
     "text": [
      "C:\\Users\\omar.mounir\\AppData\\Local\\Temp\\ipykernel_2616\\2250477568.py:18: SettingWithCopyWarning: \n",
      "A value is trying to be set on a copy of a slice from a DataFrame.\n",
      "Try using .loc[row_indexer,col_indexer] = value instead\n",
      "\n",
      "See the caveats in the documentation: https://pandas.pydata.org/pandas-docs/stable/user_guide/indexing.html#returning-a-view-versus-a-copy\n",
      "  y_train['OUTCOME_MERGED'] = outcomes_train\n",
      "C:\\Users\\omar.mounir\\AppData\\Local\\Temp\\ipykernel_2616\\2250477568.py:19: SettingWithCopyWarning: \n",
      "A value is trying to be set on a copy of a slice from a DataFrame.\n",
      "Try using .loc[row_indexer,col_indexer] = value instead\n",
      "\n",
      "See the caveats in the documentation: https://pandas.pydata.org/pandas-docs/stable/user_guide/indexing.html#returning-a-view-versus-a-copy\n",
      "  y_test['OUTCOME_MERGED']  = outcomes_test\n"
     ]
    }
   ],
   "source": [
    "## save data (optional)\n",
    "# X_train_encoded.to_csv('train_encoded.csv',index=False); X_test_encoded.to_csv('test_encoded.csv',index=False)\n",
    "# y_train[['OUTCOME','NPHIES_LABEL']].to_csv('y_train.csv',index=False); y_test[['OUTCOME','NPHIES_LABEL']].to_csv('y_test.csv',index=False)\n",
    "\n",
    "outcomes_train = []; outcomes_test = []\n",
    "for i in range(len(y_train)):\n",
    "    if y_train['NPHIES_LABEL'].iloc[i] == 1:\n",
    "        outcomes_train.append(2)\n",
    "    else:\n",
    "        outcomes_train.append(y_train['OUTCOME'].iloc[i])\n",
    "\n",
    "for i in range(len(y_test)):\n",
    "    if y_test['NPHIES_LABEL'].iloc[i] == 1:\n",
    "        outcomes_test.append(2)\n",
    "    else:\n",
    "        outcomes_test.append(y_test['OUTCOME'].iloc[i])\n",
    "\n",
    "y_train['OUTCOME_MERGED'] = outcomes_train\n",
    "y_test['OUTCOME_MERGED']  = outcomes_test"
   ],
   "metadata": {
    "collapsed": false,
    "ExecuteTime": {
     "end_time": "2024-09-02T12:43:50.058892200Z",
     "start_time": "2024-09-02T12:43:46.495671800Z"
    }
   }
  },
  {
   "cell_type": "code",
   "execution_count": 19,
   "outputs": [
    {
     "name": "stdout",
     "output_type": "stream",
     "text": [
      "XGBoost Model is loading from disk..\n",
      "Multi-Class Classifier metrics calculation\n"
     ]
    },
    {
     "data": {
      "text/plain": "{'XGBoost': {'Accuracy': 0.73,\n  'Precision': 0.73,\n  'Recall': 0.73,\n  'F1 Score': 0.73}}"
     },
     "execution_count": 19,
     "metadata": {},
     "output_type": "execute_result"
    }
   ],
   "source": [
    "model_runner = ModelApplication(X_train= X_train,y_train= y_train['OUTCOME_MERGED'],X_test= X_test,y_test= y_test['OUTCOME_MERGED'])\n",
    "model_runner.get_model(force_retrain=False,model_type='outcome')\n",
    "model_runner.evaluate_model()\n",
    "## results are calculated with weighted pre, rec"
   ],
   "metadata": {
    "collapsed": false,
    "ExecuteTime": {
     "end_time": "2024-09-02T12:43:52.299950600Z",
     "start_time": "2024-09-02T12:43:51.928940900Z"
    }
   }
  },
  {
   "cell_type": "code",
   "execution_count": 22,
   "outputs": [
    {
     "name": "stdout",
     "output_type": "stream",
     "text": [
      "[LightGBM] [Info] Total Bins 7034\n",
      "[LightGBM] [Info] Number of data points in the train set: 165580, number of used features: 65\n",
      "[LightGBM] [Info] Start training from score -1.022034\n",
      "[LightGBM] [Info] Start training from score -0.625413\n",
      "[LightGBM] [Info] Start training from score -2.252869\n",
      "\n",
      "\n",
      "LightGBM, Decision Tree, SGD and Neural Network are trained on dataset.\n"
     ]
    }
   ],
   "source": [
    "## try other models\n",
    "from src.model_train import ModelTrainer\n",
    "\n",
    "X_train.fillna(0,inplace=True)\n",
    "X_test.fillna(0,inplace=True)\n",
    "\n",
    "model_trial = ModelTrainer(X_train=X_train,y_train=y_train['OUTCOME_MERGED'],\n",
    "                            X_test=X_test,y_test=y_test['OUTCOME_MERGED'])\n",
    "model_trial.train_models()"
   ],
   "metadata": {
    "collapsed": false,
    "ExecuteTime": {
     "end_time": "2024-09-02T13:38:46.201831700Z",
     "start_time": "2024-09-02T13:32:12.255326200Z"
    }
   }
  },
  {
   "cell_type": "code",
   "execution_count": 24,
   "outputs": [
    {
     "ename": "ValueError",
     "evalue": "Target is multiclass but average='binary'. Please choose another average setting, one of [None, 'micro', 'macro', 'weighted'].",
     "output_type": "error",
     "traceback": [
      "\u001B[1;31m---------------------------------------------------------------------------\u001B[0m",
      "\u001B[1;31mValueError\u001B[0m                                Traceback (most recent call last)",
      "Cell \u001B[1;32mIn[24], line 1\u001B[0m\n\u001B[1;32m----> 1\u001B[0m result_analysis \u001B[38;5;241m=\u001B[39m \u001B[43mmodel_trial\u001B[49m\u001B[38;5;241;43m.\u001B[39;49m\u001B[43mevaluate_models\u001B[49m\u001B[43m(\u001B[49m\u001B[43m)\u001B[49m\n\u001B[0;32m      2\u001B[0m result_analysis\n",
      "File \u001B[1;32mE:\\Projects\\Claims_Rejection\\src\\model_train.py:78\u001B[0m, in \u001B[0;36mModelTrainer.evaluate_models\u001B[1;34m(self)\u001B[0m\n\u001B[0;32m     77\u001B[0m \u001B[38;5;28;01mdef\u001B[39;00m \u001B[38;5;21mevaluate_models\u001B[39m(\u001B[38;5;28mself\u001B[39m):\n\u001B[1;32m---> 78\u001B[0m     dt_dict  \u001B[38;5;241m=\u001B[39m \u001B[38;5;28;43mself\u001B[39;49m\u001B[38;5;241;43m.\u001B[39;49m\u001B[43m_get_prediction_metrics\u001B[49m\u001B[43m(\u001B[49m\u001B[38;5;28;43mself\u001B[39;49m\u001B[38;5;241;43m.\u001B[39;49m\u001B[43mdt_model\u001B[49m\u001B[43m)\u001B[49m\n\u001B[0;32m     79\u001B[0m     lgbm_dict\u001B[38;5;241m=\u001B[39m \u001B[38;5;28mself\u001B[39m\u001B[38;5;241m.\u001B[39m_get_prediction_metrics(\u001B[38;5;28mself\u001B[39m\u001B[38;5;241m.\u001B[39mlgbm_model)\n\u001B[0;32m     80\u001B[0m     nn_dict  \u001B[38;5;241m=\u001B[39m \u001B[38;5;28mself\u001B[39m\u001B[38;5;241m.\u001B[39m_get_prediction_metrics(\u001B[38;5;28mself\u001B[39m\u001B[38;5;241m.\u001B[39mnn_model)\n",
      "File \u001B[1;32mE:\\Projects\\Claims_Rejection\\src\\model_train.py:57\u001B[0m, in \u001B[0;36mModelTrainer._get_prediction_metrics\u001B[1;34m(self, model)\u001B[0m\n\u001B[0;32m     55\u001B[0m y_pred \u001B[38;5;241m=\u001B[39m model\u001B[38;5;241m.\u001B[39mpredict(\u001B[38;5;28mself\u001B[39m\u001B[38;5;241m.\u001B[39mX_test)\n\u001B[0;32m     56\u001B[0m mod_accuracy \u001B[38;5;241m=\u001B[39m accuracy_score(\u001B[38;5;28mself\u001B[39m\u001B[38;5;241m.\u001B[39my_test, y_pred)\n\u001B[1;32m---> 57\u001B[0m mod_precision \u001B[38;5;241m=\u001B[39m \u001B[43mprecision_score\u001B[49m\u001B[43m(\u001B[49m\u001B[38;5;28;43mself\u001B[39;49m\u001B[38;5;241;43m.\u001B[39;49m\u001B[43my_test\u001B[49m\u001B[43m,\u001B[49m\u001B[43m \u001B[49m\u001B[43my_pred\u001B[49m\u001B[43m)\u001B[49m\n\u001B[0;32m     58\u001B[0m mod_recall \u001B[38;5;241m=\u001B[39m recall_score(\u001B[38;5;28mself\u001B[39m\u001B[38;5;241m.\u001B[39my_test, y_pred)\n\u001B[0;32m     59\u001B[0m mod_f1 \u001B[38;5;241m=\u001B[39m (\u001B[38;5;241m2\u001B[39m\u001B[38;5;241m*\u001B[39mmod_precision\u001B[38;5;241m*\u001B[39mmod_recall) \u001B[38;5;241m/\u001B[39m (mod_precision\u001B[38;5;241m+\u001B[39mmod_recall)\n",
      "File \u001B[1;32mE:\\Projects\\Claims_Rejection\\venv\\lib\\site-packages\\sklearn\\utils\\_param_validation.py:213\u001B[0m, in \u001B[0;36mvalidate_params.<locals>.decorator.<locals>.wrapper\u001B[1;34m(*args, **kwargs)\u001B[0m\n\u001B[0;32m    207\u001B[0m \u001B[38;5;28;01mtry\u001B[39;00m:\n\u001B[0;32m    208\u001B[0m     \u001B[38;5;28;01mwith\u001B[39;00m config_context(\n\u001B[0;32m    209\u001B[0m         skip_parameter_validation\u001B[38;5;241m=\u001B[39m(\n\u001B[0;32m    210\u001B[0m             prefer_skip_nested_validation \u001B[38;5;129;01mor\u001B[39;00m global_skip_validation\n\u001B[0;32m    211\u001B[0m         )\n\u001B[0;32m    212\u001B[0m     ):\n\u001B[1;32m--> 213\u001B[0m         \u001B[38;5;28;01mreturn\u001B[39;00m func(\u001B[38;5;241m*\u001B[39margs, \u001B[38;5;241m*\u001B[39m\u001B[38;5;241m*\u001B[39mkwargs)\n\u001B[0;32m    214\u001B[0m \u001B[38;5;28;01mexcept\u001B[39;00m InvalidParameterError \u001B[38;5;28;01mas\u001B[39;00m e:\n\u001B[0;32m    215\u001B[0m     \u001B[38;5;66;03m# When the function is just a wrapper around an estimator, we allow\u001B[39;00m\n\u001B[0;32m    216\u001B[0m     \u001B[38;5;66;03m# the function to delegate validation to the estimator, but we replace\u001B[39;00m\n\u001B[0;32m    217\u001B[0m     \u001B[38;5;66;03m# the name of the estimator by the name of the function in the error\u001B[39;00m\n\u001B[0;32m    218\u001B[0m     \u001B[38;5;66;03m# message to avoid confusion.\u001B[39;00m\n\u001B[0;32m    219\u001B[0m     msg \u001B[38;5;241m=\u001B[39m re\u001B[38;5;241m.\u001B[39msub(\n\u001B[0;32m    220\u001B[0m         \u001B[38;5;124mr\u001B[39m\u001B[38;5;124m\"\u001B[39m\u001B[38;5;124mparameter of \u001B[39m\u001B[38;5;124m\\\u001B[39m\u001B[38;5;124mw+ must be\u001B[39m\u001B[38;5;124m\"\u001B[39m,\n\u001B[0;32m    221\u001B[0m         \u001B[38;5;124mf\u001B[39m\u001B[38;5;124m\"\u001B[39m\u001B[38;5;124mparameter of \u001B[39m\u001B[38;5;132;01m{\u001B[39;00mfunc\u001B[38;5;241m.\u001B[39m\u001B[38;5;18m__qualname__\u001B[39m\u001B[38;5;132;01m}\u001B[39;00m\u001B[38;5;124m must be\u001B[39m\u001B[38;5;124m\"\u001B[39m,\n\u001B[0;32m    222\u001B[0m         \u001B[38;5;28mstr\u001B[39m(e),\n\u001B[0;32m    223\u001B[0m     )\n",
      "File \u001B[1;32mE:\\Projects\\Claims_Rejection\\venv\\lib\\site-packages\\sklearn\\metrics\\_classification.py:2182\u001B[0m, in \u001B[0;36mprecision_score\u001B[1;34m(y_true, y_pred, labels, pos_label, average, sample_weight, zero_division)\u001B[0m\n\u001B[0;32m   2015\u001B[0m \u001B[38;5;129m@validate_params\u001B[39m(\n\u001B[0;32m   2016\u001B[0m     {\n\u001B[0;32m   2017\u001B[0m         \u001B[38;5;124m\"\u001B[39m\u001B[38;5;124my_true\u001B[39m\u001B[38;5;124m\"\u001B[39m: [\u001B[38;5;124m\"\u001B[39m\u001B[38;5;124marray-like\u001B[39m\u001B[38;5;124m\"\u001B[39m, \u001B[38;5;124m\"\u001B[39m\u001B[38;5;124msparse matrix\u001B[39m\u001B[38;5;124m\"\u001B[39m],\n\u001B[1;32m   (...)\u001B[0m\n\u001B[0;32m   2042\u001B[0m     zero_division\u001B[38;5;241m=\u001B[39m\u001B[38;5;124m\"\u001B[39m\u001B[38;5;124mwarn\u001B[39m\u001B[38;5;124m\"\u001B[39m,\n\u001B[0;32m   2043\u001B[0m ):\n\u001B[0;32m   2044\u001B[0m \u001B[38;5;250m    \u001B[39m\u001B[38;5;124;03m\"\"\"Compute the precision.\u001B[39;00m\n\u001B[0;32m   2045\u001B[0m \n\u001B[0;32m   2046\u001B[0m \u001B[38;5;124;03m    The precision is the ratio ``tp / (tp + fp)`` where ``tp`` is the number of\u001B[39;00m\n\u001B[1;32m   (...)\u001B[0m\n\u001B[0;32m   2180\u001B[0m \u001B[38;5;124;03m    array([0.5, 1. , 1. ])\u001B[39;00m\n\u001B[0;32m   2181\u001B[0m \u001B[38;5;124;03m    \"\"\"\u001B[39;00m\n\u001B[1;32m-> 2182\u001B[0m     p, _, _, _ \u001B[38;5;241m=\u001B[39m \u001B[43mprecision_recall_fscore_support\u001B[49m\u001B[43m(\u001B[49m\n\u001B[0;32m   2183\u001B[0m \u001B[43m        \u001B[49m\u001B[43my_true\u001B[49m\u001B[43m,\u001B[49m\n\u001B[0;32m   2184\u001B[0m \u001B[43m        \u001B[49m\u001B[43my_pred\u001B[49m\u001B[43m,\u001B[49m\n\u001B[0;32m   2185\u001B[0m \u001B[43m        \u001B[49m\u001B[43mlabels\u001B[49m\u001B[38;5;241;43m=\u001B[39;49m\u001B[43mlabels\u001B[49m\u001B[43m,\u001B[49m\n\u001B[0;32m   2186\u001B[0m \u001B[43m        \u001B[49m\u001B[43mpos_label\u001B[49m\u001B[38;5;241;43m=\u001B[39;49m\u001B[43mpos_label\u001B[49m\u001B[43m,\u001B[49m\n\u001B[0;32m   2187\u001B[0m \u001B[43m        \u001B[49m\u001B[43maverage\u001B[49m\u001B[38;5;241;43m=\u001B[39;49m\u001B[43maverage\u001B[49m\u001B[43m,\u001B[49m\n\u001B[0;32m   2188\u001B[0m \u001B[43m        \u001B[49m\u001B[43mwarn_for\u001B[49m\u001B[38;5;241;43m=\u001B[39;49m\u001B[43m(\u001B[49m\u001B[38;5;124;43m\"\u001B[39;49m\u001B[38;5;124;43mprecision\u001B[39;49m\u001B[38;5;124;43m\"\u001B[39;49m\u001B[43m,\u001B[49m\u001B[43m)\u001B[49m\u001B[43m,\u001B[49m\n\u001B[0;32m   2189\u001B[0m \u001B[43m        \u001B[49m\u001B[43msample_weight\u001B[49m\u001B[38;5;241;43m=\u001B[39;49m\u001B[43msample_weight\u001B[49m\u001B[43m,\u001B[49m\n\u001B[0;32m   2190\u001B[0m \u001B[43m        \u001B[49m\u001B[43mzero_division\u001B[49m\u001B[38;5;241;43m=\u001B[39;49m\u001B[43mzero_division\u001B[49m\u001B[43m,\u001B[49m\n\u001B[0;32m   2191\u001B[0m \u001B[43m    \u001B[49m\u001B[43m)\u001B[49m\n\u001B[0;32m   2192\u001B[0m     \u001B[38;5;28;01mreturn\u001B[39;00m p\n",
      "File \u001B[1;32mE:\\Projects\\Claims_Rejection\\venv\\lib\\site-packages\\sklearn\\utils\\_param_validation.py:186\u001B[0m, in \u001B[0;36mvalidate_params.<locals>.decorator.<locals>.wrapper\u001B[1;34m(*args, **kwargs)\u001B[0m\n\u001B[0;32m    184\u001B[0m global_skip_validation \u001B[38;5;241m=\u001B[39m get_config()[\u001B[38;5;124m\"\u001B[39m\u001B[38;5;124mskip_parameter_validation\u001B[39m\u001B[38;5;124m\"\u001B[39m]\n\u001B[0;32m    185\u001B[0m \u001B[38;5;28;01mif\u001B[39;00m global_skip_validation:\n\u001B[1;32m--> 186\u001B[0m     \u001B[38;5;28;01mreturn\u001B[39;00m func(\u001B[38;5;241m*\u001B[39margs, \u001B[38;5;241m*\u001B[39m\u001B[38;5;241m*\u001B[39mkwargs)\n\u001B[0;32m    188\u001B[0m func_sig \u001B[38;5;241m=\u001B[39m signature(func)\n\u001B[0;32m    190\u001B[0m \u001B[38;5;66;03m# Map *args/**kwargs to the function signature\u001B[39;00m\n",
      "File \u001B[1;32mE:\\Projects\\Claims_Rejection\\venv\\lib\\site-packages\\sklearn\\metrics\\_classification.py:1767\u001B[0m, in \u001B[0;36mprecision_recall_fscore_support\u001B[1;34m(y_true, y_pred, beta, labels, pos_label, average, warn_for, sample_weight, zero_division)\u001B[0m\n\u001B[0;32m   1604\u001B[0m \u001B[38;5;250m\u001B[39m\u001B[38;5;124;03m\"\"\"Compute precision, recall, F-measure and support for each class.\u001B[39;00m\n\u001B[0;32m   1605\u001B[0m \n\u001B[0;32m   1606\u001B[0m \u001B[38;5;124;03mThe precision is the ratio ``tp / (tp + fp)`` where ``tp`` is the number of\u001B[39;00m\n\u001B[1;32m   (...)\u001B[0m\n\u001B[0;32m   1764\u001B[0m \u001B[38;5;124;03m array([2, 2, 2]))\u001B[39;00m\n\u001B[0;32m   1765\u001B[0m \u001B[38;5;124;03m\"\"\"\u001B[39;00m\n\u001B[0;32m   1766\u001B[0m _check_zero_division(zero_division)\n\u001B[1;32m-> 1767\u001B[0m labels \u001B[38;5;241m=\u001B[39m \u001B[43m_check_set_wise_labels\u001B[49m\u001B[43m(\u001B[49m\u001B[43my_true\u001B[49m\u001B[43m,\u001B[49m\u001B[43m \u001B[49m\u001B[43my_pred\u001B[49m\u001B[43m,\u001B[49m\u001B[43m \u001B[49m\u001B[43maverage\u001B[49m\u001B[43m,\u001B[49m\u001B[43m \u001B[49m\u001B[43mlabels\u001B[49m\u001B[43m,\u001B[49m\u001B[43m \u001B[49m\u001B[43mpos_label\u001B[49m\u001B[43m)\u001B[49m\n\u001B[0;32m   1769\u001B[0m \u001B[38;5;66;03m# Calculate tp_sum, pred_sum, true_sum ###\u001B[39;00m\n\u001B[0;32m   1770\u001B[0m samplewise \u001B[38;5;241m=\u001B[39m average \u001B[38;5;241m==\u001B[39m \u001B[38;5;124m\"\u001B[39m\u001B[38;5;124msamples\u001B[39m\u001B[38;5;124m\"\u001B[39m\n",
      "File \u001B[1;32mE:\\Projects\\Claims_Rejection\\venv\\lib\\site-packages\\sklearn\\metrics\\_classification.py:1556\u001B[0m, in \u001B[0;36m_check_set_wise_labels\u001B[1;34m(y_true, y_pred, average, labels, pos_label)\u001B[0m\n\u001B[0;32m   1554\u001B[0m         \u001B[38;5;28;01mif\u001B[39;00m y_type \u001B[38;5;241m==\u001B[39m \u001B[38;5;124m\"\u001B[39m\u001B[38;5;124mmulticlass\u001B[39m\u001B[38;5;124m\"\u001B[39m:\n\u001B[0;32m   1555\u001B[0m             average_options\u001B[38;5;241m.\u001B[39mremove(\u001B[38;5;124m\"\u001B[39m\u001B[38;5;124msamples\u001B[39m\u001B[38;5;124m\"\u001B[39m)\n\u001B[1;32m-> 1556\u001B[0m         \u001B[38;5;28;01mraise\u001B[39;00m \u001B[38;5;167;01mValueError\u001B[39;00m(\n\u001B[0;32m   1557\u001B[0m             \u001B[38;5;124m\"\u001B[39m\u001B[38;5;124mTarget is \u001B[39m\u001B[38;5;132;01m%s\u001B[39;00m\u001B[38;5;124m but average=\u001B[39m\u001B[38;5;124m'\u001B[39m\u001B[38;5;124mbinary\u001B[39m\u001B[38;5;124m'\u001B[39m\u001B[38;5;124m. Please \u001B[39m\u001B[38;5;124m\"\u001B[39m\n\u001B[0;32m   1558\u001B[0m             \u001B[38;5;124m\"\u001B[39m\u001B[38;5;124mchoose another average setting, one of \u001B[39m\u001B[38;5;132;01m%r\u001B[39;00m\u001B[38;5;124m.\u001B[39m\u001B[38;5;124m\"\u001B[39m \u001B[38;5;241m%\u001B[39m (y_type, average_options)\n\u001B[0;32m   1559\u001B[0m         )\n\u001B[0;32m   1560\u001B[0m \u001B[38;5;28;01melif\u001B[39;00m pos_label \u001B[38;5;129;01mnot\u001B[39;00m \u001B[38;5;129;01min\u001B[39;00m (\u001B[38;5;28;01mNone\u001B[39;00m, \u001B[38;5;241m1\u001B[39m):\n\u001B[0;32m   1561\u001B[0m     warnings\u001B[38;5;241m.\u001B[39mwarn(\n\u001B[0;32m   1562\u001B[0m         \u001B[38;5;124m\"\u001B[39m\u001B[38;5;124mNote that pos_label (set to \u001B[39m\u001B[38;5;132;01m%r\u001B[39;00m\u001B[38;5;124m) is ignored when \u001B[39m\u001B[38;5;124m\"\u001B[39m\n\u001B[0;32m   1563\u001B[0m         \u001B[38;5;124m\"\u001B[39m\u001B[38;5;124maverage != \u001B[39m\u001B[38;5;124m'\u001B[39m\u001B[38;5;124mbinary\u001B[39m\u001B[38;5;124m'\u001B[39m\u001B[38;5;124m (got \u001B[39m\u001B[38;5;132;01m%r\u001B[39;00m\u001B[38;5;124m). You may use \u001B[39m\u001B[38;5;124m\"\u001B[39m\n\u001B[1;32m   (...)\u001B[0m\n\u001B[0;32m   1566\u001B[0m         \u001B[38;5;167;01mUserWarning\u001B[39;00m,\n\u001B[0;32m   1567\u001B[0m     )\n",
      "\u001B[1;31mValueError\u001B[0m: Target is multiclass but average='binary'. Please choose another average setting, one of [None, 'micro', 'macro', 'weighted']."
     ]
    }
   ],
   "source": [
    "#result_analysis = model_trial.evaluate_models()\n",
    "#result_analysis"
   ],
   "metadata": {
    "collapsed": false,
    "ExecuteTime": {
     "end_time": "2024-09-03T12:54:30.220279600Z",
     "start_time": "2024-09-03T12:54:29.831250600Z"
    }
   }
  },
  {
   "cell_type": "code",
   "execution_count": 13,
   "outputs": [
    {
     "data": {
      "text/plain": "['Rejected-Generally', 'Approved', 'Approved']"
     },
     "execution_count": 13,
     "metadata": {},
     "output_type": "execute_result"
    }
   ],
   "source": [
    "apply_dict = {0:'Rejected-Generally',1:\"Approved\",2:\"Rejected-Medically\"}\n",
    "PREDS = list(model_runner.model_predict(X_test))\n",
    "PREDS_DECODED = [apply_dict.get(item, item) for item in PREDS]\n",
    "PREDS_DECODED[:3]"
   ],
   "metadata": {
    "collapsed": false,
    "ExecuteTime": {
     "end_time": "2024-09-02T12:11:58.669034300Z",
     "start_time": "2024-09-02T12:11:58.530875Z"
    }
   }
  },
  {
   "cell_type": "code",
   "execution_count": 14,
   "outputs": [
    {
     "name": "stderr",
     "output_type": "stream",
     "text": [
      "C:\\Users\\omar.mounir\\AppData\\Local\\Temp\\ipykernel_2616\\3250733496.py:4: SettingWithCopyWarning: \n",
      "A value is trying to be set on a copy of a slice from a DataFrame.\n",
      "Try using .loc[row_indexer,col_indexer] = value instead\n",
      "\n",
      "See the caveats in the documentation: https://pandas.pydata.org/pandas-docs/stable/user_guide/indexing.html#returning-a-view-versus-a-copy\n",
      "  df_test['PREDICTIONS'] = PREDS_DECODED\n"
     ]
    }
   ],
   "source": [
    "last_three_columns = ['OUTCOME', 'NPHIES_CODE', 'NPHIES_LABEL']\n",
    "other_columns = [col for col in df_test.columns if col not in last_three_columns]\n",
    "df_test = df_test[other_columns + last_three_columns]\n",
    "df_test['PREDICTIONS'] = PREDS_DECODED"
   ],
   "metadata": {
    "collapsed": false,
    "ExecuteTime": {
     "end_time": "2024-09-02T12:12:18.333839900Z",
     "start_time": "2024-09-02T12:12:18.289616300Z"
    }
   }
  },
  {
   "cell_type": "code",
   "execution_count": 16,
   "outputs": [],
   "source": [
    "df_test.to_csv('predictions.csv',index=False)"
   ],
   "metadata": {
    "collapsed": false,
    "ExecuteTime": {
     "end_time": "2024-09-02T12:14:18.352854200Z",
     "start_time": "2024-09-02T12:14:14.466280300Z"
    }
   }
  },
  {
   "cell_type": "code",
   "execution_count": null,
   "outputs": [],
   "source": [],
   "metadata": {
    "collapsed": false
   }
  }
 ],
 "metadata": {
  "kernelspec": {
   "display_name": "Python 3",
   "language": "python",
   "name": "python3"
  },
  "language_info": {
   "codemirror_mode": {
    "name": "ipython",
    "version": 2
   },
   "file_extension": ".py",
   "mimetype": "text/x-python",
   "name": "python",
   "nbconvert_exporter": "python",
   "pygments_lexer": "ipython2",
   "version": "2.7.6"
  }
 },
 "nbformat": 4,
 "nbformat_minor": 0
}
