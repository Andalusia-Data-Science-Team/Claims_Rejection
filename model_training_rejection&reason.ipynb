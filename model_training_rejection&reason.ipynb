{
 "cells": [
  {
   "cell_type": "code",
   "execution_count": 1,
   "metadata": {
    "collapsed": true,
    "ExecuteTime": {
     "end_time": "2024-09-03T14:50:54.099680900Z",
     "start_time": "2024-09-03T14:50:37.102573400Z"
    }
   },
   "outputs": [
    {
     "name": "stdout",
     "output_type": "stream",
     "text": [
      "data is labeled with medical reason\n"
     ]
    },
    {
     "name": "stderr",
     "output_type": "stream",
     "text": [
      "C:\\Users\\omar.mounir\\AppData\\Local\\Temp\\ipykernel_14324\\4243396844.py:19: SettingWithCopyWarning: \n",
      "A value is trying to be set on a copy of a slice from a DataFrame.\n",
      "Try using .loc[row_indexer,col_indexer] = value instead\n",
      "\n",
      "See the caveats in the documentation: https://pandas.pydata.org/pandas-docs/stable/user_guide/indexing.html#returning-a-view-versus-a-copy\n",
      "  y_train['NPHIES_LABEL'] = df_train.NPHIES_LABEL; y_test['NPHIES_LABEL'] = df_test.NPHIES_LABEL\n"
     ]
    },
    {
     "name": "stdout",
     "output_type": "stream",
     "text": [
      "data is loaded successfully\n",
      "data is preprocessed numerically\n"
     ]
    }
   ],
   "source": [
    "import numpy as np\n",
    "from src.lstm_encoder import LSTMEmbedding\n",
    "from cashe import get_train_test_split, get_training_inputs, drop_nomodel_columns\n",
    "from src.model_app import ModelApplication\n",
    "from src.utilities_rejection import RejectionReasonLabeling\n",
    "from src.data_local import MergedDataPreprocessing\n",
    "\n",
    "df_train, df_test = get_train_test_split(path='data/HJH/13-06-2024')\n",
    "train_rej = RejectionReasonLabeling(df_train)\n",
    "train_rej.recoginze_label()\n",
    "\n",
    "train_rej = RejectionReasonLabeling(df_test)\n",
    "train_rej.recoginze_label()\n",
    "df_train['NPHIES_LABEL'] = np.where(df_train['NPHIES_CODE'] == 'MN-1-1', 1, 0)\n",
    "df_test['NPHIES_LABEL'] = np.where(df_test['NPHIES_CODE'] == 'MN-1-1', 1, 0)\n",
    "\n",
    "print('data is labeled with medical reason')\n",
    "X_train, y_train, X_test, y_test = get_training_inputs(df_train, df_test)\n",
    "y_train['NPHIES_LABEL'] = df_train.NPHIES_LABEL; y_test['NPHIES_LABEL'] = df_test.NPHIES_LABEL\n",
    "X_train.drop(columns=['NPHIES_CODE'],inplace=True); X_test.drop(columns=['NPHIES_CODE'],inplace=True)\n",
    "\n",
    "print('data is loaded successfully')\n",
    "preprocessing_train = MergedDataPreprocessing(X_train)\n",
    "X_train_prep = preprocessing_train.columns_prep()\n",
    "\n",
    "preprocessing_test = MergedDataPreprocessing(X_test)\n",
    "X_test_prep = preprocessing_test.columns_prep()\n",
    "print('data is preprocessed numerically')"
   ]
  },
  {
   "cell_type": "code",
   "execution_count": 3,
   "outputs": [
    {
     "name": "stdout",
     "output_type": "stream",
     "text": [
      "data is encoded\n"
     ]
    }
   ],
   "source": [
    "lstm_embedding = LSTMEmbedding()\n",
    "\n",
    "X_train_encoded = preprocessing_train.column_embedding(X_train_prep, is_service=True)\n",
    "X_test_encoded = preprocessing_train.column_embedding(X_test_prep, is_service=True)\n",
    "\n",
    "X_train_encoded = preprocessing_train.column_embedding(X_train_encoded, is_service=False)\n",
    "X_test_encoded = preprocessing_train.column_embedding(X_test_encoded, is_service=False)\n",
    "\n",
    "X_train = drop_nomodel_columns(X_train_encoded)\n",
    "X_test  = drop_nomodel_columns(X_test_encoded)\n",
    "print('data is encoded')"
   ],
   "metadata": {
    "collapsed": false,
    "ExecuteTime": {
     "end_time": "2024-09-03T14:54:49.766639100Z",
     "start_time": "2024-09-03T14:54:37.876182400Z"
    }
   }
  },
  {
   "cell_type": "code",
   "execution_count": 4,
   "outputs": [
    {
     "name": "stderr",
     "output_type": "stream",
     "text": [
      "C:\\Users\\omar.mounir\\AppData\\Local\\Temp\\ipykernel_14324\\2250477568.py:18: SettingWithCopyWarning: \n",
      "A value is trying to be set on a copy of a slice from a DataFrame.\n",
      "Try using .loc[row_indexer,col_indexer] = value instead\n",
      "\n",
      "See the caveats in the documentation: https://pandas.pydata.org/pandas-docs/stable/user_guide/indexing.html#returning-a-view-versus-a-copy\n",
      "  y_train['OUTCOME_MERGED'] = outcomes_train\n",
      "C:\\Users\\omar.mounir\\AppData\\Local\\Temp\\ipykernel_14324\\2250477568.py:19: SettingWithCopyWarning: \n",
      "A value is trying to be set on a copy of a slice from a DataFrame.\n",
      "Try using .loc[row_indexer,col_indexer] = value instead\n",
      "\n",
      "See the caveats in the documentation: https://pandas.pydata.org/pandas-docs/stable/user_guide/indexing.html#returning-a-view-versus-a-copy\n",
      "  y_test['OUTCOME_MERGED']  = outcomes_test\n"
     ]
    }
   ],
   "source": [
    "## save data (optional)\n",
    "# X_train_encoded.to_csv('train_encoded.csv',index=False); X_test_encoded.to_csv('test_encoded.csv',index=False)\n",
    "# y_train[['OUTCOME','NPHIES_LABEL']].to_csv('y_train.csv',index=False); y_test[['OUTCOME','NPHIES_LABEL']].to_csv('y_test.csv',index=False)\n",
    "\n",
    "outcomes_train = []; outcomes_test = []\n",
    "for i in range(len(y_train)):\n",
    "    if y_train['NPHIES_LABEL'].iloc[i] == 1:\n",
    "        outcomes_train.append(2)\n",
    "    else:\n",
    "        outcomes_train.append(y_train['OUTCOME'].iloc[i])\n",
    "\n",
    "for i in range(len(y_test)):\n",
    "    if y_test['NPHIES_LABEL'].iloc[i] == 1:\n",
    "        outcomes_test.append(2)\n",
    "    else:\n",
    "        outcomes_test.append(y_test['OUTCOME'].iloc[i])\n",
    "\n",
    "y_train['OUTCOME_MERGED'] = outcomes_train\n",
    "y_test['OUTCOME_MERGED']  = outcomes_test"
   ],
   "metadata": {
    "collapsed": false,
    "ExecuteTime": {
     "end_time": "2024-09-03T14:55:31.282195200Z",
     "start_time": "2024-09-03T14:55:28.207417Z"
    }
   }
  },
  {
   "cell_type": "code",
   "execution_count": 5,
   "outputs": [
    {
     "name": "stdout",
     "output_type": "stream",
     "text": [
      "Training is done\n",
      "Multi-Class Classifier metrics calculation\n"
     ]
    },
    {
     "data": {
      "text/plain": "{'XGBoost': {'Accuracy': 0.73,\n  'Precision': 0.73,\n  'Recall': 0.73,\n  'F1 Score': 0.73}}"
     },
     "execution_count": 5,
     "metadata": {},
     "output_type": "execute_result"
    }
   ],
   "source": [
    "model_runner = ModelApplication(X_train= X_train,y_train= y_train['OUTCOME_MERGED'],X_test= X_test,y_test= y_test['OUTCOME_MERGED'])\n",
    "model_runner.get_model(force_retrain=True,model_type='outcome')\n",
    "model_runner.evaluate_model()\n",
    "## results are calculated with weighted pre, rec"
   ],
   "metadata": {
    "collapsed": false,
    "ExecuteTime": {
     "end_time": "2024-09-03T14:55:41.224564200Z",
     "start_time": "2024-09-03T14:55:34.953931900Z"
    }
   }
  },
  {
   "cell_type": "code",
   "execution_count": 6,
   "outputs": [
    {
     "name": "stdout",
     "output_type": "stream",
     "text": [
      "[LightGBM] [Info] Total Bins 6921\n",
      "[LightGBM] [Info] Number of data points in the train set: 165580, number of used features: 63\n",
      "[LightGBM] [Info] Start training from score -1.022034\n",
      "[LightGBM] [Info] Start training from score -0.625413\n",
      "[LightGBM] [Info] Start training from score -2.252869\n"
     ]
    },
    {
     "name": "stderr",
     "output_type": "stream",
     "text": [
      "E:\\Projects\\Claims_Rejection\\venv\\lib\\site-packages\\sklearn\\neural_network\\_multilayer_perceptron.py:691: ConvergenceWarning: Stochastic Optimizer: Maximum iterations (200) reached and the optimization hasn't converged yet.\n",
      "  warnings.warn(\n"
     ]
    },
    {
     "name": "stdout",
     "output_type": "stream",
     "text": [
      "\n",
      "\n",
      "LightGBM, Decision Tree, SGD and Neural Network are trained on dataset.\n"
     ]
    }
   ],
   "source": [
    "## try other models\n",
    "from src.model_train import ModelTrainer\n",
    "\n",
    "X_train.fillna(0,inplace=True)\n",
    "X_test.fillna(0,inplace=True)\n",
    "\n",
    "model_trial = ModelTrainer(X_train=X_train,y_train=y_train['OUTCOME_MERGED'],\n",
    "                            X_test=X_test,y_test=y_test['OUTCOME_MERGED'])\n",
    "\n",
    "model_trial.train_models()"
   ],
   "metadata": {
    "collapsed": false,
    "ExecuteTime": {
     "end_time": "2024-09-03T15:04:15.409539100Z",
     "start_time": "2024-09-03T14:56:44.197878Z"
    }
   }
  },
  {
   "cell_type": "code",
   "execution_count": 7,
   "outputs": [
    {
     "data": {
      "text/plain": "{'Decision Tree': {'Accuracy': 0.65,\n  'Precision': 0.65,\n  'Recall': 0.65,\n  'F1 Score': 0.65},\n 'LightGBM': {'Accuracy': 0.72,\n  'Precision': 0.73,\n  'Recall': 0.72,\n  'F1 Score': 0.72},\n 'SGD Classifier': {'Accuracy': 0.46,\n  'Precision': 0.44,\n  'Recall': 0.46,\n  'F1 Score': 0.45},\n 'XGBoost': {'Accuracy': 0.74,\n  'Precision': 0.74,\n  'Recall': 0.74,\n  'F1 Score': 0.74},\n 'Neural Network': {'Accuracy': 0.54,\n  'Precision': 0.51,\n  'Recall': 0.54,\n  'F1 Score': 0.52}}"
     },
     "execution_count": 7,
     "metadata": {},
     "output_type": "execute_result"
    }
   ],
   "source": [
    "result_analysis = model_trial.evaluate_models()\n",
    "result_analysis"
   ],
   "metadata": {
    "collapsed": false,
    "ExecuteTime": {
     "end_time": "2024-09-03T15:04:16.369604Z",
     "start_time": "2024-09-03T15:04:15.411533900Z"
    }
   }
  },
  {
   "cell_type": "code",
   "execution_count": 13,
   "outputs": [
    {
     "data": {
      "text/plain": "['Rejected-Generally', 'Approved', 'Approved']"
     },
     "execution_count": 13,
     "metadata": {},
     "output_type": "execute_result"
    }
   ],
   "source": [
    "apply_dict = {0:'Rejected-Generally',1:\"Approved\",2:\"Rejected-Medically\"}\n",
    "PREDS = list(model_runner.model_predict(X_test))\n",
    "PREDS_DECODED = [apply_dict.get(item, item) for item in PREDS]\n",
    "PREDS_DECODED[:3]"
   ],
   "metadata": {
    "collapsed": false,
    "ExecuteTime": {
     "end_time": "2024-09-02T12:11:58.669034300Z",
     "start_time": "2024-09-02T12:11:58.530875Z"
    }
   }
  },
  {
   "cell_type": "code",
   "execution_count": 14,
   "outputs": [
    {
     "name": "stderr",
     "output_type": "stream",
     "text": [
      "C:\\Users\\omar.mounir\\AppData\\Local\\Temp\\ipykernel_2616\\3250733496.py:4: SettingWithCopyWarning: \n",
      "A value is trying to be set on a copy of a slice from a DataFrame.\n",
      "Try using .loc[row_indexer,col_indexer] = value instead\n",
      "\n",
      "See the caveats in the documentation: https://pandas.pydata.org/pandas-docs/stable/user_guide/indexing.html#returning-a-view-versus-a-copy\n",
      "  df_test['PREDICTIONS'] = PREDS_DECODED\n"
     ]
    }
   ],
   "source": [
    "last_three_columns = ['OUTCOME', 'NPHIES_CODE', 'NPHIES_LABEL']\n",
    "other_columns = [col for col in df_test.columns if col not in last_three_columns]\n",
    "df_test = df_test[other_columns + last_three_columns]\n",
    "df_test['PREDICTIONS'] = PREDS_DECODED"
   ],
   "metadata": {
    "collapsed": false,
    "ExecuteTime": {
     "end_time": "2024-09-02T12:12:18.333839900Z",
     "start_time": "2024-09-02T12:12:18.289616300Z"
    }
   }
  },
  {
   "cell_type": "code",
   "execution_count": 16,
   "outputs": [],
   "source": [
    "df_test.to_csv('predictions.csv',index=False)"
   ],
   "metadata": {
    "collapsed": false,
    "ExecuteTime": {
     "end_time": "2024-09-02T12:14:18.352854200Z",
     "start_time": "2024-09-02T12:14:14.466280300Z"
    }
   }
  },
  {
   "cell_type": "code",
   "execution_count": null,
   "outputs": [],
   "source": [],
   "metadata": {
    "collapsed": false
   }
  }
 ],
 "metadata": {
  "kernelspec": {
   "display_name": "Python 3",
   "language": "python",
   "name": "python3"
  },
  "language_info": {
   "codemirror_mode": {
    "name": "ipython",
    "version": 2
   },
   "file_extension": ".py",
   "mimetype": "text/x-python",
   "name": "python",
   "nbconvert_exporter": "python",
   "pygments_lexer": "ipython2",
   "version": "2.7.6"
  }
 },
 "nbformat": 4,
 "nbformat_minor": 0
}
